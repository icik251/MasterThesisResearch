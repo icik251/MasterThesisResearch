{
 "cells": [
  {
   "cell_type": "code",
   "execution_count": 1,
   "metadata": {},
   "outputs": [],
   "source": [
    "import ecco"
   ]
  },
  {
   "cell_type": "code",
   "execution_count": 16,
   "metadata": {},
   "outputs": [],
   "source": [
    "lm = ecco.from_pretrained('t5-small', verbose=False)"
   ]
  },
  {
   "cell_type": "code",
   "execution_count": 17,
   "metadata": {},
   "outputs": [],
   "source": [
    "sample_text=\"\"\"I have a well-documented weakness for sci-fi and expected Dune \n",
    "to feed my soul. I didn't expect it to entirely blow my mind.\"\"\"\n",
    "\n",
    "output = lm.generate(f\"sst2 sentence: {sample_text}\", generate=1, do_sample=False, attribution=['ig'])"
   ]
  },
  {
   "cell_type": "code",
   "execution_count": 18,
   "metadata": {},
   "outputs": [
    {
     "data": {
      "text/html": [
       "<html lang=\"en\">\n",
       "<script src=\"https://requirejs.org/docs/release/2.3.6/minified/require.js\"></script>\n",
       "<script>\n",
       "    var ecco_url = 'https://storage.googleapis.com/ml-intro/ecco/'\n",
       "    //var ecco_url = 'http://localhost:8000/'\n",
       "\n",
       "    if (window.ecco === undefined) window.ecco = {}\n",
       "\n",
       "    // Setup the paths of the script we'll be using\n",
       "    requirejs.config({\n",
       "        urlArgs: \"bust=\" + (new Date()).getTime(),\n",
       "        nodeRequire: require,\n",
       "        paths: {\n",
       "            d3: \"https://d3js.org/d3.v6.min\", // This is only for use in setup.html and basic.html\n",
       "            \"d3-array\": \"https://d3js.org/d3-array.v2.min\",\n",
       "            jquery: \"https://code.jquery.com/jquery-3.5.1.min\",\n",
       "            ecco: ecco_url + 'js/0.0.6/ecco-bundle.min',\n",
       "            xregexp: 'https://cdnjs.cloudflare.com/ajax/libs/xregexp/3.2.0/xregexp-all.min'\n",
       "        }\n",
       "    });\n",
       "\n",
       "    // Add the css file\n",
       "    //requirejs(['d3'],\n",
       "    //    function (d3) {\n",
       "    //        d3.select('#css').attr('href', ecco_url + 'html/styles.css')\n",
       "    //    })\n",
       "\n",
       "    console.log('Ecco initialize!!')\n",
       "\n",
       "    // returns a 'basic' object. basic.init() selects the html div we'll be\n",
       "    // rendering the html into, adds styles.css to the document.\n",
       "    define('basic', ['d3'],\n",
       "        function (d3) {\n",
       "            return {\n",
       "                init: function (viz_id = null) {\n",
       "                    if (viz_id == null) {\n",
       "                        viz_id = \"viz_\" + Math.round(Math.random() * 10000000)\n",
       "                    }\n",
       "                    // Select the div rendered below, change its id\n",
       "                    const div = d3.select('#basic').attr('id', viz_id),\n",
       "                        div_parent = d3.select('#' + viz_id).node().parentNode\n",
       "\n",
       "                    // Link to CSS file\n",
       "                    d3.select(div_parent).insert('link')\n",
       "                        .attr('rel', 'stylesheet')\n",
       "                        .attr('type', 'text/css')\n",
       "                        .attr('href', ecco_url + 'html/0.0.2/styles.css')\n",
       "\n",
       "                    return viz_id\n",
       "                }\n",
       "            }\n",
       "        }, function (err) {\n",
       "            console.log(err);\n",
       "        }\n",
       "    )\n",
       "</script>\n",
       "\n",
       "<head>\n",
       "    <link id='css' rel=\"stylesheet\" type=\"text/css\">\n",
       "</head>\n",
       "<div id=\"basic\"></div>\n"
      ],
      "text/plain": [
       "<IPython.core.display.HTML object>"
      ]
     },
     "metadata": {},
     "output_type": "display_data"
    },
    {
     "data": {
      "application/javascript": "\n             requirejs(['basic', 'ecco'], function(basic, ecco){\n                const viz_id = basic.init()\n                console.log(viz_id)\n                // ecco.interactiveTokens(viz_id, {})\n                window.ecco[viz_id] = new ecco.MinimalHighlighter({\n                    parentDiv: viz_id,\n                    data: {\"tokens\": [{\"token\": \"\", \"token_id\": 3, \"is_partial\": false, \"type\": \"input\", \"value\": \"0.0\", \"position\": 0}, {\"token\": \"s\", \"token_id\": 7, \"is_partial\": true, \"type\": \"input\", \"value\": \"0.0\", \"position\": 1}, {\"token\": \"s\", \"token_id\": 7, \"is_partial\": true, \"type\": \"input\", \"value\": \"0.0\", \"position\": 2}, {\"token\": \"t\", \"token_id\": 17, \"is_partial\": true, \"type\": \"input\", \"value\": \"0.0\", \"position\": 3}, {\"token\": \"2\", \"token_id\": 357, \"is_partial\": true, \"type\": \"input\", \"value\": \"0.0\", \"position\": 4}, {\"token\": \"sentence\", \"token_id\": 7142, \"is_partial\": false, \"type\": \"input\", \"value\": \"0.0\", \"position\": 5}, {\"token\": \":\", \"token_id\": 10, \"is_partial\": true, \"type\": \"input\", \"value\": \"0.0\", \"position\": 6}, {\"token\": \"I\", \"token_id\": 27, \"is_partial\": false, \"type\": \"input\", \"value\": \"0.0\", \"position\": 7}, {\"token\": \"have\", \"token_id\": 43, \"is_partial\": false, \"type\": \"input\", \"value\": \"0.0\", \"position\": 8}, {\"token\": \"\", \"token_id\": 3, \"is_partial\": false, \"type\": \"input\", \"value\": \"0.0\", \"position\": 9}, {\"token\": \"a\", \"token_id\": 9, \"is_partial\": true, \"type\": \"input\", \"value\": \"0.0\", \"position\": 10}, {\"token\": \"well\", \"token_id\": 168, \"is_partial\": false, \"type\": \"input\", \"value\": \"0.0\", \"position\": 11}, {\"token\": \"-\", \"token_id\": 18, \"is_partial\": true, \"type\": \"input\", \"value\": \"0.0\", \"position\": 12}, {\"token\": \"document\", \"token_id\": 28244, \"is_partial\": true, \"type\": \"input\", \"value\": \"0.0\", \"position\": 13}, {\"token\": \"e\", \"token_id\": 15, \"is_partial\": true, \"type\": \"input\", \"value\": \"0.0\", \"position\": 14}, {\"token\": \"d\", \"token_id\": 26, \"is_partial\": true, \"type\": \"input\", \"value\": \"0.0\", \"position\": 15}, {\"token\": \"weakness\", \"token_id\": 18724, \"is_partial\": false, \"type\": \"input\", \"value\": \"0.0\", \"position\": 16}, {\"token\": \"for\", \"token_id\": 21, \"is_partial\": false, \"type\": \"input\", \"value\": \"0.0\", \"position\": 17}, {\"token\": \"sci\", \"token_id\": 17201, \"is_partial\": false, \"type\": \"input\", \"value\": \"0.0\", \"position\": 18}, {\"token\": \"-\", \"token_id\": 18, \"is_partial\": true, \"type\": \"input\", \"value\": \"0.0\", \"position\": 19}, {\"token\": \"f\", \"token_id\": 89, \"is_partial\": true, \"type\": \"input\", \"value\": \"0.0\", \"position\": 20}, {\"token\": \"i\", \"token_id\": 23, \"is_partial\": true, \"type\": \"input\", \"value\": \"0.0\", \"position\": 21}, {\"token\": \"and\", \"token_id\": 11, \"is_partial\": false, \"type\": \"input\", \"value\": \"0.0\", \"position\": 22}, {\"token\": \"expected\", \"token_id\": 1644, \"is_partial\": false, \"type\": \"input\", \"value\": \"0.0\", \"position\": 23}, {\"token\": \"Dun\", \"token_id\": 6393, \"is_partial\": false, \"type\": \"input\", \"value\": \"0.0\", \"position\": 24}, {\"token\": \"e\", \"token_id\": 15, \"is_partial\": true, \"type\": \"input\", \"value\": \"0.0\", \"position\": 25}, {\"token\": \"to\", \"token_id\": 12, \"is_partial\": false, \"type\": \"input\", \"value\": \"0.0\", \"position\": 26}, {\"token\": \"feed\", \"token_id\": 3305, \"is_partial\": false, \"type\": \"input\", \"value\": \"0.0\", \"position\": 27}, {\"token\": \"my\", \"token_id\": 82, \"is_partial\": false, \"type\": \"input\", \"value\": \"0.0\", \"position\": 28}, {\"token\": \"soul\", \"token_id\": 3668, \"is_partial\": false, \"type\": \"input\", \"value\": \"0.0\", \"position\": 29}, {\"token\": \".\", \"token_id\": 5, \"is_partial\": true, \"type\": \"input\", \"value\": \"0.0\", \"position\": 30}, {\"token\": \"I\", \"token_id\": 27, \"is_partial\": false, \"type\": \"input\", \"value\": \"0.0\", \"position\": 31}, {\"token\": \"didn\", \"token_id\": 737, \"is_partial\": false, \"type\": \"input\", \"value\": \"0.0\", \"position\": 32}, {\"token\": \"'\", \"token_id\": 31, \"is_partial\": true, \"type\": \"input\", \"value\": \"0.0\", \"position\": 33}, {\"token\": \"t\", \"token_id\": 17, \"is_partial\": true, \"type\": \"input\", \"value\": \"0.0\", \"position\": 34}, {\"token\": \"expect\", \"token_id\": 1672, \"is_partial\": false, \"type\": \"input\", \"value\": \"0.0\", \"position\": 35}, {\"token\": \"it\", \"token_id\": 34, \"is_partial\": false, \"type\": \"input\", \"value\": \"0.0\", \"position\": 36}, {\"token\": \"to\", \"token_id\": 12, \"is_partial\": false, \"type\": \"input\", \"value\": \"0.0\", \"position\": 37}, {\"token\": \"entirely\", \"token_id\": 4585, \"is_partial\": false, \"type\": \"input\", \"value\": \"0.0\", \"position\": 38}, {\"token\": \"blow\", \"token_id\": 6019, \"is_partial\": false, \"type\": \"input\", \"value\": \"0.0\", \"position\": 39}, {\"token\": \"my\", \"token_id\": 82, \"is_partial\": false, \"type\": \"input\", \"value\": \"0.0\", \"position\": 40}, {\"token\": \"mind\", \"token_id\": 809, \"is_partial\": false, \"type\": \"input\", \"value\": \"0.0\", \"position\": 41}, {\"token\": \".\", \"token_id\": 5, \"is_partial\": true, \"type\": \"input\", \"value\": \"0.0\", \"position\": 42}, {\"token\": \"</s>\", \"token_id\": 1, \"is_partial\": true, \"type\": \"input\", \"value\": \"0.0\", \"position\": 43}, {\"token\": \"<pad>\", \"token_id\": 0, \"is_partial\": true, \"type\": \"output\", \"value\": \"0.0\", \"position\": 44}, {\"token\": \"negative\", \"token_id\": 2841, \"is_partial\": false, \"type\": \"output\", \"value\": \"0\", \"position\": 45}], \"attributions\": [[0.0, 0.0, 0.0, 0.0, 0.0, 0.0, 0.0, 0.0, 0.0, 0.0, 0.0, 0.0, 0.0, 0.0, 0.0, 0.0, 0.0, 0.0, 0.0, 0.0, 0.0, 0.0, 0.0, 0.0, 0.0, 0.0, 0.0, 0.0, 0.0, 0.0, 0.0, 0.0, 0.0, 0.0, 0.0, 0.0, 0.0, 0.0, 0.0, 0.0, 0.0, 0.0, 0.0, 0.0, 0.0], [0.0, 0.0, 0.0, 0.0, 0.0, 0.0, 0.0, 0.015365993280836609, 0.010802399456212903, 0.006555941840063779, 0.010511930041487344, 0.010819681843827936, 0.006845021724152601, 0.02065827041006352, 0.006296542234129493, 0.010746158856055274, 0.05351185972453463, 0.019104438740816996, 0.017329381333555476, 0.006677630654230501, 0.005542883710716323, 0.0060986367325757745, 0.010431812426024702, 0.03813102723689626, 0.016817706498586635, 0.007239549799766041, 0.013129821634352152, 0.023573624087030433, 0.012310437423726369, 0.021918901356102617, 0.015446433557855063, 0.012138414508486366, 0.025486863147349204, 0.021626903719739847, 0.028845498932766108, 0.05102335405203414, 0.02008858007729204, 0.015324889739110639, 0.025577848946511102, 0.03673358459284635, 0.01207047571604671, 0.01515602866233002, 0.018774527125030912, 0.0, 0.0]]},\n                    preset: 'viridis',\n                    tokenization_config: {\"token_prefix\": \"\\u2581\", \"partial_token_prefix\": \"\"}\n\n             })\n\n             window.ecco[viz_id].init();\n             window.ecco[viz_id].selectFirstToken();\n\n             }, function (err) {\n                console.log(err);\n            })",
      "text/plain": [
       "<IPython.core.display.Javascript object>"
      ]
     },
     "metadata": {},
     "output_type": "display_data"
    }
   ],
   "source": [
    "output.primary_attributions(attr_method='ig', ignore_tokens=[0,1,2,3,4,5,6,43,44])"
   ]
  },
  {
   "cell_type": "code",
   "execution_count": null,
   "metadata": {},
   "outputs": [],
   "source": [
    "\n",
    "\n"
   ]
  }
 ],
 "metadata": {
  "interpreter": {
   "hash": "0644d8df8e5c95ca43ccbd07b011ebf1be4f0d7ab159a326abe9423365491a2b"
  },
  "kernelspec": {
   "display_name": "Python 3.8.5 ('.venv': venv)",
   "language": "python",
   "name": "python3"
  },
  "language_info": {
   "codemirror_mode": {
    "name": "ipython",
    "version": 3
   },
   "file_extension": ".py",
   "mimetype": "text/x-python",
   "name": "python",
   "nbconvert_exporter": "python",
   "pygments_lexer": "ipython3",
   "version": "3.8.5"
  },
  "orig_nbformat": 4
 },
 "nbformat": 4,
 "nbformat_minor": 2
}
