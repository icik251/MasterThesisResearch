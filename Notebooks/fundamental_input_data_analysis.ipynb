{
 "cells": [
  {
   "cell_type": "markdown",
   "metadata": {},
   "source": [
    "## Getting input data from DB"
   ]
  },
  {
   "cell_type": "code",
   "execution_count": 25,
   "metadata": {},
   "outputs": [
    {
     "name": "stdout",
     "output_type": "stream",
     "text": [
      "2017 1 404\n",
      "2021 4 404\n"
     ]
    }
   ],
   "source": [
    "import json\n",
    "import requests\n",
    "\n",
    "list_of_years = [2017, 2018, 2019, 2020, 2021]\n",
    "list_of_qs = [1, 2, 3, 4]\n",
    "\n",
    "dict_of_res = {}\n",
    "for year in list_of_years:\n",
    "    for q in list_of_qs:\n",
    "        resp = json.loads(requests.get(f\"http://localhost:8000/api/v1/input_data/{year}/{q}\").text)\n",
    "        if resp[\"code\"] == 200:\n",
    "            dict_of_res[str(year) + \"_\" + str(q)] = resp[\"data\"]\n",
    "        else:\n",
    "            print(year, q, resp[\"code\"])"
   ]
  },
  {
   "cell_type": "code",
   "execution_count": 26,
   "metadata": {},
   "outputs": [
    {
     "name": "stdout",
     "output_type": "stream",
     "text": [
      "198\n",
      "3184\n"
     ]
    }
   ],
   "source": [
    "set_ciks = set()\n",
    "num_samples = 0\n",
    "for year_q, list_of_data in dict_of_res.items():\n",
    "    for data in list_of_data:\n",
    "        set_ciks.add(data['cik'])\n",
    "        num_samples += 1\n",
    "        \n",
    "print(len(set_ciks))\n",
    "print(num_samples)"
   ]
  },
  {
   "cell_type": "markdown",
   "metadata": {},
   "source": [
    "## Get the sectors and industries of the input data"
   ]
  },
  {
   "cell_type": "code",
   "execution_count": 27,
   "metadata": {},
   "outputs": [],
   "source": [
    "from collections import defaultdict\n",
    "\n",
    "dict_of_industry_counts = defaultdict(int)\n",
    "dict_of_industry_counts_per_year_q = defaultdict(lambda: defaultdict(int))\n",
    "for year_q_k, inputs_data in dict_of_res.items():\n",
    "    for input_data in inputs_data:\n",
    "        dict_of_industry_counts[input_data[\"industry\"]] += 1\n",
    "        dict_of_industry_counts_per_year_q[year_q_k][input_data[\"industry\"]] += 1"
   ]
  },
  {
   "cell_type": "code",
   "execution_count": 28,
   "metadata": {},
   "outputs": [
    {
     "data": {
      "text/plain": [
       "defaultdict(<function __main__.<lambda>()>,\n",
       "            {'2017_2': defaultdict(int,\n",
       "                         {'DRILLING OIL & GAS WELLS': 4,\n",
       "                          'MINING & QUARRYING OF NONMETALLIC MINERALS (NO FUELS)': 9,\n",
       "                          'OIL & GAS FIELD SERVICES, NEC': 13,\n",
       "                          'CRUDE PETROLEUM & NATURAL GAS': 38,\n",
       "                          'NATURAL GAS TRANSMISSION': 9,\n",
       "                          'AIR TRANSPORTATION, SCHEDULED': 9,\n",
       "                          'REFUSE SYSTEMS': 6,\n",
       "                          'PETROLEUM REFINING': 12,\n",
       "                          'ARRANGEMENT OF TRANSPORTATION OF FREIGHT & CARGO': 4,\n",
       "                          'TRUCKING (NO LOCAL)': 12,\n",
       "                          'TRANSPORTATION SERVICES': 6,\n",
       "                          'PIPE LINES (NO NATURAL GAS)': 7,\n",
       "                          'ELECTRIC SERVICES': 9,\n",
       "                          'WATER SUPPLY': 7,\n",
       "                          'DEEP SEA FOREIGN TRANSPORTATION OF FREIGHT': 4,\n",
       "                          'WATER TRANSPORTATION': 5,\n",
       "                          'ELECTRIC & OTHER SERVICES COMBINED': 6,\n",
       "                          'GOLD AND SILVER ORES': 4}),\n",
       "             '2017_3': defaultdict(int,\n",
       "                         {'DRILLING OIL & GAS WELLS': 4,\n",
       "                          'MINING & QUARRYING OF NONMETALLIC MINERALS (NO FUELS)': 9,\n",
       "                          'OIL & GAS FIELD SERVICES, NEC': 14,\n",
       "                          'CRUDE PETROLEUM & NATURAL GAS': 38,\n",
       "                          'NATURAL GAS TRANSMISSION': 9,\n",
       "                          'AIR TRANSPORTATION, SCHEDULED': 9,\n",
       "                          'REFUSE SYSTEMS': 6,\n",
       "                          'PETROLEUM REFINING': 13,\n",
       "                          'ARRANGEMENT OF TRANSPORTATION OF FREIGHT & CARGO': 4,\n",
       "                          'TRUCKING (NO LOCAL)': 12,\n",
       "                          'TRANSPORTATION SERVICES': 6,\n",
       "                          'PIPE LINES (NO NATURAL GAS)': 7,\n",
       "                          'ELECTRIC SERVICES': 9,\n",
       "                          'WATER SUPPLY': 7,\n",
       "                          'DEEP SEA FOREIGN TRANSPORTATION OF FREIGHT': 4,\n",
       "                          'WATER TRANSPORTATION': 5,\n",
       "                          'ELECTRIC & OTHER SERVICES COMBINED': 6,\n",
       "                          'GOLD AND SILVER ORES': 4}),\n",
       "             '2017_4': defaultdict(int,\n",
       "                         {'DRILLING OIL & GAS WELLS': 4,\n",
       "                          'MINING & QUARRYING OF NONMETALLIC MINERALS (NO FUELS)': 9,\n",
       "                          'OIL & GAS FIELD SERVICES, NEC': 14,\n",
       "                          'CRUDE PETROLEUM & NATURAL GAS': 39,\n",
       "                          'NATURAL GAS TRANSMISSION': 9,\n",
       "                          'AIR TRANSPORTATION, SCHEDULED': 9,\n",
       "                          'REFUSE SYSTEMS': 6,\n",
       "                          'PETROLEUM REFINING': 13,\n",
       "                          'ARRANGEMENT OF TRANSPORTATION OF FREIGHT & CARGO': 4,\n",
       "                          'TRUCKING (NO LOCAL)': 12,\n",
       "                          'TRANSPORTATION SERVICES': 7,\n",
       "                          'PIPE LINES (NO NATURAL GAS)': 8,\n",
       "                          'ELECTRIC SERVICES': 9,\n",
       "                          'WATER SUPPLY': 7,\n",
       "                          'DEEP SEA FOREIGN TRANSPORTATION OF FREIGHT': 4,\n",
       "                          'WATER TRANSPORTATION': 5,\n",
       "                          'ELECTRIC & OTHER SERVICES COMBINED': 6,\n",
       "                          'GOLD AND SILVER ORES': 4}),\n",
       "             '2018_1': defaultdict(int,\n",
       "                         {'DRILLING OIL & GAS WELLS': 4,\n",
       "                          'MINING & QUARRYING OF NONMETALLIC MINERALS (NO FUELS)': 9,\n",
       "                          'OIL & GAS FIELD SERVICES, NEC': 15,\n",
       "                          'CRUDE PETROLEUM & NATURAL GAS': 39,\n",
       "                          'NATURAL GAS TRANSMISSION': 9,\n",
       "                          'AIR TRANSPORTATION, SCHEDULED': 9,\n",
       "                          'REFUSE SYSTEMS': 6,\n",
       "                          'PETROLEUM REFINING': 12,\n",
       "                          'ARRANGEMENT OF TRANSPORTATION OF FREIGHT & CARGO': 4,\n",
       "                          'TRUCKING (NO LOCAL)': 12,\n",
       "                          'TRANSPORTATION SERVICES': 7,\n",
       "                          'PIPE LINES (NO NATURAL GAS)': 8,\n",
       "                          'ELECTRIC SERVICES': 9,\n",
       "                          'WATER SUPPLY': 7,\n",
       "                          'DEEP SEA FOREIGN TRANSPORTATION OF FREIGHT': 4,\n",
       "                          'WATER TRANSPORTATION': 5,\n",
       "                          'ELECTRIC & OTHER SERVICES COMBINED': 6,\n",
       "                          'GOLD AND SILVER ORES': 4}),\n",
       "             '2018_2': defaultdict(int,\n",
       "                         {'DRILLING OIL & GAS WELLS': 4,\n",
       "                          'MINING & QUARRYING OF NONMETALLIC MINERALS (NO FUELS)': 9,\n",
       "                          'OIL & GAS FIELD SERVICES, NEC': 15,\n",
       "                          'CRUDE PETROLEUM & NATURAL GAS': 41,\n",
       "                          'NATURAL GAS TRANSMISSION': 9,\n",
       "                          'AIR TRANSPORTATION, SCHEDULED': 9,\n",
       "                          'REFUSE SYSTEMS': 6,\n",
       "                          'PETROLEUM REFINING': 14,\n",
       "                          'ARRANGEMENT OF TRANSPORTATION OF FREIGHT & CARGO': 4,\n",
       "                          'TRUCKING (NO LOCAL)': 12,\n",
       "                          'TRANSPORTATION SERVICES': 7,\n",
       "                          'PIPE LINES (NO NATURAL GAS)': 8,\n",
       "                          'ELECTRIC SERVICES': 9,\n",
       "                          'WATER SUPPLY': 7,\n",
       "                          'DEEP SEA FOREIGN TRANSPORTATION OF FREIGHT': 4,\n",
       "                          'WATER TRANSPORTATION': 5,\n",
       "                          'ELECTRIC & OTHER SERVICES COMBINED': 6,\n",
       "                          'GOLD AND SILVER ORES': 4}),\n",
       "             '2018_3': defaultdict(int,\n",
       "                         {'DRILLING OIL & GAS WELLS': 4,\n",
       "                          'MINING & QUARRYING OF NONMETALLIC MINERALS (NO FUELS)': 9,\n",
       "                          'OIL & GAS FIELD SERVICES, NEC': 14,\n",
       "                          'CRUDE PETROLEUM & NATURAL GAS': 42,\n",
       "                          'NATURAL GAS TRANSMISSION': 9,\n",
       "                          'AIR TRANSPORTATION, SCHEDULED': 9,\n",
       "                          'REFUSE SYSTEMS': 6,\n",
       "                          'PETROLEUM REFINING': 13,\n",
       "                          'ARRANGEMENT OF TRANSPORTATION OF FREIGHT & CARGO': 4,\n",
       "                          'TRUCKING (NO LOCAL)': 13,\n",
       "                          'TRANSPORTATION SERVICES': 7,\n",
       "                          'PIPE LINES (NO NATURAL GAS)': 8,\n",
       "                          'ELECTRIC SERVICES': 8,\n",
       "                          'WATER SUPPLY': 7,\n",
       "                          'DEEP SEA FOREIGN TRANSPORTATION OF FREIGHT': 4,\n",
       "                          'WATER TRANSPORTATION': 5,\n",
       "                          'ELECTRIC & OTHER SERVICES COMBINED': 6,\n",
       "                          'GOLD AND SILVER ORES': 4}),\n",
       "             '2018_4': defaultdict(int,\n",
       "                         {'DRILLING OIL & GAS WELLS': 4,\n",
       "                          'MINING & QUARRYING OF NONMETALLIC MINERALS (NO FUELS)': 9,\n",
       "                          'OIL & GAS FIELD SERVICES, NEC': 14,\n",
       "                          'CRUDE PETROLEUM & NATURAL GAS': 41,\n",
       "                          'NATURAL GAS TRANSMISSION': 10,\n",
       "                          'AIR TRANSPORTATION, SCHEDULED': 9,\n",
       "                          'REFUSE SYSTEMS': 6,\n",
       "                          'PETROLEUM REFINING': 13,\n",
       "                          'ARRANGEMENT OF TRANSPORTATION OF FREIGHT & CARGO': 4,\n",
       "                          'TRUCKING (NO LOCAL)': 13,\n",
       "                          'TRANSPORTATION SERVICES': 7,\n",
       "                          'PIPE LINES (NO NATURAL GAS)': 8,\n",
       "                          'ELECTRIC SERVICES': 8,\n",
       "                          'WATER SUPPLY': 7,\n",
       "                          'DEEP SEA FOREIGN TRANSPORTATION OF FREIGHT': 4,\n",
       "                          'WATER TRANSPORTATION': 5,\n",
       "                          'ELECTRIC & OTHER SERVICES COMBINED': 6,\n",
       "                          'GOLD AND SILVER ORES': 4}),\n",
       "             '2019_1': defaultdict(int,\n",
       "                         {'DRILLING OIL & GAS WELLS': 4,\n",
       "                          'MINING & QUARRYING OF NONMETALLIC MINERALS (NO FUELS)': 8,\n",
       "                          'OIL & GAS FIELD SERVICES, NEC': 14,\n",
       "                          'CRUDE PETROLEUM & NATURAL GAS': 40,\n",
       "                          'NATURAL GAS TRANSMISSION': 10,\n",
       "                          'AIR TRANSPORTATION, SCHEDULED': 9,\n",
       "                          'REFUSE SYSTEMS': 6,\n",
       "                          'PETROLEUM REFINING': 13,\n",
       "                          'ARRANGEMENT OF TRANSPORTATION OF FREIGHT & CARGO': 4,\n",
       "                          'TRUCKING (NO LOCAL)': 13,\n",
       "                          'TRANSPORTATION SERVICES': 7,\n",
       "                          'PIPE LINES (NO NATURAL GAS)': 8,\n",
       "                          'ELECTRIC SERVICES': 8,\n",
       "                          'WATER SUPPLY': 7,\n",
       "                          'DEEP SEA FOREIGN TRANSPORTATION OF FREIGHT': 4,\n",
       "                          'WATER TRANSPORTATION': 4,\n",
       "                          'ELECTRIC & OTHER SERVICES COMBINED': 6,\n",
       "                          'GOLD AND SILVER ORES': 4}),\n",
       "             '2019_2': defaultdict(int,\n",
       "                         {'DRILLING OIL & GAS WELLS': 4,\n",
       "                          'MINING & QUARRYING OF NONMETALLIC MINERALS (NO FUELS)': 10,\n",
       "                          'OIL & GAS FIELD SERVICES, NEC': 14,\n",
       "                          'CRUDE PETROLEUM & NATURAL GAS': 45,\n",
       "                          'AIR TRANSPORTATION, SCHEDULED': 9,\n",
       "                          'REFUSE SYSTEMS': 6,\n",
       "                          'NATURAL GAS TRANSMISSION': 9,\n",
       "                          'PETROLEUM REFINING': 13,\n",
       "                          'ARRANGEMENT OF TRANSPORTATION OF FREIGHT & CARGO': 4,\n",
       "                          'TRUCKING (NO LOCAL)': 13,\n",
       "                          'TRANSPORTATION SERVICES': 7,\n",
       "                          'PIPE LINES (NO NATURAL GAS)': 8,\n",
       "                          'ELECTRIC SERVICES': 8,\n",
       "                          'WATER SUPPLY': 8,\n",
       "                          'DEEP SEA FOREIGN TRANSPORTATION OF FREIGHT': 4,\n",
       "                          'WATER TRANSPORTATION': 6,\n",
       "                          'ELECTRIC & OTHER SERVICES COMBINED': 6,\n",
       "                          'GOLD AND SILVER ORES': 4}),\n",
       "             '2019_3': defaultdict(int,\n",
       "                         {'DRILLING OIL & GAS WELLS': 4,\n",
       "                          'MINING & QUARRYING OF NONMETALLIC MINERALS (NO FUELS)': 9,\n",
       "                          'OIL & GAS FIELD SERVICES, NEC': 14,\n",
       "                          'CRUDE PETROLEUM & NATURAL GAS': 43,\n",
       "                          'AIR TRANSPORTATION, SCHEDULED': 9,\n",
       "                          'REFUSE SYSTEMS': 6,\n",
       "                          'NATURAL GAS TRANSMISSION': 10,\n",
       "                          'PETROLEUM REFINING': 13,\n",
       "                          'ARRANGEMENT OF TRANSPORTATION OF FREIGHT & CARGO': 4,\n",
       "                          'TRUCKING (NO LOCAL)': 13,\n",
       "                          'TRANSPORTATION SERVICES': 7,\n",
       "                          'PIPE LINES (NO NATURAL GAS)': 8,\n",
       "                          'ELECTRIC SERVICES': 8,\n",
       "                          'WATER SUPPLY': 8,\n",
       "                          'DEEP SEA FOREIGN TRANSPORTATION OF FREIGHT': 4,\n",
       "                          'WATER TRANSPORTATION': 5,\n",
       "                          'ELECTRIC & OTHER SERVICES COMBINED': 7,\n",
       "                          'GOLD AND SILVER ORES': 4}),\n",
       "             '2019_4': defaultdict(int,\n",
       "                         {'DRILLING OIL & GAS WELLS': 4,\n",
       "                          'MINING & QUARRYING OF NONMETALLIC MINERALS (NO FUELS)': 9,\n",
       "                          'OIL & GAS FIELD SERVICES, NEC': 14,\n",
       "                          'CRUDE PETROLEUM & NATURAL GAS': 43,\n",
       "                          'AIR TRANSPORTATION, SCHEDULED': 9,\n",
       "                          'REFUSE SYSTEMS': 7,\n",
       "                          'NATURAL GAS TRANSMISSION': 10,\n",
       "                          'PETROLEUM REFINING': 13,\n",
       "                          'ARRANGEMENT OF TRANSPORTATION OF FREIGHT & CARGO': 4,\n",
       "                          'TRUCKING (NO LOCAL)': 13,\n",
       "                          'TRANSPORTATION SERVICES': 7,\n",
       "                          'PIPE LINES (NO NATURAL GAS)': 8,\n",
       "                          'ELECTRIC SERVICES': 8,\n",
       "                          'WATER SUPPLY': 8,\n",
       "                          'DEEP SEA FOREIGN TRANSPORTATION OF FREIGHT': 4,\n",
       "                          'WATER TRANSPORTATION': 5,\n",
       "                          'ELECTRIC & OTHER SERVICES COMBINED': 7,\n",
       "                          'GOLD AND SILVER ORES': 4}),\n",
       "             '2020_1': defaultdict(int,\n",
       "                         {'DRILLING OIL & GAS WELLS': 4,\n",
       "                          'MINING & QUARRYING OF NONMETALLIC MINERALS (NO FUELS)': 9,\n",
       "                          'OIL & GAS FIELD SERVICES, NEC': 14,\n",
       "                          'CRUDE PETROLEUM & NATURAL GAS': 44,\n",
       "                          'AIR TRANSPORTATION, SCHEDULED': 9,\n",
       "                          'REFUSE SYSTEMS': 7,\n",
       "                          'NATURAL GAS TRANSMISSION': 10,\n",
       "                          'PETROLEUM REFINING': 13,\n",
       "                          'ARRANGEMENT OF TRANSPORTATION OF FREIGHT & CARGO': 4,\n",
       "                          'TRUCKING (NO LOCAL)': 13,\n",
       "                          'TRANSPORTATION SERVICES': 7,\n",
       "                          'PIPE LINES (NO NATURAL GAS)': 8,\n",
       "                          'ELECTRIC SERVICES': 8,\n",
       "                          'WATER SUPPLY': 8,\n",
       "                          'DEEP SEA FOREIGN TRANSPORTATION OF FREIGHT': 4,\n",
       "                          'WATER TRANSPORTATION': 5,\n",
       "                          'ELECTRIC & OTHER SERVICES COMBINED': 7,\n",
       "                          'GOLD AND SILVER ORES': 4}),\n",
       "             '2020_2': defaultdict(int,\n",
       "                         {'DRILLING OIL & GAS WELLS': 4,\n",
       "                          'MINING & QUARRYING OF NONMETALLIC MINERALS (NO FUELS)': 9,\n",
       "                          'OIL & GAS FIELD SERVICES, NEC': 14,\n",
       "                          'CRUDE PETROLEUM & NATURAL GAS': 48,\n",
       "                          'AIR TRANSPORTATION, SCHEDULED': 9,\n",
       "                          'REFUSE SYSTEMS': 7,\n",
       "                          'NATURAL GAS TRANSMISSION': 10,\n",
       "                          'PETROLEUM REFINING': 13,\n",
       "                          'ARRANGEMENT OF TRANSPORTATION OF FREIGHT & CARGO': 4,\n",
       "                          'TRUCKING (NO LOCAL)': 13,\n",
       "                          'TRANSPORTATION SERVICES': 7,\n",
       "                          'PIPE LINES (NO NATURAL GAS)': 8,\n",
       "                          'ELECTRIC SERVICES': 8,\n",
       "                          'WATER SUPPLY': 8,\n",
       "                          'DEEP SEA FOREIGN TRANSPORTATION OF FREIGHT': 4,\n",
       "                          'WATER TRANSPORTATION': 5,\n",
       "                          'ELECTRIC & OTHER SERVICES COMBINED': 7,\n",
       "                          'GOLD AND SILVER ORES': 4}),\n",
       "             '2020_3': defaultdict(int,\n",
       "                         {'DRILLING OIL & GAS WELLS': 4,\n",
       "                          'MINING & QUARRYING OF NONMETALLIC MINERALS (NO FUELS)': 9,\n",
       "                          'OIL & GAS FIELD SERVICES, NEC': 14,\n",
       "                          'CRUDE PETROLEUM & NATURAL GAS': 46,\n",
       "                          'AIR TRANSPORTATION, SCHEDULED': 9,\n",
       "                          'REFUSE SYSTEMS': 7,\n",
       "                          'NATURAL GAS TRANSMISSION': 10,\n",
       "                          'PETROLEUM REFINING': 13,\n",
       "                          'ARRANGEMENT OF TRANSPORTATION OF FREIGHT & CARGO': 4,\n",
       "                          'TRUCKING (NO LOCAL)': 13,\n",
       "                          'TRANSPORTATION SERVICES': 7,\n",
       "                          'PIPE LINES (NO NATURAL GAS)': 8,\n",
       "                          'ELECTRIC SERVICES': 8,\n",
       "                          'WATER SUPPLY': 8,\n",
       "                          'DEEP SEA FOREIGN TRANSPORTATION OF FREIGHT': 4,\n",
       "                          'WATER TRANSPORTATION': 5,\n",
       "                          'ELECTRIC & OTHER SERVICES COMBINED': 7,\n",
       "                          'GOLD AND SILVER ORES': 4}),\n",
       "             '2020_4': defaultdict(int,\n",
       "                         {'DRILLING OIL & GAS WELLS': 5,\n",
       "                          'MINING & QUARRYING OF NONMETALLIC MINERALS (NO FUELS)': 9,\n",
       "                          'OIL & GAS FIELD SERVICES, NEC': 14,\n",
       "                          'CRUDE PETROLEUM & NATURAL GAS': 48,\n",
       "                          'AIR TRANSPORTATION, SCHEDULED': 9,\n",
       "                          'REFUSE SYSTEMS': 7,\n",
       "                          'NATURAL GAS TRANSMISSION': 10,\n",
       "                          'PETROLEUM REFINING': 13,\n",
       "                          'ARRANGEMENT OF TRANSPORTATION OF FREIGHT & CARGO': 4,\n",
       "                          'TRUCKING (NO LOCAL)': 13,\n",
       "                          'TRANSPORTATION SERVICES': 7,\n",
       "                          'PIPE LINES (NO NATURAL GAS)': 8,\n",
       "                          'ELECTRIC SERVICES': 9,\n",
       "                          'WATER SUPPLY': 8,\n",
       "                          'DEEP SEA FOREIGN TRANSPORTATION OF FREIGHT': 4,\n",
       "                          'WATER TRANSPORTATION': 5,\n",
       "                          'ELECTRIC & OTHER SERVICES COMBINED': 7,\n",
       "                          'GOLD AND SILVER ORES': 5}),\n",
       "             '2021_1': defaultdict(int,\n",
       "                         {'DRILLING OIL & GAS WELLS': 5,\n",
       "                          'MINING & QUARRYING OF NONMETALLIC MINERALS (NO FUELS)': 9,\n",
       "                          'OIL & GAS FIELD SERVICES, NEC': 14,\n",
       "                          'CRUDE PETROLEUM & NATURAL GAS': 48,\n",
       "                          'AIR TRANSPORTATION, SCHEDULED': 9,\n",
       "                          'REFUSE SYSTEMS': 7,\n",
       "                          'NATURAL GAS TRANSMISSION': 10,\n",
       "                          'PETROLEUM REFINING': 13,\n",
       "                          'ARRANGEMENT OF TRANSPORTATION OF FREIGHT & CARGO': 4,\n",
       "                          'TRUCKING (NO LOCAL)': 13,\n",
       "                          'TRANSPORTATION SERVICES': 7,\n",
       "                          'PIPE LINES (NO NATURAL GAS)': 8,\n",
       "                          'ELECTRIC SERVICES': 9,\n",
       "                          'WATER SUPPLY': 8,\n",
       "                          'DEEP SEA FOREIGN TRANSPORTATION OF FREIGHT': 3,\n",
       "                          'GOLD AND SILVER ORES': 6,\n",
       "                          'WATER TRANSPORTATION': 5,\n",
       "                          'ELECTRIC & OTHER SERVICES COMBINED': 7}),\n",
       "             '2021_2': defaultdict(int,\n",
       "                         {'DRILLING OIL & GAS WELLS': 5,\n",
       "                          'MINING & QUARRYING OF NONMETALLIC MINERALS (NO FUELS)': 9,\n",
       "                          'OIL & GAS FIELD SERVICES, NEC': 14,\n",
       "                          'CRUDE PETROLEUM & NATURAL GAS': 52,\n",
       "                          'AIR TRANSPORTATION, SCHEDULED': 11,\n",
       "                          'REFUSE SYSTEMS': 7,\n",
       "                          'NATURAL GAS TRANSMISSION': 10,\n",
       "                          'PETROLEUM REFINING': 13,\n",
       "                          'ARRANGEMENT OF TRANSPORTATION OF FREIGHT & CARGO': 4,\n",
       "                          'TRUCKING (NO LOCAL)': 13,\n",
       "                          'TRANSPORTATION SERVICES': 7,\n",
       "                          'PIPE LINES (NO NATURAL GAS)': 8,\n",
       "                          'ELECTRIC SERVICES': 9,\n",
       "                          'WATER SUPPLY': 8,\n",
       "                          'DEEP SEA FOREIGN TRANSPORTATION OF FREIGHT': 5,\n",
       "                          'GOLD AND SILVER ORES': 6,\n",
       "                          'WATER TRANSPORTATION': 5,\n",
       "                          'ELECTRIC & OTHER SERVICES COMBINED': 8}),\n",
       "             '2021_3': defaultdict(int,\n",
       "                         {'CRUDE PETROLEUM & NATURAL GAS': 51,\n",
       "                          'DRILLING OIL & GAS WELLS': 5,\n",
       "                          'MINING & QUARRYING OF NONMETALLIC MINERALS (NO FUELS)': 9,\n",
       "                          'OIL & GAS FIELD SERVICES, NEC': 14,\n",
       "                          'AIR TRANSPORTATION, SCHEDULED': 11,\n",
       "                          'REFUSE SYSTEMS': 7,\n",
       "                          'NATURAL GAS TRANSMISSION': 11,\n",
       "                          'PETROLEUM REFINING': 13,\n",
       "                          'ARRANGEMENT OF TRANSPORTATION OF FREIGHT & CARGO': 4,\n",
       "                          'TRUCKING (NO LOCAL)': 13,\n",
       "                          'TRANSPORTATION SERVICES': 9,\n",
       "                          'PIPE LINES (NO NATURAL GAS)': 8,\n",
       "                          'ELECTRIC SERVICES': 9,\n",
       "                          'WATER SUPPLY': 8,\n",
       "                          'DEEP SEA FOREIGN TRANSPORTATION OF FREIGHT': 4,\n",
       "                          'GOLD AND SILVER ORES': 6,\n",
       "                          'WATER TRANSPORTATION': 5,\n",
       "                          'ELECTRIC & OTHER SERVICES COMBINED': 8})})"
      ]
     },
     "execution_count": 28,
     "metadata": {},
     "output_type": "execute_result"
    }
   ],
   "source": [
    "dict_of_industry_counts_per_year_q"
   ]
  },
  {
   "cell_type": "code",
   "execution_count": null,
   "metadata": {},
   "outputs": [],
   "source": [
    "dict_of_industry_counts"
   ]
  },
  {
   "cell_type": "code",
   "execution_count": null,
   "metadata": {},
   "outputs": [],
   "source": [
    "from collections import defaultdict\n",
    "\n",
    "# Check if industry count changes between quarters\n",
    "dict_of_industries_check = defaultdict(set)\n",
    "for year_q, dict_industries_count in dict_of_industry_counts_per_year_q.items():\n",
    "    for k_industry, count_val in dict_industries_count.items():\n",
    "        dict_of_industries_check[k_industry].add(count_val)\n",
    "        \n",
    "dict_of_industries_check"
   ]
  },
  {
   "cell_type": "markdown",
   "metadata": {},
   "source": [
    "## Check how useful is past data approach for the companies"
   ]
  },
  {
   "cell_type": "code",
   "execution_count": 9,
   "metadata": {},
   "outputs": [],
   "source": [
    "from collections import defaultdict\n",
    "\n",
    "dict_of_cik_imputation_kpis_values = defaultdict(lambda: defaultdict(list))\n",
    "for year_q_k, inputs_data in dict_of_res.items():\n",
    "    for input_data in inputs_data:\n",
    "        for kpi, val in input_data[\"fundamental_data\"].items():\n",
    "            if not val:\n",
    "                dict_of_cik_imputation_kpis_values[input_data['cik']][kpi].append((val, input_data[\"fundamental_data_imputed_past\"].get(kpi, None)))\n",
    "            else:\n",
    "                dict_of_cik_imputation_kpis_values[input_data['cik']][kpi].append(val)\n",
    "        \n",
    "        # for kpi, val in input_data[\"fundamental_data_imputed\"].items():\n",
    "        #     if kpi not in list_of_kpis:\n",
    "        #         dict_of_cik_imputation_kpis_count[input_data['cik']][kpi].append(None)\n",
    "        #     else:\n",
    "        #         dict_of_cik_imputation_kpis_count[input_data['cik']][kpi].append(val)"
   ]
  },
  {
   "cell_type": "code",
   "execution_count": null,
   "metadata": {},
   "outputs": [],
   "source": [
    "dict_of_cik_imputation_kpis_values"
   ]
  },
  {
   "cell_type": "code",
   "execution_count": 11,
   "metadata": {},
   "outputs": [],
   "source": [
    "dict_of_cik_consecutive_dicts = {}\n",
    "for cik, dict_of_list in dict_of_cik_imputation_kpis_values.items():\n",
    "    dict_of_kpi_count_consecutive_missing = defaultdict(list)\n",
    "    for kpi, list_of_values in dict_of_list.items():\n",
    "        is_seq = False\n",
    "        for idx in range(len(list_of_values)):\n",
    "            curr = list_of_values[idx]\n",
    "            if type(curr) is tuple:\n",
    "                if not curr[0] and not is_seq:\n",
    "                    if idx == 0:\n",
    "                        kpi = kpi + '_' + \"BEGIN_MISSING\" \n",
    "                    dict_of_kpi_count_consecutive_missing[kpi].append(1)\n",
    "                    curr_sequence_idx = len(dict_of_kpi_count_consecutive_missing[kpi]) - 1\n",
    "                    is_seq = True\n",
    "                elif not curr[0] and is_seq:\n",
    "                    dict_of_kpi_count_consecutive_missing[kpi][curr_sequence_idx] += 1\n",
    "                elif curr[0]:\n",
    "                    is_seq = False\n",
    "            else:\n",
    "                is_seq = False\n",
    "                    \n",
    "    dict_of_cik_consecutive_dicts[cik] = dict_of_kpi_count_consecutive_missing\n",
    "             "
   ]
  },
  {
   "cell_type": "code",
   "execution_count": null,
   "metadata": {},
   "outputs": [],
   "source": [
    "dict_of_cik_consecutive_dicts"
   ]
  },
  {
   "cell_type": "code",
   "execution_count": 13,
   "metadata": {},
   "outputs": [],
   "source": [
    "import json\n",
    "# Save as json\n",
    "dict_of_cik_consecutive_dicts_copy = dict_of_cik_consecutive_dicts.copy()\n",
    "for cik, consecutive_dicts in dict_of_cik_consecutive_dicts_copy.copy().items():\n",
    "    if not consecutive_dicts:\n",
    "        del dict_of_cik_consecutive_dicts_copy[cik]\n",
    "\n",
    "with open('./data/json_cik_consecutives.json', 'w') as f:\n",
    "    json.dump(dict_of_cik_consecutive_dicts_copy, f)"
   ]
  },
  {
   "cell_type": "code",
   "execution_count": 20,
   "metadata": {},
   "outputs": [
    {
     "name": "stdout",
     "output_type": "stream",
     "text": [
      "799233\n",
      "debt_BEGIN_MISSING [11, 4, 3]\n",
      "times_interest_earned_BEGIN_MISSING [2, 4, 4]\n",
      "ev_ebitda_BEGIN_MISSING [11, 4, 3]\n",
      "ev_ebit_BEGIN_MISSING [11, 4, 3]\n",
      "ev_revenue_BEGIN_MISSING [11, 4, 3]\n",
      "--------------------\n",
      "746515\n",
      "debt_BEGIN_MISSING [9]\n",
      "times_interest_earned_BEGIN_MISSING [17]\n",
      "ev_ebitda_BEGIN_MISSING [9]\n",
      "ev_ebit_BEGIN_MISSING [9]\n",
      "ev_revenue_BEGIN_MISSING [9]\n",
      "--------------------\n",
      "1134115\n",
      "gross_margin_BEGIN_MISSING [4, 1, 1, 2, 1, 1, 3]\n",
      "operating_profit_margin_BEGIN_MISSING [4, 1, 1, 2, 1, 1, 3]\n",
      "net_profit_margin_BEGIN_MISSING [4, 1, 1, 2, 1, 1, 3]\n",
      "debt_BEGIN_MISSING [20]\n",
      "quick_BEGIN_MISSING [20]\n",
      "times_interest_earned_BEGIN_MISSING [1, 5]\n",
      "capex_to_operating_cash_BEGIN_MISSING [4, 8]\n",
      "ev_ebitda_BEGIN_MISSING [20]\n",
      "ev_ebit_BEGIN_MISSING [20]\n",
      "ev_revenue_BEGIN_MISSING [20]\n",
      "--------------------\n",
      "1308208\n",
      "quick_BEGIN_MISSING [3, 3, 3]\n",
      "capex_to_operating_cash [3]\n",
      "operating_cash_flow_BEGIN_MISSING [1, 3]\n",
      "--------------------\n",
      "1512499\n",
      "quick_BEGIN_MISSING [20]\n",
      "--------------------\n",
      "1283140\n",
      "capex_to_operating_cash_BEGIN_MISSING [5]\n",
      "--------------------\n",
      "1498710\n",
      "quick_BEGIN_MISSING [4, 3]\n",
      "--------------------\n",
      "1160791\n",
      "debt_BEGIN_MISSING [3, 4]\n",
      "times_interest_earned_BEGIN_MISSING [5, 14]\n",
      "ev_ebitda_BEGIN_MISSING [3, 4]\n",
      "ev_ebit_BEGIN_MISSING [3, 4]\n",
      "ev_revenue_BEGIN_MISSING [3, 4]\n",
      "--------------------\n",
      "1065059\n",
      "times_interest_earned_BEGIN_MISSING [2, 3, 2]\n",
      "capex_to_operating_cash_BEGIN_MISSING [2, 6, 1, 1]\n",
      "--------------------\n",
      "82020\n",
      "debt_BEGIN_MISSING [20]\n",
      "ev_ebitda_BEGIN_MISSING [20]\n",
      "ev_ebit_BEGIN_MISSING [20]\n",
      "ev_revenue_BEGIN_MISSING [20]\n",
      "--------------------\n",
      "916076\n",
      "quick_BEGIN_MISSING [3, 2]\n",
      "--------------------\n",
      "793733\n",
      "quick_BEGIN_MISSING [2, 3]\n",
      "--------------------\n",
      "1634447\n",
      "gross_margin_BEGIN_MISSING [5]\n",
      "operating_profit_margin_BEGIN_MISSING [5]\n",
      "net_profit_margin_BEGIN_MISSING [5]\n",
      "quick_BEGIN_MISSING [8, 1]\n",
      "capex_to_operating_cash_BEGIN_MISSING [7, 3]\n",
      "ev_ebitda_BEGIN_MISSING [12]\n",
      "ev_revenue_BEGIN_MISSING [5]\n",
      "--------------------\n",
      "894627\n",
      "debt_BEGIN_MISSING [2, 3, 2]\n",
      "times_interest_earned_BEGIN_MISSING [2, 6, 3]\n",
      "ev_ebitda_BEGIN_MISSING [2, 3, 2]\n",
      "ev_ebit_BEGIN_MISSING [2, 3, 2]\n",
      "ev_revenue_BEGIN_MISSING [2, 3, 2]\n",
      "--------------------\n",
      "844965\n",
      "gross_margin_BEGIN_MISSING [4, 2]\n",
      "operating_profit_margin_BEGIN_MISSING [4, 2]\n",
      "net_profit_margin_BEGIN_MISSING [4, 2]\n",
      "ev_revenue_BEGIN_MISSING [4, 2]\n",
      "--------------------\n",
      "1433270\n",
      "quick_BEGIN_MISSING [2, 5, 1, 1]\n",
      "cash_BEGIN_MISSING [2, 5, 1, 1]\n",
      "ev_ebitda_BEGIN_MISSING [2, 5, 1, 1]\n",
      "ev_ebit_BEGIN_MISSING [2, 5, 1, 1]\n",
      "ev_revenue_BEGIN_MISSING [2, 5, 1, 1]\n",
      "--------------------\n",
      "352955\n",
      "debt_BEGIN_MISSING [20]\n",
      "times_interest_earned_BEGIN_MISSING [17]\n",
      "ev_ebitda_BEGIN_MISSING [20]\n",
      "ev_ebit_BEGIN_MISSING [20]\n",
      "ev_revenue_BEGIN_MISSING [20]\n",
      "--------------------\n",
      "1021635\n",
      "roe_BEGIN_MISSING [3]\n",
      "roa_BEGIN_MISSING [3]\n",
      "roce_BEGIN_MISSING [3]\n",
      "gross_margin_BEGIN_MISSING [3]\n",
      "operating_profit_margin_BEGIN_MISSING [3]\n",
      "net_profit_margin_BEGIN_MISSING [3]\n",
      "quick_BEGIN_MISSING [4, 1, 2, 1]\n",
      "cash_BEGIN_MISSING [4, 1, 2, 1]\n",
      "times_interest_earned_BEGIN_MISSING [3]\n",
      "capex_to_operating_cash_BEGIN_MISSING [3]\n",
      "operating_cash_flow_BEGIN_MISSING [3]\n",
      "price_to_earnings_BEGIN_MISSING [3]\n",
      "ev_ebitda_BEGIN_MISSING [4, 1, 2, 1]\n",
      "ev_ebit_BEGIN_MISSING [4, 1, 2, 1]\n",
      "ev_revenue_BEGIN_MISSING [4, 1, 2, 1]\n",
      "--------------------\n",
      "1658566\n",
      "quick_BEGIN_MISSING [3]\n",
      "cash_BEGIN_MISSING [3]\n",
      "ev_ebitda_BEGIN_MISSING [3]\n",
      "ev_ebit_BEGIN_MISSING [3]\n",
      "ev_revenue_BEGIN_MISSING [3]\n",
      "--------------------\n",
      "1120970\n",
      "quick_BEGIN_MISSING [15]\n",
      "--------------------\n",
      "1509589\n",
      "roe_BEGIN_MISSING [3]\n",
      "roa_BEGIN_MISSING [3]\n",
      "roce_BEGIN_MISSING [3]\n",
      "debt_to_equity_BEGIN_MISSING [3]\n",
      "equity_BEGIN_MISSING [3]\n",
      "debt_BEGIN_MISSING [5, 1, 2]\n",
      "operating_cash_flow_BEGIN_MISSING [3]\n",
      "price_to_earnings_BEGIN_MISSING [3]\n",
      "ev_ebitda_BEGIN_MISSING [5, 1, 4]\n",
      "ev_ebit_BEGIN_MISSING [5, 1, 2]\n",
      "ev_revenue_BEGIN_MISSING [5, 1, 2]\n",
      "--------------------\n",
      "92380\n",
      "quick_BEGIN_MISSING [8, 3]\n",
      "--------------------\n",
      "1466593\n",
      "quick_BEGIN_MISSING [3]\n",
      "cash_BEGIN_MISSING [3]\n",
      "ev_ebitda_BEGIN_MISSING [3]\n",
      "ev_ebit_BEGIN_MISSING [3]\n",
      "ev_revenue_BEGIN_MISSING [3]\n",
      "--------------------\n",
      "1383650\n",
      "quick_BEGIN_MISSING [10]\n",
      "cash_BEGIN_MISSING [10]\n",
      "ev_ebitda_BEGIN_MISSING [10]\n",
      "ev_ebit_BEGIN_MISSING [10]\n",
      "ev_revenue_BEGIN_MISSING [10]\n",
      "--------------------\n",
      "716006\n",
      "roe_BEGIN_MISSING [9]\n",
      "debt_to_equity_BEGIN_MISSING [9]\n",
      "equity_BEGIN_MISSING [9]\n",
      "--------------------\n",
      "917225\n",
      "roe_BEGIN_MISSING [3]\n",
      "roa_BEGIN_MISSING [3]\n",
      "roce_BEGIN_MISSING [3]\n",
      "gross_margin_BEGIN_MISSING [2, 1, 2, 7, 2]\n",
      "operating_profit_margin_BEGIN_MISSING [2, 1, 2, 7, 2]\n",
      "net_profit_margin_BEGIN_MISSING [2, 1, 2, 7, 2]\n",
      "debt_to_equity_BEGIN_MISSING [3]\n",
      "equity_BEGIN_MISSING [3]\n",
      "debt_BEGIN_MISSING [9]\n",
      "current_BEGIN_MISSING [3]\n",
      "quick_BEGIN_MISSING [12, 6]\n",
      "cash_BEGIN_MISSING [3]\n",
      "times_interest_earned_BEGIN_MISSING [4, 15]\n",
      "capex_to_operating_cash_BEGIN_MISSING [3, 1, 1, 3, 2]\n",
      "operating_cash_flow_BEGIN_MISSING [3]\n",
      "price_to_earnings_BEGIN_MISSING [3]\n",
      "ev_ebitda_BEGIN_MISSING [9]\n",
      "ev_ebit_BEGIN_MISSING [9]\n",
      "ev_revenue_BEGIN_MISSING [9, 7, 2]\n",
      "--------------------\n",
      "1384195\n",
      "times_interest_earned_BEGIN_MISSING [5, 1]\n",
      "--------------------\n",
      "1110805\n",
      "times_interest_earned_BEGIN_MISSING [2, 6, 3]\n",
      "price_to_earnings_BEGIN_MISSING [16, 1]\n",
      "ev_ebitda_BEGIN_MISSING [16, 1]\n",
      "ev_ebit_BEGIN_MISSING [16, 1]\n",
      "ev_revenue_BEGIN_MISSING [16, 1]\n",
      "--------------------\n",
      "1064728\n",
      "roe_BEGIN_MISSING [4, 3]\n",
      "roa_BEGIN_MISSING [4, 3]\n",
      "roce_BEGIN_MISSING [4, 3]\n",
      "debt_to_equity [3, 3]\n",
      "equity [3, 3]\n",
      "debt [3, 3]\n",
      "current [3, 3]\n",
      "quick [7]\n",
      "cash [3, 3]\n",
      "operating_cash_flow_BEGIN_MISSING [4, 3]\n",
      "price_to_earnings_BEGIN_MISSING [4, 3]\n",
      "ev_ebitda_BEGIN_MISSING [4, 3]\n",
      "ev_ebit_BEGIN_MISSING [4, 3]\n",
      "ev_revenue_BEGIN_MISSING [4, 3]\n",
      "--------------------\n",
      "1000229\n",
      "gross_margin_BEGIN_MISSING [8]\n",
      "operating_profit_margin_BEGIN_MISSING [8]\n",
      "net_profit_margin_BEGIN_MISSING [8]\n",
      "ev_revenue_BEGIN_MISSING [8]\n",
      "--------------------\n",
      "866609\n",
      "quick_BEGIN_MISSING [8, 3, 3]\n",
      "--------------------\n",
      "1011509\n",
      "debt_BEGIN_MISSING [13]\n",
      "times_interest_earned_BEGIN_MISSING [5]\n",
      "capex_to_operating_cash_BEGIN_MISSING [3]\n",
      "ev_ebitda_BEGIN_MISSING [13]\n",
      "ev_ebit_BEGIN_MISSING [13]\n",
      "ev_revenue_BEGIN_MISSING [13]\n",
      "--------------------\n",
      "798528\n",
      "capex_to_operating_cash_BEGIN_MISSING [1, 1, 3, 5, 1]\n",
      "--------------------\n",
      "314203\n",
      "debt_BEGIN_MISSING [7]\n",
      "ev_ebitda_BEGIN_MISSING [7]\n",
      "ev_ebit_BEGIN_MISSING [7]\n",
      "ev_revenue_BEGIN_MISSING [7]\n",
      "--------------------\n",
      "4447\n",
      "quick_BEGIN_MISSING [2, 13]\n",
      "--------------------\n",
      "858470\n",
      "ev_ebitda_BEGIN_MISSING [15]\n",
      "--------------------\n",
      "77159\n",
      "ev_ebitda_BEGIN_MISSING [12]\n",
      "--------------------\n",
      "1385849\n",
      "quick_BEGIN_MISSING [4, 3, 3, 3, 3]\n",
      "capex_to_operating_cash_BEGIN_MISSING [5, 4]\n",
      "--------------------\n",
      "73088\n",
      "debt_BEGIN_MISSING [2, 1, 3]\n",
      "ev_ebitda_BEGIN_MISSING [2, 1, 3]\n",
      "ev_ebit_BEGIN_MISSING [2, 1, 3]\n",
      "ev_revenue_BEGIN_MISSING [2, 1, 3]\n",
      "--------------------\n",
      "1172358\n",
      "debt_BEGIN_MISSING [9]\n",
      "times_interest_earned_BEGIN_MISSING [20]\n",
      "capex_to_operating_cash_BEGIN_MISSING [2, 13]\n",
      "ev_ebitda_BEGIN_MISSING [9]\n",
      "ev_ebit_BEGIN_MISSING [9]\n",
      "ev_revenue_BEGIN_MISSING [9]\n",
      "--------------------\n",
      "101778\n",
      "times_interest_earned_BEGIN_MISSING [4, 7]\n",
      "--------------------\n",
      "1575828\n",
      "debt_BEGIN_MISSING [4, 7]\n",
      "times_interest_earned_BEGIN_MISSING [1, 5]\n",
      "ev_ebitda_BEGIN_MISSING [9, 7]\n",
      "ev_ebit_BEGIN_MISSING [4, 7]\n",
      "ev_revenue_BEGIN_MISSING [4, 7]\n",
      "--------------------\n",
      "1552797\n",
      "capex_to_operating_cash_BEGIN_MISSING [3, 1, 1, 3]\n",
      "--------------------\n",
      "1679268\n",
      "debt_BEGIN_MISSING [2, 3]\n",
      "ev_ebitda_BEGIN_MISSING [2, 3]\n",
      "ev_ebit_BEGIN_MISSING [2, 3]\n",
      "ev_revenue_BEGIN_MISSING [2, 3]\n",
      "--------------------\n",
      "1612720\n",
      "gross_margin_BEGIN_MISSING [20]\n",
      "operating_profit_margin_BEGIN_MISSING [20]\n",
      "net_profit_margin_BEGIN_MISSING [20]\n",
      "debt_BEGIN_MISSING [1, 6]\n",
      "quick_BEGIN_MISSING [20]\n",
      "ev_ebitda_BEGIN_MISSING [1, 6]\n",
      "ev_ebit_BEGIN_MISSING [1, 6]\n",
      "ev_revenue_BEGIN_MISSING [20]\n",
      "--------------------\n",
      "799167\n",
      "debt_BEGIN_MISSING [1, 7]\n",
      "times_interest_earned_BEGIN_MISSING [20]\n",
      "ev_ebitda_BEGIN_MISSING [1, 7]\n",
      "ev_ebit_BEGIN_MISSING [1, 7]\n",
      "ev_revenue_BEGIN_MISSING [1, 7]\n",
      "--------------------\n",
      "1657788\n",
      "quick_BEGIN_MISSING [4, 3, 9]\n",
      "--------------------\n",
      "1156041\n",
      "debt_BEGIN_MISSING [2, 6]\n",
      "quick_BEGIN_MISSING [3]\n",
      "times_interest_earned_BEGIN_MISSING [2, 4, 1, 2]\n",
      "ev_ebitda_BEGIN_MISSING [2, 6]\n",
      "ev_ebit_BEGIN_MISSING [2, 6]\n",
      "ev_revenue_BEGIN_MISSING [2, 6]\n",
      "--------------------\n",
      "1141197\n",
      "debt_BEGIN_MISSING [1, 4]\n",
      "quick_BEGIN_MISSING [1, 18]\n",
      "times_interest_earned_BEGIN_MISSING [1, 5, 2]\n",
      "capex_to_operating_cash_BEGIN_MISSING [4, 1, 1]\n",
      "ev_ebitda_BEGIN_MISSING [1, 4]\n",
      "ev_ebit_BEGIN_MISSING [1, 4]\n",
      "ev_revenue_BEGIN_MISSING [1, 4]\n",
      "--------------------\n",
      "783324\n",
      "gross_margin_BEGIN_MISSING [20]\n",
      "operating_profit_margin_BEGIN_MISSING [20]\n",
      "net_profit_margin_BEGIN_MISSING [20]\n",
      "debt_BEGIN_MISSING [9, 3]\n",
      "quick_BEGIN_MISSING [20]\n",
      "times_interest_earned_BEGIN_MISSING [20]\n",
      "capex_to_operating_cash_BEGIN_MISSING [4, 3]\n",
      "ev_ebitda_BEGIN_MISSING [9, 3]\n",
      "ev_ebit_BEGIN_MISSING [9, 3]\n",
      "ev_revenue_BEGIN_MISSING [20]\n",
      "--------------------\n",
      "1698514\n",
      "debt_BEGIN_MISSING [5]\n",
      "quick_BEGIN_MISSING [3, 1]\n",
      "times_interest_earned_BEGIN_MISSING [5]\n",
      "capex_to_operating_cash_BEGIN_MISSING [5]\n",
      "ev_ebitda_BEGIN_MISSING [5]\n",
      "ev_ebit_BEGIN_MISSING [5]\n",
      "ev_revenue_BEGIN_MISSING [5]\n",
      "--------------------\n",
      "1623925\n",
      "debt_BEGIN_MISSING [5, 1]\n",
      "quick_BEGIN_MISSING [1, 6, 1, 1, 1]\n",
      "ev_ebitda_BEGIN_MISSING [5, 1, 1, 1, 1]\n",
      "ev_ebit_BEGIN_MISSING [5, 1, 1, 1, 1]\n",
      "ev_revenue_BEGIN_MISSING [5, 1, 1, 1, 1]\n",
      "--------------------\n",
      "1698990\n",
      "debt_BEGIN_MISSING [4]\n",
      "quick_BEGIN_MISSING [5]\n",
      "ev_ebitda_BEGIN_MISSING [4]\n",
      "ev_ebit_BEGIN_MISSING [4]\n",
      "ev_revenue_BEGIN_MISSING [4]\n",
      "--------------------\n",
      "839470\n",
      "gross_margin [3, 3, 4]\n",
      "operating_profit_margin [3, 3, 4]\n",
      "net_profit_margin [3, 3, 4]\n",
      "debt_BEGIN_MISSING [7]\n",
      "quick [9]\n",
      "times_interest_earned_BEGIN_MISSING [3, 7]\n",
      "capex_to_operating_cash_BEGIN_MISSING [1, 3, 5]\n",
      "ev_ebitda_BEGIN_MISSING [7]\n",
      "ev_ebit_BEGIN_MISSING [7]\n",
      "ev_revenue_BEGIN_MISSING [9, 3, 4]\n",
      "--------------------\n",
      "1706946\n",
      "gross_margin [4]\n",
      "quick_BEGIN_MISSING [9, 3, 3]\n",
      "times_interest_earned_BEGIN_MISSING [6, 1]\n",
      "capex_to_operating_cash_BEGIN_MISSING [6]\n",
      "--------------------\n",
      "8504\n",
      "debt [4]\n",
      "times_interest_earned [4, 1]\n",
      "capex_to_operating_cash [5]\n",
      "ev_ebitda [4]\n",
      "ev_ebit [4]\n",
      "ev_revenue [4]\n",
      "--------------------\n",
      "1726126\n",
      "debt_BEGIN_MISSING [12]\n",
      "ev_ebitda_BEGIN_MISSING [12]\n",
      "ev_ebit_BEGIN_MISSING [12]\n",
      "ev_revenue_BEGIN_MISSING [12]\n",
      "--------------------\n",
      "1792849\n",
      "debt_BEGIN_MISSING [3]\n",
      "ev_ebitda_BEGIN_MISSING [3]\n",
      "ev_ebit_BEGIN_MISSING [3]\n",
      "ev_revenue_BEGIN_MISSING [3]\n",
      "--------------------\n",
      "1517006\n",
      "gross_margin_BEGIN_MISSING [5]\n",
      "operating_profit_margin_BEGIN_MISSING [5]\n",
      "net_profit_margin_BEGIN_MISSING [5]\n",
      "ev_revenue_BEGIN_MISSING [5]\n",
      "--------------------\n",
      "1718405\n",
      "capex_to_operating_cash_BEGIN_MISSING [4]\n",
      "operating_cash_flow_BEGIN_MISSING [4]\n",
      "--------------------\n"
     ]
    }
   ],
   "source": [
    "dict_of_kpi_count = defaultdict(int)\n",
    "for cik, consecutive_dicts in dict_of_cik_consecutive_dicts.items():\n",
    "    is_cik_printed = False\n",
    "    for kpi_k, list_counts in consecutive_dicts.items():\n",
    "        for count in list_counts:\n",
    "            if count >= 3:\n",
    "                if not is_cik_printed:\n",
    "                    print(cik)\n",
    "                    is_cik_printed = True\n",
    "                    \n",
    "                print(kpi_k, list_counts)\n",
    "                break\n",
    "    if is_cik_printed:\n",
    "        print('--------------------')"
   ]
  },
  {
   "cell_type": "code",
   "execution_count": 15,
   "metadata": {},
   "outputs": [
    {
     "data": {
      "text/plain": [
       "defaultdict(int, {})"
      ]
     },
     "execution_count": 15,
     "metadata": {},
     "output_type": "execute_result"
    }
   ],
   "source": [
    "dict_of_kpi_count"
   ]
  },
  {
   "cell_type": "markdown",
   "metadata": {},
   "source": [
    "## Create a POC model for finding most similar company based on KPIs"
   ]
  },
  {
   "cell_type": "code",
   "execution_count": 4,
   "metadata": {},
   "outputs": [],
   "source": [
    "from collections import defaultdict\n",
    "\n",
    "dict_of_year_q_fund_data = defaultdict(list)\n",
    "\n",
    "for year_q_k, inputs_data in dict_of_res.items():\n",
    "    for input_data in inputs_data:\n",
    "        dict_of_year_q_fund_data[year_q_k].append((input_data[\"cik\"], input_data[\"industry\"], input_data['fundamental_data']))"
   ]
  },
  {
   "cell_type": "code",
   "execution_count": 6,
   "metadata": {},
   "outputs": [
    {
     "data": {
      "text/plain": [
       "KNNImputer(n_neighbors=1)"
      ]
     },
     "execution_count": 6,
     "metadata": {},
     "output_type": "execute_result"
    }
   ],
   "source": [
    "from sklearn.impute import KNNImputer\n",
    "\n",
    "imputer_test = KNNImputer(n_neighbors=1)\n",
    "\n",
    "dict_of_2017_2_data = {}\n",
    "dict_of_cik_industry = {}\n",
    "for cik, industry, fun_data_dict in dict_of_year_q_fund_data[\"2017_2\"]:\n",
    "    dict_of_2017_2_data[cik] = list(fun_data_dict.values())\n",
    "    dict_of_cik_industry[cik] = industry\n",
    "imputer_test.fit(list(dict_of_2017_2_data.values()))"
   ]
  },
  {
   "cell_type": "code",
   "execution_count": 7,
   "metadata": {},
   "outputs": [
    {
     "name": "stdout",
     "output_type": "stream",
     "text": [
      "50\n"
     ]
    }
   ],
   "source": [
    "count = 0\n",
    "for to_be_imputed_cik, to_be_imputed_data in dict_of_2017_2_data.items():\n",
    "    if None in to_be_imputed_data:\n",
    "        count+=1\n",
    "        \n",
    "print(count)"
   ]
  },
  {
   "cell_type": "code",
   "execution_count": null,
   "metadata": {},
   "outputs": [],
   "source": [
    "for to_be_imputed_cik, to_be_imputed_data in dict_of_2017_2_data.items():\n",
    "    if None not in to_be_imputed_data:\n",
    "        continue\n",
    "    \n",
    "    dict_of_none_idx_imputed_val = {}\n",
    "    curr_res = imputer_test.transform([to_be_imputed_data])[0]\n",
    "    for idx, item in enumerate(to_be_imputed_data):\n",
    "        if not item:\n",
    "            dict_of_none_idx_imputed_val[idx] = curr_res[idx]\n",
    "    \n",
    "    # Find the one that imputation is done from\n",
    "    for cik, data in dict_of_2017_2_data.items():\n",
    "        if None not in data:\n",
    "            count_matches = 0\n",
    "            desired_matched = len(dict_of_none_idx_imputed_val)\n",
    "            for idx, item in enumerate(data):\n",
    "                if dict_of_none_idx_imputed_val.get(idx, None) == item:\n",
    "                    count_matches += 1\n",
    "            if count_matches == desired_matched:\n",
    "                print(f\"Imputed {dict_of_cik_industry[to_be_imputed_cik]} {to_be_imputed_cik} - {curr_res.tolist()}\")\n",
    "                print(f\"Original {dict_of_cik_industry[cik]} {cik} - {data}\")\n",
    "                print('------------------------------------')\n",
    "                break\n",
    "        "
   ]
  },
  {
   "cell_type": "markdown",
   "metadata": {},
   "source": [
    "## Create a POC model for finding most similar company by industry"
   ]
  },
  {
   "cell_type": "code",
   "execution_count": 20,
   "metadata": {},
   "outputs": [],
   "source": [
    "# Take into account only companies on time\n",
    "for year_q_k, list_of_data in dict_of_res.items():\n",
    "    dict_of_industry_cik_list_values = defaultdict(lambda: defaultdict(list))\n",
    "    for input_data in list_of_data:\n",
    "        list_of_current_values_to_add = []\n",
    "        for kpi in input_data[\"fundamental_data\"]:\n",
    "            list_of_current_values_to_add.append((kpi, input_data['fundamental_data_imputed'].get(kpi, None)))\n",
    "        dict_of_industry_cik_list_values[input_data['industry']][input_data['cik']].append((input_data[\"is_filing_on_time\"], list_of_current_values_to_add))\n",
    "            \n",
    "    break\n",
    "    "
   ]
  },
  {
   "cell_type": "code",
   "execution_count": 21,
   "metadata": {},
   "outputs": [
    {
     "data": {
      "text/plain": [
       "defaultdict(<function __main__.<lambda>()>,\n",
       "            {'DRILLING OIL & GAS WELLS': defaultdict(list,\n",
       "                         {1537028: [(True,\n",
       "                            [('roe', -40.12059339607593),\n",
       "                             ('roa', -0.020523884510998562),\n",
       "                             ('roce', -0.019348522482754805),\n",
       "                             ('gross_margin', -0.2763886143506622),\n",
       "                             ('operating_profit_margin', -0.2763886143506622),\n",
       "                             ('net_profit_margin', -0.30979442577584504),\n",
       "                             ('debt_to_equity', 0.2144316862545524),\n",
       "                             ('equity', 0.823430425373794),\n",
       "                             ('debt', 0.12314985480391162),\n",
       "                             ('current', 1.8327534639565404),\n",
       "                             ('quick', 1.1941036440212416),\n",
       "                             ('cash', 0.4448513703228957),\n",
       "                             ('times_interest_earned', -44.744),\n",
       "                             ('capex_to_operating_cash', -0.1642567958357432),\n",
       "                             ('operating_cash_flow', -0.08667521211011414),\n",
       "                             ('price_to_earnings', -528.5781078735315),\n",
       "                             ('ev_ebitda', 21164.45669784284),\n",
       "                             ('ev_ebit', -597.8873874949345),\n",
       "                             ('ev_revenue', 165.24926656746237)])],\n",
       "                          1163739: [(True,\n",
       "                            [('roe', -21.33080062288568),\n",
       "                             ('roa', -0.018403737867051944),\n",
       "                             ('roce', -0.016122396674997198),\n",
       "                             ('gross_margin', 0.09617456226113234),\n",
       "                             ('operating_profit_margin', -0.2098924540040885),\n",
       "                             ('net_profit_margin', -0.2648369033863657),\n",
       "                             ('debt_to_equity', 1.5446816625067497),\n",
       "                             ('equity', 0.39256646315793636),\n",
       "                             ('debt', 0.07004238996594572),\n",
       "                             ('current', 1.4548790965840686),\n",
       "                             ('quick', 0.9629261490651838),\n",
       "                             ('cash', 0.2600767965746084),\n",
       "                             ('times_interest_earned', -2.0891574365688808),\n",
       "                             ('capex_to_operating_cash', -0.31615302000250783),\n",
       "                             ('operating_cash_flow', -0.07515204451764987),\n",
       "                             ('price_to_earnings', -827.2112876415122),\n",
       "                             ('ev_ebitda', 1432.4835550068149),\n",
       "                             ('ev_ebit', -1046.856434283151),\n",
       "                             ('ev_revenue', 219.7272659816604)])],\n",
       "                          1451505: [(True,\n",
       "                            [('roe', 174.72527472527472),\n",
       "                             ('roa', 0.0034060710409102818),\n",
       "                             ('roce', 0.007364501448076127),\n",
       "                             ('gross_margin', 0.2178343949044586),\n",
       "                             ('operating_profit_margin', 0.2267515923566879),\n",
       "                             ('net_profit_margin', 0.1159235668789809),\n",
       "                             ('debt_to_equity', 0.680314465408805),\n",
       "                             ('equity', 0.5951266983568514),\n",
       "                             ('debt', 0.3172137590298312),\n",
       "                             ('current', 1.9909697683549274),\n",
       "                             ('quick', 1.5480957989791913),\n",
       "                             ('cash', 1.2143698468786808),\n",
       "                             ('times_interest_earned', 1.4015748031496063),\n",
       "                             ('capex_to_operating_cash', 1.4836065573770492),\n",
       "                             ('operating_cash_flow', 0.07106399685904986),\n",
       "                             ('price_to_earnings', 47.94813984302212),\n",
       "                             ('ev_ebitda', 23.768977379792716),\n",
       "                             ('ev_ebit', 54.74876812199446),\n",
       "                             ('ev_revenue', 12.414370351229316)])]}),\n",
       "             'MINING & QUARRYING OF NONMETALLIC MINERALS (NO FUELS)': defaultdict(list,\n",
       "                         {1524741: [(True,\n",
       "                            [('roe', 505.11340206185565),\n",
       "                             ('roa', 0.0012082942067035895),\n",
       "                             ('roce', 0.004289965975606972),\n",
       "                             ('gross_margin', 0.11283026040676677),\n",
       "                             ('operating_profit_margin', 0.03570930748273459),\n",
       "                             ('net_profit_margin', 0.01065281209740438),\n",
       "                             ('debt_to_equity', 0.638469702393288),\n",
       "                             ('equity', 0.6103255974396811),\n",
       "                             ('debt', 0.24554818803779152),\n",
       "                             ('current', 7.582906642651915),\n",
       "                             ('quick', 6.856520433980874),\n",
       "                             ('cash', 5.668364852695227),\n",
       "                             ('times_interest_earned', 1.105676170546691),\n",
       "                             ('capex_to_operating_cash', -0.9810012062726177),\n",
       "                             ('operating_cash_flow', -0.16739997426990866),\n",
       "                             ('price_to_earnings', 1198.2332195319636),\n",
       "                             ('ev_ebitda', 274.8765237860735),\n",
       "                             ('ev_ebit', 339.9052732031716),\n",
       "                             ('ev_revenue', 12.13778191581496)])],\n",
       "                          1065059: [(True,\n",
       "                            [('roe', 1.3421052631578947),\n",
       "                             ('roa', 0.013878743608473338),\n",
       "                             ('roce', -0.07507037847982484),\n",
       "                             ('gross_margin', -0.4027777777777778),\n",
       "                             ('operating_profit_margin', -3.3333333333333335),\n",
       "                             ('net_profit_margin', 1.0555555555555556),\n",
       "                             ('debt_to_equity', 102.00980392156863),\n",
       "                             ('equity', 0.01862673484295106),\n",
       "                             ('debt', 0.30350620891161434),\n",
       "                             ('current', 1.7762176393154891),\n",
       "                             ('quick', 0.6910925844668714),\n",
       "                             ('cash', 0.6656428258007898),\n",
       "                             ('times_interest_earned', -8.275862068965518),\n",
       "                             ('capex_to_operating_cash', None),\n",
       "                             ('operating_cash_flow', -0.3203159280386134),\n",
       "                             ('price_to_earnings', 4.925112469437653),\n",
       "                             ('ev_ebitda', 4.515726501541406),\n",
       "                             ('ev_ebit', -2.1637856153219235),\n",
       "                             ('ev_revenue', 7.212618717739745)])],\n",
       "                          916076: [(True,\n",
       "                            [('roe', 96.21977606651863),\n",
       "                             ('roa', 0.005725614911214017),\n",
       "                             ('roce', 0.011492209747874703),\n",
       "                             ('gross_margin', 0.17871034771883562),\n",
       "                             ('operating_profit_margin', 0.09443394678802093),\n",
       "                             ('net_profit_margin', 0.051442702036005275),\n",
       "                             ('debt_to_equity', 0.8145193363329805),\n",
       "                             ('equity', 0.5509173846001327),\n",
       "                             ('debt', 0.2497087082932152),\n",
       "                             ('current', 1.7785254877620107),\n",
       "                             ('quick', None),\n",
       "                             ('cash', 0.08774807697788643),\n",
       "                             ('times_interest_earned', 3.7270634501942355),\n",
       "                             ('capex_to_operating_cash', 0.7234928253097606),\n",
       "                             ('operating_cash_flow', 0.11695679573372517),\n",
       "                             ('price_to_earnings', 336.0528901979746),\n",
       "                             ('ev_ebitda', 206.1088756532505),\n",
       "                             ('ev_ebit', 206.1088756532505),\n",
       "                             ('ev_revenue', 19.463674595977878)])],\n",
       "                          67716: [(True,\n",
       "                            [('roe', 61.9934360348292),\n",
       "                             ('roa', 0.006070627789927166),\n",
       "                             ('roce', 0.012623986876955547),\n",
       "                             ('gross_margin', 0.9254481968174427),\n",
       "                             ('operating_profit_margin', 0.07443665538289308),\n",
       "                             ('net_profit_margin', 0.039795292800597064),\n",
       "                             ('debt_to_equity', 1.657178233332829),\n",
       "                             ('equity', 0.3763390755861063),\n",
       "                             ('debt', 0.2769809926326243),\n",
       "                             ('current', 1.5243061061365555),\n",
       "                             ('quick', 0.9787811026577826),\n",
       "                             ('cash', 0.08209095292491998),\n",
       "                             ('times_interest_earned', 3.438703639856179),\n",
       "                             ('capex_to_operating_cash', 1.1966784667293544),\n",
       "                             ('operating_cash_flow', 0.14002304080358038),\n",
       "                             ('price_to_earnings', 118.41637991511222),\n",
       "                             ('ev_ebitda', 86.2327081960288),\n",
       "                             ('ev_ebit', 86.97379369101014),\n",
       "                             ('ev_revenue', 6.474038308320563)])],\n",
       "                          1421461: [(True,\n",
       "                            [('roe', -29.831919871326217),\n",
       "                             ('roa', -0.02537281039398532),\n",
       "                             ('roce', -0.017915545976844565),\n",
       "                             ('gross_margin', -0.05932454282526019),\n",
       "                             ('operating_profit_margin', -0.2106989137118262),\n",
       "                             ('net_profit_margin', -0.31149370317232583),\n",
       "                             ('debt_to_equity', 0.321144198744734),\n",
       "                             ('equity', 0.756919646583723),\n",
       "                             ('debt', 0.16509578337949213),\n",
       "                             ('current', 6.032129932032836),\n",
       "                             ('quick', 1.8609321211051284),\n",
       "                             ('cash', 0.9166740224203372),\n",
       "                             ('times_interest_earned', -2.0927391992761817),\n",
       "                             ('capex_to_operating_cash', -0.7053239785390012),\n",
       "                             ('operating_cash_flow', -0.07542589813752316),\n",
       "                             ('price_to_earnings', -218.98671052367217),\n",
       "                             ('ev_ebitda', -281.91131191154756),\n",
       "                             ('ev_ebit', -331.1208632233882),\n",
       "                             ('ev_revenue', 69.76680618849007)])],\n",
       "                          1529628: [(True,\n",
       "                            [('roe', 173.1217750257998),\n",
       "                             ('roa', 0.004823847429023731),\n",
       "                             ('roce', 0.008407215743833539),\n",
       "                             ('gross_margin', 0.21537172273434693),\n",
       "                             ('operating_profit_margin', 0.06217327108025061),\n",
       "                             ('net_profit_margin', 0.038668741769424156),\n",
       "                             ('debt_to_equity', 0.19744269917439122),\n",
       "                             ('equity', 0.8351130293662291),\n",
       "                             ('debt', 0.002817644628304883),\n",
       "                             ('current', 6.112082262210797),\n",
       "                             ('quick', 5.379691516709512),\n",
       "                             ('cash', 4.670372750642674),\n",
       "                             ('times_interest_earned', 7.179723502304148),\n",
       "                             ('capex_to_operating_cash', 2.712261244608749),\n",
       "                             ('operating_cash_flow', 0.2829048843187661),\n",
       "                             ('price_to_earnings', 525.4370185749431),\n",
       "                             ('ev_ebitda', 241.59395854014363),\n",
       "                             ('ev_ebit', 280.5157066746597),\n",
       "                             ('ev_revenue', 17.44057907335168)])],\n",
       "                          1396009: [(True,\n",
       "                            [('roe', 100.63803121034705),\n",
       "                             ('roa', 0.005137160974364628),\n",
       "                             ('roce', 0.008396090094908692),\n",
       "                             ('gross_margin', 0.2009594476507885),\n",
       "                             ('operating_profit_margin', 0.08940111364005852),\n",
       "                             ('net_profit_margin', 0.057055001219313936),\n",
       "                             ('debt_to_equity', 0.9342592983791889),\n",
       "                             ('equity', 0.5169937664706843),\n",
       "                             ('debt', 0.2663884595310055),\n",
       "                             ('current', 3.208003369373064),\n",
       "                             ('quick', 2.094192819023658),\n",
       "                             ('cash', 0.7951193966162184),\n",
       "                             ('times_interest_earned', 2.0656180302852447),\n",
       "                             ('capex_to_operating_cash', 0.7077926959450317),\n",
       "                             ('operating_cash_flow', 0.2608825762403782),\n",
       "                             ('price_to_earnings', 365.08862653705603),\n",
       "                             ('ev_ebitda', 243.2351585644153),\n",
       "                             ('ev_ebit', 262.01307314700085),\n",
       "                             ('ev_revenue', 23.42426052759599)])],\n",
       "                          1385849: [(True,\n",
       "                            [('roe', 78.38516320474777),\n",
       "                             ('roa', 0.008577027818075386),\n",
       "                             ('roce', -0.044061665755145585),\n",
       "                             ('gross_margin', 0.44861554845580404),\n",
       "                             ('operating_profit_margin', -2.1664004259850906),\n",
       "                             ('net_profit_margin', 0.44861554845580404),\n",
       "                             ('debt_to_equity', 0.4597400040884622),\n",
       "                             ('equity', 0.6723117253315009),\n",
       "                             ('debt', 0.11824590873227965),\n",
       "                             ('current', 3.0218129349855714),\n",
       "                             ('quick', None),\n",
       "                             ('cash', 1.0324223391614327),\n",
       "                             ('times_interest_earned', -15.012915129151292),\n",
       "                             ('capex_to_operating_cash', None),\n",
       "                             ('operating_cash_flow', -0.7704973688677644),\n",
       "                             ('price_to_earnings', 70.10523637526572),\n",
       "                             ('ev_ebitda', -82.39370107928747),\n",
       "                             ('ev_ebit', -15.877267210559511),\n",
       "                             ('ev_revenue', 34.39651844843524)])],\n",
       "                          1227654: [(True,\n",
       "                            [('roe', 33.95813953488372),\n",
       "                             ('roa', 0.009254078250763999),\n",
       "                             ('roce', 0.020481689862797355),\n",
       "                             ('gross_margin', 0.2181234963913392),\n",
       "                             ('operating_profit_margin', 0.11093290564020315),\n",
       "                             ('net_profit_margin', 0.05747126436781609),\n",
       "                             ('debt_to_equity', 2.1821668264621286),\n",
       "                             ('equity', 0.31425128050617657),\n",
       "                             ('debt', 0.5300219515344553),\n",
       "                             ('current', 1.844833389431168),\n",
       "                             ('quick', 0.9262874453046113),\n",
       "                             ('cash', 0.16459104678559408),\n",
       "                             ('times_interest_earned', 3.0291970802919708),\n",
       "                             ('capex_to_operating_cash', 11.771428571428572),\n",
       "                             ('operating_cash_flow', 0.8320430831369909),\n",
       "                             ('price_to_earnings', 86.22763827247523),\n",
       "                             ('ev_ebitda', 66.58759260653986),\n",
       "                             ('ev_ebit', 73.16612585200524),\n",
       "                             ('ev_revenue', 8.116530935199725)])]}),\n",
       "             'CRUDE PETROLEUM & NATURAL GAS': defaultdict(list,\n",
       "                         {10254: [(True,\n",
       "                            [('roe', 334.0150891632373),\n",
       "                             ('roa', 0.0023941358450412817),\n",
       "                             ('roce', -0.012340664159950537),\n",
       "                             ('gross_margin', 0.4273610115362054),\n",
       "                             ('operating_profit_margin', -0.22375024441113212),\n",
       "                             ('net_profit_margin', 0.04751352408264355),\n",
       "                             ('debt_to_equity', 0.2505041129870183),\n",
       "                             ('equity', 0.7996774977503662),\n",
       "                             ('debt', 0.04566920858867498),\n",
       "                             ('current', 0.8168617910901627),\n",
       "                             ('quick', 0.7918123764634332),\n",
       "                             ('cash', 0.38034058081192035),\n",
       "                             ('times_interest_earned', -43.45569620253165),\n",
       "                             ('capex_to_operating_cash', 1.0475047984644914),\n",
       "                             ('operating_cash_flow', 0.16595712330849932),\n",
       "                             ('price_to_earnings', 440.475508279755),\n",
       "                             ('ev_ebitda', 316.15432445130483),\n",
       "                             ('ev_ebit', -94.67132115815362),\n",
       "                             ('ev_revenue', 21.182731247861653)])],\n",
       "                          1602065: [(True,\n",
       "                            [('roe', 33.49399573891149),\n",
       "                             ('roa', 0.029818507342006095),\n",
       "                             ('roce', 0.031009746746506524),\n",
       "                             ('gross_margin', 0.8443386080811185),\n",
       "                             ('operating_profit_margin', 0.3295437087110155),\n",
       "                             ('net_profit_margin', 0.31728376094638194),\n",
       "                             ('debt_to_equity', 0.0012606293316062326),\n",
       "                             ('equity', 0.998740957853853),\n",
       "                             ('debt', None),\n",
       "                             ('current', 51.5355504587156),\n",
       "                             ('quick', 43.325688073394495),\n",
       "                             ('cash', 32.75573394495413),\n",
       "                             ('times_interest_earned', 35.049019607843135),\n",
       "                             ('capex_to_operating_cash', 5.088005595057699),\n",
       "                             ('operating_cash_flow', 50.05733944954128),\n",
       "                             ('price_to_earnings', 61.0980352280074),\n",
       "                             ('ev_ebitda', None),\n",
       "                             ('ev_ebit', None),\n",
       "                             ('ev_revenue', None)])],\n",
       "                          1038357: [(True,\n",
       "                            [('roe', -246.21428571428572),\n",
       "                             ('roa', -0.0026668359895866403),\n",
       "                             ('roce', -0.00182469419476921),\n",
       "                             ('gross_margin', 0.32076923076923075),\n",
       "                             ('operating_profit_margin', -0.02076923076923077),\n",
       "                             ('net_profit_margin', -0.03230769230769231),\n",
       "                             ('debt_to_equity', 0.5229668310608259),\n",
       "                             ('equity', 0.656613118293225),\n",
       "                             ('debt', 0.2714458060829259),\n",
       "                             ('current', 3.088235294117647),\n",
       "                             ('quick', 2.948529411764706),\n",
       "                             ('cash', 0.6964285714285714),\n",
       "                             ('times_interest_earned', -0.5869565217391305),\n",
       "                             ('capex_to_operating_cash', 0.7013487475915221),\n",
       "                             ('operating_cash_flow', 0.38235294117647056),\n",
       "                             ('price_to_earnings', -636.7584842293446),\n",
       "                             ('ev_ebitda', -1124.2909754678694),\n",
       "                             ('ev_ebit', -1124.2909754678694),\n",
       "                             ('ev_revenue', 23.35065872125575)])],\n",
       "                          56868: [(False,\n",
       "                            [('roe', None),\n",
       "                             ('roa', None),\n",
       "                             ('roce', None),\n",
       "                             ('gross_margin', None),\n",
       "                             ('operating_profit_margin', None),\n",
       "                             ('net_profit_margin', None),\n",
       "                             ('debt_to_equity', None),\n",
       "                             ('equity', None),\n",
       "                             ('debt', None),\n",
       "                             ('current', None),\n",
       "                             ('quick', None),\n",
       "                             ('cash', None),\n",
       "                             ('times_interest_earned', None),\n",
       "                             ('capex_to_operating_cash', None),\n",
       "                             ('operating_cash_flow', None),\n",
       "                             ('price_to_earnings', None),\n",
       "                             ('ev_ebitda', None),\n",
       "                             ('ev_ebit', None),\n",
       "                             ('ev_revenue', None)]),\n",
       "                           (True,\n",
       "                            [('roe', 3.630219312015069),\n",
       "                             ('roa', 0.09789003231244732),\n",
       "                             ('roce', 0.20315433929980112),\n",
       "                             ('gross_margin', 0.5571184371184371),\n",
       "                             ('operating_profit_margin', 1.786031746031746),\n",
       "                             ('net_profit_margin', 1.088986568986569),\n",
       "                             ('debt_to_equity', 1.6551523911888613),\n",
       "                             ('equity', 0.3553622857544254),\n",
       "                             ('debt', 0.0031522197246417532),\n",
       "                             ('current', 0.5199288256227758),\n",
       "                             ('quick', 0.502114297676366),\n",
       "                             ('cash', 0.25141302072430394),\n",
       "                             ('times_interest_earned', 60.444628099173556),\n",
       "                             ('capex_to_operating_cash', 0.3333510018021838),\n",
       "                             ('operating_cash_flow', 0.13165166422440863),\n",
       "                             ('price_to_earnings', 4.496990472497699),\n",
       "                             ('ev_ebitda', -37.338395537256055),\n",
       "                             ('ev_ebit', 2.433137262853269),\n",
       "                             ('ev_revenue', 4.345660393908727)])],\n",
       "                          77877: [(True,\n",
       "                            [('roe', 57.88534217483639),\n",
       "                             ('roa', 0.010046743723778773),\n",
       "                             ('roce', 0.021506389954219128),\n",
       "                             ('gross_margin', 0.8681546325084853),\n",
       "                             ('operating_profit_margin', 0.3359176053224799),\n",
       "                             ('net_profit_margin', 0.1685963457273654),\n",
       "                             ('debt_to_equity', 0.7195154046324898),\n",
       "                             ('equity', 0.5815591981938243),\n",
       "                             ('debt', 0.22783178355500497),\n",
       "                             ('current', 1.2949506575843917),\n",
       "                             ('quick', 1.1950299073532464),\n",
       "                             ('cash', 0.6529426193935506),\n",
       "                             ('times_interest_earned', 4.723018441465044),\n",
       "                             ('capex_to_operating_cash', 1.0677627500057407),\n",
       "                             ('operating_cash_flow', 0.4387040775892975),\n",
       "                             ('price_to_earnings', 75.8108733292207),\n",
       "                             ('ev_ebitda', 47.172765307312346),\n",
       "                             ('ev_ebit', 47.172765307312346),\n",
       "                             ('ev_revenue', 15.84616235847172)])],\n",
       "                          351817: [(True,\n",
       "                            [('roe', 7.587916431394692),\n",
       "                             ('roa', 0.8199074074074074),\n",
       "                             ('roce', -0.4238477750825148),\n",
       "                             ('gross_margin', 0.6586969515839809),\n",
       "                             ('operating_profit_margin', 0.3539383675366939),\n",
       "                             ('net_profit_margin', 0.2940492794049279),\n",
       "                             ('debt_to_equity', 1.990720483398074),\n",
       "                             ('equity', 6.221388888888889),\n",
       "                             ('debt', 7.962962962962963),\n",
       "                             ('current', 0.20168581522797452),\n",
       "                             ('quick', 0.20402258881130553),\n",
       "                             ('cash', 0.002336773583331015),\n",
       "                             ('times_interest_earned', 5.909897421680067),\n",
       "                             ('capex_to_operating_cash', 0.46173820671204313),\n",
       "                             ('operating_cash_flow', 0.16324032603555233),\n",
       "                             ('price_to_earnings', 17.562534139401578),\n",
       "                             ('ev_ebitda', 23.859298330309414),\n",
       "                             ('ev_ebit', 22.65161512449228),\n",
       "                             ('ev_revenue', 8.017275679232283)])],\n",
       "                          1273441: [(True,\n",
       "                            [('roe', 78.06303343512646),\n",
       "                             ('roa', 0.008916471699575436),\n",
       "                             ('roce', 0.027070064937854122),\n",
       "                             ('gross_margin', 0.8953623466462017),\n",
       "                             ('operating_profit_margin', 0.36945608032488086),\n",
       "                             ('net_profit_margin', 0.13612381287372494),\n",
       "                             ('debt_to_equity', 0.4366849458795538),\n",
       "                             ('equity', 0.6960468284073161),\n",
       "                             ('debt', 0.1348599762758039),\n",
       "                             ('current', 0.7750958258143548),\n",
       "                             ('quick', 0.6382591973023881),\n",
       "                             ('cash', 0.17595068428193206),\n",
       "                             ('times_interest_earned', 11.19935379644588),\n",
       "                             ('capex_to_operating_cash', 1.0819540727902945),\n",
       "                             ('operating_cash_flow', 0.3289229310185856),\n",
       "                             ('price_to_earnings', 77.99036620988988),\n",
       "                             ('ev_ebitda', 19.154028124345093),\n",
       "                             ('ev_ebit', 33.536955942141354),\n",
       "                             ('ev_revenue', 12.390432288411768)])],\n",
       "                          893538: [(True,\n",
       "                            [('roe', 35.13871349114652),\n",
       "                             ('roa', 0.011630843157219049),\n",
       "                             ('roce', 0.0274374597165867),\n",
       "                             ('gross_margin', 0.5512397448073446),\n",
       "                             ('operating_profit_margin', 0.44506597127204633),\n",
       "                             ('net_profit_margin', 0.19969522828367378),\n",
       "                             ('debt_to_equity', 1.4489521184164496),\n",
       "                             ('equity', 0.4086928653619821),\n",
       "                             ('debt', 0.452927383561875),\n",
       "                             ('current', 2.4033438476880207),\n",
       "                             ('quick', 2.1712802523445127),\n",
       "                             ('cash', 1.864709959404218),\n",
       "                             ('times_interest_earned', 3.5331714693416822),\n",
       "                             ('capex_to_operating_cash', 1.075523080006623),\n",
       "                             ('operating_cash_flow', 0.6983012008996139),\n",
       "                             ('price_to_earnings', 31.106038577452814),\n",
       "                             ('ev_ebitda', 27.45626925472517),\n",
       "                             ('ev_ebit', 27.45626925472517),\n",
       "                             ('ev_revenue', 12.219851143361081)])],\n",
       "                          1104485: [(True,\n",
       "                            [('roe', -27.749456023288065),\n",
       "                             ('roa', 0.037708896692292174),\n",
       "                             ('roce', 0.09217706558249496),\n",
       "                             ('gross_margin', 0.7671148695409247),\n",
       "                             ('operating_profit_margin', 0.5051036249123267),\n",
       "                             ('net_profit_margin', 0.25738885668588773),\n",
       "                             ('debt_to_equity', -1.9556562407505802),\n",
       "                             ('equity', -1.0464013704494743),\n",
       "                             ('debt', 1.8329668140990778),\n",
       "                             ('current', 0.543964605557179),\n",
       "                             ('quick', 0.46130730277350973),\n",
       "                             ('cash', 0.06229774085647737),\n",
       "                             ('times_interest_earned', 2.039053337549118),\n",
       "                             ('capex_to_operating_cash', 1.4659218495516653),\n",
       "                             ('operating_cash_flow', 0.33544680011504113),\n",
       "                             ('price_to_earnings', 74.44087504100429),\n",
       "                             ('ev_ebitda', 62.45341099304982),\n",
       "                             ('ev_ebit', 62.53696067408127),\n",
       "                             ('ev_revenue', 31.587645527478077)])],\n",
       "                          1509991: [(True,\n",
       "                            [('roe', -36.798724038694914),\n",
       "                             ('roa', -0.009060809305794539),\n",
       "                             ('roce', 0.002451470018817622),\n",
       "                             ('gross_margin', 0.5513930747667242),\n",
       "                             ('operating_profit_margin', 0.04578655751944514),\n",
       "                             ('net_profit_margin', -0.1897858731558375),\n",
       "                             ('debt_to_equity', 1.999164241994814),\n",
       "                             ('equity', 0.33342622121117205),\n",
       "                             ('debt', 0.36904144422533236),\n",
       "                             ('current', 1.5831409244906482),\n",
       "                             ('quick', 1.0261753376340095),\n",
       "                             ('cash', 0.44436000371281387),\n",
       "                             ('times_interest_earned', 0.5107913669064749),\n",
       "                             ('capex_to_operating_cash', -0.947040304229918),\n",
       "                             ('operating_cash_flow', -0.08812711746414814),\n",
       "                             ('price_to_earnings', -88.26130991476445),\n",
       "                             ('ev_ebitda', 90.40061430512752),\n",
       "                             ('ev_ebit', 512.6512560005349),\n",
       "                             ('ev_revenue', 23.472536220284287)])],\n",
       "                          717423: [(True,\n",
       "                            [('roe', 84.76039316239316),\n",
       "                             ('roa', 0.005695100665528491),\n",
       "                             ('roce', 0.022773634273726626),\n",
       "                             ('gross_margin', 0.6912228068101206),\n",
       "                             ('operating_profit_margin', 0.29629344998817686),\n",
       "                             ('net_profit_margin', 0.0864566091274533),\n",
       "                             ('debt_to_equity', 1.0715987127514606),\n",
       "                             ('equity', 0.4827189715096018),\n",
       "                             ('debt', 0.2905024120454981),\n",
       "                             ('current', 1.0961475478483966),\n",
       "                             ('quick', 0.9589336866739432),\n",
       "                             ('cash', 0.5963664565188823),\n",
       "                             ('times_interest_earned', 4.495459335829764),\n",
       "                             ('capex_to_operating_cash', 1.4436117582017758),\n",
       "                             ('operating_cash_flow', 0.20802315597532153),\n",
       "                             ('price_to_earnings', 67.64431195437479),\n",
       "                             ('ev_ebitda', 28.822217387918347),\n",
       "                             ('ev_ebit', 30.253667371615315),\n",
       "                             ('ev_revenue', 8.96396348033064)])],\n",
       "                          1001614: [(True,\n",
       "                            [('roe', -26.248826291079812),\n",
       "                             ('roa', -0.025591733749849813),\n",
       "                             ('roce', -0.02001039501039501),\n",
       "                             ('gross_margin', 0.6368899917287014),\n",
       "                             ('operating_profit_margin', -0.1273779983457403),\n",
       "                             ('net_profit_margin', -0.1761786600496278),\n",
       "                             ('debt_to_equity', 0.48864246109819354),\n",
       "                             ('equity', 0.6717529736873723),\n",
       "                             ('debt', 0.010452961672473868),\n",
       "                             ('current', 2.577352472089314),\n",
       "                             ('quick', 1.2185007974481659),\n",
       "                             ('cash', 0.36363636363636365),\n",
       "                             ('times_interest_earned', -9.625),\n",
       "                             ('capex_to_operating_cash', -12.571428571428571),\n",
       "                             ('operating_cash_flow', -0.14035087719298245),\n",
       "                             ('price_to_earnings', -390.5700814083549),\n",
       "                             ('ev_ebitda', 1661.0085467995918),\n",
       "                             ('ev_ebit', -539.2884892206467),\n",
       "                             ('ev_revenue', 68.69348828782431)])],\n",
       "                          894627: [(True,\n",
       "                            [('roe', 0.9570321671753933),\n",
       "                             ('roa', 0.05323949648111804),\n",
       "                             ('roce', 0.26334137838562616),\n",
       "                             ('gross_margin', 0.4579140411925139),\n",
       "                             ('operating_profit_margin', 0.369415969152638),\n",
       "                             ('net_profit_margin', 0.20027273582243957),\n",
       "                             ('debt_to_equity', 18.626349362119726),\n",
       "                             ('equity', 0.05095191069665112),\n",
       "                             ('debt', 0.18693200995037315),\n",
       "                             ('current', 0.767387620851191),\n",
       "                             ('quick', 0.6127977673676867),\n",
       "                             ('cash', 0.48330509319246484),\n",
       "                             ('times_interest_earned', 19.49379652605459),\n",
       "                             ('capex_to_operating_cash', 5.3359375),\n",
       "                             ('operating_cash_flow', 0.08169042160869132),\n",
       "                             ('price_to_earnings', 15.286444247037268),\n",
       "                             ('ev_ebitda', 5.739225300579098),\n",
       "                             ('ev_ebit', 7.104629079446503),\n",
       "                             ('ev_revenue', 2.6245634368537445)])],\n",
       "                          7332: [(True,\n",
       "                            [('roe', 3.641025641025641),\n",
       "                             ('roa', 0.04877709838799333),\n",
       "                             ('roce', 0.04378600823045267),\n",
       "                             ('gross_margin', 0.5189125295508275),\n",
       "                             ('operating_profit_margin', 0.3144208037825059),\n",
       "                             ('net_profit_margin', 0.4148936170212766),\n",
       "                             ('debt_to_equity', 4.630672926447574),\n",
       "                             ('equity', 0.17759866592551418),\n",
       "                             ('debt', 0.6803779877709839),\n",
       "                             ('current', 1.5958965209634255),\n",
       "                             ('quick', 1.5093666369313112),\n",
       "                             ('cash', 1.2328278322925958),\n",
       "                             ('times_interest_earned', 8.3125),\n",
       "                             ('capex_to_operating_cash', 0.9176470588235294),\n",
       "                             ('operating_cash_flow', 0.2783229259589652),\n",
       "                             ('price_to_earnings', 10.584618447328278),\n",
       "                             ('ev_ebitda', 12.817732402503948),\n",
       "                             ('ev_ebit', 27.177447650421904),\n",
       "                             ('ev_revenue', 8.545154935002632)])],\n",
       "                          844965: [(True,\n",
       "                            [('roe', -95.24076329679252),\n",
       "                             ('roa', -0.0018821440088521138),\n",
       "                             ('roce', 0.009418634087099823),\n",
       "                             ('gross_margin', None),\n",
       "                             ('operating_profit_margin', None),\n",
       "                             ('net_profit_margin', None),\n",
       "                             ('debt_to_equity', 4.5397053432120655),\n",
       "                             ('equity', 0.17925683203756035),\n",
       "                             ('debt', 0.489369668978018),\n",
       "                             ('current', 2.849248798076923),\n",
       "                             ('quick', 1.4110376602564103),\n",
       "                             ('cash', 0.1284855769230769),\n",
       "                             ('times_interest_earned', 0.8269775550228808),\n",
       "                             ('capex_to_operating_cash', -4.058893280632411),\n",
       "                             ('operating_cash_flow', -0.20570913461538462),\n",
       "                             ('price_to_earnings', -156.48896288439033),\n",
       "                             ('ev_ebitda', 24.784701399105824),\n",
       "                             ('ev_ebit', 88.97675147863445),\n",
       "                             ('ev_revenue', None)])],\n",
       "                          1433270: [(True,\n",
       "                            [('roe', 28.46055455371913),\n",
       "                             ('roa', 0.018026881409158948),\n",
       "                             ('roce', 0.03539253684623844),\n",
       "                             ('gross_margin', 0.6866672967658348),\n",
       "                             ('operating_profit_margin', 0.41933071758537077),\n",
       "                             ('net_profit_margin', 0.22449039335752802),\n",
       "                             ('debt_to_equity', 0.8685643982044586),\n",
       "                             ('equity', 0.5130550417787935),\n",
       "                             ('debt', 0.32073429874856385),\n",
       "                             ('current', 0.6962578583316285),\n",
       "                             ('quick', None),\n",
       "                             ('cash', None),\n",
       "                             ('times_interest_earned', 7.519769011549423),\n",
       "                             ('capex_to_operating_cash', 0.7631016167087019),\n",
       "                             ('operating_cash_flow', 0.544538839648566),\n",
       "                             ('price_to_earnings', 24.851316851780997),\n",
       "                             ('ev_ebitda', None),\n",
       "                             ('ev_ebit', None),\n",
       "                             ('ev_revenue', None)])],\n",
       "                          1658566: [(True,\n",
       "                            [('roe', 221.3898384234613),\n",
       "                             ('roa', 0.004034658800583023),\n",
       "                             ('roce', 0.0027942717429269995),\n",
       "                             ('gross_margin', -0.021737742594484168),\n",
       "                             ('operating_profit_margin', 0.05739274770173647),\n",
       "                             ('net_profit_margin', 0.08544273493360573),\n",
       "                             ('debt_to_equity', 0.03691496151949379),\n",
       "                             ('equity', 0.8932324599548715),\n",
       "                             ('debt', None),\n",
       "                             ('current', 1.0142269047410504),\n",
       "                             ('quick', 0.9623744040841352),\n",
       "                             ('cash', 0.6866202029554924),\n",
       "                             ('times_interest_earned', 17.541463414634148),\n",
       "                             ('capex_to_operating_cash', 0.18882065569267595),\n",
       "                             ('operating_cash_flow', 0.2408438544025826),\n",
       "                             ('price_to_earnings', 314.36627289735503),\n",
       "                             ('ev_ebitda', None),\n",
       "                             ('ev_ebit', None),\n",
       "                             ('ev_revenue', None)])],\n",
       "                          1288403: [(True,\n",
       "                            [('roe', -26.042635499403268),\n",
       "                             ('roa', 0.028436512580456406),\n",
       "                             ('roce', 0.042703568161024705),\n",
       "                             ('gross_margin', 0.4867235294590532),\n",
       "                             ('operating_profit_margin', 0.22513324704766347),\n",
       "                             ('net_profit_margin', 0.1953405738265015),\n",
       "                             ('debt_to_equity', -2.866753053839225),\n",
       "                             ('equity', -0.7405617320070217),\n",
       "                             ('debt', 1.192491515506144),\n",
       "                             ('current', 1.0919476597886262),\n",
       "                             ('quick', 1.0057121288374433),\n",
       "                             ('cash', 0.6345998993457473),\n",
       "                             ('times_interest_earned', 2.4796352045333805),\n",
       "                             ('capex_to_operating_cash', 1.3339671778760696),\n",
       "                             ('operating_cash_flow', 0.16240563663814797),\n",
       "                             ('price_to_earnings', 12.042622324808159),\n",
       "                             ('ev_ebitda', 42.332179249081),\n",
       "                             ('ev_ebit', 42.332179249081),\n",
       "                             ('ev_revenue', 9.530380968949325)])],\n",
       "                          101594: [(False,\n",
       "                            [('roe', None),\n",
       "                             ('roa', None),\n",
       "                             ('roce', None),\n",
       "                             ('gross_margin', None),\n",
       "                             ('operating_profit_margin', None),\n",
       "                             ('net_profit_margin', None),\n",
       "                             ('debt_to_equity', None),\n",
       "                             ('equity', None),\n",
       "                             ('debt', None),\n",
       "                             ('current', None),\n",
       "                             ('quick', None),\n",
       "                             ('cash', None),\n",
       "                             ('times_interest_earned', None),\n",
       "                             ('capex_to_operating_cash', None),\n",
       "                             ('operating_cash_flow', None),\n",
       "                             ('price_to_earnings', None),\n",
       "                             ('ev_ebitda', None),\n",
       "                             ('ev_ebit', None),\n",
       "                             ('ev_revenue', None)]),\n",
       "                           (False,\n",
       "                            [('roe', -4.105405405405405),\n",
       "                             ('roa', -0.04532924961715161),\n",
       "                             ('roce', -0.15432873274780426),\n",
       "                             ('gross_margin', 0.3239839725243274),\n",
       "                             ('operating_profit_margin', -0.4224384659416142),\n",
       "                             ('net_profit_margin', -0.42358328563251285),\n",
       "                             ('debt_to_equity', 4.373601053324555),\n",
       "                             ('equity', 0.18609494640122512),\n",
       "                             ('debt', 0.3675344563552833),\n",
       "                             ('current', 0.40760634150567443),\n",
       "                             ('quick', 0.24456380490340465),\n",
       "                             ('cash', 0.187472927315256),\n",
       "                             ('times_interest_earned', -5.904),\n",
       "                             ('capex_to_operating_cash', -15.857142857142858),\n",
       "                             ('operating_cash_flow', -0.02884865286320714),\n",
       "                             ('price_to_earnings', -67.3656777023091),\n",
       "                             ('ev_ebitda', 42.94928119976699),\n",
       "                             ('ev_ebit', -72.74607249283028),\n",
       "                             ('ev_revenue', 30.730739267148678)])],\n",
       "                          821483: [(True,\n",
       "                            [('roe', 14.363492406247751),\n",
       "                             ('roa', 0.02308378651859015),\n",
       "                             ('roce', 0.04784477075447425),\n",
       "                             ('gross_margin', 0.1717694914358128),\n",
       "                             ('operating_profit_margin', 0.0617526885451208),\n",
       "                             ('net_profit_margin', 0.04590807480508151),\n",
       "                             ('debt_to_equity', 2.016010864336113),\n",
       "                             ('equity', 0.33156379236721384),\n",
       "                             ('debt', 0.29775309835823155),\n",
       "                             ('current', 1.0920146079728479),\n",
       "                             ('quick', 0.33709577784141875),\n",
       "                             ('cash', 0.10937518490730375),\n",
       "                             ('times_interest_earned', 4.179825542384254),\n",
       "                             ('capex_to_operating_cash', 3.297796543079562),\n",
       "                             ('operating_cash_flow', 0.05915613631898965),\n",
       "                             ('price_to_earnings', 27.499587588479674),\n",
       "                             ('ev_ebitda', 28.796488140343968),\n",
       "                             ('ev_ebit', 28.796488140343968),\n",
       "                             ('ev_revenue', 1.778260563323926)])],\n",
       "                          1539838: [(True,\n",
       "                            [('roe', 34.136380647670485),\n",
       "                             ('roa', 0.021393943199836726),\n",
       "                             ('roce', 0.01900375651096189),\n",
       "                             ('gross_margin', 0.8295038680687451),\n",
       "                             ('operating_profit_margin', 0.449383116381773),\n",
       "                             ('net_profit_margin', 0.5260612096786647),\n",
       "                             ('debt_to_equity', 0.2687828349348767),\n",
       "                             ('equity', 0.730311788624268),\n",
       "                             ('debt', 0.1547617627203793),\n",
       "                             ('current', 0.81441723447058),\n",
       "                             ('quick', 0.7244590669032118),\n",
       "                             ('cash', 0.15339924365650698),\n",
       "                             ('times_interest_earned', 136.63145539906102),\n",
       "                             ('capex_to_operating_cash', 0.26227273206361923),\n",
       "                             ('operating_cash_flow', 2.039066821267756),\n",
       "                             ('price_to_earnings', 68.51721142097934),\n",
       "                             ('ev_ebitda', 68.36191520368959),\n",
       "                             ('ev_ebit', 88.35488318848138),\n",
       "                             ('ev_revenue', 39.705192754787284)])],\n",
       "                          1362705: [(True,\n",
       "                            [('roe', -44.88458023240632),\n",
       "                             ('roa', -0.014494070091574364),\n",
       "                             ('roce', 0.0007267810031526318),\n",
       "                             ('gross_margin', 0.06859220866075907),\n",
       "                             ('operating_profit_margin', 0.01559103828791172),\n",
       "                             ('net_profit_margin', -0.3201387727804715),\n",
       "                             ('debt_to_equity', 0.5591105706996808),\n",
       "                             ('equity', 0.6505602519193904),\n",
       "                             ('debt', 0.3007514812943418),\n",
       "                             ('current', 0.9092164989145451),\n",
       "                             ('quick', 0.4406289059930268),\n",
       "                             ('cash', 0.1640023682652457),\n",
       "                             ('times_interest_earned', 0.1980881571959639),\n",
       "                             ('capex_to_operating_cash', 0.28919028426417587),\n",
       "                             ('operating_cash_flow', 0.8921123610288797),\n",
       "                             ('price_to_earnings', -16.846257331443308),\n",
       "                             ('ev_ebitda', 75.41782956447142),\n",
       "                             ('ev_ebit', 765.2988871354539),\n",
       "                             ('ev_revenue', 11.931804251025092)])],\n",
       "                          928022: [(True,\n",
       "                            [('roe', 37.76937766555624),\n",
       "                             ('roa', 0.02017872227828731),\n",
       "                             ('roce', 0.022135888485760286),\n",
       "                             ('gross_margin', 0.8090957385860564),\n",
       "                             ('operating_profit_margin', 0.5027030968427412),\n",
       "                             ('net_profit_margin', 0.49092196956281703),\n",
       "                             ('debt_to_equity', 0.3120987082823745),\n",
       "                             ('equity', 0.7621377825370069),\n",
       "                             ('debt', 0.16721164216667472),\n",
       "                             ('current', 0.7463917791118918),\n",
       "                             ('quick', 0.715737183818183),\n",
       "                             ('cash', 0.22696883706863824),\n",
       "                             ('times_interest_earned', 72.57142857142857),\n",
       "                             ('capex_to_operating_cash', 0.7963841944553617),\n",
       "                             ('operating_cash_flow', 0.33900224568718673),\n",
       "                             ('price_to_earnings', 521.2680558153008),\n",
       "                             ('ev_ebitda', 516.4132864177232),\n",
       "                             ('ev_ebit', 516.4132864177232),\n",
       "                             ('ev_revenue', 259.60255833292695)])],\n",
       "                          1528129: [(True,\n",
       "                            [('roe', 3.7042298904446658),\n",
       "                             ('roa', 0.03754324764818574),\n",
       "                             ('roce', 0.054940616243454386),\n",
       "                             ('gross_margin', 0.5374784826109903),\n",
       "                             ('operating_profit_margin', 0.44882437371450556),\n",
       "                             ('net_profit_margin', 0.33676131851654556),\n",
       "                             ('debt_to_equity', 6.19068443319758),\n",
       "                             ('equity', 0.13906882012277602),\n",
       "                             ('debt', 0.7421059982535978),\n",
       "                             ('current', 0.9402100594449749),\n",
       "                             ('quick', 0.7547417377644994),\n",
       "                             ('cash', 0.18697138633073582),\n",
       "                             ('times_interest_earned', 4.005105633802817),\n",
       "                             ('capex_to_operating_cash', 0.56209242482992),\n",
       "                             ('operating_cash_flow', 0.39291588382049464),\n",
       "                             ('price_to_earnings', 873.966464308722),\n",
       "                             ('ev_ebitda', 687.9806580539679),\n",
       "                             ('ev_ebit', 670.251146392614),\n",
       "                             ('ev_revenue', 300.8250510110944)])],\n",
       "                          1070412: [(True,\n",
       "                            [('roe', -96.5919776215162),\n",
       "                             ('roa', -0.004320148671830904),\n",
       "                             ('roce', -0.005579096291549205),\n",
       "                             ('gross_margin', -0.9499012419522872),\n",
       "                             ('operating_profit_margin', -0.14717413952326647),\n",
       "                             ('net_profit_margin', -0.12806010273466129),\n",
       "                             ('debt_to_equity', 1.3702709732682608),\n",
       "                             ('equity', 0.4172917038311135),\n",
       "                             ('debt', 0.2907400408244404),\n",
       "                             ('current', 0.6206532916888671),\n",
       "                             ('quick', 0.5057153706152698),\n",
       "                             ('cash', 0.054153249889963125),\n",
       "                             ('times_interest_earned', -1.0763351439696198),\n",
       "                             ('capex_to_operating_cash', 1.8746570128697622),\n",
       "                             ('operating_cash_flow', 0.21332045457063462),\n",
       "                             ('price_to_earnings', -96.06840322111171),\n",
       "                             ('ev_ebitda', -187.42185996537322),\n",
       "                             ('ev_ebit', -140.9493412512581),\n",
       "                             ('ev_revenue', 20.744098015025155)])],\n",
       "                          858470: [(True,\n",
       "                            [('roe', 25.60706583427923),\n",
       "                             ('roa', 0.02015869153845978),\n",
       "                             ('roce', 0.03787256277050585),\n",
       "                             ('gross_margin', 0.9031984597648322),\n",
       "                             ('operating_profit_margin', 0.3671383025357106),\n",
       "                             ('net_profit_margin', 0.20415454104815553),\n",
       "                             ('debt_to_equity', 0.9372150862576875),\n",
       "                             ('equity', 0.5162049413582671),\n",
       "                             ('debt', 0.2899995194863538),\n",
       "                             ('current', 3.3348024688607145),\n",
       "                             ('quick', 3.2543862385525526),\n",
       "                             ('cash', 2.3952628177989705),\n",
       "                             ('times_interest_earned', 159.8990748528175),\n",
       "                             ('capex_to_operating_cash', 1.2927000153562653),\n",
       "                             ('operating_cash_flow', 1.2004634684373539),\n",
       "                             ('price_to_earnings', 97.7934689656066),\n",
       "                             ('ev_ebitda', None),\n",
       "                             ('ev_ebit', 59.55244339913702),\n",
       "                             ('ev_revenue', 21.86398298141315)])],\n",
       "                          77159: [(True,\n",
       "                            [('roe', 7.561164501707325),\n",
       "                             ('roa', 0.09210760965075825),\n",
       "                             ('roce', 0.04600981711661784),\n",
       "                             ('gross_margin', -0.0028582861716115017),\n",
       "                             ('operating_profit_margin', 0.3322186017264048),\n",
       "                             ('net_profit_margin', 0.8119533527696793),\n",
       "                             ('debt_to_equity', 0.43587224731132734),\n",
       "                             ('equity', 0.6964407884284283),\n",
       "                             ('debt', 0.0888522134424518),\n",
       "                             ('current', 0.8049506192755104),\n",
       "                             ('quick', 1.0667670412790593),\n",
       "                             ('cash', 0.05613808678819164),\n",
       "                             ('times_interest_earned', 21.604089219330856),\n",
       "                             ('capex_to_operating_cash', 1.646637731807677),\n",
       "                             ('operating_cash_flow', 0.5236149199691706),\n",
       "                             ('price_to_earnings', 23.184311164049845),\n",
       "                             ('ev_ebitda', None),\n",
       "                             ('ev_ebit', 58.75141764064045),\n",
       "                             ('ev_revenue', 19.518313818017603)])],\n",
       "                          1520006: [(True,\n",
       "                            [('roe', 19.376705165514732),\n",
       "                             ('roa', 0.026081702189228728),\n",
       "                             ('roce', 0.0345200541377458),\n",
       "                             ('gross_margin', 0.7386250686130521),\n",
       "                             ('operating_profit_margin', 0.3889729553310487),\n",
       "                             ('net_profit_margin', 0.32625691693741005),\n",
       "                             ('debt_to_equity', 0.9787190603861475),\n",
       "                             ('equity', 0.5053774535354452),\n",
       "                             ('debt', 0.34035245639658135),\n",
       "                             ('current', 1.8527599294701294),\n",
       "                             ('quick', 1.7043722542661606),\n",
       "                             ('cash', 1.25342936553002),\n",
       "                             ('times_interest_earned', 6.202128917800119),\n",
       "                             ('capex_to_operating_cash', 0.27527759443598826),\n",
       "                             ('operating_cash_flow', 0.3664504946056603),\n",
       "                             ('price_to_earnings', 54.19733546637023),\n",
       "                             ('ev_ebitda', 31.107976037500887),\n",
       "                             ('ev_ebit', 52.4052442486094),\n",
       "                             ('ev_revenue', 20.38422273022704)])],\n",
       "                          101778: [(True,\n",
       "                            [('roe', -2.5386322372402663),\n",
       "                             ('roa', -0.20202143701348982),\n",
       "                             ('roce', 0.0033585222502099076),\n",
       "                             ('gross_margin', 0.7033582089552238),\n",
       "                             ('operating_profit_margin', 0.06716417910447761),\n",
       "                             ('net_profit_margin', -4.624067164179104),\n",
       "                             ('debt_to_equity', 0.9498569612205976),\n",
       "                             ('equity', 0.5128581326160492),\n",
       "                             ('debt', 0.29604271100786567),\n",
       "                             ('current', 1.207808970635689),\n",
       "                             ('quick', 1.0458212326556955),\n",
       "                             ('cash', 0.8034849951597289),\n",
       "                             ('times_interest_earned', None),\n",
       "                             ('capex_to_operating_cash', -12.812720848056538),\n",
       "                             ('operating_cash_flow', -1.170054856405292),\n",
       "                             ('price_to_earnings', -2.3416576151510147),\n",
       "                             ('ev_ebitda', -3.3275638428404584),\n",
       "                             ('ev_ebit', 227.52217775421636),\n",
       "                             ('ev_revenue', 15.281340296924979)])],\n",
       "                          1621434: [(True,\n",
       "                            [('roe', 12.146176704610038),\n",
       "                             ('roa', 0.05133105836185383),\n",
       "                             ('roce', 0.05643036190423286),\n",
       "                             ('gross_margin', 0.8245091586264468),\n",
       "                             ('operating_profit_margin', 0.5218651169510844),\n",
       "                             ('net_profit_margin', 0.49431699603474016),\n",
       "                             ('debt_to_equity', 0.603910705643598),\n",
       "                             ('equity', 0.6234761052977273),\n",
       "                             ('debt', 0.3234082562460303),\n",
       "                             ('current', 1.8930957683741647),\n",
       "                             ('quick', 1.8695423792915074),\n",
       "                             ('cash', 0.29425978064461905),\n",
       "                             ('times_interest_earned', 18.538637011690906),\n",
       "                             ('capex_to_operating_cash', 0.9678415230254696),\n",
       "                             ('operating_cash_flow', 1.3437408076648316),\n",
       "                             ('price_to_earnings', 35.02646033058589),\n",
       "                             ('ev_ebitda', 38.80161745421541),\n",
       "                             ('ev_ebit', 38.92993165482537),\n",
       "                             ('ev_revenue', 20.316173335943162)])],\n",
       "                          33213: [(True,\n",
       "                            [('roe', 36.70510146836431),\n",
       "                             ('roa', 0.010480989688887322),\n",
       "                             ('roce', 0.020832069369370165),\n",
       "                             ('gross_margin', 0.9509413970955589),\n",
       "                             ('operating_profit_margin', 0.3708532550062631),\n",
       "                             ('net_profit_margin', 0.19789974682077854),\n",
       "                             ('debt_to_equity', 1.0526128848281282),\n",
       "                             ('equity', 0.3847057900194892),\n",
       "                             ('debt', 0.21090825145938924),\n",
       "                             ('current', 1.399231958227111),\n",
       "                             ('quick', 1.3169770537461596),\n",
       "                             ('cash', 1.0051769055471795),\n",
       "                             ('times_interest_earned', 7.204595006447075),\n",
       "                             ('capex_to_operating_cash', 0.506055658386357),\n",
       "                             ('operating_cash_flow', 0.5753797459158664),\n",
       "                             ('price_to_earnings', 32.094828104955184),\n",
       "                             ('ev_ebitda', 14.212710810948595),\n",
       "                             ('ev_ebit', 24.938564229798416),\n",
       "                             ('ev_revenue', 9.248547719803502)])],\n",
       "                          315852: [(True,\n",
       "                            [('roe', None),\n",
       "                             ('roa', None),\n",
       "                             ('roce', None),\n",
       "                             ('gross_margin', None),\n",
       "                             ('operating_profit_margin', None),\n",
       "                             ('net_profit_margin', None),\n",
       "                             ('debt_to_equity', 1.0459998394977426),\n",
       "                             ('equity', 0.4887585916162548),\n",
       "                             ('debt', 0.327340086825612),\n",
       "                             ('current', 0.47147271344362046),\n",
       "                             ('quick', 0.4975787538822336),\n",
       "                             ('cash', 0.0008635989098054129),\n",
       "                             ('times_interest_earned', None),\n",
       "                             ('capex_to_operating_cash', None),\n",
       "                             ('operating_cash_flow', None),\n",
       "                             ('price_to_earnings', None),\n",
       "                             ('ev_ebitda', None),\n",
       "                             ('ev_ebit', None),\n",
       "                             ('ev_revenue', None)])],\n",
       "                          1090012: [(True,\n",
       "                            [('roe', 21.339933993399338),\n",
       "                             ('roa', 0.010581456259821896),\n",
       "                             ('roce', 0.0269826103573476),\n",
       "                             ('gross_margin', 0.4683333333333333),\n",
       "                             ('operating_profit_margin', 0.2941666666666667),\n",
       "                             ('net_profit_margin', 0.12625),\n",
       "                             ('debt_to_equity', 3.041756882152799),\n",
       "                             ('equity', 0.22580757813864152),\n",
       "                             ('debt', 0.36252837436703333),\n",
       "                             ('current', 1.5283400809716599),\n",
       "                             ('quick', 1.4615384615384615),\n",
       "                             ('cash', 0.8578947368421053),\n",
       "                             ('times_interest_earned', 6.247787610619469),\n",
       "                             ('capex_to_operating_cash', 1.1424196018376722),\n",
       "                             ('operating_cash_flow', 0.3020242914979757),\n",
       "                             ('price_to_earnings', 54.68794652907668),\n",
       "                             ('ev_ebitda', 54.81776555918374),\n",
       "                             ('ev_ebit', 35.173438807804864),\n",
       "                             ('ev_revenue', 10.34685324929593)])],\n",
       "                          1533924: [(True,\n",
       "                            [('roe', 31.597998377062485),\n",
       "                             ('roa', 0.02341835816849056),\n",
       "                             ('roce', 0.0267595040788238),\n",
       "                             ('gross_margin', 0.871568099669307),\n",
       "                             ('operating_profit_margin', 0.29934630469891566),\n",
       "                             ('net_profit_margin', 0.28431900330692916),\n",
       "                             ('debt_to_equity', 0.35140021469330873),\n",
       "                             ('equity', 0.7399732434014326),\n",
       "                             ('debt', 0.17287144417220507),\n",
       "                             ('current', 2.143009106293819),\n",
       "                             ('quick', 1.9312273349987912),\n",
       "                             ('cash', 1.361157224595052),\n",
       "                             ('times_interest_earned', 19.920163766632548),\n",
       "                             ('capex_to_operating_cash', 1.2399647617588478),\n",
       "                             ('operating_cash_flow', 0.5217664598275445),\n",
       "                             ('price_to_earnings', 19.923299607245863),\n",
       "                             ('ev_ebitda', 14.075595071500711),\n",
       "                             ('ev_ebit', 21.59506696331003),\n",
       "                             ('ev_revenue', 6.4644034951924905)])]}),\n",
       "             'OIL & GAS FIELD SERVICES, NEC': defaultdict(list,\n",
       "                         {1449488: [(True,\n",
       "                            [('roe', -7.710639389469634),\n",
       "                             ('roa', -0.020449916524261733),\n",
       "                             ('roce', -0.006119923782800467),\n",
       "                             ('gross_margin', 0.3583567244325116),\n",
       "                             ('operating_profit_margin', -0.06707651940444227),\n",
       "                             ('net_profit_margin', -0.23787222357822796),\n",
       "                             ('debt_to_equity', 5.341880697318517),\n",
       "                             ('equity', 0.15768193186333848),\n",
       "                             ('debt', 0.6659855710907715),\n",
       "                             ('current', 2.0532891150281665),\n",
       "                             ('quick', 1.0302107941123024),\n",
       "                             ('cash', 0.12318280937670362),\n",
       "                             ('times_interest_earned', -0.42348068958875085),\n",
       "                             ('capex_to_operating_cash', 0.2523908523908524),\n",
       "                             ('operating_cash_flow', 0.041363801562783936),\n",
       "                             ('price_to_earnings', -11.205502337319716),\n",
       "                             ('ev_ebitda', 52.49778244269083),\n",
       "                             ('ev_ebit', -153.99508709252362),\n",
       "                             ('ev_revenue', 10.329454447550438)])],\n",
       "                          1587246: [(True,\n",
       "                            [('roe', -2.9014909478168263),\n",
       "                             ('roa', -0.023190911336132377),\n",
       "                             ('roce', -0.024165276879616077),\n",
       "                             ('gross_margin', 0.09778746021445567),\n",
       "                             ('operating_profit_margin',\n",
       "                              -0.054849973733815394),\n",
       "                             ('net_profit_margin', -0.05803281728005933),\n",
       "                             ('debt_to_equity', 13.861442466507617),\n",
       "                             ('equity', 0.06728821931341072),\n",
       "                             ('debt', 0.838762657446283),\n",
       "                             ('current', 4.424908668216539),\n",
       "                             ('quick', 4.261839920292262),\n",
       "                             ('cash', 1.6458983726336764),\n",
       "                             ('times_interest_earned', 2.088235294117647),\n",
       "                             ('capex_to_operating_cash', 11.24496644295302),\n",
       "                             ('operating_cash_flow', 0.22258385918299567),\n",
       "                             ('price_to_earnings', -12.683659684657204),\n",
       "                             ('ev_ebitda', -47.09401358325592),\n",
       "                             ('ev_ebit', -44.70614810579506),\n",
       "                             ('ev_revenue', 2.4521310493429196)])],\n",
       "                          1084991: [(True,\n",
       "                            [('roe', 931.5992063492064),\n",
       "                             ('roa', 0.0008617122770063022),\n",
       "                             ('roce', 0.0012030012447238312),\n",
       "                             ('gross_margin', 0.9320706803512856),\n",
       "                             ('operating_profit_margin', 0.018304941276055444),\n",
       "                             ('net_profit_margin', 0.013331922547878532),\n",
       "                             ('debt_to_equity', 0.2456860748925512),\n",
       "                             ('equity', 0.8027704733604385),\n",
       "                             ('debt', 0.0014259286488556666),\n",
       "                             ('current', 21.43671017194945),\n",
       "                             ('quick', 16.37683861611767),\n",
       "                             ('cash', 15.407085146053449),\n",
       "                             ('times_interest_earned', 173.0),\n",
       "                             ('capex_to_operating_cash', 22.55387931034483),\n",
       "                             ('operating_cash_flow', 2.1680132587528487),\n",
       "                             ('price_to_earnings', 1360.373489346839),\n",
       "                             ('ev_ebitda', 47.38475842710671),\n",
       "                             ('ev_ebit', 777.0552581370042),\n",
       "                             ('ev_revenue', 14.223950868447966)])],\n",
       "                          87347: [(True,\n",
       "                            [('roe', 145.54121863799284),\n",
       "                             ('roa', 0.003662618969478175),\n",
       "                             ('roce', 0.007500120194233882),\n",
       "                             ('gross_margin', 0.06803017116333043),\n",
       "                             ('operating_profit_margin', 0.06788511749347259),\n",
       "                             ('net_profit_margin', 0.04046997389033943),\n",
       "                             ('debt_to_equity', 0.864921440181254),\n",
       "                             ('equity', 0.5330620282244831),\n",
       "                             ('debt', 0.24925500492287495),\n",
       "                             ('current', 1.588487224157956),\n",
       "                             ('quick', 1.1606416957026713),\n",
       "                             ('cash', 0.13806620209059234),\n",
       "                             ('times_interest_earned', 3.366906474820144),\n",
       "                             ('capex_to_operating_cash', 3.131233595800525),\n",
       "                             ('operating_cash_flow', 0.08659988385598141),\n",
       "                             ('price_to_earnings', 303.5490896427312),\n",
       "                             ('ev_ebitda', 159.77267819516797),\n",
       "                             ('ev_ebit', 217.46836754342306),\n",
       "                             ('ev_revenue', 14.762865681798955)])],\n",
       "                          1679268: [(True,\n",
       "                            [('roe', -67.63764444890585),\n",
       "                             ('roa', -0.00966390712094726),\n",
       "                             ('roce', -0.016557645373467253),\n",
       "                             ('gross_margin', 0.21967291838966999),\n",
       "                             ('operating_profit_margin', -0.10257983619240722),\n",
       "                             ('net_profit_margin', -0.06644345436597925),\n",
       "                             ('debt_to_equity', 0.28969711163868844),\n",
       "                             ('equity', 0.6536439138338801),\n",
       "                             ('debt', None),\n",
       "                             ('current', 1.5671175092304632),\n",
       "                             ('quick', 1.3806565823638028),\n",
       "                             ('cash', 0.25354524985416294),\n",
       "                             ('times_interest_earned', -19.370277078085643),\n",
       "                             ('capex_to_operating_cash', 0.46607132934320505),\n",
       "                             ('operating_cash_flow', 0.2827891554418907),\n",
       "                             ('price_to_earnings', -140.44051102613156),\n",
       "                             ('ev_ebitda', None),\n",
       "                             ('ev_ebit', None),\n",
       "                             ('ev_revenue', None)])],\n",
       "                          45012: [(True,\n",
       "                            [('roe', None),\n",
       "                             ('roa', None),\n",
       "                             ('roce', None),\n",
       "                             ('gross_margin', None),\n",
       "                             ('operating_profit_margin', None),\n",
       "                             ('net_profit_margin', None),\n",
       "                             ('debt_to_equity', None),\n",
       "                             ('equity', None),\n",
       "                             ('debt', None),\n",
       "                             ('current', None),\n",
       "                             ('quick', None),\n",
       "                             ('cash', None),\n",
       "                             ('times_interest_earned', None),\n",
       "                             ('capex_to_operating_cash', None),\n",
       "                             ('operating_cash_flow', None),\n",
       "                             ('price_to_earnings', None),\n",
       "                             ('ev_ebitda', None),\n",
       "                             ('ev_ebit', None),\n",
       "                             ('ev_revenue', None)])],\n",
       "                          319458: [(True,\n",
       "                            [('roe', 291.6326),\n",
       "                             ('roa', 0.0010982219150227073),\n",
       "                             ('roce', 0.01908534629778839),\n",
       "                             ('gross_margin', 0.24653534715058933),\n",
       "                             ('operating_profit_margin', 0.057132896998678975),\n",
       "                             ('net_profit_margin', 0.0036297901523938358),\n",
       "                             ('debt_to_equity', 2.1222942153929294),\n",
       "                             ('equity', 0.32027731245505114),\n",
       "                             ('debt', 0.011125361394631132),\n",
       "                             ('current', 2.6554019580114594),\n",
       "                             ('quick', 2.359296640460134),\n",
       "                             ('cash', 0.03331536322831927),\n",
       "                             ('times_interest_earned', 1.1084507042253522),\n",
       "                             ('capex_to_operating_cash', -3.8342372750344613),\n",
       "                             ('operating_cash_flow', -0.5547124464799174),\n",
       "                             ('price_to_earnings', 6248.688821521761),\n",
       "                             ('ev_ebitda', 132.37323659589),\n",
       "                             ('ev_ebit', 397.4561093724118),\n",
       "                             ('ev_revenue', 22.707818958269687)])]}),\n",
       "             'RAILROADS, LINE-HAUL OPERATING': defaultdict(list,\n",
       "                         {100885: [(True,\n",
       "                            [('roe', None),\n",
       "                             ('roa', None),\n",
       "                             ('roce', None),\n",
       "                             ('gross_margin', None),\n",
       "                             ('operating_profit_margin', None),\n",
       "                             ('net_profit_margin', None),\n",
       "                             ('debt_to_equity', None),\n",
       "                             ('equity', None),\n",
       "                             ('debt', None),\n",
       "                             ('current', None),\n",
       "                             ('quick', None),\n",
       "                             ('cash', None),\n",
       "                             ('times_interest_earned', None),\n",
       "                             ('capex_to_operating_cash', None),\n",
       "                             ('operating_cash_flow', None),\n",
       "                             ('price_to_earnings', None),\n",
       "                             ('ev_ebitda', None),\n",
       "                             ('ev_ebit', None),\n",
       "                             ('ev_revenue', None)])],\n",
       "                          702165: [(True,\n",
       "                            [('roe', 28.930715935334874),\n",
       "                             ('roa', 0.012320386968274291),\n",
       "                             ('roce', 0.023148431288606202),\n",
       "                             ('gross_margin', 0.5281553398058253),\n",
       "                             ('operating_profit_margin', 0.29398058252427184),\n",
       "                             ('net_profit_margin', 0.16815533980582525),\n",
       "                             ('debt_to_equity', 1.8055400335275804),\n",
       "                             ('equity', 0.35643761559254517),\n",
       "                             ('debt', 0.28792146820315834),\n",
       "                             ('current', 0.9525173966434711),\n",
       "                             ('quick', 0.7994269340974212),\n",
       "                             ('cash', 0.3909128121162505),\n",
       "                             ('times_interest_earned', 5.330985915492958),\n",
       "                             ('capex_to_operating_cash', 1.9315068493150684),\n",
       "                             ('operating_cash_flow', 0.3462955382726156),\n",
       "                             ('price_to_earnings', 72.07700998118854),\n",
       "                             ('ev_ebitda', 38.19616397526455),\n",
       "                             ('ev_ebit', 53.333349170217474),\n",
       "                             ('ev_revenue', 15.678969057030924)])],\n",
       "                          277948: [(True,\n",
       "                            [('roe', None),\n",
       "                             ('roa', None),\n",
       "                             ('roce', None),\n",
       "                             ('gross_margin', None),\n",
       "                             ('operating_profit_margin', None),\n",
       "                             ('net_profit_margin', None),\n",
       "                             ('debt_to_equity', None),\n",
       "                             ('equity', None),\n",
       "                             ('debt', None),\n",
       "                             ('current', None),\n",
       "                             ('quick', None),\n",
       "                             ('cash', None),\n",
       "                             ('times_interest_earned', None),\n",
       "                             ('capex_to_operating_cash', None),\n",
       "                             ('operating_cash_flow', None),\n",
       "                             ('price_to_earnings', None),\n",
       "                             ('ev_ebitda', None),\n",
       "                             ('ev_ebit', None),\n",
       "                             ('ev_revenue', None)])]}),\n",
       "             'AIR TRANSPORTATION, SCHEDULED': defaultdict(list,\n",
       "                         {1362468: [(True,\n",
       "                            [('roe', 11.879341692049774),\n",
       "                             ('roa', 0.024204112144405123),\n",
       "                             ('roce', 0.057723892373548726),\n",
       "                             ('gross_margin', 0.4056882563925781),\n",
       "                             ('operating_profit_margin', 0.1982916284002305),\n",
       "                             ('net_profit_margin', 0.11144677390917632),\n",
       "                             ('debt_to_equity', 2.4779110399084083),\n",
       "                             ('equity', 0.2875289185160801),\n",
       "                             ('debt', 1.3425718276502163),\n",
       "                             ('current', 0.9590561281901246),\n",
       "                             ('quick', 0.8344645991808075),\n",
       "                             ('cash', 0.14568123509024622),\n",
       "                             ('times_interest_earned', 8.969527437209855),\n",
       "                             ('capex_to_operating_cash', 2.7847194512531113),\n",
       "                             ('operating_cash_flow', 0.3298307602286537),\n",
       "                             ('price_to_earnings', 53.05784029127893),\n",
       "                             ('ev_ebitda', 42.78934858809044),\n",
       "                             ('ev_ebit', 60.13665805178233),\n",
       "                             ('ev_revenue', 11.924595851635752)])],\n",
       "                          1498710: [(True,\n",
       "                            [('roe', 45.69098877195227),\n",
       "                             ('roa', 0.00909116289295629),\n",
       "                             ('roce', 0.021096823651932422),\n",
       "                             ('gross_margin', 0.32799768972132265),\n",
       "                             ('operating_profit_margin', 0.1002874096687913),\n",
       "                             ('net_profit_margin', 0.05373632569428687),\n",
       "                             ('debt_to_equity', 1.4074096892489636),\n",
       "                             ('equity', 0.415384221666055),\n",
       "                             ('debt', 0.325014671608968),\n",
       "                             ('current', 1.7031718396729523),\n",
       "                             ('quick', None),\n",
       "                             ('cash', 1.215302432951956),\n",
       "                             ('times_interest_earned', 6.560440796131789),\n",
       "                             ('capex_to_operating_cash', 2.116928695497261),\n",
       "                             ('operating_cash_flow', 0.35303948161990806),\n",
       "                             ('price_to_earnings', 123.61954863340428),\n",
       "                             ('ev_ebitda', 45.15051081962235),\n",
       "                             ('ev_ebit', 71.37157981949284),\n",
       "                             ('ev_revenue', 7.157670864066316)])],\n",
       "                          793733: [(True,\n",
       "                            [('roe', 39.4933306502616),\n",
       "                             ('roa', 0.006764165595080706),\n",
       "                             ('roce', 0.01737064114616406),\n",
       "                             ('gross_margin', 0.4708111858284764),\n",
       "                             ('operating_profit_margin', 0.10298083594064243),\n",
       "                             ('net_profit_margin', 0.04695316022060669),\n",
       "                             ('debt_to_equity', 2.7329305619752295),\n",
       "                             ('equity', 0.26713942841964583),\n",
       "                             ('debt', 0.5084723186644186),\n",
       "                             ('current', 1.221287447968576),\n",
       "                             ('quick', 0.8217940381714786),\n",
       "                             ('cash', 0.13816108555804868),\n",
       "                             ('times_interest_earned', 3.1078659008513587),\n",
       "                             ('capex_to_operating_cash', 0.6451844248517474),\n",
       "                             ('operating_cash_flow', 0.19179009417621132),\n",
       "                             ('price_to_earnings', 52.147948145199315),\n",
       "                             ('ev_ebitda', 56.20482781078427),\n",
       "                             ('ev_ebit', 56.69103511604828),\n",
       "                             ('ev_revenue', 5.838090186590967)])],\n",
       "                          100517: [(True,\n",
       "                            [('roe', None),\n",
       "                             ('roa', None),\n",
       "                             ('roce', None),\n",
       "                             ('gross_margin', None),\n",
       "                             ('operating_profit_margin', None),\n",
       "                             ('net_profit_margin', None),\n",
       "                             ('debt_to_equity', None),\n",
       "                             ('equity', None),\n",
       "                             ('debt', None),\n",
       "                             ('current', None),\n",
       "                             ('quick', None),\n",
       "                             ('cash', None),\n",
       "                             ('times_interest_earned', None),\n",
       "                             ('capex_to_operating_cash', None),\n",
       "                             ('operating_cash_flow', None),\n",
       "                             ('price_to_earnings', None),\n",
       "                             ('ev_ebitda', None),\n",
       "                             ('ev_ebit', None),\n",
       "                             ('ev_revenue', None)])],\n",
       "                          92380: [(True,\n",
       "                            [('roe', 24.200589970501476),\n",
       "                             ('roa', 0.01426587552076758),\n",
       "                             ('roce', 0.0344066237350506),\n",
       "                             ('gross_margin', 0.31788215904408734),\n",
       "                             ('operating_profit_margin', 0.11557478368355995),\n",
       "                             ('net_profit_margin', 0.06983930778739184),\n",
       "                             ('debt_to_equity', 1.8965138956606533),\n",
       "                             ('equity', 0.3452426040483104),\n",
       "                             ('debt', 0.1290241131170307),\n",
       "                             ('current', 0.6245642263341379),\n",
       "                             ('quick', None),\n",
       "                             ('cash', 0.24818986323411102),\n",
       "                             ('times_interest_earned', 19.344827586206897),\n",
       "                             ('capex_to_operating_cash', 3.92512077294686),\n",
       "                             ('operating_cash_flow', 0.21788683293108072),\n",
       "                             ('price_to_earnings', 102.18764513003146),\n",
       "                             ('ev_ebitda', 40.7925047771111),\n",
       "                             ('ev_ebit', 63.91552887536659),\n",
       "                             ('ev_revenue', 7.387023423790824)])],\n",
       "                          1172222: [(True,\n",
       "                            [('roe', 20.975271214147718),\n",
       "                             ('roa', 0.011837831732848162),\n",
       "                             ('roce', 0.03306073197302696),\n",
       "                             ('gross_margin', 0.3612453767374788),\n",
       "                             ('operating_profit_margin', 0.10353103761366216),\n",
       "                             ('net_profit_margin', 0.05615511463020576),\n",
       "                             ('debt_to_equity', 3.02735814700877),\n",
       "                             ('equity', 0.24830173118393448),\n",
       "                             ('debt', 0.3153025569646174),\n",
       "                             ('current', 0.9462934109108979),\n",
       "                             ('quick', 0.8747912601005264),\n",
       "                             ('cash', 0.4832609494624268),\n",
       "                             ('times_interest_earned', 9.935928239628383),\n",
       "                             ('capex_to_operating_cash', 3.9327875023527197),\n",
       "                             ('operating_cash_flow', 0.21632234720446417),\n",
       "                             ('price_to_earnings', 82.31797446497883),\n",
       "                             ('ev_ebitda', 55.41687745126398),\n",
       "                             ('ev_ebit', 51.57084073632457),\n",
       "                             ('ev_revenue', 5.3391826520406)])],\n",
       "                          27904: [(True,\n",
       "                            [('roe', None),\n",
       "                             ('roa', None),\n",
       "                             ('roce', None),\n",
       "                             ('gross_margin', None),\n",
       "                             ('operating_profit_margin', None),\n",
       "                             ('net_profit_margin', None),\n",
       "                             ('debt_to_equity', None),\n",
       "                             ('equity', None),\n",
       "                             ('debt', None),\n",
       "                             ('current', None),\n",
       "                             ('quick', None),\n",
       "                             ('cash', None),\n",
       "                             ('times_interest_earned', None),\n",
       "                             ('capex_to_operating_cash', None),\n",
       "                             ('operating_cash_flow', None),\n",
       "                             ('price_to_earnings', None),\n",
       "                             ('ev_ebitda', None),\n",
       "                             ('ev_ebit', None),\n",
       "                             ('ev_revenue', None)])],\n",
       "                          1158463: [(True,\n",
       "                            [('roe', 48.68292682926829),\n",
       "                             ('roa', 0.008656180724163411),\n",
       "                             ('roce', 0.020706282796766416),\n",
       "                             ('gross_margin', 0.6622683003455859),\n",
       "                             ('operating_profit_margin', 0.04586867734841345),\n",
       "                             ('net_profit_margin', 0.025761859880615773),\n",
       "                             ('debt_to_equity', 1.372995991983968),\n",
       "                             ('equity', 0.42140821281537),\n",
       "                             ('debt', 0.12804813680988072),\n",
       "                             ('current', 0.606523534269199),\n",
       "                             ('quick', 0.5016515276630884),\n",
       "                             ('cash', 0.18084227910817507),\n",
       "                             ('times_interest_earned', 5.84),\n",
       "                             ('capex_to_operating_cash', 1.763265306122449),\n",
       "                             ('operating_cash_flow', 0.17836498761354252),\n",
       "                             ('price_to_earnings', 88.54376051046575),\n",
       "                             ('ev_ebitda', 32.014296262383226),\n",
       "                             ('ev_ebit', 55.0382764510835),\n",
       "                             ('ev_revenue', 2.5245329443475306)])],\n",
       "                          766421: [(True,\n",
       "                            [('roe', 32.40860215053763),\n",
       "                             ('roa', 0.00902737332556785),\n",
       "                             ('roce', 0.022365072987813043),\n",
       "                             ('gross_margin', 0.2603448275862069),\n",
       "                             ('operating_profit_margin', 0.09597701149425288),\n",
       "                             ('net_profit_margin', 0.05344827586206897),\n",
       "                             ('debt_to_equity', 2.4180491041804912),\n",
       "                             ('equity', 0.2925645505727043),\n",
       "                             ('debt', 0.2779072024849544),\n",
       "                             ('current', 0.7805996472663139),\n",
       "                             ('quick', 0.7164021164021164),\n",
       "                             ('cash', 0.06455026455026455),\n",
       "                             ('times_interest_earned', 6.68),\n",
       "                             ('capex_to_operating_cash', 1.9915254237288136),\n",
       "                             ('operating_cash_flow', 0.1657848324514991),\n",
       "                             ('price_to_earnings', 105.6700526097007),\n",
       "                             ('ev_ebitda', 47.55633039050253),\n",
       "                             ('ev_ebit', 74.89410115390518),\n",
       "                             ('ev_revenue', 7.188112007300095)])]}),\n",
       "             'REFUSE SYSTEMS': defaultdict(list,\n",
       "                         {1060391: [(True,\n",
       "                            [('roe', 40.912140575079874),\n",
       "                             ('roa', 0.009118363938278678),\n",
       "                             ('roce', 0.02049036591457388),\n",
       "                             ('gross_margin', 0.3781355167747979),\n",
       "                             ('operating_profit_margin', 0.13378204905804392),\n",
       "                             ('net_profit_margin', 0.06515629878916143),\n",
       "                             ('debt_to_equity', 1.6805929743729908),\n",
       "                             ('equity', 0.3730517872575962),\n",
       "                             ('debt', 0.37241087988813254),\n",
       "                             ('current', 0.6945757371145622),\n",
       "                             ('quick', 0.6087103308575287),\n",
       "                             ('cash', 0.018681071348188163),\n",
       "                             ('times_interest_earned', 4.313199105145414),\n",
       "                             ('capex_to_operating_cash', 1.9848146493970522),\n",
       "                             ('operating_cash_flow', 0.25005626828719335),\n",
       "                             ('price_to_earnings', 105.3179006095505),\n",
       "                             ('ev_ebitda', 68.16410177641369),\n",
       "                             ('ev_ebit', 71.09855221595846),\n",
       "                             ('ev_revenue', 9.511710000511252)])],\n",
       "                          890447: [(True,\n",
       "                            [('roe', -10.932120033525143),\n",
       "                             ('roa', -0.03972283404774792),\n",
       "                             ('roce', -0.02668964026040796),\n",
       "                             ('gross_margin', 0.11702583106527828),\n",
       "                             ('operating_profit_margin', -0.05349114628806958),\n",
       "                             ('net_profit_margin', -0.0919284025297914),\n",
       "                             ('debt_to_equity', 0.7182864741244475),\n",
       "                             ('equity', 0.43425478988177973),\n",
       "                             ('debt', 0.17432780646477145),\n",
       "                             ('current', 1.3604231380574918),\n",
       "                             ('quick', 1.262790628214052),\n",
       "                             ('cash', 0.6118293437657224),\n",
       "                             ('times_interest_earned', -1.3916484036133536),\n",
       "                             ('capex_to_operating_cash', 1.1105769318105438),\n",
       "                             ('operating_cash_flow', 0.1134150354927805),\n",
       "                             ('price_to_earnings', -9.827405272021112),\n",
       "                             ('ev_ebitda', -149.48107828571221),\n",
       "                             ('ev_ebit', -20.88485150077701),\n",
       "                             ('ev_revenue', 1.1171546468326725)])],\n",
       "                          911177: [(True,\n",
       "                            [('roe', -1.8705357142857142),\n",
       "                             ('roa', -0.00036056396066633505),\n",
       "                             ('roce', 0.011312725638311755),\n",
       "                             ('gross_margin', 0.14170939148891645),\n",
       "                             ('operating_profit_margin', 0.04665102165886908),\n",
       "                             ('net_profit_margin', -0.0016741154840734817),\n",
       "                             ('debt_to_equity', 1646.8448687350835),\n",
       "                             ('equity', 0.0006744477657106893),\n",
       "                             ('debt', -0.026459599934969713),\n",
       "                             ('current', 1.0468329471366273),\n",
       "                             ('quick', 0.8415394136526533),\n",
       "                             ('cash', 0.032037535441343676),\n",
       "                             ('times_interest_earned', 0.9677519379844961),\n",
       "                             ('capex_to_operating_cash', 1.2365068334491545),\n",
       "                             ('operating_cash_flow', 0.1536535167887624),\n",
       "                             ('price_to_earnings', -2724.656157876354),\n",
       "                             ('ev_ebitda', 87.92673196081189),\n",
       "                             ('ev_ebit', 94.78676375589606),\n",
       "                             ('ev_revenue', 4.421899368950413)])],\n",
       "                          823768: [(True,\n",
       "                            [('roe', None),\n",
       "                             ('roa', None),\n",
       "                             ('roce', None),\n",
       "                             ('gross_margin', None),\n",
       "                             ('operating_profit_margin', None),\n",
       "                             ('net_profit_margin', None),\n",
       "                             ('debt_to_equity', None),\n",
       "                             ('equity', None),\n",
       "                             ('debt', None),\n",
       "                             ('current', None),\n",
       "                             ('quick', None),\n",
       "                             ('cash', None),\n",
       "                             ('times_interest_earned', None),\n",
       "                             ('capex_to_operating_cash', None),\n",
       "                             ('operating_cash_flow', None),\n",
       "                             ('price_to_earnings', None),\n",
       "                             ('ev_ebitda', None),\n",
       "                             ('ev_ebit', None),\n",
       "                             ('ev_revenue', None)])]}),\n",
       "             'NATURAL GAS TRANSMISSION': defaultdict(list,\n",
       "                         {1522727: [(True,\n",
       "                            [('roe', -65.78445635528331),\n",
       "                             ('roa', -0.007069940168059948),\n",
       "                             ('roce', -0.0032506713954271313),\n",
       "                             ('gross_margin', 0.5627154479018247),\n",
       "                             ('operating_profit_margin', -0.07085842104456803),\n",
       "                             ('net_profit_margin', -0.16007108823213984),\n",
       "                             ('debt_to_equity', 1.1501114480093582),\n",
       "                             ('equity', 0.465092170420204),\n",
       "                             ('debt', 0.48369001073212586),\n",
       "                             ('current', 1.4032495501881033),\n",
       "                             ('quick', 0.7701688384857241),\n",
       "                             ('cash', 0.00012721952637987751),\n",
       "                             ('times_interest_earned', -0.8151216073316884),\n",
       "                             ('capex_to_operating_cash', 1.1481853572774081),\n",
       "                             ('operating_cash_flow', 0.3323337513403486),\n",
       "                             ('price_to_earnings', -50.38994916477117),\n",
       "                             ('ev_ebitda', 63.56996767763644),\n",
       "                             ('ev_ebit', -268.3820948915739),\n",
       "                             ('ev_revenue', 19.017131480650352)])],\n",
       "                          1549922: [(True,\n",
       "                            [('roe', -1642.5036496350365),\n",
       "                             ('roa', -0.00022421722819716583),\n",
       "                             ('roce', 0.005486568010742129),\n",
       "                             ('gross_margin', 0.8271934023047752),\n",
       "                             ('operating_profit_margin', 0.12137255623872464),\n",
       "                             ('net_profit_margin', -0.005043996907330363),\n",
       "                             ('debt_to_equity', 1.715342876061558),\n",
       "                             ('equity', 0.3682776156248967),\n",
       "                             ('debt', 0.4140365876690999),\n",
       "                             ('current', 1.2433155606272257),\n",
       "                             ('quick', 1.1795699136285833),\n",
       "                             ('cash', 0.12365475042792216),\n",
       "                             ('times_interest_earned', 0.986061258674324),\n",
       "                             ('capex_to_operating_cash', 4.328319933462711),\n",
       "                             ('operating_cash_flow', 1.2286579967340194),\n",
       "                             ('price_to_earnings', -1612.2528313823573),\n",
       "                             ('ev_ebitda', 52.62733991440981),\n",
       "                             ('ev_ebit', 143.36105014238396),\n",
       "                             ('ev_revenue', 17.40009712084912)])],\n",
       "                          1389170: [(True,\n",
       "                            [('roe', -47.6940486169321),\n",
       "                             ('roa', -0.008737494323924476),\n",
       "                             ('roce', 0.004129359336031727),\n",
       "                             ('gross_margin', 0.09629240625984666),\n",
       "                             ('operating_profit_margin', 0.010608129398172461),\n",
       "                             ('net_profit_margin', -0.025060392815880683),\n",
       "                             ('debt_to_equity', 1.3996555299741646),\n",
       "                             ('equity', 0.4167264790754222),\n",
       "                             ('debt', 0.34775666847324554),\n",
       "                             ('current', 0.5701748227199326),\n",
       "                             ('quick', 0.4832549322474198),\n",
       "                             ('cash', 0.05616794214701959),\n",
       "                             ('times_interest_earned', 29.705882352941178),\n",
       "                             ('capex_to_operating_cash', 1.3210818307905687),\n",
       "                             ('operating_cash_flow', 0.1337499122375904),\n",
       "                             ('price_to_earnings', -64.86721393419282),\n",
       "                             ('ev_ebitda', -2176.641863570036),\n",
       "                             ('ev_ebit', 245.6803687593902),\n",
       "                             ('ev_revenue', 2.6062091423903384)])],\n",
       "                          1592000: [(True,\n",
       "                            [('roe', -2739.5789473684213),\n",
       "                             ('roa', -0.00018668631785802013),\n",
       "                             ('roce', 0.006048861957475965),\n",
       "                             ('gross_margin', 0.16302292155231107),\n",
       "                             ('operating_profit_margin', 0.04274150843482866),\n",
       "                             ('net_profit_margin', -0.0014373250624101672),\n",
       "                             ('debt_to_equity', 0.9552562821793591),\n",
       "                             ('equity', 0.5114419061655613),\n",
       "                             ('debt', 0.3459690493736183),\n",
       "                             ('current', 0.6661488827816944),\n",
       "                             ('quick', 0.20217469231688373),\n",
       "                             ('cash', 0.01792328832596487),\n",
       "                             ('times_interest_earned', 7.739726027397261),\n",
       "                             ('capex_to_operating_cash', 0.7158403869407497),\n",
       "                             ('operating_cash_flow', 0.21221173377942407),\n",
       "                             ('price_to_earnings', -1093.3295812796168),\n",
       "                             ('ev_ebitda', 40.84437603826827),\n",
       "                             ('ev_ebit', 98.82170273329686),\n",
       "                             ('ev_revenue', 4.223788640919338)])],\n",
       "                          1061219: [(True,\n",
       "                            [('roe', 29.456158801104245),\n",
       "                             ('roa', 0.014762417644262024),\n",
       "                             ('roce', 0.022840956352640985),\n",
       "                             ('gross_margin', 0.2224468608272772),\n",
       "                             ('operating_profit_margin', 0.1387902300420742),\n",
       "                             ('net_profit_margin', 0.10391508660728922),\n",
       "                             ('debt_to_equity', 1.299674659597542),\n",
       "                             ('equity', 0.43484411841760545),\n",
       "                             ('debt', 0.8723003328190648),\n",
       "                             ('current', 0.8004398410896708),\n",
       "                             ('quick', 0.45641316685584565),\n",
       "                             ('cash', 0.008853575482406357),\n",
       "                             ('times_interest_earned', 4.075411151223426),\n",
       "                             ('capex_to_operating_cash', 1.9632286995515695),\n",
       "                             ('operating_cash_flow', 0.12423382519863792),\n",
       "                             ('price_to_earnings', 52.72279075723255),\n",
       "                             ('ev_ebitda', 80.40967542954287),\n",
       "                             ('ev_ebit', 83.65455406400277),\n",
       "                             ('ev_revenue', 11.610434802610078)])],\n",
       "                          1623925: [(False,\n",
       "                            [('roe', -4.440133373749621),\n",
       "                             ('roa', -0.11538192501398993),\n",
       "                             ('roce', 0.07362845746419931),\n",
       "                             ('gross_margin', -0.1821171989959318),\n",
       "                             ('operating_profit_margin', 0.0974638622002943),\n",
       "                             ('net_profit_margin', -0.2855535358781269),\n",
       "                             ('debt_to_equity', 0.9519388312397596),\n",
       "                             ('equity', 0.5123111359820929),\n",
       "                             ('debt', None),\n",
       "                             ('current', 1.2812241521918941),\n",
       "                             ('quick', 1.2812241521918941),\n",
       "                             ('cash', 1.2598691630949697),\n",
       "                             ('times_interest_earned', 0.09513349104427171),\n",
       "                             ('capex_to_operating_cash', 0.06903480722228125),\n",
       "                             ('operating_cash_flow', 0.5373336341078276),\n",
       "                             ('price_to_earnings', -1107.218917888939),\n",
       "                             ('ev_ebitda', None),\n",
       "                             ('ev_ebit', None),\n",
       "                             ('ev_revenue', None)])],\n",
       "                          1389050: [(True,\n",
       "                            [('roe', -61.727171587505346),\n",
       "                             ('roa', -0.004835015692594792),\n",
       "                             ('roce', 0.004390162788231274),\n",
       "                             ('gross_margin', 0.2506603790309713),\n",
       "                             ('operating_profit_margin', 0.05944297693548673),\n",
       "                             ('net_profit_margin', -0.0690517134398213),\n",
       "                             ('debt_to_equity', 2.4143774556969397),\n",
       "                             ('equity', 0.29845184328507973),\n",
       "                             ('debt', 0.5943353560263909),\n",
       "                             ('current', 1.6911129528393605),\n",
       "                             ('quick', 0.892992046921569),\n",
       "                             ('cash', 0.08612116092631847),\n",
       "                             ('times_interest_earned', 0.4695859203585267),\n",
       "                             ('capex_to_operating_cash', 1.7721817887756752),\n",
       "                             ('operating_cash_flow', 0.43659850501251135),\n",
       "                             ('price_to_earnings', -50.12524930303651),\n",
       "                             ('ev_ebitda', 34.77829430765475),\n",
       "                             ('ev_ebit', 199.94666846664495),\n",
       "                             ('ev_revenue', 11.885425201990188)])]}),\n",
       "             'TRUCKING (NO LOCAL)': defaultdict(list,\n",
       "                         {1308208: [(False,\n",
       "                            [('roe', 35.09170912459472),\n",
       "                             ('roa', 0.007405590723631518),\n",
       "                             ('roce', 0.022023883212234908),\n",
       "                             ('gross_margin', 1.0),\n",
       "                             ('operating_profit_margin', 0.032523326372336014),\n",
       "                             ('net_profit_margin', 0.015180599208274446),\n",
       "                             ('debt_to_equity', 2.848006282750155),\n",
       "                             ('equity', 0.25987483556947416),\n",
       "                             ('debt', 0.43951443472772705),\n",
       "                             ('current', 1.303283464905017),\n",
       "                             ('quick', None),\n",
       "                             ('cash', 0.020566893006765667),\n",
       "                             ('times_interest_earned', 4.111555555555555),\n",
       "                             ('capex_to_operating_cash', 2.5075556058633763),\n",
       "                             ('operating_cash_flow', 0.27176759962951375),\n",
       "                             ('price_to_earnings', 79.63677698065467),\n",
       "                             ('ev_ebitda', 30.482562212813715),\n",
       "                             ('ev_ebit', 64.51060458355497),\n",
       "                             ('ev_revenue', 2.0980994473476735)])],\n",
       "                          1177702: [(True,\n",
       "                            [('roe', 43.481088196577446),\n",
       "                             ('roa', 0.012289742406136351),\n",
       "                             ('roce', 0.023150970789316733),\n",
       "                             ('gross_margin', 0.3653866845573017),\n",
       "                             ('operating_profit_margin', 0.05515611055906125),\n",
       "                             ('net_profit_margin', 0.03606081128122686),\n",
       "                             ('debt_to_equity', 0.8713577291726795),\n",
       "                             ('equity', 0.5343713734744326),\n",
       "                             ('debt', 0.007703872751823778),\n",
       "                             ('current', 1.0590347279974763),\n",
       "                             ('quick', 0.85847265636202),\n",
       "                             ('cash', 0.004077887069484672),\n",
       "                             ('times_interest_earned', 19.13172338090011),\n",
       "                             ('capex_to_operating_cash', 0.44725528352265015),\n",
       "                             ('operating_cash_flow', 0.2267328152332884),\n",
       "                             ('price_to_earnings', 98.19110308900979),\n",
       "                             ('ev_ebitda', 30.00212273912943),\n",
       "                             ('ev_ebit', 64.5659314762331),\n",
       "                             ('ev_revenue', 3.5612056548518853)])],\n",
       "                          1492691: [(True,\n",
       "                            [('roe', 45.83180962624361),\n",
       "                             ('roa', 0.005640818350936559),\n",
       "                             ('roce', 0.010502624976843768),\n",
       "                             ('gross_margin', 1.377392304798991),\n",
       "                             ('operating_profit_margin', 0.08550715017958418),\n",
       "                             ('net_profit_margin', 0.05485614826942791),\n",
       "                             ('debt_to_equity', 2.868039319794542),\n",
       "                             ('equity', 0.2585289127963458),\n",
       "                             ('debt', 0.18082698128246333),\n",
       "                             ('current', 1.4330227282784127),\n",
       "                             ('quick', 1.0822820039266192),\n",
       "                             ('cash', 0.1042836481693244),\n",
       "                             ('times_interest_earned', 282.780487804878),\n",
       "                             ('capex_to_operating_cash', 3.848151848151848),\n",
       "                             ('operating_cash_flow', 0.1525093332898595),\n",
       "                             ('price_to_earnings', 391.93091224207194),\n",
       "                             ('ev_ebitda', 118.73097450967981),\n",
       "                             ('ev_ebit', 270.07354021532956),\n",
       "                             ('ev_revenue', 23.093218762724153)])],\n",
       "                          883945: [(True,\n",
       "                            [('roe', -10.985480572597137),\n",
       "                             ('roa', -0.017896289356282548),\n",
       "                             ('roce', -0.030286249787016526),\n",
       "                             ('gross_margin', 0.027166322415658504),\n",
       "                             ('operating_profit_margin', -0.06293892003540867),\n",
       "                             ('net_profit_margin', -0.04809678371200944),\n",
       "                             ('debt_to_equity', 4.0864870902287835),\n",
       "                             ('equity', 0.19659933904501886),\n",
       "                             ('debt', 0.009617883114173935),\n",
       "                             ('current', 1.1340284390787159),\n",
       "                             ('quick', 0.8869538550930484),\n",
       "                             ('cash', 0.0019368271543167034),\n",
       "                             ('times_interest_earned', -6.379860418743768),\n",
       "                             ('capex_to_operating_cash', 3.359861591695502),\n",
       "                             ('operating_cash_flow', 0.1253772777894346),\n",
       "                             ('price_to_earnings', -10.379752501237494),\n",
       "                             ('ev_ebitda', 46.43852635662716),\n",
       "                             ('ev_ebit', -8.323955263486694),\n",
       "                             ('ev_revenue', 0.5239007547069081)])],\n",
       "                          853816: [(True,\n",
       "                            [('roe', 17.71741345767841),\n",
       "                             ('roa', 0.02927562645663938),\n",
       "                             ('roce', 0.0709608748415265),\n",
       "                             ('gross_margin', 1.0),\n",
       "                             ('operating_profit_margin', 0.06701685729945141),\n",
       "                             ('net_profit_margin', 0.0414683932038089),\n",
       "                             ('debt_to_equity', 0.9279398615756532),\n",
       "                             ('equity', 0.5186883781648287),\n",
       "                             ('debt', 0.1016144400990108),\n",
       "                             ('current', 2.0318253458008826),\n",
       "                             ('quick', 1.9451004646847712),\n",
       "                             ('cash', 0.5844991143048581),\n",
       "                             ('times_interest_earned', 48.32317636195752),\n",
       "                             ('capex_to_operating_cash', 8.49517878666131),\n",
       "                             ('operating_cash_flow', 0.11471718791114294),\n",
       "                             ('price_to_earnings', 98.89043952928715),\n",
       "                             ('ev_ebitda', 49.77357717088883),\n",
       "                             ('ev_ebit', 59.22155966058214),\n",
       "                             ('ev_revenue', 3.968842812824181)])],\n",
       "                          878927: [(True,\n",
       "                            [('roe', 29.021203185797667),\n",
       "                             ('roa', 0.023967854397616038),\n",
       "                             ('roce', 0.04485971226752689),\n",
       "                             ('gross_margin', 0.18038168961233034),\n",
       "                             ('operating_profit_margin', 0.14336498389626784),\n",
       "                             ('net_profit_margin', 0.08723727844937434),\n",
       "                             ('debt_to_equity', 0.4376574805314652),\n",
       "                             ('equity', 0.6955759724008291),\n",
       "                             ('debt', 0.0346082527932503),\n",
       "                             ('current', 1.2696924892094927),\n",
       "                             ('quick', 1.1513120360828593),\n",
       "                             ('cash', 0.14203444001374016),\n",
       "                             ('times_interest_earned', 181.71764705882353),\n",
       "                             ('capex_to_operating_cash', 1.9441198659578574),\n",
       "                             ('operating_cash_flow', 0.33098555789536566),\n",
       "                             ('price_to_earnings', 69.4260675366008),\n",
       "                             ('ev_ebitda', 29.13425900907171),\n",
       "                             ('ev_ebit', 42.68445677445885),\n",
       "                             ('ev_revenue', 6.119456458091234)])],\n",
       "                          928658: [(True,\n",
       "                            [('roe', -6034.5641025641025),\n",
       "                             ('roa', -6.399432911791201e-05),\n",
       "                             ('roce', 0.0005822652189807155),\n",
       "                             ('gross_margin', 0.18808899863931866),\n",
       "                             ('operating_profit_margin',\n",
       "                              0.0019465302625611047),\n",
       "                             ('net_profit_margin', -0.00024567857682810057),\n",
       "                             ('debt_to_equity', 1.5894802590206842),\n",
       "                             ('equity', 0.38617788126262453),\n",
       "                             ('debt', 0.024874103464062262),\n",
       "                             ('current', 1.464104745818676),\n",
       "                             ('quick', 1.1123020458961432),\n",
       "                             ('cash', 0.09209707529558182),\n",
       "                             ('times_interest_earned', 0.14848630466122056),\n",
       "                             ('capex_to_operating_cash', 1.3623117586957487),\n",
       "                             ('operating_cash_flow', 0.389456840608054),\n",
       "                             ('price_to_earnings', -8050.105328959274),\n",
       "                             ('ev_ebitda', 16.093055391470585),\n",
       "                             ('ev_ebit', 1041.6217081857983),\n",
       "                             ('ev_revenue', 2.0275481771242485)])],\n",
       "                          894405: [(True,\n",
       "                            [('roe', -79.88065343593898),\n",
       "                             ('roa', -0.005951869169767686),\n",
       "                             ('roce', -0.011472820424865195),\n",
       "                             ('gross_margin', 0.4819771643744601),\n",
       "                             ('operating_profit_margin',\n",
       "                              -0.015191015511714728),\n",
       "                             ('net_profit_margin', -0.011365641605582929),\n",
       "                             ('debt_to_equity', 1.10331837018909),\n",
       "                             ('equity', 0.4754391984462624),\n",
       "                             ('debt', 0.18246131124330345),\n",
       "                             ('current', 1.2161808718623386),\n",
       "                             ('quick', 1.0924617505385588),\n",
       "                             ('cash', 0.2155623810846651),\n",
       "                             ('times_interest_earned', -7.52851711026616),\n",
       "                             ('capex_to_operating_cash', 0.11969007000611703),\n",
       "                             ('operating_cash_flow', 0.004615094319843595),\n",
       "                             ('price_to_earnings', -60.382647414632046),\n",
       "                             ('ev_ebitda', -67.55719641718161),\n",
       "                             ('ev_ebit', -59.80517872729087),\n",
       "                             ('ev_revenue', 0.9085013977271473)])],\n",
       "                          728535: [(True,\n",
       "                            [('roe', 13.361901423536056),\n",
       "                             ('roa', 0.027239055854890535),\n",
       "                             ('roce', 0.046920571505746154),\n",
       "                             ('gross_margin', 0.622315330986927),\n",
       "                             ('operating_profit_margin', 0.09169706069024612),\n",
       "                             ('net_profit_margin', 0.06303992614589868),\n",
       "                             ('debt_to_equity', 1.7475125592620824),\n",
       "                             ('equity', 0.36396557920323996),\n",
       "                             ('debt', 0.2521221251354301),\n",
       "                             ('current', 1.5231081369080601),\n",
       "                             ('quick', 1.2270474404330591),\n",
       "                             ('cash', 0.020904479774945653),\n",
       "                             ('times_interest_earned', 21.91418512542174),\n",
       "                             ('capex_to_operating_cash', 2.891753986332574),\n",
       "                             ('operating_cash_flow', 0.4869920293252632),\n",
       "                             ('price_to_earnings', 89.82682863262436),\n",
       "                             ('ev_ebitda', 42.072266324863136),\n",
       "                             ('ev_ebit', 68.03535704923246),\n",
       "                             ('ev_revenue', 6.238642264426033)])]}),\n",
       "             'TRANSPORTATION SERVICES': defaultdict(list,\n",
       "                         {1512499: [(True,\n",
       "                            [('roe', 190.78187919463087),\n",
       "                             ('roa', 0.001475642003307815),\n",
       "                             ('roce', 0.0048092337287592175),\n",
       "                             ('gross_margin', 0.4835413762514257),\n",
       "                             ('operating_profit_margin', 0.021622734761120265),\n",
       "                             ('net_profit_margin', 0.009441135470789508),\n",
       "                             ('debt_to_equity', 2.5063497088983873),\n",
       "                             ('equity', 0.28152575440959465),\n",
       "                             ('debt', 0.43195458191793845),\n",
       "                             ('current', 1.2080157917093526),\n",
       "                             ('quick', None),\n",
       "                             ('cash', 0.8643961919992004),\n",
       "                             ('times_interest_earned', 0.5896328293736501),\n",
       "                             ('capex_to_operating_cash', 0.11981264226930485),\n",
       "                             ('operating_cash_flow', 0.022796365241581504),\n",
       "                             ('price_to_earnings', 704.1712828274891),\n",
       "                             ('ev_ebitda', 95.62540650647105),\n",
       "                             ('ev_ebit', 359.24328539573884),\n",
       "                             ('ev_revenue', 7.76782227482549)])],\n",
       "                          1220754: [(True,\n",
       "                            [('roe', -64.63606936416186),\n",
       "                             ('roa', -0.006198441862198247),\n",
       "                             ('roce', 0.010716407920169932),\n",
       "                             ('gross_margin', 0.01924186734067209),\n",
       "                             ('operating_profit_margin', 0.014526298247400728),\n",
       "                             ('net_profit_margin', -0.013347405974082887),\n",
       "                             ('debt_to_equity', 1.2259265751150952),\n",
       "                             ('equity', 0.40064291815477043),\n",
       "                             ('debt', 0.23389121698702697),\n",
       "                             ('current', 1.15994321588408),\n",
       "                             ('quick', 0.9568858476808639),\n",
       "                             ('cash', 0.3205981672810543),\n",
       "                             ('times_interest_earned', 13.372159090909092),\n",
       "                             ('capex_to_operating_cash', 6.308469850121994),\n",
       "                             ('operating_cash_flow', 0.1400184896508241),\n",
       "                             ('price_to_earnings', -191.6756690586656),\n",
       "                             ('ev_ebitda', 82.84568774405327),\n",
       "                             ('ev_ebit', 193.18340103648367),\n",
       "                             ('ev_revenue', 2.806239699903185)])],\n",
       "                          1166003: [(True,\n",
       "                            [('roe', 128.69483568075117),\n",
       "                             ('roa', 0.001822335155668489),\n",
       "                             ('roce', 0.00958090419095809),\n",
       "                             ('gross_margin', 0.5182370391298206),\n",
       "                             ('operating_profit_margin', 0.024607995479587513),\n",
       "                             ('net_profit_margin', 0.00601779912417008),\n",
       "                             ('debt_to_equity', 3.263935502699548),\n",
       "                             ('equity', 0.2345251234140123),\n",
       "                             ('debt', 0.438267327156216),\n",
       "                             ('current', 1.1920455858006391),\n",
       "                             ('quick', 1.0318407577099296),\n",
       "                             ('cash', 0.13167520117044623),\n",
       "                             ('times_interest_earned', 1.152116402116402),\n",
       "                             ('capex_to_operating_cash', 0.12663398692810457),\n",
       "                             ('operating_cash_flow', 0.00596773572556116),\n",
       "                             ('price_to_earnings', 168.04776751154944),\n",
       "                             ('ev_ebitda', 34.19230040080164),\n",
       "                             ('ev_ebit', 95.9818306314122),\n",
       "                             ('ev_revenue', 2.3619204543003254)])],\n",
       "                          40211: [(True,\n",
       "                            [('roe', 24.090434782608696),\n",
       "                             ('roa', 0.008102129098620525),\n",
       "                             ('roce', 0.01653533317357166),\n",
       "                             ('gross_margin', 0.39006643467257196),\n",
       "                             ('operating_profit_margin', 0.37108509965200887),\n",
       "                             ('net_profit_margin', 0.18190446061372983),\n",
       "                             ('debt_to_equity', 4.123375685821542),\n",
       "                             ('equity', 0.19518381265059392),\n",
       "                             ('debt', 0.00042271977905846217),\n",
       "                             ('current', 74.06666666666666),\n",
       "                             ('quick', 74.06666666666666),\n",
       "                             ('cash', 51.733333333333334),\n",
       "                             ('times_interest_earned', 2.99234693877551),\n",
       "                             ('capex_to_operating_cash', 0.4007751937984496),\n",
       "                             ('operating_cash_flow', 17.233333333333334),\n",
       "                             ('price_to_earnings', 34.90350997365082),\n",
       "                             ('ev_ebitda', 9.797949410908199),\n",
       "                             ('ev_ebit', 15.812036005839062),\n",
       "                             ('ev_revenue', 5.86761095692794)])],\n",
       "                          1075531: [(True,\n",
       "                            [('roe', 23.727992221639383),\n",
       "                             ('roa', 0.02071554877156086),\n",
       "                             ('roce', 0.02968422205997177),\n",
       "                             ('gross_margin', 0.9669284828441504),\n",
       "                             ('operating_profit_margin', 0.23003803224472924),\n",
       "                             ('net_profit_margin', 0.18835179826374535),\n",
       "                             ('debt_to_equity', 1.032345979597298),\n",
       "                             ('equity', 0.49153838011858736),\n",
       "                             ('debt', 0.3312730071475038),\n",
       "                             ('current', 2.1513096950032926),\n",
       "                             ('quick', 1.9409007884061291),\n",
       "                             ('cash', 0.749344482896522),\n",
       "                             ('times_interest_earned', 9.98729292675485),\n",
       "                             ('capex_to_operating_cash', 12.494862455533667),\n",
       "                             ('operating_cash_flow', 0.2714196390061077),\n",
       "                             ('price_to_earnings', 197.23985617135628),\n",
       "                             ('ev_ebitda', 142.05939643432595),\n",
       "                             ('ev_ebit', 170.21664909438894),\n",
       "                             ('ev_revenue', 39.156303012964806)])],\n",
       "                          1324424: [(True,\n",
       "                            [('roe', -47.54967441860465),\n",
       "                             ('roa', -0.004867307574107871),\n",
       "                             ('roce', -0.009327067616576687),\n",
       "                             ('gross_margin', 0.8028202667923569),\n",
       "                             ('operating_profit_margin', -0.04208376352291601),\n",
       "                             ('net_profit_margin', -0.040213374033008634),\n",
       "                             ('debt_to_equity', 3.3207949972513444),\n",
       "                             ('equity', 0.23143889044403768),\n",
       "                             ('debt', 0.22765121960578658),\n",
       "                             ('current', 0.6644261893809532),\n",
       "                             ('quick', 0.6312065819979648),\n",
       "                             ('cash', 0.3121401381694856),\n",
       "                             ('times_interest_earned', -2.0930232558139537),\n",
       "                             ('capex_to_operating_cash', 9.803432632783801),\n",
       "                             ('operating_cash_flow', 0.203987096067857),\n",
       "                             ('price_to_earnings', -238.7775826741645),\n",
       "                             ('ev_ebitda', -945.5492244031105),\n",
       "                             ('ev_ebit', -245.04433455531276),\n",
       "                             ('ev_revenue', 10.3123878280561)])]}),\n",
       "             'ELECTRIC SERVICES': defaultdict(list,\n",
       "                         {1296445: [(True,\n",
       "                            [('roe', 31.421009262942547),\n",
       "                             ('roa', 0.014078230704735573),\n",
       "                             ('roce', 0.02666248472668565),\n",
       "                             ('gross_margin', 0.391841936197327),\n",
       "                             ('operating_profit_margin', 0.32186226289903),\n",
       "                             ('net_profit_margin', 0.18533107247048416),\n",
       "                             ('debt_to_equity', 1.1739515350899008),\n",
       "                             ('equity', 0.4423522173793386),\n",
       "                             ('debt', 0.3782181441728589),\n",
       "                             ('current', 2.066349865777311),\n",
       "                             ('quick', 1.2243133437112934),\n",
       "                             ('cash', 0.839255678559552),\n",
       "                             ('times_interest_earned', 4.095758225557864),\n",
       "                             ('capex_to_operating_cash', None),\n",
       "                             ('operating_cash_flow', 0.34441493847925936),\n",
       "                             ('price_to_earnings', 79.146684193958),\n",
       "                             ('ev_ebitda', 40.33628264370785),\n",
       "                             ('ev_ebit', 58.193638905157925),\n",
       "                             ('ev_revenue', 18.73033630434316)])],\n",
       "                          1603145: [(True,\n",
       "                            [('roe', None),\n",
       "                             ('roa', None),\n",
       "                             ('roce', None),\n",
       "                             ('gross_margin', None),\n",
       "                             ('operating_profit_margin', None),\n",
       "                             ('net_profit_margin', None),\n",
       "                             ('debt_to_equity', None),\n",
       "                             ('equity', None),\n",
       "                             ('debt', None),\n",
       "                             ('current', None),\n",
       "                             ('quick', None),\n",
       "                             ('cash', None),\n",
       "                             ('times_interest_earned', None),\n",
       "                             ('capex_to_operating_cash', None),\n",
       "                             ('operating_cash_flow', None),\n",
       "                             ('price_to_earnings', None),\n",
       "                             ('ev_ebitda', None),\n",
       "                             ('ev_ebit', None),\n",
       "                             ('ev_revenue', None)])],\n",
       "                          784977: [(True,\n",
       "                            [('roe', 32.6986301369863),\n",
       "                             ('roa', 0.009590120861797162),\n",
       "                             ('roce', 0.01783691959229898),\n",
       "                             ('gross_margin', 0.39622641509433965),\n",
       "                             ('operating_profit_margin', 0.23773584905660378),\n",
       "                             ('net_profit_margin', 0.13773584905660377),\n",
       "                             ('debt_to_equity', 2.1889400921658986),\n",
       "                             ('equity', 0.31358381502890176),\n",
       "                             ('debt', 0.3087230688386758),\n",
       "                             ('current', 0.885036496350365),\n",
       "                             ('quick', 0.48175182481751827),\n",
       "                             ('cash', 0.05656934306569343),\n",
       "                             ('times_interest_earned', 4.2),\n",
       "                             ('capex_to_operating_cash', 1.4912280701754386),\n",
       "                             ('operating_cash_flow', 0.3102189781021898),\n",
       "                             ('price_to_earnings', 47.015539189164706),\n",
       "                             ('ev_ebitda', 41.97908292561331),\n",
       "                             ('ev_ebit', 45.64392349848432),\n",
       "                             ('ev_revenue', 10.851196907186837)])],\n",
       "                          1013871: [(True,\n",
       "                            [('roe', -24.88957055214724),\n",
       "                             ('roa', -0.005540448674371176),\n",
       "                             ('roce', 0.0022994885620267217),\n",
       "                             ('gross_margin', 0.07867392380009897),\n",
       "                             ('operating_profit_margin', 0.028698664027709056),\n",
       "                             ('net_profit_margin', -0.08065314200890648),\n",
       "                             ('debt_to_equity', 6.251663790978555),\n",
       "                             ('equity', 0.13789938817131203),\n",
       "                             ('debt', 0.66162474507138),\n",
       "                             ('current', 1.2961639266142482),\n",
       "                             ('quick', 0.5942339766499881),\n",
       "                             ('cash', 0.14939242315939957),\n",
       "                             ('times_interest_earned', 0.2577777777777778),\n",
       "                             ('capex_to_operating_cash', -0.24187725631768953),\n",
       "                             ('operating_cash_flow', -0.01596378365499166),\n",
       "                             ('price_to_earnings', -27.364514544329566),\n",
       "                             ('ev_ebitda', 332.8345124389389),\n",
       "                             ('ev_ebit', 401.69682535734),\n",
       "                             ('ev_revenue', 11.52816223192762)])],\n",
       "                          1031296: [(True,\n",
       "                            [('roe', None),\n",
       "                             ('roa', None),\n",
       "                             ('roce', None),\n",
       "                             ('gross_margin', None),\n",
       "                             ('operating_profit_margin', None),\n",
       "                             ('net_profit_margin', None),\n",
       "                             ('debt_to_equity', None),\n",
       "                             ('equity', None),\n",
       "                             ('debt', None),\n",
       "                             ('current', None),\n",
       "                             ('quick', None),\n",
       "                             ('cash', None),\n",
       "                             ('times_interest_earned', None),\n",
       "                             ('capex_to_operating_cash', None),\n",
       "                             ('operating_cash_flow', None),\n",
       "                             ('price_to_earnings', None),\n",
       "                             ('ev_ebitda', None),\n",
       "                             ('ev_ebit', None),\n",
       "                             ('ev_revenue', None)])],\n",
       "                          1692819: [(False,\n",
       "                            [('roe', None),\n",
       "                             ('roa', None),\n",
       "                             ('roce', None),\n",
       "                             ('gross_margin', -0.010316875460574797),\n",
       "                             ('operating_profit_margin', 0.11422254974207811),\n",
       "                             ('net_profit_margin', -0.020633750921149593),\n",
       "                             ('debt_to_equity', None),\n",
       "                             ('equity', None),\n",
       "                             ('debt', None),\n",
       "                             ('current', None),\n",
       "                             ('quick', None),\n",
       "                             ('cash', None),\n",
       "                             ('times_interest_earned', 6.458333333333333),\n",
       "                             ('capex_to_operating_cash', None),\n",
       "                             ('operating_cash_flow', None),\n",
       "                             ('price_to_earnings', None),\n",
       "                             ('ev_ebitda', None),\n",
       "                             ('ev_ebit', None),\n",
       "                             ('ev_revenue', None)])],\n",
       "                          1634997: [(True,\n",
       "                            [('roe', 63.76150627615063),\n",
       "                             ('roa', 0.007546335764579584),\n",
       "                             ('roce', 0.014200735825052437),\n",
       "                             ('gross_margin', -0.17081911262798635),\n",
       "                             ('operating_profit_margin', 0.23492605233219568),\n",
       "                             ('net_profit_margin', 0.13594994311717862),\n",
       "                             ('debt_to_equity', 1.0593870988910032),\n",
       "                             ('equity', 0.4811657352151811),\n",
       "                             ('debt', 0.011051119320514035),\n",
       "                             ('current', 0.8106646058732612),\n",
       "                             ('quick', 0.44976816074188564),\n",
       "                             ('cash', 0.011591962905718702),\n",
       "                             ('times_interest_earned', 5.816901408450704),\n",
       "                             ('capex_to_operating_cash', 1.595047619047619),\n",
       "                             ('operating_cash_flow', 0.3235703245749614),\n",
       "                             ('price_to_earnings', 47.85783216871757),\n",
       "                             ('ev_ebitda', 19.275445718563113),\n",
       "                             ('ev_ebit', 28.469786654536318),\n",
       "                             ('ev_revenue', 6.688294589490045)])],\n",
       "                          1466593: [(True,\n",
       "                            [('roe', 34.675670155731424),\n",
       "                             ('roa', 0.010143957702519182),\n",
       "                             ('roce', 0.02018372226405119),\n",
       "                             ('gross_margin', 0.9034639939845972),\n",
       "                             ('operating_profit_margin', 0.1597537794757072),\n",
       "                             ('net_profit_margin', 0.09146868300975634),\n",
       "                             ('debt_to_equity', 1.8429400859638092),\n",
       "                             ('equity', 0.35174853136624634),\n",
       "                             ('debt', 0.3080427574161991),\n",
       "                             ('current', 0.9276954240721436),\n",
       "                             ('quick', None),\n",
       "                             ('cash', None),\n",
       "                             ('times_interest_earned', 4.584025730367194),\n",
       "                             ('capex_to_operating_cash', 0.7040480855444492),\n",
       "                             ('operating_cash_flow', 0.08984464390144677),\n",
       "                             ('price_to_earnings', 65.46884943360605),\n",
       "                             ('ev_ebitda', None),\n",
       "                             ('ev_ebit', None),\n",
       "                             ('ev_revenue', None)])],\n",
       "                          1567683: [(True,\n",
       "                            [('roe', 259.77777777777777),\n",
       "                             ('roa', 0.001048951048951049),\n",
       "                             ('roce', 0.006646153846153846),\n",
       "                             ('gross_margin', 0.6153846153846154),\n",
       "                             ('operating_profit_margin', 0.24434389140271492),\n",
       "                             ('net_profit_margin', 0.04072398190045249),\n",
       "                             ('debt_to_equity', 2.669803250641574),\n",
       "                             ('equity', 0.2724941724941725),\n",
       "                             ('debt', 0.7052447552447553),\n",
       "                             ('current', 1.0461538461538462),\n",
       "                             ('quick', 0.6813186813186813),\n",
       "                             ('cash', 0.46813186813186813),\n",
       "                             ('times_interest_earned', 0.72),\n",
       "                             ('capex_to_operating_cash', 16.0),\n",
       "                             ('operating_cash_flow', 0.14065934065934066),\n",
       "                             ('price_to_earnings', 150.6757316112074),\n",
       "                             ('ev_ebitda', 43.86635112500529),\n",
       "                             ('ev_ebit', 133.22373304631236),\n",
       "                             ('ev_revenue', 32.55240535973243)])],\n",
       "                          1130464: [(True,\n",
       "                            [('roe', 21.879905387922584),\n",
       "                             ('roa', 0.01177354628482403),\n",
       "                             ('roce', 0.024588291902346893),\n",
       "                             ('gross_margin', 0.9162928653877062),\n",
       "                             ('operating_profit_margin', 0.2742983007261729),\n",
       "                             ('net_profit_margin', 0.13976088894083954),\n",
       "                             ('debt_to_equity', 2.881926111916747),\n",
       "                             ('equity', 0.2576040787922772),\n",
       "                             ('debt', 0.5027136406387437),\n",
       "                             ('current', 1.0251824836160617),\n",
       "                             ('quick', 0.602916162250793),\n",
       "                             ('cash', 0.028837263946141153),\n",
       "                             ('times_interest_earned', 4.279291087303396),\n",
       "                             ('capex_to_operating_cash', 2.1186281723874245),\n",
       "                             ('operating_cash_flow', 0.3750300095519765),\n",
       "                             ('price_to_earnings', 40.75082194713965),\n",
       "                             ('ev_ebitda', 44.16956289789264),\n",
       "                             ('ev_ebit', 42.44408365534049),\n",
       "                             ('ev_revenue', 11.642340022539427)])]}),\n",
       "             'PIPE LINES (NO NATURAL GAS)': defaultdict(list,\n",
       "                         {1126975: [(True,\n",
       "                            [('roe', 8.53481251346886),\n",
       "                             ('roa', 0.03261199795779691),\n",
       "                             ('roce', 0.04220478586131201),\n",
       "                             ('gross_margin', 0.45637262994608097),\n",
       "                             ('operating_profit_margin', 0.42280640549220183),\n",
       "                             ('net_profit_margin', 0.34690082451555426),\n",
       "                             ('debt_to_equity', 2.5927633205506546),\n",
       "                             ('equity', 0.278337288259426),\n",
       "                             ('debt', -0.003011034309685428),\n",
       "                             ('current', 0.7606357158845973),\n",
       "                             ('quick', 0.22403476869911645),\n",
       "                             ('cash', 0.01774400841048393),\n",
       "                             ('times_interest_earned', 5.7741784536849945),\n",
       "                             ('capex_to_operating_cash', 1.885899021305162),\n",
       "                             ('operating_cash_flow', 0.6712365976775595),\n",
       "                             ('price_to_earnings', 53.623442293817256),\n",
       "                             ('ev_ebitda', 37.485100466998894),\n",
       "                             ('ev_ebit', 43.894792641462246),\n",
       "                             ('ev_revenue', 18.558999496562205)])],\n",
       "                          1283140: [(True,\n",
       "                            [('roe', 0.006024332042405038),\n",
       "                             ('roa', 0.013669066671657393),\n",
       "                             ('roce', 0.028305768393223338),\n",
       "                             ('gross_margin', 0.9503826251730924),\n",
       "                             ('operating_profit_margin', 0.7540849792289191),\n",
       "                             ('net_profit_margin', 0.3726113257051235),\n",
       "                             ('debt_to_equity', 522.4545454545455),\n",
       "                             ('equity', 8.234699633983643e-05),\n",
       "                             ('debt', 0.4529084798691004),\n",
       "                             ('current', 1.3173305693623236),\n",
       "                             ('quick', 1.2426562389578573),\n",
       "                             ('cash', 0.16506089373630775),\n",
       "                             ('times_interest_earned', 3.8211093876948077),\n",
       "                             ('capex_to_operating_cash', None),\n",
       "                             ('operating_cash_flow', 1.0278909801889238),\n",
       "                             ('price_to_earnings', 55.30753080250614),\n",
       "                             ('ev_ebitda', 56.37649231838673),\n",
       "                             ('ev_ebit', 43.56553542939778),\n",
       "                             ('ev_revenue', 32.85211587937417)])],\n",
       "                          1552000: [(True,\n",
       "                            [('roe', 71.33333333333333),\n",
       "                             ('roa', 0.008203445447087777),\n",
       "                             ('roce', 0.013372787799465088),\n",
       "                             ('gross_margin', 0.6591422121896162),\n",
       "                             ('operating_profit_margin', 0.2652370203160271),\n",
       "                             ('net_profit_margin', 0.16930022573363432),\n",
       "                             ('debt_to_equity', 0.7088785046728971),\n",
       "                             ('equity', 0.5851791085589281),\n",
       "                             ('debt', -0.023243095433415368),\n",
       "                             ('current', 1.1390449438202248),\n",
       "                             ('quick', 1.0084269662921348),\n",
       "                             ('cash', 0.37219101123595505),\n",
       "                             ('times_interest_earned', 2.764705882352941),\n",
       "                             ('capex_to_operating_cash', 1.3464285714285715),\n",
       "                             ('operating_cash_flow', 0.5294943820224719),\n",
       "                             ('price_to_earnings', 54.07670383446028),\n",
       "                             ('ev_ebitda', 16.640147029527),\n",
       "                             ('ev_ebit', 31.58087478795337),\n",
       "                             ('ev_revenue', 8.376417127730296)])],\n",
       "                          1610466: [(True,\n",
       "                            [('roe', 1.942090395480226),\n",
       "                             ('roa', 0.0787716955941255),\n",
       "                             ('roce', 0.05414611228564717),\n",
       "                             ('gross_margin', 0.6287809349220899),\n",
       "                             ('operating_profit_margin', 0.4225481209899175),\n",
       "                             ('net_profit_margin', 0.6489459211732356),\n",
       "                             ('debt_to_equity', 5.536727272727273),\n",
       "                             ('equity', 0.15298175344904316),\n",
       "                             ('debt', 0.7624610591900312),\n",
       "                             ('current', 4.185654008438819),\n",
       "                             ('quick', 3.8818565400843883),\n",
       "                             ('cash', 3.270042194092827),\n",
       "                             ('times_interest_earned', 11.525),\n",
       "                             ('capex_to_operating_cash', 11.057142857142857),\n",
       "                             ('operating_cash_flow', 2.449367088607595),\n",
       "                             ('price_to_earnings', 50.22432096509022),\n",
       "                             ('ev_ebitda', 107.53110327179968),\n",
       "                             ('ev_ebit', 88.63735193770906),\n",
       "                             ('ev_revenue', 37.45354651080099)])],\n",
       "                          1070423: [(True,\n",
       "                            [('roe', 22.565315315315317),\n",
       "                             ('roa', 0.017570936720883296),\n",
       "                             ('roce', 0.030265713067778147),\n",
       "                             ('gross_margin', 0.14924253787310635),\n",
       "                             ('operating_profit_margin', 0.09584520773961303),\n",
       "                             ('net_profit_margin', 0.06659667016649168),\n",
       "                             ('debt_to_equity', 1.5221079948098613),\n",
       "                             ('equity', 0.3964937274921841),\n",
       "                             ('debt', 0.3909533420396533),\n",
       "                             ('current', 1.0129932627526468),\n",
       "                             ('quick', 0.5428296438883542),\n",
       "                             ('cash', 0.009143407122232916),\n",
       "                             ('times_interest_earned', 4.953488372093023),\n",
       "                             ('capex_to_operating_cash', 2.9672727272727273),\n",
       "                             ('operating_cash_flow', 0.19634263715110684),\n",
       "                             ('price_to_earnings', 33.58446374542731),\n",
       "                             ('ev_ebitda', 32.569081451275956),\n",
       "                             ('ev_ebit', 38.73630970730787),\n",
       "                             ('ev_revenue', 3.712689650962911)])],\n",
       "                          1581990: [(True,\n",
       "                            [('roe', 298.9024390243902),\n",
       "                             ('roa', 0.0014904754980369346),\n",
       "                             ('roce', 0.011820128479657388),\n",
       "                             ('gross_margin', 0.14909254537273137),\n",
       "                             ('operating_profit_margin', 0.04139793010349482),\n",
       "                             ('net_profit_margin', 0.006149692515374231),\n",
       "                             ('debt_to_equity', 1.2446348429212566),\n",
       "                             ('equity', 0.44550676166933256),\n",
       "                             ('debt', 0.3591318889050458),\n",
       "                             ('current', 1.0134680134680134),\n",
       "                             ('quick', 0.5432900432900433),\n",
       "                             ('cash', 0.009860509860509861),\n",
       "                             ('times_interest_earned', 2.13953488372093),\n",
       "                             ('capex_to_operating_cash', 2.963636363636364),\n",
       "                             ('operating_cash_flow', 0.19600769600769602),\n",
       "                             ('price_to_earnings', 58.795950079360736),\n",
       "                             ('ev_ebitda', 30.775462194105),\n",
       "                             ('ev_ebit', 44.37910852628185),\n",
       "                             ('ev_revenue', 1.8372032328264272)])],\n",
       "                          1582568: [(True,\n",
       "                            [('roe', 5.397832982856328),\n",
       "                             ('roa', 0.037424502731773945),\n",
       "                             ('roce', 0.05048731014693514),\n",
       "                             ('gross_margin', 0.6844420192800569),\n",
       "                             ('operating_profit_margin', 0.5737222415133025),\n",
       "                             ('net_profit_margin', 0.4639284356036179),\n",
       "                             ('debt_to_equity', 3.950220209050031),\n",
       "                             ('equity', 0.20201121521256615),\n",
       "                             ('debt', 0.7192248591429059),\n",
       "                             ('current', 1.8359592660197905),\n",
       "                             ('quick', 1.804672238767733),\n",
       "                             ('cash', 0.6537611682198098),\n",
       "                             ('times_interest_earned', 4.5846987315010574),\n",
       "                             ('capex_to_operating_cash', 5.513330251194329),\n",
       "                             ('operating_cash_flow', 1.7185128254395234),\n",
       "                             ('price_to_earnings', 19.065845699221963),\n",
       "                             ('ev_ebitda', 24.963168477352948),\n",
       "                             ('ev_ebit', 29.780685153848186),\n",
       "                             ('ev_revenue', 17.085841440267714)])]}),\n",
       "             'WATER SUPPLY': defaultdict(list,\n",
       "                         {1410636: [(True,\n",
       "                            [('roe', 56.8494623655914),\n",
       "                             ('roa', 0.004997313272434175),\n",
       "                             ('roce', 0.014204545454545454),\n",
       "                             ('gross_margin', -0.01984126984126984),\n",
       "                             ('operating_profit_margin', 0.30423280423280424),\n",
       "                             ('net_profit_margin', 0.12301587301587301),\n",
       "                             ('debt_to_equity', 2.519954605636467),\n",
       "                             ('equity', 0.284094572810317),\n",
       "                             ('debt', 0.3920472864051585),\n",
       "                             ('current', 0.3172043010752688),\n",
       "                             ('quick', 0.22952853598014888),\n",
       "                             ('cash', 0.03225806451612903),\n",
       "                             ('times_interest_earned', 2.7058823529411766),\n",
       "                             ('capex_to_operating_cash', 1.025925925925926),\n",
       "                             ('operating_cash_flow', 0.11455748552522746),\n",
       "                             ('price_to_earnings', 134.49596666810004),\n",
       "                             ('ev_ebitda', 73.33131933135057),\n",
       "                             ('ev_ebit', 85.7657604353622),\n",
       "                             ('ev_revenue', 26.092757804409132)])],\n",
       "                          928340: [(True,\n",
       "                            [('roe', 55.96738937104652),\n",
       "                             ('roa', 0.01573859820766717),\n",
       "                             ('roce', 0.015760611649412688),\n",
       "                             ('gross_margin', 0.43589473720468563),\n",
       "                             ('operating_profit_margin', 0.15906979260075169),\n",
       "                             ('net_profit_margin', 0.16783888556982393),\n",
       "                             ('debt_to_equity', 0.07789815473085486),\n",
       "                             ('equity', 0.8808482540429634),\n",
       "                             ('debt', 0.005275652136250619),\n",
       "                             ('current', 7.3455535876943445),\n",
       "                             ('quick', 6.771071405522601),\n",
       "                             ('cash', 4.079049327266137),\n",
       "                             ('times_interest_earned', 1121.7966711650922),\n",
       "                             ('capex_to_operating_cash', -0.4074117486510529),\n",
       "                             ('operating_cash_flow', -0.08033503711754458),\n",
       "                             ('price_to_earnings', 59.73583102987287),\n",
       "                             ('ev_ebitda', 48.73297294322949),\n",
       "                             ('ev_ebit', 48.73297294322949),\n",
       "                             ('ev_revenue', 7.75194389889756)])],\n",
       "                          1434728: [(True,\n",
       "                            [('roe', 73.82539682539682),\n",
       "                             ('roa', 0.0007873523714303568),\n",
       "                             ('roce', 0.007357246954293488),\n",
       "                             ('gross_margin', 0.6418789574436754),\n",
       "                             ('operating_profit_margin', 0.24606096303931674),\n",
       "                             ('net_profit_margin', 0.02783095273155647),\n",
       "                             ('debt_to_equity', 16.203970472299865),\n",
       "                             ('equity', 0.05812660126226333),\n",
       "                             ('debt', 0.47907683975921184),\n",
       "                             ('current', 1.470824949698189),\n",
       "                             ('quick', 1.2830057266676984),\n",
       "                             ('cash', 1.1458752515090542),\n",
       "                             ('times_interest_earned', 1.2736280487804879),\n",
       "                             ('capex_to_operating_cash', 0.3226748654880861),\n",
       "                             ('operating_cash_flow', 0.16243615539390188),\n",
       "                             ('price_to_earnings', 829.8745646912238),\n",
       "                             ('ev_ebitda', 83.04985225416519),\n",
       "                             ('ev_ebit', 153.8236341870983),\n",
       "                             ('ev_revenue', 37.84999156628498)])],\n",
       "                          727273: [(True,\n",
       "                            [('roe', 7.980489829804898),\n",
       "                             ('roa', -0.11660401103599606),\n",
       "                             ('roce', -0.06984919502751172),\n",
       "                             ('gross_margin', 1.0),\n",
       "                             ('operating_profit_margin', -38.083333333333336),\n",
       "                             ('net_profit_margin', -66.91666666666667),\n",
       "                             ('debt_to_equity', -2.0746250541829214),\n",
       "                             ('equity', -0.9305571241872247),\n",
       "                             ('debt', 0.02328207941399506),\n",
       "                             ('current', 3.2807754442649433),\n",
       "                             ('quick', 3.0665589660743136),\n",
       "                             ('cash', 3.0394184168012925),\n",
       "                             ('times_interest_earned', -1.32123353678124),\n",
       "                             ('capex_to_operating_cash', -22.71551724137931),\n",
       "                             ('operating_cash_flow', -0.851373182552504),\n",
       "                             ('price_to_earnings', -48.59366781456255),\n",
       "                             ('ev_ebitda', -84.9140121959039),\n",
       "                             ('ev_ebit', -83.44819773786617),\n",
       "                             ('ev_revenue', 3177.98553051707)])],\n",
       "                          1035201: [(True,\n",
       "                            [('roe', 253.23989113530325),\n",
       "                             ('roa', 0.001053969638134359),\n",
       "                             ('roce', 0.005586128998451273),\n",
       "                             ('gross_margin', -0.3107422905828244),\n",
       "                             ('operating_profit_margin', 0.11303061147553344),\n",
       "                             ('net_profit_margin', 0.024240367940888186),\n",
       "                             ('debt_to_equity', 2.746621159990358),\n",
       "                             ('equity', 0.26690715642106005),\n",
       "                             ('debt', 0.2597637665563796),\n",
       "                             ('current', 0.4370034052213394),\n",
       "                             ('quick', 0.2671411479584011),\n",
       "                             ('cash', 0.04326574020104099),\n",
       "                             ('times_interest_earned', 1.5530950530950531),\n",
       "                             ('capex_to_operating_cash', 0.2757217518754942),\n",
       "                             ('operating_cash_flow', 0.04873318267188869),\n",
       "                             ('price_to_earnings', 593.2854273785294),\n",
       "                             ('ev_ebitda', 74.01117228698003),\n",
       "                             ('ev_ebit', 179.03261229196846),\n",
       "                             ('ev_revenue', 20.236165641423298)])],\n",
       "                          66004: [(True,\n",
       "                            [('roe', 50.05539292952038),\n",
       "                             ('roa', 0.007079987437446294),\n",
       "                             ('roce', 0.013673544979039666),\n",
       "                             ('gross_margin', -0.3113891849152601),\n",
       "                             ('operating_profit_margin', 0.27158032245866137),\n",
       "                             ('net_profit_margin', 0.15266939392897658),\n",
       "                             ('debt_to_equity', 1.567329146723288),\n",
       "                             ('equity', 0.35439155311744236),\n",
       "                             ('debt', 0.22972893261337785),\n",
       "                             ('current', 0.5455830959739814),\n",
       "                             ('quick', 0.420499767690847),\n",
       "                             ('cash', 0.12183100014140558),\n",
       "                             ('times_interest_earned', 7.876370887337986),\n",
       "                             ('capex_to_operating_cash', 1.0534614179805786),\n",
       "                             ('operating_cash_flow', 0.2038058299497),\n",
       "                             ('price_to_earnings', 113.47338616137093),\n",
       "                             ('ev_ebitda', 57.28089828182086),\n",
       "                             ('ev_ebit', 81.2663680940061),\n",
       "                             ('ev_revenue', 22.070346452014444)])]}),\n",
       "             'WATER TRANSPORTATION': defaultdict(list,\n",
       "                         {884887: [(True,\n",
       "                            [('roe', 43.156534374039474),\n",
       "                             ('roa', 0.009752622681381246),\n",
       "                             ('roce', 0.016692350160625098),\n",
       "                             ('gross_margin', 0.4145935396502967),\n",
       "                             ('operating_profit_margin', 0.13916537220695424),\n",
       "                             ('net_profit_margin', 0.10690544469669813),\n",
       "                             ('debt_to_equity', 1.375921107865365),\n",
       "                             ('equity', 0.42088939598606673),\n",
       "                             ('debt', 0.38921165338625063),\n",
       "                             ('current', 0.1435368043428529),\n",
       "                             ('quick', 0.07630950073049857),\n",
       "                             ('cash', 0.020734891806161986),\n",
       "                             ('times_interest_earned', 3.480234570514337),\n",
       "                             ('capex_to_operating_cash', 6.487266152480392),\n",
       "                             ('operating_cash_flow', 0.15109350950786288),\n",
       "                             ('price_to_earnings', 101.39342177373244),\n",
       "                             ('ev_ebitda', 24.246654067248404),\n",
       "                             ('ev_ebit', 108.1555937771856),\n",
       "                             ('ev_revenue', 15.051513464266177)])],\n",
       "                          56047: [(True,\n",
       "                            [('roe', 88.42448058799985),\n",
       "                             ('roa', 0.006455512095482292),\n",
       "                             ('roce', 0.011543276391294464),\n",
       "                             ('gross_margin', 0.9062079905634476),\n",
       "                             ('operating_profit_margin', 0.09211417414913413),\n",
       "                             ('net_profit_margin', 0.055893269338322775),\n",
       "                             ('debt_to_equity', 0.7518494590913393),\n",
       "                             ('equity', 0.5708253039725723),\n",
       "                             ('debt', 0.15844626114440824),\n",
       "                             ('current', 1.82765278710544),\n",
       "                             ('quick', 0.918878321980236),\n",
       "                             ('cash', 0.008262976110524801),\n",
       "                             ('times_interest_earned', 10.162216737715953),\n",
       "                             ('capex_to_operating_cash', 1.8617283950617285),\n",
       "                             ('operating_cash_flow', 0.25545068598292237),\n",
       "                             ('price_to_earnings', 132.95775072156187),\n",
       "                             ('ev_ebitda', 46.28434635182569),\n",
       "                             ('ev_ebit', 95.5086627752784),\n",
       "                             ('ev_revenue', 8.797701595632919)])],\n",
       "                          1513761: [(True,\n",
       "                            [('roe', 74.70977225004039),\n",
       "                             ('roa', 0.004734537445021512),\n",
       "                             ('roce', 0.011328264404760417),\n",
       "                             ('gross_margin', -0.048654783142926414),\n",
       "                             ('operating_profit_margin', 0.10404586102829295),\n",
       "                             ('net_profit_margin', 0.053798246582103804),\n",
       "                             ('debt_to_equity', 1.8271251352890483),\n",
       "                             ('equity', 0.3537162142268453),\n",
       "                             ('debt', 0.47230303242114274),\n",
       "                             ('current', 0.19481370167614837),\n",
       "                             ('quick', 0.10680643811391521),\n",
       "                             ('cash', 0.08767855226609339),\n",
       "                             ('times_interest_earned', 2.2608383685800604),\n",
       "                             ('capex_to_operating_cash', 6.123929120286643),\n",
       "                             ('operating_cash_flow', 0.2877253058630686),\n",
       "                             ('price_to_earnings', 196.3504772895113),\n",
       "                             ('ev_ebitda', 75.80270298692822),\n",
       "                             ('ev_ebit', 151.2705000166506),\n",
       "                             ('ev_revenue', 15.739069422412818)])],\n",
       "                          798528: [(True,\n",
       "                            [('roe', 9.53868955190898),\n",
       "                             ('roa', -0.5527890641789526),\n",
       "                             ('roce', 0.06167580681946657),\n",
       "                             ('gross_margin', 1.0),\n",
       "                             ('operating_profit_margin', -2.285916904980804),\n",
       "                             ('net_profit_margin', -3.3868527595930105),\n",
       "                             ('debt_to_equity', -1.803367819000846),\n",
       "                             ('equity', -5.272883270893318),\n",
       "                             ('debt', 6.5205031563522295),\n",
       "                             ('current', 0.06678145774327034),\n",
       "                             ('quick', 0.0506763345897811),\n",
       "                             ('cash', 0.03799829236061356),\n",
       "                             ('times_interest_earned', -2.076339775295987),\n",
       "                             ('capex_to_operating_cash', -54.81892368769299),\n",
       "                             ('operating_cash_flow', -0.008862274740251048),\n",
       "                             ('price_to_earnings', -13.465828579500117),\n",
       "                             ('ev_ebitda', -26.440177784826133),\n",
       "                             ('ev_ebit', -36.70987872893777),\n",
       "                             ('ev_revenue', 83.91573236627407)])],\n",
       "                          3453: [(True,\n",
       "                            [('roe', 69.91428571428571),\n",
       "                             ('roa', 0.003440817931576878),\n",
       "                             ('roce', 0.009249337318820145),\n",
       "                             ('gross_margin', 0.8916898098696859),\n",
       "                             ('operating_profit_margin', 0.03503524887844478),\n",
       "                             ('net_profit_margin', 0.014954069643238624),\n",
       "                             ('debt_to_equity', 3.156926849203106),\n",
       "                             ('equity', 0.24056232795910343),\n",
       "                             ('debt', 0.3835528902870625),\n",
       "                             ('current', 1.1002678913126673),\n",
       "                             ('quick', 0.8319938767699961),\n",
       "                             ('cash', 0.07462686567164178),\n",
       "                             ('times_interest_earned', 2.6031746031746033),\n",
       "                             ('capex_to_operating_cash', 0.1652892561983471),\n",
       "                             ('operating_cash_flow', 0.015308075009567547),\n",
       "                             ('price_to_earnings', 170.86364214942634),\n",
       "                             ('ev_ebitda', 47.7279389035606),\n",
       "                             ('ev_ebit', 119.31984725890149),\n",
       "                             ('ev_revenue', 4.18040054485363)])]}),\n",
       "             'METAL MINING': defaultdict(list,\n",
       "                         {764065: [(True,\n",
       "                            [('roe', None),\n",
       "                             ('roa', None),\n",
       "                             ('roce', None),\n",
       "                             ('gross_margin', None),\n",
       "                             ('operating_profit_margin', None),\n",
       "                             ('net_profit_margin', None),\n",
       "                             ('debt_to_equity', None),\n",
       "                             ('equity', None),\n",
       "                             ('debt', None),\n",
       "                             ('current', None),\n",
       "                             ('quick', None),\n",
       "                             ('cash', None),\n",
       "                             ('times_interest_earned', None),\n",
       "                             ('capex_to_operating_cash', None),\n",
       "                             ('operating_cash_flow', None),\n",
       "                             ('price_to_earnings', None),\n",
       "                             ('ev_ebitda', None),\n",
       "                             ('ev_ebit', None),\n",
       "                             ('ev_revenue', None)])],\n",
       "                          831259: [(True,\n",
       "                            [('roe', 27.710526315789473),\n",
       "                             ('roa', 0.006233595800524934),\n",
       "                             ('roce', 0.018812629986764983),\n",
       "                             ('gross_margin', 0.22867404968572283),\n",
       "                             ('operating_profit_margin', 0.17868901526489075),\n",
       "                             ('net_profit_margin', 0.06824304100568691),\n",
       "                             ('debt_to_equity', 4.271763216207661),\n",
       "                             ('equity', 0.17273622047244094),\n",
       "                             ('debt', -0.002597331583552056),\n",
       "                             ('current', 2.017141676992978),\n",
       "                             ('quick', 1.1152416356877324),\n",
       "                             ('cash', 0.8263114415530772),\n",
       "                             ('times_interest_earned', 3.0615384615384613),\n",
       "                             ('capex_to_operating_cash', 2.302325581395349),\n",
       "                             ('operating_cash_flow', 0.16356877323420074),\n",
       "                             ('price_to_earnings', 71.6540072723384),\n",
       "                             ('ev_ebitda', 21.513380769935246),\n",
       "                             ('ev_ebit', 20.504377986755703),\n",
       "                             ('ev_revenue', 3.6639071110724797)])],\n",
       "                          1001838: [(True,\n",
       "                            [('roe', 19.353371501272264),\n",
       "                             ('roa', 0.023249279006137692),\n",
       "                             ('roce', 0.04551003311126182),\n",
       "                             ('gross_margin', 0.41013631597343586),\n",
       "                             ('operating_profit_margin', 0.3987416987067459),\n",
       "                             ('net_profit_margin', 0.2197832925550507),\n",
       "                             ('debt_to_equity', 1.2224596118132365),\n",
       "                             ('equity', 0.44995193374251274),\n",
       "                             ('debt', 0.44035347186275237),\n",
       "                             ('current', 2.8032339565437088),\n",
       "                             ('quick', 1.4833754421424963),\n",
       "                             ('cash', 0.7061141990904497),\n",
       "                             ('times_interest_earned', 6.28193832599119),\n",
       "                             ('capex_to_operating_cash', 1.9955211726384365),\n",
       "                             ('operating_cash_flow', 0.4953006568974229),\n",
       "                             ('price_to_earnings', 70.62777669997985),\n",
       "                             ('ev_ebitda', 47.23352768227324),\n",
       "                             ('ev_ebit', 48.1444126831586),\n",
       "                             ('ev_revenue', 19.19718489652126)])]}),\n",
       "             'ELECTRIC & OTHER SERVICES COMBINED': defaultdict(list,\n",
       "                         {66756: [(True,\n",
       "                            [('roe', 40.8469387755102),\n",
       "                             ('roa', 0.009915214795928691),\n",
       "                             ('roce', 0.01732462368645271),\n",
       "                             ('gross_margin', 0.8457330415754923),\n",
       "                             ('operating_profit_margin', 0.21690371991247265),\n",
       "                             ('net_profit_margin', 0.13402625820568928),\n",
       "                             ('debt_to_equity', 1.4690981763677242),\n",
       "                             ('equity', 0.40500617171533215),\n",
       "                             ('debt', 0.3104271636415144),\n",
       "                             ('current', 0.9890290729566649),\n",
       "                             ('quick', 0.5611629182665935),\n",
       "                             ('cash', 0.22435545803620405),\n",
       "                             ('times_interest_earned', 4.6104651162790695),\n",
       "                             ('capex_to_operating_cash', 2.689373297002725),\n",
       "                             ('operating_cash_flow', 0.2707076247942951),\n",
       "                             ('price_to_earnings', 61.71546687195527),\n",
       "                             ('ev_ebitda', 53.54495067853838),\n",
       "                             ('ev_ebit', 56.44839693222961),\n",
       "                             ('ev_revenue', 12.243867277696411)])],\n",
       "                          72903: [(True,\n",
       "                            [('roe', 46.31845606694561),\n",
       "                             ('roa', 0.005788979676830088),\n",
       "                             ('roce', 0.013891341236938779),\n",
       "                             ('gross_margin', 0.6346792260692464),\n",
       "                             ('operating_profit_margin', 0.17718940936863545),\n",
       "                             ('net_profit_margin', 0.08112695179904957),\n",
       "                             ('debt_to_equity', 2.7294423696383894),\n",
       "                             ('equity', 0.26813660083369545),\n",
       "                             ('debt', 0.014654111734235161),\n",
       "                             ('current', 0.7101324280416055),\n",
       "                             ('quick', 0.23064685424069628),\n",
       "                             ('cash', 0.019956979225324006),\n",
       "                             ('times_interest_earned', 3.144578313253012),\n",
       "                             ('capex_to_operating_cash', 0.9586114819759679),\n",
       "                             ('operating_cash_flow', 0.1936366362673329),\n",
       "                             ('price_to_earnings', 83.71880047288045),\n",
       "                             ('ev_ebitda', 39.291433487998056),\n",
       "                             ('ev_ebit', 39.34826305175943),\n",
       "                             ('ev_revenue', 6.972095489822955)])],\n",
       "                          755001: [(True,\n",
       "                            [('roe', 24.338709677419356),\n",
       "                             ('roa', 0.010930888575458392),\n",
       "                             ('roce', 0.028932525590139962),\n",
       "                             ('gross_margin', 1.0),\n",
       "                             ('operating_profit_margin', 16.294117647058822),\n",
       "                             ('net_profit_margin', 7.294117647058823),\n",
       "                             ('debt_to_equity', 2.758780649436713),\n",
       "                             ('equity', 0.26604372355430184),\n",
       "                             ('debt', 0.36151269393511987),\n",
       "                             ('current', 0.7124293785310735),\n",
       "                             ('quick', 0.4056497175141243),\n",
       "                             ('cash', 0.04971751412429379),\n",
       "                             ('times_interest_earned', 4.328125),\n",
       "                             ('capex_to_operating_cash', 3.434285714285714),\n",
       "                             ('operating_cash_flow', 0.33954802259887007),\n",
       "                             ('price_to_earnings', 46.48381388854316),\n",
       "                             ('ev_ebitda', 25.0692126209727),\n",
       "                             ('ev_ebit', 35.296003329167334),\n",
       "                             ('ev_revenue', 575.1172307164325)])],\n",
       "                          73088: [(True,\n",
       "                            [('roe', 30.215549702123145),\n",
       "                             ('roa', 0.01028434625668668),\n",
       "                             ('roce', 0.01771299864728809),\n",
       "                             ('gross_margin', 0.6738004748007144),\n",
       "                             ('operating_profit_margin', 0.2389576164132944),\n",
       "                             ('net_profit_margin', 0.15400259180206474),\n",
       "                             ('debt_to_equity', 2.218050167241691),\n",
       "                             ('equity', 0.3107471754727605),\n",
       "                             ('debt', 0.36771387602242134),\n",
       "                             ('current', 0.44884510246390374),\n",
       "                             ('quick', 0.28433962610306934),\n",
       "                             ('cash', 0.022809914322931),\n",
       "                             ('times_interest_earned', 3.750940170940171),\n",
       "                             ('capex_to_operating_cash', 3.051320871911334),\n",
       "                             ('operating_cash_flow', 0.28840515897040747),\n",
       "                             ('price_to_earnings', 43.03130793230484),\n",
       "                             ('ev_ebitda', 34.69229144691221),\n",
       "                             ('ev_ebit', 50.634097386486445),\n",
       "                             ('ev_revenue', 12.099403220713421)])],\n",
       "                          104918: [(True,\n",
       "                            [('roe', 27.137549101680726),\n",
       "                             ('roa', 0.01163142777479941),\n",
       "                             ('roce', 0.02392765385739798),\n",
       "                             ('gross_margin', 0.9543107200953101),\n",
       "                             ('operating_profit_margin', 0.27265333241689005),\n",
       "                             ('net_profit_margin', 0.14231447751277293),\n",
       "                             ('debt_to_equity', 2.1682179730861684),\n",
       "                             ('equity', 0.315648442361272),\n",
       "                             ('debt', 0.029305145964906104),\n",
       "                             ('current', 0.9740121311251959),\n",
       "                             ('quick', 0.6535568731684046),\n",
       "                             ('cash', 0.07136645539426156),\n",
       "                             ('times_interest_earned', 5.054363983860692),\n",
       "                             ('capex_to_operating_cash', 1.7248669324177976),\n",
       "                             ('operating_cash_flow', 0.4081373952157023),\n",
       "                             ('price_to_earnings', 35.97502508590289),\n",
       "                             ('ev_ebitda', 19.84131331735877),\n",
       "                             ('ev_ebit', 19.87265794072471),\n",
       "                             ('ev_revenue', 5.418346411519565)])],\n",
       "                          783325: [(True,\n",
       "                            [('roe', 25.654244886522836),\n",
       "                             ('roa', 0.011890087484925009),\n",
       "                             ('roce', 0.02198340605106931),\n",
       "                             ('gross_margin', 0.5701019743979171),\n",
       "                             ('operating_profit_margin', 0.266738988934693),\n",
       "                             ('net_profit_margin', 0.154870904751573),\n",
       "                             ('debt_to_equity', 2.3246941896024467),\n",
       "                             ('equity', 0.30503121606044653),\n",
       "                             ('debt', 0.33125337313353276),\n",
       "                             ('current', 0.9029981504915798),\n",
       "                             ('quick', -0.037671566241604205),\n",
       "                             ('cash', 0.022242772315779227),\n",
       "                             ('times_interest_earned', 5.871060171919771),\n",
       "                             ('capex_to_operating_cash', 2.167424931756142),\n",
       "                             ('operating_cash_flow', 0.34780492553295045),\n",
       "                             ('price_to_earnings', 46.7328126554196),\n",
       "                             ('ev_ebitda', 30.565084343552908),\n",
       "                             ('ev_ebit', 43.23465241047544),\n",
       "                             ('ev_revenue', 11.532367470913107)])]}),\n",
       "             'GOLD AND SILVER ORES': defaultdict(list,\n",
       "                         {1120970: [(True,\n",
       "                            [('roe', -4.407136162758004),\n",
       "                             ('roa', -0.08419558658618852),\n",
       "                             ('roce', -0.07445094269279795),\n",
       "                             ('gross_margin', -46.659220483051726),\n",
       "                             ('operating_profit_margin', -120.14605576863273),\n",
       "                             ('net_profit_margin', -143.7845962475381),\n",
       "                             ('debt_to_equity', 1.6949716710579232),\n",
       "                             ('equity', 0.3710614143886141),\n",
       "                             ('debt', 0.3447382219792491),\n",
       "                             ('current', 3.615876063862934),\n",
       "                             ('quick', None),\n",
       "                             ('cash', 0.2142869354074651),\n",
       "                             ('times_interest_earned', -5.082634263136892),\n",
       "                             ('capex_to_operating_cash', -1.1660846598309373),\n",
       "                             ('operating_cash_flow', -1.080787130353644),\n",
       "                             ('price_to_earnings', -306.7672591091081),\n",
       "                             ('ev_ebitda', -741.3147997372761),\n",
       "                             ('ev_ebit', -371.85566955120345),\n",
       "                             ('ev_revenue', 44676.992011781156)])],\n",
       "                          215466: [(True,\n",
       "                            [('roe', 42.14863633928093),\n",
       "                             ('roa', 0.013951037189310409),\n",
       "                             ('roce', 0.026918841156892467),\n",
       "                             ('gross_margin', 0.17445595352296367),\n",
       "                             ('operating_profit_margin', 0.1784925143085032),\n",
       "                             ('net_profit_margin', 0.10057988510083318),\n",
       "                             ('debt_to_equity', 0.7006305458798403),\n",
       "                             ('equity', 0.5880171930480284),\n",
       "                             ('debt', 0.16376452999439356),\n",
       "                             ('current', 4.09640080085673),\n",
       "                             ('quick', 3.0974810262140893),\n",
       "                             ('cash', 1.4958886250407413),\n",
       "                             ('times_interest_earned', 9.253981559094719),\n",
       "                             ('capex_to_operating_cash', 2.3428849985163835),\n",
       "                             ('operating_cash_flow', 0.5146994459188899),\n",
       "                             ('price_to_earnings', 88.15941808688322),\n",
       "                             ('ev_ebitda', 51.42803041913434),\n",
       "                             ('ev_ebit', 51.44200542740041),\n",
       "                             ('ev_revenue', 9.182012889808366)])],\n",
       "                          1164727: [(True,\n",
       "                            [('roe', None),\n",
       "                             ('roa', None),\n",
       "                             ('roce', None),\n",
       "                             ('gross_margin', None),\n",
       "                             ('operating_profit_margin', None),\n",
       "                             ('net_profit_margin', None),\n",
       "                             ('debt_to_equity', None),\n",
       "                             ('equity', None),\n",
       "                             ('debt', None),\n",
       "                             ('current', None),\n",
       "                             ('quick', None),\n",
       "                             ('cash', None),\n",
       "                             ('times_interest_earned', None),\n",
       "                             ('capex_to_operating_cash', None),\n",
       "                             ('operating_cash_flow', None),\n",
       "                             ('price_to_earnings', None),\n",
       "                             ('ev_ebitda', None),\n",
       "                             ('ev_ebit', None),\n",
       "                             ('ev_revenue', None)])],\n",
       "                          1375205: [(True,\n",
       "                            [('roe', 8.309693582578532),\n",
       "                             ('roa', 0.05294897959183673),\n",
       "                             ('roce', 0.06303221344097604),\n",
       "                             ('gross_margin', 0.5754653358510925),\n",
       "                             ('operating_profit_margin', 0.3748988400323712),\n",
       "                             ('net_profit_margin', 0.34994604801726464),\n",
       "                             ('debt_to_equity', 1.2727799809828615),\n",
       "                             ('equity', 0.43998979591836734),\n",
       "                             ('debt', 0.23334693877551022),\n",
       "                             ('current', 1.5528703986948098),\n",
       "                             ('quick', 0.8576526970531253),\n",
       "                             ('cash', 0.8558172733761599),\n",
       "                             ('times_interest_earned', 191.68965517241378),\n",
       "                             ('capex_to_operating_cash', 656.6),\n",
       "                             ('operating_cash_flow', 0.6695217701641685),\n",
       "                             ('price_to_earnings', 15.575088211709842),\n",
       "                             ('ev_ebitda', 13.86096476080907),\n",
       "                             ('ev_ebit', 17.142315655794633),\n",
       "                             ('ev_revenue', 6.426634254826164)])]}),\n",
       "             'PETROLEUM REFINING': defaultdict(list,\n",
       "                         {1340122: [(True,\n",
       "                            [('roe', -34.403225806451616),\n",
       "                             ('roa', -0.0022560221235717924),\n",
       "                             ('roce', 0.017499444814568065),\n",
       "                             ('gross_margin', 0.14401690391459074),\n",
       "                             ('operating_profit_margin', 0.043816725978647685),\n",
       "                             ('net_profit_margin', -0.006895017793594306),\n",
       "                             ('debt_to_equity', 11.884200656352554),\n",
       "                             ('equity', 0.07761443854159086),\n",
       "                             ('debt', 0.7523833782111928),\n",
       "                             ('current', 1.413730622105899),\n",
       "                             ('quick', 0.5049325548620898),\n",
       "                             ('cash', 0.009261123414535936),\n",
       "                             ('times_interest_earned', 0.89749430523918),\n",
       "                             ('capex_to_operating_cash', -2.366279069767442),\n",
       "                             ('operating_cash_flow', -0.08194080934165492),\n",
       "                             ('price_to_earnings', -55.96984114504299),\n",
       "                             ('ev_ebitda', 29.35582235200081),\n",
       "                             ('ev_ebit', 61.170381093890015),\n",
       "                             ('ev_revenue', 2.68028582640043)])],\n",
       "                          93410: [(True,\n",
       "                            [('roe', 54.65771812080537),\n",
       "                             ('roa', 0.010350776308223116),\n",
       "                             ('roce', 0.013711337971693001),\n",
       "                             ('gross_margin', 0.3999880314772149),\n",
       "                             ('operating_profit_margin', 0.09464109392298256),\n",
       "                             ('net_profit_margin', 0.08024894527392956),\n",
       "                             ('debt_to_equity', 0.7593934184675835),\n",
       "                             ('equity', 0.5657498137863696),\n",
       "                             ('debt', 0.13969688666247285),\n",
       "                             ('current', 1.0401744881446564),\n",
       "                             ('quick', 0.7298951663969605),\n",
       "                             ('cash', 0.2456553859143038),\n",
       "                             ('times_interest_earned', 62.01960784313726),\n",
       "                             ('capex_to_operating_cash', 1.139366515837104),\n",
       "                             ('operating_cash_flow', 0.13287131499331598),\n",
       "                             ('price_to_earnings', 59.923662952818916),\n",
       "                             ('ev_ebitda', 60.04719065427137),\n",
       "                             ('ev_ebit', 60.04719065427137),\n",
       "                             ('ev_revenue', 5.6829318105221365)])],\n",
       "                          1534701: [(True,\n",
       "                            [('roe', 41.8018691588785),\n",
       "                             ('roa', 0.010407547903900399),\n",
       "                             ('roce', -0.011763327475102519),\n",
       "                             ('gross_margin', 0.06438086918541167),\n",
       "                             ('operating_profit_margin', -0.02192618475649705),\n",
       "                             ('net_profit_margin', 0.02336754749945403),\n",
       "                             ('debt_to_equity', 1.2377034519763905),\n",
       "                             ('equity', 0.4350549557436047),\n",
       "                             ('debt', 0.1986188113996693),\n",
       "                             ('current', 1.3940435280641466),\n",
       "                             ('quick', 0.2508591065292096),\n",
       "                             ('cash', 0.17331042382588774),\n",
       "                             ('times_interest_earned', -4.780952380952381),\n",
       "                             ('capex_to_operating_cash', -1.1680851063829787),\n",
       "                             ('operating_cash_flow', -0.06288659793814433),\n",
       "                             ('price_to_earnings', 64.08927896838013),\n",
       "                             ('ev_ebitda', -229.86504945499124),\n",
       "                             ('ev_ebit', -85.62702041450868),\n",
       "                             ('ev_revenue', 1.877473869756862)])],\n",
       "                          1035002: [(True,\n",
       "                            [('roe', 65.0),\n",
       "                             ('roa', 0.006623667122722436),\n",
       "                             ('roce', 0.014102967390164622),\n",
       "                             ('gross_margin', 0.033621164798824175),\n",
       "                             ('operating_profit_margin', 0.024710637516075693),\n",
       "                             ('net_profit_margin', 0.014008818666176742),\n",
       "                             ('debt_to_equity', 1.322673392181589),\n",
       "                             ('equity', 0.4305383629769583),\n",
       "                             ('debt', 0.17212847742523943),\n",
       "                             ('current', 2.0139258133941005),\n",
       "                             ('quick', 1.211165970375997),\n",
       "                             ('cash', 0.5650082288897329),\n",
       "                             ('times_interest_earned', 4.446280991735537),\n",
       "                             ('capex_to_operating_cash', 3.5412186379928317),\n",
       "                             ('operating_cash_flow', 0.12507912393973922),\n",
       "                             ('price_to_earnings', 78.33265938955103),\n",
       "                             ('ev_ebitda', 49.73538384329648),\n",
       "                             ('ev_ebit', 50.844723259875586),\n",
       "                             ('ev_revenue', 1.256405526079968)])],\n",
       "                          7039: [(True,\n",
       "                            [('roe', 111.77336919973101),\n",
       "                             ('roa', 0.005031246510778101),\n",
       "                             ('roce', 0.011804703343800863),\n",
       "                             ('gross_margin', 0.19338505809929699),\n",
       "                             ('operating_profit_margin', 0.05799001930572251),\n",
       "                             ('net_profit_margin', 0.027082650347867263),\n",
       "                             ('debt_to_equity', 0.7764835416077542),\n",
       "                             ('equity', 0.562359373784059),\n",
       "                             ('debt', -0.002368441531637304),\n",
       "                             ('current', 1.9695702671312427),\n",
       "                             ('quick', 1.2557491289198606),\n",
       "                             ('cash', 0.15660085172280294),\n",
       "                             ('times_interest_earned', 5.0062893081761),\n",
       "                             ('capex_to_operating_cash', 0.6289172249837908),\n",
       "                             ('operating_cash_flow', 0.33797909407665505),\n",
       "                             ('price_to_earnings', 185.19179260189782),\n",
       "                             ('ev_ebitda', 70.22189818345149),\n",
       "                             ('ev_ebit', 84.99849108009487),\n",
       "                             ('ev_revenue', 4.929064138691984)])],\n",
       "                          1376139: [(True,\n",
       "                            [('roe', 38.04090909090909),\n",
       "                             ('roa', 0.00542781012533307),\n",
       "                             ('roce', 0.01826614750343564),\n",
       "                             ('gross_margin', 0.06575978765759788),\n",
       "                             ('operating_profit_margin', 0.042335766423357665),\n",
       "                             ('net_profit_margin', 0.014598540145985401),\n",
       "                             ('debt_to_equity', 3.8431114828533874),\n",
       "                             ('equity', 0.2064788315405112),\n",
       "                             ('debt', -0.007031481298726932),\n",
       "                             ('current', 2.405960028551035),\n",
       "                             ('quick', 1.7068165596002856),\n",
       "                             ('cash', 1.4339757316202713),\n",
       "                             ('times_interest_earned', 2.362962962962963),\n",
       "                             ('capex_to_operating_cash', 5.669421487603306),\n",
       "                             ('operating_cash_flow', 0.244825124910778),\n",
       "                             ('price_to_earnings', 48.508176593400016),\n",
       "                             ('ev_ebitda', 3.5456996237526455),\n",
       "                             ('ev_ebit', 3.6846376967837053),\n",
       "                             ('ev_revenue', 0.1559919608857335)])],\n",
       "                          1510295: [(True,\n",
       "                            [('roe', 435.6666666666667),\n",
       "                             ('roa', 0.000654721634185199),\n",
       "                             ('roce', 0.007470157874470543),\n",
       "                             ('gross_margin', 0.061394891944990176),\n",
       "                             ('operating_profit_margin', 0.017865913555992142),\n",
       "                             ('net_profit_margin', 0.0018418467583497054),\n",
       "                             ('debt_to_equity', 1.9146136189747514),\n",
       "                             ('equity', 0.2852403919600183),\n",
       "                             ('debt', -0.011217563999039741),\n",
       "                             ('current', 1.6082143897465773),\n",
       "                             ('quick', 0.8030876784153801),\n",
       "                             ('cash', 0.31561316632682784),\n",
       "                             ('times_interest_earned', 1.9662162162162162),\n",
       "                             ('capex_to_operating_cash', 1.8163934426229509),\n",
       "                             ('operating_cash_flow', 0.1613748907660938),\n",
       "                             ('price_to_earnings', 766.2620900493522),\n",
       "                             ('ev_ebitda', 26.89650688937823),\n",
       "                             ('ev_ebit', 69.78303333842118),\n",
       "                             ('ev_revenue', 1.2467376412991507)])],\n",
       "                          1163165: [(True,\n",
       "                            [('roe', 60.329351535836174),\n",
       "                             ('roa', 0.0066611346663180745),\n",
       "                             ('roce', 0.03352517806754758),\n",
       "                             ('gross_margin', 0.53429417063441),\n",
       "                             ('operating_profit_margin', 0.3470595804915712),\n",
       "                             ('net_profit_margin', 0.07540857032556943),\n",
       "                             ('debt_to_equity', 1.4814018612281843),\n",
       "                             ('equity', 0.40186193491184796),\n",
       "                             ('debt', 0.3004899230445705),\n",
       "                             ('current', 1.4254584108424129),\n",
       "                             ('quick', 0.8929045973956949),\n",
       "                             ('cash', 0.4131012490034547),\n",
       "                             ('times_interest_earned', 8.561904761904762),\n",
       "                             ('capex_to_operating_cash', 1.8530020703933747),\n",
       "                             ('operating_cash_flow', 0.2378421472229604),\n",
       "                             ('price_to_earnings', 88.72551740427303),\n",
       "                             ('ev_ebitda', 1075.9879028414855),\n",
       "                             ('ev_ebit', 27.927012680350014),\n",
       "                             ('ev_revenue', 9.692337305225067)])]})})"
      ]
     },
     "execution_count": 21,
     "metadata": {},
     "output_type": "execute_result"
    }
   ],
   "source": [
    "dict_of_industry_cik_list_values"
   ]
  },
  {
   "cell_type": "code",
   "execution_count": 13,
   "metadata": {},
   "outputs": [],
   "source": [
    "from sklearn.impute import KNNImputer\n",
    "\n",
    "for industry_key, cik_dict_list_values in dict_of_industry_cik_list_values.items():\n",
    "    list_for_industry_imputer = []\n",
    "    list_of_all_for_industry = []\n",
    "    initial_kpi_idx_mappper = {}\n",
    "    create_imputer_for_industry = False\n",
    "    for cik_k, on_time, tuple_kpi_value in cik_dict_list_values.items():\n",
    "        curr_cik_list = [None] * len(tuple_kpi_value)\n",
    "        # Fill initial kpi idx mapper on first possible data\n",
    "        if on_time and not initial_kpi_idx_mappper:\n",
    "            for idx, (kpi, value) in enumerate(tuple_kpi_value):\n",
    "                initial_kpi_idx_mappper[kpi] = idx\n",
    "                curr_cik_list[idx] = value\n",
    "                if not value:\n",
    "                    create_imputer_for_industry = True\n",
    "\n",
    "            list_for_industry_imputer.append(curr_cik_list)\n",
    "            list_of_all_for_industry.append(curr_cik_list)\n",
    "            \n",
    "        elif on_time and initial_kpi_idx_mappper:\n",
    "            for idx, (kpi, value) in enumerate(tuple_kpi_value):\n",
    "                curr_cik_list[idx] = value\n",
    "                if not value:\n",
    "                    create_imputer_for_industry = True\n",
    "\n",
    "            list_for_industry_imputer.append(curr_cik_list)\n",
    "            list_of_all_for_industry.append(curr_cik_list)\n",
    "            \n",
    "        elif not on_time:\n",
    "            for idx, (kpi, value) in enumerate(tuple_kpi_value):\n",
    "                curr_cik_list[idx] = value\n",
    "                if not value:\n",
    "                    create_imputer_for_industry = True\n",
    "            list_of_all_for_industry.append(curr_cik_list)\n",
    "        \n",
    "    # If there is None, create KNNImputer with the following list\n",
    "    if create_imputer_for_industry:\n",
    "        curr_imputer = KNNImputer(n_neighbors=1)\n",
    "        curr_imputer.fit(list_for_industry_imputer)\n",
    "\n",
    "        for list_of_values_for_cik in list_of_all_for_industry:\n",
    "            if None in list_of_values_for_cik:\n",
    "                imputed_list_of_values_for_cik = curr_imputer.transform(list_of_values_for_cik).tolist()\n",
    "                \n",
    "                \n",
    "            "
   ]
  },
  {
   "cell_type": "markdown",
   "metadata": {},
   "source": [
    "## Get the fundamental data avg dict for all years and all quarters"
   ]
  },
  {
   "cell_type": "code",
   "execution_count": 2,
   "metadata": {},
   "outputs": [],
   "source": [
    "dict_fund_data_avg_per_year_q = {}\n",
    "for year_q, input_data_list in dict_of_res.items():\n",
    "    dict_fund_data_avg_per_year_q[year_q] = input_data_list[0][\"fundamental_data_avg\"]"
   ]
  },
  {
   "cell_type": "code",
   "execution_count": 3,
   "metadata": {},
   "outputs": [],
   "source": [
    "import pandas as pd\n",
    "\n",
    "list_of_dicts_for_df = []\n",
    "for year_q, dict_info in dict_fund_data_avg_per_year_q.items():\n",
    "    # print(year_q)\n",
    "    for filer_k, dict_kpis in dict_info.items():\n",
    "        for kpi_k, dict_counts in dict_kpis.items():\n",
    "            dict_row = {}\n",
    "            # if kpi_k == 'roe':\n",
    "            #     print(filer_k.upper())\n",
    "            # print(f\"{kpi_k.upper()} | all: {dict_counts['count_all']} | used: {dict_counts['count_used']} | median: {dict_counts['median']} | mean: {dict_counts['mean']} | not on time: {dict_counts.get('count_not_on_time', 0)} | used to all: {dict_counts['count_used']/dict_counts['count_all']}\")\n",
    "            # print(f\"{kpi_k.upper()} | used to all: {round(dict_counts['count_used']/dict_counts['count_all'], 2)}\")\n",
    "            \n",
    "            list_of_dicts_for_df.append({\"year_q\": year_q, \"filer_type\": filer_k, \"kpi\": kpi_k, \"used_to_all\": round(dict_counts['count_used']/dict_counts['count_all'], 2)})\n",
    "            \n",
    "    #     print('-----------------------------------')\n",
    "    # print('-----------NEW ITERATION-----------')\n",
    "    \n",
    "df_for_plot = pd.DataFrame(list_of_dicts_for_df)"
   ]
  },
  {
   "cell_type": "code",
   "execution_count": 8,
   "metadata": {},
   "outputs": [
    {
     "data": {
      "text/html": [
       "<div>\n",
       "<style scoped>\n",
       "    .dataframe tbody tr th:only-of-type {\n",
       "        vertical-align: middle;\n",
       "    }\n",
       "\n",
       "    .dataframe tbody tr th {\n",
       "        vertical-align: top;\n",
       "    }\n",
       "\n",
       "    .dataframe thead th {\n",
       "        text-align: right;\n",
       "    }\n",
       "</style>\n",
       "<table border=\"1\" class=\"dataframe\">\n",
       "  <thead>\n",
       "    <tr style=\"text-align: right;\">\n",
       "      <th></th>\n",
       "      <th>year_q</th>\n",
       "      <th>filer_type</th>\n",
       "      <th>kpi</th>\n",
       "      <th>used_to_all</th>\n",
       "    </tr>\n",
       "  </thead>\n",
       "  <tbody>\n",
       "    <tr>\n",
       "      <th>551</th>\n",
       "      <td>2019_3</td>\n",
       "      <td>non_accelerated_filer</td>\n",
       "      <td>roe</td>\n",
       "      <td>0.8</td>\n",
       "    </tr>\n",
       "    <tr>\n",
       "      <th>552</th>\n",
       "      <td>2019_3</td>\n",
       "      <td>non_accelerated_filer</td>\n",
       "      <td>roa</td>\n",
       "      <td>0.8</td>\n",
       "    </tr>\n",
       "    <tr>\n",
       "      <th>553</th>\n",
       "      <td>2019_3</td>\n",
       "      <td>non_accelerated_filer</td>\n",
       "      <td>roce</td>\n",
       "      <td>0.7</td>\n",
       "    </tr>\n",
       "    <tr>\n",
       "      <th>554</th>\n",
       "      <td>2019_3</td>\n",
       "      <td>non_accelerated_filer</td>\n",
       "      <td>gross_margin</td>\n",
       "      <td>0.8</td>\n",
       "    </tr>\n",
       "    <tr>\n",
       "      <th>555</th>\n",
       "      <td>2019_3</td>\n",
       "      <td>non_accelerated_filer</td>\n",
       "      <td>operating_profit_margin</td>\n",
       "      <td>0.8</td>\n",
       "    </tr>\n",
       "    <tr>\n",
       "      <th>556</th>\n",
       "      <td>2019_3</td>\n",
       "      <td>non_accelerated_filer</td>\n",
       "      <td>net_profit_margin</td>\n",
       "      <td>0.8</td>\n",
       "    </tr>\n",
       "    <tr>\n",
       "      <th>557</th>\n",
       "      <td>2019_3</td>\n",
       "      <td>non_accelerated_filer</td>\n",
       "      <td>debt_to_equity</td>\n",
       "      <td>0.7</td>\n",
       "    </tr>\n",
       "    <tr>\n",
       "      <th>558</th>\n",
       "      <td>2019_3</td>\n",
       "      <td>non_accelerated_filer</td>\n",
       "      <td>equity</td>\n",
       "      <td>0.8</td>\n",
       "    </tr>\n",
       "    <tr>\n",
       "      <th>559</th>\n",
       "      <td>2019_3</td>\n",
       "      <td>non_accelerated_filer</td>\n",
       "      <td>debt</td>\n",
       "      <td>0.6</td>\n",
       "    </tr>\n",
       "    <tr>\n",
       "      <th>560</th>\n",
       "      <td>2019_3</td>\n",
       "      <td>non_accelerated_filer</td>\n",
       "      <td>current</td>\n",
       "      <td>0.7</td>\n",
       "    </tr>\n",
       "    <tr>\n",
       "      <th>561</th>\n",
       "      <td>2019_3</td>\n",
       "      <td>non_accelerated_filer</td>\n",
       "      <td>quick</td>\n",
       "      <td>0.5</td>\n",
       "    </tr>\n",
       "    <tr>\n",
       "      <th>562</th>\n",
       "      <td>2019_3</td>\n",
       "      <td>non_accelerated_filer</td>\n",
       "      <td>cash</td>\n",
       "      <td>0.7</td>\n",
       "    </tr>\n",
       "    <tr>\n",
       "      <th>563</th>\n",
       "      <td>2019_3</td>\n",
       "      <td>non_accelerated_filer</td>\n",
       "      <td>times_interest_earned</td>\n",
       "      <td>0.6</td>\n",
       "    </tr>\n",
       "    <tr>\n",
       "      <th>564</th>\n",
       "      <td>2019_3</td>\n",
       "      <td>non_accelerated_filer</td>\n",
       "      <td>capex_to_operating_cash</td>\n",
       "      <td>0.6</td>\n",
       "    </tr>\n",
       "    <tr>\n",
       "      <th>565</th>\n",
       "      <td>2019_3</td>\n",
       "      <td>non_accelerated_filer</td>\n",
       "      <td>operating_cash_flow</td>\n",
       "      <td>0.7</td>\n",
       "    </tr>\n",
       "    <tr>\n",
       "      <th>566</th>\n",
       "      <td>2019_3</td>\n",
       "      <td>non_accelerated_filer</td>\n",
       "      <td>price_to_earnings</td>\n",
       "      <td>0.8</td>\n",
       "    </tr>\n",
       "    <tr>\n",
       "      <th>567</th>\n",
       "      <td>2019_3</td>\n",
       "      <td>non_accelerated_filer</td>\n",
       "      <td>ev_ebitda</td>\n",
       "      <td>0.6</td>\n",
       "    </tr>\n",
       "    <tr>\n",
       "      <th>568</th>\n",
       "      <td>2019_3</td>\n",
       "      <td>non_accelerated_filer</td>\n",
       "      <td>ev_ebit</td>\n",
       "      <td>0.6</td>\n",
       "    </tr>\n",
       "    <tr>\n",
       "      <th>569</th>\n",
       "      <td>2019_3</td>\n",
       "      <td>non_accelerated_filer</td>\n",
       "      <td>ev_revenue</td>\n",
       "      <td>0.6</td>\n",
       "    </tr>\n",
       "  </tbody>\n",
       "</table>\n",
       "</div>"
      ],
      "text/plain": [
       "     year_q             filer_type                      kpi  used_to_all\n",
       "551  2019_3  non_accelerated_filer                      roe          0.8\n",
       "552  2019_3  non_accelerated_filer                      roa          0.8\n",
       "553  2019_3  non_accelerated_filer                     roce          0.7\n",
       "554  2019_3  non_accelerated_filer             gross_margin          0.8\n",
       "555  2019_3  non_accelerated_filer  operating_profit_margin          0.8\n",
       "556  2019_3  non_accelerated_filer        net_profit_margin          0.8\n",
       "557  2019_3  non_accelerated_filer           debt_to_equity          0.7\n",
       "558  2019_3  non_accelerated_filer                   equity          0.8\n",
       "559  2019_3  non_accelerated_filer                     debt          0.6\n",
       "560  2019_3  non_accelerated_filer                  current          0.7\n",
       "561  2019_3  non_accelerated_filer                    quick          0.5\n",
       "562  2019_3  non_accelerated_filer                     cash          0.7\n",
       "563  2019_3  non_accelerated_filer    times_interest_earned          0.6\n",
       "564  2019_3  non_accelerated_filer  capex_to_operating_cash          0.6\n",
       "565  2019_3  non_accelerated_filer      operating_cash_flow          0.7\n",
       "566  2019_3  non_accelerated_filer        price_to_earnings          0.8\n",
       "567  2019_3  non_accelerated_filer                ev_ebitda          0.6\n",
       "568  2019_3  non_accelerated_filer                  ev_ebit          0.6\n",
       "569  2019_3  non_accelerated_filer               ev_revenue          0.6"
      ]
     },
     "execution_count": 8,
     "metadata": {},
     "output_type": "execute_result"
    }
   ],
   "source": [
    "df_for_plot[(df_for_plot[\"year_q\"] == \"2019_3\") & (df_for_plot[\"filer_type\"] == \"non_accelerated_filer\")]"
   ]
  },
  {
   "cell_type": "code",
   "execution_count": 33,
   "metadata": {},
   "outputs": [
    {
     "data": {
      "application/vnd.plotly.v1+json": {
       "config": {
        "plotlyServerURL": "https://plot.ly"
       },
       "data": [
        {
         "alignmentgroup": "True",
         "bingroup": "x",
         "hovertemplate": "kpi=roe<br>used_to_all=%{x}<br>count=%{y}<extra></extra>",
         "legendgroup": "roe",
         "marker": {
          "color": "#636efa",
          "pattern": {
           "shape": ""
          }
         },
         "name": "roe",
         "offsetgroup": "roe",
         "orientation": "v",
         "showlegend": true,
         "type": "histogram",
         "x": [
          0.85,
          0.98,
          0.8,
          0.94,
          1,
          0.94,
          0.97,
          1,
          0.94,
          1,
          0.98,
          1,
          0.95,
          1,
          0.76,
          0.97,
          0.98,
          0.93,
          1,
          1,
          0.93,
          0.86,
          0.96,
          1,
          0.97,
          1,
          0.73,
          0.97,
          1,
          0.8,
          0.74,
          0.98,
          0.91,
          0.97,
          0.92,
          0.93,
          0.56,
          0.88,
          0.81,
          0.81,
          0.96,
          0.87,
          0.91,
          1,
          0.53,
          0.9,
          0.96,
          0.97,
          0.77,
          0.93,
          0.97,
          0.79,
          0.96,
          1
         ],
         "xaxis": "x",
         "yaxis": "y"
        },
        {
         "alignmentgroup": "True",
         "boxpoints": "all",
         "customdata": [
          [
           "2017_2",
           "accelerated_filer",
           "roe"
          ],
          [
           "2017_2",
           "large_accelerated_filer",
           "roe"
          ],
          [
           "2017_2",
           "non_accelerated_filer",
           "roe"
          ],
          [
           "2017_3",
           "accelerated_filer",
           "roe"
          ],
          [
           "2017_3",
           "large_accelerated_filer",
           "roe"
          ],
          [
           "2017_3",
           "non_accelerated_filer",
           "roe"
          ],
          [
           "2017_4",
           "accelerated_filer",
           "roe"
          ],
          [
           "2017_4",
           "large_accelerated_filer",
           "roe"
          ],
          [
           "2017_4",
           "non_accelerated_filer",
           "roe"
          ],
          [
           "2018_1",
           "accelerated_filer",
           "roe"
          ],
          [
           "2018_1",
           "large_accelerated_filer",
           "roe"
          ],
          [
           "2018_1",
           "non_accelerated_filer",
           "roe"
          ],
          [
           "2018_2",
           "accelerated_filer",
           "roe"
          ],
          [
           "2018_2",
           "large_accelerated_filer",
           "roe"
          ],
          [
           "2018_2",
           "non_accelerated_filer",
           "roe"
          ],
          [
           "2018_3",
           "accelerated_filer",
           "roe"
          ],
          [
           "2018_3",
           "large_accelerated_filer",
           "roe"
          ],
          [
           "2018_3",
           "non_accelerated_filer",
           "roe"
          ],
          [
           "2018_4",
           "accelerated_filer",
           "roe"
          ],
          [
           "2018_4",
           "large_accelerated_filer",
           "roe"
          ],
          [
           "2018_4",
           "non_accelerated_filer",
           "roe"
          ],
          [
           "2019_1",
           "accelerated_filer",
           "roe"
          ],
          [
           "2019_1",
           "large_accelerated_filer",
           "roe"
          ],
          [
           "2019_1",
           "non_accelerated_filer",
           "roe"
          ],
          [
           "2019_2",
           "accelerated_filer",
           "roe"
          ],
          [
           "2019_2",
           "large_accelerated_filer",
           "roe"
          ],
          [
           "2019_2",
           "non_accelerated_filer",
           "roe"
          ],
          [
           "2019_3",
           "accelerated_filer",
           "roe"
          ],
          [
           "2019_3",
           "large_accelerated_filer",
           "roe"
          ],
          [
           "2019_3",
           "non_accelerated_filer",
           "roe"
          ],
          [
           "2019_4",
           "accelerated_filer",
           "roe"
          ],
          [
           "2019_4",
           "large_accelerated_filer",
           "roe"
          ],
          [
           "2019_4",
           "non_accelerated_filer",
           "roe"
          ],
          [
           "2020_1",
           "accelerated_filer",
           "roe"
          ],
          [
           "2020_1",
           "large_accelerated_filer",
           "roe"
          ],
          [
           "2020_1",
           "non_accelerated_filer",
           "roe"
          ],
          [
           "2020_2",
           "accelerated_filer",
           "roe"
          ],
          [
           "2020_2",
           "large_accelerated_filer",
           "roe"
          ],
          [
           "2020_2",
           "non_accelerated_filer",
           "roe"
          ],
          [
           "2020_3",
           "accelerated_filer",
           "roe"
          ],
          [
           "2020_3",
           "large_accelerated_filer",
           "roe"
          ],
          [
           "2020_3",
           "non_accelerated_filer",
           "roe"
          ],
          [
           "2020_4",
           "accelerated_filer",
           "roe"
          ],
          [
           "2020_4",
           "large_accelerated_filer",
           "roe"
          ],
          [
           "2020_4",
           "non_accelerated_filer",
           "roe"
          ],
          [
           "2021_1",
           "non_accelerated_filer",
           "roe"
          ],
          [
           "2021_1",
           "accelerated_filer",
           "roe"
          ],
          [
           "2021_1",
           "large_accelerated_filer",
           "roe"
          ],
          [
           "2021_2",
           "non_accelerated_filer",
           "roe"
          ],
          [
           "2021_2",
           "accelerated_filer",
           "roe"
          ],
          [
           "2021_2",
           "large_accelerated_filer",
           "roe"
          ],
          [
           "2021_3",
           "non_accelerated_filer",
           "roe"
          ],
          [
           "2021_3",
           "accelerated_filer",
           "roe"
          ],
          [
           "2021_3",
           "large_accelerated_filer",
           "roe"
          ]
         ],
         "fillcolor": "rgba(255,255,255,0)",
         "hoveron": "points",
         "hovertemplate": "kpi=%{customdata[2]}<br>used_to_all=%{x}<br>year_q=%{customdata[0]}<br>filer_type=%{customdata[1]}<extra></extra>",
         "jitter": 0,
         "legendgroup": "roe",
         "line": {
          "color": "rgba(255,255,255,0)"
         },
         "marker": {
          "color": "#636efa",
          "symbol": "line-ns-open"
         },
         "name": "roe",
         "offsetgroup": "roe",
         "showlegend": false,
         "type": "box",
         "x": [
          0.85,
          0.98,
          0.8,
          0.94,
          1,
          0.94,
          0.97,
          1,
          0.94,
          1,
          0.98,
          1,
          0.95,
          1,
          0.76,
          0.97,
          0.98,
          0.93,
          1,
          1,
          0.93,
          0.86,
          0.96,
          1,
          0.97,
          1,
          0.73,
          0.97,
          1,
          0.8,
          0.74,
          0.98,
          0.91,
          0.97,
          0.92,
          0.93,
          0.56,
          0.88,
          0.81,
          0.81,
          0.96,
          0.87,
          0.91,
          1,
          0.53,
          0.9,
          0.96,
          0.97,
          0.77,
          0.93,
          0.97,
          0.79,
          0.96,
          1
         ],
         "xaxis": "x2",
         "yaxis": "y2"
        },
        {
         "alignmentgroup": "True",
         "bingroup": "x",
         "hovertemplate": "kpi=roa<br>used_to_all=%{x}<br>count=%{y}<extra></extra>",
         "legendgroup": "roa",
         "marker": {
          "color": "#EF553B",
          "pattern": {
           "shape": ""
          }
         },
         "name": "roa",
         "offsetgroup": "roa",
         "orientation": "v",
         "showlegend": true,
         "type": "histogram",
         "x": [
          0.88,
          0.98,
          0.8,
          0.97,
          1,
          0.94,
          0.97,
          1,
          0.94,
          1,
          0.98,
          1,
          0.95,
          1,
          0.76,
          0.97,
          0.98,
          0.93,
          1,
          1,
          0.93,
          0.86,
          0.98,
          1,
          0.97,
          1,
          0.73,
          1,
          1,
          0.8,
          0.77,
          0.98,
          1,
          0.97,
          0.92,
          1,
          0.56,
          0.88,
          0.81,
          0.81,
          0.96,
          0.93,
          0.91,
          1,
          0.6,
          0.97,
          0.96,
          0.97,
          0.77,
          0.93,
          0.97,
          0.79,
          0.96,
          1
         ],
         "xaxis": "x",
         "yaxis": "y"
        },
        {
         "alignmentgroup": "True",
         "boxpoints": "all",
         "customdata": [
          [
           "2017_2",
           "accelerated_filer",
           "roa"
          ],
          [
           "2017_2",
           "large_accelerated_filer",
           "roa"
          ],
          [
           "2017_2",
           "non_accelerated_filer",
           "roa"
          ],
          [
           "2017_3",
           "accelerated_filer",
           "roa"
          ],
          [
           "2017_3",
           "large_accelerated_filer",
           "roa"
          ],
          [
           "2017_3",
           "non_accelerated_filer",
           "roa"
          ],
          [
           "2017_4",
           "accelerated_filer",
           "roa"
          ],
          [
           "2017_4",
           "large_accelerated_filer",
           "roa"
          ],
          [
           "2017_4",
           "non_accelerated_filer",
           "roa"
          ],
          [
           "2018_1",
           "accelerated_filer",
           "roa"
          ],
          [
           "2018_1",
           "large_accelerated_filer",
           "roa"
          ],
          [
           "2018_1",
           "non_accelerated_filer",
           "roa"
          ],
          [
           "2018_2",
           "accelerated_filer",
           "roa"
          ],
          [
           "2018_2",
           "large_accelerated_filer",
           "roa"
          ],
          [
           "2018_2",
           "non_accelerated_filer",
           "roa"
          ],
          [
           "2018_3",
           "accelerated_filer",
           "roa"
          ],
          [
           "2018_3",
           "large_accelerated_filer",
           "roa"
          ],
          [
           "2018_3",
           "non_accelerated_filer",
           "roa"
          ],
          [
           "2018_4",
           "accelerated_filer",
           "roa"
          ],
          [
           "2018_4",
           "large_accelerated_filer",
           "roa"
          ],
          [
           "2018_4",
           "non_accelerated_filer",
           "roa"
          ],
          [
           "2019_1",
           "accelerated_filer",
           "roa"
          ],
          [
           "2019_1",
           "large_accelerated_filer",
           "roa"
          ],
          [
           "2019_1",
           "non_accelerated_filer",
           "roa"
          ],
          [
           "2019_2",
           "accelerated_filer",
           "roa"
          ],
          [
           "2019_2",
           "large_accelerated_filer",
           "roa"
          ],
          [
           "2019_2",
           "non_accelerated_filer",
           "roa"
          ],
          [
           "2019_3",
           "accelerated_filer",
           "roa"
          ],
          [
           "2019_3",
           "large_accelerated_filer",
           "roa"
          ],
          [
           "2019_3",
           "non_accelerated_filer",
           "roa"
          ],
          [
           "2019_4",
           "accelerated_filer",
           "roa"
          ],
          [
           "2019_4",
           "large_accelerated_filer",
           "roa"
          ],
          [
           "2019_4",
           "non_accelerated_filer",
           "roa"
          ],
          [
           "2020_1",
           "accelerated_filer",
           "roa"
          ],
          [
           "2020_1",
           "large_accelerated_filer",
           "roa"
          ],
          [
           "2020_1",
           "non_accelerated_filer",
           "roa"
          ],
          [
           "2020_2",
           "accelerated_filer",
           "roa"
          ],
          [
           "2020_2",
           "large_accelerated_filer",
           "roa"
          ],
          [
           "2020_2",
           "non_accelerated_filer",
           "roa"
          ],
          [
           "2020_3",
           "accelerated_filer",
           "roa"
          ],
          [
           "2020_3",
           "large_accelerated_filer",
           "roa"
          ],
          [
           "2020_3",
           "non_accelerated_filer",
           "roa"
          ],
          [
           "2020_4",
           "accelerated_filer",
           "roa"
          ],
          [
           "2020_4",
           "large_accelerated_filer",
           "roa"
          ],
          [
           "2020_4",
           "non_accelerated_filer",
           "roa"
          ],
          [
           "2021_1",
           "non_accelerated_filer",
           "roa"
          ],
          [
           "2021_1",
           "accelerated_filer",
           "roa"
          ],
          [
           "2021_1",
           "large_accelerated_filer",
           "roa"
          ],
          [
           "2021_2",
           "non_accelerated_filer",
           "roa"
          ],
          [
           "2021_2",
           "accelerated_filer",
           "roa"
          ],
          [
           "2021_2",
           "large_accelerated_filer",
           "roa"
          ],
          [
           "2021_3",
           "non_accelerated_filer",
           "roa"
          ],
          [
           "2021_3",
           "accelerated_filer",
           "roa"
          ],
          [
           "2021_3",
           "large_accelerated_filer",
           "roa"
          ]
         ],
         "fillcolor": "rgba(255,255,255,0)",
         "hoveron": "points",
         "hovertemplate": "kpi=%{customdata[2]}<br>used_to_all=%{x}<br>year_q=%{customdata[0]}<br>filer_type=%{customdata[1]}<extra></extra>",
         "jitter": 0,
         "legendgroup": "roa",
         "line": {
          "color": "rgba(255,255,255,0)"
         },
         "marker": {
          "color": "#EF553B",
          "symbol": "line-ns-open"
         },
         "name": "roa",
         "offsetgroup": "roa",
         "showlegend": false,
         "type": "box",
         "x": [
          0.88,
          0.98,
          0.8,
          0.97,
          1,
          0.94,
          0.97,
          1,
          0.94,
          1,
          0.98,
          1,
          0.95,
          1,
          0.76,
          0.97,
          0.98,
          0.93,
          1,
          1,
          0.93,
          0.86,
          0.98,
          1,
          0.97,
          1,
          0.73,
          1,
          1,
          0.8,
          0.77,
          0.98,
          1,
          0.97,
          0.92,
          1,
          0.56,
          0.88,
          0.81,
          0.81,
          0.96,
          0.93,
          0.91,
          1,
          0.6,
          0.97,
          0.96,
          0.97,
          0.77,
          0.93,
          0.97,
          0.79,
          0.96,
          1
         ],
         "xaxis": "x2",
         "yaxis": "y2"
        },
        {
         "alignmentgroup": "True",
         "bingroup": "x",
         "hovertemplate": "kpi=roce<br>used_to_all=%{x}<br>count=%{y}<extra></extra>",
         "legendgroup": "roce",
         "marker": {
          "color": "#00cc96",
          "pattern": {
           "shape": ""
          }
         },
         "name": "roce",
         "offsetgroup": "roce",
         "orientation": "v",
         "showlegend": true,
         "type": "histogram",
         "x": [
          0.82,
          0.98,
          0.75,
          0.91,
          1,
          0.89,
          0.91,
          1,
          0.89,
          0.94,
          0.98,
          0.91,
          0.89,
          1,
          0.71,
          0.95,
          0.98,
          0.86,
          0.95,
          1,
          0.86,
          0.83,
          0.98,
          0.86,
          0.91,
          1,
          0.64,
          0.94,
          1,
          0.7,
          0.77,
          0.98,
          0.91,
          0.97,
          0.92,
          0.79,
          0.56,
          0.88,
          0.69,
          0.81,
          0.96,
          0.73,
          0.91,
          1,
          0.53,
          0.87,
          0.96,
          0.97,
          0.71,
          0.93,
          0.97,
          0.73,
          0.96,
          1
         ],
         "xaxis": "x",
         "yaxis": "y"
        },
        {
         "alignmentgroup": "True",
         "boxpoints": "all",
         "customdata": [
          [
           "2017_2",
           "accelerated_filer",
           "roce"
          ],
          [
           "2017_2",
           "large_accelerated_filer",
           "roce"
          ],
          [
           "2017_2",
           "non_accelerated_filer",
           "roce"
          ],
          [
           "2017_3",
           "accelerated_filer",
           "roce"
          ],
          [
           "2017_3",
           "large_accelerated_filer",
           "roce"
          ],
          [
           "2017_3",
           "non_accelerated_filer",
           "roce"
          ],
          [
           "2017_4",
           "accelerated_filer",
           "roce"
          ],
          [
           "2017_4",
           "large_accelerated_filer",
           "roce"
          ],
          [
           "2017_4",
           "non_accelerated_filer",
           "roce"
          ],
          [
           "2018_1",
           "accelerated_filer",
           "roce"
          ],
          [
           "2018_1",
           "large_accelerated_filer",
           "roce"
          ],
          [
           "2018_1",
           "non_accelerated_filer",
           "roce"
          ],
          [
           "2018_2",
           "accelerated_filer",
           "roce"
          ],
          [
           "2018_2",
           "large_accelerated_filer",
           "roce"
          ],
          [
           "2018_2",
           "non_accelerated_filer",
           "roce"
          ],
          [
           "2018_3",
           "accelerated_filer",
           "roce"
          ],
          [
           "2018_3",
           "large_accelerated_filer",
           "roce"
          ],
          [
           "2018_3",
           "non_accelerated_filer",
           "roce"
          ],
          [
           "2018_4",
           "accelerated_filer",
           "roce"
          ],
          [
           "2018_4",
           "large_accelerated_filer",
           "roce"
          ],
          [
           "2018_4",
           "non_accelerated_filer",
           "roce"
          ],
          [
           "2019_1",
           "accelerated_filer",
           "roce"
          ],
          [
           "2019_1",
           "large_accelerated_filer",
           "roce"
          ],
          [
           "2019_1",
           "non_accelerated_filer",
           "roce"
          ],
          [
           "2019_2",
           "accelerated_filer",
           "roce"
          ],
          [
           "2019_2",
           "large_accelerated_filer",
           "roce"
          ],
          [
           "2019_2",
           "non_accelerated_filer",
           "roce"
          ],
          [
           "2019_3",
           "accelerated_filer",
           "roce"
          ],
          [
           "2019_3",
           "large_accelerated_filer",
           "roce"
          ],
          [
           "2019_3",
           "non_accelerated_filer",
           "roce"
          ],
          [
           "2019_4",
           "accelerated_filer",
           "roce"
          ],
          [
           "2019_4",
           "large_accelerated_filer",
           "roce"
          ],
          [
           "2019_4",
           "non_accelerated_filer",
           "roce"
          ],
          [
           "2020_1",
           "accelerated_filer",
           "roce"
          ],
          [
           "2020_1",
           "large_accelerated_filer",
           "roce"
          ],
          [
           "2020_1",
           "non_accelerated_filer",
           "roce"
          ],
          [
           "2020_2",
           "accelerated_filer",
           "roce"
          ],
          [
           "2020_2",
           "large_accelerated_filer",
           "roce"
          ],
          [
           "2020_2",
           "non_accelerated_filer",
           "roce"
          ],
          [
           "2020_3",
           "accelerated_filer",
           "roce"
          ],
          [
           "2020_3",
           "large_accelerated_filer",
           "roce"
          ],
          [
           "2020_3",
           "non_accelerated_filer",
           "roce"
          ],
          [
           "2020_4",
           "accelerated_filer",
           "roce"
          ],
          [
           "2020_4",
           "large_accelerated_filer",
           "roce"
          ],
          [
           "2020_4",
           "non_accelerated_filer",
           "roce"
          ],
          [
           "2021_1",
           "non_accelerated_filer",
           "roce"
          ],
          [
           "2021_1",
           "accelerated_filer",
           "roce"
          ],
          [
           "2021_1",
           "large_accelerated_filer",
           "roce"
          ],
          [
           "2021_2",
           "non_accelerated_filer",
           "roce"
          ],
          [
           "2021_2",
           "accelerated_filer",
           "roce"
          ],
          [
           "2021_2",
           "large_accelerated_filer",
           "roce"
          ],
          [
           "2021_3",
           "non_accelerated_filer",
           "roce"
          ],
          [
           "2021_3",
           "accelerated_filer",
           "roce"
          ],
          [
           "2021_3",
           "large_accelerated_filer",
           "roce"
          ]
         ],
         "fillcolor": "rgba(255,255,255,0)",
         "hoveron": "points",
         "hovertemplate": "kpi=%{customdata[2]}<br>used_to_all=%{x}<br>year_q=%{customdata[0]}<br>filer_type=%{customdata[1]}<extra></extra>",
         "jitter": 0,
         "legendgroup": "roce",
         "line": {
          "color": "rgba(255,255,255,0)"
         },
         "marker": {
          "color": "#00cc96",
          "symbol": "line-ns-open"
         },
         "name": "roce",
         "offsetgroup": "roce",
         "showlegend": false,
         "type": "box",
         "x": [
          0.82,
          0.98,
          0.75,
          0.91,
          1,
          0.89,
          0.91,
          1,
          0.89,
          0.94,
          0.98,
          0.91,
          0.89,
          1,
          0.71,
          0.95,
          0.98,
          0.86,
          0.95,
          1,
          0.86,
          0.83,
          0.98,
          0.86,
          0.91,
          1,
          0.64,
          0.94,
          1,
          0.7,
          0.77,
          0.98,
          0.91,
          0.97,
          0.92,
          0.79,
          0.56,
          0.88,
          0.69,
          0.81,
          0.96,
          0.73,
          0.91,
          1,
          0.53,
          0.87,
          0.96,
          0.97,
          0.71,
          0.93,
          0.97,
          0.73,
          0.96,
          1
         ],
         "xaxis": "x2",
         "yaxis": "y2"
        },
        {
         "alignmentgroup": "True",
         "bingroup": "x",
         "hovertemplate": "kpi=gross_margin<br>used_to_all=%{x}<br>count=%{y}<extra></extra>",
         "legendgroup": "gross_margin",
         "marker": {
          "color": "#ab63fa",
          "pattern": {
           "shape": ""
          }
         },
         "name": "gross_margin",
         "offsetgroup": "gross_margin",
         "orientation": "v",
         "showlegend": true,
         "type": "histogram",
         "x": [
          0.79,
          0.96,
          0.8,
          0.91,
          0.98,
          0.94,
          0.91,
          0.98,
          0.94,
          0.97,
          0.96,
          1,
          0.89,
          0.98,
          0.76,
          0.92,
          0.98,
          0.93,
          0.97,
          0.98,
          0.93,
          0.83,
          0.98,
          1,
          0.94,
          1,
          0.73,
          0.97,
          1,
          0.8,
          0.74,
          0.98,
          1,
          0.94,
          0.92,
          0.86,
          0.56,
          0.87,
          0.69,
          0.78,
          0.94,
          0.73,
          0.81,
          0.98,
          0.6,
          0.77,
          0.92,
          0.97,
          0.63,
          0.89,
          0.97,
          0.64,
          0.96,
          1
         ],
         "xaxis": "x",
         "yaxis": "y"
        },
        {
         "alignmentgroup": "True",
         "boxpoints": "all",
         "customdata": [
          [
           "2017_2",
           "accelerated_filer",
           "gross_margin"
          ],
          [
           "2017_2",
           "large_accelerated_filer",
           "gross_margin"
          ],
          [
           "2017_2",
           "non_accelerated_filer",
           "gross_margin"
          ],
          [
           "2017_3",
           "accelerated_filer",
           "gross_margin"
          ],
          [
           "2017_3",
           "large_accelerated_filer",
           "gross_margin"
          ],
          [
           "2017_3",
           "non_accelerated_filer",
           "gross_margin"
          ],
          [
           "2017_4",
           "accelerated_filer",
           "gross_margin"
          ],
          [
           "2017_4",
           "large_accelerated_filer",
           "gross_margin"
          ],
          [
           "2017_4",
           "non_accelerated_filer",
           "gross_margin"
          ],
          [
           "2018_1",
           "accelerated_filer",
           "gross_margin"
          ],
          [
           "2018_1",
           "large_accelerated_filer",
           "gross_margin"
          ],
          [
           "2018_1",
           "non_accelerated_filer",
           "gross_margin"
          ],
          [
           "2018_2",
           "accelerated_filer",
           "gross_margin"
          ],
          [
           "2018_2",
           "large_accelerated_filer",
           "gross_margin"
          ],
          [
           "2018_2",
           "non_accelerated_filer",
           "gross_margin"
          ],
          [
           "2018_3",
           "accelerated_filer",
           "gross_margin"
          ],
          [
           "2018_3",
           "large_accelerated_filer",
           "gross_margin"
          ],
          [
           "2018_3",
           "non_accelerated_filer",
           "gross_margin"
          ],
          [
           "2018_4",
           "accelerated_filer",
           "gross_margin"
          ],
          [
           "2018_4",
           "large_accelerated_filer",
           "gross_margin"
          ],
          [
           "2018_4",
           "non_accelerated_filer",
           "gross_margin"
          ],
          [
           "2019_1",
           "accelerated_filer",
           "gross_margin"
          ],
          [
           "2019_1",
           "large_accelerated_filer",
           "gross_margin"
          ],
          [
           "2019_1",
           "non_accelerated_filer",
           "gross_margin"
          ],
          [
           "2019_2",
           "accelerated_filer",
           "gross_margin"
          ],
          [
           "2019_2",
           "large_accelerated_filer",
           "gross_margin"
          ],
          [
           "2019_2",
           "non_accelerated_filer",
           "gross_margin"
          ],
          [
           "2019_3",
           "accelerated_filer",
           "gross_margin"
          ],
          [
           "2019_3",
           "large_accelerated_filer",
           "gross_margin"
          ],
          [
           "2019_3",
           "non_accelerated_filer",
           "gross_margin"
          ],
          [
           "2019_4",
           "accelerated_filer",
           "gross_margin"
          ],
          [
           "2019_4",
           "large_accelerated_filer",
           "gross_margin"
          ],
          [
           "2019_4",
           "non_accelerated_filer",
           "gross_margin"
          ],
          [
           "2020_1",
           "accelerated_filer",
           "gross_margin"
          ],
          [
           "2020_1",
           "large_accelerated_filer",
           "gross_margin"
          ],
          [
           "2020_1",
           "non_accelerated_filer",
           "gross_margin"
          ],
          [
           "2020_2",
           "accelerated_filer",
           "gross_margin"
          ],
          [
           "2020_2",
           "large_accelerated_filer",
           "gross_margin"
          ],
          [
           "2020_2",
           "non_accelerated_filer",
           "gross_margin"
          ],
          [
           "2020_3",
           "accelerated_filer",
           "gross_margin"
          ],
          [
           "2020_3",
           "large_accelerated_filer",
           "gross_margin"
          ],
          [
           "2020_3",
           "non_accelerated_filer",
           "gross_margin"
          ],
          [
           "2020_4",
           "accelerated_filer",
           "gross_margin"
          ],
          [
           "2020_4",
           "large_accelerated_filer",
           "gross_margin"
          ],
          [
           "2020_4",
           "non_accelerated_filer",
           "gross_margin"
          ],
          [
           "2021_1",
           "non_accelerated_filer",
           "gross_margin"
          ],
          [
           "2021_1",
           "accelerated_filer",
           "gross_margin"
          ],
          [
           "2021_1",
           "large_accelerated_filer",
           "gross_margin"
          ],
          [
           "2021_2",
           "non_accelerated_filer",
           "gross_margin"
          ],
          [
           "2021_2",
           "accelerated_filer",
           "gross_margin"
          ],
          [
           "2021_2",
           "large_accelerated_filer",
           "gross_margin"
          ],
          [
           "2021_3",
           "non_accelerated_filer",
           "gross_margin"
          ],
          [
           "2021_3",
           "accelerated_filer",
           "gross_margin"
          ],
          [
           "2021_3",
           "large_accelerated_filer",
           "gross_margin"
          ]
         ],
         "fillcolor": "rgba(255,255,255,0)",
         "hoveron": "points",
         "hovertemplate": "kpi=%{customdata[2]}<br>used_to_all=%{x}<br>year_q=%{customdata[0]}<br>filer_type=%{customdata[1]}<extra></extra>",
         "jitter": 0,
         "legendgroup": "gross_margin",
         "line": {
          "color": "rgba(255,255,255,0)"
         },
         "marker": {
          "color": "#ab63fa",
          "symbol": "line-ns-open"
         },
         "name": "gross_margin",
         "offsetgroup": "gross_margin",
         "showlegend": false,
         "type": "box",
         "x": [
          0.79,
          0.96,
          0.8,
          0.91,
          0.98,
          0.94,
          0.91,
          0.98,
          0.94,
          0.97,
          0.96,
          1,
          0.89,
          0.98,
          0.76,
          0.92,
          0.98,
          0.93,
          0.97,
          0.98,
          0.93,
          0.83,
          0.98,
          1,
          0.94,
          1,
          0.73,
          0.97,
          1,
          0.8,
          0.74,
          0.98,
          1,
          0.94,
          0.92,
          0.86,
          0.56,
          0.87,
          0.69,
          0.78,
          0.94,
          0.73,
          0.81,
          0.98,
          0.6,
          0.77,
          0.92,
          0.97,
          0.63,
          0.89,
          0.97,
          0.64,
          0.96,
          1
         ],
         "xaxis": "x2",
         "yaxis": "y2"
        },
        {
         "alignmentgroup": "True",
         "bingroup": "x",
         "hovertemplate": "kpi=operating_profit_margin<br>used_to_all=%{x}<br>count=%{y}<extra></extra>",
         "legendgroup": "operating_profit_margin",
         "marker": {
          "color": "#FFA15A",
          "pattern": {
           "shape": ""
          }
         },
         "name": "operating_profit_margin",
         "offsetgroup": "operating_profit_margin",
         "orientation": "v",
         "showlegend": true,
         "type": "histogram",
         "x": [
          0.85,
          0.96,
          0.85,
          0.94,
          0.98,
          0.94,
          0.91,
          0.98,
          0.94,
          0.97,
          0.96,
          1,
          0.89,
          0.98,
          0.76,
          0.92,
          0.98,
          0.93,
          0.97,
          0.98,
          0.93,
          0.83,
          0.98,
          1,
          0.94,
          1,
          0.73,
          0.97,
          1,
          0.8,
          0.74,
          0.98,
          1,
          0.94,
          0.92,
          1,
          0.56,
          0.88,
          0.88,
          0.78,
          0.96,
          0.93,
          0.84,
          1,
          0.6,
          0.94,
          0.96,
          0.97,
          0.74,
          0.93,
          1,
          0.76,
          0.96,
          1
         ],
         "xaxis": "x",
         "yaxis": "y"
        },
        {
         "alignmentgroup": "True",
         "boxpoints": "all",
         "customdata": [
          [
           "2017_2",
           "accelerated_filer",
           "operating_profit_margin"
          ],
          [
           "2017_2",
           "large_accelerated_filer",
           "operating_profit_margin"
          ],
          [
           "2017_2",
           "non_accelerated_filer",
           "operating_profit_margin"
          ],
          [
           "2017_3",
           "accelerated_filer",
           "operating_profit_margin"
          ],
          [
           "2017_3",
           "large_accelerated_filer",
           "operating_profit_margin"
          ],
          [
           "2017_3",
           "non_accelerated_filer",
           "operating_profit_margin"
          ],
          [
           "2017_4",
           "accelerated_filer",
           "operating_profit_margin"
          ],
          [
           "2017_4",
           "large_accelerated_filer",
           "operating_profit_margin"
          ],
          [
           "2017_4",
           "non_accelerated_filer",
           "operating_profit_margin"
          ],
          [
           "2018_1",
           "accelerated_filer",
           "operating_profit_margin"
          ],
          [
           "2018_1",
           "large_accelerated_filer",
           "operating_profit_margin"
          ],
          [
           "2018_1",
           "non_accelerated_filer",
           "operating_profit_margin"
          ],
          [
           "2018_2",
           "accelerated_filer",
           "operating_profit_margin"
          ],
          [
           "2018_2",
           "large_accelerated_filer",
           "operating_profit_margin"
          ],
          [
           "2018_2",
           "non_accelerated_filer",
           "operating_profit_margin"
          ],
          [
           "2018_3",
           "accelerated_filer",
           "operating_profit_margin"
          ],
          [
           "2018_3",
           "large_accelerated_filer",
           "operating_profit_margin"
          ],
          [
           "2018_3",
           "non_accelerated_filer",
           "operating_profit_margin"
          ],
          [
           "2018_4",
           "accelerated_filer",
           "operating_profit_margin"
          ],
          [
           "2018_4",
           "large_accelerated_filer",
           "operating_profit_margin"
          ],
          [
           "2018_4",
           "non_accelerated_filer",
           "operating_profit_margin"
          ],
          [
           "2019_1",
           "accelerated_filer",
           "operating_profit_margin"
          ],
          [
           "2019_1",
           "large_accelerated_filer",
           "operating_profit_margin"
          ],
          [
           "2019_1",
           "non_accelerated_filer",
           "operating_profit_margin"
          ],
          [
           "2019_2",
           "accelerated_filer",
           "operating_profit_margin"
          ],
          [
           "2019_2",
           "large_accelerated_filer",
           "operating_profit_margin"
          ],
          [
           "2019_2",
           "non_accelerated_filer",
           "operating_profit_margin"
          ],
          [
           "2019_3",
           "accelerated_filer",
           "operating_profit_margin"
          ],
          [
           "2019_3",
           "large_accelerated_filer",
           "operating_profit_margin"
          ],
          [
           "2019_3",
           "non_accelerated_filer",
           "operating_profit_margin"
          ],
          [
           "2019_4",
           "accelerated_filer",
           "operating_profit_margin"
          ],
          [
           "2019_4",
           "large_accelerated_filer",
           "operating_profit_margin"
          ],
          [
           "2019_4",
           "non_accelerated_filer",
           "operating_profit_margin"
          ],
          [
           "2020_1",
           "accelerated_filer",
           "operating_profit_margin"
          ],
          [
           "2020_1",
           "large_accelerated_filer",
           "operating_profit_margin"
          ],
          [
           "2020_1",
           "non_accelerated_filer",
           "operating_profit_margin"
          ],
          [
           "2020_2",
           "accelerated_filer",
           "operating_profit_margin"
          ],
          [
           "2020_2",
           "large_accelerated_filer",
           "operating_profit_margin"
          ],
          [
           "2020_2",
           "non_accelerated_filer",
           "operating_profit_margin"
          ],
          [
           "2020_3",
           "accelerated_filer",
           "operating_profit_margin"
          ],
          [
           "2020_3",
           "large_accelerated_filer",
           "operating_profit_margin"
          ],
          [
           "2020_3",
           "non_accelerated_filer",
           "operating_profit_margin"
          ],
          [
           "2020_4",
           "accelerated_filer",
           "operating_profit_margin"
          ],
          [
           "2020_4",
           "large_accelerated_filer",
           "operating_profit_margin"
          ],
          [
           "2020_4",
           "non_accelerated_filer",
           "operating_profit_margin"
          ],
          [
           "2021_1",
           "non_accelerated_filer",
           "operating_profit_margin"
          ],
          [
           "2021_1",
           "accelerated_filer",
           "operating_profit_margin"
          ],
          [
           "2021_1",
           "large_accelerated_filer",
           "operating_profit_margin"
          ],
          [
           "2021_2",
           "non_accelerated_filer",
           "operating_profit_margin"
          ],
          [
           "2021_2",
           "accelerated_filer",
           "operating_profit_margin"
          ],
          [
           "2021_2",
           "large_accelerated_filer",
           "operating_profit_margin"
          ],
          [
           "2021_3",
           "non_accelerated_filer",
           "operating_profit_margin"
          ],
          [
           "2021_3",
           "accelerated_filer",
           "operating_profit_margin"
          ],
          [
           "2021_3",
           "large_accelerated_filer",
           "operating_profit_margin"
          ]
         ],
         "fillcolor": "rgba(255,255,255,0)",
         "hoveron": "points",
         "hovertemplate": "kpi=%{customdata[2]}<br>used_to_all=%{x}<br>year_q=%{customdata[0]}<br>filer_type=%{customdata[1]}<extra></extra>",
         "jitter": 0,
         "legendgroup": "operating_profit_margin",
         "line": {
          "color": "rgba(255,255,255,0)"
         },
         "marker": {
          "color": "#FFA15A",
          "symbol": "line-ns-open"
         },
         "name": "operating_profit_margin",
         "offsetgroup": "operating_profit_margin",
         "showlegend": false,
         "type": "box",
         "x": [
          0.85,
          0.96,
          0.85,
          0.94,
          0.98,
          0.94,
          0.91,
          0.98,
          0.94,
          0.97,
          0.96,
          1,
          0.89,
          0.98,
          0.76,
          0.92,
          0.98,
          0.93,
          0.97,
          0.98,
          0.93,
          0.83,
          0.98,
          1,
          0.94,
          1,
          0.73,
          0.97,
          1,
          0.8,
          0.74,
          0.98,
          1,
          0.94,
          0.92,
          1,
          0.56,
          0.88,
          0.88,
          0.78,
          0.96,
          0.93,
          0.84,
          1,
          0.6,
          0.94,
          0.96,
          0.97,
          0.74,
          0.93,
          1,
          0.76,
          0.96,
          1
         ],
         "xaxis": "x2",
         "yaxis": "y2"
        },
        {
         "alignmentgroup": "True",
         "bingroup": "x",
         "hovertemplate": "kpi=net_profit_margin<br>used_to_all=%{x}<br>count=%{y}<extra></extra>",
         "legendgroup": "net_profit_margin",
         "marker": {
          "color": "#19d3f3",
          "pattern": {
           "shape": ""
          }
         },
         "name": "net_profit_margin",
         "offsetgroup": "net_profit_margin",
         "orientation": "v",
         "showlegend": true,
         "type": "histogram",
         "x": [
          0.85,
          0.96,
          0.85,
          0.94,
          0.98,
          0.94,
          0.91,
          0.98,
          0.94,
          0.97,
          0.96,
          1,
          0.89,
          0.98,
          0.76,
          0.92,
          0.98,
          0.93,
          0.97,
          0.98,
          0.93,
          0.83,
          0.98,
          1,
          0.94,
          1,
          0.73,
          0.97,
          1,
          0.8,
          0.74,
          0.98,
          1,
          0.94,
          0.92,
          1,
          0.56,
          0.88,
          0.81,
          0.78,
          0.96,
          0.93,
          0.84,
          1,
          0.6,
          0.9,
          0.96,
          0.97,
          0.74,
          0.93,
          1,
          0.76,
          0.96,
          1
         ],
         "xaxis": "x",
         "yaxis": "y"
        },
        {
         "alignmentgroup": "True",
         "boxpoints": "all",
         "customdata": [
          [
           "2017_2",
           "accelerated_filer",
           "net_profit_margin"
          ],
          [
           "2017_2",
           "large_accelerated_filer",
           "net_profit_margin"
          ],
          [
           "2017_2",
           "non_accelerated_filer",
           "net_profit_margin"
          ],
          [
           "2017_3",
           "accelerated_filer",
           "net_profit_margin"
          ],
          [
           "2017_3",
           "large_accelerated_filer",
           "net_profit_margin"
          ],
          [
           "2017_3",
           "non_accelerated_filer",
           "net_profit_margin"
          ],
          [
           "2017_4",
           "accelerated_filer",
           "net_profit_margin"
          ],
          [
           "2017_4",
           "large_accelerated_filer",
           "net_profit_margin"
          ],
          [
           "2017_4",
           "non_accelerated_filer",
           "net_profit_margin"
          ],
          [
           "2018_1",
           "accelerated_filer",
           "net_profit_margin"
          ],
          [
           "2018_1",
           "large_accelerated_filer",
           "net_profit_margin"
          ],
          [
           "2018_1",
           "non_accelerated_filer",
           "net_profit_margin"
          ],
          [
           "2018_2",
           "accelerated_filer",
           "net_profit_margin"
          ],
          [
           "2018_2",
           "large_accelerated_filer",
           "net_profit_margin"
          ],
          [
           "2018_2",
           "non_accelerated_filer",
           "net_profit_margin"
          ],
          [
           "2018_3",
           "accelerated_filer",
           "net_profit_margin"
          ],
          [
           "2018_3",
           "large_accelerated_filer",
           "net_profit_margin"
          ],
          [
           "2018_3",
           "non_accelerated_filer",
           "net_profit_margin"
          ],
          [
           "2018_4",
           "accelerated_filer",
           "net_profit_margin"
          ],
          [
           "2018_4",
           "large_accelerated_filer",
           "net_profit_margin"
          ],
          [
           "2018_4",
           "non_accelerated_filer",
           "net_profit_margin"
          ],
          [
           "2019_1",
           "accelerated_filer",
           "net_profit_margin"
          ],
          [
           "2019_1",
           "large_accelerated_filer",
           "net_profit_margin"
          ],
          [
           "2019_1",
           "non_accelerated_filer",
           "net_profit_margin"
          ],
          [
           "2019_2",
           "accelerated_filer",
           "net_profit_margin"
          ],
          [
           "2019_2",
           "large_accelerated_filer",
           "net_profit_margin"
          ],
          [
           "2019_2",
           "non_accelerated_filer",
           "net_profit_margin"
          ],
          [
           "2019_3",
           "accelerated_filer",
           "net_profit_margin"
          ],
          [
           "2019_3",
           "large_accelerated_filer",
           "net_profit_margin"
          ],
          [
           "2019_3",
           "non_accelerated_filer",
           "net_profit_margin"
          ],
          [
           "2019_4",
           "accelerated_filer",
           "net_profit_margin"
          ],
          [
           "2019_4",
           "large_accelerated_filer",
           "net_profit_margin"
          ],
          [
           "2019_4",
           "non_accelerated_filer",
           "net_profit_margin"
          ],
          [
           "2020_1",
           "accelerated_filer",
           "net_profit_margin"
          ],
          [
           "2020_1",
           "large_accelerated_filer",
           "net_profit_margin"
          ],
          [
           "2020_1",
           "non_accelerated_filer",
           "net_profit_margin"
          ],
          [
           "2020_2",
           "accelerated_filer",
           "net_profit_margin"
          ],
          [
           "2020_2",
           "large_accelerated_filer",
           "net_profit_margin"
          ],
          [
           "2020_2",
           "non_accelerated_filer",
           "net_profit_margin"
          ],
          [
           "2020_3",
           "accelerated_filer",
           "net_profit_margin"
          ],
          [
           "2020_3",
           "large_accelerated_filer",
           "net_profit_margin"
          ],
          [
           "2020_3",
           "non_accelerated_filer",
           "net_profit_margin"
          ],
          [
           "2020_4",
           "accelerated_filer",
           "net_profit_margin"
          ],
          [
           "2020_4",
           "large_accelerated_filer",
           "net_profit_margin"
          ],
          [
           "2020_4",
           "non_accelerated_filer",
           "net_profit_margin"
          ],
          [
           "2021_1",
           "non_accelerated_filer",
           "net_profit_margin"
          ],
          [
           "2021_1",
           "accelerated_filer",
           "net_profit_margin"
          ],
          [
           "2021_1",
           "large_accelerated_filer",
           "net_profit_margin"
          ],
          [
           "2021_2",
           "non_accelerated_filer",
           "net_profit_margin"
          ],
          [
           "2021_2",
           "accelerated_filer",
           "net_profit_margin"
          ],
          [
           "2021_2",
           "large_accelerated_filer",
           "net_profit_margin"
          ],
          [
           "2021_3",
           "non_accelerated_filer",
           "net_profit_margin"
          ],
          [
           "2021_3",
           "accelerated_filer",
           "net_profit_margin"
          ],
          [
           "2021_3",
           "large_accelerated_filer",
           "net_profit_margin"
          ]
         ],
         "fillcolor": "rgba(255,255,255,0)",
         "hoveron": "points",
         "hovertemplate": "kpi=%{customdata[2]}<br>used_to_all=%{x}<br>year_q=%{customdata[0]}<br>filer_type=%{customdata[1]}<extra></extra>",
         "jitter": 0,
         "legendgroup": "net_profit_margin",
         "line": {
          "color": "rgba(255,255,255,0)"
         },
         "marker": {
          "color": "#19d3f3",
          "symbol": "line-ns-open"
         },
         "name": "net_profit_margin",
         "offsetgroup": "net_profit_margin",
         "showlegend": false,
         "type": "box",
         "x": [
          0.85,
          0.96,
          0.85,
          0.94,
          0.98,
          0.94,
          0.91,
          0.98,
          0.94,
          0.97,
          0.96,
          1,
          0.89,
          0.98,
          0.76,
          0.92,
          0.98,
          0.93,
          0.97,
          0.98,
          0.93,
          0.83,
          0.98,
          1,
          0.94,
          1,
          0.73,
          0.97,
          1,
          0.8,
          0.74,
          0.98,
          1,
          0.94,
          0.92,
          1,
          0.56,
          0.88,
          0.81,
          0.78,
          0.96,
          0.93,
          0.84,
          1,
          0.6,
          0.9,
          0.96,
          0.97,
          0.74,
          0.93,
          1,
          0.76,
          0.96,
          1
         ],
         "xaxis": "x2",
         "yaxis": "y2"
        },
        {
         "alignmentgroup": "True",
         "bingroup": "x",
         "hovertemplate": "kpi=debt_to_equity<br>used_to_all=%{x}<br>count=%{y}<extra></extra>",
         "legendgroup": "debt_to_equity",
         "marker": {
          "color": "#FF6692",
          "pattern": {
           "shape": ""
          }
         },
         "name": "debt_to_equity",
         "offsetgroup": "debt_to_equity",
         "orientation": "v",
         "showlegend": true,
         "type": "histogram",
         "x": [
          0.88,
          0.98,
          0.75,
          0.91,
          1,
          0.89,
          0.91,
          1,
          0.89,
          0.94,
          0.98,
          0.91,
          0.89,
          1,
          0.71,
          0.95,
          0.98,
          0.86,
          0.95,
          1,
          0.86,
          0.83,
          0.96,
          0.86,
          0.91,
          1,
          0.64,
          0.94,
          1,
          0.7,
          0.74,
          0.98,
          0.82,
          0.97,
          0.92,
          0.79,
          0.56,
          0.88,
          0.69,
          0.81,
          0.96,
          0.73,
          0.91,
          1,
          0.53,
          0.87,
          0.96,
          0.97,
          0.71,
          0.93,
          0.97,
          0.76,
          1,
          1
         ],
         "xaxis": "x",
         "yaxis": "y"
        },
        {
         "alignmentgroup": "True",
         "boxpoints": "all",
         "customdata": [
          [
           "2017_2",
           "accelerated_filer",
           "debt_to_equity"
          ],
          [
           "2017_2",
           "large_accelerated_filer",
           "debt_to_equity"
          ],
          [
           "2017_2",
           "non_accelerated_filer",
           "debt_to_equity"
          ],
          [
           "2017_3",
           "accelerated_filer",
           "debt_to_equity"
          ],
          [
           "2017_3",
           "large_accelerated_filer",
           "debt_to_equity"
          ],
          [
           "2017_3",
           "non_accelerated_filer",
           "debt_to_equity"
          ],
          [
           "2017_4",
           "accelerated_filer",
           "debt_to_equity"
          ],
          [
           "2017_4",
           "large_accelerated_filer",
           "debt_to_equity"
          ],
          [
           "2017_4",
           "non_accelerated_filer",
           "debt_to_equity"
          ],
          [
           "2018_1",
           "accelerated_filer",
           "debt_to_equity"
          ],
          [
           "2018_1",
           "large_accelerated_filer",
           "debt_to_equity"
          ],
          [
           "2018_1",
           "non_accelerated_filer",
           "debt_to_equity"
          ],
          [
           "2018_2",
           "accelerated_filer",
           "debt_to_equity"
          ],
          [
           "2018_2",
           "large_accelerated_filer",
           "debt_to_equity"
          ],
          [
           "2018_2",
           "non_accelerated_filer",
           "debt_to_equity"
          ],
          [
           "2018_3",
           "accelerated_filer",
           "debt_to_equity"
          ],
          [
           "2018_3",
           "large_accelerated_filer",
           "debt_to_equity"
          ],
          [
           "2018_3",
           "non_accelerated_filer",
           "debt_to_equity"
          ],
          [
           "2018_4",
           "accelerated_filer",
           "debt_to_equity"
          ],
          [
           "2018_4",
           "large_accelerated_filer",
           "debt_to_equity"
          ],
          [
           "2018_4",
           "non_accelerated_filer",
           "debt_to_equity"
          ],
          [
           "2019_1",
           "accelerated_filer",
           "debt_to_equity"
          ],
          [
           "2019_1",
           "large_accelerated_filer",
           "debt_to_equity"
          ],
          [
           "2019_1",
           "non_accelerated_filer",
           "debt_to_equity"
          ],
          [
           "2019_2",
           "accelerated_filer",
           "debt_to_equity"
          ],
          [
           "2019_2",
           "large_accelerated_filer",
           "debt_to_equity"
          ],
          [
           "2019_2",
           "non_accelerated_filer",
           "debt_to_equity"
          ],
          [
           "2019_3",
           "accelerated_filer",
           "debt_to_equity"
          ],
          [
           "2019_3",
           "large_accelerated_filer",
           "debt_to_equity"
          ],
          [
           "2019_3",
           "non_accelerated_filer",
           "debt_to_equity"
          ],
          [
           "2019_4",
           "accelerated_filer",
           "debt_to_equity"
          ],
          [
           "2019_4",
           "large_accelerated_filer",
           "debt_to_equity"
          ],
          [
           "2019_4",
           "non_accelerated_filer",
           "debt_to_equity"
          ],
          [
           "2020_1",
           "accelerated_filer",
           "debt_to_equity"
          ],
          [
           "2020_1",
           "large_accelerated_filer",
           "debt_to_equity"
          ],
          [
           "2020_1",
           "non_accelerated_filer",
           "debt_to_equity"
          ],
          [
           "2020_2",
           "accelerated_filer",
           "debt_to_equity"
          ],
          [
           "2020_2",
           "large_accelerated_filer",
           "debt_to_equity"
          ],
          [
           "2020_2",
           "non_accelerated_filer",
           "debt_to_equity"
          ],
          [
           "2020_3",
           "accelerated_filer",
           "debt_to_equity"
          ],
          [
           "2020_3",
           "large_accelerated_filer",
           "debt_to_equity"
          ],
          [
           "2020_3",
           "non_accelerated_filer",
           "debt_to_equity"
          ],
          [
           "2020_4",
           "accelerated_filer",
           "debt_to_equity"
          ],
          [
           "2020_4",
           "large_accelerated_filer",
           "debt_to_equity"
          ],
          [
           "2020_4",
           "non_accelerated_filer",
           "debt_to_equity"
          ],
          [
           "2021_1",
           "non_accelerated_filer",
           "debt_to_equity"
          ],
          [
           "2021_1",
           "accelerated_filer",
           "debt_to_equity"
          ],
          [
           "2021_1",
           "large_accelerated_filer",
           "debt_to_equity"
          ],
          [
           "2021_2",
           "non_accelerated_filer",
           "debt_to_equity"
          ],
          [
           "2021_2",
           "accelerated_filer",
           "debt_to_equity"
          ],
          [
           "2021_2",
           "large_accelerated_filer",
           "debt_to_equity"
          ],
          [
           "2021_3",
           "non_accelerated_filer",
           "debt_to_equity"
          ],
          [
           "2021_3",
           "accelerated_filer",
           "debt_to_equity"
          ],
          [
           "2021_3",
           "large_accelerated_filer",
           "debt_to_equity"
          ]
         ],
         "fillcolor": "rgba(255,255,255,0)",
         "hoveron": "points",
         "hovertemplate": "kpi=%{customdata[2]}<br>used_to_all=%{x}<br>year_q=%{customdata[0]}<br>filer_type=%{customdata[1]}<extra></extra>",
         "jitter": 0,
         "legendgroup": "debt_to_equity",
         "line": {
          "color": "rgba(255,255,255,0)"
         },
         "marker": {
          "color": "#FF6692",
          "symbol": "line-ns-open"
         },
         "name": "debt_to_equity",
         "offsetgroup": "debt_to_equity",
         "showlegend": false,
         "type": "box",
         "x": [
          0.88,
          0.98,
          0.75,
          0.91,
          1,
          0.89,
          0.91,
          1,
          0.89,
          0.94,
          0.98,
          0.91,
          0.89,
          1,
          0.71,
          0.95,
          0.98,
          0.86,
          0.95,
          1,
          0.86,
          0.83,
          0.96,
          0.86,
          0.91,
          1,
          0.64,
          0.94,
          1,
          0.7,
          0.74,
          0.98,
          0.82,
          0.97,
          0.92,
          0.79,
          0.56,
          0.88,
          0.69,
          0.81,
          0.96,
          0.73,
          0.91,
          1,
          0.53,
          0.87,
          0.96,
          0.97,
          0.71,
          0.93,
          0.97,
          0.76,
          1,
          1
         ],
         "xaxis": "x2",
         "yaxis": "y2"
        },
        {
         "alignmentgroup": "True",
         "bingroup": "x",
         "hovertemplate": "kpi=equity<br>used_to_all=%{x}<br>count=%{y}<extra></extra>",
         "legendgroup": "equity",
         "marker": {
          "color": "#B6E880",
          "pattern": {
           "shape": ""
          }
         },
         "name": "equity",
         "offsetgroup": "equity",
         "orientation": "v",
         "showlegend": true,
         "type": "histogram",
         "x": [
          0.91,
          0.98,
          0.8,
          0.94,
          1,
          0.94,
          0.97,
          1,
          0.94,
          1,
          0.98,
          1,
          0.95,
          1,
          0.76,
          0.97,
          0.98,
          0.93,
          1,
          1,
          0.93,
          0.86,
          0.96,
          1,
          0.97,
          1,
          0.73,
          0.97,
          1,
          0.8,
          0.74,
          0.98,
          0.91,
          0.97,
          0.92,
          0.93,
          0.56,
          0.88,
          0.81,
          0.81,
          0.96,
          0.87,
          0.91,
          1,
          0.67,
          0.94,
          0.96,
          0.97,
          0.77,
          0.93,
          0.97,
          0.82,
          1,
          1
         ],
         "xaxis": "x",
         "yaxis": "y"
        },
        {
         "alignmentgroup": "True",
         "boxpoints": "all",
         "customdata": [
          [
           "2017_2",
           "accelerated_filer",
           "equity"
          ],
          [
           "2017_2",
           "large_accelerated_filer",
           "equity"
          ],
          [
           "2017_2",
           "non_accelerated_filer",
           "equity"
          ],
          [
           "2017_3",
           "accelerated_filer",
           "equity"
          ],
          [
           "2017_3",
           "large_accelerated_filer",
           "equity"
          ],
          [
           "2017_3",
           "non_accelerated_filer",
           "equity"
          ],
          [
           "2017_4",
           "accelerated_filer",
           "equity"
          ],
          [
           "2017_4",
           "large_accelerated_filer",
           "equity"
          ],
          [
           "2017_4",
           "non_accelerated_filer",
           "equity"
          ],
          [
           "2018_1",
           "accelerated_filer",
           "equity"
          ],
          [
           "2018_1",
           "large_accelerated_filer",
           "equity"
          ],
          [
           "2018_1",
           "non_accelerated_filer",
           "equity"
          ],
          [
           "2018_2",
           "accelerated_filer",
           "equity"
          ],
          [
           "2018_2",
           "large_accelerated_filer",
           "equity"
          ],
          [
           "2018_2",
           "non_accelerated_filer",
           "equity"
          ],
          [
           "2018_3",
           "accelerated_filer",
           "equity"
          ],
          [
           "2018_3",
           "large_accelerated_filer",
           "equity"
          ],
          [
           "2018_3",
           "non_accelerated_filer",
           "equity"
          ],
          [
           "2018_4",
           "accelerated_filer",
           "equity"
          ],
          [
           "2018_4",
           "large_accelerated_filer",
           "equity"
          ],
          [
           "2018_4",
           "non_accelerated_filer",
           "equity"
          ],
          [
           "2019_1",
           "accelerated_filer",
           "equity"
          ],
          [
           "2019_1",
           "large_accelerated_filer",
           "equity"
          ],
          [
           "2019_1",
           "non_accelerated_filer",
           "equity"
          ],
          [
           "2019_2",
           "accelerated_filer",
           "equity"
          ],
          [
           "2019_2",
           "large_accelerated_filer",
           "equity"
          ],
          [
           "2019_2",
           "non_accelerated_filer",
           "equity"
          ],
          [
           "2019_3",
           "accelerated_filer",
           "equity"
          ],
          [
           "2019_3",
           "large_accelerated_filer",
           "equity"
          ],
          [
           "2019_3",
           "non_accelerated_filer",
           "equity"
          ],
          [
           "2019_4",
           "accelerated_filer",
           "equity"
          ],
          [
           "2019_4",
           "large_accelerated_filer",
           "equity"
          ],
          [
           "2019_4",
           "non_accelerated_filer",
           "equity"
          ],
          [
           "2020_1",
           "accelerated_filer",
           "equity"
          ],
          [
           "2020_1",
           "large_accelerated_filer",
           "equity"
          ],
          [
           "2020_1",
           "non_accelerated_filer",
           "equity"
          ],
          [
           "2020_2",
           "accelerated_filer",
           "equity"
          ],
          [
           "2020_2",
           "large_accelerated_filer",
           "equity"
          ],
          [
           "2020_2",
           "non_accelerated_filer",
           "equity"
          ],
          [
           "2020_3",
           "accelerated_filer",
           "equity"
          ],
          [
           "2020_3",
           "large_accelerated_filer",
           "equity"
          ],
          [
           "2020_3",
           "non_accelerated_filer",
           "equity"
          ],
          [
           "2020_4",
           "accelerated_filer",
           "equity"
          ],
          [
           "2020_4",
           "large_accelerated_filer",
           "equity"
          ],
          [
           "2020_4",
           "non_accelerated_filer",
           "equity"
          ],
          [
           "2021_1",
           "non_accelerated_filer",
           "equity"
          ],
          [
           "2021_1",
           "accelerated_filer",
           "equity"
          ],
          [
           "2021_1",
           "large_accelerated_filer",
           "equity"
          ],
          [
           "2021_2",
           "non_accelerated_filer",
           "equity"
          ],
          [
           "2021_2",
           "accelerated_filer",
           "equity"
          ],
          [
           "2021_2",
           "large_accelerated_filer",
           "equity"
          ],
          [
           "2021_3",
           "non_accelerated_filer",
           "equity"
          ],
          [
           "2021_3",
           "accelerated_filer",
           "equity"
          ],
          [
           "2021_3",
           "large_accelerated_filer",
           "equity"
          ]
         ],
         "fillcolor": "rgba(255,255,255,0)",
         "hoveron": "points",
         "hovertemplate": "kpi=%{customdata[2]}<br>used_to_all=%{x}<br>year_q=%{customdata[0]}<br>filer_type=%{customdata[1]}<extra></extra>",
         "jitter": 0,
         "legendgroup": "equity",
         "line": {
          "color": "rgba(255,255,255,0)"
         },
         "marker": {
          "color": "#B6E880",
          "symbol": "line-ns-open"
         },
         "name": "equity",
         "offsetgroup": "equity",
         "showlegend": false,
         "type": "box",
         "x": [
          0.91,
          0.98,
          0.8,
          0.94,
          1,
          0.94,
          0.97,
          1,
          0.94,
          1,
          0.98,
          1,
          0.95,
          1,
          0.76,
          0.97,
          0.98,
          0.93,
          1,
          1,
          0.93,
          0.86,
          0.96,
          1,
          0.97,
          1,
          0.73,
          0.97,
          1,
          0.8,
          0.74,
          0.98,
          0.91,
          0.97,
          0.92,
          0.93,
          0.56,
          0.88,
          0.81,
          0.81,
          0.96,
          0.87,
          0.91,
          1,
          0.67,
          0.94,
          0.96,
          0.97,
          0.77,
          0.93,
          0.97,
          0.82,
          1,
          1
         ],
         "xaxis": "x2",
         "yaxis": "y2"
        },
        {
         "alignmentgroup": "True",
         "bingroup": "x",
         "hovertemplate": "kpi=debt<br>used_to_all=%{x}<br>count=%{y}<extra></extra>",
         "legendgroup": "debt",
         "marker": {
          "color": "#FF97FF",
          "pattern": {
           "shape": ""
          }
         },
         "name": "debt",
         "offsetgroup": "debt",
         "orientation": "v",
         "showlegend": true,
         "type": "histogram",
         "x": [
          0.68,
          0.91,
          0.6,
          0.74,
          0.94,
          0.78,
          0.71,
          0.94,
          0.78,
          0.75,
          0.94,
          0.82,
          0.74,
          0.96,
          0.59,
          0.76,
          0.94,
          0.71,
          0.73,
          0.96,
          0.71,
          0.66,
          0.94,
          0.86,
          0.77,
          1,
          0.55,
          0.8,
          0.98,
          0.6,
          0.69,
          0.96,
          0.82,
          0.84,
          0.9,
          0.79,
          0.56,
          0.87,
          0.69,
          0.81,
          0.92,
          0.73,
          0.81,
          0.96,
          0.6,
          0.77,
          0.88,
          0.97,
          0.66,
          0.86,
          0.97,
          0.67,
          0.93,
          1
         ],
         "xaxis": "x",
         "yaxis": "y"
        },
        {
         "alignmentgroup": "True",
         "boxpoints": "all",
         "customdata": [
          [
           "2017_2",
           "accelerated_filer",
           "debt"
          ],
          [
           "2017_2",
           "large_accelerated_filer",
           "debt"
          ],
          [
           "2017_2",
           "non_accelerated_filer",
           "debt"
          ],
          [
           "2017_3",
           "accelerated_filer",
           "debt"
          ],
          [
           "2017_3",
           "large_accelerated_filer",
           "debt"
          ],
          [
           "2017_3",
           "non_accelerated_filer",
           "debt"
          ],
          [
           "2017_4",
           "accelerated_filer",
           "debt"
          ],
          [
           "2017_4",
           "large_accelerated_filer",
           "debt"
          ],
          [
           "2017_4",
           "non_accelerated_filer",
           "debt"
          ],
          [
           "2018_1",
           "accelerated_filer",
           "debt"
          ],
          [
           "2018_1",
           "large_accelerated_filer",
           "debt"
          ],
          [
           "2018_1",
           "non_accelerated_filer",
           "debt"
          ],
          [
           "2018_2",
           "accelerated_filer",
           "debt"
          ],
          [
           "2018_2",
           "large_accelerated_filer",
           "debt"
          ],
          [
           "2018_2",
           "non_accelerated_filer",
           "debt"
          ],
          [
           "2018_3",
           "accelerated_filer",
           "debt"
          ],
          [
           "2018_3",
           "large_accelerated_filer",
           "debt"
          ],
          [
           "2018_3",
           "non_accelerated_filer",
           "debt"
          ],
          [
           "2018_4",
           "accelerated_filer",
           "debt"
          ],
          [
           "2018_4",
           "large_accelerated_filer",
           "debt"
          ],
          [
           "2018_4",
           "non_accelerated_filer",
           "debt"
          ],
          [
           "2019_1",
           "accelerated_filer",
           "debt"
          ],
          [
           "2019_1",
           "large_accelerated_filer",
           "debt"
          ],
          [
           "2019_1",
           "non_accelerated_filer",
           "debt"
          ],
          [
           "2019_2",
           "accelerated_filer",
           "debt"
          ],
          [
           "2019_2",
           "large_accelerated_filer",
           "debt"
          ],
          [
           "2019_2",
           "non_accelerated_filer",
           "debt"
          ],
          [
           "2019_3",
           "accelerated_filer",
           "debt"
          ],
          [
           "2019_3",
           "large_accelerated_filer",
           "debt"
          ],
          [
           "2019_3",
           "non_accelerated_filer",
           "debt"
          ],
          [
           "2019_4",
           "accelerated_filer",
           "debt"
          ],
          [
           "2019_4",
           "large_accelerated_filer",
           "debt"
          ],
          [
           "2019_4",
           "non_accelerated_filer",
           "debt"
          ],
          [
           "2020_1",
           "accelerated_filer",
           "debt"
          ],
          [
           "2020_1",
           "large_accelerated_filer",
           "debt"
          ],
          [
           "2020_1",
           "non_accelerated_filer",
           "debt"
          ],
          [
           "2020_2",
           "accelerated_filer",
           "debt"
          ],
          [
           "2020_2",
           "large_accelerated_filer",
           "debt"
          ],
          [
           "2020_2",
           "non_accelerated_filer",
           "debt"
          ],
          [
           "2020_3",
           "accelerated_filer",
           "debt"
          ],
          [
           "2020_3",
           "large_accelerated_filer",
           "debt"
          ],
          [
           "2020_3",
           "non_accelerated_filer",
           "debt"
          ],
          [
           "2020_4",
           "accelerated_filer",
           "debt"
          ],
          [
           "2020_4",
           "large_accelerated_filer",
           "debt"
          ],
          [
           "2020_4",
           "non_accelerated_filer",
           "debt"
          ],
          [
           "2021_1",
           "non_accelerated_filer",
           "debt"
          ],
          [
           "2021_1",
           "accelerated_filer",
           "debt"
          ],
          [
           "2021_1",
           "large_accelerated_filer",
           "debt"
          ],
          [
           "2021_2",
           "non_accelerated_filer",
           "debt"
          ],
          [
           "2021_2",
           "accelerated_filer",
           "debt"
          ],
          [
           "2021_2",
           "large_accelerated_filer",
           "debt"
          ],
          [
           "2021_3",
           "non_accelerated_filer",
           "debt"
          ],
          [
           "2021_3",
           "accelerated_filer",
           "debt"
          ],
          [
           "2021_3",
           "large_accelerated_filer",
           "debt"
          ]
         ],
         "fillcolor": "rgba(255,255,255,0)",
         "hoveron": "points",
         "hovertemplate": "kpi=%{customdata[2]}<br>used_to_all=%{x}<br>year_q=%{customdata[0]}<br>filer_type=%{customdata[1]}<extra></extra>",
         "jitter": 0,
         "legendgroup": "debt",
         "line": {
          "color": "rgba(255,255,255,0)"
         },
         "marker": {
          "color": "#FF97FF",
          "symbol": "line-ns-open"
         },
         "name": "debt",
         "offsetgroup": "debt",
         "showlegend": false,
         "type": "box",
         "x": [
          0.68,
          0.91,
          0.6,
          0.74,
          0.94,
          0.78,
          0.71,
          0.94,
          0.78,
          0.75,
          0.94,
          0.82,
          0.74,
          0.96,
          0.59,
          0.76,
          0.94,
          0.71,
          0.73,
          0.96,
          0.71,
          0.66,
          0.94,
          0.86,
          0.77,
          1,
          0.55,
          0.8,
          0.98,
          0.6,
          0.69,
          0.96,
          0.82,
          0.84,
          0.9,
          0.79,
          0.56,
          0.87,
          0.69,
          0.81,
          0.92,
          0.73,
          0.81,
          0.96,
          0.6,
          0.77,
          0.88,
          0.97,
          0.66,
          0.86,
          0.97,
          0.67,
          0.93,
          1
         ],
         "xaxis": "x2",
         "yaxis": "y2"
        },
        {
         "alignmentgroup": "True",
         "bingroup": "x",
         "hovertemplate": "kpi=current<br>used_to_all=%{x}<br>count=%{y}<extra></extra>",
         "legendgroup": "current",
         "marker": {
          "color": "#FECB52",
          "pattern": {
           "shape": ""
          }
         },
         "name": "current",
         "offsetgroup": "current",
         "orientation": "v",
         "showlegend": true,
         "type": "histogram",
         "x": [
          0.91,
          0.98,
          0.75,
          0.91,
          1,
          0.89,
          0.91,
          1,
          0.89,
          0.94,
          0.98,
          0.91,
          0.89,
          1,
          0.71,
          0.95,
          0.98,
          0.86,
          0.95,
          1,
          0.86,
          0.83,
          0.98,
          0.86,
          0.91,
          1,
          0.64,
          0.94,
          1,
          0.7,
          0.77,
          0.98,
          0.91,
          0.97,
          0.92,
          0.79,
          0.56,
          0.88,
          0.69,
          0.81,
          0.96,
          0.73,
          0.91,
          1,
          0.53,
          0.87,
          0.96,
          0.97,
          0.71,
          0.93,
          0.97,
          0.73,
          1,
          1
         ],
         "xaxis": "x",
         "yaxis": "y"
        },
        {
         "alignmentgroup": "True",
         "boxpoints": "all",
         "customdata": [
          [
           "2017_2",
           "accelerated_filer",
           "current"
          ],
          [
           "2017_2",
           "large_accelerated_filer",
           "current"
          ],
          [
           "2017_2",
           "non_accelerated_filer",
           "current"
          ],
          [
           "2017_3",
           "accelerated_filer",
           "current"
          ],
          [
           "2017_3",
           "large_accelerated_filer",
           "current"
          ],
          [
           "2017_3",
           "non_accelerated_filer",
           "current"
          ],
          [
           "2017_4",
           "accelerated_filer",
           "current"
          ],
          [
           "2017_4",
           "large_accelerated_filer",
           "current"
          ],
          [
           "2017_4",
           "non_accelerated_filer",
           "current"
          ],
          [
           "2018_1",
           "accelerated_filer",
           "current"
          ],
          [
           "2018_1",
           "large_accelerated_filer",
           "current"
          ],
          [
           "2018_1",
           "non_accelerated_filer",
           "current"
          ],
          [
           "2018_2",
           "accelerated_filer",
           "current"
          ],
          [
           "2018_2",
           "large_accelerated_filer",
           "current"
          ],
          [
           "2018_2",
           "non_accelerated_filer",
           "current"
          ],
          [
           "2018_3",
           "accelerated_filer",
           "current"
          ],
          [
           "2018_3",
           "large_accelerated_filer",
           "current"
          ],
          [
           "2018_3",
           "non_accelerated_filer",
           "current"
          ],
          [
           "2018_4",
           "accelerated_filer",
           "current"
          ],
          [
           "2018_4",
           "large_accelerated_filer",
           "current"
          ],
          [
           "2018_4",
           "non_accelerated_filer",
           "current"
          ],
          [
           "2019_1",
           "accelerated_filer",
           "current"
          ],
          [
           "2019_1",
           "large_accelerated_filer",
           "current"
          ],
          [
           "2019_1",
           "non_accelerated_filer",
           "current"
          ],
          [
           "2019_2",
           "accelerated_filer",
           "current"
          ],
          [
           "2019_2",
           "large_accelerated_filer",
           "current"
          ],
          [
           "2019_2",
           "non_accelerated_filer",
           "current"
          ],
          [
           "2019_3",
           "accelerated_filer",
           "current"
          ],
          [
           "2019_3",
           "large_accelerated_filer",
           "current"
          ],
          [
           "2019_3",
           "non_accelerated_filer",
           "current"
          ],
          [
           "2019_4",
           "accelerated_filer",
           "current"
          ],
          [
           "2019_4",
           "large_accelerated_filer",
           "current"
          ],
          [
           "2019_4",
           "non_accelerated_filer",
           "current"
          ],
          [
           "2020_1",
           "accelerated_filer",
           "current"
          ],
          [
           "2020_1",
           "large_accelerated_filer",
           "current"
          ],
          [
           "2020_1",
           "non_accelerated_filer",
           "current"
          ],
          [
           "2020_2",
           "accelerated_filer",
           "current"
          ],
          [
           "2020_2",
           "large_accelerated_filer",
           "current"
          ],
          [
           "2020_2",
           "non_accelerated_filer",
           "current"
          ],
          [
           "2020_3",
           "accelerated_filer",
           "current"
          ],
          [
           "2020_3",
           "large_accelerated_filer",
           "current"
          ],
          [
           "2020_3",
           "non_accelerated_filer",
           "current"
          ],
          [
           "2020_4",
           "accelerated_filer",
           "current"
          ],
          [
           "2020_4",
           "large_accelerated_filer",
           "current"
          ],
          [
           "2020_4",
           "non_accelerated_filer",
           "current"
          ],
          [
           "2021_1",
           "non_accelerated_filer",
           "current"
          ],
          [
           "2021_1",
           "accelerated_filer",
           "current"
          ],
          [
           "2021_1",
           "large_accelerated_filer",
           "current"
          ],
          [
           "2021_2",
           "non_accelerated_filer",
           "current"
          ],
          [
           "2021_2",
           "accelerated_filer",
           "current"
          ],
          [
           "2021_2",
           "large_accelerated_filer",
           "current"
          ],
          [
           "2021_3",
           "non_accelerated_filer",
           "current"
          ],
          [
           "2021_3",
           "accelerated_filer",
           "current"
          ],
          [
           "2021_3",
           "large_accelerated_filer",
           "current"
          ]
         ],
         "fillcolor": "rgba(255,255,255,0)",
         "hoveron": "points",
         "hovertemplate": "kpi=%{customdata[2]}<br>used_to_all=%{x}<br>year_q=%{customdata[0]}<br>filer_type=%{customdata[1]}<extra></extra>",
         "jitter": 0,
         "legendgroup": "current",
         "line": {
          "color": "rgba(255,255,255,0)"
         },
         "marker": {
          "color": "#FECB52",
          "symbol": "line-ns-open"
         },
         "name": "current",
         "offsetgroup": "current",
         "showlegend": false,
         "type": "box",
         "x": [
          0.91,
          0.98,
          0.75,
          0.91,
          1,
          0.89,
          0.91,
          1,
          0.89,
          0.94,
          0.98,
          0.91,
          0.89,
          1,
          0.71,
          0.95,
          0.98,
          0.86,
          0.95,
          1,
          0.86,
          0.83,
          0.98,
          0.86,
          0.91,
          1,
          0.64,
          0.94,
          1,
          0.7,
          0.77,
          0.98,
          0.91,
          0.97,
          0.92,
          0.79,
          0.56,
          0.88,
          0.69,
          0.81,
          0.96,
          0.73,
          0.91,
          1,
          0.53,
          0.87,
          0.96,
          0.97,
          0.71,
          0.93,
          0.97,
          0.73,
          1,
          1
         ],
         "xaxis": "x2",
         "yaxis": "y2"
        },
        {
         "alignmentgroup": "True",
         "bingroup": "x",
         "hovertemplate": "kpi=quick<br>used_to_all=%{x}<br>count=%{y}<extra></extra>",
         "legendgroup": "quick",
         "marker": {
          "color": "#636efa",
          "pattern": {
           "shape": ""
          }
         },
         "name": "quick",
         "offsetgroup": "quick",
         "orientation": "v",
         "showlegend": true,
         "type": "histogram",
         "x": [
          0.74,
          0.96,
          0.65,
          0.71,
          1,
          0.72,
          0.68,
          1,
          0.78,
          0.78,
          0.96,
          0.73,
          0.74,
          1,
          0.53,
          0.78,
          0.98,
          0.64,
          0.78,
          0.98,
          0.64,
          0.69,
          0.96,
          0.71,
          0.71,
          0.98,
          0.45,
          0.74,
          0.98,
          0.5,
          0.63,
          0.96,
          0.64,
          0.78,
          0.9,
          0.64,
          0.53,
          0.85,
          0.56,
          0.75,
          0.94,
          0.6,
          0.72,
          0.96,
          0.47,
          0.71,
          0.92,
          0.97,
          0.6,
          0.86,
          0.97,
          0.61,
          0.93,
          1
         ],
         "xaxis": "x",
         "yaxis": "y"
        },
        {
         "alignmentgroup": "True",
         "boxpoints": "all",
         "customdata": [
          [
           "2017_2",
           "accelerated_filer",
           "quick"
          ],
          [
           "2017_2",
           "large_accelerated_filer",
           "quick"
          ],
          [
           "2017_2",
           "non_accelerated_filer",
           "quick"
          ],
          [
           "2017_3",
           "accelerated_filer",
           "quick"
          ],
          [
           "2017_3",
           "large_accelerated_filer",
           "quick"
          ],
          [
           "2017_3",
           "non_accelerated_filer",
           "quick"
          ],
          [
           "2017_4",
           "accelerated_filer",
           "quick"
          ],
          [
           "2017_4",
           "large_accelerated_filer",
           "quick"
          ],
          [
           "2017_4",
           "non_accelerated_filer",
           "quick"
          ],
          [
           "2018_1",
           "accelerated_filer",
           "quick"
          ],
          [
           "2018_1",
           "large_accelerated_filer",
           "quick"
          ],
          [
           "2018_1",
           "non_accelerated_filer",
           "quick"
          ],
          [
           "2018_2",
           "accelerated_filer",
           "quick"
          ],
          [
           "2018_2",
           "large_accelerated_filer",
           "quick"
          ],
          [
           "2018_2",
           "non_accelerated_filer",
           "quick"
          ],
          [
           "2018_3",
           "accelerated_filer",
           "quick"
          ],
          [
           "2018_3",
           "large_accelerated_filer",
           "quick"
          ],
          [
           "2018_3",
           "non_accelerated_filer",
           "quick"
          ],
          [
           "2018_4",
           "accelerated_filer",
           "quick"
          ],
          [
           "2018_4",
           "large_accelerated_filer",
           "quick"
          ],
          [
           "2018_4",
           "non_accelerated_filer",
           "quick"
          ],
          [
           "2019_1",
           "accelerated_filer",
           "quick"
          ],
          [
           "2019_1",
           "large_accelerated_filer",
           "quick"
          ],
          [
           "2019_1",
           "non_accelerated_filer",
           "quick"
          ],
          [
           "2019_2",
           "accelerated_filer",
           "quick"
          ],
          [
           "2019_2",
           "large_accelerated_filer",
           "quick"
          ],
          [
           "2019_2",
           "non_accelerated_filer",
           "quick"
          ],
          [
           "2019_3",
           "accelerated_filer",
           "quick"
          ],
          [
           "2019_3",
           "large_accelerated_filer",
           "quick"
          ],
          [
           "2019_3",
           "non_accelerated_filer",
           "quick"
          ],
          [
           "2019_4",
           "accelerated_filer",
           "quick"
          ],
          [
           "2019_4",
           "large_accelerated_filer",
           "quick"
          ],
          [
           "2019_4",
           "non_accelerated_filer",
           "quick"
          ],
          [
           "2020_1",
           "accelerated_filer",
           "quick"
          ],
          [
           "2020_1",
           "large_accelerated_filer",
           "quick"
          ],
          [
           "2020_1",
           "non_accelerated_filer",
           "quick"
          ],
          [
           "2020_2",
           "accelerated_filer",
           "quick"
          ],
          [
           "2020_2",
           "large_accelerated_filer",
           "quick"
          ],
          [
           "2020_2",
           "non_accelerated_filer",
           "quick"
          ],
          [
           "2020_3",
           "accelerated_filer",
           "quick"
          ],
          [
           "2020_3",
           "large_accelerated_filer",
           "quick"
          ],
          [
           "2020_3",
           "non_accelerated_filer",
           "quick"
          ],
          [
           "2020_4",
           "accelerated_filer",
           "quick"
          ],
          [
           "2020_4",
           "large_accelerated_filer",
           "quick"
          ],
          [
           "2020_4",
           "non_accelerated_filer",
           "quick"
          ],
          [
           "2021_1",
           "non_accelerated_filer",
           "quick"
          ],
          [
           "2021_1",
           "accelerated_filer",
           "quick"
          ],
          [
           "2021_1",
           "large_accelerated_filer",
           "quick"
          ],
          [
           "2021_2",
           "non_accelerated_filer",
           "quick"
          ],
          [
           "2021_2",
           "accelerated_filer",
           "quick"
          ],
          [
           "2021_2",
           "large_accelerated_filer",
           "quick"
          ],
          [
           "2021_3",
           "non_accelerated_filer",
           "quick"
          ],
          [
           "2021_3",
           "accelerated_filer",
           "quick"
          ],
          [
           "2021_3",
           "large_accelerated_filer",
           "quick"
          ]
         ],
         "fillcolor": "rgba(255,255,255,0)",
         "hoveron": "points",
         "hovertemplate": "kpi=%{customdata[2]}<br>used_to_all=%{x}<br>year_q=%{customdata[0]}<br>filer_type=%{customdata[1]}<extra></extra>",
         "jitter": 0,
         "legendgroup": "quick",
         "line": {
          "color": "rgba(255,255,255,0)"
         },
         "marker": {
          "color": "#636efa",
          "symbol": "line-ns-open"
         },
         "name": "quick",
         "offsetgroup": "quick",
         "showlegend": false,
         "type": "box",
         "x": [
          0.74,
          0.96,
          0.65,
          0.71,
          1,
          0.72,
          0.68,
          1,
          0.78,
          0.78,
          0.96,
          0.73,
          0.74,
          1,
          0.53,
          0.78,
          0.98,
          0.64,
          0.78,
          0.98,
          0.64,
          0.69,
          0.96,
          0.71,
          0.71,
          0.98,
          0.45,
          0.74,
          0.98,
          0.5,
          0.63,
          0.96,
          0.64,
          0.78,
          0.9,
          0.64,
          0.53,
          0.85,
          0.56,
          0.75,
          0.94,
          0.6,
          0.72,
          0.96,
          0.47,
          0.71,
          0.92,
          0.97,
          0.6,
          0.86,
          0.97,
          0.61,
          0.93,
          1
         ],
         "xaxis": "x2",
         "yaxis": "y2"
        },
        {
         "alignmentgroup": "True",
         "bingroup": "x",
         "hovertemplate": "kpi=cash<br>used_to_all=%{x}<br>count=%{y}<extra></extra>",
         "legendgroup": "cash",
         "marker": {
          "color": "#EF553B",
          "pattern": {
           "shape": ""
          }
         },
         "name": "cash",
         "offsetgroup": "cash",
         "orientation": "v",
         "showlegend": true,
         "type": "histogram",
         "x": [
          0.91,
          0.96,
          0.75,
          0.91,
          1,
          0.83,
          0.91,
          1,
          0.89,
          0.94,
          0.98,
          0.91,
          0.89,
          1,
          0.71,
          0.95,
          0.98,
          0.86,
          0.95,
          0.98,
          0.86,
          0.83,
          0.96,
          0.86,
          0.91,
          0.98,
          0.64,
          0.94,
          0.98,
          0.7,
          0.77,
          0.96,
          0.82,
          0.94,
          0.9,
          0.79,
          0.56,
          0.87,
          0.69,
          0.81,
          0.96,
          0.73,
          0.91,
          0.98,
          0.47,
          0.87,
          0.96,
          0.97,
          0.71,
          0.89,
          0.97,
          0.73,
          0.96,
          1
         ],
         "xaxis": "x",
         "yaxis": "y"
        },
        {
         "alignmentgroup": "True",
         "boxpoints": "all",
         "customdata": [
          [
           "2017_2",
           "accelerated_filer",
           "cash"
          ],
          [
           "2017_2",
           "large_accelerated_filer",
           "cash"
          ],
          [
           "2017_2",
           "non_accelerated_filer",
           "cash"
          ],
          [
           "2017_3",
           "accelerated_filer",
           "cash"
          ],
          [
           "2017_3",
           "large_accelerated_filer",
           "cash"
          ],
          [
           "2017_3",
           "non_accelerated_filer",
           "cash"
          ],
          [
           "2017_4",
           "accelerated_filer",
           "cash"
          ],
          [
           "2017_4",
           "large_accelerated_filer",
           "cash"
          ],
          [
           "2017_4",
           "non_accelerated_filer",
           "cash"
          ],
          [
           "2018_1",
           "accelerated_filer",
           "cash"
          ],
          [
           "2018_1",
           "large_accelerated_filer",
           "cash"
          ],
          [
           "2018_1",
           "non_accelerated_filer",
           "cash"
          ],
          [
           "2018_2",
           "accelerated_filer",
           "cash"
          ],
          [
           "2018_2",
           "large_accelerated_filer",
           "cash"
          ],
          [
           "2018_2",
           "non_accelerated_filer",
           "cash"
          ],
          [
           "2018_3",
           "accelerated_filer",
           "cash"
          ],
          [
           "2018_3",
           "large_accelerated_filer",
           "cash"
          ],
          [
           "2018_3",
           "non_accelerated_filer",
           "cash"
          ],
          [
           "2018_4",
           "accelerated_filer",
           "cash"
          ],
          [
           "2018_4",
           "large_accelerated_filer",
           "cash"
          ],
          [
           "2018_4",
           "non_accelerated_filer",
           "cash"
          ],
          [
           "2019_1",
           "accelerated_filer",
           "cash"
          ],
          [
           "2019_1",
           "large_accelerated_filer",
           "cash"
          ],
          [
           "2019_1",
           "non_accelerated_filer",
           "cash"
          ],
          [
           "2019_2",
           "accelerated_filer",
           "cash"
          ],
          [
           "2019_2",
           "large_accelerated_filer",
           "cash"
          ],
          [
           "2019_2",
           "non_accelerated_filer",
           "cash"
          ],
          [
           "2019_3",
           "accelerated_filer",
           "cash"
          ],
          [
           "2019_3",
           "large_accelerated_filer",
           "cash"
          ],
          [
           "2019_3",
           "non_accelerated_filer",
           "cash"
          ],
          [
           "2019_4",
           "accelerated_filer",
           "cash"
          ],
          [
           "2019_4",
           "large_accelerated_filer",
           "cash"
          ],
          [
           "2019_4",
           "non_accelerated_filer",
           "cash"
          ],
          [
           "2020_1",
           "accelerated_filer",
           "cash"
          ],
          [
           "2020_1",
           "large_accelerated_filer",
           "cash"
          ],
          [
           "2020_1",
           "non_accelerated_filer",
           "cash"
          ],
          [
           "2020_2",
           "accelerated_filer",
           "cash"
          ],
          [
           "2020_2",
           "large_accelerated_filer",
           "cash"
          ],
          [
           "2020_2",
           "non_accelerated_filer",
           "cash"
          ],
          [
           "2020_3",
           "accelerated_filer",
           "cash"
          ],
          [
           "2020_3",
           "large_accelerated_filer",
           "cash"
          ],
          [
           "2020_3",
           "non_accelerated_filer",
           "cash"
          ],
          [
           "2020_4",
           "accelerated_filer",
           "cash"
          ],
          [
           "2020_4",
           "large_accelerated_filer",
           "cash"
          ],
          [
           "2020_4",
           "non_accelerated_filer",
           "cash"
          ],
          [
           "2021_1",
           "non_accelerated_filer",
           "cash"
          ],
          [
           "2021_1",
           "accelerated_filer",
           "cash"
          ],
          [
           "2021_1",
           "large_accelerated_filer",
           "cash"
          ],
          [
           "2021_2",
           "non_accelerated_filer",
           "cash"
          ],
          [
           "2021_2",
           "accelerated_filer",
           "cash"
          ],
          [
           "2021_2",
           "large_accelerated_filer",
           "cash"
          ],
          [
           "2021_3",
           "non_accelerated_filer",
           "cash"
          ],
          [
           "2021_3",
           "accelerated_filer",
           "cash"
          ],
          [
           "2021_3",
           "large_accelerated_filer",
           "cash"
          ]
         ],
         "fillcolor": "rgba(255,255,255,0)",
         "hoveron": "points",
         "hovertemplate": "kpi=%{customdata[2]}<br>used_to_all=%{x}<br>year_q=%{customdata[0]}<br>filer_type=%{customdata[1]}<extra></extra>",
         "jitter": 0,
         "legendgroup": "cash",
         "line": {
          "color": "rgba(255,255,255,0)"
         },
         "marker": {
          "color": "#EF553B",
          "symbol": "line-ns-open"
         },
         "name": "cash",
         "offsetgroup": "cash",
         "showlegend": false,
         "type": "box",
         "x": [
          0.91,
          0.96,
          0.75,
          0.91,
          1,
          0.83,
          0.91,
          1,
          0.89,
          0.94,
          0.98,
          0.91,
          0.89,
          1,
          0.71,
          0.95,
          0.98,
          0.86,
          0.95,
          0.98,
          0.86,
          0.83,
          0.96,
          0.86,
          0.91,
          0.98,
          0.64,
          0.94,
          0.98,
          0.7,
          0.77,
          0.96,
          0.82,
          0.94,
          0.9,
          0.79,
          0.56,
          0.87,
          0.69,
          0.81,
          0.96,
          0.73,
          0.91,
          0.98,
          0.47,
          0.87,
          0.96,
          0.97,
          0.71,
          0.89,
          0.97,
          0.73,
          0.96,
          1
         ],
         "xaxis": "x2",
         "yaxis": "y2"
        },
        {
         "alignmentgroup": "True",
         "bingroup": "x",
         "hovertemplate": "kpi=times_interest_earned<br>used_to_all=%{x}<br>count=%{y}<extra></extra>",
         "legendgroup": "times_interest_earned",
         "marker": {
          "color": "#00cc96",
          "pattern": {
           "shape": ""
          }
         },
         "name": "times_interest_earned",
         "offsetgroup": "times_interest_earned",
         "orientation": "v",
         "showlegend": true,
         "type": "histogram",
         "x": [
          0.68,
          0.96,
          0.7,
          0.79,
          0.98,
          0.78,
          0.76,
          0.98,
          0.78,
          0.78,
          0.98,
          0.82,
          0.74,
          1,
          0.59,
          0.78,
          1,
          0.71,
          0.78,
          1,
          0.71,
          0.69,
          0.98,
          0.86,
          0.77,
          1,
          0.55,
          0.77,
          0.98,
          0.6,
          0.66,
          0.98,
          0.82,
          0.81,
          0.92,
          0.71,
          0.56,
          0.85,
          0.56,
          0.78,
          0.92,
          0.67,
          0.78,
          0.96,
          0.53,
          0.77,
          0.92,
          0.95,
          0.63,
          0.89,
          0.97,
          0.61,
          0.96,
          0.97
         ],
         "xaxis": "x",
         "yaxis": "y"
        },
        {
         "alignmentgroup": "True",
         "boxpoints": "all",
         "customdata": [
          [
           "2017_2",
           "accelerated_filer",
           "times_interest_earned"
          ],
          [
           "2017_2",
           "large_accelerated_filer",
           "times_interest_earned"
          ],
          [
           "2017_2",
           "non_accelerated_filer",
           "times_interest_earned"
          ],
          [
           "2017_3",
           "accelerated_filer",
           "times_interest_earned"
          ],
          [
           "2017_3",
           "large_accelerated_filer",
           "times_interest_earned"
          ],
          [
           "2017_3",
           "non_accelerated_filer",
           "times_interest_earned"
          ],
          [
           "2017_4",
           "accelerated_filer",
           "times_interest_earned"
          ],
          [
           "2017_4",
           "large_accelerated_filer",
           "times_interest_earned"
          ],
          [
           "2017_4",
           "non_accelerated_filer",
           "times_interest_earned"
          ],
          [
           "2018_1",
           "accelerated_filer",
           "times_interest_earned"
          ],
          [
           "2018_1",
           "large_accelerated_filer",
           "times_interest_earned"
          ],
          [
           "2018_1",
           "non_accelerated_filer",
           "times_interest_earned"
          ],
          [
           "2018_2",
           "accelerated_filer",
           "times_interest_earned"
          ],
          [
           "2018_2",
           "large_accelerated_filer",
           "times_interest_earned"
          ],
          [
           "2018_2",
           "non_accelerated_filer",
           "times_interest_earned"
          ],
          [
           "2018_3",
           "accelerated_filer",
           "times_interest_earned"
          ],
          [
           "2018_3",
           "large_accelerated_filer",
           "times_interest_earned"
          ],
          [
           "2018_3",
           "non_accelerated_filer",
           "times_interest_earned"
          ],
          [
           "2018_4",
           "accelerated_filer",
           "times_interest_earned"
          ],
          [
           "2018_4",
           "large_accelerated_filer",
           "times_interest_earned"
          ],
          [
           "2018_4",
           "non_accelerated_filer",
           "times_interest_earned"
          ],
          [
           "2019_1",
           "accelerated_filer",
           "times_interest_earned"
          ],
          [
           "2019_1",
           "large_accelerated_filer",
           "times_interest_earned"
          ],
          [
           "2019_1",
           "non_accelerated_filer",
           "times_interest_earned"
          ],
          [
           "2019_2",
           "accelerated_filer",
           "times_interest_earned"
          ],
          [
           "2019_2",
           "large_accelerated_filer",
           "times_interest_earned"
          ],
          [
           "2019_2",
           "non_accelerated_filer",
           "times_interest_earned"
          ],
          [
           "2019_3",
           "accelerated_filer",
           "times_interest_earned"
          ],
          [
           "2019_3",
           "large_accelerated_filer",
           "times_interest_earned"
          ],
          [
           "2019_3",
           "non_accelerated_filer",
           "times_interest_earned"
          ],
          [
           "2019_4",
           "accelerated_filer",
           "times_interest_earned"
          ],
          [
           "2019_4",
           "large_accelerated_filer",
           "times_interest_earned"
          ],
          [
           "2019_4",
           "non_accelerated_filer",
           "times_interest_earned"
          ],
          [
           "2020_1",
           "accelerated_filer",
           "times_interest_earned"
          ],
          [
           "2020_1",
           "large_accelerated_filer",
           "times_interest_earned"
          ],
          [
           "2020_1",
           "non_accelerated_filer",
           "times_interest_earned"
          ],
          [
           "2020_2",
           "accelerated_filer",
           "times_interest_earned"
          ],
          [
           "2020_2",
           "large_accelerated_filer",
           "times_interest_earned"
          ],
          [
           "2020_2",
           "non_accelerated_filer",
           "times_interest_earned"
          ],
          [
           "2020_3",
           "accelerated_filer",
           "times_interest_earned"
          ],
          [
           "2020_3",
           "large_accelerated_filer",
           "times_interest_earned"
          ],
          [
           "2020_3",
           "non_accelerated_filer",
           "times_interest_earned"
          ],
          [
           "2020_4",
           "accelerated_filer",
           "times_interest_earned"
          ],
          [
           "2020_4",
           "large_accelerated_filer",
           "times_interest_earned"
          ],
          [
           "2020_4",
           "non_accelerated_filer",
           "times_interest_earned"
          ],
          [
           "2021_1",
           "non_accelerated_filer",
           "times_interest_earned"
          ],
          [
           "2021_1",
           "accelerated_filer",
           "times_interest_earned"
          ],
          [
           "2021_1",
           "large_accelerated_filer",
           "times_interest_earned"
          ],
          [
           "2021_2",
           "non_accelerated_filer",
           "times_interest_earned"
          ],
          [
           "2021_2",
           "accelerated_filer",
           "times_interest_earned"
          ],
          [
           "2021_2",
           "large_accelerated_filer",
           "times_interest_earned"
          ],
          [
           "2021_3",
           "non_accelerated_filer",
           "times_interest_earned"
          ],
          [
           "2021_3",
           "accelerated_filer",
           "times_interest_earned"
          ],
          [
           "2021_3",
           "large_accelerated_filer",
           "times_interest_earned"
          ]
         ],
         "fillcolor": "rgba(255,255,255,0)",
         "hoveron": "points",
         "hovertemplate": "kpi=%{customdata[2]}<br>used_to_all=%{x}<br>year_q=%{customdata[0]}<br>filer_type=%{customdata[1]}<extra></extra>",
         "jitter": 0,
         "legendgroup": "times_interest_earned",
         "line": {
          "color": "rgba(255,255,255,0)"
         },
         "marker": {
          "color": "#00cc96",
          "symbol": "line-ns-open"
         },
         "name": "times_interest_earned",
         "offsetgroup": "times_interest_earned",
         "showlegend": false,
         "type": "box",
         "x": [
          0.68,
          0.96,
          0.7,
          0.79,
          0.98,
          0.78,
          0.76,
          0.98,
          0.78,
          0.78,
          0.98,
          0.82,
          0.74,
          1,
          0.59,
          0.78,
          1,
          0.71,
          0.78,
          1,
          0.71,
          0.69,
          0.98,
          0.86,
          0.77,
          1,
          0.55,
          0.77,
          0.98,
          0.6,
          0.66,
          0.98,
          0.82,
          0.81,
          0.92,
          0.71,
          0.56,
          0.85,
          0.56,
          0.78,
          0.92,
          0.67,
          0.78,
          0.96,
          0.53,
          0.77,
          0.92,
          0.95,
          0.63,
          0.89,
          0.97,
          0.61,
          0.96,
          0.97
         ],
         "xaxis": "x2",
         "yaxis": "y2"
        },
        {
         "alignmentgroup": "True",
         "bingroup": "x",
         "hovertemplate": "kpi=capex_to_operating_cash<br>used_to_all=%{x}<br>count=%{y}<extra></extra>",
         "legendgroup": "capex_to_operating_cash",
         "marker": {
          "color": "#ab63fa",
          "pattern": {
           "shape": ""
          }
         },
         "name": "capex_to_operating_cash",
         "offsetgroup": "capex_to_operating_cash",
         "orientation": "v",
         "showlegend": true,
         "type": "histogram",
         "x": [
          0.68,
          0.98,
          0.75,
          0.79,
          1,
          0.83,
          0.74,
          1,
          0.83,
          0.75,
          0.98,
          0.91,
          0.76,
          1,
          0.65,
          0.81,
          1,
          0.79,
          0.78,
          1,
          0.79,
          0.71,
          0.98,
          0.86,
          0.77,
          1,
          0.55,
          0.8,
          1,
          0.6,
          0.69,
          0.98,
          0.82,
          0.84,
          0.92,
          0.71,
          0.56,
          0.87,
          0.62,
          0.81,
          0.94,
          0.67,
          0.78,
          0.98,
          0.53,
          0.77,
          0.92,
          0.97,
          0.66,
          0.89,
          0.97,
          0.67,
          0.96,
          1
         ],
         "xaxis": "x",
         "yaxis": "y"
        },
        {
         "alignmentgroup": "True",
         "boxpoints": "all",
         "customdata": [
          [
           "2017_2",
           "accelerated_filer",
           "capex_to_operating_cash"
          ],
          [
           "2017_2",
           "large_accelerated_filer",
           "capex_to_operating_cash"
          ],
          [
           "2017_2",
           "non_accelerated_filer",
           "capex_to_operating_cash"
          ],
          [
           "2017_3",
           "accelerated_filer",
           "capex_to_operating_cash"
          ],
          [
           "2017_3",
           "large_accelerated_filer",
           "capex_to_operating_cash"
          ],
          [
           "2017_3",
           "non_accelerated_filer",
           "capex_to_operating_cash"
          ],
          [
           "2017_4",
           "accelerated_filer",
           "capex_to_operating_cash"
          ],
          [
           "2017_4",
           "large_accelerated_filer",
           "capex_to_operating_cash"
          ],
          [
           "2017_4",
           "non_accelerated_filer",
           "capex_to_operating_cash"
          ],
          [
           "2018_1",
           "accelerated_filer",
           "capex_to_operating_cash"
          ],
          [
           "2018_1",
           "large_accelerated_filer",
           "capex_to_operating_cash"
          ],
          [
           "2018_1",
           "non_accelerated_filer",
           "capex_to_operating_cash"
          ],
          [
           "2018_2",
           "accelerated_filer",
           "capex_to_operating_cash"
          ],
          [
           "2018_2",
           "large_accelerated_filer",
           "capex_to_operating_cash"
          ],
          [
           "2018_2",
           "non_accelerated_filer",
           "capex_to_operating_cash"
          ],
          [
           "2018_3",
           "accelerated_filer",
           "capex_to_operating_cash"
          ],
          [
           "2018_3",
           "large_accelerated_filer",
           "capex_to_operating_cash"
          ],
          [
           "2018_3",
           "non_accelerated_filer",
           "capex_to_operating_cash"
          ],
          [
           "2018_4",
           "accelerated_filer",
           "capex_to_operating_cash"
          ],
          [
           "2018_4",
           "large_accelerated_filer",
           "capex_to_operating_cash"
          ],
          [
           "2018_4",
           "non_accelerated_filer",
           "capex_to_operating_cash"
          ],
          [
           "2019_1",
           "accelerated_filer",
           "capex_to_operating_cash"
          ],
          [
           "2019_1",
           "large_accelerated_filer",
           "capex_to_operating_cash"
          ],
          [
           "2019_1",
           "non_accelerated_filer",
           "capex_to_operating_cash"
          ],
          [
           "2019_2",
           "accelerated_filer",
           "capex_to_operating_cash"
          ],
          [
           "2019_2",
           "large_accelerated_filer",
           "capex_to_operating_cash"
          ],
          [
           "2019_2",
           "non_accelerated_filer",
           "capex_to_operating_cash"
          ],
          [
           "2019_3",
           "accelerated_filer",
           "capex_to_operating_cash"
          ],
          [
           "2019_3",
           "large_accelerated_filer",
           "capex_to_operating_cash"
          ],
          [
           "2019_3",
           "non_accelerated_filer",
           "capex_to_operating_cash"
          ],
          [
           "2019_4",
           "accelerated_filer",
           "capex_to_operating_cash"
          ],
          [
           "2019_4",
           "large_accelerated_filer",
           "capex_to_operating_cash"
          ],
          [
           "2019_4",
           "non_accelerated_filer",
           "capex_to_operating_cash"
          ],
          [
           "2020_1",
           "accelerated_filer",
           "capex_to_operating_cash"
          ],
          [
           "2020_1",
           "large_accelerated_filer",
           "capex_to_operating_cash"
          ],
          [
           "2020_1",
           "non_accelerated_filer",
           "capex_to_operating_cash"
          ],
          [
           "2020_2",
           "accelerated_filer",
           "capex_to_operating_cash"
          ],
          [
           "2020_2",
           "large_accelerated_filer",
           "capex_to_operating_cash"
          ],
          [
           "2020_2",
           "non_accelerated_filer",
           "capex_to_operating_cash"
          ],
          [
           "2020_3",
           "accelerated_filer",
           "capex_to_operating_cash"
          ],
          [
           "2020_3",
           "large_accelerated_filer",
           "capex_to_operating_cash"
          ],
          [
           "2020_3",
           "non_accelerated_filer",
           "capex_to_operating_cash"
          ],
          [
           "2020_4",
           "accelerated_filer",
           "capex_to_operating_cash"
          ],
          [
           "2020_4",
           "large_accelerated_filer",
           "capex_to_operating_cash"
          ],
          [
           "2020_4",
           "non_accelerated_filer",
           "capex_to_operating_cash"
          ],
          [
           "2021_1",
           "non_accelerated_filer",
           "capex_to_operating_cash"
          ],
          [
           "2021_1",
           "accelerated_filer",
           "capex_to_operating_cash"
          ],
          [
           "2021_1",
           "large_accelerated_filer",
           "capex_to_operating_cash"
          ],
          [
           "2021_2",
           "non_accelerated_filer",
           "capex_to_operating_cash"
          ],
          [
           "2021_2",
           "accelerated_filer",
           "capex_to_operating_cash"
          ],
          [
           "2021_2",
           "large_accelerated_filer",
           "capex_to_operating_cash"
          ],
          [
           "2021_3",
           "non_accelerated_filer",
           "capex_to_operating_cash"
          ],
          [
           "2021_3",
           "accelerated_filer",
           "capex_to_operating_cash"
          ],
          [
           "2021_3",
           "large_accelerated_filer",
           "capex_to_operating_cash"
          ]
         ],
         "fillcolor": "rgba(255,255,255,0)",
         "hoveron": "points",
         "hovertemplate": "kpi=%{customdata[2]}<br>used_to_all=%{x}<br>year_q=%{customdata[0]}<br>filer_type=%{customdata[1]}<extra></extra>",
         "jitter": 0,
         "legendgroup": "capex_to_operating_cash",
         "line": {
          "color": "rgba(255,255,255,0)"
         },
         "marker": {
          "color": "#ab63fa",
          "symbol": "line-ns-open"
         },
         "name": "capex_to_operating_cash",
         "offsetgroup": "capex_to_operating_cash",
         "showlegend": false,
         "type": "box",
         "x": [
          0.68,
          0.98,
          0.75,
          0.79,
          1,
          0.83,
          0.74,
          1,
          0.83,
          0.75,
          0.98,
          0.91,
          0.76,
          1,
          0.65,
          0.81,
          1,
          0.79,
          0.78,
          1,
          0.79,
          0.71,
          0.98,
          0.86,
          0.77,
          1,
          0.55,
          0.8,
          1,
          0.6,
          0.69,
          0.98,
          0.82,
          0.84,
          0.92,
          0.71,
          0.56,
          0.87,
          0.62,
          0.81,
          0.94,
          0.67,
          0.78,
          0.98,
          0.53,
          0.77,
          0.92,
          0.97,
          0.66,
          0.89,
          0.97,
          0.67,
          0.96,
          1
         ],
         "xaxis": "x2",
         "yaxis": "y2"
        },
        {
         "alignmentgroup": "True",
         "bingroup": "x",
         "hovertemplate": "kpi=operating_cash_flow<br>used_to_all=%{x}<br>count=%{y}<extra></extra>",
         "legendgroup": "operating_cash_flow",
         "marker": {
          "color": "#FFA15A",
          "pattern": {
           "shape": ""
          }
         },
         "name": "operating_cash_flow",
         "offsetgroup": "operating_cash_flow",
         "orientation": "v",
         "showlegend": true,
         "type": "histogram",
         "x": [
          0.82,
          0.98,
          0.75,
          0.88,
          1,
          0.89,
          0.91,
          1,
          0.89,
          0.94,
          0.98,
          0.91,
          0.89,
          1,
          0.71,
          0.92,
          0.98,
          0.86,
          0.95,
          1,
          0.86,
          0.83,
          0.98,
          0.86,
          0.91,
          1,
          0.64,
          0.91,
          1,
          0.7,
          0.74,
          0.98,
          0.91,
          0.97,
          0.92,
          0.79,
          0.56,
          0.88,
          0.69,
          0.81,
          0.96,
          0.73,
          0.91,
          1,
          0.53,
          0.87,
          0.96,
          0.97,
          0.71,
          0.93,
          0.97,
          0.73,
          1,
          1
         ],
         "xaxis": "x",
         "yaxis": "y"
        },
        {
         "alignmentgroup": "True",
         "boxpoints": "all",
         "customdata": [
          [
           "2017_2",
           "accelerated_filer",
           "operating_cash_flow"
          ],
          [
           "2017_2",
           "large_accelerated_filer",
           "operating_cash_flow"
          ],
          [
           "2017_2",
           "non_accelerated_filer",
           "operating_cash_flow"
          ],
          [
           "2017_3",
           "accelerated_filer",
           "operating_cash_flow"
          ],
          [
           "2017_3",
           "large_accelerated_filer",
           "operating_cash_flow"
          ],
          [
           "2017_3",
           "non_accelerated_filer",
           "operating_cash_flow"
          ],
          [
           "2017_4",
           "accelerated_filer",
           "operating_cash_flow"
          ],
          [
           "2017_4",
           "large_accelerated_filer",
           "operating_cash_flow"
          ],
          [
           "2017_4",
           "non_accelerated_filer",
           "operating_cash_flow"
          ],
          [
           "2018_1",
           "accelerated_filer",
           "operating_cash_flow"
          ],
          [
           "2018_1",
           "large_accelerated_filer",
           "operating_cash_flow"
          ],
          [
           "2018_1",
           "non_accelerated_filer",
           "operating_cash_flow"
          ],
          [
           "2018_2",
           "accelerated_filer",
           "operating_cash_flow"
          ],
          [
           "2018_2",
           "large_accelerated_filer",
           "operating_cash_flow"
          ],
          [
           "2018_2",
           "non_accelerated_filer",
           "operating_cash_flow"
          ],
          [
           "2018_3",
           "accelerated_filer",
           "operating_cash_flow"
          ],
          [
           "2018_3",
           "large_accelerated_filer",
           "operating_cash_flow"
          ],
          [
           "2018_3",
           "non_accelerated_filer",
           "operating_cash_flow"
          ],
          [
           "2018_4",
           "accelerated_filer",
           "operating_cash_flow"
          ],
          [
           "2018_4",
           "large_accelerated_filer",
           "operating_cash_flow"
          ],
          [
           "2018_4",
           "non_accelerated_filer",
           "operating_cash_flow"
          ],
          [
           "2019_1",
           "accelerated_filer",
           "operating_cash_flow"
          ],
          [
           "2019_1",
           "large_accelerated_filer",
           "operating_cash_flow"
          ],
          [
           "2019_1",
           "non_accelerated_filer",
           "operating_cash_flow"
          ],
          [
           "2019_2",
           "accelerated_filer",
           "operating_cash_flow"
          ],
          [
           "2019_2",
           "large_accelerated_filer",
           "operating_cash_flow"
          ],
          [
           "2019_2",
           "non_accelerated_filer",
           "operating_cash_flow"
          ],
          [
           "2019_3",
           "accelerated_filer",
           "operating_cash_flow"
          ],
          [
           "2019_3",
           "large_accelerated_filer",
           "operating_cash_flow"
          ],
          [
           "2019_3",
           "non_accelerated_filer",
           "operating_cash_flow"
          ],
          [
           "2019_4",
           "accelerated_filer",
           "operating_cash_flow"
          ],
          [
           "2019_4",
           "large_accelerated_filer",
           "operating_cash_flow"
          ],
          [
           "2019_4",
           "non_accelerated_filer",
           "operating_cash_flow"
          ],
          [
           "2020_1",
           "accelerated_filer",
           "operating_cash_flow"
          ],
          [
           "2020_1",
           "large_accelerated_filer",
           "operating_cash_flow"
          ],
          [
           "2020_1",
           "non_accelerated_filer",
           "operating_cash_flow"
          ],
          [
           "2020_2",
           "accelerated_filer",
           "operating_cash_flow"
          ],
          [
           "2020_2",
           "large_accelerated_filer",
           "operating_cash_flow"
          ],
          [
           "2020_2",
           "non_accelerated_filer",
           "operating_cash_flow"
          ],
          [
           "2020_3",
           "accelerated_filer",
           "operating_cash_flow"
          ],
          [
           "2020_3",
           "large_accelerated_filer",
           "operating_cash_flow"
          ],
          [
           "2020_3",
           "non_accelerated_filer",
           "operating_cash_flow"
          ],
          [
           "2020_4",
           "accelerated_filer",
           "operating_cash_flow"
          ],
          [
           "2020_4",
           "large_accelerated_filer",
           "operating_cash_flow"
          ],
          [
           "2020_4",
           "non_accelerated_filer",
           "operating_cash_flow"
          ],
          [
           "2021_1",
           "non_accelerated_filer",
           "operating_cash_flow"
          ],
          [
           "2021_1",
           "accelerated_filer",
           "operating_cash_flow"
          ],
          [
           "2021_1",
           "large_accelerated_filer",
           "operating_cash_flow"
          ],
          [
           "2021_2",
           "non_accelerated_filer",
           "operating_cash_flow"
          ],
          [
           "2021_2",
           "accelerated_filer",
           "operating_cash_flow"
          ],
          [
           "2021_2",
           "large_accelerated_filer",
           "operating_cash_flow"
          ],
          [
           "2021_3",
           "non_accelerated_filer",
           "operating_cash_flow"
          ],
          [
           "2021_3",
           "accelerated_filer",
           "operating_cash_flow"
          ],
          [
           "2021_3",
           "large_accelerated_filer",
           "operating_cash_flow"
          ]
         ],
         "fillcolor": "rgba(255,255,255,0)",
         "hoveron": "points",
         "hovertemplate": "kpi=%{customdata[2]}<br>used_to_all=%{x}<br>year_q=%{customdata[0]}<br>filer_type=%{customdata[1]}<extra></extra>",
         "jitter": 0,
         "legendgroup": "operating_cash_flow",
         "line": {
          "color": "rgba(255,255,255,0)"
         },
         "marker": {
          "color": "#FFA15A",
          "symbol": "line-ns-open"
         },
         "name": "operating_cash_flow",
         "offsetgroup": "operating_cash_flow",
         "showlegend": false,
         "type": "box",
         "x": [
          0.82,
          0.98,
          0.75,
          0.88,
          1,
          0.89,
          0.91,
          1,
          0.89,
          0.94,
          0.98,
          0.91,
          0.89,
          1,
          0.71,
          0.92,
          0.98,
          0.86,
          0.95,
          1,
          0.86,
          0.83,
          0.98,
          0.86,
          0.91,
          1,
          0.64,
          0.91,
          1,
          0.7,
          0.74,
          0.98,
          0.91,
          0.97,
          0.92,
          0.79,
          0.56,
          0.88,
          0.69,
          0.81,
          0.96,
          0.73,
          0.91,
          1,
          0.53,
          0.87,
          0.96,
          0.97,
          0.71,
          0.93,
          0.97,
          0.73,
          1,
          1
         ],
         "xaxis": "x2",
         "yaxis": "y2"
        },
        {
         "alignmentgroup": "True",
         "bingroup": "x",
         "hovertemplate": "kpi=price_to_earnings<br>used_to_all=%{x}<br>count=%{y}<extra></extra>",
         "legendgroup": "price_to_earnings",
         "marker": {
          "color": "#19d3f3",
          "pattern": {
           "shape": ""
          }
         },
         "name": "price_to_earnings",
         "offsetgroup": "price_to_earnings",
         "orientation": "v",
         "showlegend": true,
         "type": "histogram",
         "x": [
          0.88,
          0.98,
          0.8,
          0.97,
          1,
          0.94,
          0.97,
          1,
          0.94,
          1,
          0.98,
          1,
          0.95,
          1,
          0.76,
          0.97,
          0.98,
          0.93,
          1,
          1,
          0.93,
          0.86,
          0.98,
          1,
          0.97,
          1,
          0.73,
          1,
          1,
          0.8,
          0.77,
          0.98,
          1,
          0.97,
          0.92,
          1,
          0.56,
          0.88,
          0.81,
          0.81,
          0.96,
          0.93,
          0.91,
          1,
          0.6,
          0.97,
          0.96,
          0.97,
          0.77,
          0.93,
          0.97,
          0.79,
          0.96,
          1
         ],
         "xaxis": "x",
         "yaxis": "y"
        },
        {
         "alignmentgroup": "True",
         "boxpoints": "all",
         "customdata": [
          [
           "2017_2",
           "accelerated_filer",
           "price_to_earnings"
          ],
          [
           "2017_2",
           "large_accelerated_filer",
           "price_to_earnings"
          ],
          [
           "2017_2",
           "non_accelerated_filer",
           "price_to_earnings"
          ],
          [
           "2017_3",
           "accelerated_filer",
           "price_to_earnings"
          ],
          [
           "2017_3",
           "large_accelerated_filer",
           "price_to_earnings"
          ],
          [
           "2017_3",
           "non_accelerated_filer",
           "price_to_earnings"
          ],
          [
           "2017_4",
           "accelerated_filer",
           "price_to_earnings"
          ],
          [
           "2017_4",
           "large_accelerated_filer",
           "price_to_earnings"
          ],
          [
           "2017_4",
           "non_accelerated_filer",
           "price_to_earnings"
          ],
          [
           "2018_1",
           "accelerated_filer",
           "price_to_earnings"
          ],
          [
           "2018_1",
           "large_accelerated_filer",
           "price_to_earnings"
          ],
          [
           "2018_1",
           "non_accelerated_filer",
           "price_to_earnings"
          ],
          [
           "2018_2",
           "accelerated_filer",
           "price_to_earnings"
          ],
          [
           "2018_2",
           "large_accelerated_filer",
           "price_to_earnings"
          ],
          [
           "2018_2",
           "non_accelerated_filer",
           "price_to_earnings"
          ],
          [
           "2018_3",
           "accelerated_filer",
           "price_to_earnings"
          ],
          [
           "2018_3",
           "large_accelerated_filer",
           "price_to_earnings"
          ],
          [
           "2018_3",
           "non_accelerated_filer",
           "price_to_earnings"
          ],
          [
           "2018_4",
           "accelerated_filer",
           "price_to_earnings"
          ],
          [
           "2018_4",
           "large_accelerated_filer",
           "price_to_earnings"
          ],
          [
           "2018_4",
           "non_accelerated_filer",
           "price_to_earnings"
          ],
          [
           "2019_1",
           "accelerated_filer",
           "price_to_earnings"
          ],
          [
           "2019_1",
           "large_accelerated_filer",
           "price_to_earnings"
          ],
          [
           "2019_1",
           "non_accelerated_filer",
           "price_to_earnings"
          ],
          [
           "2019_2",
           "accelerated_filer",
           "price_to_earnings"
          ],
          [
           "2019_2",
           "large_accelerated_filer",
           "price_to_earnings"
          ],
          [
           "2019_2",
           "non_accelerated_filer",
           "price_to_earnings"
          ],
          [
           "2019_3",
           "accelerated_filer",
           "price_to_earnings"
          ],
          [
           "2019_3",
           "large_accelerated_filer",
           "price_to_earnings"
          ],
          [
           "2019_3",
           "non_accelerated_filer",
           "price_to_earnings"
          ],
          [
           "2019_4",
           "accelerated_filer",
           "price_to_earnings"
          ],
          [
           "2019_4",
           "large_accelerated_filer",
           "price_to_earnings"
          ],
          [
           "2019_4",
           "non_accelerated_filer",
           "price_to_earnings"
          ],
          [
           "2020_1",
           "accelerated_filer",
           "price_to_earnings"
          ],
          [
           "2020_1",
           "large_accelerated_filer",
           "price_to_earnings"
          ],
          [
           "2020_1",
           "non_accelerated_filer",
           "price_to_earnings"
          ],
          [
           "2020_2",
           "accelerated_filer",
           "price_to_earnings"
          ],
          [
           "2020_2",
           "large_accelerated_filer",
           "price_to_earnings"
          ],
          [
           "2020_2",
           "non_accelerated_filer",
           "price_to_earnings"
          ],
          [
           "2020_3",
           "accelerated_filer",
           "price_to_earnings"
          ],
          [
           "2020_3",
           "large_accelerated_filer",
           "price_to_earnings"
          ],
          [
           "2020_3",
           "non_accelerated_filer",
           "price_to_earnings"
          ],
          [
           "2020_4",
           "accelerated_filer",
           "price_to_earnings"
          ],
          [
           "2020_4",
           "large_accelerated_filer",
           "price_to_earnings"
          ],
          [
           "2020_4",
           "non_accelerated_filer",
           "price_to_earnings"
          ],
          [
           "2021_1",
           "non_accelerated_filer",
           "price_to_earnings"
          ],
          [
           "2021_1",
           "accelerated_filer",
           "price_to_earnings"
          ],
          [
           "2021_1",
           "large_accelerated_filer",
           "price_to_earnings"
          ],
          [
           "2021_2",
           "non_accelerated_filer",
           "price_to_earnings"
          ],
          [
           "2021_2",
           "accelerated_filer",
           "price_to_earnings"
          ],
          [
           "2021_2",
           "large_accelerated_filer",
           "price_to_earnings"
          ],
          [
           "2021_3",
           "non_accelerated_filer",
           "price_to_earnings"
          ],
          [
           "2021_3",
           "accelerated_filer",
           "price_to_earnings"
          ],
          [
           "2021_3",
           "large_accelerated_filer",
           "price_to_earnings"
          ]
         ],
         "fillcolor": "rgba(255,255,255,0)",
         "hoveron": "points",
         "hovertemplate": "kpi=%{customdata[2]}<br>used_to_all=%{x}<br>year_q=%{customdata[0]}<br>filer_type=%{customdata[1]}<extra></extra>",
         "jitter": 0,
         "legendgroup": "price_to_earnings",
         "line": {
          "color": "rgba(255,255,255,0)"
         },
         "marker": {
          "color": "#19d3f3",
          "symbol": "line-ns-open"
         },
         "name": "price_to_earnings",
         "offsetgroup": "price_to_earnings",
         "showlegend": false,
         "type": "box",
         "x": [
          0.88,
          0.98,
          0.8,
          0.97,
          1,
          0.94,
          0.97,
          1,
          0.94,
          1,
          0.98,
          1,
          0.95,
          1,
          0.76,
          0.97,
          0.98,
          0.93,
          1,
          1,
          0.93,
          0.86,
          0.98,
          1,
          0.97,
          1,
          0.73,
          1,
          1,
          0.8,
          0.77,
          0.98,
          1,
          0.97,
          0.92,
          1,
          0.56,
          0.88,
          0.81,
          0.81,
          0.96,
          0.93,
          0.91,
          1,
          0.6,
          0.97,
          0.96,
          0.97,
          0.77,
          0.93,
          0.97,
          0.79,
          0.96,
          1
         ],
         "xaxis": "x2",
         "yaxis": "y2"
        },
        {
         "alignmentgroup": "True",
         "bingroup": "x",
         "hovertemplate": "kpi=ev_ebitda<br>used_to_all=%{x}<br>count=%{y}<extra></extra>",
         "legendgroup": "ev_ebitda",
         "marker": {
          "color": "#FF6692",
          "pattern": {
           "shape": ""
          }
         },
         "name": "ev_ebitda",
         "offsetgroup": "ev_ebitda",
         "orientation": "v",
         "showlegend": true,
         "type": "histogram",
         "x": [
          0.65,
          0.87,
          0.55,
          0.74,
          0.91,
          0.67,
          0.71,
          0.91,
          0.72,
          0.69,
          0.92,
          0.82,
          0.68,
          0.94,
          0.59,
          0.7,
          0.92,
          0.71,
          0.68,
          0.92,
          0.71,
          0.63,
          0.89,
          0.86,
          0.77,
          0.93,
          0.55,
          0.8,
          0.93,
          0.6,
          0.69,
          0.91,
          0.73,
          0.78,
          0.87,
          0.79,
          0.56,
          0.83,
          0.69,
          0.81,
          0.9,
          0.73,
          0.81,
          0.94,
          0.53,
          0.77,
          0.88,
          0.97,
          0.66,
          0.82,
          0.97,
          0.67,
          0.89,
          1
         ],
         "xaxis": "x",
         "yaxis": "y"
        },
        {
         "alignmentgroup": "True",
         "boxpoints": "all",
         "customdata": [
          [
           "2017_2",
           "accelerated_filer",
           "ev_ebitda"
          ],
          [
           "2017_2",
           "large_accelerated_filer",
           "ev_ebitda"
          ],
          [
           "2017_2",
           "non_accelerated_filer",
           "ev_ebitda"
          ],
          [
           "2017_3",
           "accelerated_filer",
           "ev_ebitda"
          ],
          [
           "2017_3",
           "large_accelerated_filer",
           "ev_ebitda"
          ],
          [
           "2017_3",
           "non_accelerated_filer",
           "ev_ebitda"
          ],
          [
           "2017_4",
           "accelerated_filer",
           "ev_ebitda"
          ],
          [
           "2017_4",
           "large_accelerated_filer",
           "ev_ebitda"
          ],
          [
           "2017_4",
           "non_accelerated_filer",
           "ev_ebitda"
          ],
          [
           "2018_1",
           "accelerated_filer",
           "ev_ebitda"
          ],
          [
           "2018_1",
           "large_accelerated_filer",
           "ev_ebitda"
          ],
          [
           "2018_1",
           "non_accelerated_filer",
           "ev_ebitda"
          ],
          [
           "2018_2",
           "accelerated_filer",
           "ev_ebitda"
          ],
          [
           "2018_2",
           "large_accelerated_filer",
           "ev_ebitda"
          ],
          [
           "2018_2",
           "non_accelerated_filer",
           "ev_ebitda"
          ],
          [
           "2018_3",
           "accelerated_filer",
           "ev_ebitda"
          ],
          [
           "2018_3",
           "large_accelerated_filer",
           "ev_ebitda"
          ],
          [
           "2018_3",
           "non_accelerated_filer",
           "ev_ebitda"
          ],
          [
           "2018_4",
           "accelerated_filer",
           "ev_ebitda"
          ],
          [
           "2018_4",
           "large_accelerated_filer",
           "ev_ebitda"
          ],
          [
           "2018_4",
           "non_accelerated_filer",
           "ev_ebitda"
          ],
          [
           "2019_1",
           "accelerated_filer",
           "ev_ebitda"
          ],
          [
           "2019_1",
           "large_accelerated_filer",
           "ev_ebitda"
          ],
          [
           "2019_1",
           "non_accelerated_filer",
           "ev_ebitda"
          ],
          [
           "2019_2",
           "accelerated_filer",
           "ev_ebitda"
          ],
          [
           "2019_2",
           "large_accelerated_filer",
           "ev_ebitda"
          ],
          [
           "2019_2",
           "non_accelerated_filer",
           "ev_ebitda"
          ],
          [
           "2019_3",
           "accelerated_filer",
           "ev_ebitda"
          ],
          [
           "2019_3",
           "large_accelerated_filer",
           "ev_ebitda"
          ],
          [
           "2019_3",
           "non_accelerated_filer",
           "ev_ebitda"
          ],
          [
           "2019_4",
           "accelerated_filer",
           "ev_ebitda"
          ],
          [
           "2019_4",
           "large_accelerated_filer",
           "ev_ebitda"
          ],
          [
           "2019_4",
           "non_accelerated_filer",
           "ev_ebitda"
          ],
          [
           "2020_1",
           "accelerated_filer",
           "ev_ebitda"
          ],
          [
           "2020_1",
           "large_accelerated_filer",
           "ev_ebitda"
          ],
          [
           "2020_1",
           "non_accelerated_filer",
           "ev_ebitda"
          ],
          [
           "2020_2",
           "accelerated_filer",
           "ev_ebitda"
          ],
          [
           "2020_2",
           "large_accelerated_filer",
           "ev_ebitda"
          ],
          [
           "2020_2",
           "non_accelerated_filer",
           "ev_ebitda"
          ],
          [
           "2020_3",
           "accelerated_filer",
           "ev_ebitda"
          ],
          [
           "2020_3",
           "large_accelerated_filer",
           "ev_ebitda"
          ],
          [
           "2020_3",
           "non_accelerated_filer",
           "ev_ebitda"
          ],
          [
           "2020_4",
           "accelerated_filer",
           "ev_ebitda"
          ],
          [
           "2020_4",
           "large_accelerated_filer",
           "ev_ebitda"
          ],
          [
           "2020_4",
           "non_accelerated_filer",
           "ev_ebitda"
          ],
          [
           "2021_1",
           "non_accelerated_filer",
           "ev_ebitda"
          ],
          [
           "2021_1",
           "accelerated_filer",
           "ev_ebitda"
          ],
          [
           "2021_1",
           "large_accelerated_filer",
           "ev_ebitda"
          ],
          [
           "2021_2",
           "non_accelerated_filer",
           "ev_ebitda"
          ],
          [
           "2021_2",
           "accelerated_filer",
           "ev_ebitda"
          ],
          [
           "2021_2",
           "large_accelerated_filer",
           "ev_ebitda"
          ],
          [
           "2021_3",
           "non_accelerated_filer",
           "ev_ebitda"
          ],
          [
           "2021_3",
           "accelerated_filer",
           "ev_ebitda"
          ],
          [
           "2021_3",
           "large_accelerated_filer",
           "ev_ebitda"
          ]
         ],
         "fillcolor": "rgba(255,255,255,0)",
         "hoveron": "points",
         "hovertemplate": "kpi=%{customdata[2]}<br>used_to_all=%{x}<br>year_q=%{customdata[0]}<br>filer_type=%{customdata[1]}<extra></extra>",
         "jitter": 0,
         "legendgroup": "ev_ebitda",
         "line": {
          "color": "rgba(255,255,255,0)"
         },
         "marker": {
          "color": "#FF6692",
          "symbol": "line-ns-open"
         },
         "name": "ev_ebitda",
         "offsetgroup": "ev_ebitda",
         "showlegend": false,
         "type": "box",
         "x": [
          0.65,
          0.87,
          0.55,
          0.74,
          0.91,
          0.67,
          0.71,
          0.91,
          0.72,
          0.69,
          0.92,
          0.82,
          0.68,
          0.94,
          0.59,
          0.7,
          0.92,
          0.71,
          0.68,
          0.92,
          0.71,
          0.63,
          0.89,
          0.86,
          0.77,
          0.93,
          0.55,
          0.8,
          0.93,
          0.6,
          0.69,
          0.91,
          0.73,
          0.78,
          0.87,
          0.79,
          0.56,
          0.83,
          0.69,
          0.81,
          0.9,
          0.73,
          0.81,
          0.94,
          0.53,
          0.77,
          0.88,
          0.97,
          0.66,
          0.82,
          0.97,
          0.67,
          0.89,
          1
         ],
         "xaxis": "x2",
         "yaxis": "y2"
        },
        {
         "alignmentgroup": "True",
         "bingroup": "x",
         "hovertemplate": "kpi=ev_ebit<br>used_to_all=%{x}<br>count=%{y}<extra></extra>",
         "legendgroup": "ev_ebit",
         "marker": {
          "color": "#B6E880",
          "pattern": {
           "shape": ""
          }
         },
         "name": "ev_ebit",
         "offsetgroup": "ev_ebit",
         "orientation": "v",
         "showlegend": true,
         "type": "histogram",
         "x": [
          0.65,
          0.89,
          0.6,
          0.74,
          0.94,
          0.72,
          0.71,
          0.94,
          0.78,
          0.75,
          0.94,
          0.82,
          0.74,
          0.96,
          0.59,
          0.76,
          0.94,
          0.71,
          0.73,
          0.94,
          0.71,
          0.66,
          0.93,
          0.86,
          0.77,
          0.98,
          0.55,
          0.8,
          0.96,
          0.6,
          0.69,
          0.94,
          0.73,
          0.81,
          0.88,
          0.79,
          0.56,
          0.85,
          0.69,
          0.81,
          0.92,
          0.73,
          0.81,
          0.94,
          0.53,
          0.77,
          0.88,
          0.97,
          0.66,
          0.82,
          0.97,
          0.67,
          0.89,
          1
         ],
         "xaxis": "x",
         "yaxis": "y"
        },
        {
         "alignmentgroup": "True",
         "boxpoints": "all",
         "customdata": [
          [
           "2017_2",
           "accelerated_filer",
           "ev_ebit"
          ],
          [
           "2017_2",
           "large_accelerated_filer",
           "ev_ebit"
          ],
          [
           "2017_2",
           "non_accelerated_filer",
           "ev_ebit"
          ],
          [
           "2017_3",
           "accelerated_filer",
           "ev_ebit"
          ],
          [
           "2017_3",
           "large_accelerated_filer",
           "ev_ebit"
          ],
          [
           "2017_3",
           "non_accelerated_filer",
           "ev_ebit"
          ],
          [
           "2017_4",
           "accelerated_filer",
           "ev_ebit"
          ],
          [
           "2017_4",
           "large_accelerated_filer",
           "ev_ebit"
          ],
          [
           "2017_4",
           "non_accelerated_filer",
           "ev_ebit"
          ],
          [
           "2018_1",
           "accelerated_filer",
           "ev_ebit"
          ],
          [
           "2018_1",
           "large_accelerated_filer",
           "ev_ebit"
          ],
          [
           "2018_1",
           "non_accelerated_filer",
           "ev_ebit"
          ],
          [
           "2018_2",
           "accelerated_filer",
           "ev_ebit"
          ],
          [
           "2018_2",
           "large_accelerated_filer",
           "ev_ebit"
          ],
          [
           "2018_2",
           "non_accelerated_filer",
           "ev_ebit"
          ],
          [
           "2018_3",
           "accelerated_filer",
           "ev_ebit"
          ],
          [
           "2018_3",
           "large_accelerated_filer",
           "ev_ebit"
          ],
          [
           "2018_3",
           "non_accelerated_filer",
           "ev_ebit"
          ],
          [
           "2018_4",
           "accelerated_filer",
           "ev_ebit"
          ],
          [
           "2018_4",
           "large_accelerated_filer",
           "ev_ebit"
          ],
          [
           "2018_4",
           "non_accelerated_filer",
           "ev_ebit"
          ],
          [
           "2019_1",
           "accelerated_filer",
           "ev_ebit"
          ],
          [
           "2019_1",
           "large_accelerated_filer",
           "ev_ebit"
          ],
          [
           "2019_1",
           "non_accelerated_filer",
           "ev_ebit"
          ],
          [
           "2019_2",
           "accelerated_filer",
           "ev_ebit"
          ],
          [
           "2019_2",
           "large_accelerated_filer",
           "ev_ebit"
          ],
          [
           "2019_2",
           "non_accelerated_filer",
           "ev_ebit"
          ],
          [
           "2019_3",
           "accelerated_filer",
           "ev_ebit"
          ],
          [
           "2019_3",
           "large_accelerated_filer",
           "ev_ebit"
          ],
          [
           "2019_3",
           "non_accelerated_filer",
           "ev_ebit"
          ],
          [
           "2019_4",
           "accelerated_filer",
           "ev_ebit"
          ],
          [
           "2019_4",
           "large_accelerated_filer",
           "ev_ebit"
          ],
          [
           "2019_4",
           "non_accelerated_filer",
           "ev_ebit"
          ],
          [
           "2020_1",
           "accelerated_filer",
           "ev_ebit"
          ],
          [
           "2020_1",
           "large_accelerated_filer",
           "ev_ebit"
          ],
          [
           "2020_1",
           "non_accelerated_filer",
           "ev_ebit"
          ],
          [
           "2020_2",
           "accelerated_filer",
           "ev_ebit"
          ],
          [
           "2020_2",
           "large_accelerated_filer",
           "ev_ebit"
          ],
          [
           "2020_2",
           "non_accelerated_filer",
           "ev_ebit"
          ],
          [
           "2020_3",
           "accelerated_filer",
           "ev_ebit"
          ],
          [
           "2020_3",
           "large_accelerated_filer",
           "ev_ebit"
          ],
          [
           "2020_3",
           "non_accelerated_filer",
           "ev_ebit"
          ],
          [
           "2020_4",
           "accelerated_filer",
           "ev_ebit"
          ],
          [
           "2020_4",
           "large_accelerated_filer",
           "ev_ebit"
          ],
          [
           "2020_4",
           "non_accelerated_filer",
           "ev_ebit"
          ],
          [
           "2021_1",
           "non_accelerated_filer",
           "ev_ebit"
          ],
          [
           "2021_1",
           "accelerated_filer",
           "ev_ebit"
          ],
          [
           "2021_1",
           "large_accelerated_filer",
           "ev_ebit"
          ],
          [
           "2021_2",
           "non_accelerated_filer",
           "ev_ebit"
          ],
          [
           "2021_2",
           "accelerated_filer",
           "ev_ebit"
          ],
          [
           "2021_2",
           "large_accelerated_filer",
           "ev_ebit"
          ],
          [
           "2021_3",
           "non_accelerated_filer",
           "ev_ebit"
          ],
          [
           "2021_3",
           "accelerated_filer",
           "ev_ebit"
          ],
          [
           "2021_3",
           "large_accelerated_filer",
           "ev_ebit"
          ]
         ],
         "fillcolor": "rgba(255,255,255,0)",
         "hoveron": "points",
         "hovertemplate": "kpi=%{customdata[2]}<br>used_to_all=%{x}<br>year_q=%{customdata[0]}<br>filer_type=%{customdata[1]}<extra></extra>",
         "jitter": 0,
         "legendgroup": "ev_ebit",
         "line": {
          "color": "rgba(255,255,255,0)"
         },
         "marker": {
          "color": "#B6E880",
          "symbol": "line-ns-open"
         },
         "name": "ev_ebit",
         "offsetgroup": "ev_ebit",
         "showlegend": false,
         "type": "box",
         "x": [
          0.65,
          0.89,
          0.6,
          0.74,
          0.94,
          0.72,
          0.71,
          0.94,
          0.78,
          0.75,
          0.94,
          0.82,
          0.74,
          0.96,
          0.59,
          0.76,
          0.94,
          0.71,
          0.73,
          0.94,
          0.71,
          0.66,
          0.93,
          0.86,
          0.77,
          0.98,
          0.55,
          0.8,
          0.96,
          0.6,
          0.69,
          0.94,
          0.73,
          0.81,
          0.88,
          0.79,
          0.56,
          0.85,
          0.69,
          0.81,
          0.92,
          0.73,
          0.81,
          0.94,
          0.53,
          0.77,
          0.88,
          0.97,
          0.66,
          0.82,
          0.97,
          0.67,
          0.89,
          1
         ],
         "xaxis": "x2",
         "yaxis": "y2"
        },
        {
         "alignmentgroup": "True",
         "bingroup": "x",
         "hovertemplate": "kpi=ev_revenue<br>used_to_all=%{x}<br>count=%{y}<extra></extra>",
         "legendgroup": "ev_revenue",
         "marker": {
          "color": "#FF97FF",
          "pattern": {
           "shape": ""
          }
         },
         "name": "ev_revenue",
         "offsetgroup": "ev_revenue",
         "orientation": "v",
         "showlegend": true,
         "type": "histogram",
         "x": [
          0.62,
          0.87,
          0.6,
          0.68,
          0.91,
          0.72,
          0.68,
          0.91,
          0.78,
          0.75,
          0.92,
          0.82,
          0.71,
          0.94,
          0.59,
          0.73,
          0.92,
          0.71,
          0.73,
          0.92,
          0.71,
          0.66,
          0.93,
          0.86,
          0.74,
          0.98,
          0.55,
          0.77,
          0.96,
          0.6,
          0.66,
          0.94,
          0.73,
          0.78,
          0.88,
          0.79,
          0.56,
          0.85,
          0.69,
          0.78,
          0.92,
          0.73,
          0.78,
          0.94,
          0.53,
          0.74,
          0.88,
          0.97,
          0.63,
          0.82,
          0.97,
          0.64,
          0.89,
          1
         ],
         "xaxis": "x",
         "yaxis": "y"
        },
        {
         "alignmentgroup": "True",
         "boxpoints": "all",
         "customdata": [
          [
           "2017_2",
           "accelerated_filer",
           "ev_revenue"
          ],
          [
           "2017_2",
           "large_accelerated_filer",
           "ev_revenue"
          ],
          [
           "2017_2",
           "non_accelerated_filer",
           "ev_revenue"
          ],
          [
           "2017_3",
           "accelerated_filer",
           "ev_revenue"
          ],
          [
           "2017_3",
           "large_accelerated_filer",
           "ev_revenue"
          ],
          [
           "2017_3",
           "non_accelerated_filer",
           "ev_revenue"
          ],
          [
           "2017_4",
           "accelerated_filer",
           "ev_revenue"
          ],
          [
           "2017_4",
           "large_accelerated_filer",
           "ev_revenue"
          ],
          [
           "2017_4",
           "non_accelerated_filer",
           "ev_revenue"
          ],
          [
           "2018_1",
           "accelerated_filer",
           "ev_revenue"
          ],
          [
           "2018_1",
           "large_accelerated_filer",
           "ev_revenue"
          ],
          [
           "2018_1",
           "non_accelerated_filer",
           "ev_revenue"
          ],
          [
           "2018_2",
           "accelerated_filer",
           "ev_revenue"
          ],
          [
           "2018_2",
           "large_accelerated_filer",
           "ev_revenue"
          ],
          [
           "2018_2",
           "non_accelerated_filer",
           "ev_revenue"
          ],
          [
           "2018_3",
           "accelerated_filer",
           "ev_revenue"
          ],
          [
           "2018_3",
           "large_accelerated_filer",
           "ev_revenue"
          ],
          [
           "2018_3",
           "non_accelerated_filer",
           "ev_revenue"
          ],
          [
           "2018_4",
           "accelerated_filer",
           "ev_revenue"
          ],
          [
           "2018_4",
           "large_accelerated_filer",
           "ev_revenue"
          ],
          [
           "2018_4",
           "non_accelerated_filer",
           "ev_revenue"
          ],
          [
           "2019_1",
           "accelerated_filer",
           "ev_revenue"
          ],
          [
           "2019_1",
           "large_accelerated_filer",
           "ev_revenue"
          ],
          [
           "2019_1",
           "non_accelerated_filer",
           "ev_revenue"
          ],
          [
           "2019_2",
           "accelerated_filer",
           "ev_revenue"
          ],
          [
           "2019_2",
           "large_accelerated_filer",
           "ev_revenue"
          ],
          [
           "2019_2",
           "non_accelerated_filer",
           "ev_revenue"
          ],
          [
           "2019_3",
           "accelerated_filer",
           "ev_revenue"
          ],
          [
           "2019_3",
           "large_accelerated_filer",
           "ev_revenue"
          ],
          [
           "2019_3",
           "non_accelerated_filer",
           "ev_revenue"
          ],
          [
           "2019_4",
           "accelerated_filer",
           "ev_revenue"
          ],
          [
           "2019_4",
           "large_accelerated_filer",
           "ev_revenue"
          ],
          [
           "2019_4",
           "non_accelerated_filer",
           "ev_revenue"
          ],
          [
           "2020_1",
           "accelerated_filer",
           "ev_revenue"
          ],
          [
           "2020_1",
           "large_accelerated_filer",
           "ev_revenue"
          ],
          [
           "2020_1",
           "non_accelerated_filer",
           "ev_revenue"
          ],
          [
           "2020_2",
           "accelerated_filer",
           "ev_revenue"
          ],
          [
           "2020_2",
           "large_accelerated_filer",
           "ev_revenue"
          ],
          [
           "2020_2",
           "non_accelerated_filer",
           "ev_revenue"
          ],
          [
           "2020_3",
           "accelerated_filer",
           "ev_revenue"
          ],
          [
           "2020_3",
           "large_accelerated_filer",
           "ev_revenue"
          ],
          [
           "2020_3",
           "non_accelerated_filer",
           "ev_revenue"
          ],
          [
           "2020_4",
           "accelerated_filer",
           "ev_revenue"
          ],
          [
           "2020_4",
           "large_accelerated_filer",
           "ev_revenue"
          ],
          [
           "2020_4",
           "non_accelerated_filer",
           "ev_revenue"
          ],
          [
           "2021_1",
           "non_accelerated_filer",
           "ev_revenue"
          ],
          [
           "2021_1",
           "accelerated_filer",
           "ev_revenue"
          ],
          [
           "2021_1",
           "large_accelerated_filer",
           "ev_revenue"
          ],
          [
           "2021_2",
           "non_accelerated_filer",
           "ev_revenue"
          ],
          [
           "2021_2",
           "accelerated_filer",
           "ev_revenue"
          ],
          [
           "2021_2",
           "large_accelerated_filer",
           "ev_revenue"
          ],
          [
           "2021_3",
           "non_accelerated_filer",
           "ev_revenue"
          ],
          [
           "2021_3",
           "accelerated_filer",
           "ev_revenue"
          ],
          [
           "2021_3",
           "large_accelerated_filer",
           "ev_revenue"
          ]
         ],
         "fillcolor": "rgba(255,255,255,0)",
         "hoveron": "points",
         "hovertemplate": "kpi=%{customdata[2]}<br>used_to_all=%{x}<br>year_q=%{customdata[0]}<br>filer_type=%{customdata[1]}<extra></extra>",
         "jitter": 0,
         "legendgroup": "ev_revenue",
         "line": {
          "color": "rgba(255,255,255,0)"
         },
         "marker": {
          "color": "#FF97FF",
          "symbol": "line-ns-open"
         },
         "name": "ev_revenue",
         "offsetgroup": "ev_revenue",
         "showlegend": false,
         "type": "box",
         "x": [
          0.62,
          0.87,
          0.6,
          0.68,
          0.91,
          0.72,
          0.68,
          0.91,
          0.78,
          0.75,
          0.92,
          0.82,
          0.71,
          0.94,
          0.59,
          0.73,
          0.92,
          0.71,
          0.73,
          0.92,
          0.71,
          0.66,
          0.93,
          0.86,
          0.74,
          0.98,
          0.55,
          0.77,
          0.96,
          0.6,
          0.66,
          0.94,
          0.73,
          0.78,
          0.88,
          0.79,
          0.56,
          0.85,
          0.69,
          0.78,
          0.92,
          0.73,
          0.78,
          0.94,
          0.53,
          0.74,
          0.88,
          0.97,
          0.63,
          0.82,
          0.97,
          0.64,
          0.89,
          1
         ],
         "xaxis": "x2",
         "yaxis": "y2"
        }
       ],
       "layout": {
        "barmode": "relative",
        "legend": {
         "title": {
          "text": "kpi"
         },
         "tracegroupgap": 0
        },
        "template": {
         "data": {
          "bar": [
           {
            "error_x": {
             "color": "#2a3f5f"
            },
            "error_y": {
             "color": "#2a3f5f"
            },
            "marker": {
             "line": {
              "color": "#E5ECF6",
              "width": 0.5
             },
             "pattern": {
              "fillmode": "overlay",
              "size": 10,
              "solidity": 0.2
             }
            },
            "type": "bar"
           }
          ],
          "barpolar": [
           {
            "marker": {
             "line": {
              "color": "#E5ECF6",
              "width": 0.5
             },
             "pattern": {
              "fillmode": "overlay",
              "size": 10,
              "solidity": 0.2
             }
            },
            "type": "barpolar"
           }
          ],
          "carpet": [
           {
            "aaxis": {
             "endlinecolor": "#2a3f5f",
             "gridcolor": "white",
             "linecolor": "white",
             "minorgridcolor": "white",
             "startlinecolor": "#2a3f5f"
            },
            "baxis": {
             "endlinecolor": "#2a3f5f",
             "gridcolor": "white",
             "linecolor": "white",
             "minorgridcolor": "white",
             "startlinecolor": "#2a3f5f"
            },
            "type": "carpet"
           }
          ],
          "choropleth": [
           {
            "colorbar": {
             "outlinewidth": 0,
             "ticks": ""
            },
            "type": "choropleth"
           }
          ],
          "contour": [
           {
            "colorbar": {
             "outlinewidth": 0,
             "ticks": ""
            },
            "colorscale": [
             [
              0,
              "#0d0887"
             ],
             [
              0.1111111111111111,
              "#46039f"
             ],
             [
              0.2222222222222222,
              "#7201a8"
             ],
             [
              0.3333333333333333,
              "#9c179e"
             ],
             [
              0.4444444444444444,
              "#bd3786"
             ],
             [
              0.5555555555555556,
              "#d8576b"
             ],
             [
              0.6666666666666666,
              "#ed7953"
             ],
             [
              0.7777777777777778,
              "#fb9f3a"
             ],
             [
              0.8888888888888888,
              "#fdca26"
             ],
             [
              1,
              "#f0f921"
             ]
            ],
            "type": "contour"
           }
          ],
          "contourcarpet": [
           {
            "colorbar": {
             "outlinewidth": 0,
             "ticks": ""
            },
            "type": "contourcarpet"
           }
          ],
          "heatmap": [
           {
            "colorbar": {
             "outlinewidth": 0,
             "ticks": ""
            },
            "colorscale": [
             [
              0,
              "#0d0887"
             ],
             [
              0.1111111111111111,
              "#46039f"
             ],
             [
              0.2222222222222222,
              "#7201a8"
             ],
             [
              0.3333333333333333,
              "#9c179e"
             ],
             [
              0.4444444444444444,
              "#bd3786"
             ],
             [
              0.5555555555555556,
              "#d8576b"
             ],
             [
              0.6666666666666666,
              "#ed7953"
             ],
             [
              0.7777777777777778,
              "#fb9f3a"
             ],
             [
              0.8888888888888888,
              "#fdca26"
             ],
             [
              1,
              "#f0f921"
             ]
            ],
            "type": "heatmap"
           }
          ],
          "heatmapgl": [
           {
            "colorbar": {
             "outlinewidth": 0,
             "ticks": ""
            },
            "colorscale": [
             [
              0,
              "#0d0887"
             ],
             [
              0.1111111111111111,
              "#46039f"
             ],
             [
              0.2222222222222222,
              "#7201a8"
             ],
             [
              0.3333333333333333,
              "#9c179e"
             ],
             [
              0.4444444444444444,
              "#bd3786"
             ],
             [
              0.5555555555555556,
              "#d8576b"
             ],
             [
              0.6666666666666666,
              "#ed7953"
             ],
             [
              0.7777777777777778,
              "#fb9f3a"
             ],
             [
              0.8888888888888888,
              "#fdca26"
             ],
             [
              1,
              "#f0f921"
             ]
            ],
            "type": "heatmapgl"
           }
          ],
          "histogram": [
           {
            "marker": {
             "pattern": {
              "fillmode": "overlay",
              "size": 10,
              "solidity": 0.2
             }
            },
            "type": "histogram"
           }
          ],
          "histogram2d": [
           {
            "colorbar": {
             "outlinewidth": 0,
             "ticks": ""
            },
            "colorscale": [
             [
              0,
              "#0d0887"
             ],
             [
              0.1111111111111111,
              "#46039f"
             ],
             [
              0.2222222222222222,
              "#7201a8"
             ],
             [
              0.3333333333333333,
              "#9c179e"
             ],
             [
              0.4444444444444444,
              "#bd3786"
             ],
             [
              0.5555555555555556,
              "#d8576b"
             ],
             [
              0.6666666666666666,
              "#ed7953"
             ],
             [
              0.7777777777777778,
              "#fb9f3a"
             ],
             [
              0.8888888888888888,
              "#fdca26"
             ],
             [
              1,
              "#f0f921"
             ]
            ],
            "type": "histogram2d"
           }
          ],
          "histogram2dcontour": [
           {
            "colorbar": {
             "outlinewidth": 0,
             "ticks": ""
            },
            "colorscale": [
             [
              0,
              "#0d0887"
             ],
             [
              0.1111111111111111,
              "#46039f"
             ],
             [
              0.2222222222222222,
              "#7201a8"
             ],
             [
              0.3333333333333333,
              "#9c179e"
             ],
             [
              0.4444444444444444,
              "#bd3786"
             ],
             [
              0.5555555555555556,
              "#d8576b"
             ],
             [
              0.6666666666666666,
              "#ed7953"
             ],
             [
              0.7777777777777778,
              "#fb9f3a"
             ],
             [
              0.8888888888888888,
              "#fdca26"
             ],
             [
              1,
              "#f0f921"
             ]
            ],
            "type": "histogram2dcontour"
           }
          ],
          "mesh3d": [
           {
            "colorbar": {
             "outlinewidth": 0,
             "ticks": ""
            },
            "type": "mesh3d"
           }
          ],
          "parcoords": [
           {
            "line": {
             "colorbar": {
              "outlinewidth": 0,
              "ticks": ""
             }
            },
            "type": "parcoords"
           }
          ],
          "pie": [
           {
            "automargin": true,
            "type": "pie"
           }
          ],
          "scatter": [
           {
            "marker": {
             "colorbar": {
              "outlinewidth": 0,
              "ticks": ""
             }
            },
            "type": "scatter"
           }
          ],
          "scatter3d": [
           {
            "line": {
             "colorbar": {
              "outlinewidth": 0,
              "ticks": ""
             }
            },
            "marker": {
             "colorbar": {
              "outlinewidth": 0,
              "ticks": ""
             }
            },
            "type": "scatter3d"
           }
          ],
          "scattercarpet": [
           {
            "marker": {
             "colorbar": {
              "outlinewidth": 0,
              "ticks": ""
             }
            },
            "type": "scattercarpet"
           }
          ],
          "scattergeo": [
           {
            "marker": {
             "colorbar": {
              "outlinewidth": 0,
              "ticks": ""
             }
            },
            "type": "scattergeo"
           }
          ],
          "scattergl": [
           {
            "marker": {
             "colorbar": {
              "outlinewidth": 0,
              "ticks": ""
             }
            },
            "type": "scattergl"
           }
          ],
          "scattermapbox": [
           {
            "marker": {
             "colorbar": {
              "outlinewidth": 0,
              "ticks": ""
             }
            },
            "type": "scattermapbox"
           }
          ],
          "scatterpolar": [
           {
            "marker": {
             "colorbar": {
              "outlinewidth": 0,
              "ticks": ""
             }
            },
            "type": "scatterpolar"
           }
          ],
          "scatterpolargl": [
           {
            "marker": {
             "colorbar": {
              "outlinewidth": 0,
              "ticks": ""
             }
            },
            "type": "scatterpolargl"
           }
          ],
          "scatterternary": [
           {
            "marker": {
             "colorbar": {
              "outlinewidth": 0,
              "ticks": ""
             }
            },
            "type": "scatterternary"
           }
          ],
          "surface": [
           {
            "colorbar": {
             "outlinewidth": 0,
             "ticks": ""
            },
            "colorscale": [
             [
              0,
              "#0d0887"
             ],
             [
              0.1111111111111111,
              "#46039f"
             ],
             [
              0.2222222222222222,
              "#7201a8"
             ],
             [
              0.3333333333333333,
              "#9c179e"
             ],
             [
              0.4444444444444444,
              "#bd3786"
             ],
             [
              0.5555555555555556,
              "#d8576b"
             ],
             [
              0.6666666666666666,
              "#ed7953"
             ],
             [
              0.7777777777777778,
              "#fb9f3a"
             ],
             [
              0.8888888888888888,
              "#fdca26"
             ],
             [
              1,
              "#f0f921"
             ]
            ],
            "type": "surface"
           }
          ],
          "table": [
           {
            "cells": {
             "fill": {
              "color": "#EBF0F8"
             },
             "line": {
              "color": "white"
             }
            },
            "header": {
             "fill": {
              "color": "#C8D4E3"
             },
             "line": {
              "color": "white"
             }
            },
            "type": "table"
           }
          ]
         },
         "layout": {
          "annotationdefaults": {
           "arrowcolor": "#2a3f5f",
           "arrowhead": 0,
           "arrowwidth": 1
          },
          "autotypenumbers": "strict",
          "coloraxis": {
           "colorbar": {
            "outlinewidth": 0,
            "ticks": ""
           }
          },
          "colorscale": {
           "diverging": [
            [
             0,
             "#8e0152"
            ],
            [
             0.1,
             "#c51b7d"
            ],
            [
             0.2,
             "#de77ae"
            ],
            [
             0.3,
             "#f1b6da"
            ],
            [
             0.4,
             "#fde0ef"
            ],
            [
             0.5,
             "#f7f7f7"
            ],
            [
             0.6,
             "#e6f5d0"
            ],
            [
             0.7,
             "#b8e186"
            ],
            [
             0.8,
             "#7fbc41"
            ],
            [
             0.9,
             "#4d9221"
            ],
            [
             1,
             "#276419"
            ]
           ],
           "sequential": [
            [
             0,
             "#0d0887"
            ],
            [
             0.1111111111111111,
             "#46039f"
            ],
            [
             0.2222222222222222,
             "#7201a8"
            ],
            [
             0.3333333333333333,
             "#9c179e"
            ],
            [
             0.4444444444444444,
             "#bd3786"
            ],
            [
             0.5555555555555556,
             "#d8576b"
            ],
            [
             0.6666666666666666,
             "#ed7953"
            ],
            [
             0.7777777777777778,
             "#fb9f3a"
            ],
            [
             0.8888888888888888,
             "#fdca26"
            ],
            [
             1,
             "#f0f921"
            ]
           ],
           "sequentialminus": [
            [
             0,
             "#0d0887"
            ],
            [
             0.1111111111111111,
             "#46039f"
            ],
            [
             0.2222222222222222,
             "#7201a8"
            ],
            [
             0.3333333333333333,
             "#9c179e"
            ],
            [
             0.4444444444444444,
             "#bd3786"
            ],
            [
             0.5555555555555556,
             "#d8576b"
            ],
            [
             0.6666666666666666,
             "#ed7953"
            ],
            [
             0.7777777777777778,
             "#fb9f3a"
            ],
            [
             0.8888888888888888,
             "#fdca26"
            ],
            [
             1,
             "#f0f921"
            ]
           ]
          },
          "colorway": [
           "#636efa",
           "#EF553B",
           "#00cc96",
           "#ab63fa",
           "#FFA15A",
           "#19d3f3",
           "#FF6692",
           "#B6E880",
           "#FF97FF",
           "#FECB52"
          ],
          "font": {
           "color": "#2a3f5f"
          },
          "geo": {
           "bgcolor": "white",
           "lakecolor": "white",
           "landcolor": "#E5ECF6",
           "showlakes": true,
           "showland": true,
           "subunitcolor": "white"
          },
          "hoverlabel": {
           "align": "left"
          },
          "hovermode": "closest",
          "mapbox": {
           "style": "light"
          },
          "paper_bgcolor": "white",
          "plot_bgcolor": "#E5ECF6",
          "polar": {
           "angularaxis": {
            "gridcolor": "white",
            "linecolor": "white",
            "ticks": ""
           },
           "bgcolor": "#E5ECF6",
           "radialaxis": {
            "gridcolor": "white",
            "linecolor": "white",
            "ticks": ""
           }
          },
          "scene": {
           "xaxis": {
            "backgroundcolor": "#E5ECF6",
            "gridcolor": "white",
            "gridwidth": 2,
            "linecolor": "white",
            "showbackground": true,
            "ticks": "",
            "zerolinecolor": "white"
           },
           "yaxis": {
            "backgroundcolor": "#E5ECF6",
            "gridcolor": "white",
            "gridwidth": 2,
            "linecolor": "white",
            "showbackground": true,
            "ticks": "",
            "zerolinecolor": "white"
           },
           "zaxis": {
            "backgroundcolor": "#E5ECF6",
            "gridcolor": "white",
            "gridwidth": 2,
            "linecolor": "white",
            "showbackground": true,
            "ticks": "",
            "zerolinecolor": "white"
           }
          },
          "shapedefaults": {
           "line": {
            "color": "#2a3f5f"
           }
          },
          "ternary": {
           "aaxis": {
            "gridcolor": "white",
            "linecolor": "white",
            "ticks": ""
           },
           "baxis": {
            "gridcolor": "white",
            "linecolor": "white",
            "ticks": ""
           },
           "bgcolor": "#E5ECF6",
           "caxis": {
            "gridcolor": "white",
            "linecolor": "white",
            "ticks": ""
           }
          },
          "title": {
           "x": 0.05
          },
          "xaxis": {
           "automargin": true,
           "gridcolor": "white",
           "linecolor": "white",
           "ticks": "",
           "title": {
            "standoff": 15
           },
           "zerolinecolor": "white",
           "zerolinewidth": 2
          },
          "yaxis": {
           "automargin": true,
           "gridcolor": "white",
           "linecolor": "white",
           "ticks": "",
           "title": {
            "standoff": 15
           },
           "zerolinecolor": "white",
           "zerolinewidth": 2
          }
         }
        },
        "title": {
         "text": "Percentage used KPIs from all for calculating mean/median | color: KPI"
        },
        "xaxis": {
         "anchor": "y",
         "domain": [
          0,
          1
         ],
         "title": {
          "text": "used_to_all"
         }
        },
        "xaxis2": {
         "anchor": "y2",
         "domain": [
          0,
          1
         ],
         "matches": "x",
         "showgrid": true,
         "showticklabels": false
        },
        "yaxis": {
         "anchor": "x",
         "domain": [
          0,
          0.7326
         ],
         "title": {
          "text": "count"
         }
        },
        "yaxis2": {
         "anchor": "x2",
         "domain": [
          0.7426,
          1
         ],
         "matches": "y2",
         "showgrid": false,
         "showline": false,
         "showticklabels": false,
         "ticks": ""
        }
       }
      }
     },
     "metadata": {},
     "output_type": "display_data"
    }
   ],
   "source": [
    "import plotly.express as px\n",
    "\n",
    "fig = px.histogram(df_for_plot, x=\"used_to_all\", color=\"kpi\", marginal=\"rug\",\n",
    "                   hover_data=df_for_plot.columns, title=\"Percentage used KPIs from all for calculating mean/median | color: KPI\")\n",
    "fig.show()"
   ]
  },
  {
   "cell_type": "code",
   "execution_count": 35,
   "metadata": {},
   "outputs": [
    {
     "data": {
      "application/vnd.plotly.v1+json": {
       "config": {
        "plotlyServerURL": "https://plot.ly"
       },
       "data": [
        {
         "alignmentgroup": "True",
         "bingroup": "x",
         "hovertemplate": "year_q=2017_2<br>used_to_all=%{x}<br>count=%{y}<extra></extra>",
         "legendgroup": "2017_2",
         "marker": {
          "color": "#636efa",
          "pattern": {
           "shape": ""
          }
         },
         "name": "2017_2",
         "offsetgroup": "2017_2",
         "orientation": "v",
         "showlegend": true,
         "type": "histogram",
         "x": [
          0.85,
          0.88,
          0.82,
          0.79,
          0.85,
          0.85,
          0.88,
          0.91,
          0.68,
          0.91,
          0.74,
          0.91,
          0.68,
          0.68,
          0.82,
          0.88,
          0.65,
          0.65,
          0.62,
          0.98,
          0.98,
          0.98,
          0.96,
          0.96,
          0.96,
          0.98,
          0.98,
          0.91,
          0.98,
          0.96,
          0.96,
          0.96,
          0.98,
          0.98,
          0.98,
          0.87,
          0.89,
          0.87,
          0.8,
          0.8,
          0.75,
          0.8,
          0.85,
          0.85,
          0.75,
          0.8,
          0.6,
          0.75,
          0.65,
          0.75,
          0.7,
          0.75,
          0.75,
          0.8,
          0.55,
          0.6,
          0.6
         ],
         "xaxis": "x",
         "yaxis": "y"
        },
        {
         "alignmentgroup": "True",
         "boxpoints": "all",
         "customdata": [
          [
           "2017_2",
           "accelerated_filer",
           "roe"
          ],
          [
           "2017_2",
           "accelerated_filer",
           "roa"
          ],
          [
           "2017_2",
           "accelerated_filer",
           "roce"
          ],
          [
           "2017_2",
           "accelerated_filer",
           "gross_margin"
          ],
          [
           "2017_2",
           "accelerated_filer",
           "operating_profit_margin"
          ],
          [
           "2017_2",
           "accelerated_filer",
           "net_profit_margin"
          ],
          [
           "2017_2",
           "accelerated_filer",
           "debt_to_equity"
          ],
          [
           "2017_2",
           "accelerated_filer",
           "equity"
          ],
          [
           "2017_2",
           "accelerated_filer",
           "debt"
          ],
          [
           "2017_2",
           "accelerated_filer",
           "current"
          ],
          [
           "2017_2",
           "accelerated_filer",
           "quick"
          ],
          [
           "2017_2",
           "accelerated_filer",
           "cash"
          ],
          [
           "2017_2",
           "accelerated_filer",
           "times_interest_earned"
          ],
          [
           "2017_2",
           "accelerated_filer",
           "capex_to_operating_cash"
          ],
          [
           "2017_2",
           "accelerated_filer",
           "operating_cash_flow"
          ],
          [
           "2017_2",
           "accelerated_filer",
           "price_to_earnings"
          ],
          [
           "2017_2",
           "accelerated_filer",
           "ev_ebitda"
          ],
          [
           "2017_2",
           "accelerated_filer",
           "ev_ebit"
          ],
          [
           "2017_2",
           "accelerated_filer",
           "ev_revenue"
          ],
          [
           "2017_2",
           "large_accelerated_filer",
           "roe"
          ],
          [
           "2017_2",
           "large_accelerated_filer",
           "roa"
          ],
          [
           "2017_2",
           "large_accelerated_filer",
           "roce"
          ],
          [
           "2017_2",
           "large_accelerated_filer",
           "gross_margin"
          ],
          [
           "2017_2",
           "large_accelerated_filer",
           "operating_profit_margin"
          ],
          [
           "2017_2",
           "large_accelerated_filer",
           "net_profit_margin"
          ],
          [
           "2017_2",
           "large_accelerated_filer",
           "debt_to_equity"
          ],
          [
           "2017_2",
           "large_accelerated_filer",
           "equity"
          ],
          [
           "2017_2",
           "large_accelerated_filer",
           "debt"
          ],
          [
           "2017_2",
           "large_accelerated_filer",
           "current"
          ],
          [
           "2017_2",
           "large_accelerated_filer",
           "quick"
          ],
          [
           "2017_2",
           "large_accelerated_filer",
           "cash"
          ],
          [
           "2017_2",
           "large_accelerated_filer",
           "times_interest_earned"
          ],
          [
           "2017_2",
           "large_accelerated_filer",
           "capex_to_operating_cash"
          ],
          [
           "2017_2",
           "large_accelerated_filer",
           "operating_cash_flow"
          ],
          [
           "2017_2",
           "large_accelerated_filer",
           "price_to_earnings"
          ],
          [
           "2017_2",
           "large_accelerated_filer",
           "ev_ebitda"
          ],
          [
           "2017_2",
           "large_accelerated_filer",
           "ev_ebit"
          ],
          [
           "2017_2",
           "large_accelerated_filer",
           "ev_revenue"
          ],
          [
           "2017_2",
           "non_accelerated_filer",
           "roe"
          ],
          [
           "2017_2",
           "non_accelerated_filer",
           "roa"
          ],
          [
           "2017_2",
           "non_accelerated_filer",
           "roce"
          ],
          [
           "2017_2",
           "non_accelerated_filer",
           "gross_margin"
          ],
          [
           "2017_2",
           "non_accelerated_filer",
           "operating_profit_margin"
          ],
          [
           "2017_2",
           "non_accelerated_filer",
           "net_profit_margin"
          ],
          [
           "2017_2",
           "non_accelerated_filer",
           "debt_to_equity"
          ],
          [
           "2017_2",
           "non_accelerated_filer",
           "equity"
          ],
          [
           "2017_2",
           "non_accelerated_filer",
           "debt"
          ],
          [
           "2017_2",
           "non_accelerated_filer",
           "current"
          ],
          [
           "2017_2",
           "non_accelerated_filer",
           "quick"
          ],
          [
           "2017_2",
           "non_accelerated_filer",
           "cash"
          ],
          [
           "2017_2",
           "non_accelerated_filer",
           "times_interest_earned"
          ],
          [
           "2017_2",
           "non_accelerated_filer",
           "capex_to_operating_cash"
          ],
          [
           "2017_2",
           "non_accelerated_filer",
           "operating_cash_flow"
          ],
          [
           "2017_2",
           "non_accelerated_filer",
           "price_to_earnings"
          ],
          [
           "2017_2",
           "non_accelerated_filer",
           "ev_ebitda"
          ],
          [
           "2017_2",
           "non_accelerated_filer",
           "ev_ebit"
          ],
          [
           "2017_2",
           "non_accelerated_filer",
           "ev_revenue"
          ]
         ],
         "fillcolor": "rgba(255,255,255,0)",
         "hoveron": "points",
         "hovertemplate": "year_q=%{customdata[0]}<br>used_to_all=%{x}<br>filer_type=%{customdata[1]}<br>kpi=%{customdata[2]}<extra></extra>",
         "jitter": 0,
         "legendgroup": "2017_2",
         "line": {
          "color": "rgba(255,255,255,0)"
         },
         "marker": {
          "color": "#636efa",
          "symbol": "line-ns-open"
         },
         "name": "2017_2",
         "offsetgroup": "2017_2",
         "showlegend": false,
         "type": "box",
         "x": [
          0.85,
          0.88,
          0.82,
          0.79,
          0.85,
          0.85,
          0.88,
          0.91,
          0.68,
          0.91,
          0.74,
          0.91,
          0.68,
          0.68,
          0.82,
          0.88,
          0.65,
          0.65,
          0.62,
          0.98,
          0.98,
          0.98,
          0.96,
          0.96,
          0.96,
          0.98,
          0.98,
          0.91,
          0.98,
          0.96,
          0.96,
          0.96,
          0.98,
          0.98,
          0.98,
          0.87,
          0.89,
          0.87,
          0.8,
          0.8,
          0.75,
          0.8,
          0.85,
          0.85,
          0.75,
          0.8,
          0.6,
          0.75,
          0.65,
          0.75,
          0.7,
          0.75,
          0.75,
          0.8,
          0.55,
          0.6,
          0.6
         ],
         "xaxis": "x2",
         "yaxis": "y2"
        },
        {
         "alignmentgroup": "True",
         "bingroup": "x",
         "hovertemplate": "year_q=2017_3<br>used_to_all=%{x}<br>count=%{y}<extra></extra>",
         "legendgroup": "2017_3",
         "marker": {
          "color": "#EF553B",
          "pattern": {
           "shape": ""
          }
         },
         "name": "2017_3",
         "offsetgroup": "2017_3",
         "orientation": "v",
         "showlegend": true,
         "type": "histogram",
         "x": [
          0.94,
          0.97,
          0.91,
          0.91,
          0.94,
          0.94,
          0.91,
          0.94,
          0.74,
          0.91,
          0.71,
          0.91,
          0.79,
          0.79,
          0.88,
          0.97,
          0.74,
          0.74,
          0.68,
          1,
          1,
          1,
          0.98,
          0.98,
          0.98,
          1,
          1,
          0.94,
          1,
          1,
          1,
          0.98,
          1,
          1,
          1,
          0.91,
          0.94,
          0.91,
          0.94,
          0.94,
          0.89,
          0.94,
          0.94,
          0.94,
          0.89,
          0.94,
          0.78,
          0.89,
          0.72,
          0.83,
          0.78,
          0.83,
          0.89,
          0.94,
          0.67,
          0.72,
          0.72
         ],
         "xaxis": "x",
         "yaxis": "y"
        },
        {
         "alignmentgroup": "True",
         "boxpoints": "all",
         "customdata": [
          [
           "2017_3",
           "accelerated_filer",
           "roe"
          ],
          [
           "2017_3",
           "accelerated_filer",
           "roa"
          ],
          [
           "2017_3",
           "accelerated_filer",
           "roce"
          ],
          [
           "2017_3",
           "accelerated_filer",
           "gross_margin"
          ],
          [
           "2017_3",
           "accelerated_filer",
           "operating_profit_margin"
          ],
          [
           "2017_3",
           "accelerated_filer",
           "net_profit_margin"
          ],
          [
           "2017_3",
           "accelerated_filer",
           "debt_to_equity"
          ],
          [
           "2017_3",
           "accelerated_filer",
           "equity"
          ],
          [
           "2017_3",
           "accelerated_filer",
           "debt"
          ],
          [
           "2017_3",
           "accelerated_filer",
           "current"
          ],
          [
           "2017_3",
           "accelerated_filer",
           "quick"
          ],
          [
           "2017_3",
           "accelerated_filer",
           "cash"
          ],
          [
           "2017_3",
           "accelerated_filer",
           "times_interest_earned"
          ],
          [
           "2017_3",
           "accelerated_filer",
           "capex_to_operating_cash"
          ],
          [
           "2017_3",
           "accelerated_filer",
           "operating_cash_flow"
          ],
          [
           "2017_3",
           "accelerated_filer",
           "price_to_earnings"
          ],
          [
           "2017_3",
           "accelerated_filer",
           "ev_ebitda"
          ],
          [
           "2017_3",
           "accelerated_filer",
           "ev_ebit"
          ],
          [
           "2017_3",
           "accelerated_filer",
           "ev_revenue"
          ],
          [
           "2017_3",
           "large_accelerated_filer",
           "roe"
          ],
          [
           "2017_3",
           "large_accelerated_filer",
           "roa"
          ],
          [
           "2017_3",
           "large_accelerated_filer",
           "roce"
          ],
          [
           "2017_3",
           "large_accelerated_filer",
           "gross_margin"
          ],
          [
           "2017_3",
           "large_accelerated_filer",
           "operating_profit_margin"
          ],
          [
           "2017_3",
           "large_accelerated_filer",
           "net_profit_margin"
          ],
          [
           "2017_3",
           "large_accelerated_filer",
           "debt_to_equity"
          ],
          [
           "2017_3",
           "large_accelerated_filer",
           "equity"
          ],
          [
           "2017_3",
           "large_accelerated_filer",
           "debt"
          ],
          [
           "2017_3",
           "large_accelerated_filer",
           "current"
          ],
          [
           "2017_3",
           "large_accelerated_filer",
           "quick"
          ],
          [
           "2017_3",
           "large_accelerated_filer",
           "cash"
          ],
          [
           "2017_3",
           "large_accelerated_filer",
           "times_interest_earned"
          ],
          [
           "2017_3",
           "large_accelerated_filer",
           "capex_to_operating_cash"
          ],
          [
           "2017_3",
           "large_accelerated_filer",
           "operating_cash_flow"
          ],
          [
           "2017_3",
           "large_accelerated_filer",
           "price_to_earnings"
          ],
          [
           "2017_3",
           "large_accelerated_filer",
           "ev_ebitda"
          ],
          [
           "2017_3",
           "large_accelerated_filer",
           "ev_ebit"
          ],
          [
           "2017_3",
           "large_accelerated_filer",
           "ev_revenue"
          ],
          [
           "2017_3",
           "non_accelerated_filer",
           "roe"
          ],
          [
           "2017_3",
           "non_accelerated_filer",
           "roa"
          ],
          [
           "2017_3",
           "non_accelerated_filer",
           "roce"
          ],
          [
           "2017_3",
           "non_accelerated_filer",
           "gross_margin"
          ],
          [
           "2017_3",
           "non_accelerated_filer",
           "operating_profit_margin"
          ],
          [
           "2017_3",
           "non_accelerated_filer",
           "net_profit_margin"
          ],
          [
           "2017_3",
           "non_accelerated_filer",
           "debt_to_equity"
          ],
          [
           "2017_3",
           "non_accelerated_filer",
           "equity"
          ],
          [
           "2017_3",
           "non_accelerated_filer",
           "debt"
          ],
          [
           "2017_3",
           "non_accelerated_filer",
           "current"
          ],
          [
           "2017_3",
           "non_accelerated_filer",
           "quick"
          ],
          [
           "2017_3",
           "non_accelerated_filer",
           "cash"
          ],
          [
           "2017_3",
           "non_accelerated_filer",
           "times_interest_earned"
          ],
          [
           "2017_3",
           "non_accelerated_filer",
           "capex_to_operating_cash"
          ],
          [
           "2017_3",
           "non_accelerated_filer",
           "operating_cash_flow"
          ],
          [
           "2017_3",
           "non_accelerated_filer",
           "price_to_earnings"
          ],
          [
           "2017_3",
           "non_accelerated_filer",
           "ev_ebitda"
          ],
          [
           "2017_3",
           "non_accelerated_filer",
           "ev_ebit"
          ],
          [
           "2017_3",
           "non_accelerated_filer",
           "ev_revenue"
          ]
         ],
         "fillcolor": "rgba(255,255,255,0)",
         "hoveron": "points",
         "hovertemplate": "year_q=%{customdata[0]}<br>used_to_all=%{x}<br>filer_type=%{customdata[1]}<br>kpi=%{customdata[2]}<extra></extra>",
         "jitter": 0,
         "legendgroup": "2017_3",
         "line": {
          "color": "rgba(255,255,255,0)"
         },
         "marker": {
          "color": "#EF553B",
          "symbol": "line-ns-open"
         },
         "name": "2017_3",
         "offsetgroup": "2017_3",
         "showlegend": false,
         "type": "box",
         "x": [
          0.94,
          0.97,
          0.91,
          0.91,
          0.94,
          0.94,
          0.91,
          0.94,
          0.74,
          0.91,
          0.71,
          0.91,
          0.79,
          0.79,
          0.88,
          0.97,
          0.74,
          0.74,
          0.68,
          1,
          1,
          1,
          0.98,
          0.98,
          0.98,
          1,
          1,
          0.94,
          1,
          1,
          1,
          0.98,
          1,
          1,
          1,
          0.91,
          0.94,
          0.91,
          0.94,
          0.94,
          0.89,
          0.94,
          0.94,
          0.94,
          0.89,
          0.94,
          0.78,
          0.89,
          0.72,
          0.83,
          0.78,
          0.83,
          0.89,
          0.94,
          0.67,
          0.72,
          0.72
         ],
         "xaxis": "x2",
         "yaxis": "y2"
        },
        {
         "alignmentgroup": "True",
         "bingroup": "x",
         "hovertemplate": "year_q=2017_4<br>used_to_all=%{x}<br>count=%{y}<extra></extra>",
         "legendgroup": "2017_4",
         "marker": {
          "color": "#00cc96",
          "pattern": {
           "shape": ""
          }
         },
         "name": "2017_4",
         "offsetgroup": "2017_4",
         "orientation": "v",
         "showlegend": true,
         "type": "histogram",
         "x": [
          0.97,
          0.97,
          0.91,
          0.91,
          0.91,
          0.91,
          0.91,
          0.97,
          0.71,
          0.91,
          0.68,
          0.91,
          0.76,
          0.74,
          0.91,
          0.97,
          0.71,
          0.71,
          0.68,
          1,
          1,
          1,
          0.98,
          0.98,
          0.98,
          1,
          1,
          0.94,
          1,
          1,
          1,
          0.98,
          1,
          1,
          1,
          0.91,
          0.94,
          0.91,
          0.94,
          0.94,
          0.89,
          0.94,
          0.94,
          0.94,
          0.89,
          0.94,
          0.78,
          0.89,
          0.78,
          0.89,
          0.78,
          0.83,
          0.89,
          0.94,
          0.72,
          0.78,
          0.78
         ],
         "xaxis": "x",
         "yaxis": "y"
        },
        {
         "alignmentgroup": "True",
         "boxpoints": "all",
         "customdata": [
          [
           "2017_4",
           "accelerated_filer",
           "roe"
          ],
          [
           "2017_4",
           "accelerated_filer",
           "roa"
          ],
          [
           "2017_4",
           "accelerated_filer",
           "roce"
          ],
          [
           "2017_4",
           "accelerated_filer",
           "gross_margin"
          ],
          [
           "2017_4",
           "accelerated_filer",
           "operating_profit_margin"
          ],
          [
           "2017_4",
           "accelerated_filer",
           "net_profit_margin"
          ],
          [
           "2017_4",
           "accelerated_filer",
           "debt_to_equity"
          ],
          [
           "2017_4",
           "accelerated_filer",
           "equity"
          ],
          [
           "2017_4",
           "accelerated_filer",
           "debt"
          ],
          [
           "2017_4",
           "accelerated_filer",
           "current"
          ],
          [
           "2017_4",
           "accelerated_filer",
           "quick"
          ],
          [
           "2017_4",
           "accelerated_filer",
           "cash"
          ],
          [
           "2017_4",
           "accelerated_filer",
           "times_interest_earned"
          ],
          [
           "2017_4",
           "accelerated_filer",
           "capex_to_operating_cash"
          ],
          [
           "2017_4",
           "accelerated_filer",
           "operating_cash_flow"
          ],
          [
           "2017_4",
           "accelerated_filer",
           "price_to_earnings"
          ],
          [
           "2017_4",
           "accelerated_filer",
           "ev_ebitda"
          ],
          [
           "2017_4",
           "accelerated_filer",
           "ev_ebit"
          ],
          [
           "2017_4",
           "accelerated_filer",
           "ev_revenue"
          ],
          [
           "2017_4",
           "large_accelerated_filer",
           "roe"
          ],
          [
           "2017_4",
           "large_accelerated_filer",
           "roa"
          ],
          [
           "2017_4",
           "large_accelerated_filer",
           "roce"
          ],
          [
           "2017_4",
           "large_accelerated_filer",
           "gross_margin"
          ],
          [
           "2017_4",
           "large_accelerated_filer",
           "operating_profit_margin"
          ],
          [
           "2017_4",
           "large_accelerated_filer",
           "net_profit_margin"
          ],
          [
           "2017_4",
           "large_accelerated_filer",
           "debt_to_equity"
          ],
          [
           "2017_4",
           "large_accelerated_filer",
           "equity"
          ],
          [
           "2017_4",
           "large_accelerated_filer",
           "debt"
          ],
          [
           "2017_4",
           "large_accelerated_filer",
           "current"
          ],
          [
           "2017_4",
           "large_accelerated_filer",
           "quick"
          ],
          [
           "2017_4",
           "large_accelerated_filer",
           "cash"
          ],
          [
           "2017_4",
           "large_accelerated_filer",
           "times_interest_earned"
          ],
          [
           "2017_4",
           "large_accelerated_filer",
           "capex_to_operating_cash"
          ],
          [
           "2017_4",
           "large_accelerated_filer",
           "operating_cash_flow"
          ],
          [
           "2017_4",
           "large_accelerated_filer",
           "price_to_earnings"
          ],
          [
           "2017_4",
           "large_accelerated_filer",
           "ev_ebitda"
          ],
          [
           "2017_4",
           "large_accelerated_filer",
           "ev_ebit"
          ],
          [
           "2017_4",
           "large_accelerated_filer",
           "ev_revenue"
          ],
          [
           "2017_4",
           "non_accelerated_filer",
           "roe"
          ],
          [
           "2017_4",
           "non_accelerated_filer",
           "roa"
          ],
          [
           "2017_4",
           "non_accelerated_filer",
           "roce"
          ],
          [
           "2017_4",
           "non_accelerated_filer",
           "gross_margin"
          ],
          [
           "2017_4",
           "non_accelerated_filer",
           "operating_profit_margin"
          ],
          [
           "2017_4",
           "non_accelerated_filer",
           "net_profit_margin"
          ],
          [
           "2017_4",
           "non_accelerated_filer",
           "debt_to_equity"
          ],
          [
           "2017_4",
           "non_accelerated_filer",
           "equity"
          ],
          [
           "2017_4",
           "non_accelerated_filer",
           "debt"
          ],
          [
           "2017_4",
           "non_accelerated_filer",
           "current"
          ],
          [
           "2017_4",
           "non_accelerated_filer",
           "quick"
          ],
          [
           "2017_4",
           "non_accelerated_filer",
           "cash"
          ],
          [
           "2017_4",
           "non_accelerated_filer",
           "times_interest_earned"
          ],
          [
           "2017_4",
           "non_accelerated_filer",
           "capex_to_operating_cash"
          ],
          [
           "2017_4",
           "non_accelerated_filer",
           "operating_cash_flow"
          ],
          [
           "2017_4",
           "non_accelerated_filer",
           "price_to_earnings"
          ],
          [
           "2017_4",
           "non_accelerated_filer",
           "ev_ebitda"
          ],
          [
           "2017_4",
           "non_accelerated_filer",
           "ev_ebit"
          ],
          [
           "2017_4",
           "non_accelerated_filer",
           "ev_revenue"
          ]
         ],
         "fillcolor": "rgba(255,255,255,0)",
         "hoveron": "points",
         "hovertemplate": "year_q=%{customdata[0]}<br>used_to_all=%{x}<br>filer_type=%{customdata[1]}<br>kpi=%{customdata[2]}<extra></extra>",
         "jitter": 0,
         "legendgroup": "2017_4",
         "line": {
          "color": "rgba(255,255,255,0)"
         },
         "marker": {
          "color": "#00cc96",
          "symbol": "line-ns-open"
         },
         "name": "2017_4",
         "offsetgroup": "2017_4",
         "showlegend": false,
         "type": "box",
         "x": [
          0.97,
          0.97,
          0.91,
          0.91,
          0.91,
          0.91,
          0.91,
          0.97,
          0.71,
          0.91,
          0.68,
          0.91,
          0.76,
          0.74,
          0.91,
          0.97,
          0.71,
          0.71,
          0.68,
          1,
          1,
          1,
          0.98,
          0.98,
          0.98,
          1,
          1,
          0.94,
          1,
          1,
          1,
          0.98,
          1,
          1,
          1,
          0.91,
          0.94,
          0.91,
          0.94,
          0.94,
          0.89,
          0.94,
          0.94,
          0.94,
          0.89,
          0.94,
          0.78,
          0.89,
          0.78,
          0.89,
          0.78,
          0.83,
          0.89,
          0.94,
          0.72,
          0.78,
          0.78
         ],
         "xaxis": "x2",
         "yaxis": "y2"
        },
        {
         "alignmentgroup": "True",
         "bingroup": "x",
         "hovertemplate": "year_q=2018_1<br>used_to_all=%{x}<br>count=%{y}<extra></extra>",
         "legendgroup": "2018_1",
         "marker": {
          "color": "#ab63fa",
          "pattern": {
           "shape": ""
          }
         },
         "name": "2018_1",
         "offsetgroup": "2018_1",
         "orientation": "v",
         "showlegend": true,
         "type": "histogram",
         "x": [
          1,
          1,
          0.94,
          0.97,
          0.97,
          0.97,
          0.94,
          1,
          0.75,
          0.94,
          0.78,
          0.94,
          0.78,
          0.75,
          0.94,
          1,
          0.69,
          0.75,
          0.75,
          0.98,
          0.98,
          0.98,
          0.96,
          0.96,
          0.96,
          0.98,
          0.98,
          0.94,
          0.98,
          0.96,
          0.98,
          0.98,
          0.98,
          0.98,
          0.98,
          0.92,
          0.94,
          0.92,
          1,
          1,
          0.91,
          1,
          1,
          1,
          0.91,
          1,
          0.82,
          0.91,
          0.73,
          0.91,
          0.82,
          0.91,
          0.91,
          1,
          0.82,
          0.82,
          0.82
         ],
         "xaxis": "x",
         "yaxis": "y"
        },
        {
         "alignmentgroup": "True",
         "boxpoints": "all",
         "customdata": [
          [
           "2018_1",
           "accelerated_filer",
           "roe"
          ],
          [
           "2018_1",
           "accelerated_filer",
           "roa"
          ],
          [
           "2018_1",
           "accelerated_filer",
           "roce"
          ],
          [
           "2018_1",
           "accelerated_filer",
           "gross_margin"
          ],
          [
           "2018_1",
           "accelerated_filer",
           "operating_profit_margin"
          ],
          [
           "2018_1",
           "accelerated_filer",
           "net_profit_margin"
          ],
          [
           "2018_1",
           "accelerated_filer",
           "debt_to_equity"
          ],
          [
           "2018_1",
           "accelerated_filer",
           "equity"
          ],
          [
           "2018_1",
           "accelerated_filer",
           "debt"
          ],
          [
           "2018_1",
           "accelerated_filer",
           "current"
          ],
          [
           "2018_1",
           "accelerated_filer",
           "quick"
          ],
          [
           "2018_1",
           "accelerated_filer",
           "cash"
          ],
          [
           "2018_1",
           "accelerated_filer",
           "times_interest_earned"
          ],
          [
           "2018_1",
           "accelerated_filer",
           "capex_to_operating_cash"
          ],
          [
           "2018_1",
           "accelerated_filer",
           "operating_cash_flow"
          ],
          [
           "2018_1",
           "accelerated_filer",
           "price_to_earnings"
          ],
          [
           "2018_1",
           "accelerated_filer",
           "ev_ebitda"
          ],
          [
           "2018_1",
           "accelerated_filer",
           "ev_ebit"
          ],
          [
           "2018_1",
           "accelerated_filer",
           "ev_revenue"
          ],
          [
           "2018_1",
           "large_accelerated_filer",
           "roe"
          ],
          [
           "2018_1",
           "large_accelerated_filer",
           "roa"
          ],
          [
           "2018_1",
           "large_accelerated_filer",
           "roce"
          ],
          [
           "2018_1",
           "large_accelerated_filer",
           "gross_margin"
          ],
          [
           "2018_1",
           "large_accelerated_filer",
           "operating_profit_margin"
          ],
          [
           "2018_1",
           "large_accelerated_filer",
           "net_profit_margin"
          ],
          [
           "2018_1",
           "large_accelerated_filer",
           "debt_to_equity"
          ],
          [
           "2018_1",
           "large_accelerated_filer",
           "equity"
          ],
          [
           "2018_1",
           "large_accelerated_filer",
           "debt"
          ],
          [
           "2018_1",
           "large_accelerated_filer",
           "current"
          ],
          [
           "2018_1",
           "large_accelerated_filer",
           "quick"
          ],
          [
           "2018_1",
           "large_accelerated_filer",
           "cash"
          ],
          [
           "2018_1",
           "large_accelerated_filer",
           "times_interest_earned"
          ],
          [
           "2018_1",
           "large_accelerated_filer",
           "capex_to_operating_cash"
          ],
          [
           "2018_1",
           "large_accelerated_filer",
           "operating_cash_flow"
          ],
          [
           "2018_1",
           "large_accelerated_filer",
           "price_to_earnings"
          ],
          [
           "2018_1",
           "large_accelerated_filer",
           "ev_ebitda"
          ],
          [
           "2018_1",
           "large_accelerated_filer",
           "ev_ebit"
          ],
          [
           "2018_1",
           "large_accelerated_filer",
           "ev_revenue"
          ],
          [
           "2018_1",
           "non_accelerated_filer",
           "roe"
          ],
          [
           "2018_1",
           "non_accelerated_filer",
           "roa"
          ],
          [
           "2018_1",
           "non_accelerated_filer",
           "roce"
          ],
          [
           "2018_1",
           "non_accelerated_filer",
           "gross_margin"
          ],
          [
           "2018_1",
           "non_accelerated_filer",
           "operating_profit_margin"
          ],
          [
           "2018_1",
           "non_accelerated_filer",
           "net_profit_margin"
          ],
          [
           "2018_1",
           "non_accelerated_filer",
           "debt_to_equity"
          ],
          [
           "2018_1",
           "non_accelerated_filer",
           "equity"
          ],
          [
           "2018_1",
           "non_accelerated_filer",
           "debt"
          ],
          [
           "2018_1",
           "non_accelerated_filer",
           "current"
          ],
          [
           "2018_1",
           "non_accelerated_filer",
           "quick"
          ],
          [
           "2018_1",
           "non_accelerated_filer",
           "cash"
          ],
          [
           "2018_1",
           "non_accelerated_filer",
           "times_interest_earned"
          ],
          [
           "2018_1",
           "non_accelerated_filer",
           "capex_to_operating_cash"
          ],
          [
           "2018_1",
           "non_accelerated_filer",
           "operating_cash_flow"
          ],
          [
           "2018_1",
           "non_accelerated_filer",
           "price_to_earnings"
          ],
          [
           "2018_1",
           "non_accelerated_filer",
           "ev_ebitda"
          ],
          [
           "2018_1",
           "non_accelerated_filer",
           "ev_ebit"
          ],
          [
           "2018_1",
           "non_accelerated_filer",
           "ev_revenue"
          ]
         ],
         "fillcolor": "rgba(255,255,255,0)",
         "hoveron": "points",
         "hovertemplate": "year_q=%{customdata[0]}<br>used_to_all=%{x}<br>filer_type=%{customdata[1]}<br>kpi=%{customdata[2]}<extra></extra>",
         "jitter": 0,
         "legendgroup": "2018_1",
         "line": {
          "color": "rgba(255,255,255,0)"
         },
         "marker": {
          "color": "#ab63fa",
          "symbol": "line-ns-open"
         },
         "name": "2018_1",
         "offsetgroup": "2018_1",
         "showlegend": false,
         "type": "box",
         "x": [
          1,
          1,
          0.94,
          0.97,
          0.97,
          0.97,
          0.94,
          1,
          0.75,
          0.94,
          0.78,
          0.94,
          0.78,
          0.75,
          0.94,
          1,
          0.69,
          0.75,
          0.75,
          0.98,
          0.98,
          0.98,
          0.96,
          0.96,
          0.96,
          0.98,
          0.98,
          0.94,
          0.98,
          0.96,
          0.98,
          0.98,
          0.98,
          0.98,
          0.98,
          0.92,
          0.94,
          0.92,
          1,
          1,
          0.91,
          1,
          1,
          1,
          0.91,
          1,
          0.82,
          0.91,
          0.73,
          0.91,
          0.82,
          0.91,
          0.91,
          1,
          0.82,
          0.82,
          0.82
         ],
         "xaxis": "x2",
         "yaxis": "y2"
        },
        {
         "alignmentgroup": "True",
         "bingroup": "x",
         "hovertemplate": "year_q=2018_2<br>used_to_all=%{x}<br>count=%{y}<extra></extra>",
         "legendgroup": "2018_2",
         "marker": {
          "color": "#FFA15A",
          "pattern": {
           "shape": ""
          }
         },
         "name": "2018_2",
         "offsetgroup": "2018_2",
         "orientation": "v",
         "showlegend": true,
         "type": "histogram",
         "x": [
          0.95,
          0.95,
          0.89,
          0.89,
          0.89,
          0.89,
          0.89,
          0.95,
          0.74,
          0.89,
          0.74,
          0.89,
          0.74,
          0.76,
          0.89,
          0.95,
          0.68,
          0.74,
          0.71,
          1,
          1,
          1,
          0.98,
          0.98,
          0.98,
          1,
          1,
          0.96,
          1,
          1,
          1,
          1,
          1,
          1,
          1,
          0.94,
          0.96,
          0.94,
          0.76,
          0.76,
          0.71,
          0.76,
          0.76,
          0.76,
          0.71,
          0.76,
          0.59,
          0.71,
          0.53,
          0.71,
          0.59,
          0.65,
          0.71,
          0.76,
          0.59,
          0.59,
          0.59
         ],
         "xaxis": "x",
         "yaxis": "y"
        },
        {
         "alignmentgroup": "True",
         "boxpoints": "all",
         "customdata": [
          [
           "2018_2",
           "accelerated_filer",
           "roe"
          ],
          [
           "2018_2",
           "accelerated_filer",
           "roa"
          ],
          [
           "2018_2",
           "accelerated_filer",
           "roce"
          ],
          [
           "2018_2",
           "accelerated_filer",
           "gross_margin"
          ],
          [
           "2018_2",
           "accelerated_filer",
           "operating_profit_margin"
          ],
          [
           "2018_2",
           "accelerated_filer",
           "net_profit_margin"
          ],
          [
           "2018_2",
           "accelerated_filer",
           "debt_to_equity"
          ],
          [
           "2018_2",
           "accelerated_filer",
           "equity"
          ],
          [
           "2018_2",
           "accelerated_filer",
           "debt"
          ],
          [
           "2018_2",
           "accelerated_filer",
           "current"
          ],
          [
           "2018_2",
           "accelerated_filer",
           "quick"
          ],
          [
           "2018_2",
           "accelerated_filer",
           "cash"
          ],
          [
           "2018_2",
           "accelerated_filer",
           "times_interest_earned"
          ],
          [
           "2018_2",
           "accelerated_filer",
           "capex_to_operating_cash"
          ],
          [
           "2018_2",
           "accelerated_filer",
           "operating_cash_flow"
          ],
          [
           "2018_2",
           "accelerated_filer",
           "price_to_earnings"
          ],
          [
           "2018_2",
           "accelerated_filer",
           "ev_ebitda"
          ],
          [
           "2018_2",
           "accelerated_filer",
           "ev_ebit"
          ],
          [
           "2018_2",
           "accelerated_filer",
           "ev_revenue"
          ],
          [
           "2018_2",
           "large_accelerated_filer",
           "roe"
          ],
          [
           "2018_2",
           "large_accelerated_filer",
           "roa"
          ],
          [
           "2018_2",
           "large_accelerated_filer",
           "roce"
          ],
          [
           "2018_2",
           "large_accelerated_filer",
           "gross_margin"
          ],
          [
           "2018_2",
           "large_accelerated_filer",
           "operating_profit_margin"
          ],
          [
           "2018_2",
           "large_accelerated_filer",
           "net_profit_margin"
          ],
          [
           "2018_2",
           "large_accelerated_filer",
           "debt_to_equity"
          ],
          [
           "2018_2",
           "large_accelerated_filer",
           "equity"
          ],
          [
           "2018_2",
           "large_accelerated_filer",
           "debt"
          ],
          [
           "2018_2",
           "large_accelerated_filer",
           "current"
          ],
          [
           "2018_2",
           "large_accelerated_filer",
           "quick"
          ],
          [
           "2018_2",
           "large_accelerated_filer",
           "cash"
          ],
          [
           "2018_2",
           "large_accelerated_filer",
           "times_interest_earned"
          ],
          [
           "2018_2",
           "large_accelerated_filer",
           "capex_to_operating_cash"
          ],
          [
           "2018_2",
           "large_accelerated_filer",
           "operating_cash_flow"
          ],
          [
           "2018_2",
           "large_accelerated_filer",
           "price_to_earnings"
          ],
          [
           "2018_2",
           "large_accelerated_filer",
           "ev_ebitda"
          ],
          [
           "2018_2",
           "large_accelerated_filer",
           "ev_ebit"
          ],
          [
           "2018_2",
           "large_accelerated_filer",
           "ev_revenue"
          ],
          [
           "2018_2",
           "non_accelerated_filer",
           "roe"
          ],
          [
           "2018_2",
           "non_accelerated_filer",
           "roa"
          ],
          [
           "2018_2",
           "non_accelerated_filer",
           "roce"
          ],
          [
           "2018_2",
           "non_accelerated_filer",
           "gross_margin"
          ],
          [
           "2018_2",
           "non_accelerated_filer",
           "operating_profit_margin"
          ],
          [
           "2018_2",
           "non_accelerated_filer",
           "net_profit_margin"
          ],
          [
           "2018_2",
           "non_accelerated_filer",
           "debt_to_equity"
          ],
          [
           "2018_2",
           "non_accelerated_filer",
           "equity"
          ],
          [
           "2018_2",
           "non_accelerated_filer",
           "debt"
          ],
          [
           "2018_2",
           "non_accelerated_filer",
           "current"
          ],
          [
           "2018_2",
           "non_accelerated_filer",
           "quick"
          ],
          [
           "2018_2",
           "non_accelerated_filer",
           "cash"
          ],
          [
           "2018_2",
           "non_accelerated_filer",
           "times_interest_earned"
          ],
          [
           "2018_2",
           "non_accelerated_filer",
           "capex_to_operating_cash"
          ],
          [
           "2018_2",
           "non_accelerated_filer",
           "operating_cash_flow"
          ],
          [
           "2018_2",
           "non_accelerated_filer",
           "price_to_earnings"
          ],
          [
           "2018_2",
           "non_accelerated_filer",
           "ev_ebitda"
          ],
          [
           "2018_2",
           "non_accelerated_filer",
           "ev_ebit"
          ],
          [
           "2018_2",
           "non_accelerated_filer",
           "ev_revenue"
          ]
         ],
         "fillcolor": "rgba(255,255,255,0)",
         "hoveron": "points",
         "hovertemplate": "year_q=%{customdata[0]}<br>used_to_all=%{x}<br>filer_type=%{customdata[1]}<br>kpi=%{customdata[2]}<extra></extra>",
         "jitter": 0,
         "legendgroup": "2018_2",
         "line": {
          "color": "rgba(255,255,255,0)"
         },
         "marker": {
          "color": "#FFA15A",
          "symbol": "line-ns-open"
         },
         "name": "2018_2",
         "offsetgroup": "2018_2",
         "showlegend": false,
         "type": "box",
         "x": [
          0.95,
          0.95,
          0.89,
          0.89,
          0.89,
          0.89,
          0.89,
          0.95,
          0.74,
          0.89,
          0.74,
          0.89,
          0.74,
          0.76,
          0.89,
          0.95,
          0.68,
          0.74,
          0.71,
          1,
          1,
          1,
          0.98,
          0.98,
          0.98,
          1,
          1,
          0.96,
          1,
          1,
          1,
          1,
          1,
          1,
          1,
          0.94,
          0.96,
          0.94,
          0.76,
          0.76,
          0.71,
          0.76,
          0.76,
          0.76,
          0.71,
          0.76,
          0.59,
          0.71,
          0.53,
          0.71,
          0.59,
          0.65,
          0.71,
          0.76,
          0.59,
          0.59,
          0.59
         ],
         "xaxis": "x2",
         "yaxis": "y2"
        },
        {
         "alignmentgroup": "True",
         "bingroup": "x",
         "hovertemplate": "year_q=2018_3<br>used_to_all=%{x}<br>count=%{y}<extra></extra>",
         "legendgroup": "2018_3",
         "marker": {
          "color": "#19d3f3",
          "pattern": {
           "shape": ""
          }
         },
         "name": "2018_3",
         "offsetgroup": "2018_3",
         "orientation": "v",
         "showlegend": true,
         "type": "histogram",
         "x": [
          0.97,
          0.97,
          0.95,
          0.92,
          0.92,
          0.92,
          0.95,
          0.97,
          0.76,
          0.95,
          0.78,
          0.95,
          0.78,
          0.81,
          0.92,
          0.97,
          0.7,
          0.76,
          0.73,
          0.98,
          0.98,
          0.98,
          0.98,
          0.98,
          0.98,
          0.98,
          0.98,
          0.94,
          0.98,
          0.98,
          0.98,
          1,
          1,
          0.98,
          0.98,
          0.92,
          0.94,
          0.92,
          0.93,
          0.93,
          0.86,
          0.93,
          0.93,
          0.93,
          0.86,
          0.93,
          0.71,
          0.86,
          0.64,
          0.86,
          0.71,
          0.79,
          0.86,
          0.93,
          0.71,
          0.71,
          0.71
         ],
         "xaxis": "x",
         "yaxis": "y"
        },
        {
         "alignmentgroup": "True",
         "boxpoints": "all",
         "customdata": [
          [
           "2018_3",
           "accelerated_filer",
           "roe"
          ],
          [
           "2018_3",
           "accelerated_filer",
           "roa"
          ],
          [
           "2018_3",
           "accelerated_filer",
           "roce"
          ],
          [
           "2018_3",
           "accelerated_filer",
           "gross_margin"
          ],
          [
           "2018_3",
           "accelerated_filer",
           "operating_profit_margin"
          ],
          [
           "2018_3",
           "accelerated_filer",
           "net_profit_margin"
          ],
          [
           "2018_3",
           "accelerated_filer",
           "debt_to_equity"
          ],
          [
           "2018_3",
           "accelerated_filer",
           "equity"
          ],
          [
           "2018_3",
           "accelerated_filer",
           "debt"
          ],
          [
           "2018_3",
           "accelerated_filer",
           "current"
          ],
          [
           "2018_3",
           "accelerated_filer",
           "quick"
          ],
          [
           "2018_3",
           "accelerated_filer",
           "cash"
          ],
          [
           "2018_3",
           "accelerated_filer",
           "times_interest_earned"
          ],
          [
           "2018_3",
           "accelerated_filer",
           "capex_to_operating_cash"
          ],
          [
           "2018_3",
           "accelerated_filer",
           "operating_cash_flow"
          ],
          [
           "2018_3",
           "accelerated_filer",
           "price_to_earnings"
          ],
          [
           "2018_3",
           "accelerated_filer",
           "ev_ebitda"
          ],
          [
           "2018_3",
           "accelerated_filer",
           "ev_ebit"
          ],
          [
           "2018_3",
           "accelerated_filer",
           "ev_revenue"
          ],
          [
           "2018_3",
           "large_accelerated_filer",
           "roe"
          ],
          [
           "2018_3",
           "large_accelerated_filer",
           "roa"
          ],
          [
           "2018_3",
           "large_accelerated_filer",
           "roce"
          ],
          [
           "2018_3",
           "large_accelerated_filer",
           "gross_margin"
          ],
          [
           "2018_3",
           "large_accelerated_filer",
           "operating_profit_margin"
          ],
          [
           "2018_3",
           "large_accelerated_filer",
           "net_profit_margin"
          ],
          [
           "2018_3",
           "large_accelerated_filer",
           "debt_to_equity"
          ],
          [
           "2018_3",
           "large_accelerated_filer",
           "equity"
          ],
          [
           "2018_3",
           "large_accelerated_filer",
           "debt"
          ],
          [
           "2018_3",
           "large_accelerated_filer",
           "current"
          ],
          [
           "2018_3",
           "large_accelerated_filer",
           "quick"
          ],
          [
           "2018_3",
           "large_accelerated_filer",
           "cash"
          ],
          [
           "2018_3",
           "large_accelerated_filer",
           "times_interest_earned"
          ],
          [
           "2018_3",
           "large_accelerated_filer",
           "capex_to_operating_cash"
          ],
          [
           "2018_3",
           "large_accelerated_filer",
           "operating_cash_flow"
          ],
          [
           "2018_3",
           "large_accelerated_filer",
           "price_to_earnings"
          ],
          [
           "2018_3",
           "large_accelerated_filer",
           "ev_ebitda"
          ],
          [
           "2018_3",
           "large_accelerated_filer",
           "ev_ebit"
          ],
          [
           "2018_3",
           "large_accelerated_filer",
           "ev_revenue"
          ],
          [
           "2018_3",
           "non_accelerated_filer",
           "roe"
          ],
          [
           "2018_3",
           "non_accelerated_filer",
           "roa"
          ],
          [
           "2018_3",
           "non_accelerated_filer",
           "roce"
          ],
          [
           "2018_3",
           "non_accelerated_filer",
           "gross_margin"
          ],
          [
           "2018_3",
           "non_accelerated_filer",
           "operating_profit_margin"
          ],
          [
           "2018_3",
           "non_accelerated_filer",
           "net_profit_margin"
          ],
          [
           "2018_3",
           "non_accelerated_filer",
           "debt_to_equity"
          ],
          [
           "2018_3",
           "non_accelerated_filer",
           "equity"
          ],
          [
           "2018_3",
           "non_accelerated_filer",
           "debt"
          ],
          [
           "2018_3",
           "non_accelerated_filer",
           "current"
          ],
          [
           "2018_3",
           "non_accelerated_filer",
           "quick"
          ],
          [
           "2018_3",
           "non_accelerated_filer",
           "cash"
          ],
          [
           "2018_3",
           "non_accelerated_filer",
           "times_interest_earned"
          ],
          [
           "2018_3",
           "non_accelerated_filer",
           "capex_to_operating_cash"
          ],
          [
           "2018_3",
           "non_accelerated_filer",
           "operating_cash_flow"
          ],
          [
           "2018_3",
           "non_accelerated_filer",
           "price_to_earnings"
          ],
          [
           "2018_3",
           "non_accelerated_filer",
           "ev_ebitda"
          ],
          [
           "2018_3",
           "non_accelerated_filer",
           "ev_ebit"
          ],
          [
           "2018_3",
           "non_accelerated_filer",
           "ev_revenue"
          ]
         ],
         "fillcolor": "rgba(255,255,255,0)",
         "hoveron": "points",
         "hovertemplate": "year_q=%{customdata[0]}<br>used_to_all=%{x}<br>filer_type=%{customdata[1]}<br>kpi=%{customdata[2]}<extra></extra>",
         "jitter": 0,
         "legendgroup": "2018_3",
         "line": {
          "color": "rgba(255,255,255,0)"
         },
         "marker": {
          "color": "#19d3f3",
          "symbol": "line-ns-open"
         },
         "name": "2018_3",
         "offsetgroup": "2018_3",
         "showlegend": false,
         "type": "box",
         "x": [
          0.97,
          0.97,
          0.95,
          0.92,
          0.92,
          0.92,
          0.95,
          0.97,
          0.76,
          0.95,
          0.78,
          0.95,
          0.78,
          0.81,
          0.92,
          0.97,
          0.7,
          0.76,
          0.73,
          0.98,
          0.98,
          0.98,
          0.98,
          0.98,
          0.98,
          0.98,
          0.98,
          0.94,
          0.98,
          0.98,
          0.98,
          1,
          1,
          0.98,
          0.98,
          0.92,
          0.94,
          0.92,
          0.93,
          0.93,
          0.86,
          0.93,
          0.93,
          0.93,
          0.86,
          0.93,
          0.71,
          0.86,
          0.64,
          0.86,
          0.71,
          0.79,
          0.86,
          0.93,
          0.71,
          0.71,
          0.71
         ],
         "xaxis": "x2",
         "yaxis": "y2"
        },
        {
         "alignmentgroup": "True",
         "bingroup": "x",
         "hovertemplate": "year_q=2018_4<br>used_to_all=%{x}<br>count=%{y}<extra></extra>",
         "legendgroup": "2018_4",
         "marker": {
          "color": "#FF6692",
          "pattern": {
           "shape": ""
          }
         },
         "name": "2018_4",
         "offsetgroup": "2018_4",
         "orientation": "v",
         "showlegend": true,
         "type": "histogram",
         "x": [
          1,
          1,
          0.95,
          0.97,
          0.97,
          0.97,
          0.95,
          1,
          0.73,
          0.95,
          0.78,
          0.95,
          0.78,
          0.78,
          0.95,
          1,
          0.68,
          0.73,
          0.73,
          1,
          1,
          1,
          0.98,
          0.98,
          0.98,
          1,
          1,
          0.96,
          1,
          0.98,
          0.98,
          1,
          1,
          1,
          1,
          0.92,
          0.94,
          0.92,
          0.93,
          0.93,
          0.86,
          0.93,
          0.93,
          0.93,
          0.86,
          0.93,
          0.71,
          0.86,
          0.64,
          0.86,
          0.71,
          0.79,
          0.86,
          0.93,
          0.71,
          0.71,
          0.71
         ],
         "xaxis": "x",
         "yaxis": "y"
        },
        {
         "alignmentgroup": "True",
         "boxpoints": "all",
         "customdata": [
          [
           "2018_4",
           "accelerated_filer",
           "roe"
          ],
          [
           "2018_4",
           "accelerated_filer",
           "roa"
          ],
          [
           "2018_4",
           "accelerated_filer",
           "roce"
          ],
          [
           "2018_4",
           "accelerated_filer",
           "gross_margin"
          ],
          [
           "2018_4",
           "accelerated_filer",
           "operating_profit_margin"
          ],
          [
           "2018_4",
           "accelerated_filer",
           "net_profit_margin"
          ],
          [
           "2018_4",
           "accelerated_filer",
           "debt_to_equity"
          ],
          [
           "2018_4",
           "accelerated_filer",
           "equity"
          ],
          [
           "2018_4",
           "accelerated_filer",
           "debt"
          ],
          [
           "2018_4",
           "accelerated_filer",
           "current"
          ],
          [
           "2018_4",
           "accelerated_filer",
           "quick"
          ],
          [
           "2018_4",
           "accelerated_filer",
           "cash"
          ],
          [
           "2018_4",
           "accelerated_filer",
           "times_interest_earned"
          ],
          [
           "2018_4",
           "accelerated_filer",
           "capex_to_operating_cash"
          ],
          [
           "2018_4",
           "accelerated_filer",
           "operating_cash_flow"
          ],
          [
           "2018_4",
           "accelerated_filer",
           "price_to_earnings"
          ],
          [
           "2018_4",
           "accelerated_filer",
           "ev_ebitda"
          ],
          [
           "2018_4",
           "accelerated_filer",
           "ev_ebit"
          ],
          [
           "2018_4",
           "accelerated_filer",
           "ev_revenue"
          ],
          [
           "2018_4",
           "large_accelerated_filer",
           "roe"
          ],
          [
           "2018_4",
           "large_accelerated_filer",
           "roa"
          ],
          [
           "2018_4",
           "large_accelerated_filer",
           "roce"
          ],
          [
           "2018_4",
           "large_accelerated_filer",
           "gross_margin"
          ],
          [
           "2018_4",
           "large_accelerated_filer",
           "operating_profit_margin"
          ],
          [
           "2018_4",
           "large_accelerated_filer",
           "net_profit_margin"
          ],
          [
           "2018_4",
           "large_accelerated_filer",
           "debt_to_equity"
          ],
          [
           "2018_4",
           "large_accelerated_filer",
           "equity"
          ],
          [
           "2018_4",
           "large_accelerated_filer",
           "debt"
          ],
          [
           "2018_4",
           "large_accelerated_filer",
           "current"
          ],
          [
           "2018_4",
           "large_accelerated_filer",
           "quick"
          ],
          [
           "2018_4",
           "large_accelerated_filer",
           "cash"
          ],
          [
           "2018_4",
           "large_accelerated_filer",
           "times_interest_earned"
          ],
          [
           "2018_4",
           "large_accelerated_filer",
           "capex_to_operating_cash"
          ],
          [
           "2018_4",
           "large_accelerated_filer",
           "operating_cash_flow"
          ],
          [
           "2018_4",
           "large_accelerated_filer",
           "price_to_earnings"
          ],
          [
           "2018_4",
           "large_accelerated_filer",
           "ev_ebitda"
          ],
          [
           "2018_4",
           "large_accelerated_filer",
           "ev_ebit"
          ],
          [
           "2018_4",
           "large_accelerated_filer",
           "ev_revenue"
          ],
          [
           "2018_4",
           "non_accelerated_filer",
           "roe"
          ],
          [
           "2018_4",
           "non_accelerated_filer",
           "roa"
          ],
          [
           "2018_4",
           "non_accelerated_filer",
           "roce"
          ],
          [
           "2018_4",
           "non_accelerated_filer",
           "gross_margin"
          ],
          [
           "2018_4",
           "non_accelerated_filer",
           "operating_profit_margin"
          ],
          [
           "2018_4",
           "non_accelerated_filer",
           "net_profit_margin"
          ],
          [
           "2018_4",
           "non_accelerated_filer",
           "debt_to_equity"
          ],
          [
           "2018_4",
           "non_accelerated_filer",
           "equity"
          ],
          [
           "2018_4",
           "non_accelerated_filer",
           "debt"
          ],
          [
           "2018_4",
           "non_accelerated_filer",
           "current"
          ],
          [
           "2018_4",
           "non_accelerated_filer",
           "quick"
          ],
          [
           "2018_4",
           "non_accelerated_filer",
           "cash"
          ],
          [
           "2018_4",
           "non_accelerated_filer",
           "times_interest_earned"
          ],
          [
           "2018_4",
           "non_accelerated_filer",
           "capex_to_operating_cash"
          ],
          [
           "2018_4",
           "non_accelerated_filer",
           "operating_cash_flow"
          ],
          [
           "2018_4",
           "non_accelerated_filer",
           "price_to_earnings"
          ],
          [
           "2018_4",
           "non_accelerated_filer",
           "ev_ebitda"
          ],
          [
           "2018_4",
           "non_accelerated_filer",
           "ev_ebit"
          ],
          [
           "2018_4",
           "non_accelerated_filer",
           "ev_revenue"
          ]
         ],
         "fillcolor": "rgba(255,255,255,0)",
         "hoveron": "points",
         "hovertemplate": "year_q=%{customdata[0]}<br>used_to_all=%{x}<br>filer_type=%{customdata[1]}<br>kpi=%{customdata[2]}<extra></extra>",
         "jitter": 0,
         "legendgroup": "2018_4",
         "line": {
          "color": "rgba(255,255,255,0)"
         },
         "marker": {
          "color": "#FF6692",
          "symbol": "line-ns-open"
         },
         "name": "2018_4",
         "offsetgroup": "2018_4",
         "showlegend": false,
         "type": "box",
         "x": [
          1,
          1,
          0.95,
          0.97,
          0.97,
          0.97,
          0.95,
          1,
          0.73,
          0.95,
          0.78,
          0.95,
          0.78,
          0.78,
          0.95,
          1,
          0.68,
          0.73,
          0.73,
          1,
          1,
          1,
          0.98,
          0.98,
          0.98,
          1,
          1,
          0.96,
          1,
          0.98,
          0.98,
          1,
          1,
          1,
          1,
          0.92,
          0.94,
          0.92,
          0.93,
          0.93,
          0.86,
          0.93,
          0.93,
          0.93,
          0.86,
          0.93,
          0.71,
          0.86,
          0.64,
          0.86,
          0.71,
          0.79,
          0.86,
          0.93,
          0.71,
          0.71,
          0.71
         ],
         "xaxis": "x2",
         "yaxis": "y2"
        },
        {
         "alignmentgroup": "True",
         "bingroup": "x",
         "hovertemplate": "year_q=2019_1<br>used_to_all=%{x}<br>count=%{y}<extra></extra>",
         "legendgroup": "2019_1",
         "marker": {
          "color": "#B6E880",
          "pattern": {
           "shape": ""
          }
         },
         "name": "2019_1",
         "offsetgroup": "2019_1",
         "orientation": "v",
         "showlegend": true,
         "type": "histogram",
         "x": [
          0.86,
          0.86,
          0.83,
          0.83,
          0.83,
          0.83,
          0.83,
          0.86,
          0.66,
          0.83,
          0.69,
          0.83,
          0.69,
          0.71,
          0.83,
          0.86,
          0.63,
          0.66,
          0.66,
          0.96,
          0.98,
          0.98,
          0.98,
          0.98,
          0.98,
          0.96,
          0.96,
          0.94,
          0.98,
          0.96,
          0.96,
          0.98,
          0.98,
          0.98,
          0.98,
          0.89,
          0.93,
          0.93,
          1,
          1,
          0.86,
          1,
          1,
          1,
          0.86,
          1,
          0.86,
          0.86,
          0.71,
          0.86,
          0.86,
          0.86,
          0.86,
          1,
          0.86,
          0.86,
          0.86
         ],
         "xaxis": "x",
         "yaxis": "y"
        },
        {
         "alignmentgroup": "True",
         "boxpoints": "all",
         "customdata": [
          [
           "2019_1",
           "accelerated_filer",
           "roe"
          ],
          [
           "2019_1",
           "accelerated_filer",
           "roa"
          ],
          [
           "2019_1",
           "accelerated_filer",
           "roce"
          ],
          [
           "2019_1",
           "accelerated_filer",
           "gross_margin"
          ],
          [
           "2019_1",
           "accelerated_filer",
           "operating_profit_margin"
          ],
          [
           "2019_1",
           "accelerated_filer",
           "net_profit_margin"
          ],
          [
           "2019_1",
           "accelerated_filer",
           "debt_to_equity"
          ],
          [
           "2019_1",
           "accelerated_filer",
           "equity"
          ],
          [
           "2019_1",
           "accelerated_filer",
           "debt"
          ],
          [
           "2019_1",
           "accelerated_filer",
           "current"
          ],
          [
           "2019_1",
           "accelerated_filer",
           "quick"
          ],
          [
           "2019_1",
           "accelerated_filer",
           "cash"
          ],
          [
           "2019_1",
           "accelerated_filer",
           "times_interest_earned"
          ],
          [
           "2019_1",
           "accelerated_filer",
           "capex_to_operating_cash"
          ],
          [
           "2019_1",
           "accelerated_filer",
           "operating_cash_flow"
          ],
          [
           "2019_1",
           "accelerated_filer",
           "price_to_earnings"
          ],
          [
           "2019_1",
           "accelerated_filer",
           "ev_ebitda"
          ],
          [
           "2019_1",
           "accelerated_filer",
           "ev_ebit"
          ],
          [
           "2019_1",
           "accelerated_filer",
           "ev_revenue"
          ],
          [
           "2019_1",
           "large_accelerated_filer",
           "roe"
          ],
          [
           "2019_1",
           "large_accelerated_filer",
           "roa"
          ],
          [
           "2019_1",
           "large_accelerated_filer",
           "roce"
          ],
          [
           "2019_1",
           "large_accelerated_filer",
           "gross_margin"
          ],
          [
           "2019_1",
           "large_accelerated_filer",
           "operating_profit_margin"
          ],
          [
           "2019_1",
           "large_accelerated_filer",
           "net_profit_margin"
          ],
          [
           "2019_1",
           "large_accelerated_filer",
           "debt_to_equity"
          ],
          [
           "2019_1",
           "large_accelerated_filer",
           "equity"
          ],
          [
           "2019_1",
           "large_accelerated_filer",
           "debt"
          ],
          [
           "2019_1",
           "large_accelerated_filer",
           "current"
          ],
          [
           "2019_1",
           "large_accelerated_filer",
           "quick"
          ],
          [
           "2019_1",
           "large_accelerated_filer",
           "cash"
          ],
          [
           "2019_1",
           "large_accelerated_filer",
           "times_interest_earned"
          ],
          [
           "2019_1",
           "large_accelerated_filer",
           "capex_to_operating_cash"
          ],
          [
           "2019_1",
           "large_accelerated_filer",
           "operating_cash_flow"
          ],
          [
           "2019_1",
           "large_accelerated_filer",
           "price_to_earnings"
          ],
          [
           "2019_1",
           "large_accelerated_filer",
           "ev_ebitda"
          ],
          [
           "2019_1",
           "large_accelerated_filer",
           "ev_ebit"
          ],
          [
           "2019_1",
           "large_accelerated_filer",
           "ev_revenue"
          ],
          [
           "2019_1",
           "non_accelerated_filer",
           "roe"
          ],
          [
           "2019_1",
           "non_accelerated_filer",
           "roa"
          ],
          [
           "2019_1",
           "non_accelerated_filer",
           "roce"
          ],
          [
           "2019_1",
           "non_accelerated_filer",
           "gross_margin"
          ],
          [
           "2019_1",
           "non_accelerated_filer",
           "operating_profit_margin"
          ],
          [
           "2019_1",
           "non_accelerated_filer",
           "net_profit_margin"
          ],
          [
           "2019_1",
           "non_accelerated_filer",
           "debt_to_equity"
          ],
          [
           "2019_1",
           "non_accelerated_filer",
           "equity"
          ],
          [
           "2019_1",
           "non_accelerated_filer",
           "debt"
          ],
          [
           "2019_1",
           "non_accelerated_filer",
           "current"
          ],
          [
           "2019_1",
           "non_accelerated_filer",
           "quick"
          ],
          [
           "2019_1",
           "non_accelerated_filer",
           "cash"
          ],
          [
           "2019_1",
           "non_accelerated_filer",
           "times_interest_earned"
          ],
          [
           "2019_1",
           "non_accelerated_filer",
           "capex_to_operating_cash"
          ],
          [
           "2019_1",
           "non_accelerated_filer",
           "operating_cash_flow"
          ],
          [
           "2019_1",
           "non_accelerated_filer",
           "price_to_earnings"
          ],
          [
           "2019_1",
           "non_accelerated_filer",
           "ev_ebitda"
          ],
          [
           "2019_1",
           "non_accelerated_filer",
           "ev_ebit"
          ],
          [
           "2019_1",
           "non_accelerated_filer",
           "ev_revenue"
          ]
         ],
         "fillcolor": "rgba(255,255,255,0)",
         "hoveron": "points",
         "hovertemplate": "year_q=%{customdata[0]}<br>used_to_all=%{x}<br>filer_type=%{customdata[1]}<br>kpi=%{customdata[2]}<extra></extra>",
         "jitter": 0,
         "legendgroup": "2019_1",
         "line": {
          "color": "rgba(255,255,255,0)"
         },
         "marker": {
          "color": "#B6E880",
          "symbol": "line-ns-open"
         },
         "name": "2019_1",
         "offsetgroup": "2019_1",
         "showlegend": false,
         "type": "box",
         "x": [
          0.86,
          0.86,
          0.83,
          0.83,
          0.83,
          0.83,
          0.83,
          0.86,
          0.66,
          0.83,
          0.69,
          0.83,
          0.69,
          0.71,
          0.83,
          0.86,
          0.63,
          0.66,
          0.66,
          0.96,
          0.98,
          0.98,
          0.98,
          0.98,
          0.98,
          0.96,
          0.96,
          0.94,
          0.98,
          0.96,
          0.96,
          0.98,
          0.98,
          0.98,
          0.98,
          0.89,
          0.93,
          0.93,
          1,
          1,
          0.86,
          1,
          1,
          1,
          0.86,
          1,
          0.86,
          0.86,
          0.71,
          0.86,
          0.86,
          0.86,
          0.86,
          1,
          0.86,
          0.86,
          0.86
         ],
         "xaxis": "x2",
         "yaxis": "y2"
        },
        {
         "alignmentgroup": "True",
         "bingroup": "x",
         "hovertemplate": "year_q=2019_2<br>used_to_all=%{x}<br>count=%{y}<extra></extra>",
         "legendgroup": "2019_2",
         "marker": {
          "color": "#FF97FF",
          "pattern": {
           "shape": ""
          }
         },
         "name": "2019_2",
         "offsetgroup": "2019_2",
         "orientation": "v",
         "showlegend": true,
         "type": "histogram",
         "x": [
          0.97,
          0.97,
          0.91,
          0.94,
          0.94,
          0.94,
          0.91,
          0.97,
          0.77,
          0.91,
          0.71,
          0.91,
          0.77,
          0.77,
          0.91,
          0.97,
          0.77,
          0.77,
          0.74,
          1,
          1,
          1,
          1,
          1,
          1,
          1,
          1,
          1,
          1,
          0.98,
          0.98,
          1,
          1,
          1,
          1,
          0.93,
          0.98,
          0.98,
          0.73,
          0.73,
          0.64,
          0.73,
          0.73,
          0.73,
          0.64,
          0.73,
          0.55,
          0.64,
          0.45,
          0.64,
          0.55,
          0.55,
          0.64,
          0.73,
          0.55,
          0.55,
          0.55
         ],
         "xaxis": "x",
         "yaxis": "y"
        },
        {
         "alignmentgroup": "True",
         "boxpoints": "all",
         "customdata": [
          [
           "2019_2",
           "accelerated_filer",
           "roe"
          ],
          [
           "2019_2",
           "accelerated_filer",
           "roa"
          ],
          [
           "2019_2",
           "accelerated_filer",
           "roce"
          ],
          [
           "2019_2",
           "accelerated_filer",
           "gross_margin"
          ],
          [
           "2019_2",
           "accelerated_filer",
           "operating_profit_margin"
          ],
          [
           "2019_2",
           "accelerated_filer",
           "net_profit_margin"
          ],
          [
           "2019_2",
           "accelerated_filer",
           "debt_to_equity"
          ],
          [
           "2019_2",
           "accelerated_filer",
           "equity"
          ],
          [
           "2019_2",
           "accelerated_filer",
           "debt"
          ],
          [
           "2019_2",
           "accelerated_filer",
           "current"
          ],
          [
           "2019_2",
           "accelerated_filer",
           "quick"
          ],
          [
           "2019_2",
           "accelerated_filer",
           "cash"
          ],
          [
           "2019_2",
           "accelerated_filer",
           "times_interest_earned"
          ],
          [
           "2019_2",
           "accelerated_filer",
           "capex_to_operating_cash"
          ],
          [
           "2019_2",
           "accelerated_filer",
           "operating_cash_flow"
          ],
          [
           "2019_2",
           "accelerated_filer",
           "price_to_earnings"
          ],
          [
           "2019_2",
           "accelerated_filer",
           "ev_ebitda"
          ],
          [
           "2019_2",
           "accelerated_filer",
           "ev_ebit"
          ],
          [
           "2019_2",
           "accelerated_filer",
           "ev_revenue"
          ],
          [
           "2019_2",
           "large_accelerated_filer",
           "roe"
          ],
          [
           "2019_2",
           "large_accelerated_filer",
           "roa"
          ],
          [
           "2019_2",
           "large_accelerated_filer",
           "roce"
          ],
          [
           "2019_2",
           "large_accelerated_filer",
           "gross_margin"
          ],
          [
           "2019_2",
           "large_accelerated_filer",
           "operating_profit_margin"
          ],
          [
           "2019_2",
           "large_accelerated_filer",
           "net_profit_margin"
          ],
          [
           "2019_2",
           "large_accelerated_filer",
           "debt_to_equity"
          ],
          [
           "2019_2",
           "large_accelerated_filer",
           "equity"
          ],
          [
           "2019_2",
           "large_accelerated_filer",
           "debt"
          ],
          [
           "2019_2",
           "large_accelerated_filer",
           "current"
          ],
          [
           "2019_2",
           "large_accelerated_filer",
           "quick"
          ],
          [
           "2019_2",
           "large_accelerated_filer",
           "cash"
          ],
          [
           "2019_2",
           "large_accelerated_filer",
           "times_interest_earned"
          ],
          [
           "2019_2",
           "large_accelerated_filer",
           "capex_to_operating_cash"
          ],
          [
           "2019_2",
           "large_accelerated_filer",
           "operating_cash_flow"
          ],
          [
           "2019_2",
           "large_accelerated_filer",
           "price_to_earnings"
          ],
          [
           "2019_2",
           "large_accelerated_filer",
           "ev_ebitda"
          ],
          [
           "2019_2",
           "large_accelerated_filer",
           "ev_ebit"
          ],
          [
           "2019_2",
           "large_accelerated_filer",
           "ev_revenue"
          ],
          [
           "2019_2",
           "non_accelerated_filer",
           "roe"
          ],
          [
           "2019_2",
           "non_accelerated_filer",
           "roa"
          ],
          [
           "2019_2",
           "non_accelerated_filer",
           "roce"
          ],
          [
           "2019_2",
           "non_accelerated_filer",
           "gross_margin"
          ],
          [
           "2019_2",
           "non_accelerated_filer",
           "operating_profit_margin"
          ],
          [
           "2019_2",
           "non_accelerated_filer",
           "net_profit_margin"
          ],
          [
           "2019_2",
           "non_accelerated_filer",
           "debt_to_equity"
          ],
          [
           "2019_2",
           "non_accelerated_filer",
           "equity"
          ],
          [
           "2019_2",
           "non_accelerated_filer",
           "debt"
          ],
          [
           "2019_2",
           "non_accelerated_filer",
           "current"
          ],
          [
           "2019_2",
           "non_accelerated_filer",
           "quick"
          ],
          [
           "2019_2",
           "non_accelerated_filer",
           "cash"
          ],
          [
           "2019_2",
           "non_accelerated_filer",
           "times_interest_earned"
          ],
          [
           "2019_2",
           "non_accelerated_filer",
           "capex_to_operating_cash"
          ],
          [
           "2019_2",
           "non_accelerated_filer",
           "operating_cash_flow"
          ],
          [
           "2019_2",
           "non_accelerated_filer",
           "price_to_earnings"
          ],
          [
           "2019_2",
           "non_accelerated_filer",
           "ev_ebitda"
          ],
          [
           "2019_2",
           "non_accelerated_filer",
           "ev_ebit"
          ],
          [
           "2019_2",
           "non_accelerated_filer",
           "ev_revenue"
          ]
         ],
         "fillcolor": "rgba(255,255,255,0)",
         "hoveron": "points",
         "hovertemplate": "year_q=%{customdata[0]}<br>used_to_all=%{x}<br>filer_type=%{customdata[1]}<br>kpi=%{customdata[2]}<extra></extra>",
         "jitter": 0,
         "legendgroup": "2019_2",
         "line": {
          "color": "rgba(255,255,255,0)"
         },
         "marker": {
          "color": "#FF97FF",
          "symbol": "line-ns-open"
         },
         "name": "2019_2",
         "offsetgroup": "2019_2",
         "showlegend": false,
         "type": "box",
         "x": [
          0.97,
          0.97,
          0.91,
          0.94,
          0.94,
          0.94,
          0.91,
          0.97,
          0.77,
          0.91,
          0.71,
          0.91,
          0.77,
          0.77,
          0.91,
          0.97,
          0.77,
          0.77,
          0.74,
          1,
          1,
          1,
          1,
          1,
          1,
          1,
          1,
          1,
          1,
          0.98,
          0.98,
          1,
          1,
          1,
          1,
          0.93,
          0.98,
          0.98,
          0.73,
          0.73,
          0.64,
          0.73,
          0.73,
          0.73,
          0.64,
          0.73,
          0.55,
          0.64,
          0.45,
          0.64,
          0.55,
          0.55,
          0.64,
          0.73,
          0.55,
          0.55,
          0.55
         ],
         "xaxis": "x2",
         "yaxis": "y2"
        },
        {
         "alignmentgroup": "True",
         "bingroup": "x",
         "hovertemplate": "year_q=2019_3<br>used_to_all=%{x}<br>count=%{y}<extra></extra>",
         "legendgroup": "2019_3",
         "marker": {
          "color": "#FECB52",
          "pattern": {
           "shape": ""
          }
         },
         "name": "2019_3",
         "offsetgroup": "2019_3",
         "orientation": "v",
         "showlegend": true,
         "type": "histogram",
         "x": [
          0.97,
          1,
          0.94,
          0.97,
          0.97,
          0.97,
          0.94,
          0.97,
          0.8,
          0.94,
          0.74,
          0.94,
          0.77,
          0.8,
          0.91,
          1,
          0.8,
          0.8,
          0.77,
          1,
          1,
          1,
          1,
          1,
          1,
          1,
          1,
          0.98,
          1,
          0.98,
          0.98,
          0.98,
          1,
          1,
          1,
          0.93,
          0.96,
          0.96,
          0.8,
          0.8,
          0.7,
          0.8,
          0.8,
          0.8,
          0.7,
          0.8,
          0.6,
          0.7,
          0.5,
          0.7,
          0.6,
          0.6,
          0.7,
          0.8,
          0.6,
          0.6,
          0.6
         ],
         "xaxis": "x",
         "yaxis": "y"
        },
        {
         "alignmentgroup": "True",
         "boxpoints": "all",
         "customdata": [
          [
           "2019_3",
           "accelerated_filer",
           "roe"
          ],
          [
           "2019_3",
           "accelerated_filer",
           "roa"
          ],
          [
           "2019_3",
           "accelerated_filer",
           "roce"
          ],
          [
           "2019_3",
           "accelerated_filer",
           "gross_margin"
          ],
          [
           "2019_3",
           "accelerated_filer",
           "operating_profit_margin"
          ],
          [
           "2019_3",
           "accelerated_filer",
           "net_profit_margin"
          ],
          [
           "2019_3",
           "accelerated_filer",
           "debt_to_equity"
          ],
          [
           "2019_3",
           "accelerated_filer",
           "equity"
          ],
          [
           "2019_3",
           "accelerated_filer",
           "debt"
          ],
          [
           "2019_3",
           "accelerated_filer",
           "current"
          ],
          [
           "2019_3",
           "accelerated_filer",
           "quick"
          ],
          [
           "2019_3",
           "accelerated_filer",
           "cash"
          ],
          [
           "2019_3",
           "accelerated_filer",
           "times_interest_earned"
          ],
          [
           "2019_3",
           "accelerated_filer",
           "capex_to_operating_cash"
          ],
          [
           "2019_3",
           "accelerated_filer",
           "operating_cash_flow"
          ],
          [
           "2019_3",
           "accelerated_filer",
           "price_to_earnings"
          ],
          [
           "2019_3",
           "accelerated_filer",
           "ev_ebitda"
          ],
          [
           "2019_3",
           "accelerated_filer",
           "ev_ebit"
          ],
          [
           "2019_3",
           "accelerated_filer",
           "ev_revenue"
          ],
          [
           "2019_3",
           "large_accelerated_filer",
           "roe"
          ],
          [
           "2019_3",
           "large_accelerated_filer",
           "roa"
          ],
          [
           "2019_3",
           "large_accelerated_filer",
           "roce"
          ],
          [
           "2019_3",
           "large_accelerated_filer",
           "gross_margin"
          ],
          [
           "2019_3",
           "large_accelerated_filer",
           "operating_profit_margin"
          ],
          [
           "2019_3",
           "large_accelerated_filer",
           "net_profit_margin"
          ],
          [
           "2019_3",
           "large_accelerated_filer",
           "debt_to_equity"
          ],
          [
           "2019_3",
           "large_accelerated_filer",
           "equity"
          ],
          [
           "2019_3",
           "large_accelerated_filer",
           "debt"
          ],
          [
           "2019_3",
           "large_accelerated_filer",
           "current"
          ],
          [
           "2019_3",
           "large_accelerated_filer",
           "quick"
          ],
          [
           "2019_3",
           "large_accelerated_filer",
           "cash"
          ],
          [
           "2019_3",
           "large_accelerated_filer",
           "times_interest_earned"
          ],
          [
           "2019_3",
           "large_accelerated_filer",
           "capex_to_operating_cash"
          ],
          [
           "2019_3",
           "large_accelerated_filer",
           "operating_cash_flow"
          ],
          [
           "2019_3",
           "large_accelerated_filer",
           "price_to_earnings"
          ],
          [
           "2019_3",
           "large_accelerated_filer",
           "ev_ebitda"
          ],
          [
           "2019_3",
           "large_accelerated_filer",
           "ev_ebit"
          ],
          [
           "2019_3",
           "large_accelerated_filer",
           "ev_revenue"
          ],
          [
           "2019_3",
           "non_accelerated_filer",
           "roe"
          ],
          [
           "2019_3",
           "non_accelerated_filer",
           "roa"
          ],
          [
           "2019_3",
           "non_accelerated_filer",
           "roce"
          ],
          [
           "2019_3",
           "non_accelerated_filer",
           "gross_margin"
          ],
          [
           "2019_3",
           "non_accelerated_filer",
           "operating_profit_margin"
          ],
          [
           "2019_3",
           "non_accelerated_filer",
           "net_profit_margin"
          ],
          [
           "2019_3",
           "non_accelerated_filer",
           "debt_to_equity"
          ],
          [
           "2019_3",
           "non_accelerated_filer",
           "equity"
          ],
          [
           "2019_3",
           "non_accelerated_filer",
           "debt"
          ],
          [
           "2019_3",
           "non_accelerated_filer",
           "current"
          ],
          [
           "2019_3",
           "non_accelerated_filer",
           "quick"
          ],
          [
           "2019_3",
           "non_accelerated_filer",
           "cash"
          ],
          [
           "2019_3",
           "non_accelerated_filer",
           "times_interest_earned"
          ],
          [
           "2019_3",
           "non_accelerated_filer",
           "capex_to_operating_cash"
          ],
          [
           "2019_3",
           "non_accelerated_filer",
           "operating_cash_flow"
          ],
          [
           "2019_3",
           "non_accelerated_filer",
           "price_to_earnings"
          ],
          [
           "2019_3",
           "non_accelerated_filer",
           "ev_ebitda"
          ],
          [
           "2019_3",
           "non_accelerated_filer",
           "ev_ebit"
          ],
          [
           "2019_3",
           "non_accelerated_filer",
           "ev_revenue"
          ]
         ],
         "fillcolor": "rgba(255,255,255,0)",
         "hoveron": "points",
         "hovertemplate": "year_q=%{customdata[0]}<br>used_to_all=%{x}<br>filer_type=%{customdata[1]}<br>kpi=%{customdata[2]}<extra></extra>",
         "jitter": 0,
         "legendgroup": "2019_3",
         "line": {
          "color": "rgba(255,255,255,0)"
         },
         "marker": {
          "color": "#FECB52",
          "symbol": "line-ns-open"
         },
         "name": "2019_3",
         "offsetgroup": "2019_3",
         "showlegend": false,
         "type": "box",
         "x": [
          0.97,
          1,
          0.94,
          0.97,
          0.97,
          0.97,
          0.94,
          0.97,
          0.8,
          0.94,
          0.74,
          0.94,
          0.77,
          0.8,
          0.91,
          1,
          0.8,
          0.8,
          0.77,
          1,
          1,
          1,
          1,
          1,
          1,
          1,
          1,
          0.98,
          1,
          0.98,
          0.98,
          0.98,
          1,
          1,
          1,
          0.93,
          0.96,
          0.96,
          0.8,
          0.8,
          0.7,
          0.8,
          0.8,
          0.8,
          0.7,
          0.8,
          0.6,
          0.7,
          0.5,
          0.7,
          0.6,
          0.6,
          0.7,
          0.8,
          0.6,
          0.6,
          0.6
         ],
         "xaxis": "x2",
         "yaxis": "y2"
        },
        {
         "alignmentgroup": "True",
         "bingroup": "x",
         "hovertemplate": "year_q=2019_4<br>used_to_all=%{x}<br>count=%{y}<extra></extra>",
         "legendgroup": "2019_4",
         "marker": {
          "color": "#636efa",
          "pattern": {
           "shape": ""
          }
         },
         "name": "2019_4",
         "offsetgroup": "2019_4",
         "orientation": "v",
         "showlegend": true,
         "type": "histogram",
         "x": [
          0.74,
          0.77,
          0.77,
          0.74,
          0.74,
          0.74,
          0.74,
          0.74,
          0.69,
          0.77,
          0.63,
          0.77,
          0.66,
          0.69,
          0.74,
          0.77,
          0.69,
          0.69,
          0.66,
          0.98,
          0.98,
          0.98,
          0.98,
          0.98,
          0.98,
          0.98,
          0.98,
          0.96,
          0.98,
          0.96,
          0.96,
          0.98,
          0.98,
          0.98,
          0.98,
          0.91,
          0.94,
          0.94,
          0.91,
          1,
          0.91,
          1,
          1,
          1,
          0.82,
          0.91,
          0.82,
          0.91,
          0.64,
          0.82,
          0.82,
          0.82,
          0.91,
          1,
          0.73,
          0.73,
          0.73
         ],
         "xaxis": "x",
         "yaxis": "y"
        },
        {
         "alignmentgroup": "True",
         "boxpoints": "all",
         "customdata": [
          [
           "2019_4",
           "accelerated_filer",
           "roe"
          ],
          [
           "2019_4",
           "accelerated_filer",
           "roa"
          ],
          [
           "2019_4",
           "accelerated_filer",
           "roce"
          ],
          [
           "2019_4",
           "accelerated_filer",
           "gross_margin"
          ],
          [
           "2019_4",
           "accelerated_filer",
           "operating_profit_margin"
          ],
          [
           "2019_4",
           "accelerated_filer",
           "net_profit_margin"
          ],
          [
           "2019_4",
           "accelerated_filer",
           "debt_to_equity"
          ],
          [
           "2019_4",
           "accelerated_filer",
           "equity"
          ],
          [
           "2019_4",
           "accelerated_filer",
           "debt"
          ],
          [
           "2019_4",
           "accelerated_filer",
           "current"
          ],
          [
           "2019_4",
           "accelerated_filer",
           "quick"
          ],
          [
           "2019_4",
           "accelerated_filer",
           "cash"
          ],
          [
           "2019_4",
           "accelerated_filer",
           "times_interest_earned"
          ],
          [
           "2019_4",
           "accelerated_filer",
           "capex_to_operating_cash"
          ],
          [
           "2019_4",
           "accelerated_filer",
           "operating_cash_flow"
          ],
          [
           "2019_4",
           "accelerated_filer",
           "price_to_earnings"
          ],
          [
           "2019_4",
           "accelerated_filer",
           "ev_ebitda"
          ],
          [
           "2019_4",
           "accelerated_filer",
           "ev_ebit"
          ],
          [
           "2019_4",
           "accelerated_filer",
           "ev_revenue"
          ],
          [
           "2019_4",
           "large_accelerated_filer",
           "roe"
          ],
          [
           "2019_4",
           "large_accelerated_filer",
           "roa"
          ],
          [
           "2019_4",
           "large_accelerated_filer",
           "roce"
          ],
          [
           "2019_4",
           "large_accelerated_filer",
           "gross_margin"
          ],
          [
           "2019_4",
           "large_accelerated_filer",
           "operating_profit_margin"
          ],
          [
           "2019_4",
           "large_accelerated_filer",
           "net_profit_margin"
          ],
          [
           "2019_4",
           "large_accelerated_filer",
           "debt_to_equity"
          ],
          [
           "2019_4",
           "large_accelerated_filer",
           "equity"
          ],
          [
           "2019_4",
           "large_accelerated_filer",
           "debt"
          ],
          [
           "2019_4",
           "large_accelerated_filer",
           "current"
          ],
          [
           "2019_4",
           "large_accelerated_filer",
           "quick"
          ],
          [
           "2019_4",
           "large_accelerated_filer",
           "cash"
          ],
          [
           "2019_4",
           "large_accelerated_filer",
           "times_interest_earned"
          ],
          [
           "2019_4",
           "large_accelerated_filer",
           "capex_to_operating_cash"
          ],
          [
           "2019_4",
           "large_accelerated_filer",
           "operating_cash_flow"
          ],
          [
           "2019_4",
           "large_accelerated_filer",
           "price_to_earnings"
          ],
          [
           "2019_4",
           "large_accelerated_filer",
           "ev_ebitda"
          ],
          [
           "2019_4",
           "large_accelerated_filer",
           "ev_ebit"
          ],
          [
           "2019_4",
           "large_accelerated_filer",
           "ev_revenue"
          ],
          [
           "2019_4",
           "non_accelerated_filer",
           "roe"
          ],
          [
           "2019_4",
           "non_accelerated_filer",
           "roa"
          ],
          [
           "2019_4",
           "non_accelerated_filer",
           "roce"
          ],
          [
           "2019_4",
           "non_accelerated_filer",
           "gross_margin"
          ],
          [
           "2019_4",
           "non_accelerated_filer",
           "operating_profit_margin"
          ],
          [
           "2019_4",
           "non_accelerated_filer",
           "net_profit_margin"
          ],
          [
           "2019_4",
           "non_accelerated_filer",
           "debt_to_equity"
          ],
          [
           "2019_4",
           "non_accelerated_filer",
           "equity"
          ],
          [
           "2019_4",
           "non_accelerated_filer",
           "debt"
          ],
          [
           "2019_4",
           "non_accelerated_filer",
           "current"
          ],
          [
           "2019_4",
           "non_accelerated_filer",
           "quick"
          ],
          [
           "2019_4",
           "non_accelerated_filer",
           "cash"
          ],
          [
           "2019_4",
           "non_accelerated_filer",
           "times_interest_earned"
          ],
          [
           "2019_4",
           "non_accelerated_filer",
           "capex_to_operating_cash"
          ],
          [
           "2019_4",
           "non_accelerated_filer",
           "operating_cash_flow"
          ],
          [
           "2019_4",
           "non_accelerated_filer",
           "price_to_earnings"
          ],
          [
           "2019_4",
           "non_accelerated_filer",
           "ev_ebitda"
          ],
          [
           "2019_4",
           "non_accelerated_filer",
           "ev_ebit"
          ],
          [
           "2019_4",
           "non_accelerated_filer",
           "ev_revenue"
          ]
         ],
         "fillcolor": "rgba(255,255,255,0)",
         "hoveron": "points",
         "hovertemplate": "year_q=%{customdata[0]}<br>used_to_all=%{x}<br>filer_type=%{customdata[1]}<br>kpi=%{customdata[2]}<extra></extra>",
         "jitter": 0,
         "legendgroup": "2019_4",
         "line": {
          "color": "rgba(255,255,255,0)"
         },
         "marker": {
          "color": "#636efa",
          "symbol": "line-ns-open"
         },
         "name": "2019_4",
         "offsetgroup": "2019_4",
         "showlegend": false,
         "type": "box",
         "x": [
          0.74,
          0.77,
          0.77,
          0.74,
          0.74,
          0.74,
          0.74,
          0.74,
          0.69,
          0.77,
          0.63,
          0.77,
          0.66,
          0.69,
          0.74,
          0.77,
          0.69,
          0.69,
          0.66,
          0.98,
          0.98,
          0.98,
          0.98,
          0.98,
          0.98,
          0.98,
          0.98,
          0.96,
          0.98,
          0.96,
          0.96,
          0.98,
          0.98,
          0.98,
          0.98,
          0.91,
          0.94,
          0.94,
          0.91,
          1,
          0.91,
          1,
          1,
          1,
          0.82,
          0.91,
          0.82,
          0.91,
          0.64,
          0.82,
          0.82,
          0.82,
          0.91,
          1,
          0.73,
          0.73,
          0.73
         ],
         "xaxis": "x2",
         "yaxis": "y2"
        },
        {
         "alignmentgroup": "True",
         "bingroup": "x",
         "hovertemplate": "year_q=2020_1<br>used_to_all=%{x}<br>count=%{y}<extra></extra>",
         "legendgroup": "2020_1",
         "marker": {
          "color": "#EF553B",
          "pattern": {
           "shape": ""
          }
         },
         "name": "2020_1",
         "offsetgroup": "2020_1",
         "orientation": "v",
         "showlegend": true,
         "type": "histogram",
         "x": [
          0.97,
          0.97,
          0.97,
          0.94,
          0.94,
          0.94,
          0.97,
          0.97,
          0.84,
          0.97,
          0.78,
          0.94,
          0.81,
          0.84,
          0.97,
          0.97,
          0.78,
          0.81,
          0.78,
          0.92,
          0.92,
          0.92,
          0.92,
          0.92,
          0.92,
          0.92,
          0.92,
          0.9,
          0.92,
          0.9,
          0.9,
          0.92,
          0.92,
          0.92,
          0.92,
          0.87,
          0.88,
          0.88,
          0.93,
          1,
          0.79,
          0.86,
          1,
          1,
          0.79,
          0.93,
          0.79,
          0.79,
          0.64,
          0.79,
          0.71,
          0.71,
          0.79,
          1,
          0.79,
          0.79,
          0.79
         ],
         "xaxis": "x",
         "yaxis": "y"
        },
        {
         "alignmentgroup": "True",
         "boxpoints": "all",
         "customdata": [
          [
           "2020_1",
           "accelerated_filer",
           "roe"
          ],
          [
           "2020_1",
           "accelerated_filer",
           "roa"
          ],
          [
           "2020_1",
           "accelerated_filer",
           "roce"
          ],
          [
           "2020_1",
           "accelerated_filer",
           "gross_margin"
          ],
          [
           "2020_1",
           "accelerated_filer",
           "operating_profit_margin"
          ],
          [
           "2020_1",
           "accelerated_filer",
           "net_profit_margin"
          ],
          [
           "2020_1",
           "accelerated_filer",
           "debt_to_equity"
          ],
          [
           "2020_1",
           "accelerated_filer",
           "equity"
          ],
          [
           "2020_1",
           "accelerated_filer",
           "debt"
          ],
          [
           "2020_1",
           "accelerated_filer",
           "current"
          ],
          [
           "2020_1",
           "accelerated_filer",
           "quick"
          ],
          [
           "2020_1",
           "accelerated_filer",
           "cash"
          ],
          [
           "2020_1",
           "accelerated_filer",
           "times_interest_earned"
          ],
          [
           "2020_1",
           "accelerated_filer",
           "capex_to_operating_cash"
          ],
          [
           "2020_1",
           "accelerated_filer",
           "operating_cash_flow"
          ],
          [
           "2020_1",
           "accelerated_filer",
           "price_to_earnings"
          ],
          [
           "2020_1",
           "accelerated_filer",
           "ev_ebitda"
          ],
          [
           "2020_1",
           "accelerated_filer",
           "ev_ebit"
          ],
          [
           "2020_1",
           "accelerated_filer",
           "ev_revenue"
          ],
          [
           "2020_1",
           "large_accelerated_filer",
           "roe"
          ],
          [
           "2020_1",
           "large_accelerated_filer",
           "roa"
          ],
          [
           "2020_1",
           "large_accelerated_filer",
           "roce"
          ],
          [
           "2020_1",
           "large_accelerated_filer",
           "gross_margin"
          ],
          [
           "2020_1",
           "large_accelerated_filer",
           "operating_profit_margin"
          ],
          [
           "2020_1",
           "large_accelerated_filer",
           "net_profit_margin"
          ],
          [
           "2020_1",
           "large_accelerated_filer",
           "debt_to_equity"
          ],
          [
           "2020_1",
           "large_accelerated_filer",
           "equity"
          ],
          [
           "2020_1",
           "large_accelerated_filer",
           "debt"
          ],
          [
           "2020_1",
           "large_accelerated_filer",
           "current"
          ],
          [
           "2020_1",
           "large_accelerated_filer",
           "quick"
          ],
          [
           "2020_1",
           "large_accelerated_filer",
           "cash"
          ],
          [
           "2020_1",
           "large_accelerated_filer",
           "times_interest_earned"
          ],
          [
           "2020_1",
           "large_accelerated_filer",
           "capex_to_operating_cash"
          ],
          [
           "2020_1",
           "large_accelerated_filer",
           "operating_cash_flow"
          ],
          [
           "2020_1",
           "large_accelerated_filer",
           "price_to_earnings"
          ],
          [
           "2020_1",
           "large_accelerated_filer",
           "ev_ebitda"
          ],
          [
           "2020_1",
           "large_accelerated_filer",
           "ev_ebit"
          ],
          [
           "2020_1",
           "large_accelerated_filer",
           "ev_revenue"
          ],
          [
           "2020_1",
           "non_accelerated_filer",
           "roe"
          ],
          [
           "2020_1",
           "non_accelerated_filer",
           "roa"
          ],
          [
           "2020_1",
           "non_accelerated_filer",
           "roce"
          ],
          [
           "2020_1",
           "non_accelerated_filer",
           "gross_margin"
          ],
          [
           "2020_1",
           "non_accelerated_filer",
           "operating_profit_margin"
          ],
          [
           "2020_1",
           "non_accelerated_filer",
           "net_profit_margin"
          ],
          [
           "2020_1",
           "non_accelerated_filer",
           "debt_to_equity"
          ],
          [
           "2020_1",
           "non_accelerated_filer",
           "equity"
          ],
          [
           "2020_1",
           "non_accelerated_filer",
           "debt"
          ],
          [
           "2020_1",
           "non_accelerated_filer",
           "current"
          ],
          [
           "2020_1",
           "non_accelerated_filer",
           "quick"
          ],
          [
           "2020_1",
           "non_accelerated_filer",
           "cash"
          ],
          [
           "2020_1",
           "non_accelerated_filer",
           "times_interest_earned"
          ],
          [
           "2020_1",
           "non_accelerated_filer",
           "capex_to_operating_cash"
          ],
          [
           "2020_1",
           "non_accelerated_filer",
           "operating_cash_flow"
          ],
          [
           "2020_1",
           "non_accelerated_filer",
           "price_to_earnings"
          ],
          [
           "2020_1",
           "non_accelerated_filer",
           "ev_ebitda"
          ],
          [
           "2020_1",
           "non_accelerated_filer",
           "ev_ebit"
          ],
          [
           "2020_1",
           "non_accelerated_filer",
           "ev_revenue"
          ]
         ],
         "fillcolor": "rgba(255,255,255,0)",
         "hoveron": "points",
         "hovertemplate": "year_q=%{customdata[0]}<br>used_to_all=%{x}<br>filer_type=%{customdata[1]}<br>kpi=%{customdata[2]}<extra></extra>",
         "jitter": 0,
         "legendgroup": "2020_1",
         "line": {
          "color": "rgba(255,255,255,0)"
         },
         "marker": {
          "color": "#EF553B",
          "symbol": "line-ns-open"
         },
         "name": "2020_1",
         "offsetgroup": "2020_1",
         "showlegend": false,
         "type": "box",
         "x": [
          0.97,
          0.97,
          0.97,
          0.94,
          0.94,
          0.94,
          0.97,
          0.97,
          0.84,
          0.97,
          0.78,
          0.94,
          0.81,
          0.84,
          0.97,
          0.97,
          0.78,
          0.81,
          0.78,
          0.92,
          0.92,
          0.92,
          0.92,
          0.92,
          0.92,
          0.92,
          0.92,
          0.9,
          0.92,
          0.9,
          0.9,
          0.92,
          0.92,
          0.92,
          0.92,
          0.87,
          0.88,
          0.88,
          0.93,
          1,
          0.79,
          0.86,
          1,
          1,
          0.79,
          0.93,
          0.79,
          0.79,
          0.64,
          0.79,
          0.71,
          0.71,
          0.79,
          1,
          0.79,
          0.79,
          0.79
         ],
         "xaxis": "x2",
         "yaxis": "y2"
        },
        {
         "alignmentgroup": "True",
         "bingroup": "x",
         "hovertemplate": "year_q=2020_2<br>used_to_all=%{x}<br>count=%{y}<extra></extra>",
         "legendgroup": "2020_2",
         "marker": {
          "color": "#00cc96",
          "pattern": {
           "shape": ""
          }
         },
         "name": "2020_2",
         "offsetgroup": "2020_2",
         "orientation": "v",
         "showlegend": true,
         "type": "histogram",
         "x": [
          0.56,
          0.56,
          0.56,
          0.56,
          0.56,
          0.56,
          0.56,
          0.56,
          0.56,
          0.56,
          0.53,
          0.56,
          0.56,
          0.56,
          0.56,
          0.56,
          0.56,
          0.56,
          0.56,
          0.88,
          0.88,
          0.88,
          0.87,
          0.88,
          0.88,
          0.88,
          0.88,
          0.87,
          0.88,
          0.85,
          0.87,
          0.85,
          0.87,
          0.88,
          0.88,
          0.83,
          0.85,
          0.85,
          0.81,
          0.81,
          0.69,
          0.69,
          0.88,
          0.81,
          0.69,
          0.81,
          0.69,
          0.69,
          0.56,
          0.69,
          0.56,
          0.62,
          0.69,
          0.81,
          0.69,
          0.69,
          0.69
         ],
         "xaxis": "x",
         "yaxis": "y"
        },
        {
         "alignmentgroup": "True",
         "boxpoints": "all",
         "customdata": [
          [
           "2020_2",
           "accelerated_filer",
           "roe"
          ],
          [
           "2020_2",
           "accelerated_filer",
           "roa"
          ],
          [
           "2020_2",
           "accelerated_filer",
           "roce"
          ],
          [
           "2020_2",
           "accelerated_filer",
           "gross_margin"
          ],
          [
           "2020_2",
           "accelerated_filer",
           "operating_profit_margin"
          ],
          [
           "2020_2",
           "accelerated_filer",
           "net_profit_margin"
          ],
          [
           "2020_2",
           "accelerated_filer",
           "debt_to_equity"
          ],
          [
           "2020_2",
           "accelerated_filer",
           "equity"
          ],
          [
           "2020_2",
           "accelerated_filer",
           "debt"
          ],
          [
           "2020_2",
           "accelerated_filer",
           "current"
          ],
          [
           "2020_2",
           "accelerated_filer",
           "quick"
          ],
          [
           "2020_2",
           "accelerated_filer",
           "cash"
          ],
          [
           "2020_2",
           "accelerated_filer",
           "times_interest_earned"
          ],
          [
           "2020_2",
           "accelerated_filer",
           "capex_to_operating_cash"
          ],
          [
           "2020_2",
           "accelerated_filer",
           "operating_cash_flow"
          ],
          [
           "2020_2",
           "accelerated_filer",
           "price_to_earnings"
          ],
          [
           "2020_2",
           "accelerated_filer",
           "ev_ebitda"
          ],
          [
           "2020_2",
           "accelerated_filer",
           "ev_ebit"
          ],
          [
           "2020_2",
           "accelerated_filer",
           "ev_revenue"
          ],
          [
           "2020_2",
           "large_accelerated_filer",
           "roe"
          ],
          [
           "2020_2",
           "large_accelerated_filer",
           "roa"
          ],
          [
           "2020_2",
           "large_accelerated_filer",
           "roce"
          ],
          [
           "2020_2",
           "large_accelerated_filer",
           "gross_margin"
          ],
          [
           "2020_2",
           "large_accelerated_filer",
           "operating_profit_margin"
          ],
          [
           "2020_2",
           "large_accelerated_filer",
           "net_profit_margin"
          ],
          [
           "2020_2",
           "large_accelerated_filer",
           "debt_to_equity"
          ],
          [
           "2020_2",
           "large_accelerated_filer",
           "equity"
          ],
          [
           "2020_2",
           "large_accelerated_filer",
           "debt"
          ],
          [
           "2020_2",
           "large_accelerated_filer",
           "current"
          ],
          [
           "2020_2",
           "large_accelerated_filer",
           "quick"
          ],
          [
           "2020_2",
           "large_accelerated_filer",
           "cash"
          ],
          [
           "2020_2",
           "large_accelerated_filer",
           "times_interest_earned"
          ],
          [
           "2020_2",
           "large_accelerated_filer",
           "capex_to_operating_cash"
          ],
          [
           "2020_2",
           "large_accelerated_filer",
           "operating_cash_flow"
          ],
          [
           "2020_2",
           "large_accelerated_filer",
           "price_to_earnings"
          ],
          [
           "2020_2",
           "large_accelerated_filer",
           "ev_ebitda"
          ],
          [
           "2020_2",
           "large_accelerated_filer",
           "ev_ebit"
          ],
          [
           "2020_2",
           "large_accelerated_filer",
           "ev_revenue"
          ],
          [
           "2020_2",
           "non_accelerated_filer",
           "roe"
          ],
          [
           "2020_2",
           "non_accelerated_filer",
           "roa"
          ],
          [
           "2020_2",
           "non_accelerated_filer",
           "roce"
          ],
          [
           "2020_2",
           "non_accelerated_filer",
           "gross_margin"
          ],
          [
           "2020_2",
           "non_accelerated_filer",
           "operating_profit_margin"
          ],
          [
           "2020_2",
           "non_accelerated_filer",
           "net_profit_margin"
          ],
          [
           "2020_2",
           "non_accelerated_filer",
           "debt_to_equity"
          ],
          [
           "2020_2",
           "non_accelerated_filer",
           "equity"
          ],
          [
           "2020_2",
           "non_accelerated_filer",
           "debt"
          ],
          [
           "2020_2",
           "non_accelerated_filer",
           "current"
          ],
          [
           "2020_2",
           "non_accelerated_filer",
           "quick"
          ],
          [
           "2020_2",
           "non_accelerated_filer",
           "cash"
          ],
          [
           "2020_2",
           "non_accelerated_filer",
           "times_interest_earned"
          ],
          [
           "2020_2",
           "non_accelerated_filer",
           "capex_to_operating_cash"
          ],
          [
           "2020_2",
           "non_accelerated_filer",
           "operating_cash_flow"
          ],
          [
           "2020_2",
           "non_accelerated_filer",
           "price_to_earnings"
          ],
          [
           "2020_2",
           "non_accelerated_filer",
           "ev_ebitda"
          ],
          [
           "2020_2",
           "non_accelerated_filer",
           "ev_ebit"
          ],
          [
           "2020_2",
           "non_accelerated_filer",
           "ev_revenue"
          ]
         ],
         "fillcolor": "rgba(255,255,255,0)",
         "hoveron": "points",
         "hovertemplate": "year_q=%{customdata[0]}<br>used_to_all=%{x}<br>filer_type=%{customdata[1]}<br>kpi=%{customdata[2]}<extra></extra>",
         "jitter": 0,
         "legendgroup": "2020_2",
         "line": {
          "color": "rgba(255,255,255,0)"
         },
         "marker": {
          "color": "#00cc96",
          "symbol": "line-ns-open"
         },
         "name": "2020_2",
         "offsetgroup": "2020_2",
         "showlegend": false,
         "type": "box",
         "x": [
          0.56,
          0.56,
          0.56,
          0.56,
          0.56,
          0.56,
          0.56,
          0.56,
          0.56,
          0.56,
          0.53,
          0.56,
          0.56,
          0.56,
          0.56,
          0.56,
          0.56,
          0.56,
          0.56,
          0.88,
          0.88,
          0.88,
          0.87,
          0.88,
          0.88,
          0.88,
          0.88,
          0.87,
          0.88,
          0.85,
          0.87,
          0.85,
          0.87,
          0.88,
          0.88,
          0.83,
          0.85,
          0.85,
          0.81,
          0.81,
          0.69,
          0.69,
          0.88,
          0.81,
          0.69,
          0.81,
          0.69,
          0.69,
          0.56,
          0.69,
          0.56,
          0.62,
          0.69,
          0.81,
          0.69,
          0.69,
          0.69
         ],
         "xaxis": "x2",
         "yaxis": "y2"
        },
        {
         "alignmentgroup": "True",
         "bingroup": "x",
         "hovertemplate": "year_q=2020_3<br>used_to_all=%{x}<br>count=%{y}<extra></extra>",
         "legendgroup": "2020_3",
         "marker": {
          "color": "#ab63fa",
          "pattern": {
           "shape": ""
          }
         },
         "name": "2020_3",
         "offsetgroup": "2020_3",
         "orientation": "v",
         "showlegend": true,
         "type": "histogram",
         "x": [
          0.81,
          0.81,
          0.81,
          0.78,
          0.78,
          0.78,
          0.81,
          0.81,
          0.81,
          0.81,
          0.75,
          0.81,
          0.78,
          0.81,
          0.81,
          0.81,
          0.81,
          0.81,
          0.78,
          0.96,
          0.96,
          0.96,
          0.94,
          0.96,
          0.96,
          0.96,
          0.96,
          0.92,
          0.96,
          0.94,
          0.96,
          0.92,
          0.94,
          0.96,
          0.96,
          0.9,
          0.92,
          0.92,
          0.87,
          0.93,
          0.73,
          0.73,
          0.93,
          0.93,
          0.73,
          0.87,
          0.73,
          0.73,
          0.6,
          0.73,
          0.67,
          0.67,
          0.73,
          0.93,
          0.73,
          0.73,
          0.73
         ],
         "xaxis": "x",
         "yaxis": "y"
        },
        {
         "alignmentgroup": "True",
         "boxpoints": "all",
         "customdata": [
          [
           "2020_3",
           "accelerated_filer",
           "roe"
          ],
          [
           "2020_3",
           "accelerated_filer",
           "roa"
          ],
          [
           "2020_3",
           "accelerated_filer",
           "roce"
          ],
          [
           "2020_3",
           "accelerated_filer",
           "gross_margin"
          ],
          [
           "2020_3",
           "accelerated_filer",
           "operating_profit_margin"
          ],
          [
           "2020_3",
           "accelerated_filer",
           "net_profit_margin"
          ],
          [
           "2020_3",
           "accelerated_filer",
           "debt_to_equity"
          ],
          [
           "2020_3",
           "accelerated_filer",
           "equity"
          ],
          [
           "2020_3",
           "accelerated_filer",
           "debt"
          ],
          [
           "2020_3",
           "accelerated_filer",
           "current"
          ],
          [
           "2020_3",
           "accelerated_filer",
           "quick"
          ],
          [
           "2020_3",
           "accelerated_filer",
           "cash"
          ],
          [
           "2020_3",
           "accelerated_filer",
           "times_interest_earned"
          ],
          [
           "2020_3",
           "accelerated_filer",
           "capex_to_operating_cash"
          ],
          [
           "2020_3",
           "accelerated_filer",
           "operating_cash_flow"
          ],
          [
           "2020_3",
           "accelerated_filer",
           "price_to_earnings"
          ],
          [
           "2020_3",
           "accelerated_filer",
           "ev_ebitda"
          ],
          [
           "2020_3",
           "accelerated_filer",
           "ev_ebit"
          ],
          [
           "2020_3",
           "accelerated_filer",
           "ev_revenue"
          ],
          [
           "2020_3",
           "large_accelerated_filer",
           "roe"
          ],
          [
           "2020_3",
           "large_accelerated_filer",
           "roa"
          ],
          [
           "2020_3",
           "large_accelerated_filer",
           "roce"
          ],
          [
           "2020_3",
           "large_accelerated_filer",
           "gross_margin"
          ],
          [
           "2020_3",
           "large_accelerated_filer",
           "operating_profit_margin"
          ],
          [
           "2020_3",
           "large_accelerated_filer",
           "net_profit_margin"
          ],
          [
           "2020_3",
           "large_accelerated_filer",
           "debt_to_equity"
          ],
          [
           "2020_3",
           "large_accelerated_filer",
           "equity"
          ],
          [
           "2020_3",
           "large_accelerated_filer",
           "debt"
          ],
          [
           "2020_3",
           "large_accelerated_filer",
           "current"
          ],
          [
           "2020_3",
           "large_accelerated_filer",
           "quick"
          ],
          [
           "2020_3",
           "large_accelerated_filer",
           "cash"
          ],
          [
           "2020_3",
           "large_accelerated_filer",
           "times_interest_earned"
          ],
          [
           "2020_3",
           "large_accelerated_filer",
           "capex_to_operating_cash"
          ],
          [
           "2020_3",
           "large_accelerated_filer",
           "operating_cash_flow"
          ],
          [
           "2020_3",
           "large_accelerated_filer",
           "price_to_earnings"
          ],
          [
           "2020_3",
           "large_accelerated_filer",
           "ev_ebitda"
          ],
          [
           "2020_3",
           "large_accelerated_filer",
           "ev_ebit"
          ],
          [
           "2020_3",
           "large_accelerated_filer",
           "ev_revenue"
          ],
          [
           "2020_3",
           "non_accelerated_filer",
           "roe"
          ],
          [
           "2020_3",
           "non_accelerated_filer",
           "roa"
          ],
          [
           "2020_3",
           "non_accelerated_filer",
           "roce"
          ],
          [
           "2020_3",
           "non_accelerated_filer",
           "gross_margin"
          ],
          [
           "2020_3",
           "non_accelerated_filer",
           "operating_profit_margin"
          ],
          [
           "2020_3",
           "non_accelerated_filer",
           "net_profit_margin"
          ],
          [
           "2020_3",
           "non_accelerated_filer",
           "debt_to_equity"
          ],
          [
           "2020_3",
           "non_accelerated_filer",
           "equity"
          ],
          [
           "2020_3",
           "non_accelerated_filer",
           "debt"
          ],
          [
           "2020_3",
           "non_accelerated_filer",
           "current"
          ],
          [
           "2020_3",
           "non_accelerated_filer",
           "quick"
          ],
          [
           "2020_3",
           "non_accelerated_filer",
           "cash"
          ],
          [
           "2020_3",
           "non_accelerated_filer",
           "times_interest_earned"
          ],
          [
           "2020_3",
           "non_accelerated_filer",
           "capex_to_operating_cash"
          ],
          [
           "2020_3",
           "non_accelerated_filer",
           "operating_cash_flow"
          ],
          [
           "2020_3",
           "non_accelerated_filer",
           "price_to_earnings"
          ],
          [
           "2020_3",
           "non_accelerated_filer",
           "ev_ebitda"
          ],
          [
           "2020_3",
           "non_accelerated_filer",
           "ev_ebit"
          ],
          [
           "2020_3",
           "non_accelerated_filer",
           "ev_revenue"
          ]
         ],
         "fillcolor": "rgba(255,255,255,0)",
         "hoveron": "points",
         "hovertemplate": "year_q=%{customdata[0]}<br>used_to_all=%{x}<br>filer_type=%{customdata[1]}<br>kpi=%{customdata[2]}<extra></extra>",
         "jitter": 0,
         "legendgroup": "2020_3",
         "line": {
          "color": "rgba(255,255,255,0)"
         },
         "marker": {
          "color": "#ab63fa",
          "symbol": "line-ns-open"
         },
         "name": "2020_3",
         "offsetgroup": "2020_3",
         "showlegend": false,
         "type": "box",
         "x": [
          0.81,
          0.81,
          0.81,
          0.78,
          0.78,
          0.78,
          0.81,
          0.81,
          0.81,
          0.81,
          0.75,
          0.81,
          0.78,
          0.81,
          0.81,
          0.81,
          0.81,
          0.81,
          0.78,
          0.96,
          0.96,
          0.96,
          0.94,
          0.96,
          0.96,
          0.96,
          0.96,
          0.92,
          0.96,
          0.94,
          0.96,
          0.92,
          0.94,
          0.96,
          0.96,
          0.9,
          0.92,
          0.92,
          0.87,
          0.93,
          0.73,
          0.73,
          0.93,
          0.93,
          0.73,
          0.87,
          0.73,
          0.73,
          0.6,
          0.73,
          0.67,
          0.67,
          0.73,
          0.93,
          0.73,
          0.73,
          0.73
         ],
         "xaxis": "x2",
         "yaxis": "y2"
        },
        {
         "alignmentgroup": "True",
         "bingroup": "x",
         "hovertemplate": "year_q=2020_4<br>used_to_all=%{x}<br>count=%{y}<extra></extra>",
         "legendgroup": "2020_4",
         "marker": {
          "color": "#FFA15A",
          "pattern": {
           "shape": ""
          }
         },
         "name": "2020_4",
         "offsetgroup": "2020_4",
         "orientation": "v",
         "showlegend": true,
         "type": "histogram",
         "x": [
          0.91,
          0.91,
          0.91,
          0.81,
          0.84,
          0.84,
          0.91,
          0.91,
          0.81,
          0.91,
          0.72,
          0.91,
          0.78,
          0.78,
          0.91,
          0.91,
          0.81,
          0.81,
          0.78,
          1,
          1,
          1,
          0.98,
          1,
          1,
          1,
          1,
          0.96,
          1,
          0.96,
          0.98,
          0.96,
          0.98,
          1,
          1,
          0.94,
          0.94,
          0.94,
          0.53,
          0.6,
          0.53,
          0.6,
          0.6,
          0.6,
          0.53,
          0.67,
          0.6,
          0.53,
          0.47,
          0.47,
          0.53,
          0.53,
          0.53,
          0.6,
          0.53,
          0.53,
          0.53
         ],
         "xaxis": "x",
         "yaxis": "y"
        },
        {
         "alignmentgroup": "True",
         "boxpoints": "all",
         "customdata": [
          [
           "2020_4",
           "accelerated_filer",
           "roe"
          ],
          [
           "2020_4",
           "accelerated_filer",
           "roa"
          ],
          [
           "2020_4",
           "accelerated_filer",
           "roce"
          ],
          [
           "2020_4",
           "accelerated_filer",
           "gross_margin"
          ],
          [
           "2020_4",
           "accelerated_filer",
           "operating_profit_margin"
          ],
          [
           "2020_4",
           "accelerated_filer",
           "net_profit_margin"
          ],
          [
           "2020_4",
           "accelerated_filer",
           "debt_to_equity"
          ],
          [
           "2020_4",
           "accelerated_filer",
           "equity"
          ],
          [
           "2020_4",
           "accelerated_filer",
           "debt"
          ],
          [
           "2020_4",
           "accelerated_filer",
           "current"
          ],
          [
           "2020_4",
           "accelerated_filer",
           "quick"
          ],
          [
           "2020_4",
           "accelerated_filer",
           "cash"
          ],
          [
           "2020_4",
           "accelerated_filer",
           "times_interest_earned"
          ],
          [
           "2020_4",
           "accelerated_filer",
           "capex_to_operating_cash"
          ],
          [
           "2020_4",
           "accelerated_filer",
           "operating_cash_flow"
          ],
          [
           "2020_4",
           "accelerated_filer",
           "price_to_earnings"
          ],
          [
           "2020_4",
           "accelerated_filer",
           "ev_ebitda"
          ],
          [
           "2020_4",
           "accelerated_filer",
           "ev_ebit"
          ],
          [
           "2020_4",
           "accelerated_filer",
           "ev_revenue"
          ],
          [
           "2020_4",
           "large_accelerated_filer",
           "roe"
          ],
          [
           "2020_4",
           "large_accelerated_filer",
           "roa"
          ],
          [
           "2020_4",
           "large_accelerated_filer",
           "roce"
          ],
          [
           "2020_4",
           "large_accelerated_filer",
           "gross_margin"
          ],
          [
           "2020_4",
           "large_accelerated_filer",
           "operating_profit_margin"
          ],
          [
           "2020_4",
           "large_accelerated_filer",
           "net_profit_margin"
          ],
          [
           "2020_4",
           "large_accelerated_filer",
           "debt_to_equity"
          ],
          [
           "2020_4",
           "large_accelerated_filer",
           "equity"
          ],
          [
           "2020_4",
           "large_accelerated_filer",
           "debt"
          ],
          [
           "2020_4",
           "large_accelerated_filer",
           "current"
          ],
          [
           "2020_4",
           "large_accelerated_filer",
           "quick"
          ],
          [
           "2020_4",
           "large_accelerated_filer",
           "cash"
          ],
          [
           "2020_4",
           "large_accelerated_filer",
           "times_interest_earned"
          ],
          [
           "2020_4",
           "large_accelerated_filer",
           "capex_to_operating_cash"
          ],
          [
           "2020_4",
           "large_accelerated_filer",
           "operating_cash_flow"
          ],
          [
           "2020_4",
           "large_accelerated_filer",
           "price_to_earnings"
          ],
          [
           "2020_4",
           "large_accelerated_filer",
           "ev_ebitda"
          ],
          [
           "2020_4",
           "large_accelerated_filer",
           "ev_ebit"
          ],
          [
           "2020_4",
           "large_accelerated_filer",
           "ev_revenue"
          ],
          [
           "2020_4",
           "non_accelerated_filer",
           "roe"
          ],
          [
           "2020_4",
           "non_accelerated_filer",
           "roa"
          ],
          [
           "2020_4",
           "non_accelerated_filer",
           "roce"
          ],
          [
           "2020_4",
           "non_accelerated_filer",
           "gross_margin"
          ],
          [
           "2020_4",
           "non_accelerated_filer",
           "operating_profit_margin"
          ],
          [
           "2020_4",
           "non_accelerated_filer",
           "net_profit_margin"
          ],
          [
           "2020_4",
           "non_accelerated_filer",
           "debt_to_equity"
          ],
          [
           "2020_4",
           "non_accelerated_filer",
           "equity"
          ],
          [
           "2020_4",
           "non_accelerated_filer",
           "debt"
          ],
          [
           "2020_4",
           "non_accelerated_filer",
           "current"
          ],
          [
           "2020_4",
           "non_accelerated_filer",
           "quick"
          ],
          [
           "2020_4",
           "non_accelerated_filer",
           "cash"
          ],
          [
           "2020_4",
           "non_accelerated_filer",
           "times_interest_earned"
          ],
          [
           "2020_4",
           "non_accelerated_filer",
           "capex_to_operating_cash"
          ],
          [
           "2020_4",
           "non_accelerated_filer",
           "operating_cash_flow"
          ],
          [
           "2020_4",
           "non_accelerated_filer",
           "price_to_earnings"
          ],
          [
           "2020_4",
           "non_accelerated_filer",
           "ev_ebitda"
          ],
          [
           "2020_4",
           "non_accelerated_filer",
           "ev_ebit"
          ],
          [
           "2020_4",
           "non_accelerated_filer",
           "ev_revenue"
          ]
         ],
         "fillcolor": "rgba(255,255,255,0)",
         "hoveron": "points",
         "hovertemplate": "year_q=%{customdata[0]}<br>used_to_all=%{x}<br>filer_type=%{customdata[1]}<br>kpi=%{customdata[2]}<extra></extra>",
         "jitter": 0,
         "legendgroup": "2020_4",
         "line": {
          "color": "rgba(255,255,255,0)"
         },
         "marker": {
          "color": "#FFA15A",
          "symbol": "line-ns-open"
         },
         "name": "2020_4",
         "offsetgroup": "2020_4",
         "showlegend": false,
         "type": "box",
         "x": [
          0.91,
          0.91,
          0.91,
          0.81,
          0.84,
          0.84,
          0.91,
          0.91,
          0.81,
          0.91,
          0.72,
          0.91,
          0.78,
          0.78,
          0.91,
          0.91,
          0.81,
          0.81,
          0.78,
          1,
          1,
          1,
          0.98,
          1,
          1,
          1,
          1,
          0.96,
          1,
          0.96,
          0.98,
          0.96,
          0.98,
          1,
          1,
          0.94,
          0.94,
          0.94,
          0.53,
          0.6,
          0.53,
          0.6,
          0.6,
          0.6,
          0.53,
          0.67,
          0.6,
          0.53,
          0.47,
          0.47,
          0.53,
          0.53,
          0.53,
          0.6,
          0.53,
          0.53,
          0.53
         ],
         "xaxis": "x2",
         "yaxis": "y2"
        },
        {
         "alignmentgroup": "True",
         "bingroup": "x",
         "hovertemplate": "year_q=2021_1<br>used_to_all=%{x}<br>count=%{y}<extra></extra>",
         "legendgroup": "2021_1",
         "marker": {
          "color": "#19d3f3",
          "pattern": {
           "shape": ""
          }
         },
         "name": "2021_1",
         "offsetgroup": "2021_1",
         "orientation": "v",
         "showlegend": true,
         "type": "histogram",
         "x": [
          0.9,
          0.97,
          0.87,
          0.77,
          0.94,
          0.9,
          0.87,
          0.94,
          0.77,
          0.87,
          0.71,
          0.87,
          0.77,
          0.77,
          0.87,
          0.97,
          0.77,
          0.77,
          0.74,
          0.96,
          0.96,
          0.96,
          0.92,
          0.96,
          0.96,
          0.96,
          0.96,
          0.88,
          0.96,
          0.92,
          0.96,
          0.92,
          0.92,
          0.96,
          0.96,
          0.88,
          0.88,
          0.88,
          0.97,
          0.97,
          0.97,
          0.97,
          0.97,
          0.97,
          0.97,
          0.97,
          0.97,
          0.97,
          0.97,
          0.97,
          0.95,
          0.97,
          0.97,
          0.97,
          0.97,
          0.97,
          0.97
         ],
         "xaxis": "x",
         "yaxis": "y"
        },
        {
         "alignmentgroup": "True",
         "boxpoints": "all",
         "customdata": [
          [
           "2021_1",
           "non_accelerated_filer",
           "roe"
          ],
          [
           "2021_1",
           "non_accelerated_filer",
           "roa"
          ],
          [
           "2021_1",
           "non_accelerated_filer",
           "roce"
          ],
          [
           "2021_1",
           "non_accelerated_filer",
           "gross_margin"
          ],
          [
           "2021_1",
           "non_accelerated_filer",
           "operating_profit_margin"
          ],
          [
           "2021_1",
           "non_accelerated_filer",
           "net_profit_margin"
          ],
          [
           "2021_1",
           "non_accelerated_filer",
           "debt_to_equity"
          ],
          [
           "2021_1",
           "non_accelerated_filer",
           "equity"
          ],
          [
           "2021_1",
           "non_accelerated_filer",
           "debt"
          ],
          [
           "2021_1",
           "non_accelerated_filer",
           "current"
          ],
          [
           "2021_1",
           "non_accelerated_filer",
           "quick"
          ],
          [
           "2021_1",
           "non_accelerated_filer",
           "cash"
          ],
          [
           "2021_1",
           "non_accelerated_filer",
           "times_interest_earned"
          ],
          [
           "2021_1",
           "non_accelerated_filer",
           "capex_to_operating_cash"
          ],
          [
           "2021_1",
           "non_accelerated_filer",
           "operating_cash_flow"
          ],
          [
           "2021_1",
           "non_accelerated_filer",
           "price_to_earnings"
          ],
          [
           "2021_1",
           "non_accelerated_filer",
           "ev_ebitda"
          ],
          [
           "2021_1",
           "non_accelerated_filer",
           "ev_ebit"
          ],
          [
           "2021_1",
           "non_accelerated_filer",
           "ev_revenue"
          ],
          [
           "2021_1",
           "accelerated_filer",
           "roe"
          ],
          [
           "2021_1",
           "accelerated_filer",
           "roa"
          ],
          [
           "2021_1",
           "accelerated_filer",
           "roce"
          ],
          [
           "2021_1",
           "accelerated_filer",
           "gross_margin"
          ],
          [
           "2021_1",
           "accelerated_filer",
           "operating_profit_margin"
          ],
          [
           "2021_1",
           "accelerated_filer",
           "net_profit_margin"
          ],
          [
           "2021_1",
           "accelerated_filer",
           "debt_to_equity"
          ],
          [
           "2021_1",
           "accelerated_filer",
           "equity"
          ],
          [
           "2021_1",
           "accelerated_filer",
           "debt"
          ],
          [
           "2021_1",
           "accelerated_filer",
           "current"
          ],
          [
           "2021_1",
           "accelerated_filer",
           "quick"
          ],
          [
           "2021_1",
           "accelerated_filer",
           "cash"
          ],
          [
           "2021_1",
           "accelerated_filer",
           "times_interest_earned"
          ],
          [
           "2021_1",
           "accelerated_filer",
           "capex_to_operating_cash"
          ],
          [
           "2021_1",
           "accelerated_filer",
           "operating_cash_flow"
          ],
          [
           "2021_1",
           "accelerated_filer",
           "price_to_earnings"
          ],
          [
           "2021_1",
           "accelerated_filer",
           "ev_ebitda"
          ],
          [
           "2021_1",
           "accelerated_filer",
           "ev_ebit"
          ],
          [
           "2021_1",
           "accelerated_filer",
           "ev_revenue"
          ],
          [
           "2021_1",
           "large_accelerated_filer",
           "roe"
          ],
          [
           "2021_1",
           "large_accelerated_filer",
           "roa"
          ],
          [
           "2021_1",
           "large_accelerated_filer",
           "roce"
          ],
          [
           "2021_1",
           "large_accelerated_filer",
           "gross_margin"
          ],
          [
           "2021_1",
           "large_accelerated_filer",
           "operating_profit_margin"
          ],
          [
           "2021_1",
           "large_accelerated_filer",
           "net_profit_margin"
          ],
          [
           "2021_1",
           "large_accelerated_filer",
           "debt_to_equity"
          ],
          [
           "2021_1",
           "large_accelerated_filer",
           "equity"
          ],
          [
           "2021_1",
           "large_accelerated_filer",
           "debt"
          ],
          [
           "2021_1",
           "large_accelerated_filer",
           "current"
          ],
          [
           "2021_1",
           "large_accelerated_filer",
           "quick"
          ],
          [
           "2021_1",
           "large_accelerated_filer",
           "cash"
          ],
          [
           "2021_1",
           "large_accelerated_filer",
           "times_interest_earned"
          ],
          [
           "2021_1",
           "large_accelerated_filer",
           "capex_to_operating_cash"
          ],
          [
           "2021_1",
           "large_accelerated_filer",
           "operating_cash_flow"
          ],
          [
           "2021_1",
           "large_accelerated_filer",
           "price_to_earnings"
          ],
          [
           "2021_1",
           "large_accelerated_filer",
           "ev_ebitda"
          ],
          [
           "2021_1",
           "large_accelerated_filer",
           "ev_ebit"
          ],
          [
           "2021_1",
           "large_accelerated_filer",
           "ev_revenue"
          ]
         ],
         "fillcolor": "rgba(255,255,255,0)",
         "hoveron": "points",
         "hovertemplate": "year_q=%{customdata[0]}<br>used_to_all=%{x}<br>filer_type=%{customdata[1]}<br>kpi=%{customdata[2]}<extra></extra>",
         "jitter": 0,
         "legendgroup": "2021_1",
         "line": {
          "color": "rgba(255,255,255,0)"
         },
         "marker": {
          "color": "#19d3f3",
          "symbol": "line-ns-open"
         },
         "name": "2021_1",
         "offsetgroup": "2021_1",
         "showlegend": false,
         "type": "box",
         "x": [
          0.9,
          0.97,
          0.87,
          0.77,
          0.94,
          0.9,
          0.87,
          0.94,
          0.77,
          0.87,
          0.71,
          0.87,
          0.77,
          0.77,
          0.87,
          0.97,
          0.77,
          0.77,
          0.74,
          0.96,
          0.96,
          0.96,
          0.92,
          0.96,
          0.96,
          0.96,
          0.96,
          0.88,
          0.96,
          0.92,
          0.96,
          0.92,
          0.92,
          0.96,
          0.96,
          0.88,
          0.88,
          0.88,
          0.97,
          0.97,
          0.97,
          0.97,
          0.97,
          0.97,
          0.97,
          0.97,
          0.97,
          0.97,
          0.97,
          0.97,
          0.95,
          0.97,
          0.97,
          0.97,
          0.97,
          0.97,
          0.97
         ],
         "xaxis": "x2",
         "yaxis": "y2"
        },
        {
         "alignmentgroup": "True",
         "bingroup": "x",
         "hovertemplate": "year_q=2021_2<br>used_to_all=%{x}<br>count=%{y}<extra></extra>",
         "legendgroup": "2021_2",
         "marker": {
          "color": "#FF6692",
          "pattern": {
           "shape": ""
          }
         },
         "name": "2021_2",
         "offsetgroup": "2021_2",
         "orientation": "v",
         "showlegend": true,
         "type": "histogram",
         "x": [
          0.77,
          0.77,
          0.71,
          0.63,
          0.74,
          0.74,
          0.71,
          0.77,
          0.66,
          0.71,
          0.6,
          0.71,
          0.63,
          0.66,
          0.71,
          0.77,
          0.66,
          0.66,
          0.63,
          0.93,
          0.93,
          0.93,
          0.89,
          0.93,
          0.93,
          0.93,
          0.93,
          0.86,
          0.93,
          0.86,
          0.89,
          0.89,
          0.89,
          0.93,
          0.93,
          0.82,
          0.82,
          0.82,
          0.97,
          0.97,
          0.97,
          0.97,
          1,
          1,
          0.97,
          0.97,
          0.97,
          0.97,
          0.97,
          0.97,
          0.97,
          0.97,
          0.97,
          0.97,
          0.97,
          0.97,
          0.97
         ],
         "xaxis": "x",
         "yaxis": "y"
        },
        {
         "alignmentgroup": "True",
         "boxpoints": "all",
         "customdata": [
          [
           "2021_2",
           "non_accelerated_filer",
           "roe"
          ],
          [
           "2021_2",
           "non_accelerated_filer",
           "roa"
          ],
          [
           "2021_2",
           "non_accelerated_filer",
           "roce"
          ],
          [
           "2021_2",
           "non_accelerated_filer",
           "gross_margin"
          ],
          [
           "2021_2",
           "non_accelerated_filer",
           "operating_profit_margin"
          ],
          [
           "2021_2",
           "non_accelerated_filer",
           "net_profit_margin"
          ],
          [
           "2021_2",
           "non_accelerated_filer",
           "debt_to_equity"
          ],
          [
           "2021_2",
           "non_accelerated_filer",
           "equity"
          ],
          [
           "2021_2",
           "non_accelerated_filer",
           "debt"
          ],
          [
           "2021_2",
           "non_accelerated_filer",
           "current"
          ],
          [
           "2021_2",
           "non_accelerated_filer",
           "quick"
          ],
          [
           "2021_2",
           "non_accelerated_filer",
           "cash"
          ],
          [
           "2021_2",
           "non_accelerated_filer",
           "times_interest_earned"
          ],
          [
           "2021_2",
           "non_accelerated_filer",
           "capex_to_operating_cash"
          ],
          [
           "2021_2",
           "non_accelerated_filer",
           "operating_cash_flow"
          ],
          [
           "2021_2",
           "non_accelerated_filer",
           "price_to_earnings"
          ],
          [
           "2021_2",
           "non_accelerated_filer",
           "ev_ebitda"
          ],
          [
           "2021_2",
           "non_accelerated_filer",
           "ev_ebit"
          ],
          [
           "2021_2",
           "non_accelerated_filer",
           "ev_revenue"
          ],
          [
           "2021_2",
           "accelerated_filer",
           "roe"
          ],
          [
           "2021_2",
           "accelerated_filer",
           "roa"
          ],
          [
           "2021_2",
           "accelerated_filer",
           "roce"
          ],
          [
           "2021_2",
           "accelerated_filer",
           "gross_margin"
          ],
          [
           "2021_2",
           "accelerated_filer",
           "operating_profit_margin"
          ],
          [
           "2021_2",
           "accelerated_filer",
           "net_profit_margin"
          ],
          [
           "2021_2",
           "accelerated_filer",
           "debt_to_equity"
          ],
          [
           "2021_2",
           "accelerated_filer",
           "equity"
          ],
          [
           "2021_2",
           "accelerated_filer",
           "debt"
          ],
          [
           "2021_2",
           "accelerated_filer",
           "current"
          ],
          [
           "2021_2",
           "accelerated_filer",
           "quick"
          ],
          [
           "2021_2",
           "accelerated_filer",
           "cash"
          ],
          [
           "2021_2",
           "accelerated_filer",
           "times_interest_earned"
          ],
          [
           "2021_2",
           "accelerated_filer",
           "capex_to_operating_cash"
          ],
          [
           "2021_2",
           "accelerated_filer",
           "operating_cash_flow"
          ],
          [
           "2021_2",
           "accelerated_filer",
           "price_to_earnings"
          ],
          [
           "2021_2",
           "accelerated_filer",
           "ev_ebitda"
          ],
          [
           "2021_2",
           "accelerated_filer",
           "ev_ebit"
          ],
          [
           "2021_2",
           "accelerated_filer",
           "ev_revenue"
          ],
          [
           "2021_2",
           "large_accelerated_filer",
           "roe"
          ],
          [
           "2021_2",
           "large_accelerated_filer",
           "roa"
          ],
          [
           "2021_2",
           "large_accelerated_filer",
           "roce"
          ],
          [
           "2021_2",
           "large_accelerated_filer",
           "gross_margin"
          ],
          [
           "2021_2",
           "large_accelerated_filer",
           "operating_profit_margin"
          ],
          [
           "2021_2",
           "large_accelerated_filer",
           "net_profit_margin"
          ],
          [
           "2021_2",
           "large_accelerated_filer",
           "debt_to_equity"
          ],
          [
           "2021_2",
           "large_accelerated_filer",
           "equity"
          ],
          [
           "2021_2",
           "large_accelerated_filer",
           "debt"
          ],
          [
           "2021_2",
           "large_accelerated_filer",
           "current"
          ],
          [
           "2021_2",
           "large_accelerated_filer",
           "quick"
          ],
          [
           "2021_2",
           "large_accelerated_filer",
           "cash"
          ],
          [
           "2021_2",
           "large_accelerated_filer",
           "times_interest_earned"
          ],
          [
           "2021_2",
           "large_accelerated_filer",
           "capex_to_operating_cash"
          ],
          [
           "2021_2",
           "large_accelerated_filer",
           "operating_cash_flow"
          ],
          [
           "2021_2",
           "large_accelerated_filer",
           "price_to_earnings"
          ],
          [
           "2021_2",
           "large_accelerated_filer",
           "ev_ebitda"
          ],
          [
           "2021_2",
           "large_accelerated_filer",
           "ev_ebit"
          ],
          [
           "2021_2",
           "large_accelerated_filer",
           "ev_revenue"
          ]
         ],
         "fillcolor": "rgba(255,255,255,0)",
         "hoveron": "points",
         "hovertemplate": "year_q=%{customdata[0]}<br>used_to_all=%{x}<br>filer_type=%{customdata[1]}<br>kpi=%{customdata[2]}<extra></extra>",
         "jitter": 0,
         "legendgroup": "2021_2",
         "line": {
          "color": "rgba(255,255,255,0)"
         },
         "marker": {
          "color": "#FF6692",
          "symbol": "line-ns-open"
         },
         "name": "2021_2",
         "offsetgroup": "2021_2",
         "showlegend": false,
         "type": "box",
         "x": [
          0.77,
          0.77,
          0.71,
          0.63,
          0.74,
          0.74,
          0.71,
          0.77,
          0.66,
          0.71,
          0.6,
          0.71,
          0.63,
          0.66,
          0.71,
          0.77,
          0.66,
          0.66,
          0.63,
          0.93,
          0.93,
          0.93,
          0.89,
          0.93,
          0.93,
          0.93,
          0.93,
          0.86,
          0.93,
          0.86,
          0.89,
          0.89,
          0.89,
          0.93,
          0.93,
          0.82,
          0.82,
          0.82,
          0.97,
          0.97,
          0.97,
          0.97,
          1,
          1,
          0.97,
          0.97,
          0.97,
          0.97,
          0.97,
          0.97,
          0.97,
          0.97,
          0.97,
          0.97,
          0.97,
          0.97,
          0.97
         ],
         "xaxis": "x2",
         "yaxis": "y2"
        },
        {
         "alignmentgroup": "True",
         "bingroup": "x",
         "hovertemplate": "year_q=2021_3<br>used_to_all=%{x}<br>count=%{y}<extra></extra>",
         "legendgroup": "2021_3",
         "marker": {
          "color": "#B6E880",
          "pattern": {
           "shape": ""
          }
         },
         "name": "2021_3",
         "offsetgroup": "2021_3",
         "orientation": "v",
         "showlegend": true,
         "type": "histogram",
         "x": [
          0.79,
          0.79,
          0.73,
          0.64,
          0.76,
          0.76,
          0.76,
          0.82,
          0.67,
          0.73,
          0.61,
          0.73,
          0.61,
          0.67,
          0.73,
          0.79,
          0.67,
          0.67,
          0.64,
          0.96,
          0.96,
          0.96,
          0.96,
          0.96,
          0.96,
          1,
          1,
          0.93,
          1,
          0.93,
          0.96,
          0.96,
          0.96,
          1,
          0.96,
          0.89,
          0.89,
          0.89,
          1,
          1,
          1,
          1,
          1,
          1,
          1,
          1,
          1,
          1,
          1,
          1,
          0.97,
          1,
          1,
          1,
          1,
          1,
          1
         ],
         "xaxis": "x",
         "yaxis": "y"
        },
        {
         "alignmentgroup": "True",
         "boxpoints": "all",
         "customdata": [
          [
           "2021_3",
           "non_accelerated_filer",
           "roe"
          ],
          [
           "2021_3",
           "non_accelerated_filer",
           "roa"
          ],
          [
           "2021_3",
           "non_accelerated_filer",
           "roce"
          ],
          [
           "2021_3",
           "non_accelerated_filer",
           "gross_margin"
          ],
          [
           "2021_3",
           "non_accelerated_filer",
           "operating_profit_margin"
          ],
          [
           "2021_3",
           "non_accelerated_filer",
           "net_profit_margin"
          ],
          [
           "2021_3",
           "non_accelerated_filer",
           "debt_to_equity"
          ],
          [
           "2021_3",
           "non_accelerated_filer",
           "equity"
          ],
          [
           "2021_3",
           "non_accelerated_filer",
           "debt"
          ],
          [
           "2021_3",
           "non_accelerated_filer",
           "current"
          ],
          [
           "2021_3",
           "non_accelerated_filer",
           "quick"
          ],
          [
           "2021_3",
           "non_accelerated_filer",
           "cash"
          ],
          [
           "2021_3",
           "non_accelerated_filer",
           "times_interest_earned"
          ],
          [
           "2021_3",
           "non_accelerated_filer",
           "capex_to_operating_cash"
          ],
          [
           "2021_3",
           "non_accelerated_filer",
           "operating_cash_flow"
          ],
          [
           "2021_3",
           "non_accelerated_filer",
           "price_to_earnings"
          ],
          [
           "2021_3",
           "non_accelerated_filer",
           "ev_ebitda"
          ],
          [
           "2021_3",
           "non_accelerated_filer",
           "ev_ebit"
          ],
          [
           "2021_3",
           "non_accelerated_filer",
           "ev_revenue"
          ],
          [
           "2021_3",
           "accelerated_filer",
           "roe"
          ],
          [
           "2021_3",
           "accelerated_filer",
           "roa"
          ],
          [
           "2021_3",
           "accelerated_filer",
           "roce"
          ],
          [
           "2021_3",
           "accelerated_filer",
           "gross_margin"
          ],
          [
           "2021_3",
           "accelerated_filer",
           "operating_profit_margin"
          ],
          [
           "2021_3",
           "accelerated_filer",
           "net_profit_margin"
          ],
          [
           "2021_3",
           "accelerated_filer",
           "debt_to_equity"
          ],
          [
           "2021_3",
           "accelerated_filer",
           "equity"
          ],
          [
           "2021_3",
           "accelerated_filer",
           "debt"
          ],
          [
           "2021_3",
           "accelerated_filer",
           "current"
          ],
          [
           "2021_3",
           "accelerated_filer",
           "quick"
          ],
          [
           "2021_3",
           "accelerated_filer",
           "cash"
          ],
          [
           "2021_3",
           "accelerated_filer",
           "times_interest_earned"
          ],
          [
           "2021_3",
           "accelerated_filer",
           "capex_to_operating_cash"
          ],
          [
           "2021_3",
           "accelerated_filer",
           "operating_cash_flow"
          ],
          [
           "2021_3",
           "accelerated_filer",
           "price_to_earnings"
          ],
          [
           "2021_3",
           "accelerated_filer",
           "ev_ebitda"
          ],
          [
           "2021_3",
           "accelerated_filer",
           "ev_ebit"
          ],
          [
           "2021_3",
           "accelerated_filer",
           "ev_revenue"
          ],
          [
           "2021_3",
           "large_accelerated_filer",
           "roe"
          ],
          [
           "2021_3",
           "large_accelerated_filer",
           "roa"
          ],
          [
           "2021_3",
           "large_accelerated_filer",
           "roce"
          ],
          [
           "2021_3",
           "large_accelerated_filer",
           "gross_margin"
          ],
          [
           "2021_3",
           "large_accelerated_filer",
           "operating_profit_margin"
          ],
          [
           "2021_3",
           "large_accelerated_filer",
           "net_profit_margin"
          ],
          [
           "2021_3",
           "large_accelerated_filer",
           "debt_to_equity"
          ],
          [
           "2021_3",
           "large_accelerated_filer",
           "equity"
          ],
          [
           "2021_3",
           "large_accelerated_filer",
           "debt"
          ],
          [
           "2021_3",
           "large_accelerated_filer",
           "current"
          ],
          [
           "2021_3",
           "large_accelerated_filer",
           "quick"
          ],
          [
           "2021_3",
           "large_accelerated_filer",
           "cash"
          ],
          [
           "2021_3",
           "large_accelerated_filer",
           "times_interest_earned"
          ],
          [
           "2021_3",
           "large_accelerated_filer",
           "capex_to_operating_cash"
          ],
          [
           "2021_3",
           "large_accelerated_filer",
           "operating_cash_flow"
          ],
          [
           "2021_3",
           "large_accelerated_filer",
           "price_to_earnings"
          ],
          [
           "2021_3",
           "large_accelerated_filer",
           "ev_ebitda"
          ],
          [
           "2021_3",
           "large_accelerated_filer",
           "ev_ebit"
          ],
          [
           "2021_3",
           "large_accelerated_filer",
           "ev_revenue"
          ]
         ],
         "fillcolor": "rgba(255,255,255,0)",
         "hoveron": "points",
         "hovertemplate": "year_q=%{customdata[0]}<br>used_to_all=%{x}<br>filer_type=%{customdata[1]}<br>kpi=%{customdata[2]}<extra></extra>",
         "jitter": 0,
         "legendgroup": "2021_3",
         "line": {
          "color": "rgba(255,255,255,0)"
         },
         "marker": {
          "color": "#B6E880",
          "symbol": "line-ns-open"
         },
         "name": "2021_3",
         "offsetgroup": "2021_3",
         "showlegend": false,
         "type": "box",
         "x": [
          0.79,
          0.79,
          0.73,
          0.64,
          0.76,
          0.76,
          0.76,
          0.82,
          0.67,
          0.73,
          0.61,
          0.73,
          0.61,
          0.67,
          0.73,
          0.79,
          0.67,
          0.67,
          0.64,
          0.96,
          0.96,
          0.96,
          0.96,
          0.96,
          0.96,
          1,
          1,
          0.93,
          1,
          0.93,
          0.96,
          0.96,
          0.96,
          1,
          0.96,
          0.89,
          0.89,
          0.89,
          1,
          1,
          1,
          1,
          1,
          1,
          1,
          1,
          1,
          1,
          1,
          1,
          0.97,
          1,
          1,
          1,
          1,
          1,
          1
         ],
         "xaxis": "x2",
         "yaxis": "y2"
        }
       ],
       "layout": {
        "barmode": "relative",
        "legend": {
         "title": {
          "text": "year_q"
         },
         "tracegroupgap": 0
        },
        "template": {
         "data": {
          "bar": [
           {
            "error_x": {
             "color": "#2a3f5f"
            },
            "error_y": {
             "color": "#2a3f5f"
            },
            "marker": {
             "line": {
              "color": "#E5ECF6",
              "width": 0.5
             },
             "pattern": {
              "fillmode": "overlay",
              "size": 10,
              "solidity": 0.2
             }
            },
            "type": "bar"
           }
          ],
          "barpolar": [
           {
            "marker": {
             "line": {
              "color": "#E5ECF6",
              "width": 0.5
             },
             "pattern": {
              "fillmode": "overlay",
              "size": 10,
              "solidity": 0.2
             }
            },
            "type": "barpolar"
           }
          ],
          "carpet": [
           {
            "aaxis": {
             "endlinecolor": "#2a3f5f",
             "gridcolor": "white",
             "linecolor": "white",
             "minorgridcolor": "white",
             "startlinecolor": "#2a3f5f"
            },
            "baxis": {
             "endlinecolor": "#2a3f5f",
             "gridcolor": "white",
             "linecolor": "white",
             "minorgridcolor": "white",
             "startlinecolor": "#2a3f5f"
            },
            "type": "carpet"
           }
          ],
          "choropleth": [
           {
            "colorbar": {
             "outlinewidth": 0,
             "ticks": ""
            },
            "type": "choropleth"
           }
          ],
          "contour": [
           {
            "colorbar": {
             "outlinewidth": 0,
             "ticks": ""
            },
            "colorscale": [
             [
              0,
              "#0d0887"
             ],
             [
              0.1111111111111111,
              "#46039f"
             ],
             [
              0.2222222222222222,
              "#7201a8"
             ],
             [
              0.3333333333333333,
              "#9c179e"
             ],
             [
              0.4444444444444444,
              "#bd3786"
             ],
             [
              0.5555555555555556,
              "#d8576b"
             ],
             [
              0.6666666666666666,
              "#ed7953"
             ],
             [
              0.7777777777777778,
              "#fb9f3a"
             ],
             [
              0.8888888888888888,
              "#fdca26"
             ],
             [
              1,
              "#f0f921"
             ]
            ],
            "type": "contour"
           }
          ],
          "contourcarpet": [
           {
            "colorbar": {
             "outlinewidth": 0,
             "ticks": ""
            },
            "type": "contourcarpet"
           }
          ],
          "heatmap": [
           {
            "colorbar": {
             "outlinewidth": 0,
             "ticks": ""
            },
            "colorscale": [
             [
              0,
              "#0d0887"
             ],
             [
              0.1111111111111111,
              "#46039f"
             ],
             [
              0.2222222222222222,
              "#7201a8"
             ],
             [
              0.3333333333333333,
              "#9c179e"
             ],
             [
              0.4444444444444444,
              "#bd3786"
             ],
             [
              0.5555555555555556,
              "#d8576b"
             ],
             [
              0.6666666666666666,
              "#ed7953"
             ],
             [
              0.7777777777777778,
              "#fb9f3a"
             ],
             [
              0.8888888888888888,
              "#fdca26"
             ],
             [
              1,
              "#f0f921"
             ]
            ],
            "type": "heatmap"
           }
          ],
          "heatmapgl": [
           {
            "colorbar": {
             "outlinewidth": 0,
             "ticks": ""
            },
            "colorscale": [
             [
              0,
              "#0d0887"
             ],
             [
              0.1111111111111111,
              "#46039f"
             ],
             [
              0.2222222222222222,
              "#7201a8"
             ],
             [
              0.3333333333333333,
              "#9c179e"
             ],
             [
              0.4444444444444444,
              "#bd3786"
             ],
             [
              0.5555555555555556,
              "#d8576b"
             ],
             [
              0.6666666666666666,
              "#ed7953"
             ],
             [
              0.7777777777777778,
              "#fb9f3a"
             ],
             [
              0.8888888888888888,
              "#fdca26"
             ],
             [
              1,
              "#f0f921"
             ]
            ],
            "type": "heatmapgl"
           }
          ],
          "histogram": [
           {
            "marker": {
             "pattern": {
              "fillmode": "overlay",
              "size": 10,
              "solidity": 0.2
             }
            },
            "type": "histogram"
           }
          ],
          "histogram2d": [
           {
            "colorbar": {
             "outlinewidth": 0,
             "ticks": ""
            },
            "colorscale": [
             [
              0,
              "#0d0887"
             ],
             [
              0.1111111111111111,
              "#46039f"
             ],
             [
              0.2222222222222222,
              "#7201a8"
             ],
             [
              0.3333333333333333,
              "#9c179e"
             ],
             [
              0.4444444444444444,
              "#bd3786"
             ],
             [
              0.5555555555555556,
              "#d8576b"
             ],
             [
              0.6666666666666666,
              "#ed7953"
             ],
             [
              0.7777777777777778,
              "#fb9f3a"
             ],
             [
              0.8888888888888888,
              "#fdca26"
             ],
             [
              1,
              "#f0f921"
             ]
            ],
            "type": "histogram2d"
           }
          ],
          "histogram2dcontour": [
           {
            "colorbar": {
             "outlinewidth": 0,
             "ticks": ""
            },
            "colorscale": [
             [
              0,
              "#0d0887"
             ],
             [
              0.1111111111111111,
              "#46039f"
             ],
             [
              0.2222222222222222,
              "#7201a8"
             ],
             [
              0.3333333333333333,
              "#9c179e"
             ],
             [
              0.4444444444444444,
              "#bd3786"
             ],
             [
              0.5555555555555556,
              "#d8576b"
             ],
             [
              0.6666666666666666,
              "#ed7953"
             ],
             [
              0.7777777777777778,
              "#fb9f3a"
             ],
             [
              0.8888888888888888,
              "#fdca26"
             ],
             [
              1,
              "#f0f921"
             ]
            ],
            "type": "histogram2dcontour"
           }
          ],
          "mesh3d": [
           {
            "colorbar": {
             "outlinewidth": 0,
             "ticks": ""
            },
            "type": "mesh3d"
           }
          ],
          "parcoords": [
           {
            "line": {
             "colorbar": {
              "outlinewidth": 0,
              "ticks": ""
             }
            },
            "type": "parcoords"
           }
          ],
          "pie": [
           {
            "automargin": true,
            "type": "pie"
           }
          ],
          "scatter": [
           {
            "marker": {
             "colorbar": {
              "outlinewidth": 0,
              "ticks": ""
             }
            },
            "type": "scatter"
           }
          ],
          "scatter3d": [
           {
            "line": {
             "colorbar": {
              "outlinewidth": 0,
              "ticks": ""
             }
            },
            "marker": {
             "colorbar": {
              "outlinewidth": 0,
              "ticks": ""
             }
            },
            "type": "scatter3d"
           }
          ],
          "scattercarpet": [
           {
            "marker": {
             "colorbar": {
              "outlinewidth": 0,
              "ticks": ""
             }
            },
            "type": "scattercarpet"
           }
          ],
          "scattergeo": [
           {
            "marker": {
             "colorbar": {
              "outlinewidth": 0,
              "ticks": ""
             }
            },
            "type": "scattergeo"
           }
          ],
          "scattergl": [
           {
            "marker": {
             "colorbar": {
              "outlinewidth": 0,
              "ticks": ""
             }
            },
            "type": "scattergl"
           }
          ],
          "scattermapbox": [
           {
            "marker": {
             "colorbar": {
              "outlinewidth": 0,
              "ticks": ""
             }
            },
            "type": "scattermapbox"
           }
          ],
          "scatterpolar": [
           {
            "marker": {
             "colorbar": {
              "outlinewidth": 0,
              "ticks": ""
             }
            },
            "type": "scatterpolar"
           }
          ],
          "scatterpolargl": [
           {
            "marker": {
             "colorbar": {
              "outlinewidth": 0,
              "ticks": ""
             }
            },
            "type": "scatterpolargl"
           }
          ],
          "scatterternary": [
           {
            "marker": {
             "colorbar": {
              "outlinewidth": 0,
              "ticks": ""
             }
            },
            "type": "scatterternary"
           }
          ],
          "surface": [
           {
            "colorbar": {
             "outlinewidth": 0,
             "ticks": ""
            },
            "colorscale": [
             [
              0,
              "#0d0887"
             ],
             [
              0.1111111111111111,
              "#46039f"
             ],
             [
              0.2222222222222222,
              "#7201a8"
             ],
             [
              0.3333333333333333,
              "#9c179e"
             ],
             [
              0.4444444444444444,
              "#bd3786"
             ],
             [
              0.5555555555555556,
              "#d8576b"
             ],
             [
              0.6666666666666666,
              "#ed7953"
             ],
             [
              0.7777777777777778,
              "#fb9f3a"
             ],
             [
              0.8888888888888888,
              "#fdca26"
             ],
             [
              1,
              "#f0f921"
             ]
            ],
            "type": "surface"
           }
          ],
          "table": [
           {
            "cells": {
             "fill": {
              "color": "#EBF0F8"
             },
             "line": {
              "color": "white"
             }
            },
            "header": {
             "fill": {
              "color": "#C8D4E3"
             },
             "line": {
              "color": "white"
             }
            },
            "type": "table"
           }
          ]
         },
         "layout": {
          "annotationdefaults": {
           "arrowcolor": "#2a3f5f",
           "arrowhead": 0,
           "arrowwidth": 1
          },
          "autotypenumbers": "strict",
          "coloraxis": {
           "colorbar": {
            "outlinewidth": 0,
            "ticks": ""
           }
          },
          "colorscale": {
           "diverging": [
            [
             0,
             "#8e0152"
            ],
            [
             0.1,
             "#c51b7d"
            ],
            [
             0.2,
             "#de77ae"
            ],
            [
             0.3,
             "#f1b6da"
            ],
            [
             0.4,
             "#fde0ef"
            ],
            [
             0.5,
             "#f7f7f7"
            ],
            [
             0.6,
             "#e6f5d0"
            ],
            [
             0.7,
             "#b8e186"
            ],
            [
             0.8,
             "#7fbc41"
            ],
            [
             0.9,
             "#4d9221"
            ],
            [
             1,
             "#276419"
            ]
           ],
           "sequential": [
            [
             0,
             "#0d0887"
            ],
            [
             0.1111111111111111,
             "#46039f"
            ],
            [
             0.2222222222222222,
             "#7201a8"
            ],
            [
             0.3333333333333333,
             "#9c179e"
            ],
            [
             0.4444444444444444,
             "#bd3786"
            ],
            [
             0.5555555555555556,
             "#d8576b"
            ],
            [
             0.6666666666666666,
             "#ed7953"
            ],
            [
             0.7777777777777778,
             "#fb9f3a"
            ],
            [
             0.8888888888888888,
             "#fdca26"
            ],
            [
             1,
             "#f0f921"
            ]
           ],
           "sequentialminus": [
            [
             0,
             "#0d0887"
            ],
            [
             0.1111111111111111,
             "#46039f"
            ],
            [
             0.2222222222222222,
             "#7201a8"
            ],
            [
             0.3333333333333333,
             "#9c179e"
            ],
            [
             0.4444444444444444,
             "#bd3786"
            ],
            [
             0.5555555555555556,
             "#d8576b"
            ],
            [
             0.6666666666666666,
             "#ed7953"
            ],
            [
             0.7777777777777778,
             "#fb9f3a"
            ],
            [
             0.8888888888888888,
             "#fdca26"
            ],
            [
             1,
             "#f0f921"
            ]
           ]
          },
          "colorway": [
           "#636efa",
           "#EF553B",
           "#00cc96",
           "#ab63fa",
           "#FFA15A",
           "#19d3f3",
           "#FF6692",
           "#B6E880",
           "#FF97FF",
           "#FECB52"
          ],
          "font": {
           "color": "#2a3f5f"
          },
          "geo": {
           "bgcolor": "white",
           "lakecolor": "white",
           "landcolor": "#E5ECF6",
           "showlakes": true,
           "showland": true,
           "subunitcolor": "white"
          },
          "hoverlabel": {
           "align": "left"
          },
          "hovermode": "closest",
          "mapbox": {
           "style": "light"
          },
          "paper_bgcolor": "white",
          "plot_bgcolor": "#E5ECF6",
          "polar": {
           "angularaxis": {
            "gridcolor": "white",
            "linecolor": "white",
            "ticks": ""
           },
           "bgcolor": "#E5ECF6",
           "radialaxis": {
            "gridcolor": "white",
            "linecolor": "white",
            "ticks": ""
           }
          },
          "scene": {
           "xaxis": {
            "backgroundcolor": "#E5ECF6",
            "gridcolor": "white",
            "gridwidth": 2,
            "linecolor": "white",
            "showbackground": true,
            "ticks": "",
            "zerolinecolor": "white"
           },
           "yaxis": {
            "backgroundcolor": "#E5ECF6",
            "gridcolor": "white",
            "gridwidth": 2,
            "linecolor": "white",
            "showbackground": true,
            "ticks": "",
            "zerolinecolor": "white"
           },
           "zaxis": {
            "backgroundcolor": "#E5ECF6",
            "gridcolor": "white",
            "gridwidth": 2,
            "linecolor": "white",
            "showbackground": true,
            "ticks": "",
            "zerolinecolor": "white"
           }
          },
          "shapedefaults": {
           "line": {
            "color": "#2a3f5f"
           }
          },
          "ternary": {
           "aaxis": {
            "gridcolor": "white",
            "linecolor": "white",
            "ticks": ""
           },
           "baxis": {
            "gridcolor": "white",
            "linecolor": "white",
            "ticks": ""
           },
           "bgcolor": "#E5ECF6",
           "caxis": {
            "gridcolor": "white",
            "linecolor": "white",
            "ticks": ""
           }
          },
          "title": {
           "x": 0.05
          },
          "xaxis": {
           "automargin": true,
           "gridcolor": "white",
           "linecolor": "white",
           "ticks": "",
           "title": {
            "standoff": 15
           },
           "zerolinecolor": "white",
           "zerolinewidth": 2
          },
          "yaxis": {
           "automargin": true,
           "gridcolor": "white",
           "linecolor": "white",
           "ticks": "",
           "title": {
            "standoff": 15
           },
           "zerolinecolor": "white",
           "zerolinewidth": 2
          }
         }
        },
        "title": {
         "text": "Percentage used KPIs from all for calculating mean/median | color: year Q"
        },
        "xaxis": {
         "anchor": "y",
         "domain": [
          0,
          1
         ],
         "title": {
          "text": "used_to_all"
         }
        },
        "xaxis2": {
         "anchor": "y2",
         "domain": [
          0,
          1
         ],
         "matches": "x",
         "showgrid": true,
         "showticklabels": false
        },
        "yaxis": {
         "anchor": "x",
         "domain": [
          0,
          0.7326
         ],
         "title": {
          "text": "count"
         }
        },
        "yaxis2": {
         "anchor": "x2",
         "domain": [
          0.7426,
          1
         ],
         "matches": "y2",
         "showgrid": false,
         "showline": false,
         "showticklabels": false,
         "ticks": ""
        }
       }
      }
     },
     "metadata": {},
     "output_type": "display_data"
    }
   ],
   "source": [
    "import plotly.express as px\n",
    "\n",
    "fig = px.histogram(df_for_plot, x=\"used_to_all\", color=\"year_q\", marginal=\"rug\",\n",
    "                   hover_data=df_for_plot.columns, title=\"Percentage used KPIs from all for calculating mean/median | color: year Q\")\n",
    "fig.show()"
   ]
  },
  {
   "cell_type": "code",
   "execution_count": 36,
   "metadata": {},
   "outputs": [
    {
     "data": {
      "application/vnd.plotly.v1+json": {
       "config": {
        "plotlyServerURL": "https://plot.ly"
       },
       "data": [
        {
         "alignmentgroup": "True",
         "bingroup": "x",
         "hovertemplate": "filer_type=accelerated_filer<br>used_to_all=%{x}<br>count=%{y}<extra></extra>",
         "legendgroup": "accelerated_filer",
         "marker": {
          "color": "#636efa",
          "pattern": {
           "shape": ""
          }
         },
         "name": "accelerated_filer",
         "offsetgroup": "accelerated_filer",
         "orientation": "v",
         "showlegend": true,
         "type": "histogram",
         "x": [
          0.85,
          0.88,
          0.82,
          0.79,
          0.85,
          0.85,
          0.88,
          0.91,
          0.68,
          0.91,
          0.74,
          0.91,
          0.68,
          0.68,
          0.82,
          0.88,
          0.65,
          0.65,
          0.62,
          0.94,
          0.97,
          0.91,
          0.91,
          0.94,
          0.94,
          0.91,
          0.94,
          0.74,
          0.91,
          0.71,
          0.91,
          0.79,
          0.79,
          0.88,
          0.97,
          0.74,
          0.74,
          0.68,
          0.97,
          0.97,
          0.91,
          0.91,
          0.91,
          0.91,
          0.91,
          0.97,
          0.71,
          0.91,
          0.68,
          0.91,
          0.76,
          0.74,
          0.91,
          0.97,
          0.71,
          0.71,
          0.68,
          1,
          1,
          0.94,
          0.97,
          0.97,
          0.97,
          0.94,
          1,
          0.75,
          0.94,
          0.78,
          0.94,
          0.78,
          0.75,
          0.94,
          1,
          0.69,
          0.75,
          0.75,
          0.95,
          0.95,
          0.89,
          0.89,
          0.89,
          0.89,
          0.89,
          0.95,
          0.74,
          0.89,
          0.74,
          0.89,
          0.74,
          0.76,
          0.89,
          0.95,
          0.68,
          0.74,
          0.71,
          0.97,
          0.97,
          0.95,
          0.92,
          0.92,
          0.92,
          0.95,
          0.97,
          0.76,
          0.95,
          0.78,
          0.95,
          0.78,
          0.81,
          0.92,
          0.97,
          0.7,
          0.76,
          0.73,
          1,
          1,
          0.95,
          0.97,
          0.97,
          0.97,
          0.95,
          1,
          0.73,
          0.95,
          0.78,
          0.95,
          0.78,
          0.78,
          0.95,
          1,
          0.68,
          0.73,
          0.73,
          0.86,
          0.86,
          0.83,
          0.83,
          0.83,
          0.83,
          0.83,
          0.86,
          0.66,
          0.83,
          0.69,
          0.83,
          0.69,
          0.71,
          0.83,
          0.86,
          0.63,
          0.66,
          0.66,
          0.97,
          0.97,
          0.91,
          0.94,
          0.94,
          0.94,
          0.91,
          0.97,
          0.77,
          0.91,
          0.71,
          0.91,
          0.77,
          0.77,
          0.91,
          0.97,
          0.77,
          0.77,
          0.74,
          0.97,
          1,
          0.94,
          0.97,
          0.97,
          0.97,
          0.94,
          0.97,
          0.8,
          0.94,
          0.74,
          0.94,
          0.77,
          0.8,
          0.91,
          1,
          0.8,
          0.8,
          0.77,
          0.74,
          0.77,
          0.77,
          0.74,
          0.74,
          0.74,
          0.74,
          0.74,
          0.69,
          0.77,
          0.63,
          0.77,
          0.66,
          0.69,
          0.74,
          0.77,
          0.69,
          0.69,
          0.66,
          0.97,
          0.97,
          0.97,
          0.94,
          0.94,
          0.94,
          0.97,
          0.97,
          0.84,
          0.97,
          0.78,
          0.94,
          0.81,
          0.84,
          0.97,
          0.97,
          0.78,
          0.81,
          0.78,
          0.56,
          0.56,
          0.56,
          0.56,
          0.56,
          0.56,
          0.56,
          0.56,
          0.56,
          0.56,
          0.53,
          0.56,
          0.56,
          0.56,
          0.56,
          0.56,
          0.56,
          0.56,
          0.56,
          0.81,
          0.81,
          0.81,
          0.78,
          0.78,
          0.78,
          0.81,
          0.81,
          0.81,
          0.81,
          0.75,
          0.81,
          0.78,
          0.81,
          0.81,
          0.81,
          0.81,
          0.81,
          0.78,
          0.91,
          0.91,
          0.91,
          0.81,
          0.84,
          0.84,
          0.91,
          0.91,
          0.81,
          0.91,
          0.72,
          0.91,
          0.78,
          0.78,
          0.91,
          0.91,
          0.81,
          0.81,
          0.78,
          0.96,
          0.96,
          0.96,
          0.92,
          0.96,
          0.96,
          0.96,
          0.96,
          0.88,
          0.96,
          0.92,
          0.96,
          0.92,
          0.92,
          0.96,
          0.96,
          0.88,
          0.88,
          0.88,
          0.93,
          0.93,
          0.93,
          0.89,
          0.93,
          0.93,
          0.93,
          0.93,
          0.86,
          0.93,
          0.86,
          0.89,
          0.89,
          0.89,
          0.93,
          0.93,
          0.82,
          0.82,
          0.82,
          0.96,
          0.96,
          0.96,
          0.96,
          0.96,
          0.96,
          1,
          1,
          0.93,
          1,
          0.93,
          0.96,
          0.96,
          0.96,
          1,
          0.96,
          0.89,
          0.89,
          0.89
         ],
         "xaxis": "x",
         "yaxis": "y"
        },
        {
         "alignmentgroup": "True",
         "boxpoints": "all",
         "customdata": [
          [
           "2017_2",
           "accelerated_filer",
           "roe"
          ],
          [
           "2017_2",
           "accelerated_filer",
           "roa"
          ],
          [
           "2017_2",
           "accelerated_filer",
           "roce"
          ],
          [
           "2017_2",
           "accelerated_filer",
           "gross_margin"
          ],
          [
           "2017_2",
           "accelerated_filer",
           "operating_profit_margin"
          ],
          [
           "2017_2",
           "accelerated_filer",
           "net_profit_margin"
          ],
          [
           "2017_2",
           "accelerated_filer",
           "debt_to_equity"
          ],
          [
           "2017_2",
           "accelerated_filer",
           "equity"
          ],
          [
           "2017_2",
           "accelerated_filer",
           "debt"
          ],
          [
           "2017_2",
           "accelerated_filer",
           "current"
          ],
          [
           "2017_2",
           "accelerated_filer",
           "quick"
          ],
          [
           "2017_2",
           "accelerated_filer",
           "cash"
          ],
          [
           "2017_2",
           "accelerated_filer",
           "times_interest_earned"
          ],
          [
           "2017_2",
           "accelerated_filer",
           "capex_to_operating_cash"
          ],
          [
           "2017_2",
           "accelerated_filer",
           "operating_cash_flow"
          ],
          [
           "2017_2",
           "accelerated_filer",
           "price_to_earnings"
          ],
          [
           "2017_2",
           "accelerated_filer",
           "ev_ebitda"
          ],
          [
           "2017_2",
           "accelerated_filer",
           "ev_ebit"
          ],
          [
           "2017_2",
           "accelerated_filer",
           "ev_revenue"
          ],
          [
           "2017_3",
           "accelerated_filer",
           "roe"
          ],
          [
           "2017_3",
           "accelerated_filer",
           "roa"
          ],
          [
           "2017_3",
           "accelerated_filer",
           "roce"
          ],
          [
           "2017_3",
           "accelerated_filer",
           "gross_margin"
          ],
          [
           "2017_3",
           "accelerated_filer",
           "operating_profit_margin"
          ],
          [
           "2017_3",
           "accelerated_filer",
           "net_profit_margin"
          ],
          [
           "2017_3",
           "accelerated_filer",
           "debt_to_equity"
          ],
          [
           "2017_3",
           "accelerated_filer",
           "equity"
          ],
          [
           "2017_3",
           "accelerated_filer",
           "debt"
          ],
          [
           "2017_3",
           "accelerated_filer",
           "current"
          ],
          [
           "2017_3",
           "accelerated_filer",
           "quick"
          ],
          [
           "2017_3",
           "accelerated_filer",
           "cash"
          ],
          [
           "2017_3",
           "accelerated_filer",
           "times_interest_earned"
          ],
          [
           "2017_3",
           "accelerated_filer",
           "capex_to_operating_cash"
          ],
          [
           "2017_3",
           "accelerated_filer",
           "operating_cash_flow"
          ],
          [
           "2017_3",
           "accelerated_filer",
           "price_to_earnings"
          ],
          [
           "2017_3",
           "accelerated_filer",
           "ev_ebitda"
          ],
          [
           "2017_3",
           "accelerated_filer",
           "ev_ebit"
          ],
          [
           "2017_3",
           "accelerated_filer",
           "ev_revenue"
          ],
          [
           "2017_4",
           "accelerated_filer",
           "roe"
          ],
          [
           "2017_4",
           "accelerated_filer",
           "roa"
          ],
          [
           "2017_4",
           "accelerated_filer",
           "roce"
          ],
          [
           "2017_4",
           "accelerated_filer",
           "gross_margin"
          ],
          [
           "2017_4",
           "accelerated_filer",
           "operating_profit_margin"
          ],
          [
           "2017_4",
           "accelerated_filer",
           "net_profit_margin"
          ],
          [
           "2017_4",
           "accelerated_filer",
           "debt_to_equity"
          ],
          [
           "2017_4",
           "accelerated_filer",
           "equity"
          ],
          [
           "2017_4",
           "accelerated_filer",
           "debt"
          ],
          [
           "2017_4",
           "accelerated_filer",
           "current"
          ],
          [
           "2017_4",
           "accelerated_filer",
           "quick"
          ],
          [
           "2017_4",
           "accelerated_filer",
           "cash"
          ],
          [
           "2017_4",
           "accelerated_filer",
           "times_interest_earned"
          ],
          [
           "2017_4",
           "accelerated_filer",
           "capex_to_operating_cash"
          ],
          [
           "2017_4",
           "accelerated_filer",
           "operating_cash_flow"
          ],
          [
           "2017_4",
           "accelerated_filer",
           "price_to_earnings"
          ],
          [
           "2017_4",
           "accelerated_filer",
           "ev_ebitda"
          ],
          [
           "2017_4",
           "accelerated_filer",
           "ev_ebit"
          ],
          [
           "2017_4",
           "accelerated_filer",
           "ev_revenue"
          ],
          [
           "2018_1",
           "accelerated_filer",
           "roe"
          ],
          [
           "2018_1",
           "accelerated_filer",
           "roa"
          ],
          [
           "2018_1",
           "accelerated_filer",
           "roce"
          ],
          [
           "2018_1",
           "accelerated_filer",
           "gross_margin"
          ],
          [
           "2018_1",
           "accelerated_filer",
           "operating_profit_margin"
          ],
          [
           "2018_1",
           "accelerated_filer",
           "net_profit_margin"
          ],
          [
           "2018_1",
           "accelerated_filer",
           "debt_to_equity"
          ],
          [
           "2018_1",
           "accelerated_filer",
           "equity"
          ],
          [
           "2018_1",
           "accelerated_filer",
           "debt"
          ],
          [
           "2018_1",
           "accelerated_filer",
           "current"
          ],
          [
           "2018_1",
           "accelerated_filer",
           "quick"
          ],
          [
           "2018_1",
           "accelerated_filer",
           "cash"
          ],
          [
           "2018_1",
           "accelerated_filer",
           "times_interest_earned"
          ],
          [
           "2018_1",
           "accelerated_filer",
           "capex_to_operating_cash"
          ],
          [
           "2018_1",
           "accelerated_filer",
           "operating_cash_flow"
          ],
          [
           "2018_1",
           "accelerated_filer",
           "price_to_earnings"
          ],
          [
           "2018_1",
           "accelerated_filer",
           "ev_ebitda"
          ],
          [
           "2018_1",
           "accelerated_filer",
           "ev_ebit"
          ],
          [
           "2018_1",
           "accelerated_filer",
           "ev_revenue"
          ],
          [
           "2018_2",
           "accelerated_filer",
           "roe"
          ],
          [
           "2018_2",
           "accelerated_filer",
           "roa"
          ],
          [
           "2018_2",
           "accelerated_filer",
           "roce"
          ],
          [
           "2018_2",
           "accelerated_filer",
           "gross_margin"
          ],
          [
           "2018_2",
           "accelerated_filer",
           "operating_profit_margin"
          ],
          [
           "2018_2",
           "accelerated_filer",
           "net_profit_margin"
          ],
          [
           "2018_2",
           "accelerated_filer",
           "debt_to_equity"
          ],
          [
           "2018_2",
           "accelerated_filer",
           "equity"
          ],
          [
           "2018_2",
           "accelerated_filer",
           "debt"
          ],
          [
           "2018_2",
           "accelerated_filer",
           "current"
          ],
          [
           "2018_2",
           "accelerated_filer",
           "quick"
          ],
          [
           "2018_2",
           "accelerated_filer",
           "cash"
          ],
          [
           "2018_2",
           "accelerated_filer",
           "times_interest_earned"
          ],
          [
           "2018_2",
           "accelerated_filer",
           "capex_to_operating_cash"
          ],
          [
           "2018_2",
           "accelerated_filer",
           "operating_cash_flow"
          ],
          [
           "2018_2",
           "accelerated_filer",
           "price_to_earnings"
          ],
          [
           "2018_2",
           "accelerated_filer",
           "ev_ebitda"
          ],
          [
           "2018_2",
           "accelerated_filer",
           "ev_ebit"
          ],
          [
           "2018_2",
           "accelerated_filer",
           "ev_revenue"
          ],
          [
           "2018_3",
           "accelerated_filer",
           "roe"
          ],
          [
           "2018_3",
           "accelerated_filer",
           "roa"
          ],
          [
           "2018_3",
           "accelerated_filer",
           "roce"
          ],
          [
           "2018_3",
           "accelerated_filer",
           "gross_margin"
          ],
          [
           "2018_3",
           "accelerated_filer",
           "operating_profit_margin"
          ],
          [
           "2018_3",
           "accelerated_filer",
           "net_profit_margin"
          ],
          [
           "2018_3",
           "accelerated_filer",
           "debt_to_equity"
          ],
          [
           "2018_3",
           "accelerated_filer",
           "equity"
          ],
          [
           "2018_3",
           "accelerated_filer",
           "debt"
          ],
          [
           "2018_3",
           "accelerated_filer",
           "current"
          ],
          [
           "2018_3",
           "accelerated_filer",
           "quick"
          ],
          [
           "2018_3",
           "accelerated_filer",
           "cash"
          ],
          [
           "2018_3",
           "accelerated_filer",
           "times_interest_earned"
          ],
          [
           "2018_3",
           "accelerated_filer",
           "capex_to_operating_cash"
          ],
          [
           "2018_3",
           "accelerated_filer",
           "operating_cash_flow"
          ],
          [
           "2018_3",
           "accelerated_filer",
           "price_to_earnings"
          ],
          [
           "2018_3",
           "accelerated_filer",
           "ev_ebitda"
          ],
          [
           "2018_3",
           "accelerated_filer",
           "ev_ebit"
          ],
          [
           "2018_3",
           "accelerated_filer",
           "ev_revenue"
          ],
          [
           "2018_4",
           "accelerated_filer",
           "roe"
          ],
          [
           "2018_4",
           "accelerated_filer",
           "roa"
          ],
          [
           "2018_4",
           "accelerated_filer",
           "roce"
          ],
          [
           "2018_4",
           "accelerated_filer",
           "gross_margin"
          ],
          [
           "2018_4",
           "accelerated_filer",
           "operating_profit_margin"
          ],
          [
           "2018_4",
           "accelerated_filer",
           "net_profit_margin"
          ],
          [
           "2018_4",
           "accelerated_filer",
           "debt_to_equity"
          ],
          [
           "2018_4",
           "accelerated_filer",
           "equity"
          ],
          [
           "2018_4",
           "accelerated_filer",
           "debt"
          ],
          [
           "2018_4",
           "accelerated_filer",
           "current"
          ],
          [
           "2018_4",
           "accelerated_filer",
           "quick"
          ],
          [
           "2018_4",
           "accelerated_filer",
           "cash"
          ],
          [
           "2018_4",
           "accelerated_filer",
           "times_interest_earned"
          ],
          [
           "2018_4",
           "accelerated_filer",
           "capex_to_operating_cash"
          ],
          [
           "2018_4",
           "accelerated_filer",
           "operating_cash_flow"
          ],
          [
           "2018_4",
           "accelerated_filer",
           "price_to_earnings"
          ],
          [
           "2018_4",
           "accelerated_filer",
           "ev_ebitda"
          ],
          [
           "2018_4",
           "accelerated_filer",
           "ev_ebit"
          ],
          [
           "2018_4",
           "accelerated_filer",
           "ev_revenue"
          ],
          [
           "2019_1",
           "accelerated_filer",
           "roe"
          ],
          [
           "2019_1",
           "accelerated_filer",
           "roa"
          ],
          [
           "2019_1",
           "accelerated_filer",
           "roce"
          ],
          [
           "2019_1",
           "accelerated_filer",
           "gross_margin"
          ],
          [
           "2019_1",
           "accelerated_filer",
           "operating_profit_margin"
          ],
          [
           "2019_1",
           "accelerated_filer",
           "net_profit_margin"
          ],
          [
           "2019_1",
           "accelerated_filer",
           "debt_to_equity"
          ],
          [
           "2019_1",
           "accelerated_filer",
           "equity"
          ],
          [
           "2019_1",
           "accelerated_filer",
           "debt"
          ],
          [
           "2019_1",
           "accelerated_filer",
           "current"
          ],
          [
           "2019_1",
           "accelerated_filer",
           "quick"
          ],
          [
           "2019_1",
           "accelerated_filer",
           "cash"
          ],
          [
           "2019_1",
           "accelerated_filer",
           "times_interest_earned"
          ],
          [
           "2019_1",
           "accelerated_filer",
           "capex_to_operating_cash"
          ],
          [
           "2019_1",
           "accelerated_filer",
           "operating_cash_flow"
          ],
          [
           "2019_1",
           "accelerated_filer",
           "price_to_earnings"
          ],
          [
           "2019_1",
           "accelerated_filer",
           "ev_ebitda"
          ],
          [
           "2019_1",
           "accelerated_filer",
           "ev_ebit"
          ],
          [
           "2019_1",
           "accelerated_filer",
           "ev_revenue"
          ],
          [
           "2019_2",
           "accelerated_filer",
           "roe"
          ],
          [
           "2019_2",
           "accelerated_filer",
           "roa"
          ],
          [
           "2019_2",
           "accelerated_filer",
           "roce"
          ],
          [
           "2019_2",
           "accelerated_filer",
           "gross_margin"
          ],
          [
           "2019_2",
           "accelerated_filer",
           "operating_profit_margin"
          ],
          [
           "2019_2",
           "accelerated_filer",
           "net_profit_margin"
          ],
          [
           "2019_2",
           "accelerated_filer",
           "debt_to_equity"
          ],
          [
           "2019_2",
           "accelerated_filer",
           "equity"
          ],
          [
           "2019_2",
           "accelerated_filer",
           "debt"
          ],
          [
           "2019_2",
           "accelerated_filer",
           "current"
          ],
          [
           "2019_2",
           "accelerated_filer",
           "quick"
          ],
          [
           "2019_2",
           "accelerated_filer",
           "cash"
          ],
          [
           "2019_2",
           "accelerated_filer",
           "times_interest_earned"
          ],
          [
           "2019_2",
           "accelerated_filer",
           "capex_to_operating_cash"
          ],
          [
           "2019_2",
           "accelerated_filer",
           "operating_cash_flow"
          ],
          [
           "2019_2",
           "accelerated_filer",
           "price_to_earnings"
          ],
          [
           "2019_2",
           "accelerated_filer",
           "ev_ebitda"
          ],
          [
           "2019_2",
           "accelerated_filer",
           "ev_ebit"
          ],
          [
           "2019_2",
           "accelerated_filer",
           "ev_revenue"
          ],
          [
           "2019_3",
           "accelerated_filer",
           "roe"
          ],
          [
           "2019_3",
           "accelerated_filer",
           "roa"
          ],
          [
           "2019_3",
           "accelerated_filer",
           "roce"
          ],
          [
           "2019_3",
           "accelerated_filer",
           "gross_margin"
          ],
          [
           "2019_3",
           "accelerated_filer",
           "operating_profit_margin"
          ],
          [
           "2019_3",
           "accelerated_filer",
           "net_profit_margin"
          ],
          [
           "2019_3",
           "accelerated_filer",
           "debt_to_equity"
          ],
          [
           "2019_3",
           "accelerated_filer",
           "equity"
          ],
          [
           "2019_3",
           "accelerated_filer",
           "debt"
          ],
          [
           "2019_3",
           "accelerated_filer",
           "current"
          ],
          [
           "2019_3",
           "accelerated_filer",
           "quick"
          ],
          [
           "2019_3",
           "accelerated_filer",
           "cash"
          ],
          [
           "2019_3",
           "accelerated_filer",
           "times_interest_earned"
          ],
          [
           "2019_3",
           "accelerated_filer",
           "capex_to_operating_cash"
          ],
          [
           "2019_3",
           "accelerated_filer",
           "operating_cash_flow"
          ],
          [
           "2019_3",
           "accelerated_filer",
           "price_to_earnings"
          ],
          [
           "2019_3",
           "accelerated_filer",
           "ev_ebitda"
          ],
          [
           "2019_3",
           "accelerated_filer",
           "ev_ebit"
          ],
          [
           "2019_3",
           "accelerated_filer",
           "ev_revenue"
          ],
          [
           "2019_4",
           "accelerated_filer",
           "roe"
          ],
          [
           "2019_4",
           "accelerated_filer",
           "roa"
          ],
          [
           "2019_4",
           "accelerated_filer",
           "roce"
          ],
          [
           "2019_4",
           "accelerated_filer",
           "gross_margin"
          ],
          [
           "2019_4",
           "accelerated_filer",
           "operating_profit_margin"
          ],
          [
           "2019_4",
           "accelerated_filer",
           "net_profit_margin"
          ],
          [
           "2019_4",
           "accelerated_filer",
           "debt_to_equity"
          ],
          [
           "2019_4",
           "accelerated_filer",
           "equity"
          ],
          [
           "2019_4",
           "accelerated_filer",
           "debt"
          ],
          [
           "2019_4",
           "accelerated_filer",
           "current"
          ],
          [
           "2019_4",
           "accelerated_filer",
           "quick"
          ],
          [
           "2019_4",
           "accelerated_filer",
           "cash"
          ],
          [
           "2019_4",
           "accelerated_filer",
           "times_interest_earned"
          ],
          [
           "2019_4",
           "accelerated_filer",
           "capex_to_operating_cash"
          ],
          [
           "2019_4",
           "accelerated_filer",
           "operating_cash_flow"
          ],
          [
           "2019_4",
           "accelerated_filer",
           "price_to_earnings"
          ],
          [
           "2019_4",
           "accelerated_filer",
           "ev_ebitda"
          ],
          [
           "2019_4",
           "accelerated_filer",
           "ev_ebit"
          ],
          [
           "2019_4",
           "accelerated_filer",
           "ev_revenue"
          ],
          [
           "2020_1",
           "accelerated_filer",
           "roe"
          ],
          [
           "2020_1",
           "accelerated_filer",
           "roa"
          ],
          [
           "2020_1",
           "accelerated_filer",
           "roce"
          ],
          [
           "2020_1",
           "accelerated_filer",
           "gross_margin"
          ],
          [
           "2020_1",
           "accelerated_filer",
           "operating_profit_margin"
          ],
          [
           "2020_1",
           "accelerated_filer",
           "net_profit_margin"
          ],
          [
           "2020_1",
           "accelerated_filer",
           "debt_to_equity"
          ],
          [
           "2020_1",
           "accelerated_filer",
           "equity"
          ],
          [
           "2020_1",
           "accelerated_filer",
           "debt"
          ],
          [
           "2020_1",
           "accelerated_filer",
           "current"
          ],
          [
           "2020_1",
           "accelerated_filer",
           "quick"
          ],
          [
           "2020_1",
           "accelerated_filer",
           "cash"
          ],
          [
           "2020_1",
           "accelerated_filer",
           "times_interest_earned"
          ],
          [
           "2020_1",
           "accelerated_filer",
           "capex_to_operating_cash"
          ],
          [
           "2020_1",
           "accelerated_filer",
           "operating_cash_flow"
          ],
          [
           "2020_1",
           "accelerated_filer",
           "price_to_earnings"
          ],
          [
           "2020_1",
           "accelerated_filer",
           "ev_ebitda"
          ],
          [
           "2020_1",
           "accelerated_filer",
           "ev_ebit"
          ],
          [
           "2020_1",
           "accelerated_filer",
           "ev_revenue"
          ],
          [
           "2020_2",
           "accelerated_filer",
           "roe"
          ],
          [
           "2020_2",
           "accelerated_filer",
           "roa"
          ],
          [
           "2020_2",
           "accelerated_filer",
           "roce"
          ],
          [
           "2020_2",
           "accelerated_filer",
           "gross_margin"
          ],
          [
           "2020_2",
           "accelerated_filer",
           "operating_profit_margin"
          ],
          [
           "2020_2",
           "accelerated_filer",
           "net_profit_margin"
          ],
          [
           "2020_2",
           "accelerated_filer",
           "debt_to_equity"
          ],
          [
           "2020_2",
           "accelerated_filer",
           "equity"
          ],
          [
           "2020_2",
           "accelerated_filer",
           "debt"
          ],
          [
           "2020_2",
           "accelerated_filer",
           "current"
          ],
          [
           "2020_2",
           "accelerated_filer",
           "quick"
          ],
          [
           "2020_2",
           "accelerated_filer",
           "cash"
          ],
          [
           "2020_2",
           "accelerated_filer",
           "times_interest_earned"
          ],
          [
           "2020_2",
           "accelerated_filer",
           "capex_to_operating_cash"
          ],
          [
           "2020_2",
           "accelerated_filer",
           "operating_cash_flow"
          ],
          [
           "2020_2",
           "accelerated_filer",
           "price_to_earnings"
          ],
          [
           "2020_2",
           "accelerated_filer",
           "ev_ebitda"
          ],
          [
           "2020_2",
           "accelerated_filer",
           "ev_ebit"
          ],
          [
           "2020_2",
           "accelerated_filer",
           "ev_revenue"
          ],
          [
           "2020_3",
           "accelerated_filer",
           "roe"
          ],
          [
           "2020_3",
           "accelerated_filer",
           "roa"
          ],
          [
           "2020_3",
           "accelerated_filer",
           "roce"
          ],
          [
           "2020_3",
           "accelerated_filer",
           "gross_margin"
          ],
          [
           "2020_3",
           "accelerated_filer",
           "operating_profit_margin"
          ],
          [
           "2020_3",
           "accelerated_filer",
           "net_profit_margin"
          ],
          [
           "2020_3",
           "accelerated_filer",
           "debt_to_equity"
          ],
          [
           "2020_3",
           "accelerated_filer",
           "equity"
          ],
          [
           "2020_3",
           "accelerated_filer",
           "debt"
          ],
          [
           "2020_3",
           "accelerated_filer",
           "current"
          ],
          [
           "2020_3",
           "accelerated_filer",
           "quick"
          ],
          [
           "2020_3",
           "accelerated_filer",
           "cash"
          ],
          [
           "2020_3",
           "accelerated_filer",
           "times_interest_earned"
          ],
          [
           "2020_3",
           "accelerated_filer",
           "capex_to_operating_cash"
          ],
          [
           "2020_3",
           "accelerated_filer",
           "operating_cash_flow"
          ],
          [
           "2020_3",
           "accelerated_filer",
           "price_to_earnings"
          ],
          [
           "2020_3",
           "accelerated_filer",
           "ev_ebitda"
          ],
          [
           "2020_3",
           "accelerated_filer",
           "ev_ebit"
          ],
          [
           "2020_3",
           "accelerated_filer",
           "ev_revenue"
          ],
          [
           "2020_4",
           "accelerated_filer",
           "roe"
          ],
          [
           "2020_4",
           "accelerated_filer",
           "roa"
          ],
          [
           "2020_4",
           "accelerated_filer",
           "roce"
          ],
          [
           "2020_4",
           "accelerated_filer",
           "gross_margin"
          ],
          [
           "2020_4",
           "accelerated_filer",
           "operating_profit_margin"
          ],
          [
           "2020_4",
           "accelerated_filer",
           "net_profit_margin"
          ],
          [
           "2020_4",
           "accelerated_filer",
           "debt_to_equity"
          ],
          [
           "2020_4",
           "accelerated_filer",
           "equity"
          ],
          [
           "2020_4",
           "accelerated_filer",
           "debt"
          ],
          [
           "2020_4",
           "accelerated_filer",
           "current"
          ],
          [
           "2020_4",
           "accelerated_filer",
           "quick"
          ],
          [
           "2020_4",
           "accelerated_filer",
           "cash"
          ],
          [
           "2020_4",
           "accelerated_filer",
           "times_interest_earned"
          ],
          [
           "2020_4",
           "accelerated_filer",
           "capex_to_operating_cash"
          ],
          [
           "2020_4",
           "accelerated_filer",
           "operating_cash_flow"
          ],
          [
           "2020_4",
           "accelerated_filer",
           "price_to_earnings"
          ],
          [
           "2020_4",
           "accelerated_filer",
           "ev_ebitda"
          ],
          [
           "2020_4",
           "accelerated_filer",
           "ev_ebit"
          ],
          [
           "2020_4",
           "accelerated_filer",
           "ev_revenue"
          ],
          [
           "2021_1",
           "accelerated_filer",
           "roe"
          ],
          [
           "2021_1",
           "accelerated_filer",
           "roa"
          ],
          [
           "2021_1",
           "accelerated_filer",
           "roce"
          ],
          [
           "2021_1",
           "accelerated_filer",
           "gross_margin"
          ],
          [
           "2021_1",
           "accelerated_filer",
           "operating_profit_margin"
          ],
          [
           "2021_1",
           "accelerated_filer",
           "net_profit_margin"
          ],
          [
           "2021_1",
           "accelerated_filer",
           "debt_to_equity"
          ],
          [
           "2021_1",
           "accelerated_filer",
           "equity"
          ],
          [
           "2021_1",
           "accelerated_filer",
           "debt"
          ],
          [
           "2021_1",
           "accelerated_filer",
           "current"
          ],
          [
           "2021_1",
           "accelerated_filer",
           "quick"
          ],
          [
           "2021_1",
           "accelerated_filer",
           "cash"
          ],
          [
           "2021_1",
           "accelerated_filer",
           "times_interest_earned"
          ],
          [
           "2021_1",
           "accelerated_filer",
           "capex_to_operating_cash"
          ],
          [
           "2021_1",
           "accelerated_filer",
           "operating_cash_flow"
          ],
          [
           "2021_1",
           "accelerated_filer",
           "price_to_earnings"
          ],
          [
           "2021_1",
           "accelerated_filer",
           "ev_ebitda"
          ],
          [
           "2021_1",
           "accelerated_filer",
           "ev_ebit"
          ],
          [
           "2021_1",
           "accelerated_filer",
           "ev_revenue"
          ],
          [
           "2021_2",
           "accelerated_filer",
           "roe"
          ],
          [
           "2021_2",
           "accelerated_filer",
           "roa"
          ],
          [
           "2021_2",
           "accelerated_filer",
           "roce"
          ],
          [
           "2021_2",
           "accelerated_filer",
           "gross_margin"
          ],
          [
           "2021_2",
           "accelerated_filer",
           "operating_profit_margin"
          ],
          [
           "2021_2",
           "accelerated_filer",
           "net_profit_margin"
          ],
          [
           "2021_2",
           "accelerated_filer",
           "debt_to_equity"
          ],
          [
           "2021_2",
           "accelerated_filer",
           "equity"
          ],
          [
           "2021_2",
           "accelerated_filer",
           "debt"
          ],
          [
           "2021_2",
           "accelerated_filer",
           "current"
          ],
          [
           "2021_2",
           "accelerated_filer",
           "quick"
          ],
          [
           "2021_2",
           "accelerated_filer",
           "cash"
          ],
          [
           "2021_2",
           "accelerated_filer",
           "times_interest_earned"
          ],
          [
           "2021_2",
           "accelerated_filer",
           "capex_to_operating_cash"
          ],
          [
           "2021_2",
           "accelerated_filer",
           "operating_cash_flow"
          ],
          [
           "2021_2",
           "accelerated_filer",
           "price_to_earnings"
          ],
          [
           "2021_2",
           "accelerated_filer",
           "ev_ebitda"
          ],
          [
           "2021_2",
           "accelerated_filer",
           "ev_ebit"
          ],
          [
           "2021_2",
           "accelerated_filer",
           "ev_revenue"
          ],
          [
           "2021_3",
           "accelerated_filer",
           "roe"
          ],
          [
           "2021_3",
           "accelerated_filer",
           "roa"
          ],
          [
           "2021_3",
           "accelerated_filer",
           "roce"
          ],
          [
           "2021_3",
           "accelerated_filer",
           "gross_margin"
          ],
          [
           "2021_3",
           "accelerated_filer",
           "operating_profit_margin"
          ],
          [
           "2021_3",
           "accelerated_filer",
           "net_profit_margin"
          ],
          [
           "2021_3",
           "accelerated_filer",
           "debt_to_equity"
          ],
          [
           "2021_3",
           "accelerated_filer",
           "equity"
          ],
          [
           "2021_3",
           "accelerated_filer",
           "debt"
          ],
          [
           "2021_3",
           "accelerated_filer",
           "current"
          ],
          [
           "2021_3",
           "accelerated_filer",
           "quick"
          ],
          [
           "2021_3",
           "accelerated_filer",
           "cash"
          ],
          [
           "2021_3",
           "accelerated_filer",
           "times_interest_earned"
          ],
          [
           "2021_3",
           "accelerated_filer",
           "capex_to_operating_cash"
          ],
          [
           "2021_3",
           "accelerated_filer",
           "operating_cash_flow"
          ],
          [
           "2021_3",
           "accelerated_filer",
           "price_to_earnings"
          ],
          [
           "2021_3",
           "accelerated_filer",
           "ev_ebitda"
          ],
          [
           "2021_3",
           "accelerated_filer",
           "ev_ebit"
          ],
          [
           "2021_3",
           "accelerated_filer",
           "ev_revenue"
          ]
         ],
         "fillcolor": "rgba(255,255,255,0)",
         "hoveron": "points",
         "hovertemplate": "filer_type=%{customdata[1]}<br>used_to_all=%{x}<br>year_q=%{customdata[0]}<br>kpi=%{customdata[2]}<extra></extra>",
         "jitter": 0,
         "legendgroup": "accelerated_filer",
         "line": {
          "color": "rgba(255,255,255,0)"
         },
         "marker": {
          "color": "#636efa",
          "symbol": "line-ns-open"
         },
         "name": "accelerated_filer",
         "offsetgroup": "accelerated_filer",
         "showlegend": false,
         "type": "box",
         "x": [
          0.85,
          0.88,
          0.82,
          0.79,
          0.85,
          0.85,
          0.88,
          0.91,
          0.68,
          0.91,
          0.74,
          0.91,
          0.68,
          0.68,
          0.82,
          0.88,
          0.65,
          0.65,
          0.62,
          0.94,
          0.97,
          0.91,
          0.91,
          0.94,
          0.94,
          0.91,
          0.94,
          0.74,
          0.91,
          0.71,
          0.91,
          0.79,
          0.79,
          0.88,
          0.97,
          0.74,
          0.74,
          0.68,
          0.97,
          0.97,
          0.91,
          0.91,
          0.91,
          0.91,
          0.91,
          0.97,
          0.71,
          0.91,
          0.68,
          0.91,
          0.76,
          0.74,
          0.91,
          0.97,
          0.71,
          0.71,
          0.68,
          1,
          1,
          0.94,
          0.97,
          0.97,
          0.97,
          0.94,
          1,
          0.75,
          0.94,
          0.78,
          0.94,
          0.78,
          0.75,
          0.94,
          1,
          0.69,
          0.75,
          0.75,
          0.95,
          0.95,
          0.89,
          0.89,
          0.89,
          0.89,
          0.89,
          0.95,
          0.74,
          0.89,
          0.74,
          0.89,
          0.74,
          0.76,
          0.89,
          0.95,
          0.68,
          0.74,
          0.71,
          0.97,
          0.97,
          0.95,
          0.92,
          0.92,
          0.92,
          0.95,
          0.97,
          0.76,
          0.95,
          0.78,
          0.95,
          0.78,
          0.81,
          0.92,
          0.97,
          0.7,
          0.76,
          0.73,
          1,
          1,
          0.95,
          0.97,
          0.97,
          0.97,
          0.95,
          1,
          0.73,
          0.95,
          0.78,
          0.95,
          0.78,
          0.78,
          0.95,
          1,
          0.68,
          0.73,
          0.73,
          0.86,
          0.86,
          0.83,
          0.83,
          0.83,
          0.83,
          0.83,
          0.86,
          0.66,
          0.83,
          0.69,
          0.83,
          0.69,
          0.71,
          0.83,
          0.86,
          0.63,
          0.66,
          0.66,
          0.97,
          0.97,
          0.91,
          0.94,
          0.94,
          0.94,
          0.91,
          0.97,
          0.77,
          0.91,
          0.71,
          0.91,
          0.77,
          0.77,
          0.91,
          0.97,
          0.77,
          0.77,
          0.74,
          0.97,
          1,
          0.94,
          0.97,
          0.97,
          0.97,
          0.94,
          0.97,
          0.8,
          0.94,
          0.74,
          0.94,
          0.77,
          0.8,
          0.91,
          1,
          0.8,
          0.8,
          0.77,
          0.74,
          0.77,
          0.77,
          0.74,
          0.74,
          0.74,
          0.74,
          0.74,
          0.69,
          0.77,
          0.63,
          0.77,
          0.66,
          0.69,
          0.74,
          0.77,
          0.69,
          0.69,
          0.66,
          0.97,
          0.97,
          0.97,
          0.94,
          0.94,
          0.94,
          0.97,
          0.97,
          0.84,
          0.97,
          0.78,
          0.94,
          0.81,
          0.84,
          0.97,
          0.97,
          0.78,
          0.81,
          0.78,
          0.56,
          0.56,
          0.56,
          0.56,
          0.56,
          0.56,
          0.56,
          0.56,
          0.56,
          0.56,
          0.53,
          0.56,
          0.56,
          0.56,
          0.56,
          0.56,
          0.56,
          0.56,
          0.56,
          0.81,
          0.81,
          0.81,
          0.78,
          0.78,
          0.78,
          0.81,
          0.81,
          0.81,
          0.81,
          0.75,
          0.81,
          0.78,
          0.81,
          0.81,
          0.81,
          0.81,
          0.81,
          0.78,
          0.91,
          0.91,
          0.91,
          0.81,
          0.84,
          0.84,
          0.91,
          0.91,
          0.81,
          0.91,
          0.72,
          0.91,
          0.78,
          0.78,
          0.91,
          0.91,
          0.81,
          0.81,
          0.78,
          0.96,
          0.96,
          0.96,
          0.92,
          0.96,
          0.96,
          0.96,
          0.96,
          0.88,
          0.96,
          0.92,
          0.96,
          0.92,
          0.92,
          0.96,
          0.96,
          0.88,
          0.88,
          0.88,
          0.93,
          0.93,
          0.93,
          0.89,
          0.93,
          0.93,
          0.93,
          0.93,
          0.86,
          0.93,
          0.86,
          0.89,
          0.89,
          0.89,
          0.93,
          0.93,
          0.82,
          0.82,
          0.82,
          0.96,
          0.96,
          0.96,
          0.96,
          0.96,
          0.96,
          1,
          1,
          0.93,
          1,
          0.93,
          0.96,
          0.96,
          0.96,
          1,
          0.96,
          0.89,
          0.89,
          0.89
         ],
         "xaxis": "x2",
         "yaxis": "y2"
        },
        {
         "alignmentgroup": "True",
         "bingroup": "x",
         "hovertemplate": "filer_type=large_accelerated_filer<br>used_to_all=%{x}<br>count=%{y}<extra></extra>",
         "legendgroup": "large_accelerated_filer",
         "marker": {
          "color": "#EF553B",
          "pattern": {
           "shape": ""
          }
         },
         "name": "large_accelerated_filer",
         "offsetgroup": "large_accelerated_filer",
         "orientation": "v",
         "showlegend": true,
         "type": "histogram",
         "x": [
          0.98,
          0.98,
          0.98,
          0.96,
          0.96,
          0.96,
          0.98,
          0.98,
          0.91,
          0.98,
          0.96,
          0.96,
          0.96,
          0.98,
          0.98,
          0.98,
          0.87,
          0.89,
          0.87,
          1,
          1,
          1,
          0.98,
          0.98,
          0.98,
          1,
          1,
          0.94,
          1,
          1,
          1,
          0.98,
          1,
          1,
          1,
          0.91,
          0.94,
          0.91,
          1,
          1,
          1,
          0.98,
          0.98,
          0.98,
          1,
          1,
          0.94,
          1,
          1,
          1,
          0.98,
          1,
          1,
          1,
          0.91,
          0.94,
          0.91,
          0.98,
          0.98,
          0.98,
          0.96,
          0.96,
          0.96,
          0.98,
          0.98,
          0.94,
          0.98,
          0.96,
          0.98,
          0.98,
          0.98,
          0.98,
          0.98,
          0.92,
          0.94,
          0.92,
          1,
          1,
          1,
          0.98,
          0.98,
          0.98,
          1,
          1,
          0.96,
          1,
          1,
          1,
          1,
          1,
          1,
          1,
          0.94,
          0.96,
          0.94,
          0.98,
          0.98,
          0.98,
          0.98,
          0.98,
          0.98,
          0.98,
          0.98,
          0.94,
          0.98,
          0.98,
          0.98,
          1,
          1,
          0.98,
          0.98,
          0.92,
          0.94,
          0.92,
          1,
          1,
          1,
          0.98,
          0.98,
          0.98,
          1,
          1,
          0.96,
          1,
          0.98,
          0.98,
          1,
          1,
          1,
          1,
          0.92,
          0.94,
          0.92,
          0.96,
          0.98,
          0.98,
          0.98,
          0.98,
          0.98,
          0.96,
          0.96,
          0.94,
          0.98,
          0.96,
          0.96,
          0.98,
          0.98,
          0.98,
          0.98,
          0.89,
          0.93,
          0.93,
          1,
          1,
          1,
          1,
          1,
          1,
          1,
          1,
          1,
          1,
          0.98,
          0.98,
          1,
          1,
          1,
          1,
          0.93,
          0.98,
          0.98,
          1,
          1,
          1,
          1,
          1,
          1,
          1,
          1,
          0.98,
          1,
          0.98,
          0.98,
          0.98,
          1,
          1,
          1,
          0.93,
          0.96,
          0.96,
          0.98,
          0.98,
          0.98,
          0.98,
          0.98,
          0.98,
          0.98,
          0.98,
          0.96,
          0.98,
          0.96,
          0.96,
          0.98,
          0.98,
          0.98,
          0.98,
          0.91,
          0.94,
          0.94,
          0.92,
          0.92,
          0.92,
          0.92,
          0.92,
          0.92,
          0.92,
          0.92,
          0.9,
          0.92,
          0.9,
          0.9,
          0.92,
          0.92,
          0.92,
          0.92,
          0.87,
          0.88,
          0.88,
          0.88,
          0.88,
          0.88,
          0.87,
          0.88,
          0.88,
          0.88,
          0.88,
          0.87,
          0.88,
          0.85,
          0.87,
          0.85,
          0.87,
          0.88,
          0.88,
          0.83,
          0.85,
          0.85,
          0.96,
          0.96,
          0.96,
          0.94,
          0.96,
          0.96,
          0.96,
          0.96,
          0.92,
          0.96,
          0.94,
          0.96,
          0.92,
          0.94,
          0.96,
          0.96,
          0.9,
          0.92,
          0.92,
          1,
          1,
          1,
          0.98,
          1,
          1,
          1,
          1,
          0.96,
          1,
          0.96,
          0.98,
          0.96,
          0.98,
          1,
          1,
          0.94,
          0.94,
          0.94,
          0.97,
          0.97,
          0.97,
          0.97,
          0.97,
          0.97,
          0.97,
          0.97,
          0.97,
          0.97,
          0.97,
          0.97,
          0.95,
          0.97,
          0.97,
          0.97,
          0.97,
          0.97,
          0.97,
          0.97,
          0.97,
          0.97,
          0.97,
          1,
          1,
          0.97,
          0.97,
          0.97,
          0.97,
          0.97,
          0.97,
          0.97,
          0.97,
          0.97,
          0.97,
          0.97,
          0.97,
          0.97,
          1,
          1,
          1,
          1,
          1,
          1,
          1,
          1,
          1,
          1,
          1,
          1,
          0.97,
          1,
          1,
          1,
          1,
          1,
          1
         ],
         "xaxis": "x",
         "yaxis": "y"
        },
        {
         "alignmentgroup": "True",
         "boxpoints": "all",
         "customdata": [
          [
           "2017_2",
           "large_accelerated_filer",
           "roe"
          ],
          [
           "2017_2",
           "large_accelerated_filer",
           "roa"
          ],
          [
           "2017_2",
           "large_accelerated_filer",
           "roce"
          ],
          [
           "2017_2",
           "large_accelerated_filer",
           "gross_margin"
          ],
          [
           "2017_2",
           "large_accelerated_filer",
           "operating_profit_margin"
          ],
          [
           "2017_2",
           "large_accelerated_filer",
           "net_profit_margin"
          ],
          [
           "2017_2",
           "large_accelerated_filer",
           "debt_to_equity"
          ],
          [
           "2017_2",
           "large_accelerated_filer",
           "equity"
          ],
          [
           "2017_2",
           "large_accelerated_filer",
           "debt"
          ],
          [
           "2017_2",
           "large_accelerated_filer",
           "current"
          ],
          [
           "2017_2",
           "large_accelerated_filer",
           "quick"
          ],
          [
           "2017_2",
           "large_accelerated_filer",
           "cash"
          ],
          [
           "2017_2",
           "large_accelerated_filer",
           "times_interest_earned"
          ],
          [
           "2017_2",
           "large_accelerated_filer",
           "capex_to_operating_cash"
          ],
          [
           "2017_2",
           "large_accelerated_filer",
           "operating_cash_flow"
          ],
          [
           "2017_2",
           "large_accelerated_filer",
           "price_to_earnings"
          ],
          [
           "2017_2",
           "large_accelerated_filer",
           "ev_ebitda"
          ],
          [
           "2017_2",
           "large_accelerated_filer",
           "ev_ebit"
          ],
          [
           "2017_2",
           "large_accelerated_filer",
           "ev_revenue"
          ],
          [
           "2017_3",
           "large_accelerated_filer",
           "roe"
          ],
          [
           "2017_3",
           "large_accelerated_filer",
           "roa"
          ],
          [
           "2017_3",
           "large_accelerated_filer",
           "roce"
          ],
          [
           "2017_3",
           "large_accelerated_filer",
           "gross_margin"
          ],
          [
           "2017_3",
           "large_accelerated_filer",
           "operating_profit_margin"
          ],
          [
           "2017_3",
           "large_accelerated_filer",
           "net_profit_margin"
          ],
          [
           "2017_3",
           "large_accelerated_filer",
           "debt_to_equity"
          ],
          [
           "2017_3",
           "large_accelerated_filer",
           "equity"
          ],
          [
           "2017_3",
           "large_accelerated_filer",
           "debt"
          ],
          [
           "2017_3",
           "large_accelerated_filer",
           "current"
          ],
          [
           "2017_3",
           "large_accelerated_filer",
           "quick"
          ],
          [
           "2017_3",
           "large_accelerated_filer",
           "cash"
          ],
          [
           "2017_3",
           "large_accelerated_filer",
           "times_interest_earned"
          ],
          [
           "2017_3",
           "large_accelerated_filer",
           "capex_to_operating_cash"
          ],
          [
           "2017_3",
           "large_accelerated_filer",
           "operating_cash_flow"
          ],
          [
           "2017_3",
           "large_accelerated_filer",
           "price_to_earnings"
          ],
          [
           "2017_3",
           "large_accelerated_filer",
           "ev_ebitda"
          ],
          [
           "2017_3",
           "large_accelerated_filer",
           "ev_ebit"
          ],
          [
           "2017_3",
           "large_accelerated_filer",
           "ev_revenue"
          ],
          [
           "2017_4",
           "large_accelerated_filer",
           "roe"
          ],
          [
           "2017_4",
           "large_accelerated_filer",
           "roa"
          ],
          [
           "2017_4",
           "large_accelerated_filer",
           "roce"
          ],
          [
           "2017_4",
           "large_accelerated_filer",
           "gross_margin"
          ],
          [
           "2017_4",
           "large_accelerated_filer",
           "operating_profit_margin"
          ],
          [
           "2017_4",
           "large_accelerated_filer",
           "net_profit_margin"
          ],
          [
           "2017_4",
           "large_accelerated_filer",
           "debt_to_equity"
          ],
          [
           "2017_4",
           "large_accelerated_filer",
           "equity"
          ],
          [
           "2017_4",
           "large_accelerated_filer",
           "debt"
          ],
          [
           "2017_4",
           "large_accelerated_filer",
           "current"
          ],
          [
           "2017_4",
           "large_accelerated_filer",
           "quick"
          ],
          [
           "2017_4",
           "large_accelerated_filer",
           "cash"
          ],
          [
           "2017_4",
           "large_accelerated_filer",
           "times_interest_earned"
          ],
          [
           "2017_4",
           "large_accelerated_filer",
           "capex_to_operating_cash"
          ],
          [
           "2017_4",
           "large_accelerated_filer",
           "operating_cash_flow"
          ],
          [
           "2017_4",
           "large_accelerated_filer",
           "price_to_earnings"
          ],
          [
           "2017_4",
           "large_accelerated_filer",
           "ev_ebitda"
          ],
          [
           "2017_4",
           "large_accelerated_filer",
           "ev_ebit"
          ],
          [
           "2017_4",
           "large_accelerated_filer",
           "ev_revenue"
          ],
          [
           "2018_1",
           "large_accelerated_filer",
           "roe"
          ],
          [
           "2018_1",
           "large_accelerated_filer",
           "roa"
          ],
          [
           "2018_1",
           "large_accelerated_filer",
           "roce"
          ],
          [
           "2018_1",
           "large_accelerated_filer",
           "gross_margin"
          ],
          [
           "2018_1",
           "large_accelerated_filer",
           "operating_profit_margin"
          ],
          [
           "2018_1",
           "large_accelerated_filer",
           "net_profit_margin"
          ],
          [
           "2018_1",
           "large_accelerated_filer",
           "debt_to_equity"
          ],
          [
           "2018_1",
           "large_accelerated_filer",
           "equity"
          ],
          [
           "2018_1",
           "large_accelerated_filer",
           "debt"
          ],
          [
           "2018_1",
           "large_accelerated_filer",
           "current"
          ],
          [
           "2018_1",
           "large_accelerated_filer",
           "quick"
          ],
          [
           "2018_1",
           "large_accelerated_filer",
           "cash"
          ],
          [
           "2018_1",
           "large_accelerated_filer",
           "times_interest_earned"
          ],
          [
           "2018_1",
           "large_accelerated_filer",
           "capex_to_operating_cash"
          ],
          [
           "2018_1",
           "large_accelerated_filer",
           "operating_cash_flow"
          ],
          [
           "2018_1",
           "large_accelerated_filer",
           "price_to_earnings"
          ],
          [
           "2018_1",
           "large_accelerated_filer",
           "ev_ebitda"
          ],
          [
           "2018_1",
           "large_accelerated_filer",
           "ev_ebit"
          ],
          [
           "2018_1",
           "large_accelerated_filer",
           "ev_revenue"
          ],
          [
           "2018_2",
           "large_accelerated_filer",
           "roe"
          ],
          [
           "2018_2",
           "large_accelerated_filer",
           "roa"
          ],
          [
           "2018_2",
           "large_accelerated_filer",
           "roce"
          ],
          [
           "2018_2",
           "large_accelerated_filer",
           "gross_margin"
          ],
          [
           "2018_2",
           "large_accelerated_filer",
           "operating_profit_margin"
          ],
          [
           "2018_2",
           "large_accelerated_filer",
           "net_profit_margin"
          ],
          [
           "2018_2",
           "large_accelerated_filer",
           "debt_to_equity"
          ],
          [
           "2018_2",
           "large_accelerated_filer",
           "equity"
          ],
          [
           "2018_2",
           "large_accelerated_filer",
           "debt"
          ],
          [
           "2018_2",
           "large_accelerated_filer",
           "current"
          ],
          [
           "2018_2",
           "large_accelerated_filer",
           "quick"
          ],
          [
           "2018_2",
           "large_accelerated_filer",
           "cash"
          ],
          [
           "2018_2",
           "large_accelerated_filer",
           "times_interest_earned"
          ],
          [
           "2018_2",
           "large_accelerated_filer",
           "capex_to_operating_cash"
          ],
          [
           "2018_2",
           "large_accelerated_filer",
           "operating_cash_flow"
          ],
          [
           "2018_2",
           "large_accelerated_filer",
           "price_to_earnings"
          ],
          [
           "2018_2",
           "large_accelerated_filer",
           "ev_ebitda"
          ],
          [
           "2018_2",
           "large_accelerated_filer",
           "ev_ebit"
          ],
          [
           "2018_2",
           "large_accelerated_filer",
           "ev_revenue"
          ],
          [
           "2018_3",
           "large_accelerated_filer",
           "roe"
          ],
          [
           "2018_3",
           "large_accelerated_filer",
           "roa"
          ],
          [
           "2018_3",
           "large_accelerated_filer",
           "roce"
          ],
          [
           "2018_3",
           "large_accelerated_filer",
           "gross_margin"
          ],
          [
           "2018_3",
           "large_accelerated_filer",
           "operating_profit_margin"
          ],
          [
           "2018_3",
           "large_accelerated_filer",
           "net_profit_margin"
          ],
          [
           "2018_3",
           "large_accelerated_filer",
           "debt_to_equity"
          ],
          [
           "2018_3",
           "large_accelerated_filer",
           "equity"
          ],
          [
           "2018_3",
           "large_accelerated_filer",
           "debt"
          ],
          [
           "2018_3",
           "large_accelerated_filer",
           "current"
          ],
          [
           "2018_3",
           "large_accelerated_filer",
           "quick"
          ],
          [
           "2018_3",
           "large_accelerated_filer",
           "cash"
          ],
          [
           "2018_3",
           "large_accelerated_filer",
           "times_interest_earned"
          ],
          [
           "2018_3",
           "large_accelerated_filer",
           "capex_to_operating_cash"
          ],
          [
           "2018_3",
           "large_accelerated_filer",
           "operating_cash_flow"
          ],
          [
           "2018_3",
           "large_accelerated_filer",
           "price_to_earnings"
          ],
          [
           "2018_3",
           "large_accelerated_filer",
           "ev_ebitda"
          ],
          [
           "2018_3",
           "large_accelerated_filer",
           "ev_ebit"
          ],
          [
           "2018_3",
           "large_accelerated_filer",
           "ev_revenue"
          ],
          [
           "2018_4",
           "large_accelerated_filer",
           "roe"
          ],
          [
           "2018_4",
           "large_accelerated_filer",
           "roa"
          ],
          [
           "2018_4",
           "large_accelerated_filer",
           "roce"
          ],
          [
           "2018_4",
           "large_accelerated_filer",
           "gross_margin"
          ],
          [
           "2018_4",
           "large_accelerated_filer",
           "operating_profit_margin"
          ],
          [
           "2018_4",
           "large_accelerated_filer",
           "net_profit_margin"
          ],
          [
           "2018_4",
           "large_accelerated_filer",
           "debt_to_equity"
          ],
          [
           "2018_4",
           "large_accelerated_filer",
           "equity"
          ],
          [
           "2018_4",
           "large_accelerated_filer",
           "debt"
          ],
          [
           "2018_4",
           "large_accelerated_filer",
           "current"
          ],
          [
           "2018_4",
           "large_accelerated_filer",
           "quick"
          ],
          [
           "2018_4",
           "large_accelerated_filer",
           "cash"
          ],
          [
           "2018_4",
           "large_accelerated_filer",
           "times_interest_earned"
          ],
          [
           "2018_4",
           "large_accelerated_filer",
           "capex_to_operating_cash"
          ],
          [
           "2018_4",
           "large_accelerated_filer",
           "operating_cash_flow"
          ],
          [
           "2018_4",
           "large_accelerated_filer",
           "price_to_earnings"
          ],
          [
           "2018_4",
           "large_accelerated_filer",
           "ev_ebitda"
          ],
          [
           "2018_4",
           "large_accelerated_filer",
           "ev_ebit"
          ],
          [
           "2018_4",
           "large_accelerated_filer",
           "ev_revenue"
          ],
          [
           "2019_1",
           "large_accelerated_filer",
           "roe"
          ],
          [
           "2019_1",
           "large_accelerated_filer",
           "roa"
          ],
          [
           "2019_1",
           "large_accelerated_filer",
           "roce"
          ],
          [
           "2019_1",
           "large_accelerated_filer",
           "gross_margin"
          ],
          [
           "2019_1",
           "large_accelerated_filer",
           "operating_profit_margin"
          ],
          [
           "2019_1",
           "large_accelerated_filer",
           "net_profit_margin"
          ],
          [
           "2019_1",
           "large_accelerated_filer",
           "debt_to_equity"
          ],
          [
           "2019_1",
           "large_accelerated_filer",
           "equity"
          ],
          [
           "2019_1",
           "large_accelerated_filer",
           "debt"
          ],
          [
           "2019_1",
           "large_accelerated_filer",
           "current"
          ],
          [
           "2019_1",
           "large_accelerated_filer",
           "quick"
          ],
          [
           "2019_1",
           "large_accelerated_filer",
           "cash"
          ],
          [
           "2019_1",
           "large_accelerated_filer",
           "times_interest_earned"
          ],
          [
           "2019_1",
           "large_accelerated_filer",
           "capex_to_operating_cash"
          ],
          [
           "2019_1",
           "large_accelerated_filer",
           "operating_cash_flow"
          ],
          [
           "2019_1",
           "large_accelerated_filer",
           "price_to_earnings"
          ],
          [
           "2019_1",
           "large_accelerated_filer",
           "ev_ebitda"
          ],
          [
           "2019_1",
           "large_accelerated_filer",
           "ev_ebit"
          ],
          [
           "2019_1",
           "large_accelerated_filer",
           "ev_revenue"
          ],
          [
           "2019_2",
           "large_accelerated_filer",
           "roe"
          ],
          [
           "2019_2",
           "large_accelerated_filer",
           "roa"
          ],
          [
           "2019_2",
           "large_accelerated_filer",
           "roce"
          ],
          [
           "2019_2",
           "large_accelerated_filer",
           "gross_margin"
          ],
          [
           "2019_2",
           "large_accelerated_filer",
           "operating_profit_margin"
          ],
          [
           "2019_2",
           "large_accelerated_filer",
           "net_profit_margin"
          ],
          [
           "2019_2",
           "large_accelerated_filer",
           "debt_to_equity"
          ],
          [
           "2019_2",
           "large_accelerated_filer",
           "equity"
          ],
          [
           "2019_2",
           "large_accelerated_filer",
           "debt"
          ],
          [
           "2019_2",
           "large_accelerated_filer",
           "current"
          ],
          [
           "2019_2",
           "large_accelerated_filer",
           "quick"
          ],
          [
           "2019_2",
           "large_accelerated_filer",
           "cash"
          ],
          [
           "2019_2",
           "large_accelerated_filer",
           "times_interest_earned"
          ],
          [
           "2019_2",
           "large_accelerated_filer",
           "capex_to_operating_cash"
          ],
          [
           "2019_2",
           "large_accelerated_filer",
           "operating_cash_flow"
          ],
          [
           "2019_2",
           "large_accelerated_filer",
           "price_to_earnings"
          ],
          [
           "2019_2",
           "large_accelerated_filer",
           "ev_ebitda"
          ],
          [
           "2019_2",
           "large_accelerated_filer",
           "ev_ebit"
          ],
          [
           "2019_2",
           "large_accelerated_filer",
           "ev_revenue"
          ],
          [
           "2019_3",
           "large_accelerated_filer",
           "roe"
          ],
          [
           "2019_3",
           "large_accelerated_filer",
           "roa"
          ],
          [
           "2019_3",
           "large_accelerated_filer",
           "roce"
          ],
          [
           "2019_3",
           "large_accelerated_filer",
           "gross_margin"
          ],
          [
           "2019_3",
           "large_accelerated_filer",
           "operating_profit_margin"
          ],
          [
           "2019_3",
           "large_accelerated_filer",
           "net_profit_margin"
          ],
          [
           "2019_3",
           "large_accelerated_filer",
           "debt_to_equity"
          ],
          [
           "2019_3",
           "large_accelerated_filer",
           "equity"
          ],
          [
           "2019_3",
           "large_accelerated_filer",
           "debt"
          ],
          [
           "2019_3",
           "large_accelerated_filer",
           "current"
          ],
          [
           "2019_3",
           "large_accelerated_filer",
           "quick"
          ],
          [
           "2019_3",
           "large_accelerated_filer",
           "cash"
          ],
          [
           "2019_3",
           "large_accelerated_filer",
           "times_interest_earned"
          ],
          [
           "2019_3",
           "large_accelerated_filer",
           "capex_to_operating_cash"
          ],
          [
           "2019_3",
           "large_accelerated_filer",
           "operating_cash_flow"
          ],
          [
           "2019_3",
           "large_accelerated_filer",
           "price_to_earnings"
          ],
          [
           "2019_3",
           "large_accelerated_filer",
           "ev_ebitda"
          ],
          [
           "2019_3",
           "large_accelerated_filer",
           "ev_ebit"
          ],
          [
           "2019_3",
           "large_accelerated_filer",
           "ev_revenue"
          ],
          [
           "2019_4",
           "large_accelerated_filer",
           "roe"
          ],
          [
           "2019_4",
           "large_accelerated_filer",
           "roa"
          ],
          [
           "2019_4",
           "large_accelerated_filer",
           "roce"
          ],
          [
           "2019_4",
           "large_accelerated_filer",
           "gross_margin"
          ],
          [
           "2019_4",
           "large_accelerated_filer",
           "operating_profit_margin"
          ],
          [
           "2019_4",
           "large_accelerated_filer",
           "net_profit_margin"
          ],
          [
           "2019_4",
           "large_accelerated_filer",
           "debt_to_equity"
          ],
          [
           "2019_4",
           "large_accelerated_filer",
           "equity"
          ],
          [
           "2019_4",
           "large_accelerated_filer",
           "debt"
          ],
          [
           "2019_4",
           "large_accelerated_filer",
           "current"
          ],
          [
           "2019_4",
           "large_accelerated_filer",
           "quick"
          ],
          [
           "2019_4",
           "large_accelerated_filer",
           "cash"
          ],
          [
           "2019_4",
           "large_accelerated_filer",
           "times_interest_earned"
          ],
          [
           "2019_4",
           "large_accelerated_filer",
           "capex_to_operating_cash"
          ],
          [
           "2019_4",
           "large_accelerated_filer",
           "operating_cash_flow"
          ],
          [
           "2019_4",
           "large_accelerated_filer",
           "price_to_earnings"
          ],
          [
           "2019_4",
           "large_accelerated_filer",
           "ev_ebitda"
          ],
          [
           "2019_4",
           "large_accelerated_filer",
           "ev_ebit"
          ],
          [
           "2019_4",
           "large_accelerated_filer",
           "ev_revenue"
          ],
          [
           "2020_1",
           "large_accelerated_filer",
           "roe"
          ],
          [
           "2020_1",
           "large_accelerated_filer",
           "roa"
          ],
          [
           "2020_1",
           "large_accelerated_filer",
           "roce"
          ],
          [
           "2020_1",
           "large_accelerated_filer",
           "gross_margin"
          ],
          [
           "2020_1",
           "large_accelerated_filer",
           "operating_profit_margin"
          ],
          [
           "2020_1",
           "large_accelerated_filer",
           "net_profit_margin"
          ],
          [
           "2020_1",
           "large_accelerated_filer",
           "debt_to_equity"
          ],
          [
           "2020_1",
           "large_accelerated_filer",
           "equity"
          ],
          [
           "2020_1",
           "large_accelerated_filer",
           "debt"
          ],
          [
           "2020_1",
           "large_accelerated_filer",
           "current"
          ],
          [
           "2020_1",
           "large_accelerated_filer",
           "quick"
          ],
          [
           "2020_1",
           "large_accelerated_filer",
           "cash"
          ],
          [
           "2020_1",
           "large_accelerated_filer",
           "times_interest_earned"
          ],
          [
           "2020_1",
           "large_accelerated_filer",
           "capex_to_operating_cash"
          ],
          [
           "2020_1",
           "large_accelerated_filer",
           "operating_cash_flow"
          ],
          [
           "2020_1",
           "large_accelerated_filer",
           "price_to_earnings"
          ],
          [
           "2020_1",
           "large_accelerated_filer",
           "ev_ebitda"
          ],
          [
           "2020_1",
           "large_accelerated_filer",
           "ev_ebit"
          ],
          [
           "2020_1",
           "large_accelerated_filer",
           "ev_revenue"
          ],
          [
           "2020_2",
           "large_accelerated_filer",
           "roe"
          ],
          [
           "2020_2",
           "large_accelerated_filer",
           "roa"
          ],
          [
           "2020_2",
           "large_accelerated_filer",
           "roce"
          ],
          [
           "2020_2",
           "large_accelerated_filer",
           "gross_margin"
          ],
          [
           "2020_2",
           "large_accelerated_filer",
           "operating_profit_margin"
          ],
          [
           "2020_2",
           "large_accelerated_filer",
           "net_profit_margin"
          ],
          [
           "2020_2",
           "large_accelerated_filer",
           "debt_to_equity"
          ],
          [
           "2020_2",
           "large_accelerated_filer",
           "equity"
          ],
          [
           "2020_2",
           "large_accelerated_filer",
           "debt"
          ],
          [
           "2020_2",
           "large_accelerated_filer",
           "current"
          ],
          [
           "2020_2",
           "large_accelerated_filer",
           "quick"
          ],
          [
           "2020_2",
           "large_accelerated_filer",
           "cash"
          ],
          [
           "2020_2",
           "large_accelerated_filer",
           "times_interest_earned"
          ],
          [
           "2020_2",
           "large_accelerated_filer",
           "capex_to_operating_cash"
          ],
          [
           "2020_2",
           "large_accelerated_filer",
           "operating_cash_flow"
          ],
          [
           "2020_2",
           "large_accelerated_filer",
           "price_to_earnings"
          ],
          [
           "2020_2",
           "large_accelerated_filer",
           "ev_ebitda"
          ],
          [
           "2020_2",
           "large_accelerated_filer",
           "ev_ebit"
          ],
          [
           "2020_2",
           "large_accelerated_filer",
           "ev_revenue"
          ],
          [
           "2020_3",
           "large_accelerated_filer",
           "roe"
          ],
          [
           "2020_3",
           "large_accelerated_filer",
           "roa"
          ],
          [
           "2020_3",
           "large_accelerated_filer",
           "roce"
          ],
          [
           "2020_3",
           "large_accelerated_filer",
           "gross_margin"
          ],
          [
           "2020_3",
           "large_accelerated_filer",
           "operating_profit_margin"
          ],
          [
           "2020_3",
           "large_accelerated_filer",
           "net_profit_margin"
          ],
          [
           "2020_3",
           "large_accelerated_filer",
           "debt_to_equity"
          ],
          [
           "2020_3",
           "large_accelerated_filer",
           "equity"
          ],
          [
           "2020_3",
           "large_accelerated_filer",
           "debt"
          ],
          [
           "2020_3",
           "large_accelerated_filer",
           "current"
          ],
          [
           "2020_3",
           "large_accelerated_filer",
           "quick"
          ],
          [
           "2020_3",
           "large_accelerated_filer",
           "cash"
          ],
          [
           "2020_3",
           "large_accelerated_filer",
           "times_interest_earned"
          ],
          [
           "2020_3",
           "large_accelerated_filer",
           "capex_to_operating_cash"
          ],
          [
           "2020_3",
           "large_accelerated_filer",
           "operating_cash_flow"
          ],
          [
           "2020_3",
           "large_accelerated_filer",
           "price_to_earnings"
          ],
          [
           "2020_3",
           "large_accelerated_filer",
           "ev_ebitda"
          ],
          [
           "2020_3",
           "large_accelerated_filer",
           "ev_ebit"
          ],
          [
           "2020_3",
           "large_accelerated_filer",
           "ev_revenue"
          ],
          [
           "2020_4",
           "large_accelerated_filer",
           "roe"
          ],
          [
           "2020_4",
           "large_accelerated_filer",
           "roa"
          ],
          [
           "2020_4",
           "large_accelerated_filer",
           "roce"
          ],
          [
           "2020_4",
           "large_accelerated_filer",
           "gross_margin"
          ],
          [
           "2020_4",
           "large_accelerated_filer",
           "operating_profit_margin"
          ],
          [
           "2020_4",
           "large_accelerated_filer",
           "net_profit_margin"
          ],
          [
           "2020_4",
           "large_accelerated_filer",
           "debt_to_equity"
          ],
          [
           "2020_4",
           "large_accelerated_filer",
           "equity"
          ],
          [
           "2020_4",
           "large_accelerated_filer",
           "debt"
          ],
          [
           "2020_4",
           "large_accelerated_filer",
           "current"
          ],
          [
           "2020_4",
           "large_accelerated_filer",
           "quick"
          ],
          [
           "2020_4",
           "large_accelerated_filer",
           "cash"
          ],
          [
           "2020_4",
           "large_accelerated_filer",
           "times_interest_earned"
          ],
          [
           "2020_4",
           "large_accelerated_filer",
           "capex_to_operating_cash"
          ],
          [
           "2020_4",
           "large_accelerated_filer",
           "operating_cash_flow"
          ],
          [
           "2020_4",
           "large_accelerated_filer",
           "price_to_earnings"
          ],
          [
           "2020_4",
           "large_accelerated_filer",
           "ev_ebitda"
          ],
          [
           "2020_4",
           "large_accelerated_filer",
           "ev_ebit"
          ],
          [
           "2020_4",
           "large_accelerated_filer",
           "ev_revenue"
          ],
          [
           "2021_1",
           "large_accelerated_filer",
           "roe"
          ],
          [
           "2021_1",
           "large_accelerated_filer",
           "roa"
          ],
          [
           "2021_1",
           "large_accelerated_filer",
           "roce"
          ],
          [
           "2021_1",
           "large_accelerated_filer",
           "gross_margin"
          ],
          [
           "2021_1",
           "large_accelerated_filer",
           "operating_profit_margin"
          ],
          [
           "2021_1",
           "large_accelerated_filer",
           "net_profit_margin"
          ],
          [
           "2021_1",
           "large_accelerated_filer",
           "debt_to_equity"
          ],
          [
           "2021_1",
           "large_accelerated_filer",
           "equity"
          ],
          [
           "2021_1",
           "large_accelerated_filer",
           "debt"
          ],
          [
           "2021_1",
           "large_accelerated_filer",
           "current"
          ],
          [
           "2021_1",
           "large_accelerated_filer",
           "quick"
          ],
          [
           "2021_1",
           "large_accelerated_filer",
           "cash"
          ],
          [
           "2021_1",
           "large_accelerated_filer",
           "times_interest_earned"
          ],
          [
           "2021_1",
           "large_accelerated_filer",
           "capex_to_operating_cash"
          ],
          [
           "2021_1",
           "large_accelerated_filer",
           "operating_cash_flow"
          ],
          [
           "2021_1",
           "large_accelerated_filer",
           "price_to_earnings"
          ],
          [
           "2021_1",
           "large_accelerated_filer",
           "ev_ebitda"
          ],
          [
           "2021_1",
           "large_accelerated_filer",
           "ev_ebit"
          ],
          [
           "2021_1",
           "large_accelerated_filer",
           "ev_revenue"
          ],
          [
           "2021_2",
           "large_accelerated_filer",
           "roe"
          ],
          [
           "2021_2",
           "large_accelerated_filer",
           "roa"
          ],
          [
           "2021_2",
           "large_accelerated_filer",
           "roce"
          ],
          [
           "2021_2",
           "large_accelerated_filer",
           "gross_margin"
          ],
          [
           "2021_2",
           "large_accelerated_filer",
           "operating_profit_margin"
          ],
          [
           "2021_2",
           "large_accelerated_filer",
           "net_profit_margin"
          ],
          [
           "2021_2",
           "large_accelerated_filer",
           "debt_to_equity"
          ],
          [
           "2021_2",
           "large_accelerated_filer",
           "equity"
          ],
          [
           "2021_2",
           "large_accelerated_filer",
           "debt"
          ],
          [
           "2021_2",
           "large_accelerated_filer",
           "current"
          ],
          [
           "2021_2",
           "large_accelerated_filer",
           "quick"
          ],
          [
           "2021_2",
           "large_accelerated_filer",
           "cash"
          ],
          [
           "2021_2",
           "large_accelerated_filer",
           "times_interest_earned"
          ],
          [
           "2021_2",
           "large_accelerated_filer",
           "capex_to_operating_cash"
          ],
          [
           "2021_2",
           "large_accelerated_filer",
           "operating_cash_flow"
          ],
          [
           "2021_2",
           "large_accelerated_filer",
           "price_to_earnings"
          ],
          [
           "2021_2",
           "large_accelerated_filer",
           "ev_ebitda"
          ],
          [
           "2021_2",
           "large_accelerated_filer",
           "ev_ebit"
          ],
          [
           "2021_2",
           "large_accelerated_filer",
           "ev_revenue"
          ],
          [
           "2021_3",
           "large_accelerated_filer",
           "roe"
          ],
          [
           "2021_3",
           "large_accelerated_filer",
           "roa"
          ],
          [
           "2021_3",
           "large_accelerated_filer",
           "roce"
          ],
          [
           "2021_3",
           "large_accelerated_filer",
           "gross_margin"
          ],
          [
           "2021_3",
           "large_accelerated_filer",
           "operating_profit_margin"
          ],
          [
           "2021_3",
           "large_accelerated_filer",
           "net_profit_margin"
          ],
          [
           "2021_3",
           "large_accelerated_filer",
           "debt_to_equity"
          ],
          [
           "2021_3",
           "large_accelerated_filer",
           "equity"
          ],
          [
           "2021_3",
           "large_accelerated_filer",
           "debt"
          ],
          [
           "2021_3",
           "large_accelerated_filer",
           "current"
          ],
          [
           "2021_3",
           "large_accelerated_filer",
           "quick"
          ],
          [
           "2021_3",
           "large_accelerated_filer",
           "cash"
          ],
          [
           "2021_3",
           "large_accelerated_filer",
           "times_interest_earned"
          ],
          [
           "2021_3",
           "large_accelerated_filer",
           "capex_to_operating_cash"
          ],
          [
           "2021_3",
           "large_accelerated_filer",
           "operating_cash_flow"
          ],
          [
           "2021_3",
           "large_accelerated_filer",
           "price_to_earnings"
          ],
          [
           "2021_3",
           "large_accelerated_filer",
           "ev_ebitda"
          ],
          [
           "2021_3",
           "large_accelerated_filer",
           "ev_ebit"
          ],
          [
           "2021_3",
           "large_accelerated_filer",
           "ev_revenue"
          ]
         ],
         "fillcolor": "rgba(255,255,255,0)",
         "hoveron": "points",
         "hovertemplate": "filer_type=%{customdata[1]}<br>used_to_all=%{x}<br>year_q=%{customdata[0]}<br>kpi=%{customdata[2]}<extra></extra>",
         "jitter": 0,
         "legendgroup": "large_accelerated_filer",
         "line": {
          "color": "rgba(255,255,255,0)"
         },
         "marker": {
          "color": "#EF553B",
          "symbol": "line-ns-open"
         },
         "name": "large_accelerated_filer",
         "offsetgroup": "large_accelerated_filer",
         "showlegend": false,
         "type": "box",
         "x": [
          0.98,
          0.98,
          0.98,
          0.96,
          0.96,
          0.96,
          0.98,
          0.98,
          0.91,
          0.98,
          0.96,
          0.96,
          0.96,
          0.98,
          0.98,
          0.98,
          0.87,
          0.89,
          0.87,
          1,
          1,
          1,
          0.98,
          0.98,
          0.98,
          1,
          1,
          0.94,
          1,
          1,
          1,
          0.98,
          1,
          1,
          1,
          0.91,
          0.94,
          0.91,
          1,
          1,
          1,
          0.98,
          0.98,
          0.98,
          1,
          1,
          0.94,
          1,
          1,
          1,
          0.98,
          1,
          1,
          1,
          0.91,
          0.94,
          0.91,
          0.98,
          0.98,
          0.98,
          0.96,
          0.96,
          0.96,
          0.98,
          0.98,
          0.94,
          0.98,
          0.96,
          0.98,
          0.98,
          0.98,
          0.98,
          0.98,
          0.92,
          0.94,
          0.92,
          1,
          1,
          1,
          0.98,
          0.98,
          0.98,
          1,
          1,
          0.96,
          1,
          1,
          1,
          1,
          1,
          1,
          1,
          0.94,
          0.96,
          0.94,
          0.98,
          0.98,
          0.98,
          0.98,
          0.98,
          0.98,
          0.98,
          0.98,
          0.94,
          0.98,
          0.98,
          0.98,
          1,
          1,
          0.98,
          0.98,
          0.92,
          0.94,
          0.92,
          1,
          1,
          1,
          0.98,
          0.98,
          0.98,
          1,
          1,
          0.96,
          1,
          0.98,
          0.98,
          1,
          1,
          1,
          1,
          0.92,
          0.94,
          0.92,
          0.96,
          0.98,
          0.98,
          0.98,
          0.98,
          0.98,
          0.96,
          0.96,
          0.94,
          0.98,
          0.96,
          0.96,
          0.98,
          0.98,
          0.98,
          0.98,
          0.89,
          0.93,
          0.93,
          1,
          1,
          1,
          1,
          1,
          1,
          1,
          1,
          1,
          1,
          0.98,
          0.98,
          1,
          1,
          1,
          1,
          0.93,
          0.98,
          0.98,
          1,
          1,
          1,
          1,
          1,
          1,
          1,
          1,
          0.98,
          1,
          0.98,
          0.98,
          0.98,
          1,
          1,
          1,
          0.93,
          0.96,
          0.96,
          0.98,
          0.98,
          0.98,
          0.98,
          0.98,
          0.98,
          0.98,
          0.98,
          0.96,
          0.98,
          0.96,
          0.96,
          0.98,
          0.98,
          0.98,
          0.98,
          0.91,
          0.94,
          0.94,
          0.92,
          0.92,
          0.92,
          0.92,
          0.92,
          0.92,
          0.92,
          0.92,
          0.9,
          0.92,
          0.9,
          0.9,
          0.92,
          0.92,
          0.92,
          0.92,
          0.87,
          0.88,
          0.88,
          0.88,
          0.88,
          0.88,
          0.87,
          0.88,
          0.88,
          0.88,
          0.88,
          0.87,
          0.88,
          0.85,
          0.87,
          0.85,
          0.87,
          0.88,
          0.88,
          0.83,
          0.85,
          0.85,
          0.96,
          0.96,
          0.96,
          0.94,
          0.96,
          0.96,
          0.96,
          0.96,
          0.92,
          0.96,
          0.94,
          0.96,
          0.92,
          0.94,
          0.96,
          0.96,
          0.9,
          0.92,
          0.92,
          1,
          1,
          1,
          0.98,
          1,
          1,
          1,
          1,
          0.96,
          1,
          0.96,
          0.98,
          0.96,
          0.98,
          1,
          1,
          0.94,
          0.94,
          0.94,
          0.97,
          0.97,
          0.97,
          0.97,
          0.97,
          0.97,
          0.97,
          0.97,
          0.97,
          0.97,
          0.97,
          0.97,
          0.95,
          0.97,
          0.97,
          0.97,
          0.97,
          0.97,
          0.97,
          0.97,
          0.97,
          0.97,
          0.97,
          1,
          1,
          0.97,
          0.97,
          0.97,
          0.97,
          0.97,
          0.97,
          0.97,
          0.97,
          0.97,
          0.97,
          0.97,
          0.97,
          0.97,
          1,
          1,
          1,
          1,
          1,
          1,
          1,
          1,
          1,
          1,
          1,
          1,
          0.97,
          1,
          1,
          1,
          1,
          1,
          1
         ],
         "xaxis": "x2",
         "yaxis": "y2"
        },
        {
         "alignmentgroup": "True",
         "bingroup": "x",
         "hovertemplate": "filer_type=non_accelerated_filer<br>used_to_all=%{x}<br>count=%{y}<extra></extra>",
         "legendgroup": "non_accelerated_filer",
         "marker": {
          "color": "#00cc96",
          "pattern": {
           "shape": ""
          }
         },
         "name": "non_accelerated_filer",
         "offsetgroup": "non_accelerated_filer",
         "orientation": "v",
         "showlegend": true,
         "type": "histogram",
         "x": [
          0.8,
          0.8,
          0.75,
          0.8,
          0.85,
          0.85,
          0.75,
          0.8,
          0.6,
          0.75,
          0.65,
          0.75,
          0.7,
          0.75,
          0.75,
          0.8,
          0.55,
          0.6,
          0.6,
          0.94,
          0.94,
          0.89,
          0.94,
          0.94,
          0.94,
          0.89,
          0.94,
          0.78,
          0.89,
          0.72,
          0.83,
          0.78,
          0.83,
          0.89,
          0.94,
          0.67,
          0.72,
          0.72,
          0.94,
          0.94,
          0.89,
          0.94,
          0.94,
          0.94,
          0.89,
          0.94,
          0.78,
          0.89,
          0.78,
          0.89,
          0.78,
          0.83,
          0.89,
          0.94,
          0.72,
          0.78,
          0.78,
          1,
          1,
          0.91,
          1,
          1,
          1,
          0.91,
          1,
          0.82,
          0.91,
          0.73,
          0.91,
          0.82,
          0.91,
          0.91,
          1,
          0.82,
          0.82,
          0.82,
          0.76,
          0.76,
          0.71,
          0.76,
          0.76,
          0.76,
          0.71,
          0.76,
          0.59,
          0.71,
          0.53,
          0.71,
          0.59,
          0.65,
          0.71,
          0.76,
          0.59,
          0.59,
          0.59,
          0.93,
          0.93,
          0.86,
          0.93,
          0.93,
          0.93,
          0.86,
          0.93,
          0.71,
          0.86,
          0.64,
          0.86,
          0.71,
          0.79,
          0.86,
          0.93,
          0.71,
          0.71,
          0.71,
          0.93,
          0.93,
          0.86,
          0.93,
          0.93,
          0.93,
          0.86,
          0.93,
          0.71,
          0.86,
          0.64,
          0.86,
          0.71,
          0.79,
          0.86,
          0.93,
          0.71,
          0.71,
          0.71,
          1,
          1,
          0.86,
          1,
          1,
          1,
          0.86,
          1,
          0.86,
          0.86,
          0.71,
          0.86,
          0.86,
          0.86,
          0.86,
          1,
          0.86,
          0.86,
          0.86,
          0.73,
          0.73,
          0.64,
          0.73,
          0.73,
          0.73,
          0.64,
          0.73,
          0.55,
          0.64,
          0.45,
          0.64,
          0.55,
          0.55,
          0.64,
          0.73,
          0.55,
          0.55,
          0.55,
          0.8,
          0.8,
          0.7,
          0.8,
          0.8,
          0.8,
          0.7,
          0.8,
          0.6,
          0.7,
          0.5,
          0.7,
          0.6,
          0.6,
          0.7,
          0.8,
          0.6,
          0.6,
          0.6,
          0.91,
          1,
          0.91,
          1,
          1,
          1,
          0.82,
          0.91,
          0.82,
          0.91,
          0.64,
          0.82,
          0.82,
          0.82,
          0.91,
          1,
          0.73,
          0.73,
          0.73,
          0.93,
          1,
          0.79,
          0.86,
          1,
          1,
          0.79,
          0.93,
          0.79,
          0.79,
          0.64,
          0.79,
          0.71,
          0.71,
          0.79,
          1,
          0.79,
          0.79,
          0.79,
          0.81,
          0.81,
          0.69,
          0.69,
          0.88,
          0.81,
          0.69,
          0.81,
          0.69,
          0.69,
          0.56,
          0.69,
          0.56,
          0.62,
          0.69,
          0.81,
          0.69,
          0.69,
          0.69,
          0.87,
          0.93,
          0.73,
          0.73,
          0.93,
          0.93,
          0.73,
          0.87,
          0.73,
          0.73,
          0.6,
          0.73,
          0.67,
          0.67,
          0.73,
          0.93,
          0.73,
          0.73,
          0.73,
          0.53,
          0.6,
          0.53,
          0.6,
          0.6,
          0.6,
          0.53,
          0.67,
          0.6,
          0.53,
          0.47,
          0.47,
          0.53,
          0.53,
          0.53,
          0.6,
          0.53,
          0.53,
          0.53,
          0.9,
          0.97,
          0.87,
          0.77,
          0.94,
          0.9,
          0.87,
          0.94,
          0.77,
          0.87,
          0.71,
          0.87,
          0.77,
          0.77,
          0.87,
          0.97,
          0.77,
          0.77,
          0.74,
          0.77,
          0.77,
          0.71,
          0.63,
          0.74,
          0.74,
          0.71,
          0.77,
          0.66,
          0.71,
          0.6,
          0.71,
          0.63,
          0.66,
          0.71,
          0.77,
          0.66,
          0.66,
          0.63,
          0.79,
          0.79,
          0.73,
          0.64,
          0.76,
          0.76,
          0.76,
          0.82,
          0.67,
          0.73,
          0.61,
          0.73,
          0.61,
          0.67,
          0.73,
          0.79,
          0.67,
          0.67,
          0.64
         ],
         "xaxis": "x",
         "yaxis": "y"
        },
        {
         "alignmentgroup": "True",
         "boxpoints": "all",
         "customdata": [
          [
           "2017_2",
           "non_accelerated_filer",
           "roe"
          ],
          [
           "2017_2",
           "non_accelerated_filer",
           "roa"
          ],
          [
           "2017_2",
           "non_accelerated_filer",
           "roce"
          ],
          [
           "2017_2",
           "non_accelerated_filer",
           "gross_margin"
          ],
          [
           "2017_2",
           "non_accelerated_filer",
           "operating_profit_margin"
          ],
          [
           "2017_2",
           "non_accelerated_filer",
           "net_profit_margin"
          ],
          [
           "2017_2",
           "non_accelerated_filer",
           "debt_to_equity"
          ],
          [
           "2017_2",
           "non_accelerated_filer",
           "equity"
          ],
          [
           "2017_2",
           "non_accelerated_filer",
           "debt"
          ],
          [
           "2017_2",
           "non_accelerated_filer",
           "current"
          ],
          [
           "2017_2",
           "non_accelerated_filer",
           "quick"
          ],
          [
           "2017_2",
           "non_accelerated_filer",
           "cash"
          ],
          [
           "2017_2",
           "non_accelerated_filer",
           "times_interest_earned"
          ],
          [
           "2017_2",
           "non_accelerated_filer",
           "capex_to_operating_cash"
          ],
          [
           "2017_2",
           "non_accelerated_filer",
           "operating_cash_flow"
          ],
          [
           "2017_2",
           "non_accelerated_filer",
           "price_to_earnings"
          ],
          [
           "2017_2",
           "non_accelerated_filer",
           "ev_ebitda"
          ],
          [
           "2017_2",
           "non_accelerated_filer",
           "ev_ebit"
          ],
          [
           "2017_2",
           "non_accelerated_filer",
           "ev_revenue"
          ],
          [
           "2017_3",
           "non_accelerated_filer",
           "roe"
          ],
          [
           "2017_3",
           "non_accelerated_filer",
           "roa"
          ],
          [
           "2017_3",
           "non_accelerated_filer",
           "roce"
          ],
          [
           "2017_3",
           "non_accelerated_filer",
           "gross_margin"
          ],
          [
           "2017_3",
           "non_accelerated_filer",
           "operating_profit_margin"
          ],
          [
           "2017_3",
           "non_accelerated_filer",
           "net_profit_margin"
          ],
          [
           "2017_3",
           "non_accelerated_filer",
           "debt_to_equity"
          ],
          [
           "2017_3",
           "non_accelerated_filer",
           "equity"
          ],
          [
           "2017_3",
           "non_accelerated_filer",
           "debt"
          ],
          [
           "2017_3",
           "non_accelerated_filer",
           "current"
          ],
          [
           "2017_3",
           "non_accelerated_filer",
           "quick"
          ],
          [
           "2017_3",
           "non_accelerated_filer",
           "cash"
          ],
          [
           "2017_3",
           "non_accelerated_filer",
           "times_interest_earned"
          ],
          [
           "2017_3",
           "non_accelerated_filer",
           "capex_to_operating_cash"
          ],
          [
           "2017_3",
           "non_accelerated_filer",
           "operating_cash_flow"
          ],
          [
           "2017_3",
           "non_accelerated_filer",
           "price_to_earnings"
          ],
          [
           "2017_3",
           "non_accelerated_filer",
           "ev_ebitda"
          ],
          [
           "2017_3",
           "non_accelerated_filer",
           "ev_ebit"
          ],
          [
           "2017_3",
           "non_accelerated_filer",
           "ev_revenue"
          ],
          [
           "2017_4",
           "non_accelerated_filer",
           "roe"
          ],
          [
           "2017_4",
           "non_accelerated_filer",
           "roa"
          ],
          [
           "2017_4",
           "non_accelerated_filer",
           "roce"
          ],
          [
           "2017_4",
           "non_accelerated_filer",
           "gross_margin"
          ],
          [
           "2017_4",
           "non_accelerated_filer",
           "operating_profit_margin"
          ],
          [
           "2017_4",
           "non_accelerated_filer",
           "net_profit_margin"
          ],
          [
           "2017_4",
           "non_accelerated_filer",
           "debt_to_equity"
          ],
          [
           "2017_4",
           "non_accelerated_filer",
           "equity"
          ],
          [
           "2017_4",
           "non_accelerated_filer",
           "debt"
          ],
          [
           "2017_4",
           "non_accelerated_filer",
           "current"
          ],
          [
           "2017_4",
           "non_accelerated_filer",
           "quick"
          ],
          [
           "2017_4",
           "non_accelerated_filer",
           "cash"
          ],
          [
           "2017_4",
           "non_accelerated_filer",
           "times_interest_earned"
          ],
          [
           "2017_4",
           "non_accelerated_filer",
           "capex_to_operating_cash"
          ],
          [
           "2017_4",
           "non_accelerated_filer",
           "operating_cash_flow"
          ],
          [
           "2017_4",
           "non_accelerated_filer",
           "price_to_earnings"
          ],
          [
           "2017_4",
           "non_accelerated_filer",
           "ev_ebitda"
          ],
          [
           "2017_4",
           "non_accelerated_filer",
           "ev_ebit"
          ],
          [
           "2017_4",
           "non_accelerated_filer",
           "ev_revenue"
          ],
          [
           "2018_1",
           "non_accelerated_filer",
           "roe"
          ],
          [
           "2018_1",
           "non_accelerated_filer",
           "roa"
          ],
          [
           "2018_1",
           "non_accelerated_filer",
           "roce"
          ],
          [
           "2018_1",
           "non_accelerated_filer",
           "gross_margin"
          ],
          [
           "2018_1",
           "non_accelerated_filer",
           "operating_profit_margin"
          ],
          [
           "2018_1",
           "non_accelerated_filer",
           "net_profit_margin"
          ],
          [
           "2018_1",
           "non_accelerated_filer",
           "debt_to_equity"
          ],
          [
           "2018_1",
           "non_accelerated_filer",
           "equity"
          ],
          [
           "2018_1",
           "non_accelerated_filer",
           "debt"
          ],
          [
           "2018_1",
           "non_accelerated_filer",
           "current"
          ],
          [
           "2018_1",
           "non_accelerated_filer",
           "quick"
          ],
          [
           "2018_1",
           "non_accelerated_filer",
           "cash"
          ],
          [
           "2018_1",
           "non_accelerated_filer",
           "times_interest_earned"
          ],
          [
           "2018_1",
           "non_accelerated_filer",
           "capex_to_operating_cash"
          ],
          [
           "2018_1",
           "non_accelerated_filer",
           "operating_cash_flow"
          ],
          [
           "2018_1",
           "non_accelerated_filer",
           "price_to_earnings"
          ],
          [
           "2018_1",
           "non_accelerated_filer",
           "ev_ebitda"
          ],
          [
           "2018_1",
           "non_accelerated_filer",
           "ev_ebit"
          ],
          [
           "2018_1",
           "non_accelerated_filer",
           "ev_revenue"
          ],
          [
           "2018_2",
           "non_accelerated_filer",
           "roe"
          ],
          [
           "2018_2",
           "non_accelerated_filer",
           "roa"
          ],
          [
           "2018_2",
           "non_accelerated_filer",
           "roce"
          ],
          [
           "2018_2",
           "non_accelerated_filer",
           "gross_margin"
          ],
          [
           "2018_2",
           "non_accelerated_filer",
           "operating_profit_margin"
          ],
          [
           "2018_2",
           "non_accelerated_filer",
           "net_profit_margin"
          ],
          [
           "2018_2",
           "non_accelerated_filer",
           "debt_to_equity"
          ],
          [
           "2018_2",
           "non_accelerated_filer",
           "equity"
          ],
          [
           "2018_2",
           "non_accelerated_filer",
           "debt"
          ],
          [
           "2018_2",
           "non_accelerated_filer",
           "current"
          ],
          [
           "2018_2",
           "non_accelerated_filer",
           "quick"
          ],
          [
           "2018_2",
           "non_accelerated_filer",
           "cash"
          ],
          [
           "2018_2",
           "non_accelerated_filer",
           "times_interest_earned"
          ],
          [
           "2018_2",
           "non_accelerated_filer",
           "capex_to_operating_cash"
          ],
          [
           "2018_2",
           "non_accelerated_filer",
           "operating_cash_flow"
          ],
          [
           "2018_2",
           "non_accelerated_filer",
           "price_to_earnings"
          ],
          [
           "2018_2",
           "non_accelerated_filer",
           "ev_ebitda"
          ],
          [
           "2018_2",
           "non_accelerated_filer",
           "ev_ebit"
          ],
          [
           "2018_2",
           "non_accelerated_filer",
           "ev_revenue"
          ],
          [
           "2018_3",
           "non_accelerated_filer",
           "roe"
          ],
          [
           "2018_3",
           "non_accelerated_filer",
           "roa"
          ],
          [
           "2018_3",
           "non_accelerated_filer",
           "roce"
          ],
          [
           "2018_3",
           "non_accelerated_filer",
           "gross_margin"
          ],
          [
           "2018_3",
           "non_accelerated_filer",
           "operating_profit_margin"
          ],
          [
           "2018_3",
           "non_accelerated_filer",
           "net_profit_margin"
          ],
          [
           "2018_3",
           "non_accelerated_filer",
           "debt_to_equity"
          ],
          [
           "2018_3",
           "non_accelerated_filer",
           "equity"
          ],
          [
           "2018_3",
           "non_accelerated_filer",
           "debt"
          ],
          [
           "2018_3",
           "non_accelerated_filer",
           "current"
          ],
          [
           "2018_3",
           "non_accelerated_filer",
           "quick"
          ],
          [
           "2018_3",
           "non_accelerated_filer",
           "cash"
          ],
          [
           "2018_3",
           "non_accelerated_filer",
           "times_interest_earned"
          ],
          [
           "2018_3",
           "non_accelerated_filer",
           "capex_to_operating_cash"
          ],
          [
           "2018_3",
           "non_accelerated_filer",
           "operating_cash_flow"
          ],
          [
           "2018_3",
           "non_accelerated_filer",
           "price_to_earnings"
          ],
          [
           "2018_3",
           "non_accelerated_filer",
           "ev_ebitda"
          ],
          [
           "2018_3",
           "non_accelerated_filer",
           "ev_ebit"
          ],
          [
           "2018_3",
           "non_accelerated_filer",
           "ev_revenue"
          ],
          [
           "2018_4",
           "non_accelerated_filer",
           "roe"
          ],
          [
           "2018_4",
           "non_accelerated_filer",
           "roa"
          ],
          [
           "2018_4",
           "non_accelerated_filer",
           "roce"
          ],
          [
           "2018_4",
           "non_accelerated_filer",
           "gross_margin"
          ],
          [
           "2018_4",
           "non_accelerated_filer",
           "operating_profit_margin"
          ],
          [
           "2018_4",
           "non_accelerated_filer",
           "net_profit_margin"
          ],
          [
           "2018_4",
           "non_accelerated_filer",
           "debt_to_equity"
          ],
          [
           "2018_4",
           "non_accelerated_filer",
           "equity"
          ],
          [
           "2018_4",
           "non_accelerated_filer",
           "debt"
          ],
          [
           "2018_4",
           "non_accelerated_filer",
           "current"
          ],
          [
           "2018_4",
           "non_accelerated_filer",
           "quick"
          ],
          [
           "2018_4",
           "non_accelerated_filer",
           "cash"
          ],
          [
           "2018_4",
           "non_accelerated_filer",
           "times_interest_earned"
          ],
          [
           "2018_4",
           "non_accelerated_filer",
           "capex_to_operating_cash"
          ],
          [
           "2018_4",
           "non_accelerated_filer",
           "operating_cash_flow"
          ],
          [
           "2018_4",
           "non_accelerated_filer",
           "price_to_earnings"
          ],
          [
           "2018_4",
           "non_accelerated_filer",
           "ev_ebitda"
          ],
          [
           "2018_4",
           "non_accelerated_filer",
           "ev_ebit"
          ],
          [
           "2018_4",
           "non_accelerated_filer",
           "ev_revenue"
          ],
          [
           "2019_1",
           "non_accelerated_filer",
           "roe"
          ],
          [
           "2019_1",
           "non_accelerated_filer",
           "roa"
          ],
          [
           "2019_1",
           "non_accelerated_filer",
           "roce"
          ],
          [
           "2019_1",
           "non_accelerated_filer",
           "gross_margin"
          ],
          [
           "2019_1",
           "non_accelerated_filer",
           "operating_profit_margin"
          ],
          [
           "2019_1",
           "non_accelerated_filer",
           "net_profit_margin"
          ],
          [
           "2019_1",
           "non_accelerated_filer",
           "debt_to_equity"
          ],
          [
           "2019_1",
           "non_accelerated_filer",
           "equity"
          ],
          [
           "2019_1",
           "non_accelerated_filer",
           "debt"
          ],
          [
           "2019_1",
           "non_accelerated_filer",
           "current"
          ],
          [
           "2019_1",
           "non_accelerated_filer",
           "quick"
          ],
          [
           "2019_1",
           "non_accelerated_filer",
           "cash"
          ],
          [
           "2019_1",
           "non_accelerated_filer",
           "times_interest_earned"
          ],
          [
           "2019_1",
           "non_accelerated_filer",
           "capex_to_operating_cash"
          ],
          [
           "2019_1",
           "non_accelerated_filer",
           "operating_cash_flow"
          ],
          [
           "2019_1",
           "non_accelerated_filer",
           "price_to_earnings"
          ],
          [
           "2019_1",
           "non_accelerated_filer",
           "ev_ebitda"
          ],
          [
           "2019_1",
           "non_accelerated_filer",
           "ev_ebit"
          ],
          [
           "2019_1",
           "non_accelerated_filer",
           "ev_revenue"
          ],
          [
           "2019_2",
           "non_accelerated_filer",
           "roe"
          ],
          [
           "2019_2",
           "non_accelerated_filer",
           "roa"
          ],
          [
           "2019_2",
           "non_accelerated_filer",
           "roce"
          ],
          [
           "2019_2",
           "non_accelerated_filer",
           "gross_margin"
          ],
          [
           "2019_2",
           "non_accelerated_filer",
           "operating_profit_margin"
          ],
          [
           "2019_2",
           "non_accelerated_filer",
           "net_profit_margin"
          ],
          [
           "2019_2",
           "non_accelerated_filer",
           "debt_to_equity"
          ],
          [
           "2019_2",
           "non_accelerated_filer",
           "equity"
          ],
          [
           "2019_2",
           "non_accelerated_filer",
           "debt"
          ],
          [
           "2019_2",
           "non_accelerated_filer",
           "current"
          ],
          [
           "2019_2",
           "non_accelerated_filer",
           "quick"
          ],
          [
           "2019_2",
           "non_accelerated_filer",
           "cash"
          ],
          [
           "2019_2",
           "non_accelerated_filer",
           "times_interest_earned"
          ],
          [
           "2019_2",
           "non_accelerated_filer",
           "capex_to_operating_cash"
          ],
          [
           "2019_2",
           "non_accelerated_filer",
           "operating_cash_flow"
          ],
          [
           "2019_2",
           "non_accelerated_filer",
           "price_to_earnings"
          ],
          [
           "2019_2",
           "non_accelerated_filer",
           "ev_ebitda"
          ],
          [
           "2019_2",
           "non_accelerated_filer",
           "ev_ebit"
          ],
          [
           "2019_2",
           "non_accelerated_filer",
           "ev_revenue"
          ],
          [
           "2019_3",
           "non_accelerated_filer",
           "roe"
          ],
          [
           "2019_3",
           "non_accelerated_filer",
           "roa"
          ],
          [
           "2019_3",
           "non_accelerated_filer",
           "roce"
          ],
          [
           "2019_3",
           "non_accelerated_filer",
           "gross_margin"
          ],
          [
           "2019_3",
           "non_accelerated_filer",
           "operating_profit_margin"
          ],
          [
           "2019_3",
           "non_accelerated_filer",
           "net_profit_margin"
          ],
          [
           "2019_3",
           "non_accelerated_filer",
           "debt_to_equity"
          ],
          [
           "2019_3",
           "non_accelerated_filer",
           "equity"
          ],
          [
           "2019_3",
           "non_accelerated_filer",
           "debt"
          ],
          [
           "2019_3",
           "non_accelerated_filer",
           "current"
          ],
          [
           "2019_3",
           "non_accelerated_filer",
           "quick"
          ],
          [
           "2019_3",
           "non_accelerated_filer",
           "cash"
          ],
          [
           "2019_3",
           "non_accelerated_filer",
           "times_interest_earned"
          ],
          [
           "2019_3",
           "non_accelerated_filer",
           "capex_to_operating_cash"
          ],
          [
           "2019_3",
           "non_accelerated_filer",
           "operating_cash_flow"
          ],
          [
           "2019_3",
           "non_accelerated_filer",
           "price_to_earnings"
          ],
          [
           "2019_3",
           "non_accelerated_filer",
           "ev_ebitda"
          ],
          [
           "2019_3",
           "non_accelerated_filer",
           "ev_ebit"
          ],
          [
           "2019_3",
           "non_accelerated_filer",
           "ev_revenue"
          ],
          [
           "2019_4",
           "non_accelerated_filer",
           "roe"
          ],
          [
           "2019_4",
           "non_accelerated_filer",
           "roa"
          ],
          [
           "2019_4",
           "non_accelerated_filer",
           "roce"
          ],
          [
           "2019_4",
           "non_accelerated_filer",
           "gross_margin"
          ],
          [
           "2019_4",
           "non_accelerated_filer",
           "operating_profit_margin"
          ],
          [
           "2019_4",
           "non_accelerated_filer",
           "net_profit_margin"
          ],
          [
           "2019_4",
           "non_accelerated_filer",
           "debt_to_equity"
          ],
          [
           "2019_4",
           "non_accelerated_filer",
           "equity"
          ],
          [
           "2019_4",
           "non_accelerated_filer",
           "debt"
          ],
          [
           "2019_4",
           "non_accelerated_filer",
           "current"
          ],
          [
           "2019_4",
           "non_accelerated_filer",
           "quick"
          ],
          [
           "2019_4",
           "non_accelerated_filer",
           "cash"
          ],
          [
           "2019_4",
           "non_accelerated_filer",
           "times_interest_earned"
          ],
          [
           "2019_4",
           "non_accelerated_filer",
           "capex_to_operating_cash"
          ],
          [
           "2019_4",
           "non_accelerated_filer",
           "operating_cash_flow"
          ],
          [
           "2019_4",
           "non_accelerated_filer",
           "price_to_earnings"
          ],
          [
           "2019_4",
           "non_accelerated_filer",
           "ev_ebitda"
          ],
          [
           "2019_4",
           "non_accelerated_filer",
           "ev_ebit"
          ],
          [
           "2019_4",
           "non_accelerated_filer",
           "ev_revenue"
          ],
          [
           "2020_1",
           "non_accelerated_filer",
           "roe"
          ],
          [
           "2020_1",
           "non_accelerated_filer",
           "roa"
          ],
          [
           "2020_1",
           "non_accelerated_filer",
           "roce"
          ],
          [
           "2020_1",
           "non_accelerated_filer",
           "gross_margin"
          ],
          [
           "2020_1",
           "non_accelerated_filer",
           "operating_profit_margin"
          ],
          [
           "2020_1",
           "non_accelerated_filer",
           "net_profit_margin"
          ],
          [
           "2020_1",
           "non_accelerated_filer",
           "debt_to_equity"
          ],
          [
           "2020_1",
           "non_accelerated_filer",
           "equity"
          ],
          [
           "2020_1",
           "non_accelerated_filer",
           "debt"
          ],
          [
           "2020_1",
           "non_accelerated_filer",
           "current"
          ],
          [
           "2020_1",
           "non_accelerated_filer",
           "quick"
          ],
          [
           "2020_1",
           "non_accelerated_filer",
           "cash"
          ],
          [
           "2020_1",
           "non_accelerated_filer",
           "times_interest_earned"
          ],
          [
           "2020_1",
           "non_accelerated_filer",
           "capex_to_operating_cash"
          ],
          [
           "2020_1",
           "non_accelerated_filer",
           "operating_cash_flow"
          ],
          [
           "2020_1",
           "non_accelerated_filer",
           "price_to_earnings"
          ],
          [
           "2020_1",
           "non_accelerated_filer",
           "ev_ebitda"
          ],
          [
           "2020_1",
           "non_accelerated_filer",
           "ev_ebit"
          ],
          [
           "2020_1",
           "non_accelerated_filer",
           "ev_revenue"
          ],
          [
           "2020_2",
           "non_accelerated_filer",
           "roe"
          ],
          [
           "2020_2",
           "non_accelerated_filer",
           "roa"
          ],
          [
           "2020_2",
           "non_accelerated_filer",
           "roce"
          ],
          [
           "2020_2",
           "non_accelerated_filer",
           "gross_margin"
          ],
          [
           "2020_2",
           "non_accelerated_filer",
           "operating_profit_margin"
          ],
          [
           "2020_2",
           "non_accelerated_filer",
           "net_profit_margin"
          ],
          [
           "2020_2",
           "non_accelerated_filer",
           "debt_to_equity"
          ],
          [
           "2020_2",
           "non_accelerated_filer",
           "equity"
          ],
          [
           "2020_2",
           "non_accelerated_filer",
           "debt"
          ],
          [
           "2020_2",
           "non_accelerated_filer",
           "current"
          ],
          [
           "2020_2",
           "non_accelerated_filer",
           "quick"
          ],
          [
           "2020_2",
           "non_accelerated_filer",
           "cash"
          ],
          [
           "2020_2",
           "non_accelerated_filer",
           "times_interest_earned"
          ],
          [
           "2020_2",
           "non_accelerated_filer",
           "capex_to_operating_cash"
          ],
          [
           "2020_2",
           "non_accelerated_filer",
           "operating_cash_flow"
          ],
          [
           "2020_2",
           "non_accelerated_filer",
           "price_to_earnings"
          ],
          [
           "2020_2",
           "non_accelerated_filer",
           "ev_ebitda"
          ],
          [
           "2020_2",
           "non_accelerated_filer",
           "ev_ebit"
          ],
          [
           "2020_2",
           "non_accelerated_filer",
           "ev_revenue"
          ],
          [
           "2020_3",
           "non_accelerated_filer",
           "roe"
          ],
          [
           "2020_3",
           "non_accelerated_filer",
           "roa"
          ],
          [
           "2020_3",
           "non_accelerated_filer",
           "roce"
          ],
          [
           "2020_3",
           "non_accelerated_filer",
           "gross_margin"
          ],
          [
           "2020_3",
           "non_accelerated_filer",
           "operating_profit_margin"
          ],
          [
           "2020_3",
           "non_accelerated_filer",
           "net_profit_margin"
          ],
          [
           "2020_3",
           "non_accelerated_filer",
           "debt_to_equity"
          ],
          [
           "2020_3",
           "non_accelerated_filer",
           "equity"
          ],
          [
           "2020_3",
           "non_accelerated_filer",
           "debt"
          ],
          [
           "2020_3",
           "non_accelerated_filer",
           "current"
          ],
          [
           "2020_3",
           "non_accelerated_filer",
           "quick"
          ],
          [
           "2020_3",
           "non_accelerated_filer",
           "cash"
          ],
          [
           "2020_3",
           "non_accelerated_filer",
           "times_interest_earned"
          ],
          [
           "2020_3",
           "non_accelerated_filer",
           "capex_to_operating_cash"
          ],
          [
           "2020_3",
           "non_accelerated_filer",
           "operating_cash_flow"
          ],
          [
           "2020_3",
           "non_accelerated_filer",
           "price_to_earnings"
          ],
          [
           "2020_3",
           "non_accelerated_filer",
           "ev_ebitda"
          ],
          [
           "2020_3",
           "non_accelerated_filer",
           "ev_ebit"
          ],
          [
           "2020_3",
           "non_accelerated_filer",
           "ev_revenue"
          ],
          [
           "2020_4",
           "non_accelerated_filer",
           "roe"
          ],
          [
           "2020_4",
           "non_accelerated_filer",
           "roa"
          ],
          [
           "2020_4",
           "non_accelerated_filer",
           "roce"
          ],
          [
           "2020_4",
           "non_accelerated_filer",
           "gross_margin"
          ],
          [
           "2020_4",
           "non_accelerated_filer",
           "operating_profit_margin"
          ],
          [
           "2020_4",
           "non_accelerated_filer",
           "net_profit_margin"
          ],
          [
           "2020_4",
           "non_accelerated_filer",
           "debt_to_equity"
          ],
          [
           "2020_4",
           "non_accelerated_filer",
           "equity"
          ],
          [
           "2020_4",
           "non_accelerated_filer",
           "debt"
          ],
          [
           "2020_4",
           "non_accelerated_filer",
           "current"
          ],
          [
           "2020_4",
           "non_accelerated_filer",
           "quick"
          ],
          [
           "2020_4",
           "non_accelerated_filer",
           "cash"
          ],
          [
           "2020_4",
           "non_accelerated_filer",
           "times_interest_earned"
          ],
          [
           "2020_4",
           "non_accelerated_filer",
           "capex_to_operating_cash"
          ],
          [
           "2020_4",
           "non_accelerated_filer",
           "operating_cash_flow"
          ],
          [
           "2020_4",
           "non_accelerated_filer",
           "price_to_earnings"
          ],
          [
           "2020_4",
           "non_accelerated_filer",
           "ev_ebitda"
          ],
          [
           "2020_4",
           "non_accelerated_filer",
           "ev_ebit"
          ],
          [
           "2020_4",
           "non_accelerated_filer",
           "ev_revenue"
          ],
          [
           "2021_1",
           "non_accelerated_filer",
           "roe"
          ],
          [
           "2021_1",
           "non_accelerated_filer",
           "roa"
          ],
          [
           "2021_1",
           "non_accelerated_filer",
           "roce"
          ],
          [
           "2021_1",
           "non_accelerated_filer",
           "gross_margin"
          ],
          [
           "2021_1",
           "non_accelerated_filer",
           "operating_profit_margin"
          ],
          [
           "2021_1",
           "non_accelerated_filer",
           "net_profit_margin"
          ],
          [
           "2021_1",
           "non_accelerated_filer",
           "debt_to_equity"
          ],
          [
           "2021_1",
           "non_accelerated_filer",
           "equity"
          ],
          [
           "2021_1",
           "non_accelerated_filer",
           "debt"
          ],
          [
           "2021_1",
           "non_accelerated_filer",
           "current"
          ],
          [
           "2021_1",
           "non_accelerated_filer",
           "quick"
          ],
          [
           "2021_1",
           "non_accelerated_filer",
           "cash"
          ],
          [
           "2021_1",
           "non_accelerated_filer",
           "times_interest_earned"
          ],
          [
           "2021_1",
           "non_accelerated_filer",
           "capex_to_operating_cash"
          ],
          [
           "2021_1",
           "non_accelerated_filer",
           "operating_cash_flow"
          ],
          [
           "2021_1",
           "non_accelerated_filer",
           "price_to_earnings"
          ],
          [
           "2021_1",
           "non_accelerated_filer",
           "ev_ebitda"
          ],
          [
           "2021_1",
           "non_accelerated_filer",
           "ev_ebit"
          ],
          [
           "2021_1",
           "non_accelerated_filer",
           "ev_revenue"
          ],
          [
           "2021_2",
           "non_accelerated_filer",
           "roe"
          ],
          [
           "2021_2",
           "non_accelerated_filer",
           "roa"
          ],
          [
           "2021_2",
           "non_accelerated_filer",
           "roce"
          ],
          [
           "2021_2",
           "non_accelerated_filer",
           "gross_margin"
          ],
          [
           "2021_2",
           "non_accelerated_filer",
           "operating_profit_margin"
          ],
          [
           "2021_2",
           "non_accelerated_filer",
           "net_profit_margin"
          ],
          [
           "2021_2",
           "non_accelerated_filer",
           "debt_to_equity"
          ],
          [
           "2021_2",
           "non_accelerated_filer",
           "equity"
          ],
          [
           "2021_2",
           "non_accelerated_filer",
           "debt"
          ],
          [
           "2021_2",
           "non_accelerated_filer",
           "current"
          ],
          [
           "2021_2",
           "non_accelerated_filer",
           "quick"
          ],
          [
           "2021_2",
           "non_accelerated_filer",
           "cash"
          ],
          [
           "2021_2",
           "non_accelerated_filer",
           "times_interest_earned"
          ],
          [
           "2021_2",
           "non_accelerated_filer",
           "capex_to_operating_cash"
          ],
          [
           "2021_2",
           "non_accelerated_filer",
           "operating_cash_flow"
          ],
          [
           "2021_2",
           "non_accelerated_filer",
           "price_to_earnings"
          ],
          [
           "2021_2",
           "non_accelerated_filer",
           "ev_ebitda"
          ],
          [
           "2021_2",
           "non_accelerated_filer",
           "ev_ebit"
          ],
          [
           "2021_2",
           "non_accelerated_filer",
           "ev_revenue"
          ],
          [
           "2021_3",
           "non_accelerated_filer",
           "roe"
          ],
          [
           "2021_3",
           "non_accelerated_filer",
           "roa"
          ],
          [
           "2021_3",
           "non_accelerated_filer",
           "roce"
          ],
          [
           "2021_3",
           "non_accelerated_filer",
           "gross_margin"
          ],
          [
           "2021_3",
           "non_accelerated_filer",
           "operating_profit_margin"
          ],
          [
           "2021_3",
           "non_accelerated_filer",
           "net_profit_margin"
          ],
          [
           "2021_3",
           "non_accelerated_filer",
           "debt_to_equity"
          ],
          [
           "2021_3",
           "non_accelerated_filer",
           "equity"
          ],
          [
           "2021_3",
           "non_accelerated_filer",
           "debt"
          ],
          [
           "2021_3",
           "non_accelerated_filer",
           "current"
          ],
          [
           "2021_3",
           "non_accelerated_filer",
           "quick"
          ],
          [
           "2021_3",
           "non_accelerated_filer",
           "cash"
          ],
          [
           "2021_3",
           "non_accelerated_filer",
           "times_interest_earned"
          ],
          [
           "2021_3",
           "non_accelerated_filer",
           "capex_to_operating_cash"
          ],
          [
           "2021_3",
           "non_accelerated_filer",
           "operating_cash_flow"
          ],
          [
           "2021_3",
           "non_accelerated_filer",
           "price_to_earnings"
          ],
          [
           "2021_3",
           "non_accelerated_filer",
           "ev_ebitda"
          ],
          [
           "2021_3",
           "non_accelerated_filer",
           "ev_ebit"
          ],
          [
           "2021_3",
           "non_accelerated_filer",
           "ev_revenue"
          ]
         ],
         "fillcolor": "rgba(255,255,255,0)",
         "hoveron": "points",
         "hovertemplate": "filer_type=%{customdata[1]}<br>used_to_all=%{x}<br>year_q=%{customdata[0]}<br>kpi=%{customdata[2]}<extra></extra>",
         "jitter": 0,
         "legendgroup": "non_accelerated_filer",
         "line": {
          "color": "rgba(255,255,255,0)"
         },
         "marker": {
          "color": "#00cc96",
          "symbol": "line-ns-open"
         },
         "name": "non_accelerated_filer",
         "offsetgroup": "non_accelerated_filer",
         "showlegend": false,
         "type": "box",
         "x": [
          0.8,
          0.8,
          0.75,
          0.8,
          0.85,
          0.85,
          0.75,
          0.8,
          0.6,
          0.75,
          0.65,
          0.75,
          0.7,
          0.75,
          0.75,
          0.8,
          0.55,
          0.6,
          0.6,
          0.94,
          0.94,
          0.89,
          0.94,
          0.94,
          0.94,
          0.89,
          0.94,
          0.78,
          0.89,
          0.72,
          0.83,
          0.78,
          0.83,
          0.89,
          0.94,
          0.67,
          0.72,
          0.72,
          0.94,
          0.94,
          0.89,
          0.94,
          0.94,
          0.94,
          0.89,
          0.94,
          0.78,
          0.89,
          0.78,
          0.89,
          0.78,
          0.83,
          0.89,
          0.94,
          0.72,
          0.78,
          0.78,
          1,
          1,
          0.91,
          1,
          1,
          1,
          0.91,
          1,
          0.82,
          0.91,
          0.73,
          0.91,
          0.82,
          0.91,
          0.91,
          1,
          0.82,
          0.82,
          0.82,
          0.76,
          0.76,
          0.71,
          0.76,
          0.76,
          0.76,
          0.71,
          0.76,
          0.59,
          0.71,
          0.53,
          0.71,
          0.59,
          0.65,
          0.71,
          0.76,
          0.59,
          0.59,
          0.59,
          0.93,
          0.93,
          0.86,
          0.93,
          0.93,
          0.93,
          0.86,
          0.93,
          0.71,
          0.86,
          0.64,
          0.86,
          0.71,
          0.79,
          0.86,
          0.93,
          0.71,
          0.71,
          0.71,
          0.93,
          0.93,
          0.86,
          0.93,
          0.93,
          0.93,
          0.86,
          0.93,
          0.71,
          0.86,
          0.64,
          0.86,
          0.71,
          0.79,
          0.86,
          0.93,
          0.71,
          0.71,
          0.71,
          1,
          1,
          0.86,
          1,
          1,
          1,
          0.86,
          1,
          0.86,
          0.86,
          0.71,
          0.86,
          0.86,
          0.86,
          0.86,
          1,
          0.86,
          0.86,
          0.86,
          0.73,
          0.73,
          0.64,
          0.73,
          0.73,
          0.73,
          0.64,
          0.73,
          0.55,
          0.64,
          0.45,
          0.64,
          0.55,
          0.55,
          0.64,
          0.73,
          0.55,
          0.55,
          0.55,
          0.8,
          0.8,
          0.7,
          0.8,
          0.8,
          0.8,
          0.7,
          0.8,
          0.6,
          0.7,
          0.5,
          0.7,
          0.6,
          0.6,
          0.7,
          0.8,
          0.6,
          0.6,
          0.6,
          0.91,
          1,
          0.91,
          1,
          1,
          1,
          0.82,
          0.91,
          0.82,
          0.91,
          0.64,
          0.82,
          0.82,
          0.82,
          0.91,
          1,
          0.73,
          0.73,
          0.73,
          0.93,
          1,
          0.79,
          0.86,
          1,
          1,
          0.79,
          0.93,
          0.79,
          0.79,
          0.64,
          0.79,
          0.71,
          0.71,
          0.79,
          1,
          0.79,
          0.79,
          0.79,
          0.81,
          0.81,
          0.69,
          0.69,
          0.88,
          0.81,
          0.69,
          0.81,
          0.69,
          0.69,
          0.56,
          0.69,
          0.56,
          0.62,
          0.69,
          0.81,
          0.69,
          0.69,
          0.69,
          0.87,
          0.93,
          0.73,
          0.73,
          0.93,
          0.93,
          0.73,
          0.87,
          0.73,
          0.73,
          0.6,
          0.73,
          0.67,
          0.67,
          0.73,
          0.93,
          0.73,
          0.73,
          0.73,
          0.53,
          0.6,
          0.53,
          0.6,
          0.6,
          0.6,
          0.53,
          0.67,
          0.6,
          0.53,
          0.47,
          0.47,
          0.53,
          0.53,
          0.53,
          0.6,
          0.53,
          0.53,
          0.53,
          0.9,
          0.97,
          0.87,
          0.77,
          0.94,
          0.9,
          0.87,
          0.94,
          0.77,
          0.87,
          0.71,
          0.87,
          0.77,
          0.77,
          0.87,
          0.97,
          0.77,
          0.77,
          0.74,
          0.77,
          0.77,
          0.71,
          0.63,
          0.74,
          0.74,
          0.71,
          0.77,
          0.66,
          0.71,
          0.6,
          0.71,
          0.63,
          0.66,
          0.71,
          0.77,
          0.66,
          0.66,
          0.63,
          0.79,
          0.79,
          0.73,
          0.64,
          0.76,
          0.76,
          0.76,
          0.82,
          0.67,
          0.73,
          0.61,
          0.73,
          0.61,
          0.67,
          0.73,
          0.79,
          0.67,
          0.67,
          0.64
         ],
         "xaxis": "x2",
         "yaxis": "y2"
        }
       ],
       "layout": {
        "barmode": "relative",
        "legend": {
         "title": {
          "text": "filer_type"
         },
         "tracegroupgap": 0
        },
        "template": {
         "data": {
          "bar": [
           {
            "error_x": {
             "color": "#2a3f5f"
            },
            "error_y": {
             "color": "#2a3f5f"
            },
            "marker": {
             "line": {
              "color": "#E5ECF6",
              "width": 0.5
             },
             "pattern": {
              "fillmode": "overlay",
              "size": 10,
              "solidity": 0.2
             }
            },
            "type": "bar"
           }
          ],
          "barpolar": [
           {
            "marker": {
             "line": {
              "color": "#E5ECF6",
              "width": 0.5
             },
             "pattern": {
              "fillmode": "overlay",
              "size": 10,
              "solidity": 0.2
             }
            },
            "type": "barpolar"
           }
          ],
          "carpet": [
           {
            "aaxis": {
             "endlinecolor": "#2a3f5f",
             "gridcolor": "white",
             "linecolor": "white",
             "minorgridcolor": "white",
             "startlinecolor": "#2a3f5f"
            },
            "baxis": {
             "endlinecolor": "#2a3f5f",
             "gridcolor": "white",
             "linecolor": "white",
             "minorgridcolor": "white",
             "startlinecolor": "#2a3f5f"
            },
            "type": "carpet"
           }
          ],
          "choropleth": [
           {
            "colorbar": {
             "outlinewidth": 0,
             "ticks": ""
            },
            "type": "choropleth"
           }
          ],
          "contour": [
           {
            "colorbar": {
             "outlinewidth": 0,
             "ticks": ""
            },
            "colorscale": [
             [
              0,
              "#0d0887"
             ],
             [
              0.1111111111111111,
              "#46039f"
             ],
             [
              0.2222222222222222,
              "#7201a8"
             ],
             [
              0.3333333333333333,
              "#9c179e"
             ],
             [
              0.4444444444444444,
              "#bd3786"
             ],
             [
              0.5555555555555556,
              "#d8576b"
             ],
             [
              0.6666666666666666,
              "#ed7953"
             ],
             [
              0.7777777777777778,
              "#fb9f3a"
             ],
             [
              0.8888888888888888,
              "#fdca26"
             ],
             [
              1,
              "#f0f921"
             ]
            ],
            "type": "contour"
           }
          ],
          "contourcarpet": [
           {
            "colorbar": {
             "outlinewidth": 0,
             "ticks": ""
            },
            "type": "contourcarpet"
           }
          ],
          "heatmap": [
           {
            "colorbar": {
             "outlinewidth": 0,
             "ticks": ""
            },
            "colorscale": [
             [
              0,
              "#0d0887"
             ],
             [
              0.1111111111111111,
              "#46039f"
             ],
             [
              0.2222222222222222,
              "#7201a8"
             ],
             [
              0.3333333333333333,
              "#9c179e"
             ],
             [
              0.4444444444444444,
              "#bd3786"
             ],
             [
              0.5555555555555556,
              "#d8576b"
             ],
             [
              0.6666666666666666,
              "#ed7953"
             ],
             [
              0.7777777777777778,
              "#fb9f3a"
             ],
             [
              0.8888888888888888,
              "#fdca26"
             ],
             [
              1,
              "#f0f921"
             ]
            ],
            "type": "heatmap"
           }
          ],
          "heatmapgl": [
           {
            "colorbar": {
             "outlinewidth": 0,
             "ticks": ""
            },
            "colorscale": [
             [
              0,
              "#0d0887"
             ],
             [
              0.1111111111111111,
              "#46039f"
             ],
             [
              0.2222222222222222,
              "#7201a8"
             ],
             [
              0.3333333333333333,
              "#9c179e"
             ],
             [
              0.4444444444444444,
              "#bd3786"
             ],
             [
              0.5555555555555556,
              "#d8576b"
             ],
             [
              0.6666666666666666,
              "#ed7953"
             ],
             [
              0.7777777777777778,
              "#fb9f3a"
             ],
             [
              0.8888888888888888,
              "#fdca26"
             ],
             [
              1,
              "#f0f921"
             ]
            ],
            "type": "heatmapgl"
           }
          ],
          "histogram": [
           {
            "marker": {
             "pattern": {
              "fillmode": "overlay",
              "size": 10,
              "solidity": 0.2
             }
            },
            "type": "histogram"
           }
          ],
          "histogram2d": [
           {
            "colorbar": {
             "outlinewidth": 0,
             "ticks": ""
            },
            "colorscale": [
             [
              0,
              "#0d0887"
             ],
             [
              0.1111111111111111,
              "#46039f"
             ],
             [
              0.2222222222222222,
              "#7201a8"
             ],
             [
              0.3333333333333333,
              "#9c179e"
             ],
             [
              0.4444444444444444,
              "#bd3786"
             ],
             [
              0.5555555555555556,
              "#d8576b"
             ],
             [
              0.6666666666666666,
              "#ed7953"
             ],
             [
              0.7777777777777778,
              "#fb9f3a"
             ],
             [
              0.8888888888888888,
              "#fdca26"
             ],
             [
              1,
              "#f0f921"
             ]
            ],
            "type": "histogram2d"
           }
          ],
          "histogram2dcontour": [
           {
            "colorbar": {
             "outlinewidth": 0,
             "ticks": ""
            },
            "colorscale": [
             [
              0,
              "#0d0887"
             ],
             [
              0.1111111111111111,
              "#46039f"
             ],
             [
              0.2222222222222222,
              "#7201a8"
             ],
             [
              0.3333333333333333,
              "#9c179e"
             ],
             [
              0.4444444444444444,
              "#bd3786"
             ],
             [
              0.5555555555555556,
              "#d8576b"
             ],
             [
              0.6666666666666666,
              "#ed7953"
             ],
             [
              0.7777777777777778,
              "#fb9f3a"
             ],
             [
              0.8888888888888888,
              "#fdca26"
             ],
             [
              1,
              "#f0f921"
             ]
            ],
            "type": "histogram2dcontour"
           }
          ],
          "mesh3d": [
           {
            "colorbar": {
             "outlinewidth": 0,
             "ticks": ""
            },
            "type": "mesh3d"
           }
          ],
          "parcoords": [
           {
            "line": {
             "colorbar": {
              "outlinewidth": 0,
              "ticks": ""
             }
            },
            "type": "parcoords"
           }
          ],
          "pie": [
           {
            "automargin": true,
            "type": "pie"
           }
          ],
          "scatter": [
           {
            "marker": {
             "colorbar": {
              "outlinewidth": 0,
              "ticks": ""
             }
            },
            "type": "scatter"
           }
          ],
          "scatter3d": [
           {
            "line": {
             "colorbar": {
              "outlinewidth": 0,
              "ticks": ""
             }
            },
            "marker": {
             "colorbar": {
              "outlinewidth": 0,
              "ticks": ""
             }
            },
            "type": "scatter3d"
           }
          ],
          "scattercarpet": [
           {
            "marker": {
             "colorbar": {
              "outlinewidth": 0,
              "ticks": ""
             }
            },
            "type": "scattercarpet"
           }
          ],
          "scattergeo": [
           {
            "marker": {
             "colorbar": {
              "outlinewidth": 0,
              "ticks": ""
             }
            },
            "type": "scattergeo"
           }
          ],
          "scattergl": [
           {
            "marker": {
             "colorbar": {
              "outlinewidth": 0,
              "ticks": ""
             }
            },
            "type": "scattergl"
           }
          ],
          "scattermapbox": [
           {
            "marker": {
             "colorbar": {
              "outlinewidth": 0,
              "ticks": ""
             }
            },
            "type": "scattermapbox"
           }
          ],
          "scatterpolar": [
           {
            "marker": {
             "colorbar": {
              "outlinewidth": 0,
              "ticks": ""
             }
            },
            "type": "scatterpolar"
           }
          ],
          "scatterpolargl": [
           {
            "marker": {
             "colorbar": {
              "outlinewidth": 0,
              "ticks": ""
             }
            },
            "type": "scatterpolargl"
           }
          ],
          "scatterternary": [
           {
            "marker": {
             "colorbar": {
              "outlinewidth": 0,
              "ticks": ""
             }
            },
            "type": "scatterternary"
           }
          ],
          "surface": [
           {
            "colorbar": {
             "outlinewidth": 0,
             "ticks": ""
            },
            "colorscale": [
             [
              0,
              "#0d0887"
             ],
             [
              0.1111111111111111,
              "#46039f"
             ],
             [
              0.2222222222222222,
              "#7201a8"
             ],
             [
              0.3333333333333333,
              "#9c179e"
             ],
             [
              0.4444444444444444,
              "#bd3786"
             ],
             [
              0.5555555555555556,
              "#d8576b"
             ],
             [
              0.6666666666666666,
              "#ed7953"
             ],
             [
              0.7777777777777778,
              "#fb9f3a"
             ],
             [
              0.8888888888888888,
              "#fdca26"
             ],
             [
              1,
              "#f0f921"
             ]
            ],
            "type": "surface"
           }
          ],
          "table": [
           {
            "cells": {
             "fill": {
              "color": "#EBF0F8"
             },
             "line": {
              "color": "white"
             }
            },
            "header": {
             "fill": {
              "color": "#C8D4E3"
             },
             "line": {
              "color": "white"
             }
            },
            "type": "table"
           }
          ]
         },
         "layout": {
          "annotationdefaults": {
           "arrowcolor": "#2a3f5f",
           "arrowhead": 0,
           "arrowwidth": 1
          },
          "autotypenumbers": "strict",
          "coloraxis": {
           "colorbar": {
            "outlinewidth": 0,
            "ticks": ""
           }
          },
          "colorscale": {
           "diverging": [
            [
             0,
             "#8e0152"
            ],
            [
             0.1,
             "#c51b7d"
            ],
            [
             0.2,
             "#de77ae"
            ],
            [
             0.3,
             "#f1b6da"
            ],
            [
             0.4,
             "#fde0ef"
            ],
            [
             0.5,
             "#f7f7f7"
            ],
            [
             0.6,
             "#e6f5d0"
            ],
            [
             0.7,
             "#b8e186"
            ],
            [
             0.8,
             "#7fbc41"
            ],
            [
             0.9,
             "#4d9221"
            ],
            [
             1,
             "#276419"
            ]
           ],
           "sequential": [
            [
             0,
             "#0d0887"
            ],
            [
             0.1111111111111111,
             "#46039f"
            ],
            [
             0.2222222222222222,
             "#7201a8"
            ],
            [
             0.3333333333333333,
             "#9c179e"
            ],
            [
             0.4444444444444444,
             "#bd3786"
            ],
            [
             0.5555555555555556,
             "#d8576b"
            ],
            [
             0.6666666666666666,
             "#ed7953"
            ],
            [
             0.7777777777777778,
             "#fb9f3a"
            ],
            [
             0.8888888888888888,
             "#fdca26"
            ],
            [
             1,
             "#f0f921"
            ]
           ],
           "sequentialminus": [
            [
             0,
             "#0d0887"
            ],
            [
             0.1111111111111111,
             "#46039f"
            ],
            [
             0.2222222222222222,
             "#7201a8"
            ],
            [
             0.3333333333333333,
             "#9c179e"
            ],
            [
             0.4444444444444444,
             "#bd3786"
            ],
            [
             0.5555555555555556,
             "#d8576b"
            ],
            [
             0.6666666666666666,
             "#ed7953"
            ],
            [
             0.7777777777777778,
             "#fb9f3a"
            ],
            [
             0.8888888888888888,
             "#fdca26"
            ],
            [
             1,
             "#f0f921"
            ]
           ]
          },
          "colorway": [
           "#636efa",
           "#EF553B",
           "#00cc96",
           "#ab63fa",
           "#FFA15A",
           "#19d3f3",
           "#FF6692",
           "#B6E880",
           "#FF97FF",
           "#FECB52"
          ],
          "font": {
           "color": "#2a3f5f"
          },
          "geo": {
           "bgcolor": "white",
           "lakecolor": "white",
           "landcolor": "#E5ECF6",
           "showlakes": true,
           "showland": true,
           "subunitcolor": "white"
          },
          "hoverlabel": {
           "align": "left"
          },
          "hovermode": "closest",
          "mapbox": {
           "style": "light"
          },
          "paper_bgcolor": "white",
          "plot_bgcolor": "#E5ECF6",
          "polar": {
           "angularaxis": {
            "gridcolor": "white",
            "linecolor": "white",
            "ticks": ""
           },
           "bgcolor": "#E5ECF6",
           "radialaxis": {
            "gridcolor": "white",
            "linecolor": "white",
            "ticks": ""
           }
          },
          "scene": {
           "xaxis": {
            "backgroundcolor": "#E5ECF6",
            "gridcolor": "white",
            "gridwidth": 2,
            "linecolor": "white",
            "showbackground": true,
            "ticks": "",
            "zerolinecolor": "white"
           },
           "yaxis": {
            "backgroundcolor": "#E5ECF6",
            "gridcolor": "white",
            "gridwidth": 2,
            "linecolor": "white",
            "showbackground": true,
            "ticks": "",
            "zerolinecolor": "white"
           },
           "zaxis": {
            "backgroundcolor": "#E5ECF6",
            "gridcolor": "white",
            "gridwidth": 2,
            "linecolor": "white",
            "showbackground": true,
            "ticks": "",
            "zerolinecolor": "white"
           }
          },
          "shapedefaults": {
           "line": {
            "color": "#2a3f5f"
           }
          },
          "ternary": {
           "aaxis": {
            "gridcolor": "white",
            "linecolor": "white",
            "ticks": ""
           },
           "baxis": {
            "gridcolor": "white",
            "linecolor": "white",
            "ticks": ""
           },
           "bgcolor": "#E5ECF6",
           "caxis": {
            "gridcolor": "white",
            "linecolor": "white",
            "ticks": ""
           }
          },
          "title": {
           "x": 0.05
          },
          "xaxis": {
           "automargin": true,
           "gridcolor": "white",
           "linecolor": "white",
           "ticks": "",
           "title": {
            "standoff": 15
           },
           "zerolinecolor": "white",
           "zerolinewidth": 2
          },
          "yaxis": {
           "automargin": true,
           "gridcolor": "white",
           "linecolor": "white",
           "ticks": "",
           "title": {
            "standoff": 15
           },
           "zerolinecolor": "white",
           "zerolinewidth": 2
          }
         }
        },
        "title": {
         "text": "Percentage used KPIs from all for calculating mean/median | color: Filer type"
        },
        "xaxis": {
         "anchor": "y",
         "domain": [
          0,
          1
         ],
         "title": {
          "text": "used_to_all"
         }
        },
        "xaxis2": {
         "anchor": "y2",
         "domain": [
          0,
          1
         ],
         "matches": "x",
         "showgrid": true,
         "showticklabels": false
        },
        "yaxis": {
         "anchor": "x",
         "domain": [
          0,
          0.7326
         ],
         "title": {
          "text": "count"
         }
        },
        "yaxis2": {
         "anchor": "x2",
         "domain": [
          0.7426,
          1
         ],
         "matches": "y2",
         "showgrid": false,
         "showline": false,
         "showticklabels": false,
         "ticks": ""
        }
       }
      }
     },
     "metadata": {},
     "output_type": "display_data"
    }
   ],
   "source": [
    "import plotly.express as px\n",
    "\n",
    "fig = px.histogram(df_for_plot, x=\"used_to_all\", color=\"filer_type\", marginal=\"rug\",\n",
    "                   hover_data=df_for_plot.columns, title=\"Percentage used KPIs from all for calculating mean/median | color: Filer type\")\n",
    "fig.show()"
   ]
  },
  {
   "cell_type": "code",
   "execution_count": null,
   "metadata": {},
   "outputs": [],
   "source": []
  }
 ],
 "metadata": {
  "interpreter": {
   "hash": "3bdcefcb5f71e5eab863d0bf24ce3fd55a3ae15f9c6dfb2c6aa7e96f765851b0"
  },
  "kernelspec": {
   "display_name": "Python 3.8.5 ('.venv': venv)",
   "language": "python",
   "name": "python3"
  },
  "language_info": {
   "codemirror_mode": {
    "name": "ipython",
    "version": 3
   },
   "file_extension": ".py",
   "mimetype": "text/x-python",
   "name": "python",
   "nbconvert_exporter": "python",
   "pygments_lexer": "ipython3",
   "version": "3.8.5"
  },
  "orig_nbformat": 4
 },
 "nbformat": 4,
 "nbformat_minor": 2
}
