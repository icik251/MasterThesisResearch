{
 "cells": [
  {
   "cell_type": "markdown",
   "metadata": {},
   "source": [
    "## Getting input data from DB"
   ]
  },
  {
   "cell_type": "code",
   "execution_count": 1,
   "metadata": {},
   "outputs": [],
   "source": [
    "import json\n",
    "import requests\n",
    "\n",
    "list_of_years = [2017, 2018, 2019, 2020, 2021]\n",
    "list_of_qs = [1, 2, 3, 4]\n",
    "\n",
    "dict_of_res = {}\n",
    "for year in list_of_years:\n",
    "    for q in list_of_qs:\n",
    "        # Exclude 2017 quarter 1:\n",
    "        if year == 2017 and q == 1:\n",
    "            continue\n",
    "        \n",
    "        resp = json.loads(requests.get(f\"http://localhost:8000/api/v1/input_data/{year}/{q}\").text)\n",
    "        if resp[\"code\"] == 200:\n",
    "            dict_of_res[str(year) + \"_\" + str(q)] = resp[\"data\"]"
   ]
  },
  {
   "cell_type": "markdown",
   "metadata": {},
   "source": [
    "## Get the sectors and industries of the input data"
   ]
  },
  {
   "cell_type": "code",
   "execution_count": 7,
   "metadata": {},
   "outputs": [],
   "source": [
    "from collections import defaultdict\n",
    "\n",
    "dict_of_industry_counts = defaultdict(int)\n",
    "dict_of_industry_counts_per_year_q = defaultdict(lambda: defaultdict(int))\n",
    "for year_q_k, inputs_data in dict_of_res.items():\n",
    "    for input_data in inputs_data:\n",
    "        dict_of_industry_counts[input_data[\"industry\"]] += 1\n",
    "        dict_of_industry_counts_per_year_q[year_q_k][input_data[\"industry\"]] += 1"
   ]
  },
  {
   "cell_type": "code",
   "execution_count": 58,
   "metadata": {},
   "outputs": [
    {
     "data": {
      "text/plain": [
       "defaultdict(<function __main__.<lambda>()>,\n",
       "            {'2017_2': defaultdict(int,\n",
       "                         {'TRUCKING (NO LOCAL)': 12,\n",
       "                          'DRILLING OIL & GAS WELLS': 3,\n",
       "                          'MINING & QUARRYING OF NONMETALLIC MINERALS (NO FUELS)': 9,\n",
       "                          'CRUDE PETROLEUM & NATURAL GAS': 38,\n",
       "                          'OIL & GAS FIELD SERVICES, NEC': 10,\n",
       "                          'ARRANGEMENT OF TRANSPORTATION OF FREIGHT & CARGO': 3,\n",
       "                          'NATURAL GAS DISTRIBUTION': 3,\n",
       "                          'RAILROADS, LINE-HAUL OPERATING': 4,\n",
       "                          'BITUMINOUS COAL & LIGNITE SURFACE MINING': 2,\n",
       "                          'METAL MINING': 4,\n",
       "                          'AIR TRANSPORTATION, SCHEDULED': 9,\n",
       "                          'HAZARDOUS WASTE MANAGEMENT': 3,\n",
       "                          'REFUSE SYSTEMS': 4,\n",
       "                          'NATURAL GAS TRANSMISSION': 7,\n",
       "                          'TRANSPORTATION SERVICES': 6,\n",
       "                          'ELECTRIC SERVICES': 10,\n",
       "                          'PIPE LINES (NO NATURAL GAS)': 7,\n",
       "                          'WATER SUPPLY': 7,\n",
       "                          'AIR TRANSPORTATION, NONSCHEDULED': 1,\n",
       "                          'GOLD AND SILVER ORES': 9,\n",
       "                          'AIR COURIER SERVICES': 1,\n",
       "                          'GAS & OTHER SERVICES COMBINED': 2,\n",
       "                          'WATER TRANSPORTATION': 5,\n",
       "                          'TRUCKING & COURIER SERVICES (NO AIR)': 2,\n",
       "                          'ELECTRIC & OTHER SERVICES COMBINED': 6,\n",
       "                          'PETROLEUM REFINING': 8,\n",
       "                          'DEEP SEA FOREIGN TRANSPORTATION OF FREIGHT': 3,\n",
       "                          'NATURAL GAS TRANSMISISON & DISTRIBUTION': 3,\n",
       "                          'OIL & GAS FIELD EXPLORATION SERVICES': 3,\n",
       "                          'RAILROAD SWITCHING & TERMINAL ESTABLISHMENTS': 1}),\n",
       "             '2017_3': defaultdict(int,\n",
       "                         {'TRUCKING (NO LOCAL)': 12,\n",
       "                          'DRILLING OIL & GAS WELLS': 3,\n",
       "                          'MINING & QUARRYING OF NONMETALLIC MINERALS (NO FUELS)': 9,\n",
       "                          'CRUDE PETROLEUM & NATURAL GAS': 36,\n",
       "                          'OIL & GAS FIELD SERVICES, NEC': 10,\n",
       "                          'ARRANGEMENT OF TRANSPORTATION OF FREIGHT & CARGO': 3,\n",
       "                          'NATURAL GAS DISTRIBUTION': 3,\n",
       "                          'RAILROADS, LINE-HAUL OPERATING': 4,\n",
       "                          'BITUMINOUS COAL & LIGNITE SURFACE MINING': 2,\n",
       "                          'METAL MINING': 4,\n",
       "                          'AIR TRANSPORTATION, SCHEDULED': 9,\n",
       "                          'HAZARDOUS WASTE MANAGEMENT': 3,\n",
       "                          'REFUSE SYSTEMS': 4,\n",
       "                          'NATURAL GAS TRANSMISSION': 7,\n",
       "                          'TRANSPORTATION SERVICES': 6,\n",
       "                          'ELECTRIC SERVICES': 10,\n",
       "                          'PIPE LINES (NO NATURAL GAS)': 7,\n",
       "                          'WATER SUPPLY': 7,\n",
       "                          'AIR TRANSPORTATION, NONSCHEDULED': 1,\n",
       "                          'GOLD AND SILVER ORES': 9,\n",
       "                          'AIR COURIER SERVICES': 1,\n",
       "                          'GAS & OTHER SERVICES COMBINED': 2,\n",
       "                          'WATER TRANSPORTATION': 5,\n",
       "                          'TRUCKING & COURIER SERVICES (NO AIR)': 2,\n",
       "                          'ELECTRIC & OTHER SERVICES COMBINED': 6,\n",
       "                          'PETROLEUM REFINING': 9,\n",
       "                          'DEEP SEA FOREIGN TRANSPORTATION OF FREIGHT': 3,\n",
       "                          'NATURAL GAS TRANSMISISON & DISTRIBUTION': 3,\n",
       "                          'OIL & GAS FIELD EXPLORATION SERVICES': 3,\n",
       "                          'RAILROAD SWITCHING & TERMINAL ESTABLISHMENTS': 1}),\n",
       "             '2017_4': defaultdict(int,\n",
       "                         {'TRUCKING (NO LOCAL)': 12,\n",
       "                          'DRILLING OIL & GAS WELLS': 3,\n",
       "                          'MINING & QUARRYING OF NONMETALLIC MINERALS (NO FUELS)': 9,\n",
       "                          'CRUDE PETROLEUM & NATURAL GAS': 36,\n",
       "                          'OIL & GAS FIELD SERVICES, NEC': 10,\n",
       "                          'ARRANGEMENT OF TRANSPORTATION OF FREIGHT & CARGO': 3,\n",
       "                          'NATURAL GAS DISTRIBUTION': 3,\n",
       "                          'RAILROADS, LINE-HAUL OPERATING': 4,\n",
       "                          'BITUMINOUS COAL & LIGNITE SURFACE MINING': 2,\n",
       "                          'METAL MINING': 4,\n",
       "                          'AIR TRANSPORTATION, SCHEDULED': 9,\n",
       "                          'HAZARDOUS WASTE MANAGEMENT': 3,\n",
       "                          'REFUSE SYSTEMS': 4,\n",
       "                          'NATURAL GAS TRANSMISSION': 7,\n",
       "                          'TRANSPORTATION SERVICES': 6,\n",
       "                          'ELECTRIC SERVICES': 10,\n",
       "                          'PIPE LINES (NO NATURAL GAS)': 7,\n",
       "                          'WATER SUPPLY': 7,\n",
       "                          'AIR TRANSPORTATION, NONSCHEDULED': 1,\n",
       "                          'GOLD AND SILVER ORES': 9,\n",
       "                          'AIR COURIER SERVICES': 1,\n",
       "                          'GAS & OTHER SERVICES COMBINED': 2,\n",
       "                          'WATER TRANSPORTATION': 5,\n",
       "                          'TRUCKING & COURIER SERVICES (NO AIR)': 2,\n",
       "                          'ELECTRIC & OTHER SERVICES COMBINED': 6,\n",
       "                          'PETROLEUM REFINING': 9,\n",
       "                          'DEEP SEA FOREIGN TRANSPORTATION OF FREIGHT': 3,\n",
       "                          'NATURAL GAS TRANSMISISON & DISTRIBUTION': 3,\n",
       "                          'OIL & GAS FIELD EXPLORATION SERVICES': 3,\n",
       "                          'RAILROAD SWITCHING & TERMINAL ESTABLISHMENTS': 1}),\n",
       "             '2018_1': defaultdict(int,\n",
       "                         {'TRUCKING (NO LOCAL)': 12,\n",
       "                          'DRILLING OIL & GAS WELLS': 3,\n",
       "                          'MINING & QUARRYING OF NONMETALLIC MINERALS (NO FUELS)': 9,\n",
       "                          'CRUDE PETROLEUM & NATURAL GAS': 35,\n",
       "                          'OIL & GAS FIELD SERVICES, NEC': 10,\n",
       "                          'ARRANGEMENT OF TRANSPORTATION OF FREIGHT & CARGO': 3,\n",
       "                          'NATURAL GAS DISTRIBUTION': 3,\n",
       "                          'RAILROADS, LINE-HAUL OPERATING': 4,\n",
       "                          'BITUMINOUS COAL & LIGNITE SURFACE MINING': 2,\n",
       "                          'METAL MINING': 4,\n",
       "                          'AIR TRANSPORTATION, SCHEDULED': 9,\n",
       "                          'HAZARDOUS WASTE MANAGEMENT': 3,\n",
       "                          'REFUSE SYSTEMS': 4,\n",
       "                          'NATURAL GAS TRANSMISSION': 7,\n",
       "                          'TRANSPORTATION SERVICES': 6,\n",
       "                          'ELECTRIC SERVICES': 10,\n",
       "                          'PIPE LINES (NO NATURAL GAS)': 7,\n",
       "                          'WATER SUPPLY': 7,\n",
       "                          'AIR TRANSPORTATION, NONSCHEDULED': 1,\n",
       "                          'GOLD AND SILVER ORES': 9,\n",
       "                          'AIR COURIER SERVICES': 1,\n",
       "                          'GAS & OTHER SERVICES COMBINED': 2,\n",
       "                          'WATER TRANSPORTATION': 5,\n",
       "                          'TRUCKING & COURIER SERVICES (NO AIR)': 2,\n",
       "                          'ELECTRIC & OTHER SERVICES COMBINED': 6,\n",
       "                          'PETROLEUM REFINING': 8,\n",
       "                          'DEEP SEA FOREIGN TRANSPORTATION OF FREIGHT': 3,\n",
       "                          'NATURAL GAS TRANSMISISON & DISTRIBUTION': 3,\n",
       "                          'OIL & GAS FIELD EXPLORATION SERVICES': 3,\n",
       "                          'RAILROAD SWITCHING & TERMINAL ESTABLISHMENTS': 1}),\n",
       "             '2018_2': defaultdict(int,\n",
       "                         {'TRUCKING (NO LOCAL)': 12,\n",
       "                          'DRILLING OIL & GAS WELLS': 3,\n",
       "                          'MINING & QUARRYING OF NONMETALLIC MINERALS (NO FUELS)': 9,\n",
       "                          'CRUDE PETROLEUM & NATURAL GAS': 37,\n",
       "                          'OIL & GAS FIELD SERVICES, NEC': 10,\n",
       "                          'ARRANGEMENT OF TRANSPORTATION OF FREIGHT & CARGO': 3,\n",
       "                          'NATURAL GAS DISTRIBUTION': 3,\n",
       "                          'RAILROADS, LINE-HAUL OPERATING': 4,\n",
       "                          'BITUMINOUS COAL & LIGNITE SURFACE MINING': 2,\n",
       "                          'METAL MINING': 4,\n",
       "                          'AIR TRANSPORTATION, SCHEDULED': 9,\n",
       "                          'HAZARDOUS WASTE MANAGEMENT': 3,\n",
       "                          'REFUSE SYSTEMS': 4,\n",
       "                          'NATURAL GAS TRANSMISSION': 7,\n",
       "                          'TRANSPORTATION SERVICES': 6,\n",
       "                          'ELECTRIC SERVICES': 10,\n",
       "                          'PIPE LINES (NO NATURAL GAS)': 7,\n",
       "                          'WATER SUPPLY': 7,\n",
       "                          'AIR TRANSPORTATION, NONSCHEDULED': 1,\n",
       "                          'GOLD AND SILVER ORES': 9,\n",
       "                          'AIR COURIER SERVICES': 1,\n",
       "                          'GAS & OTHER SERVICES COMBINED': 2,\n",
       "                          'WATER TRANSPORTATION': 5,\n",
       "                          'TRUCKING & COURIER SERVICES (NO AIR)': 2,\n",
       "                          'ELECTRIC & OTHER SERVICES COMBINED': 6,\n",
       "                          'PETROLEUM REFINING': 10,\n",
       "                          'DEEP SEA FOREIGN TRANSPORTATION OF FREIGHT': 3,\n",
       "                          'NATURAL GAS TRANSMISISON & DISTRIBUTION': 3,\n",
       "                          'OIL & GAS FIELD EXPLORATION SERVICES': 3,\n",
       "                          'RAILROAD SWITCHING & TERMINAL ESTABLISHMENTS': 1}),\n",
       "             '2018_3': defaultdict(int,\n",
       "                         {'TRUCKING (NO LOCAL)': 12,\n",
       "                          'DRILLING OIL & GAS WELLS': 3,\n",
       "                          'MINING & QUARRYING OF NONMETALLIC MINERALS (NO FUELS)': 9,\n",
       "                          'CRUDE PETROLEUM & NATURAL GAS': 36,\n",
       "                          'OIL & GAS FIELD SERVICES, NEC': 10,\n",
       "                          'ARRANGEMENT OF TRANSPORTATION OF FREIGHT & CARGO': 3,\n",
       "                          'NATURAL GAS DISTRIBUTION': 3,\n",
       "                          'RAILROADS, LINE-HAUL OPERATING': 4,\n",
       "                          'BITUMINOUS COAL & LIGNITE SURFACE MINING': 2,\n",
       "                          'METAL MINING': 4,\n",
       "                          'AIR TRANSPORTATION, SCHEDULED': 9,\n",
       "                          'HAZARDOUS WASTE MANAGEMENT': 3,\n",
       "                          'REFUSE SYSTEMS': 4,\n",
       "                          'NATURAL GAS TRANSMISSION': 7,\n",
       "                          'TRANSPORTATION SERVICES': 6,\n",
       "                          'ELECTRIC SERVICES': 10,\n",
       "                          'PIPE LINES (NO NATURAL GAS)': 7,\n",
       "                          'WATER SUPPLY': 7,\n",
       "                          'AIR TRANSPORTATION, NONSCHEDULED': 1,\n",
       "                          'GOLD AND SILVER ORES': 9,\n",
       "                          'AIR COURIER SERVICES': 1,\n",
       "                          'GAS & OTHER SERVICES COMBINED': 2,\n",
       "                          'WATER TRANSPORTATION': 5,\n",
       "                          'TRUCKING & COURIER SERVICES (NO AIR)': 2,\n",
       "                          'ELECTRIC & OTHER SERVICES COMBINED': 6,\n",
       "                          'PETROLEUM REFINING': 9,\n",
       "                          'DEEP SEA FOREIGN TRANSPORTATION OF FREIGHT': 3,\n",
       "                          'NATURAL GAS TRANSMISISON & DISTRIBUTION': 3,\n",
       "                          'OIL & GAS FIELD EXPLORATION SERVICES': 3,\n",
       "                          'RAILROAD SWITCHING & TERMINAL ESTABLISHMENTS': 1}),\n",
       "             '2018_4': defaultdict(int,\n",
       "                         {'TRUCKING (NO LOCAL)': 12,\n",
       "                          'DRILLING OIL & GAS WELLS': 3,\n",
       "                          'MINING & QUARRYING OF NONMETALLIC MINERALS (NO FUELS)': 9,\n",
       "                          'CRUDE PETROLEUM & NATURAL GAS': 36,\n",
       "                          'OIL & GAS FIELD SERVICES, NEC': 10,\n",
       "                          'ARRANGEMENT OF TRANSPORTATION OF FREIGHT & CARGO': 3,\n",
       "                          'NATURAL GAS DISTRIBUTION': 3,\n",
       "                          'RAILROADS, LINE-HAUL OPERATING': 4,\n",
       "                          'BITUMINOUS COAL & LIGNITE SURFACE MINING': 2,\n",
       "                          'METAL MINING': 4,\n",
       "                          'AIR TRANSPORTATION, SCHEDULED': 9,\n",
       "                          'HAZARDOUS WASTE MANAGEMENT': 3,\n",
       "                          'REFUSE SYSTEMS': 4,\n",
       "                          'NATURAL GAS TRANSMISSION': 7,\n",
       "                          'TRANSPORTATION SERVICES': 6,\n",
       "                          'PIPE LINES (NO NATURAL GAS)': 7,\n",
       "                          'ELECTRIC SERVICES': 10,\n",
       "                          'WATER SUPPLY': 7,\n",
       "                          'AIR TRANSPORTATION, NONSCHEDULED': 1,\n",
       "                          'GOLD AND SILVER ORES': 9,\n",
       "                          'AIR COURIER SERVICES': 1,\n",
       "                          'GAS & OTHER SERVICES COMBINED': 2,\n",
       "                          'WATER TRANSPORTATION': 5,\n",
       "                          'TRUCKING & COURIER SERVICES (NO AIR)': 2,\n",
       "                          'ELECTRIC & OTHER SERVICES COMBINED': 6,\n",
       "                          'PETROLEUM REFINING': 9,\n",
       "                          'DEEP SEA FOREIGN TRANSPORTATION OF FREIGHT': 3,\n",
       "                          'NATURAL GAS TRANSMISISON & DISTRIBUTION': 3,\n",
       "                          'OIL & GAS FIELD EXPLORATION SERVICES': 3,\n",
       "                          'RAILROAD SWITCHING & TERMINAL ESTABLISHMENTS': 1}),\n",
       "             '2019_1': defaultdict(int,\n",
       "                         {'TRUCKING (NO LOCAL)': 12,\n",
       "                          'DRILLING OIL & GAS WELLS': 3,\n",
       "                          'MINING & QUARRYING OF NONMETALLIC MINERALS (NO FUELS)': 8,\n",
       "                          'CRUDE PETROLEUM & NATURAL GAS': 34,\n",
       "                          'OIL & GAS FIELD SERVICES, NEC': 10,\n",
       "                          'ARRANGEMENT OF TRANSPORTATION OF FREIGHT & CARGO': 3,\n",
       "                          'NATURAL GAS DISTRIBUTION': 3,\n",
       "                          'RAILROADS, LINE-HAUL OPERATING': 4,\n",
       "                          'BITUMINOUS COAL & LIGNITE SURFACE MINING': 2,\n",
       "                          'METAL MINING': 4,\n",
       "                          'AIR TRANSPORTATION, SCHEDULED': 9,\n",
       "                          'HAZARDOUS WASTE MANAGEMENT': 2,\n",
       "                          'REFUSE SYSTEMS': 4,\n",
       "                          'NATURAL GAS TRANSMISSION': 7,\n",
       "                          'TRANSPORTATION SERVICES': 6,\n",
       "                          'PIPE LINES (NO NATURAL GAS)': 7,\n",
       "                          'ELECTRIC SERVICES': 10,\n",
       "                          'WATER SUPPLY': 7,\n",
       "                          'AIR TRANSPORTATION, NONSCHEDULED': 1,\n",
       "                          'GOLD AND SILVER ORES': 9,\n",
       "                          'AIR COURIER SERVICES': 1,\n",
       "                          'GAS & OTHER SERVICES COMBINED': 2,\n",
       "                          'WATER TRANSPORTATION': 4,\n",
       "                          'TRUCKING & COURIER SERVICES (NO AIR)': 2,\n",
       "                          'ELECTRIC & OTHER SERVICES COMBINED': 6,\n",
       "                          'PETROLEUM REFINING': 9,\n",
       "                          'DEEP SEA FOREIGN TRANSPORTATION OF FREIGHT': 3,\n",
       "                          'NATURAL GAS TRANSMISISON & DISTRIBUTION': 3,\n",
       "                          'OIL & GAS FIELD EXPLORATION SERVICES': 2,\n",
       "                          'RAILROAD SWITCHING & TERMINAL ESTABLISHMENTS': 1}),\n",
       "             '2019_2': defaultdict(int,\n",
       "                         {'TRUCKING (NO LOCAL)': 12,\n",
       "                          'DRILLING OIL & GAS WELLS': 3,\n",
       "                          'MINING & QUARRYING OF NONMETALLIC MINERALS (NO FUELS)': 10,\n",
       "                          'CRUDE PETROLEUM & NATURAL GAS': 36,\n",
       "                          'OIL & GAS FIELD SERVICES, NEC': 10,\n",
       "                          'ARRANGEMENT OF TRANSPORTATION OF FREIGHT & CARGO': 3,\n",
       "                          'NATURAL GAS DISTRIBUTION': 3,\n",
       "                          'RAILROADS, LINE-HAUL OPERATING': 4,\n",
       "                          'BITUMINOUS COAL & LIGNITE SURFACE MINING': 2,\n",
       "                          'METAL MINING': 4,\n",
       "                          'AIR TRANSPORTATION, SCHEDULED': 9,\n",
       "                          'HAZARDOUS WASTE MANAGEMENT': 4,\n",
       "                          'REFUSE SYSTEMS': 4,\n",
       "                          'NATURAL GAS TRANSMISSION': 7,\n",
       "                          'TRANSPORTATION SERVICES': 6,\n",
       "                          'PIPE LINES (NO NATURAL GAS)': 7,\n",
       "                          'ELECTRIC SERVICES': 10,\n",
       "                          'WATER SUPPLY': 7,\n",
       "                          'AIR TRANSPORTATION, NONSCHEDULED': 1,\n",
       "                          'GOLD AND SILVER ORES': 9,\n",
       "                          'AIR COURIER SERVICES': 1,\n",
       "                          'GAS & OTHER SERVICES COMBINED': 2,\n",
       "                          'WATER TRANSPORTATION': 6,\n",
       "                          'TRUCKING & COURIER SERVICES (NO AIR)': 2,\n",
       "                          'ELECTRIC & OTHER SERVICES COMBINED': 6,\n",
       "                          'PETROLEUM REFINING': 9,\n",
       "                          'DEEP SEA FOREIGN TRANSPORTATION OF FREIGHT': 3,\n",
       "                          'NATURAL GAS TRANSMISISON & DISTRIBUTION': 3,\n",
       "                          'OIL & GAS FIELD EXPLORATION SERVICES': 4,\n",
       "                          'RAILROAD SWITCHING & TERMINAL ESTABLISHMENTS': 1}),\n",
       "             '2019_3': defaultdict(int,\n",
       "                         {'TRUCKING (NO LOCAL)': 12,\n",
       "                          'DRILLING OIL & GAS WELLS': 3,\n",
       "                          'MINING & QUARRYING OF NONMETALLIC MINERALS (NO FUELS)': 9,\n",
       "                          'CRUDE PETROLEUM & NATURAL GAS': 36,\n",
       "                          'OIL & GAS FIELD SERVICES, NEC': 10,\n",
       "                          'ARRANGEMENT OF TRANSPORTATION OF FREIGHT & CARGO': 3,\n",
       "                          'NATURAL GAS DISTRIBUTION': 3,\n",
       "                          'RAILROADS, LINE-HAUL OPERATING': 4,\n",
       "                          'BITUMINOUS COAL & LIGNITE SURFACE MINING': 2,\n",
       "                          'METAL MINING': 4,\n",
       "                          'AIR TRANSPORTATION, SCHEDULED': 9,\n",
       "                          'HAZARDOUS WASTE MANAGEMENT': 3,\n",
       "                          'REFUSE SYSTEMS': 4,\n",
       "                          'NATURAL GAS TRANSMISSION': 7,\n",
       "                          'TRANSPORTATION SERVICES': 6,\n",
       "                          'PIPE LINES (NO NATURAL GAS)': 7,\n",
       "                          'ELECTRIC SERVICES': 10,\n",
       "                          'WATER SUPPLY': 7,\n",
       "                          'AIR TRANSPORTATION, NONSCHEDULED': 1,\n",
       "                          'GOLD AND SILVER ORES': 9,\n",
       "                          'AIR COURIER SERVICES': 1,\n",
       "                          'GAS & OTHER SERVICES COMBINED': 2,\n",
       "                          'WATER TRANSPORTATION': 5,\n",
       "                          'TRUCKING & COURIER SERVICES (NO AIR)': 2,\n",
       "                          'ELECTRIC & OTHER SERVICES COMBINED': 6,\n",
       "                          'PETROLEUM REFINING': 9,\n",
       "                          'DEEP SEA FOREIGN TRANSPORTATION OF FREIGHT': 3,\n",
       "                          'NATURAL GAS TRANSMISISON & DISTRIBUTION': 3,\n",
       "                          'OIL & GAS FIELD EXPLORATION SERVICES': 3,\n",
       "                          'RAILROAD SWITCHING & TERMINAL ESTABLISHMENTS': 1}),\n",
       "             '2019_4': defaultdict(int,\n",
       "                         {'TRUCKING (NO LOCAL)': 12,\n",
       "                          'DRILLING OIL & GAS WELLS': 3,\n",
       "                          'MINING & QUARRYING OF NONMETALLIC MINERALS (NO FUELS)': 9,\n",
       "                          'CRUDE PETROLEUM & NATURAL GAS': 36,\n",
       "                          'OIL & GAS FIELD SERVICES, NEC': 10,\n",
       "                          'ARRANGEMENT OF TRANSPORTATION OF FREIGHT & CARGO': 3,\n",
       "                          'NATURAL GAS DISTRIBUTION': 3,\n",
       "                          'RAILROADS, LINE-HAUL OPERATING': 4,\n",
       "                          'BITUMINOUS COAL & LIGNITE SURFACE MINING': 2,\n",
       "                          'METAL MINING': 4,\n",
       "                          'AIR TRANSPORTATION, SCHEDULED': 9,\n",
       "                          'HAZARDOUS WASTE MANAGEMENT': 3,\n",
       "                          'REFUSE SYSTEMS': 4,\n",
       "                          'NATURAL GAS TRANSMISSION': 7,\n",
       "                          'TRANSPORTATION SERVICES': 6,\n",
       "                          'PIPE LINES (NO NATURAL GAS)': 7,\n",
       "                          'ELECTRIC SERVICES': 10,\n",
       "                          'WATER SUPPLY': 7,\n",
       "                          'AIR TRANSPORTATION, NONSCHEDULED': 1,\n",
       "                          'GOLD AND SILVER ORES': 9,\n",
       "                          'AIR COURIER SERVICES': 1,\n",
       "                          'GAS & OTHER SERVICES COMBINED': 2,\n",
       "                          'WATER TRANSPORTATION': 5,\n",
       "                          'TRUCKING & COURIER SERVICES (NO AIR)': 2,\n",
       "                          'ELECTRIC & OTHER SERVICES COMBINED': 6,\n",
       "                          'PETROLEUM REFINING': 9,\n",
       "                          'DEEP SEA FOREIGN TRANSPORTATION OF FREIGHT': 3,\n",
       "                          'NATURAL GAS TRANSMISISON & DISTRIBUTION': 3,\n",
       "                          'OIL & GAS FIELD EXPLORATION SERVICES': 3,\n",
       "                          'RAILROAD SWITCHING & TERMINAL ESTABLISHMENTS': 1}),\n",
       "             '2020_1': defaultdict(int,\n",
       "                         {'TRUCKING (NO LOCAL)': 12,\n",
       "                          'DRILLING OIL & GAS WELLS': 3,\n",
       "                          'MINING & QUARRYING OF NONMETALLIC MINERALS (NO FUELS)': 9,\n",
       "                          'CRUDE PETROLEUM & NATURAL GAS': 35,\n",
       "                          'OIL & GAS FIELD SERVICES, NEC': 10,\n",
       "                          'ARRANGEMENT OF TRANSPORTATION OF FREIGHT & CARGO': 3,\n",
       "                          'NATURAL GAS DISTRIBUTION': 3,\n",
       "                          'RAILROADS, LINE-HAUL OPERATING': 4,\n",
       "                          'BITUMINOUS COAL & LIGNITE SURFACE MINING': 2,\n",
       "                          'METAL MINING': 4,\n",
       "                          'AIR TRANSPORTATION, SCHEDULED': 9,\n",
       "                          'HAZARDOUS WASTE MANAGEMENT': 3,\n",
       "                          'REFUSE SYSTEMS': 4,\n",
       "                          'NATURAL GAS TRANSMISSION': 7,\n",
       "                          'TRANSPORTATION SERVICES': 6,\n",
       "                          'PIPE LINES (NO NATURAL GAS)': 7,\n",
       "                          'ELECTRIC SERVICES': 10,\n",
       "                          'WATER SUPPLY': 7,\n",
       "                          'AIR TRANSPORTATION, NONSCHEDULED': 1,\n",
       "                          'GOLD AND SILVER ORES': 9,\n",
       "                          'AIR COURIER SERVICES': 1,\n",
       "                          'WATER TRANSPORTATION': 5,\n",
       "                          'TRUCKING & COURIER SERVICES (NO AIR)': 2,\n",
       "                          'ELECTRIC & OTHER SERVICES COMBINED': 6,\n",
       "                          'GAS & OTHER SERVICES COMBINED': 1,\n",
       "                          'PETROLEUM REFINING': 9,\n",
       "                          'DEEP SEA FOREIGN TRANSPORTATION OF FREIGHT': 3,\n",
       "                          'NATURAL GAS TRANSMISISON & DISTRIBUTION': 3,\n",
       "                          'OIL & GAS FIELD EXPLORATION SERVICES': 3,\n",
       "                          'RAILROAD SWITCHING & TERMINAL ESTABLISHMENTS': 1}),\n",
       "             '2020_2': defaultdict(int,\n",
       "                         {'TRUCKING (NO LOCAL)': 12,\n",
       "                          'DRILLING OIL & GAS WELLS': 3,\n",
       "                          'MINING & QUARRYING OF NONMETALLIC MINERALS (NO FUELS)': 9,\n",
       "                          'CRUDE PETROLEUM & NATURAL GAS': 37,\n",
       "                          'OIL & GAS FIELD SERVICES, NEC': 10,\n",
       "                          'ARRANGEMENT OF TRANSPORTATION OF FREIGHT & CARGO': 3,\n",
       "                          'NATURAL GAS DISTRIBUTION': 3,\n",
       "                          'RAILROADS, LINE-HAUL OPERATING': 4,\n",
       "                          'BITUMINOUS COAL & LIGNITE SURFACE MINING': 2,\n",
       "                          'METAL MINING': 4,\n",
       "                          'AIR TRANSPORTATION, SCHEDULED': 9,\n",
       "                          'HAZARDOUS WASTE MANAGEMENT': 3,\n",
       "                          'REFUSE SYSTEMS': 4,\n",
       "                          'NATURAL GAS TRANSMISSION': 7,\n",
       "                          'TRANSPORTATION SERVICES': 6,\n",
       "                          'PIPE LINES (NO NATURAL GAS)': 7,\n",
       "                          'ELECTRIC SERVICES': 10,\n",
       "                          'WATER SUPPLY': 7,\n",
       "                          'AIR TRANSPORTATION, NONSCHEDULED': 1,\n",
       "                          'GOLD AND SILVER ORES': 9,\n",
       "                          'AIR COURIER SERVICES': 1,\n",
       "                          'GAS & OTHER SERVICES COMBINED': 3,\n",
       "                          'WATER TRANSPORTATION': 5,\n",
       "                          'TRUCKING & COURIER SERVICES (NO AIR)': 2,\n",
       "                          'ELECTRIC & OTHER SERVICES COMBINED': 6,\n",
       "                          'PETROLEUM REFINING': 9,\n",
       "                          'DEEP SEA FOREIGN TRANSPORTATION OF FREIGHT': 3,\n",
       "                          'NATURAL GAS TRANSMISISON & DISTRIBUTION': 3,\n",
       "                          'OIL & GAS FIELD EXPLORATION SERVICES': 3,\n",
       "                          'RAILROAD SWITCHING & TERMINAL ESTABLISHMENTS': 1}),\n",
       "             '2020_3': defaultdict(int,\n",
       "                         {'TRUCKING (NO LOCAL)': 12,\n",
       "                          'DRILLING OIL & GAS WELLS': 3,\n",
       "                          'MINING & QUARRYING OF NONMETALLIC MINERALS (NO FUELS)': 9,\n",
       "                          'CRUDE PETROLEUM & NATURAL GAS': 36,\n",
       "                          'OIL & GAS FIELD SERVICES, NEC': 10,\n",
       "                          'ARRANGEMENT OF TRANSPORTATION OF FREIGHT & CARGO': 3,\n",
       "                          'NATURAL GAS DISTRIBUTION': 3,\n",
       "                          'RAILROADS, LINE-HAUL OPERATING': 4,\n",
       "                          'BITUMINOUS COAL & LIGNITE SURFACE MINING': 2,\n",
       "                          'METAL MINING': 4,\n",
       "                          'AIR TRANSPORTATION, SCHEDULED': 9,\n",
       "                          'HAZARDOUS WASTE MANAGEMENT': 3,\n",
       "                          'REFUSE SYSTEMS': 4,\n",
       "                          'NATURAL GAS TRANSMISSION': 7,\n",
       "                          'TRANSPORTATION SERVICES': 6,\n",
       "                          'PIPE LINES (NO NATURAL GAS)': 7,\n",
       "                          'ELECTRIC SERVICES': 10,\n",
       "                          'WATER SUPPLY': 7,\n",
       "                          'AIR TRANSPORTATION, NONSCHEDULED': 1,\n",
       "                          'GOLD AND SILVER ORES': 9,\n",
       "                          'AIR COURIER SERVICES': 1,\n",
       "                          'GAS & OTHER SERVICES COMBINED': 2,\n",
       "                          'WATER TRANSPORTATION': 5,\n",
       "                          'TRUCKING & COURIER SERVICES (NO AIR)': 2,\n",
       "                          'ELECTRIC & OTHER SERVICES COMBINED': 6,\n",
       "                          'PETROLEUM REFINING': 9,\n",
       "                          'DEEP SEA FOREIGN TRANSPORTATION OF FREIGHT': 3,\n",
       "                          'NATURAL GAS TRANSMISISON & DISTRIBUTION': 3,\n",
       "                          'OIL & GAS FIELD EXPLORATION SERVICES': 3,\n",
       "                          'RAILROAD SWITCHING & TERMINAL ESTABLISHMENTS': 1}),\n",
       "             '2020_4': defaultdict(int,\n",
       "                         {'TRUCKING (NO LOCAL)': 12,\n",
       "                          'DRILLING OIL & GAS WELLS': 3,\n",
       "                          'MINING & QUARRYING OF NONMETALLIC MINERALS (NO FUELS)': 9,\n",
       "                          'CRUDE PETROLEUM & NATURAL GAS': 36,\n",
       "                          'OIL & GAS FIELD SERVICES, NEC': 10,\n",
       "                          'ARRANGEMENT OF TRANSPORTATION OF FREIGHT & CARGO': 3,\n",
       "                          'NATURAL GAS DISTRIBUTION': 3,\n",
       "                          'RAILROADS, LINE-HAUL OPERATING': 4,\n",
       "                          'BITUMINOUS COAL & LIGNITE SURFACE MINING': 2,\n",
       "                          'METAL MINING': 4,\n",
       "                          'AIR TRANSPORTATION, SCHEDULED': 9,\n",
       "                          'HAZARDOUS WASTE MANAGEMENT': 3,\n",
       "                          'REFUSE SYSTEMS': 4,\n",
       "                          'NATURAL GAS TRANSMISSION': 7,\n",
       "                          'TRANSPORTATION SERVICES': 6,\n",
       "                          'PIPE LINES (NO NATURAL GAS)': 7,\n",
       "                          'ELECTRIC SERVICES': 10,\n",
       "                          'WATER SUPPLY': 7,\n",
       "                          'AIR TRANSPORTATION, NONSCHEDULED': 1,\n",
       "                          'GOLD AND SILVER ORES': 9,\n",
       "                          'AIR COURIER SERVICES': 1,\n",
       "                          'GAS & OTHER SERVICES COMBINED': 2,\n",
       "                          'WATER TRANSPORTATION': 5,\n",
       "                          'TRUCKING & COURIER SERVICES (NO AIR)': 2,\n",
       "                          'ELECTRIC & OTHER SERVICES COMBINED': 6,\n",
       "                          'PETROLEUM REFINING': 9,\n",
       "                          'DEEP SEA FOREIGN TRANSPORTATION OF FREIGHT': 3,\n",
       "                          'NATURAL GAS TRANSMISISON & DISTRIBUTION': 3,\n",
       "                          'OIL & GAS FIELD EXPLORATION SERVICES': 3,\n",
       "                          'RAILROAD SWITCHING & TERMINAL ESTABLISHMENTS': 1}),\n",
       "             '2021_1': defaultdict(int,\n",
       "                         {'TRUCKING (NO LOCAL)': 12,\n",
       "                          'DRILLING OIL & GAS WELLS': 3,\n",
       "                          'MINING & QUARRYING OF NONMETALLIC MINERALS (NO FUELS)': 9,\n",
       "                          'CRUDE PETROLEUM & NATURAL GAS': 35,\n",
       "                          'OIL & GAS FIELD SERVICES, NEC': 10,\n",
       "                          'ARRANGEMENT OF TRANSPORTATION OF FREIGHT & CARGO': 3,\n",
       "                          'NATURAL GAS DISTRIBUTION': 3,\n",
       "                          'RAILROADS, LINE-HAUL OPERATING': 4,\n",
       "                          'BITUMINOUS COAL & LIGNITE SURFACE MINING': 2,\n",
       "                          'METAL MINING': 4,\n",
       "                          'AIR TRANSPORTATION, SCHEDULED': 9,\n",
       "                          'HAZARDOUS WASTE MANAGEMENT': 3,\n",
       "                          'REFUSE SYSTEMS': 4,\n",
       "                          'NATURAL GAS TRANSMISSION': 7,\n",
       "                          'TRANSPORTATION SERVICES': 6,\n",
       "                          'PIPE LINES (NO NATURAL GAS)': 7,\n",
       "                          'ELECTRIC SERVICES': 10,\n",
       "                          'WATER SUPPLY': 7,\n",
       "                          'AIR TRANSPORTATION, NONSCHEDULED': 1,\n",
       "                          'GOLD AND SILVER ORES': 9,\n",
       "                          'AIR COURIER SERVICES': 1,\n",
       "                          'GAS & OTHER SERVICES COMBINED': 2,\n",
       "                          'WATER TRANSPORTATION': 5,\n",
       "                          'TRUCKING & COURIER SERVICES (NO AIR)': 2,\n",
       "                          'ELECTRIC & OTHER SERVICES COMBINED': 6,\n",
       "                          'PETROLEUM REFINING': 9,\n",
       "                          'DEEP SEA FOREIGN TRANSPORTATION OF FREIGHT': 2,\n",
       "                          'NATURAL GAS TRANSMISISON & DISTRIBUTION': 3,\n",
       "                          'OIL & GAS FIELD EXPLORATION SERVICES': 3,\n",
       "                          'RAILROAD SWITCHING & TERMINAL ESTABLISHMENTS': 1}),\n",
       "             '2021_2': defaultdict(int,\n",
       "                         {'TRUCKING (NO LOCAL)': 12,\n",
       "                          'DRILLING OIL & GAS WELLS': 3,\n",
       "                          'MINING & QUARRYING OF NONMETALLIC MINERALS (NO FUELS)': 9,\n",
       "                          'CRUDE PETROLEUM & NATURAL GAS': 37,\n",
       "                          'OIL & GAS FIELD SERVICES, NEC': 10,\n",
       "                          'ARRANGEMENT OF TRANSPORTATION OF FREIGHT & CARGO': 3,\n",
       "                          'NATURAL GAS DISTRIBUTION': 3,\n",
       "                          'RAILROADS, LINE-HAUL OPERATING': 4,\n",
       "                          'BITUMINOUS COAL & LIGNITE SURFACE MINING': 2,\n",
       "                          'METAL MINING': 4,\n",
       "                          'AIR TRANSPORTATION, SCHEDULED': 9,\n",
       "                          'HAZARDOUS WASTE MANAGEMENT': 3,\n",
       "                          'REFUSE SYSTEMS': 4,\n",
       "                          'NATURAL GAS TRANSMISSION': 7,\n",
       "                          'TRANSPORTATION SERVICES': 6,\n",
       "                          'PIPE LINES (NO NATURAL GAS)': 7,\n",
       "                          'ELECTRIC SERVICES': 10,\n",
       "                          'WATER SUPPLY': 7,\n",
       "                          'AIR TRANSPORTATION, NONSCHEDULED': 1,\n",
       "                          'GOLD AND SILVER ORES': 9,\n",
       "                          'AIR COURIER SERVICES': 1,\n",
       "                          'GAS & OTHER SERVICES COMBINED': 2,\n",
       "                          'WATER TRANSPORTATION': 5,\n",
       "                          'TRUCKING & COURIER SERVICES (NO AIR)': 2,\n",
       "                          'ELECTRIC & OTHER SERVICES COMBINED': 6,\n",
       "                          'PETROLEUM REFINING': 9,\n",
       "                          'DEEP SEA FOREIGN TRANSPORTATION OF FREIGHT': 4,\n",
       "                          'NATURAL GAS TRANSMISISON & DISTRIBUTION': 3,\n",
       "                          'OIL & GAS FIELD EXPLORATION SERVICES': 3,\n",
       "                          'RAILROAD SWITCHING & TERMINAL ESTABLISHMENTS': 1}),\n",
       "             '2021_3': defaultdict(int,\n",
       "                         {'TRUCKING (NO LOCAL)': 12,\n",
       "                          'DRILLING OIL & GAS WELLS': 3,\n",
       "                          'MINING & QUARRYING OF NONMETALLIC MINERALS (NO FUELS)': 8,\n",
       "                          'CRUDE PETROLEUM & NATURAL GAS': 36,\n",
       "                          'OIL & GAS FIELD SERVICES, NEC': 10,\n",
       "                          'ARRANGEMENT OF TRANSPORTATION OF FREIGHT & CARGO': 3,\n",
       "                          'NATURAL GAS DISTRIBUTION': 3,\n",
       "                          'RAILROADS, LINE-HAUL OPERATING': 4,\n",
       "                          'BITUMINOUS COAL & LIGNITE SURFACE MINING': 2,\n",
       "                          'METAL MINING': 4,\n",
       "                          'AIR TRANSPORTATION, SCHEDULED': 9,\n",
       "                          'HAZARDOUS WASTE MANAGEMENT': 3,\n",
       "                          'REFUSE SYSTEMS': 4,\n",
       "                          'NATURAL GAS TRANSMISSION': 7,\n",
       "                          'TRANSPORTATION SERVICES': 6,\n",
       "                          'PIPE LINES (NO NATURAL GAS)': 7,\n",
       "                          'ELECTRIC SERVICES': 10,\n",
       "                          'WATER SUPPLY': 7,\n",
       "                          'AIR TRANSPORTATION, NONSCHEDULED': 1,\n",
       "                          'GOLD AND SILVER ORES': 9,\n",
       "                          'AIR COURIER SERVICES': 1,\n",
       "                          'GAS & OTHER SERVICES COMBINED': 2,\n",
       "                          'WATER TRANSPORTATION': 5,\n",
       "                          'TRUCKING & COURIER SERVICES (NO AIR)': 2,\n",
       "                          'ELECTRIC & OTHER SERVICES COMBINED': 6,\n",
       "                          'PETROLEUM REFINING': 9,\n",
       "                          'DEEP SEA FOREIGN TRANSPORTATION OF FREIGHT': 3,\n",
       "                          'NATURAL GAS TRANSMISISON & DISTRIBUTION': 3,\n",
       "                          'OIL & GAS FIELD EXPLORATION SERVICES': 3,\n",
       "                          'RAILROAD SWITCHING & TERMINAL ESTABLISHMENTS': 1})})"
      ]
     },
     "execution_count": 58,
     "metadata": {},
     "output_type": "execute_result"
    }
   ],
   "source": [
    "dict_of_industry_counts_per_year_q"
   ]
  },
  {
   "cell_type": "code",
   "execution_count": null,
   "metadata": {},
   "outputs": [],
   "source": [
    "dict_of_industry_counts"
   ]
  },
  {
   "cell_type": "markdown",
   "metadata": {},
   "source": [
    "## Check how useful is past data approach for the companies"
   ]
  },
  {
   "cell_type": "code",
   "execution_count": 62,
   "metadata": {},
   "outputs": [
    {
     "data": {
      "text/plain": [
       "defaultdict(<function __main__.<lambda>()>,\n",
       "            {799233: {'roe': 18,\n",
       "              'roa': 18,\n",
       "              'roce': 18,\n",
       "              'gross_margin': 18,\n",
       "              'operating_profit_margin': 18,\n",
       "              'net_profit_margin': 18,\n",
       "              'debt_to_equity': 18,\n",
       "              'equity': 18,\n",
       "              'debt': 8,\n",
       "              'current': 18,\n",
       "              'quick': 18,\n",
       "              'cash': 18,\n",
       "              'times_interest_earned': 17,\n",
       "              'capex_to_operating_cash': 18,\n",
       "              'operating_cash_flow': 18,\n",
       "              'price_to_earnings': 18,\n",
       "              'ev_ebitda': 8,\n",
       "              'ev_ebit': 8,\n",
       "              'ev_revenue': 8},\n",
       "             1537028: {'roe': 18,\n",
       "              'roa': 18,\n",
       "              'roce': 18,\n",
       "              'gross_margin': 18,\n",
       "              'operating_profit_margin': 18,\n",
       "              'net_profit_margin': 18,\n",
       "              'debt_to_equity': 18,\n",
       "              'equity': 18,\n",
       "              'debt': 18,\n",
       "              'current': 18,\n",
       "              'quick': 18,\n",
       "              'cash': 18,\n",
       "              'times_interest_earned': 18,\n",
       "              'capex_to_operating_cash': 18,\n",
       "              'operating_cash_flow': 18,\n",
       "              'price_to_earnings': 18,\n",
       "              'ev_ebitda': 18,\n",
       "              'ev_ebit': 18,\n",
       "              'ev_revenue': 18},\n",
       "             1524741: {'roe': 18,\n",
       "              'roa': 18,\n",
       "              'roce': 18,\n",
       "              'gross_margin': 18,\n",
       "              'operating_profit_margin': 18,\n",
       "              'net_profit_margin': 18,\n",
       "              'debt_to_equity': 18,\n",
       "              'equity': 18,\n",
       "              'debt': 18,\n",
       "              'current': 18,\n",
       "              'quick': 18,\n",
       "              'cash': 18,\n",
       "              'times_interest_earned': 18,\n",
       "              'capex_to_operating_cash': 18,\n",
       "              'operating_cash_flow': 18,\n",
       "              'price_to_earnings': 18,\n",
       "              'ev_ebitda': 18,\n",
       "              'ev_ebit': 18,\n",
       "              'ev_revenue': 18},\n",
       "             10254: {'roe': 18,\n",
       "              'roa': 18,\n",
       "              'roce': 18,\n",
       "              'gross_margin': 18,\n",
       "              'operating_profit_margin': 18,\n",
       "              'net_profit_margin': 18,\n",
       "              'debt_to_equity': 18,\n",
       "              'equity': 18,\n",
       "              'debt': 18,\n",
       "              'current': 18,\n",
       "              'quick': 18,\n",
       "              'cash': 18,\n",
       "              'times_interest_earned': 18,\n",
       "              'capex_to_operating_cash': 18,\n",
       "              'operating_cash_flow': 18,\n",
       "              'price_to_earnings': 18,\n",
       "              'ev_ebitda': 18,\n",
       "              'ev_ebit': 18,\n",
       "              'ev_revenue': 18},\n",
       "             1449488: {'roe': 18,\n",
       "              'roa': 18,\n",
       "              'roce': 18,\n",
       "              'gross_margin': 18,\n",
       "              'operating_profit_margin': 18,\n",
       "              'net_profit_margin': 18,\n",
       "              'debt_to_equity': 18,\n",
       "              'equity': 18,\n",
       "              'debt': 18,\n",
       "              'current': 18,\n",
       "              'quick': 18,\n",
       "              'cash': 18,\n",
       "              'times_interest_earned': 18,\n",
       "              'capex_to_operating_cash': 18,\n",
       "              'operating_cash_flow': 18,\n",
       "              'price_to_earnings': 18,\n",
       "              'ev_ebitda': 18,\n",
       "              'ev_ebit': 18,\n",
       "              'ev_revenue': 18},\n",
       "             1602065: {'roe': 18,\n",
       "              'roa': 18,\n",
       "              'roce': 18,\n",
       "              'gross_margin': 18,\n",
       "              'operating_profit_margin': 18,\n",
       "              'net_profit_margin': 18,\n",
       "              'debt_to_equity': 18,\n",
       "              'equity': 18,\n",
       "              'debt': 17,\n",
       "              'current': 18,\n",
       "              'quick': 18,\n",
       "              'cash': 18,\n",
       "              'times_interest_earned': 18,\n",
       "              'capex_to_operating_cash': 18,\n",
       "              'operating_cash_flow': 18,\n",
       "              'price_to_earnings': 18,\n",
       "              'ev_ebitda': 17,\n",
       "              'ev_ebit': 17,\n",
       "              'ev_revenue': 17},\n",
       "             746515: {'roe': 18,\n",
       "              'roa': 18,\n",
       "              'roce': 18,\n",
       "              'gross_margin': 18,\n",
       "              'operating_profit_margin': 18,\n",
       "              'net_profit_margin': 18,\n",
       "              'debt_to_equity': 18,\n",
       "              'equity': 18,\n",
       "              'debt': 10,\n",
       "              'current': 18,\n",
       "              'quick': 18,\n",
       "              'cash': 18,\n",
       "              'times_interest_earned': 2,\n",
       "              'capex_to_operating_cash': 18,\n",
       "              'operating_cash_flow': 18,\n",
       "              'price_to_earnings': 18,\n",
       "              'ev_ebitda': 10,\n",
       "              'ev_ebit': 10,\n",
       "              'ev_revenue': 10},\n",
       "             1587732: {'roe': 18,\n",
       "              'roa': 18,\n",
       "              'roce': 18,\n",
       "              'gross_margin': 18,\n",
       "              'operating_profit_margin': 18,\n",
       "              'net_profit_margin': 18,\n",
       "              'debt_to_equity': 18,\n",
       "              'equity': 18,\n",
       "              'debt': 18,\n",
       "              'current': 18,\n",
       "              'quick': 18,\n",
       "              'cash': 18,\n",
       "              'times_interest_earned': 18,\n",
       "              'capex_to_operating_cash': 18,\n",
       "              'operating_cash_flow': 18,\n",
       "              'price_to_earnings': 18,\n",
       "              'ev_ebitda': 18,\n",
       "              'ev_ebit': 18,\n",
       "              'ev_revenue': 18},\n",
       "             100885: {'roe': 17,\n",
       "              'roa': 17,\n",
       "              'roce': 17,\n",
       "              'gross_margin': 17,\n",
       "              'operating_profit_margin': 17,\n",
       "              'net_profit_margin': 17,\n",
       "              'debt_to_equity': 17,\n",
       "              'equity': 17,\n",
       "              'debt': 17,\n",
       "              'current': 17,\n",
       "              'quick': 17,\n",
       "              'cash': 17,\n",
       "              'times_interest_earned': 17,\n",
       "              'capex_to_operating_cash': 17,\n",
       "              'operating_cash_flow': 17,\n",
       "              'price_to_earnings': 17,\n",
       "              'ev_ebitda': 17,\n",
       "              'ev_ebit': 17,\n",
       "              'ev_revenue': 17},\n",
       "             1038357: {'roe': 18,\n",
       "              'roa': 18,\n",
       "              'roce': 18,\n",
       "              'gross_margin': 18,\n",
       "              'operating_profit_margin': 18,\n",
       "              'net_profit_margin': 18,\n",
       "              'debt_to_equity': 18,\n",
       "              'equity': 18,\n",
       "              'debt': 18,\n",
       "              'current': 18,\n",
       "              'quick': 18,\n",
       "              'cash': 18,\n",
       "              'times_interest_earned': 18,\n",
       "              'capex_to_operating_cash': 18,\n",
       "              'operating_cash_flow': 18,\n",
       "              'price_to_earnings': 18,\n",
       "              'ev_ebitda': 18,\n",
       "              'ev_ebit': 18,\n",
       "              'ev_revenue': 18},\n",
       "             1171486: {'roe': 18,\n",
       "              'roa': 18,\n",
       "              'roce': 18,\n",
       "              'gross_margin': 18,\n",
       "              'operating_profit_margin': 18,\n",
       "              'net_profit_margin': 18,\n",
       "              'debt_to_equity': 18,\n",
       "              'equity': 18,\n",
       "              'debt': 18,\n",
       "              'current': 18,\n",
       "              'quick': 18,\n",
       "              'cash': 18,\n",
       "              'times_interest_earned': 18,\n",
       "              'capex_to_operating_cash': 18,\n",
       "              'operating_cash_flow': 18,\n",
       "              'price_to_earnings': 18,\n",
       "              'ev_ebitda': 18,\n",
       "              'ev_ebit': 18,\n",
       "              'ev_revenue': 18},\n",
       "             1134115: {'roe': 18,\n",
       "              'roa': 18,\n",
       "              'roce': 18,\n",
       "              'gross_margin': 15,\n",
       "              'operating_profit_margin': 15,\n",
       "              'net_profit_margin': 15,\n",
       "              'debt_to_equity': 18,\n",
       "              'equity': 18,\n",
       "              'debt': 0,\n",
       "              'current': 18,\n",
       "              'quick': 0,\n",
       "              'cash': 18,\n",
       "              'times_interest_earned': 18,\n",
       "              'capex_to_operating_cash': 15,\n",
       "              'operating_cash_flow': 18,\n",
       "              'price_to_earnings': 18,\n",
       "              'ev_ebitda': 0,\n",
       "              'ev_ebit': 0,\n",
       "              'ev_revenue': 0},\n",
       "             56868: {'roe': 18,\n",
       "              'roa': 18,\n",
       "              'roce': 18,\n",
       "              'gross_margin': 18,\n",
       "              'operating_profit_margin': 18,\n",
       "              'net_profit_margin': 18,\n",
       "              'debt_to_equity': 18,\n",
       "              'equity': 18,\n",
       "              'debt': 18,\n",
       "              'current': 18,\n",
       "              'quick': 18,\n",
       "              'cash': 18,\n",
       "              'times_interest_earned': 18,\n",
       "              'capex_to_operating_cash': 18,\n",
       "              'operating_cash_flow': 18,\n",
       "              'price_to_earnings': 18,\n",
       "              'ev_ebitda': 18,\n",
       "              'ev_ebit': 18,\n",
       "              'ev_revenue': 18},\n",
       "             1362468: {'roe': 18,\n",
       "              'roa': 18,\n",
       "              'roce': 18,\n",
       "              'gross_margin': 18,\n",
       "              'operating_profit_margin': 18,\n",
       "              'net_profit_margin': 18,\n",
       "              'debt_to_equity': 18,\n",
       "              'equity': 18,\n",
       "              'debt': 18,\n",
       "              'current': 18,\n",
       "              'quick': 18,\n",
       "              'cash': 18,\n",
       "              'times_interest_earned': 18,\n",
       "              'capex_to_operating_cash': 18,\n",
       "              'operating_cash_flow': 18,\n",
       "              'price_to_earnings': 18,\n",
       "              'ev_ebitda': 18,\n",
       "              'ev_ebit': 18,\n",
       "              'ev_revenue': 18},\n",
       "             822818: {'roe': 18,\n",
       "              'roa': 18,\n",
       "              'roce': 18,\n",
       "              'gross_margin': 18,\n",
       "              'operating_profit_margin': 18,\n",
       "              'net_profit_margin': 18,\n",
       "              'debt_to_equity': 18,\n",
       "              'equity': 18,\n",
       "              'debt': 18,\n",
       "              'current': 18,\n",
       "              'quick': 18,\n",
       "              'cash': 18,\n",
       "              'times_interest_earned': 18,\n",
       "              'capex_to_operating_cash': 18,\n",
       "              'operating_cash_flow': 18,\n",
       "              'price_to_earnings': 18,\n",
       "              'ev_ebitda': 18,\n",
       "              'ev_ebit': 18,\n",
       "              'ev_revenue': 18},\n",
       "             1060391: {'roe': 18,\n",
       "              'roa': 18,\n",
       "              'roce': 18,\n",
       "              'gross_margin': 18,\n",
       "              'operating_profit_margin': 18,\n",
       "              'net_profit_margin': 18,\n",
       "              'debt_to_equity': 18,\n",
       "              'equity': 18,\n",
       "              'debt': 18,\n",
       "              'current': 18,\n",
       "              'quick': 18,\n",
       "              'cash': 18,\n",
       "              'times_interest_earned': 18,\n",
       "              'capex_to_operating_cash': 18,\n",
       "              'operating_cash_flow': 18,\n",
       "              'price_to_earnings': 18,\n",
       "              'ev_ebitda': 18,\n",
       "              'ev_ebit': 18,\n",
       "              'ev_revenue': 18},\n",
       "             1522727: {'roe': 18,\n",
       "              'roa': 18,\n",
       "              'roce': 18,\n",
       "              'gross_margin': 18,\n",
       "              'operating_profit_margin': 18,\n",
       "              'net_profit_margin': 18,\n",
       "              'debt_to_equity': 18,\n",
       "              'equity': 18,\n",
       "              'debt': 18,\n",
       "              'current': 18,\n",
       "              'quick': 18,\n",
       "              'cash': 18,\n",
       "              'times_interest_earned': 18,\n",
       "              'capex_to_operating_cash': 18,\n",
       "              'operating_cash_flow': 18,\n",
       "              'price_to_earnings': 18,\n",
       "              'ev_ebitda': 18,\n",
       "              'ev_ebit': 18,\n",
       "              'ev_revenue': 18},\n",
       "             1587246: {'roe': 18,\n",
       "              'roa': 18,\n",
       "              'roce': 18,\n",
       "              'gross_margin': 18,\n",
       "              'operating_profit_margin': 18,\n",
       "              'net_profit_margin': 18,\n",
       "              'debt_to_equity': 18,\n",
       "              'equity': 18,\n",
       "              'debt': 18,\n",
       "              'current': 18,\n",
       "              'quick': 18,\n",
       "              'cash': 18,\n",
       "              'times_interest_earned': 18,\n",
       "              'capex_to_operating_cash': 18,\n",
       "              'operating_cash_flow': 18,\n",
       "              'price_to_earnings': 18,\n",
       "              'ev_ebitda': 18,\n",
       "              'ev_ebit': 18,\n",
       "              'ev_revenue': 18},\n",
       "             1308208: {'roe': 16,\n",
       "              'roa': 16,\n",
       "              'roce': 16,\n",
       "              'gross_margin': 16,\n",
       "              'operating_profit_margin': 16,\n",
       "              'net_profit_margin': 16,\n",
       "              'debt_to_equity': 16,\n",
       "              'equity': 16,\n",
       "              'debt': 16,\n",
       "              'current': 16,\n",
       "              'quick': 16,\n",
       "              'cash': 16,\n",
       "              'times_interest_earned': 16,\n",
       "              'capex_to_operating_cash': 18,\n",
       "              'operating_cash_flow': 16,\n",
       "              'price_to_earnings': 16,\n",
       "              'ev_ebitda': 16,\n",
       "              'ev_ebit': 16,\n",
       "              'ev_revenue': 16},\n",
       "             1512499: {'roe': 18,\n",
       "              'roa': 18,\n",
       "              'roce': 18,\n",
       "              'gross_margin': 18,\n",
       "              'operating_profit_margin': 18,\n",
       "              'net_profit_margin': 18,\n",
       "              'debt_to_equity': 18,\n",
       "              'equity': 18,\n",
       "              'debt': 18,\n",
       "              'current': 18,\n",
       "              'quick': 0,\n",
       "              'cash': 18,\n",
       "              'times_interest_earned': 18,\n",
       "              'capex_to_operating_cash': 18,\n",
       "              'operating_cash_flow': 18,\n",
       "              'price_to_earnings': 18,\n",
       "              'ev_ebitda': 18,\n",
       "              'ev_ebit': 18,\n",
       "              'ev_revenue': 18},\n",
       "             77877: {'roe': 18,\n",
       "              'roa': 18,\n",
       "              'roce': 18,\n",
       "              'gross_margin': 18,\n",
       "              'operating_profit_margin': 18,\n",
       "              'net_profit_margin': 18,\n",
       "              'debt_to_equity': 18,\n",
       "              'equity': 18,\n",
       "              'debt': 18,\n",
       "              'current': 18,\n",
       "              'quick': 18,\n",
       "              'cash': 18,\n",
       "              'times_interest_earned': 18,\n",
       "              'capex_to_operating_cash': 18,\n",
       "              'operating_cash_flow': 18,\n",
       "              'price_to_earnings': 18,\n",
       "              'ev_ebitda': 18,\n",
       "              'ev_ebit': 18,\n",
       "              'ev_revenue': 18},\n",
       "             1296445: {'roe': 18,\n",
       "              'roa': 18,\n",
       "              'roce': 18,\n",
       "              'gross_margin': 18,\n",
       "              'operating_profit_margin': 18,\n",
       "              'net_profit_margin': 18,\n",
       "              'debt_to_equity': 18,\n",
       "              'equity': 18,\n",
       "              'debt': 18,\n",
       "              'current': 18,\n",
       "              'quick': 18,\n",
       "              'cash': 18,\n",
       "              'times_interest_earned': 18,\n",
       "              'capex_to_operating_cash': 17,\n",
       "              'operating_cash_flow': 18,\n",
       "              'price_to_earnings': 18,\n",
       "              'ev_ebitda': 18,\n",
       "              'ev_ebit': 18,\n",
       "              'ev_revenue': 18},\n",
       "             1126975: {'roe': 18,\n",
       "              'roa': 18,\n",
       "              'roce': 18,\n",
       "              'gross_margin': 18,\n",
       "              'operating_profit_margin': 18,\n",
       "              'net_profit_margin': 18,\n",
       "              'debt_to_equity': 18,\n",
       "              'equity': 18,\n",
       "              'debt': 18,\n",
       "              'current': 18,\n",
       "              'quick': 18,\n",
       "              'cash': 18,\n",
       "              'times_interest_earned': 18,\n",
       "              'capex_to_operating_cash': 18,\n",
       "              'operating_cash_flow': 18,\n",
       "              'price_to_earnings': 18,\n",
       "              'ev_ebitda': 18,\n",
       "              'ev_ebit': 18,\n",
       "              'ev_revenue': 18},\n",
       "             1084991: {'roe': 18,\n",
       "              'roa': 18,\n",
       "              'roce': 18,\n",
       "              'gross_margin': 18,\n",
       "              'operating_profit_margin': 18,\n",
       "              'net_profit_margin': 18,\n",
       "              'debt_to_equity': 18,\n",
       "              'equity': 18,\n",
       "              'debt': 18,\n",
       "              'current': 18,\n",
       "              'quick': 18,\n",
       "              'cash': 18,\n",
       "              'times_interest_earned': 18,\n",
       "              'capex_to_operating_cash': 18,\n",
       "              'operating_cash_flow': 18,\n",
       "              'price_to_earnings': 18,\n",
       "              'ev_ebitda': 18,\n",
       "              'ev_ebit': 18,\n",
       "              'ev_revenue': 18},\n",
       "             1283140: {'roe': 18,\n",
       "              'roa': 18,\n",
       "              'roce': 18,\n",
       "              'gross_margin': 18,\n",
       "              'operating_profit_margin': 18,\n",
       "              'net_profit_margin': 18,\n",
       "              'debt_to_equity': 18,\n",
       "              'equity': 18,\n",
       "              'debt': 18,\n",
       "              'current': 18,\n",
       "              'quick': 18,\n",
       "              'cash': 18,\n",
       "              'times_interest_earned': 18,\n",
       "              'capex_to_operating_cash': 14,\n",
       "              'operating_cash_flow': 18,\n",
       "              'price_to_earnings': 18,\n",
       "              'ev_ebitda': 18,\n",
       "              'ev_ebit': 18,\n",
       "              'ev_revenue': 18},\n",
       "             351817: {'roe': 18,\n",
       "              'roa': 18,\n",
       "              'roce': 18,\n",
       "              'gross_margin': 18,\n",
       "              'operating_profit_margin': 18,\n",
       "              'net_profit_margin': 18,\n",
       "              'debt_to_equity': 18,\n",
       "              'equity': 18,\n",
       "              'debt': 18,\n",
       "              'current': 18,\n",
       "              'quick': 18,\n",
       "              'cash': 18,\n",
       "              'times_interest_earned': 18,\n",
       "              'capex_to_operating_cash': 18,\n",
       "              'operating_cash_flow': 18,\n",
       "              'price_to_earnings': 18,\n",
       "              'ev_ebitda': 18,\n",
       "              'ev_ebit': 18,\n",
       "              'ev_revenue': 18},\n",
       "             1603145: {'roe': 17,\n",
       "              'roa': 17,\n",
       "              'roce': 17,\n",
       "              'gross_margin': 17,\n",
       "              'operating_profit_margin': 17,\n",
       "              'net_profit_margin': 17,\n",
       "              'debt_to_equity': 17,\n",
       "              'equity': 17,\n",
       "              'debt': 17,\n",
       "              'current': 17,\n",
       "              'quick': 17,\n",
       "              'cash': 17,\n",
       "              'times_interest_earned': 17,\n",
       "              'capex_to_operating_cash': 17,\n",
       "              'operating_cash_flow': 17,\n",
       "              'price_to_earnings': 17,\n",
       "              'ev_ebitda': 17,\n",
       "              'ev_ebit': 17,\n",
       "              'ev_revenue': 17},\n",
       "             1410636: {'roe': 18,\n",
       "              'roa': 18,\n",
       "              'roce': 18,\n",
       "              'gross_margin': 18,\n",
       "              'operating_profit_margin': 18,\n",
       "              'net_profit_margin': 18,\n",
       "              'debt_to_equity': 18,\n",
       "              'equity': 18,\n",
       "              'debt': 18,\n",
       "              'current': 18,\n",
       "              'quick': 18,\n",
       "              'cash': 18,\n",
       "              'times_interest_earned': 18,\n",
       "              'capex_to_operating_cash': 18,\n",
       "              'operating_cash_flow': 18,\n",
       "              'price_to_earnings': 18,\n",
       "              'ev_ebitda': 18,\n",
       "              'ev_ebit': 18,\n",
       "              'ev_revenue': 18},\n",
       "             890447: {'roe': 18,\n",
       "              'roa': 18,\n",
       "              'roce': 18,\n",
       "              'gross_margin': 18,\n",
       "              'operating_profit_margin': 18,\n",
       "              'net_profit_margin': 18,\n",
       "              'debt_to_equity': 18,\n",
       "              'equity': 18,\n",
       "              'debt': 18,\n",
       "              'current': 18,\n",
       "              'quick': 18,\n",
       "              'cash': 18,\n",
       "              'times_interest_earned': 18,\n",
       "              'capex_to_operating_cash': 18,\n",
       "              'operating_cash_flow': 18,\n",
       "              'price_to_earnings': 18,\n",
       "              'ev_ebitda': 18,\n",
       "              'ev_ebit': 18,\n",
       "              'ev_revenue': 18},\n",
       "             784977: {'roe': 18,\n",
       "              'roa': 18,\n",
       "              'roce': 18,\n",
       "              'gross_margin': 18,\n",
       "              'operating_profit_margin': 18,\n",
       "              'net_profit_margin': 18,\n",
       "              'debt_to_equity': 18,\n",
       "              'equity': 18,\n",
       "              'debt': 18,\n",
       "              'current': 18,\n",
       "              'quick': 18,\n",
       "              'cash': 18,\n",
       "              'times_interest_earned': 18,\n",
       "              'capex_to_operating_cash': 18,\n",
       "              'operating_cash_flow': 18,\n",
       "              'price_to_earnings': 18,\n",
       "              'ev_ebitda': 18,\n",
       "              'ev_ebit': 18,\n",
       "              'ev_revenue': 18},\n",
       "             1135185: {'roe': 18,\n",
       "              'roa': 18,\n",
       "              'roce': 18,\n",
       "              'gross_margin': 18,\n",
       "              'operating_profit_margin': 18,\n",
       "              'net_profit_margin': 18,\n",
       "              'debt_to_equity': 18,\n",
       "              'equity': 18,\n",
       "              'debt': 18,\n",
       "              'current': 18,\n",
       "              'quick': 18,\n",
       "              'cash': 18,\n",
       "              'times_interest_earned': 18,\n",
       "              'capex_to_operating_cash': 18,\n",
       "              'operating_cash_flow': 18,\n",
       "              'price_to_earnings': 18,\n",
       "              'ev_ebitda': 18,\n",
       "              'ev_ebit': 18,\n",
       "              'ev_revenue': 18},\n",
       "             928340: {'roe': 18,\n",
       "              'roa': 18,\n",
       "              'roce': 18,\n",
       "              'gross_margin': 18,\n",
       "              'operating_profit_margin': 18,\n",
       "              'net_profit_margin': 18,\n",
       "              'debt_to_equity': 18,\n",
       "              'equity': 18,\n",
       "              'debt': 18,\n",
       "              'current': 18,\n",
       "              'quick': 18,\n",
       "              'cash': 18,\n",
       "              'times_interest_earned': 18,\n",
       "              'capex_to_operating_cash': 18,\n",
       "              'operating_cash_flow': 18,\n",
       "              'price_to_earnings': 18,\n",
       "              'ev_ebitda': 18,\n",
       "              'ev_ebit': 18,\n",
       "              'ev_revenue': 18},\n",
       "             1498710: {'roe': 18,\n",
       "              'roa': 18,\n",
       "              'roce': 18,\n",
       "              'gross_margin': 18,\n",
       "              'operating_profit_margin': 18,\n",
       "              'net_profit_margin': 18,\n",
       "              'debt_to_equity': 18,\n",
       "              'equity': 18,\n",
       "              'debt': 18,\n",
       "              'current': 18,\n",
       "              'quick': 15,\n",
       "              'cash': 18,\n",
       "              'times_interest_earned': 18,\n",
       "              'capex_to_operating_cash': 18,\n",
       "              'operating_cash_flow': 18,\n",
       "              'price_to_earnings': 18,\n",
       "              'ev_ebitda': 18,\n",
       "              'ev_ebit': 18,\n",
       "              'ev_revenue': 18},\n",
       "             1160791: {'roe': 18,\n",
       "              'roa': 18,\n",
       "              'roce': 18,\n",
       "              'gross_margin': 18,\n",
       "              'operating_profit_margin': 18,\n",
       "              'net_profit_margin': 18,\n",
       "              'debt_to_equity': 18,\n",
       "              'equity': 18,\n",
       "              'debt': 16,\n",
       "              'current': 18,\n",
       "              'quick': 18,\n",
       "              'cash': 18,\n",
       "              'times_interest_earned': 14,\n",
       "              'capex_to_operating_cash': 18,\n",
       "              'operating_cash_flow': 18,\n",
       "              'price_to_earnings': 18,\n",
       "              'ev_ebitda': 16,\n",
       "              'ev_ebit': 16,\n",
       "              'ev_revenue': 16},\n",
       "             1273441: {'roe': 18,\n",
       "              'roa': 18,\n",
       "              'roce': 18,\n",
       "              'gross_margin': 18,\n",
       "              'operating_profit_margin': 18,\n",
       "              'net_profit_margin': 18,\n",
       "              'debt_to_equity': 18,\n",
       "              'equity': 18,\n",
       "              'debt': 18,\n",
       "              'current': 18,\n",
       "              'quick': 18,\n",
       "              'cash': 18,\n",
       "              'times_interest_earned': 18,\n",
       "              'capex_to_operating_cash': 18,\n",
       "              'operating_cash_flow': 18,\n",
       "              'price_to_earnings': 18,\n",
       "              'ev_ebitda': 18,\n",
       "              'ev_ebit': 18,\n",
       "              'ev_revenue': 18},\n",
       "             893538: {'roe': 18,\n",
       "              'roa': 18,\n",
       "              'roce': 18,\n",
       "              'gross_margin': 18,\n",
       "              'operating_profit_margin': 18,\n",
       "              'net_profit_margin': 18,\n",
       "              'debt_to_equity': 18,\n",
       "              'equity': 18,\n",
       "              'debt': 18,\n",
       "              'current': 18,\n",
       "              'quick': 18,\n",
       "              'cash': 18,\n",
       "              'times_interest_earned': 18,\n",
       "              'capex_to_operating_cash': 18,\n",
       "              'operating_cash_flow': 18,\n",
       "              'price_to_earnings': 18,\n",
       "              'ev_ebitda': 18,\n",
       "              'ev_ebit': 18,\n",
       "              'ev_revenue': 18},\n",
       "             1065059: {'roe': 18,\n",
       "              'roa': 18,\n",
       "              'roce': 18,\n",
       "              'gross_margin': 18,\n",
       "              'operating_profit_margin': 18,\n",
       "              'net_profit_margin': 18,\n",
       "              'debt_to_equity': 18,\n",
       "              'equity': 18,\n",
       "              'debt': 18,\n",
       "              'current': 18,\n",
       "              'quick': 18,\n",
       "              'cash': 18,\n",
       "              'times_interest_earned': 18,\n",
       "              'capex_to_operating_cash': 17,\n",
       "              'operating_cash_flow': 18,\n",
       "              'price_to_earnings': 18,\n",
       "              'ev_ebitda': 18,\n",
       "              'ev_ebit': 18,\n",
       "              'ev_revenue': 18},\n",
       "             1177702: {'roe': 18,\n",
       "              'roa': 18,\n",
       "              'roce': 18,\n",
       "              'gross_margin': 18,\n",
       "              'operating_profit_margin': 18,\n",
       "              'net_profit_margin': 18,\n",
       "              'debt_to_equity': 18,\n",
       "              'equity': 18,\n",
       "              'debt': 18,\n",
       "              'current': 18,\n",
       "              'quick': 18,\n",
       "              'cash': 18,\n",
       "              'times_interest_earned': 18,\n",
       "              'capex_to_operating_cash': 18,\n",
       "              'operating_cash_flow': 18,\n",
       "              'price_to_earnings': 18,\n",
       "              'ev_ebitda': 18,\n",
       "              'ev_ebit': 18,\n",
       "              'ev_revenue': 18},\n",
       "             1509991: {'roe': 18,\n",
       "              'roa': 18,\n",
       "              'roce': 18,\n",
       "              'gross_margin': 18,\n",
       "              'operating_profit_margin': 18,\n",
       "              'net_profit_margin': 18,\n",
       "              'debt_to_equity': 18,\n",
       "              'equity': 18,\n",
       "              'debt': 18,\n",
       "              'current': 18,\n",
       "              'quick': 18,\n",
       "              'cash': 18,\n",
       "              'times_interest_earned': 18,\n",
       "              'capex_to_operating_cash': 18,\n",
       "              'operating_cash_flow': 18,\n",
       "              'price_to_earnings': 18,\n",
       "              'ev_ebitda': 18,\n",
       "              'ev_ebit': 18,\n",
       "              'ev_revenue': 18},\n",
       "             1104485: {'roe': 18,\n",
       "              'roa': 18,\n",
       "              'roce': 18,\n",
       "              'gross_margin': 18,\n",
       "              'operating_profit_margin': 18,\n",
       "              'net_profit_margin': 18,\n",
       "              'debt_to_equity': 18,\n",
       "              'equity': 18,\n",
       "              'debt': 18,\n",
       "              'current': 18,\n",
       "              'quick': 18,\n",
       "              'cash': 18,\n",
       "              'times_interest_earned': 18,\n",
       "              'capex_to_operating_cash': 18,\n",
       "              'operating_cash_flow': 18,\n",
       "              'price_to_earnings': 18,\n",
       "              'ev_ebitda': 18,\n",
       "              'ev_ebit': 18,\n",
       "              'ev_revenue': 18},\n",
       "             1434728: {'roe': 18,\n",
       "              'roa': 18,\n",
       "              'roce': 18,\n",
       "              'gross_margin': 18,\n",
       "              'operating_profit_margin': 18,\n",
       "              'net_profit_margin': 18,\n",
       "              'debt_to_equity': 18,\n",
       "              'equity': 18,\n",
       "              'debt': 18,\n",
       "              'current': 18,\n",
       "              'quick': 18,\n",
       "              'cash': 18,\n",
       "              'times_interest_earned': 18,\n",
       "              'capex_to_operating_cash': 18,\n",
       "              'operating_cash_flow': 18,\n",
       "              'price_to_earnings': 18,\n",
       "              'ev_ebitda': 18,\n",
       "              'ev_ebit': 18,\n",
       "              'ev_revenue': 18},\n",
       "             1549922: {'roe': 18,\n",
       "              'roa': 18,\n",
       "              'roce': 18,\n",
       "              'gross_margin': 18,\n",
       "              'operating_profit_margin': 18,\n",
       "              'net_profit_margin': 18,\n",
       "              'debt_to_equity': 18,\n",
       "              'equity': 18,\n",
       "              'debt': 18,\n",
       "              'current': 18,\n",
       "              'quick': 18,\n",
       "              'cash': 18,\n",
       "              'times_interest_earned': 18,\n",
       "              'capex_to_operating_cash': 18,\n",
       "              'operating_cash_flow': 18,\n",
       "              'price_to_earnings': 18,\n",
       "              'ev_ebitda': 18,\n",
       "              'ev_ebit': 18,\n",
       "              'ev_revenue': 18},\n",
       "             916076: {'roe': 18,\n",
       "              'roa': 18,\n",
       "              'roce': 18,\n",
       "              'gross_margin': 18,\n",
       "              'operating_profit_margin': 18,\n",
       "              'net_profit_margin': 18,\n",
       "              'debt_to_equity': 18,\n",
       "              'equity': 18,\n",
       "              'debt': 18,\n",
       "              'current': 18,\n",
       "              'quick': 16,\n",
       "              'cash': 18,\n",
       "              'times_interest_earned': 18,\n",
       "              'capex_to_operating_cash': 18,\n",
       "              'operating_cash_flow': 18,\n",
       "              'price_to_earnings': 18,\n",
       "              'ev_ebitda': 18,\n",
       "              'ev_ebit': 18,\n",
       "              'ev_revenue': 18},\n",
       "             717423: {'roe': 18,\n",
       "              'roa': 18,\n",
       "              'roce': 18,\n",
       "              'gross_margin': 18,\n",
       "              'operating_profit_margin': 18,\n",
       "              'net_profit_margin': 18,\n",
       "              'debt_to_equity': 18,\n",
       "              'equity': 18,\n",
       "              'debt': 18,\n",
       "              'current': 18,\n",
       "              'quick': 18,\n",
       "              'cash': 18,\n",
       "              'times_interest_earned': 18,\n",
       "              'capex_to_operating_cash': 18,\n",
       "              'operating_cash_flow': 18,\n",
       "              'price_to_earnings': 18,\n",
       "              'ev_ebitda': 18,\n",
       "              'ev_ebit': 18,\n",
       "              'ev_revenue': 18},\n",
       "             1013871: {'roe': 18,\n",
       "              'roa': 18,\n",
       "              'roce': 18,\n",
       "              'gross_margin': 18,\n",
       "              'operating_profit_margin': 18,\n",
       "              'net_profit_margin': 18,\n",
       "              'debt_to_equity': 18,\n",
       "              'equity': 18,\n",
       "              'debt': 18,\n",
       "              'current': 18,\n",
       "              'quick': 18,\n",
       "              'cash': 18,\n",
       "              'times_interest_earned': 18,\n",
       "              'capex_to_operating_cash': 18,\n",
       "              'operating_cash_flow': 18,\n",
       "              'price_to_earnings': 18,\n",
       "              'ev_ebitda': 18,\n",
       "              'ev_ebit': 18,\n",
       "              'ev_revenue': 18},\n",
       "             1389170: {'roe': 18,\n",
       "              'roa': 18,\n",
       "              'roce': 18,\n",
       "              'gross_margin': 18,\n",
       "              'operating_profit_margin': 18,\n",
       "              'net_profit_margin': 18,\n",
       "              'debt_to_equity': 18,\n",
       "              'equity': 18,\n",
       "              'debt': 18,\n",
       "              'current': 18,\n",
       "              'quick': 18,\n",
       "              'cash': 18,\n",
       "              'times_interest_earned': 18,\n",
       "              'capex_to_operating_cash': 18,\n",
       "              'operating_cash_flow': 18,\n",
       "              'price_to_earnings': 18,\n",
       "              'ev_ebitda': 18,\n",
       "              'ev_ebit': 18,\n",
       "              'ev_revenue': 18},\n",
       "             894081: {'roe': 18,\n",
       "              'roa': 18,\n",
       "              'roce': 18,\n",
       "              'gross_margin': 18,\n",
       "              'operating_profit_margin': 18,\n",
       "              'net_profit_margin': 18,\n",
       "              'debt_to_equity': 18,\n",
       "              'equity': 18,\n",
       "              'debt': 18,\n",
       "              'current': 18,\n",
       "              'quick': 18,\n",
       "              'cash': 18,\n",
       "              'times_interest_earned': 18,\n",
       "              'capex_to_operating_cash': 18,\n",
       "              'operating_cash_flow': 18,\n",
       "              'price_to_earnings': 18,\n",
       "              'ev_ebitda': 18,\n",
       "              'ev_ebit': 18,\n",
       "              'ev_revenue': 18},\n",
       "             1552000: {'roe': 18,\n",
       "              'roa': 18,\n",
       "              'roce': 18,\n",
       "              'gross_margin': 18,\n",
       "              'operating_profit_margin': 18,\n",
       "              'net_profit_margin': 18,\n",
       "              'debt_to_equity': 18,\n",
       "              'equity': 18,\n",
       "              'debt': 18,\n",
       "              'current': 18,\n",
       "              'quick': 18,\n",
       "              'cash': 18,\n",
       "              'times_interest_earned': 18,\n",
       "              'capex_to_operating_cash': 18,\n",
       "              'operating_cash_flow': 18,\n",
       "              'price_to_earnings': 18,\n",
       "              'ev_ebitda': 18,\n",
       "              'ev_ebit': 18,\n",
       "              'ev_revenue': 18},\n",
       "             67716: {'roe': 18,\n",
       "              'roa': 18,\n",
       "              'roce': 18,\n",
       "              'gross_margin': 18,\n",
       "              'operating_profit_margin': 18,\n",
       "              'net_profit_margin': 18,\n",
       "              'debt_to_equity': 18,\n",
       "              'equity': 18,\n",
       "              'debt': 18,\n",
       "              'current': 18,\n",
       "              'quick': 18,\n",
       "              'cash': 18,\n",
       "              'times_interest_earned': 18,\n",
       "              'capex_to_operating_cash': 18,\n",
       "              'operating_cash_flow': 18,\n",
       "              'price_to_earnings': 18,\n",
       "              'ev_ebitda': 18,\n",
       "              'ev_ebit': 18,\n",
       "              'ev_revenue': 18},\n",
       "             793733: {'roe': 18,\n",
       "              'roa': 18,\n",
       "              'roce': 18,\n",
       "              'gross_margin': 18,\n",
       "              'operating_profit_margin': 18,\n",
       "              'net_profit_margin': 18,\n",
       "              'debt_to_equity': 18,\n",
       "              'equity': 18,\n",
       "              'debt': 18,\n",
       "              'current': 18,\n",
       "              'quick': 18,\n",
       "              'cash': 18,\n",
       "              'times_interest_earned': 18,\n",
       "              'capex_to_operating_cash': 18,\n",
       "              'operating_cash_flow': 18,\n",
       "              'price_to_earnings': 18,\n",
       "              'ev_ebitda': 18,\n",
       "              'ev_ebit': 18,\n",
       "              'ev_revenue': 18},\n",
       "             1086600: {'roe': 18,\n",
       "              'roa': 18,\n",
       "              'roce': 18,\n",
       "              'gross_margin': 18,\n",
       "              'operating_profit_margin': 18,\n",
       "              'net_profit_margin': 18,\n",
       "              'debt_to_equity': 18,\n",
       "              'equity': 18,\n",
       "              'debt': 18,\n",
       "              'current': 18,\n",
       "              'quick': 18,\n",
       "              'cash': 18,\n",
       "              'times_interest_earned': 18,\n",
       "              'capex_to_operating_cash': 18,\n",
       "              'operating_cash_flow': 18,\n",
       "              'price_to_earnings': 18,\n",
       "              'ev_ebitda': 18,\n",
       "              'ev_ebit': 18,\n",
       "              'ev_revenue': 18},\n",
       "             1031296: {'roe': 17,\n",
       "              'roa': 17,\n",
       "              'roce': 17,\n",
       "              'gross_margin': 17,\n",
       "              'operating_profit_margin': 17,\n",
       "              'net_profit_margin': 17,\n",
       "              'debt_to_equity': 17,\n",
       "              'equity': 17,\n",
       "              'debt': 17,\n",
       "              'current': 17,\n",
       "              'quick': 17,\n",
       "              'cash': 17,\n",
       "              'times_interest_earned': 17,\n",
       "              'capex_to_operating_cash': 17,\n",
       "              'operating_cash_flow': 17,\n",
       "              'price_to_earnings': 17,\n",
       "              'ev_ebitda': 17,\n",
       "              'ev_ebit': 17,\n",
       "              'ev_revenue': 17},\n",
       "             1001614: {'roe': 18,\n",
       "              'roa': 18,\n",
       "              'roce': 18,\n",
       "              'gross_margin': 18,\n",
       "              'operating_profit_margin': 18,\n",
       "              'net_profit_margin': 18,\n",
       "              'debt_to_equity': 18,\n",
       "              'equity': 18,\n",
       "              'debt': 18,\n",
       "              'current': 18,\n",
       "              'quick': 18,\n",
       "              'cash': 18,\n",
       "              'times_interest_earned': 18,\n",
       "              'capex_to_operating_cash': 18,\n",
       "              'operating_cash_flow': 18,\n",
       "              'price_to_earnings': 18,\n",
       "              'ev_ebitda': 18,\n",
       "              'ev_ebit': 18,\n",
       "              'ev_revenue': 18},\n",
       "             891532: {'roe': 18,\n",
       "              'roa': 18,\n",
       "              'roce': 18,\n",
       "              'gross_margin': 18,\n",
       "              'operating_profit_margin': 18,\n",
       "              'net_profit_margin': 18,\n",
       "              'debt_to_equity': 18,\n",
       "              'equity': 18,\n",
       "              'debt': 18,\n",
       "              'current': 18,\n",
       "              'quick': 18,\n",
       "              'cash': 18,\n",
       "              'times_interest_earned': 18,\n",
       "              'capex_to_operating_cash': 18,\n",
       "              'operating_cash_flow': 18,\n",
       "              'price_to_earnings': 18,\n",
       "              'ev_ebitda': 18,\n",
       "              'ev_ebit': 18,\n",
       "              'ev_revenue': 18},\n",
       "             1634447: {'roe': 18,\n",
       "              'roa': 18,\n",
       "              'roce': 18,\n",
       "              'gross_margin': 14,\n",
       "              'operating_profit_margin': 14,\n",
       "              'net_profit_margin': 14,\n",
       "              'debt_to_equity': 18,\n",
       "              'equity': 18,\n",
       "              'debt': 18,\n",
       "              'current': 18,\n",
       "              'quick': 11,\n",
       "              'cash': 18,\n",
       "              'times_interest_earned': 18,\n",
       "              'capex_to_operating_cash': 12,\n",
       "              'operating_cash_flow': 18,\n",
       "              'price_to_earnings': 18,\n",
       "              'ev_ebitda': 7,\n",
       "              'ev_ebit': 18,\n",
       "              'ev_revenue': 14},\n",
       "             1220754: {'roe': 18,\n",
       "              'roa': 18,\n",
       "              'roce': 18,\n",
       "              'gross_margin': 18,\n",
       "              'operating_profit_margin': 18,\n",
       "              'net_profit_margin': 18,\n",
       "              'debt_to_equity': 18,\n",
       "              'equity': 18,\n",
       "              'debt': 18,\n",
       "              'current': 18,\n",
       "              'quick': 18,\n",
       "              'cash': 18,\n",
       "              'times_interest_earned': 18,\n",
       "              'capex_to_operating_cash': 18,\n",
       "              'operating_cash_flow': 18,\n",
       "              'price_to_earnings': 18,\n",
       "              'ev_ebitda': 18,\n",
       "              'ev_ebit': 18,\n",
       "              'ev_revenue': 18},\n",
       "             1692819: {'roe': 17,\n",
       "              'roa': 17,\n",
       "              'roce': 17,\n",
       "              'gross_margin': 18,\n",
       "              'operating_profit_margin': 18,\n",
       "              'net_profit_margin': 18,\n",
       "              'debt_to_equity': 17,\n",
       "              'equity': 17,\n",
       "              'debt': 17,\n",
       "              'current': 17,\n",
       "              'quick': 17,\n",
       "              'cash': 17,\n",
       "              'times_interest_earned': 18,\n",
       "              'capex_to_operating_cash': 17,\n",
       "              'operating_cash_flow': 17,\n",
       "              'price_to_earnings': 17,\n",
       "              'ev_ebitda': 17,\n",
       "              'ev_ebit': 17,\n",
       "              'ev_revenue': 17},\n",
       "             1421461: {'roe': 18,\n",
       "              'roa': 18,\n",
       "              'roce': 18,\n",
       "              'gross_margin': 18,\n",
       "              'operating_profit_margin': 18,\n",
       "              'net_profit_margin': 18,\n",
       "              'debt_to_equity': 18,\n",
       "              'equity': 18,\n",
       "              'debt': 18,\n",
       "              'current': 18,\n",
       "              'quick': 18,\n",
       "              'cash': 18,\n",
       "              'times_interest_earned': 18,\n",
       "              'capex_to_operating_cash': 18,\n",
       "              'operating_cash_flow': 18,\n",
       "              'price_to_earnings': 18,\n",
       "              'ev_ebitda': 18,\n",
       "              'ev_ebit': 18,\n",
       "              'ev_revenue': 18},\n",
       "             884887: {'roe': 18,\n",
       "              'roa': 18,\n",
       "              'roce': 18,\n",
       "              'gross_margin': 18,\n",
       "              'operating_profit_margin': 18,\n",
       "              'net_profit_margin': 18,\n",
       "              'debt_to_equity': 18,\n",
       "              'equity': 18,\n",
       "              'debt': 18,\n",
       "              'current': 18,\n",
       "              'quick': 18,\n",
       "              'cash': 18,\n",
       "              'times_interest_earned': 18,\n",
       "              'capex_to_operating_cash': 18,\n",
       "              'operating_cash_flow': 18,\n",
       "              'price_to_earnings': 18,\n",
       "              'ev_ebitda': 18,\n",
       "              'ev_ebit': 18,\n",
       "              'ev_revenue': 18},\n",
       "             764065: {'roe': 17,\n",
       "              'roa': 17,\n",
       "              'roce': 17,\n",
       "              'gross_margin': 17,\n",
       "              'operating_profit_margin': 17,\n",
       "              'net_profit_margin': 17,\n",
       "              'debt_to_equity': 17,\n",
       "              'equity': 17,\n",
       "              'debt': 17,\n",
       "              'current': 17,\n",
       "              'quick': 17,\n",
       "              'cash': 17,\n",
       "              'times_interest_earned': 17,\n",
       "              'capex_to_operating_cash': 17,\n",
       "              'operating_cash_flow': 17,\n",
       "              'price_to_earnings': 17,\n",
       "              'ev_ebitda': 17,\n",
       "              'ev_ebit': 17,\n",
       "              'ev_revenue': 17},\n",
       "             732834: {'roe': 18,\n",
       "              'roa': 18,\n",
       "              'roce': 18,\n",
       "              'gross_margin': 18,\n",
       "              'operating_profit_margin': 18,\n",
       "              'net_profit_margin': 18,\n",
       "              'debt_to_equity': 18,\n",
       "              'equity': 18,\n",
       "              'debt': 18,\n",
       "              'current': 18,\n",
       "              'quick': 18,\n",
       "              'cash': 18,\n",
       "              'times_interest_earned': 18,\n",
       "              'capex_to_operating_cash': 18,\n",
       "              'operating_cash_flow': 18,\n",
       "              'price_to_earnings': 18,\n",
       "              'ev_ebitda': 18,\n",
       "              'ev_ebit': 18,\n",
       "              'ev_revenue': 18},\n",
       "             894627: {'roe': 18,\n",
       "              'roa': 18,\n",
       "              'roce': 18,\n",
       "              'gross_margin': 18,\n",
       "              'operating_profit_margin': 18,\n",
       "              'net_profit_margin': 18,\n",
       "              'debt_to_equity': 18,\n",
       "              'equity': 18,\n",
       "              'debt': 18,\n",
       "              'current': 18,\n",
       "              'quick': 18,\n",
       "              'cash': 18,\n",
       "              'times_interest_earned': 18,\n",
       "              'capex_to_operating_cash': 18,\n",
       "              'operating_cash_flow': 18,\n",
       "              'price_to_earnings': 18,\n",
       "              'ev_ebitda': 18,\n",
       "              'ev_ebit': 18,\n",
       "              'ev_revenue': 18},\n",
       "             7332: {'roe': 17,\n",
       "              'roa': 17,\n",
       "              'roce': 17,\n",
       "              'gross_margin': 17,\n",
       "              'operating_profit_margin': 17,\n",
       "              'net_profit_margin': 17,\n",
       "              'debt_to_equity': 17,\n",
       "              'equity': 17,\n",
       "              'debt': 17,\n",
       "              'current': 17,\n",
       "              'quick': 17,\n",
       "              'cash': 17,\n",
       "              'times_interest_earned': 17,\n",
       "              'capex_to_operating_cash': 17,\n",
       "              'operating_cash_flow': 17,\n",
       "              'price_to_earnings': 17,\n",
       "              'ev_ebitda': 17,\n",
       "              'ev_ebit': 17,\n",
       "              'ev_revenue': 17},\n",
       "             100517: {'roe': 17,\n",
       "              'roa': 17,\n",
       "              'roce': 17,\n",
       "              'gross_margin': 17,\n",
       "              'operating_profit_margin': 17,\n",
       "              'net_profit_margin': 17,\n",
       "              'debt_to_equity': 17,\n",
       "              'equity': 17,\n",
       "              'debt': 17,\n",
       "              'current': 17,\n",
       "              'quick': 17,\n",
       "              'cash': 17,\n",
       "              'times_interest_earned': 17,\n",
       "              'capex_to_operating_cash': 17,\n",
       "              'operating_cash_flow': 17,\n",
       "              'price_to_earnings': 17,\n",
       "              'ev_ebitda': 17,\n",
       "              'ev_ebit': 17,\n",
       "              'ev_revenue': 17},\n",
       "             844965: {'roe': 18,\n",
       "              'roa': 18,\n",
       "              'roce': 18,\n",
       "              'gross_margin': 15,\n",
       "              'operating_profit_margin': 15,\n",
       "              'net_profit_margin': 15,\n",
       "              'debt_to_equity': 18,\n",
       "              'equity': 18,\n",
       "              'debt': 18,\n",
       "              'current': 18,\n",
       "              'quick': 18,\n",
       "              'cash': 18,\n",
       "              'times_interest_earned': 18,\n",
       "              'capex_to_operating_cash': 18,\n",
       "              'operating_cash_flow': 18,\n",
       "              'price_to_earnings': 18,\n",
       "              'ev_ebitda': 18,\n",
       "              'ev_ebit': 18,\n",
       "              'ev_revenue': 15},\n",
       "             1090727: {'roe': 18,\n",
       "              'roa': 18,\n",
       "              'roce': 18,\n",
       "              'gross_margin': 18,\n",
       "              'operating_profit_margin': 18,\n",
       "              'net_profit_margin': 18,\n",
       "              'debt_to_equity': 18,\n",
       "              'equity': 18,\n",
       "              'debt': 18,\n",
       "              'current': 18,\n",
       "              'quick': 18,\n",
       "              'cash': 18,\n",
       "              'times_interest_earned': 18,\n",
       "              'capex_to_operating_cash': 18,\n",
       "              'operating_cash_flow': 18,\n",
       "              'price_to_earnings': 18,\n",
       "              'ev_ebitda': 18,\n",
       "              'ev_ebit': 18,\n",
       "              'ev_revenue': 18},\n",
       "             1166003: {'roe': 18,\n",
       "              'roa': 18,\n",
       "              'roce': 18,\n",
       "              'gross_margin': 18,\n",
       "              'operating_profit_margin': 18,\n",
       "              'net_profit_margin': 18,\n",
       "              'debt_to_equity': 18,\n",
       "              'equity': 18,\n",
       "              'debt': 18,\n",
       "              'current': 18,\n",
       "              'quick': 18,\n",
       "              'cash': 18,\n",
       "              'times_interest_earned': 18,\n",
       "              'capex_to_operating_cash': 18,\n",
       "              'operating_cash_flow': 18,\n",
       "              'price_to_earnings': 18,\n",
       "              'ev_ebitda': 18,\n",
       "              'ev_ebit': 18,\n",
       "              'ev_revenue': 18},\n",
       "             1634997: {'roe': 18,\n",
       "              'roa': 18,\n",
       "              'roce': 18,\n",
       "              'gross_margin': 18,\n",
       "              'operating_profit_margin': 18,\n",
       "              'net_profit_margin': 18,\n",
       "              'debt_to_equity': 18,\n",
       "              'equity': 18,\n",
       "              'debt': 18,\n",
       "              'current': 18,\n",
       "              'quick': 18,\n",
       "              'cash': 18,\n",
       "              'times_interest_earned': 18,\n",
       "              'capex_to_operating_cash': 18,\n",
       "              'operating_cash_flow': 18,\n",
       "              'price_to_earnings': 18,\n",
       "              'ev_ebitda': 18,\n",
       "              'ev_ebit': 18,\n",
       "              'ev_revenue': 18},\n",
       "             861878: {'roe': 18,\n",
       "              'roa': 18,\n",
       "              'roce': 18,\n",
       "              'gross_margin': 18,\n",
       "              'operating_profit_margin': 18,\n",
       "              'net_profit_margin': 18,\n",
       "              'debt_to_equity': 18,\n",
       "              'equity': 18,\n",
       "              'debt': 18,\n",
       "              'current': 18,\n",
       "              'quick': 18,\n",
       "              'cash': 18,\n",
       "              'times_interest_earned': 18,\n",
       "              'capex_to_operating_cash': 18,\n",
       "              'operating_cash_flow': 18,\n",
       "              'price_to_earnings': 18,\n",
       "              'ev_ebitda': 18,\n",
       "              'ev_ebit': 18,\n",
       "              'ev_revenue': 18},\n",
       "             1592000: {'roe': 18,\n",
       "              'roa': 18,\n",
       "              'roce': 18,\n",
       "              'gross_margin': 18,\n",
       "              'operating_profit_margin': 18,\n",
       "              'net_profit_margin': 18,\n",
       "              'debt_to_equity': 18,\n",
       "              'equity': 18,\n",
       "              'debt': 18,\n",
       "              'current': 18,\n",
       "              'quick': 18,\n",
       "              'cash': 18,\n",
       "              'times_interest_earned': 18,\n",
       "              'capex_to_operating_cash': 18,\n",
       "              'operating_cash_flow': 18,\n",
       "              'price_to_earnings': 18,\n",
       "              'ev_ebitda': 18,\n",
       "              'ev_ebit': 18,\n",
       "              'ev_revenue': 18},\n",
       "             1433270: {'roe': 18,\n",
       "              'roa': 18,\n",
       "              'roce': 18,\n",
       "              'gross_margin': 18,\n",
       "              'operating_profit_margin': 18,\n",
       "              'net_profit_margin': 18,\n",
       "              'debt_to_equity': 18,\n",
       "              'equity': 18,\n",
       "              'debt': 18,\n",
       "              'current': 18,\n",
       "              'quick': 17,\n",
       "              'cash': 17,\n",
       "              'times_interest_earned': 18,\n",
       "              'capex_to_operating_cash': 18,\n",
       "              'operating_cash_flow': 18,\n",
       "              'price_to_earnings': 18,\n",
       "              'ev_ebitda': 17,\n",
       "              'ev_ebit': 17,\n",
       "              'ev_revenue': 17},\n",
       "             66756: {'roe': 18,\n",
       "              'roa': 18,\n",
       "              'roce': 18,\n",
       "              'gross_margin': 18,\n",
       "              'operating_profit_margin': 18,\n",
       "              'net_profit_margin': 18,\n",
       "              'debt_to_equity': 18,\n",
       "              'equity': 18,\n",
       "              'debt': 18,\n",
       "              'current': 18,\n",
       "              'quick': 18,\n",
       "              'cash': 18,\n",
       "              'times_interest_earned': 18,\n",
       "              'capex_to_operating_cash': 18,\n",
       "              'operating_cash_flow': 18,\n",
       "              'price_to_earnings': 18,\n",
       "              'ev_ebitda': 18,\n",
       "              'ev_ebit': 18,\n",
       "              'ev_revenue': 18},\n",
       "             1658566: {'roe': 18,\n",
       "              'roa': 18,\n",
       "              'roce': 18,\n",
       "              'gross_margin': 18,\n",
       "              'operating_profit_margin': 18,\n",
       "              'net_profit_margin': 18,\n",
       "              'debt_to_equity': 18,\n",
       "              'equity': 18,\n",
       "              'debt': 17,\n",
       "              'current': 18,\n",
       "              'quick': 18,\n",
       "              'cash': 18,\n",
       "              'times_interest_earned': 18,\n",
       "              'capex_to_operating_cash': 18,\n",
       "              'operating_cash_flow': 18,\n",
       "              'price_to_earnings': 18,\n",
       "              'ev_ebitda': 16,\n",
       "              'ev_ebit': 16,\n",
       "              'ev_revenue': 16},\n",
       "             72903: {'roe': 18,\n",
       "              'roa': 18,\n",
       "              'roce': 18,\n",
       "              'gross_margin': 18,\n",
       "              'operating_profit_margin': 18,\n",
       "              'net_profit_margin': 18,\n",
       "              'debt_to_equity': 18,\n",
       "              'equity': 18,\n",
       "              'debt': 18,\n",
       "              'current': 18,\n",
       "              'quick': 18,\n",
       "              'cash': 18,\n",
       "              'times_interest_earned': 18,\n",
       "              'capex_to_operating_cash': 18,\n",
       "              'operating_cash_flow': 18,\n",
       "              'price_to_earnings': 18,\n",
       "              'ev_ebitda': 18,\n",
       "              'ev_ebit': 18,\n",
       "              'ev_revenue': 18},\n",
       "             1368265: {'roe': 18,\n",
       "              'roa': 18,\n",
       "              'roce': 18,\n",
       "              'gross_margin': 18,\n",
       "              'operating_profit_margin': 18,\n",
       "              'net_profit_margin': 18,\n",
       "              'debt_to_equity': 18,\n",
       "              'equity': 18,\n",
       "              'debt': 18,\n",
       "              'current': 18,\n",
       "              'quick': 18,\n",
       "              'cash': 18,\n",
       "              'times_interest_earned': 18,\n",
       "              'capex_to_operating_cash': 18,\n",
       "              'operating_cash_flow': 18,\n",
       "              'price_to_earnings': 18,\n",
       "              'ev_ebitda': 18,\n",
       "              'ev_ebit': 18,\n",
       "              'ev_revenue': 18},\n",
       "             1120970: {'roe': 18,\n",
       "              'roa': 18,\n",
       "              'roce': 18,\n",
       "              'gross_margin': 18,\n",
       "              'operating_profit_margin': 18,\n",
       "              'net_profit_margin': 18,\n",
       "              'debt_to_equity': 18,\n",
       "              'equity': 18,\n",
       "              'debt': 18,\n",
       "              'current': 18,\n",
       "              'quick': 4,\n",
       "              'cash': 18,\n",
       "              'times_interest_earned': 18,\n",
       "              'capex_to_operating_cash': 18,\n",
       "              'operating_cash_flow': 18,\n",
       "              'price_to_earnings': 18,\n",
       "              'ev_ebitda': 18,\n",
       "              'ev_ebit': 18,\n",
       "              'ev_revenue': 18},\n",
       "             1492691: {'roe': 18,\n",
       "              'roa': 18,\n",
       "              'roce': 18,\n",
       "              'gross_margin': 18,\n",
       "              'operating_profit_margin': 18,\n",
       "              'net_profit_margin': 18,\n",
       "              'debt_to_equity': 18,\n",
       "              'equity': 18,\n",
       "              'debt': 18,\n",
       "              'current': 18,\n",
       "              'quick': 18,\n",
       "              'cash': 18,\n",
       "              'times_interest_earned': 18,\n",
       "              'capex_to_operating_cash': 18,\n",
       "              'operating_cash_flow': 18,\n",
       "              'price_to_earnings': 18,\n",
       "              'ev_ebitda': 18,\n",
       "              'ev_ebit': 18,\n",
       "              'ev_revenue': 18},\n",
       "             702165: {'roe': 18,\n",
       "              'roa': 18,\n",
       "              'roce': 18,\n",
       "              'gross_margin': 18,\n",
       "              'operating_profit_margin': 18,\n",
       "              'net_profit_margin': 18,\n",
       "              'debt_to_equity': 18,\n",
       "              'equity': 18,\n",
       "              'debt': 18,\n",
       "              'current': 18,\n",
       "              'quick': 18,\n",
       "              'cash': 18,\n",
       "              'times_interest_earned': 18,\n",
       "              'capex_to_operating_cash': 18,\n",
       "              'operating_cash_flow': 18,\n",
       "              'price_to_earnings': 18,\n",
       "              'ev_ebitda': 18,\n",
       "              'ev_ebit': 18,\n",
       "              'ev_revenue': 18},\n",
       "             101594: {'roe': 16,\n",
       "              'roa': 16,\n",
       "              'roce': 16,\n",
       "              'gross_margin': 16,\n",
       "              'operating_profit_margin': 16,\n",
       "              'net_profit_margin': 16,\n",
       "              'debt_to_equity': 16,\n",
       "              'equity': 16,\n",
       "              'debt': 16,\n",
       "              'current': 16,\n",
       "              'quick': 16,\n",
       "              'cash': 16,\n",
       "              'times_interest_earned': 16,\n",
       "              'capex_to_operating_cash': 16,\n",
       "              'operating_cash_flow': 16,\n",
       "              'price_to_earnings': 16,\n",
       "              'ev_ebitda': 16,\n",
       "              'ev_ebit': 16,\n",
       "              'ev_revenue': 16},\n",
       "             1509589: {'roe': 16,\n",
       "              'roa': 16,\n",
       "              'roce': 16,\n",
       "              'gross_margin': 17,\n",
       "              'operating_profit_margin': 17,\n",
       "              'net_profit_margin': 17,\n",
       "              'debt_to_equity': 18,\n",
       "              'equity': 18,\n",
       "              'debt': 14,\n",
       "              'current': 18,\n",
       "              'quick': 18,\n",
       "              'cash': 18,\n",
       "              'times_interest_earned': 17,\n",
       "              'capex_to_operating_cash': 17,\n",
       "              'operating_cash_flow': 16,\n",
       "              'price_to_earnings': 16,\n",
       "              'ev_ebitda': 14,\n",
       "              'ev_ebit': 14,\n",
       "              'ev_revenue': 14},\n",
       "             1288403: {'roe': 18,\n",
       "              'roa': 18,\n",
       "              'roce': 18,\n",
       "              'gross_margin': 18,\n",
       "              'operating_profit_margin': 18,\n",
       "              'net_profit_margin': 18,\n",
       "              'debt_to_equity': 18,\n",
       "              'equity': 18,\n",
       "              'debt': 18,\n",
       "              'current': 18,\n",
       "              'quick': 18,\n",
       "              'cash': 18,\n",
       "              'times_interest_earned': 18,\n",
       "              'capex_to_operating_cash': 18,\n",
       "              'operating_cash_flow': 18,\n",
       "              'price_to_earnings': 18,\n",
       "              'ev_ebitda': 18,\n",
       "              'ev_ebit': 18,\n",
       "              'ev_revenue': 18},\n",
       "             92380: {'roe': 18,\n",
       "              'roa': 18,\n",
       "              'roce': 18,\n",
       "              'gross_margin': 18,\n",
       "              'operating_profit_margin': 18,\n",
       "              'net_profit_margin': 18,\n",
       "              'debt_to_equity': 18,\n",
       "              'equity': 18,\n",
       "              'debt': 18,\n",
       "              'current': 18,\n",
       "              'quick': 11,\n",
       "              'cash': 18,\n",
       "              'times_interest_earned': 18,\n",
       "              'capex_to_operating_cash': 18,\n",
       "              'operating_cash_flow': 18,\n",
       "              'price_to_earnings': 18,\n",
       "              'ev_ebitda': 18,\n",
       "              'ev_ebit': 18,\n",
       "              'ev_revenue': 18},\n",
       "             1340122: {'roe': 18,\n",
       "              'roa': 18,\n",
       "              'roce': 18,\n",
       "              'gross_margin': 18,\n",
       "              'operating_profit_margin': 18,\n",
       "              'net_profit_margin': 18,\n",
       "              'debt_to_equity': 18,\n",
       "              'equity': 18,\n",
       "              'debt': 18,\n",
       "              'current': 18,\n",
       "              'quick': 18,\n",
       "              'cash': 18,\n",
       "              'times_interest_earned': 18,\n",
       "              'capex_to_operating_cash': 18,\n",
       "              'operating_cash_flow': 18,\n",
       "              'price_to_earnings': 18,\n",
       "              'ev_ebitda': 18,\n",
       "              'ev_ebit': 18,\n",
       "              'ev_revenue': 18},\n",
       "             93410: {'roe': 18,\n",
       "              'roa': 18,\n",
       "              'roce': 18,\n",
       "              'gross_margin': 18,\n",
       "              'operating_profit_margin': 18,\n",
       "              'net_profit_margin': 18,\n",
       "              'debt_to_equity': 18,\n",
       "              'equity': 18,\n",
       "              'debt': 18,\n",
       "              'current': 18,\n",
       "              'quick': 18,\n",
       "              'cash': 18,\n",
       "              'times_interest_earned': 18,\n",
       "              'capex_to_operating_cash': 18,\n",
       "              'operating_cash_flow': 18,\n",
       "              'price_to_earnings': 18,\n",
       "              'ev_ebitda': 18,\n",
       "              'ev_ebit': 18,\n",
       "              'ev_revenue': 18},\n",
       "             1466593: {'roe': 18,\n",
       "              'roa': 18,\n",
       "              'roce': 18,\n",
       "              'gross_margin': 18,\n",
       "              'operating_profit_margin': 18,\n",
       "              'net_profit_margin': 18,\n",
       "              'debt_to_equity': 18,\n",
       "              'equity': 18,\n",
       "              'debt': 18,\n",
       "              'current': 18,\n",
       "              'quick': 16,\n",
       "              'cash': 16,\n",
       "              'times_interest_earned': 18,\n",
       "              'capex_to_operating_cash': 18,\n",
       "              'operating_cash_flow': 18,\n",
       "              'price_to_earnings': 18,\n",
       "              'ev_ebitda': 16,\n",
       "              'ev_ebit': 16,\n",
       "              'ev_revenue': 16},\n",
       "             1383650: {'roe': 18,\n",
       "              'roa': 18,\n",
       "              'roce': 18,\n",
       "              'gross_margin': 18,\n",
       "              'operating_profit_margin': 18,\n",
       "              'net_profit_margin': 18,\n",
       "              'debt_to_equity': 18,\n",
       "              'equity': 18,\n",
       "              'debt': 18,\n",
       "              'current': 18,\n",
       "              'quick': 9,\n",
       "              'cash': 9,\n",
       "              'times_interest_earned': 18,\n",
       "              'capex_to_operating_cash': 18,\n",
       "              'operating_cash_flow': 18,\n",
       "              'price_to_earnings': 18,\n",
       "              'ev_ebitda': 9,\n",
       "              'ev_ebit': 9,\n",
       "              'ev_revenue': 9},\n",
       "             1610466: {'roe': 18,\n",
       "              'roa': 18,\n",
       "              'roce': 18,\n",
       "              'gross_margin': 18,\n",
       "              'operating_profit_margin': 18,\n",
       "              'net_profit_margin': 18,\n",
       "              'debt_to_equity': 18,\n",
       "              'equity': 18,\n",
       "              'debt': 18,\n",
       "              'current': 18,\n",
       "              'quick': 18,\n",
       "              'cash': 18,\n",
       "              'times_interest_earned': 18,\n",
       "              'capex_to_operating_cash': 18,\n",
       "              'operating_cash_flow': 18,\n",
       "              'price_to_earnings': 18,\n",
       "              'ev_ebitda': 18,\n",
       "              'ev_ebit': 18,\n",
       "              'ev_revenue': 18},\n",
       "             716006: {'roe': 10,\n",
       "              'roa': 18,\n",
       "              'roce': 18,\n",
       "              'gross_margin': 18,\n",
       "              'operating_profit_margin': 18,\n",
       "              'net_profit_margin': 18,\n",
       "              'debt_to_equity': 10,\n",
       "              'equity': 10,\n",
       "              'debt': 18,\n",
       "              'current': 18,\n",
       "              'quick': 18,\n",
       "              'cash': 18,\n",
       "              'times_interest_earned': 18,\n",
       "              'capex_to_operating_cash': 18,\n",
       "              'operating_cash_flow': 18,\n",
       "              'price_to_earnings': 18,\n",
       "              'ev_ebitda': 18,\n",
       "              'ev_ebit': 18,\n",
       "              'ev_revenue': 18},\n",
       "             727273: {'roe': 18,\n",
       "              'roa': 18,\n",
       "              'roce': 18,\n",
       "              'gross_margin': 18,\n",
       "              'operating_profit_margin': 18,\n",
       "              'net_profit_margin': 18,\n",
       "              'debt_to_equity': 18,\n",
       "              'equity': 18,\n",
       "              'debt': 18,\n",
       "              'current': 18,\n",
       "              'quick': 18,\n",
       "              'cash': 18,\n",
       "              'times_interest_earned': 18,\n",
       "              'capex_to_operating_cash': 18,\n",
       "              'operating_cash_flow': 18,\n",
       "              'price_to_earnings': 18,\n",
       "              'ev_ebitda': 18,\n",
       "              'ev_ebit': 18,\n",
       "              'ev_revenue': 18},\n",
       "             883945: {'roe': 18,\n",
       "              'roa': 18,\n",
       "              'roce': 18,\n",
       "              'gross_margin': 18,\n",
       "              'operating_profit_margin': 18,\n",
       "              'net_profit_margin': 18,\n",
       "              'debt_to_equity': 18,\n",
       "              'equity': 18,\n",
       "              'debt': 18,\n",
       "              'current': 18,\n",
       "              'quick': 18,\n",
       "              'cash': 18,\n",
       "              'times_interest_earned': 18,\n",
       "              'capex_to_operating_cash': 18,\n",
       "              'operating_cash_flow': 18,\n",
       "              'price_to_earnings': 18,\n",
       "              'ev_ebitda': 18,\n",
       "              'ev_ebit': 18,\n",
       "              'ev_revenue': 18},\n",
       "             821483: {'roe': 18,\n",
       "              'roa': 18,\n",
       "              'roce': 18,\n",
       "              'gross_margin': 18,\n",
       "              'operating_profit_margin': 18,\n",
       "              'net_profit_margin': 18,\n",
       "              'debt_to_equity': 18,\n",
       "              'equity': 18,\n",
       "              'debt': 18,\n",
       "              'current': 18,\n",
       "              'quick': 18,\n",
       "              'cash': 18,\n",
       "              'times_interest_earned': 18,\n",
       "              'capex_to_operating_cash': 18,\n",
       "              'operating_cash_flow': 18,\n",
       "              'price_to_earnings': 18,\n",
       "              'ev_ebitda': 18,\n",
       "              'ev_ebit': 18,\n",
       "              'ev_revenue': 18},\n",
       "             917225: {'roe': 17,\n",
       "              'roa': 17,\n",
       "              'roce': 17,\n",
       "              'gross_margin': 18,\n",
       "              'operating_profit_margin': 18,\n",
       "              'net_profit_margin': 18,\n",
       "              'debt_to_equity': 17,\n",
       "              'equity': 17,\n",
       "              'debt': 10,\n",
       "              'current': 17,\n",
       "              'quick': 7,\n",
       "              'cash': 17,\n",
       "              'times_interest_earned': 15,\n",
       "              'capex_to_operating_cash': 16,\n",
       "              'operating_cash_flow': 17,\n",
       "              'price_to_earnings': 17,\n",
       "              'ev_ebitda': 10,\n",
       "              'ev_ebit': 10,\n",
       "              'ev_revenue': 10},\n",
       "             56047: {'roe': 18,\n",
       "              'roa': 18,\n",
       "              'roce': 18,\n",
       "              'gross_margin': 18,\n",
       "              'operating_profit_margin': 18,\n",
       "              'net_profit_margin': 18,\n",
       "              'debt_to_equity': 18,\n",
       "              'equity': 18,\n",
       "              'debt': 18,\n",
       "              'current': 18,\n",
       "              'quick': 18,\n",
       "              'cash': 18,\n",
       "              'times_interest_earned': 18,\n",
       "              'capex_to_operating_cash': 18,\n",
       "              'operating_cash_flow': 18,\n",
       "              'price_to_earnings': 18,\n",
       "              'ev_ebitda': 18,\n",
       "              'ev_ebit': 18,\n",
       "              'ev_revenue': 18},\n",
       "             1035002: {'roe': 18,\n",
       "              'roa': 18,\n",
       "              'roce': 18,\n",
       "              'gross_margin': 18,\n",
       "              'operating_profit_margin': 18,\n",
       "              'net_profit_margin': 18,\n",
       "              'debt_to_equity': 18,\n",
       "              'equity': 18,\n",
       "              'debt': 18,\n",
       "              'current': 18,\n",
       "              'quick': 18,\n",
       "              'cash': 18,\n",
       "              'times_interest_earned': 18,\n",
       "              'capex_to_operating_cash': 18,\n",
       "              'operating_cash_flow': 18,\n",
       "              'price_to_earnings': 18,\n",
       "              'ev_ebitda': 18,\n",
       "              'ev_ebit': 18,\n",
       "              'ev_revenue': 18},\n",
       "             1606909: {'roe': 18,\n",
       "              'roa': 18,\n",
       "              'roce': 18,\n",
       "              'gross_margin': 18,\n",
       "              'operating_profit_margin': 18,\n",
       "              'net_profit_margin': 18,\n",
       "              'debt_to_equity': 18,\n",
       "              'equity': 18,\n",
       "              'debt': 18,\n",
       "              'current': 18,\n",
       "              'quick': 18,\n",
       "              'cash': 18,\n",
       "              'times_interest_earned': 18,\n",
       "              'capex_to_operating_cash': 18,\n",
       "              'operating_cash_flow': 18,\n",
       "              'price_to_earnings': 18,\n",
       "              'ev_ebitda': 18,\n",
       "              'ev_ebit': 18,\n",
       "              'ev_revenue': 18},\n",
       "             1172222: {'roe': 18,\n",
       "              'roa': 18,\n",
       "              'roce': 18,\n",
       "              'gross_margin': 18,\n",
       "              'operating_profit_margin': 18,\n",
       "              'net_profit_margin': 18,\n",
       "              'debt_to_equity': 18,\n",
       "              'equity': 18,\n",
       "              'debt': 18,\n",
       "              'current': 18,\n",
       "              'quick': 18,\n",
       "              'cash': 18,\n",
       "              'times_interest_earned': 18,\n",
       "              'capex_to_operating_cash': 18,\n",
       "              'operating_cash_flow': 18,\n",
       "              'price_to_earnings': 18,\n",
       "              'ev_ebitda': 18,\n",
       "              'ev_ebit': 18,\n",
       "              'ev_revenue': 18},\n",
       "             1534701: {'roe': 18,\n",
       "              'roa': 18,\n",
       "              'roce': 18,\n",
       "              'gross_margin': 18,\n",
       "              'operating_profit_margin': 18,\n",
       "              'net_profit_margin': 18,\n",
       "              'debt_to_equity': 18,\n",
       "              'equity': 18,\n",
       "              'debt': 18,\n",
       "              'current': 18,\n",
       "              'quick': 18,\n",
       "              'cash': 18,\n",
       "              'times_interest_earned': 18,\n",
       "              'capex_to_operating_cash': 18,\n",
       "              'operating_cash_flow': 18,\n",
       "              'price_to_earnings': 18,\n",
       "              'ev_ebitda': 18,\n",
       "              'ev_ebit': 18,\n",
       "              'ev_revenue': 18},\n",
       "             27904: {'roe': 17,\n",
       "              'roa': 17,\n",
       "              'roce': 17,\n",
       "              'gross_margin': 17,\n",
       "              'operating_profit_margin': 17,\n",
       "              'net_profit_margin': 17,\n",
       "              'debt_to_equity': 17,\n",
       "              'equity': 17,\n",
       "              'debt': 17,\n",
       "              'current': 17,\n",
       "              'quick': 17,\n",
       "              'cash': 17,\n",
       "              'times_interest_earned': 17,\n",
       "              'capex_to_operating_cash': 17,\n",
       "              'operating_cash_flow': 17,\n",
       "              'price_to_earnings': 17,\n",
       "              'ev_ebitda': 17,\n",
       "              'ev_ebit': 17,\n",
       "              'ev_revenue': 17},\n",
       "             1539838: {'roe': 18,\n",
       "              'roa': 18,\n",
       "              'roce': 18,\n",
       "              'gross_margin': 18,\n",
       "              'operating_profit_margin': 18,\n",
       "              'net_profit_margin': 18,\n",
       "              'debt_to_equity': 18,\n",
       "              'equity': 18,\n",
       "              'debt': 18,\n",
       "              'current': 18,\n",
       "              'quick': 18,\n",
       "              'cash': 18,\n",
       "              'times_interest_earned': 18,\n",
       "              'capex_to_operating_cash': 18,\n",
       "              'operating_cash_flow': 18,\n",
       "              'price_to_earnings': 18,\n",
       "              'ev_ebitda': 18,\n",
       "              'ev_ebit': 18,\n",
       "              'ev_revenue': 18},\n",
       "             1362705: {'roe': 18,\n",
       "              'roa': 18,\n",
       "              'roce': 18,\n",
       "              'gross_margin': 18,\n",
       "              'operating_profit_margin': 18,\n",
       "              'net_profit_margin': 18,\n",
       "              'debt_to_equity': 18,\n",
       "              'equity': 18,\n",
       "              'debt': 18,\n",
       "              'current': 18,\n",
       "              'quick': 18,\n",
       "              'cash': 18,\n",
       "              'times_interest_earned': 18,\n",
       "              'capex_to_operating_cash': 18,\n",
       "              'operating_cash_flow': 18,\n",
       "              'price_to_earnings': 18,\n",
       "              'ev_ebitda': 18,\n",
       "              'ev_ebit': 18,\n",
       "              'ev_revenue': 18},\n",
       "             40211: {'roe': 18,\n",
       "              'roa': 18,\n",
       "              'roce': 18,\n",
       "              'gross_margin': 18,\n",
       "              'operating_profit_margin': 18,\n",
       "              'net_profit_margin': 18,\n",
       "              'debt_to_equity': 18,\n",
       "              'equity': 18,\n",
       "              'debt': 18,\n",
       "              'current': 18,\n",
       "              'quick': 18,\n",
       "              'cash': 18,\n",
       "              'times_interest_earned': 18,\n",
       "              'capex_to_operating_cash': 18,\n",
       "              'operating_cash_flow': 18,\n",
       "              'price_to_earnings': 18,\n",
       "              'ev_ebitda': 18,\n",
       "              'ev_ebit': 18,\n",
       "              'ev_revenue': 18},\n",
       "             928022: {'roe': 18,\n",
       "              'roa': 18,\n",
       "              'roce': 18,\n",
       "              'gross_margin': 18,\n",
       "              'operating_profit_margin': 18,\n",
       "              'net_profit_margin': 18,\n",
       "              'debt_to_equity': 18,\n",
       "              'equity': 18,\n",
       "              'debt': 18,\n",
       "              'current': 18,\n",
       "              'quick': 18,\n",
       "              'cash': 18,\n",
       "              'times_interest_earned': 18,\n",
       "              'capex_to_operating_cash': 18,\n",
       "              'operating_cash_flow': 18,\n",
       "              'price_to_earnings': 18,\n",
       "              'ev_ebitda': 18,\n",
       "              'ev_ebit': 18,\n",
       "              'ev_revenue': 18},\n",
       "             831259: {'roe': 18,\n",
       "              'roa': 18,\n",
       "              'roce': 18,\n",
       "              'gross_margin': 18,\n",
       "              'operating_profit_margin': 18,\n",
       "              'net_profit_margin': 18,\n",
       "              'debt_to_equity': 18,\n",
       "              'equity': 18,\n",
       "              'debt': 18,\n",
       "              'current': 18,\n",
       "              'quick': 18,\n",
       "              'cash': 18,\n",
       "              'times_interest_earned': 18,\n",
       "              'capex_to_operating_cash': 18,\n",
       "              'operating_cash_flow': 18,\n",
       "              'price_to_earnings': 18,\n",
       "              'ev_ebitda': 18,\n",
       "              'ev_ebit': 18,\n",
       "              'ev_revenue': 18},\n",
       "             844059: {'roe': 18,\n",
       "              'roa': 18,\n",
       "              'roce': 18,\n",
       "              'gross_margin': 18,\n",
       "              'operating_profit_margin': 18,\n",
       "              'net_profit_margin': 18,\n",
       "              'debt_to_equity': 18,\n",
       "              'equity': 18,\n",
       "              'debt': 18,\n",
       "              'current': 18,\n",
       "              'quick': 18,\n",
       "              'cash': 18,\n",
       "              'times_interest_earned': 18,\n",
       "              'capex_to_operating_cash': 18,\n",
       "              'operating_cash_flow': 18,\n",
       "              'price_to_earnings': 18,\n",
       "              'ev_ebitda': 18,\n",
       "              'ev_ebit': 18,\n",
       "              'ev_revenue': 18},\n",
       "             19745: {'roe': 18,\n",
       "              'roa': 18,\n",
       "              'roce': 18,\n",
       "              'gross_margin': 18,\n",
       "              'operating_profit_margin': 18,\n",
       "              'net_profit_margin': 18,\n",
       "              'debt_to_equity': 18,\n",
       "              'equity': 18,\n",
       "              'debt': 18,\n",
       "              'current': 18,\n",
       "              'quick': 18,\n",
       "              'cash': 18,\n",
       "              'times_interest_earned': 18,\n",
       "              'capex_to_operating_cash': 18,\n",
       "              'operating_cash_flow': 18,\n",
       "              'price_to_earnings': 18,\n",
       "              'ev_ebitda': 18,\n",
       "              'ev_ebit': 18,\n",
       "              'ev_revenue': 18},\n",
       "             1529628: {'roe': 18,\n",
       "              'roa': 18,\n",
       "              'roce': 18,\n",
       "              'gross_margin': 18,\n",
       "              'operating_profit_margin': 18,\n",
       "              'net_profit_margin': 18,\n",
       "              'debt_to_equity': 18,\n",
       "              'equity': 18,\n",
       "              'debt': 18,\n",
       "              'current': 18,\n",
       "              'quick': 18,\n",
       "              'cash': 18,\n",
       "              'times_interest_earned': 18,\n",
       "              'capex_to_operating_cash': 18,\n",
       "              'operating_cash_flow': 18,\n",
       "              'price_to_earnings': 18,\n",
       "              'ev_ebitda': 18,\n",
       "              'ev_ebit': 18,\n",
       "              'ev_revenue': 18},\n",
       "             1513761: {'roe': 18,\n",
       "              'roa': 18,\n",
       "              'roce': 18,\n",
       "              'gross_margin': 18,\n",
       "              'operating_profit_margin': 18,\n",
       "              'net_profit_margin': 18,\n",
       "              'debt_to_equity': 18,\n",
       "              'equity': 18,\n",
       "              'debt': 18,\n",
       "              'current': 18,\n",
       "              'quick': 18,\n",
       "              'cash': 18,\n",
       "              'times_interest_earned': 18,\n",
       "              'capex_to_operating_cash': 18,\n",
       "              'operating_cash_flow': 18,\n",
       "              'price_to_earnings': 18,\n",
       "              'ev_ebitda': 18,\n",
       "              'ev_ebit': 18,\n",
       "              'ev_revenue': 18},\n",
       "             1000229: {'roe': 18,\n",
       "              'roa': 18,\n",
       "              'roce': 18,\n",
       "              'gross_margin': 11,\n",
       "              'operating_profit_margin': 11,\n",
       "              'net_profit_margin': 11,\n",
       "              'debt_to_equity': 18,\n",
       "              'equity': 18,\n",
       "              'debt': 18,\n",
       "              'current': 18,\n",
       "              'quick': 18,\n",
       "              'cash': 18,\n",
       "              'times_interest_earned': 18,\n",
       "              'capex_to_operating_cash': 18,\n",
       "              'operating_cash_flow': 18,\n",
       "              'price_to_earnings': 18,\n",
       "              'ev_ebitda': 18,\n",
       "              'ev_ebit': 18,\n",
       "              'ev_revenue': 11},\n",
       "             1396009: {'roe': 18,\n",
       "              'roa': 18,\n",
       "              'roce': 18,\n",
       "              'gross_margin': 18,\n",
       "              'operating_profit_margin': 18,\n",
       "              'net_profit_margin': 18,\n",
       "              'debt_to_equity': 18,\n",
       "              'equity': 18,\n",
       "              'debt': 18,\n",
       "              'current': 18,\n",
       "              'quick': 18,\n",
       "              'cash': 18,\n",
       "              'times_interest_earned': 18,\n",
       "              'capex_to_operating_cash': 18,\n",
       "              'operating_cash_flow': 18,\n",
       "              'price_to_earnings': 18,\n",
       "              'ev_ebitda': 18,\n",
       "              'ev_ebit': 18,\n",
       "              'ev_revenue': 18},\n",
       "             866609: {'roe': 18,\n",
       "              'roa': 18,\n",
       "              'roce': 18,\n",
       "              'gross_margin': 18,\n",
       "              'operating_profit_margin': 18,\n",
       "              'net_profit_margin': 18,\n",
       "              'debt_to_equity': 18,\n",
       "              'equity': 18,\n",
       "              'debt': 18,\n",
       "              'current': 18,\n",
       "              'quick': 11,\n",
       "              'cash': 18,\n",
       "              'times_interest_earned': 18,\n",
       "              'capex_to_operating_cash': 18,\n",
       "              'operating_cash_flow': 18,\n",
       "              'price_to_earnings': 18,\n",
       "              'ev_ebitda': 18,\n",
       "              'ev_ebit': 18,\n",
       "              'ev_revenue': 18},\n",
       "             87347: {'roe': 18,\n",
       "              'roa': 18,\n",
       "              'roce': 18,\n",
       "              'gross_margin': 18,\n",
       "              'operating_profit_margin': 18,\n",
       "              'net_profit_margin': 18,\n",
       "              'debt_to_equity': 18,\n",
       "              'equity': 18,\n",
       "              'debt': 18,\n",
       "              'current': 18,\n",
       "              'quick': 18,\n",
       "              'cash': 18,\n",
       "              'times_interest_earned': 18,\n",
       "              'capex_to_operating_cash': 18,\n",
       "              'operating_cash_flow': 18,\n",
       "              'price_to_earnings': 18,\n",
       "              'ev_ebitda': 18,\n",
       "              'ev_ebit': 18,\n",
       "              'ev_revenue': 18},\n",
       "             1011509: {'roe': 18,\n",
       "              'roa': 18,\n",
       "              'roce': 18,\n",
       "              'gross_margin': 18,\n",
       "              'operating_profit_margin': 18,\n",
       "              'net_profit_margin': 18,\n",
       "              'debt_to_equity': 18,\n",
       "              'equity': 18,\n",
       "              'debt': 6,\n",
       "              'current': 18,\n",
       "              'quick': 18,\n",
       "              'cash': 18,\n",
       "              'times_interest_earned': 14,\n",
       "              'capex_to_operating_cash': 16,\n",
       "              'operating_cash_flow': 18,\n",
       "              'price_to_earnings': 18,\n",
       "              'ev_ebitda': 6,\n",
       "              'ev_ebit': 6,\n",
       "              'ev_revenue': 6},\n",
       "             853816: {'roe': 16,\n",
       "              'roa': 16,\n",
       "              'roce': 16,\n",
       "              'gross_margin': 16,\n",
       "              'operating_profit_margin': 16,\n",
       "              'net_profit_margin': 16,\n",
       "              'debt_to_equity': 16,\n",
       "              'equity': 16,\n",
       "              'debt': 16,\n",
       "              'current': 16,\n",
       "              'quick': 16,\n",
       "              'cash': 16,\n",
       "              'times_interest_earned': 16,\n",
       "              'capex_to_operating_cash': 16,\n",
       "              'operating_cash_flow': 16,\n",
       "              'price_to_earnings': 16,\n",
       "              'ev_ebitda': 16,\n",
       "              'ev_ebit': 16,\n",
       "              'ev_revenue': 16},\n",
       "             755001: {'roe': 18,\n",
       "              'roa': 18,\n",
       "              'roce': 18,\n",
       "              'gross_margin': 18,\n",
       "              'operating_profit_margin': 18,\n",
       "              'net_profit_margin': 18,\n",
       "              'debt_to_equity': 18,\n",
       "              'equity': 18,\n",
       "              'debt': 18,\n",
       "              'current': 18,\n",
       "              'quick': 18,\n",
       "              'cash': 18,\n",
       "              'times_interest_earned': 18,\n",
       "              'capex_to_operating_cash': 18,\n",
       "              'operating_cash_flow': 18,\n",
       "              'price_to_earnings': 18,\n",
       "              'ev_ebitda': 18,\n",
       "              'ev_ebit': 18,\n",
       "              'ev_revenue': 18},\n",
       "             1158463: {'roe': 18,\n",
       "              'roa': 18,\n",
       "              'roce': 18,\n",
       "              'gross_margin': 18,\n",
       "              'operating_profit_margin': 18,\n",
       "              'net_profit_margin': 18,\n",
       "              'debt_to_equity': 18,\n",
       "              'equity': 18,\n",
       "              'debt': 18,\n",
       "              'current': 18,\n",
       "              'quick': 18,\n",
       "              'cash': 18,\n",
       "              'times_interest_earned': 18,\n",
       "              'capex_to_operating_cash': 18,\n",
       "              'operating_cash_flow': 18,\n",
       "              'price_to_earnings': 18,\n",
       "              'ev_ebitda': 18,\n",
       "              'ev_ebit': 18,\n",
       "              'ev_revenue': 18},\n",
       "             798528: {'roe': 18,\n",
       "              'roa': 18,\n",
       "              'roce': 18,\n",
       "              'gross_margin': 18,\n",
       "              'operating_profit_margin': 18,\n",
       "              'net_profit_margin': 18,\n",
       "              'debt_to_equity': 18,\n",
       "              'equity': 18,\n",
       "              'debt': 18,\n",
       "              'current': 18,\n",
       "              'quick': 18,\n",
       "              'cash': 18,\n",
       "              'times_interest_earned': 18,\n",
       "              'capex_to_operating_cash': 18,\n",
       "              'operating_cash_flow': 18,\n",
       "              'price_to_earnings': 18,\n",
       "              'ev_ebitda': 18,\n",
       "              'ev_ebit': 18,\n",
       "              'ev_revenue': 18},\n",
       "             1528129: {'roe': 18,\n",
       "              'roa': 18,\n",
       "              'roce': 18,\n",
       "              'gross_margin': 18,\n",
       "              'operating_profit_margin': 18,\n",
       "              'net_profit_margin': 18,\n",
       "              'debt_to_equity': 18,\n",
       "              'equity': 18,\n",
       "              'debt': 18,\n",
       "              'current': 18,\n",
       "              'quick': 18,\n",
       "              'cash': 18,\n",
       "              'times_interest_earned': 18,\n",
       "              'capex_to_operating_cash': 18,\n",
       "              'operating_cash_flow': 18,\n",
       "              'price_to_earnings': 18,\n",
       "              'ev_ebitda': 18,\n",
       "              'ev_ebit': 18,\n",
       "              'ev_revenue': 18},\n",
       "             911177: {'roe': 18,\n",
       "              'roa': 18,\n",
       "              'roce': 18,\n",
       "              'gross_margin': 18,\n",
       "              'operating_profit_margin': 18,\n",
       "              'net_profit_margin': 18,\n",
       "              'debt_to_equity': 18,\n",
       "              'equity': 18,\n",
       "              'debt': 18,\n",
       "              'current': 18,\n",
       "              'quick': 18,\n",
       "              'cash': 18,\n",
       "              'times_interest_earned': 18,\n",
       "              'capex_to_operating_cash': 18,\n",
       "              'operating_cash_flow': 18,\n",
       "              'price_to_earnings': 18,\n",
       "              'ev_ebitda': 18,\n",
       "              'ev_ebit': 18,\n",
       "              'ev_revenue': 18},\n",
       "             1070412: {'roe': 18,\n",
       "              'roa': 18,\n",
       "              'roce': 18,\n",
       "              'gross_margin': 18,\n",
       "              'operating_profit_margin': 18,\n",
       "              'net_profit_margin': 18,\n",
       "              'debt_to_equity': 18,\n",
       "              'equity': 18,\n",
       "              'debt': 18,\n",
       "              'current': 18,\n",
       "              'quick': 18,\n",
       "              'cash': 18,\n",
       "              'times_interest_earned': 18,\n",
       "              'capex_to_operating_cash': 18,\n",
       "              'operating_cash_flow': 18,\n",
       "              'price_to_earnings': 18,\n",
       "              'ev_ebitda': 18,\n",
       "              'ev_ebit': 18,\n",
       "              'ev_revenue': 18},\n",
       "             1075531: {'roe': 18,\n",
       "              'roa': 18,\n",
       "              'roce': 18,\n",
       "              'gross_margin': 18,\n",
       "              'operating_profit_margin': 18,\n",
       "              'net_profit_margin': 18,\n",
       "              'debt_to_equity': 18,\n",
       "              'equity': 18,\n",
       "              'debt': 18,\n",
       "              'current': 18,\n",
       "              'quick': 18,\n",
       "              'cash': 18,\n",
       "              'times_interest_earned': 18,\n",
       "              'capex_to_operating_cash': 18,\n",
       "              'operating_cash_flow': 18,\n",
       "              'price_to_earnings': 18,\n",
       "              'ev_ebitda': 18,\n",
       "              'ev_ebit': 18,\n",
       "              'ev_revenue': 18},\n",
       "             1043277: {'roe': 18,\n",
       "              'roa': 18,\n",
       "              'roce': 18,\n",
       "              'gross_margin': 18,\n",
       "              'operating_profit_margin': 18,\n",
       "              'net_profit_margin': 18,\n",
       "              'debt_to_equity': 18,\n",
       "              'equity': 18,\n",
       "              'debt': 18,\n",
       "              'current': 18,\n",
       "              'quick': 18,\n",
       "              'cash': 18,\n",
       "              'times_interest_earned': 18,\n",
       "              'capex_to_operating_cash': 18,\n",
       "              'operating_cash_flow': 18,\n",
       "              'price_to_earnings': 18,\n",
       "              'ev_ebitda': 18,\n",
       "              'ev_ebit': 18,\n",
       "              'ev_revenue': 18},\n",
       "             1039684: {'roe': 18,\n",
       "              'roa': 18,\n",
       "              'roce': 18,\n",
       "              'gross_margin': 18,\n",
       "              'operating_profit_margin': 18,\n",
       "              'net_profit_margin': 18,\n",
       "              'debt_to_equity': 18,\n",
       "              'equity': 18,\n",
       "              'debt': 18,\n",
       "              'current': 18,\n",
       "              'quick': 18,\n",
       "              'cash': 18,\n",
       "              'times_interest_earned': 18,\n",
       "              'capex_to_operating_cash': 18,\n",
       "              'operating_cash_flow': 18,\n",
       "              'price_to_earnings': 18,\n",
       "              'ev_ebitda': 18,\n",
       "              'ev_ebit': 18,\n",
       "              'ev_revenue': 18},\n",
       "             878927: {'roe': 18,\n",
       "              'roa': 18,\n",
       "              'roce': 18,\n",
       "              'gross_margin': 18,\n",
       "              'operating_profit_margin': 18,\n",
       "              'net_profit_margin': 18,\n",
       "              'debt_to_equity': 18,\n",
       "              'equity': 18,\n",
       "              'debt': 18,\n",
       "              'current': 18,\n",
       "              'quick': 18,\n",
       "              'cash': 18,\n",
       "              'times_interest_earned': 18,\n",
       "              'capex_to_operating_cash': 18,\n",
       "              'operating_cash_flow': 18,\n",
       "              'price_to_earnings': 18,\n",
       "              'ev_ebitda': 18,\n",
       "              'ev_ebit': 18,\n",
       "              'ev_revenue': 18},\n",
       "             314203: {'roe': 18,\n",
       "              'roa': 18,\n",
       "              'roce': 18,\n",
       "              'gross_margin': 18,\n",
       "              'operating_profit_margin': 18,\n",
       "              'net_profit_margin': 18,\n",
       "              'debt_to_equity': 18,\n",
       "              'equity': 18,\n",
       "              'debt': 12,\n",
       "              'current': 18,\n",
       "              'quick': 18,\n",
       "              'cash': 18,\n",
       "              'times_interest_earned': 18,\n",
       "              'capex_to_operating_cash': 18,\n",
       "              'operating_cash_flow': 18,\n",
       "              'price_to_earnings': 18,\n",
       "              'ev_ebitda': 12,\n",
       "              'ev_ebit': 12,\n",
       "              'ev_revenue': 12},\n",
       "             858470: {'roe': 18,\n",
       "              'roa': 18,\n",
       "              'roce': 18,\n",
       "              'gross_margin': 18,\n",
       "              'operating_profit_margin': 18,\n",
       "              'net_profit_margin': 18,\n",
       "              'debt_to_equity': 18,\n",
       "              'equity': 18,\n",
       "              'debt': 18,\n",
       "              'current': 18,\n",
       "              'quick': 18,\n",
       "              'cash': 18,\n",
       "              'times_interest_earned': 18,\n",
       "              'capex_to_operating_cash': 18,\n",
       "              'operating_cash_flow': 18,\n",
       "              'price_to_earnings': 18,\n",
       "              'ev_ebitda': 4,\n",
       "              'ev_ebit': 18,\n",
       "              'ev_revenue': 18},\n",
       "             1070423: {'roe': 18,\n",
       "              'roa': 18,\n",
       "              'roce': 18,\n",
       "              'gross_margin': 18,\n",
       "              'operating_profit_margin': 18,\n",
       "              'net_profit_margin': 18,\n",
       "              'debt_to_equity': 18,\n",
       "              'equity': 18,\n",
       "              'debt': 18,\n",
       "              'current': 18,\n",
       "              'quick': 18,\n",
       "              'cash': 18,\n",
       "              'times_interest_earned': 18,\n",
       "              'capex_to_operating_cash': 18,\n",
       "              'operating_cash_flow': 18,\n",
       "              'price_to_earnings': 18,\n",
       "              'ev_ebitda': 18,\n",
       "              'ev_ebit': 18,\n",
       "              'ev_revenue': 18},\n",
       "             1061219: {'roe': 18,\n",
       "              'roa': 18,\n",
       "              'roce': 18,\n",
       "              'gross_margin': 18,\n",
       "              'operating_profit_margin': 18,\n",
       "              'net_profit_margin': 18,\n",
       "              'debt_to_equity': 18,\n",
       "              'equity': 18,\n",
       "              'debt': 18,\n",
       "              'current': 18,\n",
       "              'quick': 18,\n",
       "              'cash': 18,\n",
       "              'times_interest_earned': 18,\n",
       "              'capex_to_operating_cash': 18,\n",
       "              'operating_cash_flow': 18,\n",
       "              'price_to_earnings': 18,\n",
       "              'ev_ebitda': 18,\n",
       "              'ev_ebit': 18,\n",
       "              'ev_revenue': 18},\n",
       "             77159: {'roe': 18,\n",
       "              'roa': 18,\n",
       "              'roce': 18,\n",
       "              'gross_margin': 18,\n",
       "              'operating_profit_margin': 18,\n",
       "              'net_profit_margin': 18,\n",
       "              'debt_to_equity': 18,\n",
       "              'equity': 18,\n",
       "              'debt': 18,\n",
       "              'current': 18,\n",
       "              'quick': 18,\n",
       "              'cash': 18,\n",
       "              'times_interest_earned': 18,\n",
       "              'capex_to_operating_cash': 18,\n",
       "              'operating_cash_flow': 18,\n",
       "              'price_to_earnings': 18,\n",
       "              'ev_ebitda': 7,\n",
       "              'ev_ebit': 18,\n",
       "              'ev_revenue': 18},\n",
       "             766829: {'roe': 18,\n",
       "              'roa': 18,\n",
       "              'roce': 18,\n",
       "              'gross_margin': 18,\n",
       "              'operating_profit_margin': 18,\n",
       "              'net_profit_margin': 18,\n",
       "              'debt_to_equity': 18,\n",
       "              'equity': 18,\n",
       "              'debt': 18,\n",
       "              'current': 18,\n",
       "              'quick': 18,\n",
       "              'cash': 18,\n",
       "              'times_interest_earned': 18,\n",
       "              'capex_to_operating_cash': 18,\n",
       "              'operating_cash_flow': 18,\n",
       "              'price_to_earnings': 18,\n",
       "              'ev_ebitda': 18,\n",
       "              'ev_ebit': 18,\n",
       "              'ev_revenue': 18},\n",
       "             1001838: {'roe': 18,\n",
       "              'roa': 18,\n",
       "              'roce': 18,\n",
       "              'gross_margin': 18,\n",
       "              'operating_profit_margin': 18,\n",
       "              'net_profit_margin': 18,\n",
       "              'debt_to_equity': 18,\n",
       "              'equity': 18,\n",
       "              'debt': 18,\n",
       "              'current': 18,\n",
       "              'quick': 18,\n",
       "              'cash': 18,\n",
       "              'times_interest_earned': 18,\n",
       "              'capex_to_operating_cash': 18,\n",
       "              'operating_cash_flow': 18,\n",
       "              'price_to_earnings': 18,\n",
       "              'ev_ebitda': 18,\n",
       "              'ev_ebit': 18,\n",
       "              'ev_revenue': 18},\n",
       "             1623925: {'roe': 18,\n",
       "              'roa': 18,\n",
       "              'roce': 18,\n",
       "              'gross_margin': 18,\n",
       "              'operating_profit_margin': 18,\n",
       "              'net_profit_margin': 18,\n",
       "              'debt_to_equity': 18,\n",
       "              'equity': 18,\n",
       "              'debt': 13,\n",
       "              'current': 18,\n",
       "              'quick': 18,\n",
       "              'cash': 18,\n",
       "              'times_interest_earned': 18,\n",
       "              'capex_to_operating_cash': 18,\n",
       "              'operating_cash_flow': 18,\n",
       "              'price_to_earnings': 18,\n",
       "              'ev_ebitda': 13,\n",
       "              'ev_ebit': 13,\n",
       "              'ev_revenue': 13},\n",
       "             1385849: {'roe': 18,\n",
       "              'roa': 18,\n",
       "              'roce': 18,\n",
       "              'gross_margin': 18,\n",
       "              'operating_profit_margin': 18,\n",
       "              'net_profit_margin': 18,\n",
       "              'debt_to_equity': 18,\n",
       "              'equity': 18,\n",
       "              'debt': 18,\n",
       "              'current': 18,\n",
       "              'quick': 15,\n",
       "              'cash': 18,\n",
       "              'times_interest_earned': 18,\n",
       "              'capex_to_operating_cash': 14,\n",
       "              'operating_cash_flow': 18,\n",
       "              'price_to_earnings': 18,\n",
       "              'ev_ebitda': 18,\n",
       "              'ev_ebit': 18,\n",
       "              'ev_revenue': 18},\n",
       "             3453: {'roe': 18,\n",
       "              'roa': 18,\n",
       "              'roce': 18,\n",
       "              'gross_margin': 18,\n",
       "              'operating_profit_margin': 18,\n",
       "              'net_profit_margin': 18,\n",
       "              'debt_to_equity': 18,\n",
       "              'equity': 18,\n",
       "              'debt': 18,\n",
       "              'current': 18,\n",
       "              'quick': 18,\n",
       "              'cash': 18,\n",
       "              'times_interest_earned': 18,\n",
       "              'capex_to_operating_cash': 18,\n",
       "              'operating_cash_flow': 18,\n",
       "              'price_to_earnings': 18,\n",
       "              'ev_ebitda': 18,\n",
       "              'ev_ebit': 18,\n",
       "              'ev_revenue': 18},\n",
       "             7039: {'roe': 18,\n",
       "              'roa': 18,\n",
       "              'roce': 18,\n",
       "              'gross_margin': 18,\n",
       "              'operating_profit_margin': 18,\n",
       "              'net_profit_margin': 18,\n",
       "              'debt_to_equity': 18,\n",
       "              'equity': 18,\n",
       "              'debt': 18,\n",
       "              'current': 18,\n",
       "              'quick': 18,\n",
       "              'cash': 18,\n",
       "              'times_interest_earned': 18,\n",
       "              'capex_to_operating_cash': 18,\n",
       "              'operating_cash_flow': 18,\n",
       "              'price_to_earnings': 18,\n",
       "              'ev_ebitda': 18,\n",
       "              'ev_ebit': 18,\n",
       "              'ev_revenue': 18},\n",
       "             742278: {'roe': 18,\n",
       "              'roa': 18,\n",
       "              'roce': 18,\n",
       "              'gross_margin': 18,\n",
       "              'operating_profit_margin': 18,\n",
       "              'net_profit_margin': 18,\n",
       "              'debt_to_equity': 18,\n",
       "              'equity': 18,\n",
       "              'debt': 10,\n",
       "              'current': 18,\n",
       "              'quick': 18,\n",
       "              'cash': 18,\n",
       "              'times_interest_earned': 18,\n",
       "              'capex_to_operating_cash': 18,\n",
       "              'operating_cash_flow': 18,\n",
       "              'price_to_earnings': 18,\n",
       "              'ev_ebitda': 10,\n",
       "              'ev_ebit': 10,\n",
       "              'ev_revenue': 10},\n",
       "             1227654: {'roe': 17,\n",
       "              'roa': 17,\n",
       "              'roce': 17,\n",
       "              'gross_margin': 17,\n",
       "              'operating_profit_margin': 17,\n",
       "              'net_profit_margin': 17,\n",
       "              'debt_to_equity': 17,\n",
       "              'equity': 17,\n",
       "              'debt': 17,\n",
       "              'current': 17,\n",
       "              'quick': 17,\n",
       "              'cash': 17,\n",
       "              'times_interest_earned': 17,\n",
       "              'capex_to_operating_cash': 17,\n",
       "              'operating_cash_flow': 17,\n",
       "              'price_to_earnings': 17,\n",
       "              'ev_ebitda': 17,\n",
       "              'ev_ebit': 17,\n",
       "              'ev_revenue': 17},\n",
       "             1324424: {'roe': 18,\n",
       "              'roa': 18,\n",
       "              'roce': 18,\n",
       "              'gross_margin': 18,\n",
       "              'operating_profit_margin': 18,\n",
       "              'net_profit_margin': 18,\n",
       "              'debt_to_equity': 18,\n",
       "              'equity': 18,\n",
       "              'debt': 18,\n",
       "              'current': 18,\n",
       "              'quick': 18,\n",
       "              'cash': 18,\n",
       "              'times_interest_earned': 18,\n",
       "              'capex_to_operating_cash': 18,\n",
       "              'operating_cash_flow': 18,\n",
       "              'price_to_earnings': 18,\n",
       "              'ev_ebitda': 18,\n",
       "              'ev_ebit': 18,\n",
       "              'ev_revenue': 18},\n",
       "             73088: {'roe': 18,\n",
       "              'roa': 18,\n",
       "              'roce': 18,\n",
       "              'gross_margin': 18,\n",
       "              'operating_profit_margin': 18,\n",
       "              'net_profit_margin': 18,\n",
       "              'debt_to_equity': 18,\n",
       "              'equity': 18,\n",
       "              'debt': 18,\n",
       "              'current': 18,\n",
       "              'quick': 18,\n",
       "              'cash': 18,\n",
       "              'times_interest_earned': 18,\n",
       "              'capex_to_operating_cash': 18,\n",
       "              'operating_cash_flow': 18,\n",
       "              'price_to_earnings': 18,\n",
       "              'ev_ebitda': 18,\n",
       "              'ev_ebit': 18,\n",
       "              'ev_revenue': 18},\n",
       "             1520006: {'roe': 18,\n",
       "              'roa': 18,\n",
       "              'roce': 18,\n",
       "              'gross_margin': 18,\n",
       "              'operating_profit_margin': 18,\n",
       "              'net_profit_margin': 18,\n",
       "              'debt_to_equity': 18,\n",
       "              'equity': 18,\n",
       "              'debt': 18,\n",
       "              'current': 18,\n",
       "              'quick': 18,\n",
       "              'cash': 18,\n",
       "              'times_interest_earned': 18,\n",
       "              'capex_to_operating_cash': 18,\n",
       "              'operating_cash_flow': 18,\n",
       "              'price_to_earnings': 18,\n",
       "              'ev_ebitda': 18,\n",
       "              'ev_ebit': 18,\n",
       "              'ev_revenue': 18},\n",
       "             1376139: {'roe': 18,\n",
       "              'roa': 18,\n",
       "              'roce': 18,\n",
       "              'gross_margin': 18,\n",
       "              'operating_profit_margin': 18,\n",
       "              'net_profit_margin': 18,\n",
       "              'debt_to_equity': 18,\n",
       "              'equity': 18,\n",
       "              'debt': 18,\n",
       "              'current': 18,\n",
       "              'quick': 18,\n",
       "              'cash': 18,\n",
       "              'times_interest_earned': 18,\n",
       "              'capex_to_operating_cash': 18,\n",
       "              'operating_cash_flow': 18,\n",
       "              'price_to_earnings': 18,\n",
       "              'ev_ebitda': 18,\n",
       "              'ev_ebit': 18,\n",
       "              'ev_revenue': 18},\n",
       "             940942: {'roe': 18,\n",
       "              'roa': 18,\n",
       "              'roce': 18,\n",
       "              'gross_margin': 18,\n",
       "              'operating_profit_margin': 18,\n",
       "              'net_profit_margin': 18,\n",
       "              'debt_to_equity': 18,\n",
       "              'equity': 18,\n",
       "              'debt': 18,\n",
       "              'current': 18,\n",
       "              'quick': 18,\n",
       "              'cash': 18,\n",
       "              'times_interest_earned': 18,\n",
       "              'capex_to_operating_cash': 18,\n",
       "              'operating_cash_flow': 18,\n",
       "              'price_to_earnings': 18,\n",
       "              'ev_ebitda': 18,\n",
       "              'ev_ebit': 18,\n",
       "              'ev_revenue': 18},\n",
       "             101778: {'roe': 18,\n",
       "              'roa': 18,\n",
       "              'roce': 18,\n",
       "              'gross_margin': 18,\n",
       "              'operating_profit_margin': 18,\n",
       "              'net_profit_margin': 18,\n",
       "              'debt_to_equity': 18,\n",
       "              'equity': 18,\n",
       "              'debt': 18,\n",
       "              'current': 18,\n",
       "              'quick': 18,\n",
       "              'cash': 18,\n",
       "              'times_interest_earned': 15,\n",
       "              'capex_to_operating_cash': 18,\n",
       "              'operating_cash_flow': 18,\n",
       "              'price_to_earnings': 18,\n",
       "              'ev_ebitda': 18,\n",
       "              'ev_ebit': 18,\n",
       "              'ev_revenue': 18},\n",
       "             928658: {'roe': 18,\n",
       "              'roa': 18,\n",
       "              'roce': 18,\n",
       "              'gross_margin': 18,\n",
       "              'operating_profit_margin': 18,\n",
       "              'net_profit_margin': 18,\n",
       "              'debt_to_equity': 18,\n",
       "              'equity': 18,\n",
       "              'debt': 18,\n",
       "              'current': 18,\n",
       "              'quick': 18,\n",
       "              'cash': 18,\n",
       "              'times_interest_earned': 18,\n",
       "              'capex_to_operating_cash': 18,\n",
       "              'operating_cash_flow': 18,\n",
       "              'price_to_earnings': 18,\n",
       "              'ev_ebitda': 18,\n",
       "              'ev_ebit': 18,\n",
       "              'ev_revenue': 18},\n",
       "             1575828: {'roe': 18,\n",
       "              'roa': 18,\n",
       "              'roce': 18,\n",
       "              'gross_margin': 18,\n",
       "              'operating_profit_margin': 18,\n",
       "              'net_profit_margin': 18,\n",
       "              'debt_to_equity': 18,\n",
       "              'equity': 18,\n",
       "              'debt': 15,\n",
       "              'current': 18,\n",
       "              'quick': 18,\n",
       "              'cash': 18,\n",
       "              'times_interest_earned': 18,\n",
       "              'capex_to_operating_cash': 18,\n",
       "              'operating_cash_flow': 18,\n",
       "              'price_to_earnings': 18,\n",
       "              'ev_ebitda': 10,\n",
       "              'ev_ebit': 15,\n",
       "              'ev_revenue': 15},\n",
       "             1510295: {'roe': 18,\n",
       "              'roa': 18,\n",
       "              'roce': 18,\n",
       "              'gross_margin': 18,\n",
       "              'operating_profit_margin': 18,\n",
       "              'net_profit_margin': 18,\n",
       "              'debt_to_equity': 18,\n",
       "              'equity': 18,\n",
       "              'debt': 18,\n",
       "              'current': 18,\n",
       "              'quick': 18,\n",
       "              'cash': 18,\n",
       "              'times_interest_earned': 18,\n",
       "              'capex_to_operating_cash': 18,\n",
       "              'operating_cash_flow': 18,\n",
       "              'price_to_earnings': 18,\n",
       "              'ev_ebitda': 18,\n",
       "              'ev_ebit': 18,\n",
       "              'ev_revenue': 18},\n",
       "             1163165: {'roe': 18,\n",
       "              'roa': 18,\n",
       "              'roce': 18,\n",
       "              'gross_margin': 18,\n",
       "              'operating_profit_margin': 18,\n",
       "              'net_profit_margin': 18,\n",
       "              'debt_to_equity': 18,\n",
       "              'equity': 18,\n",
       "              'debt': 18,\n",
       "              'current': 18,\n",
       "              'quick': 18,\n",
       "              'cash': 18,\n",
       "              'times_interest_earned': 18,\n",
       "              'capex_to_operating_cash': 18,\n",
       "              'operating_cash_flow': 18,\n",
       "              'price_to_earnings': 18,\n",
       "              'ev_ebitda': 18,\n",
       "              'ev_ebit': 18,\n",
       "              'ev_revenue': 18},\n",
       "             1679268: {'roe': 18,\n",
       "              'roa': 18,\n",
       "              'roce': 18,\n",
       "              'gross_margin': 18,\n",
       "              'operating_profit_margin': 18,\n",
       "              'net_profit_margin': 18,\n",
       "              'debt_to_equity': 18,\n",
       "              'equity': 18,\n",
       "              'debt': 17,\n",
       "              'current': 18,\n",
       "              'quick': 18,\n",
       "              'cash': 18,\n",
       "              'times_interest_earned': 18,\n",
       "              'capex_to_operating_cash': 18,\n",
       "              'operating_cash_flow': 18,\n",
       "              'price_to_earnings': 18,\n",
       "              'ev_ebitda': 17,\n",
       "              'ev_ebit': 17,\n",
       "              'ev_revenue': 17},\n",
       "             1581990: {'roe': 18,\n",
       "              'roa': 18,\n",
       "              'roce': 18,\n",
       "              'gross_margin': 18,\n",
       "              'operating_profit_margin': 18,\n",
       "              'net_profit_margin': 18,\n",
       "              'debt_to_equity': 18,\n",
       "              'equity': 18,\n",
       "              'debt': 18,\n",
       "              'current': 18,\n",
       "              'quick': 18,\n",
       "              'cash': 18,\n",
       "              'times_interest_earned': 18,\n",
       "              'capex_to_operating_cash': 18,\n",
       "              'operating_cash_flow': 18,\n",
       "              'price_to_earnings': 18,\n",
       "              'ev_ebitda': 18,\n",
       "              'ev_ebit': 18,\n",
       "              'ev_revenue': 18},\n",
       "             215466: {'roe': 18,\n",
       "              'roa': 18,\n",
       "              'roce': 18,\n",
       "              'gross_margin': 18,\n",
       "              'operating_profit_margin': 18,\n",
       "              'net_profit_margin': 18,\n",
       "              'debt_to_equity': 18,\n",
       "              'equity': 18,\n",
       "              'debt': 18,\n",
       "              'current': 18,\n",
       "              'quick': 18,\n",
       "              'cash': 18,\n",
       "              'times_interest_earned': 18,\n",
       "              'capex_to_operating_cash': 18,\n",
       "              'operating_cash_flow': 18,\n",
       "              'price_to_earnings': 18,\n",
       "              'ev_ebitda': 18,\n",
       "              'ev_ebit': 18,\n",
       "              'ev_revenue': 18},\n",
       "             1612720: {'roe': 18,\n",
       "              'roa': 18,\n",
       "              'roce': 18,\n",
       "              'gross_margin': 0,\n",
       "              'operating_profit_margin': 0,\n",
       "              'net_profit_margin': 0,\n",
       "              'debt_to_equity': 18,\n",
       "              'equity': 18,\n",
       "              'debt': 18,\n",
       "              'current': 18,\n",
       "              'quick': 0,\n",
       "              'cash': 18,\n",
       "              'times_interest_earned': 18,\n",
       "              'capex_to_operating_cash': 18,\n",
       "              'operating_cash_flow': 18,\n",
       "              'price_to_earnings': 18,\n",
       "              'ev_ebitda': 18,\n",
       "              'ev_ebit': 18,\n",
       "              'ev_revenue': 0},\n",
       "             1164727: {'roe': 17,\n",
       "              'roa': 17,\n",
       "              'roce': 17,\n",
       "              'gross_margin': 17,\n",
       "              'operating_profit_margin': 17,\n",
       "              'net_profit_margin': 17,\n",
       "              'debt_to_equity': 17,\n",
       "              'equity': 17,\n",
       "              'debt': 17,\n",
       "              'current': 17,\n",
       "              'quick': 17,\n",
       "              'cash': 17,\n",
       "              'times_interest_earned': 17,\n",
       "              'capex_to_operating_cash': 17,\n",
       "              'operating_cash_flow': 17,\n",
       "              'price_to_earnings': 17,\n",
       "              'ev_ebitda': 17,\n",
       "              'ev_ebit': 17,\n",
       "              'ev_revenue': 17},\n",
       "             1610682: {'roe': 18,\n",
       "              'roa': 18,\n",
       "              'roce': 18,\n",
       "              'gross_margin': 18,\n",
       "              'operating_profit_margin': 18,\n",
       "              'net_profit_margin': 18,\n",
       "              'debt_to_equity': 18,\n",
       "              'equity': 18,\n",
       "              'debt': 18,\n",
       "              'current': 18,\n",
       "              'quick': 18,\n",
       "              'cash': 18,\n",
       "              'times_interest_earned': 18,\n",
       "              'capex_to_operating_cash': 18,\n",
       "              'operating_cash_flow': 18,\n",
       "              'price_to_earnings': 18,\n",
       "              'ev_ebitda': 18,\n",
       "              'ev_ebit': 18,\n",
       "              'ev_revenue': 18},\n",
       "             277948: {'roe': 17,\n",
       "              'roa': 17,\n",
       "              'roce': 17,\n",
       "              'gross_margin': 17,\n",
       "              'operating_profit_margin': 17,\n",
       "              'net_profit_margin': 17,\n",
       "              'debt_to_equity': 17,\n",
       "              'equity': 17,\n",
       "              'debt': 17,\n",
       "              'current': 17,\n",
       "              'quick': 17,\n",
       "              'cash': 17,\n",
       "              'times_interest_earned': 17,\n",
       "              'capex_to_operating_cash': 17,\n",
       "              'operating_cash_flow': 17,\n",
       "              'price_to_earnings': 17,\n",
       "              'ev_ebitda': 17,\n",
       "              'ev_ebit': 17,\n",
       "              'ev_revenue': 17},\n",
       "             33213: {'roe': 18,\n",
       "              'roa': 18,\n",
       "              'roce': 18,\n",
       "              'gross_margin': 18,\n",
       "              'operating_profit_margin': 18,\n",
       "              'net_profit_margin': 18,\n",
       "              'debt_to_equity': 18,\n",
       "              'equity': 18,\n",
       "              'debt': 18,\n",
       "              'current': 18,\n",
       "              'quick': 18,\n",
       "              'cash': 18,\n",
       "              'times_interest_earned': 18,\n",
       "              'capex_to_operating_cash': 18,\n",
       "              'operating_cash_flow': 18,\n",
       "              'price_to_earnings': 18,\n",
       "              'ev_ebitda': 18,\n",
       "              'ev_ebit': 18,\n",
       "              'ev_revenue': 18},\n",
       "             799165: {'roe': 18,\n",
       "              'roa': 18,\n",
       "              'roce': 18,\n",
       "              'gross_margin': 18,\n",
       "              'operating_profit_margin': 18,\n",
       "              'net_profit_margin': 18,\n",
       "              'debt_to_equity': 18,\n",
       "              'equity': 18,\n",
       "              'debt': 18,\n",
       "              'current': 18,\n",
       "              'quick': 18,\n",
       "              'cash': 18,\n",
       "              'times_interest_earned': 18,\n",
       "              'capex_to_operating_cash': 18,\n",
       "              'operating_cash_flow': 18,\n",
       "              'price_to_earnings': 18,\n",
       "              'ev_ebitda': 18,\n",
       "              'ev_ebit': 18,\n",
       "              'ev_revenue': 18},\n",
       "             799167: {'roe': 18,\n",
       "              'roa': 18,\n",
       "              'roce': 18,\n",
       "              'gross_margin': 18,\n",
       "              'operating_profit_margin': 18,\n",
       "              'net_profit_margin': 18,\n",
       "              'debt_to_equity': 18,\n",
       "              'equity': 18,\n",
       "              'debt': 18,\n",
       "              'current': 18,\n",
       "              'quick': 18,\n",
       "              'cash': 18,\n",
       "              'times_interest_earned': 0,\n",
       "              'capex_to_operating_cash': 18,\n",
       "              'operating_cash_flow': 18,\n",
       "              'price_to_earnings': 18,\n",
       "              'ev_ebitda': 18,\n",
       "              'ev_ebit': 18,\n",
       "              'ev_revenue': 18},\n",
       "             1621434: {'roe': 18,\n",
       "              'roa': 18,\n",
       "              'roce': 18,\n",
       "              'gross_margin': 18,\n",
       "              'operating_profit_margin': 18,\n",
       "              'net_profit_margin': 18,\n",
       "              'debt_to_equity': 18,\n",
       "              'equity': 18,\n",
       "              'debt': 18,\n",
       "              'current': 18,\n",
       "              'quick': 18,\n",
       "              'cash': 18,\n",
       "              'times_interest_earned': 18,\n",
       "              'capex_to_operating_cash': 18,\n",
       "              'operating_cash_flow': 18,\n",
       "              'price_to_earnings': 18,\n",
       "              'ev_ebitda': 18,\n",
       "              'ev_ebit': 18,\n",
       "              'ev_revenue': 18},\n",
       "             1035201: {'roe': 18,\n",
       "              'roa': 18,\n",
       "              'roce': 18,\n",
       "              'gross_margin': 18,\n",
       "              'operating_profit_margin': 18,\n",
       "              'net_profit_margin': 18,\n",
       "              'debt_to_equity': 18,\n",
       "              'equity': 18,\n",
       "              'debt': 18,\n",
       "              'current': 18,\n",
       "              'quick': 18,\n",
       "              'cash': 18,\n",
       "              'times_interest_earned': 18,\n",
       "              'capex_to_operating_cash': 18,\n",
       "              'operating_cash_flow': 18,\n",
       "              'price_to_earnings': 18,\n",
       "              'ev_ebitda': 18,\n",
       "              'ev_ebit': 18,\n",
       "              'ev_revenue': 18},\n",
       "             1567683: {'roe': 18,\n",
       "              'roa': 18,\n",
       "              'roce': 18,\n",
       "              'gross_margin': 18,\n",
       "              'operating_profit_margin': 18,\n",
       "              'net_profit_margin': 18,\n",
       "              'debt_to_equity': 18,\n",
       "              'equity': 18,\n",
       "              'debt': 18,\n",
       "              'current': 18,\n",
       "              'quick': 18,\n",
       "              'cash': 18,\n",
       "              'times_interest_earned': 18,\n",
       "              'capex_to_operating_cash': 18,\n",
       "              'operating_cash_flow': 18,\n",
       "              'price_to_earnings': 18,\n",
       "              'ev_ebitda': 18,\n",
       "              'ev_ebit': 18,\n",
       "              'ev_revenue': 18},\n",
       "             894405: {'roe': 18,\n",
       "              'roa': 18,\n",
       "              'roce': 18,\n",
       "              'gross_margin': 18,\n",
       "              'operating_profit_margin': 18,\n",
       "              'net_profit_margin': 18,\n",
       "              'debt_to_equity': 18,\n",
       "              'equity': 18,\n",
       "              'debt': 18,\n",
       "              'current': 18,\n",
       "              'quick': 18,\n",
       "              'cash': 18,\n",
       "              'times_interest_earned': 18,\n",
       "              'capex_to_operating_cash': 18,\n",
       "              'operating_cash_flow': 18,\n",
       "              'price_to_earnings': 18,\n",
       "              'ev_ebitda': 18,\n",
       "              'ev_ebit': 18,\n",
       "              'ev_revenue': 18},\n",
       "             1322439: {'roe': 18,\n",
       "              'roa': 18,\n",
       "              'roce': 18,\n",
       "              'gross_margin': 18,\n",
       "              'operating_profit_margin': 18,\n",
       "              'net_profit_margin': 18,\n",
       "              'debt_to_equity': 18,\n",
       "              'equity': 18,\n",
       "              'debt': 18,\n",
       "              'current': 18,\n",
       "              'quick': 18,\n",
       "              'cash': 18,\n",
       "              'times_interest_earned': 18,\n",
       "              'capex_to_operating_cash': 18,\n",
       "              'operating_cash_flow': 18,\n",
       "              'price_to_earnings': 18,\n",
       "              'ev_ebitda': 18,\n",
       "              'ev_ebit': 18,\n",
       "              'ev_revenue': 18},\n",
       "             75208: {'roe': 18,\n",
       "              'roa': 18,\n",
       "              'roce': 18,\n",
       "              'gross_margin': 18,\n",
       "              'operating_profit_margin': 18,\n",
       "              'net_profit_margin': 18,\n",
       "              'debt_to_equity': 18,\n",
       "              'equity': 18,\n",
       "              'debt': 18,\n",
       "              'current': 18,\n",
       "              'quick': 18,\n",
       "              'cash': 18,\n",
       "              'times_interest_earned': 18,\n",
       "              'capex_to_operating_cash': 18,\n",
       "              'operating_cash_flow': 18,\n",
       "              'price_to_earnings': 18,\n",
       "              'ev_ebitda': 18,\n",
       "              'ev_ebit': 18,\n",
       "              'ev_revenue': 18},\n",
       "             315852: {'roe': 17,\n",
       "              'roa': 17,\n",
       "              'roce': 17,\n",
       "              'gross_margin': 17,\n",
       "              'operating_profit_margin': 17,\n",
       "              'net_profit_margin': 17,\n",
       "              'debt_to_equity': 18,\n",
       "              'equity': 18,\n",
       "              'debt': 18,\n",
       "              'current': 18,\n",
       "              'quick': 18,\n",
       "              'cash': 18,\n",
       "              'times_interest_earned': 17,\n",
       "              'capex_to_operating_cash': 17,\n",
       "              'operating_cash_flow': 17,\n",
       "              'price_to_earnings': 17,\n",
       "              'ev_ebitda': 17,\n",
       "              'ev_ebit': 17,\n",
       "              'ev_revenue': 17},\n",
       "             1141197: {'roe': 18,\n",
       "              'roa': 18,\n",
       "              'roce': 18,\n",
       "              'gross_margin': 18,\n",
       "              'operating_profit_margin': 18,\n",
       "              'net_profit_margin': 18,\n",
       "              'debt_to_equity': 18,\n",
       "              'equity': 18,\n",
       "              'debt': 18,\n",
       "              'current': 18,\n",
       "              'quick': 18,\n",
       "              'cash': 18,\n",
       "              'times_interest_earned': 18,\n",
       "              'capex_to_operating_cash': 15,\n",
       "              'operating_cash_flow': 18,\n",
       "              'price_to_earnings': 18,\n",
       "              'ev_ebitda': 18,\n",
       "              'ev_ebit': 18,\n",
       "              'ev_revenue': 18},\n",
       "             45012: {'roe': 17,\n",
       "              'roa': 17,\n",
       "              'roce': 17,\n",
       "              'gross_margin': 17,\n",
       "              'operating_profit_margin': 17,\n",
       "              'net_profit_margin': 17,\n",
       "              'debt_to_equity': 17,\n",
       "              'equity': 17,\n",
       "              'debt': 17,\n",
       "              'current': 17,\n",
       "              'quick': 17,\n",
       "              'cash': 17,\n",
       "              'times_interest_earned': 17,\n",
       "              'capex_to_operating_cash': 17,\n",
       "              'operating_cash_flow': 17,\n",
       "              'price_to_earnings': 17,\n",
       "              'ev_ebitda': 17,\n",
       "              'ev_ebit': 17,\n",
       "              'ev_revenue': 17},\n",
       "             766421: {'roe': 18,\n",
       "              'roa': 18,\n",
       "              'roce': 18,\n",
       "              'gross_margin': 18,\n",
       "              'operating_profit_margin': 18,\n",
       "              'net_profit_margin': 18,\n",
       "              'debt_to_equity': 18,\n",
       "              'equity': 18,\n",
       "              'debt': 18,\n",
       "              'current': 18,\n",
       "              'quick': 18,\n",
       "              'cash': 18,\n",
       "              'times_interest_earned': 18,\n",
       "              'capex_to_operating_cash': 18,\n",
       "              'operating_cash_flow': 18,\n",
       "              'price_to_earnings': 18,\n",
       "              'ev_ebitda': 18,\n",
       "              'ev_ebit': 18,\n",
       "              'ev_revenue': 18},\n",
       "             728535: {'roe': 18,\n",
       "              'roa': 18,\n",
       "              'roce': 18,\n",
       "              'gross_margin': 18,\n",
       "              'operating_profit_margin': 18,\n",
       "              'net_profit_margin': 18,\n",
       "              'debt_to_equity': 18,\n",
       "              'equity': 18,\n",
       "              'debt': 18,\n",
       "              'current': 18,\n",
       "              'quick': 18,\n",
       "              'cash': 18,\n",
       "              'times_interest_earned': 18,\n",
       "              'capex_to_operating_cash': 18,\n",
       "              'operating_cash_flow': 18,\n",
       "              'price_to_earnings': 18,\n",
       "              'ev_ebitda': 18,\n",
       "              'ev_ebit': 18,\n",
       "              'ev_revenue': 18},\n",
       "             104918: {'roe': 18,\n",
       "              'roa': 18,\n",
       "              'roce': 18,\n",
       "              'gross_margin': 18,\n",
       "              'operating_profit_margin': 18,\n",
       "              'net_profit_margin': 18,\n",
       "              'debt_to_equity': 18,\n",
       "              'equity': 18,\n",
       "              'debt': 18,\n",
       "              'current': 18,\n",
       "              'quick': 18,\n",
       "              'cash': 18,\n",
       "              'times_interest_earned': 18,\n",
       "              'capex_to_operating_cash': 18,\n",
       "              'operating_cash_flow': 18,\n",
       "              'price_to_earnings': 18,\n",
       "              'ev_ebitda': 18,\n",
       "              'ev_ebit': 18,\n",
       "              'ev_revenue': 18},\n",
       "             823768: {'roe': 17,\n",
       "              'roa': 17,\n",
       "              'roce': 17,\n",
       "              'gross_margin': 17,\n",
       "              'operating_profit_margin': 17,\n",
       "              'net_profit_margin': 17,\n",
       "              'debt_to_equity': 17,\n",
       "              'equity': 17,\n",
       "              'debt': 17,\n",
       "              'current': 17,\n",
       "              'quick': 17,\n",
       "              'cash': 17,\n",
       "              'times_interest_earned': 17,\n",
       "              'capex_to_operating_cash': 17,\n",
       "              'operating_cash_flow': 17,\n",
       "              'price_to_earnings': 17,\n",
       "              'ev_ebitda': 17,\n",
       "              'ev_ebit': 17,\n",
       "              'ev_revenue': 17},\n",
       "             66004: {'roe': 18,\n",
       "              'roa': 18,\n",
       "              'roce': 18,\n",
       "              'gross_margin': 18,\n",
       "              'operating_profit_margin': 18,\n",
       "              'net_profit_margin': 18,\n",
       "              'debt_to_equity': 18,\n",
       "              'equity': 18,\n",
       "              'debt': 18,\n",
       "              'current': 18,\n",
       "              'quick': 18,\n",
       "              'cash': 18,\n",
       "              'times_interest_earned': 18,\n",
       "              'capex_to_operating_cash': 18,\n",
       "              'operating_cash_flow': 18,\n",
       "              'price_to_earnings': 18,\n",
       "              'ev_ebitda': 18,\n",
       "              'ev_ebit': 18,\n",
       "              'ev_revenue': 18},\n",
       "             1163739: {'roe': 18,\n",
       "              'roa': 18,\n",
       "              'roce': 18,\n",
       "              'gross_margin': 18,\n",
       "              'operating_profit_margin': 18,\n",
       "              'net_profit_margin': 18,\n",
       "              'debt_to_equity': 18,\n",
       "              'equity': 18,\n",
       "              'debt': 18,\n",
       "              'current': 18,\n",
       "              'quick': 18,\n",
       "              'cash': 18,\n",
       "              'times_interest_earned': 18,\n",
       "              'capex_to_operating_cash': 18,\n",
       "              'operating_cash_flow': 18,\n",
       "              'price_to_earnings': 18,\n",
       "              'ev_ebitda': 18,\n",
       "              'ev_ebit': 18,\n",
       "              'ev_revenue': 18},\n",
       "             783324: {'roe': 18,\n",
       "              'roa': 18,\n",
       "              'roce': 18,\n",
       "              'gross_margin': 0,\n",
       "              'operating_profit_margin': 0,\n",
       "              'net_profit_margin': 0,\n",
       "              'debt_to_equity': 18,\n",
       "              'equity': 18,\n",
       "              'debt': 10,\n",
       "              'current': 18,\n",
       "              'quick': 0,\n",
       "              'cash': 18,\n",
       "              'times_interest_earned': 0,\n",
       "              'capex_to_operating_cash': 15,\n",
       "              'operating_cash_flow': 18,\n",
       "              'price_to_earnings': 18,\n",
       "              'ev_ebitda': 10,\n",
       "              'ev_ebit': 10,\n",
       "              'ev_revenue': 0},\n",
       "             1090012: {'roe': 18,\n",
       "              'roa': 18,\n",
       "              'roce': 18,\n",
       "              'gross_margin': 18,\n",
       "              'operating_profit_margin': 18,\n",
       "              'net_profit_margin': 18,\n",
       "              'debt_to_equity': 18,\n",
       "              'equity': 18,\n",
       "              'debt': 18,\n",
       "              'current': 18,\n",
       "              'quick': 18,\n",
       "              'cash': 18,\n",
       "              'times_interest_earned': 18,\n",
       "              'capex_to_operating_cash': 18,\n",
       "              'operating_cash_flow': 18,\n",
       "              'price_to_earnings': 18,\n",
       "              'ev_ebitda': 18,\n",
       "              'ev_ebit': 18,\n",
       "              'ev_revenue': 18},\n",
       "             1130464: {'roe': 18,\n",
       "              'roa': 18,\n",
       "              'roce': 18,\n",
       "              'gross_margin': 18,\n",
       "              'operating_profit_margin': 18,\n",
       "              'net_profit_margin': 18,\n",
       "              'debt_to_equity': 18,\n",
       "              'equity': 18,\n",
       "              'debt': 18,\n",
       "              'current': 18,\n",
       "              'quick': 18,\n",
       "              'cash': 18,\n",
       "              'times_interest_earned': 18,\n",
       "              'capex_to_operating_cash': 18,\n",
       "              'operating_cash_flow': 18,\n",
       "              'price_to_earnings': 18,\n",
       "              'ev_ebitda': 18,\n",
       "              'ev_ebit': 18,\n",
       "              'ev_revenue': 18},\n",
       "             319458: {'roe': 18,\n",
       "              'roa': 18,\n",
       "              'roce': 18,\n",
       "              'gross_margin': 18,\n",
       "              'operating_profit_margin': 18,\n",
       "              'net_profit_margin': 18,\n",
       "              'debt_to_equity': 18,\n",
       "              'equity': 18,\n",
       "              'debt': 18,\n",
       "              'current': 18,\n",
       "              'quick': 18,\n",
       "              'cash': 18,\n",
       "              'times_interest_earned': 18,\n",
       "              'capex_to_operating_cash': 18,\n",
       "              'operating_cash_flow': 18,\n",
       "              'price_to_earnings': 18,\n",
       "              'ev_ebitda': 18,\n",
       "              'ev_ebit': 18,\n",
       "              'ev_revenue': 18},\n",
       "             783325: {'roe': 18,\n",
       "              'roa': 18,\n",
       "              'roce': 18,\n",
       "              'gross_margin': 18,\n",
       "              'operating_profit_margin': 18,\n",
       "              'net_profit_margin': 18,\n",
       "              'debt_to_equity': 18,\n",
       "              'equity': 18,\n",
       "              'debt': 18,\n",
       "              'current': 18,\n",
       "              'quick': 18,\n",
       "              'cash': 18,\n",
       "              'times_interest_earned': 18,\n",
       "              'capex_to_operating_cash': 18,\n",
       "              'operating_cash_flow': 18,\n",
       "              'price_to_earnings': 18,\n",
       "              'ev_ebitda': 18,\n",
       "              'ev_ebit': 18,\n",
       "              'ev_revenue': 18},\n",
       "             1533924: {'roe': 18,\n",
       "              'roa': 18,\n",
       "              'roce': 18,\n",
       "              'gross_margin': 18,\n",
       "              'operating_profit_margin': 18,\n",
       "              'net_profit_margin': 18,\n",
       "              'debt_to_equity': 18,\n",
       "              'equity': 18,\n",
       "              'debt': 18,\n",
       "              'current': 18,\n",
       "              'quick': 18,\n",
       "              'cash': 18,\n",
       "              'times_interest_earned': 18,\n",
       "              'capex_to_operating_cash': 18,\n",
       "              'operating_cash_flow': 18,\n",
       "              'price_to_earnings': 18,\n",
       "              'ev_ebitda': 18,\n",
       "              'ev_ebit': 18,\n",
       "              'ev_revenue': 18},\n",
       "             1582568: {'roe': 18,\n",
       "              'roa': 18,\n",
       "              'roce': 18,\n",
       "              'gross_margin': 18,\n",
       "              'operating_profit_margin': 18,\n",
       "              'net_profit_margin': 18,\n",
       "              'debt_to_equity': 18,\n",
       "              'equity': 18,\n",
       "              'debt': 18,\n",
       "              'current': 18,\n",
       "              'quick': 18,\n",
       "              'cash': 18,\n",
       "              'times_interest_earned': 18,\n",
       "              'capex_to_operating_cash': 18,\n",
       "              'operating_cash_flow': 18,\n",
       "              'price_to_earnings': 18,\n",
       "              'ev_ebitda': 18,\n",
       "              'ev_ebit': 18,\n",
       "              'ev_revenue': 18},\n",
       "             1375205: {'roe': 18,\n",
       "              'roa': 18,\n",
       "              'roce': 18,\n",
       "              'gross_margin': 18,\n",
       "              'operating_profit_margin': 18,\n",
       "              'net_profit_margin': 18,\n",
       "              'debt_to_equity': 18,\n",
       "              'equity': 18,\n",
       "              'debt': 18,\n",
       "              'current': 18,\n",
       "              'quick': 18,\n",
       "              'cash': 18,\n",
       "              'times_interest_earned': 18,\n",
       "              'capex_to_operating_cash': 18,\n",
       "              'operating_cash_flow': 18,\n",
       "              'price_to_earnings': 18,\n",
       "              'ev_ebitda': 18,\n",
       "              'ev_ebit': 18,\n",
       "              'ev_revenue': 18},\n",
       "             16875: {'roe': 18,\n",
       "              'roa': 18,\n",
       "              'roce': 18,\n",
       "              'gross_margin': 18,\n",
       "              'operating_profit_margin': 18,\n",
       "              'net_profit_margin': 18,\n",
       "              'debt_to_equity': 18,\n",
       "              'equity': 18,\n",
       "              'debt': 18,\n",
       "              'current': 18,\n",
       "              'quick': 18,\n",
       "              'cash': 18,\n",
       "              'times_interest_earned': 18,\n",
       "              'capex_to_operating_cash': 18,\n",
       "              'operating_cash_flow': 18,\n",
       "              'price_to_earnings': 18,\n",
       "              'ev_ebitda': 18,\n",
       "              'ev_ebit': 18,\n",
       "              'ev_revenue': 18},\n",
       "             1451505: {'roe': 18,\n",
       "              'roa': 18,\n",
       "              'roce': 18,\n",
       "              'gross_margin': 18,\n",
       "              'operating_profit_margin': 18,\n",
       "              'net_profit_margin': 18,\n",
       "              'debt_to_equity': 18,\n",
       "              'equity': 18,\n",
       "              'debt': 18,\n",
       "              'current': 18,\n",
       "              'quick': 18,\n",
       "              'cash': 18,\n",
       "              'times_interest_earned': 18,\n",
       "              'capex_to_operating_cash': 18,\n",
       "              'operating_cash_flow': 18,\n",
       "              'price_to_earnings': 18,\n",
       "              'ev_ebitda': 18,\n",
       "              'ev_ebit': 18,\n",
       "              'ev_revenue': 18},\n",
       "             3570: {'roe': 18,\n",
       "              'roa': 18,\n",
       "              'roce': 18,\n",
       "              'gross_margin': 18,\n",
       "              'operating_profit_margin': 18,\n",
       "              'net_profit_margin': 18,\n",
       "              'debt_to_equity': 18,\n",
       "              'equity': 18,\n",
       "              'debt': 18,\n",
       "              'current': 18,\n",
       "              'quick': 18,\n",
       "              'cash': 18,\n",
       "              'times_interest_earned': 18,\n",
       "              'capex_to_operating_cash': 18,\n",
       "              'operating_cash_flow': 18,\n",
       "              'price_to_earnings': 18,\n",
       "              'ev_ebitda': 18,\n",
       "              'ev_ebit': 18,\n",
       "              'ev_revenue': 18},\n",
       "             1389050: {'roe': 18,\n",
       "              'roa': 18,\n",
       "              'roce': 18,\n",
       "              'gross_margin': 18,\n",
       "              'operating_profit_margin': 18,\n",
       "              'net_profit_margin': 18,\n",
       "              'debt_to_equity': 18,\n",
       "              'equity': 18,\n",
       "              'debt': 18,\n",
       "              'current': 18,\n",
       "              'quick': 18,\n",
       "              'cash': 18,\n",
       "              'times_interest_earned': 18,\n",
       "              'capex_to_operating_cash': 18,\n",
       "              'operating_cash_flow': 18,\n",
       "              'price_to_earnings': 18,\n",
       "              'ev_ebitda': 18,\n",
       "              'ev_ebit': 18,\n",
       "              'ev_revenue': 18},\n",
       "             1694426: {'roe': 17,\n",
       "              'roa': 17,\n",
       "              'roce': 17,\n",
       "              'gross_margin': 17,\n",
       "              'operating_profit_margin': 17,\n",
       "              'net_profit_margin': 17,\n",
       "              'debt_to_equity': 17,\n",
       "              'equity': 17,\n",
       "              'debt': 17,\n",
       "              'current': 17,\n",
       "              'quick': 17,\n",
       "              'cash': 17,\n",
       "              'times_interest_earned': 17,\n",
       "              'capex_to_operating_cash': 17,\n",
       "              'operating_cash_flow': 17,\n",
       "              'price_to_earnings': 17,\n",
       "              'ev_ebitda': 17,\n",
       "              'ev_ebit': 17,\n",
       "              'ev_revenue': 17}})"
      ]
     },
     "execution_count": 62,
     "metadata": {},
     "output_type": "execute_result"
    }
   ],
   "source": [
    "from collections import defaultdict\n",
    "\n",
    "dict_of_cik_imputation_roes_count = defaultdict(lambda: defaultdict(int))\n",
    "for year_q_k, inputs_data in dict_of_res.items():\n",
    "    for input_data in inputs_data:\n",
    "        if input_data[\"cik\"] not in dict_of_cik_imputation_roes_count.keys():\n",
    "            list_of_roes = list(input_data[\"fundamental_data\"].keys())\n",
    "            dict_of_cik_imputation_roes_count[input_data['cik']] = dict.fromkeys(list_of_roes, 0)\n",
    "        \n",
    "        for roe, val in input_data[\"fundamental_data_imputed\"].items():\n",
    "            if val:\n",
    "                dict_of_cik_imputation_roes_count[input_data['cik']][roe] += 1\n",
    "\n",
    "dict_of_cik_imputation_roes_count\n",
    "        "
   ]
  },
  {
   "cell_type": "code",
   "execution_count": 61,
   "metadata": {},
   "outputs": [
    {
     "data": {
      "text/plain": [
       "['roe',\n",
       " 'roa',\n",
       " 'roce',\n",
       " 'gross_margin',\n",
       " 'operating_profit_margin',\n",
       " 'net_profit_margin',\n",
       " 'debt_to_equity',\n",
       " 'equity',\n",
       " 'debt',\n",
       " 'current',\n",
       " 'quick',\n",
       " 'cash',\n",
       " 'times_interest_earned',\n",
       " 'capex_to_operating_cash',\n",
       " 'operating_cash_flow',\n",
       " 'price_to_earnings',\n",
       " 'ev_ebitda',\n",
       " 'ev_ebit',\n",
       " 'ev_revenue']"
      ]
     },
     "execution_count": 61,
     "metadata": {},
     "output_type": "execute_result"
    }
   ],
   "source": [
    "list_of_roes"
   ]
  },
  {
   "cell_type": "markdown",
   "metadata": {},
   "source": [
    "## Create a POC model for finding most similar company based on KPIs"
   ]
  },
  {
   "cell_type": "code",
   "execution_count": 53,
   "metadata": {},
   "outputs": [],
   "source": [
    "from collections import defaultdict\n",
    "\n",
    "dict_of_year_q_fund_data = defaultdict(list)\n",
    "\n",
    "for year_q_k, inputs_data in dict_of_res.items():\n",
    "    for input_data in inputs_data:\n",
    "        dict_of_year_q_fund_data[year_q_k].append((input_data[\"cik\"], input_data[\"industry\"], input_data['fundamental_data']))"
   ]
  },
  {
   "cell_type": "code",
   "execution_count": 54,
   "metadata": {},
   "outputs": [
    {
     "data": {
      "text/plain": [
       "KNNImputer(n_neighbors=1)"
      ]
     },
     "execution_count": 54,
     "metadata": {},
     "output_type": "execute_result"
    }
   ],
   "source": [
    "from sklearn.impute import KNNImputer\n",
    "\n",
    "imputer_test = KNNImputer(n_neighbors=1)\n",
    "\n",
    "dict_of_2017_2_data = {}\n",
    "dict_of_cik_industry = {}\n",
    "for cik, industry, fun_data_dict in dict_of_year_q_fund_data[\"2017_2\"]:\n",
    "    dict_of_2017_2_data[cik] = list(fun_data_dict.values())\n",
    "    dict_of_cik_industry[cik] = industry\n",
    "imputer_test.fit(list(dict_of_2017_2_data.values()))"
   ]
  },
  {
   "cell_type": "code",
   "execution_count": 55,
   "metadata": {},
   "outputs": [
    {
     "name": "stdout",
     "output_type": "stream",
     "text": [
      "53\n"
     ]
    }
   ],
   "source": [
    "count = 0\n",
    "for to_be_imputed_cik, to_be_imputed_data in dict_of_2017_2_data.items():\n",
    "    if None in to_be_imputed_data:\n",
    "        count+=1\n",
    "        \n",
    "print(count)"
   ]
  },
  {
   "cell_type": "code",
   "execution_count": 57,
   "metadata": {},
   "outputs": [
    {
     "name": "stdout",
     "output_type": "stream",
     "text": [
      "Imputed CRUDE PETROLEUM & NATURAL GAS 1602065 - [33.49399573891149, 0.029818507342006095, 0.031009746746506524, 0.8443386080811185, 0.3295437087110155, 0.31728376094638194, 0.0012606293316062326, 0.998740957853853, 0.00042271977905846217, 51.5355504587156, 43.325688073394495, 32.75573394495413, 35.049019607843135, 5.088005595057699, 50.05733944954128, 61.0980352280074, 9.797949410908199, 15.812036005839062, 5.86761095692794]\n",
      "Original TRANSPORTATION SERVICES 40211 - [24.090434782608696, 0.008102129098620525, 0.01653533317357166, 0.39006643467257196, 0.37108509965200887, 0.18190446061372983, 4.123375685821542, 0.19518381265059392, 0.00042271977905846217, 74.06666666666666, 74.06666666666666, 51.733333333333334, 2.99234693877551, 0.4007751937984496, 17.233333333333334, 34.90350997365082, 9.797949410908199, 15.812036005839062, 5.86761095692794]\n",
      "------------------------------------\n",
      "Imputed ELECTRIC SERVICES 1296445 - [31.421009262942547, 0.014078230704735573, 0.02666248472668565, 0.391841936197327, 0.32186226289903, 0.18533107247048416, 1.1739515350899008, 0.4423522173793386, 0.3782181441728589, 2.066349865777311, 1.2243133437112934, 0.839255678559552, 4.095758225557864, 1.9315068493150684, 0.34441493847925936, 79.146684193958, 40.33628264370785, 58.193638905157925, 18.73033630434316]\n",
      "Original RAILROADS, LINE-HAUL OPERATING 702165 - [28.930715935334874, 0.012320386968274291, 0.023148431288606202, 0.5281553398058253, 0.29398058252427184, 0.16815533980582525, 1.8055400335275804, 0.35643761559254517, 0.28792146820315834, 0.9525173966434711, 0.7994269340974212, 0.3909128121162505, 5.330985915492958, 1.9315068493150684, 0.3462955382726156, 72.07700998118854, 38.19616397526455, 53.333349170217474, 15.678969057030924]\n",
      "------------------------------------\n",
      "Imputed PIPE LINES (NO NATURAL GAS) 1283140 - [0.006024332042405038, 0.013669066671657393, 0.028305768393223338, 0.9503826251730924, 0.7540849792289191, 0.3726113257051235, 522.4545454545455, 8.234699633983643e-05, 0.4529084798691004, 1.3173305693623236, 1.2426562389578573, 0.16506089373630775, 3.8211093876948077, 0.2547974413646055, 1.0278909801889238, 55.30753080250614, 56.37649231838673, 43.56553542939778, 32.85211587937417]\n",
      "Original TRUCKING & COURIER SERVICES (NO AIR) 1090727 - [0.4588336192109777, 0.030380406461698803, 0.06717579891747609, 0.19045776918117344, 0.11682785299806576, 0.075177304964539, 70.73831775700934, 0.013939551849921834, 0.4491922876498176, 1.0077152375942486, 0.8936524636156409, 0.23557776608802386, 17.764705882352942, 0.2547974413646055, 0.020953883920743467, 68.1843558099537, 39.753152525108206, 51.907262071968006, 6.064213982875953]\n",
      "------------------------------------\n",
      "Imputed MINING & QUARRYING OF NONMETALLIC MINERALS (NO FUELS) 1065059 - [1.3421052631578947, 0.013878743608473338, -0.07507037847982484, -0.4027777777777778, -3.3333333333333335, 1.0555555555555556, 102.00980392156863, 0.01862673484295106, 0.30350620891161434, 1.7762176393154891, 0.6910925844668714, 0.6656428258007898, -8.275862068965518, 5.3359375, -0.3203159280386134, 4.925112469437653, 4.515726501541406, -2.1637856153219235, 7.212618717739745]\n",
      "Original CRUDE PETROLEUM & NATURAL GAS 894627 - [0.9570321671753933, 0.05323949648111804, 0.26334137838562616, 0.4579140411925139, 0.369415969152638, 0.20027273582243957, 18.626349362119726, 0.05095191069665112, 0.18693200995037315, 0.767387620851191, 0.6127977673676867, 0.48330509319246484, 19.49379652605459, 5.3359375, 0.08169042160869132, 15.286444247037268, 5.739225300579098, 7.104629079446503, 2.6245634368537445]\n",
      "------------------------------------\n",
      "Imputed ELECTRIC SERVICES 1692819 - [32.40860215053763, 0.00902737332556785, 0.022365072987813043, -0.010316875460574797, 0.11422254974207811, -0.020633750921149593, 2.4180491041804912, 0.2925645505727043, 0.2779072024849544, 0.7805996472663139, 0.7164021164021164, 0.06455026455026455, 6.458333333333333, 1.9915254237288136, 0.1657848324514991, 105.6700526097007, 47.55633039050253, 74.89410115390518, 7.188112007300095]\n",
      "Original AIR TRANSPORTATION, SCHEDULED 766421 - [32.40860215053763, 0.00902737332556785, 0.022365072987813043, 0.2603448275862069, 0.09597701149425288, 0.05344827586206897, 2.4180491041804912, 0.2925645505727043, 0.2779072024849544, 0.7805996472663139, 0.7164021164021164, 0.06455026455026455, 6.68, 1.9915254237288136, 0.1657848324514991, 105.6700526097007, 47.55633039050253, 74.89410115390518, 7.188112007300095]\n",
      "------------------------------------\n",
      "Imputed CRUDE PETROLEUM & NATURAL GAS 1509589 - [3.630219312015069, 0.09789003231244732, 0.20315433929980112, 0.5571184371184371, 1.786031746031746, 1.088986568986569, 1.6551523911888613, 0.3553622857544254, 0.0031522197246417532, 0.44342168406557103, 0.39650028167446777, 0.31970052092389223, 60.444628099173556, 0.3333510018021838, 0.13165166422440863, 4.496990472497699, -37.338395537256055, 2.433137262853269, 4.345660393908727]\n",
      "Original CRUDE PETROLEUM & NATURAL GAS 56868 - [3.630219312015069, 0.09789003231244732, 0.20315433929980112, 0.5571184371184371, 1.786031746031746, 1.088986568986569, 1.6551523911888613, 0.3553622857544254, 0.0031522197246417532, 0.5199288256227758, 0.502114297676366, 0.25141302072430394, 60.444628099173556, 0.3333510018021838, 0.13165166422440863, 4.496990472497699, -37.338395537256055, 2.433137262853269, 4.345660393908727]\n",
      "------------------------------------\n",
      "Imputed CRUDE PETROLEUM & NATURAL GAS 858470 - [25.60706583427923, 0.02015869153845978, 0.03787256277050585, 0.9031984597648322, 0.3671383025357106, 0.20415454104815553, 0.9372150862576875, 0.5162049413582671, 0.2899995194863538, 3.3348024688607145, 3.2543862385525526, 2.3952628177989705, 159.8990748528175, 1.2927000153562653, 1.2004634684373539, 97.7934689656066, 29.13425900907171, 59.55244339913702, 21.86398298141315]\n",
      "Original TRUCKING (NO LOCAL) 878927 - [29.021203185797667, 0.023967854397616038, 0.04485971226752689, 0.18038168961233034, 0.14336498389626784, 0.08723727844937434, 0.4376574805314652, 0.6955759724008291, 0.0346082527932503, 1.2696924892094927, 1.1513120360828593, 0.14203444001374016, 181.71764705882353, 1.9441198659578574, 0.33098555789536566, 69.4260675366008, 29.13425900907171, 42.68445677445885, 6.119456458091234]\n",
      "------------------------------------\n",
      "Imputed CRUDE PETROLEUM & NATURAL GAS 77159 - [7.561164501707325, 0.09210760965075825, 0.04600981711661784, -0.0028582861716115017, 0.3322186017264048, 0.8119533527696793, 0.43587224731132734, 0.6964407884284283, 0.0888522134424518, 0.8049506192755104, 1.0667670412790593, 0.05613808678819164, 21.604089219330856, 1.646637731807677, 0.5236149199691706, 23.184311164049845, 38.80161745421541, 58.75141764064045, 19.518313818017603]\n",
      "Original CRUDE PETROLEUM & NATURAL GAS 1621434 - [12.146176704610038, 0.05133105836185383, 0.05643036190423286, 0.8245091586264468, 0.5218651169510844, 0.49431699603474016, 0.603910705643598, 0.6234761052977273, 0.3234082562460303, 1.8930957683741647, 1.8695423792915074, 0.29425978064461905, 18.538637011690906, 0.9678415230254696, 1.3437408076648316, 35.02646033058589, 38.80161745421541, 38.92993165482537, 20.316173335943162]\n",
      "------------------------------------\n"
     ]
    }
   ],
   "source": [
    "for to_be_imputed_cik, to_be_imputed_data in dict_of_2017_2_data.items():\n",
    "    if None not in to_be_imputed_data:\n",
    "        continue\n",
    "    \n",
    "    dict_of_none_idx_imputed_val = {}\n",
    "    curr_res = imputer_test.transform([to_be_imputed_data])[0]\n",
    "    for idx, item in enumerate(to_be_imputed_data):\n",
    "        if not item:\n",
    "            dict_of_none_idx_imputed_val[idx] = curr_res[idx]\n",
    "    \n",
    "    # Find the one that imputation is done from\n",
    "    for cik, data in dict_of_2017_2_data.items():\n",
    "        if None not in data:\n",
    "            count_matches = 0\n",
    "            desired_matched = len(dict_of_none_idx_imputed_val)\n",
    "            for idx, item in enumerate(data):\n",
    "                if dict_of_none_idx_imputed_val.get(idx, None) == item:\n",
    "                    count_matches += 1\n",
    "            if count_matches == desired_matched:\n",
    "                print(f\"Imputed {dict_of_cik_industry[to_be_imputed_cik]} {to_be_imputed_cik} - {curr_res.tolist()}\")\n",
    "                print(f\"Original {dict_of_cik_industry[cik]} {cik} - {data}\")\n",
    "                print('------------------------------------')\n",
    "                break\n",
    "        "
   ]
  },
  {
   "cell_type": "markdown",
   "metadata": {},
   "source": [
    "## Get the fundamental data avg dict for all years and all quarters"
   ]
  },
  {
   "cell_type": "code",
   "execution_count": 2,
   "metadata": {},
   "outputs": [],
   "source": [
    "dict_fund_data_avg_per_year_q = {}\n",
    "for year_q, input_data_list in dict_of_res.items():\n",
    "    dict_fund_data_avg_per_year_q[year_q] = input_data_list[0][\"fundamental_data_avg\"]"
   ]
  },
  {
   "cell_type": "code",
   "execution_count": 3,
   "metadata": {},
   "outputs": [],
   "source": [
    "import pandas as pd\n",
    "\n",
    "list_of_dicts_for_df = []\n",
    "for year_q, dict_info in dict_fund_data_avg_per_year_q.items():\n",
    "    # print(year_q)\n",
    "    for filer_k, dict_kpis in dict_info.items():\n",
    "        for kpi_k, dict_counts in dict_kpis.items():\n",
    "            dict_row = {}\n",
    "            # if kpi_k == 'roe':\n",
    "            #     print(filer_k.upper())\n",
    "            # print(f\"{kpi_k.upper()} | all: {dict_counts['count_all']} | used: {dict_counts['count_used']} | median: {dict_counts['median']} | mean: {dict_counts['mean']} | not on time: {dict_counts.get('count_not_on_time', 0)} | used to all: {dict_counts['count_used']/dict_counts['count_all']}\")\n",
    "            # print(f\"{kpi_k.upper()} | used to all: {round(dict_counts['count_used']/dict_counts['count_all'], 2)}\")\n",
    "            \n",
    "            list_of_dicts_for_df.append({\"year_q\": year_q, \"filer_type\": filer_k, \"kpi\": kpi_k, \"used_to_all\": round(dict_counts['count_used']/dict_counts['count_all'], 2)})\n",
    "            \n",
    "    #     print('-----------------------------------')\n",
    "    # print('-----------NEW ITERATION-----------')\n",
    "    \n",
    "df_for_plot = pd.DataFrame(list_of_dicts_for_df)"
   ]
  },
  {
   "cell_type": "code",
   "execution_count": 8,
   "metadata": {},
   "outputs": [
    {
     "data": {
      "text/html": [
       "<div>\n",
       "<style scoped>\n",
       "    .dataframe tbody tr th:only-of-type {\n",
       "        vertical-align: middle;\n",
       "    }\n",
       "\n",
       "    .dataframe tbody tr th {\n",
       "        vertical-align: top;\n",
       "    }\n",
       "\n",
       "    .dataframe thead th {\n",
       "        text-align: right;\n",
       "    }\n",
       "</style>\n",
       "<table border=\"1\" class=\"dataframe\">\n",
       "  <thead>\n",
       "    <tr style=\"text-align: right;\">\n",
       "      <th></th>\n",
       "      <th>year_q</th>\n",
       "      <th>filer_type</th>\n",
       "      <th>kpi</th>\n",
       "      <th>used_to_all</th>\n",
       "    </tr>\n",
       "  </thead>\n",
       "  <tbody>\n",
       "    <tr>\n",
       "      <th>551</th>\n",
       "      <td>2019_3</td>\n",
       "      <td>non_accelerated_filer</td>\n",
       "      <td>roe</td>\n",
       "      <td>0.8</td>\n",
       "    </tr>\n",
       "    <tr>\n",
       "      <th>552</th>\n",
       "      <td>2019_3</td>\n",
       "      <td>non_accelerated_filer</td>\n",
       "      <td>roa</td>\n",
       "      <td>0.8</td>\n",
       "    </tr>\n",
       "    <tr>\n",
       "      <th>553</th>\n",
       "      <td>2019_3</td>\n",
       "      <td>non_accelerated_filer</td>\n",
       "      <td>roce</td>\n",
       "      <td>0.7</td>\n",
       "    </tr>\n",
       "    <tr>\n",
       "      <th>554</th>\n",
       "      <td>2019_3</td>\n",
       "      <td>non_accelerated_filer</td>\n",
       "      <td>gross_margin</td>\n",
       "      <td>0.8</td>\n",
       "    </tr>\n",
       "    <tr>\n",
       "      <th>555</th>\n",
       "      <td>2019_3</td>\n",
       "      <td>non_accelerated_filer</td>\n",
       "      <td>operating_profit_margin</td>\n",
       "      <td>0.8</td>\n",
       "    </tr>\n",
       "    <tr>\n",
       "      <th>556</th>\n",
       "      <td>2019_3</td>\n",
       "      <td>non_accelerated_filer</td>\n",
       "      <td>net_profit_margin</td>\n",
       "      <td>0.8</td>\n",
       "    </tr>\n",
       "    <tr>\n",
       "      <th>557</th>\n",
       "      <td>2019_3</td>\n",
       "      <td>non_accelerated_filer</td>\n",
       "      <td>debt_to_equity</td>\n",
       "      <td>0.7</td>\n",
       "    </tr>\n",
       "    <tr>\n",
       "      <th>558</th>\n",
       "      <td>2019_3</td>\n",
       "      <td>non_accelerated_filer</td>\n",
       "      <td>equity</td>\n",
       "      <td>0.8</td>\n",
       "    </tr>\n",
       "    <tr>\n",
       "      <th>559</th>\n",
       "      <td>2019_3</td>\n",
       "      <td>non_accelerated_filer</td>\n",
       "      <td>debt</td>\n",
       "      <td>0.6</td>\n",
       "    </tr>\n",
       "    <tr>\n",
       "      <th>560</th>\n",
       "      <td>2019_3</td>\n",
       "      <td>non_accelerated_filer</td>\n",
       "      <td>current</td>\n",
       "      <td>0.7</td>\n",
       "    </tr>\n",
       "    <tr>\n",
       "      <th>561</th>\n",
       "      <td>2019_3</td>\n",
       "      <td>non_accelerated_filer</td>\n",
       "      <td>quick</td>\n",
       "      <td>0.5</td>\n",
       "    </tr>\n",
       "    <tr>\n",
       "      <th>562</th>\n",
       "      <td>2019_3</td>\n",
       "      <td>non_accelerated_filer</td>\n",
       "      <td>cash</td>\n",
       "      <td>0.7</td>\n",
       "    </tr>\n",
       "    <tr>\n",
       "      <th>563</th>\n",
       "      <td>2019_3</td>\n",
       "      <td>non_accelerated_filer</td>\n",
       "      <td>times_interest_earned</td>\n",
       "      <td>0.6</td>\n",
       "    </tr>\n",
       "    <tr>\n",
       "      <th>564</th>\n",
       "      <td>2019_3</td>\n",
       "      <td>non_accelerated_filer</td>\n",
       "      <td>capex_to_operating_cash</td>\n",
       "      <td>0.6</td>\n",
       "    </tr>\n",
       "    <tr>\n",
       "      <th>565</th>\n",
       "      <td>2019_3</td>\n",
       "      <td>non_accelerated_filer</td>\n",
       "      <td>operating_cash_flow</td>\n",
       "      <td>0.7</td>\n",
       "    </tr>\n",
       "    <tr>\n",
       "      <th>566</th>\n",
       "      <td>2019_3</td>\n",
       "      <td>non_accelerated_filer</td>\n",
       "      <td>price_to_earnings</td>\n",
       "      <td>0.8</td>\n",
       "    </tr>\n",
       "    <tr>\n",
       "      <th>567</th>\n",
       "      <td>2019_3</td>\n",
       "      <td>non_accelerated_filer</td>\n",
       "      <td>ev_ebitda</td>\n",
       "      <td>0.6</td>\n",
       "    </tr>\n",
       "    <tr>\n",
       "      <th>568</th>\n",
       "      <td>2019_3</td>\n",
       "      <td>non_accelerated_filer</td>\n",
       "      <td>ev_ebit</td>\n",
       "      <td>0.6</td>\n",
       "    </tr>\n",
       "    <tr>\n",
       "      <th>569</th>\n",
       "      <td>2019_3</td>\n",
       "      <td>non_accelerated_filer</td>\n",
       "      <td>ev_revenue</td>\n",
       "      <td>0.6</td>\n",
       "    </tr>\n",
       "  </tbody>\n",
       "</table>\n",
       "</div>"
      ],
      "text/plain": [
       "     year_q             filer_type                      kpi  used_to_all\n",
       "551  2019_3  non_accelerated_filer                      roe          0.8\n",
       "552  2019_3  non_accelerated_filer                      roa          0.8\n",
       "553  2019_3  non_accelerated_filer                     roce          0.7\n",
       "554  2019_3  non_accelerated_filer             gross_margin          0.8\n",
       "555  2019_3  non_accelerated_filer  operating_profit_margin          0.8\n",
       "556  2019_3  non_accelerated_filer        net_profit_margin          0.8\n",
       "557  2019_3  non_accelerated_filer           debt_to_equity          0.7\n",
       "558  2019_3  non_accelerated_filer                   equity          0.8\n",
       "559  2019_3  non_accelerated_filer                     debt          0.6\n",
       "560  2019_3  non_accelerated_filer                  current          0.7\n",
       "561  2019_3  non_accelerated_filer                    quick          0.5\n",
       "562  2019_3  non_accelerated_filer                     cash          0.7\n",
       "563  2019_3  non_accelerated_filer    times_interest_earned          0.6\n",
       "564  2019_3  non_accelerated_filer  capex_to_operating_cash          0.6\n",
       "565  2019_3  non_accelerated_filer      operating_cash_flow          0.7\n",
       "566  2019_3  non_accelerated_filer        price_to_earnings          0.8\n",
       "567  2019_3  non_accelerated_filer                ev_ebitda          0.6\n",
       "568  2019_3  non_accelerated_filer                  ev_ebit          0.6\n",
       "569  2019_3  non_accelerated_filer               ev_revenue          0.6"
      ]
     },
     "execution_count": 8,
     "metadata": {},
     "output_type": "execute_result"
    }
   ],
   "source": [
    "df_for_plot[(df_for_plot[\"year_q\"] == \"2019_3\") & (df_for_plot[\"filer_type\"] == \"non_accelerated_filer\")]"
   ]
  },
  {
   "cell_type": "code",
   "execution_count": 33,
   "metadata": {},
   "outputs": [
    {
     "data": {
      "application/vnd.plotly.v1+json": {
       "config": {
        "plotlyServerURL": "https://plot.ly"
       },
       "data": [
        {
         "alignmentgroup": "True",
         "bingroup": "x",
         "hovertemplate": "kpi=roe<br>used_to_all=%{x}<br>count=%{y}<extra></extra>",
         "legendgroup": "roe",
         "marker": {
          "color": "#636efa",
          "pattern": {
           "shape": ""
          }
         },
         "name": "roe",
         "offsetgroup": "roe",
         "orientation": "v",
         "showlegend": true,
         "type": "histogram",
         "x": [
          0.85,
          0.98,
          0.8,
          0.94,
          1,
          0.94,
          0.97,
          1,
          0.94,
          1,
          0.98,
          1,
          0.95,
          1,
          0.76,
          0.97,
          0.98,
          0.93,
          1,
          1,
          0.93,
          0.86,
          0.96,
          1,
          0.97,
          1,
          0.73,
          0.97,
          1,
          0.8,
          0.74,
          0.98,
          0.91,
          0.97,
          0.92,
          0.93,
          0.56,
          0.88,
          0.81,
          0.81,
          0.96,
          0.87,
          0.91,
          1,
          0.53,
          0.9,
          0.96,
          0.97,
          0.77,
          0.93,
          0.97,
          0.79,
          0.96,
          1
         ],
         "xaxis": "x",
         "yaxis": "y"
        },
        {
         "alignmentgroup": "True",
         "boxpoints": "all",
         "customdata": [
          [
           "2017_2",
           "accelerated_filer",
           "roe"
          ],
          [
           "2017_2",
           "large_accelerated_filer",
           "roe"
          ],
          [
           "2017_2",
           "non_accelerated_filer",
           "roe"
          ],
          [
           "2017_3",
           "accelerated_filer",
           "roe"
          ],
          [
           "2017_3",
           "large_accelerated_filer",
           "roe"
          ],
          [
           "2017_3",
           "non_accelerated_filer",
           "roe"
          ],
          [
           "2017_4",
           "accelerated_filer",
           "roe"
          ],
          [
           "2017_4",
           "large_accelerated_filer",
           "roe"
          ],
          [
           "2017_4",
           "non_accelerated_filer",
           "roe"
          ],
          [
           "2018_1",
           "accelerated_filer",
           "roe"
          ],
          [
           "2018_1",
           "large_accelerated_filer",
           "roe"
          ],
          [
           "2018_1",
           "non_accelerated_filer",
           "roe"
          ],
          [
           "2018_2",
           "accelerated_filer",
           "roe"
          ],
          [
           "2018_2",
           "large_accelerated_filer",
           "roe"
          ],
          [
           "2018_2",
           "non_accelerated_filer",
           "roe"
          ],
          [
           "2018_3",
           "accelerated_filer",
           "roe"
          ],
          [
           "2018_3",
           "large_accelerated_filer",
           "roe"
          ],
          [
           "2018_3",
           "non_accelerated_filer",
           "roe"
          ],
          [
           "2018_4",
           "accelerated_filer",
           "roe"
          ],
          [
           "2018_4",
           "large_accelerated_filer",
           "roe"
          ],
          [
           "2018_4",
           "non_accelerated_filer",
           "roe"
          ],
          [
           "2019_1",
           "accelerated_filer",
           "roe"
          ],
          [
           "2019_1",
           "large_accelerated_filer",
           "roe"
          ],
          [
           "2019_1",
           "non_accelerated_filer",
           "roe"
          ],
          [
           "2019_2",
           "accelerated_filer",
           "roe"
          ],
          [
           "2019_2",
           "large_accelerated_filer",
           "roe"
          ],
          [
           "2019_2",
           "non_accelerated_filer",
           "roe"
          ],
          [
           "2019_3",
           "accelerated_filer",
           "roe"
          ],
          [
           "2019_3",
           "large_accelerated_filer",
           "roe"
          ],
          [
           "2019_3",
           "non_accelerated_filer",
           "roe"
          ],
          [
           "2019_4",
           "accelerated_filer",
           "roe"
          ],
          [
           "2019_4",
           "large_accelerated_filer",
           "roe"
          ],
          [
           "2019_4",
           "non_accelerated_filer",
           "roe"
          ],
          [
           "2020_1",
           "accelerated_filer",
           "roe"
          ],
          [
           "2020_1",
           "large_accelerated_filer",
           "roe"
          ],
          [
           "2020_1",
           "non_accelerated_filer",
           "roe"
          ],
          [
           "2020_2",
           "accelerated_filer",
           "roe"
          ],
          [
           "2020_2",
           "large_accelerated_filer",
           "roe"
          ],
          [
           "2020_2",
           "non_accelerated_filer",
           "roe"
          ],
          [
           "2020_3",
           "accelerated_filer",
           "roe"
          ],
          [
           "2020_3",
           "large_accelerated_filer",
           "roe"
          ],
          [
           "2020_3",
           "non_accelerated_filer",
           "roe"
          ],
          [
           "2020_4",
           "accelerated_filer",
           "roe"
          ],
          [
           "2020_4",
           "large_accelerated_filer",
           "roe"
          ],
          [
           "2020_4",
           "non_accelerated_filer",
           "roe"
          ],
          [
           "2021_1",
           "non_accelerated_filer",
           "roe"
          ],
          [
           "2021_1",
           "accelerated_filer",
           "roe"
          ],
          [
           "2021_1",
           "large_accelerated_filer",
           "roe"
          ],
          [
           "2021_2",
           "non_accelerated_filer",
           "roe"
          ],
          [
           "2021_2",
           "accelerated_filer",
           "roe"
          ],
          [
           "2021_2",
           "large_accelerated_filer",
           "roe"
          ],
          [
           "2021_3",
           "non_accelerated_filer",
           "roe"
          ],
          [
           "2021_3",
           "accelerated_filer",
           "roe"
          ],
          [
           "2021_3",
           "large_accelerated_filer",
           "roe"
          ]
         ],
         "fillcolor": "rgba(255,255,255,0)",
         "hoveron": "points",
         "hovertemplate": "kpi=%{customdata[2]}<br>used_to_all=%{x}<br>year_q=%{customdata[0]}<br>filer_type=%{customdata[1]}<extra></extra>",
         "jitter": 0,
         "legendgroup": "roe",
         "line": {
          "color": "rgba(255,255,255,0)"
         },
         "marker": {
          "color": "#636efa",
          "symbol": "line-ns-open"
         },
         "name": "roe",
         "offsetgroup": "roe",
         "showlegend": false,
         "type": "box",
         "x": [
          0.85,
          0.98,
          0.8,
          0.94,
          1,
          0.94,
          0.97,
          1,
          0.94,
          1,
          0.98,
          1,
          0.95,
          1,
          0.76,
          0.97,
          0.98,
          0.93,
          1,
          1,
          0.93,
          0.86,
          0.96,
          1,
          0.97,
          1,
          0.73,
          0.97,
          1,
          0.8,
          0.74,
          0.98,
          0.91,
          0.97,
          0.92,
          0.93,
          0.56,
          0.88,
          0.81,
          0.81,
          0.96,
          0.87,
          0.91,
          1,
          0.53,
          0.9,
          0.96,
          0.97,
          0.77,
          0.93,
          0.97,
          0.79,
          0.96,
          1
         ],
         "xaxis": "x2",
         "yaxis": "y2"
        },
        {
         "alignmentgroup": "True",
         "bingroup": "x",
         "hovertemplate": "kpi=roa<br>used_to_all=%{x}<br>count=%{y}<extra></extra>",
         "legendgroup": "roa",
         "marker": {
          "color": "#EF553B",
          "pattern": {
           "shape": ""
          }
         },
         "name": "roa",
         "offsetgroup": "roa",
         "orientation": "v",
         "showlegend": true,
         "type": "histogram",
         "x": [
          0.88,
          0.98,
          0.8,
          0.97,
          1,
          0.94,
          0.97,
          1,
          0.94,
          1,
          0.98,
          1,
          0.95,
          1,
          0.76,
          0.97,
          0.98,
          0.93,
          1,
          1,
          0.93,
          0.86,
          0.98,
          1,
          0.97,
          1,
          0.73,
          1,
          1,
          0.8,
          0.77,
          0.98,
          1,
          0.97,
          0.92,
          1,
          0.56,
          0.88,
          0.81,
          0.81,
          0.96,
          0.93,
          0.91,
          1,
          0.6,
          0.97,
          0.96,
          0.97,
          0.77,
          0.93,
          0.97,
          0.79,
          0.96,
          1
         ],
         "xaxis": "x",
         "yaxis": "y"
        },
        {
         "alignmentgroup": "True",
         "boxpoints": "all",
         "customdata": [
          [
           "2017_2",
           "accelerated_filer",
           "roa"
          ],
          [
           "2017_2",
           "large_accelerated_filer",
           "roa"
          ],
          [
           "2017_2",
           "non_accelerated_filer",
           "roa"
          ],
          [
           "2017_3",
           "accelerated_filer",
           "roa"
          ],
          [
           "2017_3",
           "large_accelerated_filer",
           "roa"
          ],
          [
           "2017_3",
           "non_accelerated_filer",
           "roa"
          ],
          [
           "2017_4",
           "accelerated_filer",
           "roa"
          ],
          [
           "2017_4",
           "large_accelerated_filer",
           "roa"
          ],
          [
           "2017_4",
           "non_accelerated_filer",
           "roa"
          ],
          [
           "2018_1",
           "accelerated_filer",
           "roa"
          ],
          [
           "2018_1",
           "large_accelerated_filer",
           "roa"
          ],
          [
           "2018_1",
           "non_accelerated_filer",
           "roa"
          ],
          [
           "2018_2",
           "accelerated_filer",
           "roa"
          ],
          [
           "2018_2",
           "large_accelerated_filer",
           "roa"
          ],
          [
           "2018_2",
           "non_accelerated_filer",
           "roa"
          ],
          [
           "2018_3",
           "accelerated_filer",
           "roa"
          ],
          [
           "2018_3",
           "large_accelerated_filer",
           "roa"
          ],
          [
           "2018_3",
           "non_accelerated_filer",
           "roa"
          ],
          [
           "2018_4",
           "accelerated_filer",
           "roa"
          ],
          [
           "2018_4",
           "large_accelerated_filer",
           "roa"
          ],
          [
           "2018_4",
           "non_accelerated_filer",
           "roa"
          ],
          [
           "2019_1",
           "accelerated_filer",
           "roa"
          ],
          [
           "2019_1",
           "large_accelerated_filer",
           "roa"
          ],
          [
           "2019_1",
           "non_accelerated_filer",
           "roa"
          ],
          [
           "2019_2",
           "accelerated_filer",
           "roa"
          ],
          [
           "2019_2",
           "large_accelerated_filer",
           "roa"
          ],
          [
           "2019_2",
           "non_accelerated_filer",
           "roa"
          ],
          [
           "2019_3",
           "accelerated_filer",
           "roa"
          ],
          [
           "2019_3",
           "large_accelerated_filer",
           "roa"
          ],
          [
           "2019_3",
           "non_accelerated_filer",
           "roa"
          ],
          [
           "2019_4",
           "accelerated_filer",
           "roa"
          ],
          [
           "2019_4",
           "large_accelerated_filer",
           "roa"
          ],
          [
           "2019_4",
           "non_accelerated_filer",
           "roa"
          ],
          [
           "2020_1",
           "accelerated_filer",
           "roa"
          ],
          [
           "2020_1",
           "large_accelerated_filer",
           "roa"
          ],
          [
           "2020_1",
           "non_accelerated_filer",
           "roa"
          ],
          [
           "2020_2",
           "accelerated_filer",
           "roa"
          ],
          [
           "2020_2",
           "large_accelerated_filer",
           "roa"
          ],
          [
           "2020_2",
           "non_accelerated_filer",
           "roa"
          ],
          [
           "2020_3",
           "accelerated_filer",
           "roa"
          ],
          [
           "2020_3",
           "large_accelerated_filer",
           "roa"
          ],
          [
           "2020_3",
           "non_accelerated_filer",
           "roa"
          ],
          [
           "2020_4",
           "accelerated_filer",
           "roa"
          ],
          [
           "2020_4",
           "large_accelerated_filer",
           "roa"
          ],
          [
           "2020_4",
           "non_accelerated_filer",
           "roa"
          ],
          [
           "2021_1",
           "non_accelerated_filer",
           "roa"
          ],
          [
           "2021_1",
           "accelerated_filer",
           "roa"
          ],
          [
           "2021_1",
           "large_accelerated_filer",
           "roa"
          ],
          [
           "2021_2",
           "non_accelerated_filer",
           "roa"
          ],
          [
           "2021_2",
           "accelerated_filer",
           "roa"
          ],
          [
           "2021_2",
           "large_accelerated_filer",
           "roa"
          ],
          [
           "2021_3",
           "non_accelerated_filer",
           "roa"
          ],
          [
           "2021_3",
           "accelerated_filer",
           "roa"
          ],
          [
           "2021_3",
           "large_accelerated_filer",
           "roa"
          ]
         ],
         "fillcolor": "rgba(255,255,255,0)",
         "hoveron": "points",
         "hovertemplate": "kpi=%{customdata[2]}<br>used_to_all=%{x}<br>year_q=%{customdata[0]}<br>filer_type=%{customdata[1]}<extra></extra>",
         "jitter": 0,
         "legendgroup": "roa",
         "line": {
          "color": "rgba(255,255,255,0)"
         },
         "marker": {
          "color": "#EF553B",
          "symbol": "line-ns-open"
         },
         "name": "roa",
         "offsetgroup": "roa",
         "showlegend": false,
         "type": "box",
         "x": [
          0.88,
          0.98,
          0.8,
          0.97,
          1,
          0.94,
          0.97,
          1,
          0.94,
          1,
          0.98,
          1,
          0.95,
          1,
          0.76,
          0.97,
          0.98,
          0.93,
          1,
          1,
          0.93,
          0.86,
          0.98,
          1,
          0.97,
          1,
          0.73,
          1,
          1,
          0.8,
          0.77,
          0.98,
          1,
          0.97,
          0.92,
          1,
          0.56,
          0.88,
          0.81,
          0.81,
          0.96,
          0.93,
          0.91,
          1,
          0.6,
          0.97,
          0.96,
          0.97,
          0.77,
          0.93,
          0.97,
          0.79,
          0.96,
          1
         ],
         "xaxis": "x2",
         "yaxis": "y2"
        },
        {
         "alignmentgroup": "True",
         "bingroup": "x",
         "hovertemplate": "kpi=roce<br>used_to_all=%{x}<br>count=%{y}<extra></extra>",
         "legendgroup": "roce",
         "marker": {
          "color": "#00cc96",
          "pattern": {
           "shape": ""
          }
         },
         "name": "roce",
         "offsetgroup": "roce",
         "orientation": "v",
         "showlegend": true,
         "type": "histogram",
         "x": [
          0.82,
          0.98,
          0.75,
          0.91,
          1,
          0.89,
          0.91,
          1,
          0.89,
          0.94,
          0.98,
          0.91,
          0.89,
          1,
          0.71,
          0.95,
          0.98,
          0.86,
          0.95,
          1,
          0.86,
          0.83,
          0.98,
          0.86,
          0.91,
          1,
          0.64,
          0.94,
          1,
          0.7,
          0.77,
          0.98,
          0.91,
          0.97,
          0.92,
          0.79,
          0.56,
          0.88,
          0.69,
          0.81,
          0.96,
          0.73,
          0.91,
          1,
          0.53,
          0.87,
          0.96,
          0.97,
          0.71,
          0.93,
          0.97,
          0.73,
          0.96,
          1
         ],
         "xaxis": "x",
         "yaxis": "y"
        },
        {
         "alignmentgroup": "True",
         "boxpoints": "all",
         "customdata": [
          [
           "2017_2",
           "accelerated_filer",
           "roce"
          ],
          [
           "2017_2",
           "large_accelerated_filer",
           "roce"
          ],
          [
           "2017_2",
           "non_accelerated_filer",
           "roce"
          ],
          [
           "2017_3",
           "accelerated_filer",
           "roce"
          ],
          [
           "2017_3",
           "large_accelerated_filer",
           "roce"
          ],
          [
           "2017_3",
           "non_accelerated_filer",
           "roce"
          ],
          [
           "2017_4",
           "accelerated_filer",
           "roce"
          ],
          [
           "2017_4",
           "large_accelerated_filer",
           "roce"
          ],
          [
           "2017_4",
           "non_accelerated_filer",
           "roce"
          ],
          [
           "2018_1",
           "accelerated_filer",
           "roce"
          ],
          [
           "2018_1",
           "large_accelerated_filer",
           "roce"
          ],
          [
           "2018_1",
           "non_accelerated_filer",
           "roce"
          ],
          [
           "2018_2",
           "accelerated_filer",
           "roce"
          ],
          [
           "2018_2",
           "large_accelerated_filer",
           "roce"
          ],
          [
           "2018_2",
           "non_accelerated_filer",
           "roce"
          ],
          [
           "2018_3",
           "accelerated_filer",
           "roce"
          ],
          [
           "2018_3",
           "large_accelerated_filer",
           "roce"
          ],
          [
           "2018_3",
           "non_accelerated_filer",
           "roce"
          ],
          [
           "2018_4",
           "accelerated_filer",
           "roce"
          ],
          [
           "2018_4",
           "large_accelerated_filer",
           "roce"
          ],
          [
           "2018_4",
           "non_accelerated_filer",
           "roce"
          ],
          [
           "2019_1",
           "accelerated_filer",
           "roce"
          ],
          [
           "2019_1",
           "large_accelerated_filer",
           "roce"
          ],
          [
           "2019_1",
           "non_accelerated_filer",
           "roce"
          ],
          [
           "2019_2",
           "accelerated_filer",
           "roce"
          ],
          [
           "2019_2",
           "large_accelerated_filer",
           "roce"
          ],
          [
           "2019_2",
           "non_accelerated_filer",
           "roce"
          ],
          [
           "2019_3",
           "accelerated_filer",
           "roce"
          ],
          [
           "2019_3",
           "large_accelerated_filer",
           "roce"
          ],
          [
           "2019_3",
           "non_accelerated_filer",
           "roce"
          ],
          [
           "2019_4",
           "accelerated_filer",
           "roce"
          ],
          [
           "2019_4",
           "large_accelerated_filer",
           "roce"
          ],
          [
           "2019_4",
           "non_accelerated_filer",
           "roce"
          ],
          [
           "2020_1",
           "accelerated_filer",
           "roce"
          ],
          [
           "2020_1",
           "large_accelerated_filer",
           "roce"
          ],
          [
           "2020_1",
           "non_accelerated_filer",
           "roce"
          ],
          [
           "2020_2",
           "accelerated_filer",
           "roce"
          ],
          [
           "2020_2",
           "large_accelerated_filer",
           "roce"
          ],
          [
           "2020_2",
           "non_accelerated_filer",
           "roce"
          ],
          [
           "2020_3",
           "accelerated_filer",
           "roce"
          ],
          [
           "2020_3",
           "large_accelerated_filer",
           "roce"
          ],
          [
           "2020_3",
           "non_accelerated_filer",
           "roce"
          ],
          [
           "2020_4",
           "accelerated_filer",
           "roce"
          ],
          [
           "2020_4",
           "large_accelerated_filer",
           "roce"
          ],
          [
           "2020_4",
           "non_accelerated_filer",
           "roce"
          ],
          [
           "2021_1",
           "non_accelerated_filer",
           "roce"
          ],
          [
           "2021_1",
           "accelerated_filer",
           "roce"
          ],
          [
           "2021_1",
           "large_accelerated_filer",
           "roce"
          ],
          [
           "2021_2",
           "non_accelerated_filer",
           "roce"
          ],
          [
           "2021_2",
           "accelerated_filer",
           "roce"
          ],
          [
           "2021_2",
           "large_accelerated_filer",
           "roce"
          ],
          [
           "2021_3",
           "non_accelerated_filer",
           "roce"
          ],
          [
           "2021_3",
           "accelerated_filer",
           "roce"
          ],
          [
           "2021_3",
           "large_accelerated_filer",
           "roce"
          ]
         ],
         "fillcolor": "rgba(255,255,255,0)",
         "hoveron": "points",
         "hovertemplate": "kpi=%{customdata[2]}<br>used_to_all=%{x}<br>year_q=%{customdata[0]}<br>filer_type=%{customdata[1]}<extra></extra>",
         "jitter": 0,
         "legendgroup": "roce",
         "line": {
          "color": "rgba(255,255,255,0)"
         },
         "marker": {
          "color": "#00cc96",
          "symbol": "line-ns-open"
         },
         "name": "roce",
         "offsetgroup": "roce",
         "showlegend": false,
         "type": "box",
         "x": [
          0.82,
          0.98,
          0.75,
          0.91,
          1,
          0.89,
          0.91,
          1,
          0.89,
          0.94,
          0.98,
          0.91,
          0.89,
          1,
          0.71,
          0.95,
          0.98,
          0.86,
          0.95,
          1,
          0.86,
          0.83,
          0.98,
          0.86,
          0.91,
          1,
          0.64,
          0.94,
          1,
          0.7,
          0.77,
          0.98,
          0.91,
          0.97,
          0.92,
          0.79,
          0.56,
          0.88,
          0.69,
          0.81,
          0.96,
          0.73,
          0.91,
          1,
          0.53,
          0.87,
          0.96,
          0.97,
          0.71,
          0.93,
          0.97,
          0.73,
          0.96,
          1
         ],
         "xaxis": "x2",
         "yaxis": "y2"
        },
        {
         "alignmentgroup": "True",
         "bingroup": "x",
         "hovertemplate": "kpi=gross_margin<br>used_to_all=%{x}<br>count=%{y}<extra></extra>",
         "legendgroup": "gross_margin",
         "marker": {
          "color": "#ab63fa",
          "pattern": {
           "shape": ""
          }
         },
         "name": "gross_margin",
         "offsetgroup": "gross_margin",
         "orientation": "v",
         "showlegend": true,
         "type": "histogram",
         "x": [
          0.79,
          0.96,
          0.8,
          0.91,
          0.98,
          0.94,
          0.91,
          0.98,
          0.94,
          0.97,
          0.96,
          1,
          0.89,
          0.98,
          0.76,
          0.92,
          0.98,
          0.93,
          0.97,
          0.98,
          0.93,
          0.83,
          0.98,
          1,
          0.94,
          1,
          0.73,
          0.97,
          1,
          0.8,
          0.74,
          0.98,
          1,
          0.94,
          0.92,
          0.86,
          0.56,
          0.87,
          0.69,
          0.78,
          0.94,
          0.73,
          0.81,
          0.98,
          0.6,
          0.77,
          0.92,
          0.97,
          0.63,
          0.89,
          0.97,
          0.64,
          0.96,
          1
         ],
         "xaxis": "x",
         "yaxis": "y"
        },
        {
         "alignmentgroup": "True",
         "boxpoints": "all",
         "customdata": [
          [
           "2017_2",
           "accelerated_filer",
           "gross_margin"
          ],
          [
           "2017_2",
           "large_accelerated_filer",
           "gross_margin"
          ],
          [
           "2017_2",
           "non_accelerated_filer",
           "gross_margin"
          ],
          [
           "2017_3",
           "accelerated_filer",
           "gross_margin"
          ],
          [
           "2017_3",
           "large_accelerated_filer",
           "gross_margin"
          ],
          [
           "2017_3",
           "non_accelerated_filer",
           "gross_margin"
          ],
          [
           "2017_4",
           "accelerated_filer",
           "gross_margin"
          ],
          [
           "2017_4",
           "large_accelerated_filer",
           "gross_margin"
          ],
          [
           "2017_4",
           "non_accelerated_filer",
           "gross_margin"
          ],
          [
           "2018_1",
           "accelerated_filer",
           "gross_margin"
          ],
          [
           "2018_1",
           "large_accelerated_filer",
           "gross_margin"
          ],
          [
           "2018_1",
           "non_accelerated_filer",
           "gross_margin"
          ],
          [
           "2018_2",
           "accelerated_filer",
           "gross_margin"
          ],
          [
           "2018_2",
           "large_accelerated_filer",
           "gross_margin"
          ],
          [
           "2018_2",
           "non_accelerated_filer",
           "gross_margin"
          ],
          [
           "2018_3",
           "accelerated_filer",
           "gross_margin"
          ],
          [
           "2018_3",
           "large_accelerated_filer",
           "gross_margin"
          ],
          [
           "2018_3",
           "non_accelerated_filer",
           "gross_margin"
          ],
          [
           "2018_4",
           "accelerated_filer",
           "gross_margin"
          ],
          [
           "2018_4",
           "large_accelerated_filer",
           "gross_margin"
          ],
          [
           "2018_4",
           "non_accelerated_filer",
           "gross_margin"
          ],
          [
           "2019_1",
           "accelerated_filer",
           "gross_margin"
          ],
          [
           "2019_1",
           "large_accelerated_filer",
           "gross_margin"
          ],
          [
           "2019_1",
           "non_accelerated_filer",
           "gross_margin"
          ],
          [
           "2019_2",
           "accelerated_filer",
           "gross_margin"
          ],
          [
           "2019_2",
           "large_accelerated_filer",
           "gross_margin"
          ],
          [
           "2019_2",
           "non_accelerated_filer",
           "gross_margin"
          ],
          [
           "2019_3",
           "accelerated_filer",
           "gross_margin"
          ],
          [
           "2019_3",
           "large_accelerated_filer",
           "gross_margin"
          ],
          [
           "2019_3",
           "non_accelerated_filer",
           "gross_margin"
          ],
          [
           "2019_4",
           "accelerated_filer",
           "gross_margin"
          ],
          [
           "2019_4",
           "large_accelerated_filer",
           "gross_margin"
          ],
          [
           "2019_4",
           "non_accelerated_filer",
           "gross_margin"
          ],
          [
           "2020_1",
           "accelerated_filer",
           "gross_margin"
          ],
          [
           "2020_1",
           "large_accelerated_filer",
           "gross_margin"
          ],
          [
           "2020_1",
           "non_accelerated_filer",
           "gross_margin"
          ],
          [
           "2020_2",
           "accelerated_filer",
           "gross_margin"
          ],
          [
           "2020_2",
           "large_accelerated_filer",
           "gross_margin"
          ],
          [
           "2020_2",
           "non_accelerated_filer",
           "gross_margin"
          ],
          [
           "2020_3",
           "accelerated_filer",
           "gross_margin"
          ],
          [
           "2020_3",
           "large_accelerated_filer",
           "gross_margin"
          ],
          [
           "2020_3",
           "non_accelerated_filer",
           "gross_margin"
          ],
          [
           "2020_4",
           "accelerated_filer",
           "gross_margin"
          ],
          [
           "2020_4",
           "large_accelerated_filer",
           "gross_margin"
          ],
          [
           "2020_4",
           "non_accelerated_filer",
           "gross_margin"
          ],
          [
           "2021_1",
           "non_accelerated_filer",
           "gross_margin"
          ],
          [
           "2021_1",
           "accelerated_filer",
           "gross_margin"
          ],
          [
           "2021_1",
           "large_accelerated_filer",
           "gross_margin"
          ],
          [
           "2021_2",
           "non_accelerated_filer",
           "gross_margin"
          ],
          [
           "2021_2",
           "accelerated_filer",
           "gross_margin"
          ],
          [
           "2021_2",
           "large_accelerated_filer",
           "gross_margin"
          ],
          [
           "2021_3",
           "non_accelerated_filer",
           "gross_margin"
          ],
          [
           "2021_3",
           "accelerated_filer",
           "gross_margin"
          ],
          [
           "2021_3",
           "large_accelerated_filer",
           "gross_margin"
          ]
         ],
         "fillcolor": "rgba(255,255,255,0)",
         "hoveron": "points",
         "hovertemplate": "kpi=%{customdata[2]}<br>used_to_all=%{x}<br>year_q=%{customdata[0]}<br>filer_type=%{customdata[1]}<extra></extra>",
         "jitter": 0,
         "legendgroup": "gross_margin",
         "line": {
          "color": "rgba(255,255,255,0)"
         },
         "marker": {
          "color": "#ab63fa",
          "symbol": "line-ns-open"
         },
         "name": "gross_margin",
         "offsetgroup": "gross_margin",
         "showlegend": false,
         "type": "box",
         "x": [
          0.79,
          0.96,
          0.8,
          0.91,
          0.98,
          0.94,
          0.91,
          0.98,
          0.94,
          0.97,
          0.96,
          1,
          0.89,
          0.98,
          0.76,
          0.92,
          0.98,
          0.93,
          0.97,
          0.98,
          0.93,
          0.83,
          0.98,
          1,
          0.94,
          1,
          0.73,
          0.97,
          1,
          0.8,
          0.74,
          0.98,
          1,
          0.94,
          0.92,
          0.86,
          0.56,
          0.87,
          0.69,
          0.78,
          0.94,
          0.73,
          0.81,
          0.98,
          0.6,
          0.77,
          0.92,
          0.97,
          0.63,
          0.89,
          0.97,
          0.64,
          0.96,
          1
         ],
         "xaxis": "x2",
         "yaxis": "y2"
        },
        {
         "alignmentgroup": "True",
         "bingroup": "x",
         "hovertemplate": "kpi=operating_profit_margin<br>used_to_all=%{x}<br>count=%{y}<extra></extra>",
         "legendgroup": "operating_profit_margin",
         "marker": {
          "color": "#FFA15A",
          "pattern": {
           "shape": ""
          }
         },
         "name": "operating_profit_margin",
         "offsetgroup": "operating_profit_margin",
         "orientation": "v",
         "showlegend": true,
         "type": "histogram",
         "x": [
          0.85,
          0.96,
          0.85,
          0.94,
          0.98,
          0.94,
          0.91,
          0.98,
          0.94,
          0.97,
          0.96,
          1,
          0.89,
          0.98,
          0.76,
          0.92,
          0.98,
          0.93,
          0.97,
          0.98,
          0.93,
          0.83,
          0.98,
          1,
          0.94,
          1,
          0.73,
          0.97,
          1,
          0.8,
          0.74,
          0.98,
          1,
          0.94,
          0.92,
          1,
          0.56,
          0.88,
          0.88,
          0.78,
          0.96,
          0.93,
          0.84,
          1,
          0.6,
          0.94,
          0.96,
          0.97,
          0.74,
          0.93,
          1,
          0.76,
          0.96,
          1
         ],
         "xaxis": "x",
         "yaxis": "y"
        },
        {
         "alignmentgroup": "True",
         "boxpoints": "all",
         "customdata": [
          [
           "2017_2",
           "accelerated_filer",
           "operating_profit_margin"
          ],
          [
           "2017_2",
           "large_accelerated_filer",
           "operating_profit_margin"
          ],
          [
           "2017_2",
           "non_accelerated_filer",
           "operating_profit_margin"
          ],
          [
           "2017_3",
           "accelerated_filer",
           "operating_profit_margin"
          ],
          [
           "2017_3",
           "large_accelerated_filer",
           "operating_profit_margin"
          ],
          [
           "2017_3",
           "non_accelerated_filer",
           "operating_profit_margin"
          ],
          [
           "2017_4",
           "accelerated_filer",
           "operating_profit_margin"
          ],
          [
           "2017_4",
           "large_accelerated_filer",
           "operating_profit_margin"
          ],
          [
           "2017_4",
           "non_accelerated_filer",
           "operating_profit_margin"
          ],
          [
           "2018_1",
           "accelerated_filer",
           "operating_profit_margin"
          ],
          [
           "2018_1",
           "large_accelerated_filer",
           "operating_profit_margin"
          ],
          [
           "2018_1",
           "non_accelerated_filer",
           "operating_profit_margin"
          ],
          [
           "2018_2",
           "accelerated_filer",
           "operating_profit_margin"
          ],
          [
           "2018_2",
           "large_accelerated_filer",
           "operating_profit_margin"
          ],
          [
           "2018_2",
           "non_accelerated_filer",
           "operating_profit_margin"
          ],
          [
           "2018_3",
           "accelerated_filer",
           "operating_profit_margin"
          ],
          [
           "2018_3",
           "large_accelerated_filer",
           "operating_profit_margin"
          ],
          [
           "2018_3",
           "non_accelerated_filer",
           "operating_profit_margin"
          ],
          [
           "2018_4",
           "accelerated_filer",
           "operating_profit_margin"
          ],
          [
           "2018_4",
           "large_accelerated_filer",
           "operating_profit_margin"
          ],
          [
           "2018_4",
           "non_accelerated_filer",
           "operating_profit_margin"
          ],
          [
           "2019_1",
           "accelerated_filer",
           "operating_profit_margin"
          ],
          [
           "2019_1",
           "large_accelerated_filer",
           "operating_profit_margin"
          ],
          [
           "2019_1",
           "non_accelerated_filer",
           "operating_profit_margin"
          ],
          [
           "2019_2",
           "accelerated_filer",
           "operating_profit_margin"
          ],
          [
           "2019_2",
           "large_accelerated_filer",
           "operating_profit_margin"
          ],
          [
           "2019_2",
           "non_accelerated_filer",
           "operating_profit_margin"
          ],
          [
           "2019_3",
           "accelerated_filer",
           "operating_profit_margin"
          ],
          [
           "2019_3",
           "large_accelerated_filer",
           "operating_profit_margin"
          ],
          [
           "2019_3",
           "non_accelerated_filer",
           "operating_profit_margin"
          ],
          [
           "2019_4",
           "accelerated_filer",
           "operating_profit_margin"
          ],
          [
           "2019_4",
           "large_accelerated_filer",
           "operating_profit_margin"
          ],
          [
           "2019_4",
           "non_accelerated_filer",
           "operating_profit_margin"
          ],
          [
           "2020_1",
           "accelerated_filer",
           "operating_profit_margin"
          ],
          [
           "2020_1",
           "large_accelerated_filer",
           "operating_profit_margin"
          ],
          [
           "2020_1",
           "non_accelerated_filer",
           "operating_profit_margin"
          ],
          [
           "2020_2",
           "accelerated_filer",
           "operating_profit_margin"
          ],
          [
           "2020_2",
           "large_accelerated_filer",
           "operating_profit_margin"
          ],
          [
           "2020_2",
           "non_accelerated_filer",
           "operating_profit_margin"
          ],
          [
           "2020_3",
           "accelerated_filer",
           "operating_profit_margin"
          ],
          [
           "2020_3",
           "large_accelerated_filer",
           "operating_profit_margin"
          ],
          [
           "2020_3",
           "non_accelerated_filer",
           "operating_profit_margin"
          ],
          [
           "2020_4",
           "accelerated_filer",
           "operating_profit_margin"
          ],
          [
           "2020_4",
           "large_accelerated_filer",
           "operating_profit_margin"
          ],
          [
           "2020_4",
           "non_accelerated_filer",
           "operating_profit_margin"
          ],
          [
           "2021_1",
           "non_accelerated_filer",
           "operating_profit_margin"
          ],
          [
           "2021_1",
           "accelerated_filer",
           "operating_profit_margin"
          ],
          [
           "2021_1",
           "large_accelerated_filer",
           "operating_profit_margin"
          ],
          [
           "2021_2",
           "non_accelerated_filer",
           "operating_profit_margin"
          ],
          [
           "2021_2",
           "accelerated_filer",
           "operating_profit_margin"
          ],
          [
           "2021_2",
           "large_accelerated_filer",
           "operating_profit_margin"
          ],
          [
           "2021_3",
           "non_accelerated_filer",
           "operating_profit_margin"
          ],
          [
           "2021_3",
           "accelerated_filer",
           "operating_profit_margin"
          ],
          [
           "2021_3",
           "large_accelerated_filer",
           "operating_profit_margin"
          ]
         ],
         "fillcolor": "rgba(255,255,255,0)",
         "hoveron": "points",
         "hovertemplate": "kpi=%{customdata[2]}<br>used_to_all=%{x}<br>year_q=%{customdata[0]}<br>filer_type=%{customdata[1]}<extra></extra>",
         "jitter": 0,
         "legendgroup": "operating_profit_margin",
         "line": {
          "color": "rgba(255,255,255,0)"
         },
         "marker": {
          "color": "#FFA15A",
          "symbol": "line-ns-open"
         },
         "name": "operating_profit_margin",
         "offsetgroup": "operating_profit_margin",
         "showlegend": false,
         "type": "box",
         "x": [
          0.85,
          0.96,
          0.85,
          0.94,
          0.98,
          0.94,
          0.91,
          0.98,
          0.94,
          0.97,
          0.96,
          1,
          0.89,
          0.98,
          0.76,
          0.92,
          0.98,
          0.93,
          0.97,
          0.98,
          0.93,
          0.83,
          0.98,
          1,
          0.94,
          1,
          0.73,
          0.97,
          1,
          0.8,
          0.74,
          0.98,
          1,
          0.94,
          0.92,
          1,
          0.56,
          0.88,
          0.88,
          0.78,
          0.96,
          0.93,
          0.84,
          1,
          0.6,
          0.94,
          0.96,
          0.97,
          0.74,
          0.93,
          1,
          0.76,
          0.96,
          1
         ],
         "xaxis": "x2",
         "yaxis": "y2"
        },
        {
         "alignmentgroup": "True",
         "bingroup": "x",
         "hovertemplate": "kpi=net_profit_margin<br>used_to_all=%{x}<br>count=%{y}<extra></extra>",
         "legendgroup": "net_profit_margin",
         "marker": {
          "color": "#19d3f3",
          "pattern": {
           "shape": ""
          }
         },
         "name": "net_profit_margin",
         "offsetgroup": "net_profit_margin",
         "orientation": "v",
         "showlegend": true,
         "type": "histogram",
         "x": [
          0.85,
          0.96,
          0.85,
          0.94,
          0.98,
          0.94,
          0.91,
          0.98,
          0.94,
          0.97,
          0.96,
          1,
          0.89,
          0.98,
          0.76,
          0.92,
          0.98,
          0.93,
          0.97,
          0.98,
          0.93,
          0.83,
          0.98,
          1,
          0.94,
          1,
          0.73,
          0.97,
          1,
          0.8,
          0.74,
          0.98,
          1,
          0.94,
          0.92,
          1,
          0.56,
          0.88,
          0.81,
          0.78,
          0.96,
          0.93,
          0.84,
          1,
          0.6,
          0.9,
          0.96,
          0.97,
          0.74,
          0.93,
          1,
          0.76,
          0.96,
          1
         ],
         "xaxis": "x",
         "yaxis": "y"
        },
        {
         "alignmentgroup": "True",
         "boxpoints": "all",
         "customdata": [
          [
           "2017_2",
           "accelerated_filer",
           "net_profit_margin"
          ],
          [
           "2017_2",
           "large_accelerated_filer",
           "net_profit_margin"
          ],
          [
           "2017_2",
           "non_accelerated_filer",
           "net_profit_margin"
          ],
          [
           "2017_3",
           "accelerated_filer",
           "net_profit_margin"
          ],
          [
           "2017_3",
           "large_accelerated_filer",
           "net_profit_margin"
          ],
          [
           "2017_3",
           "non_accelerated_filer",
           "net_profit_margin"
          ],
          [
           "2017_4",
           "accelerated_filer",
           "net_profit_margin"
          ],
          [
           "2017_4",
           "large_accelerated_filer",
           "net_profit_margin"
          ],
          [
           "2017_4",
           "non_accelerated_filer",
           "net_profit_margin"
          ],
          [
           "2018_1",
           "accelerated_filer",
           "net_profit_margin"
          ],
          [
           "2018_1",
           "large_accelerated_filer",
           "net_profit_margin"
          ],
          [
           "2018_1",
           "non_accelerated_filer",
           "net_profit_margin"
          ],
          [
           "2018_2",
           "accelerated_filer",
           "net_profit_margin"
          ],
          [
           "2018_2",
           "large_accelerated_filer",
           "net_profit_margin"
          ],
          [
           "2018_2",
           "non_accelerated_filer",
           "net_profit_margin"
          ],
          [
           "2018_3",
           "accelerated_filer",
           "net_profit_margin"
          ],
          [
           "2018_3",
           "large_accelerated_filer",
           "net_profit_margin"
          ],
          [
           "2018_3",
           "non_accelerated_filer",
           "net_profit_margin"
          ],
          [
           "2018_4",
           "accelerated_filer",
           "net_profit_margin"
          ],
          [
           "2018_4",
           "large_accelerated_filer",
           "net_profit_margin"
          ],
          [
           "2018_4",
           "non_accelerated_filer",
           "net_profit_margin"
          ],
          [
           "2019_1",
           "accelerated_filer",
           "net_profit_margin"
          ],
          [
           "2019_1",
           "large_accelerated_filer",
           "net_profit_margin"
          ],
          [
           "2019_1",
           "non_accelerated_filer",
           "net_profit_margin"
          ],
          [
           "2019_2",
           "accelerated_filer",
           "net_profit_margin"
          ],
          [
           "2019_2",
           "large_accelerated_filer",
           "net_profit_margin"
          ],
          [
           "2019_2",
           "non_accelerated_filer",
           "net_profit_margin"
          ],
          [
           "2019_3",
           "accelerated_filer",
           "net_profit_margin"
          ],
          [
           "2019_3",
           "large_accelerated_filer",
           "net_profit_margin"
          ],
          [
           "2019_3",
           "non_accelerated_filer",
           "net_profit_margin"
          ],
          [
           "2019_4",
           "accelerated_filer",
           "net_profit_margin"
          ],
          [
           "2019_4",
           "large_accelerated_filer",
           "net_profit_margin"
          ],
          [
           "2019_4",
           "non_accelerated_filer",
           "net_profit_margin"
          ],
          [
           "2020_1",
           "accelerated_filer",
           "net_profit_margin"
          ],
          [
           "2020_1",
           "large_accelerated_filer",
           "net_profit_margin"
          ],
          [
           "2020_1",
           "non_accelerated_filer",
           "net_profit_margin"
          ],
          [
           "2020_2",
           "accelerated_filer",
           "net_profit_margin"
          ],
          [
           "2020_2",
           "large_accelerated_filer",
           "net_profit_margin"
          ],
          [
           "2020_2",
           "non_accelerated_filer",
           "net_profit_margin"
          ],
          [
           "2020_3",
           "accelerated_filer",
           "net_profit_margin"
          ],
          [
           "2020_3",
           "large_accelerated_filer",
           "net_profit_margin"
          ],
          [
           "2020_3",
           "non_accelerated_filer",
           "net_profit_margin"
          ],
          [
           "2020_4",
           "accelerated_filer",
           "net_profit_margin"
          ],
          [
           "2020_4",
           "large_accelerated_filer",
           "net_profit_margin"
          ],
          [
           "2020_4",
           "non_accelerated_filer",
           "net_profit_margin"
          ],
          [
           "2021_1",
           "non_accelerated_filer",
           "net_profit_margin"
          ],
          [
           "2021_1",
           "accelerated_filer",
           "net_profit_margin"
          ],
          [
           "2021_1",
           "large_accelerated_filer",
           "net_profit_margin"
          ],
          [
           "2021_2",
           "non_accelerated_filer",
           "net_profit_margin"
          ],
          [
           "2021_2",
           "accelerated_filer",
           "net_profit_margin"
          ],
          [
           "2021_2",
           "large_accelerated_filer",
           "net_profit_margin"
          ],
          [
           "2021_3",
           "non_accelerated_filer",
           "net_profit_margin"
          ],
          [
           "2021_3",
           "accelerated_filer",
           "net_profit_margin"
          ],
          [
           "2021_3",
           "large_accelerated_filer",
           "net_profit_margin"
          ]
         ],
         "fillcolor": "rgba(255,255,255,0)",
         "hoveron": "points",
         "hovertemplate": "kpi=%{customdata[2]}<br>used_to_all=%{x}<br>year_q=%{customdata[0]}<br>filer_type=%{customdata[1]}<extra></extra>",
         "jitter": 0,
         "legendgroup": "net_profit_margin",
         "line": {
          "color": "rgba(255,255,255,0)"
         },
         "marker": {
          "color": "#19d3f3",
          "symbol": "line-ns-open"
         },
         "name": "net_profit_margin",
         "offsetgroup": "net_profit_margin",
         "showlegend": false,
         "type": "box",
         "x": [
          0.85,
          0.96,
          0.85,
          0.94,
          0.98,
          0.94,
          0.91,
          0.98,
          0.94,
          0.97,
          0.96,
          1,
          0.89,
          0.98,
          0.76,
          0.92,
          0.98,
          0.93,
          0.97,
          0.98,
          0.93,
          0.83,
          0.98,
          1,
          0.94,
          1,
          0.73,
          0.97,
          1,
          0.8,
          0.74,
          0.98,
          1,
          0.94,
          0.92,
          1,
          0.56,
          0.88,
          0.81,
          0.78,
          0.96,
          0.93,
          0.84,
          1,
          0.6,
          0.9,
          0.96,
          0.97,
          0.74,
          0.93,
          1,
          0.76,
          0.96,
          1
         ],
         "xaxis": "x2",
         "yaxis": "y2"
        },
        {
         "alignmentgroup": "True",
         "bingroup": "x",
         "hovertemplate": "kpi=debt_to_equity<br>used_to_all=%{x}<br>count=%{y}<extra></extra>",
         "legendgroup": "debt_to_equity",
         "marker": {
          "color": "#FF6692",
          "pattern": {
           "shape": ""
          }
         },
         "name": "debt_to_equity",
         "offsetgroup": "debt_to_equity",
         "orientation": "v",
         "showlegend": true,
         "type": "histogram",
         "x": [
          0.88,
          0.98,
          0.75,
          0.91,
          1,
          0.89,
          0.91,
          1,
          0.89,
          0.94,
          0.98,
          0.91,
          0.89,
          1,
          0.71,
          0.95,
          0.98,
          0.86,
          0.95,
          1,
          0.86,
          0.83,
          0.96,
          0.86,
          0.91,
          1,
          0.64,
          0.94,
          1,
          0.7,
          0.74,
          0.98,
          0.82,
          0.97,
          0.92,
          0.79,
          0.56,
          0.88,
          0.69,
          0.81,
          0.96,
          0.73,
          0.91,
          1,
          0.53,
          0.87,
          0.96,
          0.97,
          0.71,
          0.93,
          0.97,
          0.76,
          1,
          1
         ],
         "xaxis": "x",
         "yaxis": "y"
        },
        {
         "alignmentgroup": "True",
         "boxpoints": "all",
         "customdata": [
          [
           "2017_2",
           "accelerated_filer",
           "debt_to_equity"
          ],
          [
           "2017_2",
           "large_accelerated_filer",
           "debt_to_equity"
          ],
          [
           "2017_2",
           "non_accelerated_filer",
           "debt_to_equity"
          ],
          [
           "2017_3",
           "accelerated_filer",
           "debt_to_equity"
          ],
          [
           "2017_3",
           "large_accelerated_filer",
           "debt_to_equity"
          ],
          [
           "2017_3",
           "non_accelerated_filer",
           "debt_to_equity"
          ],
          [
           "2017_4",
           "accelerated_filer",
           "debt_to_equity"
          ],
          [
           "2017_4",
           "large_accelerated_filer",
           "debt_to_equity"
          ],
          [
           "2017_4",
           "non_accelerated_filer",
           "debt_to_equity"
          ],
          [
           "2018_1",
           "accelerated_filer",
           "debt_to_equity"
          ],
          [
           "2018_1",
           "large_accelerated_filer",
           "debt_to_equity"
          ],
          [
           "2018_1",
           "non_accelerated_filer",
           "debt_to_equity"
          ],
          [
           "2018_2",
           "accelerated_filer",
           "debt_to_equity"
          ],
          [
           "2018_2",
           "large_accelerated_filer",
           "debt_to_equity"
          ],
          [
           "2018_2",
           "non_accelerated_filer",
           "debt_to_equity"
          ],
          [
           "2018_3",
           "accelerated_filer",
           "debt_to_equity"
          ],
          [
           "2018_3",
           "large_accelerated_filer",
           "debt_to_equity"
          ],
          [
           "2018_3",
           "non_accelerated_filer",
           "debt_to_equity"
          ],
          [
           "2018_4",
           "accelerated_filer",
           "debt_to_equity"
          ],
          [
           "2018_4",
           "large_accelerated_filer",
           "debt_to_equity"
          ],
          [
           "2018_4",
           "non_accelerated_filer",
           "debt_to_equity"
          ],
          [
           "2019_1",
           "accelerated_filer",
           "debt_to_equity"
          ],
          [
           "2019_1",
           "large_accelerated_filer",
           "debt_to_equity"
          ],
          [
           "2019_1",
           "non_accelerated_filer",
           "debt_to_equity"
          ],
          [
           "2019_2",
           "accelerated_filer",
           "debt_to_equity"
          ],
          [
           "2019_2",
           "large_accelerated_filer",
           "debt_to_equity"
          ],
          [
           "2019_2",
           "non_accelerated_filer",
           "debt_to_equity"
          ],
          [
           "2019_3",
           "accelerated_filer",
           "debt_to_equity"
          ],
          [
           "2019_3",
           "large_accelerated_filer",
           "debt_to_equity"
          ],
          [
           "2019_3",
           "non_accelerated_filer",
           "debt_to_equity"
          ],
          [
           "2019_4",
           "accelerated_filer",
           "debt_to_equity"
          ],
          [
           "2019_4",
           "large_accelerated_filer",
           "debt_to_equity"
          ],
          [
           "2019_4",
           "non_accelerated_filer",
           "debt_to_equity"
          ],
          [
           "2020_1",
           "accelerated_filer",
           "debt_to_equity"
          ],
          [
           "2020_1",
           "large_accelerated_filer",
           "debt_to_equity"
          ],
          [
           "2020_1",
           "non_accelerated_filer",
           "debt_to_equity"
          ],
          [
           "2020_2",
           "accelerated_filer",
           "debt_to_equity"
          ],
          [
           "2020_2",
           "large_accelerated_filer",
           "debt_to_equity"
          ],
          [
           "2020_2",
           "non_accelerated_filer",
           "debt_to_equity"
          ],
          [
           "2020_3",
           "accelerated_filer",
           "debt_to_equity"
          ],
          [
           "2020_3",
           "large_accelerated_filer",
           "debt_to_equity"
          ],
          [
           "2020_3",
           "non_accelerated_filer",
           "debt_to_equity"
          ],
          [
           "2020_4",
           "accelerated_filer",
           "debt_to_equity"
          ],
          [
           "2020_4",
           "large_accelerated_filer",
           "debt_to_equity"
          ],
          [
           "2020_4",
           "non_accelerated_filer",
           "debt_to_equity"
          ],
          [
           "2021_1",
           "non_accelerated_filer",
           "debt_to_equity"
          ],
          [
           "2021_1",
           "accelerated_filer",
           "debt_to_equity"
          ],
          [
           "2021_1",
           "large_accelerated_filer",
           "debt_to_equity"
          ],
          [
           "2021_2",
           "non_accelerated_filer",
           "debt_to_equity"
          ],
          [
           "2021_2",
           "accelerated_filer",
           "debt_to_equity"
          ],
          [
           "2021_2",
           "large_accelerated_filer",
           "debt_to_equity"
          ],
          [
           "2021_3",
           "non_accelerated_filer",
           "debt_to_equity"
          ],
          [
           "2021_3",
           "accelerated_filer",
           "debt_to_equity"
          ],
          [
           "2021_3",
           "large_accelerated_filer",
           "debt_to_equity"
          ]
         ],
         "fillcolor": "rgba(255,255,255,0)",
         "hoveron": "points",
         "hovertemplate": "kpi=%{customdata[2]}<br>used_to_all=%{x}<br>year_q=%{customdata[0]}<br>filer_type=%{customdata[1]}<extra></extra>",
         "jitter": 0,
         "legendgroup": "debt_to_equity",
         "line": {
          "color": "rgba(255,255,255,0)"
         },
         "marker": {
          "color": "#FF6692",
          "symbol": "line-ns-open"
         },
         "name": "debt_to_equity",
         "offsetgroup": "debt_to_equity",
         "showlegend": false,
         "type": "box",
         "x": [
          0.88,
          0.98,
          0.75,
          0.91,
          1,
          0.89,
          0.91,
          1,
          0.89,
          0.94,
          0.98,
          0.91,
          0.89,
          1,
          0.71,
          0.95,
          0.98,
          0.86,
          0.95,
          1,
          0.86,
          0.83,
          0.96,
          0.86,
          0.91,
          1,
          0.64,
          0.94,
          1,
          0.7,
          0.74,
          0.98,
          0.82,
          0.97,
          0.92,
          0.79,
          0.56,
          0.88,
          0.69,
          0.81,
          0.96,
          0.73,
          0.91,
          1,
          0.53,
          0.87,
          0.96,
          0.97,
          0.71,
          0.93,
          0.97,
          0.76,
          1,
          1
         ],
         "xaxis": "x2",
         "yaxis": "y2"
        },
        {
         "alignmentgroup": "True",
         "bingroup": "x",
         "hovertemplate": "kpi=equity<br>used_to_all=%{x}<br>count=%{y}<extra></extra>",
         "legendgroup": "equity",
         "marker": {
          "color": "#B6E880",
          "pattern": {
           "shape": ""
          }
         },
         "name": "equity",
         "offsetgroup": "equity",
         "orientation": "v",
         "showlegend": true,
         "type": "histogram",
         "x": [
          0.91,
          0.98,
          0.8,
          0.94,
          1,
          0.94,
          0.97,
          1,
          0.94,
          1,
          0.98,
          1,
          0.95,
          1,
          0.76,
          0.97,
          0.98,
          0.93,
          1,
          1,
          0.93,
          0.86,
          0.96,
          1,
          0.97,
          1,
          0.73,
          0.97,
          1,
          0.8,
          0.74,
          0.98,
          0.91,
          0.97,
          0.92,
          0.93,
          0.56,
          0.88,
          0.81,
          0.81,
          0.96,
          0.87,
          0.91,
          1,
          0.67,
          0.94,
          0.96,
          0.97,
          0.77,
          0.93,
          0.97,
          0.82,
          1,
          1
         ],
         "xaxis": "x",
         "yaxis": "y"
        },
        {
         "alignmentgroup": "True",
         "boxpoints": "all",
         "customdata": [
          [
           "2017_2",
           "accelerated_filer",
           "equity"
          ],
          [
           "2017_2",
           "large_accelerated_filer",
           "equity"
          ],
          [
           "2017_2",
           "non_accelerated_filer",
           "equity"
          ],
          [
           "2017_3",
           "accelerated_filer",
           "equity"
          ],
          [
           "2017_3",
           "large_accelerated_filer",
           "equity"
          ],
          [
           "2017_3",
           "non_accelerated_filer",
           "equity"
          ],
          [
           "2017_4",
           "accelerated_filer",
           "equity"
          ],
          [
           "2017_4",
           "large_accelerated_filer",
           "equity"
          ],
          [
           "2017_4",
           "non_accelerated_filer",
           "equity"
          ],
          [
           "2018_1",
           "accelerated_filer",
           "equity"
          ],
          [
           "2018_1",
           "large_accelerated_filer",
           "equity"
          ],
          [
           "2018_1",
           "non_accelerated_filer",
           "equity"
          ],
          [
           "2018_2",
           "accelerated_filer",
           "equity"
          ],
          [
           "2018_2",
           "large_accelerated_filer",
           "equity"
          ],
          [
           "2018_2",
           "non_accelerated_filer",
           "equity"
          ],
          [
           "2018_3",
           "accelerated_filer",
           "equity"
          ],
          [
           "2018_3",
           "large_accelerated_filer",
           "equity"
          ],
          [
           "2018_3",
           "non_accelerated_filer",
           "equity"
          ],
          [
           "2018_4",
           "accelerated_filer",
           "equity"
          ],
          [
           "2018_4",
           "large_accelerated_filer",
           "equity"
          ],
          [
           "2018_4",
           "non_accelerated_filer",
           "equity"
          ],
          [
           "2019_1",
           "accelerated_filer",
           "equity"
          ],
          [
           "2019_1",
           "large_accelerated_filer",
           "equity"
          ],
          [
           "2019_1",
           "non_accelerated_filer",
           "equity"
          ],
          [
           "2019_2",
           "accelerated_filer",
           "equity"
          ],
          [
           "2019_2",
           "large_accelerated_filer",
           "equity"
          ],
          [
           "2019_2",
           "non_accelerated_filer",
           "equity"
          ],
          [
           "2019_3",
           "accelerated_filer",
           "equity"
          ],
          [
           "2019_3",
           "large_accelerated_filer",
           "equity"
          ],
          [
           "2019_3",
           "non_accelerated_filer",
           "equity"
          ],
          [
           "2019_4",
           "accelerated_filer",
           "equity"
          ],
          [
           "2019_4",
           "large_accelerated_filer",
           "equity"
          ],
          [
           "2019_4",
           "non_accelerated_filer",
           "equity"
          ],
          [
           "2020_1",
           "accelerated_filer",
           "equity"
          ],
          [
           "2020_1",
           "large_accelerated_filer",
           "equity"
          ],
          [
           "2020_1",
           "non_accelerated_filer",
           "equity"
          ],
          [
           "2020_2",
           "accelerated_filer",
           "equity"
          ],
          [
           "2020_2",
           "large_accelerated_filer",
           "equity"
          ],
          [
           "2020_2",
           "non_accelerated_filer",
           "equity"
          ],
          [
           "2020_3",
           "accelerated_filer",
           "equity"
          ],
          [
           "2020_3",
           "large_accelerated_filer",
           "equity"
          ],
          [
           "2020_3",
           "non_accelerated_filer",
           "equity"
          ],
          [
           "2020_4",
           "accelerated_filer",
           "equity"
          ],
          [
           "2020_4",
           "large_accelerated_filer",
           "equity"
          ],
          [
           "2020_4",
           "non_accelerated_filer",
           "equity"
          ],
          [
           "2021_1",
           "non_accelerated_filer",
           "equity"
          ],
          [
           "2021_1",
           "accelerated_filer",
           "equity"
          ],
          [
           "2021_1",
           "large_accelerated_filer",
           "equity"
          ],
          [
           "2021_2",
           "non_accelerated_filer",
           "equity"
          ],
          [
           "2021_2",
           "accelerated_filer",
           "equity"
          ],
          [
           "2021_2",
           "large_accelerated_filer",
           "equity"
          ],
          [
           "2021_3",
           "non_accelerated_filer",
           "equity"
          ],
          [
           "2021_3",
           "accelerated_filer",
           "equity"
          ],
          [
           "2021_3",
           "large_accelerated_filer",
           "equity"
          ]
         ],
         "fillcolor": "rgba(255,255,255,0)",
         "hoveron": "points",
         "hovertemplate": "kpi=%{customdata[2]}<br>used_to_all=%{x}<br>year_q=%{customdata[0]}<br>filer_type=%{customdata[1]}<extra></extra>",
         "jitter": 0,
         "legendgroup": "equity",
         "line": {
          "color": "rgba(255,255,255,0)"
         },
         "marker": {
          "color": "#B6E880",
          "symbol": "line-ns-open"
         },
         "name": "equity",
         "offsetgroup": "equity",
         "showlegend": false,
         "type": "box",
         "x": [
          0.91,
          0.98,
          0.8,
          0.94,
          1,
          0.94,
          0.97,
          1,
          0.94,
          1,
          0.98,
          1,
          0.95,
          1,
          0.76,
          0.97,
          0.98,
          0.93,
          1,
          1,
          0.93,
          0.86,
          0.96,
          1,
          0.97,
          1,
          0.73,
          0.97,
          1,
          0.8,
          0.74,
          0.98,
          0.91,
          0.97,
          0.92,
          0.93,
          0.56,
          0.88,
          0.81,
          0.81,
          0.96,
          0.87,
          0.91,
          1,
          0.67,
          0.94,
          0.96,
          0.97,
          0.77,
          0.93,
          0.97,
          0.82,
          1,
          1
         ],
         "xaxis": "x2",
         "yaxis": "y2"
        },
        {
         "alignmentgroup": "True",
         "bingroup": "x",
         "hovertemplate": "kpi=debt<br>used_to_all=%{x}<br>count=%{y}<extra></extra>",
         "legendgroup": "debt",
         "marker": {
          "color": "#FF97FF",
          "pattern": {
           "shape": ""
          }
         },
         "name": "debt",
         "offsetgroup": "debt",
         "orientation": "v",
         "showlegend": true,
         "type": "histogram",
         "x": [
          0.68,
          0.91,
          0.6,
          0.74,
          0.94,
          0.78,
          0.71,
          0.94,
          0.78,
          0.75,
          0.94,
          0.82,
          0.74,
          0.96,
          0.59,
          0.76,
          0.94,
          0.71,
          0.73,
          0.96,
          0.71,
          0.66,
          0.94,
          0.86,
          0.77,
          1,
          0.55,
          0.8,
          0.98,
          0.6,
          0.69,
          0.96,
          0.82,
          0.84,
          0.9,
          0.79,
          0.56,
          0.87,
          0.69,
          0.81,
          0.92,
          0.73,
          0.81,
          0.96,
          0.6,
          0.77,
          0.88,
          0.97,
          0.66,
          0.86,
          0.97,
          0.67,
          0.93,
          1
         ],
         "xaxis": "x",
         "yaxis": "y"
        },
        {
         "alignmentgroup": "True",
         "boxpoints": "all",
         "customdata": [
          [
           "2017_2",
           "accelerated_filer",
           "debt"
          ],
          [
           "2017_2",
           "large_accelerated_filer",
           "debt"
          ],
          [
           "2017_2",
           "non_accelerated_filer",
           "debt"
          ],
          [
           "2017_3",
           "accelerated_filer",
           "debt"
          ],
          [
           "2017_3",
           "large_accelerated_filer",
           "debt"
          ],
          [
           "2017_3",
           "non_accelerated_filer",
           "debt"
          ],
          [
           "2017_4",
           "accelerated_filer",
           "debt"
          ],
          [
           "2017_4",
           "large_accelerated_filer",
           "debt"
          ],
          [
           "2017_4",
           "non_accelerated_filer",
           "debt"
          ],
          [
           "2018_1",
           "accelerated_filer",
           "debt"
          ],
          [
           "2018_1",
           "large_accelerated_filer",
           "debt"
          ],
          [
           "2018_1",
           "non_accelerated_filer",
           "debt"
          ],
          [
           "2018_2",
           "accelerated_filer",
           "debt"
          ],
          [
           "2018_2",
           "large_accelerated_filer",
           "debt"
          ],
          [
           "2018_2",
           "non_accelerated_filer",
           "debt"
          ],
          [
           "2018_3",
           "accelerated_filer",
           "debt"
          ],
          [
           "2018_3",
           "large_accelerated_filer",
           "debt"
          ],
          [
           "2018_3",
           "non_accelerated_filer",
           "debt"
          ],
          [
           "2018_4",
           "accelerated_filer",
           "debt"
          ],
          [
           "2018_4",
           "large_accelerated_filer",
           "debt"
          ],
          [
           "2018_4",
           "non_accelerated_filer",
           "debt"
          ],
          [
           "2019_1",
           "accelerated_filer",
           "debt"
          ],
          [
           "2019_1",
           "large_accelerated_filer",
           "debt"
          ],
          [
           "2019_1",
           "non_accelerated_filer",
           "debt"
          ],
          [
           "2019_2",
           "accelerated_filer",
           "debt"
          ],
          [
           "2019_2",
           "large_accelerated_filer",
           "debt"
          ],
          [
           "2019_2",
           "non_accelerated_filer",
           "debt"
          ],
          [
           "2019_3",
           "accelerated_filer",
           "debt"
          ],
          [
           "2019_3",
           "large_accelerated_filer",
           "debt"
          ],
          [
           "2019_3",
           "non_accelerated_filer",
           "debt"
          ],
          [
           "2019_4",
           "accelerated_filer",
           "debt"
          ],
          [
           "2019_4",
           "large_accelerated_filer",
           "debt"
          ],
          [
           "2019_4",
           "non_accelerated_filer",
           "debt"
          ],
          [
           "2020_1",
           "accelerated_filer",
           "debt"
          ],
          [
           "2020_1",
           "large_accelerated_filer",
           "debt"
          ],
          [
           "2020_1",
           "non_accelerated_filer",
           "debt"
          ],
          [
           "2020_2",
           "accelerated_filer",
           "debt"
          ],
          [
           "2020_2",
           "large_accelerated_filer",
           "debt"
          ],
          [
           "2020_2",
           "non_accelerated_filer",
           "debt"
          ],
          [
           "2020_3",
           "accelerated_filer",
           "debt"
          ],
          [
           "2020_3",
           "large_accelerated_filer",
           "debt"
          ],
          [
           "2020_3",
           "non_accelerated_filer",
           "debt"
          ],
          [
           "2020_4",
           "accelerated_filer",
           "debt"
          ],
          [
           "2020_4",
           "large_accelerated_filer",
           "debt"
          ],
          [
           "2020_4",
           "non_accelerated_filer",
           "debt"
          ],
          [
           "2021_1",
           "non_accelerated_filer",
           "debt"
          ],
          [
           "2021_1",
           "accelerated_filer",
           "debt"
          ],
          [
           "2021_1",
           "large_accelerated_filer",
           "debt"
          ],
          [
           "2021_2",
           "non_accelerated_filer",
           "debt"
          ],
          [
           "2021_2",
           "accelerated_filer",
           "debt"
          ],
          [
           "2021_2",
           "large_accelerated_filer",
           "debt"
          ],
          [
           "2021_3",
           "non_accelerated_filer",
           "debt"
          ],
          [
           "2021_3",
           "accelerated_filer",
           "debt"
          ],
          [
           "2021_3",
           "large_accelerated_filer",
           "debt"
          ]
         ],
         "fillcolor": "rgba(255,255,255,0)",
         "hoveron": "points",
         "hovertemplate": "kpi=%{customdata[2]}<br>used_to_all=%{x}<br>year_q=%{customdata[0]}<br>filer_type=%{customdata[1]}<extra></extra>",
         "jitter": 0,
         "legendgroup": "debt",
         "line": {
          "color": "rgba(255,255,255,0)"
         },
         "marker": {
          "color": "#FF97FF",
          "symbol": "line-ns-open"
         },
         "name": "debt",
         "offsetgroup": "debt",
         "showlegend": false,
         "type": "box",
         "x": [
          0.68,
          0.91,
          0.6,
          0.74,
          0.94,
          0.78,
          0.71,
          0.94,
          0.78,
          0.75,
          0.94,
          0.82,
          0.74,
          0.96,
          0.59,
          0.76,
          0.94,
          0.71,
          0.73,
          0.96,
          0.71,
          0.66,
          0.94,
          0.86,
          0.77,
          1,
          0.55,
          0.8,
          0.98,
          0.6,
          0.69,
          0.96,
          0.82,
          0.84,
          0.9,
          0.79,
          0.56,
          0.87,
          0.69,
          0.81,
          0.92,
          0.73,
          0.81,
          0.96,
          0.6,
          0.77,
          0.88,
          0.97,
          0.66,
          0.86,
          0.97,
          0.67,
          0.93,
          1
         ],
         "xaxis": "x2",
         "yaxis": "y2"
        },
        {
         "alignmentgroup": "True",
         "bingroup": "x",
         "hovertemplate": "kpi=current<br>used_to_all=%{x}<br>count=%{y}<extra></extra>",
         "legendgroup": "current",
         "marker": {
          "color": "#FECB52",
          "pattern": {
           "shape": ""
          }
         },
         "name": "current",
         "offsetgroup": "current",
         "orientation": "v",
         "showlegend": true,
         "type": "histogram",
         "x": [
          0.91,
          0.98,
          0.75,
          0.91,
          1,
          0.89,
          0.91,
          1,
          0.89,
          0.94,
          0.98,
          0.91,
          0.89,
          1,
          0.71,
          0.95,
          0.98,
          0.86,
          0.95,
          1,
          0.86,
          0.83,
          0.98,
          0.86,
          0.91,
          1,
          0.64,
          0.94,
          1,
          0.7,
          0.77,
          0.98,
          0.91,
          0.97,
          0.92,
          0.79,
          0.56,
          0.88,
          0.69,
          0.81,
          0.96,
          0.73,
          0.91,
          1,
          0.53,
          0.87,
          0.96,
          0.97,
          0.71,
          0.93,
          0.97,
          0.73,
          1,
          1
         ],
         "xaxis": "x",
         "yaxis": "y"
        },
        {
         "alignmentgroup": "True",
         "boxpoints": "all",
         "customdata": [
          [
           "2017_2",
           "accelerated_filer",
           "current"
          ],
          [
           "2017_2",
           "large_accelerated_filer",
           "current"
          ],
          [
           "2017_2",
           "non_accelerated_filer",
           "current"
          ],
          [
           "2017_3",
           "accelerated_filer",
           "current"
          ],
          [
           "2017_3",
           "large_accelerated_filer",
           "current"
          ],
          [
           "2017_3",
           "non_accelerated_filer",
           "current"
          ],
          [
           "2017_4",
           "accelerated_filer",
           "current"
          ],
          [
           "2017_4",
           "large_accelerated_filer",
           "current"
          ],
          [
           "2017_4",
           "non_accelerated_filer",
           "current"
          ],
          [
           "2018_1",
           "accelerated_filer",
           "current"
          ],
          [
           "2018_1",
           "large_accelerated_filer",
           "current"
          ],
          [
           "2018_1",
           "non_accelerated_filer",
           "current"
          ],
          [
           "2018_2",
           "accelerated_filer",
           "current"
          ],
          [
           "2018_2",
           "large_accelerated_filer",
           "current"
          ],
          [
           "2018_2",
           "non_accelerated_filer",
           "current"
          ],
          [
           "2018_3",
           "accelerated_filer",
           "current"
          ],
          [
           "2018_3",
           "large_accelerated_filer",
           "current"
          ],
          [
           "2018_3",
           "non_accelerated_filer",
           "current"
          ],
          [
           "2018_4",
           "accelerated_filer",
           "current"
          ],
          [
           "2018_4",
           "large_accelerated_filer",
           "current"
          ],
          [
           "2018_4",
           "non_accelerated_filer",
           "current"
          ],
          [
           "2019_1",
           "accelerated_filer",
           "current"
          ],
          [
           "2019_1",
           "large_accelerated_filer",
           "current"
          ],
          [
           "2019_1",
           "non_accelerated_filer",
           "current"
          ],
          [
           "2019_2",
           "accelerated_filer",
           "current"
          ],
          [
           "2019_2",
           "large_accelerated_filer",
           "current"
          ],
          [
           "2019_2",
           "non_accelerated_filer",
           "current"
          ],
          [
           "2019_3",
           "accelerated_filer",
           "current"
          ],
          [
           "2019_3",
           "large_accelerated_filer",
           "current"
          ],
          [
           "2019_3",
           "non_accelerated_filer",
           "current"
          ],
          [
           "2019_4",
           "accelerated_filer",
           "current"
          ],
          [
           "2019_4",
           "large_accelerated_filer",
           "current"
          ],
          [
           "2019_4",
           "non_accelerated_filer",
           "current"
          ],
          [
           "2020_1",
           "accelerated_filer",
           "current"
          ],
          [
           "2020_1",
           "large_accelerated_filer",
           "current"
          ],
          [
           "2020_1",
           "non_accelerated_filer",
           "current"
          ],
          [
           "2020_2",
           "accelerated_filer",
           "current"
          ],
          [
           "2020_2",
           "large_accelerated_filer",
           "current"
          ],
          [
           "2020_2",
           "non_accelerated_filer",
           "current"
          ],
          [
           "2020_3",
           "accelerated_filer",
           "current"
          ],
          [
           "2020_3",
           "large_accelerated_filer",
           "current"
          ],
          [
           "2020_3",
           "non_accelerated_filer",
           "current"
          ],
          [
           "2020_4",
           "accelerated_filer",
           "current"
          ],
          [
           "2020_4",
           "large_accelerated_filer",
           "current"
          ],
          [
           "2020_4",
           "non_accelerated_filer",
           "current"
          ],
          [
           "2021_1",
           "non_accelerated_filer",
           "current"
          ],
          [
           "2021_1",
           "accelerated_filer",
           "current"
          ],
          [
           "2021_1",
           "large_accelerated_filer",
           "current"
          ],
          [
           "2021_2",
           "non_accelerated_filer",
           "current"
          ],
          [
           "2021_2",
           "accelerated_filer",
           "current"
          ],
          [
           "2021_2",
           "large_accelerated_filer",
           "current"
          ],
          [
           "2021_3",
           "non_accelerated_filer",
           "current"
          ],
          [
           "2021_3",
           "accelerated_filer",
           "current"
          ],
          [
           "2021_3",
           "large_accelerated_filer",
           "current"
          ]
         ],
         "fillcolor": "rgba(255,255,255,0)",
         "hoveron": "points",
         "hovertemplate": "kpi=%{customdata[2]}<br>used_to_all=%{x}<br>year_q=%{customdata[0]}<br>filer_type=%{customdata[1]}<extra></extra>",
         "jitter": 0,
         "legendgroup": "current",
         "line": {
          "color": "rgba(255,255,255,0)"
         },
         "marker": {
          "color": "#FECB52",
          "symbol": "line-ns-open"
         },
         "name": "current",
         "offsetgroup": "current",
         "showlegend": false,
         "type": "box",
         "x": [
          0.91,
          0.98,
          0.75,
          0.91,
          1,
          0.89,
          0.91,
          1,
          0.89,
          0.94,
          0.98,
          0.91,
          0.89,
          1,
          0.71,
          0.95,
          0.98,
          0.86,
          0.95,
          1,
          0.86,
          0.83,
          0.98,
          0.86,
          0.91,
          1,
          0.64,
          0.94,
          1,
          0.7,
          0.77,
          0.98,
          0.91,
          0.97,
          0.92,
          0.79,
          0.56,
          0.88,
          0.69,
          0.81,
          0.96,
          0.73,
          0.91,
          1,
          0.53,
          0.87,
          0.96,
          0.97,
          0.71,
          0.93,
          0.97,
          0.73,
          1,
          1
         ],
         "xaxis": "x2",
         "yaxis": "y2"
        },
        {
         "alignmentgroup": "True",
         "bingroup": "x",
         "hovertemplate": "kpi=quick<br>used_to_all=%{x}<br>count=%{y}<extra></extra>",
         "legendgroup": "quick",
         "marker": {
          "color": "#636efa",
          "pattern": {
           "shape": ""
          }
         },
         "name": "quick",
         "offsetgroup": "quick",
         "orientation": "v",
         "showlegend": true,
         "type": "histogram",
         "x": [
          0.74,
          0.96,
          0.65,
          0.71,
          1,
          0.72,
          0.68,
          1,
          0.78,
          0.78,
          0.96,
          0.73,
          0.74,
          1,
          0.53,
          0.78,
          0.98,
          0.64,
          0.78,
          0.98,
          0.64,
          0.69,
          0.96,
          0.71,
          0.71,
          0.98,
          0.45,
          0.74,
          0.98,
          0.5,
          0.63,
          0.96,
          0.64,
          0.78,
          0.9,
          0.64,
          0.53,
          0.85,
          0.56,
          0.75,
          0.94,
          0.6,
          0.72,
          0.96,
          0.47,
          0.71,
          0.92,
          0.97,
          0.6,
          0.86,
          0.97,
          0.61,
          0.93,
          1
         ],
         "xaxis": "x",
         "yaxis": "y"
        },
        {
         "alignmentgroup": "True",
         "boxpoints": "all",
         "customdata": [
          [
           "2017_2",
           "accelerated_filer",
           "quick"
          ],
          [
           "2017_2",
           "large_accelerated_filer",
           "quick"
          ],
          [
           "2017_2",
           "non_accelerated_filer",
           "quick"
          ],
          [
           "2017_3",
           "accelerated_filer",
           "quick"
          ],
          [
           "2017_3",
           "large_accelerated_filer",
           "quick"
          ],
          [
           "2017_3",
           "non_accelerated_filer",
           "quick"
          ],
          [
           "2017_4",
           "accelerated_filer",
           "quick"
          ],
          [
           "2017_4",
           "large_accelerated_filer",
           "quick"
          ],
          [
           "2017_4",
           "non_accelerated_filer",
           "quick"
          ],
          [
           "2018_1",
           "accelerated_filer",
           "quick"
          ],
          [
           "2018_1",
           "large_accelerated_filer",
           "quick"
          ],
          [
           "2018_1",
           "non_accelerated_filer",
           "quick"
          ],
          [
           "2018_2",
           "accelerated_filer",
           "quick"
          ],
          [
           "2018_2",
           "large_accelerated_filer",
           "quick"
          ],
          [
           "2018_2",
           "non_accelerated_filer",
           "quick"
          ],
          [
           "2018_3",
           "accelerated_filer",
           "quick"
          ],
          [
           "2018_3",
           "large_accelerated_filer",
           "quick"
          ],
          [
           "2018_3",
           "non_accelerated_filer",
           "quick"
          ],
          [
           "2018_4",
           "accelerated_filer",
           "quick"
          ],
          [
           "2018_4",
           "large_accelerated_filer",
           "quick"
          ],
          [
           "2018_4",
           "non_accelerated_filer",
           "quick"
          ],
          [
           "2019_1",
           "accelerated_filer",
           "quick"
          ],
          [
           "2019_1",
           "large_accelerated_filer",
           "quick"
          ],
          [
           "2019_1",
           "non_accelerated_filer",
           "quick"
          ],
          [
           "2019_2",
           "accelerated_filer",
           "quick"
          ],
          [
           "2019_2",
           "large_accelerated_filer",
           "quick"
          ],
          [
           "2019_2",
           "non_accelerated_filer",
           "quick"
          ],
          [
           "2019_3",
           "accelerated_filer",
           "quick"
          ],
          [
           "2019_3",
           "large_accelerated_filer",
           "quick"
          ],
          [
           "2019_3",
           "non_accelerated_filer",
           "quick"
          ],
          [
           "2019_4",
           "accelerated_filer",
           "quick"
          ],
          [
           "2019_4",
           "large_accelerated_filer",
           "quick"
          ],
          [
           "2019_4",
           "non_accelerated_filer",
           "quick"
          ],
          [
           "2020_1",
           "accelerated_filer",
           "quick"
          ],
          [
           "2020_1",
           "large_accelerated_filer",
           "quick"
          ],
          [
           "2020_1",
           "non_accelerated_filer",
           "quick"
          ],
          [
           "2020_2",
           "accelerated_filer",
           "quick"
          ],
          [
           "2020_2",
           "large_accelerated_filer",
           "quick"
          ],
          [
           "2020_2",
           "non_accelerated_filer",
           "quick"
          ],
          [
           "2020_3",
           "accelerated_filer",
           "quick"
          ],
          [
           "2020_3",
           "large_accelerated_filer",
           "quick"
          ],
          [
           "2020_3",
           "non_accelerated_filer",
           "quick"
          ],
          [
           "2020_4",
           "accelerated_filer",
           "quick"
          ],
          [
           "2020_4",
           "large_accelerated_filer",
           "quick"
          ],
          [
           "2020_4",
           "non_accelerated_filer",
           "quick"
          ],
          [
           "2021_1",
           "non_accelerated_filer",
           "quick"
          ],
          [
           "2021_1",
           "accelerated_filer",
           "quick"
          ],
          [
           "2021_1",
           "large_accelerated_filer",
           "quick"
          ],
          [
           "2021_2",
           "non_accelerated_filer",
           "quick"
          ],
          [
           "2021_2",
           "accelerated_filer",
           "quick"
          ],
          [
           "2021_2",
           "large_accelerated_filer",
           "quick"
          ],
          [
           "2021_3",
           "non_accelerated_filer",
           "quick"
          ],
          [
           "2021_3",
           "accelerated_filer",
           "quick"
          ],
          [
           "2021_3",
           "large_accelerated_filer",
           "quick"
          ]
         ],
         "fillcolor": "rgba(255,255,255,0)",
         "hoveron": "points",
         "hovertemplate": "kpi=%{customdata[2]}<br>used_to_all=%{x}<br>year_q=%{customdata[0]}<br>filer_type=%{customdata[1]}<extra></extra>",
         "jitter": 0,
         "legendgroup": "quick",
         "line": {
          "color": "rgba(255,255,255,0)"
         },
         "marker": {
          "color": "#636efa",
          "symbol": "line-ns-open"
         },
         "name": "quick",
         "offsetgroup": "quick",
         "showlegend": false,
         "type": "box",
         "x": [
          0.74,
          0.96,
          0.65,
          0.71,
          1,
          0.72,
          0.68,
          1,
          0.78,
          0.78,
          0.96,
          0.73,
          0.74,
          1,
          0.53,
          0.78,
          0.98,
          0.64,
          0.78,
          0.98,
          0.64,
          0.69,
          0.96,
          0.71,
          0.71,
          0.98,
          0.45,
          0.74,
          0.98,
          0.5,
          0.63,
          0.96,
          0.64,
          0.78,
          0.9,
          0.64,
          0.53,
          0.85,
          0.56,
          0.75,
          0.94,
          0.6,
          0.72,
          0.96,
          0.47,
          0.71,
          0.92,
          0.97,
          0.6,
          0.86,
          0.97,
          0.61,
          0.93,
          1
         ],
         "xaxis": "x2",
         "yaxis": "y2"
        },
        {
         "alignmentgroup": "True",
         "bingroup": "x",
         "hovertemplate": "kpi=cash<br>used_to_all=%{x}<br>count=%{y}<extra></extra>",
         "legendgroup": "cash",
         "marker": {
          "color": "#EF553B",
          "pattern": {
           "shape": ""
          }
         },
         "name": "cash",
         "offsetgroup": "cash",
         "orientation": "v",
         "showlegend": true,
         "type": "histogram",
         "x": [
          0.91,
          0.96,
          0.75,
          0.91,
          1,
          0.83,
          0.91,
          1,
          0.89,
          0.94,
          0.98,
          0.91,
          0.89,
          1,
          0.71,
          0.95,
          0.98,
          0.86,
          0.95,
          0.98,
          0.86,
          0.83,
          0.96,
          0.86,
          0.91,
          0.98,
          0.64,
          0.94,
          0.98,
          0.7,
          0.77,
          0.96,
          0.82,
          0.94,
          0.9,
          0.79,
          0.56,
          0.87,
          0.69,
          0.81,
          0.96,
          0.73,
          0.91,
          0.98,
          0.47,
          0.87,
          0.96,
          0.97,
          0.71,
          0.89,
          0.97,
          0.73,
          0.96,
          1
         ],
         "xaxis": "x",
         "yaxis": "y"
        },
        {
         "alignmentgroup": "True",
         "boxpoints": "all",
         "customdata": [
          [
           "2017_2",
           "accelerated_filer",
           "cash"
          ],
          [
           "2017_2",
           "large_accelerated_filer",
           "cash"
          ],
          [
           "2017_2",
           "non_accelerated_filer",
           "cash"
          ],
          [
           "2017_3",
           "accelerated_filer",
           "cash"
          ],
          [
           "2017_3",
           "large_accelerated_filer",
           "cash"
          ],
          [
           "2017_3",
           "non_accelerated_filer",
           "cash"
          ],
          [
           "2017_4",
           "accelerated_filer",
           "cash"
          ],
          [
           "2017_4",
           "large_accelerated_filer",
           "cash"
          ],
          [
           "2017_4",
           "non_accelerated_filer",
           "cash"
          ],
          [
           "2018_1",
           "accelerated_filer",
           "cash"
          ],
          [
           "2018_1",
           "large_accelerated_filer",
           "cash"
          ],
          [
           "2018_1",
           "non_accelerated_filer",
           "cash"
          ],
          [
           "2018_2",
           "accelerated_filer",
           "cash"
          ],
          [
           "2018_2",
           "large_accelerated_filer",
           "cash"
          ],
          [
           "2018_2",
           "non_accelerated_filer",
           "cash"
          ],
          [
           "2018_3",
           "accelerated_filer",
           "cash"
          ],
          [
           "2018_3",
           "large_accelerated_filer",
           "cash"
          ],
          [
           "2018_3",
           "non_accelerated_filer",
           "cash"
          ],
          [
           "2018_4",
           "accelerated_filer",
           "cash"
          ],
          [
           "2018_4",
           "large_accelerated_filer",
           "cash"
          ],
          [
           "2018_4",
           "non_accelerated_filer",
           "cash"
          ],
          [
           "2019_1",
           "accelerated_filer",
           "cash"
          ],
          [
           "2019_1",
           "large_accelerated_filer",
           "cash"
          ],
          [
           "2019_1",
           "non_accelerated_filer",
           "cash"
          ],
          [
           "2019_2",
           "accelerated_filer",
           "cash"
          ],
          [
           "2019_2",
           "large_accelerated_filer",
           "cash"
          ],
          [
           "2019_2",
           "non_accelerated_filer",
           "cash"
          ],
          [
           "2019_3",
           "accelerated_filer",
           "cash"
          ],
          [
           "2019_3",
           "large_accelerated_filer",
           "cash"
          ],
          [
           "2019_3",
           "non_accelerated_filer",
           "cash"
          ],
          [
           "2019_4",
           "accelerated_filer",
           "cash"
          ],
          [
           "2019_4",
           "large_accelerated_filer",
           "cash"
          ],
          [
           "2019_4",
           "non_accelerated_filer",
           "cash"
          ],
          [
           "2020_1",
           "accelerated_filer",
           "cash"
          ],
          [
           "2020_1",
           "large_accelerated_filer",
           "cash"
          ],
          [
           "2020_1",
           "non_accelerated_filer",
           "cash"
          ],
          [
           "2020_2",
           "accelerated_filer",
           "cash"
          ],
          [
           "2020_2",
           "large_accelerated_filer",
           "cash"
          ],
          [
           "2020_2",
           "non_accelerated_filer",
           "cash"
          ],
          [
           "2020_3",
           "accelerated_filer",
           "cash"
          ],
          [
           "2020_3",
           "large_accelerated_filer",
           "cash"
          ],
          [
           "2020_3",
           "non_accelerated_filer",
           "cash"
          ],
          [
           "2020_4",
           "accelerated_filer",
           "cash"
          ],
          [
           "2020_4",
           "large_accelerated_filer",
           "cash"
          ],
          [
           "2020_4",
           "non_accelerated_filer",
           "cash"
          ],
          [
           "2021_1",
           "non_accelerated_filer",
           "cash"
          ],
          [
           "2021_1",
           "accelerated_filer",
           "cash"
          ],
          [
           "2021_1",
           "large_accelerated_filer",
           "cash"
          ],
          [
           "2021_2",
           "non_accelerated_filer",
           "cash"
          ],
          [
           "2021_2",
           "accelerated_filer",
           "cash"
          ],
          [
           "2021_2",
           "large_accelerated_filer",
           "cash"
          ],
          [
           "2021_3",
           "non_accelerated_filer",
           "cash"
          ],
          [
           "2021_3",
           "accelerated_filer",
           "cash"
          ],
          [
           "2021_3",
           "large_accelerated_filer",
           "cash"
          ]
         ],
         "fillcolor": "rgba(255,255,255,0)",
         "hoveron": "points",
         "hovertemplate": "kpi=%{customdata[2]}<br>used_to_all=%{x}<br>year_q=%{customdata[0]}<br>filer_type=%{customdata[1]}<extra></extra>",
         "jitter": 0,
         "legendgroup": "cash",
         "line": {
          "color": "rgba(255,255,255,0)"
         },
         "marker": {
          "color": "#EF553B",
          "symbol": "line-ns-open"
         },
         "name": "cash",
         "offsetgroup": "cash",
         "showlegend": false,
         "type": "box",
         "x": [
          0.91,
          0.96,
          0.75,
          0.91,
          1,
          0.83,
          0.91,
          1,
          0.89,
          0.94,
          0.98,
          0.91,
          0.89,
          1,
          0.71,
          0.95,
          0.98,
          0.86,
          0.95,
          0.98,
          0.86,
          0.83,
          0.96,
          0.86,
          0.91,
          0.98,
          0.64,
          0.94,
          0.98,
          0.7,
          0.77,
          0.96,
          0.82,
          0.94,
          0.9,
          0.79,
          0.56,
          0.87,
          0.69,
          0.81,
          0.96,
          0.73,
          0.91,
          0.98,
          0.47,
          0.87,
          0.96,
          0.97,
          0.71,
          0.89,
          0.97,
          0.73,
          0.96,
          1
         ],
         "xaxis": "x2",
         "yaxis": "y2"
        },
        {
         "alignmentgroup": "True",
         "bingroup": "x",
         "hovertemplate": "kpi=times_interest_earned<br>used_to_all=%{x}<br>count=%{y}<extra></extra>",
         "legendgroup": "times_interest_earned",
         "marker": {
          "color": "#00cc96",
          "pattern": {
           "shape": ""
          }
         },
         "name": "times_interest_earned",
         "offsetgroup": "times_interest_earned",
         "orientation": "v",
         "showlegend": true,
         "type": "histogram",
         "x": [
          0.68,
          0.96,
          0.7,
          0.79,
          0.98,
          0.78,
          0.76,
          0.98,
          0.78,
          0.78,
          0.98,
          0.82,
          0.74,
          1,
          0.59,
          0.78,
          1,
          0.71,
          0.78,
          1,
          0.71,
          0.69,
          0.98,
          0.86,
          0.77,
          1,
          0.55,
          0.77,
          0.98,
          0.6,
          0.66,
          0.98,
          0.82,
          0.81,
          0.92,
          0.71,
          0.56,
          0.85,
          0.56,
          0.78,
          0.92,
          0.67,
          0.78,
          0.96,
          0.53,
          0.77,
          0.92,
          0.95,
          0.63,
          0.89,
          0.97,
          0.61,
          0.96,
          0.97
         ],
         "xaxis": "x",
         "yaxis": "y"
        },
        {
         "alignmentgroup": "True",
         "boxpoints": "all",
         "customdata": [
          [
           "2017_2",
           "accelerated_filer",
           "times_interest_earned"
          ],
          [
           "2017_2",
           "large_accelerated_filer",
           "times_interest_earned"
          ],
          [
           "2017_2",
           "non_accelerated_filer",
           "times_interest_earned"
          ],
          [
           "2017_3",
           "accelerated_filer",
           "times_interest_earned"
          ],
          [
           "2017_3",
           "large_accelerated_filer",
           "times_interest_earned"
          ],
          [
           "2017_3",
           "non_accelerated_filer",
           "times_interest_earned"
          ],
          [
           "2017_4",
           "accelerated_filer",
           "times_interest_earned"
          ],
          [
           "2017_4",
           "large_accelerated_filer",
           "times_interest_earned"
          ],
          [
           "2017_4",
           "non_accelerated_filer",
           "times_interest_earned"
          ],
          [
           "2018_1",
           "accelerated_filer",
           "times_interest_earned"
          ],
          [
           "2018_1",
           "large_accelerated_filer",
           "times_interest_earned"
          ],
          [
           "2018_1",
           "non_accelerated_filer",
           "times_interest_earned"
          ],
          [
           "2018_2",
           "accelerated_filer",
           "times_interest_earned"
          ],
          [
           "2018_2",
           "large_accelerated_filer",
           "times_interest_earned"
          ],
          [
           "2018_2",
           "non_accelerated_filer",
           "times_interest_earned"
          ],
          [
           "2018_3",
           "accelerated_filer",
           "times_interest_earned"
          ],
          [
           "2018_3",
           "large_accelerated_filer",
           "times_interest_earned"
          ],
          [
           "2018_3",
           "non_accelerated_filer",
           "times_interest_earned"
          ],
          [
           "2018_4",
           "accelerated_filer",
           "times_interest_earned"
          ],
          [
           "2018_4",
           "large_accelerated_filer",
           "times_interest_earned"
          ],
          [
           "2018_4",
           "non_accelerated_filer",
           "times_interest_earned"
          ],
          [
           "2019_1",
           "accelerated_filer",
           "times_interest_earned"
          ],
          [
           "2019_1",
           "large_accelerated_filer",
           "times_interest_earned"
          ],
          [
           "2019_1",
           "non_accelerated_filer",
           "times_interest_earned"
          ],
          [
           "2019_2",
           "accelerated_filer",
           "times_interest_earned"
          ],
          [
           "2019_2",
           "large_accelerated_filer",
           "times_interest_earned"
          ],
          [
           "2019_2",
           "non_accelerated_filer",
           "times_interest_earned"
          ],
          [
           "2019_3",
           "accelerated_filer",
           "times_interest_earned"
          ],
          [
           "2019_3",
           "large_accelerated_filer",
           "times_interest_earned"
          ],
          [
           "2019_3",
           "non_accelerated_filer",
           "times_interest_earned"
          ],
          [
           "2019_4",
           "accelerated_filer",
           "times_interest_earned"
          ],
          [
           "2019_4",
           "large_accelerated_filer",
           "times_interest_earned"
          ],
          [
           "2019_4",
           "non_accelerated_filer",
           "times_interest_earned"
          ],
          [
           "2020_1",
           "accelerated_filer",
           "times_interest_earned"
          ],
          [
           "2020_1",
           "large_accelerated_filer",
           "times_interest_earned"
          ],
          [
           "2020_1",
           "non_accelerated_filer",
           "times_interest_earned"
          ],
          [
           "2020_2",
           "accelerated_filer",
           "times_interest_earned"
          ],
          [
           "2020_2",
           "large_accelerated_filer",
           "times_interest_earned"
          ],
          [
           "2020_2",
           "non_accelerated_filer",
           "times_interest_earned"
          ],
          [
           "2020_3",
           "accelerated_filer",
           "times_interest_earned"
          ],
          [
           "2020_3",
           "large_accelerated_filer",
           "times_interest_earned"
          ],
          [
           "2020_3",
           "non_accelerated_filer",
           "times_interest_earned"
          ],
          [
           "2020_4",
           "accelerated_filer",
           "times_interest_earned"
          ],
          [
           "2020_4",
           "large_accelerated_filer",
           "times_interest_earned"
          ],
          [
           "2020_4",
           "non_accelerated_filer",
           "times_interest_earned"
          ],
          [
           "2021_1",
           "non_accelerated_filer",
           "times_interest_earned"
          ],
          [
           "2021_1",
           "accelerated_filer",
           "times_interest_earned"
          ],
          [
           "2021_1",
           "large_accelerated_filer",
           "times_interest_earned"
          ],
          [
           "2021_2",
           "non_accelerated_filer",
           "times_interest_earned"
          ],
          [
           "2021_2",
           "accelerated_filer",
           "times_interest_earned"
          ],
          [
           "2021_2",
           "large_accelerated_filer",
           "times_interest_earned"
          ],
          [
           "2021_3",
           "non_accelerated_filer",
           "times_interest_earned"
          ],
          [
           "2021_3",
           "accelerated_filer",
           "times_interest_earned"
          ],
          [
           "2021_3",
           "large_accelerated_filer",
           "times_interest_earned"
          ]
         ],
         "fillcolor": "rgba(255,255,255,0)",
         "hoveron": "points",
         "hovertemplate": "kpi=%{customdata[2]}<br>used_to_all=%{x}<br>year_q=%{customdata[0]}<br>filer_type=%{customdata[1]}<extra></extra>",
         "jitter": 0,
         "legendgroup": "times_interest_earned",
         "line": {
          "color": "rgba(255,255,255,0)"
         },
         "marker": {
          "color": "#00cc96",
          "symbol": "line-ns-open"
         },
         "name": "times_interest_earned",
         "offsetgroup": "times_interest_earned",
         "showlegend": false,
         "type": "box",
         "x": [
          0.68,
          0.96,
          0.7,
          0.79,
          0.98,
          0.78,
          0.76,
          0.98,
          0.78,
          0.78,
          0.98,
          0.82,
          0.74,
          1,
          0.59,
          0.78,
          1,
          0.71,
          0.78,
          1,
          0.71,
          0.69,
          0.98,
          0.86,
          0.77,
          1,
          0.55,
          0.77,
          0.98,
          0.6,
          0.66,
          0.98,
          0.82,
          0.81,
          0.92,
          0.71,
          0.56,
          0.85,
          0.56,
          0.78,
          0.92,
          0.67,
          0.78,
          0.96,
          0.53,
          0.77,
          0.92,
          0.95,
          0.63,
          0.89,
          0.97,
          0.61,
          0.96,
          0.97
         ],
         "xaxis": "x2",
         "yaxis": "y2"
        },
        {
         "alignmentgroup": "True",
         "bingroup": "x",
         "hovertemplate": "kpi=capex_to_operating_cash<br>used_to_all=%{x}<br>count=%{y}<extra></extra>",
         "legendgroup": "capex_to_operating_cash",
         "marker": {
          "color": "#ab63fa",
          "pattern": {
           "shape": ""
          }
         },
         "name": "capex_to_operating_cash",
         "offsetgroup": "capex_to_operating_cash",
         "orientation": "v",
         "showlegend": true,
         "type": "histogram",
         "x": [
          0.68,
          0.98,
          0.75,
          0.79,
          1,
          0.83,
          0.74,
          1,
          0.83,
          0.75,
          0.98,
          0.91,
          0.76,
          1,
          0.65,
          0.81,
          1,
          0.79,
          0.78,
          1,
          0.79,
          0.71,
          0.98,
          0.86,
          0.77,
          1,
          0.55,
          0.8,
          1,
          0.6,
          0.69,
          0.98,
          0.82,
          0.84,
          0.92,
          0.71,
          0.56,
          0.87,
          0.62,
          0.81,
          0.94,
          0.67,
          0.78,
          0.98,
          0.53,
          0.77,
          0.92,
          0.97,
          0.66,
          0.89,
          0.97,
          0.67,
          0.96,
          1
         ],
         "xaxis": "x",
         "yaxis": "y"
        },
        {
         "alignmentgroup": "True",
         "boxpoints": "all",
         "customdata": [
          [
           "2017_2",
           "accelerated_filer",
           "capex_to_operating_cash"
          ],
          [
           "2017_2",
           "large_accelerated_filer",
           "capex_to_operating_cash"
          ],
          [
           "2017_2",
           "non_accelerated_filer",
           "capex_to_operating_cash"
          ],
          [
           "2017_3",
           "accelerated_filer",
           "capex_to_operating_cash"
          ],
          [
           "2017_3",
           "large_accelerated_filer",
           "capex_to_operating_cash"
          ],
          [
           "2017_3",
           "non_accelerated_filer",
           "capex_to_operating_cash"
          ],
          [
           "2017_4",
           "accelerated_filer",
           "capex_to_operating_cash"
          ],
          [
           "2017_4",
           "large_accelerated_filer",
           "capex_to_operating_cash"
          ],
          [
           "2017_4",
           "non_accelerated_filer",
           "capex_to_operating_cash"
          ],
          [
           "2018_1",
           "accelerated_filer",
           "capex_to_operating_cash"
          ],
          [
           "2018_1",
           "large_accelerated_filer",
           "capex_to_operating_cash"
          ],
          [
           "2018_1",
           "non_accelerated_filer",
           "capex_to_operating_cash"
          ],
          [
           "2018_2",
           "accelerated_filer",
           "capex_to_operating_cash"
          ],
          [
           "2018_2",
           "large_accelerated_filer",
           "capex_to_operating_cash"
          ],
          [
           "2018_2",
           "non_accelerated_filer",
           "capex_to_operating_cash"
          ],
          [
           "2018_3",
           "accelerated_filer",
           "capex_to_operating_cash"
          ],
          [
           "2018_3",
           "large_accelerated_filer",
           "capex_to_operating_cash"
          ],
          [
           "2018_3",
           "non_accelerated_filer",
           "capex_to_operating_cash"
          ],
          [
           "2018_4",
           "accelerated_filer",
           "capex_to_operating_cash"
          ],
          [
           "2018_4",
           "large_accelerated_filer",
           "capex_to_operating_cash"
          ],
          [
           "2018_4",
           "non_accelerated_filer",
           "capex_to_operating_cash"
          ],
          [
           "2019_1",
           "accelerated_filer",
           "capex_to_operating_cash"
          ],
          [
           "2019_1",
           "large_accelerated_filer",
           "capex_to_operating_cash"
          ],
          [
           "2019_1",
           "non_accelerated_filer",
           "capex_to_operating_cash"
          ],
          [
           "2019_2",
           "accelerated_filer",
           "capex_to_operating_cash"
          ],
          [
           "2019_2",
           "large_accelerated_filer",
           "capex_to_operating_cash"
          ],
          [
           "2019_2",
           "non_accelerated_filer",
           "capex_to_operating_cash"
          ],
          [
           "2019_3",
           "accelerated_filer",
           "capex_to_operating_cash"
          ],
          [
           "2019_3",
           "large_accelerated_filer",
           "capex_to_operating_cash"
          ],
          [
           "2019_3",
           "non_accelerated_filer",
           "capex_to_operating_cash"
          ],
          [
           "2019_4",
           "accelerated_filer",
           "capex_to_operating_cash"
          ],
          [
           "2019_4",
           "large_accelerated_filer",
           "capex_to_operating_cash"
          ],
          [
           "2019_4",
           "non_accelerated_filer",
           "capex_to_operating_cash"
          ],
          [
           "2020_1",
           "accelerated_filer",
           "capex_to_operating_cash"
          ],
          [
           "2020_1",
           "large_accelerated_filer",
           "capex_to_operating_cash"
          ],
          [
           "2020_1",
           "non_accelerated_filer",
           "capex_to_operating_cash"
          ],
          [
           "2020_2",
           "accelerated_filer",
           "capex_to_operating_cash"
          ],
          [
           "2020_2",
           "large_accelerated_filer",
           "capex_to_operating_cash"
          ],
          [
           "2020_2",
           "non_accelerated_filer",
           "capex_to_operating_cash"
          ],
          [
           "2020_3",
           "accelerated_filer",
           "capex_to_operating_cash"
          ],
          [
           "2020_3",
           "large_accelerated_filer",
           "capex_to_operating_cash"
          ],
          [
           "2020_3",
           "non_accelerated_filer",
           "capex_to_operating_cash"
          ],
          [
           "2020_4",
           "accelerated_filer",
           "capex_to_operating_cash"
          ],
          [
           "2020_4",
           "large_accelerated_filer",
           "capex_to_operating_cash"
          ],
          [
           "2020_4",
           "non_accelerated_filer",
           "capex_to_operating_cash"
          ],
          [
           "2021_1",
           "non_accelerated_filer",
           "capex_to_operating_cash"
          ],
          [
           "2021_1",
           "accelerated_filer",
           "capex_to_operating_cash"
          ],
          [
           "2021_1",
           "large_accelerated_filer",
           "capex_to_operating_cash"
          ],
          [
           "2021_2",
           "non_accelerated_filer",
           "capex_to_operating_cash"
          ],
          [
           "2021_2",
           "accelerated_filer",
           "capex_to_operating_cash"
          ],
          [
           "2021_2",
           "large_accelerated_filer",
           "capex_to_operating_cash"
          ],
          [
           "2021_3",
           "non_accelerated_filer",
           "capex_to_operating_cash"
          ],
          [
           "2021_3",
           "accelerated_filer",
           "capex_to_operating_cash"
          ],
          [
           "2021_3",
           "large_accelerated_filer",
           "capex_to_operating_cash"
          ]
         ],
         "fillcolor": "rgba(255,255,255,0)",
         "hoveron": "points",
         "hovertemplate": "kpi=%{customdata[2]}<br>used_to_all=%{x}<br>year_q=%{customdata[0]}<br>filer_type=%{customdata[1]}<extra></extra>",
         "jitter": 0,
         "legendgroup": "capex_to_operating_cash",
         "line": {
          "color": "rgba(255,255,255,0)"
         },
         "marker": {
          "color": "#ab63fa",
          "symbol": "line-ns-open"
         },
         "name": "capex_to_operating_cash",
         "offsetgroup": "capex_to_operating_cash",
         "showlegend": false,
         "type": "box",
         "x": [
          0.68,
          0.98,
          0.75,
          0.79,
          1,
          0.83,
          0.74,
          1,
          0.83,
          0.75,
          0.98,
          0.91,
          0.76,
          1,
          0.65,
          0.81,
          1,
          0.79,
          0.78,
          1,
          0.79,
          0.71,
          0.98,
          0.86,
          0.77,
          1,
          0.55,
          0.8,
          1,
          0.6,
          0.69,
          0.98,
          0.82,
          0.84,
          0.92,
          0.71,
          0.56,
          0.87,
          0.62,
          0.81,
          0.94,
          0.67,
          0.78,
          0.98,
          0.53,
          0.77,
          0.92,
          0.97,
          0.66,
          0.89,
          0.97,
          0.67,
          0.96,
          1
         ],
         "xaxis": "x2",
         "yaxis": "y2"
        },
        {
         "alignmentgroup": "True",
         "bingroup": "x",
         "hovertemplate": "kpi=operating_cash_flow<br>used_to_all=%{x}<br>count=%{y}<extra></extra>",
         "legendgroup": "operating_cash_flow",
         "marker": {
          "color": "#FFA15A",
          "pattern": {
           "shape": ""
          }
         },
         "name": "operating_cash_flow",
         "offsetgroup": "operating_cash_flow",
         "orientation": "v",
         "showlegend": true,
         "type": "histogram",
         "x": [
          0.82,
          0.98,
          0.75,
          0.88,
          1,
          0.89,
          0.91,
          1,
          0.89,
          0.94,
          0.98,
          0.91,
          0.89,
          1,
          0.71,
          0.92,
          0.98,
          0.86,
          0.95,
          1,
          0.86,
          0.83,
          0.98,
          0.86,
          0.91,
          1,
          0.64,
          0.91,
          1,
          0.7,
          0.74,
          0.98,
          0.91,
          0.97,
          0.92,
          0.79,
          0.56,
          0.88,
          0.69,
          0.81,
          0.96,
          0.73,
          0.91,
          1,
          0.53,
          0.87,
          0.96,
          0.97,
          0.71,
          0.93,
          0.97,
          0.73,
          1,
          1
         ],
         "xaxis": "x",
         "yaxis": "y"
        },
        {
         "alignmentgroup": "True",
         "boxpoints": "all",
         "customdata": [
          [
           "2017_2",
           "accelerated_filer",
           "operating_cash_flow"
          ],
          [
           "2017_2",
           "large_accelerated_filer",
           "operating_cash_flow"
          ],
          [
           "2017_2",
           "non_accelerated_filer",
           "operating_cash_flow"
          ],
          [
           "2017_3",
           "accelerated_filer",
           "operating_cash_flow"
          ],
          [
           "2017_3",
           "large_accelerated_filer",
           "operating_cash_flow"
          ],
          [
           "2017_3",
           "non_accelerated_filer",
           "operating_cash_flow"
          ],
          [
           "2017_4",
           "accelerated_filer",
           "operating_cash_flow"
          ],
          [
           "2017_4",
           "large_accelerated_filer",
           "operating_cash_flow"
          ],
          [
           "2017_4",
           "non_accelerated_filer",
           "operating_cash_flow"
          ],
          [
           "2018_1",
           "accelerated_filer",
           "operating_cash_flow"
          ],
          [
           "2018_1",
           "large_accelerated_filer",
           "operating_cash_flow"
          ],
          [
           "2018_1",
           "non_accelerated_filer",
           "operating_cash_flow"
          ],
          [
           "2018_2",
           "accelerated_filer",
           "operating_cash_flow"
          ],
          [
           "2018_2",
           "large_accelerated_filer",
           "operating_cash_flow"
          ],
          [
           "2018_2",
           "non_accelerated_filer",
           "operating_cash_flow"
          ],
          [
           "2018_3",
           "accelerated_filer",
           "operating_cash_flow"
          ],
          [
           "2018_3",
           "large_accelerated_filer",
           "operating_cash_flow"
          ],
          [
           "2018_3",
           "non_accelerated_filer",
           "operating_cash_flow"
          ],
          [
           "2018_4",
           "accelerated_filer",
           "operating_cash_flow"
          ],
          [
           "2018_4",
           "large_accelerated_filer",
           "operating_cash_flow"
          ],
          [
           "2018_4",
           "non_accelerated_filer",
           "operating_cash_flow"
          ],
          [
           "2019_1",
           "accelerated_filer",
           "operating_cash_flow"
          ],
          [
           "2019_1",
           "large_accelerated_filer",
           "operating_cash_flow"
          ],
          [
           "2019_1",
           "non_accelerated_filer",
           "operating_cash_flow"
          ],
          [
           "2019_2",
           "accelerated_filer",
           "operating_cash_flow"
          ],
          [
           "2019_2",
           "large_accelerated_filer",
           "operating_cash_flow"
          ],
          [
           "2019_2",
           "non_accelerated_filer",
           "operating_cash_flow"
          ],
          [
           "2019_3",
           "accelerated_filer",
           "operating_cash_flow"
          ],
          [
           "2019_3",
           "large_accelerated_filer",
           "operating_cash_flow"
          ],
          [
           "2019_3",
           "non_accelerated_filer",
           "operating_cash_flow"
          ],
          [
           "2019_4",
           "accelerated_filer",
           "operating_cash_flow"
          ],
          [
           "2019_4",
           "large_accelerated_filer",
           "operating_cash_flow"
          ],
          [
           "2019_4",
           "non_accelerated_filer",
           "operating_cash_flow"
          ],
          [
           "2020_1",
           "accelerated_filer",
           "operating_cash_flow"
          ],
          [
           "2020_1",
           "large_accelerated_filer",
           "operating_cash_flow"
          ],
          [
           "2020_1",
           "non_accelerated_filer",
           "operating_cash_flow"
          ],
          [
           "2020_2",
           "accelerated_filer",
           "operating_cash_flow"
          ],
          [
           "2020_2",
           "large_accelerated_filer",
           "operating_cash_flow"
          ],
          [
           "2020_2",
           "non_accelerated_filer",
           "operating_cash_flow"
          ],
          [
           "2020_3",
           "accelerated_filer",
           "operating_cash_flow"
          ],
          [
           "2020_3",
           "large_accelerated_filer",
           "operating_cash_flow"
          ],
          [
           "2020_3",
           "non_accelerated_filer",
           "operating_cash_flow"
          ],
          [
           "2020_4",
           "accelerated_filer",
           "operating_cash_flow"
          ],
          [
           "2020_4",
           "large_accelerated_filer",
           "operating_cash_flow"
          ],
          [
           "2020_4",
           "non_accelerated_filer",
           "operating_cash_flow"
          ],
          [
           "2021_1",
           "non_accelerated_filer",
           "operating_cash_flow"
          ],
          [
           "2021_1",
           "accelerated_filer",
           "operating_cash_flow"
          ],
          [
           "2021_1",
           "large_accelerated_filer",
           "operating_cash_flow"
          ],
          [
           "2021_2",
           "non_accelerated_filer",
           "operating_cash_flow"
          ],
          [
           "2021_2",
           "accelerated_filer",
           "operating_cash_flow"
          ],
          [
           "2021_2",
           "large_accelerated_filer",
           "operating_cash_flow"
          ],
          [
           "2021_3",
           "non_accelerated_filer",
           "operating_cash_flow"
          ],
          [
           "2021_3",
           "accelerated_filer",
           "operating_cash_flow"
          ],
          [
           "2021_3",
           "large_accelerated_filer",
           "operating_cash_flow"
          ]
         ],
         "fillcolor": "rgba(255,255,255,0)",
         "hoveron": "points",
         "hovertemplate": "kpi=%{customdata[2]}<br>used_to_all=%{x}<br>year_q=%{customdata[0]}<br>filer_type=%{customdata[1]}<extra></extra>",
         "jitter": 0,
         "legendgroup": "operating_cash_flow",
         "line": {
          "color": "rgba(255,255,255,0)"
         },
         "marker": {
          "color": "#FFA15A",
          "symbol": "line-ns-open"
         },
         "name": "operating_cash_flow",
         "offsetgroup": "operating_cash_flow",
         "showlegend": false,
         "type": "box",
         "x": [
          0.82,
          0.98,
          0.75,
          0.88,
          1,
          0.89,
          0.91,
          1,
          0.89,
          0.94,
          0.98,
          0.91,
          0.89,
          1,
          0.71,
          0.92,
          0.98,
          0.86,
          0.95,
          1,
          0.86,
          0.83,
          0.98,
          0.86,
          0.91,
          1,
          0.64,
          0.91,
          1,
          0.7,
          0.74,
          0.98,
          0.91,
          0.97,
          0.92,
          0.79,
          0.56,
          0.88,
          0.69,
          0.81,
          0.96,
          0.73,
          0.91,
          1,
          0.53,
          0.87,
          0.96,
          0.97,
          0.71,
          0.93,
          0.97,
          0.73,
          1,
          1
         ],
         "xaxis": "x2",
         "yaxis": "y2"
        },
        {
         "alignmentgroup": "True",
         "bingroup": "x",
         "hovertemplate": "kpi=price_to_earnings<br>used_to_all=%{x}<br>count=%{y}<extra></extra>",
         "legendgroup": "price_to_earnings",
         "marker": {
          "color": "#19d3f3",
          "pattern": {
           "shape": ""
          }
         },
         "name": "price_to_earnings",
         "offsetgroup": "price_to_earnings",
         "orientation": "v",
         "showlegend": true,
         "type": "histogram",
         "x": [
          0.88,
          0.98,
          0.8,
          0.97,
          1,
          0.94,
          0.97,
          1,
          0.94,
          1,
          0.98,
          1,
          0.95,
          1,
          0.76,
          0.97,
          0.98,
          0.93,
          1,
          1,
          0.93,
          0.86,
          0.98,
          1,
          0.97,
          1,
          0.73,
          1,
          1,
          0.8,
          0.77,
          0.98,
          1,
          0.97,
          0.92,
          1,
          0.56,
          0.88,
          0.81,
          0.81,
          0.96,
          0.93,
          0.91,
          1,
          0.6,
          0.97,
          0.96,
          0.97,
          0.77,
          0.93,
          0.97,
          0.79,
          0.96,
          1
         ],
         "xaxis": "x",
         "yaxis": "y"
        },
        {
         "alignmentgroup": "True",
         "boxpoints": "all",
         "customdata": [
          [
           "2017_2",
           "accelerated_filer",
           "price_to_earnings"
          ],
          [
           "2017_2",
           "large_accelerated_filer",
           "price_to_earnings"
          ],
          [
           "2017_2",
           "non_accelerated_filer",
           "price_to_earnings"
          ],
          [
           "2017_3",
           "accelerated_filer",
           "price_to_earnings"
          ],
          [
           "2017_3",
           "large_accelerated_filer",
           "price_to_earnings"
          ],
          [
           "2017_3",
           "non_accelerated_filer",
           "price_to_earnings"
          ],
          [
           "2017_4",
           "accelerated_filer",
           "price_to_earnings"
          ],
          [
           "2017_4",
           "large_accelerated_filer",
           "price_to_earnings"
          ],
          [
           "2017_4",
           "non_accelerated_filer",
           "price_to_earnings"
          ],
          [
           "2018_1",
           "accelerated_filer",
           "price_to_earnings"
          ],
          [
           "2018_1",
           "large_accelerated_filer",
           "price_to_earnings"
          ],
          [
           "2018_1",
           "non_accelerated_filer",
           "price_to_earnings"
          ],
          [
           "2018_2",
           "accelerated_filer",
           "price_to_earnings"
          ],
          [
           "2018_2",
           "large_accelerated_filer",
           "price_to_earnings"
          ],
          [
           "2018_2",
           "non_accelerated_filer",
           "price_to_earnings"
          ],
          [
           "2018_3",
           "accelerated_filer",
           "price_to_earnings"
          ],
          [
           "2018_3",
           "large_accelerated_filer",
           "price_to_earnings"
          ],
          [
           "2018_3",
           "non_accelerated_filer",
           "price_to_earnings"
          ],
          [
           "2018_4",
           "accelerated_filer",
           "price_to_earnings"
          ],
          [
           "2018_4",
           "large_accelerated_filer",
           "price_to_earnings"
          ],
          [
           "2018_4",
           "non_accelerated_filer",
           "price_to_earnings"
          ],
          [
           "2019_1",
           "accelerated_filer",
           "price_to_earnings"
          ],
          [
           "2019_1",
           "large_accelerated_filer",
           "price_to_earnings"
          ],
          [
           "2019_1",
           "non_accelerated_filer",
           "price_to_earnings"
          ],
          [
           "2019_2",
           "accelerated_filer",
           "price_to_earnings"
          ],
          [
           "2019_2",
           "large_accelerated_filer",
           "price_to_earnings"
          ],
          [
           "2019_2",
           "non_accelerated_filer",
           "price_to_earnings"
          ],
          [
           "2019_3",
           "accelerated_filer",
           "price_to_earnings"
          ],
          [
           "2019_3",
           "large_accelerated_filer",
           "price_to_earnings"
          ],
          [
           "2019_3",
           "non_accelerated_filer",
           "price_to_earnings"
          ],
          [
           "2019_4",
           "accelerated_filer",
           "price_to_earnings"
          ],
          [
           "2019_4",
           "large_accelerated_filer",
           "price_to_earnings"
          ],
          [
           "2019_4",
           "non_accelerated_filer",
           "price_to_earnings"
          ],
          [
           "2020_1",
           "accelerated_filer",
           "price_to_earnings"
          ],
          [
           "2020_1",
           "large_accelerated_filer",
           "price_to_earnings"
          ],
          [
           "2020_1",
           "non_accelerated_filer",
           "price_to_earnings"
          ],
          [
           "2020_2",
           "accelerated_filer",
           "price_to_earnings"
          ],
          [
           "2020_2",
           "large_accelerated_filer",
           "price_to_earnings"
          ],
          [
           "2020_2",
           "non_accelerated_filer",
           "price_to_earnings"
          ],
          [
           "2020_3",
           "accelerated_filer",
           "price_to_earnings"
          ],
          [
           "2020_3",
           "large_accelerated_filer",
           "price_to_earnings"
          ],
          [
           "2020_3",
           "non_accelerated_filer",
           "price_to_earnings"
          ],
          [
           "2020_4",
           "accelerated_filer",
           "price_to_earnings"
          ],
          [
           "2020_4",
           "large_accelerated_filer",
           "price_to_earnings"
          ],
          [
           "2020_4",
           "non_accelerated_filer",
           "price_to_earnings"
          ],
          [
           "2021_1",
           "non_accelerated_filer",
           "price_to_earnings"
          ],
          [
           "2021_1",
           "accelerated_filer",
           "price_to_earnings"
          ],
          [
           "2021_1",
           "large_accelerated_filer",
           "price_to_earnings"
          ],
          [
           "2021_2",
           "non_accelerated_filer",
           "price_to_earnings"
          ],
          [
           "2021_2",
           "accelerated_filer",
           "price_to_earnings"
          ],
          [
           "2021_2",
           "large_accelerated_filer",
           "price_to_earnings"
          ],
          [
           "2021_3",
           "non_accelerated_filer",
           "price_to_earnings"
          ],
          [
           "2021_3",
           "accelerated_filer",
           "price_to_earnings"
          ],
          [
           "2021_3",
           "large_accelerated_filer",
           "price_to_earnings"
          ]
         ],
         "fillcolor": "rgba(255,255,255,0)",
         "hoveron": "points",
         "hovertemplate": "kpi=%{customdata[2]}<br>used_to_all=%{x}<br>year_q=%{customdata[0]}<br>filer_type=%{customdata[1]}<extra></extra>",
         "jitter": 0,
         "legendgroup": "price_to_earnings",
         "line": {
          "color": "rgba(255,255,255,0)"
         },
         "marker": {
          "color": "#19d3f3",
          "symbol": "line-ns-open"
         },
         "name": "price_to_earnings",
         "offsetgroup": "price_to_earnings",
         "showlegend": false,
         "type": "box",
         "x": [
          0.88,
          0.98,
          0.8,
          0.97,
          1,
          0.94,
          0.97,
          1,
          0.94,
          1,
          0.98,
          1,
          0.95,
          1,
          0.76,
          0.97,
          0.98,
          0.93,
          1,
          1,
          0.93,
          0.86,
          0.98,
          1,
          0.97,
          1,
          0.73,
          1,
          1,
          0.8,
          0.77,
          0.98,
          1,
          0.97,
          0.92,
          1,
          0.56,
          0.88,
          0.81,
          0.81,
          0.96,
          0.93,
          0.91,
          1,
          0.6,
          0.97,
          0.96,
          0.97,
          0.77,
          0.93,
          0.97,
          0.79,
          0.96,
          1
         ],
         "xaxis": "x2",
         "yaxis": "y2"
        },
        {
         "alignmentgroup": "True",
         "bingroup": "x",
         "hovertemplate": "kpi=ev_ebitda<br>used_to_all=%{x}<br>count=%{y}<extra></extra>",
         "legendgroup": "ev_ebitda",
         "marker": {
          "color": "#FF6692",
          "pattern": {
           "shape": ""
          }
         },
         "name": "ev_ebitda",
         "offsetgroup": "ev_ebitda",
         "orientation": "v",
         "showlegend": true,
         "type": "histogram",
         "x": [
          0.65,
          0.87,
          0.55,
          0.74,
          0.91,
          0.67,
          0.71,
          0.91,
          0.72,
          0.69,
          0.92,
          0.82,
          0.68,
          0.94,
          0.59,
          0.7,
          0.92,
          0.71,
          0.68,
          0.92,
          0.71,
          0.63,
          0.89,
          0.86,
          0.77,
          0.93,
          0.55,
          0.8,
          0.93,
          0.6,
          0.69,
          0.91,
          0.73,
          0.78,
          0.87,
          0.79,
          0.56,
          0.83,
          0.69,
          0.81,
          0.9,
          0.73,
          0.81,
          0.94,
          0.53,
          0.77,
          0.88,
          0.97,
          0.66,
          0.82,
          0.97,
          0.67,
          0.89,
          1
         ],
         "xaxis": "x",
         "yaxis": "y"
        },
        {
         "alignmentgroup": "True",
         "boxpoints": "all",
         "customdata": [
          [
           "2017_2",
           "accelerated_filer",
           "ev_ebitda"
          ],
          [
           "2017_2",
           "large_accelerated_filer",
           "ev_ebitda"
          ],
          [
           "2017_2",
           "non_accelerated_filer",
           "ev_ebitda"
          ],
          [
           "2017_3",
           "accelerated_filer",
           "ev_ebitda"
          ],
          [
           "2017_3",
           "large_accelerated_filer",
           "ev_ebitda"
          ],
          [
           "2017_3",
           "non_accelerated_filer",
           "ev_ebitda"
          ],
          [
           "2017_4",
           "accelerated_filer",
           "ev_ebitda"
          ],
          [
           "2017_4",
           "large_accelerated_filer",
           "ev_ebitda"
          ],
          [
           "2017_4",
           "non_accelerated_filer",
           "ev_ebitda"
          ],
          [
           "2018_1",
           "accelerated_filer",
           "ev_ebitda"
          ],
          [
           "2018_1",
           "large_accelerated_filer",
           "ev_ebitda"
          ],
          [
           "2018_1",
           "non_accelerated_filer",
           "ev_ebitda"
          ],
          [
           "2018_2",
           "accelerated_filer",
           "ev_ebitda"
          ],
          [
           "2018_2",
           "large_accelerated_filer",
           "ev_ebitda"
          ],
          [
           "2018_2",
           "non_accelerated_filer",
           "ev_ebitda"
          ],
          [
           "2018_3",
           "accelerated_filer",
           "ev_ebitda"
          ],
          [
           "2018_3",
           "large_accelerated_filer",
           "ev_ebitda"
          ],
          [
           "2018_3",
           "non_accelerated_filer",
           "ev_ebitda"
          ],
          [
           "2018_4",
           "accelerated_filer",
           "ev_ebitda"
          ],
          [
           "2018_4",
           "large_accelerated_filer",
           "ev_ebitda"
          ],
          [
           "2018_4",
           "non_accelerated_filer",
           "ev_ebitda"
          ],
          [
           "2019_1",
           "accelerated_filer",
           "ev_ebitda"
          ],
          [
           "2019_1",
           "large_accelerated_filer",
           "ev_ebitda"
          ],
          [
           "2019_1",
           "non_accelerated_filer",
           "ev_ebitda"
          ],
          [
           "2019_2",
           "accelerated_filer",
           "ev_ebitda"
          ],
          [
           "2019_2",
           "large_accelerated_filer",
           "ev_ebitda"
          ],
          [
           "2019_2",
           "non_accelerated_filer",
           "ev_ebitda"
          ],
          [
           "2019_3",
           "accelerated_filer",
           "ev_ebitda"
          ],
          [
           "2019_3",
           "large_accelerated_filer",
           "ev_ebitda"
          ],
          [
           "2019_3",
           "non_accelerated_filer",
           "ev_ebitda"
          ],
          [
           "2019_4",
           "accelerated_filer",
           "ev_ebitda"
          ],
          [
           "2019_4",
           "large_accelerated_filer",
           "ev_ebitda"
          ],
          [
           "2019_4",
           "non_accelerated_filer",
           "ev_ebitda"
          ],
          [
           "2020_1",
           "accelerated_filer",
           "ev_ebitda"
          ],
          [
           "2020_1",
           "large_accelerated_filer",
           "ev_ebitda"
          ],
          [
           "2020_1",
           "non_accelerated_filer",
           "ev_ebitda"
          ],
          [
           "2020_2",
           "accelerated_filer",
           "ev_ebitda"
          ],
          [
           "2020_2",
           "large_accelerated_filer",
           "ev_ebitda"
          ],
          [
           "2020_2",
           "non_accelerated_filer",
           "ev_ebitda"
          ],
          [
           "2020_3",
           "accelerated_filer",
           "ev_ebitda"
          ],
          [
           "2020_3",
           "large_accelerated_filer",
           "ev_ebitda"
          ],
          [
           "2020_3",
           "non_accelerated_filer",
           "ev_ebitda"
          ],
          [
           "2020_4",
           "accelerated_filer",
           "ev_ebitda"
          ],
          [
           "2020_4",
           "large_accelerated_filer",
           "ev_ebitda"
          ],
          [
           "2020_4",
           "non_accelerated_filer",
           "ev_ebitda"
          ],
          [
           "2021_1",
           "non_accelerated_filer",
           "ev_ebitda"
          ],
          [
           "2021_1",
           "accelerated_filer",
           "ev_ebitda"
          ],
          [
           "2021_1",
           "large_accelerated_filer",
           "ev_ebitda"
          ],
          [
           "2021_2",
           "non_accelerated_filer",
           "ev_ebitda"
          ],
          [
           "2021_2",
           "accelerated_filer",
           "ev_ebitda"
          ],
          [
           "2021_2",
           "large_accelerated_filer",
           "ev_ebitda"
          ],
          [
           "2021_3",
           "non_accelerated_filer",
           "ev_ebitda"
          ],
          [
           "2021_3",
           "accelerated_filer",
           "ev_ebitda"
          ],
          [
           "2021_3",
           "large_accelerated_filer",
           "ev_ebitda"
          ]
         ],
         "fillcolor": "rgba(255,255,255,0)",
         "hoveron": "points",
         "hovertemplate": "kpi=%{customdata[2]}<br>used_to_all=%{x}<br>year_q=%{customdata[0]}<br>filer_type=%{customdata[1]}<extra></extra>",
         "jitter": 0,
         "legendgroup": "ev_ebitda",
         "line": {
          "color": "rgba(255,255,255,0)"
         },
         "marker": {
          "color": "#FF6692",
          "symbol": "line-ns-open"
         },
         "name": "ev_ebitda",
         "offsetgroup": "ev_ebitda",
         "showlegend": false,
         "type": "box",
         "x": [
          0.65,
          0.87,
          0.55,
          0.74,
          0.91,
          0.67,
          0.71,
          0.91,
          0.72,
          0.69,
          0.92,
          0.82,
          0.68,
          0.94,
          0.59,
          0.7,
          0.92,
          0.71,
          0.68,
          0.92,
          0.71,
          0.63,
          0.89,
          0.86,
          0.77,
          0.93,
          0.55,
          0.8,
          0.93,
          0.6,
          0.69,
          0.91,
          0.73,
          0.78,
          0.87,
          0.79,
          0.56,
          0.83,
          0.69,
          0.81,
          0.9,
          0.73,
          0.81,
          0.94,
          0.53,
          0.77,
          0.88,
          0.97,
          0.66,
          0.82,
          0.97,
          0.67,
          0.89,
          1
         ],
         "xaxis": "x2",
         "yaxis": "y2"
        },
        {
         "alignmentgroup": "True",
         "bingroup": "x",
         "hovertemplate": "kpi=ev_ebit<br>used_to_all=%{x}<br>count=%{y}<extra></extra>",
         "legendgroup": "ev_ebit",
         "marker": {
          "color": "#B6E880",
          "pattern": {
           "shape": ""
          }
         },
         "name": "ev_ebit",
         "offsetgroup": "ev_ebit",
         "orientation": "v",
         "showlegend": true,
         "type": "histogram",
         "x": [
          0.65,
          0.89,
          0.6,
          0.74,
          0.94,
          0.72,
          0.71,
          0.94,
          0.78,
          0.75,
          0.94,
          0.82,
          0.74,
          0.96,
          0.59,
          0.76,
          0.94,
          0.71,
          0.73,
          0.94,
          0.71,
          0.66,
          0.93,
          0.86,
          0.77,
          0.98,
          0.55,
          0.8,
          0.96,
          0.6,
          0.69,
          0.94,
          0.73,
          0.81,
          0.88,
          0.79,
          0.56,
          0.85,
          0.69,
          0.81,
          0.92,
          0.73,
          0.81,
          0.94,
          0.53,
          0.77,
          0.88,
          0.97,
          0.66,
          0.82,
          0.97,
          0.67,
          0.89,
          1
         ],
         "xaxis": "x",
         "yaxis": "y"
        },
        {
         "alignmentgroup": "True",
         "boxpoints": "all",
         "customdata": [
          [
           "2017_2",
           "accelerated_filer",
           "ev_ebit"
          ],
          [
           "2017_2",
           "large_accelerated_filer",
           "ev_ebit"
          ],
          [
           "2017_2",
           "non_accelerated_filer",
           "ev_ebit"
          ],
          [
           "2017_3",
           "accelerated_filer",
           "ev_ebit"
          ],
          [
           "2017_3",
           "large_accelerated_filer",
           "ev_ebit"
          ],
          [
           "2017_3",
           "non_accelerated_filer",
           "ev_ebit"
          ],
          [
           "2017_4",
           "accelerated_filer",
           "ev_ebit"
          ],
          [
           "2017_4",
           "large_accelerated_filer",
           "ev_ebit"
          ],
          [
           "2017_4",
           "non_accelerated_filer",
           "ev_ebit"
          ],
          [
           "2018_1",
           "accelerated_filer",
           "ev_ebit"
          ],
          [
           "2018_1",
           "large_accelerated_filer",
           "ev_ebit"
          ],
          [
           "2018_1",
           "non_accelerated_filer",
           "ev_ebit"
          ],
          [
           "2018_2",
           "accelerated_filer",
           "ev_ebit"
          ],
          [
           "2018_2",
           "large_accelerated_filer",
           "ev_ebit"
          ],
          [
           "2018_2",
           "non_accelerated_filer",
           "ev_ebit"
          ],
          [
           "2018_3",
           "accelerated_filer",
           "ev_ebit"
          ],
          [
           "2018_3",
           "large_accelerated_filer",
           "ev_ebit"
          ],
          [
           "2018_3",
           "non_accelerated_filer",
           "ev_ebit"
          ],
          [
           "2018_4",
           "accelerated_filer",
           "ev_ebit"
          ],
          [
           "2018_4",
           "large_accelerated_filer",
           "ev_ebit"
          ],
          [
           "2018_4",
           "non_accelerated_filer",
           "ev_ebit"
          ],
          [
           "2019_1",
           "accelerated_filer",
           "ev_ebit"
          ],
          [
           "2019_1",
           "large_accelerated_filer",
           "ev_ebit"
          ],
          [
           "2019_1",
           "non_accelerated_filer",
           "ev_ebit"
          ],
          [
           "2019_2",
           "accelerated_filer",
           "ev_ebit"
          ],
          [
           "2019_2",
           "large_accelerated_filer",
           "ev_ebit"
          ],
          [
           "2019_2",
           "non_accelerated_filer",
           "ev_ebit"
          ],
          [
           "2019_3",
           "accelerated_filer",
           "ev_ebit"
          ],
          [
           "2019_3",
           "large_accelerated_filer",
           "ev_ebit"
          ],
          [
           "2019_3",
           "non_accelerated_filer",
           "ev_ebit"
          ],
          [
           "2019_4",
           "accelerated_filer",
           "ev_ebit"
          ],
          [
           "2019_4",
           "large_accelerated_filer",
           "ev_ebit"
          ],
          [
           "2019_4",
           "non_accelerated_filer",
           "ev_ebit"
          ],
          [
           "2020_1",
           "accelerated_filer",
           "ev_ebit"
          ],
          [
           "2020_1",
           "large_accelerated_filer",
           "ev_ebit"
          ],
          [
           "2020_1",
           "non_accelerated_filer",
           "ev_ebit"
          ],
          [
           "2020_2",
           "accelerated_filer",
           "ev_ebit"
          ],
          [
           "2020_2",
           "large_accelerated_filer",
           "ev_ebit"
          ],
          [
           "2020_2",
           "non_accelerated_filer",
           "ev_ebit"
          ],
          [
           "2020_3",
           "accelerated_filer",
           "ev_ebit"
          ],
          [
           "2020_3",
           "large_accelerated_filer",
           "ev_ebit"
          ],
          [
           "2020_3",
           "non_accelerated_filer",
           "ev_ebit"
          ],
          [
           "2020_4",
           "accelerated_filer",
           "ev_ebit"
          ],
          [
           "2020_4",
           "large_accelerated_filer",
           "ev_ebit"
          ],
          [
           "2020_4",
           "non_accelerated_filer",
           "ev_ebit"
          ],
          [
           "2021_1",
           "non_accelerated_filer",
           "ev_ebit"
          ],
          [
           "2021_1",
           "accelerated_filer",
           "ev_ebit"
          ],
          [
           "2021_1",
           "large_accelerated_filer",
           "ev_ebit"
          ],
          [
           "2021_2",
           "non_accelerated_filer",
           "ev_ebit"
          ],
          [
           "2021_2",
           "accelerated_filer",
           "ev_ebit"
          ],
          [
           "2021_2",
           "large_accelerated_filer",
           "ev_ebit"
          ],
          [
           "2021_3",
           "non_accelerated_filer",
           "ev_ebit"
          ],
          [
           "2021_3",
           "accelerated_filer",
           "ev_ebit"
          ],
          [
           "2021_3",
           "large_accelerated_filer",
           "ev_ebit"
          ]
         ],
         "fillcolor": "rgba(255,255,255,0)",
         "hoveron": "points",
         "hovertemplate": "kpi=%{customdata[2]}<br>used_to_all=%{x}<br>year_q=%{customdata[0]}<br>filer_type=%{customdata[1]}<extra></extra>",
         "jitter": 0,
         "legendgroup": "ev_ebit",
         "line": {
          "color": "rgba(255,255,255,0)"
         },
         "marker": {
          "color": "#B6E880",
          "symbol": "line-ns-open"
         },
         "name": "ev_ebit",
         "offsetgroup": "ev_ebit",
         "showlegend": false,
         "type": "box",
         "x": [
          0.65,
          0.89,
          0.6,
          0.74,
          0.94,
          0.72,
          0.71,
          0.94,
          0.78,
          0.75,
          0.94,
          0.82,
          0.74,
          0.96,
          0.59,
          0.76,
          0.94,
          0.71,
          0.73,
          0.94,
          0.71,
          0.66,
          0.93,
          0.86,
          0.77,
          0.98,
          0.55,
          0.8,
          0.96,
          0.6,
          0.69,
          0.94,
          0.73,
          0.81,
          0.88,
          0.79,
          0.56,
          0.85,
          0.69,
          0.81,
          0.92,
          0.73,
          0.81,
          0.94,
          0.53,
          0.77,
          0.88,
          0.97,
          0.66,
          0.82,
          0.97,
          0.67,
          0.89,
          1
         ],
         "xaxis": "x2",
         "yaxis": "y2"
        },
        {
         "alignmentgroup": "True",
         "bingroup": "x",
         "hovertemplate": "kpi=ev_revenue<br>used_to_all=%{x}<br>count=%{y}<extra></extra>",
         "legendgroup": "ev_revenue",
         "marker": {
          "color": "#FF97FF",
          "pattern": {
           "shape": ""
          }
         },
         "name": "ev_revenue",
         "offsetgroup": "ev_revenue",
         "orientation": "v",
         "showlegend": true,
         "type": "histogram",
         "x": [
          0.62,
          0.87,
          0.6,
          0.68,
          0.91,
          0.72,
          0.68,
          0.91,
          0.78,
          0.75,
          0.92,
          0.82,
          0.71,
          0.94,
          0.59,
          0.73,
          0.92,
          0.71,
          0.73,
          0.92,
          0.71,
          0.66,
          0.93,
          0.86,
          0.74,
          0.98,
          0.55,
          0.77,
          0.96,
          0.6,
          0.66,
          0.94,
          0.73,
          0.78,
          0.88,
          0.79,
          0.56,
          0.85,
          0.69,
          0.78,
          0.92,
          0.73,
          0.78,
          0.94,
          0.53,
          0.74,
          0.88,
          0.97,
          0.63,
          0.82,
          0.97,
          0.64,
          0.89,
          1
         ],
         "xaxis": "x",
         "yaxis": "y"
        },
        {
         "alignmentgroup": "True",
         "boxpoints": "all",
         "customdata": [
          [
           "2017_2",
           "accelerated_filer",
           "ev_revenue"
          ],
          [
           "2017_2",
           "large_accelerated_filer",
           "ev_revenue"
          ],
          [
           "2017_2",
           "non_accelerated_filer",
           "ev_revenue"
          ],
          [
           "2017_3",
           "accelerated_filer",
           "ev_revenue"
          ],
          [
           "2017_3",
           "large_accelerated_filer",
           "ev_revenue"
          ],
          [
           "2017_3",
           "non_accelerated_filer",
           "ev_revenue"
          ],
          [
           "2017_4",
           "accelerated_filer",
           "ev_revenue"
          ],
          [
           "2017_4",
           "large_accelerated_filer",
           "ev_revenue"
          ],
          [
           "2017_4",
           "non_accelerated_filer",
           "ev_revenue"
          ],
          [
           "2018_1",
           "accelerated_filer",
           "ev_revenue"
          ],
          [
           "2018_1",
           "large_accelerated_filer",
           "ev_revenue"
          ],
          [
           "2018_1",
           "non_accelerated_filer",
           "ev_revenue"
          ],
          [
           "2018_2",
           "accelerated_filer",
           "ev_revenue"
          ],
          [
           "2018_2",
           "large_accelerated_filer",
           "ev_revenue"
          ],
          [
           "2018_2",
           "non_accelerated_filer",
           "ev_revenue"
          ],
          [
           "2018_3",
           "accelerated_filer",
           "ev_revenue"
          ],
          [
           "2018_3",
           "large_accelerated_filer",
           "ev_revenue"
          ],
          [
           "2018_3",
           "non_accelerated_filer",
           "ev_revenue"
          ],
          [
           "2018_4",
           "accelerated_filer",
           "ev_revenue"
          ],
          [
           "2018_4",
           "large_accelerated_filer",
           "ev_revenue"
          ],
          [
           "2018_4",
           "non_accelerated_filer",
           "ev_revenue"
          ],
          [
           "2019_1",
           "accelerated_filer",
           "ev_revenue"
          ],
          [
           "2019_1",
           "large_accelerated_filer",
           "ev_revenue"
          ],
          [
           "2019_1",
           "non_accelerated_filer",
           "ev_revenue"
          ],
          [
           "2019_2",
           "accelerated_filer",
           "ev_revenue"
          ],
          [
           "2019_2",
           "large_accelerated_filer",
           "ev_revenue"
          ],
          [
           "2019_2",
           "non_accelerated_filer",
           "ev_revenue"
          ],
          [
           "2019_3",
           "accelerated_filer",
           "ev_revenue"
          ],
          [
           "2019_3",
           "large_accelerated_filer",
           "ev_revenue"
          ],
          [
           "2019_3",
           "non_accelerated_filer",
           "ev_revenue"
          ],
          [
           "2019_4",
           "accelerated_filer",
           "ev_revenue"
          ],
          [
           "2019_4",
           "large_accelerated_filer",
           "ev_revenue"
          ],
          [
           "2019_4",
           "non_accelerated_filer",
           "ev_revenue"
          ],
          [
           "2020_1",
           "accelerated_filer",
           "ev_revenue"
          ],
          [
           "2020_1",
           "large_accelerated_filer",
           "ev_revenue"
          ],
          [
           "2020_1",
           "non_accelerated_filer",
           "ev_revenue"
          ],
          [
           "2020_2",
           "accelerated_filer",
           "ev_revenue"
          ],
          [
           "2020_2",
           "large_accelerated_filer",
           "ev_revenue"
          ],
          [
           "2020_2",
           "non_accelerated_filer",
           "ev_revenue"
          ],
          [
           "2020_3",
           "accelerated_filer",
           "ev_revenue"
          ],
          [
           "2020_3",
           "large_accelerated_filer",
           "ev_revenue"
          ],
          [
           "2020_3",
           "non_accelerated_filer",
           "ev_revenue"
          ],
          [
           "2020_4",
           "accelerated_filer",
           "ev_revenue"
          ],
          [
           "2020_4",
           "large_accelerated_filer",
           "ev_revenue"
          ],
          [
           "2020_4",
           "non_accelerated_filer",
           "ev_revenue"
          ],
          [
           "2021_1",
           "non_accelerated_filer",
           "ev_revenue"
          ],
          [
           "2021_1",
           "accelerated_filer",
           "ev_revenue"
          ],
          [
           "2021_1",
           "large_accelerated_filer",
           "ev_revenue"
          ],
          [
           "2021_2",
           "non_accelerated_filer",
           "ev_revenue"
          ],
          [
           "2021_2",
           "accelerated_filer",
           "ev_revenue"
          ],
          [
           "2021_2",
           "large_accelerated_filer",
           "ev_revenue"
          ],
          [
           "2021_3",
           "non_accelerated_filer",
           "ev_revenue"
          ],
          [
           "2021_3",
           "accelerated_filer",
           "ev_revenue"
          ],
          [
           "2021_3",
           "large_accelerated_filer",
           "ev_revenue"
          ]
         ],
         "fillcolor": "rgba(255,255,255,0)",
         "hoveron": "points",
         "hovertemplate": "kpi=%{customdata[2]}<br>used_to_all=%{x}<br>year_q=%{customdata[0]}<br>filer_type=%{customdata[1]}<extra></extra>",
         "jitter": 0,
         "legendgroup": "ev_revenue",
         "line": {
          "color": "rgba(255,255,255,0)"
         },
         "marker": {
          "color": "#FF97FF",
          "symbol": "line-ns-open"
         },
         "name": "ev_revenue",
         "offsetgroup": "ev_revenue",
         "showlegend": false,
         "type": "box",
         "x": [
          0.62,
          0.87,
          0.6,
          0.68,
          0.91,
          0.72,
          0.68,
          0.91,
          0.78,
          0.75,
          0.92,
          0.82,
          0.71,
          0.94,
          0.59,
          0.73,
          0.92,
          0.71,
          0.73,
          0.92,
          0.71,
          0.66,
          0.93,
          0.86,
          0.74,
          0.98,
          0.55,
          0.77,
          0.96,
          0.6,
          0.66,
          0.94,
          0.73,
          0.78,
          0.88,
          0.79,
          0.56,
          0.85,
          0.69,
          0.78,
          0.92,
          0.73,
          0.78,
          0.94,
          0.53,
          0.74,
          0.88,
          0.97,
          0.63,
          0.82,
          0.97,
          0.64,
          0.89,
          1
         ],
         "xaxis": "x2",
         "yaxis": "y2"
        }
       ],
       "layout": {
        "barmode": "relative",
        "legend": {
         "title": {
          "text": "kpi"
         },
         "tracegroupgap": 0
        },
        "template": {
         "data": {
          "bar": [
           {
            "error_x": {
             "color": "#2a3f5f"
            },
            "error_y": {
             "color": "#2a3f5f"
            },
            "marker": {
             "line": {
              "color": "#E5ECF6",
              "width": 0.5
             },
             "pattern": {
              "fillmode": "overlay",
              "size": 10,
              "solidity": 0.2
             }
            },
            "type": "bar"
           }
          ],
          "barpolar": [
           {
            "marker": {
             "line": {
              "color": "#E5ECF6",
              "width": 0.5
             },
             "pattern": {
              "fillmode": "overlay",
              "size": 10,
              "solidity": 0.2
             }
            },
            "type": "barpolar"
           }
          ],
          "carpet": [
           {
            "aaxis": {
             "endlinecolor": "#2a3f5f",
             "gridcolor": "white",
             "linecolor": "white",
             "minorgridcolor": "white",
             "startlinecolor": "#2a3f5f"
            },
            "baxis": {
             "endlinecolor": "#2a3f5f",
             "gridcolor": "white",
             "linecolor": "white",
             "minorgridcolor": "white",
             "startlinecolor": "#2a3f5f"
            },
            "type": "carpet"
           }
          ],
          "choropleth": [
           {
            "colorbar": {
             "outlinewidth": 0,
             "ticks": ""
            },
            "type": "choropleth"
           }
          ],
          "contour": [
           {
            "colorbar": {
             "outlinewidth": 0,
             "ticks": ""
            },
            "colorscale": [
             [
              0,
              "#0d0887"
             ],
             [
              0.1111111111111111,
              "#46039f"
             ],
             [
              0.2222222222222222,
              "#7201a8"
             ],
             [
              0.3333333333333333,
              "#9c179e"
             ],
             [
              0.4444444444444444,
              "#bd3786"
             ],
             [
              0.5555555555555556,
              "#d8576b"
             ],
             [
              0.6666666666666666,
              "#ed7953"
             ],
             [
              0.7777777777777778,
              "#fb9f3a"
             ],
             [
              0.8888888888888888,
              "#fdca26"
             ],
             [
              1,
              "#f0f921"
             ]
            ],
            "type": "contour"
           }
          ],
          "contourcarpet": [
           {
            "colorbar": {
             "outlinewidth": 0,
             "ticks": ""
            },
            "type": "contourcarpet"
           }
          ],
          "heatmap": [
           {
            "colorbar": {
             "outlinewidth": 0,
             "ticks": ""
            },
            "colorscale": [
             [
              0,
              "#0d0887"
             ],
             [
              0.1111111111111111,
              "#46039f"
             ],
             [
              0.2222222222222222,
              "#7201a8"
             ],
             [
              0.3333333333333333,
              "#9c179e"
             ],
             [
              0.4444444444444444,
              "#bd3786"
             ],
             [
              0.5555555555555556,
              "#d8576b"
             ],
             [
              0.6666666666666666,
              "#ed7953"
             ],
             [
              0.7777777777777778,
              "#fb9f3a"
             ],
             [
              0.8888888888888888,
              "#fdca26"
             ],
             [
              1,
              "#f0f921"
             ]
            ],
            "type": "heatmap"
           }
          ],
          "heatmapgl": [
           {
            "colorbar": {
             "outlinewidth": 0,
             "ticks": ""
            },
            "colorscale": [
             [
              0,
              "#0d0887"
             ],
             [
              0.1111111111111111,
              "#46039f"
             ],
             [
              0.2222222222222222,
              "#7201a8"
             ],
             [
              0.3333333333333333,
              "#9c179e"
             ],
             [
              0.4444444444444444,
              "#bd3786"
             ],
             [
              0.5555555555555556,
              "#d8576b"
             ],
             [
              0.6666666666666666,
              "#ed7953"
             ],
             [
              0.7777777777777778,
              "#fb9f3a"
             ],
             [
              0.8888888888888888,
              "#fdca26"
             ],
             [
              1,
              "#f0f921"
             ]
            ],
            "type": "heatmapgl"
           }
          ],
          "histogram": [
           {
            "marker": {
             "pattern": {
              "fillmode": "overlay",
              "size": 10,
              "solidity": 0.2
             }
            },
            "type": "histogram"
           }
          ],
          "histogram2d": [
           {
            "colorbar": {
             "outlinewidth": 0,
             "ticks": ""
            },
            "colorscale": [
             [
              0,
              "#0d0887"
             ],
             [
              0.1111111111111111,
              "#46039f"
             ],
             [
              0.2222222222222222,
              "#7201a8"
             ],
             [
              0.3333333333333333,
              "#9c179e"
             ],
             [
              0.4444444444444444,
              "#bd3786"
             ],
             [
              0.5555555555555556,
              "#d8576b"
             ],
             [
              0.6666666666666666,
              "#ed7953"
             ],
             [
              0.7777777777777778,
              "#fb9f3a"
             ],
             [
              0.8888888888888888,
              "#fdca26"
             ],
             [
              1,
              "#f0f921"
             ]
            ],
            "type": "histogram2d"
           }
          ],
          "histogram2dcontour": [
           {
            "colorbar": {
             "outlinewidth": 0,
             "ticks": ""
            },
            "colorscale": [
             [
              0,
              "#0d0887"
             ],
             [
              0.1111111111111111,
              "#46039f"
             ],
             [
              0.2222222222222222,
              "#7201a8"
             ],
             [
              0.3333333333333333,
              "#9c179e"
             ],
             [
              0.4444444444444444,
              "#bd3786"
             ],
             [
              0.5555555555555556,
              "#d8576b"
             ],
             [
              0.6666666666666666,
              "#ed7953"
             ],
             [
              0.7777777777777778,
              "#fb9f3a"
             ],
             [
              0.8888888888888888,
              "#fdca26"
             ],
             [
              1,
              "#f0f921"
             ]
            ],
            "type": "histogram2dcontour"
           }
          ],
          "mesh3d": [
           {
            "colorbar": {
             "outlinewidth": 0,
             "ticks": ""
            },
            "type": "mesh3d"
           }
          ],
          "parcoords": [
           {
            "line": {
             "colorbar": {
              "outlinewidth": 0,
              "ticks": ""
             }
            },
            "type": "parcoords"
           }
          ],
          "pie": [
           {
            "automargin": true,
            "type": "pie"
           }
          ],
          "scatter": [
           {
            "marker": {
             "colorbar": {
              "outlinewidth": 0,
              "ticks": ""
             }
            },
            "type": "scatter"
           }
          ],
          "scatter3d": [
           {
            "line": {
             "colorbar": {
              "outlinewidth": 0,
              "ticks": ""
             }
            },
            "marker": {
             "colorbar": {
              "outlinewidth": 0,
              "ticks": ""
             }
            },
            "type": "scatter3d"
           }
          ],
          "scattercarpet": [
           {
            "marker": {
             "colorbar": {
              "outlinewidth": 0,
              "ticks": ""
             }
            },
            "type": "scattercarpet"
           }
          ],
          "scattergeo": [
           {
            "marker": {
             "colorbar": {
              "outlinewidth": 0,
              "ticks": ""
             }
            },
            "type": "scattergeo"
           }
          ],
          "scattergl": [
           {
            "marker": {
             "colorbar": {
              "outlinewidth": 0,
              "ticks": ""
             }
            },
            "type": "scattergl"
           }
          ],
          "scattermapbox": [
           {
            "marker": {
             "colorbar": {
              "outlinewidth": 0,
              "ticks": ""
             }
            },
            "type": "scattermapbox"
           }
          ],
          "scatterpolar": [
           {
            "marker": {
             "colorbar": {
              "outlinewidth": 0,
              "ticks": ""
             }
            },
            "type": "scatterpolar"
           }
          ],
          "scatterpolargl": [
           {
            "marker": {
             "colorbar": {
              "outlinewidth": 0,
              "ticks": ""
             }
            },
            "type": "scatterpolargl"
           }
          ],
          "scatterternary": [
           {
            "marker": {
             "colorbar": {
              "outlinewidth": 0,
              "ticks": ""
             }
            },
            "type": "scatterternary"
           }
          ],
          "surface": [
           {
            "colorbar": {
             "outlinewidth": 0,
             "ticks": ""
            },
            "colorscale": [
             [
              0,
              "#0d0887"
             ],
             [
              0.1111111111111111,
              "#46039f"
             ],
             [
              0.2222222222222222,
              "#7201a8"
             ],
             [
              0.3333333333333333,
              "#9c179e"
             ],
             [
              0.4444444444444444,
              "#bd3786"
             ],
             [
              0.5555555555555556,
              "#d8576b"
             ],
             [
              0.6666666666666666,
              "#ed7953"
             ],
             [
              0.7777777777777778,
              "#fb9f3a"
             ],
             [
              0.8888888888888888,
              "#fdca26"
             ],
             [
              1,
              "#f0f921"
             ]
            ],
            "type": "surface"
           }
          ],
          "table": [
           {
            "cells": {
             "fill": {
              "color": "#EBF0F8"
             },
             "line": {
              "color": "white"
             }
            },
            "header": {
             "fill": {
              "color": "#C8D4E3"
             },
             "line": {
              "color": "white"
             }
            },
            "type": "table"
           }
          ]
         },
         "layout": {
          "annotationdefaults": {
           "arrowcolor": "#2a3f5f",
           "arrowhead": 0,
           "arrowwidth": 1
          },
          "autotypenumbers": "strict",
          "coloraxis": {
           "colorbar": {
            "outlinewidth": 0,
            "ticks": ""
           }
          },
          "colorscale": {
           "diverging": [
            [
             0,
             "#8e0152"
            ],
            [
             0.1,
             "#c51b7d"
            ],
            [
             0.2,
             "#de77ae"
            ],
            [
             0.3,
             "#f1b6da"
            ],
            [
             0.4,
             "#fde0ef"
            ],
            [
             0.5,
             "#f7f7f7"
            ],
            [
             0.6,
             "#e6f5d0"
            ],
            [
             0.7,
             "#b8e186"
            ],
            [
             0.8,
             "#7fbc41"
            ],
            [
             0.9,
             "#4d9221"
            ],
            [
             1,
             "#276419"
            ]
           ],
           "sequential": [
            [
             0,
             "#0d0887"
            ],
            [
             0.1111111111111111,
             "#46039f"
            ],
            [
             0.2222222222222222,
             "#7201a8"
            ],
            [
             0.3333333333333333,
             "#9c179e"
            ],
            [
             0.4444444444444444,
             "#bd3786"
            ],
            [
             0.5555555555555556,
             "#d8576b"
            ],
            [
             0.6666666666666666,
             "#ed7953"
            ],
            [
             0.7777777777777778,
             "#fb9f3a"
            ],
            [
             0.8888888888888888,
             "#fdca26"
            ],
            [
             1,
             "#f0f921"
            ]
           ],
           "sequentialminus": [
            [
             0,
             "#0d0887"
            ],
            [
             0.1111111111111111,
             "#46039f"
            ],
            [
             0.2222222222222222,
             "#7201a8"
            ],
            [
             0.3333333333333333,
             "#9c179e"
            ],
            [
             0.4444444444444444,
             "#bd3786"
            ],
            [
             0.5555555555555556,
             "#d8576b"
            ],
            [
             0.6666666666666666,
             "#ed7953"
            ],
            [
             0.7777777777777778,
             "#fb9f3a"
            ],
            [
             0.8888888888888888,
             "#fdca26"
            ],
            [
             1,
             "#f0f921"
            ]
           ]
          },
          "colorway": [
           "#636efa",
           "#EF553B",
           "#00cc96",
           "#ab63fa",
           "#FFA15A",
           "#19d3f3",
           "#FF6692",
           "#B6E880",
           "#FF97FF",
           "#FECB52"
          ],
          "font": {
           "color": "#2a3f5f"
          },
          "geo": {
           "bgcolor": "white",
           "lakecolor": "white",
           "landcolor": "#E5ECF6",
           "showlakes": true,
           "showland": true,
           "subunitcolor": "white"
          },
          "hoverlabel": {
           "align": "left"
          },
          "hovermode": "closest",
          "mapbox": {
           "style": "light"
          },
          "paper_bgcolor": "white",
          "plot_bgcolor": "#E5ECF6",
          "polar": {
           "angularaxis": {
            "gridcolor": "white",
            "linecolor": "white",
            "ticks": ""
           },
           "bgcolor": "#E5ECF6",
           "radialaxis": {
            "gridcolor": "white",
            "linecolor": "white",
            "ticks": ""
           }
          },
          "scene": {
           "xaxis": {
            "backgroundcolor": "#E5ECF6",
            "gridcolor": "white",
            "gridwidth": 2,
            "linecolor": "white",
            "showbackground": true,
            "ticks": "",
            "zerolinecolor": "white"
           },
           "yaxis": {
            "backgroundcolor": "#E5ECF6",
            "gridcolor": "white",
            "gridwidth": 2,
            "linecolor": "white",
            "showbackground": true,
            "ticks": "",
            "zerolinecolor": "white"
           },
           "zaxis": {
            "backgroundcolor": "#E5ECF6",
            "gridcolor": "white",
            "gridwidth": 2,
            "linecolor": "white",
            "showbackground": true,
            "ticks": "",
            "zerolinecolor": "white"
           }
          },
          "shapedefaults": {
           "line": {
            "color": "#2a3f5f"
           }
          },
          "ternary": {
           "aaxis": {
            "gridcolor": "white",
            "linecolor": "white",
            "ticks": ""
           },
           "baxis": {
            "gridcolor": "white",
            "linecolor": "white",
            "ticks": ""
           },
           "bgcolor": "#E5ECF6",
           "caxis": {
            "gridcolor": "white",
            "linecolor": "white",
            "ticks": ""
           }
          },
          "title": {
           "x": 0.05
          },
          "xaxis": {
           "automargin": true,
           "gridcolor": "white",
           "linecolor": "white",
           "ticks": "",
           "title": {
            "standoff": 15
           },
           "zerolinecolor": "white",
           "zerolinewidth": 2
          },
          "yaxis": {
           "automargin": true,
           "gridcolor": "white",
           "linecolor": "white",
           "ticks": "",
           "title": {
            "standoff": 15
           },
           "zerolinecolor": "white",
           "zerolinewidth": 2
          }
         }
        },
        "title": {
         "text": "Percentage used KPIs from all for calculating mean/median | color: KPI"
        },
        "xaxis": {
         "anchor": "y",
         "domain": [
          0,
          1
         ],
         "title": {
          "text": "used_to_all"
         }
        },
        "xaxis2": {
         "anchor": "y2",
         "domain": [
          0,
          1
         ],
         "matches": "x",
         "showgrid": true,
         "showticklabels": false
        },
        "yaxis": {
         "anchor": "x",
         "domain": [
          0,
          0.7326
         ],
         "title": {
          "text": "count"
         }
        },
        "yaxis2": {
         "anchor": "x2",
         "domain": [
          0.7426,
          1
         ],
         "matches": "y2",
         "showgrid": false,
         "showline": false,
         "showticklabels": false,
         "ticks": ""
        }
       }
      }
     },
     "metadata": {},
     "output_type": "display_data"
    }
   ],
   "source": [
    "import plotly.express as px\n",
    "\n",
    "fig = px.histogram(df_for_plot, x=\"used_to_all\", color=\"kpi\", marginal=\"rug\",\n",
    "                   hover_data=df_for_plot.columns, title=\"Percentage used KPIs from all for calculating mean/median | color: KPI\")\n",
    "fig.show()"
   ]
  },
  {
   "cell_type": "code",
   "execution_count": 35,
   "metadata": {},
   "outputs": [
    {
     "data": {
      "application/vnd.plotly.v1+json": {
       "config": {
        "plotlyServerURL": "https://plot.ly"
       },
       "data": [
        {
         "alignmentgroup": "True",
         "bingroup": "x",
         "hovertemplate": "year_q=2017_2<br>used_to_all=%{x}<br>count=%{y}<extra></extra>",
         "legendgroup": "2017_2",
         "marker": {
          "color": "#636efa",
          "pattern": {
           "shape": ""
          }
         },
         "name": "2017_2",
         "offsetgroup": "2017_2",
         "orientation": "v",
         "showlegend": true,
         "type": "histogram",
         "x": [
          0.85,
          0.88,
          0.82,
          0.79,
          0.85,
          0.85,
          0.88,
          0.91,
          0.68,
          0.91,
          0.74,
          0.91,
          0.68,
          0.68,
          0.82,
          0.88,
          0.65,
          0.65,
          0.62,
          0.98,
          0.98,
          0.98,
          0.96,
          0.96,
          0.96,
          0.98,
          0.98,
          0.91,
          0.98,
          0.96,
          0.96,
          0.96,
          0.98,
          0.98,
          0.98,
          0.87,
          0.89,
          0.87,
          0.8,
          0.8,
          0.75,
          0.8,
          0.85,
          0.85,
          0.75,
          0.8,
          0.6,
          0.75,
          0.65,
          0.75,
          0.7,
          0.75,
          0.75,
          0.8,
          0.55,
          0.6,
          0.6
         ],
         "xaxis": "x",
         "yaxis": "y"
        },
        {
         "alignmentgroup": "True",
         "boxpoints": "all",
         "customdata": [
          [
           "2017_2",
           "accelerated_filer",
           "roe"
          ],
          [
           "2017_2",
           "accelerated_filer",
           "roa"
          ],
          [
           "2017_2",
           "accelerated_filer",
           "roce"
          ],
          [
           "2017_2",
           "accelerated_filer",
           "gross_margin"
          ],
          [
           "2017_2",
           "accelerated_filer",
           "operating_profit_margin"
          ],
          [
           "2017_2",
           "accelerated_filer",
           "net_profit_margin"
          ],
          [
           "2017_2",
           "accelerated_filer",
           "debt_to_equity"
          ],
          [
           "2017_2",
           "accelerated_filer",
           "equity"
          ],
          [
           "2017_2",
           "accelerated_filer",
           "debt"
          ],
          [
           "2017_2",
           "accelerated_filer",
           "current"
          ],
          [
           "2017_2",
           "accelerated_filer",
           "quick"
          ],
          [
           "2017_2",
           "accelerated_filer",
           "cash"
          ],
          [
           "2017_2",
           "accelerated_filer",
           "times_interest_earned"
          ],
          [
           "2017_2",
           "accelerated_filer",
           "capex_to_operating_cash"
          ],
          [
           "2017_2",
           "accelerated_filer",
           "operating_cash_flow"
          ],
          [
           "2017_2",
           "accelerated_filer",
           "price_to_earnings"
          ],
          [
           "2017_2",
           "accelerated_filer",
           "ev_ebitda"
          ],
          [
           "2017_2",
           "accelerated_filer",
           "ev_ebit"
          ],
          [
           "2017_2",
           "accelerated_filer",
           "ev_revenue"
          ],
          [
           "2017_2",
           "large_accelerated_filer",
           "roe"
          ],
          [
           "2017_2",
           "large_accelerated_filer",
           "roa"
          ],
          [
           "2017_2",
           "large_accelerated_filer",
           "roce"
          ],
          [
           "2017_2",
           "large_accelerated_filer",
           "gross_margin"
          ],
          [
           "2017_2",
           "large_accelerated_filer",
           "operating_profit_margin"
          ],
          [
           "2017_2",
           "large_accelerated_filer",
           "net_profit_margin"
          ],
          [
           "2017_2",
           "large_accelerated_filer",
           "debt_to_equity"
          ],
          [
           "2017_2",
           "large_accelerated_filer",
           "equity"
          ],
          [
           "2017_2",
           "large_accelerated_filer",
           "debt"
          ],
          [
           "2017_2",
           "large_accelerated_filer",
           "current"
          ],
          [
           "2017_2",
           "large_accelerated_filer",
           "quick"
          ],
          [
           "2017_2",
           "large_accelerated_filer",
           "cash"
          ],
          [
           "2017_2",
           "large_accelerated_filer",
           "times_interest_earned"
          ],
          [
           "2017_2",
           "large_accelerated_filer",
           "capex_to_operating_cash"
          ],
          [
           "2017_2",
           "large_accelerated_filer",
           "operating_cash_flow"
          ],
          [
           "2017_2",
           "large_accelerated_filer",
           "price_to_earnings"
          ],
          [
           "2017_2",
           "large_accelerated_filer",
           "ev_ebitda"
          ],
          [
           "2017_2",
           "large_accelerated_filer",
           "ev_ebit"
          ],
          [
           "2017_2",
           "large_accelerated_filer",
           "ev_revenue"
          ],
          [
           "2017_2",
           "non_accelerated_filer",
           "roe"
          ],
          [
           "2017_2",
           "non_accelerated_filer",
           "roa"
          ],
          [
           "2017_2",
           "non_accelerated_filer",
           "roce"
          ],
          [
           "2017_2",
           "non_accelerated_filer",
           "gross_margin"
          ],
          [
           "2017_2",
           "non_accelerated_filer",
           "operating_profit_margin"
          ],
          [
           "2017_2",
           "non_accelerated_filer",
           "net_profit_margin"
          ],
          [
           "2017_2",
           "non_accelerated_filer",
           "debt_to_equity"
          ],
          [
           "2017_2",
           "non_accelerated_filer",
           "equity"
          ],
          [
           "2017_2",
           "non_accelerated_filer",
           "debt"
          ],
          [
           "2017_2",
           "non_accelerated_filer",
           "current"
          ],
          [
           "2017_2",
           "non_accelerated_filer",
           "quick"
          ],
          [
           "2017_2",
           "non_accelerated_filer",
           "cash"
          ],
          [
           "2017_2",
           "non_accelerated_filer",
           "times_interest_earned"
          ],
          [
           "2017_2",
           "non_accelerated_filer",
           "capex_to_operating_cash"
          ],
          [
           "2017_2",
           "non_accelerated_filer",
           "operating_cash_flow"
          ],
          [
           "2017_2",
           "non_accelerated_filer",
           "price_to_earnings"
          ],
          [
           "2017_2",
           "non_accelerated_filer",
           "ev_ebitda"
          ],
          [
           "2017_2",
           "non_accelerated_filer",
           "ev_ebit"
          ],
          [
           "2017_2",
           "non_accelerated_filer",
           "ev_revenue"
          ]
         ],
         "fillcolor": "rgba(255,255,255,0)",
         "hoveron": "points",
         "hovertemplate": "year_q=%{customdata[0]}<br>used_to_all=%{x}<br>filer_type=%{customdata[1]}<br>kpi=%{customdata[2]}<extra></extra>",
         "jitter": 0,
         "legendgroup": "2017_2",
         "line": {
          "color": "rgba(255,255,255,0)"
         },
         "marker": {
          "color": "#636efa",
          "symbol": "line-ns-open"
         },
         "name": "2017_2",
         "offsetgroup": "2017_2",
         "showlegend": false,
         "type": "box",
         "x": [
          0.85,
          0.88,
          0.82,
          0.79,
          0.85,
          0.85,
          0.88,
          0.91,
          0.68,
          0.91,
          0.74,
          0.91,
          0.68,
          0.68,
          0.82,
          0.88,
          0.65,
          0.65,
          0.62,
          0.98,
          0.98,
          0.98,
          0.96,
          0.96,
          0.96,
          0.98,
          0.98,
          0.91,
          0.98,
          0.96,
          0.96,
          0.96,
          0.98,
          0.98,
          0.98,
          0.87,
          0.89,
          0.87,
          0.8,
          0.8,
          0.75,
          0.8,
          0.85,
          0.85,
          0.75,
          0.8,
          0.6,
          0.75,
          0.65,
          0.75,
          0.7,
          0.75,
          0.75,
          0.8,
          0.55,
          0.6,
          0.6
         ],
         "xaxis": "x2",
         "yaxis": "y2"
        },
        {
         "alignmentgroup": "True",
         "bingroup": "x",
         "hovertemplate": "year_q=2017_3<br>used_to_all=%{x}<br>count=%{y}<extra></extra>",
         "legendgroup": "2017_3",
         "marker": {
          "color": "#EF553B",
          "pattern": {
           "shape": ""
          }
         },
         "name": "2017_3",
         "offsetgroup": "2017_3",
         "orientation": "v",
         "showlegend": true,
         "type": "histogram",
         "x": [
          0.94,
          0.97,
          0.91,
          0.91,
          0.94,
          0.94,
          0.91,
          0.94,
          0.74,
          0.91,
          0.71,
          0.91,
          0.79,
          0.79,
          0.88,
          0.97,
          0.74,
          0.74,
          0.68,
          1,
          1,
          1,
          0.98,
          0.98,
          0.98,
          1,
          1,
          0.94,
          1,
          1,
          1,
          0.98,
          1,
          1,
          1,
          0.91,
          0.94,
          0.91,
          0.94,
          0.94,
          0.89,
          0.94,
          0.94,
          0.94,
          0.89,
          0.94,
          0.78,
          0.89,
          0.72,
          0.83,
          0.78,
          0.83,
          0.89,
          0.94,
          0.67,
          0.72,
          0.72
         ],
         "xaxis": "x",
         "yaxis": "y"
        },
        {
         "alignmentgroup": "True",
         "boxpoints": "all",
         "customdata": [
          [
           "2017_3",
           "accelerated_filer",
           "roe"
          ],
          [
           "2017_3",
           "accelerated_filer",
           "roa"
          ],
          [
           "2017_3",
           "accelerated_filer",
           "roce"
          ],
          [
           "2017_3",
           "accelerated_filer",
           "gross_margin"
          ],
          [
           "2017_3",
           "accelerated_filer",
           "operating_profit_margin"
          ],
          [
           "2017_3",
           "accelerated_filer",
           "net_profit_margin"
          ],
          [
           "2017_3",
           "accelerated_filer",
           "debt_to_equity"
          ],
          [
           "2017_3",
           "accelerated_filer",
           "equity"
          ],
          [
           "2017_3",
           "accelerated_filer",
           "debt"
          ],
          [
           "2017_3",
           "accelerated_filer",
           "current"
          ],
          [
           "2017_3",
           "accelerated_filer",
           "quick"
          ],
          [
           "2017_3",
           "accelerated_filer",
           "cash"
          ],
          [
           "2017_3",
           "accelerated_filer",
           "times_interest_earned"
          ],
          [
           "2017_3",
           "accelerated_filer",
           "capex_to_operating_cash"
          ],
          [
           "2017_3",
           "accelerated_filer",
           "operating_cash_flow"
          ],
          [
           "2017_3",
           "accelerated_filer",
           "price_to_earnings"
          ],
          [
           "2017_3",
           "accelerated_filer",
           "ev_ebitda"
          ],
          [
           "2017_3",
           "accelerated_filer",
           "ev_ebit"
          ],
          [
           "2017_3",
           "accelerated_filer",
           "ev_revenue"
          ],
          [
           "2017_3",
           "large_accelerated_filer",
           "roe"
          ],
          [
           "2017_3",
           "large_accelerated_filer",
           "roa"
          ],
          [
           "2017_3",
           "large_accelerated_filer",
           "roce"
          ],
          [
           "2017_3",
           "large_accelerated_filer",
           "gross_margin"
          ],
          [
           "2017_3",
           "large_accelerated_filer",
           "operating_profit_margin"
          ],
          [
           "2017_3",
           "large_accelerated_filer",
           "net_profit_margin"
          ],
          [
           "2017_3",
           "large_accelerated_filer",
           "debt_to_equity"
          ],
          [
           "2017_3",
           "large_accelerated_filer",
           "equity"
          ],
          [
           "2017_3",
           "large_accelerated_filer",
           "debt"
          ],
          [
           "2017_3",
           "large_accelerated_filer",
           "current"
          ],
          [
           "2017_3",
           "large_accelerated_filer",
           "quick"
          ],
          [
           "2017_3",
           "large_accelerated_filer",
           "cash"
          ],
          [
           "2017_3",
           "large_accelerated_filer",
           "times_interest_earned"
          ],
          [
           "2017_3",
           "large_accelerated_filer",
           "capex_to_operating_cash"
          ],
          [
           "2017_3",
           "large_accelerated_filer",
           "operating_cash_flow"
          ],
          [
           "2017_3",
           "large_accelerated_filer",
           "price_to_earnings"
          ],
          [
           "2017_3",
           "large_accelerated_filer",
           "ev_ebitda"
          ],
          [
           "2017_3",
           "large_accelerated_filer",
           "ev_ebit"
          ],
          [
           "2017_3",
           "large_accelerated_filer",
           "ev_revenue"
          ],
          [
           "2017_3",
           "non_accelerated_filer",
           "roe"
          ],
          [
           "2017_3",
           "non_accelerated_filer",
           "roa"
          ],
          [
           "2017_3",
           "non_accelerated_filer",
           "roce"
          ],
          [
           "2017_3",
           "non_accelerated_filer",
           "gross_margin"
          ],
          [
           "2017_3",
           "non_accelerated_filer",
           "operating_profit_margin"
          ],
          [
           "2017_3",
           "non_accelerated_filer",
           "net_profit_margin"
          ],
          [
           "2017_3",
           "non_accelerated_filer",
           "debt_to_equity"
          ],
          [
           "2017_3",
           "non_accelerated_filer",
           "equity"
          ],
          [
           "2017_3",
           "non_accelerated_filer",
           "debt"
          ],
          [
           "2017_3",
           "non_accelerated_filer",
           "current"
          ],
          [
           "2017_3",
           "non_accelerated_filer",
           "quick"
          ],
          [
           "2017_3",
           "non_accelerated_filer",
           "cash"
          ],
          [
           "2017_3",
           "non_accelerated_filer",
           "times_interest_earned"
          ],
          [
           "2017_3",
           "non_accelerated_filer",
           "capex_to_operating_cash"
          ],
          [
           "2017_3",
           "non_accelerated_filer",
           "operating_cash_flow"
          ],
          [
           "2017_3",
           "non_accelerated_filer",
           "price_to_earnings"
          ],
          [
           "2017_3",
           "non_accelerated_filer",
           "ev_ebitda"
          ],
          [
           "2017_3",
           "non_accelerated_filer",
           "ev_ebit"
          ],
          [
           "2017_3",
           "non_accelerated_filer",
           "ev_revenue"
          ]
         ],
         "fillcolor": "rgba(255,255,255,0)",
         "hoveron": "points",
         "hovertemplate": "year_q=%{customdata[0]}<br>used_to_all=%{x}<br>filer_type=%{customdata[1]}<br>kpi=%{customdata[2]}<extra></extra>",
         "jitter": 0,
         "legendgroup": "2017_3",
         "line": {
          "color": "rgba(255,255,255,0)"
         },
         "marker": {
          "color": "#EF553B",
          "symbol": "line-ns-open"
         },
         "name": "2017_3",
         "offsetgroup": "2017_3",
         "showlegend": false,
         "type": "box",
         "x": [
          0.94,
          0.97,
          0.91,
          0.91,
          0.94,
          0.94,
          0.91,
          0.94,
          0.74,
          0.91,
          0.71,
          0.91,
          0.79,
          0.79,
          0.88,
          0.97,
          0.74,
          0.74,
          0.68,
          1,
          1,
          1,
          0.98,
          0.98,
          0.98,
          1,
          1,
          0.94,
          1,
          1,
          1,
          0.98,
          1,
          1,
          1,
          0.91,
          0.94,
          0.91,
          0.94,
          0.94,
          0.89,
          0.94,
          0.94,
          0.94,
          0.89,
          0.94,
          0.78,
          0.89,
          0.72,
          0.83,
          0.78,
          0.83,
          0.89,
          0.94,
          0.67,
          0.72,
          0.72
         ],
         "xaxis": "x2",
         "yaxis": "y2"
        },
        {
         "alignmentgroup": "True",
         "bingroup": "x",
         "hovertemplate": "year_q=2017_4<br>used_to_all=%{x}<br>count=%{y}<extra></extra>",
         "legendgroup": "2017_4",
         "marker": {
          "color": "#00cc96",
          "pattern": {
           "shape": ""
          }
         },
         "name": "2017_4",
         "offsetgroup": "2017_4",
         "orientation": "v",
         "showlegend": true,
         "type": "histogram",
         "x": [
          0.97,
          0.97,
          0.91,
          0.91,
          0.91,
          0.91,
          0.91,
          0.97,
          0.71,
          0.91,
          0.68,
          0.91,
          0.76,
          0.74,
          0.91,
          0.97,
          0.71,
          0.71,
          0.68,
          1,
          1,
          1,
          0.98,
          0.98,
          0.98,
          1,
          1,
          0.94,
          1,
          1,
          1,
          0.98,
          1,
          1,
          1,
          0.91,
          0.94,
          0.91,
          0.94,
          0.94,
          0.89,
          0.94,
          0.94,
          0.94,
          0.89,
          0.94,
          0.78,
          0.89,
          0.78,
          0.89,
          0.78,
          0.83,
          0.89,
          0.94,
          0.72,
          0.78,
          0.78
         ],
         "xaxis": "x",
         "yaxis": "y"
        },
        {
         "alignmentgroup": "True",
         "boxpoints": "all",
         "customdata": [
          [
           "2017_4",
           "accelerated_filer",
           "roe"
          ],
          [
           "2017_4",
           "accelerated_filer",
           "roa"
          ],
          [
           "2017_4",
           "accelerated_filer",
           "roce"
          ],
          [
           "2017_4",
           "accelerated_filer",
           "gross_margin"
          ],
          [
           "2017_4",
           "accelerated_filer",
           "operating_profit_margin"
          ],
          [
           "2017_4",
           "accelerated_filer",
           "net_profit_margin"
          ],
          [
           "2017_4",
           "accelerated_filer",
           "debt_to_equity"
          ],
          [
           "2017_4",
           "accelerated_filer",
           "equity"
          ],
          [
           "2017_4",
           "accelerated_filer",
           "debt"
          ],
          [
           "2017_4",
           "accelerated_filer",
           "current"
          ],
          [
           "2017_4",
           "accelerated_filer",
           "quick"
          ],
          [
           "2017_4",
           "accelerated_filer",
           "cash"
          ],
          [
           "2017_4",
           "accelerated_filer",
           "times_interest_earned"
          ],
          [
           "2017_4",
           "accelerated_filer",
           "capex_to_operating_cash"
          ],
          [
           "2017_4",
           "accelerated_filer",
           "operating_cash_flow"
          ],
          [
           "2017_4",
           "accelerated_filer",
           "price_to_earnings"
          ],
          [
           "2017_4",
           "accelerated_filer",
           "ev_ebitda"
          ],
          [
           "2017_4",
           "accelerated_filer",
           "ev_ebit"
          ],
          [
           "2017_4",
           "accelerated_filer",
           "ev_revenue"
          ],
          [
           "2017_4",
           "large_accelerated_filer",
           "roe"
          ],
          [
           "2017_4",
           "large_accelerated_filer",
           "roa"
          ],
          [
           "2017_4",
           "large_accelerated_filer",
           "roce"
          ],
          [
           "2017_4",
           "large_accelerated_filer",
           "gross_margin"
          ],
          [
           "2017_4",
           "large_accelerated_filer",
           "operating_profit_margin"
          ],
          [
           "2017_4",
           "large_accelerated_filer",
           "net_profit_margin"
          ],
          [
           "2017_4",
           "large_accelerated_filer",
           "debt_to_equity"
          ],
          [
           "2017_4",
           "large_accelerated_filer",
           "equity"
          ],
          [
           "2017_4",
           "large_accelerated_filer",
           "debt"
          ],
          [
           "2017_4",
           "large_accelerated_filer",
           "current"
          ],
          [
           "2017_4",
           "large_accelerated_filer",
           "quick"
          ],
          [
           "2017_4",
           "large_accelerated_filer",
           "cash"
          ],
          [
           "2017_4",
           "large_accelerated_filer",
           "times_interest_earned"
          ],
          [
           "2017_4",
           "large_accelerated_filer",
           "capex_to_operating_cash"
          ],
          [
           "2017_4",
           "large_accelerated_filer",
           "operating_cash_flow"
          ],
          [
           "2017_4",
           "large_accelerated_filer",
           "price_to_earnings"
          ],
          [
           "2017_4",
           "large_accelerated_filer",
           "ev_ebitda"
          ],
          [
           "2017_4",
           "large_accelerated_filer",
           "ev_ebit"
          ],
          [
           "2017_4",
           "large_accelerated_filer",
           "ev_revenue"
          ],
          [
           "2017_4",
           "non_accelerated_filer",
           "roe"
          ],
          [
           "2017_4",
           "non_accelerated_filer",
           "roa"
          ],
          [
           "2017_4",
           "non_accelerated_filer",
           "roce"
          ],
          [
           "2017_4",
           "non_accelerated_filer",
           "gross_margin"
          ],
          [
           "2017_4",
           "non_accelerated_filer",
           "operating_profit_margin"
          ],
          [
           "2017_4",
           "non_accelerated_filer",
           "net_profit_margin"
          ],
          [
           "2017_4",
           "non_accelerated_filer",
           "debt_to_equity"
          ],
          [
           "2017_4",
           "non_accelerated_filer",
           "equity"
          ],
          [
           "2017_4",
           "non_accelerated_filer",
           "debt"
          ],
          [
           "2017_4",
           "non_accelerated_filer",
           "current"
          ],
          [
           "2017_4",
           "non_accelerated_filer",
           "quick"
          ],
          [
           "2017_4",
           "non_accelerated_filer",
           "cash"
          ],
          [
           "2017_4",
           "non_accelerated_filer",
           "times_interest_earned"
          ],
          [
           "2017_4",
           "non_accelerated_filer",
           "capex_to_operating_cash"
          ],
          [
           "2017_4",
           "non_accelerated_filer",
           "operating_cash_flow"
          ],
          [
           "2017_4",
           "non_accelerated_filer",
           "price_to_earnings"
          ],
          [
           "2017_4",
           "non_accelerated_filer",
           "ev_ebitda"
          ],
          [
           "2017_4",
           "non_accelerated_filer",
           "ev_ebit"
          ],
          [
           "2017_4",
           "non_accelerated_filer",
           "ev_revenue"
          ]
         ],
         "fillcolor": "rgba(255,255,255,0)",
         "hoveron": "points",
         "hovertemplate": "year_q=%{customdata[0]}<br>used_to_all=%{x}<br>filer_type=%{customdata[1]}<br>kpi=%{customdata[2]}<extra></extra>",
         "jitter": 0,
         "legendgroup": "2017_4",
         "line": {
          "color": "rgba(255,255,255,0)"
         },
         "marker": {
          "color": "#00cc96",
          "symbol": "line-ns-open"
         },
         "name": "2017_4",
         "offsetgroup": "2017_4",
         "showlegend": false,
         "type": "box",
         "x": [
          0.97,
          0.97,
          0.91,
          0.91,
          0.91,
          0.91,
          0.91,
          0.97,
          0.71,
          0.91,
          0.68,
          0.91,
          0.76,
          0.74,
          0.91,
          0.97,
          0.71,
          0.71,
          0.68,
          1,
          1,
          1,
          0.98,
          0.98,
          0.98,
          1,
          1,
          0.94,
          1,
          1,
          1,
          0.98,
          1,
          1,
          1,
          0.91,
          0.94,
          0.91,
          0.94,
          0.94,
          0.89,
          0.94,
          0.94,
          0.94,
          0.89,
          0.94,
          0.78,
          0.89,
          0.78,
          0.89,
          0.78,
          0.83,
          0.89,
          0.94,
          0.72,
          0.78,
          0.78
         ],
         "xaxis": "x2",
         "yaxis": "y2"
        },
        {
         "alignmentgroup": "True",
         "bingroup": "x",
         "hovertemplate": "year_q=2018_1<br>used_to_all=%{x}<br>count=%{y}<extra></extra>",
         "legendgroup": "2018_1",
         "marker": {
          "color": "#ab63fa",
          "pattern": {
           "shape": ""
          }
         },
         "name": "2018_1",
         "offsetgroup": "2018_1",
         "orientation": "v",
         "showlegend": true,
         "type": "histogram",
         "x": [
          1,
          1,
          0.94,
          0.97,
          0.97,
          0.97,
          0.94,
          1,
          0.75,
          0.94,
          0.78,
          0.94,
          0.78,
          0.75,
          0.94,
          1,
          0.69,
          0.75,
          0.75,
          0.98,
          0.98,
          0.98,
          0.96,
          0.96,
          0.96,
          0.98,
          0.98,
          0.94,
          0.98,
          0.96,
          0.98,
          0.98,
          0.98,
          0.98,
          0.98,
          0.92,
          0.94,
          0.92,
          1,
          1,
          0.91,
          1,
          1,
          1,
          0.91,
          1,
          0.82,
          0.91,
          0.73,
          0.91,
          0.82,
          0.91,
          0.91,
          1,
          0.82,
          0.82,
          0.82
         ],
         "xaxis": "x",
         "yaxis": "y"
        },
        {
         "alignmentgroup": "True",
         "boxpoints": "all",
         "customdata": [
          [
           "2018_1",
           "accelerated_filer",
           "roe"
          ],
          [
           "2018_1",
           "accelerated_filer",
           "roa"
          ],
          [
           "2018_1",
           "accelerated_filer",
           "roce"
          ],
          [
           "2018_1",
           "accelerated_filer",
           "gross_margin"
          ],
          [
           "2018_1",
           "accelerated_filer",
           "operating_profit_margin"
          ],
          [
           "2018_1",
           "accelerated_filer",
           "net_profit_margin"
          ],
          [
           "2018_1",
           "accelerated_filer",
           "debt_to_equity"
          ],
          [
           "2018_1",
           "accelerated_filer",
           "equity"
          ],
          [
           "2018_1",
           "accelerated_filer",
           "debt"
          ],
          [
           "2018_1",
           "accelerated_filer",
           "current"
          ],
          [
           "2018_1",
           "accelerated_filer",
           "quick"
          ],
          [
           "2018_1",
           "accelerated_filer",
           "cash"
          ],
          [
           "2018_1",
           "accelerated_filer",
           "times_interest_earned"
          ],
          [
           "2018_1",
           "accelerated_filer",
           "capex_to_operating_cash"
          ],
          [
           "2018_1",
           "accelerated_filer",
           "operating_cash_flow"
          ],
          [
           "2018_1",
           "accelerated_filer",
           "price_to_earnings"
          ],
          [
           "2018_1",
           "accelerated_filer",
           "ev_ebitda"
          ],
          [
           "2018_1",
           "accelerated_filer",
           "ev_ebit"
          ],
          [
           "2018_1",
           "accelerated_filer",
           "ev_revenue"
          ],
          [
           "2018_1",
           "large_accelerated_filer",
           "roe"
          ],
          [
           "2018_1",
           "large_accelerated_filer",
           "roa"
          ],
          [
           "2018_1",
           "large_accelerated_filer",
           "roce"
          ],
          [
           "2018_1",
           "large_accelerated_filer",
           "gross_margin"
          ],
          [
           "2018_1",
           "large_accelerated_filer",
           "operating_profit_margin"
          ],
          [
           "2018_1",
           "large_accelerated_filer",
           "net_profit_margin"
          ],
          [
           "2018_1",
           "large_accelerated_filer",
           "debt_to_equity"
          ],
          [
           "2018_1",
           "large_accelerated_filer",
           "equity"
          ],
          [
           "2018_1",
           "large_accelerated_filer",
           "debt"
          ],
          [
           "2018_1",
           "large_accelerated_filer",
           "current"
          ],
          [
           "2018_1",
           "large_accelerated_filer",
           "quick"
          ],
          [
           "2018_1",
           "large_accelerated_filer",
           "cash"
          ],
          [
           "2018_1",
           "large_accelerated_filer",
           "times_interest_earned"
          ],
          [
           "2018_1",
           "large_accelerated_filer",
           "capex_to_operating_cash"
          ],
          [
           "2018_1",
           "large_accelerated_filer",
           "operating_cash_flow"
          ],
          [
           "2018_1",
           "large_accelerated_filer",
           "price_to_earnings"
          ],
          [
           "2018_1",
           "large_accelerated_filer",
           "ev_ebitda"
          ],
          [
           "2018_1",
           "large_accelerated_filer",
           "ev_ebit"
          ],
          [
           "2018_1",
           "large_accelerated_filer",
           "ev_revenue"
          ],
          [
           "2018_1",
           "non_accelerated_filer",
           "roe"
          ],
          [
           "2018_1",
           "non_accelerated_filer",
           "roa"
          ],
          [
           "2018_1",
           "non_accelerated_filer",
           "roce"
          ],
          [
           "2018_1",
           "non_accelerated_filer",
           "gross_margin"
          ],
          [
           "2018_1",
           "non_accelerated_filer",
           "operating_profit_margin"
          ],
          [
           "2018_1",
           "non_accelerated_filer",
           "net_profit_margin"
          ],
          [
           "2018_1",
           "non_accelerated_filer",
           "debt_to_equity"
          ],
          [
           "2018_1",
           "non_accelerated_filer",
           "equity"
          ],
          [
           "2018_1",
           "non_accelerated_filer",
           "debt"
          ],
          [
           "2018_1",
           "non_accelerated_filer",
           "current"
          ],
          [
           "2018_1",
           "non_accelerated_filer",
           "quick"
          ],
          [
           "2018_1",
           "non_accelerated_filer",
           "cash"
          ],
          [
           "2018_1",
           "non_accelerated_filer",
           "times_interest_earned"
          ],
          [
           "2018_1",
           "non_accelerated_filer",
           "capex_to_operating_cash"
          ],
          [
           "2018_1",
           "non_accelerated_filer",
           "operating_cash_flow"
          ],
          [
           "2018_1",
           "non_accelerated_filer",
           "price_to_earnings"
          ],
          [
           "2018_1",
           "non_accelerated_filer",
           "ev_ebitda"
          ],
          [
           "2018_1",
           "non_accelerated_filer",
           "ev_ebit"
          ],
          [
           "2018_1",
           "non_accelerated_filer",
           "ev_revenue"
          ]
         ],
         "fillcolor": "rgba(255,255,255,0)",
         "hoveron": "points",
         "hovertemplate": "year_q=%{customdata[0]}<br>used_to_all=%{x}<br>filer_type=%{customdata[1]}<br>kpi=%{customdata[2]}<extra></extra>",
         "jitter": 0,
         "legendgroup": "2018_1",
         "line": {
          "color": "rgba(255,255,255,0)"
         },
         "marker": {
          "color": "#ab63fa",
          "symbol": "line-ns-open"
         },
         "name": "2018_1",
         "offsetgroup": "2018_1",
         "showlegend": false,
         "type": "box",
         "x": [
          1,
          1,
          0.94,
          0.97,
          0.97,
          0.97,
          0.94,
          1,
          0.75,
          0.94,
          0.78,
          0.94,
          0.78,
          0.75,
          0.94,
          1,
          0.69,
          0.75,
          0.75,
          0.98,
          0.98,
          0.98,
          0.96,
          0.96,
          0.96,
          0.98,
          0.98,
          0.94,
          0.98,
          0.96,
          0.98,
          0.98,
          0.98,
          0.98,
          0.98,
          0.92,
          0.94,
          0.92,
          1,
          1,
          0.91,
          1,
          1,
          1,
          0.91,
          1,
          0.82,
          0.91,
          0.73,
          0.91,
          0.82,
          0.91,
          0.91,
          1,
          0.82,
          0.82,
          0.82
         ],
         "xaxis": "x2",
         "yaxis": "y2"
        },
        {
         "alignmentgroup": "True",
         "bingroup": "x",
         "hovertemplate": "year_q=2018_2<br>used_to_all=%{x}<br>count=%{y}<extra></extra>",
         "legendgroup": "2018_2",
         "marker": {
          "color": "#FFA15A",
          "pattern": {
           "shape": ""
          }
         },
         "name": "2018_2",
         "offsetgroup": "2018_2",
         "orientation": "v",
         "showlegend": true,
         "type": "histogram",
         "x": [
          0.95,
          0.95,
          0.89,
          0.89,
          0.89,
          0.89,
          0.89,
          0.95,
          0.74,
          0.89,
          0.74,
          0.89,
          0.74,
          0.76,
          0.89,
          0.95,
          0.68,
          0.74,
          0.71,
          1,
          1,
          1,
          0.98,
          0.98,
          0.98,
          1,
          1,
          0.96,
          1,
          1,
          1,
          1,
          1,
          1,
          1,
          0.94,
          0.96,
          0.94,
          0.76,
          0.76,
          0.71,
          0.76,
          0.76,
          0.76,
          0.71,
          0.76,
          0.59,
          0.71,
          0.53,
          0.71,
          0.59,
          0.65,
          0.71,
          0.76,
          0.59,
          0.59,
          0.59
         ],
         "xaxis": "x",
         "yaxis": "y"
        },
        {
         "alignmentgroup": "True",
         "boxpoints": "all",
         "customdata": [
          [
           "2018_2",
           "accelerated_filer",
           "roe"
          ],
          [
           "2018_2",
           "accelerated_filer",
           "roa"
          ],
          [
           "2018_2",
           "accelerated_filer",
           "roce"
          ],
          [
           "2018_2",
           "accelerated_filer",
           "gross_margin"
          ],
          [
           "2018_2",
           "accelerated_filer",
           "operating_profit_margin"
          ],
          [
           "2018_2",
           "accelerated_filer",
           "net_profit_margin"
          ],
          [
           "2018_2",
           "accelerated_filer",
           "debt_to_equity"
          ],
          [
           "2018_2",
           "accelerated_filer",
           "equity"
          ],
          [
           "2018_2",
           "accelerated_filer",
           "debt"
          ],
          [
           "2018_2",
           "accelerated_filer",
           "current"
          ],
          [
           "2018_2",
           "accelerated_filer",
           "quick"
          ],
          [
           "2018_2",
           "accelerated_filer",
           "cash"
          ],
          [
           "2018_2",
           "accelerated_filer",
           "times_interest_earned"
          ],
          [
           "2018_2",
           "accelerated_filer",
           "capex_to_operating_cash"
          ],
          [
           "2018_2",
           "accelerated_filer",
           "operating_cash_flow"
          ],
          [
           "2018_2",
           "accelerated_filer",
           "price_to_earnings"
          ],
          [
           "2018_2",
           "accelerated_filer",
           "ev_ebitda"
          ],
          [
           "2018_2",
           "accelerated_filer",
           "ev_ebit"
          ],
          [
           "2018_2",
           "accelerated_filer",
           "ev_revenue"
          ],
          [
           "2018_2",
           "large_accelerated_filer",
           "roe"
          ],
          [
           "2018_2",
           "large_accelerated_filer",
           "roa"
          ],
          [
           "2018_2",
           "large_accelerated_filer",
           "roce"
          ],
          [
           "2018_2",
           "large_accelerated_filer",
           "gross_margin"
          ],
          [
           "2018_2",
           "large_accelerated_filer",
           "operating_profit_margin"
          ],
          [
           "2018_2",
           "large_accelerated_filer",
           "net_profit_margin"
          ],
          [
           "2018_2",
           "large_accelerated_filer",
           "debt_to_equity"
          ],
          [
           "2018_2",
           "large_accelerated_filer",
           "equity"
          ],
          [
           "2018_2",
           "large_accelerated_filer",
           "debt"
          ],
          [
           "2018_2",
           "large_accelerated_filer",
           "current"
          ],
          [
           "2018_2",
           "large_accelerated_filer",
           "quick"
          ],
          [
           "2018_2",
           "large_accelerated_filer",
           "cash"
          ],
          [
           "2018_2",
           "large_accelerated_filer",
           "times_interest_earned"
          ],
          [
           "2018_2",
           "large_accelerated_filer",
           "capex_to_operating_cash"
          ],
          [
           "2018_2",
           "large_accelerated_filer",
           "operating_cash_flow"
          ],
          [
           "2018_2",
           "large_accelerated_filer",
           "price_to_earnings"
          ],
          [
           "2018_2",
           "large_accelerated_filer",
           "ev_ebitda"
          ],
          [
           "2018_2",
           "large_accelerated_filer",
           "ev_ebit"
          ],
          [
           "2018_2",
           "large_accelerated_filer",
           "ev_revenue"
          ],
          [
           "2018_2",
           "non_accelerated_filer",
           "roe"
          ],
          [
           "2018_2",
           "non_accelerated_filer",
           "roa"
          ],
          [
           "2018_2",
           "non_accelerated_filer",
           "roce"
          ],
          [
           "2018_2",
           "non_accelerated_filer",
           "gross_margin"
          ],
          [
           "2018_2",
           "non_accelerated_filer",
           "operating_profit_margin"
          ],
          [
           "2018_2",
           "non_accelerated_filer",
           "net_profit_margin"
          ],
          [
           "2018_2",
           "non_accelerated_filer",
           "debt_to_equity"
          ],
          [
           "2018_2",
           "non_accelerated_filer",
           "equity"
          ],
          [
           "2018_2",
           "non_accelerated_filer",
           "debt"
          ],
          [
           "2018_2",
           "non_accelerated_filer",
           "current"
          ],
          [
           "2018_2",
           "non_accelerated_filer",
           "quick"
          ],
          [
           "2018_2",
           "non_accelerated_filer",
           "cash"
          ],
          [
           "2018_2",
           "non_accelerated_filer",
           "times_interest_earned"
          ],
          [
           "2018_2",
           "non_accelerated_filer",
           "capex_to_operating_cash"
          ],
          [
           "2018_2",
           "non_accelerated_filer",
           "operating_cash_flow"
          ],
          [
           "2018_2",
           "non_accelerated_filer",
           "price_to_earnings"
          ],
          [
           "2018_2",
           "non_accelerated_filer",
           "ev_ebitda"
          ],
          [
           "2018_2",
           "non_accelerated_filer",
           "ev_ebit"
          ],
          [
           "2018_2",
           "non_accelerated_filer",
           "ev_revenue"
          ]
         ],
         "fillcolor": "rgba(255,255,255,0)",
         "hoveron": "points",
         "hovertemplate": "year_q=%{customdata[0]}<br>used_to_all=%{x}<br>filer_type=%{customdata[1]}<br>kpi=%{customdata[2]}<extra></extra>",
         "jitter": 0,
         "legendgroup": "2018_2",
         "line": {
          "color": "rgba(255,255,255,0)"
         },
         "marker": {
          "color": "#FFA15A",
          "symbol": "line-ns-open"
         },
         "name": "2018_2",
         "offsetgroup": "2018_2",
         "showlegend": false,
         "type": "box",
         "x": [
          0.95,
          0.95,
          0.89,
          0.89,
          0.89,
          0.89,
          0.89,
          0.95,
          0.74,
          0.89,
          0.74,
          0.89,
          0.74,
          0.76,
          0.89,
          0.95,
          0.68,
          0.74,
          0.71,
          1,
          1,
          1,
          0.98,
          0.98,
          0.98,
          1,
          1,
          0.96,
          1,
          1,
          1,
          1,
          1,
          1,
          1,
          0.94,
          0.96,
          0.94,
          0.76,
          0.76,
          0.71,
          0.76,
          0.76,
          0.76,
          0.71,
          0.76,
          0.59,
          0.71,
          0.53,
          0.71,
          0.59,
          0.65,
          0.71,
          0.76,
          0.59,
          0.59,
          0.59
         ],
         "xaxis": "x2",
         "yaxis": "y2"
        },
        {
         "alignmentgroup": "True",
         "bingroup": "x",
         "hovertemplate": "year_q=2018_3<br>used_to_all=%{x}<br>count=%{y}<extra></extra>",
         "legendgroup": "2018_3",
         "marker": {
          "color": "#19d3f3",
          "pattern": {
           "shape": ""
          }
         },
         "name": "2018_3",
         "offsetgroup": "2018_3",
         "orientation": "v",
         "showlegend": true,
         "type": "histogram",
         "x": [
          0.97,
          0.97,
          0.95,
          0.92,
          0.92,
          0.92,
          0.95,
          0.97,
          0.76,
          0.95,
          0.78,
          0.95,
          0.78,
          0.81,
          0.92,
          0.97,
          0.7,
          0.76,
          0.73,
          0.98,
          0.98,
          0.98,
          0.98,
          0.98,
          0.98,
          0.98,
          0.98,
          0.94,
          0.98,
          0.98,
          0.98,
          1,
          1,
          0.98,
          0.98,
          0.92,
          0.94,
          0.92,
          0.93,
          0.93,
          0.86,
          0.93,
          0.93,
          0.93,
          0.86,
          0.93,
          0.71,
          0.86,
          0.64,
          0.86,
          0.71,
          0.79,
          0.86,
          0.93,
          0.71,
          0.71,
          0.71
         ],
         "xaxis": "x",
         "yaxis": "y"
        },
        {
         "alignmentgroup": "True",
         "boxpoints": "all",
         "customdata": [
          [
           "2018_3",
           "accelerated_filer",
           "roe"
          ],
          [
           "2018_3",
           "accelerated_filer",
           "roa"
          ],
          [
           "2018_3",
           "accelerated_filer",
           "roce"
          ],
          [
           "2018_3",
           "accelerated_filer",
           "gross_margin"
          ],
          [
           "2018_3",
           "accelerated_filer",
           "operating_profit_margin"
          ],
          [
           "2018_3",
           "accelerated_filer",
           "net_profit_margin"
          ],
          [
           "2018_3",
           "accelerated_filer",
           "debt_to_equity"
          ],
          [
           "2018_3",
           "accelerated_filer",
           "equity"
          ],
          [
           "2018_3",
           "accelerated_filer",
           "debt"
          ],
          [
           "2018_3",
           "accelerated_filer",
           "current"
          ],
          [
           "2018_3",
           "accelerated_filer",
           "quick"
          ],
          [
           "2018_3",
           "accelerated_filer",
           "cash"
          ],
          [
           "2018_3",
           "accelerated_filer",
           "times_interest_earned"
          ],
          [
           "2018_3",
           "accelerated_filer",
           "capex_to_operating_cash"
          ],
          [
           "2018_3",
           "accelerated_filer",
           "operating_cash_flow"
          ],
          [
           "2018_3",
           "accelerated_filer",
           "price_to_earnings"
          ],
          [
           "2018_3",
           "accelerated_filer",
           "ev_ebitda"
          ],
          [
           "2018_3",
           "accelerated_filer",
           "ev_ebit"
          ],
          [
           "2018_3",
           "accelerated_filer",
           "ev_revenue"
          ],
          [
           "2018_3",
           "large_accelerated_filer",
           "roe"
          ],
          [
           "2018_3",
           "large_accelerated_filer",
           "roa"
          ],
          [
           "2018_3",
           "large_accelerated_filer",
           "roce"
          ],
          [
           "2018_3",
           "large_accelerated_filer",
           "gross_margin"
          ],
          [
           "2018_3",
           "large_accelerated_filer",
           "operating_profit_margin"
          ],
          [
           "2018_3",
           "large_accelerated_filer",
           "net_profit_margin"
          ],
          [
           "2018_3",
           "large_accelerated_filer",
           "debt_to_equity"
          ],
          [
           "2018_3",
           "large_accelerated_filer",
           "equity"
          ],
          [
           "2018_3",
           "large_accelerated_filer",
           "debt"
          ],
          [
           "2018_3",
           "large_accelerated_filer",
           "current"
          ],
          [
           "2018_3",
           "large_accelerated_filer",
           "quick"
          ],
          [
           "2018_3",
           "large_accelerated_filer",
           "cash"
          ],
          [
           "2018_3",
           "large_accelerated_filer",
           "times_interest_earned"
          ],
          [
           "2018_3",
           "large_accelerated_filer",
           "capex_to_operating_cash"
          ],
          [
           "2018_3",
           "large_accelerated_filer",
           "operating_cash_flow"
          ],
          [
           "2018_3",
           "large_accelerated_filer",
           "price_to_earnings"
          ],
          [
           "2018_3",
           "large_accelerated_filer",
           "ev_ebitda"
          ],
          [
           "2018_3",
           "large_accelerated_filer",
           "ev_ebit"
          ],
          [
           "2018_3",
           "large_accelerated_filer",
           "ev_revenue"
          ],
          [
           "2018_3",
           "non_accelerated_filer",
           "roe"
          ],
          [
           "2018_3",
           "non_accelerated_filer",
           "roa"
          ],
          [
           "2018_3",
           "non_accelerated_filer",
           "roce"
          ],
          [
           "2018_3",
           "non_accelerated_filer",
           "gross_margin"
          ],
          [
           "2018_3",
           "non_accelerated_filer",
           "operating_profit_margin"
          ],
          [
           "2018_3",
           "non_accelerated_filer",
           "net_profit_margin"
          ],
          [
           "2018_3",
           "non_accelerated_filer",
           "debt_to_equity"
          ],
          [
           "2018_3",
           "non_accelerated_filer",
           "equity"
          ],
          [
           "2018_3",
           "non_accelerated_filer",
           "debt"
          ],
          [
           "2018_3",
           "non_accelerated_filer",
           "current"
          ],
          [
           "2018_3",
           "non_accelerated_filer",
           "quick"
          ],
          [
           "2018_3",
           "non_accelerated_filer",
           "cash"
          ],
          [
           "2018_3",
           "non_accelerated_filer",
           "times_interest_earned"
          ],
          [
           "2018_3",
           "non_accelerated_filer",
           "capex_to_operating_cash"
          ],
          [
           "2018_3",
           "non_accelerated_filer",
           "operating_cash_flow"
          ],
          [
           "2018_3",
           "non_accelerated_filer",
           "price_to_earnings"
          ],
          [
           "2018_3",
           "non_accelerated_filer",
           "ev_ebitda"
          ],
          [
           "2018_3",
           "non_accelerated_filer",
           "ev_ebit"
          ],
          [
           "2018_3",
           "non_accelerated_filer",
           "ev_revenue"
          ]
         ],
         "fillcolor": "rgba(255,255,255,0)",
         "hoveron": "points",
         "hovertemplate": "year_q=%{customdata[0]}<br>used_to_all=%{x}<br>filer_type=%{customdata[1]}<br>kpi=%{customdata[2]}<extra></extra>",
         "jitter": 0,
         "legendgroup": "2018_3",
         "line": {
          "color": "rgba(255,255,255,0)"
         },
         "marker": {
          "color": "#19d3f3",
          "symbol": "line-ns-open"
         },
         "name": "2018_3",
         "offsetgroup": "2018_3",
         "showlegend": false,
         "type": "box",
         "x": [
          0.97,
          0.97,
          0.95,
          0.92,
          0.92,
          0.92,
          0.95,
          0.97,
          0.76,
          0.95,
          0.78,
          0.95,
          0.78,
          0.81,
          0.92,
          0.97,
          0.7,
          0.76,
          0.73,
          0.98,
          0.98,
          0.98,
          0.98,
          0.98,
          0.98,
          0.98,
          0.98,
          0.94,
          0.98,
          0.98,
          0.98,
          1,
          1,
          0.98,
          0.98,
          0.92,
          0.94,
          0.92,
          0.93,
          0.93,
          0.86,
          0.93,
          0.93,
          0.93,
          0.86,
          0.93,
          0.71,
          0.86,
          0.64,
          0.86,
          0.71,
          0.79,
          0.86,
          0.93,
          0.71,
          0.71,
          0.71
         ],
         "xaxis": "x2",
         "yaxis": "y2"
        },
        {
         "alignmentgroup": "True",
         "bingroup": "x",
         "hovertemplate": "year_q=2018_4<br>used_to_all=%{x}<br>count=%{y}<extra></extra>",
         "legendgroup": "2018_4",
         "marker": {
          "color": "#FF6692",
          "pattern": {
           "shape": ""
          }
         },
         "name": "2018_4",
         "offsetgroup": "2018_4",
         "orientation": "v",
         "showlegend": true,
         "type": "histogram",
         "x": [
          1,
          1,
          0.95,
          0.97,
          0.97,
          0.97,
          0.95,
          1,
          0.73,
          0.95,
          0.78,
          0.95,
          0.78,
          0.78,
          0.95,
          1,
          0.68,
          0.73,
          0.73,
          1,
          1,
          1,
          0.98,
          0.98,
          0.98,
          1,
          1,
          0.96,
          1,
          0.98,
          0.98,
          1,
          1,
          1,
          1,
          0.92,
          0.94,
          0.92,
          0.93,
          0.93,
          0.86,
          0.93,
          0.93,
          0.93,
          0.86,
          0.93,
          0.71,
          0.86,
          0.64,
          0.86,
          0.71,
          0.79,
          0.86,
          0.93,
          0.71,
          0.71,
          0.71
         ],
         "xaxis": "x",
         "yaxis": "y"
        },
        {
         "alignmentgroup": "True",
         "boxpoints": "all",
         "customdata": [
          [
           "2018_4",
           "accelerated_filer",
           "roe"
          ],
          [
           "2018_4",
           "accelerated_filer",
           "roa"
          ],
          [
           "2018_4",
           "accelerated_filer",
           "roce"
          ],
          [
           "2018_4",
           "accelerated_filer",
           "gross_margin"
          ],
          [
           "2018_4",
           "accelerated_filer",
           "operating_profit_margin"
          ],
          [
           "2018_4",
           "accelerated_filer",
           "net_profit_margin"
          ],
          [
           "2018_4",
           "accelerated_filer",
           "debt_to_equity"
          ],
          [
           "2018_4",
           "accelerated_filer",
           "equity"
          ],
          [
           "2018_4",
           "accelerated_filer",
           "debt"
          ],
          [
           "2018_4",
           "accelerated_filer",
           "current"
          ],
          [
           "2018_4",
           "accelerated_filer",
           "quick"
          ],
          [
           "2018_4",
           "accelerated_filer",
           "cash"
          ],
          [
           "2018_4",
           "accelerated_filer",
           "times_interest_earned"
          ],
          [
           "2018_4",
           "accelerated_filer",
           "capex_to_operating_cash"
          ],
          [
           "2018_4",
           "accelerated_filer",
           "operating_cash_flow"
          ],
          [
           "2018_4",
           "accelerated_filer",
           "price_to_earnings"
          ],
          [
           "2018_4",
           "accelerated_filer",
           "ev_ebitda"
          ],
          [
           "2018_4",
           "accelerated_filer",
           "ev_ebit"
          ],
          [
           "2018_4",
           "accelerated_filer",
           "ev_revenue"
          ],
          [
           "2018_4",
           "large_accelerated_filer",
           "roe"
          ],
          [
           "2018_4",
           "large_accelerated_filer",
           "roa"
          ],
          [
           "2018_4",
           "large_accelerated_filer",
           "roce"
          ],
          [
           "2018_4",
           "large_accelerated_filer",
           "gross_margin"
          ],
          [
           "2018_4",
           "large_accelerated_filer",
           "operating_profit_margin"
          ],
          [
           "2018_4",
           "large_accelerated_filer",
           "net_profit_margin"
          ],
          [
           "2018_4",
           "large_accelerated_filer",
           "debt_to_equity"
          ],
          [
           "2018_4",
           "large_accelerated_filer",
           "equity"
          ],
          [
           "2018_4",
           "large_accelerated_filer",
           "debt"
          ],
          [
           "2018_4",
           "large_accelerated_filer",
           "current"
          ],
          [
           "2018_4",
           "large_accelerated_filer",
           "quick"
          ],
          [
           "2018_4",
           "large_accelerated_filer",
           "cash"
          ],
          [
           "2018_4",
           "large_accelerated_filer",
           "times_interest_earned"
          ],
          [
           "2018_4",
           "large_accelerated_filer",
           "capex_to_operating_cash"
          ],
          [
           "2018_4",
           "large_accelerated_filer",
           "operating_cash_flow"
          ],
          [
           "2018_4",
           "large_accelerated_filer",
           "price_to_earnings"
          ],
          [
           "2018_4",
           "large_accelerated_filer",
           "ev_ebitda"
          ],
          [
           "2018_4",
           "large_accelerated_filer",
           "ev_ebit"
          ],
          [
           "2018_4",
           "large_accelerated_filer",
           "ev_revenue"
          ],
          [
           "2018_4",
           "non_accelerated_filer",
           "roe"
          ],
          [
           "2018_4",
           "non_accelerated_filer",
           "roa"
          ],
          [
           "2018_4",
           "non_accelerated_filer",
           "roce"
          ],
          [
           "2018_4",
           "non_accelerated_filer",
           "gross_margin"
          ],
          [
           "2018_4",
           "non_accelerated_filer",
           "operating_profit_margin"
          ],
          [
           "2018_4",
           "non_accelerated_filer",
           "net_profit_margin"
          ],
          [
           "2018_4",
           "non_accelerated_filer",
           "debt_to_equity"
          ],
          [
           "2018_4",
           "non_accelerated_filer",
           "equity"
          ],
          [
           "2018_4",
           "non_accelerated_filer",
           "debt"
          ],
          [
           "2018_4",
           "non_accelerated_filer",
           "current"
          ],
          [
           "2018_4",
           "non_accelerated_filer",
           "quick"
          ],
          [
           "2018_4",
           "non_accelerated_filer",
           "cash"
          ],
          [
           "2018_4",
           "non_accelerated_filer",
           "times_interest_earned"
          ],
          [
           "2018_4",
           "non_accelerated_filer",
           "capex_to_operating_cash"
          ],
          [
           "2018_4",
           "non_accelerated_filer",
           "operating_cash_flow"
          ],
          [
           "2018_4",
           "non_accelerated_filer",
           "price_to_earnings"
          ],
          [
           "2018_4",
           "non_accelerated_filer",
           "ev_ebitda"
          ],
          [
           "2018_4",
           "non_accelerated_filer",
           "ev_ebit"
          ],
          [
           "2018_4",
           "non_accelerated_filer",
           "ev_revenue"
          ]
         ],
         "fillcolor": "rgba(255,255,255,0)",
         "hoveron": "points",
         "hovertemplate": "year_q=%{customdata[0]}<br>used_to_all=%{x}<br>filer_type=%{customdata[1]}<br>kpi=%{customdata[2]}<extra></extra>",
         "jitter": 0,
         "legendgroup": "2018_4",
         "line": {
          "color": "rgba(255,255,255,0)"
         },
         "marker": {
          "color": "#FF6692",
          "symbol": "line-ns-open"
         },
         "name": "2018_4",
         "offsetgroup": "2018_4",
         "showlegend": false,
         "type": "box",
         "x": [
          1,
          1,
          0.95,
          0.97,
          0.97,
          0.97,
          0.95,
          1,
          0.73,
          0.95,
          0.78,
          0.95,
          0.78,
          0.78,
          0.95,
          1,
          0.68,
          0.73,
          0.73,
          1,
          1,
          1,
          0.98,
          0.98,
          0.98,
          1,
          1,
          0.96,
          1,
          0.98,
          0.98,
          1,
          1,
          1,
          1,
          0.92,
          0.94,
          0.92,
          0.93,
          0.93,
          0.86,
          0.93,
          0.93,
          0.93,
          0.86,
          0.93,
          0.71,
          0.86,
          0.64,
          0.86,
          0.71,
          0.79,
          0.86,
          0.93,
          0.71,
          0.71,
          0.71
         ],
         "xaxis": "x2",
         "yaxis": "y2"
        },
        {
         "alignmentgroup": "True",
         "bingroup": "x",
         "hovertemplate": "year_q=2019_1<br>used_to_all=%{x}<br>count=%{y}<extra></extra>",
         "legendgroup": "2019_1",
         "marker": {
          "color": "#B6E880",
          "pattern": {
           "shape": ""
          }
         },
         "name": "2019_1",
         "offsetgroup": "2019_1",
         "orientation": "v",
         "showlegend": true,
         "type": "histogram",
         "x": [
          0.86,
          0.86,
          0.83,
          0.83,
          0.83,
          0.83,
          0.83,
          0.86,
          0.66,
          0.83,
          0.69,
          0.83,
          0.69,
          0.71,
          0.83,
          0.86,
          0.63,
          0.66,
          0.66,
          0.96,
          0.98,
          0.98,
          0.98,
          0.98,
          0.98,
          0.96,
          0.96,
          0.94,
          0.98,
          0.96,
          0.96,
          0.98,
          0.98,
          0.98,
          0.98,
          0.89,
          0.93,
          0.93,
          1,
          1,
          0.86,
          1,
          1,
          1,
          0.86,
          1,
          0.86,
          0.86,
          0.71,
          0.86,
          0.86,
          0.86,
          0.86,
          1,
          0.86,
          0.86,
          0.86
         ],
         "xaxis": "x",
         "yaxis": "y"
        },
        {
         "alignmentgroup": "True",
         "boxpoints": "all",
         "customdata": [
          [
           "2019_1",
           "accelerated_filer",
           "roe"
          ],
          [
           "2019_1",
           "accelerated_filer",
           "roa"
          ],
          [
           "2019_1",
           "accelerated_filer",
           "roce"
          ],
          [
           "2019_1",
           "accelerated_filer",
           "gross_margin"
          ],
          [
           "2019_1",
           "accelerated_filer",
           "operating_profit_margin"
          ],
          [
           "2019_1",
           "accelerated_filer",
           "net_profit_margin"
          ],
          [
           "2019_1",
           "accelerated_filer",
           "debt_to_equity"
          ],
          [
           "2019_1",
           "accelerated_filer",
           "equity"
          ],
          [
           "2019_1",
           "accelerated_filer",
           "debt"
          ],
          [
           "2019_1",
           "accelerated_filer",
           "current"
          ],
          [
           "2019_1",
           "accelerated_filer",
           "quick"
          ],
          [
           "2019_1",
           "accelerated_filer",
           "cash"
          ],
          [
           "2019_1",
           "accelerated_filer",
           "times_interest_earned"
          ],
          [
           "2019_1",
           "accelerated_filer",
           "capex_to_operating_cash"
          ],
          [
           "2019_1",
           "accelerated_filer",
           "operating_cash_flow"
          ],
          [
           "2019_1",
           "accelerated_filer",
           "price_to_earnings"
          ],
          [
           "2019_1",
           "accelerated_filer",
           "ev_ebitda"
          ],
          [
           "2019_1",
           "accelerated_filer",
           "ev_ebit"
          ],
          [
           "2019_1",
           "accelerated_filer",
           "ev_revenue"
          ],
          [
           "2019_1",
           "large_accelerated_filer",
           "roe"
          ],
          [
           "2019_1",
           "large_accelerated_filer",
           "roa"
          ],
          [
           "2019_1",
           "large_accelerated_filer",
           "roce"
          ],
          [
           "2019_1",
           "large_accelerated_filer",
           "gross_margin"
          ],
          [
           "2019_1",
           "large_accelerated_filer",
           "operating_profit_margin"
          ],
          [
           "2019_1",
           "large_accelerated_filer",
           "net_profit_margin"
          ],
          [
           "2019_1",
           "large_accelerated_filer",
           "debt_to_equity"
          ],
          [
           "2019_1",
           "large_accelerated_filer",
           "equity"
          ],
          [
           "2019_1",
           "large_accelerated_filer",
           "debt"
          ],
          [
           "2019_1",
           "large_accelerated_filer",
           "current"
          ],
          [
           "2019_1",
           "large_accelerated_filer",
           "quick"
          ],
          [
           "2019_1",
           "large_accelerated_filer",
           "cash"
          ],
          [
           "2019_1",
           "large_accelerated_filer",
           "times_interest_earned"
          ],
          [
           "2019_1",
           "large_accelerated_filer",
           "capex_to_operating_cash"
          ],
          [
           "2019_1",
           "large_accelerated_filer",
           "operating_cash_flow"
          ],
          [
           "2019_1",
           "large_accelerated_filer",
           "price_to_earnings"
          ],
          [
           "2019_1",
           "large_accelerated_filer",
           "ev_ebitda"
          ],
          [
           "2019_1",
           "large_accelerated_filer",
           "ev_ebit"
          ],
          [
           "2019_1",
           "large_accelerated_filer",
           "ev_revenue"
          ],
          [
           "2019_1",
           "non_accelerated_filer",
           "roe"
          ],
          [
           "2019_1",
           "non_accelerated_filer",
           "roa"
          ],
          [
           "2019_1",
           "non_accelerated_filer",
           "roce"
          ],
          [
           "2019_1",
           "non_accelerated_filer",
           "gross_margin"
          ],
          [
           "2019_1",
           "non_accelerated_filer",
           "operating_profit_margin"
          ],
          [
           "2019_1",
           "non_accelerated_filer",
           "net_profit_margin"
          ],
          [
           "2019_1",
           "non_accelerated_filer",
           "debt_to_equity"
          ],
          [
           "2019_1",
           "non_accelerated_filer",
           "equity"
          ],
          [
           "2019_1",
           "non_accelerated_filer",
           "debt"
          ],
          [
           "2019_1",
           "non_accelerated_filer",
           "current"
          ],
          [
           "2019_1",
           "non_accelerated_filer",
           "quick"
          ],
          [
           "2019_1",
           "non_accelerated_filer",
           "cash"
          ],
          [
           "2019_1",
           "non_accelerated_filer",
           "times_interest_earned"
          ],
          [
           "2019_1",
           "non_accelerated_filer",
           "capex_to_operating_cash"
          ],
          [
           "2019_1",
           "non_accelerated_filer",
           "operating_cash_flow"
          ],
          [
           "2019_1",
           "non_accelerated_filer",
           "price_to_earnings"
          ],
          [
           "2019_1",
           "non_accelerated_filer",
           "ev_ebitda"
          ],
          [
           "2019_1",
           "non_accelerated_filer",
           "ev_ebit"
          ],
          [
           "2019_1",
           "non_accelerated_filer",
           "ev_revenue"
          ]
         ],
         "fillcolor": "rgba(255,255,255,0)",
         "hoveron": "points",
         "hovertemplate": "year_q=%{customdata[0]}<br>used_to_all=%{x}<br>filer_type=%{customdata[1]}<br>kpi=%{customdata[2]}<extra></extra>",
         "jitter": 0,
         "legendgroup": "2019_1",
         "line": {
          "color": "rgba(255,255,255,0)"
         },
         "marker": {
          "color": "#B6E880",
          "symbol": "line-ns-open"
         },
         "name": "2019_1",
         "offsetgroup": "2019_1",
         "showlegend": false,
         "type": "box",
         "x": [
          0.86,
          0.86,
          0.83,
          0.83,
          0.83,
          0.83,
          0.83,
          0.86,
          0.66,
          0.83,
          0.69,
          0.83,
          0.69,
          0.71,
          0.83,
          0.86,
          0.63,
          0.66,
          0.66,
          0.96,
          0.98,
          0.98,
          0.98,
          0.98,
          0.98,
          0.96,
          0.96,
          0.94,
          0.98,
          0.96,
          0.96,
          0.98,
          0.98,
          0.98,
          0.98,
          0.89,
          0.93,
          0.93,
          1,
          1,
          0.86,
          1,
          1,
          1,
          0.86,
          1,
          0.86,
          0.86,
          0.71,
          0.86,
          0.86,
          0.86,
          0.86,
          1,
          0.86,
          0.86,
          0.86
         ],
         "xaxis": "x2",
         "yaxis": "y2"
        },
        {
         "alignmentgroup": "True",
         "bingroup": "x",
         "hovertemplate": "year_q=2019_2<br>used_to_all=%{x}<br>count=%{y}<extra></extra>",
         "legendgroup": "2019_2",
         "marker": {
          "color": "#FF97FF",
          "pattern": {
           "shape": ""
          }
         },
         "name": "2019_2",
         "offsetgroup": "2019_2",
         "orientation": "v",
         "showlegend": true,
         "type": "histogram",
         "x": [
          0.97,
          0.97,
          0.91,
          0.94,
          0.94,
          0.94,
          0.91,
          0.97,
          0.77,
          0.91,
          0.71,
          0.91,
          0.77,
          0.77,
          0.91,
          0.97,
          0.77,
          0.77,
          0.74,
          1,
          1,
          1,
          1,
          1,
          1,
          1,
          1,
          1,
          1,
          0.98,
          0.98,
          1,
          1,
          1,
          1,
          0.93,
          0.98,
          0.98,
          0.73,
          0.73,
          0.64,
          0.73,
          0.73,
          0.73,
          0.64,
          0.73,
          0.55,
          0.64,
          0.45,
          0.64,
          0.55,
          0.55,
          0.64,
          0.73,
          0.55,
          0.55,
          0.55
         ],
         "xaxis": "x",
         "yaxis": "y"
        },
        {
         "alignmentgroup": "True",
         "boxpoints": "all",
         "customdata": [
          [
           "2019_2",
           "accelerated_filer",
           "roe"
          ],
          [
           "2019_2",
           "accelerated_filer",
           "roa"
          ],
          [
           "2019_2",
           "accelerated_filer",
           "roce"
          ],
          [
           "2019_2",
           "accelerated_filer",
           "gross_margin"
          ],
          [
           "2019_2",
           "accelerated_filer",
           "operating_profit_margin"
          ],
          [
           "2019_2",
           "accelerated_filer",
           "net_profit_margin"
          ],
          [
           "2019_2",
           "accelerated_filer",
           "debt_to_equity"
          ],
          [
           "2019_2",
           "accelerated_filer",
           "equity"
          ],
          [
           "2019_2",
           "accelerated_filer",
           "debt"
          ],
          [
           "2019_2",
           "accelerated_filer",
           "current"
          ],
          [
           "2019_2",
           "accelerated_filer",
           "quick"
          ],
          [
           "2019_2",
           "accelerated_filer",
           "cash"
          ],
          [
           "2019_2",
           "accelerated_filer",
           "times_interest_earned"
          ],
          [
           "2019_2",
           "accelerated_filer",
           "capex_to_operating_cash"
          ],
          [
           "2019_2",
           "accelerated_filer",
           "operating_cash_flow"
          ],
          [
           "2019_2",
           "accelerated_filer",
           "price_to_earnings"
          ],
          [
           "2019_2",
           "accelerated_filer",
           "ev_ebitda"
          ],
          [
           "2019_2",
           "accelerated_filer",
           "ev_ebit"
          ],
          [
           "2019_2",
           "accelerated_filer",
           "ev_revenue"
          ],
          [
           "2019_2",
           "large_accelerated_filer",
           "roe"
          ],
          [
           "2019_2",
           "large_accelerated_filer",
           "roa"
          ],
          [
           "2019_2",
           "large_accelerated_filer",
           "roce"
          ],
          [
           "2019_2",
           "large_accelerated_filer",
           "gross_margin"
          ],
          [
           "2019_2",
           "large_accelerated_filer",
           "operating_profit_margin"
          ],
          [
           "2019_2",
           "large_accelerated_filer",
           "net_profit_margin"
          ],
          [
           "2019_2",
           "large_accelerated_filer",
           "debt_to_equity"
          ],
          [
           "2019_2",
           "large_accelerated_filer",
           "equity"
          ],
          [
           "2019_2",
           "large_accelerated_filer",
           "debt"
          ],
          [
           "2019_2",
           "large_accelerated_filer",
           "current"
          ],
          [
           "2019_2",
           "large_accelerated_filer",
           "quick"
          ],
          [
           "2019_2",
           "large_accelerated_filer",
           "cash"
          ],
          [
           "2019_2",
           "large_accelerated_filer",
           "times_interest_earned"
          ],
          [
           "2019_2",
           "large_accelerated_filer",
           "capex_to_operating_cash"
          ],
          [
           "2019_2",
           "large_accelerated_filer",
           "operating_cash_flow"
          ],
          [
           "2019_2",
           "large_accelerated_filer",
           "price_to_earnings"
          ],
          [
           "2019_2",
           "large_accelerated_filer",
           "ev_ebitda"
          ],
          [
           "2019_2",
           "large_accelerated_filer",
           "ev_ebit"
          ],
          [
           "2019_2",
           "large_accelerated_filer",
           "ev_revenue"
          ],
          [
           "2019_2",
           "non_accelerated_filer",
           "roe"
          ],
          [
           "2019_2",
           "non_accelerated_filer",
           "roa"
          ],
          [
           "2019_2",
           "non_accelerated_filer",
           "roce"
          ],
          [
           "2019_2",
           "non_accelerated_filer",
           "gross_margin"
          ],
          [
           "2019_2",
           "non_accelerated_filer",
           "operating_profit_margin"
          ],
          [
           "2019_2",
           "non_accelerated_filer",
           "net_profit_margin"
          ],
          [
           "2019_2",
           "non_accelerated_filer",
           "debt_to_equity"
          ],
          [
           "2019_2",
           "non_accelerated_filer",
           "equity"
          ],
          [
           "2019_2",
           "non_accelerated_filer",
           "debt"
          ],
          [
           "2019_2",
           "non_accelerated_filer",
           "current"
          ],
          [
           "2019_2",
           "non_accelerated_filer",
           "quick"
          ],
          [
           "2019_2",
           "non_accelerated_filer",
           "cash"
          ],
          [
           "2019_2",
           "non_accelerated_filer",
           "times_interest_earned"
          ],
          [
           "2019_2",
           "non_accelerated_filer",
           "capex_to_operating_cash"
          ],
          [
           "2019_2",
           "non_accelerated_filer",
           "operating_cash_flow"
          ],
          [
           "2019_2",
           "non_accelerated_filer",
           "price_to_earnings"
          ],
          [
           "2019_2",
           "non_accelerated_filer",
           "ev_ebitda"
          ],
          [
           "2019_2",
           "non_accelerated_filer",
           "ev_ebit"
          ],
          [
           "2019_2",
           "non_accelerated_filer",
           "ev_revenue"
          ]
         ],
         "fillcolor": "rgba(255,255,255,0)",
         "hoveron": "points",
         "hovertemplate": "year_q=%{customdata[0]}<br>used_to_all=%{x}<br>filer_type=%{customdata[1]}<br>kpi=%{customdata[2]}<extra></extra>",
         "jitter": 0,
         "legendgroup": "2019_2",
         "line": {
          "color": "rgba(255,255,255,0)"
         },
         "marker": {
          "color": "#FF97FF",
          "symbol": "line-ns-open"
         },
         "name": "2019_2",
         "offsetgroup": "2019_2",
         "showlegend": false,
         "type": "box",
         "x": [
          0.97,
          0.97,
          0.91,
          0.94,
          0.94,
          0.94,
          0.91,
          0.97,
          0.77,
          0.91,
          0.71,
          0.91,
          0.77,
          0.77,
          0.91,
          0.97,
          0.77,
          0.77,
          0.74,
          1,
          1,
          1,
          1,
          1,
          1,
          1,
          1,
          1,
          1,
          0.98,
          0.98,
          1,
          1,
          1,
          1,
          0.93,
          0.98,
          0.98,
          0.73,
          0.73,
          0.64,
          0.73,
          0.73,
          0.73,
          0.64,
          0.73,
          0.55,
          0.64,
          0.45,
          0.64,
          0.55,
          0.55,
          0.64,
          0.73,
          0.55,
          0.55,
          0.55
         ],
         "xaxis": "x2",
         "yaxis": "y2"
        },
        {
         "alignmentgroup": "True",
         "bingroup": "x",
         "hovertemplate": "year_q=2019_3<br>used_to_all=%{x}<br>count=%{y}<extra></extra>",
         "legendgroup": "2019_3",
         "marker": {
          "color": "#FECB52",
          "pattern": {
           "shape": ""
          }
         },
         "name": "2019_3",
         "offsetgroup": "2019_3",
         "orientation": "v",
         "showlegend": true,
         "type": "histogram",
         "x": [
          0.97,
          1,
          0.94,
          0.97,
          0.97,
          0.97,
          0.94,
          0.97,
          0.8,
          0.94,
          0.74,
          0.94,
          0.77,
          0.8,
          0.91,
          1,
          0.8,
          0.8,
          0.77,
          1,
          1,
          1,
          1,
          1,
          1,
          1,
          1,
          0.98,
          1,
          0.98,
          0.98,
          0.98,
          1,
          1,
          1,
          0.93,
          0.96,
          0.96,
          0.8,
          0.8,
          0.7,
          0.8,
          0.8,
          0.8,
          0.7,
          0.8,
          0.6,
          0.7,
          0.5,
          0.7,
          0.6,
          0.6,
          0.7,
          0.8,
          0.6,
          0.6,
          0.6
         ],
         "xaxis": "x",
         "yaxis": "y"
        },
        {
         "alignmentgroup": "True",
         "boxpoints": "all",
         "customdata": [
          [
           "2019_3",
           "accelerated_filer",
           "roe"
          ],
          [
           "2019_3",
           "accelerated_filer",
           "roa"
          ],
          [
           "2019_3",
           "accelerated_filer",
           "roce"
          ],
          [
           "2019_3",
           "accelerated_filer",
           "gross_margin"
          ],
          [
           "2019_3",
           "accelerated_filer",
           "operating_profit_margin"
          ],
          [
           "2019_3",
           "accelerated_filer",
           "net_profit_margin"
          ],
          [
           "2019_3",
           "accelerated_filer",
           "debt_to_equity"
          ],
          [
           "2019_3",
           "accelerated_filer",
           "equity"
          ],
          [
           "2019_3",
           "accelerated_filer",
           "debt"
          ],
          [
           "2019_3",
           "accelerated_filer",
           "current"
          ],
          [
           "2019_3",
           "accelerated_filer",
           "quick"
          ],
          [
           "2019_3",
           "accelerated_filer",
           "cash"
          ],
          [
           "2019_3",
           "accelerated_filer",
           "times_interest_earned"
          ],
          [
           "2019_3",
           "accelerated_filer",
           "capex_to_operating_cash"
          ],
          [
           "2019_3",
           "accelerated_filer",
           "operating_cash_flow"
          ],
          [
           "2019_3",
           "accelerated_filer",
           "price_to_earnings"
          ],
          [
           "2019_3",
           "accelerated_filer",
           "ev_ebitda"
          ],
          [
           "2019_3",
           "accelerated_filer",
           "ev_ebit"
          ],
          [
           "2019_3",
           "accelerated_filer",
           "ev_revenue"
          ],
          [
           "2019_3",
           "large_accelerated_filer",
           "roe"
          ],
          [
           "2019_3",
           "large_accelerated_filer",
           "roa"
          ],
          [
           "2019_3",
           "large_accelerated_filer",
           "roce"
          ],
          [
           "2019_3",
           "large_accelerated_filer",
           "gross_margin"
          ],
          [
           "2019_3",
           "large_accelerated_filer",
           "operating_profit_margin"
          ],
          [
           "2019_3",
           "large_accelerated_filer",
           "net_profit_margin"
          ],
          [
           "2019_3",
           "large_accelerated_filer",
           "debt_to_equity"
          ],
          [
           "2019_3",
           "large_accelerated_filer",
           "equity"
          ],
          [
           "2019_3",
           "large_accelerated_filer",
           "debt"
          ],
          [
           "2019_3",
           "large_accelerated_filer",
           "current"
          ],
          [
           "2019_3",
           "large_accelerated_filer",
           "quick"
          ],
          [
           "2019_3",
           "large_accelerated_filer",
           "cash"
          ],
          [
           "2019_3",
           "large_accelerated_filer",
           "times_interest_earned"
          ],
          [
           "2019_3",
           "large_accelerated_filer",
           "capex_to_operating_cash"
          ],
          [
           "2019_3",
           "large_accelerated_filer",
           "operating_cash_flow"
          ],
          [
           "2019_3",
           "large_accelerated_filer",
           "price_to_earnings"
          ],
          [
           "2019_3",
           "large_accelerated_filer",
           "ev_ebitda"
          ],
          [
           "2019_3",
           "large_accelerated_filer",
           "ev_ebit"
          ],
          [
           "2019_3",
           "large_accelerated_filer",
           "ev_revenue"
          ],
          [
           "2019_3",
           "non_accelerated_filer",
           "roe"
          ],
          [
           "2019_3",
           "non_accelerated_filer",
           "roa"
          ],
          [
           "2019_3",
           "non_accelerated_filer",
           "roce"
          ],
          [
           "2019_3",
           "non_accelerated_filer",
           "gross_margin"
          ],
          [
           "2019_3",
           "non_accelerated_filer",
           "operating_profit_margin"
          ],
          [
           "2019_3",
           "non_accelerated_filer",
           "net_profit_margin"
          ],
          [
           "2019_3",
           "non_accelerated_filer",
           "debt_to_equity"
          ],
          [
           "2019_3",
           "non_accelerated_filer",
           "equity"
          ],
          [
           "2019_3",
           "non_accelerated_filer",
           "debt"
          ],
          [
           "2019_3",
           "non_accelerated_filer",
           "current"
          ],
          [
           "2019_3",
           "non_accelerated_filer",
           "quick"
          ],
          [
           "2019_3",
           "non_accelerated_filer",
           "cash"
          ],
          [
           "2019_3",
           "non_accelerated_filer",
           "times_interest_earned"
          ],
          [
           "2019_3",
           "non_accelerated_filer",
           "capex_to_operating_cash"
          ],
          [
           "2019_3",
           "non_accelerated_filer",
           "operating_cash_flow"
          ],
          [
           "2019_3",
           "non_accelerated_filer",
           "price_to_earnings"
          ],
          [
           "2019_3",
           "non_accelerated_filer",
           "ev_ebitda"
          ],
          [
           "2019_3",
           "non_accelerated_filer",
           "ev_ebit"
          ],
          [
           "2019_3",
           "non_accelerated_filer",
           "ev_revenue"
          ]
         ],
         "fillcolor": "rgba(255,255,255,0)",
         "hoveron": "points",
         "hovertemplate": "year_q=%{customdata[0]}<br>used_to_all=%{x}<br>filer_type=%{customdata[1]}<br>kpi=%{customdata[2]}<extra></extra>",
         "jitter": 0,
         "legendgroup": "2019_3",
         "line": {
          "color": "rgba(255,255,255,0)"
         },
         "marker": {
          "color": "#FECB52",
          "symbol": "line-ns-open"
         },
         "name": "2019_3",
         "offsetgroup": "2019_3",
         "showlegend": false,
         "type": "box",
         "x": [
          0.97,
          1,
          0.94,
          0.97,
          0.97,
          0.97,
          0.94,
          0.97,
          0.8,
          0.94,
          0.74,
          0.94,
          0.77,
          0.8,
          0.91,
          1,
          0.8,
          0.8,
          0.77,
          1,
          1,
          1,
          1,
          1,
          1,
          1,
          1,
          0.98,
          1,
          0.98,
          0.98,
          0.98,
          1,
          1,
          1,
          0.93,
          0.96,
          0.96,
          0.8,
          0.8,
          0.7,
          0.8,
          0.8,
          0.8,
          0.7,
          0.8,
          0.6,
          0.7,
          0.5,
          0.7,
          0.6,
          0.6,
          0.7,
          0.8,
          0.6,
          0.6,
          0.6
         ],
         "xaxis": "x2",
         "yaxis": "y2"
        },
        {
         "alignmentgroup": "True",
         "bingroup": "x",
         "hovertemplate": "year_q=2019_4<br>used_to_all=%{x}<br>count=%{y}<extra></extra>",
         "legendgroup": "2019_4",
         "marker": {
          "color": "#636efa",
          "pattern": {
           "shape": ""
          }
         },
         "name": "2019_4",
         "offsetgroup": "2019_4",
         "orientation": "v",
         "showlegend": true,
         "type": "histogram",
         "x": [
          0.74,
          0.77,
          0.77,
          0.74,
          0.74,
          0.74,
          0.74,
          0.74,
          0.69,
          0.77,
          0.63,
          0.77,
          0.66,
          0.69,
          0.74,
          0.77,
          0.69,
          0.69,
          0.66,
          0.98,
          0.98,
          0.98,
          0.98,
          0.98,
          0.98,
          0.98,
          0.98,
          0.96,
          0.98,
          0.96,
          0.96,
          0.98,
          0.98,
          0.98,
          0.98,
          0.91,
          0.94,
          0.94,
          0.91,
          1,
          0.91,
          1,
          1,
          1,
          0.82,
          0.91,
          0.82,
          0.91,
          0.64,
          0.82,
          0.82,
          0.82,
          0.91,
          1,
          0.73,
          0.73,
          0.73
         ],
         "xaxis": "x",
         "yaxis": "y"
        },
        {
         "alignmentgroup": "True",
         "boxpoints": "all",
         "customdata": [
          [
           "2019_4",
           "accelerated_filer",
           "roe"
          ],
          [
           "2019_4",
           "accelerated_filer",
           "roa"
          ],
          [
           "2019_4",
           "accelerated_filer",
           "roce"
          ],
          [
           "2019_4",
           "accelerated_filer",
           "gross_margin"
          ],
          [
           "2019_4",
           "accelerated_filer",
           "operating_profit_margin"
          ],
          [
           "2019_4",
           "accelerated_filer",
           "net_profit_margin"
          ],
          [
           "2019_4",
           "accelerated_filer",
           "debt_to_equity"
          ],
          [
           "2019_4",
           "accelerated_filer",
           "equity"
          ],
          [
           "2019_4",
           "accelerated_filer",
           "debt"
          ],
          [
           "2019_4",
           "accelerated_filer",
           "current"
          ],
          [
           "2019_4",
           "accelerated_filer",
           "quick"
          ],
          [
           "2019_4",
           "accelerated_filer",
           "cash"
          ],
          [
           "2019_4",
           "accelerated_filer",
           "times_interest_earned"
          ],
          [
           "2019_4",
           "accelerated_filer",
           "capex_to_operating_cash"
          ],
          [
           "2019_4",
           "accelerated_filer",
           "operating_cash_flow"
          ],
          [
           "2019_4",
           "accelerated_filer",
           "price_to_earnings"
          ],
          [
           "2019_4",
           "accelerated_filer",
           "ev_ebitda"
          ],
          [
           "2019_4",
           "accelerated_filer",
           "ev_ebit"
          ],
          [
           "2019_4",
           "accelerated_filer",
           "ev_revenue"
          ],
          [
           "2019_4",
           "large_accelerated_filer",
           "roe"
          ],
          [
           "2019_4",
           "large_accelerated_filer",
           "roa"
          ],
          [
           "2019_4",
           "large_accelerated_filer",
           "roce"
          ],
          [
           "2019_4",
           "large_accelerated_filer",
           "gross_margin"
          ],
          [
           "2019_4",
           "large_accelerated_filer",
           "operating_profit_margin"
          ],
          [
           "2019_4",
           "large_accelerated_filer",
           "net_profit_margin"
          ],
          [
           "2019_4",
           "large_accelerated_filer",
           "debt_to_equity"
          ],
          [
           "2019_4",
           "large_accelerated_filer",
           "equity"
          ],
          [
           "2019_4",
           "large_accelerated_filer",
           "debt"
          ],
          [
           "2019_4",
           "large_accelerated_filer",
           "current"
          ],
          [
           "2019_4",
           "large_accelerated_filer",
           "quick"
          ],
          [
           "2019_4",
           "large_accelerated_filer",
           "cash"
          ],
          [
           "2019_4",
           "large_accelerated_filer",
           "times_interest_earned"
          ],
          [
           "2019_4",
           "large_accelerated_filer",
           "capex_to_operating_cash"
          ],
          [
           "2019_4",
           "large_accelerated_filer",
           "operating_cash_flow"
          ],
          [
           "2019_4",
           "large_accelerated_filer",
           "price_to_earnings"
          ],
          [
           "2019_4",
           "large_accelerated_filer",
           "ev_ebitda"
          ],
          [
           "2019_4",
           "large_accelerated_filer",
           "ev_ebit"
          ],
          [
           "2019_4",
           "large_accelerated_filer",
           "ev_revenue"
          ],
          [
           "2019_4",
           "non_accelerated_filer",
           "roe"
          ],
          [
           "2019_4",
           "non_accelerated_filer",
           "roa"
          ],
          [
           "2019_4",
           "non_accelerated_filer",
           "roce"
          ],
          [
           "2019_4",
           "non_accelerated_filer",
           "gross_margin"
          ],
          [
           "2019_4",
           "non_accelerated_filer",
           "operating_profit_margin"
          ],
          [
           "2019_4",
           "non_accelerated_filer",
           "net_profit_margin"
          ],
          [
           "2019_4",
           "non_accelerated_filer",
           "debt_to_equity"
          ],
          [
           "2019_4",
           "non_accelerated_filer",
           "equity"
          ],
          [
           "2019_4",
           "non_accelerated_filer",
           "debt"
          ],
          [
           "2019_4",
           "non_accelerated_filer",
           "current"
          ],
          [
           "2019_4",
           "non_accelerated_filer",
           "quick"
          ],
          [
           "2019_4",
           "non_accelerated_filer",
           "cash"
          ],
          [
           "2019_4",
           "non_accelerated_filer",
           "times_interest_earned"
          ],
          [
           "2019_4",
           "non_accelerated_filer",
           "capex_to_operating_cash"
          ],
          [
           "2019_4",
           "non_accelerated_filer",
           "operating_cash_flow"
          ],
          [
           "2019_4",
           "non_accelerated_filer",
           "price_to_earnings"
          ],
          [
           "2019_4",
           "non_accelerated_filer",
           "ev_ebitda"
          ],
          [
           "2019_4",
           "non_accelerated_filer",
           "ev_ebit"
          ],
          [
           "2019_4",
           "non_accelerated_filer",
           "ev_revenue"
          ]
         ],
         "fillcolor": "rgba(255,255,255,0)",
         "hoveron": "points",
         "hovertemplate": "year_q=%{customdata[0]}<br>used_to_all=%{x}<br>filer_type=%{customdata[1]}<br>kpi=%{customdata[2]}<extra></extra>",
         "jitter": 0,
         "legendgroup": "2019_4",
         "line": {
          "color": "rgba(255,255,255,0)"
         },
         "marker": {
          "color": "#636efa",
          "symbol": "line-ns-open"
         },
         "name": "2019_4",
         "offsetgroup": "2019_4",
         "showlegend": false,
         "type": "box",
         "x": [
          0.74,
          0.77,
          0.77,
          0.74,
          0.74,
          0.74,
          0.74,
          0.74,
          0.69,
          0.77,
          0.63,
          0.77,
          0.66,
          0.69,
          0.74,
          0.77,
          0.69,
          0.69,
          0.66,
          0.98,
          0.98,
          0.98,
          0.98,
          0.98,
          0.98,
          0.98,
          0.98,
          0.96,
          0.98,
          0.96,
          0.96,
          0.98,
          0.98,
          0.98,
          0.98,
          0.91,
          0.94,
          0.94,
          0.91,
          1,
          0.91,
          1,
          1,
          1,
          0.82,
          0.91,
          0.82,
          0.91,
          0.64,
          0.82,
          0.82,
          0.82,
          0.91,
          1,
          0.73,
          0.73,
          0.73
         ],
         "xaxis": "x2",
         "yaxis": "y2"
        },
        {
         "alignmentgroup": "True",
         "bingroup": "x",
         "hovertemplate": "year_q=2020_1<br>used_to_all=%{x}<br>count=%{y}<extra></extra>",
         "legendgroup": "2020_1",
         "marker": {
          "color": "#EF553B",
          "pattern": {
           "shape": ""
          }
         },
         "name": "2020_1",
         "offsetgroup": "2020_1",
         "orientation": "v",
         "showlegend": true,
         "type": "histogram",
         "x": [
          0.97,
          0.97,
          0.97,
          0.94,
          0.94,
          0.94,
          0.97,
          0.97,
          0.84,
          0.97,
          0.78,
          0.94,
          0.81,
          0.84,
          0.97,
          0.97,
          0.78,
          0.81,
          0.78,
          0.92,
          0.92,
          0.92,
          0.92,
          0.92,
          0.92,
          0.92,
          0.92,
          0.9,
          0.92,
          0.9,
          0.9,
          0.92,
          0.92,
          0.92,
          0.92,
          0.87,
          0.88,
          0.88,
          0.93,
          1,
          0.79,
          0.86,
          1,
          1,
          0.79,
          0.93,
          0.79,
          0.79,
          0.64,
          0.79,
          0.71,
          0.71,
          0.79,
          1,
          0.79,
          0.79,
          0.79
         ],
         "xaxis": "x",
         "yaxis": "y"
        },
        {
         "alignmentgroup": "True",
         "boxpoints": "all",
         "customdata": [
          [
           "2020_1",
           "accelerated_filer",
           "roe"
          ],
          [
           "2020_1",
           "accelerated_filer",
           "roa"
          ],
          [
           "2020_1",
           "accelerated_filer",
           "roce"
          ],
          [
           "2020_1",
           "accelerated_filer",
           "gross_margin"
          ],
          [
           "2020_1",
           "accelerated_filer",
           "operating_profit_margin"
          ],
          [
           "2020_1",
           "accelerated_filer",
           "net_profit_margin"
          ],
          [
           "2020_1",
           "accelerated_filer",
           "debt_to_equity"
          ],
          [
           "2020_1",
           "accelerated_filer",
           "equity"
          ],
          [
           "2020_1",
           "accelerated_filer",
           "debt"
          ],
          [
           "2020_1",
           "accelerated_filer",
           "current"
          ],
          [
           "2020_1",
           "accelerated_filer",
           "quick"
          ],
          [
           "2020_1",
           "accelerated_filer",
           "cash"
          ],
          [
           "2020_1",
           "accelerated_filer",
           "times_interest_earned"
          ],
          [
           "2020_1",
           "accelerated_filer",
           "capex_to_operating_cash"
          ],
          [
           "2020_1",
           "accelerated_filer",
           "operating_cash_flow"
          ],
          [
           "2020_1",
           "accelerated_filer",
           "price_to_earnings"
          ],
          [
           "2020_1",
           "accelerated_filer",
           "ev_ebitda"
          ],
          [
           "2020_1",
           "accelerated_filer",
           "ev_ebit"
          ],
          [
           "2020_1",
           "accelerated_filer",
           "ev_revenue"
          ],
          [
           "2020_1",
           "large_accelerated_filer",
           "roe"
          ],
          [
           "2020_1",
           "large_accelerated_filer",
           "roa"
          ],
          [
           "2020_1",
           "large_accelerated_filer",
           "roce"
          ],
          [
           "2020_1",
           "large_accelerated_filer",
           "gross_margin"
          ],
          [
           "2020_1",
           "large_accelerated_filer",
           "operating_profit_margin"
          ],
          [
           "2020_1",
           "large_accelerated_filer",
           "net_profit_margin"
          ],
          [
           "2020_1",
           "large_accelerated_filer",
           "debt_to_equity"
          ],
          [
           "2020_1",
           "large_accelerated_filer",
           "equity"
          ],
          [
           "2020_1",
           "large_accelerated_filer",
           "debt"
          ],
          [
           "2020_1",
           "large_accelerated_filer",
           "current"
          ],
          [
           "2020_1",
           "large_accelerated_filer",
           "quick"
          ],
          [
           "2020_1",
           "large_accelerated_filer",
           "cash"
          ],
          [
           "2020_1",
           "large_accelerated_filer",
           "times_interest_earned"
          ],
          [
           "2020_1",
           "large_accelerated_filer",
           "capex_to_operating_cash"
          ],
          [
           "2020_1",
           "large_accelerated_filer",
           "operating_cash_flow"
          ],
          [
           "2020_1",
           "large_accelerated_filer",
           "price_to_earnings"
          ],
          [
           "2020_1",
           "large_accelerated_filer",
           "ev_ebitda"
          ],
          [
           "2020_1",
           "large_accelerated_filer",
           "ev_ebit"
          ],
          [
           "2020_1",
           "large_accelerated_filer",
           "ev_revenue"
          ],
          [
           "2020_1",
           "non_accelerated_filer",
           "roe"
          ],
          [
           "2020_1",
           "non_accelerated_filer",
           "roa"
          ],
          [
           "2020_1",
           "non_accelerated_filer",
           "roce"
          ],
          [
           "2020_1",
           "non_accelerated_filer",
           "gross_margin"
          ],
          [
           "2020_1",
           "non_accelerated_filer",
           "operating_profit_margin"
          ],
          [
           "2020_1",
           "non_accelerated_filer",
           "net_profit_margin"
          ],
          [
           "2020_1",
           "non_accelerated_filer",
           "debt_to_equity"
          ],
          [
           "2020_1",
           "non_accelerated_filer",
           "equity"
          ],
          [
           "2020_1",
           "non_accelerated_filer",
           "debt"
          ],
          [
           "2020_1",
           "non_accelerated_filer",
           "current"
          ],
          [
           "2020_1",
           "non_accelerated_filer",
           "quick"
          ],
          [
           "2020_1",
           "non_accelerated_filer",
           "cash"
          ],
          [
           "2020_1",
           "non_accelerated_filer",
           "times_interest_earned"
          ],
          [
           "2020_1",
           "non_accelerated_filer",
           "capex_to_operating_cash"
          ],
          [
           "2020_1",
           "non_accelerated_filer",
           "operating_cash_flow"
          ],
          [
           "2020_1",
           "non_accelerated_filer",
           "price_to_earnings"
          ],
          [
           "2020_1",
           "non_accelerated_filer",
           "ev_ebitda"
          ],
          [
           "2020_1",
           "non_accelerated_filer",
           "ev_ebit"
          ],
          [
           "2020_1",
           "non_accelerated_filer",
           "ev_revenue"
          ]
         ],
         "fillcolor": "rgba(255,255,255,0)",
         "hoveron": "points",
         "hovertemplate": "year_q=%{customdata[0]}<br>used_to_all=%{x}<br>filer_type=%{customdata[1]}<br>kpi=%{customdata[2]}<extra></extra>",
         "jitter": 0,
         "legendgroup": "2020_1",
         "line": {
          "color": "rgba(255,255,255,0)"
         },
         "marker": {
          "color": "#EF553B",
          "symbol": "line-ns-open"
         },
         "name": "2020_1",
         "offsetgroup": "2020_1",
         "showlegend": false,
         "type": "box",
         "x": [
          0.97,
          0.97,
          0.97,
          0.94,
          0.94,
          0.94,
          0.97,
          0.97,
          0.84,
          0.97,
          0.78,
          0.94,
          0.81,
          0.84,
          0.97,
          0.97,
          0.78,
          0.81,
          0.78,
          0.92,
          0.92,
          0.92,
          0.92,
          0.92,
          0.92,
          0.92,
          0.92,
          0.9,
          0.92,
          0.9,
          0.9,
          0.92,
          0.92,
          0.92,
          0.92,
          0.87,
          0.88,
          0.88,
          0.93,
          1,
          0.79,
          0.86,
          1,
          1,
          0.79,
          0.93,
          0.79,
          0.79,
          0.64,
          0.79,
          0.71,
          0.71,
          0.79,
          1,
          0.79,
          0.79,
          0.79
         ],
         "xaxis": "x2",
         "yaxis": "y2"
        },
        {
         "alignmentgroup": "True",
         "bingroup": "x",
         "hovertemplate": "year_q=2020_2<br>used_to_all=%{x}<br>count=%{y}<extra></extra>",
         "legendgroup": "2020_2",
         "marker": {
          "color": "#00cc96",
          "pattern": {
           "shape": ""
          }
         },
         "name": "2020_2",
         "offsetgroup": "2020_2",
         "orientation": "v",
         "showlegend": true,
         "type": "histogram",
         "x": [
          0.56,
          0.56,
          0.56,
          0.56,
          0.56,
          0.56,
          0.56,
          0.56,
          0.56,
          0.56,
          0.53,
          0.56,
          0.56,
          0.56,
          0.56,
          0.56,
          0.56,
          0.56,
          0.56,
          0.88,
          0.88,
          0.88,
          0.87,
          0.88,
          0.88,
          0.88,
          0.88,
          0.87,
          0.88,
          0.85,
          0.87,
          0.85,
          0.87,
          0.88,
          0.88,
          0.83,
          0.85,
          0.85,
          0.81,
          0.81,
          0.69,
          0.69,
          0.88,
          0.81,
          0.69,
          0.81,
          0.69,
          0.69,
          0.56,
          0.69,
          0.56,
          0.62,
          0.69,
          0.81,
          0.69,
          0.69,
          0.69
         ],
         "xaxis": "x",
         "yaxis": "y"
        },
        {
         "alignmentgroup": "True",
         "boxpoints": "all",
         "customdata": [
          [
           "2020_2",
           "accelerated_filer",
           "roe"
          ],
          [
           "2020_2",
           "accelerated_filer",
           "roa"
          ],
          [
           "2020_2",
           "accelerated_filer",
           "roce"
          ],
          [
           "2020_2",
           "accelerated_filer",
           "gross_margin"
          ],
          [
           "2020_2",
           "accelerated_filer",
           "operating_profit_margin"
          ],
          [
           "2020_2",
           "accelerated_filer",
           "net_profit_margin"
          ],
          [
           "2020_2",
           "accelerated_filer",
           "debt_to_equity"
          ],
          [
           "2020_2",
           "accelerated_filer",
           "equity"
          ],
          [
           "2020_2",
           "accelerated_filer",
           "debt"
          ],
          [
           "2020_2",
           "accelerated_filer",
           "current"
          ],
          [
           "2020_2",
           "accelerated_filer",
           "quick"
          ],
          [
           "2020_2",
           "accelerated_filer",
           "cash"
          ],
          [
           "2020_2",
           "accelerated_filer",
           "times_interest_earned"
          ],
          [
           "2020_2",
           "accelerated_filer",
           "capex_to_operating_cash"
          ],
          [
           "2020_2",
           "accelerated_filer",
           "operating_cash_flow"
          ],
          [
           "2020_2",
           "accelerated_filer",
           "price_to_earnings"
          ],
          [
           "2020_2",
           "accelerated_filer",
           "ev_ebitda"
          ],
          [
           "2020_2",
           "accelerated_filer",
           "ev_ebit"
          ],
          [
           "2020_2",
           "accelerated_filer",
           "ev_revenue"
          ],
          [
           "2020_2",
           "large_accelerated_filer",
           "roe"
          ],
          [
           "2020_2",
           "large_accelerated_filer",
           "roa"
          ],
          [
           "2020_2",
           "large_accelerated_filer",
           "roce"
          ],
          [
           "2020_2",
           "large_accelerated_filer",
           "gross_margin"
          ],
          [
           "2020_2",
           "large_accelerated_filer",
           "operating_profit_margin"
          ],
          [
           "2020_2",
           "large_accelerated_filer",
           "net_profit_margin"
          ],
          [
           "2020_2",
           "large_accelerated_filer",
           "debt_to_equity"
          ],
          [
           "2020_2",
           "large_accelerated_filer",
           "equity"
          ],
          [
           "2020_2",
           "large_accelerated_filer",
           "debt"
          ],
          [
           "2020_2",
           "large_accelerated_filer",
           "current"
          ],
          [
           "2020_2",
           "large_accelerated_filer",
           "quick"
          ],
          [
           "2020_2",
           "large_accelerated_filer",
           "cash"
          ],
          [
           "2020_2",
           "large_accelerated_filer",
           "times_interest_earned"
          ],
          [
           "2020_2",
           "large_accelerated_filer",
           "capex_to_operating_cash"
          ],
          [
           "2020_2",
           "large_accelerated_filer",
           "operating_cash_flow"
          ],
          [
           "2020_2",
           "large_accelerated_filer",
           "price_to_earnings"
          ],
          [
           "2020_2",
           "large_accelerated_filer",
           "ev_ebitda"
          ],
          [
           "2020_2",
           "large_accelerated_filer",
           "ev_ebit"
          ],
          [
           "2020_2",
           "large_accelerated_filer",
           "ev_revenue"
          ],
          [
           "2020_2",
           "non_accelerated_filer",
           "roe"
          ],
          [
           "2020_2",
           "non_accelerated_filer",
           "roa"
          ],
          [
           "2020_2",
           "non_accelerated_filer",
           "roce"
          ],
          [
           "2020_2",
           "non_accelerated_filer",
           "gross_margin"
          ],
          [
           "2020_2",
           "non_accelerated_filer",
           "operating_profit_margin"
          ],
          [
           "2020_2",
           "non_accelerated_filer",
           "net_profit_margin"
          ],
          [
           "2020_2",
           "non_accelerated_filer",
           "debt_to_equity"
          ],
          [
           "2020_2",
           "non_accelerated_filer",
           "equity"
          ],
          [
           "2020_2",
           "non_accelerated_filer",
           "debt"
          ],
          [
           "2020_2",
           "non_accelerated_filer",
           "current"
          ],
          [
           "2020_2",
           "non_accelerated_filer",
           "quick"
          ],
          [
           "2020_2",
           "non_accelerated_filer",
           "cash"
          ],
          [
           "2020_2",
           "non_accelerated_filer",
           "times_interest_earned"
          ],
          [
           "2020_2",
           "non_accelerated_filer",
           "capex_to_operating_cash"
          ],
          [
           "2020_2",
           "non_accelerated_filer",
           "operating_cash_flow"
          ],
          [
           "2020_2",
           "non_accelerated_filer",
           "price_to_earnings"
          ],
          [
           "2020_2",
           "non_accelerated_filer",
           "ev_ebitda"
          ],
          [
           "2020_2",
           "non_accelerated_filer",
           "ev_ebit"
          ],
          [
           "2020_2",
           "non_accelerated_filer",
           "ev_revenue"
          ]
         ],
         "fillcolor": "rgba(255,255,255,0)",
         "hoveron": "points",
         "hovertemplate": "year_q=%{customdata[0]}<br>used_to_all=%{x}<br>filer_type=%{customdata[1]}<br>kpi=%{customdata[2]}<extra></extra>",
         "jitter": 0,
         "legendgroup": "2020_2",
         "line": {
          "color": "rgba(255,255,255,0)"
         },
         "marker": {
          "color": "#00cc96",
          "symbol": "line-ns-open"
         },
         "name": "2020_2",
         "offsetgroup": "2020_2",
         "showlegend": false,
         "type": "box",
         "x": [
          0.56,
          0.56,
          0.56,
          0.56,
          0.56,
          0.56,
          0.56,
          0.56,
          0.56,
          0.56,
          0.53,
          0.56,
          0.56,
          0.56,
          0.56,
          0.56,
          0.56,
          0.56,
          0.56,
          0.88,
          0.88,
          0.88,
          0.87,
          0.88,
          0.88,
          0.88,
          0.88,
          0.87,
          0.88,
          0.85,
          0.87,
          0.85,
          0.87,
          0.88,
          0.88,
          0.83,
          0.85,
          0.85,
          0.81,
          0.81,
          0.69,
          0.69,
          0.88,
          0.81,
          0.69,
          0.81,
          0.69,
          0.69,
          0.56,
          0.69,
          0.56,
          0.62,
          0.69,
          0.81,
          0.69,
          0.69,
          0.69
         ],
         "xaxis": "x2",
         "yaxis": "y2"
        },
        {
         "alignmentgroup": "True",
         "bingroup": "x",
         "hovertemplate": "year_q=2020_3<br>used_to_all=%{x}<br>count=%{y}<extra></extra>",
         "legendgroup": "2020_3",
         "marker": {
          "color": "#ab63fa",
          "pattern": {
           "shape": ""
          }
         },
         "name": "2020_3",
         "offsetgroup": "2020_3",
         "orientation": "v",
         "showlegend": true,
         "type": "histogram",
         "x": [
          0.81,
          0.81,
          0.81,
          0.78,
          0.78,
          0.78,
          0.81,
          0.81,
          0.81,
          0.81,
          0.75,
          0.81,
          0.78,
          0.81,
          0.81,
          0.81,
          0.81,
          0.81,
          0.78,
          0.96,
          0.96,
          0.96,
          0.94,
          0.96,
          0.96,
          0.96,
          0.96,
          0.92,
          0.96,
          0.94,
          0.96,
          0.92,
          0.94,
          0.96,
          0.96,
          0.9,
          0.92,
          0.92,
          0.87,
          0.93,
          0.73,
          0.73,
          0.93,
          0.93,
          0.73,
          0.87,
          0.73,
          0.73,
          0.6,
          0.73,
          0.67,
          0.67,
          0.73,
          0.93,
          0.73,
          0.73,
          0.73
         ],
         "xaxis": "x",
         "yaxis": "y"
        },
        {
         "alignmentgroup": "True",
         "boxpoints": "all",
         "customdata": [
          [
           "2020_3",
           "accelerated_filer",
           "roe"
          ],
          [
           "2020_3",
           "accelerated_filer",
           "roa"
          ],
          [
           "2020_3",
           "accelerated_filer",
           "roce"
          ],
          [
           "2020_3",
           "accelerated_filer",
           "gross_margin"
          ],
          [
           "2020_3",
           "accelerated_filer",
           "operating_profit_margin"
          ],
          [
           "2020_3",
           "accelerated_filer",
           "net_profit_margin"
          ],
          [
           "2020_3",
           "accelerated_filer",
           "debt_to_equity"
          ],
          [
           "2020_3",
           "accelerated_filer",
           "equity"
          ],
          [
           "2020_3",
           "accelerated_filer",
           "debt"
          ],
          [
           "2020_3",
           "accelerated_filer",
           "current"
          ],
          [
           "2020_3",
           "accelerated_filer",
           "quick"
          ],
          [
           "2020_3",
           "accelerated_filer",
           "cash"
          ],
          [
           "2020_3",
           "accelerated_filer",
           "times_interest_earned"
          ],
          [
           "2020_3",
           "accelerated_filer",
           "capex_to_operating_cash"
          ],
          [
           "2020_3",
           "accelerated_filer",
           "operating_cash_flow"
          ],
          [
           "2020_3",
           "accelerated_filer",
           "price_to_earnings"
          ],
          [
           "2020_3",
           "accelerated_filer",
           "ev_ebitda"
          ],
          [
           "2020_3",
           "accelerated_filer",
           "ev_ebit"
          ],
          [
           "2020_3",
           "accelerated_filer",
           "ev_revenue"
          ],
          [
           "2020_3",
           "large_accelerated_filer",
           "roe"
          ],
          [
           "2020_3",
           "large_accelerated_filer",
           "roa"
          ],
          [
           "2020_3",
           "large_accelerated_filer",
           "roce"
          ],
          [
           "2020_3",
           "large_accelerated_filer",
           "gross_margin"
          ],
          [
           "2020_3",
           "large_accelerated_filer",
           "operating_profit_margin"
          ],
          [
           "2020_3",
           "large_accelerated_filer",
           "net_profit_margin"
          ],
          [
           "2020_3",
           "large_accelerated_filer",
           "debt_to_equity"
          ],
          [
           "2020_3",
           "large_accelerated_filer",
           "equity"
          ],
          [
           "2020_3",
           "large_accelerated_filer",
           "debt"
          ],
          [
           "2020_3",
           "large_accelerated_filer",
           "current"
          ],
          [
           "2020_3",
           "large_accelerated_filer",
           "quick"
          ],
          [
           "2020_3",
           "large_accelerated_filer",
           "cash"
          ],
          [
           "2020_3",
           "large_accelerated_filer",
           "times_interest_earned"
          ],
          [
           "2020_3",
           "large_accelerated_filer",
           "capex_to_operating_cash"
          ],
          [
           "2020_3",
           "large_accelerated_filer",
           "operating_cash_flow"
          ],
          [
           "2020_3",
           "large_accelerated_filer",
           "price_to_earnings"
          ],
          [
           "2020_3",
           "large_accelerated_filer",
           "ev_ebitda"
          ],
          [
           "2020_3",
           "large_accelerated_filer",
           "ev_ebit"
          ],
          [
           "2020_3",
           "large_accelerated_filer",
           "ev_revenue"
          ],
          [
           "2020_3",
           "non_accelerated_filer",
           "roe"
          ],
          [
           "2020_3",
           "non_accelerated_filer",
           "roa"
          ],
          [
           "2020_3",
           "non_accelerated_filer",
           "roce"
          ],
          [
           "2020_3",
           "non_accelerated_filer",
           "gross_margin"
          ],
          [
           "2020_3",
           "non_accelerated_filer",
           "operating_profit_margin"
          ],
          [
           "2020_3",
           "non_accelerated_filer",
           "net_profit_margin"
          ],
          [
           "2020_3",
           "non_accelerated_filer",
           "debt_to_equity"
          ],
          [
           "2020_3",
           "non_accelerated_filer",
           "equity"
          ],
          [
           "2020_3",
           "non_accelerated_filer",
           "debt"
          ],
          [
           "2020_3",
           "non_accelerated_filer",
           "current"
          ],
          [
           "2020_3",
           "non_accelerated_filer",
           "quick"
          ],
          [
           "2020_3",
           "non_accelerated_filer",
           "cash"
          ],
          [
           "2020_3",
           "non_accelerated_filer",
           "times_interest_earned"
          ],
          [
           "2020_3",
           "non_accelerated_filer",
           "capex_to_operating_cash"
          ],
          [
           "2020_3",
           "non_accelerated_filer",
           "operating_cash_flow"
          ],
          [
           "2020_3",
           "non_accelerated_filer",
           "price_to_earnings"
          ],
          [
           "2020_3",
           "non_accelerated_filer",
           "ev_ebitda"
          ],
          [
           "2020_3",
           "non_accelerated_filer",
           "ev_ebit"
          ],
          [
           "2020_3",
           "non_accelerated_filer",
           "ev_revenue"
          ]
         ],
         "fillcolor": "rgba(255,255,255,0)",
         "hoveron": "points",
         "hovertemplate": "year_q=%{customdata[0]}<br>used_to_all=%{x}<br>filer_type=%{customdata[1]}<br>kpi=%{customdata[2]}<extra></extra>",
         "jitter": 0,
         "legendgroup": "2020_3",
         "line": {
          "color": "rgba(255,255,255,0)"
         },
         "marker": {
          "color": "#ab63fa",
          "symbol": "line-ns-open"
         },
         "name": "2020_3",
         "offsetgroup": "2020_3",
         "showlegend": false,
         "type": "box",
         "x": [
          0.81,
          0.81,
          0.81,
          0.78,
          0.78,
          0.78,
          0.81,
          0.81,
          0.81,
          0.81,
          0.75,
          0.81,
          0.78,
          0.81,
          0.81,
          0.81,
          0.81,
          0.81,
          0.78,
          0.96,
          0.96,
          0.96,
          0.94,
          0.96,
          0.96,
          0.96,
          0.96,
          0.92,
          0.96,
          0.94,
          0.96,
          0.92,
          0.94,
          0.96,
          0.96,
          0.9,
          0.92,
          0.92,
          0.87,
          0.93,
          0.73,
          0.73,
          0.93,
          0.93,
          0.73,
          0.87,
          0.73,
          0.73,
          0.6,
          0.73,
          0.67,
          0.67,
          0.73,
          0.93,
          0.73,
          0.73,
          0.73
         ],
         "xaxis": "x2",
         "yaxis": "y2"
        },
        {
         "alignmentgroup": "True",
         "bingroup": "x",
         "hovertemplate": "year_q=2020_4<br>used_to_all=%{x}<br>count=%{y}<extra></extra>",
         "legendgroup": "2020_4",
         "marker": {
          "color": "#FFA15A",
          "pattern": {
           "shape": ""
          }
         },
         "name": "2020_4",
         "offsetgroup": "2020_4",
         "orientation": "v",
         "showlegend": true,
         "type": "histogram",
         "x": [
          0.91,
          0.91,
          0.91,
          0.81,
          0.84,
          0.84,
          0.91,
          0.91,
          0.81,
          0.91,
          0.72,
          0.91,
          0.78,
          0.78,
          0.91,
          0.91,
          0.81,
          0.81,
          0.78,
          1,
          1,
          1,
          0.98,
          1,
          1,
          1,
          1,
          0.96,
          1,
          0.96,
          0.98,
          0.96,
          0.98,
          1,
          1,
          0.94,
          0.94,
          0.94,
          0.53,
          0.6,
          0.53,
          0.6,
          0.6,
          0.6,
          0.53,
          0.67,
          0.6,
          0.53,
          0.47,
          0.47,
          0.53,
          0.53,
          0.53,
          0.6,
          0.53,
          0.53,
          0.53
         ],
         "xaxis": "x",
         "yaxis": "y"
        },
        {
         "alignmentgroup": "True",
         "boxpoints": "all",
         "customdata": [
          [
           "2020_4",
           "accelerated_filer",
           "roe"
          ],
          [
           "2020_4",
           "accelerated_filer",
           "roa"
          ],
          [
           "2020_4",
           "accelerated_filer",
           "roce"
          ],
          [
           "2020_4",
           "accelerated_filer",
           "gross_margin"
          ],
          [
           "2020_4",
           "accelerated_filer",
           "operating_profit_margin"
          ],
          [
           "2020_4",
           "accelerated_filer",
           "net_profit_margin"
          ],
          [
           "2020_4",
           "accelerated_filer",
           "debt_to_equity"
          ],
          [
           "2020_4",
           "accelerated_filer",
           "equity"
          ],
          [
           "2020_4",
           "accelerated_filer",
           "debt"
          ],
          [
           "2020_4",
           "accelerated_filer",
           "current"
          ],
          [
           "2020_4",
           "accelerated_filer",
           "quick"
          ],
          [
           "2020_4",
           "accelerated_filer",
           "cash"
          ],
          [
           "2020_4",
           "accelerated_filer",
           "times_interest_earned"
          ],
          [
           "2020_4",
           "accelerated_filer",
           "capex_to_operating_cash"
          ],
          [
           "2020_4",
           "accelerated_filer",
           "operating_cash_flow"
          ],
          [
           "2020_4",
           "accelerated_filer",
           "price_to_earnings"
          ],
          [
           "2020_4",
           "accelerated_filer",
           "ev_ebitda"
          ],
          [
           "2020_4",
           "accelerated_filer",
           "ev_ebit"
          ],
          [
           "2020_4",
           "accelerated_filer",
           "ev_revenue"
          ],
          [
           "2020_4",
           "large_accelerated_filer",
           "roe"
          ],
          [
           "2020_4",
           "large_accelerated_filer",
           "roa"
          ],
          [
           "2020_4",
           "large_accelerated_filer",
           "roce"
          ],
          [
           "2020_4",
           "large_accelerated_filer",
           "gross_margin"
          ],
          [
           "2020_4",
           "large_accelerated_filer",
           "operating_profit_margin"
          ],
          [
           "2020_4",
           "large_accelerated_filer",
           "net_profit_margin"
          ],
          [
           "2020_4",
           "large_accelerated_filer",
           "debt_to_equity"
          ],
          [
           "2020_4",
           "large_accelerated_filer",
           "equity"
          ],
          [
           "2020_4",
           "large_accelerated_filer",
           "debt"
          ],
          [
           "2020_4",
           "large_accelerated_filer",
           "current"
          ],
          [
           "2020_4",
           "large_accelerated_filer",
           "quick"
          ],
          [
           "2020_4",
           "large_accelerated_filer",
           "cash"
          ],
          [
           "2020_4",
           "large_accelerated_filer",
           "times_interest_earned"
          ],
          [
           "2020_4",
           "large_accelerated_filer",
           "capex_to_operating_cash"
          ],
          [
           "2020_4",
           "large_accelerated_filer",
           "operating_cash_flow"
          ],
          [
           "2020_4",
           "large_accelerated_filer",
           "price_to_earnings"
          ],
          [
           "2020_4",
           "large_accelerated_filer",
           "ev_ebitda"
          ],
          [
           "2020_4",
           "large_accelerated_filer",
           "ev_ebit"
          ],
          [
           "2020_4",
           "large_accelerated_filer",
           "ev_revenue"
          ],
          [
           "2020_4",
           "non_accelerated_filer",
           "roe"
          ],
          [
           "2020_4",
           "non_accelerated_filer",
           "roa"
          ],
          [
           "2020_4",
           "non_accelerated_filer",
           "roce"
          ],
          [
           "2020_4",
           "non_accelerated_filer",
           "gross_margin"
          ],
          [
           "2020_4",
           "non_accelerated_filer",
           "operating_profit_margin"
          ],
          [
           "2020_4",
           "non_accelerated_filer",
           "net_profit_margin"
          ],
          [
           "2020_4",
           "non_accelerated_filer",
           "debt_to_equity"
          ],
          [
           "2020_4",
           "non_accelerated_filer",
           "equity"
          ],
          [
           "2020_4",
           "non_accelerated_filer",
           "debt"
          ],
          [
           "2020_4",
           "non_accelerated_filer",
           "current"
          ],
          [
           "2020_4",
           "non_accelerated_filer",
           "quick"
          ],
          [
           "2020_4",
           "non_accelerated_filer",
           "cash"
          ],
          [
           "2020_4",
           "non_accelerated_filer",
           "times_interest_earned"
          ],
          [
           "2020_4",
           "non_accelerated_filer",
           "capex_to_operating_cash"
          ],
          [
           "2020_4",
           "non_accelerated_filer",
           "operating_cash_flow"
          ],
          [
           "2020_4",
           "non_accelerated_filer",
           "price_to_earnings"
          ],
          [
           "2020_4",
           "non_accelerated_filer",
           "ev_ebitda"
          ],
          [
           "2020_4",
           "non_accelerated_filer",
           "ev_ebit"
          ],
          [
           "2020_4",
           "non_accelerated_filer",
           "ev_revenue"
          ]
         ],
         "fillcolor": "rgba(255,255,255,0)",
         "hoveron": "points",
         "hovertemplate": "year_q=%{customdata[0]}<br>used_to_all=%{x}<br>filer_type=%{customdata[1]}<br>kpi=%{customdata[2]}<extra></extra>",
         "jitter": 0,
         "legendgroup": "2020_4",
         "line": {
          "color": "rgba(255,255,255,0)"
         },
         "marker": {
          "color": "#FFA15A",
          "symbol": "line-ns-open"
         },
         "name": "2020_4",
         "offsetgroup": "2020_4",
         "showlegend": false,
         "type": "box",
         "x": [
          0.91,
          0.91,
          0.91,
          0.81,
          0.84,
          0.84,
          0.91,
          0.91,
          0.81,
          0.91,
          0.72,
          0.91,
          0.78,
          0.78,
          0.91,
          0.91,
          0.81,
          0.81,
          0.78,
          1,
          1,
          1,
          0.98,
          1,
          1,
          1,
          1,
          0.96,
          1,
          0.96,
          0.98,
          0.96,
          0.98,
          1,
          1,
          0.94,
          0.94,
          0.94,
          0.53,
          0.6,
          0.53,
          0.6,
          0.6,
          0.6,
          0.53,
          0.67,
          0.6,
          0.53,
          0.47,
          0.47,
          0.53,
          0.53,
          0.53,
          0.6,
          0.53,
          0.53,
          0.53
         ],
         "xaxis": "x2",
         "yaxis": "y2"
        },
        {
         "alignmentgroup": "True",
         "bingroup": "x",
         "hovertemplate": "year_q=2021_1<br>used_to_all=%{x}<br>count=%{y}<extra></extra>",
         "legendgroup": "2021_1",
         "marker": {
          "color": "#19d3f3",
          "pattern": {
           "shape": ""
          }
         },
         "name": "2021_1",
         "offsetgroup": "2021_1",
         "orientation": "v",
         "showlegend": true,
         "type": "histogram",
         "x": [
          0.9,
          0.97,
          0.87,
          0.77,
          0.94,
          0.9,
          0.87,
          0.94,
          0.77,
          0.87,
          0.71,
          0.87,
          0.77,
          0.77,
          0.87,
          0.97,
          0.77,
          0.77,
          0.74,
          0.96,
          0.96,
          0.96,
          0.92,
          0.96,
          0.96,
          0.96,
          0.96,
          0.88,
          0.96,
          0.92,
          0.96,
          0.92,
          0.92,
          0.96,
          0.96,
          0.88,
          0.88,
          0.88,
          0.97,
          0.97,
          0.97,
          0.97,
          0.97,
          0.97,
          0.97,
          0.97,
          0.97,
          0.97,
          0.97,
          0.97,
          0.95,
          0.97,
          0.97,
          0.97,
          0.97,
          0.97,
          0.97
         ],
         "xaxis": "x",
         "yaxis": "y"
        },
        {
         "alignmentgroup": "True",
         "boxpoints": "all",
         "customdata": [
          [
           "2021_1",
           "non_accelerated_filer",
           "roe"
          ],
          [
           "2021_1",
           "non_accelerated_filer",
           "roa"
          ],
          [
           "2021_1",
           "non_accelerated_filer",
           "roce"
          ],
          [
           "2021_1",
           "non_accelerated_filer",
           "gross_margin"
          ],
          [
           "2021_1",
           "non_accelerated_filer",
           "operating_profit_margin"
          ],
          [
           "2021_1",
           "non_accelerated_filer",
           "net_profit_margin"
          ],
          [
           "2021_1",
           "non_accelerated_filer",
           "debt_to_equity"
          ],
          [
           "2021_1",
           "non_accelerated_filer",
           "equity"
          ],
          [
           "2021_1",
           "non_accelerated_filer",
           "debt"
          ],
          [
           "2021_1",
           "non_accelerated_filer",
           "current"
          ],
          [
           "2021_1",
           "non_accelerated_filer",
           "quick"
          ],
          [
           "2021_1",
           "non_accelerated_filer",
           "cash"
          ],
          [
           "2021_1",
           "non_accelerated_filer",
           "times_interest_earned"
          ],
          [
           "2021_1",
           "non_accelerated_filer",
           "capex_to_operating_cash"
          ],
          [
           "2021_1",
           "non_accelerated_filer",
           "operating_cash_flow"
          ],
          [
           "2021_1",
           "non_accelerated_filer",
           "price_to_earnings"
          ],
          [
           "2021_1",
           "non_accelerated_filer",
           "ev_ebitda"
          ],
          [
           "2021_1",
           "non_accelerated_filer",
           "ev_ebit"
          ],
          [
           "2021_1",
           "non_accelerated_filer",
           "ev_revenue"
          ],
          [
           "2021_1",
           "accelerated_filer",
           "roe"
          ],
          [
           "2021_1",
           "accelerated_filer",
           "roa"
          ],
          [
           "2021_1",
           "accelerated_filer",
           "roce"
          ],
          [
           "2021_1",
           "accelerated_filer",
           "gross_margin"
          ],
          [
           "2021_1",
           "accelerated_filer",
           "operating_profit_margin"
          ],
          [
           "2021_1",
           "accelerated_filer",
           "net_profit_margin"
          ],
          [
           "2021_1",
           "accelerated_filer",
           "debt_to_equity"
          ],
          [
           "2021_1",
           "accelerated_filer",
           "equity"
          ],
          [
           "2021_1",
           "accelerated_filer",
           "debt"
          ],
          [
           "2021_1",
           "accelerated_filer",
           "current"
          ],
          [
           "2021_1",
           "accelerated_filer",
           "quick"
          ],
          [
           "2021_1",
           "accelerated_filer",
           "cash"
          ],
          [
           "2021_1",
           "accelerated_filer",
           "times_interest_earned"
          ],
          [
           "2021_1",
           "accelerated_filer",
           "capex_to_operating_cash"
          ],
          [
           "2021_1",
           "accelerated_filer",
           "operating_cash_flow"
          ],
          [
           "2021_1",
           "accelerated_filer",
           "price_to_earnings"
          ],
          [
           "2021_1",
           "accelerated_filer",
           "ev_ebitda"
          ],
          [
           "2021_1",
           "accelerated_filer",
           "ev_ebit"
          ],
          [
           "2021_1",
           "accelerated_filer",
           "ev_revenue"
          ],
          [
           "2021_1",
           "large_accelerated_filer",
           "roe"
          ],
          [
           "2021_1",
           "large_accelerated_filer",
           "roa"
          ],
          [
           "2021_1",
           "large_accelerated_filer",
           "roce"
          ],
          [
           "2021_1",
           "large_accelerated_filer",
           "gross_margin"
          ],
          [
           "2021_1",
           "large_accelerated_filer",
           "operating_profit_margin"
          ],
          [
           "2021_1",
           "large_accelerated_filer",
           "net_profit_margin"
          ],
          [
           "2021_1",
           "large_accelerated_filer",
           "debt_to_equity"
          ],
          [
           "2021_1",
           "large_accelerated_filer",
           "equity"
          ],
          [
           "2021_1",
           "large_accelerated_filer",
           "debt"
          ],
          [
           "2021_1",
           "large_accelerated_filer",
           "current"
          ],
          [
           "2021_1",
           "large_accelerated_filer",
           "quick"
          ],
          [
           "2021_1",
           "large_accelerated_filer",
           "cash"
          ],
          [
           "2021_1",
           "large_accelerated_filer",
           "times_interest_earned"
          ],
          [
           "2021_1",
           "large_accelerated_filer",
           "capex_to_operating_cash"
          ],
          [
           "2021_1",
           "large_accelerated_filer",
           "operating_cash_flow"
          ],
          [
           "2021_1",
           "large_accelerated_filer",
           "price_to_earnings"
          ],
          [
           "2021_1",
           "large_accelerated_filer",
           "ev_ebitda"
          ],
          [
           "2021_1",
           "large_accelerated_filer",
           "ev_ebit"
          ],
          [
           "2021_1",
           "large_accelerated_filer",
           "ev_revenue"
          ]
         ],
         "fillcolor": "rgba(255,255,255,0)",
         "hoveron": "points",
         "hovertemplate": "year_q=%{customdata[0]}<br>used_to_all=%{x}<br>filer_type=%{customdata[1]}<br>kpi=%{customdata[2]}<extra></extra>",
         "jitter": 0,
         "legendgroup": "2021_1",
         "line": {
          "color": "rgba(255,255,255,0)"
         },
         "marker": {
          "color": "#19d3f3",
          "symbol": "line-ns-open"
         },
         "name": "2021_1",
         "offsetgroup": "2021_1",
         "showlegend": false,
         "type": "box",
         "x": [
          0.9,
          0.97,
          0.87,
          0.77,
          0.94,
          0.9,
          0.87,
          0.94,
          0.77,
          0.87,
          0.71,
          0.87,
          0.77,
          0.77,
          0.87,
          0.97,
          0.77,
          0.77,
          0.74,
          0.96,
          0.96,
          0.96,
          0.92,
          0.96,
          0.96,
          0.96,
          0.96,
          0.88,
          0.96,
          0.92,
          0.96,
          0.92,
          0.92,
          0.96,
          0.96,
          0.88,
          0.88,
          0.88,
          0.97,
          0.97,
          0.97,
          0.97,
          0.97,
          0.97,
          0.97,
          0.97,
          0.97,
          0.97,
          0.97,
          0.97,
          0.95,
          0.97,
          0.97,
          0.97,
          0.97,
          0.97,
          0.97
         ],
         "xaxis": "x2",
         "yaxis": "y2"
        },
        {
         "alignmentgroup": "True",
         "bingroup": "x",
         "hovertemplate": "year_q=2021_2<br>used_to_all=%{x}<br>count=%{y}<extra></extra>",
         "legendgroup": "2021_2",
         "marker": {
          "color": "#FF6692",
          "pattern": {
           "shape": ""
          }
         },
         "name": "2021_2",
         "offsetgroup": "2021_2",
         "orientation": "v",
         "showlegend": true,
         "type": "histogram",
         "x": [
          0.77,
          0.77,
          0.71,
          0.63,
          0.74,
          0.74,
          0.71,
          0.77,
          0.66,
          0.71,
          0.6,
          0.71,
          0.63,
          0.66,
          0.71,
          0.77,
          0.66,
          0.66,
          0.63,
          0.93,
          0.93,
          0.93,
          0.89,
          0.93,
          0.93,
          0.93,
          0.93,
          0.86,
          0.93,
          0.86,
          0.89,
          0.89,
          0.89,
          0.93,
          0.93,
          0.82,
          0.82,
          0.82,
          0.97,
          0.97,
          0.97,
          0.97,
          1,
          1,
          0.97,
          0.97,
          0.97,
          0.97,
          0.97,
          0.97,
          0.97,
          0.97,
          0.97,
          0.97,
          0.97,
          0.97,
          0.97
         ],
         "xaxis": "x",
         "yaxis": "y"
        },
        {
         "alignmentgroup": "True",
         "boxpoints": "all",
         "customdata": [
          [
           "2021_2",
           "non_accelerated_filer",
           "roe"
          ],
          [
           "2021_2",
           "non_accelerated_filer",
           "roa"
          ],
          [
           "2021_2",
           "non_accelerated_filer",
           "roce"
          ],
          [
           "2021_2",
           "non_accelerated_filer",
           "gross_margin"
          ],
          [
           "2021_2",
           "non_accelerated_filer",
           "operating_profit_margin"
          ],
          [
           "2021_2",
           "non_accelerated_filer",
           "net_profit_margin"
          ],
          [
           "2021_2",
           "non_accelerated_filer",
           "debt_to_equity"
          ],
          [
           "2021_2",
           "non_accelerated_filer",
           "equity"
          ],
          [
           "2021_2",
           "non_accelerated_filer",
           "debt"
          ],
          [
           "2021_2",
           "non_accelerated_filer",
           "current"
          ],
          [
           "2021_2",
           "non_accelerated_filer",
           "quick"
          ],
          [
           "2021_2",
           "non_accelerated_filer",
           "cash"
          ],
          [
           "2021_2",
           "non_accelerated_filer",
           "times_interest_earned"
          ],
          [
           "2021_2",
           "non_accelerated_filer",
           "capex_to_operating_cash"
          ],
          [
           "2021_2",
           "non_accelerated_filer",
           "operating_cash_flow"
          ],
          [
           "2021_2",
           "non_accelerated_filer",
           "price_to_earnings"
          ],
          [
           "2021_2",
           "non_accelerated_filer",
           "ev_ebitda"
          ],
          [
           "2021_2",
           "non_accelerated_filer",
           "ev_ebit"
          ],
          [
           "2021_2",
           "non_accelerated_filer",
           "ev_revenue"
          ],
          [
           "2021_2",
           "accelerated_filer",
           "roe"
          ],
          [
           "2021_2",
           "accelerated_filer",
           "roa"
          ],
          [
           "2021_2",
           "accelerated_filer",
           "roce"
          ],
          [
           "2021_2",
           "accelerated_filer",
           "gross_margin"
          ],
          [
           "2021_2",
           "accelerated_filer",
           "operating_profit_margin"
          ],
          [
           "2021_2",
           "accelerated_filer",
           "net_profit_margin"
          ],
          [
           "2021_2",
           "accelerated_filer",
           "debt_to_equity"
          ],
          [
           "2021_2",
           "accelerated_filer",
           "equity"
          ],
          [
           "2021_2",
           "accelerated_filer",
           "debt"
          ],
          [
           "2021_2",
           "accelerated_filer",
           "current"
          ],
          [
           "2021_2",
           "accelerated_filer",
           "quick"
          ],
          [
           "2021_2",
           "accelerated_filer",
           "cash"
          ],
          [
           "2021_2",
           "accelerated_filer",
           "times_interest_earned"
          ],
          [
           "2021_2",
           "accelerated_filer",
           "capex_to_operating_cash"
          ],
          [
           "2021_2",
           "accelerated_filer",
           "operating_cash_flow"
          ],
          [
           "2021_2",
           "accelerated_filer",
           "price_to_earnings"
          ],
          [
           "2021_2",
           "accelerated_filer",
           "ev_ebitda"
          ],
          [
           "2021_2",
           "accelerated_filer",
           "ev_ebit"
          ],
          [
           "2021_2",
           "accelerated_filer",
           "ev_revenue"
          ],
          [
           "2021_2",
           "large_accelerated_filer",
           "roe"
          ],
          [
           "2021_2",
           "large_accelerated_filer",
           "roa"
          ],
          [
           "2021_2",
           "large_accelerated_filer",
           "roce"
          ],
          [
           "2021_2",
           "large_accelerated_filer",
           "gross_margin"
          ],
          [
           "2021_2",
           "large_accelerated_filer",
           "operating_profit_margin"
          ],
          [
           "2021_2",
           "large_accelerated_filer",
           "net_profit_margin"
          ],
          [
           "2021_2",
           "large_accelerated_filer",
           "debt_to_equity"
          ],
          [
           "2021_2",
           "large_accelerated_filer",
           "equity"
          ],
          [
           "2021_2",
           "large_accelerated_filer",
           "debt"
          ],
          [
           "2021_2",
           "large_accelerated_filer",
           "current"
          ],
          [
           "2021_2",
           "large_accelerated_filer",
           "quick"
          ],
          [
           "2021_2",
           "large_accelerated_filer",
           "cash"
          ],
          [
           "2021_2",
           "large_accelerated_filer",
           "times_interest_earned"
          ],
          [
           "2021_2",
           "large_accelerated_filer",
           "capex_to_operating_cash"
          ],
          [
           "2021_2",
           "large_accelerated_filer",
           "operating_cash_flow"
          ],
          [
           "2021_2",
           "large_accelerated_filer",
           "price_to_earnings"
          ],
          [
           "2021_2",
           "large_accelerated_filer",
           "ev_ebitda"
          ],
          [
           "2021_2",
           "large_accelerated_filer",
           "ev_ebit"
          ],
          [
           "2021_2",
           "large_accelerated_filer",
           "ev_revenue"
          ]
         ],
         "fillcolor": "rgba(255,255,255,0)",
         "hoveron": "points",
         "hovertemplate": "year_q=%{customdata[0]}<br>used_to_all=%{x}<br>filer_type=%{customdata[1]}<br>kpi=%{customdata[2]}<extra></extra>",
         "jitter": 0,
         "legendgroup": "2021_2",
         "line": {
          "color": "rgba(255,255,255,0)"
         },
         "marker": {
          "color": "#FF6692",
          "symbol": "line-ns-open"
         },
         "name": "2021_2",
         "offsetgroup": "2021_2",
         "showlegend": false,
         "type": "box",
         "x": [
          0.77,
          0.77,
          0.71,
          0.63,
          0.74,
          0.74,
          0.71,
          0.77,
          0.66,
          0.71,
          0.6,
          0.71,
          0.63,
          0.66,
          0.71,
          0.77,
          0.66,
          0.66,
          0.63,
          0.93,
          0.93,
          0.93,
          0.89,
          0.93,
          0.93,
          0.93,
          0.93,
          0.86,
          0.93,
          0.86,
          0.89,
          0.89,
          0.89,
          0.93,
          0.93,
          0.82,
          0.82,
          0.82,
          0.97,
          0.97,
          0.97,
          0.97,
          1,
          1,
          0.97,
          0.97,
          0.97,
          0.97,
          0.97,
          0.97,
          0.97,
          0.97,
          0.97,
          0.97,
          0.97,
          0.97,
          0.97
         ],
         "xaxis": "x2",
         "yaxis": "y2"
        },
        {
         "alignmentgroup": "True",
         "bingroup": "x",
         "hovertemplate": "year_q=2021_3<br>used_to_all=%{x}<br>count=%{y}<extra></extra>",
         "legendgroup": "2021_3",
         "marker": {
          "color": "#B6E880",
          "pattern": {
           "shape": ""
          }
         },
         "name": "2021_3",
         "offsetgroup": "2021_3",
         "orientation": "v",
         "showlegend": true,
         "type": "histogram",
         "x": [
          0.79,
          0.79,
          0.73,
          0.64,
          0.76,
          0.76,
          0.76,
          0.82,
          0.67,
          0.73,
          0.61,
          0.73,
          0.61,
          0.67,
          0.73,
          0.79,
          0.67,
          0.67,
          0.64,
          0.96,
          0.96,
          0.96,
          0.96,
          0.96,
          0.96,
          1,
          1,
          0.93,
          1,
          0.93,
          0.96,
          0.96,
          0.96,
          1,
          0.96,
          0.89,
          0.89,
          0.89,
          1,
          1,
          1,
          1,
          1,
          1,
          1,
          1,
          1,
          1,
          1,
          1,
          0.97,
          1,
          1,
          1,
          1,
          1,
          1
         ],
         "xaxis": "x",
         "yaxis": "y"
        },
        {
         "alignmentgroup": "True",
         "boxpoints": "all",
         "customdata": [
          [
           "2021_3",
           "non_accelerated_filer",
           "roe"
          ],
          [
           "2021_3",
           "non_accelerated_filer",
           "roa"
          ],
          [
           "2021_3",
           "non_accelerated_filer",
           "roce"
          ],
          [
           "2021_3",
           "non_accelerated_filer",
           "gross_margin"
          ],
          [
           "2021_3",
           "non_accelerated_filer",
           "operating_profit_margin"
          ],
          [
           "2021_3",
           "non_accelerated_filer",
           "net_profit_margin"
          ],
          [
           "2021_3",
           "non_accelerated_filer",
           "debt_to_equity"
          ],
          [
           "2021_3",
           "non_accelerated_filer",
           "equity"
          ],
          [
           "2021_3",
           "non_accelerated_filer",
           "debt"
          ],
          [
           "2021_3",
           "non_accelerated_filer",
           "current"
          ],
          [
           "2021_3",
           "non_accelerated_filer",
           "quick"
          ],
          [
           "2021_3",
           "non_accelerated_filer",
           "cash"
          ],
          [
           "2021_3",
           "non_accelerated_filer",
           "times_interest_earned"
          ],
          [
           "2021_3",
           "non_accelerated_filer",
           "capex_to_operating_cash"
          ],
          [
           "2021_3",
           "non_accelerated_filer",
           "operating_cash_flow"
          ],
          [
           "2021_3",
           "non_accelerated_filer",
           "price_to_earnings"
          ],
          [
           "2021_3",
           "non_accelerated_filer",
           "ev_ebitda"
          ],
          [
           "2021_3",
           "non_accelerated_filer",
           "ev_ebit"
          ],
          [
           "2021_3",
           "non_accelerated_filer",
           "ev_revenue"
          ],
          [
           "2021_3",
           "accelerated_filer",
           "roe"
          ],
          [
           "2021_3",
           "accelerated_filer",
           "roa"
          ],
          [
           "2021_3",
           "accelerated_filer",
           "roce"
          ],
          [
           "2021_3",
           "accelerated_filer",
           "gross_margin"
          ],
          [
           "2021_3",
           "accelerated_filer",
           "operating_profit_margin"
          ],
          [
           "2021_3",
           "accelerated_filer",
           "net_profit_margin"
          ],
          [
           "2021_3",
           "accelerated_filer",
           "debt_to_equity"
          ],
          [
           "2021_3",
           "accelerated_filer",
           "equity"
          ],
          [
           "2021_3",
           "accelerated_filer",
           "debt"
          ],
          [
           "2021_3",
           "accelerated_filer",
           "current"
          ],
          [
           "2021_3",
           "accelerated_filer",
           "quick"
          ],
          [
           "2021_3",
           "accelerated_filer",
           "cash"
          ],
          [
           "2021_3",
           "accelerated_filer",
           "times_interest_earned"
          ],
          [
           "2021_3",
           "accelerated_filer",
           "capex_to_operating_cash"
          ],
          [
           "2021_3",
           "accelerated_filer",
           "operating_cash_flow"
          ],
          [
           "2021_3",
           "accelerated_filer",
           "price_to_earnings"
          ],
          [
           "2021_3",
           "accelerated_filer",
           "ev_ebitda"
          ],
          [
           "2021_3",
           "accelerated_filer",
           "ev_ebit"
          ],
          [
           "2021_3",
           "accelerated_filer",
           "ev_revenue"
          ],
          [
           "2021_3",
           "large_accelerated_filer",
           "roe"
          ],
          [
           "2021_3",
           "large_accelerated_filer",
           "roa"
          ],
          [
           "2021_3",
           "large_accelerated_filer",
           "roce"
          ],
          [
           "2021_3",
           "large_accelerated_filer",
           "gross_margin"
          ],
          [
           "2021_3",
           "large_accelerated_filer",
           "operating_profit_margin"
          ],
          [
           "2021_3",
           "large_accelerated_filer",
           "net_profit_margin"
          ],
          [
           "2021_3",
           "large_accelerated_filer",
           "debt_to_equity"
          ],
          [
           "2021_3",
           "large_accelerated_filer",
           "equity"
          ],
          [
           "2021_3",
           "large_accelerated_filer",
           "debt"
          ],
          [
           "2021_3",
           "large_accelerated_filer",
           "current"
          ],
          [
           "2021_3",
           "large_accelerated_filer",
           "quick"
          ],
          [
           "2021_3",
           "large_accelerated_filer",
           "cash"
          ],
          [
           "2021_3",
           "large_accelerated_filer",
           "times_interest_earned"
          ],
          [
           "2021_3",
           "large_accelerated_filer",
           "capex_to_operating_cash"
          ],
          [
           "2021_3",
           "large_accelerated_filer",
           "operating_cash_flow"
          ],
          [
           "2021_3",
           "large_accelerated_filer",
           "price_to_earnings"
          ],
          [
           "2021_3",
           "large_accelerated_filer",
           "ev_ebitda"
          ],
          [
           "2021_3",
           "large_accelerated_filer",
           "ev_ebit"
          ],
          [
           "2021_3",
           "large_accelerated_filer",
           "ev_revenue"
          ]
         ],
         "fillcolor": "rgba(255,255,255,0)",
         "hoveron": "points",
         "hovertemplate": "year_q=%{customdata[0]}<br>used_to_all=%{x}<br>filer_type=%{customdata[1]}<br>kpi=%{customdata[2]}<extra></extra>",
         "jitter": 0,
         "legendgroup": "2021_3",
         "line": {
          "color": "rgba(255,255,255,0)"
         },
         "marker": {
          "color": "#B6E880",
          "symbol": "line-ns-open"
         },
         "name": "2021_3",
         "offsetgroup": "2021_3",
         "showlegend": false,
         "type": "box",
         "x": [
          0.79,
          0.79,
          0.73,
          0.64,
          0.76,
          0.76,
          0.76,
          0.82,
          0.67,
          0.73,
          0.61,
          0.73,
          0.61,
          0.67,
          0.73,
          0.79,
          0.67,
          0.67,
          0.64,
          0.96,
          0.96,
          0.96,
          0.96,
          0.96,
          0.96,
          1,
          1,
          0.93,
          1,
          0.93,
          0.96,
          0.96,
          0.96,
          1,
          0.96,
          0.89,
          0.89,
          0.89,
          1,
          1,
          1,
          1,
          1,
          1,
          1,
          1,
          1,
          1,
          1,
          1,
          0.97,
          1,
          1,
          1,
          1,
          1,
          1
         ],
         "xaxis": "x2",
         "yaxis": "y2"
        }
       ],
       "layout": {
        "barmode": "relative",
        "legend": {
         "title": {
          "text": "year_q"
         },
         "tracegroupgap": 0
        },
        "template": {
         "data": {
          "bar": [
           {
            "error_x": {
             "color": "#2a3f5f"
            },
            "error_y": {
             "color": "#2a3f5f"
            },
            "marker": {
             "line": {
              "color": "#E5ECF6",
              "width": 0.5
             },
             "pattern": {
              "fillmode": "overlay",
              "size": 10,
              "solidity": 0.2
             }
            },
            "type": "bar"
           }
          ],
          "barpolar": [
           {
            "marker": {
             "line": {
              "color": "#E5ECF6",
              "width": 0.5
             },
             "pattern": {
              "fillmode": "overlay",
              "size": 10,
              "solidity": 0.2
             }
            },
            "type": "barpolar"
           }
          ],
          "carpet": [
           {
            "aaxis": {
             "endlinecolor": "#2a3f5f",
             "gridcolor": "white",
             "linecolor": "white",
             "minorgridcolor": "white",
             "startlinecolor": "#2a3f5f"
            },
            "baxis": {
             "endlinecolor": "#2a3f5f",
             "gridcolor": "white",
             "linecolor": "white",
             "minorgridcolor": "white",
             "startlinecolor": "#2a3f5f"
            },
            "type": "carpet"
           }
          ],
          "choropleth": [
           {
            "colorbar": {
             "outlinewidth": 0,
             "ticks": ""
            },
            "type": "choropleth"
           }
          ],
          "contour": [
           {
            "colorbar": {
             "outlinewidth": 0,
             "ticks": ""
            },
            "colorscale": [
             [
              0,
              "#0d0887"
             ],
             [
              0.1111111111111111,
              "#46039f"
             ],
             [
              0.2222222222222222,
              "#7201a8"
             ],
             [
              0.3333333333333333,
              "#9c179e"
             ],
             [
              0.4444444444444444,
              "#bd3786"
             ],
             [
              0.5555555555555556,
              "#d8576b"
             ],
             [
              0.6666666666666666,
              "#ed7953"
             ],
             [
              0.7777777777777778,
              "#fb9f3a"
             ],
             [
              0.8888888888888888,
              "#fdca26"
             ],
             [
              1,
              "#f0f921"
             ]
            ],
            "type": "contour"
           }
          ],
          "contourcarpet": [
           {
            "colorbar": {
             "outlinewidth": 0,
             "ticks": ""
            },
            "type": "contourcarpet"
           }
          ],
          "heatmap": [
           {
            "colorbar": {
             "outlinewidth": 0,
             "ticks": ""
            },
            "colorscale": [
             [
              0,
              "#0d0887"
             ],
             [
              0.1111111111111111,
              "#46039f"
             ],
             [
              0.2222222222222222,
              "#7201a8"
             ],
             [
              0.3333333333333333,
              "#9c179e"
             ],
             [
              0.4444444444444444,
              "#bd3786"
             ],
             [
              0.5555555555555556,
              "#d8576b"
             ],
             [
              0.6666666666666666,
              "#ed7953"
             ],
             [
              0.7777777777777778,
              "#fb9f3a"
             ],
             [
              0.8888888888888888,
              "#fdca26"
             ],
             [
              1,
              "#f0f921"
             ]
            ],
            "type": "heatmap"
           }
          ],
          "heatmapgl": [
           {
            "colorbar": {
             "outlinewidth": 0,
             "ticks": ""
            },
            "colorscale": [
             [
              0,
              "#0d0887"
             ],
             [
              0.1111111111111111,
              "#46039f"
             ],
             [
              0.2222222222222222,
              "#7201a8"
             ],
             [
              0.3333333333333333,
              "#9c179e"
             ],
             [
              0.4444444444444444,
              "#bd3786"
             ],
             [
              0.5555555555555556,
              "#d8576b"
             ],
             [
              0.6666666666666666,
              "#ed7953"
             ],
             [
              0.7777777777777778,
              "#fb9f3a"
             ],
             [
              0.8888888888888888,
              "#fdca26"
             ],
             [
              1,
              "#f0f921"
             ]
            ],
            "type": "heatmapgl"
           }
          ],
          "histogram": [
           {
            "marker": {
             "pattern": {
              "fillmode": "overlay",
              "size": 10,
              "solidity": 0.2
             }
            },
            "type": "histogram"
           }
          ],
          "histogram2d": [
           {
            "colorbar": {
             "outlinewidth": 0,
             "ticks": ""
            },
            "colorscale": [
             [
              0,
              "#0d0887"
             ],
             [
              0.1111111111111111,
              "#46039f"
             ],
             [
              0.2222222222222222,
              "#7201a8"
             ],
             [
              0.3333333333333333,
              "#9c179e"
             ],
             [
              0.4444444444444444,
              "#bd3786"
             ],
             [
              0.5555555555555556,
              "#d8576b"
             ],
             [
              0.6666666666666666,
              "#ed7953"
             ],
             [
              0.7777777777777778,
              "#fb9f3a"
             ],
             [
              0.8888888888888888,
              "#fdca26"
             ],
             [
              1,
              "#f0f921"
             ]
            ],
            "type": "histogram2d"
           }
          ],
          "histogram2dcontour": [
           {
            "colorbar": {
             "outlinewidth": 0,
             "ticks": ""
            },
            "colorscale": [
             [
              0,
              "#0d0887"
             ],
             [
              0.1111111111111111,
              "#46039f"
             ],
             [
              0.2222222222222222,
              "#7201a8"
             ],
             [
              0.3333333333333333,
              "#9c179e"
             ],
             [
              0.4444444444444444,
              "#bd3786"
             ],
             [
              0.5555555555555556,
              "#d8576b"
             ],
             [
              0.6666666666666666,
              "#ed7953"
             ],
             [
              0.7777777777777778,
              "#fb9f3a"
             ],
             [
              0.8888888888888888,
              "#fdca26"
             ],
             [
              1,
              "#f0f921"
             ]
            ],
            "type": "histogram2dcontour"
           }
          ],
          "mesh3d": [
           {
            "colorbar": {
             "outlinewidth": 0,
             "ticks": ""
            },
            "type": "mesh3d"
           }
          ],
          "parcoords": [
           {
            "line": {
             "colorbar": {
              "outlinewidth": 0,
              "ticks": ""
             }
            },
            "type": "parcoords"
           }
          ],
          "pie": [
           {
            "automargin": true,
            "type": "pie"
           }
          ],
          "scatter": [
           {
            "marker": {
             "colorbar": {
              "outlinewidth": 0,
              "ticks": ""
             }
            },
            "type": "scatter"
           }
          ],
          "scatter3d": [
           {
            "line": {
             "colorbar": {
              "outlinewidth": 0,
              "ticks": ""
             }
            },
            "marker": {
             "colorbar": {
              "outlinewidth": 0,
              "ticks": ""
             }
            },
            "type": "scatter3d"
           }
          ],
          "scattercarpet": [
           {
            "marker": {
             "colorbar": {
              "outlinewidth": 0,
              "ticks": ""
             }
            },
            "type": "scattercarpet"
           }
          ],
          "scattergeo": [
           {
            "marker": {
             "colorbar": {
              "outlinewidth": 0,
              "ticks": ""
             }
            },
            "type": "scattergeo"
           }
          ],
          "scattergl": [
           {
            "marker": {
             "colorbar": {
              "outlinewidth": 0,
              "ticks": ""
             }
            },
            "type": "scattergl"
           }
          ],
          "scattermapbox": [
           {
            "marker": {
             "colorbar": {
              "outlinewidth": 0,
              "ticks": ""
             }
            },
            "type": "scattermapbox"
           }
          ],
          "scatterpolar": [
           {
            "marker": {
             "colorbar": {
              "outlinewidth": 0,
              "ticks": ""
             }
            },
            "type": "scatterpolar"
           }
          ],
          "scatterpolargl": [
           {
            "marker": {
             "colorbar": {
              "outlinewidth": 0,
              "ticks": ""
             }
            },
            "type": "scatterpolargl"
           }
          ],
          "scatterternary": [
           {
            "marker": {
             "colorbar": {
              "outlinewidth": 0,
              "ticks": ""
             }
            },
            "type": "scatterternary"
           }
          ],
          "surface": [
           {
            "colorbar": {
             "outlinewidth": 0,
             "ticks": ""
            },
            "colorscale": [
             [
              0,
              "#0d0887"
             ],
             [
              0.1111111111111111,
              "#46039f"
             ],
             [
              0.2222222222222222,
              "#7201a8"
             ],
             [
              0.3333333333333333,
              "#9c179e"
             ],
             [
              0.4444444444444444,
              "#bd3786"
             ],
             [
              0.5555555555555556,
              "#d8576b"
             ],
             [
              0.6666666666666666,
              "#ed7953"
             ],
             [
              0.7777777777777778,
              "#fb9f3a"
             ],
             [
              0.8888888888888888,
              "#fdca26"
             ],
             [
              1,
              "#f0f921"
             ]
            ],
            "type": "surface"
           }
          ],
          "table": [
           {
            "cells": {
             "fill": {
              "color": "#EBF0F8"
             },
             "line": {
              "color": "white"
             }
            },
            "header": {
             "fill": {
              "color": "#C8D4E3"
             },
             "line": {
              "color": "white"
             }
            },
            "type": "table"
           }
          ]
         },
         "layout": {
          "annotationdefaults": {
           "arrowcolor": "#2a3f5f",
           "arrowhead": 0,
           "arrowwidth": 1
          },
          "autotypenumbers": "strict",
          "coloraxis": {
           "colorbar": {
            "outlinewidth": 0,
            "ticks": ""
           }
          },
          "colorscale": {
           "diverging": [
            [
             0,
             "#8e0152"
            ],
            [
             0.1,
             "#c51b7d"
            ],
            [
             0.2,
             "#de77ae"
            ],
            [
             0.3,
             "#f1b6da"
            ],
            [
             0.4,
             "#fde0ef"
            ],
            [
             0.5,
             "#f7f7f7"
            ],
            [
             0.6,
             "#e6f5d0"
            ],
            [
             0.7,
             "#b8e186"
            ],
            [
             0.8,
             "#7fbc41"
            ],
            [
             0.9,
             "#4d9221"
            ],
            [
             1,
             "#276419"
            ]
           ],
           "sequential": [
            [
             0,
             "#0d0887"
            ],
            [
             0.1111111111111111,
             "#46039f"
            ],
            [
             0.2222222222222222,
             "#7201a8"
            ],
            [
             0.3333333333333333,
             "#9c179e"
            ],
            [
             0.4444444444444444,
             "#bd3786"
            ],
            [
             0.5555555555555556,
             "#d8576b"
            ],
            [
             0.6666666666666666,
             "#ed7953"
            ],
            [
             0.7777777777777778,
             "#fb9f3a"
            ],
            [
             0.8888888888888888,
             "#fdca26"
            ],
            [
             1,
             "#f0f921"
            ]
           ],
           "sequentialminus": [
            [
             0,
             "#0d0887"
            ],
            [
             0.1111111111111111,
             "#46039f"
            ],
            [
             0.2222222222222222,
             "#7201a8"
            ],
            [
             0.3333333333333333,
             "#9c179e"
            ],
            [
             0.4444444444444444,
             "#bd3786"
            ],
            [
             0.5555555555555556,
             "#d8576b"
            ],
            [
             0.6666666666666666,
             "#ed7953"
            ],
            [
             0.7777777777777778,
             "#fb9f3a"
            ],
            [
             0.8888888888888888,
             "#fdca26"
            ],
            [
             1,
             "#f0f921"
            ]
           ]
          },
          "colorway": [
           "#636efa",
           "#EF553B",
           "#00cc96",
           "#ab63fa",
           "#FFA15A",
           "#19d3f3",
           "#FF6692",
           "#B6E880",
           "#FF97FF",
           "#FECB52"
          ],
          "font": {
           "color": "#2a3f5f"
          },
          "geo": {
           "bgcolor": "white",
           "lakecolor": "white",
           "landcolor": "#E5ECF6",
           "showlakes": true,
           "showland": true,
           "subunitcolor": "white"
          },
          "hoverlabel": {
           "align": "left"
          },
          "hovermode": "closest",
          "mapbox": {
           "style": "light"
          },
          "paper_bgcolor": "white",
          "plot_bgcolor": "#E5ECF6",
          "polar": {
           "angularaxis": {
            "gridcolor": "white",
            "linecolor": "white",
            "ticks": ""
           },
           "bgcolor": "#E5ECF6",
           "radialaxis": {
            "gridcolor": "white",
            "linecolor": "white",
            "ticks": ""
           }
          },
          "scene": {
           "xaxis": {
            "backgroundcolor": "#E5ECF6",
            "gridcolor": "white",
            "gridwidth": 2,
            "linecolor": "white",
            "showbackground": true,
            "ticks": "",
            "zerolinecolor": "white"
           },
           "yaxis": {
            "backgroundcolor": "#E5ECF6",
            "gridcolor": "white",
            "gridwidth": 2,
            "linecolor": "white",
            "showbackground": true,
            "ticks": "",
            "zerolinecolor": "white"
           },
           "zaxis": {
            "backgroundcolor": "#E5ECF6",
            "gridcolor": "white",
            "gridwidth": 2,
            "linecolor": "white",
            "showbackground": true,
            "ticks": "",
            "zerolinecolor": "white"
           }
          },
          "shapedefaults": {
           "line": {
            "color": "#2a3f5f"
           }
          },
          "ternary": {
           "aaxis": {
            "gridcolor": "white",
            "linecolor": "white",
            "ticks": ""
           },
           "baxis": {
            "gridcolor": "white",
            "linecolor": "white",
            "ticks": ""
           },
           "bgcolor": "#E5ECF6",
           "caxis": {
            "gridcolor": "white",
            "linecolor": "white",
            "ticks": ""
           }
          },
          "title": {
           "x": 0.05
          },
          "xaxis": {
           "automargin": true,
           "gridcolor": "white",
           "linecolor": "white",
           "ticks": "",
           "title": {
            "standoff": 15
           },
           "zerolinecolor": "white",
           "zerolinewidth": 2
          },
          "yaxis": {
           "automargin": true,
           "gridcolor": "white",
           "linecolor": "white",
           "ticks": "",
           "title": {
            "standoff": 15
           },
           "zerolinecolor": "white",
           "zerolinewidth": 2
          }
         }
        },
        "title": {
         "text": "Percentage used KPIs from all for calculating mean/median | color: year Q"
        },
        "xaxis": {
         "anchor": "y",
         "domain": [
          0,
          1
         ],
         "title": {
          "text": "used_to_all"
         }
        },
        "xaxis2": {
         "anchor": "y2",
         "domain": [
          0,
          1
         ],
         "matches": "x",
         "showgrid": true,
         "showticklabels": false
        },
        "yaxis": {
         "anchor": "x",
         "domain": [
          0,
          0.7326
         ],
         "title": {
          "text": "count"
         }
        },
        "yaxis2": {
         "anchor": "x2",
         "domain": [
          0.7426,
          1
         ],
         "matches": "y2",
         "showgrid": false,
         "showline": false,
         "showticklabels": false,
         "ticks": ""
        }
       }
      }
     },
     "metadata": {},
     "output_type": "display_data"
    }
   ],
   "source": [
    "import plotly.express as px\n",
    "\n",
    "fig = px.histogram(df_for_plot, x=\"used_to_all\", color=\"year_q\", marginal=\"rug\",\n",
    "                   hover_data=df_for_plot.columns, title=\"Percentage used KPIs from all for calculating mean/median | color: year Q\")\n",
    "fig.show()"
   ]
  },
  {
   "cell_type": "code",
   "execution_count": 36,
   "metadata": {},
   "outputs": [
    {
     "data": {
      "application/vnd.plotly.v1+json": {
       "config": {
        "plotlyServerURL": "https://plot.ly"
       },
       "data": [
        {
         "alignmentgroup": "True",
         "bingroup": "x",
         "hovertemplate": "filer_type=accelerated_filer<br>used_to_all=%{x}<br>count=%{y}<extra></extra>",
         "legendgroup": "accelerated_filer",
         "marker": {
          "color": "#636efa",
          "pattern": {
           "shape": ""
          }
         },
         "name": "accelerated_filer",
         "offsetgroup": "accelerated_filer",
         "orientation": "v",
         "showlegend": true,
         "type": "histogram",
         "x": [
          0.85,
          0.88,
          0.82,
          0.79,
          0.85,
          0.85,
          0.88,
          0.91,
          0.68,
          0.91,
          0.74,
          0.91,
          0.68,
          0.68,
          0.82,
          0.88,
          0.65,
          0.65,
          0.62,
          0.94,
          0.97,
          0.91,
          0.91,
          0.94,
          0.94,
          0.91,
          0.94,
          0.74,
          0.91,
          0.71,
          0.91,
          0.79,
          0.79,
          0.88,
          0.97,
          0.74,
          0.74,
          0.68,
          0.97,
          0.97,
          0.91,
          0.91,
          0.91,
          0.91,
          0.91,
          0.97,
          0.71,
          0.91,
          0.68,
          0.91,
          0.76,
          0.74,
          0.91,
          0.97,
          0.71,
          0.71,
          0.68,
          1,
          1,
          0.94,
          0.97,
          0.97,
          0.97,
          0.94,
          1,
          0.75,
          0.94,
          0.78,
          0.94,
          0.78,
          0.75,
          0.94,
          1,
          0.69,
          0.75,
          0.75,
          0.95,
          0.95,
          0.89,
          0.89,
          0.89,
          0.89,
          0.89,
          0.95,
          0.74,
          0.89,
          0.74,
          0.89,
          0.74,
          0.76,
          0.89,
          0.95,
          0.68,
          0.74,
          0.71,
          0.97,
          0.97,
          0.95,
          0.92,
          0.92,
          0.92,
          0.95,
          0.97,
          0.76,
          0.95,
          0.78,
          0.95,
          0.78,
          0.81,
          0.92,
          0.97,
          0.7,
          0.76,
          0.73,
          1,
          1,
          0.95,
          0.97,
          0.97,
          0.97,
          0.95,
          1,
          0.73,
          0.95,
          0.78,
          0.95,
          0.78,
          0.78,
          0.95,
          1,
          0.68,
          0.73,
          0.73,
          0.86,
          0.86,
          0.83,
          0.83,
          0.83,
          0.83,
          0.83,
          0.86,
          0.66,
          0.83,
          0.69,
          0.83,
          0.69,
          0.71,
          0.83,
          0.86,
          0.63,
          0.66,
          0.66,
          0.97,
          0.97,
          0.91,
          0.94,
          0.94,
          0.94,
          0.91,
          0.97,
          0.77,
          0.91,
          0.71,
          0.91,
          0.77,
          0.77,
          0.91,
          0.97,
          0.77,
          0.77,
          0.74,
          0.97,
          1,
          0.94,
          0.97,
          0.97,
          0.97,
          0.94,
          0.97,
          0.8,
          0.94,
          0.74,
          0.94,
          0.77,
          0.8,
          0.91,
          1,
          0.8,
          0.8,
          0.77,
          0.74,
          0.77,
          0.77,
          0.74,
          0.74,
          0.74,
          0.74,
          0.74,
          0.69,
          0.77,
          0.63,
          0.77,
          0.66,
          0.69,
          0.74,
          0.77,
          0.69,
          0.69,
          0.66,
          0.97,
          0.97,
          0.97,
          0.94,
          0.94,
          0.94,
          0.97,
          0.97,
          0.84,
          0.97,
          0.78,
          0.94,
          0.81,
          0.84,
          0.97,
          0.97,
          0.78,
          0.81,
          0.78,
          0.56,
          0.56,
          0.56,
          0.56,
          0.56,
          0.56,
          0.56,
          0.56,
          0.56,
          0.56,
          0.53,
          0.56,
          0.56,
          0.56,
          0.56,
          0.56,
          0.56,
          0.56,
          0.56,
          0.81,
          0.81,
          0.81,
          0.78,
          0.78,
          0.78,
          0.81,
          0.81,
          0.81,
          0.81,
          0.75,
          0.81,
          0.78,
          0.81,
          0.81,
          0.81,
          0.81,
          0.81,
          0.78,
          0.91,
          0.91,
          0.91,
          0.81,
          0.84,
          0.84,
          0.91,
          0.91,
          0.81,
          0.91,
          0.72,
          0.91,
          0.78,
          0.78,
          0.91,
          0.91,
          0.81,
          0.81,
          0.78,
          0.96,
          0.96,
          0.96,
          0.92,
          0.96,
          0.96,
          0.96,
          0.96,
          0.88,
          0.96,
          0.92,
          0.96,
          0.92,
          0.92,
          0.96,
          0.96,
          0.88,
          0.88,
          0.88,
          0.93,
          0.93,
          0.93,
          0.89,
          0.93,
          0.93,
          0.93,
          0.93,
          0.86,
          0.93,
          0.86,
          0.89,
          0.89,
          0.89,
          0.93,
          0.93,
          0.82,
          0.82,
          0.82,
          0.96,
          0.96,
          0.96,
          0.96,
          0.96,
          0.96,
          1,
          1,
          0.93,
          1,
          0.93,
          0.96,
          0.96,
          0.96,
          1,
          0.96,
          0.89,
          0.89,
          0.89
         ],
         "xaxis": "x",
         "yaxis": "y"
        },
        {
         "alignmentgroup": "True",
         "boxpoints": "all",
         "customdata": [
          [
           "2017_2",
           "accelerated_filer",
           "roe"
          ],
          [
           "2017_2",
           "accelerated_filer",
           "roa"
          ],
          [
           "2017_2",
           "accelerated_filer",
           "roce"
          ],
          [
           "2017_2",
           "accelerated_filer",
           "gross_margin"
          ],
          [
           "2017_2",
           "accelerated_filer",
           "operating_profit_margin"
          ],
          [
           "2017_2",
           "accelerated_filer",
           "net_profit_margin"
          ],
          [
           "2017_2",
           "accelerated_filer",
           "debt_to_equity"
          ],
          [
           "2017_2",
           "accelerated_filer",
           "equity"
          ],
          [
           "2017_2",
           "accelerated_filer",
           "debt"
          ],
          [
           "2017_2",
           "accelerated_filer",
           "current"
          ],
          [
           "2017_2",
           "accelerated_filer",
           "quick"
          ],
          [
           "2017_2",
           "accelerated_filer",
           "cash"
          ],
          [
           "2017_2",
           "accelerated_filer",
           "times_interest_earned"
          ],
          [
           "2017_2",
           "accelerated_filer",
           "capex_to_operating_cash"
          ],
          [
           "2017_2",
           "accelerated_filer",
           "operating_cash_flow"
          ],
          [
           "2017_2",
           "accelerated_filer",
           "price_to_earnings"
          ],
          [
           "2017_2",
           "accelerated_filer",
           "ev_ebitda"
          ],
          [
           "2017_2",
           "accelerated_filer",
           "ev_ebit"
          ],
          [
           "2017_2",
           "accelerated_filer",
           "ev_revenue"
          ],
          [
           "2017_3",
           "accelerated_filer",
           "roe"
          ],
          [
           "2017_3",
           "accelerated_filer",
           "roa"
          ],
          [
           "2017_3",
           "accelerated_filer",
           "roce"
          ],
          [
           "2017_3",
           "accelerated_filer",
           "gross_margin"
          ],
          [
           "2017_3",
           "accelerated_filer",
           "operating_profit_margin"
          ],
          [
           "2017_3",
           "accelerated_filer",
           "net_profit_margin"
          ],
          [
           "2017_3",
           "accelerated_filer",
           "debt_to_equity"
          ],
          [
           "2017_3",
           "accelerated_filer",
           "equity"
          ],
          [
           "2017_3",
           "accelerated_filer",
           "debt"
          ],
          [
           "2017_3",
           "accelerated_filer",
           "current"
          ],
          [
           "2017_3",
           "accelerated_filer",
           "quick"
          ],
          [
           "2017_3",
           "accelerated_filer",
           "cash"
          ],
          [
           "2017_3",
           "accelerated_filer",
           "times_interest_earned"
          ],
          [
           "2017_3",
           "accelerated_filer",
           "capex_to_operating_cash"
          ],
          [
           "2017_3",
           "accelerated_filer",
           "operating_cash_flow"
          ],
          [
           "2017_3",
           "accelerated_filer",
           "price_to_earnings"
          ],
          [
           "2017_3",
           "accelerated_filer",
           "ev_ebitda"
          ],
          [
           "2017_3",
           "accelerated_filer",
           "ev_ebit"
          ],
          [
           "2017_3",
           "accelerated_filer",
           "ev_revenue"
          ],
          [
           "2017_4",
           "accelerated_filer",
           "roe"
          ],
          [
           "2017_4",
           "accelerated_filer",
           "roa"
          ],
          [
           "2017_4",
           "accelerated_filer",
           "roce"
          ],
          [
           "2017_4",
           "accelerated_filer",
           "gross_margin"
          ],
          [
           "2017_4",
           "accelerated_filer",
           "operating_profit_margin"
          ],
          [
           "2017_4",
           "accelerated_filer",
           "net_profit_margin"
          ],
          [
           "2017_4",
           "accelerated_filer",
           "debt_to_equity"
          ],
          [
           "2017_4",
           "accelerated_filer",
           "equity"
          ],
          [
           "2017_4",
           "accelerated_filer",
           "debt"
          ],
          [
           "2017_4",
           "accelerated_filer",
           "current"
          ],
          [
           "2017_4",
           "accelerated_filer",
           "quick"
          ],
          [
           "2017_4",
           "accelerated_filer",
           "cash"
          ],
          [
           "2017_4",
           "accelerated_filer",
           "times_interest_earned"
          ],
          [
           "2017_4",
           "accelerated_filer",
           "capex_to_operating_cash"
          ],
          [
           "2017_4",
           "accelerated_filer",
           "operating_cash_flow"
          ],
          [
           "2017_4",
           "accelerated_filer",
           "price_to_earnings"
          ],
          [
           "2017_4",
           "accelerated_filer",
           "ev_ebitda"
          ],
          [
           "2017_4",
           "accelerated_filer",
           "ev_ebit"
          ],
          [
           "2017_4",
           "accelerated_filer",
           "ev_revenue"
          ],
          [
           "2018_1",
           "accelerated_filer",
           "roe"
          ],
          [
           "2018_1",
           "accelerated_filer",
           "roa"
          ],
          [
           "2018_1",
           "accelerated_filer",
           "roce"
          ],
          [
           "2018_1",
           "accelerated_filer",
           "gross_margin"
          ],
          [
           "2018_1",
           "accelerated_filer",
           "operating_profit_margin"
          ],
          [
           "2018_1",
           "accelerated_filer",
           "net_profit_margin"
          ],
          [
           "2018_1",
           "accelerated_filer",
           "debt_to_equity"
          ],
          [
           "2018_1",
           "accelerated_filer",
           "equity"
          ],
          [
           "2018_1",
           "accelerated_filer",
           "debt"
          ],
          [
           "2018_1",
           "accelerated_filer",
           "current"
          ],
          [
           "2018_1",
           "accelerated_filer",
           "quick"
          ],
          [
           "2018_1",
           "accelerated_filer",
           "cash"
          ],
          [
           "2018_1",
           "accelerated_filer",
           "times_interest_earned"
          ],
          [
           "2018_1",
           "accelerated_filer",
           "capex_to_operating_cash"
          ],
          [
           "2018_1",
           "accelerated_filer",
           "operating_cash_flow"
          ],
          [
           "2018_1",
           "accelerated_filer",
           "price_to_earnings"
          ],
          [
           "2018_1",
           "accelerated_filer",
           "ev_ebitda"
          ],
          [
           "2018_1",
           "accelerated_filer",
           "ev_ebit"
          ],
          [
           "2018_1",
           "accelerated_filer",
           "ev_revenue"
          ],
          [
           "2018_2",
           "accelerated_filer",
           "roe"
          ],
          [
           "2018_2",
           "accelerated_filer",
           "roa"
          ],
          [
           "2018_2",
           "accelerated_filer",
           "roce"
          ],
          [
           "2018_2",
           "accelerated_filer",
           "gross_margin"
          ],
          [
           "2018_2",
           "accelerated_filer",
           "operating_profit_margin"
          ],
          [
           "2018_2",
           "accelerated_filer",
           "net_profit_margin"
          ],
          [
           "2018_2",
           "accelerated_filer",
           "debt_to_equity"
          ],
          [
           "2018_2",
           "accelerated_filer",
           "equity"
          ],
          [
           "2018_2",
           "accelerated_filer",
           "debt"
          ],
          [
           "2018_2",
           "accelerated_filer",
           "current"
          ],
          [
           "2018_2",
           "accelerated_filer",
           "quick"
          ],
          [
           "2018_2",
           "accelerated_filer",
           "cash"
          ],
          [
           "2018_2",
           "accelerated_filer",
           "times_interest_earned"
          ],
          [
           "2018_2",
           "accelerated_filer",
           "capex_to_operating_cash"
          ],
          [
           "2018_2",
           "accelerated_filer",
           "operating_cash_flow"
          ],
          [
           "2018_2",
           "accelerated_filer",
           "price_to_earnings"
          ],
          [
           "2018_2",
           "accelerated_filer",
           "ev_ebitda"
          ],
          [
           "2018_2",
           "accelerated_filer",
           "ev_ebit"
          ],
          [
           "2018_2",
           "accelerated_filer",
           "ev_revenue"
          ],
          [
           "2018_3",
           "accelerated_filer",
           "roe"
          ],
          [
           "2018_3",
           "accelerated_filer",
           "roa"
          ],
          [
           "2018_3",
           "accelerated_filer",
           "roce"
          ],
          [
           "2018_3",
           "accelerated_filer",
           "gross_margin"
          ],
          [
           "2018_3",
           "accelerated_filer",
           "operating_profit_margin"
          ],
          [
           "2018_3",
           "accelerated_filer",
           "net_profit_margin"
          ],
          [
           "2018_3",
           "accelerated_filer",
           "debt_to_equity"
          ],
          [
           "2018_3",
           "accelerated_filer",
           "equity"
          ],
          [
           "2018_3",
           "accelerated_filer",
           "debt"
          ],
          [
           "2018_3",
           "accelerated_filer",
           "current"
          ],
          [
           "2018_3",
           "accelerated_filer",
           "quick"
          ],
          [
           "2018_3",
           "accelerated_filer",
           "cash"
          ],
          [
           "2018_3",
           "accelerated_filer",
           "times_interest_earned"
          ],
          [
           "2018_3",
           "accelerated_filer",
           "capex_to_operating_cash"
          ],
          [
           "2018_3",
           "accelerated_filer",
           "operating_cash_flow"
          ],
          [
           "2018_3",
           "accelerated_filer",
           "price_to_earnings"
          ],
          [
           "2018_3",
           "accelerated_filer",
           "ev_ebitda"
          ],
          [
           "2018_3",
           "accelerated_filer",
           "ev_ebit"
          ],
          [
           "2018_3",
           "accelerated_filer",
           "ev_revenue"
          ],
          [
           "2018_4",
           "accelerated_filer",
           "roe"
          ],
          [
           "2018_4",
           "accelerated_filer",
           "roa"
          ],
          [
           "2018_4",
           "accelerated_filer",
           "roce"
          ],
          [
           "2018_4",
           "accelerated_filer",
           "gross_margin"
          ],
          [
           "2018_4",
           "accelerated_filer",
           "operating_profit_margin"
          ],
          [
           "2018_4",
           "accelerated_filer",
           "net_profit_margin"
          ],
          [
           "2018_4",
           "accelerated_filer",
           "debt_to_equity"
          ],
          [
           "2018_4",
           "accelerated_filer",
           "equity"
          ],
          [
           "2018_4",
           "accelerated_filer",
           "debt"
          ],
          [
           "2018_4",
           "accelerated_filer",
           "current"
          ],
          [
           "2018_4",
           "accelerated_filer",
           "quick"
          ],
          [
           "2018_4",
           "accelerated_filer",
           "cash"
          ],
          [
           "2018_4",
           "accelerated_filer",
           "times_interest_earned"
          ],
          [
           "2018_4",
           "accelerated_filer",
           "capex_to_operating_cash"
          ],
          [
           "2018_4",
           "accelerated_filer",
           "operating_cash_flow"
          ],
          [
           "2018_4",
           "accelerated_filer",
           "price_to_earnings"
          ],
          [
           "2018_4",
           "accelerated_filer",
           "ev_ebitda"
          ],
          [
           "2018_4",
           "accelerated_filer",
           "ev_ebit"
          ],
          [
           "2018_4",
           "accelerated_filer",
           "ev_revenue"
          ],
          [
           "2019_1",
           "accelerated_filer",
           "roe"
          ],
          [
           "2019_1",
           "accelerated_filer",
           "roa"
          ],
          [
           "2019_1",
           "accelerated_filer",
           "roce"
          ],
          [
           "2019_1",
           "accelerated_filer",
           "gross_margin"
          ],
          [
           "2019_1",
           "accelerated_filer",
           "operating_profit_margin"
          ],
          [
           "2019_1",
           "accelerated_filer",
           "net_profit_margin"
          ],
          [
           "2019_1",
           "accelerated_filer",
           "debt_to_equity"
          ],
          [
           "2019_1",
           "accelerated_filer",
           "equity"
          ],
          [
           "2019_1",
           "accelerated_filer",
           "debt"
          ],
          [
           "2019_1",
           "accelerated_filer",
           "current"
          ],
          [
           "2019_1",
           "accelerated_filer",
           "quick"
          ],
          [
           "2019_1",
           "accelerated_filer",
           "cash"
          ],
          [
           "2019_1",
           "accelerated_filer",
           "times_interest_earned"
          ],
          [
           "2019_1",
           "accelerated_filer",
           "capex_to_operating_cash"
          ],
          [
           "2019_1",
           "accelerated_filer",
           "operating_cash_flow"
          ],
          [
           "2019_1",
           "accelerated_filer",
           "price_to_earnings"
          ],
          [
           "2019_1",
           "accelerated_filer",
           "ev_ebitda"
          ],
          [
           "2019_1",
           "accelerated_filer",
           "ev_ebit"
          ],
          [
           "2019_1",
           "accelerated_filer",
           "ev_revenue"
          ],
          [
           "2019_2",
           "accelerated_filer",
           "roe"
          ],
          [
           "2019_2",
           "accelerated_filer",
           "roa"
          ],
          [
           "2019_2",
           "accelerated_filer",
           "roce"
          ],
          [
           "2019_2",
           "accelerated_filer",
           "gross_margin"
          ],
          [
           "2019_2",
           "accelerated_filer",
           "operating_profit_margin"
          ],
          [
           "2019_2",
           "accelerated_filer",
           "net_profit_margin"
          ],
          [
           "2019_2",
           "accelerated_filer",
           "debt_to_equity"
          ],
          [
           "2019_2",
           "accelerated_filer",
           "equity"
          ],
          [
           "2019_2",
           "accelerated_filer",
           "debt"
          ],
          [
           "2019_2",
           "accelerated_filer",
           "current"
          ],
          [
           "2019_2",
           "accelerated_filer",
           "quick"
          ],
          [
           "2019_2",
           "accelerated_filer",
           "cash"
          ],
          [
           "2019_2",
           "accelerated_filer",
           "times_interest_earned"
          ],
          [
           "2019_2",
           "accelerated_filer",
           "capex_to_operating_cash"
          ],
          [
           "2019_2",
           "accelerated_filer",
           "operating_cash_flow"
          ],
          [
           "2019_2",
           "accelerated_filer",
           "price_to_earnings"
          ],
          [
           "2019_2",
           "accelerated_filer",
           "ev_ebitda"
          ],
          [
           "2019_2",
           "accelerated_filer",
           "ev_ebit"
          ],
          [
           "2019_2",
           "accelerated_filer",
           "ev_revenue"
          ],
          [
           "2019_3",
           "accelerated_filer",
           "roe"
          ],
          [
           "2019_3",
           "accelerated_filer",
           "roa"
          ],
          [
           "2019_3",
           "accelerated_filer",
           "roce"
          ],
          [
           "2019_3",
           "accelerated_filer",
           "gross_margin"
          ],
          [
           "2019_3",
           "accelerated_filer",
           "operating_profit_margin"
          ],
          [
           "2019_3",
           "accelerated_filer",
           "net_profit_margin"
          ],
          [
           "2019_3",
           "accelerated_filer",
           "debt_to_equity"
          ],
          [
           "2019_3",
           "accelerated_filer",
           "equity"
          ],
          [
           "2019_3",
           "accelerated_filer",
           "debt"
          ],
          [
           "2019_3",
           "accelerated_filer",
           "current"
          ],
          [
           "2019_3",
           "accelerated_filer",
           "quick"
          ],
          [
           "2019_3",
           "accelerated_filer",
           "cash"
          ],
          [
           "2019_3",
           "accelerated_filer",
           "times_interest_earned"
          ],
          [
           "2019_3",
           "accelerated_filer",
           "capex_to_operating_cash"
          ],
          [
           "2019_3",
           "accelerated_filer",
           "operating_cash_flow"
          ],
          [
           "2019_3",
           "accelerated_filer",
           "price_to_earnings"
          ],
          [
           "2019_3",
           "accelerated_filer",
           "ev_ebitda"
          ],
          [
           "2019_3",
           "accelerated_filer",
           "ev_ebit"
          ],
          [
           "2019_3",
           "accelerated_filer",
           "ev_revenue"
          ],
          [
           "2019_4",
           "accelerated_filer",
           "roe"
          ],
          [
           "2019_4",
           "accelerated_filer",
           "roa"
          ],
          [
           "2019_4",
           "accelerated_filer",
           "roce"
          ],
          [
           "2019_4",
           "accelerated_filer",
           "gross_margin"
          ],
          [
           "2019_4",
           "accelerated_filer",
           "operating_profit_margin"
          ],
          [
           "2019_4",
           "accelerated_filer",
           "net_profit_margin"
          ],
          [
           "2019_4",
           "accelerated_filer",
           "debt_to_equity"
          ],
          [
           "2019_4",
           "accelerated_filer",
           "equity"
          ],
          [
           "2019_4",
           "accelerated_filer",
           "debt"
          ],
          [
           "2019_4",
           "accelerated_filer",
           "current"
          ],
          [
           "2019_4",
           "accelerated_filer",
           "quick"
          ],
          [
           "2019_4",
           "accelerated_filer",
           "cash"
          ],
          [
           "2019_4",
           "accelerated_filer",
           "times_interest_earned"
          ],
          [
           "2019_4",
           "accelerated_filer",
           "capex_to_operating_cash"
          ],
          [
           "2019_4",
           "accelerated_filer",
           "operating_cash_flow"
          ],
          [
           "2019_4",
           "accelerated_filer",
           "price_to_earnings"
          ],
          [
           "2019_4",
           "accelerated_filer",
           "ev_ebitda"
          ],
          [
           "2019_4",
           "accelerated_filer",
           "ev_ebit"
          ],
          [
           "2019_4",
           "accelerated_filer",
           "ev_revenue"
          ],
          [
           "2020_1",
           "accelerated_filer",
           "roe"
          ],
          [
           "2020_1",
           "accelerated_filer",
           "roa"
          ],
          [
           "2020_1",
           "accelerated_filer",
           "roce"
          ],
          [
           "2020_1",
           "accelerated_filer",
           "gross_margin"
          ],
          [
           "2020_1",
           "accelerated_filer",
           "operating_profit_margin"
          ],
          [
           "2020_1",
           "accelerated_filer",
           "net_profit_margin"
          ],
          [
           "2020_1",
           "accelerated_filer",
           "debt_to_equity"
          ],
          [
           "2020_1",
           "accelerated_filer",
           "equity"
          ],
          [
           "2020_1",
           "accelerated_filer",
           "debt"
          ],
          [
           "2020_1",
           "accelerated_filer",
           "current"
          ],
          [
           "2020_1",
           "accelerated_filer",
           "quick"
          ],
          [
           "2020_1",
           "accelerated_filer",
           "cash"
          ],
          [
           "2020_1",
           "accelerated_filer",
           "times_interest_earned"
          ],
          [
           "2020_1",
           "accelerated_filer",
           "capex_to_operating_cash"
          ],
          [
           "2020_1",
           "accelerated_filer",
           "operating_cash_flow"
          ],
          [
           "2020_1",
           "accelerated_filer",
           "price_to_earnings"
          ],
          [
           "2020_1",
           "accelerated_filer",
           "ev_ebitda"
          ],
          [
           "2020_1",
           "accelerated_filer",
           "ev_ebit"
          ],
          [
           "2020_1",
           "accelerated_filer",
           "ev_revenue"
          ],
          [
           "2020_2",
           "accelerated_filer",
           "roe"
          ],
          [
           "2020_2",
           "accelerated_filer",
           "roa"
          ],
          [
           "2020_2",
           "accelerated_filer",
           "roce"
          ],
          [
           "2020_2",
           "accelerated_filer",
           "gross_margin"
          ],
          [
           "2020_2",
           "accelerated_filer",
           "operating_profit_margin"
          ],
          [
           "2020_2",
           "accelerated_filer",
           "net_profit_margin"
          ],
          [
           "2020_2",
           "accelerated_filer",
           "debt_to_equity"
          ],
          [
           "2020_2",
           "accelerated_filer",
           "equity"
          ],
          [
           "2020_2",
           "accelerated_filer",
           "debt"
          ],
          [
           "2020_2",
           "accelerated_filer",
           "current"
          ],
          [
           "2020_2",
           "accelerated_filer",
           "quick"
          ],
          [
           "2020_2",
           "accelerated_filer",
           "cash"
          ],
          [
           "2020_2",
           "accelerated_filer",
           "times_interest_earned"
          ],
          [
           "2020_2",
           "accelerated_filer",
           "capex_to_operating_cash"
          ],
          [
           "2020_2",
           "accelerated_filer",
           "operating_cash_flow"
          ],
          [
           "2020_2",
           "accelerated_filer",
           "price_to_earnings"
          ],
          [
           "2020_2",
           "accelerated_filer",
           "ev_ebitda"
          ],
          [
           "2020_2",
           "accelerated_filer",
           "ev_ebit"
          ],
          [
           "2020_2",
           "accelerated_filer",
           "ev_revenue"
          ],
          [
           "2020_3",
           "accelerated_filer",
           "roe"
          ],
          [
           "2020_3",
           "accelerated_filer",
           "roa"
          ],
          [
           "2020_3",
           "accelerated_filer",
           "roce"
          ],
          [
           "2020_3",
           "accelerated_filer",
           "gross_margin"
          ],
          [
           "2020_3",
           "accelerated_filer",
           "operating_profit_margin"
          ],
          [
           "2020_3",
           "accelerated_filer",
           "net_profit_margin"
          ],
          [
           "2020_3",
           "accelerated_filer",
           "debt_to_equity"
          ],
          [
           "2020_3",
           "accelerated_filer",
           "equity"
          ],
          [
           "2020_3",
           "accelerated_filer",
           "debt"
          ],
          [
           "2020_3",
           "accelerated_filer",
           "current"
          ],
          [
           "2020_3",
           "accelerated_filer",
           "quick"
          ],
          [
           "2020_3",
           "accelerated_filer",
           "cash"
          ],
          [
           "2020_3",
           "accelerated_filer",
           "times_interest_earned"
          ],
          [
           "2020_3",
           "accelerated_filer",
           "capex_to_operating_cash"
          ],
          [
           "2020_3",
           "accelerated_filer",
           "operating_cash_flow"
          ],
          [
           "2020_3",
           "accelerated_filer",
           "price_to_earnings"
          ],
          [
           "2020_3",
           "accelerated_filer",
           "ev_ebitda"
          ],
          [
           "2020_3",
           "accelerated_filer",
           "ev_ebit"
          ],
          [
           "2020_3",
           "accelerated_filer",
           "ev_revenue"
          ],
          [
           "2020_4",
           "accelerated_filer",
           "roe"
          ],
          [
           "2020_4",
           "accelerated_filer",
           "roa"
          ],
          [
           "2020_4",
           "accelerated_filer",
           "roce"
          ],
          [
           "2020_4",
           "accelerated_filer",
           "gross_margin"
          ],
          [
           "2020_4",
           "accelerated_filer",
           "operating_profit_margin"
          ],
          [
           "2020_4",
           "accelerated_filer",
           "net_profit_margin"
          ],
          [
           "2020_4",
           "accelerated_filer",
           "debt_to_equity"
          ],
          [
           "2020_4",
           "accelerated_filer",
           "equity"
          ],
          [
           "2020_4",
           "accelerated_filer",
           "debt"
          ],
          [
           "2020_4",
           "accelerated_filer",
           "current"
          ],
          [
           "2020_4",
           "accelerated_filer",
           "quick"
          ],
          [
           "2020_4",
           "accelerated_filer",
           "cash"
          ],
          [
           "2020_4",
           "accelerated_filer",
           "times_interest_earned"
          ],
          [
           "2020_4",
           "accelerated_filer",
           "capex_to_operating_cash"
          ],
          [
           "2020_4",
           "accelerated_filer",
           "operating_cash_flow"
          ],
          [
           "2020_4",
           "accelerated_filer",
           "price_to_earnings"
          ],
          [
           "2020_4",
           "accelerated_filer",
           "ev_ebitda"
          ],
          [
           "2020_4",
           "accelerated_filer",
           "ev_ebit"
          ],
          [
           "2020_4",
           "accelerated_filer",
           "ev_revenue"
          ],
          [
           "2021_1",
           "accelerated_filer",
           "roe"
          ],
          [
           "2021_1",
           "accelerated_filer",
           "roa"
          ],
          [
           "2021_1",
           "accelerated_filer",
           "roce"
          ],
          [
           "2021_1",
           "accelerated_filer",
           "gross_margin"
          ],
          [
           "2021_1",
           "accelerated_filer",
           "operating_profit_margin"
          ],
          [
           "2021_1",
           "accelerated_filer",
           "net_profit_margin"
          ],
          [
           "2021_1",
           "accelerated_filer",
           "debt_to_equity"
          ],
          [
           "2021_1",
           "accelerated_filer",
           "equity"
          ],
          [
           "2021_1",
           "accelerated_filer",
           "debt"
          ],
          [
           "2021_1",
           "accelerated_filer",
           "current"
          ],
          [
           "2021_1",
           "accelerated_filer",
           "quick"
          ],
          [
           "2021_1",
           "accelerated_filer",
           "cash"
          ],
          [
           "2021_1",
           "accelerated_filer",
           "times_interest_earned"
          ],
          [
           "2021_1",
           "accelerated_filer",
           "capex_to_operating_cash"
          ],
          [
           "2021_1",
           "accelerated_filer",
           "operating_cash_flow"
          ],
          [
           "2021_1",
           "accelerated_filer",
           "price_to_earnings"
          ],
          [
           "2021_1",
           "accelerated_filer",
           "ev_ebitda"
          ],
          [
           "2021_1",
           "accelerated_filer",
           "ev_ebit"
          ],
          [
           "2021_1",
           "accelerated_filer",
           "ev_revenue"
          ],
          [
           "2021_2",
           "accelerated_filer",
           "roe"
          ],
          [
           "2021_2",
           "accelerated_filer",
           "roa"
          ],
          [
           "2021_2",
           "accelerated_filer",
           "roce"
          ],
          [
           "2021_2",
           "accelerated_filer",
           "gross_margin"
          ],
          [
           "2021_2",
           "accelerated_filer",
           "operating_profit_margin"
          ],
          [
           "2021_2",
           "accelerated_filer",
           "net_profit_margin"
          ],
          [
           "2021_2",
           "accelerated_filer",
           "debt_to_equity"
          ],
          [
           "2021_2",
           "accelerated_filer",
           "equity"
          ],
          [
           "2021_2",
           "accelerated_filer",
           "debt"
          ],
          [
           "2021_2",
           "accelerated_filer",
           "current"
          ],
          [
           "2021_2",
           "accelerated_filer",
           "quick"
          ],
          [
           "2021_2",
           "accelerated_filer",
           "cash"
          ],
          [
           "2021_2",
           "accelerated_filer",
           "times_interest_earned"
          ],
          [
           "2021_2",
           "accelerated_filer",
           "capex_to_operating_cash"
          ],
          [
           "2021_2",
           "accelerated_filer",
           "operating_cash_flow"
          ],
          [
           "2021_2",
           "accelerated_filer",
           "price_to_earnings"
          ],
          [
           "2021_2",
           "accelerated_filer",
           "ev_ebitda"
          ],
          [
           "2021_2",
           "accelerated_filer",
           "ev_ebit"
          ],
          [
           "2021_2",
           "accelerated_filer",
           "ev_revenue"
          ],
          [
           "2021_3",
           "accelerated_filer",
           "roe"
          ],
          [
           "2021_3",
           "accelerated_filer",
           "roa"
          ],
          [
           "2021_3",
           "accelerated_filer",
           "roce"
          ],
          [
           "2021_3",
           "accelerated_filer",
           "gross_margin"
          ],
          [
           "2021_3",
           "accelerated_filer",
           "operating_profit_margin"
          ],
          [
           "2021_3",
           "accelerated_filer",
           "net_profit_margin"
          ],
          [
           "2021_3",
           "accelerated_filer",
           "debt_to_equity"
          ],
          [
           "2021_3",
           "accelerated_filer",
           "equity"
          ],
          [
           "2021_3",
           "accelerated_filer",
           "debt"
          ],
          [
           "2021_3",
           "accelerated_filer",
           "current"
          ],
          [
           "2021_3",
           "accelerated_filer",
           "quick"
          ],
          [
           "2021_3",
           "accelerated_filer",
           "cash"
          ],
          [
           "2021_3",
           "accelerated_filer",
           "times_interest_earned"
          ],
          [
           "2021_3",
           "accelerated_filer",
           "capex_to_operating_cash"
          ],
          [
           "2021_3",
           "accelerated_filer",
           "operating_cash_flow"
          ],
          [
           "2021_3",
           "accelerated_filer",
           "price_to_earnings"
          ],
          [
           "2021_3",
           "accelerated_filer",
           "ev_ebitda"
          ],
          [
           "2021_3",
           "accelerated_filer",
           "ev_ebit"
          ],
          [
           "2021_3",
           "accelerated_filer",
           "ev_revenue"
          ]
         ],
         "fillcolor": "rgba(255,255,255,0)",
         "hoveron": "points",
         "hovertemplate": "filer_type=%{customdata[1]}<br>used_to_all=%{x}<br>year_q=%{customdata[0]}<br>kpi=%{customdata[2]}<extra></extra>",
         "jitter": 0,
         "legendgroup": "accelerated_filer",
         "line": {
          "color": "rgba(255,255,255,0)"
         },
         "marker": {
          "color": "#636efa",
          "symbol": "line-ns-open"
         },
         "name": "accelerated_filer",
         "offsetgroup": "accelerated_filer",
         "showlegend": false,
         "type": "box",
         "x": [
          0.85,
          0.88,
          0.82,
          0.79,
          0.85,
          0.85,
          0.88,
          0.91,
          0.68,
          0.91,
          0.74,
          0.91,
          0.68,
          0.68,
          0.82,
          0.88,
          0.65,
          0.65,
          0.62,
          0.94,
          0.97,
          0.91,
          0.91,
          0.94,
          0.94,
          0.91,
          0.94,
          0.74,
          0.91,
          0.71,
          0.91,
          0.79,
          0.79,
          0.88,
          0.97,
          0.74,
          0.74,
          0.68,
          0.97,
          0.97,
          0.91,
          0.91,
          0.91,
          0.91,
          0.91,
          0.97,
          0.71,
          0.91,
          0.68,
          0.91,
          0.76,
          0.74,
          0.91,
          0.97,
          0.71,
          0.71,
          0.68,
          1,
          1,
          0.94,
          0.97,
          0.97,
          0.97,
          0.94,
          1,
          0.75,
          0.94,
          0.78,
          0.94,
          0.78,
          0.75,
          0.94,
          1,
          0.69,
          0.75,
          0.75,
          0.95,
          0.95,
          0.89,
          0.89,
          0.89,
          0.89,
          0.89,
          0.95,
          0.74,
          0.89,
          0.74,
          0.89,
          0.74,
          0.76,
          0.89,
          0.95,
          0.68,
          0.74,
          0.71,
          0.97,
          0.97,
          0.95,
          0.92,
          0.92,
          0.92,
          0.95,
          0.97,
          0.76,
          0.95,
          0.78,
          0.95,
          0.78,
          0.81,
          0.92,
          0.97,
          0.7,
          0.76,
          0.73,
          1,
          1,
          0.95,
          0.97,
          0.97,
          0.97,
          0.95,
          1,
          0.73,
          0.95,
          0.78,
          0.95,
          0.78,
          0.78,
          0.95,
          1,
          0.68,
          0.73,
          0.73,
          0.86,
          0.86,
          0.83,
          0.83,
          0.83,
          0.83,
          0.83,
          0.86,
          0.66,
          0.83,
          0.69,
          0.83,
          0.69,
          0.71,
          0.83,
          0.86,
          0.63,
          0.66,
          0.66,
          0.97,
          0.97,
          0.91,
          0.94,
          0.94,
          0.94,
          0.91,
          0.97,
          0.77,
          0.91,
          0.71,
          0.91,
          0.77,
          0.77,
          0.91,
          0.97,
          0.77,
          0.77,
          0.74,
          0.97,
          1,
          0.94,
          0.97,
          0.97,
          0.97,
          0.94,
          0.97,
          0.8,
          0.94,
          0.74,
          0.94,
          0.77,
          0.8,
          0.91,
          1,
          0.8,
          0.8,
          0.77,
          0.74,
          0.77,
          0.77,
          0.74,
          0.74,
          0.74,
          0.74,
          0.74,
          0.69,
          0.77,
          0.63,
          0.77,
          0.66,
          0.69,
          0.74,
          0.77,
          0.69,
          0.69,
          0.66,
          0.97,
          0.97,
          0.97,
          0.94,
          0.94,
          0.94,
          0.97,
          0.97,
          0.84,
          0.97,
          0.78,
          0.94,
          0.81,
          0.84,
          0.97,
          0.97,
          0.78,
          0.81,
          0.78,
          0.56,
          0.56,
          0.56,
          0.56,
          0.56,
          0.56,
          0.56,
          0.56,
          0.56,
          0.56,
          0.53,
          0.56,
          0.56,
          0.56,
          0.56,
          0.56,
          0.56,
          0.56,
          0.56,
          0.81,
          0.81,
          0.81,
          0.78,
          0.78,
          0.78,
          0.81,
          0.81,
          0.81,
          0.81,
          0.75,
          0.81,
          0.78,
          0.81,
          0.81,
          0.81,
          0.81,
          0.81,
          0.78,
          0.91,
          0.91,
          0.91,
          0.81,
          0.84,
          0.84,
          0.91,
          0.91,
          0.81,
          0.91,
          0.72,
          0.91,
          0.78,
          0.78,
          0.91,
          0.91,
          0.81,
          0.81,
          0.78,
          0.96,
          0.96,
          0.96,
          0.92,
          0.96,
          0.96,
          0.96,
          0.96,
          0.88,
          0.96,
          0.92,
          0.96,
          0.92,
          0.92,
          0.96,
          0.96,
          0.88,
          0.88,
          0.88,
          0.93,
          0.93,
          0.93,
          0.89,
          0.93,
          0.93,
          0.93,
          0.93,
          0.86,
          0.93,
          0.86,
          0.89,
          0.89,
          0.89,
          0.93,
          0.93,
          0.82,
          0.82,
          0.82,
          0.96,
          0.96,
          0.96,
          0.96,
          0.96,
          0.96,
          1,
          1,
          0.93,
          1,
          0.93,
          0.96,
          0.96,
          0.96,
          1,
          0.96,
          0.89,
          0.89,
          0.89
         ],
         "xaxis": "x2",
         "yaxis": "y2"
        },
        {
         "alignmentgroup": "True",
         "bingroup": "x",
         "hovertemplate": "filer_type=large_accelerated_filer<br>used_to_all=%{x}<br>count=%{y}<extra></extra>",
         "legendgroup": "large_accelerated_filer",
         "marker": {
          "color": "#EF553B",
          "pattern": {
           "shape": ""
          }
         },
         "name": "large_accelerated_filer",
         "offsetgroup": "large_accelerated_filer",
         "orientation": "v",
         "showlegend": true,
         "type": "histogram",
         "x": [
          0.98,
          0.98,
          0.98,
          0.96,
          0.96,
          0.96,
          0.98,
          0.98,
          0.91,
          0.98,
          0.96,
          0.96,
          0.96,
          0.98,
          0.98,
          0.98,
          0.87,
          0.89,
          0.87,
          1,
          1,
          1,
          0.98,
          0.98,
          0.98,
          1,
          1,
          0.94,
          1,
          1,
          1,
          0.98,
          1,
          1,
          1,
          0.91,
          0.94,
          0.91,
          1,
          1,
          1,
          0.98,
          0.98,
          0.98,
          1,
          1,
          0.94,
          1,
          1,
          1,
          0.98,
          1,
          1,
          1,
          0.91,
          0.94,
          0.91,
          0.98,
          0.98,
          0.98,
          0.96,
          0.96,
          0.96,
          0.98,
          0.98,
          0.94,
          0.98,
          0.96,
          0.98,
          0.98,
          0.98,
          0.98,
          0.98,
          0.92,
          0.94,
          0.92,
          1,
          1,
          1,
          0.98,
          0.98,
          0.98,
          1,
          1,
          0.96,
          1,
          1,
          1,
          1,
          1,
          1,
          1,
          0.94,
          0.96,
          0.94,
          0.98,
          0.98,
          0.98,
          0.98,
          0.98,
          0.98,
          0.98,
          0.98,
          0.94,
          0.98,
          0.98,
          0.98,
          1,
          1,
          0.98,
          0.98,
          0.92,
          0.94,
          0.92,
          1,
          1,
          1,
          0.98,
          0.98,
          0.98,
          1,
          1,
          0.96,
          1,
          0.98,
          0.98,
          1,
          1,
          1,
          1,
          0.92,
          0.94,
          0.92,
          0.96,
          0.98,
          0.98,
          0.98,
          0.98,
          0.98,
          0.96,
          0.96,
          0.94,
          0.98,
          0.96,
          0.96,
          0.98,
          0.98,
          0.98,
          0.98,
          0.89,
          0.93,
          0.93,
          1,
          1,
          1,
          1,
          1,
          1,
          1,
          1,
          1,
          1,
          0.98,
          0.98,
          1,
          1,
          1,
          1,
          0.93,
          0.98,
          0.98,
          1,
          1,
          1,
          1,
          1,
          1,
          1,
          1,
          0.98,
          1,
          0.98,
          0.98,
          0.98,
          1,
          1,
          1,
          0.93,
          0.96,
          0.96,
          0.98,
          0.98,
          0.98,
          0.98,
          0.98,
          0.98,
          0.98,
          0.98,
          0.96,
          0.98,
          0.96,
          0.96,
          0.98,
          0.98,
          0.98,
          0.98,
          0.91,
          0.94,
          0.94,
          0.92,
          0.92,
          0.92,
          0.92,
          0.92,
          0.92,
          0.92,
          0.92,
          0.9,
          0.92,
          0.9,
          0.9,
          0.92,
          0.92,
          0.92,
          0.92,
          0.87,
          0.88,
          0.88,
          0.88,
          0.88,
          0.88,
          0.87,
          0.88,
          0.88,
          0.88,
          0.88,
          0.87,
          0.88,
          0.85,
          0.87,
          0.85,
          0.87,
          0.88,
          0.88,
          0.83,
          0.85,
          0.85,
          0.96,
          0.96,
          0.96,
          0.94,
          0.96,
          0.96,
          0.96,
          0.96,
          0.92,
          0.96,
          0.94,
          0.96,
          0.92,
          0.94,
          0.96,
          0.96,
          0.9,
          0.92,
          0.92,
          1,
          1,
          1,
          0.98,
          1,
          1,
          1,
          1,
          0.96,
          1,
          0.96,
          0.98,
          0.96,
          0.98,
          1,
          1,
          0.94,
          0.94,
          0.94,
          0.97,
          0.97,
          0.97,
          0.97,
          0.97,
          0.97,
          0.97,
          0.97,
          0.97,
          0.97,
          0.97,
          0.97,
          0.95,
          0.97,
          0.97,
          0.97,
          0.97,
          0.97,
          0.97,
          0.97,
          0.97,
          0.97,
          0.97,
          1,
          1,
          0.97,
          0.97,
          0.97,
          0.97,
          0.97,
          0.97,
          0.97,
          0.97,
          0.97,
          0.97,
          0.97,
          0.97,
          0.97,
          1,
          1,
          1,
          1,
          1,
          1,
          1,
          1,
          1,
          1,
          1,
          1,
          0.97,
          1,
          1,
          1,
          1,
          1,
          1
         ],
         "xaxis": "x",
         "yaxis": "y"
        },
        {
         "alignmentgroup": "True",
         "boxpoints": "all",
         "customdata": [
          [
           "2017_2",
           "large_accelerated_filer",
           "roe"
          ],
          [
           "2017_2",
           "large_accelerated_filer",
           "roa"
          ],
          [
           "2017_2",
           "large_accelerated_filer",
           "roce"
          ],
          [
           "2017_2",
           "large_accelerated_filer",
           "gross_margin"
          ],
          [
           "2017_2",
           "large_accelerated_filer",
           "operating_profit_margin"
          ],
          [
           "2017_2",
           "large_accelerated_filer",
           "net_profit_margin"
          ],
          [
           "2017_2",
           "large_accelerated_filer",
           "debt_to_equity"
          ],
          [
           "2017_2",
           "large_accelerated_filer",
           "equity"
          ],
          [
           "2017_2",
           "large_accelerated_filer",
           "debt"
          ],
          [
           "2017_2",
           "large_accelerated_filer",
           "current"
          ],
          [
           "2017_2",
           "large_accelerated_filer",
           "quick"
          ],
          [
           "2017_2",
           "large_accelerated_filer",
           "cash"
          ],
          [
           "2017_2",
           "large_accelerated_filer",
           "times_interest_earned"
          ],
          [
           "2017_2",
           "large_accelerated_filer",
           "capex_to_operating_cash"
          ],
          [
           "2017_2",
           "large_accelerated_filer",
           "operating_cash_flow"
          ],
          [
           "2017_2",
           "large_accelerated_filer",
           "price_to_earnings"
          ],
          [
           "2017_2",
           "large_accelerated_filer",
           "ev_ebitda"
          ],
          [
           "2017_2",
           "large_accelerated_filer",
           "ev_ebit"
          ],
          [
           "2017_2",
           "large_accelerated_filer",
           "ev_revenue"
          ],
          [
           "2017_3",
           "large_accelerated_filer",
           "roe"
          ],
          [
           "2017_3",
           "large_accelerated_filer",
           "roa"
          ],
          [
           "2017_3",
           "large_accelerated_filer",
           "roce"
          ],
          [
           "2017_3",
           "large_accelerated_filer",
           "gross_margin"
          ],
          [
           "2017_3",
           "large_accelerated_filer",
           "operating_profit_margin"
          ],
          [
           "2017_3",
           "large_accelerated_filer",
           "net_profit_margin"
          ],
          [
           "2017_3",
           "large_accelerated_filer",
           "debt_to_equity"
          ],
          [
           "2017_3",
           "large_accelerated_filer",
           "equity"
          ],
          [
           "2017_3",
           "large_accelerated_filer",
           "debt"
          ],
          [
           "2017_3",
           "large_accelerated_filer",
           "current"
          ],
          [
           "2017_3",
           "large_accelerated_filer",
           "quick"
          ],
          [
           "2017_3",
           "large_accelerated_filer",
           "cash"
          ],
          [
           "2017_3",
           "large_accelerated_filer",
           "times_interest_earned"
          ],
          [
           "2017_3",
           "large_accelerated_filer",
           "capex_to_operating_cash"
          ],
          [
           "2017_3",
           "large_accelerated_filer",
           "operating_cash_flow"
          ],
          [
           "2017_3",
           "large_accelerated_filer",
           "price_to_earnings"
          ],
          [
           "2017_3",
           "large_accelerated_filer",
           "ev_ebitda"
          ],
          [
           "2017_3",
           "large_accelerated_filer",
           "ev_ebit"
          ],
          [
           "2017_3",
           "large_accelerated_filer",
           "ev_revenue"
          ],
          [
           "2017_4",
           "large_accelerated_filer",
           "roe"
          ],
          [
           "2017_4",
           "large_accelerated_filer",
           "roa"
          ],
          [
           "2017_4",
           "large_accelerated_filer",
           "roce"
          ],
          [
           "2017_4",
           "large_accelerated_filer",
           "gross_margin"
          ],
          [
           "2017_4",
           "large_accelerated_filer",
           "operating_profit_margin"
          ],
          [
           "2017_4",
           "large_accelerated_filer",
           "net_profit_margin"
          ],
          [
           "2017_4",
           "large_accelerated_filer",
           "debt_to_equity"
          ],
          [
           "2017_4",
           "large_accelerated_filer",
           "equity"
          ],
          [
           "2017_4",
           "large_accelerated_filer",
           "debt"
          ],
          [
           "2017_4",
           "large_accelerated_filer",
           "current"
          ],
          [
           "2017_4",
           "large_accelerated_filer",
           "quick"
          ],
          [
           "2017_4",
           "large_accelerated_filer",
           "cash"
          ],
          [
           "2017_4",
           "large_accelerated_filer",
           "times_interest_earned"
          ],
          [
           "2017_4",
           "large_accelerated_filer",
           "capex_to_operating_cash"
          ],
          [
           "2017_4",
           "large_accelerated_filer",
           "operating_cash_flow"
          ],
          [
           "2017_4",
           "large_accelerated_filer",
           "price_to_earnings"
          ],
          [
           "2017_4",
           "large_accelerated_filer",
           "ev_ebitda"
          ],
          [
           "2017_4",
           "large_accelerated_filer",
           "ev_ebit"
          ],
          [
           "2017_4",
           "large_accelerated_filer",
           "ev_revenue"
          ],
          [
           "2018_1",
           "large_accelerated_filer",
           "roe"
          ],
          [
           "2018_1",
           "large_accelerated_filer",
           "roa"
          ],
          [
           "2018_1",
           "large_accelerated_filer",
           "roce"
          ],
          [
           "2018_1",
           "large_accelerated_filer",
           "gross_margin"
          ],
          [
           "2018_1",
           "large_accelerated_filer",
           "operating_profit_margin"
          ],
          [
           "2018_1",
           "large_accelerated_filer",
           "net_profit_margin"
          ],
          [
           "2018_1",
           "large_accelerated_filer",
           "debt_to_equity"
          ],
          [
           "2018_1",
           "large_accelerated_filer",
           "equity"
          ],
          [
           "2018_1",
           "large_accelerated_filer",
           "debt"
          ],
          [
           "2018_1",
           "large_accelerated_filer",
           "current"
          ],
          [
           "2018_1",
           "large_accelerated_filer",
           "quick"
          ],
          [
           "2018_1",
           "large_accelerated_filer",
           "cash"
          ],
          [
           "2018_1",
           "large_accelerated_filer",
           "times_interest_earned"
          ],
          [
           "2018_1",
           "large_accelerated_filer",
           "capex_to_operating_cash"
          ],
          [
           "2018_1",
           "large_accelerated_filer",
           "operating_cash_flow"
          ],
          [
           "2018_1",
           "large_accelerated_filer",
           "price_to_earnings"
          ],
          [
           "2018_1",
           "large_accelerated_filer",
           "ev_ebitda"
          ],
          [
           "2018_1",
           "large_accelerated_filer",
           "ev_ebit"
          ],
          [
           "2018_1",
           "large_accelerated_filer",
           "ev_revenue"
          ],
          [
           "2018_2",
           "large_accelerated_filer",
           "roe"
          ],
          [
           "2018_2",
           "large_accelerated_filer",
           "roa"
          ],
          [
           "2018_2",
           "large_accelerated_filer",
           "roce"
          ],
          [
           "2018_2",
           "large_accelerated_filer",
           "gross_margin"
          ],
          [
           "2018_2",
           "large_accelerated_filer",
           "operating_profit_margin"
          ],
          [
           "2018_2",
           "large_accelerated_filer",
           "net_profit_margin"
          ],
          [
           "2018_2",
           "large_accelerated_filer",
           "debt_to_equity"
          ],
          [
           "2018_2",
           "large_accelerated_filer",
           "equity"
          ],
          [
           "2018_2",
           "large_accelerated_filer",
           "debt"
          ],
          [
           "2018_2",
           "large_accelerated_filer",
           "current"
          ],
          [
           "2018_2",
           "large_accelerated_filer",
           "quick"
          ],
          [
           "2018_2",
           "large_accelerated_filer",
           "cash"
          ],
          [
           "2018_2",
           "large_accelerated_filer",
           "times_interest_earned"
          ],
          [
           "2018_2",
           "large_accelerated_filer",
           "capex_to_operating_cash"
          ],
          [
           "2018_2",
           "large_accelerated_filer",
           "operating_cash_flow"
          ],
          [
           "2018_2",
           "large_accelerated_filer",
           "price_to_earnings"
          ],
          [
           "2018_2",
           "large_accelerated_filer",
           "ev_ebitda"
          ],
          [
           "2018_2",
           "large_accelerated_filer",
           "ev_ebit"
          ],
          [
           "2018_2",
           "large_accelerated_filer",
           "ev_revenue"
          ],
          [
           "2018_3",
           "large_accelerated_filer",
           "roe"
          ],
          [
           "2018_3",
           "large_accelerated_filer",
           "roa"
          ],
          [
           "2018_3",
           "large_accelerated_filer",
           "roce"
          ],
          [
           "2018_3",
           "large_accelerated_filer",
           "gross_margin"
          ],
          [
           "2018_3",
           "large_accelerated_filer",
           "operating_profit_margin"
          ],
          [
           "2018_3",
           "large_accelerated_filer",
           "net_profit_margin"
          ],
          [
           "2018_3",
           "large_accelerated_filer",
           "debt_to_equity"
          ],
          [
           "2018_3",
           "large_accelerated_filer",
           "equity"
          ],
          [
           "2018_3",
           "large_accelerated_filer",
           "debt"
          ],
          [
           "2018_3",
           "large_accelerated_filer",
           "current"
          ],
          [
           "2018_3",
           "large_accelerated_filer",
           "quick"
          ],
          [
           "2018_3",
           "large_accelerated_filer",
           "cash"
          ],
          [
           "2018_3",
           "large_accelerated_filer",
           "times_interest_earned"
          ],
          [
           "2018_3",
           "large_accelerated_filer",
           "capex_to_operating_cash"
          ],
          [
           "2018_3",
           "large_accelerated_filer",
           "operating_cash_flow"
          ],
          [
           "2018_3",
           "large_accelerated_filer",
           "price_to_earnings"
          ],
          [
           "2018_3",
           "large_accelerated_filer",
           "ev_ebitda"
          ],
          [
           "2018_3",
           "large_accelerated_filer",
           "ev_ebit"
          ],
          [
           "2018_3",
           "large_accelerated_filer",
           "ev_revenue"
          ],
          [
           "2018_4",
           "large_accelerated_filer",
           "roe"
          ],
          [
           "2018_4",
           "large_accelerated_filer",
           "roa"
          ],
          [
           "2018_4",
           "large_accelerated_filer",
           "roce"
          ],
          [
           "2018_4",
           "large_accelerated_filer",
           "gross_margin"
          ],
          [
           "2018_4",
           "large_accelerated_filer",
           "operating_profit_margin"
          ],
          [
           "2018_4",
           "large_accelerated_filer",
           "net_profit_margin"
          ],
          [
           "2018_4",
           "large_accelerated_filer",
           "debt_to_equity"
          ],
          [
           "2018_4",
           "large_accelerated_filer",
           "equity"
          ],
          [
           "2018_4",
           "large_accelerated_filer",
           "debt"
          ],
          [
           "2018_4",
           "large_accelerated_filer",
           "current"
          ],
          [
           "2018_4",
           "large_accelerated_filer",
           "quick"
          ],
          [
           "2018_4",
           "large_accelerated_filer",
           "cash"
          ],
          [
           "2018_4",
           "large_accelerated_filer",
           "times_interest_earned"
          ],
          [
           "2018_4",
           "large_accelerated_filer",
           "capex_to_operating_cash"
          ],
          [
           "2018_4",
           "large_accelerated_filer",
           "operating_cash_flow"
          ],
          [
           "2018_4",
           "large_accelerated_filer",
           "price_to_earnings"
          ],
          [
           "2018_4",
           "large_accelerated_filer",
           "ev_ebitda"
          ],
          [
           "2018_4",
           "large_accelerated_filer",
           "ev_ebit"
          ],
          [
           "2018_4",
           "large_accelerated_filer",
           "ev_revenue"
          ],
          [
           "2019_1",
           "large_accelerated_filer",
           "roe"
          ],
          [
           "2019_1",
           "large_accelerated_filer",
           "roa"
          ],
          [
           "2019_1",
           "large_accelerated_filer",
           "roce"
          ],
          [
           "2019_1",
           "large_accelerated_filer",
           "gross_margin"
          ],
          [
           "2019_1",
           "large_accelerated_filer",
           "operating_profit_margin"
          ],
          [
           "2019_1",
           "large_accelerated_filer",
           "net_profit_margin"
          ],
          [
           "2019_1",
           "large_accelerated_filer",
           "debt_to_equity"
          ],
          [
           "2019_1",
           "large_accelerated_filer",
           "equity"
          ],
          [
           "2019_1",
           "large_accelerated_filer",
           "debt"
          ],
          [
           "2019_1",
           "large_accelerated_filer",
           "current"
          ],
          [
           "2019_1",
           "large_accelerated_filer",
           "quick"
          ],
          [
           "2019_1",
           "large_accelerated_filer",
           "cash"
          ],
          [
           "2019_1",
           "large_accelerated_filer",
           "times_interest_earned"
          ],
          [
           "2019_1",
           "large_accelerated_filer",
           "capex_to_operating_cash"
          ],
          [
           "2019_1",
           "large_accelerated_filer",
           "operating_cash_flow"
          ],
          [
           "2019_1",
           "large_accelerated_filer",
           "price_to_earnings"
          ],
          [
           "2019_1",
           "large_accelerated_filer",
           "ev_ebitda"
          ],
          [
           "2019_1",
           "large_accelerated_filer",
           "ev_ebit"
          ],
          [
           "2019_1",
           "large_accelerated_filer",
           "ev_revenue"
          ],
          [
           "2019_2",
           "large_accelerated_filer",
           "roe"
          ],
          [
           "2019_2",
           "large_accelerated_filer",
           "roa"
          ],
          [
           "2019_2",
           "large_accelerated_filer",
           "roce"
          ],
          [
           "2019_2",
           "large_accelerated_filer",
           "gross_margin"
          ],
          [
           "2019_2",
           "large_accelerated_filer",
           "operating_profit_margin"
          ],
          [
           "2019_2",
           "large_accelerated_filer",
           "net_profit_margin"
          ],
          [
           "2019_2",
           "large_accelerated_filer",
           "debt_to_equity"
          ],
          [
           "2019_2",
           "large_accelerated_filer",
           "equity"
          ],
          [
           "2019_2",
           "large_accelerated_filer",
           "debt"
          ],
          [
           "2019_2",
           "large_accelerated_filer",
           "current"
          ],
          [
           "2019_2",
           "large_accelerated_filer",
           "quick"
          ],
          [
           "2019_2",
           "large_accelerated_filer",
           "cash"
          ],
          [
           "2019_2",
           "large_accelerated_filer",
           "times_interest_earned"
          ],
          [
           "2019_2",
           "large_accelerated_filer",
           "capex_to_operating_cash"
          ],
          [
           "2019_2",
           "large_accelerated_filer",
           "operating_cash_flow"
          ],
          [
           "2019_2",
           "large_accelerated_filer",
           "price_to_earnings"
          ],
          [
           "2019_2",
           "large_accelerated_filer",
           "ev_ebitda"
          ],
          [
           "2019_2",
           "large_accelerated_filer",
           "ev_ebit"
          ],
          [
           "2019_2",
           "large_accelerated_filer",
           "ev_revenue"
          ],
          [
           "2019_3",
           "large_accelerated_filer",
           "roe"
          ],
          [
           "2019_3",
           "large_accelerated_filer",
           "roa"
          ],
          [
           "2019_3",
           "large_accelerated_filer",
           "roce"
          ],
          [
           "2019_3",
           "large_accelerated_filer",
           "gross_margin"
          ],
          [
           "2019_3",
           "large_accelerated_filer",
           "operating_profit_margin"
          ],
          [
           "2019_3",
           "large_accelerated_filer",
           "net_profit_margin"
          ],
          [
           "2019_3",
           "large_accelerated_filer",
           "debt_to_equity"
          ],
          [
           "2019_3",
           "large_accelerated_filer",
           "equity"
          ],
          [
           "2019_3",
           "large_accelerated_filer",
           "debt"
          ],
          [
           "2019_3",
           "large_accelerated_filer",
           "current"
          ],
          [
           "2019_3",
           "large_accelerated_filer",
           "quick"
          ],
          [
           "2019_3",
           "large_accelerated_filer",
           "cash"
          ],
          [
           "2019_3",
           "large_accelerated_filer",
           "times_interest_earned"
          ],
          [
           "2019_3",
           "large_accelerated_filer",
           "capex_to_operating_cash"
          ],
          [
           "2019_3",
           "large_accelerated_filer",
           "operating_cash_flow"
          ],
          [
           "2019_3",
           "large_accelerated_filer",
           "price_to_earnings"
          ],
          [
           "2019_3",
           "large_accelerated_filer",
           "ev_ebitda"
          ],
          [
           "2019_3",
           "large_accelerated_filer",
           "ev_ebit"
          ],
          [
           "2019_3",
           "large_accelerated_filer",
           "ev_revenue"
          ],
          [
           "2019_4",
           "large_accelerated_filer",
           "roe"
          ],
          [
           "2019_4",
           "large_accelerated_filer",
           "roa"
          ],
          [
           "2019_4",
           "large_accelerated_filer",
           "roce"
          ],
          [
           "2019_4",
           "large_accelerated_filer",
           "gross_margin"
          ],
          [
           "2019_4",
           "large_accelerated_filer",
           "operating_profit_margin"
          ],
          [
           "2019_4",
           "large_accelerated_filer",
           "net_profit_margin"
          ],
          [
           "2019_4",
           "large_accelerated_filer",
           "debt_to_equity"
          ],
          [
           "2019_4",
           "large_accelerated_filer",
           "equity"
          ],
          [
           "2019_4",
           "large_accelerated_filer",
           "debt"
          ],
          [
           "2019_4",
           "large_accelerated_filer",
           "current"
          ],
          [
           "2019_4",
           "large_accelerated_filer",
           "quick"
          ],
          [
           "2019_4",
           "large_accelerated_filer",
           "cash"
          ],
          [
           "2019_4",
           "large_accelerated_filer",
           "times_interest_earned"
          ],
          [
           "2019_4",
           "large_accelerated_filer",
           "capex_to_operating_cash"
          ],
          [
           "2019_4",
           "large_accelerated_filer",
           "operating_cash_flow"
          ],
          [
           "2019_4",
           "large_accelerated_filer",
           "price_to_earnings"
          ],
          [
           "2019_4",
           "large_accelerated_filer",
           "ev_ebitda"
          ],
          [
           "2019_4",
           "large_accelerated_filer",
           "ev_ebit"
          ],
          [
           "2019_4",
           "large_accelerated_filer",
           "ev_revenue"
          ],
          [
           "2020_1",
           "large_accelerated_filer",
           "roe"
          ],
          [
           "2020_1",
           "large_accelerated_filer",
           "roa"
          ],
          [
           "2020_1",
           "large_accelerated_filer",
           "roce"
          ],
          [
           "2020_1",
           "large_accelerated_filer",
           "gross_margin"
          ],
          [
           "2020_1",
           "large_accelerated_filer",
           "operating_profit_margin"
          ],
          [
           "2020_1",
           "large_accelerated_filer",
           "net_profit_margin"
          ],
          [
           "2020_1",
           "large_accelerated_filer",
           "debt_to_equity"
          ],
          [
           "2020_1",
           "large_accelerated_filer",
           "equity"
          ],
          [
           "2020_1",
           "large_accelerated_filer",
           "debt"
          ],
          [
           "2020_1",
           "large_accelerated_filer",
           "current"
          ],
          [
           "2020_1",
           "large_accelerated_filer",
           "quick"
          ],
          [
           "2020_1",
           "large_accelerated_filer",
           "cash"
          ],
          [
           "2020_1",
           "large_accelerated_filer",
           "times_interest_earned"
          ],
          [
           "2020_1",
           "large_accelerated_filer",
           "capex_to_operating_cash"
          ],
          [
           "2020_1",
           "large_accelerated_filer",
           "operating_cash_flow"
          ],
          [
           "2020_1",
           "large_accelerated_filer",
           "price_to_earnings"
          ],
          [
           "2020_1",
           "large_accelerated_filer",
           "ev_ebitda"
          ],
          [
           "2020_1",
           "large_accelerated_filer",
           "ev_ebit"
          ],
          [
           "2020_1",
           "large_accelerated_filer",
           "ev_revenue"
          ],
          [
           "2020_2",
           "large_accelerated_filer",
           "roe"
          ],
          [
           "2020_2",
           "large_accelerated_filer",
           "roa"
          ],
          [
           "2020_2",
           "large_accelerated_filer",
           "roce"
          ],
          [
           "2020_2",
           "large_accelerated_filer",
           "gross_margin"
          ],
          [
           "2020_2",
           "large_accelerated_filer",
           "operating_profit_margin"
          ],
          [
           "2020_2",
           "large_accelerated_filer",
           "net_profit_margin"
          ],
          [
           "2020_2",
           "large_accelerated_filer",
           "debt_to_equity"
          ],
          [
           "2020_2",
           "large_accelerated_filer",
           "equity"
          ],
          [
           "2020_2",
           "large_accelerated_filer",
           "debt"
          ],
          [
           "2020_2",
           "large_accelerated_filer",
           "current"
          ],
          [
           "2020_2",
           "large_accelerated_filer",
           "quick"
          ],
          [
           "2020_2",
           "large_accelerated_filer",
           "cash"
          ],
          [
           "2020_2",
           "large_accelerated_filer",
           "times_interest_earned"
          ],
          [
           "2020_2",
           "large_accelerated_filer",
           "capex_to_operating_cash"
          ],
          [
           "2020_2",
           "large_accelerated_filer",
           "operating_cash_flow"
          ],
          [
           "2020_2",
           "large_accelerated_filer",
           "price_to_earnings"
          ],
          [
           "2020_2",
           "large_accelerated_filer",
           "ev_ebitda"
          ],
          [
           "2020_2",
           "large_accelerated_filer",
           "ev_ebit"
          ],
          [
           "2020_2",
           "large_accelerated_filer",
           "ev_revenue"
          ],
          [
           "2020_3",
           "large_accelerated_filer",
           "roe"
          ],
          [
           "2020_3",
           "large_accelerated_filer",
           "roa"
          ],
          [
           "2020_3",
           "large_accelerated_filer",
           "roce"
          ],
          [
           "2020_3",
           "large_accelerated_filer",
           "gross_margin"
          ],
          [
           "2020_3",
           "large_accelerated_filer",
           "operating_profit_margin"
          ],
          [
           "2020_3",
           "large_accelerated_filer",
           "net_profit_margin"
          ],
          [
           "2020_3",
           "large_accelerated_filer",
           "debt_to_equity"
          ],
          [
           "2020_3",
           "large_accelerated_filer",
           "equity"
          ],
          [
           "2020_3",
           "large_accelerated_filer",
           "debt"
          ],
          [
           "2020_3",
           "large_accelerated_filer",
           "current"
          ],
          [
           "2020_3",
           "large_accelerated_filer",
           "quick"
          ],
          [
           "2020_3",
           "large_accelerated_filer",
           "cash"
          ],
          [
           "2020_3",
           "large_accelerated_filer",
           "times_interest_earned"
          ],
          [
           "2020_3",
           "large_accelerated_filer",
           "capex_to_operating_cash"
          ],
          [
           "2020_3",
           "large_accelerated_filer",
           "operating_cash_flow"
          ],
          [
           "2020_3",
           "large_accelerated_filer",
           "price_to_earnings"
          ],
          [
           "2020_3",
           "large_accelerated_filer",
           "ev_ebitda"
          ],
          [
           "2020_3",
           "large_accelerated_filer",
           "ev_ebit"
          ],
          [
           "2020_3",
           "large_accelerated_filer",
           "ev_revenue"
          ],
          [
           "2020_4",
           "large_accelerated_filer",
           "roe"
          ],
          [
           "2020_4",
           "large_accelerated_filer",
           "roa"
          ],
          [
           "2020_4",
           "large_accelerated_filer",
           "roce"
          ],
          [
           "2020_4",
           "large_accelerated_filer",
           "gross_margin"
          ],
          [
           "2020_4",
           "large_accelerated_filer",
           "operating_profit_margin"
          ],
          [
           "2020_4",
           "large_accelerated_filer",
           "net_profit_margin"
          ],
          [
           "2020_4",
           "large_accelerated_filer",
           "debt_to_equity"
          ],
          [
           "2020_4",
           "large_accelerated_filer",
           "equity"
          ],
          [
           "2020_4",
           "large_accelerated_filer",
           "debt"
          ],
          [
           "2020_4",
           "large_accelerated_filer",
           "current"
          ],
          [
           "2020_4",
           "large_accelerated_filer",
           "quick"
          ],
          [
           "2020_4",
           "large_accelerated_filer",
           "cash"
          ],
          [
           "2020_4",
           "large_accelerated_filer",
           "times_interest_earned"
          ],
          [
           "2020_4",
           "large_accelerated_filer",
           "capex_to_operating_cash"
          ],
          [
           "2020_4",
           "large_accelerated_filer",
           "operating_cash_flow"
          ],
          [
           "2020_4",
           "large_accelerated_filer",
           "price_to_earnings"
          ],
          [
           "2020_4",
           "large_accelerated_filer",
           "ev_ebitda"
          ],
          [
           "2020_4",
           "large_accelerated_filer",
           "ev_ebit"
          ],
          [
           "2020_4",
           "large_accelerated_filer",
           "ev_revenue"
          ],
          [
           "2021_1",
           "large_accelerated_filer",
           "roe"
          ],
          [
           "2021_1",
           "large_accelerated_filer",
           "roa"
          ],
          [
           "2021_1",
           "large_accelerated_filer",
           "roce"
          ],
          [
           "2021_1",
           "large_accelerated_filer",
           "gross_margin"
          ],
          [
           "2021_1",
           "large_accelerated_filer",
           "operating_profit_margin"
          ],
          [
           "2021_1",
           "large_accelerated_filer",
           "net_profit_margin"
          ],
          [
           "2021_1",
           "large_accelerated_filer",
           "debt_to_equity"
          ],
          [
           "2021_1",
           "large_accelerated_filer",
           "equity"
          ],
          [
           "2021_1",
           "large_accelerated_filer",
           "debt"
          ],
          [
           "2021_1",
           "large_accelerated_filer",
           "current"
          ],
          [
           "2021_1",
           "large_accelerated_filer",
           "quick"
          ],
          [
           "2021_1",
           "large_accelerated_filer",
           "cash"
          ],
          [
           "2021_1",
           "large_accelerated_filer",
           "times_interest_earned"
          ],
          [
           "2021_1",
           "large_accelerated_filer",
           "capex_to_operating_cash"
          ],
          [
           "2021_1",
           "large_accelerated_filer",
           "operating_cash_flow"
          ],
          [
           "2021_1",
           "large_accelerated_filer",
           "price_to_earnings"
          ],
          [
           "2021_1",
           "large_accelerated_filer",
           "ev_ebitda"
          ],
          [
           "2021_1",
           "large_accelerated_filer",
           "ev_ebit"
          ],
          [
           "2021_1",
           "large_accelerated_filer",
           "ev_revenue"
          ],
          [
           "2021_2",
           "large_accelerated_filer",
           "roe"
          ],
          [
           "2021_2",
           "large_accelerated_filer",
           "roa"
          ],
          [
           "2021_2",
           "large_accelerated_filer",
           "roce"
          ],
          [
           "2021_2",
           "large_accelerated_filer",
           "gross_margin"
          ],
          [
           "2021_2",
           "large_accelerated_filer",
           "operating_profit_margin"
          ],
          [
           "2021_2",
           "large_accelerated_filer",
           "net_profit_margin"
          ],
          [
           "2021_2",
           "large_accelerated_filer",
           "debt_to_equity"
          ],
          [
           "2021_2",
           "large_accelerated_filer",
           "equity"
          ],
          [
           "2021_2",
           "large_accelerated_filer",
           "debt"
          ],
          [
           "2021_2",
           "large_accelerated_filer",
           "current"
          ],
          [
           "2021_2",
           "large_accelerated_filer",
           "quick"
          ],
          [
           "2021_2",
           "large_accelerated_filer",
           "cash"
          ],
          [
           "2021_2",
           "large_accelerated_filer",
           "times_interest_earned"
          ],
          [
           "2021_2",
           "large_accelerated_filer",
           "capex_to_operating_cash"
          ],
          [
           "2021_2",
           "large_accelerated_filer",
           "operating_cash_flow"
          ],
          [
           "2021_2",
           "large_accelerated_filer",
           "price_to_earnings"
          ],
          [
           "2021_2",
           "large_accelerated_filer",
           "ev_ebitda"
          ],
          [
           "2021_2",
           "large_accelerated_filer",
           "ev_ebit"
          ],
          [
           "2021_2",
           "large_accelerated_filer",
           "ev_revenue"
          ],
          [
           "2021_3",
           "large_accelerated_filer",
           "roe"
          ],
          [
           "2021_3",
           "large_accelerated_filer",
           "roa"
          ],
          [
           "2021_3",
           "large_accelerated_filer",
           "roce"
          ],
          [
           "2021_3",
           "large_accelerated_filer",
           "gross_margin"
          ],
          [
           "2021_3",
           "large_accelerated_filer",
           "operating_profit_margin"
          ],
          [
           "2021_3",
           "large_accelerated_filer",
           "net_profit_margin"
          ],
          [
           "2021_3",
           "large_accelerated_filer",
           "debt_to_equity"
          ],
          [
           "2021_3",
           "large_accelerated_filer",
           "equity"
          ],
          [
           "2021_3",
           "large_accelerated_filer",
           "debt"
          ],
          [
           "2021_3",
           "large_accelerated_filer",
           "current"
          ],
          [
           "2021_3",
           "large_accelerated_filer",
           "quick"
          ],
          [
           "2021_3",
           "large_accelerated_filer",
           "cash"
          ],
          [
           "2021_3",
           "large_accelerated_filer",
           "times_interest_earned"
          ],
          [
           "2021_3",
           "large_accelerated_filer",
           "capex_to_operating_cash"
          ],
          [
           "2021_3",
           "large_accelerated_filer",
           "operating_cash_flow"
          ],
          [
           "2021_3",
           "large_accelerated_filer",
           "price_to_earnings"
          ],
          [
           "2021_3",
           "large_accelerated_filer",
           "ev_ebitda"
          ],
          [
           "2021_3",
           "large_accelerated_filer",
           "ev_ebit"
          ],
          [
           "2021_3",
           "large_accelerated_filer",
           "ev_revenue"
          ]
         ],
         "fillcolor": "rgba(255,255,255,0)",
         "hoveron": "points",
         "hovertemplate": "filer_type=%{customdata[1]}<br>used_to_all=%{x}<br>year_q=%{customdata[0]}<br>kpi=%{customdata[2]}<extra></extra>",
         "jitter": 0,
         "legendgroup": "large_accelerated_filer",
         "line": {
          "color": "rgba(255,255,255,0)"
         },
         "marker": {
          "color": "#EF553B",
          "symbol": "line-ns-open"
         },
         "name": "large_accelerated_filer",
         "offsetgroup": "large_accelerated_filer",
         "showlegend": false,
         "type": "box",
         "x": [
          0.98,
          0.98,
          0.98,
          0.96,
          0.96,
          0.96,
          0.98,
          0.98,
          0.91,
          0.98,
          0.96,
          0.96,
          0.96,
          0.98,
          0.98,
          0.98,
          0.87,
          0.89,
          0.87,
          1,
          1,
          1,
          0.98,
          0.98,
          0.98,
          1,
          1,
          0.94,
          1,
          1,
          1,
          0.98,
          1,
          1,
          1,
          0.91,
          0.94,
          0.91,
          1,
          1,
          1,
          0.98,
          0.98,
          0.98,
          1,
          1,
          0.94,
          1,
          1,
          1,
          0.98,
          1,
          1,
          1,
          0.91,
          0.94,
          0.91,
          0.98,
          0.98,
          0.98,
          0.96,
          0.96,
          0.96,
          0.98,
          0.98,
          0.94,
          0.98,
          0.96,
          0.98,
          0.98,
          0.98,
          0.98,
          0.98,
          0.92,
          0.94,
          0.92,
          1,
          1,
          1,
          0.98,
          0.98,
          0.98,
          1,
          1,
          0.96,
          1,
          1,
          1,
          1,
          1,
          1,
          1,
          0.94,
          0.96,
          0.94,
          0.98,
          0.98,
          0.98,
          0.98,
          0.98,
          0.98,
          0.98,
          0.98,
          0.94,
          0.98,
          0.98,
          0.98,
          1,
          1,
          0.98,
          0.98,
          0.92,
          0.94,
          0.92,
          1,
          1,
          1,
          0.98,
          0.98,
          0.98,
          1,
          1,
          0.96,
          1,
          0.98,
          0.98,
          1,
          1,
          1,
          1,
          0.92,
          0.94,
          0.92,
          0.96,
          0.98,
          0.98,
          0.98,
          0.98,
          0.98,
          0.96,
          0.96,
          0.94,
          0.98,
          0.96,
          0.96,
          0.98,
          0.98,
          0.98,
          0.98,
          0.89,
          0.93,
          0.93,
          1,
          1,
          1,
          1,
          1,
          1,
          1,
          1,
          1,
          1,
          0.98,
          0.98,
          1,
          1,
          1,
          1,
          0.93,
          0.98,
          0.98,
          1,
          1,
          1,
          1,
          1,
          1,
          1,
          1,
          0.98,
          1,
          0.98,
          0.98,
          0.98,
          1,
          1,
          1,
          0.93,
          0.96,
          0.96,
          0.98,
          0.98,
          0.98,
          0.98,
          0.98,
          0.98,
          0.98,
          0.98,
          0.96,
          0.98,
          0.96,
          0.96,
          0.98,
          0.98,
          0.98,
          0.98,
          0.91,
          0.94,
          0.94,
          0.92,
          0.92,
          0.92,
          0.92,
          0.92,
          0.92,
          0.92,
          0.92,
          0.9,
          0.92,
          0.9,
          0.9,
          0.92,
          0.92,
          0.92,
          0.92,
          0.87,
          0.88,
          0.88,
          0.88,
          0.88,
          0.88,
          0.87,
          0.88,
          0.88,
          0.88,
          0.88,
          0.87,
          0.88,
          0.85,
          0.87,
          0.85,
          0.87,
          0.88,
          0.88,
          0.83,
          0.85,
          0.85,
          0.96,
          0.96,
          0.96,
          0.94,
          0.96,
          0.96,
          0.96,
          0.96,
          0.92,
          0.96,
          0.94,
          0.96,
          0.92,
          0.94,
          0.96,
          0.96,
          0.9,
          0.92,
          0.92,
          1,
          1,
          1,
          0.98,
          1,
          1,
          1,
          1,
          0.96,
          1,
          0.96,
          0.98,
          0.96,
          0.98,
          1,
          1,
          0.94,
          0.94,
          0.94,
          0.97,
          0.97,
          0.97,
          0.97,
          0.97,
          0.97,
          0.97,
          0.97,
          0.97,
          0.97,
          0.97,
          0.97,
          0.95,
          0.97,
          0.97,
          0.97,
          0.97,
          0.97,
          0.97,
          0.97,
          0.97,
          0.97,
          0.97,
          1,
          1,
          0.97,
          0.97,
          0.97,
          0.97,
          0.97,
          0.97,
          0.97,
          0.97,
          0.97,
          0.97,
          0.97,
          0.97,
          0.97,
          1,
          1,
          1,
          1,
          1,
          1,
          1,
          1,
          1,
          1,
          1,
          1,
          0.97,
          1,
          1,
          1,
          1,
          1,
          1
         ],
         "xaxis": "x2",
         "yaxis": "y2"
        },
        {
         "alignmentgroup": "True",
         "bingroup": "x",
         "hovertemplate": "filer_type=non_accelerated_filer<br>used_to_all=%{x}<br>count=%{y}<extra></extra>",
         "legendgroup": "non_accelerated_filer",
         "marker": {
          "color": "#00cc96",
          "pattern": {
           "shape": ""
          }
         },
         "name": "non_accelerated_filer",
         "offsetgroup": "non_accelerated_filer",
         "orientation": "v",
         "showlegend": true,
         "type": "histogram",
         "x": [
          0.8,
          0.8,
          0.75,
          0.8,
          0.85,
          0.85,
          0.75,
          0.8,
          0.6,
          0.75,
          0.65,
          0.75,
          0.7,
          0.75,
          0.75,
          0.8,
          0.55,
          0.6,
          0.6,
          0.94,
          0.94,
          0.89,
          0.94,
          0.94,
          0.94,
          0.89,
          0.94,
          0.78,
          0.89,
          0.72,
          0.83,
          0.78,
          0.83,
          0.89,
          0.94,
          0.67,
          0.72,
          0.72,
          0.94,
          0.94,
          0.89,
          0.94,
          0.94,
          0.94,
          0.89,
          0.94,
          0.78,
          0.89,
          0.78,
          0.89,
          0.78,
          0.83,
          0.89,
          0.94,
          0.72,
          0.78,
          0.78,
          1,
          1,
          0.91,
          1,
          1,
          1,
          0.91,
          1,
          0.82,
          0.91,
          0.73,
          0.91,
          0.82,
          0.91,
          0.91,
          1,
          0.82,
          0.82,
          0.82,
          0.76,
          0.76,
          0.71,
          0.76,
          0.76,
          0.76,
          0.71,
          0.76,
          0.59,
          0.71,
          0.53,
          0.71,
          0.59,
          0.65,
          0.71,
          0.76,
          0.59,
          0.59,
          0.59,
          0.93,
          0.93,
          0.86,
          0.93,
          0.93,
          0.93,
          0.86,
          0.93,
          0.71,
          0.86,
          0.64,
          0.86,
          0.71,
          0.79,
          0.86,
          0.93,
          0.71,
          0.71,
          0.71,
          0.93,
          0.93,
          0.86,
          0.93,
          0.93,
          0.93,
          0.86,
          0.93,
          0.71,
          0.86,
          0.64,
          0.86,
          0.71,
          0.79,
          0.86,
          0.93,
          0.71,
          0.71,
          0.71,
          1,
          1,
          0.86,
          1,
          1,
          1,
          0.86,
          1,
          0.86,
          0.86,
          0.71,
          0.86,
          0.86,
          0.86,
          0.86,
          1,
          0.86,
          0.86,
          0.86,
          0.73,
          0.73,
          0.64,
          0.73,
          0.73,
          0.73,
          0.64,
          0.73,
          0.55,
          0.64,
          0.45,
          0.64,
          0.55,
          0.55,
          0.64,
          0.73,
          0.55,
          0.55,
          0.55,
          0.8,
          0.8,
          0.7,
          0.8,
          0.8,
          0.8,
          0.7,
          0.8,
          0.6,
          0.7,
          0.5,
          0.7,
          0.6,
          0.6,
          0.7,
          0.8,
          0.6,
          0.6,
          0.6,
          0.91,
          1,
          0.91,
          1,
          1,
          1,
          0.82,
          0.91,
          0.82,
          0.91,
          0.64,
          0.82,
          0.82,
          0.82,
          0.91,
          1,
          0.73,
          0.73,
          0.73,
          0.93,
          1,
          0.79,
          0.86,
          1,
          1,
          0.79,
          0.93,
          0.79,
          0.79,
          0.64,
          0.79,
          0.71,
          0.71,
          0.79,
          1,
          0.79,
          0.79,
          0.79,
          0.81,
          0.81,
          0.69,
          0.69,
          0.88,
          0.81,
          0.69,
          0.81,
          0.69,
          0.69,
          0.56,
          0.69,
          0.56,
          0.62,
          0.69,
          0.81,
          0.69,
          0.69,
          0.69,
          0.87,
          0.93,
          0.73,
          0.73,
          0.93,
          0.93,
          0.73,
          0.87,
          0.73,
          0.73,
          0.6,
          0.73,
          0.67,
          0.67,
          0.73,
          0.93,
          0.73,
          0.73,
          0.73,
          0.53,
          0.6,
          0.53,
          0.6,
          0.6,
          0.6,
          0.53,
          0.67,
          0.6,
          0.53,
          0.47,
          0.47,
          0.53,
          0.53,
          0.53,
          0.6,
          0.53,
          0.53,
          0.53,
          0.9,
          0.97,
          0.87,
          0.77,
          0.94,
          0.9,
          0.87,
          0.94,
          0.77,
          0.87,
          0.71,
          0.87,
          0.77,
          0.77,
          0.87,
          0.97,
          0.77,
          0.77,
          0.74,
          0.77,
          0.77,
          0.71,
          0.63,
          0.74,
          0.74,
          0.71,
          0.77,
          0.66,
          0.71,
          0.6,
          0.71,
          0.63,
          0.66,
          0.71,
          0.77,
          0.66,
          0.66,
          0.63,
          0.79,
          0.79,
          0.73,
          0.64,
          0.76,
          0.76,
          0.76,
          0.82,
          0.67,
          0.73,
          0.61,
          0.73,
          0.61,
          0.67,
          0.73,
          0.79,
          0.67,
          0.67,
          0.64
         ],
         "xaxis": "x",
         "yaxis": "y"
        },
        {
         "alignmentgroup": "True",
         "boxpoints": "all",
         "customdata": [
          [
           "2017_2",
           "non_accelerated_filer",
           "roe"
          ],
          [
           "2017_2",
           "non_accelerated_filer",
           "roa"
          ],
          [
           "2017_2",
           "non_accelerated_filer",
           "roce"
          ],
          [
           "2017_2",
           "non_accelerated_filer",
           "gross_margin"
          ],
          [
           "2017_2",
           "non_accelerated_filer",
           "operating_profit_margin"
          ],
          [
           "2017_2",
           "non_accelerated_filer",
           "net_profit_margin"
          ],
          [
           "2017_2",
           "non_accelerated_filer",
           "debt_to_equity"
          ],
          [
           "2017_2",
           "non_accelerated_filer",
           "equity"
          ],
          [
           "2017_2",
           "non_accelerated_filer",
           "debt"
          ],
          [
           "2017_2",
           "non_accelerated_filer",
           "current"
          ],
          [
           "2017_2",
           "non_accelerated_filer",
           "quick"
          ],
          [
           "2017_2",
           "non_accelerated_filer",
           "cash"
          ],
          [
           "2017_2",
           "non_accelerated_filer",
           "times_interest_earned"
          ],
          [
           "2017_2",
           "non_accelerated_filer",
           "capex_to_operating_cash"
          ],
          [
           "2017_2",
           "non_accelerated_filer",
           "operating_cash_flow"
          ],
          [
           "2017_2",
           "non_accelerated_filer",
           "price_to_earnings"
          ],
          [
           "2017_2",
           "non_accelerated_filer",
           "ev_ebitda"
          ],
          [
           "2017_2",
           "non_accelerated_filer",
           "ev_ebit"
          ],
          [
           "2017_2",
           "non_accelerated_filer",
           "ev_revenue"
          ],
          [
           "2017_3",
           "non_accelerated_filer",
           "roe"
          ],
          [
           "2017_3",
           "non_accelerated_filer",
           "roa"
          ],
          [
           "2017_3",
           "non_accelerated_filer",
           "roce"
          ],
          [
           "2017_3",
           "non_accelerated_filer",
           "gross_margin"
          ],
          [
           "2017_3",
           "non_accelerated_filer",
           "operating_profit_margin"
          ],
          [
           "2017_3",
           "non_accelerated_filer",
           "net_profit_margin"
          ],
          [
           "2017_3",
           "non_accelerated_filer",
           "debt_to_equity"
          ],
          [
           "2017_3",
           "non_accelerated_filer",
           "equity"
          ],
          [
           "2017_3",
           "non_accelerated_filer",
           "debt"
          ],
          [
           "2017_3",
           "non_accelerated_filer",
           "current"
          ],
          [
           "2017_3",
           "non_accelerated_filer",
           "quick"
          ],
          [
           "2017_3",
           "non_accelerated_filer",
           "cash"
          ],
          [
           "2017_3",
           "non_accelerated_filer",
           "times_interest_earned"
          ],
          [
           "2017_3",
           "non_accelerated_filer",
           "capex_to_operating_cash"
          ],
          [
           "2017_3",
           "non_accelerated_filer",
           "operating_cash_flow"
          ],
          [
           "2017_3",
           "non_accelerated_filer",
           "price_to_earnings"
          ],
          [
           "2017_3",
           "non_accelerated_filer",
           "ev_ebitda"
          ],
          [
           "2017_3",
           "non_accelerated_filer",
           "ev_ebit"
          ],
          [
           "2017_3",
           "non_accelerated_filer",
           "ev_revenue"
          ],
          [
           "2017_4",
           "non_accelerated_filer",
           "roe"
          ],
          [
           "2017_4",
           "non_accelerated_filer",
           "roa"
          ],
          [
           "2017_4",
           "non_accelerated_filer",
           "roce"
          ],
          [
           "2017_4",
           "non_accelerated_filer",
           "gross_margin"
          ],
          [
           "2017_4",
           "non_accelerated_filer",
           "operating_profit_margin"
          ],
          [
           "2017_4",
           "non_accelerated_filer",
           "net_profit_margin"
          ],
          [
           "2017_4",
           "non_accelerated_filer",
           "debt_to_equity"
          ],
          [
           "2017_4",
           "non_accelerated_filer",
           "equity"
          ],
          [
           "2017_4",
           "non_accelerated_filer",
           "debt"
          ],
          [
           "2017_4",
           "non_accelerated_filer",
           "current"
          ],
          [
           "2017_4",
           "non_accelerated_filer",
           "quick"
          ],
          [
           "2017_4",
           "non_accelerated_filer",
           "cash"
          ],
          [
           "2017_4",
           "non_accelerated_filer",
           "times_interest_earned"
          ],
          [
           "2017_4",
           "non_accelerated_filer",
           "capex_to_operating_cash"
          ],
          [
           "2017_4",
           "non_accelerated_filer",
           "operating_cash_flow"
          ],
          [
           "2017_4",
           "non_accelerated_filer",
           "price_to_earnings"
          ],
          [
           "2017_4",
           "non_accelerated_filer",
           "ev_ebitda"
          ],
          [
           "2017_4",
           "non_accelerated_filer",
           "ev_ebit"
          ],
          [
           "2017_4",
           "non_accelerated_filer",
           "ev_revenue"
          ],
          [
           "2018_1",
           "non_accelerated_filer",
           "roe"
          ],
          [
           "2018_1",
           "non_accelerated_filer",
           "roa"
          ],
          [
           "2018_1",
           "non_accelerated_filer",
           "roce"
          ],
          [
           "2018_1",
           "non_accelerated_filer",
           "gross_margin"
          ],
          [
           "2018_1",
           "non_accelerated_filer",
           "operating_profit_margin"
          ],
          [
           "2018_1",
           "non_accelerated_filer",
           "net_profit_margin"
          ],
          [
           "2018_1",
           "non_accelerated_filer",
           "debt_to_equity"
          ],
          [
           "2018_1",
           "non_accelerated_filer",
           "equity"
          ],
          [
           "2018_1",
           "non_accelerated_filer",
           "debt"
          ],
          [
           "2018_1",
           "non_accelerated_filer",
           "current"
          ],
          [
           "2018_1",
           "non_accelerated_filer",
           "quick"
          ],
          [
           "2018_1",
           "non_accelerated_filer",
           "cash"
          ],
          [
           "2018_1",
           "non_accelerated_filer",
           "times_interest_earned"
          ],
          [
           "2018_1",
           "non_accelerated_filer",
           "capex_to_operating_cash"
          ],
          [
           "2018_1",
           "non_accelerated_filer",
           "operating_cash_flow"
          ],
          [
           "2018_1",
           "non_accelerated_filer",
           "price_to_earnings"
          ],
          [
           "2018_1",
           "non_accelerated_filer",
           "ev_ebitda"
          ],
          [
           "2018_1",
           "non_accelerated_filer",
           "ev_ebit"
          ],
          [
           "2018_1",
           "non_accelerated_filer",
           "ev_revenue"
          ],
          [
           "2018_2",
           "non_accelerated_filer",
           "roe"
          ],
          [
           "2018_2",
           "non_accelerated_filer",
           "roa"
          ],
          [
           "2018_2",
           "non_accelerated_filer",
           "roce"
          ],
          [
           "2018_2",
           "non_accelerated_filer",
           "gross_margin"
          ],
          [
           "2018_2",
           "non_accelerated_filer",
           "operating_profit_margin"
          ],
          [
           "2018_2",
           "non_accelerated_filer",
           "net_profit_margin"
          ],
          [
           "2018_2",
           "non_accelerated_filer",
           "debt_to_equity"
          ],
          [
           "2018_2",
           "non_accelerated_filer",
           "equity"
          ],
          [
           "2018_2",
           "non_accelerated_filer",
           "debt"
          ],
          [
           "2018_2",
           "non_accelerated_filer",
           "current"
          ],
          [
           "2018_2",
           "non_accelerated_filer",
           "quick"
          ],
          [
           "2018_2",
           "non_accelerated_filer",
           "cash"
          ],
          [
           "2018_2",
           "non_accelerated_filer",
           "times_interest_earned"
          ],
          [
           "2018_2",
           "non_accelerated_filer",
           "capex_to_operating_cash"
          ],
          [
           "2018_2",
           "non_accelerated_filer",
           "operating_cash_flow"
          ],
          [
           "2018_2",
           "non_accelerated_filer",
           "price_to_earnings"
          ],
          [
           "2018_2",
           "non_accelerated_filer",
           "ev_ebitda"
          ],
          [
           "2018_2",
           "non_accelerated_filer",
           "ev_ebit"
          ],
          [
           "2018_2",
           "non_accelerated_filer",
           "ev_revenue"
          ],
          [
           "2018_3",
           "non_accelerated_filer",
           "roe"
          ],
          [
           "2018_3",
           "non_accelerated_filer",
           "roa"
          ],
          [
           "2018_3",
           "non_accelerated_filer",
           "roce"
          ],
          [
           "2018_3",
           "non_accelerated_filer",
           "gross_margin"
          ],
          [
           "2018_3",
           "non_accelerated_filer",
           "operating_profit_margin"
          ],
          [
           "2018_3",
           "non_accelerated_filer",
           "net_profit_margin"
          ],
          [
           "2018_3",
           "non_accelerated_filer",
           "debt_to_equity"
          ],
          [
           "2018_3",
           "non_accelerated_filer",
           "equity"
          ],
          [
           "2018_3",
           "non_accelerated_filer",
           "debt"
          ],
          [
           "2018_3",
           "non_accelerated_filer",
           "current"
          ],
          [
           "2018_3",
           "non_accelerated_filer",
           "quick"
          ],
          [
           "2018_3",
           "non_accelerated_filer",
           "cash"
          ],
          [
           "2018_3",
           "non_accelerated_filer",
           "times_interest_earned"
          ],
          [
           "2018_3",
           "non_accelerated_filer",
           "capex_to_operating_cash"
          ],
          [
           "2018_3",
           "non_accelerated_filer",
           "operating_cash_flow"
          ],
          [
           "2018_3",
           "non_accelerated_filer",
           "price_to_earnings"
          ],
          [
           "2018_3",
           "non_accelerated_filer",
           "ev_ebitda"
          ],
          [
           "2018_3",
           "non_accelerated_filer",
           "ev_ebit"
          ],
          [
           "2018_3",
           "non_accelerated_filer",
           "ev_revenue"
          ],
          [
           "2018_4",
           "non_accelerated_filer",
           "roe"
          ],
          [
           "2018_4",
           "non_accelerated_filer",
           "roa"
          ],
          [
           "2018_4",
           "non_accelerated_filer",
           "roce"
          ],
          [
           "2018_4",
           "non_accelerated_filer",
           "gross_margin"
          ],
          [
           "2018_4",
           "non_accelerated_filer",
           "operating_profit_margin"
          ],
          [
           "2018_4",
           "non_accelerated_filer",
           "net_profit_margin"
          ],
          [
           "2018_4",
           "non_accelerated_filer",
           "debt_to_equity"
          ],
          [
           "2018_4",
           "non_accelerated_filer",
           "equity"
          ],
          [
           "2018_4",
           "non_accelerated_filer",
           "debt"
          ],
          [
           "2018_4",
           "non_accelerated_filer",
           "current"
          ],
          [
           "2018_4",
           "non_accelerated_filer",
           "quick"
          ],
          [
           "2018_4",
           "non_accelerated_filer",
           "cash"
          ],
          [
           "2018_4",
           "non_accelerated_filer",
           "times_interest_earned"
          ],
          [
           "2018_4",
           "non_accelerated_filer",
           "capex_to_operating_cash"
          ],
          [
           "2018_4",
           "non_accelerated_filer",
           "operating_cash_flow"
          ],
          [
           "2018_4",
           "non_accelerated_filer",
           "price_to_earnings"
          ],
          [
           "2018_4",
           "non_accelerated_filer",
           "ev_ebitda"
          ],
          [
           "2018_4",
           "non_accelerated_filer",
           "ev_ebit"
          ],
          [
           "2018_4",
           "non_accelerated_filer",
           "ev_revenue"
          ],
          [
           "2019_1",
           "non_accelerated_filer",
           "roe"
          ],
          [
           "2019_1",
           "non_accelerated_filer",
           "roa"
          ],
          [
           "2019_1",
           "non_accelerated_filer",
           "roce"
          ],
          [
           "2019_1",
           "non_accelerated_filer",
           "gross_margin"
          ],
          [
           "2019_1",
           "non_accelerated_filer",
           "operating_profit_margin"
          ],
          [
           "2019_1",
           "non_accelerated_filer",
           "net_profit_margin"
          ],
          [
           "2019_1",
           "non_accelerated_filer",
           "debt_to_equity"
          ],
          [
           "2019_1",
           "non_accelerated_filer",
           "equity"
          ],
          [
           "2019_1",
           "non_accelerated_filer",
           "debt"
          ],
          [
           "2019_1",
           "non_accelerated_filer",
           "current"
          ],
          [
           "2019_1",
           "non_accelerated_filer",
           "quick"
          ],
          [
           "2019_1",
           "non_accelerated_filer",
           "cash"
          ],
          [
           "2019_1",
           "non_accelerated_filer",
           "times_interest_earned"
          ],
          [
           "2019_1",
           "non_accelerated_filer",
           "capex_to_operating_cash"
          ],
          [
           "2019_1",
           "non_accelerated_filer",
           "operating_cash_flow"
          ],
          [
           "2019_1",
           "non_accelerated_filer",
           "price_to_earnings"
          ],
          [
           "2019_1",
           "non_accelerated_filer",
           "ev_ebitda"
          ],
          [
           "2019_1",
           "non_accelerated_filer",
           "ev_ebit"
          ],
          [
           "2019_1",
           "non_accelerated_filer",
           "ev_revenue"
          ],
          [
           "2019_2",
           "non_accelerated_filer",
           "roe"
          ],
          [
           "2019_2",
           "non_accelerated_filer",
           "roa"
          ],
          [
           "2019_2",
           "non_accelerated_filer",
           "roce"
          ],
          [
           "2019_2",
           "non_accelerated_filer",
           "gross_margin"
          ],
          [
           "2019_2",
           "non_accelerated_filer",
           "operating_profit_margin"
          ],
          [
           "2019_2",
           "non_accelerated_filer",
           "net_profit_margin"
          ],
          [
           "2019_2",
           "non_accelerated_filer",
           "debt_to_equity"
          ],
          [
           "2019_2",
           "non_accelerated_filer",
           "equity"
          ],
          [
           "2019_2",
           "non_accelerated_filer",
           "debt"
          ],
          [
           "2019_2",
           "non_accelerated_filer",
           "current"
          ],
          [
           "2019_2",
           "non_accelerated_filer",
           "quick"
          ],
          [
           "2019_2",
           "non_accelerated_filer",
           "cash"
          ],
          [
           "2019_2",
           "non_accelerated_filer",
           "times_interest_earned"
          ],
          [
           "2019_2",
           "non_accelerated_filer",
           "capex_to_operating_cash"
          ],
          [
           "2019_2",
           "non_accelerated_filer",
           "operating_cash_flow"
          ],
          [
           "2019_2",
           "non_accelerated_filer",
           "price_to_earnings"
          ],
          [
           "2019_2",
           "non_accelerated_filer",
           "ev_ebitda"
          ],
          [
           "2019_2",
           "non_accelerated_filer",
           "ev_ebit"
          ],
          [
           "2019_2",
           "non_accelerated_filer",
           "ev_revenue"
          ],
          [
           "2019_3",
           "non_accelerated_filer",
           "roe"
          ],
          [
           "2019_3",
           "non_accelerated_filer",
           "roa"
          ],
          [
           "2019_3",
           "non_accelerated_filer",
           "roce"
          ],
          [
           "2019_3",
           "non_accelerated_filer",
           "gross_margin"
          ],
          [
           "2019_3",
           "non_accelerated_filer",
           "operating_profit_margin"
          ],
          [
           "2019_3",
           "non_accelerated_filer",
           "net_profit_margin"
          ],
          [
           "2019_3",
           "non_accelerated_filer",
           "debt_to_equity"
          ],
          [
           "2019_3",
           "non_accelerated_filer",
           "equity"
          ],
          [
           "2019_3",
           "non_accelerated_filer",
           "debt"
          ],
          [
           "2019_3",
           "non_accelerated_filer",
           "current"
          ],
          [
           "2019_3",
           "non_accelerated_filer",
           "quick"
          ],
          [
           "2019_3",
           "non_accelerated_filer",
           "cash"
          ],
          [
           "2019_3",
           "non_accelerated_filer",
           "times_interest_earned"
          ],
          [
           "2019_3",
           "non_accelerated_filer",
           "capex_to_operating_cash"
          ],
          [
           "2019_3",
           "non_accelerated_filer",
           "operating_cash_flow"
          ],
          [
           "2019_3",
           "non_accelerated_filer",
           "price_to_earnings"
          ],
          [
           "2019_3",
           "non_accelerated_filer",
           "ev_ebitda"
          ],
          [
           "2019_3",
           "non_accelerated_filer",
           "ev_ebit"
          ],
          [
           "2019_3",
           "non_accelerated_filer",
           "ev_revenue"
          ],
          [
           "2019_4",
           "non_accelerated_filer",
           "roe"
          ],
          [
           "2019_4",
           "non_accelerated_filer",
           "roa"
          ],
          [
           "2019_4",
           "non_accelerated_filer",
           "roce"
          ],
          [
           "2019_4",
           "non_accelerated_filer",
           "gross_margin"
          ],
          [
           "2019_4",
           "non_accelerated_filer",
           "operating_profit_margin"
          ],
          [
           "2019_4",
           "non_accelerated_filer",
           "net_profit_margin"
          ],
          [
           "2019_4",
           "non_accelerated_filer",
           "debt_to_equity"
          ],
          [
           "2019_4",
           "non_accelerated_filer",
           "equity"
          ],
          [
           "2019_4",
           "non_accelerated_filer",
           "debt"
          ],
          [
           "2019_4",
           "non_accelerated_filer",
           "current"
          ],
          [
           "2019_4",
           "non_accelerated_filer",
           "quick"
          ],
          [
           "2019_4",
           "non_accelerated_filer",
           "cash"
          ],
          [
           "2019_4",
           "non_accelerated_filer",
           "times_interest_earned"
          ],
          [
           "2019_4",
           "non_accelerated_filer",
           "capex_to_operating_cash"
          ],
          [
           "2019_4",
           "non_accelerated_filer",
           "operating_cash_flow"
          ],
          [
           "2019_4",
           "non_accelerated_filer",
           "price_to_earnings"
          ],
          [
           "2019_4",
           "non_accelerated_filer",
           "ev_ebitda"
          ],
          [
           "2019_4",
           "non_accelerated_filer",
           "ev_ebit"
          ],
          [
           "2019_4",
           "non_accelerated_filer",
           "ev_revenue"
          ],
          [
           "2020_1",
           "non_accelerated_filer",
           "roe"
          ],
          [
           "2020_1",
           "non_accelerated_filer",
           "roa"
          ],
          [
           "2020_1",
           "non_accelerated_filer",
           "roce"
          ],
          [
           "2020_1",
           "non_accelerated_filer",
           "gross_margin"
          ],
          [
           "2020_1",
           "non_accelerated_filer",
           "operating_profit_margin"
          ],
          [
           "2020_1",
           "non_accelerated_filer",
           "net_profit_margin"
          ],
          [
           "2020_1",
           "non_accelerated_filer",
           "debt_to_equity"
          ],
          [
           "2020_1",
           "non_accelerated_filer",
           "equity"
          ],
          [
           "2020_1",
           "non_accelerated_filer",
           "debt"
          ],
          [
           "2020_1",
           "non_accelerated_filer",
           "current"
          ],
          [
           "2020_1",
           "non_accelerated_filer",
           "quick"
          ],
          [
           "2020_1",
           "non_accelerated_filer",
           "cash"
          ],
          [
           "2020_1",
           "non_accelerated_filer",
           "times_interest_earned"
          ],
          [
           "2020_1",
           "non_accelerated_filer",
           "capex_to_operating_cash"
          ],
          [
           "2020_1",
           "non_accelerated_filer",
           "operating_cash_flow"
          ],
          [
           "2020_1",
           "non_accelerated_filer",
           "price_to_earnings"
          ],
          [
           "2020_1",
           "non_accelerated_filer",
           "ev_ebitda"
          ],
          [
           "2020_1",
           "non_accelerated_filer",
           "ev_ebit"
          ],
          [
           "2020_1",
           "non_accelerated_filer",
           "ev_revenue"
          ],
          [
           "2020_2",
           "non_accelerated_filer",
           "roe"
          ],
          [
           "2020_2",
           "non_accelerated_filer",
           "roa"
          ],
          [
           "2020_2",
           "non_accelerated_filer",
           "roce"
          ],
          [
           "2020_2",
           "non_accelerated_filer",
           "gross_margin"
          ],
          [
           "2020_2",
           "non_accelerated_filer",
           "operating_profit_margin"
          ],
          [
           "2020_2",
           "non_accelerated_filer",
           "net_profit_margin"
          ],
          [
           "2020_2",
           "non_accelerated_filer",
           "debt_to_equity"
          ],
          [
           "2020_2",
           "non_accelerated_filer",
           "equity"
          ],
          [
           "2020_2",
           "non_accelerated_filer",
           "debt"
          ],
          [
           "2020_2",
           "non_accelerated_filer",
           "current"
          ],
          [
           "2020_2",
           "non_accelerated_filer",
           "quick"
          ],
          [
           "2020_2",
           "non_accelerated_filer",
           "cash"
          ],
          [
           "2020_2",
           "non_accelerated_filer",
           "times_interest_earned"
          ],
          [
           "2020_2",
           "non_accelerated_filer",
           "capex_to_operating_cash"
          ],
          [
           "2020_2",
           "non_accelerated_filer",
           "operating_cash_flow"
          ],
          [
           "2020_2",
           "non_accelerated_filer",
           "price_to_earnings"
          ],
          [
           "2020_2",
           "non_accelerated_filer",
           "ev_ebitda"
          ],
          [
           "2020_2",
           "non_accelerated_filer",
           "ev_ebit"
          ],
          [
           "2020_2",
           "non_accelerated_filer",
           "ev_revenue"
          ],
          [
           "2020_3",
           "non_accelerated_filer",
           "roe"
          ],
          [
           "2020_3",
           "non_accelerated_filer",
           "roa"
          ],
          [
           "2020_3",
           "non_accelerated_filer",
           "roce"
          ],
          [
           "2020_3",
           "non_accelerated_filer",
           "gross_margin"
          ],
          [
           "2020_3",
           "non_accelerated_filer",
           "operating_profit_margin"
          ],
          [
           "2020_3",
           "non_accelerated_filer",
           "net_profit_margin"
          ],
          [
           "2020_3",
           "non_accelerated_filer",
           "debt_to_equity"
          ],
          [
           "2020_3",
           "non_accelerated_filer",
           "equity"
          ],
          [
           "2020_3",
           "non_accelerated_filer",
           "debt"
          ],
          [
           "2020_3",
           "non_accelerated_filer",
           "current"
          ],
          [
           "2020_3",
           "non_accelerated_filer",
           "quick"
          ],
          [
           "2020_3",
           "non_accelerated_filer",
           "cash"
          ],
          [
           "2020_3",
           "non_accelerated_filer",
           "times_interest_earned"
          ],
          [
           "2020_3",
           "non_accelerated_filer",
           "capex_to_operating_cash"
          ],
          [
           "2020_3",
           "non_accelerated_filer",
           "operating_cash_flow"
          ],
          [
           "2020_3",
           "non_accelerated_filer",
           "price_to_earnings"
          ],
          [
           "2020_3",
           "non_accelerated_filer",
           "ev_ebitda"
          ],
          [
           "2020_3",
           "non_accelerated_filer",
           "ev_ebit"
          ],
          [
           "2020_3",
           "non_accelerated_filer",
           "ev_revenue"
          ],
          [
           "2020_4",
           "non_accelerated_filer",
           "roe"
          ],
          [
           "2020_4",
           "non_accelerated_filer",
           "roa"
          ],
          [
           "2020_4",
           "non_accelerated_filer",
           "roce"
          ],
          [
           "2020_4",
           "non_accelerated_filer",
           "gross_margin"
          ],
          [
           "2020_4",
           "non_accelerated_filer",
           "operating_profit_margin"
          ],
          [
           "2020_4",
           "non_accelerated_filer",
           "net_profit_margin"
          ],
          [
           "2020_4",
           "non_accelerated_filer",
           "debt_to_equity"
          ],
          [
           "2020_4",
           "non_accelerated_filer",
           "equity"
          ],
          [
           "2020_4",
           "non_accelerated_filer",
           "debt"
          ],
          [
           "2020_4",
           "non_accelerated_filer",
           "current"
          ],
          [
           "2020_4",
           "non_accelerated_filer",
           "quick"
          ],
          [
           "2020_4",
           "non_accelerated_filer",
           "cash"
          ],
          [
           "2020_4",
           "non_accelerated_filer",
           "times_interest_earned"
          ],
          [
           "2020_4",
           "non_accelerated_filer",
           "capex_to_operating_cash"
          ],
          [
           "2020_4",
           "non_accelerated_filer",
           "operating_cash_flow"
          ],
          [
           "2020_4",
           "non_accelerated_filer",
           "price_to_earnings"
          ],
          [
           "2020_4",
           "non_accelerated_filer",
           "ev_ebitda"
          ],
          [
           "2020_4",
           "non_accelerated_filer",
           "ev_ebit"
          ],
          [
           "2020_4",
           "non_accelerated_filer",
           "ev_revenue"
          ],
          [
           "2021_1",
           "non_accelerated_filer",
           "roe"
          ],
          [
           "2021_1",
           "non_accelerated_filer",
           "roa"
          ],
          [
           "2021_1",
           "non_accelerated_filer",
           "roce"
          ],
          [
           "2021_1",
           "non_accelerated_filer",
           "gross_margin"
          ],
          [
           "2021_1",
           "non_accelerated_filer",
           "operating_profit_margin"
          ],
          [
           "2021_1",
           "non_accelerated_filer",
           "net_profit_margin"
          ],
          [
           "2021_1",
           "non_accelerated_filer",
           "debt_to_equity"
          ],
          [
           "2021_1",
           "non_accelerated_filer",
           "equity"
          ],
          [
           "2021_1",
           "non_accelerated_filer",
           "debt"
          ],
          [
           "2021_1",
           "non_accelerated_filer",
           "current"
          ],
          [
           "2021_1",
           "non_accelerated_filer",
           "quick"
          ],
          [
           "2021_1",
           "non_accelerated_filer",
           "cash"
          ],
          [
           "2021_1",
           "non_accelerated_filer",
           "times_interest_earned"
          ],
          [
           "2021_1",
           "non_accelerated_filer",
           "capex_to_operating_cash"
          ],
          [
           "2021_1",
           "non_accelerated_filer",
           "operating_cash_flow"
          ],
          [
           "2021_1",
           "non_accelerated_filer",
           "price_to_earnings"
          ],
          [
           "2021_1",
           "non_accelerated_filer",
           "ev_ebitda"
          ],
          [
           "2021_1",
           "non_accelerated_filer",
           "ev_ebit"
          ],
          [
           "2021_1",
           "non_accelerated_filer",
           "ev_revenue"
          ],
          [
           "2021_2",
           "non_accelerated_filer",
           "roe"
          ],
          [
           "2021_2",
           "non_accelerated_filer",
           "roa"
          ],
          [
           "2021_2",
           "non_accelerated_filer",
           "roce"
          ],
          [
           "2021_2",
           "non_accelerated_filer",
           "gross_margin"
          ],
          [
           "2021_2",
           "non_accelerated_filer",
           "operating_profit_margin"
          ],
          [
           "2021_2",
           "non_accelerated_filer",
           "net_profit_margin"
          ],
          [
           "2021_2",
           "non_accelerated_filer",
           "debt_to_equity"
          ],
          [
           "2021_2",
           "non_accelerated_filer",
           "equity"
          ],
          [
           "2021_2",
           "non_accelerated_filer",
           "debt"
          ],
          [
           "2021_2",
           "non_accelerated_filer",
           "current"
          ],
          [
           "2021_2",
           "non_accelerated_filer",
           "quick"
          ],
          [
           "2021_2",
           "non_accelerated_filer",
           "cash"
          ],
          [
           "2021_2",
           "non_accelerated_filer",
           "times_interest_earned"
          ],
          [
           "2021_2",
           "non_accelerated_filer",
           "capex_to_operating_cash"
          ],
          [
           "2021_2",
           "non_accelerated_filer",
           "operating_cash_flow"
          ],
          [
           "2021_2",
           "non_accelerated_filer",
           "price_to_earnings"
          ],
          [
           "2021_2",
           "non_accelerated_filer",
           "ev_ebitda"
          ],
          [
           "2021_2",
           "non_accelerated_filer",
           "ev_ebit"
          ],
          [
           "2021_2",
           "non_accelerated_filer",
           "ev_revenue"
          ],
          [
           "2021_3",
           "non_accelerated_filer",
           "roe"
          ],
          [
           "2021_3",
           "non_accelerated_filer",
           "roa"
          ],
          [
           "2021_3",
           "non_accelerated_filer",
           "roce"
          ],
          [
           "2021_3",
           "non_accelerated_filer",
           "gross_margin"
          ],
          [
           "2021_3",
           "non_accelerated_filer",
           "operating_profit_margin"
          ],
          [
           "2021_3",
           "non_accelerated_filer",
           "net_profit_margin"
          ],
          [
           "2021_3",
           "non_accelerated_filer",
           "debt_to_equity"
          ],
          [
           "2021_3",
           "non_accelerated_filer",
           "equity"
          ],
          [
           "2021_3",
           "non_accelerated_filer",
           "debt"
          ],
          [
           "2021_3",
           "non_accelerated_filer",
           "current"
          ],
          [
           "2021_3",
           "non_accelerated_filer",
           "quick"
          ],
          [
           "2021_3",
           "non_accelerated_filer",
           "cash"
          ],
          [
           "2021_3",
           "non_accelerated_filer",
           "times_interest_earned"
          ],
          [
           "2021_3",
           "non_accelerated_filer",
           "capex_to_operating_cash"
          ],
          [
           "2021_3",
           "non_accelerated_filer",
           "operating_cash_flow"
          ],
          [
           "2021_3",
           "non_accelerated_filer",
           "price_to_earnings"
          ],
          [
           "2021_3",
           "non_accelerated_filer",
           "ev_ebitda"
          ],
          [
           "2021_3",
           "non_accelerated_filer",
           "ev_ebit"
          ],
          [
           "2021_3",
           "non_accelerated_filer",
           "ev_revenue"
          ]
         ],
         "fillcolor": "rgba(255,255,255,0)",
         "hoveron": "points",
         "hovertemplate": "filer_type=%{customdata[1]}<br>used_to_all=%{x}<br>year_q=%{customdata[0]}<br>kpi=%{customdata[2]}<extra></extra>",
         "jitter": 0,
         "legendgroup": "non_accelerated_filer",
         "line": {
          "color": "rgba(255,255,255,0)"
         },
         "marker": {
          "color": "#00cc96",
          "symbol": "line-ns-open"
         },
         "name": "non_accelerated_filer",
         "offsetgroup": "non_accelerated_filer",
         "showlegend": false,
         "type": "box",
         "x": [
          0.8,
          0.8,
          0.75,
          0.8,
          0.85,
          0.85,
          0.75,
          0.8,
          0.6,
          0.75,
          0.65,
          0.75,
          0.7,
          0.75,
          0.75,
          0.8,
          0.55,
          0.6,
          0.6,
          0.94,
          0.94,
          0.89,
          0.94,
          0.94,
          0.94,
          0.89,
          0.94,
          0.78,
          0.89,
          0.72,
          0.83,
          0.78,
          0.83,
          0.89,
          0.94,
          0.67,
          0.72,
          0.72,
          0.94,
          0.94,
          0.89,
          0.94,
          0.94,
          0.94,
          0.89,
          0.94,
          0.78,
          0.89,
          0.78,
          0.89,
          0.78,
          0.83,
          0.89,
          0.94,
          0.72,
          0.78,
          0.78,
          1,
          1,
          0.91,
          1,
          1,
          1,
          0.91,
          1,
          0.82,
          0.91,
          0.73,
          0.91,
          0.82,
          0.91,
          0.91,
          1,
          0.82,
          0.82,
          0.82,
          0.76,
          0.76,
          0.71,
          0.76,
          0.76,
          0.76,
          0.71,
          0.76,
          0.59,
          0.71,
          0.53,
          0.71,
          0.59,
          0.65,
          0.71,
          0.76,
          0.59,
          0.59,
          0.59,
          0.93,
          0.93,
          0.86,
          0.93,
          0.93,
          0.93,
          0.86,
          0.93,
          0.71,
          0.86,
          0.64,
          0.86,
          0.71,
          0.79,
          0.86,
          0.93,
          0.71,
          0.71,
          0.71,
          0.93,
          0.93,
          0.86,
          0.93,
          0.93,
          0.93,
          0.86,
          0.93,
          0.71,
          0.86,
          0.64,
          0.86,
          0.71,
          0.79,
          0.86,
          0.93,
          0.71,
          0.71,
          0.71,
          1,
          1,
          0.86,
          1,
          1,
          1,
          0.86,
          1,
          0.86,
          0.86,
          0.71,
          0.86,
          0.86,
          0.86,
          0.86,
          1,
          0.86,
          0.86,
          0.86,
          0.73,
          0.73,
          0.64,
          0.73,
          0.73,
          0.73,
          0.64,
          0.73,
          0.55,
          0.64,
          0.45,
          0.64,
          0.55,
          0.55,
          0.64,
          0.73,
          0.55,
          0.55,
          0.55,
          0.8,
          0.8,
          0.7,
          0.8,
          0.8,
          0.8,
          0.7,
          0.8,
          0.6,
          0.7,
          0.5,
          0.7,
          0.6,
          0.6,
          0.7,
          0.8,
          0.6,
          0.6,
          0.6,
          0.91,
          1,
          0.91,
          1,
          1,
          1,
          0.82,
          0.91,
          0.82,
          0.91,
          0.64,
          0.82,
          0.82,
          0.82,
          0.91,
          1,
          0.73,
          0.73,
          0.73,
          0.93,
          1,
          0.79,
          0.86,
          1,
          1,
          0.79,
          0.93,
          0.79,
          0.79,
          0.64,
          0.79,
          0.71,
          0.71,
          0.79,
          1,
          0.79,
          0.79,
          0.79,
          0.81,
          0.81,
          0.69,
          0.69,
          0.88,
          0.81,
          0.69,
          0.81,
          0.69,
          0.69,
          0.56,
          0.69,
          0.56,
          0.62,
          0.69,
          0.81,
          0.69,
          0.69,
          0.69,
          0.87,
          0.93,
          0.73,
          0.73,
          0.93,
          0.93,
          0.73,
          0.87,
          0.73,
          0.73,
          0.6,
          0.73,
          0.67,
          0.67,
          0.73,
          0.93,
          0.73,
          0.73,
          0.73,
          0.53,
          0.6,
          0.53,
          0.6,
          0.6,
          0.6,
          0.53,
          0.67,
          0.6,
          0.53,
          0.47,
          0.47,
          0.53,
          0.53,
          0.53,
          0.6,
          0.53,
          0.53,
          0.53,
          0.9,
          0.97,
          0.87,
          0.77,
          0.94,
          0.9,
          0.87,
          0.94,
          0.77,
          0.87,
          0.71,
          0.87,
          0.77,
          0.77,
          0.87,
          0.97,
          0.77,
          0.77,
          0.74,
          0.77,
          0.77,
          0.71,
          0.63,
          0.74,
          0.74,
          0.71,
          0.77,
          0.66,
          0.71,
          0.6,
          0.71,
          0.63,
          0.66,
          0.71,
          0.77,
          0.66,
          0.66,
          0.63,
          0.79,
          0.79,
          0.73,
          0.64,
          0.76,
          0.76,
          0.76,
          0.82,
          0.67,
          0.73,
          0.61,
          0.73,
          0.61,
          0.67,
          0.73,
          0.79,
          0.67,
          0.67,
          0.64
         ],
         "xaxis": "x2",
         "yaxis": "y2"
        }
       ],
       "layout": {
        "barmode": "relative",
        "legend": {
         "title": {
          "text": "filer_type"
         },
         "tracegroupgap": 0
        },
        "template": {
         "data": {
          "bar": [
           {
            "error_x": {
             "color": "#2a3f5f"
            },
            "error_y": {
             "color": "#2a3f5f"
            },
            "marker": {
             "line": {
              "color": "#E5ECF6",
              "width": 0.5
             },
             "pattern": {
              "fillmode": "overlay",
              "size": 10,
              "solidity": 0.2
             }
            },
            "type": "bar"
           }
          ],
          "barpolar": [
           {
            "marker": {
             "line": {
              "color": "#E5ECF6",
              "width": 0.5
             },
             "pattern": {
              "fillmode": "overlay",
              "size": 10,
              "solidity": 0.2
             }
            },
            "type": "barpolar"
           }
          ],
          "carpet": [
           {
            "aaxis": {
             "endlinecolor": "#2a3f5f",
             "gridcolor": "white",
             "linecolor": "white",
             "minorgridcolor": "white",
             "startlinecolor": "#2a3f5f"
            },
            "baxis": {
             "endlinecolor": "#2a3f5f",
             "gridcolor": "white",
             "linecolor": "white",
             "minorgridcolor": "white",
             "startlinecolor": "#2a3f5f"
            },
            "type": "carpet"
           }
          ],
          "choropleth": [
           {
            "colorbar": {
             "outlinewidth": 0,
             "ticks": ""
            },
            "type": "choropleth"
           }
          ],
          "contour": [
           {
            "colorbar": {
             "outlinewidth": 0,
             "ticks": ""
            },
            "colorscale": [
             [
              0,
              "#0d0887"
             ],
             [
              0.1111111111111111,
              "#46039f"
             ],
             [
              0.2222222222222222,
              "#7201a8"
             ],
             [
              0.3333333333333333,
              "#9c179e"
             ],
             [
              0.4444444444444444,
              "#bd3786"
             ],
             [
              0.5555555555555556,
              "#d8576b"
             ],
             [
              0.6666666666666666,
              "#ed7953"
             ],
             [
              0.7777777777777778,
              "#fb9f3a"
             ],
             [
              0.8888888888888888,
              "#fdca26"
             ],
             [
              1,
              "#f0f921"
             ]
            ],
            "type": "contour"
           }
          ],
          "contourcarpet": [
           {
            "colorbar": {
             "outlinewidth": 0,
             "ticks": ""
            },
            "type": "contourcarpet"
           }
          ],
          "heatmap": [
           {
            "colorbar": {
             "outlinewidth": 0,
             "ticks": ""
            },
            "colorscale": [
             [
              0,
              "#0d0887"
             ],
             [
              0.1111111111111111,
              "#46039f"
             ],
             [
              0.2222222222222222,
              "#7201a8"
             ],
             [
              0.3333333333333333,
              "#9c179e"
             ],
             [
              0.4444444444444444,
              "#bd3786"
             ],
             [
              0.5555555555555556,
              "#d8576b"
             ],
             [
              0.6666666666666666,
              "#ed7953"
             ],
             [
              0.7777777777777778,
              "#fb9f3a"
             ],
             [
              0.8888888888888888,
              "#fdca26"
             ],
             [
              1,
              "#f0f921"
             ]
            ],
            "type": "heatmap"
           }
          ],
          "heatmapgl": [
           {
            "colorbar": {
             "outlinewidth": 0,
             "ticks": ""
            },
            "colorscale": [
             [
              0,
              "#0d0887"
             ],
             [
              0.1111111111111111,
              "#46039f"
             ],
             [
              0.2222222222222222,
              "#7201a8"
             ],
             [
              0.3333333333333333,
              "#9c179e"
             ],
             [
              0.4444444444444444,
              "#bd3786"
             ],
             [
              0.5555555555555556,
              "#d8576b"
             ],
             [
              0.6666666666666666,
              "#ed7953"
             ],
             [
              0.7777777777777778,
              "#fb9f3a"
             ],
             [
              0.8888888888888888,
              "#fdca26"
             ],
             [
              1,
              "#f0f921"
             ]
            ],
            "type": "heatmapgl"
           }
          ],
          "histogram": [
           {
            "marker": {
             "pattern": {
              "fillmode": "overlay",
              "size": 10,
              "solidity": 0.2
             }
            },
            "type": "histogram"
           }
          ],
          "histogram2d": [
           {
            "colorbar": {
             "outlinewidth": 0,
             "ticks": ""
            },
            "colorscale": [
             [
              0,
              "#0d0887"
             ],
             [
              0.1111111111111111,
              "#46039f"
             ],
             [
              0.2222222222222222,
              "#7201a8"
             ],
             [
              0.3333333333333333,
              "#9c179e"
             ],
             [
              0.4444444444444444,
              "#bd3786"
             ],
             [
              0.5555555555555556,
              "#d8576b"
             ],
             [
              0.6666666666666666,
              "#ed7953"
             ],
             [
              0.7777777777777778,
              "#fb9f3a"
             ],
             [
              0.8888888888888888,
              "#fdca26"
             ],
             [
              1,
              "#f0f921"
             ]
            ],
            "type": "histogram2d"
           }
          ],
          "histogram2dcontour": [
           {
            "colorbar": {
             "outlinewidth": 0,
             "ticks": ""
            },
            "colorscale": [
             [
              0,
              "#0d0887"
             ],
             [
              0.1111111111111111,
              "#46039f"
             ],
             [
              0.2222222222222222,
              "#7201a8"
             ],
             [
              0.3333333333333333,
              "#9c179e"
             ],
             [
              0.4444444444444444,
              "#bd3786"
             ],
             [
              0.5555555555555556,
              "#d8576b"
             ],
             [
              0.6666666666666666,
              "#ed7953"
             ],
             [
              0.7777777777777778,
              "#fb9f3a"
             ],
             [
              0.8888888888888888,
              "#fdca26"
             ],
             [
              1,
              "#f0f921"
             ]
            ],
            "type": "histogram2dcontour"
           }
          ],
          "mesh3d": [
           {
            "colorbar": {
             "outlinewidth": 0,
             "ticks": ""
            },
            "type": "mesh3d"
           }
          ],
          "parcoords": [
           {
            "line": {
             "colorbar": {
              "outlinewidth": 0,
              "ticks": ""
             }
            },
            "type": "parcoords"
           }
          ],
          "pie": [
           {
            "automargin": true,
            "type": "pie"
           }
          ],
          "scatter": [
           {
            "marker": {
             "colorbar": {
              "outlinewidth": 0,
              "ticks": ""
             }
            },
            "type": "scatter"
           }
          ],
          "scatter3d": [
           {
            "line": {
             "colorbar": {
              "outlinewidth": 0,
              "ticks": ""
             }
            },
            "marker": {
             "colorbar": {
              "outlinewidth": 0,
              "ticks": ""
             }
            },
            "type": "scatter3d"
           }
          ],
          "scattercarpet": [
           {
            "marker": {
             "colorbar": {
              "outlinewidth": 0,
              "ticks": ""
             }
            },
            "type": "scattercarpet"
           }
          ],
          "scattergeo": [
           {
            "marker": {
             "colorbar": {
              "outlinewidth": 0,
              "ticks": ""
             }
            },
            "type": "scattergeo"
           }
          ],
          "scattergl": [
           {
            "marker": {
             "colorbar": {
              "outlinewidth": 0,
              "ticks": ""
             }
            },
            "type": "scattergl"
           }
          ],
          "scattermapbox": [
           {
            "marker": {
             "colorbar": {
              "outlinewidth": 0,
              "ticks": ""
             }
            },
            "type": "scattermapbox"
           }
          ],
          "scatterpolar": [
           {
            "marker": {
             "colorbar": {
              "outlinewidth": 0,
              "ticks": ""
             }
            },
            "type": "scatterpolar"
           }
          ],
          "scatterpolargl": [
           {
            "marker": {
             "colorbar": {
              "outlinewidth": 0,
              "ticks": ""
             }
            },
            "type": "scatterpolargl"
           }
          ],
          "scatterternary": [
           {
            "marker": {
             "colorbar": {
              "outlinewidth": 0,
              "ticks": ""
             }
            },
            "type": "scatterternary"
           }
          ],
          "surface": [
           {
            "colorbar": {
             "outlinewidth": 0,
             "ticks": ""
            },
            "colorscale": [
             [
              0,
              "#0d0887"
             ],
             [
              0.1111111111111111,
              "#46039f"
             ],
             [
              0.2222222222222222,
              "#7201a8"
             ],
             [
              0.3333333333333333,
              "#9c179e"
             ],
             [
              0.4444444444444444,
              "#bd3786"
             ],
             [
              0.5555555555555556,
              "#d8576b"
             ],
             [
              0.6666666666666666,
              "#ed7953"
             ],
             [
              0.7777777777777778,
              "#fb9f3a"
             ],
             [
              0.8888888888888888,
              "#fdca26"
             ],
             [
              1,
              "#f0f921"
             ]
            ],
            "type": "surface"
           }
          ],
          "table": [
           {
            "cells": {
             "fill": {
              "color": "#EBF0F8"
             },
             "line": {
              "color": "white"
             }
            },
            "header": {
             "fill": {
              "color": "#C8D4E3"
             },
             "line": {
              "color": "white"
             }
            },
            "type": "table"
           }
          ]
         },
         "layout": {
          "annotationdefaults": {
           "arrowcolor": "#2a3f5f",
           "arrowhead": 0,
           "arrowwidth": 1
          },
          "autotypenumbers": "strict",
          "coloraxis": {
           "colorbar": {
            "outlinewidth": 0,
            "ticks": ""
           }
          },
          "colorscale": {
           "diverging": [
            [
             0,
             "#8e0152"
            ],
            [
             0.1,
             "#c51b7d"
            ],
            [
             0.2,
             "#de77ae"
            ],
            [
             0.3,
             "#f1b6da"
            ],
            [
             0.4,
             "#fde0ef"
            ],
            [
             0.5,
             "#f7f7f7"
            ],
            [
             0.6,
             "#e6f5d0"
            ],
            [
             0.7,
             "#b8e186"
            ],
            [
             0.8,
             "#7fbc41"
            ],
            [
             0.9,
             "#4d9221"
            ],
            [
             1,
             "#276419"
            ]
           ],
           "sequential": [
            [
             0,
             "#0d0887"
            ],
            [
             0.1111111111111111,
             "#46039f"
            ],
            [
             0.2222222222222222,
             "#7201a8"
            ],
            [
             0.3333333333333333,
             "#9c179e"
            ],
            [
             0.4444444444444444,
             "#bd3786"
            ],
            [
             0.5555555555555556,
             "#d8576b"
            ],
            [
             0.6666666666666666,
             "#ed7953"
            ],
            [
             0.7777777777777778,
             "#fb9f3a"
            ],
            [
             0.8888888888888888,
             "#fdca26"
            ],
            [
             1,
             "#f0f921"
            ]
           ],
           "sequentialminus": [
            [
             0,
             "#0d0887"
            ],
            [
             0.1111111111111111,
             "#46039f"
            ],
            [
             0.2222222222222222,
             "#7201a8"
            ],
            [
             0.3333333333333333,
             "#9c179e"
            ],
            [
             0.4444444444444444,
             "#bd3786"
            ],
            [
             0.5555555555555556,
             "#d8576b"
            ],
            [
             0.6666666666666666,
             "#ed7953"
            ],
            [
             0.7777777777777778,
             "#fb9f3a"
            ],
            [
             0.8888888888888888,
             "#fdca26"
            ],
            [
             1,
             "#f0f921"
            ]
           ]
          },
          "colorway": [
           "#636efa",
           "#EF553B",
           "#00cc96",
           "#ab63fa",
           "#FFA15A",
           "#19d3f3",
           "#FF6692",
           "#B6E880",
           "#FF97FF",
           "#FECB52"
          ],
          "font": {
           "color": "#2a3f5f"
          },
          "geo": {
           "bgcolor": "white",
           "lakecolor": "white",
           "landcolor": "#E5ECF6",
           "showlakes": true,
           "showland": true,
           "subunitcolor": "white"
          },
          "hoverlabel": {
           "align": "left"
          },
          "hovermode": "closest",
          "mapbox": {
           "style": "light"
          },
          "paper_bgcolor": "white",
          "plot_bgcolor": "#E5ECF6",
          "polar": {
           "angularaxis": {
            "gridcolor": "white",
            "linecolor": "white",
            "ticks": ""
           },
           "bgcolor": "#E5ECF6",
           "radialaxis": {
            "gridcolor": "white",
            "linecolor": "white",
            "ticks": ""
           }
          },
          "scene": {
           "xaxis": {
            "backgroundcolor": "#E5ECF6",
            "gridcolor": "white",
            "gridwidth": 2,
            "linecolor": "white",
            "showbackground": true,
            "ticks": "",
            "zerolinecolor": "white"
           },
           "yaxis": {
            "backgroundcolor": "#E5ECF6",
            "gridcolor": "white",
            "gridwidth": 2,
            "linecolor": "white",
            "showbackground": true,
            "ticks": "",
            "zerolinecolor": "white"
           },
           "zaxis": {
            "backgroundcolor": "#E5ECF6",
            "gridcolor": "white",
            "gridwidth": 2,
            "linecolor": "white",
            "showbackground": true,
            "ticks": "",
            "zerolinecolor": "white"
           }
          },
          "shapedefaults": {
           "line": {
            "color": "#2a3f5f"
           }
          },
          "ternary": {
           "aaxis": {
            "gridcolor": "white",
            "linecolor": "white",
            "ticks": ""
           },
           "baxis": {
            "gridcolor": "white",
            "linecolor": "white",
            "ticks": ""
           },
           "bgcolor": "#E5ECF6",
           "caxis": {
            "gridcolor": "white",
            "linecolor": "white",
            "ticks": ""
           }
          },
          "title": {
           "x": 0.05
          },
          "xaxis": {
           "automargin": true,
           "gridcolor": "white",
           "linecolor": "white",
           "ticks": "",
           "title": {
            "standoff": 15
           },
           "zerolinecolor": "white",
           "zerolinewidth": 2
          },
          "yaxis": {
           "automargin": true,
           "gridcolor": "white",
           "linecolor": "white",
           "ticks": "",
           "title": {
            "standoff": 15
           },
           "zerolinecolor": "white",
           "zerolinewidth": 2
          }
         }
        },
        "title": {
         "text": "Percentage used KPIs from all for calculating mean/median | color: Filer type"
        },
        "xaxis": {
         "anchor": "y",
         "domain": [
          0,
          1
         ],
         "title": {
          "text": "used_to_all"
         }
        },
        "xaxis2": {
         "anchor": "y2",
         "domain": [
          0,
          1
         ],
         "matches": "x",
         "showgrid": true,
         "showticklabels": false
        },
        "yaxis": {
         "anchor": "x",
         "domain": [
          0,
          0.7326
         ],
         "title": {
          "text": "count"
         }
        },
        "yaxis2": {
         "anchor": "x2",
         "domain": [
          0.7426,
          1
         ],
         "matches": "y2",
         "showgrid": false,
         "showline": false,
         "showticklabels": false,
         "ticks": ""
        }
       }
      }
     },
     "metadata": {},
     "output_type": "display_data"
    }
   ],
   "source": [
    "import plotly.express as px\n",
    "\n",
    "fig = px.histogram(df_for_plot, x=\"used_to_all\", color=\"filer_type\", marginal=\"rug\",\n",
    "                   hover_data=df_for_plot.columns, title=\"Percentage used KPIs from all for calculating mean/median | color: Filer type\")\n",
    "fig.show()"
   ]
  },
  {
   "cell_type": "code",
   "execution_count": null,
   "metadata": {},
   "outputs": [],
   "source": []
  }
 ],
 "metadata": {
  "interpreter": {
   "hash": "0644d8df8e5c95ca43ccbd07b011ebf1be4f0d7ab159a326abe9423365491a2b"
  },
  "kernelspec": {
   "display_name": "Python 3.8.5 ('.venv': venv)",
   "language": "python",
   "name": "python3"
  },
  "language_info": {
   "codemirror_mode": {
    "name": "ipython",
    "version": 3
   },
   "file_extension": ".py",
   "mimetype": "text/x-python",
   "name": "python",
   "nbconvert_exporter": "python",
   "pygments_lexer": "ipython3",
   "version": "3.8.5"
  },
  "orig_nbformat": 4
 },
 "nbformat": 4,
 "nbformat_minor": 2
}
