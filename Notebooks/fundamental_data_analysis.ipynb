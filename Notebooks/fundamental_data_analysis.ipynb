{
 "cells": [
  {
   "cell_type": "markdown",
   "metadata": {},
   "source": [
    "## Getting input data from DB"
   ]
  },
  {
   "cell_type": "code",
   "execution_count": 1,
   "metadata": {},
   "outputs": [],
   "source": [
    "import json\n",
    "import requests\n",
    "\n",
    "list_of_years = [2017, 2018, 2019, 2020, 2021]\n",
    "list_of_qs = [1, 2, 3, 4]\n",
    "\n",
    "dict_of_res = {}\n",
    "for year in list_of_years:\n",
    "    for q in list_of_qs:\n",
    "        # Exclude 2017 quarter 1:\n",
    "        if year == 2017 and q == 1:\n",
    "            continue\n",
    "        \n",
    "        resp = json.loads(requests.get(f\"http://localhost:8000/api/v1/input_data/{year}/{q}\").text)\n",
    "        if resp[\"code\"] == 200:\n",
    "            dict_of_res[str(year) + \"_\" + str(q)] = resp[\"data\"]"
   ]
  },
  {
   "cell_type": "markdown",
   "metadata": {},
   "source": [
    "## Get the fundamental data avg dict for all years and all quarters"
   ]
  },
  {
   "cell_type": "code",
   "execution_count": 2,
   "metadata": {},
   "outputs": [],
   "source": [
    "dict_fund_data_avg_per_year_q = {}\n",
    "for year_q, input_data_list in dict_of_res.items():\n",
    "    dict_fund_data_avg_per_year_q[year_q] = input_data_list[0][\"fundamental_data_avg\"]"
   ]
  },
  {
   "cell_type": "code",
   "execution_count": 3,
   "metadata": {},
   "outputs": [],
   "source": [
    "import pandas as pd\n",
    "\n",
    "list_of_dicts_for_df = []\n",
    "for year_q, dict_info in dict_fund_data_avg_per_year_q.items():\n",
    "    # print(year_q)\n",
    "    for filer_k, dict_kpis in dict_info.items():\n",
    "        for kpi_k, dict_counts in dict_kpis.items():\n",
    "            dict_row = {}\n",
    "            # if kpi_k == 'roe':\n",
    "            #     print(filer_k.upper())\n",
    "            # print(f\"{kpi_k.upper()} | all: {dict_counts['count_all']} | used: {dict_counts['count_used']} | median: {dict_counts['median']} | mean: {dict_counts['mean']} | not on time: {dict_counts.get('count_not_on_time', 0)} | used to all: {dict_counts['count_used']/dict_counts['count_all']}\")\n",
    "            # print(f\"{kpi_k.upper()} | used to all: {round(dict_counts['count_used']/dict_counts['count_all'], 2)}\")\n",
    "            \n",
    "            list_of_dicts_for_df.append({\"year_q\": year_q, \"filer_type\": filer_k, \"kpi\": kpi_k, \"used_to_all\": round(dict_counts['count_used']/dict_counts['count_all'], 2)})\n",
    "            \n",
    "    #     print('-----------------------------------')\n",
    "    # print('-----------NEW ITERATION-----------')\n",
    "    \n",
    "df_for_plot = pd.DataFrame(list_of_dicts_for_df)"
   ]
  },
  {
   "cell_type": "code",
   "execution_count": 8,
   "metadata": {},
   "outputs": [
    {
     "data": {
      "text/html": [
       "<div>\n",
       "<style scoped>\n",
       "    .dataframe tbody tr th:only-of-type {\n",
       "        vertical-align: middle;\n",
       "    }\n",
       "\n",
       "    .dataframe tbody tr th {\n",
       "        vertical-align: top;\n",
       "    }\n",
       "\n",
       "    .dataframe thead th {\n",
       "        text-align: right;\n",
       "    }\n",
       "</style>\n",
       "<table border=\"1\" class=\"dataframe\">\n",
       "  <thead>\n",
       "    <tr style=\"text-align: right;\">\n",
       "      <th></th>\n",
       "      <th>year_q</th>\n",
       "      <th>filer_type</th>\n",
       "      <th>kpi</th>\n",
       "      <th>used_to_all</th>\n",
       "    </tr>\n",
       "  </thead>\n",
       "  <tbody>\n",
       "    <tr>\n",
       "      <th>551</th>\n",
       "      <td>2019_3</td>\n",
       "      <td>non_accelerated_filer</td>\n",
       "      <td>roe</td>\n",
       "      <td>0.8</td>\n",
       "    </tr>\n",
       "    <tr>\n",
       "      <th>552</th>\n",
       "      <td>2019_3</td>\n",
       "      <td>non_accelerated_filer</td>\n",
       "      <td>roa</td>\n",
       "      <td>0.8</td>\n",
       "    </tr>\n",
       "    <tr>\n",
       "      <th>553</th>\n",
       "      <td>2019_3</td>\n",
       "      <td>non_accelerated_filer</td>\n",
       "      <td>roce</td>\n",
       "      <td>0.7</td>\n",
       "    </tr>\n",
       "    <tr>\n",
       "      <th>554</th>\n",
       "      <td>2019_3</td>\n",
       "      <td>non_accelerated_filer</td>\n",
       "      <td>gross_margin</td>\n",
       "      <td>0.8</td>\n",
       "    </tr>\n",
       "    <tr>\n",
       "      <th>555</th>\n",
       "      <td>2019_3</td>\n",
       "      <td>non_accelerated_filer</td>\n",
       "      <td>operating_profit_margin</td>\n",
       "      <td>0.8</td>\n",
       "    </tr>\n",
       "    <tr>\n",
       "      <th>556</th>\n",
       "      <td>2019_3</td>\n",
       "      <td>non_accelerated_filer</td>\n",
       "      <td>net_profit_margin</td>\n",
       "      <td>0.8</td>\n",
       "    </tr>\n",
       "    <tr>\n",
       "      <th>557</th>\n",
       "      <td>2019_3</td>\n",
       "      <td>non_accelerated_filer</td>\n",
       "      <td>debt_to_equity</td>\n",
       "      <td>0.7</td>\n",
       "    </tr>\n",
       "    <tr>\n",
       "      <th>558</th>\n",
       "      <td>2019_3</td>\n",
       "      <td>non_accelerated_filer</td>\n",
       "      <td>equity</td>\n",
       "      <td>0.8</td>\n",
       "    </tr>\n",
       "    <tr>\n",
       "      <th>559</th>\n",
       "      <td>2019_3</td>\n",
       "      <td>non_accelerated_filer</td>\n",
       "      <td>debt</td>\n",
       "      <td>0.6</td>\n",
       "    </tr>\n",
       "    <tr>\n",
       "      <th>560</th>\n",
       "      <td>2019_3</td>\n",
       "      <td>non_accelerated_filer</td>\n",
       "      <td>current</td>\n",
       "      <td>0.7</td>\n",
       "    </tr>\n",
       "    <tr>\n",
       "      <th>561</th>\n",
       "      <td>2019_3</td>\n",
       "      <td>non_accelerated_filer</td>\n",
       "      <td>quick</td>\n",
       "      <td>0.5</td>\n",
       "    </tr>\n",
       "    <tr>\n",
       "      <th>562</th>\n",
       "      <td>2019_3</td>\n",
       "      <td>non_accelerated_filer</td>\n",
       "      <td>cash</td>\n",
       "      <td>0.7</td>\n",
       "    </tr>\n",
       "    <tr>\n",
       "      <th>563</th>\n",
       "      <td>2019_3</td>\n",
       "      <td>non_accelerated_filer</td>\n",
       "      <td>times_interest_earned</td>\n",
       "      <td>0.6</td>\n",
       "    </tr>\n",
       "    <tr>\n",
       "      <th>564</th>\n",
       "      <td>2019_3</td>\n",
       "      <td>non_accelerated_filer</td>\n",
       "      <td>capex_to_operating_cash</td>\n",
       "      <td>0.6</td>\n",
       "    </tr>\n",
       "    <tr>\n",
       "      <th>565</th>\n",
       "      <td>2019_3</td>\n",
       "      <td>non_accelerated_filer</td>\n",
       "      <td>operating_cash_flow</td>\n",
       "      <td>0.7</td>\n",
       "    </tr>\n",
       "    <tr>\n",
       "      <th>566</th>\n",
       "      <td>2019_3</td>\n",
       "      <td>non_accelerated_filer</td>\n",
       "      <td>price_to_earnings</td>\n",
       "      <td>0.8</td>\n",
       "    </tr>\n",
       "    <tr>\n",
       "      <th>567</th>\n",
       "      <td>2019_3</td>\n",
       "      <td>non_accelerated_filer</td>\n",
       "      <td>ev_ebitda</td>\n",
       "      <td>0.6</td>\n",
       "    </tr>\n",
       "    <tr>\n",
       "      <th>568</th>\n",
       "      <td>2019_3</td>\n",
       "      <td>non_accelerated_filer</td>\n",
       "      <td>ev_ebit</td>\n",
       "      <td>0.6</td>\n",
       "    </tr>\n",
       "    <tr>\n",
       "      <th>569</th>\n",
       "      <td>2019_3</td>\n",
       "      <td>non_accelerated_filer</td>\n",
       "      <td>ev_revenue</td>\n",
       "      <td>0.6</td>\n",
       "    </tr>\n",
       "  </tbody>\n",
       "</table>\n",
       "</div>"
      ],
      "text/plain": [
       "     year_q             filer_type                      kpi  used_to_all\n",
       "551  2019_3  non_accelerated_filer                      roe          0.8\n",
       "552  2019_3  non_accelerated_filer                      roa          0.8\n",
       "553  2019_3  non_accelerated_filer                     roce          0.7\n",
       "554  2019_3  non_accelerated_filer             gross_margin          0.8\n",
       "555  2019_3  non_accelerated_filer  operating_profit_margin          0.8\n",
       "556  2019_3  non_accelerated_filer        net_profit_margin          0.8\n",
       "557  2019_3  non_accelerated_filer           debt_to_equity          0.7\n",
       "558  2019_3  non_accelerated_filer                   equity          0.8\n",
       "559  2019_3  non_accelerated_filer                     debt          0.6\n",
       "560  2019_3  non_accelerated_filer                  current          0.7\n",
       "561  2019_3  non_accelerated_filer                    quick          0.5\n",
       "562  2019_3  non_accelerated_filer                     cash          0.7\n",
       "563  2019_3  non_accelerated_filer    times_interest_earned          0.6\n",
       "564  2019_3  non_accelerated_filer  capex_to_operating_cash          0.6\n",
       "565  2019_3  non_accelerated_filer      operating_cash_flow          0.7\n",
       "566  2019_3  non_accelerated_filer        price_to_earnings          0.8\n",
       "567  2019_3  non_accelerated_filer                ev_ebitda          0.6\n",
       "568  2019_3  non_accelerated_filer                  ev_ebit          0.6\n",
       "569  2019_3  non_accelerated_filer               ev_revenue          0.6"
      ]
     },
     "execution_count": 8,
     "metadata": {},
     "output_type": "execute_result"
    }
   ],
   "source": [
    "df_for_plot[(df_for_plot[\"year_q\"] == \"2019_3\") & (df_for_plot[\"filer_type\"] == \"non_accelerated_filer\")]"
   ]
  },
  {
   "cell_type": "code",
   "execution_count": 33,
   "metadata": {},
   "outputs": [
    {
     "data": {
      "application/vnd.plotly.v1+json": {
       "config": {
        "plotlyServerURL": "https://plot.ly"
       },
       "data": [
        {
         "alignmentgroup": "True",
         "bingroup": "x",
         "hovertemplate": "kpi=roe<br>used_to_all=%{x}<br>count=%{y}<extra></extra>",
         "legendgroup": "roe",
         "marker": {
          "color": "#636efa",
          "pattern": {
           "shape": ""
          }
         },
         "name": "roe",
         "offsetgroup": "roe",
         "orientation": "v",
         "showlegend": true,
         "type": "histogram",
         "x": [
          0.85,
          0.98,
          0.8,
          0.94,
          1,
          0.94,
          0.97,
          1,
          0.94,
          1,
          0.98,
          1,
          0.95,
          1,
          0.76,
          0.97,
          0.98,
          0.93,
          1,
          1,
          0.93,
          0.86,
          0.96,
          1,
          0.97,
          1,
          0.73,
          0.97,
          1,
          0.8,
          0.74,
          0.98,
          0.91,
          0.97,
          0.92,
          0.93,
          0.56,
          0.88,
          0.81,
          0.81,
          0.96,
          0.87,
          0.91,
          1,
          0.53,
          0.9,
          0.96,
          0.97,
          0.77,
          0.93,
          0.97,
          0.79,
          0.96,
          1
         ],
         "xaxis": "x",
         "yaxis": "y"
        },
        {
         "alignmentgroup": "True",
         "boxpoints": "all",
         "customdata": [
          [
           "2017_2",
           "accelerated_filer",
           "roe"
          ],
          [
           "2017_2",
           "large_accelerated_filer",
           "roe"
          ],
          [
           "2017_2",
           "non_accelerated_filer",
           "roe"
          ],
          [
           "2017_3",
           "accelerated_filer",
           "roe"
          ],
          [
           "2017_3",
           "large_accelerated_filer",
           "roe"
          ],
          [
           "2017_3",
           "non_accelerated_filer",
           "roe"
          ],
          [
           "2017_4",
           "accelerated_filer",
           "roe"
          ],
          [
           "2017_4",
           "large_accelerated_filer",
           "roe"
          ],
          [
           "2017_4",
           "non_accelerated_filer",
           "roe"
          ],
          [
           "2018_1",
           "accelerated_filer",
           "roe"
          ],
          [
           "2018_1",
           "large_accelerated_filer",
           "roe"
          ],
          [
           "2018_1",
           "non_accelerated_filer",
           "roe"
          ],
          [
           "2018_2",
           "accelerated_filer",
           "roe"
          ],
          [
           "2018_2",
           "large_accelerated_filer",
           "roe"
          ],
          [
           "2018_2",
           "non_accelerated_filer",
           "roe"
          ],
          [
           "2018_3",
           "accelerated_filer",
           "roe"
          ],
          [
           "2018_3",
           "large_accelerated_filer",
           "roe"
          ],
          [
           "2018_3",
           "non_accelerated_filer",
           "roe"
          ],
          [
           "2018_4",
           "accelerated_filer",
           "roe"
          ],
          [
           "2018_4",
           "large_accelerated_filer",
           "roe"
          ],
          [
           "2018_4",
           "non_accelerated_filer",
           "roe"
          ],
          [
           "2019_1",
           "accelerated_filer",
           "roe"
          ],
          [
           "2019_1",
           "large_accelerated_filer",
           "roe"
          ],
          [
           "2019_1",
           "non_accelerated_filer",
           "roe"
          ],
          [
           "2019_2",
           "accelerated_filer",
           "roe"
          ],
          [
           "2019_2",
           "large_accelerated_filer",
           "roe"
          ],
          [
           "2019_2",
           "non_accelerated_filer",
           "roe"
          ],
          [
           "2019_3",
           "accelerated_filer",
           "roe"
          ],
          [
           "2019_3",
           "large_accelerated_filer",
           "roe"
          ],
          [
           "2019_3",
           "non_accelerated_filer",
           "roe"
          ],
          [
           "2019_4",
           "accelerated_filer",
           "roe"
          ],
          [
           "2019_4",
           "large_accelerated_filer",
           "roe"
          ],
          [
           "2019_4",
           "non_accelerated_filer",
           "roe"
          ],
          [
           "2020_1",
           "accelerated_filer",
           "roe"
          ],
          [
           "2020_1",
           "large_accelerated_filer",
           "roe"
          ],
          [
           "2020_1",
           "non_accelerated_filer",
           "roe"
          ],
          [
           "2020_2",
           "accelerated_filer",
           "roe"
          ],
          [
           "2020_2",
           "large_accelerated_filer",
           "roe"
          ],
          [
           "2020_2",
           "non_accelerated_filer",
           "roe"
          ],
          [
           "2020_3",
           "accelerated_filer",
           "roe"
          ],
          [
           "2020_3",
           "large_accelerated_filer",
           "roe"
          ],
          [
           "2020_3",
           "non_accelerated_filer",
           "roe"
          ],
          [
           "2020_4",
           "accelerated_filer",
           "roe"
          ],
          [
           "2020_4",
           "large_accelerated_filer",
           "roe"
          ],
          [
           "2020_4",
           "non_accelerated_filer",
           "roe"
          ],
          [
           "2021_1",
           "non_accelerated_filer",
           "roe"
          ],
          [
           "2021_1",
           "accelerated_filer",
           "roe"
          ],
          [
           "2021_1",
           "large_accelerated_filer",
           "roe"
          ],
          [
           "2021_2",
           "non_accelerated_filer",
           "roe"
          ],
          [
           "2021_2",
           "accelerated_filer",
           "roe"
          ],
          [
           "2021_2",
           "large_accelerated_filer",
           "roe"
          ],
          [
           "2021_3",
           "non_accelerated_filer",
           "roe"
          ],
          [
           "2021_3",
           "accelerated_filer",
           "roe"
          ],
          [
           "2021_3",
           "large_accelerated_filer",
           "roe"
          ]
         ],
         "fillcolor": "rgba(255,255,255,0)",
         "hoveron": "points",
         "hovertemplate": "kpi=%{customdata[2]}<br>used_to_all=%{x}<br>year_q=%{customdata[0]}<br>filer_type=%{customdata[1]}<extra></extra>",
         "jitter": 0,
         "legendgroup": "roe",
         "line": {
          "color": "rgba(255,255,255,0)"
         },
         "marker": {
          "color": "#636efa",
          "symbol": "line-ns-open"
         },
         "name": "roe",
         "offsetgroup": "roe",
         "showlegend": false,
         "type": "box",
         "x": [
          0.85,
          0.98,
          0.8,
          0.94,
          1,
          0.94,
          0.97,
          1,
          0.94,
          1,
          0.98,
          1,
          0.95,
          1,
          0.76,
          0.97,
          0.98,
          0.93,
          1,
          1,
          0.93,
          0.86,
          0.96,
          1,
          0.97,
          1,
          0.73,
          0.97,
          1,
          0.8,
          0.74,
          0.98,
          0.91,
          0.97,
          0.92,
          0.93,
          0.56,
          0.88,
          0.81,
          0.81,
          0.96,
          0.87,
          0.91,
          1,
          0.53,
          0.9,
          0.96,
          0.97,
          0.77,
          0.93,
          0.97,
          0.79,
          0.96,
          1
         ],
         "xaxis": "x2",
         "yaxis": "y2"
        },
        {
         "alignmentgroup": "True",
         "bingroup": "x",
         "hovertemplate": "kpi=roa<br>used_to_all=%{x}<br>count=%{y}<extra></extra>",
         "legendgroup": "roa",
         "marker": {
          "color": "#EF553B",
          "pattern": {
           "shape": ""
          }
         },
         "name": "roa",
         "offsetgroup": "roa",
         "orientation": "v",
         "showlegend": true,
         "type": "histogram",
         "x": [
          0.88,
          0.98,
          0.8,
          0.97,
          1,
          0.94,
          0.97,
          1,
          0.94,
          1,
          0.98,
          1,
          0.95,
          1,
          0.76,
          0.97,
          0.98,
          0.93,
          1,
          1,
          0.93,
          0.86,
          0.98,
          1,
          0.97,
          1,
          0.73,
          1,
          1,
          0.8,
          0.77,
          0.98,
          1,
          0.97,
          0.92,
          1,
          0.56,
          0.88,
          0.81,
          0.81,
          0.96,
          0.93,
          0.91,
          1,
          0.6,
          0.97,
          0.96,
          0.97,
          0.77,
          0.93,
          0.97,
          0.79,
          0.96,
          1
         ],
         "xaxis": "x",
         "yaxis": "y"
        },
        {
         "alignmentgroup": "True",
         "boxpoints": "all",
         "customdata": [
          [
           "2017_2",
           "accelerated_filer",
           "roa"
          ],
          [
           "2017_2",
           "large_accelerated_filer",
           "roa"
          ],
          [
           "2017_2",
           "non_accelerated_filer",
           "roa"
          ],
          [
           "2017_3",
           "accelerated_filer",
           "roa"
          ],
          [
           "2017_3",
           "large_accelerated_filer",
           "roa"
          ],
          [
           "2017_3",
           "non_accelerated_filer",
           "roa"
          ],
          [
           "2017_4",
           "accelerated_filer",
           "roa"
          ],
          [
           "2017_4",
           "large_accelerated_filer",
           "roa"
          ],
          [
           "2017_4",
           "non_accelerated_filer",
           "roa"
          ],
          [
           "2018_1",
           "accelerated_filer",
           "roa"
          ],
          [
           "2018_1",
           "large_accelerated_filer",
           "roa"
          ],
          [
           "2018_1",
           "non_accelerated_filer",
           "roa"
          ],
          [
           "2018_2",
           "accelerated_filer",
           "roa"
          ],
          [
           "2018_2",
           "large_accelerated_filer",
           "roa"
          ],
          [
           "2018_2",
           "non_accelerated_filer",
           "roa"
          ],
          [
           "2018_3",
           "accelerated_filer",
           "roa"
          ],
          [
           "2018_3",
           "large_accelerated_filer",
           "roa"
          ],
          [
           "2018_3",
           "non_accelerated_filer",
           "roa"
          ],
          [
           "2018_4",
           "accelerated_filer",
           "roa"
          ],
          [
           "2018_4",
           "large_accelerated_filer",
           "roa"
          ],
          [
           "2018_4",
           "non_accelerated_filer",
           "roa"
          ],
          [
           "2019_1",
           "accelerated_filer",
           "roa"
          ],
          [
           "2019_1",
           "large_accelerated_filer",
           "roa"
          ],
          [
           "2019_1",
           "non_accelerated_filer",
           "roa"
          ],
          [
           "2019_2",
           "accelerated_filer",
           "roa"
          ],
          [
           "2019_2",
           "large_accelerated_filer",
           "roa"
          ],
          [
           "2019_2",
           "non_accelerated_filer",
           "roa"
          ],
          [
           "2019_3",
           "accelerated_filer",
           "roa"
          ],
          [
           "2019_3",
           "large_accelerated_filer",
           "roa"
          ],
          [
           "2019_3",
           "non_accelerated_filer",
           "roa"
          ],
          [
           "2019_4",
           "accelerated_filer",
           "roa"
          ],
          [
           "2019_4",
           "large_accelerated_filer",
           "roa"
          ],
          [
           "2019_4",
           "non_accelerated_filer",
           "roa"
          ],
          [
           "2020_1",
           "accelerated_filer",
           "roa"
          ],
          [
           "2020_1",
           "large_accelerated_filer",
           "roa"
          ],
          [
           "2020_1",
           "non_accelerated_filer",
           "roa"
          ],
          [
           "2020_2",
           "accelerated_filer",
           "roa"
          ],
          [
           "2020_2",
           "large_accelerated_filer",
           "roa"
          ],
          [
           "2020_2",
           "non_accelerated_filer",
           "roa"
          ],
          [
           "2020_3",
           "accelerated_filer",
           "roa"
          ],
          [
           "2020_3",
           "large_accelerated_filer",
           "roa"
          ],
          [
           "2020_3",
           "non_accelerated_filer",
           "roa"
          ],
          [
           "2020_4",
           "accelerated_filer",
           "roa"
          ],
          [
           "2020_4",
           "large_accelerated_filer",
           "roa"
          ],
          [
           "2020_4",
           "non_accelerated_filer",
           "roa"
          ],
          [
           "2021_1",
           "non_accelerated_filer",
           "roa"
          ],
          [
           "2021_1",
           "accelerated_filer",
           "roa"
          ],
          [
           "2021_1",
           "large_accelerated_filer",
           "roa"
          ],
          [
           "2021_2",
           "non_accelerated_filer",
           "roa"
          ],
          [
           "2021_2",
           "accelerated_filer",
           "roa"
          ],
          [
           "2021_2",
           "large_accelerated_filer",
           "roa"
          ],
          [
           "2021_3",
           "non_accelerated_filer",
           "roa"
          ],
          [
           "2021_3",
           "accelerated_filer",
           "roa"
          ],
          [
           "2021_3",
           "large_accelerated_filer",
           "roa"
          ]
         ],
         "fillcolor": "rgba(255,255,255,0)",
         "hoveron": "points",
         "hovertemplate": "kpi=%{customdata[2]}<br>used_to_all=%{x}<br>year_q=%{customdata[0]}<br>filer_type=%{customdata[1]}<extra></extra>",
         "jitter": 0,
         "legendgroup": "roa",
         "line": {
          "color": "rgba(255,255,255,0)"
         },
         "marker": {
          "color": "#EF553B",
          "symbol": "line-ns-open"
         },
         "name": "roa",
         "offsetgroup": "roa",
         "showlegend": false,
         "type": "box",
         "x": [
          0.88,
          0.98,
          0.8,
          0.97,
          1,
          0.94,
          0.97,
          1,
          0.94,
          1,
          0.98,
          1,
          0.95,
          1,
          0.76,
          0.97,
          0.98,
          0.93,
          1,
          1,
          0.93,
          0.86,
          0.98,
          1,
          0.97,
          1,
          0.73,
          1,
          1,
          0.8,
          0.77,
          0.98,
          1,
          0.97,
          0.92,
          1,
          0.56,
          0.88,
          0.81,
          0.81,
          0.96,
          0.93,
          0.91,
          1,
          0.6,
          0.97,
          0.96,
          0.97,
          0.77,
          0.93,
          0.97,
          0.79,
          0.96,
          1
         ],
         "xaxis": "x2",
         "yaxis": "y2"
        },
        {
         "alignmentgroup": "True",
         "bingroup": "x",
         "hovertemplate": "kpi=roce<br>used_to_all=%{x}<br>count=%{y}<extra></extra>",
         "legendgroup": "roce",
         "marker": {
          "color": "#00cc96",
          "pattern": {
           "shape": ""
          }
         },
         "name": "roce",
         "offsetgroup": "roce",
         "orientation": "v",
         "showlegend": true,
         "type": "histogram",
         "x": [
          0.82,
          0.98,
          0.75,
          0.91,
          1,
          0.89,
          0.91,
          1,
          0.89,
          0.94,
          0.98,
          0.91,
          0.89,
          1,
          0.71,
          0.95,
          0.98,
          0.86,
          0.95,
          1,
          0.86,
          0.83,
          0.98,
          0.86,
          0.91,
          1,
          0.64,
          0.94,
          1,
          0.7,
          0.77,
          0.98,
          0.91,
          0.97,
          0.92,
          0.79,
          0.56,
          0.88,
          0.69,
          0.81,
          0.96,
          0.73,
          0.91,
          1,
          0.53,
          0.87,
          0.96,
          0.97,
          0.71,
          0.93,
          0.97,
          0.73,
          0.96,
          1
         ],
         "xaxis": "x",
         "yaxis": "y"
        },
        {
         "alignmentgroup": "True",
         "boxpoints": "all",
         "customdata": [
          [
           "2017_2",
           "accelerated_filer",
           "roce"
          ],
          [
           "2017_2",
           "large_accelerated_filer",
           "roce"
          ],
          [
           "2017_2",
           "non_accelerated_filer",
           "roce"
          ],
          [
           "2017_3",
           "accelerated_filer",
           "roce"
          ],
          [
           "2017_3",
           "large_accelerated_filer",
           "roce"
          ],
          [
           "2017_3",
           "non_accelerated_filer",
           "roce"
          ],
          [
           "2017_4",
           "accelerated_filer",
           "roce"
          ],
          [
           "2017_4",
           "large_accelerated_filer",
           "roce"
          ],
          [
           "2017_4",
           "non_accelerated_filer",
           "roce"
          ],
          [
           "2018_1",
           "accelerated_filer",
           "roce"
          ],
          [
           "2018_1",
           "large_accelerated_filer",
           "roce"
          ],
          [
           "2018_1",
           "non_accelerated_filer",
           "roce"
          ],
          [
           "2018_2",
           "accelerated_filer",
           "roce"
          ],
          [
           "2018_2",
           "large_accelerated_filer",
           "roce"
          ],
          [
           "2018_2",
           "non_accelerated_filer",
           "roce"
          ],
          [
           "2018_3",
           "accelerated_filer",
           "roce"
          ],
          [
           "2018_3",
           "large_accelerated_filer",
           "roce"
          ],
          [
           "2018_3",
           "non_accelerated_filer",
           "roce"
          ],
          [
           "2018_4",
           "accelerated_filer",
           "roce"
          ],
          [
           "2018_4",
           "large_accelerated_filer",
           "roce"
          ],
          [
           "2018_4",
           "non_accelerated_filer",
           "roce"
          ],
          [
           "2019_1",
           "accelerated_filer",
           "roce"
          ],
          [
           "2019_1",
           "large_accelerated_filer",
           "roce"
          ],
          [
           "2019_1",
           "non_accelerated_filer",
           "roce"
          ],
          [
           "2019_2",
           "accelerated_filer",
           "roce"
          ],
          [
           "2019_2",
           "large_accelerated_filer",
           "roce"
          ],
          [
           "2019_2",
           "non_accelerated_filer",
           "roce"
          ],
          [
           "2019_3",
           "accelerated_filer",
           "roce"
          ],
          [
           "2019_3",
           "large_accelerated_filer",
           "roce"
          ],
          [
           "2019_3",
           "non_accelerated_filer",
           "roce"
          ],
          [
           "2019_4",
           "accelerated_filer",
           "roce"
          ],
          [
           "2019_4",
           "large_accelerated_filer",
           "roce"
          ],
          [
           "2019_4",
           "non_accelerated_filer",
           "roce"
          ],
          [
           "2020_1",
           "accelerated_filer",
           "roce"
          ],
          [
           "2020_1",
           "large_accelerated_filer",
           "roce"
          ],
          [
           "2020_1",
           "non_accelerated_filer",
           "roce"
          ],
          [
           "2020_2",
           "accelerated_filer",
           "roce"
          ],
          [
           "2020_2",
           "large_accelerated_filer",
           "roce"
          ],
          [
           "2020_2",
           "non_accelerated_filer",
           "roce"
          ],
          [
           "2020_3",
           "accelerated_filer",
           "roce"
          ],
          [
           "2020_3",
           "large_accelerated_filer",
           "roce"
          ],
          [
           "2020_3",
           "non_accelerated_filer",
           "roce"
          ],
          [
           "2020_4",
           "accelerated_filer",
           "roce"
          ],
          [
           "2020_4",
           "large_accelerated_filer",
           "roce"
          ],
          [
           "2020_4",
           "non_accelerated_filer",
           "roce"
          ],
          [
           "2021_1",
           "non_accelerated_filer",
           "roce"
          ],
          [
           "2021_1",
           "accelerated_filer",
           "roce"
          ],
          [
           "2021_1",
           "large_accelerated_filer",
           "roce"
          ],
          [
           "2021_2",
           "non_accelerated_filer",
           "roce"
          ],
          [
           "2021_2",
           "accelerated_filer",
           "roce"
          ],
          [
           "2021_2",
           "large_accelerated_filer",
           "roce"
          ],
          [
           "2021_3",
           "non_accelerated_filer",
           "roce"
          ],
          [
           "2021_3",
           "accelerated_filer",
           "roce"
          ],
          [
           "2021_3",
           "large_accelerated_filer",
           "roce"
          ]
         ],
         "fillcolor": "rgba(255,255,255,0)",
         "hoveron": "points",
         "hovertemplate": "kpi=%{customdata[2]}<br>used_to_all=%{x}<br>year_q=%{customdata[0]}<br>filer_type=%{customdata[1]}<extra></extra>",
         "jitter": 0,
         "legendgroup": "roce",
         "line": {
          "color": "rgba(255,255,255,0)"
         },
         "marker": {
          "color": "#00cc96",
          "symbol": "line-ns-open"
         },
         "name": "roce",
         "offsetgroup": "roce",
         "showlegend": false,
         "type": "box",
         "x": [
          0.82,
          0.98,
          0.75,
          0.91,
          1,
          0.89,
          0.91,
          1,
          0.89,
          0.94,
          0.98,
          0.91,
          0.89,
          1,
          0.71,
          0.95,
          0.98,
          0.86,
          0.95,
          1,
          0.86,
          0.83,
          0.98,
          0.86,
          0.91,
          1,
          0.64,
          0.94,
          1,
          0.7,
          0.77,
          0.98,
          0.91,
          0.97,
          0.92,
          0.79,
          0.56,
          0.88,
          0.69,
          0.81,
          0.96,
          0.73,
          0.91,
          1,
          0.53,
          0.87,
          0.96,
          0.97,
          0.71,
          0.93,
          0.97,
          0.73,
          0.96,
          1
         ],
         "xaxis": "x2",
         "yaxis": "y2"
        },
        {
         "alignmentgroup": "True",
         "bingroup": "x",
         "hovertemplate": "kpi=gross_margin<br>used_to_all=%{x}<br>count=%{y}<extra></extra>",
         "legendgroup": "gross_margin",
         "marker": {
          "color": "#ab63fa",
          "pattern": {
           "shape": ""
          }
         },
         "name": "gross_margin",
         "offsetgroup": "gross_margin",
         "orientation": "v",
         "showlegend": true,
         "type": "histogram",
         "x": [
          0.79,
          0.96,
          0.8,
          0.91,
          0.98,
          0.94,
          0.91,
          0.98,
          0.94,
          0.97,
          0.96,
          1,
          0.89,
          0.98,
          0.76,
          0.92,
          0.98,
          0.93,
          0.97,
          0.98,
          0.93,
          0.83,
          0.98,
          1,
          0.94,
          1,
          0.73,
          0.97,
          1,
          0.8,
          0.74,
          0.98,
          1,
          0.94,
          0.92,
          0.86,
          0.56,
          0.87,
          0.69,
          0.78,
          0.94,
          0.73,
          0.81,
          0.98,
          0.6,
          0.77,
          0.92,
          0.97,
          0.63,
          0.89,
          0.97,
          0.64,
          0.96,
          1
         ],
         "xaxis": "x",
         "yaxis": "y"
        },
        {
         "alignmentgroup": "True",
         "boxpoints": "all",
         "customdata": [
          [
           "2017_2",
           "accelerated_filer",
           "gross_margin"
          ],
          [
           "2017_2",
           "large_accelerated_filer",
           "gross_margin"
          ],
          [
           "2017_2",
           "non_accelerated_filer",
           "gross_margin"
          ],
          [
           "2017_3",
           "accelerated_filer",
           "gross_margin"
          ],
          [
           "2017_3",
           "large_accelerated_filer",
           "gross_margin"
          ],
          [
           "2017_3",
           "non_accelerated_filer",
           "gross_margin"
          ],
          [
           "2017_4",
           "accelerated_filer",
           "gross_margin"
          ],
          [
           "2017_4",
           "large_accelerated_filer",
           "gross_margin"
          ],
          [
           "2017_4",
           "non_accelerated_filer",
           "gross_margin"
          ],
          [
           "2018_1",
           "accelerated_filer",
           "gross_margin"
          ],
          [
           "2018_1",
           "large_accelerated_filer",
           "gross_margin"
          ],
          [
           "2018_1",
           "non_accelerated_filer",
           "gross_margin"
          ],
          [
           "2018_2",
           "accelerated_filer",
           "gross_margin"
          ],
          [
           "2018_2",
           "large_accelerated_filer",
           "gross_margin"
          ],
          [
           "2018_2",
           "non_accelerated_filer",
           "gross_margin"
          ],
          [
           "2018_3",
           "accelerated_filer",
           "gross_margin"
          ],
          [
           "2018_3",
           "large_accelerated_filer",
           "gross_margin"
          ],
          [
           "2018_3",
           "non_accelerated_filer",
           "gross_margin"
          ],
          [
           "2018_4",
           "accelerated_filer",
           "gross_margin"
          ],
          [
           "2018_4",
           "large_accelerated_filer",
           "gross_margin"
          ],
          [
           "2018_4",
           "non_accelerated_filer",
           "gross_margin"
          ],
          [
           "2019_1",
           "accelerated_filer",
           "gross_margin"
          ],
          [
           "2019_1",
           "large_accelerated_filer",
           "gross_margin"
          ],
          [
           "2019_1",
           "non_accelerated_filer",
           "gross_margin"
          ],
          [
           "2019_2",
           "accelerated_filer",
           "gross_margin"
          ],
          [
           "2019_2",
           "large_accelerated_filer",
           "gross_margin"
          ],
          [
           "2019_2",
           "non_accelerated_filer",
           "gross_margin"
          ],
          [
           "2019_3",
           "accelerated_filer",
           "gross_margin"
          ],
          [
           "2019_3",
           "large_accelerated_filer",
           "gross_margin"
          ],
          [
           "2019_3",
           "non_accelerated_filer",
           "gross_margin"
          ],
          [
           "2019_4",
           "accelerated_filer",
           "gross_margin"
          ],
          [
           "2019_4",
           "large_accelerated_filer",
           "gross_margin"
          ],
          [
           "2019_4",
           "non_accelerated_filer",
           "gross_margin"
          ],
          [
           "2020_1",
           "accelerated_filer",
           "gross_margin"
          ],
          [
           "2020_1",
           "large_accelerated_filer",
           "gross_margin"
          ],
          [
           "2020_1",
           "non_accelerated_filer",
           "gross_margin"
          ],
          [
           "2020_2",
           "accelerated_filer",
           "gross_margin"
          ],
          [
           "2020_2",
           "large_accelerated_filer",
           "gross_margin"
          ],
          [
           "2020_2",
           "non_accelerated_filer",
           "gross_margin"
          ],
          [
           "2020_3",
           "accelerated_filer",
           "gross_margin"
          ],
          [
           "2020_3",
           "large_accelerated_filer",
           "gross_margin"
          ],
          [
           "2020_3",
           "non_accelerated_filer",
           "gross_margin"
          ],
          [
           "2020_4",
           "accelerated_filer",
           "gross_margin"
          ],
          [
           "2020_4",
           "large_accelerated_filer",
           "gross_margin"
          ],
          [
           "2020_4",
           "non_accelerated_filer",
           "gross_margin"
          ],
          [
           "2021_1",
           "non_accelerated_filer",
           "gross_margin"
          ],
          [
           "2021_1",
           "accelerated_filer",
           "gross_margin"
          ],
          [
           "2021_1",
           "large_accelerated_filer",
           "gross_margin"
          ],
          [
           "2021_2",
           "non_accelerated_filer",
           "gross_margin"
          ],
          [
           "2021_2",
           "accelerated_filer",
           "gross_margin"
          ],
          [
           "2021_2",
           "large_accelerated_filer",
           "gross_margin"
          ],
          [
           "2021_3",
           "non_accelerated_filer",
           "gross_margin"
          ],
          [
           "2021_3",
           "accelerated_filer",
           "gross_margin"
          ],
          [
           "2021_3",
           "large_accelerated_filer",
           "gross_margin"
          ]
         ],
         "fillcolor": "rgba(255,255,255,0)",
         "hoveron": "points",
         "hovertemplate": "kpi=%{customdata[2]}<br>used_to_all=%{x}<br>year_q=%{customdata[0]}<br>filer_type=%{customdata[1]}<extra></extra>",
         "jitter": 0,
         "legendgroup": "gross_margin",
         "line": {
          "color": "rgba(255,255,255,0)"
         },
         "marker": {
          "color": "#ab63fa",
          "symbol": "line-ns-open"
         },
         "name": "gross_margin",
         "offsetgroup": "gross_margin",
         "showlegend": false,
         "type": "box",
         "x": [
          0.79,
          0.96,
          0.8,
          0.91,
          0.98,
          0.94,
          0.91,
          0.98,
          0.94,
          0.97,
          0.96,
          1,
          0.89,
          0.98,
          0.76,
          0.92,
          0.98,
          0.93,
          0.97,
          0.98,
          0.93,
          0.83,
          0.98,
          1,
          0.94,
          1,
          0.73,
          0.97,
          1,
          0.8,
          0.74,
          0.98,
          1,
          0.94,
          0.92,
          0.86,
          0.56,
          0.87,
          0.69,
          0.78,
          0.94,
          0.73,
          0.81,
          0.98,
          0.6,
          0.77,
          0.92,
          0.97,
          0.63,
          0.89,
          0.97,
          0.64,
          0.96,
          1
         ],
         "xaxis": "x2",
         "yaxis": "y2"
        },
        {
         "alignmentgroup": "True",
         "bingroup": "x",
         "hovertemplate": "kpi=operating_profit_margin<br>used_to_all=%{x}<br>count=%{y}<extra></extra>",
         "legendgroup": "operating_profit_margin",
         "marker": {
          "color": "#FFA15A",
          "pattern": {
           "shape": ""
          }
         },
         "name": "operating_profit_margin",
         "offsetgroup": "operating_profit_margin",
         "orientation": "v",
         "showlegend": true,
         "type": "histogram",
         "x": [
          0.85,
          0.96,
          0.85,
          0.94,
          0.98,
          0.94,
          0.91,
          0.98,
          0.94,
          0.97,
          0.96,
          1,
          0.89,
          0.98,
          0.76,
          0.92,
          0.98,
          0.93,
          0.97,
          0.98,
          0.93,
          0.83,
          0.98,
          1,
          0.94,
          1,
          0.73,
          0.97,
          1,
          0.8,
          0.74,
          0.98,
          1,
          0.94,
          0.92,
          1,
          0.56,
          0.88,
          0.88,
          0.78,
          0.96,
          0.93,
          0.84,
          1,
          0.6,
          0.94,
          0.96,
          0.97,
          0.74,
          0.93,
          1,
          0.76,
          0.96,
          1
         ],
         "xaxis": "x",
         "yaxis": "y"
        },
        {
         "alignmentgroup": "True",
         "boxpoints": "all",
         "customdata": [
          [
           "2017_2",
           "accelerated_filer",
           "operating_profit_margin"
          ],
          [
           "2017_2",
           "large_accelerated_filer",
           "operating_profit_margin"
          ],
          [
           "2017_2",
           "non_accelerated_filer",
           "operating_profit_margin"
          ],
          [
           "2017_3",
           "accelerated_filer",
           "operating_profit_margin"
          ],
          [
           "2017_3",
           "large_accelerated_filer",
           "operating_profit_margin"
          ],
          [
           "2017_3",
           "non_accelerated_filer",
           "operating_profit_margin"
          ],
          [
           "2017_4",
           "accelerated_filer",
           "operating_profit_margin"
          ],
          [
           "2017_4",
           "large_accelerated_filer",
           "operating_profit_margin"
          ],
          [
           "2017_4",
           "non_accelerated_filer",
           "operating_profit_margin"
          ],
          [
           "2018_1",
           "accelerated_filer",
           "operating_profit_margin"
          ],
          [
           "2018_1",
           "large_accelerated_filer",
           "operating_profit_margin"
          ],
          [
           "2018_1",
           "non_accelerated_filer",
           "operating_profit_margin"
          ],
          [
           "2018_2",
           "accelerated_filer",
           "operating_profit_margin"
          ],
          [
           "2018_2",
           "large_accelerated_filer",
           "operating_profit_margin"
          ],
          [
           "2018_2",
           "non_accelerated_filer",
           "operating_profit_margin"
          ],
          [
           "2018_3",
           "accelerated_filer",
           "operating_profit_margin"
          ],
          [
           "2018_3",
           "large_accelerated_filer",
           "operating_profit_margin"
          ],
          [
           "2018_3",
           "non_accelerated_filer",
           "operating_profit_margin"
          ],
          [
           "2018_4",
           "accelerated_filer",
           "operating_profit_margin"
          ],
          [
           "2018_4",
           "large_accelerated_filer",
           "operating_profit_margin"
          ],
          [
           "2018_4",
           "non_accelerated_filer",
           "operating_profit_margin"
          ],
          [
           "2019_1",
           "accelerated_filer",
           "operating_profit_margin"
          ],
          [
           "2019_1",
           "large_accelerated_filer",
           "operating_profit_margin"
          ],
          [
           "2019_1",
           "non_accelerated_filer",
           "operating_profit_margin"
          ],
          [
           "2019_2",
           "accelerated_filer",
           "operating_profit_margin"
          ],
          [
           "2019_2",
           "large_accelerated_filer",
           "operating_profit_margin"
          ],
          [
           "2019_2",
           "non_accelerated_filer",
           "operating_profit_margin"
          ],
          [
           "2019_3",
           "accelerated_filer",
           "operating_profit_margin"
          ],
          [
           "2019_3",
           "large_accelerated_filer",
           "operating_profit_margin"
          ],
          [
           "2019_3",
           "non_accelerated_filer",
           "operating_profit_margin"
          ],
          [
           "2019_4",
           "accelerated_filer",
           "operating_profit_margin"
          ],
          [
           "2019_4",
           "large_accelerated_filer",
           "operating_profit_margin"
          ],
          [
           "2019_4",
           "non_accelerated_filer",
           "operating_profit_margin"
          ],
          [
           "2020_1",
           "accelerated_filer",
           "operating_profit_margin"
          ],
          [
           "2020_1",
           "large_accelerated_filer",
           "operating_profit_margin"
          ],
          [
           "2020_1",
           "non_accelerated_filer",
           "operating_profit_margin"
          ],
          [
           "2020_2",
           "accelerated_filer",
           "operating_profit_margin"
          ],
          [
           "2020_2",
           "large_accelerated_filer",
           "operating_profit_margin"
          ],
          [
           "2020_2",
           "non_accelerated_filer",
           "operating_profit_margin"
          ],
          [
           "2020_3",
           "accelerated_filer",
           "operating_profit_margin"
          ],
          [
           "2020_3",
           "large_accelerated_filer",
           "operating_profit_margin"
          ],
          [
           "2020_3",
           "non_accelerated_filer",
           "operating_profit_margin"
          ],
          [
           "2020_4",
           "accelerated_filer",
           "operating_profit_margin"
          ],
          [
           "2020_4",
           "large_accelerated_filer",
           "operating_profit_margin"
          ],
          [
           "2020_4",
           "non_accelerated_filer",
           "operating_profit_margin"
          ],
          [
           "2021_1",
           "non_accelerated_filer",
           "operating_profit_margin"
          ],
          [
           "2021_1",
           "accelerated_filer",
           "operating_profit_margin"
          ],
          [
           "2021_1",
           "large_accelerated_filer",
           "operating_profit_margin"
          ],
          [
           "2021_2",
           "non_accelerated_filer",
           "operating_profit_margin"
          ],
          [
           "2021_2",
           "accelerated_filer",
           "operating_profit_margin"
          ],
          [
           "2021_2",
           "large_accelerated_filer",
           "operating_profit_margin"
          ],
          [
           "2021_3",
           "non_accelerated_filer",
           "operating_profit_margin"
          ],
          [
           "2021_3",
           "accelerated_filer",
           "operating_profit_margin"
          ],
          [
           "2021_3",
           "large_accelerated_filer",
           "operating_profit_margin"
          ]
         ],
         "fillcolor": "rgba(255,255,255,0)",
         "hoveron": "points",
         "hovertemplate": "kpi=%{customdata[2]}<br>used_to_all=%{x}<br>year_q=%{customdata[0]}<br>filer_type=%{customdata[1]}<extra></extra>",
         "jitter": 0,
         "legendgroup": "operating_profit_margin",
         "line": {
          "color": "rgba(255,255,255,0)"
         },
         "marker": {
          "color": "#FFA15A",
          "symbol": "line-ns-open"
         },
         "name": "operating_profit_margin",
         "offsetgroup": "operating_profit_margin",
         "showlegend": false,
         "type": "box",
         "x": [
          0.85,
          0.96,
          0.85,
          0.94,
          0.98,
          0.94,
          0.91,
          0.98,
          0.94,
          0.97,
          0.96,
          1,
          0.89,
          0.98,
          0.76,
          0.92,
          0.98,
          0.93,
          0.97,
          0.98,
          0.93,
          0.83,
          0.98,
          1,
          0.94,
          1,
          0.73,
          0.97,
          1,
          0.8,
          0.74,
          0.98,
          1,
          0.94,
          0.92,
          1,
          0.56,
          0.88,
          0.88,
          0.78,
          0.96,
          0.93,
          0.84,
          1,
          0.6,
          0.94,
          0.96,
          0.97,
          0.74,
          0.93,
          1,
          0.76,
          0.96,
          1
         ],
         "xaxis": "x2",
         "yaxis": "y2"
        },
        {
         "alignmentgroup": "True",
         "bingroup": "x",
         "hovertemplate": "kpi=net_profit_margin<br>used_to_all=%{x}<br>count=%{y}<extra></extra>",
         "legendgroup": "net_profit_margin",
         "marker": {
          "color": "#19d3f3",
          "pattern": {
           "shape": ""
          }
         },
         "name": "net_profit_margin",
         "offsetgroup": "net_profit_margin",
         "orientation": "v",
         "showlegend": true,
         "type": "histogram",
         "x": [
          0.85,
          0.96,
          0.85,
          0.94,
          0.98,
          0.94,
          0.91,
          0.98,
          0.94,
          0.97,
          0.96,
          1,
          0.89,
          0.98,
          0.76,
          0.92,
          0.98,
          0.93,
          0.97,
          0.98,
          0.93,
          0.83,
          0.98,
          1,
          0.94,
          1,
          0.73,
          0.97,
          1,
          0.8,
          0.74,
          0.98,
          1,
          0.94,
          0.92,
          1,
          0.56,
          0.88,
          0.81,
          0.78,
          0.96,
          0.93,
          0.84,
          1,
          0.6,
          0.9,
          0.96,
          0.97,
          0.74,
          0.93,
          1,
          0.76,
          0.96,
          1
         ],
         "xaxis": "x",
         "yaxis": "y"
        },
        {
         "alignmentgroup": "True",
         "boxpoints": "all",
         "customdata": [
          [
           "2017_2",
           "accelerated_filer",
           "net_profit_margin"
          ],
          [
           "2017_2",
           "large_accelerated_filer",
           "net_profit_margin"
          ],
          [
           "2017_2",
           "non_accelerated_filer",
           "net_profit_margin"
          ],
          [
           "2017_3",
           "accelerated_filer",
           "net_profit_margin"
          ],
          [
           "2017_3",
           "large_accelerated_filer",
           "net_profit_margin"
          ],
          [
           "2017_3",
           "non_accelerated_filer",
           "net_profit_margin"
          ],
          [
           "2017_4",
           "accelerated_filer",
           "net_profit_margin"
          ],
          [
           "2017_4",
           "large_accelerated_filer",
           "net_profit_margin"
          ],
          [
           "2017_4",
           "non_accelerated_filer",
           "net_profit_margin"
          ],
          [
           "2018_1",
           "accelerated_filer",
           "net_profit_margin"
          ],
          [
           "2018_1",
           "large_accelerated_filer",
           "net_profit_margin"
          ],
          [
           "2018_1",
           "non_accelerated_filer",
           "net_profit_margin"
          ],
          [
           "2018_2",
           "accelerated_filer",
           "net_profit_margin"
          ],
          [
           "2018_2",
           "large_accelerated_filer",
           "net_profit_margin"
          ],
          [
           "2018_2",
           "non_accelerated_filer",
           "net_profit_margin"
          ],
          [
           "2018_3",
           "accelerated_filer",
           "net_profit_margin"
          ],
          [
           "2018_3",
           "large_accelerated_filer",
           "net_profit_margin"
          ],
          [
           "2018_3",
           "non_accelerated_filer",
           "net_profit_margin"
          ],
          [
           "2018_4",
           "accelerated_filer",
           "net_profit_margin"
          ],
          [
           "2018_4",
           "large_accelerated_filer",
           "net_profit_margin"
          ],
          [
           "2018_4",
           "non_accelerated_filer",
           "net_profit_margin"
          ],
          [
           "2019_1",
           "accelerated_filer",
           "net_profit_margin"
          ],
          [
           "2019_1",
           "large_accelerated_filer",
           "net_profit_margin"
          ],
          [
           "2019_1",
           "non_accelerated_filer",
           "net_profit_margin"
          ],
          [
           "2019_2",
           "accelerated_filer",
           "net_profit_margin"
          ],
          [
           "2019_2",
           "large_accelerated_filer",
           "net_profit_margin"
          ],
          [
           "2019_2",
           "non_accelerated_filer",
           "net_profit_margin"
          ],
          [
           "2019_3",
           "accelerated_filer",
           "net_profit_margin"
          ],
          [
           "2019_3",
           "large_accelerated_filer",
           "net_profit_margin"
          ],
          [
           "2019_3",
           "non_accelerated_filer",
           "net_profit_margin"
          ],
          [
           "2019_4",
           "accelerated_filer",
           "net_profit_margin"
          ],
          [
           "2019_4",
           "large_accelerated_filer",
           "net_profit_margin"
          ],
          [
           "2019_4",
           "non_accelerated_filer",
           "net_profit_margin"
          ],
          [
           "2020_1",
           "accelerated_filer",
           "net_profit_margin"
          ],
          [
           "2020_1",
           "large_accelerated_filer",
           "net_profit_margin"
          ],
          [
           "2020_1",
           "non_accelerated_filer",
           "net_profit_margin"
          ],
          [
           "2020_2",
           "accelerated_filer",
           "net_profit_margin"
          ],
          [
           "2020_2",
           "large_accelerated_filer",
           "net_profit_margin"
          ],
          [
           "2020_2",
           "non_accelerated_filer",
           "net_profit_margin"
          ],
          [
           "2020_3",
           "accelerated_filer",
           "net_profit_margin"
          ],
          [
           "2020_3",
           "large_accelerated_filer",
           "net_profit_margin"
          ],
          [
           "2020_3",
           "non_accelerated_filer",
           "net_profit_margin"
          ],
          [
           "2020_4",
           "accelerated_filer",
           "net_profit_margin"
          ],
          [
           "2020_4",
           "large_accelerated_filer",
           "net_profit_margin"
          ],
          [
           "2020_4",
           "non_accelerated_filer",
           "net_profit_margin"
          ],
          [
           "2021_1",
           "non_accelerated_filer",
           "net_profit_margin"
          ],
          [
           "2021_1",
           "accelerated_filer",
           "net_profit_margin"
          ],
          [
           "2021_1",
           "large_accelerated_filer",
           "net_profit_margin"
          ],
          [
           "2021_2",
           "non_accelerated_filer",
           "net_profit_margin"
          ],
          [
           "2021_2",
           "accelerated_filer",
           "net_profit_margin"
          ],
          [
           "2021_2",
           "large_accelerated_filer",
           "net_profit_margin"
          ],
          [
           "2021_3",
           "non_accelerated_filer",
           "net_profit_margin"
          ],
          [
           "2021_3",
           "accelerated_filer",
           "net_profit_margin"
          ],
          [
           "2021_3",
           "large_accelerated_filer",
           "net_profit_margin"
          ]
         ],
         "fillcolor": "rgba(255,255,255,0)",
         "hoveron": "points",
         "hovertemplate": "kpi=%{customdata[2]}<br>used_to_all=%{x}<br>year_q=%{customdata[0]}<br>filer_type=%{customdata[1]}<extra></extra>",
         "jitter": 0,
         "legendgroup": "net_profit_margin",
         "line": {
          "color": "rgba(255,255,255,0)"
         },
         "marker": {
          "color": "#19d3f3",
          "symbol": "line-ns-open"
         },
         "name": "net_profit_margin",
         "offsetgroup": "net_profit_margin",
         "showlegend": false,
         "type": "box",
         "x": [
          0.85,
          0.96,
          0.85,
          0.94,
          0.98,
          0.94,
          0.91,
          0.98,
          0.94,
          0.97,
          0.96,
          1,
          0.89,
          0.98,
          0.76,
          0.92,
          0.98,
          0.93,
          0.97,
          0.98,
          0.93,
          0.83,
          0.98,
          1,
          0.94,
          1,
          0.73,
          0.97,
          1,
          0.8,
          0.74,
          0.98,
          1,
          0.94,
          0.92,
          1,
          0.56,
          0.88,
          0.81,
          0.78,
          0.96,
          0.93,
          0.84,
          1,
          0.6,
          0.9,
          0.96,
          0.97,
          0.74,
          0.93,
          1,
          0.76,
          0.96,
          1
         ],
         "xaxis": "x2",
         "yaxis": "y2"
        },
        {
         "alignmentgroup": "True",
         "bingroup": "x",
         "hovertemplate": "kpi=debt_to_equity<br>used_to_all=%{x}<br>count=%{y}<extra></extra>",
         "legendgroup": "debt_to_equity",
         "marker": {
          "color": "#FF6692",
          "pattern": {
           "shape": ""
          }
         },
         "name": "debt_to_equity",
         "offsetgroup": "debt_to_equity",
         "orientation": "v",
         "showlegend": true,
         "type": "histogram",
         "x": [
          0.88,
          0.98,
          0.75,
          0.91,
          1,
          0.89,
          0.91,
          1,
          0.89,
          0.94,
          0.98,
          0.91,
          0.89,
          1,
          0.71,
          0.95,
          0.98,
          0.86,
          0.95,
          1,
          0.86,
          0.83,
          0.96,
          0.86,
          0.91,
          1,
          0.64,
          0.94,
          1,
          0.7,
          0.74,
          0.98,
          0.82,
          0.97,
          0.92,
          0.79,
          0.56,
          0.88,
          0.69,
          0.81,
          0.96,
          0.73,
          0.91,
          1,
          0.53,
          0.87,
          0.96,
          0.97,
          0.71,
          0.93,
          0.97,
          0.76,
          1,
          1
         ],
         "xaxis": "x",
         "yaxis": "y"
        },
        {
         "alignmentgroup": "True",
         "boxpoints": "all",
         "customdata": [
          [
           "2017_2",
           "accelerated_filer",
           "debt_to_equity"
          ],
          [
           "2017_2",
           "large_accelerated_filer",
           "debt_to_equity"
          ],
          [
           "2017_2",
           "non_accelerated_filer",
           "debt_to_equity"
          ],
          [
           "2017_3",
           "accelerated_filer",
           "debt_to_equity"
          ],
          [
           "2017_3",
           "large_accelerated_filer",
           "debt_to_equity"
          ],
          [
           "2017_3",
           "non_accelerated_filer",
           "debt_to_equity"
          ],
          [
           "2017_4",
           "accelerated_filer",
           "debt_to_equity"
          ],
          [
           "2017_4",
           "large_accelerated_filer",
           "debt_to_equity"
          ],
          [
           "2017_4",
           "non_accelerated_filer",
           "debt_to_equity"
          ],
          [
           "2018_1",
           "accelerated_filer",
           "debt_to_equity"
          ],
          [
           "2018_1",
           "large_accelerated_filer",
           "debt_to_equity"
          ],
          [
           "2018_1",
           "non_accelerated_filer",
           "debt_to_equity"
          ],
          [
           "2018_2",
           "accelerated_filer",
           "debt_to_equity"
          ],
          [
           "2018_2",
           "large_accelerated_filer",
           "debt_to_equity"
          ],
          [
           "2018_2",
           "non_accelerated_filer",
           "debt_to_equity"
          ],
          [
           "2018_3",
           "accelerated_filer",
           "debt_to_equity"
          ],
          [
           "2018_3",
           "large_accelerated_filer",
           "debt_to_equity"
          ],
          [
           "2018_3",
           "non_accelerated_filer",
           "debt_to_equity"
          ],
          [
           "2018_4",
           "accelerated_filer",
           "debt_to_equity"
          ],
          [
           "2018_4",
           "large_accelerated_filer",
           "debt_to_equity"
          ],
          [
           "2018_4",
           "non_accelerated_filer",
           "debt_to_equity"
          ],
          [
           "2019_1",
           "accelerated_filer",
           "debt_to_equity"
          ],
          [
           "2019_1",
           "large_accelerated_filer",
           "debt_to_equity"
          ],
          [
           "2019_1",
           "non_accelerated_filer",
           "debt_to_equity"
          ],
          [
           "2019_2",
           "accelerated_filer",
           "debt_to_equity"
          ],
          [
           "2019_2",
           "large_accelerated_filer",
           "debt_to_equity"
          ],
          [
           "2019_2",
           "non_accelerated_filer",
           "debt_to_equity"
          ],
          [
           "2019_3",
           "accelerated_filer",
           "debt_to_equity"
          ],
          [
           "2019_3",
           "large_accelerated_filer",
           "debt_to_equity"
          ],
          [
           "2019_3",
           "non_accelerated_filer",
           "debt_to_equity"
          ],
          [
           "2019_4",
           "accelerated_filer",
           "debt_to_equity"
          ],
          [
           "2019_4",
           "large_accelerated_filer",
           "debt_to_equity"
          ],
          [
           "2019_4",
           "non_accelerated_filer",
           "debt_to_equity"
          ],
          [
           "2020_1",
           "accelerated_filer",
           "debt_to_equity"
          ],
          [
           "2020_1",
           "large_accelerated_filer",
           "debt_to_equity"
          ],
          [
           "2020_1",
           "non_accelerated_filer",
           "debt_to_equity"
          ],
          [
           "2020_2",
           "accelerated_filer",
           "debt_to_equity"
          ],
          [
           "2020_2",
           "large_accelerated_filer",
           "debt_to_equity"
          ],
          [
           "2020_2",
           "non_accelerated_filer",
           "debt_to_equity"
          ],
          [
           "2020_3",
           "accelerated_filer",
           "debt_to_equity"
          ],
          [
           "2020_3",
           "large_accelerated_filer",
           "debt_to_equity"
          ],
          [
           "2020_3",
           "non_accelerated_filer",
           "debt_to_equity"
          ],
          [
           "2020_4",
           "accelerated_filer",
           "debt_to_equity"
          ],
          [
           "2020_4",
           "large_accelerated_filer",
           "debt_to_equity"
          ],
          [
           "2020_4",
           "non_accelerated_filer",
           "debt_to_equity"
          ],
          [
           "2021_1",
           "non_accelerated_filer",
           "debt_to_equity"
          ],
          [
           "2021_1",
           "accelerated_filer",
           "debt_to_equity"
          ],
          [
           "2021_1",
           "large_accelerated_filer",
           "debt_to_equity"
          ],
          [
           "2021_2",
           "non_accelerated_filer",
           "debt_to_equity"
          ],
          [
           "2021_2",
           "accelerated_filer",
           "debt_to_equity"
          ],
          [
           "2021_2",
           "large_accelerated_filer",
           "debt_to_equity"
          ],
          [
           "2021_3",
           "non_accelerated_filer",
           "debt_to_equity"
          ],
          [
           "2021_3",
           "accelerated_filer",
           "debt_to_equity"
          ],
          [
           "2021_3",
           "large_accelerated_filer",
           "debt_to_equity"
          ]
         ],
         "fillcolor": "rgba(255,255,255,0)",
         "hoveron": "points",
         "hovertemplate": "kpi=%{customdata[2]}<br>used_to_all=%{x}<br>year_q=%{customdata[0]}<br>filer_type=%{customdata[1]}<extra></extra>",
         "jitter": 0,
         "legendgroup": "debt_to_equity",
         "line": {
          "color": "rgba(255,255,255,0)"
         },
         "marker": {
          "color": "#FF6692",
          "symbol": "line-ns-open"
         },
         "name": "debt_to_equity",
         "offsetgroup": "debt_to_equity",
         "showlegend": false,
         "type": "box",
         "x": [
          0.88,
          0.98,
          0.75,
          0.91,
          1,
          0.89,
          0.91,
          1,
          0.89,
          0.94,
          0.98,
          0.91,
          0.89,
          1,
          0.71,
          0.95,
          0.98,
          0.86,
          0.95,
          1,
          0.86,
          0.83,
          0.96,
          0.86,
          0.91,
          1,
          0.64,
          0.94,
          1,
          0.7,
          0.74,
          0.98,
          0.82,
          0.97,
          0.92,
          0.79,
          0.56,
          0.88,
          0.69,
          0.81,
          0.96,
          0.73,
          0.91,
          1,
          0.53,
          0.87,
          0.96,
          0.97,
          0.71,
          0.93,
          0.97,
          0.76,
          1,
          1
         ],
         "xaxis": "x2",
         "yaxis": "y2"
        },
        {
         "alignmentgroup": "True",
         "bingroup": "x",
         "hovertemplate": "kpi=equity<br>used_to_all=%{x}<br>count=%{y}<extra></extra>",
         "legendgroup": "equity",
         "marker": {
          "color": "#B6E880",
          "pattern": {
           "shape": ""
          }
         },
         "name": "equity",
         "offsetgroup": "equity",
         "orientation": "v",
         "showlegend": true,
         "type": "histogram",
         "x": [
          0.91,
          0.98,
          0.8,
          0.94,
          1,
          0.94,
          0.97,
          1,
          0.94,
          1,
          0.98,
          1,
          0.95,
          1,
          0.76,
          0.97,
          0.98,
          0.93,
          1,
          1,
          0.93,
          0.86,
          0.96,
          1,
          0.97,
          1,
          0.73,
          0.97,
          1,
          0.8,
          0.74,
          0.98,
          0.91,
          0.97,
          0.92,
          0.93,
          0.56,
          0.88,
          0.81,
          0.81,
          0.96,
          0.87,
          0.91,
          1,
          0.67,
          0.94,
          0.96,
          0.97,
          0.77,
          0.93,
          0.97,
          0.82,
          1,
          1
         ],
         "xaxis": "x",
         "yaxis": "y"
        },
        {
         "alignmentgroup": "True",
         "boxpoints": "all",
         "customdata": [
          [
           "2017_2",
           "accelerated_filer",
           "equity"
          ],
          [
           "2017_2",
           "large_accelerated_filer",
           "equity"
          ],
          [
           "2017_2",
           "non_accelerated_filer",
           "equity"
          ],
          [
           "2017_3",
           "accelerated_filer",
           "equity"
          ],
          [
           "2017_3",
           "large_accelerated_filer",
           "equity"
          ],
          [
           "2017_3",
           "non_accelerated_filer",
           "equity"
          ],
          [
           "2017_4",
           "accelerated_filer",
           "equity"
          ],
          [
           "2017_4",
           "large_accelerated_filer",
           "equity"
          ],
          [
           "2017_4",
           "non_accelerated_filer",
           "equity"
          ],
          [
           "2018_1",
           "accelerated_filer",
           "equity"
          ],
          [
           "2018_1",
           "large_accelerated_filer",
           "equity"
          ],
          [
           "2018_1",
           "non_accelerated_filer",
           "equity"
          ],
          [
           "2018_2",
           "accelerated_filer",
           "equity"
          ],
          [
           "2018_2",
           "large_accelerated_filer",
           "equity"
          ],
          [
           "2018_2",
           "non_accelerated_filer",
           "equity"
          ],
          [
           "2018_3",
           "accelerated_filer",
           "equity"
          ],
          [
           "2018_3",
           "large_accelerated_filer",
           "equity"
          ],
          [
           "2018_3",
           "non_accelerated_filer",
           "equity"
          ],
          [
           "2018_4",
           "accelerated_filer",
           "equity"
          ],
          [
           "2018_4",
           "large_accelerated_filer",
           "equity"
          ],
          [
           "2018_4",
           "non_accelerated_filer",
           "equity"
          ],
          [
           "2019_1",
           "accelerated_filer",
           "equity"
          ],
          [
           "2019_1",
           "large_accelerated_filer",
           "equity"
          ],
          [
           "2019_1",
           "non_accelerated_filer",
           "equity"
          ],
          [
           "2019_2",
           "accelerated_filer",
           "equity"
          ],
          [
           "2019_2",
           "large_accelerated_filer",
           "equity"
          ],
          [
           "2019_2",
           "non_accelerated_filer",
           "equity"
          ],
          [
           "2019_3",
           "accelerated_filer",
           "equity"
          ],
          [
           "2019_3",
           "large_accelerated_filer",
           "equity"
          ],
          [
           "2019_3",
           "non_accelerated_filer",
           "equity"
          ],
          [
           "2019_4",
           "accelerated_filer",
           "equity"
          ],
          [
           "2019_4",
           "large_accelerated_filer",
           "equity"
          ],
          [
           "2019_4",
           "non_accelerated_filer",
           "equity"
          ],
          [
           "2020_1",
           "accelerated_filer",
           "equity"
          ],
          [
           "2020_1",
           "large_accelerated_filer",
           "equity"
          ],
          [
           "2020_1",
           "non_accelerated_filer",
           "equity"
          ],
          [
           "2020_2",
           "accelerated_filer",
           "equity"
          ],
          [
           "2020_2",
           "large_accelerated_filer",
           "equity"
          ],
          [
           "2020_2",
           "non_accelerated_filer",
           "equity"
          ],
          [
           "2020_3",
           "accelerated_filer",
           "equity"
          ],
          [
           "2020_3",
           "large_accelerated_filer",
           "equity"
          ],
          [
           "2020_3",
           "non_accelerated_filer",
           "equity"
          ],
          [
           "2020_4",
           "accelerated_filer",
           "equity"
          ],
          [
           "2020_4",
           "large_accelerated_filer",
           "equity"
          ],
          [
           "2020_4",
           "non_accelerated_filer",
           "equity"
          ],
          [
           "2021_1",
           "non_accelerated_filer",
           "equity"
          ],
          [
           "2021_1",
           "accelerated_filer",
           "equity"
          ],
          [
           "2021_1",
           "large_accelerated_filer",
           "equity"
          ],
          [
           "2021_2",
           "non_accelerated_filer",
           "equity"
          ],
          [
           "2021_2",
           "accelerated_filer",
           "equity"
          ],
          [
           "2021_2",
           "large_accelerated_filer",
           "equity"
          ],
          [
           "2021_3",
           "non_accelerated_filer",
           "equity"
          ],
          [
           "2021_3",
           "accelerated_filer",
           "equity"
          ],
          [
           "2021_3",
           "large_accelerated_filer",
           "equity"
          ]
         ],
         "fillcolor": "rgba(255,255,255,0)",
         "hoveron": "points",
         "hovertemplate": "kpi=%{customdata[2]}<br>used_to_all=%{x}<br>year_q=%{customdata[0]}<br>filer_type=%{customdata[1]}<extra></extra>",
         "jitter": 0,
         "legendgroup": "equity",
         "line": {
          "color": "rgba(255,255,255,0)"
         },
         "marker": {
          "color": "#B6E880",
          "symbol": "line-ns-open"
         },
         "name": "equity",
         "offsetgroup": "equity",
         "showlegend": false,
         "type": "box",
         "x": [
          0.91,
          0.98,
          0.8,
          0.94,
          1,
          0.94,
          0.97,
          1,
          0.94,
          1,
          0.98,
          1,
          0.95,
          1,
          0.76,
          0.97,
          0.98,
          0.93,
          1,
          1,
          0.93,
          0.86,
          0.96,
          1,
          0.97,
          1,
          0.73,
          0.97,
          1,
          0.8,
          0.74,
          0.98,
          0.91,
          0.97,
          0.92,
          0.93,
          0.56,
          0.88,
          0.81,
          0.81,
          0.96,
          0.87,
          0.91,
          1,
          0.67,
          0.94,
          0.96,
          0.97,
          0.77,
          0.93,
          0.97,
          0.82,
          1,
          1
         ],
         "xaxis": "x2",
         "yaxis": "y2"
        },
        {
         "alignmentgroup": "True",
         "bingroup": "x",
         "hovertemplate": "kpi=debt<br>used_to_all=%{x}<br>count=%{y}<extra></extra>",
         "legendgroup": "debt",
         "marker": {
          "color": "#FF97FF",
          "pattern": {
           "shape": ""
          }
         },
         "name": "debt",
         "offsetgroup": "debt",
         "orientation": "v",
         "showlegend": true,
         "type": "histogram",
         "x": [
          0.68,
          0.91,
          0.6,
          0.74,
          0.94,
          0.78,
          0.71,
          0.94,
          0.78,
          0.75,
          0.94,
          0.82,
          0.74,
          0.96,
          0.59,
          0.76,
          0.94,
          0.71,
          0.73,
          0.96,
          0.71,
          0.66,
          0.94,
          0.86,
          0.77,
          1,
          0.55,
          0.8,
          0.98,
          0.6,
          0.69,
          0.96,
          0.82,
          0.84,
          0.9,
          0.79,
          0.56,
          0.87,
          0.69,
          0.81,
          0.92,
          0.73,
          0.81,
          0.96,
          0.6,
          0.77,
          0.88,
          0.97,
          0.66,
          0.86,
          0.97,
          0.67,
          0.93,
          1
         ],
         "xaxis": "x",
         "yaxis": "y"
        },
        {
         "alignmentgroup": "True",
         "boxpoints": "all",
         "customdata": [
          [
           "2017_2",
           "accelerated_filer",
           "debt"
          ],
          [
           "2017_2",
           "large_accelerated_filer",
           "debt"
          ],
          [
           "2017_2",
           "non_accelerated_filer",
           "debt"
          ],
          [
           "2017_3",
           "accelerated_filer",
           "debt"
          ],
          [
           "2017_3",
           "large_accelerated_filer",
           "debt"
          ],
          [
           "2017_3",
           "non_accelerated_filer",
           "debt"
          ],
          [
           "2017_4",
           "accelerated_filer",
           "debt"
          ],
          [
           "2017_4",
           "large_accelerated_filer",
           "debt"
          ],
          [
           "2017_4",
           "non_accelerated_filer",
           "debt"
          ],
          [
           "2018_1",
           "accelerated_filer",
           "debt"
          ],
          [
           "2018_1",
           "large_accelerated_filer",
           "debt"
          ],
          [
           "2018_1",
           "non_accelerated_filer",
           "debt"
          ],
          [
           "2018_2",
           "accelerated_filer",
           "debt"
          ],
          [
           "2018_2",
           "large_accelerated_filer",
           "debt"
          ],
          [
           "2018_2",
           "non_accelerated_filer",
           "debt"
          ],
          [
           "2018_3",
           "accelerated_filer",
           "debt"
          ],
          [
           "2018_3",
           "large_accelerated_filer",
           "debt"
          ],
          [
           "2018_3",
           "non_accelerated_filer",
           "debt"
          ],
          [
           "2018_4",
           "accelerated_filer",
           "debt"
          ],
          [
           "2018_4",
           "large_accelerated_filer",
           "debt"
          ],
          [
           "2018_4",
           "non_accelerated_filer",
           "debt"
          ],
          [
           "2019_1",
           "accelerated_filer",
           "debt"
          ],
          [
           "2019_1",
           "large_accelerated_filer",
           "debt"
          ],
          [
           "2019_1",
           "non_accelerated_filer",
           "debt"
          ],
          [
           "2019_2",
           "accelerated_filer",
           "debt"
          ],
          [
           "2019_2",
           "large_accelerated_filer",
           "debt"
          ],
          [
           "2019_2",
           "non_accelerated_filer",
           "debt"
          ],
          [
           "2019_3",
           "accelerated_filer",
           "debt"
          ],
          [
           "2019_3",
           "large_accelerated_filer",
           "debt"
          ],
          [
           "2019_3",
           "non_accelerated_filer",
           "debt"
          ],
          [
           "2019_4",
           "accelerated_filer",
           "debt"
          ],
          [
           "2019_4",
           "large_accelerated_filer",
           "debt"
          ],
          [
           "2019_4",
           "non_accelerated_filer",
           "debt"
          ],
          [
           "2020_1",
           "accelerated_filer",
           "debt"
          ],
          [
           "2020_1",
           "large_accelerated_filer",
           "debt"
          ],
          [
           "2020_1",
           "non_accelerated_filer",
           "debt"
          ],
          [
           "2020_2",
           "accelerated_filer",
           "debt"
          ],
          [
           "2020_2",
           "large_accelerated_filer",
           "debt"
          ],
          [
           "2020_2",
           "non_accelerated_filer",
           "debt"
          ],
          [
           "2020_3",
           "accelerated_filer",
           "debt"
          ],
          [
           "2020_3",
           "large_accelerated_filer",
           "debt"
          ],
          [
           "2020_3",
           "non_accelerated_filer",
           "debt"
          ],
          [
           "2020_4",
           "accelerated_filer",
           "debt"
          ],
          [
           "2020_4",
           "large_accelerated_filer",
           "debt"
          ],
          [
           "2020_4",
           "non_accelerated_filer",
           "debt"
          ],
          [
           "2021_1",
           "non_accelerated_filer",
           "debt"
          ],
          [
           "2021_1",
           "accelerated_filer",
           "debt"
          ],
          [
           "2021_1",
           "large_accelerated_filer",
           "debt"
          ],
          [
           "2021_2",
           "non_accelerated_filer",
           "debt"
          ],
          [
           "2021_2",
           "accelerated_filer",
           "debt"
          ],
          [
           "2021_2",
           "large_accelerated_filer",
           "debt"
          ],
          [
           "2021_3",
           "non_accelerated_filer",
           "debt"
          ],
          [
           "2021_3",
           "accelerated_filer",
           "debt"
          ],
          [
           "2021_3",
           "large_accelerated_filer",
           "debt"
          ]
         ],
         "fillcolor": "rgba(255,255,255,0)",
         "hoveron": "points",
         "hovertemplate": "kpi=%{customdata[2]}<br>used_to_all=%{x}<br>year_q=%{customdata[0]}<br>filer_type=%{customdata[1]}<extra></extra>",
         "jitter": 0,
         "legendgroup": "debt",
         "line": {
          "color": "rgba(255,255,255,0)"
         },
         "marker": {
          "color": "#FF97FF",
          "symbol": "line-ns-open"
         },
         "name": "debt",
         "offsetgroup": "debt",
         "showlegend": false,
         "type": "box",
         "x": [
          0.68,
          0.91,
          0.6,
          0.74,
          0.94,
          0.78,
          0.71,
          0.94,
          0.78,
          0.75,
          0.94,
          0.82,
          0.74,
          0.96,
          0.59,
          0.76,
          0.94,
          0.71,
          0.73,
          0.96,
          0.71,
          0.66,
          0.94,
          0.86,
          0.77,
          1,
          0.55,
          0.8,
          0.98,
          0.6,
          0.69,
          0.96,
          0.82,
          0.84,
          0.9,
          0.79,
          0.56,
          0.87,
          0.69,
          0.81,
          0.92,
          0.73,
          0.81,
          0.96,
          0.6,
          0.77,
          0.88,
          0.97,
          0.66,
          0.86,
          0.97,
          0.67,
          0.93,
          1
         ],
         "xaxis": "x2",
         "yaxis": "y2"
        },
        {
         "alignmentgroup": "True",
         "bingroup": "x",
         "hovertemplate": "kpi=current<br>used_to_all=%{x}<br>count=%{y}<extra></extra>",
         "legendgroup": "current",
         "marker": {
          "color": "#FECB52",
          "pattern": {
           "shape": ""
          }
         },
         "name": "current",
         "offsetgroup": "current",
         "orientation": "v",
         "showlegend": true,
         "type": "histogram",
         "x": [
          0.91,
          0.98,
          0.75,
          0.91,
          1,
          0.89,
          0.91,
          1,
          0.89,
          0.94,
          0.98,
          0.91,
          0.89,
          1,
          0.71,
          0.95,
          0.98,
          0.86,
          0.95,
          1,
          0.86,
          0.83,
          0.98,
          0.86,
          0.91,
          1,
          0.64,
          0.94,
          1,
          0.7,
          0.77,
          0.98,
          0.91,
          0.97,
          0.92,
          0.79,
          0.56,
          0.88,
          0.69,
          0.81,
          0.96,
          0.73,
          0.91,
          1,
          0.53,
          0.87,
          0.96,
          0.97,
          0.71,
          0.93,
          0.97,
          0.73,
          1,
          1
         ],
         "xaxis": "x",
         "yaxis": "y"
        },
        {
         "alignmentgroup": "True",
         "boxpoints": "all",
         "customdata": [
          [
           "2017_2",
           "accelerated_filer",
           "current"
          ],
          [
           "2017_2",
           "large_accelerated_filer",
           "current"
          ],
          [
           "2017_2",
           "non_accelerated_filer",
           "current"
          ],
          [
           "2017_3",
           "accelerated_filer",
           "current"
          ],
          [
           "2017_3",
           "large_accelerated_filer",
           "current"
          ],
          [
           "2017_3",
           "non_accelerated_filer",
           "current"
          ],
          [
           "2017_4",
           "accelerated_filer",
           "current"
          ],
          [
           "2017_4",
           "large_accelerated_filer",
           "current"
          ],
          [
           "2017_4",
           "non_accelerated_filer",
           "current"
          ],
          [
           "2018_1",
           "accelerated_filer",
           "current"
          ],
          [
           "2018_1",
           "large_accelerated_filer",
           "current"
          ],
          [
           "2018_1",
           "non_accelerated_filer",
           "current"
          ],
          [
           "2018_2",
           "accelerated_filer",
           "current"
          ],
          [
           "2018_2",
           "large_accelerated_filer",
           "current"
          ],
          [
           "2018_2",
           "non_accelerated_filer",
           "current"
          ],
          [
           "2018_3",
           "accelerated_filer",
           "current"
          ],
          [
           "2018_3",
           "large_accelerated_filer",
           "current"
          ],
          [
           "2018_3",
           "non_accelerated_filer",
           "current"
          ],
          [
           "2018_4",
           "accelerated_filer",
           "current"
          ],
          [
           "2018_4",
           "large_accelerated_filer",
           "current"
          ],
          [
           "2018_4",
           "non_accelerated_filer",
           "current"
          ],
          [
           "2019_1",
           "accelerated_filer",
           "current"
          ],
          [
           "2019_1",
           "large_accelerated_filer",
           "current"
          ],
          [
           "2019_1",
           "non_accelerated_filer",
           "current"
          ],
          [
           "2019_2",
           "accelerated_filer",
           "current"
          ],
          [
           "2019_2",
           "large_accelerated_filer",
           "current"
          ],
          [
           "2019_2",
           "non_accelerated_filer",
           "current"
          ],
          [
           "2019_3",
           "accelerated_filer",
           "current"
          ],
          [
           "2019_3",
           "large_accelerated_filer",
           "current"
          ],
          [
           "2019_3",
           "non_accelerated_filer",
           "current"
          ],
          [
           "2019_4",
           "accelerated_filer",
           "current"
          ],
          [
           "2019_4",
           "large_accelerated_filer",
           "current"
          ],
          [
           "2019_4",
           "non_accelerated_filer",
           "current"
          ],
          [
           "2020_1",
           "accelerated_filer",
           "current"
          ],
          [
           "2020_1",
           "large_accelerated_filer",
           "current"
          ],
          [
           "2020_1",
           "non_accelerated_filer",
           "current"
          ],
          [
           "2020_2",
           "accelerated_filer",
           "current"
          ],
          [
           "2020_2",
           "large_accelerated_filer",
           "current"
          ],
          [
           "2020_2",
           "non_accelerated_filer",
           "current"
          ],
          [
           "2020_3",
           "accelerated_filer",
           "current"
          ],
          [
           "2020_3",
           "large_accelerated_filer",
           "current"
          ],
          [
           "2020_3",
           "non_accelerated_filer",
           "current"
          ],
          [
           "2020_4",
           "accelerated_filer",
           "current"
          ],
          [
           "2020_4",
           "large_accelerated_filer",
           "current"
          ],
          [
           "2020_4",
           "non_accelerated_filer",
           "current"
          ],
          [
           "2021_1",
           "non_accelerated_filer",
           "current"
          ],
          [
           "2021_1",
           "accelerated_filer",
           "current"
          ],
          [
           "2021_1",
           "large_accelerated_filer",
           "current"
          ],
          [
           "2021_2",
           "non_accelerated_filer",
           "current"
          ],
          [
           "2021_2",
           "accelerated_filer",
           "current"
          ],
          [
           "2021_2",
           "large_accelerated_filer",
           "current"
          ],
          [
           "2021_3",
           "non_accelerated_filer",
           "current"
          ],
          [
           "2021_3",
           "accelerated_filer",
           "current"
          ],
          [
           "2021_3",
           "large_accelerated_filer",
           "current"
          ]
         ],
         "fillcolor": "rgba(255,255,255,0)",
         "hoveron": "points",
         "hovertemplate": "kpi=%{customdata[2]}<br>used_to_all=%{x}<br>year_q=%{customdata[0]}<br>filer_type=%{customdata[1]}<extra></extra>",
         "jitter": 0,
         "legendgroup": "current",
         "line": {
          "color": "rgba(255,255,255,0)"
         },
         "marker": {
          "color": "#FECB52",
          "symbol": "line-ns-open"
         },
         "name": "current",
         "offsetgroup": "current",
         "showlegend": false,
         "type": "box",
         "x": [
          0.91,
          0.98,
          0.75,
          0.91,
          1,
          0.89,
          0.91,
          1,
          0.89,
          0.94,
          0.98,
          0.91,
          0.89,
          1,
          0.71,
          0.95,
          0.98,
          0.86,
          0.95,
          1,
          0.86,
          0.83,
          0.98,
          0.86,
          0.91,
          1,
          0.64,
          0.94,
          1,
          0.7,
          0.77,
          0.98,
          0.91,
          0.97,
          0.92,
          0.79,
          0.56,
          0.88,
          0.69,
          0.81,
          0.96,
          0.73,
          0.91,
          1,
          0.53,
          0.87,
          0.96,
          0.97,
          0.71,
          0.93,
          0.97,
          0.73,
          1,
          1
         ],
         "xaxis": "x2",
         "yaxis": "y2"
        },
        {
         "alignmentgroup": "True",
         "bingroup": "x",
         "hovertemplate": "kpi=quick<br>used_to_all=%{x}<br>count=%{y}<extra></extra>",
         "legendgroup": "quick",
         "marker": {
          "color": "#636efa",
          "pattern": {
           "shape": ""
          }
         },
         "name": "quick",
         "offsetgroup": "quick",
         "orientation": "v",
         "showlegend": true,
         "type": "histogram",
         "x": [
          0.74,
          0.96,
          0.65,
          0.71,
          1,
          0.72,
          0.68,
          1,
          0.78,
          0.78,
          0.96,
          0.73,
          0.74,
          1,
          0.53,
          0.78,
          0.98,
          0.64,
          0.78,
          0.98,
          0.64,
          0.69,
          0.96,
          0.71,
          0.71,
          0.98,
          0.45,
          0.74,
          0.98,
          0.5,
          0.63,
          0.96,
          0.64,
          0.78,
          0.9,
          0.64,
          0.53,
          0.85,
          0.56,
          0.75,
          0.94,
          0.6,
          0.72,
          0.96,
          0.47,
          0.71,
          0.92,
          0.97,
          0.6,
          0.86,
          0.97,
          0.61,
          0.93,
          1
         ],
         "xaxis": "x",
         "yaxis": "y"
        },
        {
         "alignmentgroup": "True",
         "boxpoints": "all",
         "customdata": [
          [
           "2017_2",
           "accelerated_filer",
           "quick"
          ],
          [
           "2017_2",
           "large_accelerated_filer",
           "quick"
          ],
          [
           "2017_2",
           "non_accelerated_filer",
           "quick"
          ],
          [
           "2017_3",
           "accelerated_filer",
           "quick"
          ],
          [
           "2017_3",
           "large_accelerated_filer",
           "quick"
          ],
          [
           "2017_3",
           "non_accelerated_filer",
           "quick"
          ],
          [
           "2017_4",
           "accelerated_filer",
           "quick"
          ],
          [
           "2017_4",
           "large_accelerated_filer",
           "quick"
          ],
          [
           "2017_4",
           "non_accelerated_filer",
           "quick"
          ],
          [
           "2018_1",
           "accelerated_filer",
           "quick"
          ],
          [
           "2018_1",
           "large_accelerated_filer",
           "quick"
          ],
          [
           "2018_1",
           "non_accelerated_filer",
           "quick"
          ],
          [
           "2018_2",
           "accelerated_filer",
           "quick"
          ],
          [
           "2018_2",
           "large_accelerated_filer",
           "quick"
          ],
          [
           "2018_2",
           "non_accelerated_filer",
           "quick"
          ],
          [
           "2018_3",
           "accelerated_filer",
           "quick"
          ],
          [
           "2018_3",
           "large_accelerated_filer",
           "quick"
          ],
          [
           "2018_3",
           "non_accelerated_filer",
           "quick"
          ],
          [
           "2018_4",
           "accelerated_filer",
           "quick"
          ],
          [
           "2018_4",
           "large_accelerated_filer",
           "quick"
          ],
          [
           "2018_4",
           "non_accelerated_filer",
           "quick"
          ],
          [
           "2019_1",
           "accelerated_filer",
           "quick"
          ],
          [
           "2019_1",
           "large_accelerated_filer",
           "quick"
          ],
          [
           "2019_1",
           "non_accelerated_filer",
           "quick"
          ],
          [
           "2019_2",
           "accelerated_filer",
           "quick"
          ],
          [
           "2019_2",
           "large_accelerated_filer",
           "quick"
          ],
          [
           "2019_2",
           "non_accelerated_filer",
           "quick"
          ],
          [
           "2019_3",
           "accelerated_filer",
           "quick"
          ],
          [
           "2019_3",
           "large_accelerated_filer",
           "quick"
          ],
          [
           "2019_3",
           "non_accelerated_filer",
           "quick"
          ],
          [
           "2019_4",
           "accelerated_filer",
           "quick"
          ],
          [
           "2019_4",
           "large_accelerated_filer",
           "quick"
          ],
          [
           "2019_4",
           "non_accelerated_filer",
           "quick"
          ],
          [
           "2020_1",
           "accelerated_filer",
           "quick"
          ],
          [
           "2020_1",
           "large_accelerated_filer",
           "quick"
          ],
          [
           "2020_1",
           "non_accelerated_filer",
           "quick"
          ],
          [
           "2020_2",
           "accelerated_filer",
           "quick"
          ],
          [
           "2020_2",
           "large_accelerated_filer",
           "quick"
          ],
          [
           "2020_2",
           "non_accelerated_filer",
           "quick"
          ],
          [
           "2020_3",
           "accelerated_filer",
           "quick"
          ],
          [
           "2020_3",
           "large_accelerated_filer",
           "quick"
          ],
          [
           "2020_3",
           "non_accelerated_filer",
           "quick"
          ],
          [
           "2020_4",
           "accelerated_filer",
           "quick"
          ],
          [
           "2020_4",
           "large_accelerated_filer",
           "quick"
          ],
          [
           "2020_4",
           "non_accelerated_filer",
           "quick"
          ],
          [
           "2021_1",
           "non_accelerated_filer",
           "quick"
          ],
          [
           "2021_1",
           "accelerated_filer",
           "quick"
          ],
          [
           "2021_1",
           "large_accelerated_filer",
           "quick"
          ],
          [
           "2021_2",
           "non_accelerated_filer",
           "quick"
          ],
          [
           "2021_2",
           "accelerated_filer",
           "quick"
          ],
          [
           "2021_2",
           "large_accelerated_filer",
           "quick"
          ],
          [
           "2021_3",
           "non_accelerated_filer",
           "quick"
          ],
          [
           "2021_3",
           "accelerated_filer",
           "quick"
          ],
          [
           "2021_3",
           "large_accelerated_filer",
           "quick"
          ]
         ],
         "fillcolor": "rgba(255,255,255,0)",
         "hoveron": "points",
         "hovertemplate": "kpi=%{customdata[2]}<br>used_to_all=%{x}<br>year_q=%{customdata[0]}<br>filer_type=%{customdata[1]}<extra></extra>",
         "jitter": 0,
         "legendgroup": "quick",
         "line": {
          "color": "rgba(255,255,255,0)"
         },
         "marker": {
          "color": "#636efa",
          "symbol": "line-ns-open"
         },
         "name": "quick",
         "offsetgroup": "quick",
         "showlegend": false,
         "type": "box",
         "x": [
          0.74,
          0.96,
          0.65,
          0.71,
          1,
          0.72,
          0.68,
          1,
          0.78,
          0.78,
          0.96,
          0.73,
          0.74,
          1,
          0.53,
          0.78,
          0.98,
          0.64,
          0.78,
          0.98,
          0.64,
          0.69,
          0.96,
          0.71,
          0.71,
          0.98,
          0.45,
          0.74,
          0.98,
          0.5,
          0.63,
          0.96,
          0.64,
          0.78,
          0.9,
          0.64,
          0.53,
          0.85,
          0.56,
          0.75,
          0.94,
          0.6,
          0.72,
          0.96,
          0.47,
          0.71,
          0.92,
          0.97,
          0.6,
          0.86,
          0.97,
          0.61,
          0.93,
          1
         ],
         "xaxis": "x2",
         "yaxis": "y2"
        },
        {
         "alignmentgroup": "True",
         "bingroup": "x",
         "hovertemplate": "kpi=cash<br>used_to_all=%{x}<br>count=%{y}<extra></extra>",
         "legendgroup": "cash",
         "marker": {
          "color": "#EF553B",
          "pattern": {
           "shape": ""
          }
         },
         "name": "cash",
         "offsetgroup": "cash",
         "orientation": "v",
         "showlegend": true,
         "type": "histogram",
         "x": [
          0.91,
          0.96,
          0.75,
          0.91,
          1,
          0.83,
          0.91,
          1,
          0.89,
          0.94,
          0.98,
          0.91,
          0.89,
          1,
          0.71,
          0.95,
          0.98,
          0.86,
          0.95,
          0.98,
          0.86,
          0.83,
          0.96,
          0.86,
          0.91,
          0.98,
          0.64,
          0.94,
          0.98,
          0.7,
          0.77,
          0.96,
          0.82,
          0.94,
          0.9,
          0.79,
          0.56,
          0.87,
          0.69,
          0.81,
          0.96,
          0.73,
          0.91,
          0.98,
          0.47,
          0.87,
          0.96,
          0.97,
          0.71,
          0.89,
          0.97,
          0.73,
          0.96,
          1
         ],
         "xaxis": "x",
         "yaxis": "y"
        },
        {
         "alignmentgroup": "True",
         "boxpoints": "all",
         "customdata": [
          [
           "2017_2",
           "accelerated_filer",
           "cash"
          ],
          [
           "2017_2",
           "large_accelerated_filer",
           "cash"
          ],
          [
           "2017_2",
           "non_accelerated_filer",
           "cash"
          ],
          [
           "2017_3",
           "accelerated_filer",
           "cash"
          ],
          [
           "2017_3",
           "large_accelerated_filer",
           "cash"
          ],
          [
           "2017_3",
           "non_accelerated_filer",
           "cash"
          ],
          [
           "2017_4",
           "accelerated_filer",
           "cash"
          ],
          [
           "2017_4",
           "large_accelerated_filer",
           "cash"
          ],
          [
           "2017_4",
           "non_accelerated_filer",
           "cash"
          ],
          [
           "2018_1",
           "accelerated_filer",
           "cash"
          ],
          [
           "2018_1",
           "large_accelerated_filer",
           "cash"
          ],
          [
           "2018_1",
           "non_accelerated_filer",
           "cash"
          ],
          [
           "2018_2",
           "accelerated_filer",
           "cash"
          ],
          [
           "2018_2",
           "large_accelerated_filer",
           "cash"
          ],
          [
           "2018_2",
           "non_accelerated_filer",
           "cash"
          ],
          [
           "2018_3",
           "accelerated_filer",
           "cash"
          ],
          [
           "2018_3",
           "large_accelerated_filer",
           "cash"
          ],
          [
           "2018_3",
           "non_accelerated_filer",
           "cash"
          ],
          [
           "2018_4",
           "accelerated_filer",
           "cash"
          ],
          [
           "2018_4",
           "large_accelerated_filer",
           "cash"
          ],
          [
           "2018_4",
           "non_accelerated_filer",
           "cash"
          ],
          [
           "2019_1",
           "accelerated_filer",
           "cash"
          ],
          [
           "2019_1",
           "large_accelerated_filer",
           "cash"
          ],
          [
           "2019_1",
           "non_accelerated_filer",
           "cash"
          ],
          [
           "2019_2",
           "accelerated_filer",
           "cash"
          ],
          [
           "2019_2",
           "large_accelerated_filer",
           "cash"
          ],
          [
           "2019_2",
           "non_accelerated_filer",
           "cash"
          ],
          [
           "2019_3",
           "accelerated_filer",
           "cash"
          ],
          [
           "2019_3",
           "large_accelerated_filer",
           "cash"
          ],
          [
           "2019_3",
           "non_accelerated_filer",
           "cash"
          ],
          [
           "2019_4",
           "accelerated_filer",
           "cash"
          ],
          [
           "2019_4",
           "large_accelerated_filer",
           "cash"
          ],
          [
           "2019_4",
           "non_accelerated_filer",
           "cash"
          ],
          [
           "2020_1",
           "accelerated_filer",
           "cash"
          ],
          [
           "2020_1",
           "large_accelerated_filer",
           "cash"
          ],
          [
           "2020_1",
           "non_accelerated_filer",
           "cash"
          ],
          [
           "2020_2",
           "accelerated_filer",
           "cash"
          ],
          [
           "2020_2",
           "large_accelerated_filer",
           "cash"
          ],
          [
           "2020_2",
           "non_accelerated_filer",
           "cash"
          ],
          [
           "2020_3",
           "accelerated_filer",
           "cash"
          ],
          [
           "2020_3",
           "large_accelerated_filer",
           "cash"
          ],
          [
           "2020_3",
           "non_accelerated_filer",
           "cash"
          ],
          [
           "2020_4",
           "accelerated_filer",
           "cash"
          ],
          [
           "2020_4",
           "large_accelerated_filer",
           "cash"
          ],
          [
           "2020_4",
           "non_accelerated_filer",
           "cash"
          ],
          [
           "2021_1",
           "non_accelerated_filer",
           "cash"
          ],
          [
           "2021_1",
           "accelerated_filer",
           "cash"
          ],
          [
           "2021_1",
           "large_accelerated_filer",
           "cash"
          ],
          [
           "2021_2",
           "non_accelerated_filer",
           "cash"
          ],
          [
           "2021_2",
           "accelerated_filer",
           "cash"
          ],
          [
           "2021_2",
           "large_accelerated_filer",
           "cash"
          ],
          [
           "2021_3",
           "non_accelerated_filer",
           "cash"
          ],
          [
           "2021_3",
           "accelerated_filer",
           "cash"
          ],
          [
           "2021_3",
           "large_accelerated_filer",
           "cash"
          ]
         ],
         "fillcolor": "rgba(255,255,255,0)",
         "hoveron": "points",
         "hovertemplate": "kpi=%{customdata[2]}<br>used_to_all=%{x}<br>year_q=%{customdata[0]}<br>filer_type=%{customdata[1]}<extra></extra>",
         "jitter": 0,
         "legendgroup": "cash",
         "line": {
          "color": "rgba(255,255,255,0)"
         },
         "marker": {
          "color": "#EF553B",
          "symbol": "line-ns-open"
         },
         "name": "cash",
         "offsetgroup": "cash",
         "showlegend": false,
         "type": "box",
         "x": [
          0.91,
          0.96,
          0.75,
          0.91,
          1,
          0.83,
          0.91,
          1,
          0.89,
          0.94,
          0.98,
          0.91,
          0.89,
          1,
          0.71,
          0.95,
          0.98,
          0.86,
          0.95,
          0.98,
          0.86,
          0.83,
          0.96,
          0.86,
          0.91,
          0.98,
          0.64,
          0.94,
          0.98,
          0.7,
          0.77,
          0.96,
          0.82,
          0.94,
          0.9,
          0.79,
          0.56,
          0.87,
          0.69,
          0.81,
          0.96,
          0.73,
          0.91,
          0.98,
          0.47,
          0.87,
          0.96,
          0.97,
          0.71,
          0.89,
          0.97,
          0.73,
          0.96,
          1
         ],
         "xaxis": "x2",
         "yaxis": "y2"
        },
        {
         "alignmentgroup": "True",
         "bingroup": "x",
         "hovertemplate": "kpi=times_interest_earned<br>used_to_all=%{x}<br>count=%{y}<extra></extra>",
         "legendgroup": "times_interest_earned",
         "marker": {
          "color": "#00cc96",
          "pattern": {
           "shape": ""
          }
         },
         "name": "times_interest_earned",
         "offsetgroup": "times_interest_earned",
         "orientation": "v",
         "showlegend": true,
         "type": "histogram",
         "x": [
          0.68,
          0.96,
          0.7,
          0.79,
          0.98,
          0.78,
          0.76,
          0.98,
          0.78,
          0.78,
          0.98,
          0.82,
          0.74,
          1,
          0.59,
          0.78,
          1,
          0.71,
          0.78,
          1,
          0.71,
          0.69,
          0.98,
          0.86,
          0.77,
          1,
          0.55,
          0.77,
          0.98,
          0.6,
          0.66,
          0.98,
          0.82,
          0.81,
          0.92,
          0.71,
          0.56,
          0.85,
          0.56,
          0.78,
          0.92,
          0.67,
          0.78,
          0.96,
          0.53,
          0.77,
          0.92,
          0.95,
          0.63,
          0.89,
          0.97,
          0.61,
          0.96,
          0.97
         ],
         "xaxis": "x",
         "yaxis": "y"
        },
        {
         "alignmentgroup": "True",
         "boxpoints": "all",
         "customdata": [
          [
           "2017_2",
           "accelerated_filer",
           "times_interest_earned"
          ],
          [
           "2017_2",
           "large_accelerated_filer",
           "times_interest_earned"
          ],
          [
           "2017_2",
           "non_accelerated_filer",
           "times_interest_earned"
          ],
          [
           "2017_3",
           "accelerated_filer",
           "times_interest_earned"
          ],
          [
           "2017_3",
           "large_accelerated_filer",
           "times_interest_earned"
          ],
          [
           "2017_3",
           "non_accelerated_filer",
           "times_interest_earned"
          ],
          [
           "2017_4",
           "accelerated_filer",
           "times_interest_earned"
          ],
          [
           "2017_4",
           "large_accelerated_filer",
           "times_interest_earned"
          ],
          [
           "2017_4",
           "non_accelerated_filer",
           "times_interest_earned"
          ],
          [
           "2018_1",
           "accelerated_filer",
           "times_interest_earned"
          ],
          [
           "2018_1",
           "large_accelerated_filer",
           "times_interest_earned"
          ],
          [
           "2018_1",
           "non_accelerated_filer",
           "times_interest_earned"
          ],
          [
           "2018_2",
           "accelerated_filer",
           "times_interest_earned"
          ],
          [
           "2018_2",
           "large_accelerated_filer",
           "times_interest_earned"
          ],
          [
           "2018_2",
           "non_accelerated_filer",
           "times_interest_earned"
          ],
          [
           "2018_3",
           "accelerated_filer",
           "times_interest_earned"
          ],
          [
           "2018_3",
           "large_accelerated_filer",
           "times_interest_earned"
          ],
          [
           "2018_3",
           "non_accelerated_filer",
           "times_interest_earned"
          ],
          [
           "2018_4",
           "accelerated_filer",
           "times_interest_earned"
          ],
          [
           "2018_4",
           "large_accelerated_filer",
           "times_interest_earned"
          ],
          [
           "2018_4",
           "non_accelerated_filer",
           "times_interest_earned"
          ],
          [
           "2019_1",
           "accelerated_filer",
           "times_interest_earned"
          ],
          [
           "2019_1",
           "large_accelerated_filer",
           "times_interest_earned"
          ],
          [
           "2019_1",
           "non_accelerated_filer",
           "times_interest_earned"
          ],
          [
           "2019_2",
           "accelerated_filer",
           "times_interest_earned"
          ],
          [
           "2019_2",
           "large_accelerated_filer",
           "times_interest_earned"
          ],
          [
           "2019_2",
           "non_accelerated_filer",
           "times_interest_earned"
          ],
          [
           "2019_3",
           "accelerated_filer",
           "times_interest_earned"
          ],
          [
           "2019_3",
           "large_accelerated_filer",
           "times_interest_earned"
          ],
          [
           "2019_3",
           "non_accelerated_filer",
           "times_interest_earned"
          ],
          [
           "2019_4",
           "accelerated_filer",
           "times_interest_earned"
          ],
          [
           "2019_4",
           "large_accelerated_filer",
           "times_interest_earned"
          ],
          [
           "2019_4",
           "non_accelerated_filer",
           "times_interest_earned"
          ],
          [
           "2020_1",
           "accelerated_filer",
           "times_interest_earned"
          ],
          [
           "2020_1",
           "large_accelerated_filer",
           "times_interest_earned"
          ],
          [
           "2020_1",
           "non_accelerated_filer",
           "times_interest_earned"
          ],
          [
           "2020_2",
           "accelerated_filer",
           "times_interest_earned"
          ],
          [
           "2020_2",
           "large_accelerated_filer",
           "times_interest_earned"
          ],
          [
           "2020_2",
           "non_accelerated_filer",
           "times_interest_earned"
          ],
          [
           "2020_3",
           "accelerated_filer",
           "times_interest_earned"
          ],
          [
           "2020_3",
           "large_accelerated_filer",
           "times_interest_earned"
          ],
          [
           "2020_3",
           "non_accelerated_filer",
           "times_interest_earned"
          ],
          [
           "2020_4",
           "accelerated_filer",
           "times_interest_earned"
          ],
          [
           "2020_4",
           "large_accelerated_filer",
           "times_interest_earned"
          ],
          [
           "2020_4",
           "non_accelerated_filer",
           "times_interest_earned"
          ],
          [
           "2021_1",
           "non_accelerated_filer",
           "times_interest_earned"
          ],
          [
           "2021_1",
           "accelerated_filer",
           "times_interest_earned"
          ],
          [
           "2021_1",
           "large_accelerated_filer",
           "times_interest_earned"
          ],
          [
           "2021_2",
           "non_accelerated_filer",
           "times_interest_earned"
          ],
          [
           "2021_2",
           "accelerated_filer",
           "times_interest_earned"
          ],
          [
           "2021_2",
           "large_accelerated_filer",
           "times_interest_earned"
          ],
          [
           "2021_3",
           "non_accelerated_filer",
           "times_interest_earned"
          ],
          [
           "2021_3",
           "accelerated_filer",
           "times_interest_earned"
          ],
          [
           "2021_3",
           "large_accelerated_filer",
           "times_interest_earned"
          ]
         ],
         "fillcolor": "rgba(255,255,255,0)",
         "hoveron": "points",
         "hovertemplate": "kpi=%{customdata[2]}<br>used_to_all=%{x}<br>year_q=%{customdata[0]}<br>filer_type=%{customdata[1]}<extra></extra>",
         "jitter": 0,
         "legendgroup": "times_interest_earned",
         "line": {
          "color": "rgba(255,255,255,0)"
         },
         "marker": {
          "color": "#00cc96",
          "symbol": "line-ns-open"
         },
         "name": "times_interest_earned",
         "offsetgroup": "times_interest_earned",
         "showlegend": false,
         "type": "box",
         "x": [
          0.68,
          0.96,
          0.7,
          0.79,
          0.98,
          0.78,
          0.76,
          0.98,
          0.78,
          0.78,
          0.98,
          0.82,
          0.74,
          1,
          0.59,
          0.78,
          1,
          0.71,
          0.78,
          1,
          0.71,
          0.69,
          0.98,
          0.86,
          0.77,
          1,
          0.55,
          0.77,
          0.98,
          0.6,
          0.66,
          0.98,
          0.82,
          0.81,
          0.92,
          0.71,
          0.56,
          0.85,
          0.56,
          0.78,
          0.92,
          0.67,
          0.78,
          0.96,
          0.53,
          0.77,
          0.92,
          0.95,
          0.63,
          0.89,
          0.97,
          0.61,
          0.96,
          0.97
         ],
         "xaxis": "x2",
         "yaxis": "y2"
        },
        {
         "alignmentgroup": "True",
         "bingroup": "x",
         "hovertemplate": "kpi=capex_to_operating_cash<br>used_to_all=%{x}<br>count=%{y}<extra></extra>",
         "legendgroup": "capex_to_operating_cash",
         "marker": {
          "color": "#ab63fa",
          "pattern": {
           "shape": ""
          }
         },
         "name": "capex_to_operating_cash",
         "offsetgroup": "capex_to_operating_cash",
         "orientation": "v",
         "showlegend": true,
         "type": "histogram",
         "x": [
          0.68,
          0.98,
          0.75,
          0.79,
          1,
          0.83,
          0.74,
          1,
          0.83,
          0.75,
          0.98,
          0.91,
          0.76,
          1,
          0.65,
          0.81,
          1,
          0.79,
          0.78,
          1,
          0.79,
          0.71,
          0.98,
          0.86,
          0.77,
          1,
          0.55,
          0.8,
          1,
          0.6,
          0.69,
          0.98,
          0.82,
          0.84,
          0.92,
          0.71,
          0.56,
          0.87,
          0.62,
          0.81,
          0.94,
          0.67,
          0.78,
          0.98,
          0.53,
          0.77,
          0.92,
          0.97,
          0.66,
          0.89,
          0.97,
          0.67,
          0.96,
          1
         ],
         "xaxis": "x",
         "yaxis": "y"
        },
        {
         "alignmentgroup": "True",
         "boxpoints": "all",
         "customdata": [
          [
           "2017_2",
           "accelerated_filer",
           "capex_to_operating_cash"
          ],
          [
           "2017_2",
           "large_accelerated_filer",
           "capex_to_operating_cash"
          ],
          [
           "2017_2",
           "non_accelerated_filer",
           "capex_to_operating_cash"
          ],
          [
           "2017_3",
           "accelerated_filer",
           "capex_to_operating_cash"
          ],
          [
           "2017_3",
           "large_accelerated_filer",
           "capex_to_operating_cash"
          ],
          [
           "2017_3",
           "non_accelerated_filer",
           "capex_to_operating_cash"
          ],
          [
           "2017_4",
           "accelerated_filer",
           "capex_to_operating_cash"
          ],
          [
           "2017_4",
           "large_accelerated_filer",
           "capex_to_operating_cash"
          ],
          [
           "2017_4",
           "non_accelerated_filer",
           "capex_to_operating_cash"
          ],
          [
           "2018_1",
           "accelerated_filer",
           "capex_to_operating_cash"
          ],
          [
           "2018_1",
           "large_accelerated_filer",
           "capex_to_operating_cash"
          ],
          [
           "2018_1",
           "non_accelerated_filer",
           "capex_to_operating_cash"
          ],
          [
           "2018_2",
           "accelerated_filer",
           "capex_to_operating_cash"
          ],
          [
           "2018_2",
           "large_accelerated_filer",
           "capex_to_operating_cash"
          ],
          [
           "2018_2",
           "non_accelerated_filer",
           "capex_to_operating_cash"
          ],
          [
           "2018_3",
           "accelerated_filer",
           "capex_to_operating_cash"
          ],
          [
           "2018_3",
           "large_accelerated_filer",
           "capex_to_operating_cash"
          ],
          [
           "2018_3",
           "non_accelerated_filer",
           "capex_to_operating_cash"
          ],
          [
           "2018_4",
           "accelerated_filer",
           "capex_to_operating_cash"
          ],
          [
           "2018_4",
           "large_accelerated_filer",
           "capex_to_operating_cash"
          ],
          [
           "2018_4",
           "non_accelerated_filer",
           "capex_to_operating_cash"
          ],
          [
           "2019_1",
           "accelerated_filer",
           "capex_to_operating_cash"
          ],
          [
           "2019_1",
           "large_accelerated_filer",
           "capex_to_operating_cash"
          ],
          [
           "2019_1",
           "non_accelerated_filer",
           "capex_to_operating_cash"
          ],
          [
           "2019_2",
           "accelerated_filer",
           "capex_to_operating_cash"
          ],
          [
           "2019_2",
           "large_accelerated_filer",
           "capex_to_operating_cash"
          ],
          [
           "2019_2",
           "non_accelerated_filer",
           "capex_to_operating_cash"
          ],
          [
           "2019_3",
           "accelerated_filer",
           "capex_to_operating_cash"
          ],
          [
           "2019_3",
           "large_accelerated_filer",
           "capex_to_operating_cash"
          ],
          [
           "2019_3",
           "non_accelerated_filer",
           "capex_to_operating_cash"
          ],
          [
           "2019_4",
           "accelerated_filer",
           "capex_to_operating_cash"
          ],
          [
           "2019_4",
           "large_accelerated_filer",
           "capex_to_operating_cash"
          ],
          [
           "2019_4",
           "non_accelerated_filer",
           "capex_to_operating_cash"
          ],
          [
           "2020_1",
           "accelerated_filer",
           "capex_to_operating_cash"
          ],
          [
           "2020_1",
           "large_accelerated_filer",
           "capex_to_operating_cash"
          ],
          [
           "2020_1",
           "non_accelerated_filer",
           "capex_to_operating_cash"
          ],
          [
           "2020_2",
           "accelerated_filer",
           "capex_to_operating_cash"
          ],
          [
           "2020_2",
           "large_accelerated_filer",
           "capex_to_operating_cash"
          ],
          [
           "2020_2",
           "non_accelerated_filer",
           "capex_to_operating_cash"
          ],
          [
           "2020_3",
           "accelerated_filer",
           "capex_to_operating_cash"
          ],
          [
           "2020_3",
           "large_accelerated_filer",
           "capex_to_operating_cash"
          ],
          [
           "2020_3",
           "non_accelerated_filer",
           "capex_to_operating_cash"
          ],
          [
           "2020_4",
           "accelerated_filer",
           "capex_to_operating_cash"
          ],
          [
           "2020_4",
           "large_accelerated_filer",
           "capex_to_operating_cash"
          ],
          [
           "2020_4",
           "non_accelerated_filer",
           "capex_to_operating_cash"
          ],
          [
           "2021_1",
           "non_accelerated_filer",
           "capex_to_operating_cash"
          ],
          [
           "2021_1",
           "accelerated_filer",
           "capex_to_operating_cash"
          ],
          [
           "2021_1",
           "large_accelerated_filer",
           "capex_to_operating_cash"
          ],
          [
           "2021_2",
           "non_accelerated_filer",
           "capex_to_operating_cash"
          ],
          [
           "2021_2",
           "accelerated_filer",
           "capex_to_operating_cash"
          ],
          [
           "2021_2",
           "large_accelerated_filer",
           "capex_to_operating_cash"
          ],
          [
           "2021_3",
           "non_accelerated_filer",
           "capex_to_operating_cash"
          ],
          [
           "2021_3",
           "accelerated_filer",
           "capex_to_operating_cash"
          ],
          [
           "2021_3",
           "large_accelerated_filer",
           "capex_to_operating_cash"
          ]
         ],
         "fillcolor": "rgba(255,255,255,0)",
         "hoveron": "points",
         "hovertemplate": "kpi=%{customdata[2]}<br>used_to_all=%{x}<br>year_q=%{customdata[0]}<br>filer_type=%{customdata[1]}<extra></extra>",
         "jitter": 0,
         "legendgroup": "capex_to_operating_cash",
         "line": {
          "color": "rgba(255,255,255,0)"
         },
         "marker": {
          "color": "#ab63fa",
          "symbol": "line-ns-open"
         },
         "name": "capex_to_operating_cash",
         "offsetgroup": "capex_to_operating_cash",
         "showlegend": false,
         "type": "box",
         "x": [
          0.68,
          0.98,
          0.75,
          0.79,
          1,
          0.83,
          0.74,
          1,
          0.83,
          0.75,
          0.98,
          0.91,
          0.76,
          1,
          0.65,
          0.81,
          1,
          0.79,
          0.78,
          1,
          0.79,
          0.71,
          0.98,
          0.86,
          0.77,
          1,
          0.55,
          0.8,
          1,
          0.6,
          0.69,
          0.98,
          0.82,
          0.84,
          0.92,
          0.71,
          0.56,
          0.87,
          0.62,
          0.81,
          0.94,
          0.67,
          0.78,
          0.98,
          0.53,
          0.77,
          0.92,
          0.97,
          0.66,
          0.89,
          0.97,
          0.67,
          0.96,
          1
         ],
         "xaxis": "x2",
         "yaxis": "y2"
        },
        {
         "alignmentgroup": "True",
         "bingroup": "x",
         "hovertemplate": "kpi=operating_cash_flow<br>used_to_all=%{x}<br>count=%{y}<extra></extra>",
         "legendgroup": "operating_cash_flow",
         "marker": {
          "color": "#FFA15A",
          "pattern": {
           "shape": ""
          }
         },
         "name": "operating_cash_flow",
         "offsetgroup": "operating_cash_flow",
         "orientation": "v",
         "showlegend": true,
         "type": "histogram",
         "x": [
          0.82,
          0.98,
          0.75,
          0.88,
          1,
          0.89,
          0.91,
          1,
          0.89,
          0.94,
          0.98,
          0.91,
          0.89,
          1,
          0.71,
          0.92,
          0.98,
          0.86,
          0.95,
          1,
          0.86,
          0.83,
          0.98,
          0.86,
          0.91,
          1,
          0.64,
          0.91,
          1,
          0.7,
          0.74,
          0.98,
          0.91,
          0.97,
          0.92,
          0.79,
          0.56,
          0.88,
          0.69,
          0.81,
          0.96,
          0.73,
          0.91,
          1,
          0.53,
          0.87,
          0.96,
          0.97,
          0.71,
          0.93,
          0.97,
          0.73,
          1,
          1
         ],
         "xaxis": "x",
         "yaxis": "y"
        },
        {
         "alignmentgroup": "True",
         "boxpoints": "all",
         "customdata": [
          [
           "2017_2",
           "accelerated_filer",
           "operating_cash_flow"
          ],
          [
           "2017_2",
           "large_accelerated_filer",
           "operating_cash_flow"
          ],
          [
           "2017_2",
           "non_accelerated_filer",
           "operating_cash_flow"
          ],
          [
           "2017_3",
           "accelerated_filer",
           "operating_cash_flow"
          ],
          [
           "2017_3",
           "large_accelerated_filer",
           "operating_cash_flow"
          ],
          [
           "2017_3",
           "non_accelerated_filer",
           "operating_cash_flow"
          ],
          [
           "2017_4",
           "accelerated_filer",
           "operating_cash_flow"
          ],
          [
           "2017_4",
           "large_accelerated_filer",
           "operating_cash_flow"
          ],
          [
           "2017_4",
           "non_accelerated_filer",
           "operating_cash_flow"
          ],
          [
           "2018_1",
           "accelerated_filer",
           "operating_cash_flow"
          ],
          [
           "2018_1",
           "large_accelerated_filer",
           "operating_cash_flow"
          ],
          [
           "2018_1",
           "non_accelerated_filer",
           "operating_cash_flow"
          ],
          [
           "2018_2",
           "accelerated_filer",
           "operating_cash_flow"
          ],
          [
           "2018_2",
           "large_accelerated_filer",
           "operating_cash_flow"
          ],
          [
           "2018_2",
           "non_accelerated_filer",
           "operating_cash_flow"
          ],
          [
           "2018_3",
           "accelerated_filer",
           "operating_cash_flow"
          ],
          [
           "2018_3",
           "large_accelerated_filer",
           "operating_cash_flow"
          ],
          [
           "2018_3",
           "non_accelerated_filer",
           "operating_cash_flow"
          ],
          [
           "2018_4",
           "accelerated_filer",
           "operating_cash_flow"
          ],
          [
           "2018_4",
           "large_accelerated_filer",
           "operating_cash_flow"
          ],
          [
           "2018_4",
           "non_accelerated_filer",
           "operating_cash_flow"
          ],
          [
           "2019_1",
           "accelerated_filer",
           "operating_cash_flow"
          ],
          [
           "2019_1",
           "large_accelerated_filer",
           "operating_cash_flow"
          ],
          [
           "2019_1",
           "non_accelerated_filer",
           "operating_cash_flow"
          ],
          [
           "2019_2",
           "accelerated_filer",
           "operating_cash_flow"
          ],
          [
           "2019_2",
           "large_accelerated_filer",
           "operating_cash_flow"
          ],
          [
           "2019_2",
           "non_accelerated_filer",
           "operating_cash_flow"
          ],
          [
           "2019_3",
           "accelerated_filer",
           "operating_cash_flow"
          ],
          [
           "2019_3",
           "large_accelerated_filer",
           "operating_cash_flow"
          ],
          [
           "2019_3",
           "non_accelerated_filer",
           "operating_cash_flow"
          ],
          [
           "2019_4",
           "accelerated_filer",
           "operating_cash_flow"
          ],
          [
           "2019_4",
           "large_accelerated_filer",
           "operating_cash_flow"
          ],
          [
           "2019_4",
           "non_accelerated_filer",
           "operating_cash_flow"
          ],
          [
           "2020_1",
           "accelerated_filer",
           "operating_cash_flow"
          ],
          [
           "2020_1",
           "large_accelerated_filer",
           "operating_cash_flow"
          ],
          [
           "2020_1",
           "non_accelerated_filer",
           "operating_cash_flow"
          ],
          [
           "2020_2",
           "accelerated_filer",
           "operating_cash_flow"
          ],
          [
           "2020_2",
           "large_accelerated_filer",
           "operating_cash_flow"
          ],
          [
           "2020_2",
           "non_accelerated_filer",
           "operating_cash_flow"
          ],
          [
           "2020_3",
           "accelerated_filer",
           "operating_cash_flow"
          ],
          [
           "2020_3",
           "large_accelerated_filer",
           "operating_cash_flow"
          ],
          [
           "2020_3",
           "non_accelerated_filer",
           "operating_cash_flow"
          ],
          [
           "2020_4",
           "accelerated_filer",
           "operating_cash_flow"
          ],
          [
           "2020_4",
           "large_accelerated_filer",
           "operating_cash_flow"
          ],
          [
           "2020_4",
           "non_accelerated_filer",
           "operating_cash_flow"
          ],
          [
           "2021_1",
           "non_accelerated_filer",
           "operating_cash_flow"
          ],
          [
           "2021_1",
           "accelerated_filer",
           "operating_cash_flow"
          ],
          [
           "2021_1",
           "large_accelerated_filer",
           "operating_cash_flow"
          ],
          [
           "2021_2",
           "non_accelerated_filer",
           "operating_cash_flow"
          ],
          [
           "2021_2",
           "accelerated_filer",
           "operating_cash_flow"
          ],
          [
           "2021_2",
           "large_accelerated_filer",
           "operating_cash_flow"
          ],
          [
           "2021_3",
           "non_accelerated_filer",
           "operating_cash_flow"
          ],
          [
           "2021_3",
           "accelerated_filer",
           "operating_cash_flow"
          ],
          [
           "2021_3",
           "large_accelerated_filer",
           "operating_cash_flow"
          ]
         ],
         "fillcolor": "rgba(255,255,255,0)",
         "hoveron": "points",
         "hovertemplate": "kpi=%{customdata[2]}<br>used_to_all=%{x}<br>year_q=%{customdata[0]}<br>filer_type=%{customdata[1]}<extra></extra>",
         "jitter": 0,
         "legendgroup": "operating_cash_flow",
         "line": {
          "color": "rgba(255,255,255,0)"
         },
         "marker": {
          "color": "#FFA15A",
          "symbol": "line-ns-open"
         },
         "name": "operating_cash_flow",
         "offsetgroup": "operating_cash_flow",
         "showlegend": false,
         "type": "box",
         "x": [
          0.82,
          0.98,
          0.75,
          0.88,
          1,
          0.89,
          0.91,
          1,
          0.89,
          0.94,
          0.98,
          0.91,
          0.89,
          1,
          0.71,
          0.92,
          0.98,
          0.86,
          0.95,
          1,
          0.86,
          0.83,
          0.98,
          0.86,
          0.91,
          1,
          0.64,
          0.91,
          1,
          0.7,
          0.74,
          0.98,
          0.91,
          0.97,
          0.92,
          0.79,
          0.56,
          0.88,
          0.69,
          0.81,
          0.96,
          0.73,
          0.91,
          1,
          0.53,
          0.87,
          0.96,
          0.97,
          0.71,
          0.93,
          0.97,
          0.73,
          1,
          1
         ],
         "xaxis": "x2",
         "yaxis": "y2"
        },
        {
         "alignmentgroup": "True",
         "bingroup": "x",
         "hovertemplate": "kpi=price_to_earnings<br>used_to_all=%{x}<br>count=%{y}<extra></extra>",
         "legendgroup": "price_to_earnings",
         "marker": {
          "color": "#19d3f3",
          "pattern": {
           "shape": ""
          }
         },
         "name": "price_to_earnings",
         "offsetgroup": "price_to_earnings",
         "orientation": "v",
         "showlegend": true,
         "type": "histogram",
         "x": [
          0.88,
          0.98,
          0.8,
          0.97,
          1,
          0.94,
          0.97,
          1,
          0.94,
          1,
          0.98,
          1,
          0.95,
          1,
          0.76,
          0.97,
          0.98,
          0.93,
          1,
          1,
          0.93,
          0.86,
          0.98,
          1,
          0.97,
          1,
          0.73,
          1,
          1,
          0.8,
          0.77,
          0.98,
          1,
          0.97,
          0.92,
          1,
          0.56,
          0.88,
          0.81,
          0.81,
          0.96,
          0.93,
          0.91,
          1,
          0.6,
          0.97,
          0.96,
          0.97,
          0.77,
          0.93,
          0.97,
          0.79,
          0.96,
          1
         ],
         "xaxis": "x",
         "yaxis": "y"
        },
        {
         "alignmentgroup": "True",
         "boxpoints": "all",
         "customdata": [
          [
           "2017_2",
           "accelerated_filer",
           "price_to_earnings"
          ],
          [
           "2017_2",
           "large_accelerated_filer",
           "price_to_earnings"
          ],
          [
           "2017_2",
           "non_accelerated_filer",
           "price_to_earnings"
          ],
          [
           "2017_3",
           "accelerated_filer",
           "price_to_earnings"
          ],
          [
           "2017_3",
           "large_accelerated_filer",
           "price_to_earnings"
          ],
          [
           "2017_3",
           "non_accelerated_filer",
           "price_to_earnings"
          ],
          [
           "2017_4",
           "accelerated_filer",
           "price_to_earnings"
          ],
          [
           "2017_4",
           "large_accelerated_filer",
           "price_to_earnings"
          ],
          [
           "2017_4",
           "non_accelerated_filer",
           "price_to_earnings"
          ],
          [
           "2018_1",
           "accelerated_filer",
           "price_to_earnings"
          ],
          [
           "2018_1",
           "large_accelerated_filer",
           "price_to_earnings"
          ],
          [
           "2018_1",
           "non_accelerated_filer",
           "price_to_earnings"
          ],
          [
           "2018_2",
           "accelerated_filer",
           "price_to_earnings"
          ],
          [
           "2018_2",
           "large_accelerated_filer",
           "price_to_earnings"
          ],
          [
           "2018_2",
           "non_accelerated_filer",
           "price_to_earnings"
          ],
          [
           "2018_3",
           "accelerated_filer",
           "price_to_earnings"
          ],
          [
           "2018_3",
           "large_accelerated_filer",
           "price_to_earnings"
          ],
          [
           "2018_3",
           "non_accelerated_filer",
           "price_to_earnings"
          ],
          [
           "2018_4",
           "accelerated_filer",
           "price_to_earnings"
          ],
          [
           "2018_4",
           "large_accelerated_filer",
           "price_to_earnings"
          ],
          [
           "2018_4",
           "non_accelerated_filer",
           "price_to_earnings"
          ],
          [
           "2019_1",
           "accelerated_filer",
           "price_to_earnings"
          ],
          [
           "2019_1",
           "large_accelerated_filer",
           "price_to_earnings"
          ],
          [
           "2019_1",
           "non_accelerated_filer",
           "price_to_earnings"
          ],
          [
           "2019_2",
           "accelerated_filer",
           "price_to_earnings"
          ],
          [
           "2019_2",
           "large_accelerated_filer",
           "price_to_earnings"
          ],
          [
           "2019_2",
           "non_accelerated_filer",
           "price_to_earnings"
          ],
          [
           "2019_3",
           "accelerated_filer",
           "price_to_earnings"
          ],
          [
           "2019_3",
           "large_accelerated_filer",
           "price_to_earnings"
          ],
          [
           "2019_3",
           "non_accelerated_filer",
           "price_to_earnings"
          ],
          [
           "2019_4",
           "accelerated_filer",
           "price_to_earnings"
          ],
          [
           "2019_4",
           "large_accelerated_filer",
           "price_to_earnings"
          ],
          [
           "2019_4",
           "non_accelerated_filer",
           "price_to_earnings"
          ],
          [
           "2020_1",
           "accelerated_filer",
           "price_to_earnings"
          ],
          [
           "2020_1",
           "large_accelerated_filer",
           "price_to_earnings"
          ],
          [
           "2020_1",
           "non_accelerated_filer",
           "price_to_earnings"
          ],
          [
           "2020_2",
           "accelerated_filer",
           "price_to_earnings"
          ],
          [
           "2020_2",
           "large_accelerated_filer",
           "price_to_earnings"
          ],
          [
           "2020_2",
           "non_accelerated_filer",
           "price_to_earnings"
          ],
          [
           "2020_3",
           "accelerated_filer",
           "price_to_earnings"
          ],
          [
           "2020_3",
           "large_accelerated_filer",
           "price_to_earnings"
          ],
          [
           "2020_3",
           "non_accelerated_filer",
           "price_to_earnings"
          ],
          [
           "2020_4",
           "accelerated_filer",
           "price_to_earnings"
          ],
          [
           "2020_4",
           "large_accelerated_filer",
           "price_to_earnings"
          ],
          [
           "2020_4",
           "non_accelerated_filer",
           "price_to_earnings"
          ],
          [
           "2021_1",
           "non_accelerated_filer",
           "price_to_earnings"
          ],
          [
           "2021_1",
           "accelerated_filer",
           "price_to_earnings"
          ],
          [
           "2021_1",
           "large_accelerated_filer",
           "price_to_earnings"
          ],
          [
           "2021_2",
           "non_accelerated_filer",
           "price_to_earnings"
          ],
          [
           "2021_2",
           "accelerated_filer",
           "price_to_earnings"
          ],
          [
           "2021_2",
           "large_accelerated_filer",
           "price_to_earnings"
          ],
          [
           "2021_3",
           "non_accelerated_filer",
           "price_to_earnings"
          ],
          [
           "2021_3",
           "accelerated_filer",
           "price_to_earnings"
          ],
          [
           "2021_3",
           "large_accelerated_filer",
           "price_to_earnings"
          ]
         ],
         "fillcolor": "rgba(255,255,255,0)",
         "hoveron": "points",
         "hovertemplate": "kpi=%{customdata[2]}<br>used_to_all=%{x}<br>year_q=%{customdata[0]}<br>filer_type=%{customdata[1]}<extra></extra>",
         "jitter": 0,
         "legendgroup": "price_to_earnings",
         "line": {
          "color": "rgba(255,255,255,0)"
         },
         "marker": {
          "color": "#19d3f3",
          "symbol": "line-ns-open"
         },
         "name": "price_to_earnings",
         "offsetgroup": "price_to_earnings",
         "showlegend": false,
         "type": "box",
         "x": [
          0.88,
          0.98,
          0.8,
          0.97,
          1,
          0.94,
          0.97,
          1,
          0.94,
          1,
          0.98,
          1,
          0.95,
          1,
          0.76,
          0.97,
          0.98,
          0.93,
          1,
          1,
          0.93,
          0.86,
          0.98,
          1,
          0.97,
          1,
          0.73,
          1,
          1,
          0.8,
          0.77,
          0.98,
          1,
          0.97,
          0.92,
          1,
          0.56,
          0.88,
          0.81,
          0.81,
          0.96,
          0.93,
          0.91,
          1,
          0.6,
          0.97,
          0.96,
          0.97,
          0.77,
          0.93,
          0.97,
          0.79,
          0.96,
          1
         ],
         "xaxis": "x2",
         "yaxis": "y2"
        },
        {
         "alignmentgroup": "True",
         "bingroup": "x",
         "hovertemplate": "kpi=ev_ebitda<br>used_to_all=%{x}<br>count=%{y}<extra></extra>",
         "legendgroup": "ev_ebitda",
         "marker": {
          "color": "#FF6692",
          "pattern": {
           "shape": ""
          }
         },
         "name": "ev_ebitda",
         "offsetgroup": "ev_ebitda",
         "orientation": "v",
         "showlegend": true,
         "type": "histogram",
         "x": [
          0.65,
          0.87,
          0.55,
          0.74,
          0.91,
          0.67,
          0.71,
          0.91,
          0.72,
          0.69,
          0.92,
          0.82,
          0.68,
          0.94,
          0.59,
          0.7,
          0.92,
          0.71,
          0.68,
          0.92,
          0.71,
          0.63,
          0.89,
          0.86,
          0.77,
          0.93,
          0.55,
          0.8,
          0.93,
          0.6,
          0.69,
          0.91,
          0.73,
          0.78,
          0.87,
          0.79,
          0.56,
          0.83,
          0.69,
          0.81,
          0.9,
          0.73,
          0.81,
          0.94,
          0.53,
          0.77,
          0.88,
          0.97,
          0.66,
          0.82,
          0.97,
          0.67,
          0.89,
          1
         ],
         "xaxis": "x",
         "yaxis": "y"
        },
        {
         "alignmentgroup": "True",
         "boxpoints": "all",
         "customdata": [
          [
           "2017_2",
           "accelerated_filer",
           "ev_ebitda"
          ],
          [
           "2017_2",
           "large_accelerated_filer",
           "ev_ebitda"
          ],
          [
           "2017_2",
           "non_accelerated_filer",
           "ev_ebitda"
          ],
          [
           "2017_3",
           "accelerated_filer",
           "ev_ebitda"
          ],
          [
           "2017_3",
           "large_accelerated_filer",
           "ev_ebitda"
          ],
          [
           "2017_3",
           "non_accelerated_filer",
           "ev_ebitda"
          ],
          [
           "2017_4",
           "accelerated_filer",
           "ev_ebitda"
          ],
          [
           "2017_4",
           "large_accelerated_filer",
           "ev_ebitda"
          ],
          [
           "2017_4",
           "non_accelerated_filer",
           "ev_ebitda"
          ],
          [
           "2018_1",
           "accelerated_filer",
           "ev_ebitda"
          ],
          [
           "2018_1",
           "large_accelerated_filer",
           "ev_ebitda"
          ],
          [
           "2018_1",
           "non_accelerated_filer",
           "ev_ebitda"
          ],
          [
           "2018_2",
           "accelerated_filer",
           "ev_ebitda"
          ],
          [
           "2018_2",
           "large_accelerated_filer",
           "ev_ebitda"
          ],
          [
           "2018_2",
           "non_accelerated_filer",
           "ev_ebitda"
          ],
          [
           "2018_3",
           "accelerated_filer",
           "ev_ebitda"
          ],
          [
           "2018_3",
           "large_accelerated_filer",
           "ev_ebitda"
          ],
          [
           "2018_3",
           "non_accelerated_filer",
           "ev_ebitda"
          ],
          [
           "2018_4",
           "accelerated_filer",
           "ev_ebitda"
          ],
          [
           "2018_4",
           "large_accelerated_filer",
           "ev_ebitda"
          ],
          [
           "2018_4",
           "non_accelerated_filer",
           "ev_ebitda"
          ],
          [
           "2019_1",
           "accelerated_filer",
           "ev_ebitda"
          ],
          [
           "2019_1",
           "large_accelerated_filer",
           "ev_ebitda"
          ],
          [
           "2019_1",
           "non_accelerated_filer",
           "ev_ebitda"
          ],
          [
           "2019_2",
           "accelerated_filer",
           "ev_ebitda"
          ],
          [
           "2019_2",
           "large_accelerated_filer",
           "ev_ebitda"
          ],
          [
           "2019_2",
           "non_accelerated_filer",
           "ev_ebitda"
          ],
          [
           "2019_3",
           "accelerated_filer",
           "ev_ebitda"
          ],
          [
           "2019_3",
           "large_accelerated_filer",
           "ev_ebitda"
          ],
          [
           "2019_3",
           "non_accelerated_filer",
           "ev_ebitda"
          ],
          [
           "2019_4",
           "accelerated_filer",
           "ev_ebitda"
          ],
          [
           "2019_4",
           "large_accelerated_filer",
           "ev_ebitda"
          ],
          [
           "2019_4",
           "non_accelerated_filer",
           "ev_ebitda"
          ],
          [
           "2020_1",
           "accelerated_filer",
           "ev_ebitda"
          ],
          [
           "2020_1",
           "large_accelerated_filer",
           "ev_ebitda"
          ],
          [
           "2020_1",
           "non_accelerated_filer",
           "ev_ebitda"
          ],
          [
           "2020_2",
           "accelerated_filer",
           "ev_ebitda"
          ],
          [
           "2020_2",
           "large_accelerated_filer",
           "ev_ebitda"
          ],
          [
           "2020_2",
           "non_accelerated_filer",
           "ev_ebitda"
          ],
          [
           "2020_3",
           "accelerated_filer",
           "ev_ebitda"
          ],
          [
           "2020_3",
           "large_accelerated_filer",
           "ev_ebitda"
          ],
          [
           "2020_3",
           "non_accelerated_filer",
           "ev_ebitda"
          ],
          [
           "2020_4",
           "accelerated_filer",
           "ev_ebitda"
          ],
          [
           "2020_4",
           "large_accelerated_filer",
           "ev_ebitda"
          ],
          [
           "2020_4",
           "non_accelerated_filer",
           "ev_ebitda"
          ],
          [
           "2021_1",
           "non_accelerated_filer",
           "ev_ebitda"
          ],
          [
           "2021_1",
           "accelerated_filer",
           "ev_ebitda"
          ],
          [
           "2021_1",
           "large_accelerated_filer",
           "ev_ebitda"
          ],
          [
           "2021_2",
           "non_accelerated_filer",
           "ev_ebitda"
          ],
          [
           "2021_2",
           "accelerated_filer",
           "ev_ebitda"
          ],
          [
           "2021_2",
           "large_accelerated_filer",
           "ev_ebitda"
          ],
          [
           "2021_3",
           "non_accelerated_filer",
           "ev_ebitda"
          ],
          [
           "2021_3",
           "accelerated_filer",
           "ev_ebitda"
          ],
          [
           "2021_3",
           "large_accelerated_filer",
           "ev_ebitda"
          ]
         ],
         "fillcolor": "rgba(255,255,255,0)",
         "hoveron": "points",
         "hovertemplate": "kpi=%{customdata[2]}<br>used_to_all=%{x}<br>year_q=%{customdata[0]}<br>filer_type=%{customdata[1]}<extra></extra>",
         "jitter": 0,
         "legendgroup": "ev_ebitda",
         "line": {
          "color": "rgba(255,255,255,0)"
         },
         "marker": {
          "color": "#FF6692",
          "symbol": "line-ns-open"
         },
         "name": "ev_ebitda",
         "offsetgroup": "ev_ebitda",
         "showlegend": false,
         "type": "box",
         "x": [
          0.65,
          0.87,
          0.55,
          0.74,
          0.91,
          0.67,
          0.71,
          0.91,
          0.72,
          0.69,
          0.92,
          0.82,
          0.68,
          0.94,
          0.59,
          0.7,
          0.92,
          0.71,
          0.68,
          0.92,
          0.71,
          0.63,
          0.89,
          0.86,
          0.77,
          0.93,
          0.55,
          0.8,
          0.93,
          0.6,
          0.69,
          0.91,
          0.73,
          0.78,
          0.87,
          0.79,
          0.56,
          0.83,
          0.69,
          0.81,
          0.9,
          0.73,
          0.81,
          0.94,
          0.53,
          0.77,
          0.88,
          0.97,
          0.66,
          0.82,
          0.97,
          0.67,
          0.89,
          1
         ],
         "xaxis": "x2",
         "yaxis": "y2"
        },
        {
         "alignmentgroup": "True",
         "bingroup": "x",
         "hovertemplate": "kpi=ev_ebit<br>used_to_all=%{x}<br>count=%{y}<extra></extra>",
         "legendgroup": "ev_ebit",
         "marker": {
          "color": "#B6E880",
          "pattern": {
           "shape": ""
          }
         },
         "name": "ev_ebit",
         "offsetgroup": "ev_ebit",
         "orientation": "v",
         "showlegend": true,
         "type": "histogram",
         "x": [
          0.65,
          0.89,
          0.6,
          0.74,
          0.94,
          0.72,
          0.71,
          0.94,
          0.78,
          0.75,
          0.94,
          0.82,
          0.74,
          0.96,
          0.59,
          0.76,
          0.94,
          0.71,
          0.73,
          0.94,
          0.71,
          0.66,
          0.93,
          0.86,
          0.77,
          0.98,
          0.55,
          0.8,
          0.96,
          0.6,
          0.69,
          0.94,
          0.73,
          0.81,
          0.88,
          0.79,
          0.56,
          0.85,
          0.69,
          0.81,
          0.92,
          0.73,
          0.81,
          0.94,
          0.53,
          0.77,
          0.88,
          0.97,
          0.66,
          0.82,
          0.97,
          0.67,
          0.89,
          1
         ],
         "xaxis": "x",
         "yaxis": "y"
        },
        {
         "alignmentgroup": "True",
         "boxpoints": "all",
         "customdata": [
          [
           "2017_2",
           "accelerated_filer",
           "ev_ebit"
          ],
          [
           "2017_2",
           "large_accelerated_filer",
           "ev_ebit"
          ],
          [
           "2017_2",
           "non_accelerated_filer",
           "ev_ebit"
          ],
          [
           "2017_3",
           "accelerated_filer",
           "ev_ebit"
          ],
          [
           "2017_3",
           "large_accelerated_filer",
           "ev_ebit"
          ],
          [
           "2017_3",
           "non_accelerated_filer",
           "ev_ebit"
          ],
          [
           "2017_4",
           "accelerated_filer",
           "ev_ebit"
          ],
          [
           "2017_4",
           "large_accelerated_filer",
           "ev_ebit"
          ],
          [
           "2017_4",
           "non_accelerated_filer",
           "ev_ebit"
          ],
          [
           "2018_1",
           "accelerated_filer",
           "ev_ebit"
          ],
          [
           "2018_1",
           "large_accelerated_filer",
           "ev_ebit"
          ],
          [
           "2018_1",
           "non_accelerated_filer",
           "ev_ebit"
          ],
          [
           "2018_2",
           "accelerated_filer",
           "ev_ebit"
          ],
          [
           "2018_2",
           "large_accelerated_filer",
           "ev_ebit"
          ],
          [
           "2018_2",
           "non_accelerated_filer",
           "ev_ebit"
          ],
          [
           "2018_3",
           "accelerated_filer",
           "ev_ebit"
          ],
          [
           "2018_3",
           "large_accelerated_filer",
           "ev_ebit"
          ],
          [
           "2018_3",
           "non_accelerated_filer",
           "ev_ebit"
          ],
          [
           "2018_4",
           "accelerated_filer",
           "ev_ebit"
          ],
          [
           "2018_4",
           "large_accelerated_filer",
           "ev_ebit"
          ],
          [
           "2018_4",
           "non_accelerated_filer",
           "ev_ebit"
          ],
          [
           "2019_1",
           "accelerated_filer",
           "ev_ebit"
          ],
          [
           "2019_1",
           "large_accelerated_filer",
           "ev_ebit"
          ],
          [
           "2019_1",
           "non_accelerated_filer",
           "ev_ebit"
          ],
          [
           "2019_2",
           "accelerated_filer",
           "ev_ebit"
          ],
          [
           "2019_2",
           "large_accelerated_filer",
           "ev_ebit"
          ],
          [
           "2019_2",
           "non_accelerated_filer",
           "ev_ebit"
          ],
          [
           "2019_3",
           "accelerated_filer",
           "ev_ebit"
          ],
          [
           "2019_3",
           "large_accelerated_filer",
           "ev_ebit"
          ],
          [
           "2019_3",
           "non_accelerated_filer",
           "ev_ebit"
          ],
          [
           "2019_4",
           "accelerated_filer",
           "ev_ebit"
          ],
          [
           "2019_4",
           "large_accelerated_filer",
           "ev_ebit"
          ],
          [
           "2019_4",
           "non_accelerated_filer",
           "ev_ebit"
          ],
          [
           "2020_1",
           "accelerated_filer",
           "ev_ebit"
          ],
          [
           "2020_1",
           "large_accelerated_filer",
           "ev_ebit"
          ],
          [
           "2020_1",
           "non_accelerated_filer",
           "ev_ebit"
          ],
          [
           "2020_2",
           "accelerated_filer",
           "ev_ebit"
          ],
          [
           "2020_2",
           "large_accelerated_filer",
           "ev_ebit"
          ],
          [
           "2020_2",
           "non_accelerated_filer",
           "ev_ebit"
          ],
          [
           "2020_3",
           "accelerated_filer",
           "ev_ebit"
          ],
          [
           "2020_3",
           "large_accelerated_filer",
           "ev_ebit"
          ],
          [
           "2020_3",
           "non_accelerated_filer",
           "ev_ebit"
          ],
          [
           "2020_4",
           "accelerated_filer",
           "ev_ebit"
          ],
          [
           "2020_4",
           "large_accelerated_filer",
           "ev_ebit"
          ],
          [
           "2020_4",
           "non_accelerated_filer",
           "ev_ebit"
          ],
          [
           "2021_1",
           "non_accelerated_filer",
           "ev_ebit"
          ],
          [
           "2021_1",
           "accelerated_filer",
           "ev_ebit"
          ],
          [
           "2021_1",
           "large_accelerated_filer",
           "ev_ebit"
          ],
          [
           "2021_2",
           "non_accelerated_filer",
           "ev_ebit"
          ],
          [
           "2021_2",
           "accelerated_filer",
           "ev_ebit"
          ],
          [
           "2021_2",
           "large_accelerated_filer",
           "ev_ebit"
          ],
          [
           "2021_3",
           "non_accelerated_filer",
           "ev_ebit"
          ],
          [
           "2021_3",
           "accelerated_filer",
           "ev_ebit"
          ],
          [
           "2021_3",
           "large_accelerated_filer",
           "ev_ebit"
          ]
         ],
         "fillcolor": "rgba(255,255,255,0)",
         "hoveron": "points",
         "hovertemplate": "kpi=%{customdata[2]}<br>used_to_all=%{x}<br>year_q=%{customdata[0]}<br>filer_type=%{customdata[1]}<extra></extra>",
         "jitter": 0,
         "legendgroup": "ev_ebit",
         "line": {
          "color": "rgba(255,255,255,0)"
         },
         "marker": {
          "color": "#B6E880",
          "symbol": "line-ns-open"
         },
         "name": "ev_ebit",
         "offsetgroup": "ev_ebit",
         "showlegend": false,
         "type": "box",
         "x": [
          0.65,
          0.89,
          0.6,
          0.74,
          0.94,
          0.72,
          0.71,
          0.94,
          0.78,
          0.75,
          0.94,
          0.82,
          0.74,
          0.96,
          0.59,
          0.76,
          0.94,
          0.71,
          0.73,
          0.94,
          0.71,
          0.66,
          0.93,
          0.86,
          0.77,
          0.98,
          0.55,
          0.8,
          0.96,
          0.6,
          0.69,
          0.94,
          0.73,
          0.81,
          0.88,
          0.79,
          0.56,
          0.85,
          0.69,
          0.81,
          0.92,
          0.73,
          0.81,
          0.94,
          0.53,
          0.77,
          0.88,
          0.97,
          0.66,
          0.82,
          0.97,
          0.67,
          0.89,
          1
         ],
         "xaxis": "x2",
         "yaxis": "y2"
        },
        {
         "alignmentgroup": "True",
         "bingroup": "x",
         "hovertemplate": "kpi=ev_revenue<br>used_to_all=%{x}<br>count=%{y}<extra></extra>",
         "legendgroup": "ev_revenue",
         "marker": {
          "color": "#FF97FF",
          "pattern": {
           "shape": ""
          }
         },
         "name": "ev_revenue",
         "offsetgroup": "ev_revenue",
         "orientation": "v",
         "showlegend": true,
         "type": "histogram",
         "x": [
          0.62,
          0.87,
          0.6,
          0.68,
          0.91,
          0.72,
          0.68,
          0.91,
          0.78,
          0.75,
          0.92,
          0.82,
          0.71,
          0.94,
          0.59,
          0.73,
          0.92,
          0.71,
          0.73,
          0.92,
          0.71,
          0.66,
          0.93,
          0.86,
          0.74,
          0.98,
          0.55,
          0.77,
          0.96,
          0.6,
          0.66,
          0.94,
          0.73,
          0.78,
          0.88,
          0.79,
          0.56,
          0.85,
          0.69,
          0.78,
          0.92,
          0.73,
          0.78,
          0.94,
          0.53,
          0.74,
          0.88,
          0.97,
          0.63,
          0.82,
          0.97,
          0.64,
          0.89,
          1
         ],
         "xaxis": "x",
         "yaxis": "y"
        },
        {
         "alignmentgroup": "True",
         "boxpoints": "all",
         "customdata": [
          [
           "2017_2",
           "accelerated_filer",
           "ev_revenue"
          ],
          [
           "2017_2",
           "large_accelerated_filer",
           "ev_revenue"
          ],
          [
           "2017_2",
           "non_accelerated_filer",
           "ev_revenue"
          ],
          [
           "2017_3",
           "accelerated_filer",
           "ev_revenue"
          ],
          [
           "2017_3",
           "large_accelerated_filer",
           "ev_revenue"
          ],
          [
           "2017_3",
           "non_accelerated_filer",
           "ev_revenue"
          ],
          [
           "2017_4",
           "accelerated_filer",
           "ev_revenue"
          ],
          [
           "2017_4",
           "large_accelerated_filer",
           "ev_revenue"
          ],
          [
           "2017_4",
           "non_accelerated_filer",
           "ev_revenue"
          ],
          [
           "2018_1",
           "accelerated_filer",
           "ev_revenue"
          ],
          [
           "2018_1",
           "large_accelerated_filer",
           "ev_revenue"
          ],
          [
           "2018_1",
           "non_accelerated_filer",
           "ev_revenue"
          ],
          [
           "2018_2",
           "accelerated_filer",
           "ev_revenue"
          ],
          [
           "2018_2",
           "large_accelerated_filer",
           "ev_revenue"
          ],
          [
           "2018_2",
           "non_accelerated_filer",
           "ev_revenue"
          ],
          [
           "2018_3",
           "accelerated_filer",
           "ev_revenue"
          ],
          [
           "2018_3",
           "large_accelerated_filer",
           "ev_revenue"
          ],
          [
           "2018_3",
           "non_accelerated_filer",
           "ev_revenue"
          ],
          [
           "2018_4",
           "accelerated_filer",
           "ev_revenue"
          ],
          [
           "2018_4",
           "large_accelerated_filer",
           "ev_revenue"
          ],
          [
           "2018_4",
           "non_accelerated_filer",
           "ev_revenue"
          ],
          [
           "2019_1",
           "accelerated_filer",
           "ev_revenue"
          ],
          [
           "2019_1",
           "large_accelerated_filer",
           "ev_revenue"
          ],
          [
           "2019_1",
           "non_accelerated_filer",
           "ev_revenue"
          ],
          [
           "2019_2",
           "accelerated_filer",
           "ev_revenue"
          ],
          [
           "2019_2",
           "large_accelerated_filer",
           "ev_revenue"
          ],
          [
           "2019_2",
           "non_accelerated_filer",
           "ev_revenue"
          ],
          [
           "2019_3",
           "accelerated_filer",
           "ev_revenue"
          ],
          [
           "2019_3",
           "large_accelerated_filer",
           "ev_revenue"
          ],
          [
           "2019_3",
           "non_accelerated_filer",
           "ev_revenue"
          ],
          [
           "2019_4",
           "accelerated_filer",
           "ev_revenue"
          ],
          [
           "2019_4",
           "large_accelerated_filer",
           "ev_revenue"
          ],
          [
           "2019_4",
           "non_accelerated_filer",
           "ev_revenue"
          ],
          [
           "2020_1",
           "accelerated_filer",
           "ev_revenue"
          ],
          [
           "2020_1",
           "large_accelerated_filer",
           "ev_revenue"
          ],
          [
           "2020_1",
           "non_accelerated_filer",
           "ev_revenue"
          ],
          [
           "2020_2",
           "accelerated_filer",
           "ev_revenue"
          ],
          [
           "2020_2",
           "large_accelerated_filer",
           "ev_revenue"
          ],
          [
           "2020_2",
           "non_accelerated_filer",
           "ev_revenue"
          ],
          [
           "2020_3",
           "accelerated_filer",
           "ev_revenue"
          ],
          [
           "2020_3",
           "large_accelerated_filer",
           "ev_revenue"
          ],
          [
           "2020_3",
           "non_accelerated_filer",
           "ev_revenue"
          ],
          [
           "2020_4",
           "accelerated_filer",
           "ev_revenue"
          ],
          [
           "2020_4",
           "large_accelerated_filer",
           "ev_revenue"
          ],
          [
           "2020_4",
           "non_accelerated_filer",
           "ev_revenue"
          ],
          [
           "2021_1",
           "non_accelerated_filer",
           "ev_revenue"
          ],
          [
           "2021_1",
           "accelerated_filer",
           "ev_revenue"
          ],
          [
           "2021_1",
           "large_accelerated_filer",
           "ev_revenue"
          ],
          [
           "2021_2",
           "non_accelerated_filer",
           "ev_revenue"
          ],
          [
           "2021_2",
           "accelerated_filer",
           "ev_revenue"
          ],
          [
           "2021_2",
           "large_accelerated_filer",
           "ev_revenue"
          ],
          [
           "2021_3",
           "non_accelerated_filer",
           "ev_revenue"
          ],
          [
           "2021_3",
           "accelerated_filer",
           "ev_revenue"
          ],
          [
           "2021_3",
           "large_accelerated_filer",
           "ev_revenue"
          ]
         ],
         "fillcolor": "rgba(255,255,255,0)",
         "hoveron": "points",
         "hovertemplate": "kpi=%{customdata[2]}<br>used_to_all=%{x}<br>year_q=%{customdata[0]}<br>filer_type=%{customdata[1]}<extra></extra>",
         "jitter": 0,
         "legendgroup": "ev_revenue",
         "line": {
          "color": "rgba(255,255,255,0)"
         },
         "marker": {
          "color": "#FF97FF",
          "symbol": "line-ns-open"
         },
         "name": "ev_revenue",
         "offsetgroup": "ev_revenue",
         "showlegend": false,
         "type": "box",
         "x": [
          0.62,
          0.87,
          0.6,
          0.68,
          0.91,
          0.72,
          0.68,
          0.91,
          0.78,
          0.75,
          0.92,
          0.82,
          0.71,
          0.94,
          0.59,
          0.73,
          0.92,
          0.71,
          0.73,
          0.92,
          0.71,
          0.66,
          0.93,
          0.86,
          0.74,
          0.98,
          0.55,
          0.77,
          0.96,
          0.6,
          0.66,
          0.94,
          0.73,
          0.78,
          0.88,
          0.79,
          0.56,
          0.85,
          0.69,
          0.78,
          0.92,
          0.73,
          0.78,
          0.94,
          0.53,
          0.74,
          0.88,
          0.97,
          0.63,
          0.82,
          0.97,
          0.64,
          0.89,
          1
         ],
         "xaxis": "x2",
         "yaxis": "y2"
        }
       ],
       "layout": {
        "barmode": "relative",
        "legend": {
         "title": {
          "text": "kpi"
         },
         "tracegroupgap": 0
        },
        "template": {
         "data": {
          "bar": [
           {
            "error_x": {
             "color": "#2a3f5f"
            },
            "error_y": {
             "color": "#2a3f5f"
            },
            "marker": {
             "line": {
              "color": "#E5ECF6",
              "width": 0.5
             },
             "pattern": {
              "fillmode": "overlay",
              "size": 10,
              "solidity": 0.2
             }
            },
            "type": "bar"
           }
          ],
          "barpolar": [
           {
            "marker": {
             "line": {
              "color": "#E5ECF6",
              "width": 0.5
             },
             "pattern": {
              "fillmode": "overlay",
              "size": 10,
              "solidity": 0.2
             }
            },
            "type": "barpolar"
           }
          ],
          "carpet": [
           {
            "aaxis": {
             "endlinecolor": "#2a3f5f",
             "gridcolor": "white",
             "linecolor": "white",
             "minorgridcolor": "white",
             "startlinecolor": "#2a3f5f"
            },
            "baxis": {
             "endlinecolor": "#2a3f5f",
             "gridcolor": "white",
             "linecolor": "white",
             "minorgridcolor": "white",
             "startlinecolor": "#2a3f5f"
            },
            "type": "carpet"
           }
          ],
          "choropleth": [
           {
            "colorbar": {
             "outlinewidth": 0,
             "ticks": ""
            },
            "type": "choropleth"
           }
          ],
          "contour": [
           {
            "colorbar": {
             "outlinewidth": 0,
             "ticks": ""
            },
            "colorscale": [
             [
              0,
              "#0d0887"
             ],
             [
              0.1111111111111111,
              "#46039f"
             ],
             [
              0.2222222222222222,
              "#7201a8"
             ],
             [
              0.3333333333333333,
              "#9c179e"
             ],
             [
              0.4444444444444444,
              "#bd3786"
             ],
             [
              0.5555555555555556,
              "#d8576b"
             ],
             [
              0.6666666666666666,
              "#ed7953"
             ],
             [
              0.7777777777777778,
              "#fb9f3a"
             ],
             [
              0.8888888888888888,
              "#fdca26"
             ],
             [
              1,
              "#f0f921"
             ]
            ],
            "type": "contour"
           }
          ],
          "contourcarpet": [
           {
            "colorbar": {
             "outlinewidth": 0,
             "ticks": ""
            },
            "type": "contourcarpet"
           }
          ],
          "heatmap": [
           {
            "colorbar": {
             "outlinewidth": 0,
             "ticks": ""
            },
            "colorscale": [
             [
              0,
              "#0d0887"
             ],
             [
              0.1111111111111111,
              "#46039f"
             ],
             [
              0.2222222222222222,
              "#7201a8"
             ],
             [
              0.3333333333333333,
              "#9c179e"
             ],
             [
              0.4444444444444444,
              "#bd3786"
             ],
             [
              0.5555555555555556,
              "#d8576b"
             ],
             [
              0.6666666666666666,
              "#ed7953"
             ],
             [
              0.7777777777777778,
              "#fb9f3a"
             ],
             [
              0.8888888888888888,
              "#fdca26"
             ],
             [
              1,
              "#f0f921"
             ]
            ],
            "type": "heatmap"
           }
          ],
          "heatmapgl": [
           {
            "colorbar": {
             "outlinewidth": 0,
             "ticks": ""
            },
            "colorscale": [
             [
              0,
              "#0d0887"
             ],
             [
              0.1111111111111111,
              "#46039f"
             ],
             [
              0.2222222222222222,
              "#7201a8"
             ],
             [
              0.3333333333333333,
              "#9c179e"
             ],
             [
              0.4444444444444444,
              "#bd3786"
             ],
             [
              0.5555555555555556,
              "#d8576b"
             ],
             [
              0.6666666666666666,
              "#ed7953"
             ],
             [
              0.7777777777777778,
              "#fb9f3a"
             ],
             [
              0.8888888888888888,
              "#fdca26"
             ],
             [
              1,
              "#f0f921"
             ]
            ],
            "type": "heatmapgl"
           }
          ],
          "histogram": [
           {
            "marker": {
             "pattern": {
              "fillmode": "overlay",
              "size": 10,
              "solidity": 0.2
             }
            },
            "type": "histogram"
           }
          ],
          "histogram2d": [
           {
            "colorbar": {
             "outlinewidth": 0,
             "ticks": ""
            },
            "colorscale": [
             [
              0,
              "#0d0887"
             ],
             [
              0.1111111111111111,
              "#46039f"
             ],
             [
              0.2222222222222222,
              "#7201a8"
             ],
             [
              0.3333333333333333,
              "#9c179e"
             ],
             [
              0.4444444444444444,
              "#bd3786"
             ],
             [
              0.5555555555555556,
              "#d8576b"
             ],
             [
              0.6666666666666666,
              "#ed7953"
             ],
             [
              0.7777777777777778,
              "#fb9f3a"
             ],
             [
              0.8888888888888888,
              "#fdca26"
             ],
             [
              1,
              "#f0f921"
             ]
            ],
            "type": "histogram2d"
           }
          ],
          "histogram2dcontour": [
           {
            "colorbar": {
             "outlinewidth": 0,
             "ticks": ""
            },
            "colorscale": [
             [
              0,
              "#0d0887"
             ],
             [
              0.1111111111111111,
              "#46039f"
             ],
             [
              0.2222222222222222,
              "#7201a8"
             ],
             [
              0.3333333333333333,
              "#9c179e"
             ],
             [
              0.4444444444444444,
              "#bd3786"
             ],
             [
              0.5555555555555556,
              "#d8576b"
             ],
             [
              0.6666666666666666,
              "#ed7953"
             ],
             [
              0.7777777777777778,
              "#fb9f3a"
             ],
             [
              0.8888888888888888,
              "#fdca26"
             ],
             [
              1,
              "#f0f921"
             ]
            ],
            "type": "histogram2dcontour"
           }
          ],
          "mesh3d": [
           {
            "colorbar": {
             "outlinewidth": 0,
             "ticks": ""
            },
            "type": "mesh3d"
           }
          ],
          "parcoords": [
           {
            "line": {
             "colorbar": {
              "outlinewidth": 0,
              "ticks": ""
             }
            },
            "type": "parcoords"
           }
          ],
          "pie": [
           {
            "automargin": true,
            "type": "pie"
           }
          ],
          "scatter": [
           {
            "marker": {
             "colorbar": {
              "outlinewidth": 0,
              "ticks": ""
             }
            },
            "type": "scatter"
           }
          ],
          "scatter3d": [
           {
            "line": {
             "colorbar": {
              "outlinewidth": 0,
              "ticks": ""
             }
            },
            "marker": {
             "colorbar": {
              "outlinewidth": 0,
              "ticks": ""
             }
            },
            "type": "scatter3d"
           }
          ],
          "scattercarpet": [
           {
            "marker": {
             "colorbar": {
              "outlinewidth": 0,
              "ticks": ""
             }
            },
            "type": "scattercarpet"
           }
          ],
          "scattergeo": [
           {
            "marker": {
             "colorbar": {
              "outlinewidth": 0,
              "ticks": ""
             }
            },
            "type": "scattergeo"
           }
          ],
          "scattergl": [
           {
            "marker": {
             "colorbar": {
              "outlinewidth": 0,
              "ticks": ""
             }
            },
            "type": "scattergl"
           }
          ],
          "scattermapbox": [
           {
            "marker": {
             "colorbar": {
              "outlinewidth": 0,
              "ticks": ""
             }
            },
            "type": "scattermapbox"
           }
          ],
          "scatterpolar": [
           {
            "marker": {
             "colorbar": {
              "outlinewidth": 0,
              "ticks": ""
             }
            },
            "type": "scatterpolar"
           }
          ],
          "scatterpolargl": [
           {
            "marker": {
             "colorbar": {
              "outlinewidth": 0,
              "ticks": ""
             }
            },
            "type": "scatterpolargl"
           }
          ],
          "scatterternary": [
           {
            "marker": {
             "colorbar": {
              "outlinewidth": 0,
              "ticks": ""
             }
            },
            "type": "scatterternary"
           }
          ],
          "surface": [
           {
            "colorbar": {
             "outlinewidth": 0,
             "ticks": ""
            },
            "colorscale": [
             [
              0,
              "#0d0887"
             ],
             [
              0.1111111111111111,
              "#46039f"
             ],
             [
              0.2222222222222222,
              "#7201a8"
             ],
             [
              0.3333333333333333,
              "#9c179e"
             ],
             [
              0.4444444444444444,
              "#bd3786"
             ],
             [
              0.5555555555555556,
              "#d8576b"
             ],
             [
              0.6666666666666666,
              "#ed7953"
             ],
             [
              0.7777777777777778,
              "#fb9f3a"
             ],
             [
              0.8888888888888888,
              "#fdca26"
             ],
             [
              1,
              "#f0f921"
             ]
            ],
            "type": "surface"
           }
          ],
          "table": [
           {
            "cells": {
             "fill": {
              "color": "#EBF0F8"
             },
             "line": {
              "color": "white"
             }
            },
            "header": {
             "fill": {
              "color": "#C8D4E3"
             },
             "line": {
              "color": "white"
             }
            },
            "type": "table"
           }
          ]
         },
         "layout": {
          "annotationdefaults": {
           "arrowcolor": "#2a3f5f",
           "arrowhead": 0,
           "arrowwidth": 1
          },
          "autotypenumbers": "strict",
          "coloraxis": {
           "colorbar": {
            "outlinewidth": 0,
            "ticks": ""
           }
          },
          "colorscale": {
           "diverging": [
            [
             0,
             "#8e0152"
            ],
            [
             0.1,
             "#c51b7d"
            ],
            [
             0.2,
             "#de77ae"
            ],
            [
             0.3,
             "#f1b6da"
            ],
            [
             0.4,
             "#fde0ef"
            ],
            [
             0.5,
             "#f7f7f7"
            ],
            [
             0.6,
             "#e6f5d0"
            ],
            [
             0.7,
             "#b8e186"
            ],
            [
             0.8,
             "#7fbc41"
            ],
            [
             0.9,
             "#4d9221"
            ],
            [
             1,
             "#276419"
            ]
           ],
           "sequential": [
            [
             0,
             "#0d0887"
            ],
            [
             0.1111111111111111,
             "#46039f"
            ],
            [
             0.2222222222222222,
             "#7201a8"
            ],
            [
             0.3333333333333333,
             "#9c179e"
            ],
            [
             0.4444444444444444,
             "#bd3786"
            ],
            [
             0.5555555555555556,
             "#d8576b"
            ],
            [
             0.6666666666666666,
             "#ed7953"
            ],
            [
             0.7777777777777778,
             "#fb9f3a"
            ],
            [
             0.8888888888888888,
             "#fdca26"
            ],
            [
             1,
             "#f0f921"
            ]
           ],
           "sequentialminus": [
            [
             0,
             "#0d0887"
            ],
            [
             0.1111111111111111,
             "#46039f"
            ],
            [
             0.2222222222222222,
             "#7201a8"
            ],
            [
             0.3333333333333333,
             "#9c179e"
            ],
            [
             0.4444444444444444,
             "#bd3786"
            ],
            [
             0.5555555555555556,
             "#d8576b"
            ],
            [
             0.6666666666666666,
             "#ed7953"
            ],
            [
             0.7777777777777778,
             "#fb9f3a"
            ],
            [
             0.8888888888888888,
             "#fdca26"
            ],
            [
             1,
             "#f0f921"
            ]
           ]
          },
          "colorway": [
           "#636efa",
           "#EF553B",
           "#00cc96",
           "#ab63fa",
           "#FFA15A",
           "#19d3f3",
           "#FF6692",
           "#B6E880",
           "#FF97FF",
           "#FECB52"
          ],
          "font": {
           "color": "#2a3f5f"
          },
          "geo": {
           "bgcolor": "white",
           "lakecolor": "white",
           "landcolor": "#E5ECF6",
           "showlakes": true,
           "showland": true,
           "subunitcolor": "white"
          },
          "hoverlabel": {
           "align": "left"
          },
          "hovermode": "closest",
          "mapbox": {
           "style": "light"
          },
          "paper_bgcolor": "white",
          "plot_bgcolor": "#E5ECF6",
          "polar": {
           "angularaxis": {
            "gridcolor": "white",
            "linecolor": "white",
            "ticks": ""
           },
           "bgcolor": "#E5ECF6",
           "radialaxis": {
            "gridcolor": "white",
            "linecolor": "white",
            "ticks": ""
           }
          },
          "scene": {
           "xaxis": {
            "backgroundcolor": "#E5ECF6",
            "gridcolor": "white",
            "gridwidth": 2,
            "linecolor": "white",
            "showbackground": true,
            "ticks": "",
            "zerolinecolor": "white"
           },
           "yaxis": {
            "backgroundcolor": "#E5ECF6",
            "gridcolor": "white",
            "gridwidth": 2,
            "linecolor": "white",
            "showbackground": true,
            "ticks": "",
            "zerolinecolor": "white"
           },
           "zaxis": {
            "backgroundcolor": "#E5ECF6",
            "gridcolor": "white",
            "gridwidth": 2,
            "linecolor": "white",
            "showbackground": true,
            "ticks": "",
            "zerolinecolor": "white"
           }
          },
          "shapedefaults": {
           "line": {
            "color": "#2a3f5f"
           }
          },
          "ternary": {
           "aaxis": {
            "gridcolor": "white",
            "linecolor": "white",
            "ticks": ""
           },
           "baxis": {
            "gridcolor": "white",
            "linecolor": "white",
            "ticks": ""
           },
           "bgcolor": "#E5ECF6",
           "caxis": {
            "gridcolor": "white",
            "linecolor": "white",
            "ticks": ""
           }
          },
          "title": {
           "x": 0.05
          },
          "xaxis": {
           "automargin": true,
           "gridcolor": "white",
           "linecolor": "white",
           "ticks": "",
           "title": {
            "standoff": 15
           },
           "zerolinecolor": "white",
           "zerolinewidth": 2
          },
          "yaxis": {
           "automargin": true,
           "gridcolor": "white",
           "linecolor": "white",
           "ticks": "",
           "title": {
            "standoff": 15
           },
           "zerolinecolor": "white",
           "zerolinewidth": 2
          }
         }
        },
        "title": {
         "text": "Percentage used KPIs from all for calculating mean/median | color: KPI"
        },
        "xaxis": {
         "anchor": "y",
         "domain": [
          0,
          1
         ],
         "title": {
          "text": "used_to_all"
         }
        },
        "xaxis2": {
         "anchor": "y2",
         "domain": [
          0,
          1
         ],
         "matches": "x",
         "showgrid": true,
         "showticklabels": false
        },
        "yaxis": {
         "anchor": "x",
         "domain": [
          0,
          0.7326
         ],
         "title": {
          "text": "count"
         }
        },
        "yaxis2": {
         "anchor": "x2",
         "domain": [
          0.7426,
          1
         ],
         "matches": "y2",
         "showgrid": false,
         "showline": false,
         "showticklabels": false,
         "ticks": ""
        }
       }
      }
     },
     "metadata": {},
     "output_type": "display_data"
    }
   ],
   "source": [
    "import plotly.express as px\n",
    "\n",
    "fig = px.histogram(df_for_plot, x=\"used_to_all\", color=\"kpi\", marginal=\"rug\",\n",
    "                   hover_data=df_for_plot.columns, title=\"Percentage used KPIs from all for calculating mean/median | color: KPI\")\n",
    "fig.show()"
   ]
  },
  {
   "cell_type": "code",
   "execution_count": 35,
   "metadata": {},
   "outputs": [
    {
     "data": {
      "application/vnd.plotly.v1+json": {
       "config": {
        "plotlyServerURL": "https://plot.ly"
       },
       "data": [
        {
         "alignmentgroup": "True",
         "bingroup": "x",
         "hovertemplate": "year_q=2017_2<br>used_to_all=%{x}<br>count=%{y}<extra></extra>",
         "legendgroup": "2017_2",
         "marker": {
          "color": "#636efa",
          "pattern": {
           "shape": ""
          }
         },
         "name": "2017_2",
         "offsetgroup": "2017_2",
         "orientation": "v",
         "showlegend": true,
         "type": "histogram",
         "x": [
          0.85,
          0.88,
          0.82,
          0.79,
          0.85,
          0.85,
          0.88,
          0.91,
          0.68,
          0.91,
          0.74,
          0.91,
          0.68,
          0.68,
          0.82,
          0.88,
          0.65,
          0.65,
          0.62,
          0.98,
          0.98,
          0.98,
          0.96,
          0.96,
          0.96,
          0.98,
          0.98,
          0.91,
          0.98,
          0.96,
          0.96,
          0.96,
          0.98,
          0.98,
          0.98,
          0.87,
          0.89,
          0.87,
          0.8,
          0.8,
          0.75,
          0.8,
          0.85,
          0.85,
          0.75,
          0.8,
          0.6,
          0.75,
          0.65,
          0.75,
          0.7,
          0.75,
          0.75,
          0.8,
          0.55,
          0.6,
          0.6
         ],
         "xaxis": "x",
         "yaxis": "y"
        },
        {
         "alignmentgroup": "True",
         "boxpoints": "all",
         "customdata": [
          [
           "2017_2",
           "accelerated_filer",
           "roe"
          ],
          [
           "2017_2",
           "accelerated_filer",
           "roa"
          ],
          [
           "2017_2",
           "accelerated_filer",
           "roce"
          ],
          [
           "2017_2",
           "accelerated_filer",
           "gross_margin"
          ],
          [
           "2017_2",
           "accelerated_filer",
           "operating_profit_margin"
          ],
          [
           "2017_2",
           "accelerated_filer",
           "net_profit_margin"
          ],
          [
           "2017_2",
           "accelerated_filer",
           "debt_to_equity"
          ],
          [
           "2017_2",
           "accelerated_filer",
           "equity"
          ],
          [
           "2017_2",
           "accelerated_filer",
           "debt"
          ],
          [
           "2017_2",
           "accelerated_filer",
           "current"
          ],
          [
           "2017_2",
           "accelerated_filer",
           "quick"
          ],
          [
           "2017_2",
           "accelerated_filer",
           "cash"
          ],
          [
           "2017_2",
           "accelerated_filer",
           "times_interest_earned"
          ],
          [
           "2017_2",
           "accelerated_filer",
           "capex_to_operating_cash"
          ],
          [
           "2017_2",
           "accelerated_filer",
           "operating_cash_flow"
          ],
          [
           "2017_2",
           "accelerated_filer",
           "price_to_earnings"
          ],
          [
           "2017_2",
           "accelerated_filer",
           "ev_ebitda"
          ],
          [
           "2017_2",
           "accelerated_filer",
           "ev_ebit"
          ],
          [
           "2017_2",
           "accelerated_filer",
           "ev_revenue"
          ],
          [
           "2017_2",
           "large_accelerated_filer",
           "roe"
          ],
          [
           "2017_2",
           "large_accelerated_filer",
           "roa"
          ],
          [
           "2017_2",
           "large_accelerated_filer",
           "roce"
          ],
          [
           "2017_2",
           "large_accelerated_filer",
           "gross_margin"
          ],
          [
           "2017_2",
           "large_accelerated_filer",
           "operating_profit_margin"
          ],
          [
           "2017_2",
           "large_accelerated_filer",
           "net_profit_margin"
          ],
          [
           "2017_2",
           "large_accelerated_filer",
           "debt_to_equity"
          ],
          [
           "2017_2",
           "large_accelerated_filer",
           "equity"
          ],
          [
           "2017_2",
           "large_accelerated_filer",
           "debt"
          ],
          [
           "2017_2",
           "large_accelerated_filer",
           "current"
          ],
          [
           "2017_2",
           "large_accelerated_filer",
           "quick"
          ],
          [
           "2017_2",
           "large_accelerated_filer",
           "cash"
          ],
          [
           "2017_2",
           "large_accelerated_filer",
           "times_interest_earned"
          ],
          [
           "2017_2",
           "large_accelerated_filer",
           "capex_to_operating_cash"
          ],
          [
           "2017_2",
           "large_accelerated_filer",
           "operating_cash_flow"
          ],
          [
           "2017_2",
           "large_accelerated_filer",
           "price_to_earnings"
          ],
          [
           "2017_2",
           "large_accelerated_filer",
           "ev_ebitda"
          ],
          [
           "2017_2",
           "large_accelerated_filer",
           "ev_ebit"
          ],
          [
           "2017_2",
           "large_accelerated_filer",
           "ev_revenue"
          ],
          [
           "2017_2",
           "non_accelerated_filer",
           "roe"
          ],
          [
           "2017_2",
           "non_accelerated_filer",
           "roa"
          ],
          [
           "2017_2",
           "non_accelerated_filer",
           "roce"
          ],
          [
           "2017_2",
           "non_accelerated_filer",
           "gross_margin"
          ],
          [
           "2017_2",
           "non_accelerated_filer",
           "operating_profit_margin"
          ],
          [
           "2017_2",
           "non_accelerated_filer",
           "net_profit_margin"
          ],
          [
           "2017_2",
           "non_accelerated_filer",
           "debt_to_equity"
          ],
          [
           "2017_2",
           "non_accelerated_filer",
           "equity"
          ],
          [
           "2017_2",
           "non_accelerated_filer",
           "debt"
          ],
          [
           "2017_2",
           "non_accelerated_filer",
           "current"
          ],
          [
           "2017_2",
           "non_accelerated_filer",
           "quick"
          ],
          [
           "2017_2",
           "non_accelerated_filer",
           "cash"
          ],
          [
           "2017_2",
           "non_accelerated_filer",
           "times_interest_earned"
          ],
          [
           "2017_2",
           "non_accelerated_filer",
           "capex_to_operating_cash"
          ],
          [
           "2017_2",
           "non_accelerated_filer",
           "operating_cash_flow"
          ],
          [
           "2017_2",
           "non_accelerated_filer",
           "price_to_earnings"
          ],
          [
           "2017_2",
           "non_accelerated_filer",
           "ev_ebitda"
          ],
          [
           "2017_2",
           "non_accelerated_filer",
           "ev_ebit"
          ],
          [
           "2017_2",
           "non_accelerated_filer",
           "ev_revenue"
          ]
         ],
         "fillcolor": "rgba(255,255,255,0)",
         "hoveron": "points",
         "hovertemplate": "year_q=%{customdata[0]}<br>used_to_all=%{x}<br>filer_type=%{customdata[1]}<br>kpi=%{customdata[2]}<extra></extra>",
         "jitter": 0,
         "legendgroup": "2017_2",
         "line": {
          "color": "rgba(255,255,255,0)"
         },
         "marker": {
          "color": "#636efa",
          "symbol": "line-ns-open"
         },
         "name": "2017_2",
         "offsetgroup": "2017_2",
         "showlegend": false,
         "type": "box",
         "x": [
          0.85,
          0.88,
          0.82,
          0.79,
          0.85,
          0.85,
          0.88,
          0.91,
          0.68,
          0.91,
          0.74,
          0.91,
          0.68,
          0.68,
          0.82,
          0.88,
          0.65,
          0.65,
          0.62,
          0.98,
          0.98,
          0.98,
          0.96,
          0.96,
          0.96,
          0.98,
          0.98,
          0.91,
          0.98,
          0.96,
          0.96,
          0.96,
          0.98,
          0.98,
          0.98,
          0.87,
          0.89,
          0.87,
          0.8,
          0.8,
          0.75,
          0.8,
          0.85,
          0.85,
          0.75,
          0.8,
          0.6,
          0.75,
          0.65,
          0.75,
          0.7,
          0.75,
          0.75,
          0.8,
          0.55,
          0.6,
          0.6
         ],
         "xaxis": "x2",
         "yaxis": "y2"
        },
        {
         "alignmentgroup": "True",
         "bingroup": "x",
         "hovertemplate": "year_q=2017_3<br>used_to_all=%{x}<br>count=%{y}<extra></extra>",
         "legendgroup": "2017_3",
         "marker": {
          "color": "#EF553B",
          "pattern": {
           "shape": ""
          }
         },
         "name": "2017_3",
         "offsetgroup": "2017_3",
         "orientation": "v",
         "showlegend": true,
         "type": "histogram",
         "x": [
          0.94,
          0.97,
          0.91,
          0.91,
          0.94,
          0.94,
          0.91,
          0.94,
          0.74,
          0.91,
          0.71,
          0.91,
          0.79,
          0.79,
          0.88,
          0.97,
          0.74,
          0.74,
          0.68,
          1,
          1,
          1,
          0.98,
          0.98,
          0.98,
          1,
          1,
          0.94,
          1,
          1,
          1,
          0.98,
          1,
          1,
          1,
          0.91,
          0.94,
          0.91,
          0.94,
          0.94,
          0.89,
          0.94,
          0.94,
          0.94,
          0.89,
          0.94,
          0.78,
          0.89,
          0.72,
          0.83,
          0.78,
          0.83,
          0.89,
          0.94,
          0.67,
          0.72,
          0.72
         ],
         "xaxis": "x",
         "yaxis": "y"
        },
        {
         "alignmentgroup": "True",
         "boxpoints": "all",
         "customdata": [
          [
           "2017_3",
           "accelerated_filer",
           "roe"
          ],
          [
           "2017_3",
           "accelerated_filer",
           "roa"
          ],
          [
           "2017_3",
           "accelerated_filer",
           "roce"
          ],
          [
           "2017_3",
           "accelerated_filer",
           "gross_margin"
          ],
          [
           "2017_3",
           "accelerated_filer",
           "operating_profit_margin"
          ],
          [
           "2017_3",
           "accelerated_filer",
           "net_profit_margin"
          ],
          [
           "2017_3",
           "accelerated_filer",
           "debt_to_equity"
          ],
          [
           "2017_3",
           "accelerated_filer",
           "equity"
          ],
          [
           "2017_3",
           "accelerated_filer",
           "debt"
          ],
          [
           "2017_3",
           "accelerated_filer",
           "current"
          ],
          [
           "2017_3",
           "accelerated_filer",
           "quick"
          ],
          [
           "2017_3",
           "accelerated_filer",
           "cash"
          ],
          [
           "2017_3",
           "accelerated_filer",
           "times_interest_earned"
          ],
          [
           "2017_3",
           "accelerated_filer",
           "capex_to_operating_cash"
          ],
          [
           "2017_3",
           "accelerated_filer",
           "operating_cash_flow"
          ],
          [
           "2017_3",
           "accelerated_filer",
           "price_to_earnings"
          ],
          [
           "2017_3",
           "accelerated_filer",
           "ev_ebitda"
          ],
          [
           "2017_3",
           "accelerated_filer",
           "ev_ebit"
          ],
          [
           "2017_3",
           "accelerated_filer",
           "ev_revenue"
          ],
          [
           "2017_3",
           "large_accelerated_filer",
           "roe"
          ],
          [
           "2017_3",
           "large_accelerated_filer",
           "roa"
          ],
          [
           "2017_3",
           "large_accelerated_filer",
           "roce"
          ],
          [
           "2017_3",
           "large_accelerated_filer",
           "gross_margin"
          ],
          [
           "2017_3",
           "large_accelerated_filer",
           "operating_profit_margin"
          ],
          [
           "2017_3",
           "large_accelerated_filer",
           "net_profit_margin"
          ],
          [
           "2017_3",
           "large_accelerated_filer",
           "debt_to_equity"
          ],
          [
           "2017_3",
           "large_accelerated_filer",
           "equity"
          ],
          [
           "2017_3",
           "large_accelerated_filer",
           "debt"
          ],
          [
           "2017_3",
           "large_accelerated_filer",
           "current"
          ],
          [
           "2017_3",
           "large_accelerated_filer",
           "quick"
          ],
          [
           "2017_3",
           "large_accelerated_filer",
           "cash"
          ],
          [
           "2017_3",
           "large_accelerated_filer",
           "times_interest_earned"
          ],
          [
           "2017_3",
           "large_accelerated_filer",
           "capex_to_operating_cash"
          ],
          [
           "2017_3",
           "large_accelerated_filer",
           "operating_cash_flow"
          ],
          [
           "2017_3",
           "large_accelerated_filer",
           "price_to_earnings"
          ],
          [
           "2017_3",
           "large_accelerated_filer",
           "ev_ebitda"
          ],
          [
           "2017_3",
           "large_accelerated_filer",
           "ev_ebit"
          ],
          [
           "2017_3",
           "large_accelerated_filer",
           "ev_revenue"
          ],
          [
           "2017_3",
           "non_accelerated_filer",
           "roe"
          ],
          [
           "2017_3",
           "non_accelerated_filer",
           "roa"
          ],
          [
           "2017_3",
           "non_accelerated_filer",
           "roce"
          ],
          [
           "2017_3",
           "non_accelerated_filer",
           "gross_margin"
          ],
          [
           "2017_3",
           "non_accelerated_filer",
           "operating_profit_margin"
          ],
          [
           "2017_3",
           "non_accelerated_filer",
           "net_profit_margin"
          ],
          [
           "2017_3",
           "non_accelerated_filer",
           "debt_to_equity"
          ],
          [
           "2017_3",
           "non_accelerated_filer",
           "equity"
          ],
          [
           "2017_3",
           "non_accelerated_filer",
           "debt"
          ],
          [
           "2017_3",
           "non_accelerated_filer",
           "current"
          ],
          [
           "2017_3",
           "non_accelerated_filer",
           "quick"
          ],
          [
           "2017_3",
           "non_accelerated_filer",
           "cash"
          ],
          [
           "2017_3",
           "non_accelerated_filer",
           "times_interest_earned"
          ],
          [
           "2017_3",
           "non_accelerated_filer",
           "capex_to_operating_cash"
          ],
          [
           "2017_3",
           "non_accelerated_filer",
           "operating_cash_flow"
          ],
          [
           "2017_3",
           "non_accelerated_filer",
           "price_to_earnings"
          ],
          [
           "2017_3",
           "non_accelerated_filer",
           "ev_ebitda"
          ],
          [
           "2017_3",
           "non_accelerated_filer",
           "ev_ebit"
          ],
          [
           "2017_3",
           "non_accelerated_filer",
           "ev_revenue"
          ]
         ],
         "fillcolor": "rgba(255,255,255,0)",
         "hoveron": "points",
         "hovertemplate": "year_q=%{customdata[0]}<br>used_to_all=%{x}<br>filer_type=%{customdata[1]}<br>kpi=%{customdata[2]}<extra></extra>",
         "jitter": 0,
         "legendgroup": "2017_3",
         "line": {
          "color": "rgba(255,255,255,0)"
         },
         "marker": {
          "color": "#EF553B",
          "symbol": "line-ns-open"
         },
         "name": "2017_3",
         "offsetgroup": "2017_3",
         "showlegend": false,
         "type": "box",
         "x": [
          0.94,
          0.97,
          0.91,
          0.91,
          0.94,
          0.94,
          0.91,
          0.94,
          0.74,
          0.91,
          0.71,
          0.91,
          0.79,
          0.79,
          0.88,
          0.97,
          0.74,
          0.74,
          0.68,
          1,
          1,
          1,
          0.98,
          0.98,
          0.98,
          1,
          1,
          0.94,
          1,
          1,
          1,
          0.98,
          1,
          1,
          1,
          0.91,
          0.94,
          0.91,
          0.94,
          0.94,
          0.89,
          0.94,
          0.94,
          0.94,
          0.89,
          0.94,
          0.78,
          0.89,
          0.72,
          0.83,
          0.78,
          0.83,
          0.89,
          0.94,
          0.67,
          0.72,
          0.72
         ],
         "xaxis": "x2",
         "yaxis": "y2"
        },
        {
         "alignmentgroup": "True",
         "bingroup": "x",
         "hovertemplate": "year_q=2017_4<br>used_to_all=%{x}<br>count=%{y}<extra></extra>",
         "legendgroup": "2017_4",
         "marker": {
          "color": "#00cc96",
          "pattern": {
           "shape": ""
          }
         },
         "name": "2017_4",
         "offsetgroup": "2017_4",
         "orientation": "v",
         "showlegend": true,
         "type": "histogram",
         "x": [
          0.97,
          0.97,
          0.91,
          0.91,
          0.91,
          0.91,
          0.91,
          0.97,
          0.71,
          0.91,
          0.68,
          0.91,
          0.76,
          0.74,
          0.91,
          0.97,
          0.71,
          0.71,
          0.68,
          1,
          1,
          1,
          0.98,
          0.98,
          0.98,
          1,
          1,
          0.94,
          1,
          1,
          1,
          0.98,
          1,
          1,
          1,
          0.91,
          0.94,
          0.91,
          0.94,
          0.94,
          0.89,
          0.94,
          0.94,
          0.94,
          0.89,
          0.94,
          0.78,
          0.89,
          0.78,
          0.89,
          0.78,
          0.83,
          0.89,
          0.94,
          0.72,
          0.78,
          0.78
         ],
         "xaxis": "x",
         "yaxis": "y"
        },
        {
         "alignmentgroup": "True",
         "boxpoints": "all",
         "customdata": [
          [
           "2017_4",
           "accelerated_filer",
           "roe"
          ],
          [
           "2017_4",
           "accelerated_filer",
           "roa"
          ],
          [
           "2017_4",
           "accelerated_filer",
           "roce"
          ],
          [
           "2017_4",
           "accelerated_filer",
           "gross_margin"
          ],
          [
           "2017_4",
           "accelerated_filer",
           "operating_profit_margin"
          ],
          [
           "2017_4",
           "accelerated_filer",
           "net_profit_margin"
          ],
          [
           "2017_4",
           "accelerated_filer",
           "debt_to_equity"
          ],
          [
           "2017_4",
           "accelerated_filer",
           "equity"
          ],
          [
           "2017_4",
           "accelerated_filer",
           "debt"
          ],
          [
           "2017_4",
           "accelerated_filer",
           "current"
          ],
          [
           "2017_4",
           "accelerated_filer",
           "quick"
          ],
          [
           "2017_4",
           "accelerated_filer",
           "cash"
          ],
          [
           "2017_4",
           "accelerated_filer",
           "times_interest_earned"
          ],
          [
           "2017_4",
           "accelerated_filer",
           "capex_to_operating_cash"
          ],
          [
           "2017_4",
           "accelerated_filer",
           "operating_cash_flow"
          ],
          [
           "2017_4",
           "accelerated_filer",
           "price_to_earnings"
          ],
          [
           "2017_4",
           "accelerated_filer",
           "ev_ebitda"
          ],
          [
           "2017_4",
           "accelerated_filer",
           "ev_ebit"
          ],
          [
           "2017_4",
           "accelerated_filer",
           "ev_revenue"
          ],
          [
           "2017_4",
           "large_accelerated_filer",
           "roe"
          ],
          [
           "2017_4",
           "large_accelerated_filer",
           "roa"
          ],
          [
           "2017_4",
           "large_accelerated_filer",
           "roce"
          ],
          [
           "2017_4",
           "large_accelerated_filer",
           "gross_margin"
          ],
          [
           "2017_4",
           "large_accelerated_filer",
           "operating_profit_margin"
          ],
          [
           "2017_4",
           "large_accelerated_filer",
           "net_profit_margin"
          ],
          [
           "2017_4",
           "large_accelerated_filer",
           "debt_to_equity"
          ],
          [
           "2017_4",
           "large_accelerated_filer",
           "equity"
          ],
          [
           "2017_4",
           "large_accelerated_filer",
           "debt"
          ],
          [
           "2017_4",
           "large_accelerated_filer",
           "current"
          ],
          [
           "2017_4",
           "large_accelerated_filer",
           "quick"
          ],
          [
           "2017_4",
           "large_accelerated_filer",
           "cash"
          ],
          [
           "2017_4",
           "large_accelerated_filer",
           "times_interest_earned"
          ],
          [
           "2017_4",
           "large_accelerated_filer",
           "capex_to_operating_cash"
          ],
          [
           "2017_4",
           "large_accelerated_filer",
           "operating_cash_flow"
          ],
          [
           "2017_4",
           "large_accelerated_filer",
           "price_to_earnings"
          ],
          [
           "2017_4",
           "large_accelerated_filer",
           "ev_ebitda"
          ],
          [
           "2017_4",
           "large_accelerated_filer",
           "ev_ebit"
          ],
          [
           "2017_4",
           "large_accelerated_filer",
           "ev_revenue"
          ],
          [
           "2017_4",
           "non_accelerated_filer",
           "roe"
          ],
          [
           "2017_4",
           "non_accelerated_filer",
           "roa"
          ],
          [
           "2017_4",
           "non_accelerated_filer",
           "roce"
          ],
          [
           "2017_4",
           "non_accelerated_filer",
           "gross_margin"
          ],
          [
           "2017_4",
           "non_accelerated_filer",
           "operating_profit_margin"
          ],
          [
           "2017_4",
           "non_accelerated_filer",
           "net_profit_margin"
          ],
          [
           "2017_4",
           "non_accelerated_filer",
           "debt_to_equity"
          ],
          [
           "2017_4",
           "non_accelerated_filer",
           "equity"
          ],
          [
           "2017_4",
           "non_accelerated_filer",
           "debt"
          ],
          [
           "2017_4",
           "non_accelerated_filer",
           "current"
          ],
          [
           "2017_4",
           "non_accelerated_filer",
           "quick"
          ],
          [
           "2017_4",
           "non_accelerated_filer",
           "cash"
          ],
          [
           "2017_4",
           "non_accelerated_filer",
           "times_interest_earned"
          ],
          [
           "2017_4",
           "non_accelerated_filer",
           "capex_to_operating_cash"
          ],
          [
           "2017_4",
           "non_accelerated_filer",
           "operating_cash_flow"
          ],
          [
           "2017_4",
           "non_accelerated_filer",
           "price_to_earnings"
          ],
          [
           "2017_4",
           "non_accelerated_filer",
           "ev_ebitda"
          ],
          [
           "2017_4",
           "non_accelerated_filer",
           "ev_ebit"
          ],
          [
           "2017_4",
           "non_accelerated_filer",
           "ev_revenue"
          ]
         ],
         "fillcolor": "rgba(255,255,255,0)",
         "hoveron": "points",
         "hovertemplate": "year_q=%{customdata[0]}<br>used_to_all=%{x}<br>filer_type=%{customdata[1]}<br>kpi=%{customdata[2]}<extra></extra>",
         "jitter": 0,
         "legendgroup": "2017_4",
         "line": {
          "color": "rgba(255,255,255,0)"
         },
         "marker": {
          "color": "#00cc96",
          "symbol": "line-ns-open"
         },
         "name": "2017_4",
         "offsetgroup": "2017_4",
         "showlegend": false,
         "type": "box",
         "x": [
          0.97,
          0.97,
          0.91,
          0.91,
          0.91,
          0.91,
          0.91,
          0.97,
          0.71,
          0.91,
          0.68,
          0.91,
          0.76,
          0.74,
          0.91,
          0.97,
          0.71,
          0.71,
          0.68,
          1,
          1,
          1,
          0.98,
          0.98,
          0.98,
          1,
          1,
          0.94,
          1,
          1,
          1,
          0.98,
          1,
          1,
          1,
          0.91,
          0.94,
          0.91,
          0.94,
          0.94,
          0.89,
          0.94,
          0.94,
          0.94,
          0.89,
          0.94,
          0.78,
          0.89,
          0.78,
          0.89,
          0.78,
          0.83,
          0.89,
          0.94,
          0.72,
          0.78,
          0.78
         ],
         "xaxis": "x2",
         "yaxis": "y2"
        },
        {
         "alignmentgroup": "True",
         "bingroup": "x",
         "hovertemplate": "year_q=2018_1<br>used_to_all=%{x}<br>count=%{y}<extra></extra>",
         "legendgroup": "2018_1",
         "marker": {
          "color": "#ab63fa",
          "pattern": {
           "shape": ""
          }
         },
         "name": "2018_1",
         "offsetgroup": "2018_1",
         "orientation": "v",
         "showlegend": true,
         "type": "histogram",
         "x": [
          1,
          1,
          0.94,
          0.97,
          0.97,
          0.97,
          0.94,
          1,
          0.75,
          0.94,
          0.78,
          0.94,
          0.78,
          0.75,
          0.94,
          1,
          0.69,
          0.75,
          0.75,
          0.98,
          0.98,
          0.98,
          0.96,
          0.96,
          0.96,
          0.98,
          0.98,
          0.94,
          0.98,
          0.96,
          0.98,
          0.98,
          0.98,
          0.98,
          0.98,
          0.92,
          0.94,
          0.92,
          1,
          1,
          0.91,
          1,
          1,
          1,
          0.91,
          1,
          0.82,
          0.91,
          0.73,
          0.91,
          0.82,
          0.91,
          0.91,
          1,
          0.82,
          0.82,
          0.82
         ],
         "xaxis": "x",
         "yaxis": "y"
        },
        {
         "alignmentgroup": "True",
         "boxpoints": "all",
         "customdata": [
          [
           "2018_1",
           "accelerated_filer",
           "roe"
          ],
          [
           "2018_1",
           "accelerated_filer",
           "roa"
          ],
          [
           "2018_1",
           "accelerated_filer",
           "roce"
          ],
          [
           "2018_1",
           "accelerated_filer",
           "gross_margin"
          ],
          [
           "2018_1",
           "accelerated_filer",
           "operating_profit_margin"
          ],
          [
           "2018_1",
           "accelerated_filer",
           "net_profit_margin"
          ],
          [
           "2018_1",
           "accelerated_filer",
           "debt_to_equity"
          ],
          [
           "2018_1",
           "accelerated_filer",
           "equity"
          ],
          [
           "2018_1",
           "accelerated_filer",
           "debt"
          ],
          [
           "2018_1",
           "accelerated_filer",
           "current"
          ],
          [
           "2018_1",
           "accelerated_filer",
           "quick"
          ],
          [
           "2018_1",
           "accelerated_filer",
           "cash"
          ],
          [
           "2018_1",
           "accelerated_filer",
           "times_interest_earned"
          ],
          [
           "2018_1",
           "accelerated_filer",
           "capex_to_operating_cash"
          ],
          [
           "2018_1",
           "accelerated_filer",
           "operating_cash_flow"
          ],
          [
           "2018_1",
           "accelerated_filer",
           "price_to_earnings"
          ],
          [
           "2018_1",
           "accelerated_filer",
           "ev_ebitda"
          ],
          [
           "2018_1",
           "accelerated_filer",
           "ev_ebit"
          ],
          [
           "2018_1",
           "accelerated_filer",
           "ev_revenue"
          ],
          [
           "2018_1",
           "large_accelerated_filer",
           "roe"
          ],
          [
           "2018_1",
           "large_accelerated_filer",
           "roa"
          ],
          [
           "2018_1",
           "large_accelerated_filer",
           "roce"
          ],
          [
           "2018_1",
           "large_accelerated_filer",
           "gross_margin"
          ],
          [
           "2018_1",
           "large_accelerated_filer",
           "operating_profit_margin"
          ],
          [
           "2018_1",
           "large_accelerated_filer",
           "net_profit_margin"
          ],
          [
           "2018_1",
           "large_accelerated_filer",
           "debt_to_equity"
          ],
          [
           "2018_1",
           "large_accelerated_filer",
           "equity"
          ],
          [
           "2018_1",
           "large_accelerated_filer",
           "debt"
          ],
          [
           "2018_1",
           "large_accelerated_filer",
           "current"
          ],
          [
           "2018_1",
           "large_accelerated_filer",
           "quick"
          ],
          [
           "2018_1",
           "large_accelerated_filer",
           "cash"
          ],
          [
           "2018_1",
           "large_accelerated_filer",
           "times_interest_earned"
          ],
          [
           "2018_1",
           "large_accelerated_filer",
           "capex_to_operating_cash"
          ],
          [
           "2018_1",
           "large_accelerated_filer",
           "operating_cash_flow"
          ],
          [
           "2018_1",
           "large_accelerated_filer",
           "price_to_earnings"
          ],
          [
           "2018_1",
           "large_accelerated_filer",
           "ev_ebitda"
          ],
          [
           "2018_1",
           "large_accelerated_filer",
           "ev_ebit"
          ],
          [
           "2018_1",
           "large_accelerated_filer",
           "ev_revenue"
          ],
          [
           "2018_1",
           "non_accelerated_filer",
           "roe"
          ],
          [
           "2018_1",
           "non_accelerated_filer",
           "roa"
          ],
          [
           "2018_1",
           "non_accelerated_filer",
           "roce"
          ],
          [
           "2018_1",
           "non_accelerated_filer",
           "gross_margin"
          ],
          [
           "2018_1",
           "non_accelerated_filer",
           "operating_profit_margin"
          ],
          [
           "2018_1",
           "non_accelerated_filer",
           "net_profit_margin"
          ],
          [
           "2018_1",
           "non_accelerated_filer",
           "debt_to_equity"
          ],
          [
           "2018_1",
           "non_accelerated_filer",
           "equity"
          ],
          [
           "2018_1",
           "non_accelerated_filer",
           "debt"
          ],
          [
           "2018_1",
           "non_accelerated_filer",
           "current"
          ],
          [
           "2018_1",
           "non_accelerated_filer",
           "quick"
          ],
          [
           "2018_1",
           "non_accelerated_filer",
           "cash"
          ],
          [
           "2018_1",
           "non_accelerated_filer",
           "times_interest_earned"
          ],
          [
           "2018_1",
           "non_accelerated_filer",
           "capex_to_operating_cash"
          ],
          [
           "2018_1",
           "non_accelerated_filer",
           "operating_cash_flow"
          ],
          [
           "2018_1",
           "non_accelerated_filer",
           "price_to_earnings"
          ],
          [
           "2018_1",
           "non_accelerated_filer",
           "ev_ebitda"
          ],
          [
           "2018_1",
           "non_accelerated_filer",
           "ev_ebit"
          ],
          [
           "2018_1",
           "non_accelerated_filer",
           "ev_revenue"
          ]
         ],
         "fillcolor": "rgba(255,255,255,0)",
         "hoveron": "points",
         "hovertemplate": "year_q=%{customdata[0]}<br>used_to_all=%{x}<br>filer_type=%{customdata[1]}<br>kpi=%{customdata[2]}<extra></extra>",
         "jitter": 0,
         "legendgroup": "2018_1",
         "line": {
          "color": "rgba(255,255,255,0)"
         },
         "marker": {
          "color": "#ab63fa",
          "symbol": "line-ns-open"
         },
         "name": "2018_1",
         "offsetgroup": "2018_1",
         "showlegend": false,
         "type": "box",
         "x": [
          1,
          1,
          0.94,
          0.97,
          0.97,
          0.97,
          0.94,
          1,
          0.75,
          0.94,
          0.78,
          0.94,
          0.78,
          0.75,
          0.94,
          1,
          0.69,
          0.75,
          0.75,
          0.98,
          0.98,
          0.98,
          0.96,
          0.96,
          0.96,
          0.98,
          0.98,
          0.94,
          0.98,
          0.96,
          0.98,
          0.98,
          0.98,
          0.98,
          0.98,
          0.92,
          0.94,
          0.92,
          1,
          1,
          0.91,
          1,
          1,
          1,
          0.91,
          1,
          0.82,
          0.91,
          0.73,
          0.91,
          0.82,
          0.91,
          0.91,
          1,
          0.82,
          0.82,
          0.82
         ],
         "xaxis": "x2",
         "yaxis": "y2"
        },
        {
         "alignmentgroup": "True",
         "bingroup": "x",
         "hovertemplate": "year_q=2018_2<br>used_to_all=%{x}<br>count=%{y}<extra></extra>",
         "legendgroup": "2018_2",
         "marker": {
          "color": "#FFA15A",
          "pattern": {
           "shape": ""
          }
         },
         "name": "2018_2",
         "offsetgroup": "2018_2",
         "orientation": "v",
         "showlegend": true,
         "type": "histogram",
         "x": [
          0.95,
          0.95,
          0.89,
          0.89,
          0.89,
          0.89,
          0.89,
          0.95,
          0.74,
          0.89,
          0.74,
          0.89,
          0.74,
          0.76,
          0.89,
          0.95,
          0.68,
          0.74,
          0.71,
          1,
          1,
          1,
          0.98,
          0.98,
          0.98,
          1,
          1,
          0.96,
          1,
          1,
          1,
          1,
          1,
          1,
          1,
          0.94,
          0.96,
          0.94,
          0.76,
          0.76,
          0.71,
          0.76,
          0.76,
          0.76,
          0.71,
          0.76,
          0.59,
          0.71,
          0.53,
          0.71,
          0.59,
          0.65,
          0.71,
          0.76,
          0.59,
          0.59,
          0.59
         ],
         "xaxis": "x",
         "yaxis": "y"
        },
        {
         "alignmentgroup": "True",
         "boxpoints": "all",
         "customdata": [
          [
           "2018_2",
           "accelerated_filer",
           "roe"
          ],
          [
           "2018_2",
           "accelerated_filer",
           "roa"
          ],
          [
           "2018_2",
           "accelerated_filer",
           "roce"
          ],
          [
           "2018_2",
           "accelerated_filer",
           "gross_margin"
          ],
          [
           "2018_2",
           "accelerated_filer",
           "operating_profit_margin"
          ],
          [
           "2018_2",
           "accelerated_filer",
           "net_profit_margin"
          ],
          [
           "2018_2",
           "accelerated_filer",
           "debt_to_equity"
          ],
          [
           "2018_2",
           "accelerated_filer",
           "equity"
          ],
          [
           "2018_2",
           "accelerated_filer",
           "debt"
          ],
          [
           "2018_2",
           "accelerated_filer",
           "current"
          ],
          [
           "2018_2",
           "accelerated_filer",
           "quick"
          ],
          [
           "2018_2",
           "accelerated_filer",
           "cash"
          ],
          [
           "2018_2",
           "accelerated_filer",
           "times_interest_earned"
          ],
          [
           "2018_2",
           "accelerated_filer",
           "capex_to_operating_cash"
          ],
          [
           "2018_2",
           "accelerated_filer",
           "operating_cash_flow"
          ],
          [
           "2018_2",
           "accelerated_filer",
           "price_to_earnings"
          ],
          [
           "2018_2",
           "accelerated_filer",
           "ev_ebitda"
          ],
          [
           "2018_2",
           "accelerated_filer",
           "ev_ebit"
          ],
          [
           "2018_2",
           "accelerated_filer",
           "ev_revenue"
          ],
          [
           "2018_2",
           "large_accelerated_filer",
           "roe"
          ],
          [
           "2018_2",
           "large_accelerated_filer",
           "roa"
          ],
          [
           "2018_2",
           "large_accelerated_filer",
           "roce"
          ],
          [
           "2018_2",
           "large_accelerated_filer",
           "gross_margin"
          ],
          [
           "2018_2",
           "large_accelerated_filer",
           "operating_profit_margin"
          ],
          [
           "2018_2",
           "large_accelerated_filer",
           "net_profit_margin"
          ],
          [
           "2018_2",
           "large_accelerated_filer",
           "debt_to_equity"
          ],
          [
           "2018_2",
           "large_accelerated_filer",
           "equity"
          ],
          [
           "2018_2",
           "large_accelerated_filer",
           "debt"
          ],
          [
           "2018_2",
           "large_accelerated_filer",
           "current"
          ],
          [
           "2018_2",
           "large_accelerated_filer",
           "quick"
          ],
          [
           "2018_2",
           "large_accelerated_filer",
           "cash"
          ],
          [
           "2018_2",
           "large_accelerated_filer",
           "times_interest_earned"
          ],
          [
           "2018_2",
           "large_accelerated_filer",
           "capex_to_operating_cash"
          ],
          [
           "2018_2",
           "large_accelerated_filer",
           "operating_cash_flow"
          ],
          [
           "2018_2",
           "large_accelerated_filer",
           "price_to_earnings"
          ],
          [
           "2018_2",
           "large_accelerated_filer",
           "ev_ebitda"
          ],
          [
           "2018_2",
           "large_accelerated_filer",
           "ev_ebit"
          ],
          [
           "2018_2",
           "large_accelerated_filer",
           "ev_revenue"
          ],
          [
           "2018_2",
           "non_accelerated_filer",
           "roe"
          ],
          [
           "2018_2",
           "non_accelerated_filer",
           "roa"
          ],
          [
           "2018_2",
           "non_accelerated_filer",
           "roce"
          ],
          [
           "2018_2",
           "non_accelerated_filer",
           "gross_margin"
          ],
          [
           "2018_2",
           "non_accelerated_filer",
           "operating_profit_margin"
          ],
          [
           "2018_2",
           "non_accelerated_filer",
           "net_profit_margin"
          ],
          [
           "2018_2",
           "non_accelerated_filer",
           "debt_to_equity"
          ],
          [
           "2018_2",
           "non_accelerated_filer",
           "equity"
          ],
          [
           "2018_2",
           "non_accelerated_filer",
           "debt"
          ],
          [
           "2018_2",
           "non_accelerated_filer",
           "current"
          ],
          [
           "2018_2",
           "non_accelerated_filer",
           "quick"
          ],
          [
           "2018_2",
           "non_accelerated_filer",
           "cash"
          ],
          [
           "2018_2",
           "non_accelerated_filer",
           "times_interest_earned"
          ],
          [
           "2018_2",
           "non_accelerated_filer",
           "capex_to_operating_cash"
          ],
          [
           "2018_2",
           "non_accelerated_filer",
           "operating_cash_flow"
          ],
          [
           "2018_2",
           "non_accelerated_filer",
           "price_to_earnings"
          ],
          [
           "2018_2",
           "non_accelerated_filer",
           "ev_ebitda"
          ],
          [
           "2018_2",
           "non_accelerated_filer",
           "ev_ebit"
          ],
          [
           "2018_2",
           "non_accelerated_filer",
           "ev_revenue"
          ]
         ],
         "fillcolor": "rgba(255,255,255,0)",
         "hoveron": "points",
         "hovertemplate": "year_q=%{customdata[0]}<br>used_to_all=%{x}<br>filer_type=%{customdata[1]}<br>kpi=%{customdata[2]}<extra></extra>",
         "jitter": 0,
         "legendgroup": "2018_2",
         "line": {
          "color": "rgba(255,255,255,0)"
         },
         "marker": {
          "color": "#FFA15A",
          "symbol": "line-ns-open"
         },
         "name": "2018_2",
         "offsetgroup": "2018_2",
         "showlegend": false,
         "type": "box",
         "x": [
          0.95,
          0.95,
          0.89,
          0.89,
          0.89,
          0.89,
          0.89,
          0.95,
          0.74,
          0.89,
          0.74,
          0.89,
          0.74,
          0.76,
          0.89,
          0.95,
          0.68,
          0.74,
          0.71,
          1,
          1,
          1,
          0.98,
          0.98,
          0.98,
          1,
          1,
          0.96,
          1,
          1,
          1,
          1,
          1,
          1,
          1,
          0.94,
          0.96,
          0.94,
          0.76,
          0.76,
          0.71,
          0.76,
          0.76,
          0.76,
          0.71,
          0.76,
          0.59,
          0.71,
          0.53,
          0.71,
          0.59,
          0.65,
          0.71,
          0.76,
          0.59,
          0.59,
          0.59
         ],
         "xaxis": "x2",
         "yaxis": "y2"
        },
        {
         "alignmentgroup": "True",
         "bingroup": "x",
         "hovertemplate": "year_q=2018_3<br>used_to_all=%{x}<br>count=%{y}<extra></extra>",
         "legendgroup": "2018_3",
         "marker": {
          "color": "#19d3f3",
          "pattern": {
           "shape": ""
          }
         },
         "name": "2018_3",
         "offsetgroup": "2018_3",
         "orientation": "v",
         "showlegend": true,
         "type": "histogram",
         "x": [
          0.97,
          0.97,
          0.95,
          0.92,
          0.92,
          0.92,
          0.95,
          0.97,
          0.76,
          0.95,
          0.78,
          0.95,
          0.78,
          0.81,
          0.92,
          0.97,
          0.7,
          0.76,
          0.73,
          0.98,
          0.98,
          0.98,
          0.98,
          0.98,
          0.98,
          0.98,
          0.98,
          0.94,
          0.98,
          0.98,
          0.98,
          1,
          1,
          0.98,
          0.98,
          0.92,
          0.94,
          0.92,
          0.93,
          0.93,
          0.86,
          0.93,
          0.93,
          0.93,
          0.86,
          0.93,
          0.71,
          0.86,
          0.64,
          0.86,
          0.71,
          0.79,
          0.86,
          0.93,
          0.71,
          0.71,
          0.71
         ],
         "xaxis": "x",
         "yaxis": "y"
        },
        {
         "alignmentgroup": "True",
         "boxpoints": "all",
         "customdata": [
          [
           "2018_3",
           "accelerated_filer",
           "roe"
          ],
          [
           "2018_3",
           "accelerated_filer",
           "roa"
          ],
          [
           "2018_3",
           "accelerated_filer",
           "roce"
          ],
          [
           "2018_3",
           "accelerated_filer",
           "gross_margin"
          ],
          [
           "2018_3",
           "accelerated_filer",
           "operating_profit_margin"
          ],
          [
           "2018_3",
           "accelerated_filer",
           "net_profit_margin"
          ],
          [
           "2018_3",
           "accelerated_filer",
           "debt_to_equity"
          ],
          [
           "2018_3",
           "accelerated_filer",
           "equity"
          ],
          [
           "2018_3",
           "accelerated_filer",
           "debt"
          ],
          [
           "2018_3",
           "accelerated_filer",
           "current"
          ],
          [
           "2018_3",
           "accelerated_filer",
           "quick"
          ],
          [
           "2018_3",
           "accelerated_filer",
           "cash"
          ],
          [
           "2018_3",
           "accelerated_filer",
           "times_interest_earned"
          ],
          [
           "2018_3",
           "accelerated_filer",
           "capex_to_operating_cash"
          ],
          [
           "2018_3",
           "accelerated_filer",
           "operating_cash_flow"
          ],
          [
           "2018_3",
           "accelerated_filer",
           "price_to_earnings"
          ],
          [
           "2018_3",
           "accelerated_filer",
           "ev_ebitda"
          ],
          [
           "2018_3",
           "accelerated_filer",
           "ev_ebit"
          ],
          [
           "2018_3",
           "accelerated_filer",
           "ev_revenue"
          ],
          [
           "2018_3",
           "large_accelerated_filer",
           "roe"
          ],
          [
           "2018_3",
           "large_accelerated_filer",
           "roa"
          ],
          [
           "2018_3",
           "large_accelerated_filer",
           "roce"
          ],
          [
           "2018_3",
           "large_accelerated_filer",
           "gross_margin"
          ],
          [
           "2018_3",
           "large_accelerated_filer",
           "operating_profit_margin"
          ],
          [
           "2018_3",
           "large_accelerated_filer",
           "net_profit_margin"
          ],
          [
           "2018_3",
           "large_accelerated_filer",
           "debt_to_equity"
          ],
          [
           "2018_3",
           "large_accelerated_filer",
           "equity"
          ],
          [
           "2018_3",
           "large_accelerated_filer",
           "debt"
          ],
          [
           "2018_3",
           "large_accelerated_filer",
           "current"
          ],
          [
           "2018_3",
           "large_accelerated_filer",
           "quick"
          ],
          [
           "2018_3",
           "large_accelerated_filer",
           "cash"
          ],
          [
           "2018_3",
           "large_accelerated_filer",
           "times_interest_earned"
          ],
          [
           "2018_3",
           "large_accelerated_filer",
           "capex_to_operating_cash"
          ],
          [
           "2018_3",
           "large_accelerated_filer",
           "operating_cash_flow"
          ],
          [
           "2018_3",
           "large_accelerated_filer",
           "price_to_earnings"
          ],
          [
           "2018_3",
           "large_accelerated_filer",
           "ev_ebitda"
          ],
          [
           "2018_3",
           "large_accelerated_filer",
           "ev_ebit"
          ],
          [
           "2018_3",
           "large_accelerated_filer",
           "ev_revenue"
          ],
          [
           "2018_3",
           "non_accelerated_filer",
           "roe"
          ],
          [
           "2018_3",
           "non_accelerated_filer",
           "roa"
          ],
          [
           "2018_3",
           "non_accelerated_filer",
           "roce"
          ],
          [
           "2018_3",
           "non_accelerated_filer",
           "gross_margin"
          ],
          [
           "2018_3",
           "non_accelerated_filer",
           "operating_profit_margin"
          ],
          [
           "2018_3",
           "non_accelerated_filer",
           "net_profit_margin"
          ],
          [
           "2018_3",
           "non_accelerated_filer",
           "debt_to_equity"
          ],
          [
           "2018_3",
           "non_accelerated_filer",
           "equity"
          ],
          [
           "2018_3",
           "non_accelerated_filer",
           "debt"
          ],
          [
           "2018_3",
           "non_accelerated_filer",
           "current"
          ],
          [
           "2018_3",
           "non_accelerated_filer",
           "quick"
          ],
          [
           "2018_3",
           "non_accelerated_filer",
           "cash"
          ],
          [
           "2018_3",
           "non_accelerated_filer",
           "times_interest_earned"
          ],
          [
           "2018_3",
           "non_accelerated_filer",
           "capex_to_operating_cash"
          ],
          [
           "2018_3",
           "non_accelerated_filer",
           "operating_cash_flow"
          ],
          [
           "2018_3",
           "non_accelerated_filer",
           "price_to_earnings"
          ],
          [
           "2018_3",
           "non_accelerated_filer",
           "ev_ebitda"
          ],
          [
           "2018_3",
           "non_accelerated_filer",
           "ev_ebit"
          ],
          [
           "2018_3",
           "non_accelerated_filer",
           "ev_revenue"
          ]
         ],
         "fillcolor": "rgba(255,255,255,0)",
         "hoveron": "points",
         "hovertemplate": "year_q=%{customdata[0]}<br>used_to_all=%{x}<br>filer_type=%{customdata[1]}<br>kpi=%{customdata[2]}<extra></extra>",
         "jitter": 0,
         "legendgroup": "2018_3",
         "line": {
          "color": "rgba(255,255,255,0)"
         },
         "marker": {
          "color": "#19d3f3",
          "symbol": "line-ns-open"
         },
         "name": "2018_3",
         "offsetgroup": "2018_3",
         "showlegend": false,
         "type": "box",
         "x": [
          0.97,
          0.97,
          0.95,
          0.92,
          0.92,
          0.92,
          0.95,
          0.97,
          0.76,
          0.95,
          0.78,
          0.95,
          0.78,
          0.81,
          0.92,
          0.97,
          0.7,
          0.76,
          0.73,
          0.98,
          0.98,
          0.98,
          0.98,
          0.98,
          0.98,
          0.98,
          0.98,
          0.94,
          0.98,
          0.98,
          0.98,
          1,
          1,
          0.98,
          0.98,
          0.92,
          0.94,
          0.92,
          0.93,
          0.93,
          0.86,
          0.93,
          0.93,
          0.93,
          0.86,
          0.93,
          0.71,
          0.86,
          0.64,
          0.86,
          0.71,
          0.79,
          0.86,
          0.93,
          0.71,
          0.71,
          0.71
         ],
         "xaxis": "x2",
         "yaxis": "y2"
        },
        {
         "alignmentgroup": "True",
         "bingroup": "x",
         "hovertemplate": "year_q=2018_4<br>used_to_all=%{x}<br>count=%{y}<extra></extra>",
         "legendgroup": "2018_4",
         "marker": {
          "color": "#FF6692",
          "pattern": {
           "shape": ""
          }
         },
         "name": "2018_4",
         "offsetgroup": "2018_4",
         "orientation": "v",
         "showlegend": true,
         "type": "histogram",
         "x": [
          1,
          1,
          0.95,
          0.97,
          0.97,
          0.97,
          0.95,
          1,
          0.73,
          0.95,
          0.78,
          0.95,
          0.78,
          0.78,
          0.95,
          1,
          0.68,
          0.73,
          0.73,
          1,
          1,
          1,
          0.98,
          0.98,
          0.98,
          1,
          1,
          0.96,
          1,
          0.98,
          0.98,
          1,
          1,
          1,
          1,
          0.92,
          0.94,
          0.92,
          0.93,
          0.93,
          0.86,
          0.93,
          0.93,
          0.93,
          0.86,
          0.93,
          0.71,
          0.86,
          0.64,
          0.86,
          0.71,
          0.79,
          0.86,
          0.93,
          0.71,
          0.71,
          0.71
         ],
         "xaxis": "x",
         "yaxis": "y"
        },
        {
         "alignmentgroup": "True",
         "boxpoints": "all",
         "customdata": [
          [
           "2018_4",
           "accelerated_filer",
           "roe"
          ],
          [
           "2018_4",
           "accelerated_filer",
           "roa"
          ],
          [
           "2018_4",
           "accelerated_filer",
           "roce"
          ],
          [
           "2018_4",
           "accelerated_filer",
           "gross_margin"
          ],
          [
           "2018_4",
           "accelerated_filer",
           "operating_profit_margin"
          ],
          [
           "2018_4",
           "accelerated_filer",
           "net_profit_margin"
          ],
          [
           "2018_4",
           "accelerated_filer",
           "debt_to_equity"
          ],
          [
           "2018_4",
           "accelerated_filer",
           "equity"
          ],
          [
           "2018_4",
           "accelerated_filer",
           "debt"
          ],
          [
           "2018_4",
           "accelerated_filer",
           "current"
          ],
          [
           "2018_4",
           "accelerated_filer",
           "quick"
          ],
          [
           "2018_4",
           "accelerated_filer",
           "cash"
          ],
          [
           "2018_4",
           "accelerated_filer",
           "times_interest_earned"
          ],
          [
           "2018_4",
           "accelerated_filer",
           "capex_to_operating_cash"
          ],
          [
           "2018_4",
           "accelerated_filer",
           "operating_cash_flow"
          ],
          [
           "2018_4",
           "accelerated_filer",
           "price_to_earnings"
          ],
          [
           "2018_4",
           "accelerated_filer",
           "ev_ebitda"
          ],
          [
           "2018_4",
           "accelerated_filer",
           "ev_ebit"
          ],
          [
           "2018_4",
           "accelerated_filer",
           "ev_revenue"
          ],
          [
           "2018_4",
           "large_accelerated_filer",
           "roe"
          ],
          [
           "2018_4",
           "large_accelerated_filer",
           "roa"
          ],
          [
           "2018_4",
           "large_accelerated_filer",
           "roce"
          ],
          [
           "2018_4",
           "large_accelerated_filer",
           "gross_margin"
          ],
          [
           "2018_4",
           "large_accelerated_filer",
           "operating_profit_margin"
          ],
          [
           "2018_4",
           "large_accelerated_filer",
           "net_profit_margin"
          ],
          [
           "2018_4",
           "large_accelerated_filer",
           "debt_to_equity"
          ],
          [
           "2018_4",
           "large_accelerated_filer",
           "equity"
          ],
          [
           "2018_4",
           "large_accelerated_filer",
           "debt"
          ],
          [
           "2018_4",
           "large_accelerated_filer",
           "current"
          ],
          [
           "2018_4",
           "large_accelerated_filer",
           "quick"
          ],
          [
           "2018_4",
           "large_accelerated_filer",
           "cash"
          ],
          [
           "2018_4",
           "large_accelerated_filer",
           "times_interest_earned"
          ],
          [
           "2018_4",
           "large_accelerated_filer",
           "capex_to_operating_cash"
          ],
          [
           "2018_4",
           "large_accelerated_filer",
           "operating_cash_flow"
          ],
          [
           "2018_4",
           "large_accelerated_filer",
           "price_to_earnings"
          ],
          [
           "2018_4",
           "large_accelerated_filer",
           "ev_ebitda"
          ],
          [
           "2018_4",
           "large_accelerated_filer",
           "ev_ebit"
          ],
          [
           "2018_4",
           "large_accelerated_filer",
           "ev_revenue"
          ],
          [
           "2018_4",
           "non_accelerated_filer",
           "roe"
          ],
          [
           "2018_4",
           "non_accelerated_filer",
           "roa"
          ],
          [
           "2018_4",
           "non_accelerated_filer",
           "roce"
          ],
          [
           "2018_4",
           "non_accelerated_filer",
           "gross_margin"
          ],
          [
           "2018_4",
           "non_accelerated_filer",
           "operating_profit_margin"
          ],
          [
           "2018_4",
           "non_accelerated_filer",
           "net_profit_margin"
          ],
          [
           "2018_4",
           "non_accelerated_filer",
           "debt_to_equity"
          ],
          [
           "2018_4",
           "non_accelerated_filer",
           "equity"
          ],
          [
           "2018_4",
           "non_accelerated_filer",
           "debt"
          ],
          [
           "2018_4",
           "non_accelerated_filer",
           "current"
          ],
          [
           "2018_4",
           "non_accelerated_filer",
           "quick"
          ],
          [
           "2018_4",
           "non_accelerated_filer",
           "cash"
          ],
          [
           "2018_4",
           "non_accelerated_filer",
           "times_interest_earned"
          ],
          [
           "2018_4",
           "non_accelerated_filer",
           "capex_to_operating_cash"
          ],
          [
           "2018_4",
           "non_accelerated_filer",
           "operating_cash_flow"
          ],
          [
           "2018_4",
           "non_accelerated_filer",
           "price_to_earnings"
          ],
          [
           "2018_4",
           "non_accelerated_filer",
           "ev_ebitda"
          ],
          [
           "2018_4",
           "non_accelerated_filer",
           "ev_ebit"
          ],
          [
           "2018_4",
           "non_accelerated_filer",
           "ev_revenue"
          ]
         ],
         "fillcolor": "rgba(255,255,255,0)",
         "hoveron": "points",
         "hovertemplate": "year_q=%{customdata[0]}<br>used_to_all=%{x}<br>filer_type=%{customdata[1]}<br>kpi=%{customdata[2]}<extra></extra>",
         "jitter": 0,
         "legendgroup": "2018_4",
         "line": {
          "color": "rgba(255,255,255,0)"
         },
         "marker": {
          "color": "#FF6692",
          "symbol": "line-ns-open"
         },
         "name": "2018_4",
         "offsetgroup": "2018_4",
         "showlegend": false,
         "type": "box",
         "x": [
          1,
          1,
          0.95,
          0.97,
          0.97,
          0.97,
          0.95,
          1,
          0.73,
          0.95,
          0.78,
          0.95,
          0.78,
          0.78,
          0.95,
          1,
          0.68,
          0.73,
          0.73,
          1,
          1,
          1,
          0.98,
          0.98,
          0.98,
          1,
          1,
          0.96,
          1,
          0.98,
          0.98,
          1,
          1,
          1,
          1,
          0.92,
          0.94,
          0.92,
          0.93,
          0.93,
          0.86,
          0.93,
          0.93,
          0.93,
          0.86,
          0.93,
          0.71,
          0.86,
          0.64,
          0.86,
          0.71,
          0.79,
          0.86,
          0.93,
          0.71,
          0.71,
          0.71
         ],
         "xaxis": "x2",
         "yaxis": "y2"
        },
        {
         "alignmentgroup": "True",
         "bingroup": "x",
         "hovertemplate": "year_q=2019_1<br>used_to_all=%{x}<br>count=%{y}<extra></extra>",
         "legendgroup": "2019_1",
         "marker": {
          "color": "#B6E880",
          "pattern": {
           "shape": ""
          }
         },
         "name": "2019_1",
         "offsetgroup": "2019_1",
         "orientation": "v",
         "showlegend": true,
         "type": "histogram",
         "x": [
          0.86,
          0.86,
          0.83,
          0.83,
          0.83,
          0.83,
          0.83,
          0.86,
          0.66,
          0.83,
          0.69,
          0.83,
          0.69,
          0.71,
          0.83,
          0.86,
          0.63,
          0.66,
          0.66,
          0.96,
          0.98,
          0.98,
          0.98,
          0.98,
          0.98,
          0.96,
          0.96,
          0.94,
          0.98,
          0.96,
          0.96,
          0.98,
          0.98,
          0.98,
          0.98,
          0.89,
          0.93,
          0.93,
          1,
          1,
          0.86,
          1,
          1,
          1,
          0.86,
          1,
          0.86,
          0.86,
          0.71,
          0.86,
          0.86,
          0.86,
          0.86,
          1,
          0.86,
          0.86,
          0.86
         ],
         "xaxis": "x",
         "yaxis": "y"
        },
        {
         "alignmentgroup": "True",
         "boxpoints": "all",
         "customdata": [
          [
           "2019_1",
           "accelerated_filer",
           "roe"
          ],
          [
           "2019_1",
           "accelerated_filer",
           "roa"
          ],
          [
           "2019_1",
           "accelerated_filer",
           "roce"
          ],
          [
           "2019_1",
           "accelerated_filer",
           "gross_margin"
          ],
          [
           "2019_1",
           "accelerated_filer",
           "operating_profit_margin"
          ],
          [
           "2019_1",
           "accelerated_filer",
           "net_profit_margin"
          ],
          [
           "2019_1",
           "accelerated_filer",
           "debt_to_equity"
          ],
          [
           "2019_1",
           "accelerated_filer",
           "equity"
          ],
          [
           "2019_1",
           "accelerated_filer",
           "debt"
          ],
          [
           "2019_1",
           "accelerated_filer",
           "current"
          ],
          [
           "2019_1",
           "accelerated_filer",
           "quick"
          ],
          [
           "2019_1",
           "accelerated_filer",
           "cash"
          ],
          [
           "2019_1",
           "accelerated_filer",
           "times_interest_earned"
          ],
          [
           "2019_1",
           "accelerated_filer",
           "capex_to_operating_cash"
          ],
          [
           "2019_1",
           "accelerated_filer",
           "operating_cash_flow"
          ],
          [
           "2019_1",
           "accelerated_filer",
           "price_to_earnings"
          ],
          [
           "2019_1",
           "accelerated_filer",
           "ev_ebitda"
          ],
          [
           "2019_1",
           "accelerated_filer",
           "ev_ebit"
          ],
          [
           "2019_1",
           "accelerated_filer",
           "ev_revenue"
          ],
          [
           "2019_1",
           "large_accelerated_filer",
           "roe"
          ],
          [
           "2019_1",
           "large_accelerated_filer",
           "roa"
          ],
          [
           "2019_1",
           "large_accelerated_filer",
           "roce"
          ],
          [
           "2019_1",
           "large_accelerated_filer",
           "gross_margin"
          ],
          [
           "2019_1",
           "large_accelerated_filer",
           "operating_profit_margin"
          ],
          [
           "2019_1",
           "large_accelerated_filer",
           "net_profit_margin"
          ],
          [
           "2019_1",
           "large_accelerated_filer",
           "debt_to_equity"
          ],
          [
           "2019_1",
           "large_accelerated_filer",
           "equity"
          ],
          [
           "2019_1",
           "large_accelerated_filer",
           "debt"
          ],
          [
           "2019_1",
           "large_accelerated_filer",
           "current"
          ],
          [
           "2019_1",
           "large_accelerated_filer",
           "quick"
          ],
          [
           "2019_1",
           "large_accelerated_filer",
           "cash"
          ],
          [
           "2019_1",
           "large_accelerated_filer",
           "times_interest_earned"
          ],
          [
           "2019_1",
           "large_accelerated_filer",
           "capex_to_operating_cash"
          ],
          [
           "2019_1",
           "large_accelerated_filer",
           "operating_cash_flow"
          ],
          [
           "2019_1",
           "large_accelerated_filer",
           "price_to_earnings"
          ],
          [
           "2019_1",
           "large_accelerated_filer",
           "ev_ebitda"
          ],
          [
           "2019_1",
           "large_accelerated_filer",
           "ev_ebit"
          ],
          [
           "2019_1",
           "large_accelerated_filer",
           "ev_revenue"
          ],
          [
           "2019_1",
           "non_accelerated_filer",
           "roe"
          ],
          [
           "2019_1",
           "non_accelerated_filer",
           "roa"
          ],
          [
           "2019_1",
           "non_accelerated_filer",
           "roce"
          ],
          [
           "2019_1",
           "non_accelerated_filer",
           "gross_margin"
          ],
          [
           "2019_1",
           "non_accelerated_filer",
           "operating_profit_margin"
          ],
          [
           "2019_1",
           "non_accelerated_filer",
           "net_profit_margin"
          ],
          [
           "2019_1",
           "non_accelerated_filer",
           "debt_to_equity"
          ],
          [
           "2019_1",
           "non_accelerated_filer",
           "equity"
          ],
          [
           "2019_1",
           "non_accelerated_filer",
           "debt"
          ],
          [
           "2019_1",
           "non_accelerated_filer",
           "current"
          ],
          [
           "2019_1",
           "non_accelerated_filer",
           "quick"
          ],
          [
           "2019_1",
           "non_accelerated_filer",
           "cash"
          ],
          [
           "2019_1",
           "non_accelerated_filer",
           "times_interest_earned"
          ],
          [
           "2019_1",
           "non_accelerated_filer",
           "capex_to_operating_cash"
          ],
          [
           "2019_1",
           "non_accelerated_filer",
           "operating_cash_flow"
          ],
          [
           "2019_1",
           "non_accelerated_filer",
           "price_to_earnings"
          ],
          [
           "2019_1",
           "non_accelerated_filer",
           "ev_ebitda"
          ],
          [
           "2019_1",
           "non_accelerated_filer",
           "ev_ebit"
          ],
          [
           "2019_1",
           "non_accelerated_filer",
           "ev_revenue"
          ]
         ],
         "fillcolor": "rgba(255,255,255,0)",
         "hoveron": "points",
         "hovertemplate": "year_q=%{customdata[0]}<br>used_to_all=%{x}<br>filer_type=%{customdata[1]}<br>kpi=%{customdata[2]}<extra></extra>",
         "jitter": 0,
         "legendgroup": "2019_1",
         "line": {
          "color": "rgba(255,255,255,0)"
         },
         "marker": {
          "color": "#B6E880",
          "symbol": "line-ns-open"
         },
         "name": "2019_1",
         "offsetgroup": "2019_1",
         "showlegend": false,
         "type": "box",
         "x": [
          0.86,
          0.86,
          0.83,
          0.83,
          0.83,
          0.83,
          0.83,
          0.86,
          0.66,
          0.83,
          0.69,
          0.83,
          0.69,
          0.71,
          0.83,
          0.86,
          0.63,
          0.66,
          0.66,
          0.96,
          0.98,
          0.98,
          0.98,
          0.98,
          0.98,
          0.96,
          0.96,
          0.94,
          0.98,
          0.96,
          0.96,
          0.98,
          0.98,
          0.98,
          0.98,
          0.89,
          0.93,
          0.93,
          1,
          1,
          0.86,
          1,
          1,
          1,
          0.86,
          1,
          0.86,
          0.86,
          0.71,
          0.86,
          0.86,
          0.86,
          0.86,
          1,
          0.86,
          0.86,
          0.86
         ],
         "xaxis": "x2",
         "yaxis": "y2"
        },
        {
         "alignmentgroup": "True",
         "bingroup": "x",
         "hovertemplate": "year_q=2019_2<br>used_to_all=%{x}<br>count=%{y}<extra></extra>",
         "legendgroup": "2019_2",
         "marker": {
          "color": "#FF97FF",
          "pattern": {
           "shape": ""
          }
         },
         "name": "2019_2",
         "offsetgroup": "2019_2",
         "orientation": "v",
         "showlegend": true,
         "type": "histogram",
         "x": [
          0.97,
          0.97,
          0.91,
          0.94,
          0.94,
          0.94,
          0.91,
          0.97,
          0.77,
          0.91,
          0.71,
          0.91,
          0.77,
          0.77,
          0.91,
          0.97,
          0.77,
          0.77,
          0.74,
          1,
          1,
          1,
          1,
          1,
          1,
          1,
          1,
          1,
          1,
          0.98,
          0.98,
          1,
          1,
          1,
          1,
          0.93,
          0.98,
          0.98,
          0.73,
          0.73,
          0.64,
          0.73,
          0.73,
          0.73,
          0.64,
          0.73,
          0.55,
          0.64,
          0.45,
          0.64,
          0.55,
          0.55,
          0.64,
          0.73,
          0.55,
          0.55,
          0.55
         ],
         "xaxis": "x",
         "yaxis": "y"
        },
        {
         "alignmentgroup": "True",
         "boxpoints": "all",
         "customdata": [
          [
           "2019_2",
           "accelerated_filer",
           "roe"
          ],
          [
           "2019_2",
           "accelerated_filer",
           "roa"
          ],
          [
           "2019_2",
           "accelerated_filer",
           "roce"
          ],
          [
           "2019_2",
           "accelerated_filer",
           "gross_margin"
          ],
          [
           "2019_2",
           "accelerated_filer",
           "operating_profit_margin"
          ],
          [
           "2019_2",
           "accelerated_filer",
           "net_profit_margin"
          ],
          [
           "2019_2",
           "accelerated_filer",
           "debt_to_equity"
          ],
          [
           "2019_2",
           "accelerated_filer",
           "equity"
          ],
          [
           "2019_2",
           "accelerated_filer",
           "debt"
          ],
          [
           "2019_2",
           "accelerated_filer",
           "current"
          ],
          [
           "2019_2",
           "accelerated_filer",
           "quick"
          ],
          [
           "2019_2",
           "accelerated_filer",
           "cash"
          ],
          [
           "2019_2",
           "accelerated_filer",
           "times_interest_earned"
          ],
          [
           "2019_2",
           "accelerated_filer",
           "capex_to_operating_cash"
          ],
          [
           "2019_2",
           "accelerated_filer",
           "operating_cash_flow"
          ],
          [
           "2019_2",
           "accelerated_filer",
           "price_to_earnings"
          ],
          [
           "2019_2",
           "accelerated_filer",
           "ev_ebitda"
          ],
          [
           "2019_2",
           "accelerated_filer",
           "ev_ebit"
          ],
          [
           "2019_2",
           "accelerated_filer",
           "ev_revenue"
          ],
          [
           "2019_2",
           "large_accelerated_filer",
           "roe"
          ],
          [
           "2019_2",
           "large_accelerated_filer",
           "roa"
          ],
          [
           "2019_2",
           "large_accelerated_filer",
           "roce"
          ],
          [
           "2019_2",
           "large_accelerated_filer",
           "gross_margin"
          ],
          [
           "2019_2",
           "large_accelerated_filer",
           "operating_profit_margin"
          ],
          [
           "2019_2",
           "large_accelerated_filer",
           "net_profit_margin"
          ],
          [
           "2019_2",
           "large_accelerated_filer",
           "debt_to_equity"
          ],
          [
           "2019_2",
           "large_accelerated_filer",
           "equity"
          ],
          [
           "2019_2",
           "large_accelerated_filer",
           "debt"
          ],
          [
           "2019_2",
           "large_accelerated_filer",
           "current"
          ],
          [
           "2019_2",
           "large_accelerated_filer",
           "quick"
          ],
          [
           "2019_2",
           "large_accelerated_filer",
           "cash"
          ],
          [
           "2019_2",
           "large_accelerated_filer",
           "times_interest_earned"
          ],
          [
           "2019_2",
           "large_accelerated_filer",
           "capex_to_operating_cash"
          ],
          [
           "2019_2",
           "large_accelerated_filer",
           "operating_cash_flow"
          ],
          [
           "2019_2",
           "large_accelerated_filer",
           "price_to_earnings"
          ],
          [
           "2019_2",
           "large_accelerated_filer",
           "ev_ebitda"
          ],
          [
           "2019_2",
           "large_accelerated_filer",
           "ev_ebit"
          ],
          [
           "2019_2",
           "large_accelerated_filer",
           "ev_revenue"
          ],
          [
           "2019_2",
           "non_accelerated_filer",
           "roe"
          ],
          [
           "2019_2",
           "non_accelerated_filer",
           "roa"
          ],
          [
           "2019_2",
           "non_accelerated_filer",
           "roce"
          ],
          [
           "2019_2",
           "non_accelerated_filer",
           "gross_margin"
          ],
          [
           "2019_2",
           "non_accelerated_filer",
           "operating_profit_margin"
          ],
          [
           "2019_2",
           "non_accelerated_filer",
           "net_profit_margin"
          ],
          [
           "2019_2",
           "non_accelerated_filer",
           "debt_to_equity"
          ],
          [
           "2019_2",
           "non_accelerated_filer",
           "equity"
          ],
          [
           "2019_2",
           "non_accelerated_filer",
           "debt"
          ],
          [
           "2019_2",
           "non_accelerated_filer",
           "current"
          ],
          [
           "2019_2",
           "non_accelerated_filer",
           "quick"
          ],
          [
           "2019_2",
           "non_accelerated_filer",
           "cash"
          ],
          [
           "2019_2",
           "non_accelerated_filer",
           "times_interest_earned"
          ],
          [
           "2019_2",
           "non_accelerated_filer",
           "capex_to_operating_cash"
          ],
          [
           "2019_2",
           "non_accelerated_filer",
           "operating_cash_flow"
          ],
          [
           "2019_2",
           "non_accelerated_filer",
           "price_to_earnings"
          ],
          [
           "2019_2",
           "non_accelerated_filer",
           "ev_ebitda"
          ],
          [
           "2019_2",
           "non_accelerated_filer",
           "ev_ebit"
          ],
          [
           "2019_2",
           "non_accelerated_filer",
           "ev_revenue"
          ]
         ],
         "fillcolor": "rgba(255,255,255,0)",
         "hoveron": "points",
         "hovertemplate": "year_q=%{customdata[0]}<br>used_to_all=%{x}<br>filer_type=%{customdata[1]}<br>kpi=%{customdata[2]}<extra></extra>",
         "jitter": 0,
         "legendgroup": "2019_2",
         "line": {
          "color": "rgba(255,255,255,0)"
         },
         "marker": {
          "color": "#FF97FF",
          "symbol": "line-ns-open"
         },
         "name": "2019_2",
         "offsetgroup": "2019_2",
         "showlegend": false,
         "type": "box",
         "x": [
          0.97,
          0.97,
          0.91,
          0.94,
          0.94,
          0.94,
          0.91,
          0.97,
          0.77,
          0.91,
          0.71,
          0.91,
          0.77,
          0.77,
          0.91,
          0.97,
          0.77,
          0.77,
          0.74,
          1,
          1,
          1,
          1,
          1,
          1,
          1,
          1,
          1,
          1,
          0.98,
          0.98,
          1,
          1,
          1,
          1,
          0.93,
          0.98,
          0.98,
          0.73,
          0.73,
          0.64,
          0.73,
          0.73,
          0.73,
          0.64,
          0.73,
          0.55,
          0.64,
          0.45,
          0.64,
          0.55,
          0.55,
          0.64,
          0.73,
          0.55,
          0.55,
          0.55
         ],
         "xaxis": "x2",
         "yaxis": "y2"
        },
        {
         "alignmentgroup": "True",
         "bingroup": "x",
         "hovertemplate": "year_q=2019_3<br>used_to_all=%{x}<br>count=%{y}<extra></extra>",
         "legendgroup": "2019_3",
         "marker": {
          "color": "#FECB52",
          "pattern": {
           "shape": ""
          }
         },
         "name": "2019_3",
         "offsetgroup": "2019_3",
         "orientation": "v",
         "showlegend": true,
         "type": "histogram",
         "x": [
          0.97,
          1,
          0.94,
          0.97,
          0.97,
          0.97,
          0.94,
          0.97,
          0.8,
          0.94,
          0.74,
          0.94,
          0.77,
          0.8,
          0.91,
          1,
          0.8,
          0.8,
          0.77,
          1,
          1,
          1,
          1,
          1,
          1,
          1,
          1,
          0.98,
          1,
          0.98,
          0.98,
          0.98,
          1,
          1,
          1,
          0.93,
          0.96,
          0.96,
          0.8,
          0.8,
          0.7,
          0.8,
          0.8,
          0.8,
          0.7,
          0.8,
          0.6,
          0.7,
          0.5,
          0.7,
          0.6,
          0.6,
          0.7,
          0.8,
          0.6,
          0.6,
          0.6
         ],
         "xaxis": "x",
         "yaxis": "y"
        },
        {
         "alignmentgroup": "True",
         "boxpoints": "all",
         "customdata": [
          [
           "2019_3",
           "accelerated_filer",
           "roe"
          ],
          [
           "2019_3",
           "accelerated_filer",
           "roa"
          ],
          [
           "2019_3",
           "accelerated_filer",
           "roce"
          ],
          [
           "2019_3",
           "accelerated_filer",
           "gross_margin"
          ],
          [
           "2019_3",
           "accelerated_filer",
           "operating_profit_margin"
          ],
          [
           "2019_3",
           "accelerated_filer",
           "net_profit_margin"
          ],
          [
           "2019_3",
           "accelerated_filer",
           "debt_to_equity"
          ],
          [
           "2019_3",
           "accelerated_filer",
           "equity"
          ],
          [
           "2019_3",
           "accelerated_filer",
           "debt"
          ],
          [
           "2019_3",
           "accelerated_filer",
           "current"
          ],
          [
           "2019_3",
           "accelerated_filer",
           "quick"
          ],
          [
           "2019_3",
           "accelerated_filer",
           "cash"
          ],
          [
           "2019_3",
           "accelerated_filer",
           "times_interest_earned"
          ],
          [
           "2019_3",
           "accelerated_filer",
           "capex_to_operating_cash"
          ],
          [
           "2019_3",
           "accelerated_filer",
           "operating_cash_flow"
          ],
          [
           "2019_3",
           "accelerated_filer",
           "price_to_earnings"
          ],
          [
           "2019_3",
           "accelerated_filer",
           "ev_ebitda"
          ],
          [
           "2019_3",
           "accelerated_filer",
           "ev_ebit"
          ],
          [
           "2019_3",
           "accelerated_filer",
           "ev_revenue"
          ],
          [
           "2019_3",
           "large_accelerated_filer",
           "roe"
          ],
          [
           "2019_3",
           "large_accelerated_filer",
           "roa"
          ],
          [
           "2019_3",
           "large_accelerated_filer",
           "roce"
          ],
          [
           "2019_3",
           "large_accelerated_filer",
           "gross_margin"
          ],
          [
           "2019_3",
           "large_accelerated_filer",
           "operating_profit_margin"
          ],
          [
           "2019_3",
           "large_accelerated_filer",
           "net_profit_margin"
          ],
          [
           "2019_3",
           "large_accelerated_filer",
           "debt_to_equity"
          ],
          [
           "2019_3",
           "large_accelerated_filer",
           "equity"
          ],
          [
           "2019_3",
           "large_accelerated_filer",
           "debt"
          ],
          [
           "2019_3",
           "large_accelerated_filer",
           "current"
          ],
          [
           "2019_3",
           "large_accelerated_filer",
           "quick"
          ],
          [
           "2019_3",
           "large_accelerated_filer",
           "cash"
          ],
          [
           "2019_3",
           "large_accelerated_filer",
           "times_interest_earned"
          ],
          [
           "2019_3",
           "large_accelerated_filer",
           "capex_to_operating_cash"
          ],
          [
           "2019_3",
           "large_accelerated_filer",
           "operating_cash_flow"
          ],
          [
           "2019_3",
           "large_accelerated_filer",
           "price_to_earnings"
          ],
          [
           "2019_3",
           "large_accelerated_filer",
           "ev_ebitda"
          ],
          [
           "2019_3",
           "large_accelerated_filer",
           "ev_ebit"
          ],
          [
           "2019_3",
           "large_accelerated_filer",
           "ev_revenue"
          ],
          [
           "2019_3",
           "non_accelerated_filer",
           "roe"
          ],
          [
           "2019_3",
           "non_accelerated_filer",
           "roa"
          ],
          [
           "2019_3",
           "non_accelerated_filer",
           "roce"
          ],
          [
           "2019_3",
           "non_accelerated_filer",
           "gross_margin"
          ],
          [
           "2019_3",
           "non_accelerated_filer",
           "operating_profit_margin"
          ],
          [
           "2019_3",
           "non_accelerated_filer",
           "net_profit_margin"
          ],
          [
           "2019_3",
           "non_accelerated_filer",
           "debt_to_equity"
          ],
          [
           "2019_3",
           "non_accelerated_filer",
           "equity"
          ],
          [
           "2019_3",
           "non_accelerated_filer",
           "debt"
          ],
          [
           "2019_3",
           "non_accelerated_filer",
           "current"
          ],
          [
           "2019_3",
           "non_accelerated_filer",
           "quick"
          ],
          [
           "2019_3",
           "non_accelerated_filer",
           "cash"
          ],
          [
           "2019_3",
           "non_accelerated_filer",
           "times_interest_earned"
          ],
          [
           "2019_3",
           "non_accelerated_filer",
           "capex_to_operating_cash"
          ],
          [
           "2019_3",
           "non_accelerated_filer",
           "operating_cash_flow"
          ],
          [
           "2019_3",
           "non_accelerated_filer",
           "price_to_earnings"
          ],
          [
           "2019_3",
           "non_accelerated_filer",
           "ev_ebitda"
          ],
          [
           "2019_3",
           "non_accelerated_filer",
           "ev_ebit"
          ],
          [
           "2019_3",
           "non_accelerated_filer",
           "ev_revenue"
          ]
         ],
         "fillcolor": "rgba(255,255,255,0)",
         "hoveron": "points",
         "hovertemplate": "year_q=%{customdata[0]}<br>used_to_all=%{x}<br>filer_type=%{customdata[1]}<br>kpi=%{customdata[2]}<extra></extra>",
         "jitter": 0,
         "legendgroup": "2019_3",
         "line": {
          "color": "rgba(255,255,255,0)"
         },
         "marker": {
          "color": "#FECB52",
          "symbol": "line-ns-open"
         },
         "name": "2019_3",
         "offsetgroup": "2019_3",
         "showlegend": false,
         "type": "box",
         "x": [
          0.97,
          1,
          0.94,
          0.97,
          0.97,
          0.97,
          0.94,
          0.97,
          0.8,
          0.94,
          0.74,
          0.94,
          0.77,
          0.8,
          0.91,
          1,
          0.8,
          0.8,
          0.77,
          1,
          1,
          1,
          1,
          1,
          1,
          1,
          1,
          0.98,
          1,
          0.98,
          0.98,
          0.98,
          1,
          1,
          1,
          0.93,
          0.96,
          0.96,
          0.8,
          0.8,
          0.7,
          0.8,
          0.8,
          0.8,
          0.7,
          0.8,
          0.6,
          0.7,
          0.5,
          0.7,
          0.6,
          0.6,
          0.7,
          0.8,
          0.6,
          0.6,
          0.6
         ],
         "xaxis": "x2",
         "yaxis": "y2"
        },
        {
         "alignmentgroup": "True",
         "bingroup": "x",
         "hovertemplate": "year_q=2019_4<br>used_to_all=%{x}<br>count=%{y}<extra></extra>",
         "legendgroup": "2019_4",
         "marker": {
          "color": "#636efa",
          "pattern": {
           "shape": ""
          }
         },
         "name": "2019_4",
         "offsetgroup": "2019_4",
         "orientation": "v",
         "showlegend": true,
         "type": "histogram",
         "x": [
          0.74,
          0.77,
          0.77,
          0.74,
          0.74,
          0.74,
          0.74,
          0.74,
          0.69,
          0.77,
          0.63,
          0.77,
          0.66,
          0.69,
          0.74,
          0.77,
          0.69,
          0.69,
          0.66,
          0.98,
          0.98,
          0.98,
          0.98,
          0.98,
          0.98,
          0.98,
          0.98,
          0.96,
          0.98,
          0.96,
          0.96,
          0.98,
          0.98,
          0.98,
          0.98,
          0.91,
          0.94,
          0.94,
          0.91,
          1,
          0.91,
          1,
          1,
          1,
          0.82,
          0.91,
          0.82,
          0.91,
          0.64,
          0.82,
          0.82,
          0.82,
          0.91,
          1,
          0.73,
          0.73,
          0.73
         ],
         "xaxis": "x",
         "yaxis": "y"
        },
        {
         "alignmentgroup": "True",
         "boxpoints": "all",
         "customdata": [
          [
           "2019_4",
           "accelerated_filer",
           "roe"
          ],
          [
           "2019_4",
           "accelerated_filer",
           "roa"
          ],
          [
           "2019_4",
           "accelerated_filer",
           "roce"
          ],
          [
           "2019_4",
           "accelerated_filer",
           "gross_margin"
          ],
          [
           "2019_4",
           "accelerated_filer",
           "operating_profit_margin"
          ],
          [
           "2019_4",
           "accelerated_filer",
           "net_profit_margin"
          ],
          [
           "2019_4",
           "accelerated_filer",
           "debt_to_equity"
          ],
          [
           "2019_4",
           "accelerated_filer",
           "equity"
          ],
          [
           "2019_4",
           "accelerated_filer",
           "debt"
          ],
          [
           "2019_4",
           "accelerated_filer",
           "current"
          ],
          [
           "2019_4",
           "accelerated_filer",
           "quick"
          ],
          [
           "2019_4",
           "accelerated_filer",
           "cash"
          ],
          [
           "2019_4",
           "accelerated_filer",
           "times_interest_earned"
          ],
          [
           "2019_4",
           "accelerated_filer",
           "capex_to_operating_cash"
          ],
          [
           "2019_4",
           "accelerated_filer",
           "operating_cash_flow"
          ],
          [
           "2019_4",
           "accelerated_filer",
           "price_to_earnings"
          ],
          [
           "2019_4",
           "accelerated_filer",
           "ev_ebitda"
          ],
          [
           "2019_4",
           "accelerated_filer",
           "ev_ebit"
          ],
          [
           "2019_4",
           "accelerated_filer",
           "ev_revenue"
          ],
          [
           "2019_4",
           "large_accelerated_filer",
           "roe"
          ],
          [
           "2019_4",
           "large_accelerated_filer",
           "roa"
          ],
          [
           "2019_4",
           "large_accelerated_filer",
           "roce"
          ],
          [
           "2019_4",
           "large_accelerated_filer",
           "gross_margin"
          ],
          [
           "2019_4",
           "large_accelerated_filer",
           "operating_profit_margin"
          ],
          [
           "2019_4",
           "large_accelerated_filer",
           "net_profit_margin"
          ],
          [
           "2019_4",
           "large_accelerated_filer",
           "debt_to_equity"
          ],
          [
           "2019_4",
           "large_accelerated_filer",
           "equity"
          ],
          [
           "2019_4",
           "large_accelerated_filer",
           "debt"
          ],
          [
           "2019_4",
           "large_accelerated_filer",
           "current"
          ],
          [
           "2019_4",
           "large_accelerated_filer",
           "quick"
          ],
          [
           "2019_4",
           "large_accelerated_filer",
           "cash"
          ],
          [
           "2019_4",
           "large_accelerated_filer",
           "times_interest_earned"
          ],
          [
           "2019_4",
           "large_accelerated_filer",
           "capex_to_operating_cash"
          ],
          [
           "2019_4",
           "large_accelerated_filer",
           "operating_cash_flow"
          ],
          [
           "2019_4",
           "large_accelerated_filer",
           "price_to_earnings"
          ],
          [
           "2019_4",
           "large_accelerated_filer",
           "ev_ebitda"
          ],
          [
           "2019_4",
           "large_accelerated_filer",
           "ev_ebit"
          ],
          [
           "2019_4",
           "large_accelerated_filer",
           "ev_revenue"
          ],
          [
           "2019_4",
           "non_accelerated_filer",
           "roe"
          ],
          [
           "2019_4",
           "non_accelerated_filer",
           "roa"
          ],
          [
           "2019_4",
           "non_accelerated_filer",
           "roce"
          ],
          [
           "2019_4",
           "non_accelerated_filer",
           "gross_margin"
          ],
          [
           "2019_4",
           "non_accelerated_filer",
           "operating_profit_margin"
          ],
          [
           "2019_4",
           "non_accelerated_filer",
           "net_profit_margin"
          ],
          [
           "2019_4",
           "non_accelerated_filer",
           "debt_to_equity"
          ],
          [
           "2019_4",
           "non_accelerated_filer",
           "equity"
          ],
          [
           "2019_4",
           "non_accelerated_filer",
           "debt"
          ],
          [
           "2019_4",
           "non_accelerated_filer",
           "current"
          ],
          [
           "2019_4",
           "non_accelerated_filer",
           "quick"
          ],
          [
           "2019_4",
           "non_accelerated_filer",
           "cash"
          ],
          [
           "2019_4",
           "non_accelerated_filer",
           "times_interest_earned"
          ],
          [
           "2019_4",
           "non_accelerated_filer",
           "capex_to_operating_cash"
          ],
          [
           "2019_4",
           "non_accelerated_filer",
           "operating_cash_flow"
          ],
          [
           "2019_4",
           "non_accelerated_filer",
           "price_to_earnings"
          ],
          [
           "2019_4",
           "non_accelerated_filer",
           "ev_ebitda"
          ],
          [
           "2019_4",
           "non_accelerated_filer",
           "ev_ebit"
          ],
          [
           "2019_4",
           "non_accelerated_filer",
           "ev_revenue"
          ]
         ],
         "fillcolor": "rgba(255,255,255,0)",
         "hoveron": "points",
         "hovertemplate": "year_q=%{customdata[0]}<br>used_to_all=%{x}<br>filer_type=%{customdata[1]}<br>kpi=%{customdata[2]}<extra></extra>",
         "jitter": 0,
         "legendgroup": "2019_4",
         "line": {
          "color": "rgba(255,255,255,0)"
         },
         "marker": {
          "color": "#636efa",
          "symbol": "line-ns-open"
         },
         "name": "2019_4",
         "offsetgroup": "2019_4",
         "showlegend": false,
         "type": "box",
         "x": [
          0.74,
          0.77,
          0.77,
          0.74,
          0.74,
          0.74,
          0.74,
          0.74,
          0.69,
          0.77,
          0.63,
          0.77,
          0.66,
          0.69,
          0.74,
          0.77,
          0.69,
          0.69,
          0.66,
          0.98,
          0.98,
          0.98,
          0.98,
          0.98,
          0.98,
          0.98,
          0.98,
          0.96,
          0.98,
          0.96,
          0.96,
          0.98,
          0.98,
          0.98,
          0.98,
          0.91,
          0.94,
          0.94,
          0.91,
          1,
          0.91,
          1,
          1,
          1,
          0.82,
          0.91,
          0.82,
          0.91,
          0.64,
          0.82,
          0.82,
          0.82,
          0.91,
          1,
          0.73,
          0.73,
          0.73
         ],
         "xaxis": "x2",
         "yaxis": "y2"
        },
        {
         "alignmentgroup": "True",
         "bingroup": "x",
         "hovertemplate": "year_q=2020_1<br>used_to_all=%{x}<br>count=%{y}<extra></extra>",
         "legendgroup": "2020_1",
         "marker": {
          "color": "#EF553B",
          "pattern": {
           "shape": ""
          }
         },
         "name": "2020_1",
         "offsetgroup": "2020_1",
         "orientation": "v",
         "showlegend": true,
         "type": "histogram",
         "x": [
          0.97,
          0.97,
          0.97,
          0.94,
          0.94,
          0.94,
          0.97,
          0.97,
          0.84,
          0.97,
          0.78,
          0.94,
          0.81,
          0.84,
          0.97,
          0.97,
          0.78,
          0.81,
          0.78,
          0.92,
          0.92,
          0.92,
          0.92,
          0.92,
          0.92,
          0.92,
          0.92,
          0.9,
          0.92,
          0.9,
          0.9,
          0.92,
          0.92,
          0.92,
          0.92,
          0.87,
          0.88,
          0.88,
          0.93,
          1,
          0.79,
          0.86,
          1,
          1,
          0.79,
          0.93,
          0.79,
          0.79,
          0.64,
          0.79,
          0.71,
          0.71,
          0.79,
          1,
          0.79,
          0.79,
          0.79
         ],
         "xaxis": "x",
         "yaxis": "y"
        },
        {
         "alignmentgroup": "True",
         "boxpoints": "all",
         "customdata": [
          [
           "2020_1",
           "accelerated_filer",
           "roe"
          ],
          [
           "2020_1",
           "accelerated_filer",
           "roa"
          ],
          [
           "2020_1",
           "accelerated_filer",
           "roce"
          ],
          [
           "2020_1",
           "accelerated_filer",
           "gross_margin"
          ],
          [
           "2020_1",
           "accelerated_filer",
           "operating_profit_margin"
          ],
          [
           "2020_1",
           "accelerated_filer",
           "net_profit_margin"
          ],
          [
           "2020_1",
           "accelerated_filer",
           "debt_to_equity"
          ],
          [
           "2020_1",
           "accelerated_filer",
           "equity"
          ],
          [
           "2020_1",
           "accelerated_filer",
           "debt"
          ],
          [
           "2020_1",
           "accelerated_filer",
           "current"
          ],
          [
           "2020_1",
           "accelerated_filer",
           "quick"
          ],
          [
           "2020_1",
           "accelerated_filer",
           "cash"
          ],
          [
           "2020_1",
           "accelerated_filer",
           "times_interest_earned"
          ],
          [
           "2020_1",
           "accelerated_filer",
           "capex_to_operating_cash"
          ],
          [
           "2020_1",
           "accelerated_filer",
           "operating_cash_flow"
          ],
          [
           "2020_1",
           "accelerated_filer",
           "price_to_earnings"
          ],
          [
           "2020_1",
           "accelerated_filer",
           "ev_ebitda"
          ],
          [
           "2020_1",
           "accelerated_filer",
           "ev_ebit"
          ],
          [
           "2020_1",
           "accelerated_filer",
           "ev_revenue"
          ],
          [
           "2020_1",
           "large_accelerated_filer",
           "roe"
          ],
          [
           "2020_1",
           "large_accelerated_filer",
           "roa"
          ],
          [
           "2020_1",
           "large_accelerated_filer",
           "roce"
          ],
          [
           "2020_1",
           "large_accelerated_filer",
           "gross_margin"
          ],
          [
           "2020_1",
           "large_accelerated_filer",
           "operating_profit_margin"
          ],
          [
           "2020_1",
           "large_accelerated_filer",
           "net_profit_margin"
          ],
          [
           "2020_1",
           "large_accelerated_filer",
           "debt_to_equity"
          ],
          [
           "2020_1",
           "large_accelerated_filer",
           "equity"
          ],
          [
           "2020_1",
           "large_accelerated_filer",
           "debt"
          ],
          [
           "2020_1",
           "large_accelerated_filer",
           "current"
          ],
          [
           "2020_1",
           "large_accelerated_filer",
           "quick"
          ],
          [
           "2020_1",
           "large_accelerated_filer",
           "cash"
          ],
          [
           "2020_1",
           "large_accelerated_filer",
           "times_interest_earned"
          ],
          [
           "2020_1",
           "large_accelerated_filer",
           "capex_to_operating_cash"
          ],
          [
           "2020_1",
           "large_accelerated_filer",
           "operating_cash_flow"
          ],
          [
           "2020_1",
           "large_accelerated_filer",
           "price_to_earnings"
          ],
          [
           "2020_1",
           "large_accelerated_filer",
           "ev_ebitda"
          ],
          [
           "2020_1",
           "large_accelerated_filer",
           "ev_ebit"
          ],
          [
           "2020_1",
           "large_accelerated_filer",
           "ev_revenue"
          ],
          [
           "2020_1",
           "non_accelerated_filer",
           "roe"
          ],
          [
           "2020_1",
           "non_accelerated_filer",
           "roa"
          ],
          [
           "2020_1",
           "non_accelerated_filer",
           "roce"
          ],
          [
           "2020_1",
           "non_accelerated_filer",
           "gross_margin"
          ],
          [
           "2020_1",
           "non_accelerated_filer",
           "operating_profit_margin"
          ],
          [
           "2020_1",
           "non_accelerated_filer",
           "net_profit_margin"
          ],
          [
           "2020_1",
           "non_accelerated_filer",
           "debt_to_equity"
          ],
          [
           "2020_1",
           "non_accelerated_filer",
           "equity"
          ],
          [
           "2020_1",
           "non_accelerated_filer",
           "debt"
          ],
          [
           "2020_1",
           "non_accelerated_filer",
           "current"
          ],
          [
           "2020_1",
           "non_accelerated_filer",
           "quick"
          ],
          [
           "2020_1",
           "non_accelerated_filer",
           "cash"
          ],
          [
           "2020_1",
           "non_accelerated_filer",
           "times_interest_earned"
          ],
          [
           "2020_1",
           "non_accelerated_filer",
           "capex_to_operating_cash"
          ],
          [
           "2020_1",
           "non_accelerated_filer",
           "operating_cash_flow"
          ],
          [
           "2020_1",
           "non_accelerated_filer",
           "price_to_earnings"
          ],
          [
           "2020_1",
           "non_accelerated_filer",
           "ev_ebitda"
          ],
          [
           "2020_1",
           "non_accelerated_filer",
           "ev_ebit"
          ],
          [
           "2020_1",
           "non_accelerated_filer",
           "ev_revenue"
          ]
         ],
         "fillcolor": "rgba(255,255,255,0)",
         "hoveron": "points",
         "hovertemplate": "year_q=%{customdata[0]}<br>used_to_all=%{x}<br>filer_type=%{customdata[1]}<br>kpi=%{customdata[2]}<extra></extra>",
         "jitter": 0,
         "legendgroup": "2020_1",
         "line": {
          "color": "rgba(255,255,255,0)"
         },
         "marker": {
          "color": "#EF553B",
          "symbol": "line-ns-open"
         },
         "name": "2020_1",
         "offsetgroup": "2020_1",
         "showlegend": false,
         "type": "box",
         "x": [
          0.97,
          0.97,
          0.97,
          0.94,
          0.94,
          0.94,
          0.97,
          0.97,
          0.84,
          0.97,
          0.78,
          0.94,
          0.81,
          0.84,
          0.97,
          0.97,
          0.78,
          0.81,
          0.78,
          0.92,
          0.92,
          0.92,
          0.92,
          0.92,
          0.92,
          0.92,
          0.92,
          0.9,
          0.92,
          0.9,
          0.9,
          0.92,
          0.92,
          0.92,
          0.92,
          0.87,
          0.88,
          0.88,
          0.93,
          1,
          0.79,
          0.86,
          1,
          1,
          0.79,
          0.93,
          0.79,
          0.79,
          0.64,
          0.79,
          0.71,
          0.71,
          0.79,
          1,
          0.79,
          0.79,
          0.79
         ],
         "xaxis": "x2",
         "yaxis": "y2"
        },
        {
         "alignmentgroup": "True",
         "bingroup": "x",
         "hovertemplate": "year_q=2020_2<br>used_to_all=%{x}<br>count=%{y}<extra></extra>",
         "legendgroup": "2020_2",
         "marker": {
          "color": "#00cc96",
          "pattern": {
           "shape": ""
          }
         },
         "name": "2020_2",
         "offsetgroup": "2020_2",
         "orientation": "v",
         "showlegend": true,
         "type": "histogram",
         "x": [
          0.56,
          0.56,
          0.56,
          0.56,
          0.56,
          0.56,
          0.56,
          0.56,
          0.56,
          0.56,
          0.53,
          0.56,
          0.56,
          0.56,
          0.56,
          0.56,
          0.56,
          0.56,
          0.56,
          0.88,
          0.88,
          0.88,
          0.87,
          0.88,
          0.88,
          0.88,
          0.88,
          0.87,
          0.88,
          0.85,
          0.87,
          0.85,
          0.87,
          0.88,
          0.88,
          0.83,
          0.85,
          0.85,
          0.81,
          0.81,
          0.69,
          0.69,
          0.88,
          0.81,
          0.69,
          0.81,
          0.69,
          0.69,
          0.56,
          0.69,
          0.56,
          0.62,
          0.69,
          0.81,
          0.69,
          0.69,
          0.69
         ],
         "xaxis": "x",
         "yaxis": "y"
        },
        {
         "alignmentgroup": "True",
         "boxpoints": "all",
         "customdata": [
          [
           "2020_2",
           "accelerated_filer",
           "roe"
          ],
          [
           "2020_2",
           "accelerated_filer",
           "roa"
          ],
          [
           "2020_2",
           "accelerated_filer",
           "roce"
          ],
          [
           "2020_2",
           "accelerated_filer",
           "gross_margin"
          ],
          [
           "2020_2",
           "accelerated_filer",
           "operating_profit_margin"
          ],
          [
           "2020_2",
           "accelerated_filer",
           "net_profit_margin"
          ],
          [
           "2020_2",
           "accelerated_filer",
           "debt_to_equity"
          ],
          [
           "2020_2",
           "accelerated_filer",
           "equity"
          ],
          [
           "2020_2",
           "accelerated_filer",
           "debt"
          ],
          [
           "2020_2",
           "accelerated_filer",
           "current"
          ],
          [
           "2020_2",
           "accelerated_filer",
           "quick"
          ],
          [
           "2020_2",
           "accelerated_filer",
           "cash"
          ],
          [
           "2020_2",
           "accelerated_filer",
           "times_interest_earned"
          ],
          [
           "2020_2",
           "accelerated_filer",
           "capex_to_operating_cash"
          ],
          [
           "2020_2",
           "accelerated_filer",
           "operating_cash_flow"
          ],
          [
           "2020_2",
           "accelerated_filer",
           "price_to_earnings"
          ],
          [
           "2020_2",
           "accelerated_filer",
           "ev_ebitda"
          ],
          [
           "2020_2",
           "accelerated_filer",
           "ev_ebit"
          ],
          [
           "2020_2",
           "accelerated_filer",
           "ev_revenue"
          ],
          [
           "2020_2",
           "large_accelerated_filer",
           "roe"
          ],
          [
           "2020_2",
           "large_accelerated_filer",
           "roa"
          ],
          [
           "2020_2",
           "large_accelerated_filer",
           "roce"
          ],
          [
           "2020_2",
           "large_accelerated_filer",
           "gross_margin"
          ],
          [
           "2020_2",
           "large_accelerated_filer",
           "operating_profit_margin"
          ],
          [
           "2020_2",
           "large_accelerated_filer",
           "net_profit_margin"
          ],
          [
           "2020_2",
           "large_accelerated_filer",
           "debt_to_equity"
          ],
          [
           "2020_2",
           "large_accelerated_filer",
           "equity"
          ],
          [
           "2020_2",
           "large_accelerated_filer",
           "debt"
          ],
          [
           "2020_2",
           "large_accelerated_filer",
           "current"
          ],
          [
           "2020_2",
           "large_accelerated_filer",
           "quick"
          ],
          [
           "2020_2",
           "large_accelerated_filer",
           "cash"
          ],
          [
           "2020_2",
           "large_accelerated_filer",
           "times_interest_earned"
          ],
          [
           "2020_2",
           "large_accelerated_filer",
           "capex_to_operating_cash"
          ],
          [
           "2020_2",
           "large_accelerated_filer",
           "operating_cash_flow"
          ],
          [
           "2020_2",
           "large_accelerated_filer",
           "price_to_earnings"
          ],
          [
           "2020_2",
           "large_accelerated_filer",
           "ev_ebitda"
          ],
          [
           "2020_2",
           "large_accelerated_filer",
           "ev_ebit"
          ],
          [
           "2020_2",
           "large_accelerated_filer",
           "ev_revenue"
          ],
          [
           "2020_2",
           "non_accelerated_filer",
           "roe"
          ],
          [
           "2020_2",
           "non_accelerated_filer",
           "roa"
          ],
          [
           "2020_2",
           "non_accelerated_filer",
           "roce"
          ],
          [
           "2020_2",
           "non_accelerated_filer",
           "gross_margin"
          ],
          [
           "2020_2",
           "non_accelerated_filer",
           "operating_profit_margin"
          ],
          [
           "2020_2",
           "non_accelerated_filer",
           "net_profit_margin"
          ],
          [
           "2020_2",
           "non_accelerated_filer",
           "debt_to_equity"
          ],
          [
           "2020_2",
           "non_accelerated_filer",
           "equity"
          ],
          [
           "2020_2",
           "non_accelerated_filer",
           "debt"
          ],
          [
           "2020_2",
           "non_accelerated_filer",
           "current"
          ],
          [
           "2020_2",
           "non_accelerated_filer",
           "quick"
          ],
          [
           "2020_2",
           "non_accelerated_filer",
           "cash"
          ],
          [
           "2020_2",
           "non_accelerated_filer",
           "times_interest_earned"
          ],
          [
           "2020_2",
           "non_accelerated_filer",
           "capex_to_operating_cash"
          ],
          [
           "2020_2",
           "non_accelerated_filer",
           "operating_cash_flow"
          ],
          [
           "2020_2",
           "non_accelerated_filer",
           "price_to_earnings"
          ],
          [
           "2020_2",
           "non_accelerated_filer",
           "ev_ebitda"
          ],
          [
           "2020_2",
           "non_accelerated_filer",
           "ev_ebit"
          ],
          [
           "2020_2",
           "non_accelerated_filer",
           "ev_revenue"
          ]
         ],
         "fillcolor": "rgba(255,255,255,0)",
         "hoveron": "points",
         "hovertemplate": "year_q=%{customdata[0]}<br>used_to_all=%{x}<br>filer_type=%{customdata[1]}<br>kpi=%{customdata[2]}<extra></extra>",
         "jitter": 0,
         "legendgroup": "2020_2",
         "line": {
          "color": "rgba(255,255,255,0)"
         },
         "marker": {
          "color": "#00cc96",
          "symbol": "line-ns-open"
         },
         "name": "2020_2",
         "offsetgroup": "2020_2",
         "showlegend": false,
         "type": "box",
         "x": [
          0.56,
          0.56,
          0.56,
          0.56,
          0.56,
          0.56,
          0.56,
          0.56,
          0.56,
          0.56,
          0.53,
          0.56,
          0.56,
          0.56,
          0.56,
          0.56,
          0.56,
          0.56,
          0.56,
          0.88,
          0.88,
          0.88,
          0.87,
          0.88,
          0.88,
          0.88,
          0.88,
          0.87,
          0.88,
          0.85,
          0.87,
          0.85,
          0.87,
          0.88,
          0.88,
          0.83,
          0.85,
          0.85,
          0.81,
          0.81,
          0.69,
          0.69,
          0.88,
          0.81,
          0.69,
          0.81,
          0.69,
          0.69,
          0.56,
          0.69,
          0.56,
          0.62,
          0.69,
          0.81,
          0.69,
          0.69,
          0.69
         ],
         "xaxis": "x2",
         "yaxis": "y2"
        },
        {
         "alignmentgroup": "True",
         "bingroup": "x",
         "hovertemplate": "year_q=2020_3<br>used_to_all=%{x}<br>count=%{y}<extra></extra>",
         "legendgroup": "2020_3",
         "marker": {
          "color": "#ab63fa",
          "pattern": {
           "shape": ""
          }
         },
         "name": "2020_3",
         "offsetgroup": "2020_3",
         "orientation": "v",
         "showlegend": true,
         "type": "histogram",
         "x": [
          0.81,
          0.81,
          0.81,
          0.78,
          0.78,
          0.78,
          0.81,
          0.81,
          0.81,
          0.81,
          0.75,
          0.81,
          0.78,
          0.81,
          0.81,
          0.81,
          0.81,
          0.81,
          0.78,
          0.96,
          0.96,
          0.96,
          0.94,
          0.96,
          0.96,
          0.96,
          0.96,
          0.92,
          0.96,
          0.94,
          0.96,
          0.92,
          0.94,
          0.96,
          0.96,
          0.9,
          0.92,
          0.92,
          0.87,
          0.93,
          0.73,
          0.73,
          0.93,
          0.93,
          0.73,
          0.87,
          0.73,
          0.73,
          0.6,
          0.73,
          0.67,
          0.67,
          0.73,
          0.93,
          0.73,
          0.73,
          0.73
         ],
         "xaxis": "x",
         "yaxis": "y"
        },
        {
         "alignmentgroup": "True",
         "boxpoints": "all",
         "customdata": [
          [
           "2020_3",
           "accelerated_filer",
           "roe"
          ],
          [
           "2020_3",
           "accelerated_filer",
           "roa"
          ],
          [
           "2020_3",
           "accelerated_filer",
           "roce"
          ],
          [
           "2020_3",
           "accelerated_filer",
           "gross_margin"
          ],
          [
           "2020_3",
           "accelerated_filer",
           "operating_profit_margin"
          ],
          [
           "2020_3",
           "accelerated_filer",
           "net_profit_margin"
          ],
          [
           "2020_3",
           "accelerated_filer",
           "debt_to_equity"
          ],
          [
           "2020_3",
           "accelerated_filer",
           "equity"
          ],
          [
           "2020_3",
           "accelerated_filer",
           "debt"
          ],
          [
           "2020_3",
           "accelerated_filer",
           "current"
          ],
          [
           "2020_3",
           "accelerated_filer",
           "quick"
          ],
          [
           "2020_3",
           "accelerated_filer",
           "cash"
          ],
          [
           "2020_3",
           "accelerated_filer",
           "times_interest_earned"
          ],
          [
           "2020_3",
           "accelerated_filer",
           "capex_to_operating_cash"
          ],
          [
           "2020_3",
           "accelerated_filer",
           "operating_cash_flow"
          ],
          [
           "2020_3",
           "accelerated_filer",
           "price_to_earnings"
          ],
          [
           "2020_3",
           "accelerated_filer",
           "ev_ebitda"
          ],
          [
           "2020_3",
           "accelerated_filer",
           "ev_ebit"
          ],
          [
           "2020_3",
           "accelerated_filer",
           "ev_revenue"
          ],
          [
           "2020_3",
           "large_accelerated_filer",
           "roe"
          ],
          [
           "2020_3",
           "large_accelerated_filer",
           "roa"
          ],
          [
           "2020_3",
           "large_accelerated_filer",
           "roce"
          ],
          [
           "2020_3",
           "large_accelerated_filer",
           "gross_margin"
          ],
          [
           "2020_3",
           "large_accelerated_filer",
           "operating_profit_margin"
          ],
          [
           "2020_3",
           "large_accelerated_filer",
           "net_profit_margin"
          ],
          [
           "2020_3",
           "large_accelerated_filer",
           "debt_to_equity"
          ],
          [
           "2020_3",
           "large_accelerated_filer",
           "equity"
          ],
          [
           "2020_3",
           "large_accelerated_filer",
           "debt"
          ],
          [
           "2020_3",
           "large_accelerated_filer",
           "current"
          ],
          [
           "2020_3",
           "large_accelerated_filer",
           "quick"
          ],
          [
           "2020_3",
           "large_accelerated_filer",
           "cash"
          ],
          [
           "2020_3",
           "large_accelerated_filer",
           "times_interest_earned"
          ],
          [
           "2020_3",
           "large_accelerated_filer",
           "capex_to_operating_cash"
          ],
          [
           "2020_3",
           "large_accelerated_filer",
           "operating_cash_flow"
          ],
          [
           "2020_3",
           "large_accelerated_filer",
           "price_to_earnings"
          ],
          [
           "2020_3",
           "large_accelerated_filer",
           "ev_ebitda"
          ],
          [
           "2020_3",
           "large_accelerated_filer",
           "ev_ebit"
          ],
          [
           "2020_3",
           "large_accelerated_filer",
           "ev_revenue"
          ],
          [
           "2020_3",
           "non_accelerated_filer",
           "roe"
          ],
          [
           "2020_3",
           "non_accelerated_filer",
           "roa"
          ],
          [
           "2020_3",
           "non_accelerated_filer",
           "roce"
          ],
          [
           "2020_3",
           "non_accelerated_filer",
           "gross_margin"
          ],
          [
           "2020_3",
           "non_accelerated_filer",
           "operating_profit_margin"
          ],
          [
           "2020_3",
           "non_accelerated_filer",
           "net_profit_margin"
          ],
          [
           "2020_3",
           "non_accelerated_filer",
           "debt_to_equity"
          ],
          [
           "2020_3",
           "non_accelerated_filer",
           "equity"
          ],
          [
           "2020_3",
           "non_accelerated_filer",
           "debt"
          ],
          [
           "2020_3",
           "non_accelerated_filer",
           "current"
          ],
          [
           "2020_3",
           "non_accelerated_filer",
           "quick"
          ],
          [
           "2020_3",
           "non_accelerated_filer",
           "cash"
          ],
          [
           "2020_3",
           "non_accelerated_filer",
           "times_interest_earned"
          ],
          [
           "2020_3",
           "non_accelerated_filer",
           "capex_to_operating_cash"
          ],
          [
           "2020_3",
           "non_accelerated_filer",
           "operating_cash_flow"
          ],
          [
           "2020_3",
           "non_accelerated_filer",
           "price_to_earnings"
          ],
          [
           "2020_3",
           "non_accelerated_filer",
           "ev_ebitda"
          ],
          [
           "2020_3",
           "non_accelerated_filer",
           "ev_ebit"
          ],
          [
           "2020_3",
           "non_accelerated_filer",
           "ev_revenue"
          ]
         ],
         "fillcolor": "rgba(255,255,255,0)",
         "hoveron": "points",
         "hovertemplate": "year_q=%{customdata[0]}<br>used_to_all=%{x}<br>filer_type=%{customdata[1]}<br>kpi=%{customdata[2]}<extra></extra>",
         "jitter": 0,
         "legendgroup": "2020_3",
         "line": {
          "color": "rgba(255,255,255,0)"
         },
         "marker": {
          "color": "#ab63fa",
          "symbol": "line-ns-open"
         },
         "name": "2020_3",
         "offsetgroup": "2020_3",
         "showlegend": false,
         "type": "box",
         "x": [
          0.81,
          0.81,
          0.81,
          0.78,
          0.78,
          0.78,
          0.81,
          0.81,
          0.81,
          0.81,
          0.75,
          0.81,
          0.78,
          0.81,
          0.81,
          0.81,
          0.81,
          0.81,
          0.78,
          0.96,
          0.96,
          0.96,
          0.94,
          0.96,
          0.96,
          0.96,
          0.96,
          0.92,
          0.96,
          0.94,
          0.96,
          0.92,
          0.94,
          0.96,
          0.96,
          0.9,
          0.92,
          0.92,
          0.87,
          0.93,
          0.73,
          0.73,
          0.93,
          0.93,
          0.73,
          0.87,
          0.73,
          0.73,
          0.6,
          0.73,
          0.67,
          0.67,
          0.73,
          0.93,
          0.73,
          0.73,
          0.73
         ],
         "xaxis": "x2",
         "yaxis": "y2"
        },
        {
         "alignmentgroup": "True",
         "bingroup": "x",
         "hovertemplate": "year_q=2020_4<br>used_to_all=%{x}<br>count=%{y}<extra></extra>",
         "legendgroup": "2020_4",
         "marker": {
          "color": "#FFA15A",
          "pattern": {
           "shape": ""
          }
         },
         "name": "2020_4",
         "offsetgroup": "2020_4",
         "orientation": "v",
         "showlegend": true,
         "type": "histogram",
         "x": [
          0.91,
          0.91,
          0.91,
          0.81,
          0.84,
          0.84,
          0.91,
          0.91,
          0.81,
          0.91,
          0.72,
          0.91,
          0.78,
          0.78,
          0.91,
          0.91,
          0.81,
          0.81,
          0.78,
          1,
          1,
          1,
          0.98,
          1,
          1,
          1,
          1,
          0.96,
          1,
          0.96,
          0.98,
          0.96,
          0.98,
          1,
          1,
          0.94,
          0.94,
          0.94,
          0.53,
          0.6,
          0.53,
          0.6,
          0.6,
          0.6,
          0.53,
          0.67,
          0.6,
          0.53,
          0.47,
          0.47,
          0.53,
          0.53,
          0.53,
          0.6,
          0.53,
          0.53,
          0.53
         ],
         "xaxis": "x",
         "yaxis": "y"
        },
        {
         "alignmentgroup": "True",
         "boxpoints": "all",
         "customdata": [
          [
           "2020_4",
           "accelerated_filer",
           "roe"
          ],
          [
           "2020_4",
           "accelerated_filer",
           "roa"
          ],
          [
           "2020_4",
           "accelerated_filer",
           "roce"
          ],
          [
           "2020_4",
           "accelerated_filer",
           "gross_margin"
          ],
          [
           "2020_4",
           "accelerated_filer",
           "operating_profit_margin"
          ],
          [
           "2020_4",
           "accelerated_filer",
           "net_profit_margin"
          ],
          [
           "2020_4",
           "accelerated_filer",
           "debt_to_equity"
          ],
          [
           "2020_4",
           "accelerated_filer",
           "equity"
          ],
          [
           "2020_4",
           "accelerated_filer",
           "debt"
          ],
          [
           "2020_4",
           "accelerated_filer",
           "current"
          ],
          [
           "2020_4",
           "accelerated_filer",
           "quick"
          ],
          [
           "2020_4",
           "accelerated_filer",
           "cash"
          ],
          [
           "2020_4",
           "accelerated_filer",
           "times_interest_earned"
          ],
          [
           "2020_4",
           "accelerated_filer",
           "capex_to_operating_cash"
          ],
          [
           "2020_4",
           "accelerated_filer",
           "operating_cash_flow"
          ],
          [
           "2020_4",
           "accelerated_filer",
           "price_to_earnings"
          ],
          [
           "2020_4",
           "accelerated_filer",
           "ev_ebitda"
          ],
          [
           "2020_4",
           "accelerated_filer",
           "ev_ebit"
          ],
          [
           "2020_4",
           "accelerated_filer",
           "ev_revenue"
          ],
          [
           "2020_4",
           "large_accelerated_filer",
           "roe"
          ],
          [
           "2020_4",
           "large_accelerated_filer",
           "roa"
          ],
          [
           "2020_4",
           "large_accelerated_filer",
           "roce"
          ],
          [
           "2020_4",
           "large_accelerated_filer",
           "gross_margin"
          ],
          [
           "2020_4",
           "large_accelerated_filer",
           "operating_profit_margin"
          ],
          [
           "2020_4",
           "large_accelerated_filer",
           "net_profit_margin"
          ],
          [
           "2020_4",
           "large_accelerated_filer",
           "debt_to_equity"
          ],
          [
           "2020_4",
           "large_accelerated_filer",
           "equity"
          ],
          [
           "2020_4",
           "large_accelerated_filer",
           "debt"
          ],
          [
           "2020_4",
           "large_accelerated_filer",
           "current"
          ],
          [
           "2020_4",
           "large_accelerated_filer",
           "quick"
          ],
          [
           "2020_4",
           "large_accelerated_filer",
           "cash"
          ],
          [
           "2020_4",
           "large_accelerated_filer",
           "times_interest_earned"
          ],
          [
           "2020_4",
           "large_accelerated_filer",
           "capex_to_operating_cash"
          ],
          [
           "2020_4",
           "large_accelerated_filer",
           "operating_cash_flow"
          ],
          [
           "2020_4",
           "large_accelerated_filer",
           "price_to_earnings"
          ],
          [
           "2020_4",
           "large_accelerated_filer",
           "ev_ebitda"
          ],
          [
           "2020_4",
           "large_accelerated_filer",
           "ev_ebit"
          ],
          [
           "2020_4",
           "large_accelerated_filer",
           "ev_revenue"
          ],
          [
           "2020_4",
           "non_accelerated_filer",
           "roe"
          ],
          [
           "2020_4",
           "non_accelerated_filer",
           "roa"
          ],
          [
           "2020_4",
           "non_accelerated_filer",
           "roce"
          ],
          [
           "2020_4",
           "non_accelerated_filer",
           "gross_margin"
          ],
          [
           "2020_4",
           "non_accelerated_filer",
           "operating_profit_margin"
          ],
          [
           "2020_4",
           "non_accelerated_filer",
           "net_profit_margin"
          ],
          [
           "2020_4",
           "non_accelerated_filer",
           "debt_to_equity"
          ],
          [
           "2020_4",
           "non_accelerated_filer",
           "equity"
          ],
          [
           "2020_4",
           "non_accelerated_filer",
           "debt"
          ],
          [
           "2020_4",
           "non_accelerated_filer",
           "current"
          ],
          [
           "2020_4",
           "non_accelerated_filer",
           "quick"
          ],
          [
           "2020_4",
           "non_accelerated_filer",
           "cash"
          ],
          [
           "2020_4",
           "non_accelerated_filer",
           "times_interest_earned"
          ],
          [
           "2020_4",
           "non_accelerated_filer",
           "capex_to_operating_cash"
          ],
          [
           "2020_4",
           "non_accelerated_filer",
           "operating_cash_flow"
          ],
          [
           "2020_4",
           "non_accelerated_filer",
           "price_to_earnings"
          ],
          [
           "2020_4",
           "non_accelerated_filer",
           "ev_ebitda"
          ],
          [
           "2020_4",
           "non_accelerated_filer",
           "ev_ebit"
          ],
          [
           "2020_4",
           "non_accelerated_filer",
           "ev_revenue"
          ]
         ],
         "fillcolor": "rgba(255,255,255,0)",
         "hoveron": "points",
         "hovertemplate": "year_q=%{customdata[0]}<br>used_to_all=%{x}<br>filer_type=%{customdata[1]}<br>kpi=%{customdata[2]}<extra></extra>",
         "jitter": 0,
         "legendgroup": "2020_4",
         "line": {
          "color": "rgba(255,255,255,0)"
         },
         "marker": {
          "color": "#FFA15A",
          "symbol": "line-ns-open"
         },
         "name": "2020_4",
         "offsetgroup": "2020_4",
         "showlegend": false,
         "type": "box",
         "x": [
          0.91,
          0.91,
          0.91,
          0.81,
          0.84,
          0.84,
          0.91,
          0.91,
          0.81,
          0.91,
          0.72,
          0.91,
          0.78,
          0.78,
          0.91,
          0.91,
          0.81,
          0.81,
          0.78,
          1,
          1,
          1,
          0.98,
          1,
          1,
          1,
          1,
          0.96,
          1,
          0.96,
          0.98,
          0.96,
          0.98,
          1,
          1,
          0.94,
          0.94,
          0.94,
          0.53,
          0.6,
          0.53,
          0.6,
          0.6,
          0.6,
          0.53,
          0.67,
          0.6,
          0.53,
          0.47,
          0.47,
          0.53,
          0.53,
          0.53,
          0.6,
          0.53,
          0.53,
          0.53
         ],
         "xaxis": "x2",
         "yaxis": "y2"
        },
        {
         "alignmentgroup": "True",
         "bingroup": "x",
         "hovertemplate": "year_q=2021_1<br>used_to_all=%{x}<br>count=%{y}<extra></extra>",
         "legendgroup": "2021_1",
         "marker": {
          "color": "#19d3f3",
          "pattern": {
           "shape": ""
          }
         },
         "name": "2021_1",
         "offsetgroup": "2021_1",
         "orientation": "v",
         "showlegend": true,
         "type": "histogram",
         "x": [
          0.9,
          0.97,
          0.87,
          0.77,
          0.94,
          0.9,
          0.87,
          0.94,
          0.77,
          0.87,
          0.71,
          0.87,
          0.77,
          0.77,
          0.87,
          0.97,
          0.77,
          0.77,
          0.74,
          0.96,
          0.96,
          0.96,
          0.92,
          0.96,
          0.96,
          0.96,
          0.96,
          0.88,
          0.96,
          0.92,
          0.96,
          0.92,
          0.92,
          0.96,
          0.96,
          0.88,
          0.88,
          0.88,
          0.97,
          0.97,
          0.97,
          0.97,
          0.97,
          0.97,
          0.97,
          0.97,
          0.97,
          0.97,
          0.97,
          0.97,
          0.95,
          0.97,
          0.97,
          0.97,
          0.97,
          0.97,
          0.97
         ],
         "xaxis": "x",
         "yaxis": "y"
        },
        {
         "alignmentgroup": "True",
         "boxpoints": "all",
         "customdata": [
          [
           "2021_1",
           "non_accelerated_filer",
           "roe"
          ],
          [
           "2021_1",
           "non_accelerated_filer",
           "roa"
          ],
          [
           "2021_1",
           "non_accelerated_filer",
           "roce"
          ],
          [
           "2021_1",
           "non_accelerated_filer",
           "gross_margin"
          ],
          [
           "2021_1",
           "non_accelerated_filer",
           "operating_profit_margin"
          ],
          [
           "2021_1",
           "non_accelerated_filer",
           "net_profit_margin"
          ],
          [
           "2021_1",
           "non_accelerated_filer",
           "debt_to_equity"
          ],
          [
           "2021_1",
           "non_accelerated_filer",
           "equity"
          ],
          [
           "2021_1",
           "non_accelerated_filer",
           "debt"
          ],
          [
           "2021_1",
           "non_accelerated_filer",
           "current"
          ],
          [
           "2021_1",
           "non_accelerated_filer",
           "quick"
          ],
          [
           "2021_1",
           "non_accelerated_filer",
           "cash"
          ],
          [
           "2021_1",
           "non_accelerated_filer",
           "times_interest_earned"
          ],
          [
           "2021_1",
           "non_accelerated_filer",
           "capex_to_operating_cash"
          ],
          [
           "2021_1",
           "non_accelerated_filer",
           "operating_cash_flow"
          ],
          [
           "2021_1",
           "non_accelerated_filer",
           "price_to_earnings"
          ],
          [
           "2021_1",
           "non_accelerated_filer",
           "ev_ebitda"
          ],
          [
           "2021_1",
           "non_accelerated_filer",
           "ev_ebit"
          ],
          [
           "2021_1",
           "non_accelerated_filer",
           "ev_revenue"
          ],
          [
           "2021_1",
           "accelerated_filer",
           "roe"
          ],
          [
           "2021_1",
           "accelerated_filer",
           "roa"
          ],
          [
           "2021_1",
           "accelerated_filer",
           "roce"
          ],
          [
           "2021_1",
           "accelerated_filer",
           "gross_margin"
          ],
          [
           "2021_1",
           "accelerated_filer",
           "operating_profit_margin"
          ],
          [
           "2021_1",
           "accelerated_filer",
           "net_profit_margin"
          ],
          [
           "2021_1",
           "accelerated_filer",
           "debt_to_equity"
          ],
          [
           "2021_1",
           "accelerated_filer",
           "equity"
          ],
          [
           "2021_1",
           "accelerated_filer",
           "debt"
          ],
          [
           "2021_1",
           "accelerated_filer",
           "current"
          ],
          [
           "2021_1",
           "accelerated_filer",
           "quick"
          ],
          [
           "2021_1",
           "accelerated_filer",
           "cash"
          ],
          [
           "2021_1",
           "accelerated_filer",
           "times_interest_earned"
          ],
          [
           "2021_1",
           "accelerated_filer",
           "capex_to_operating_cash"
          ],
          [
           "2021_1",
           "accelerated_filer",
           "operating_cash_flow"
          ],
          [
           "2021_1",
           "accelerated_filer",
           "price_to_earnings"
          ],
          [
           "2021_1",
           "accelerated_filer",
           "ev_ebitda"
          ],
          [
           "2021_1",
           "accelerated_filer",
           "ev_ebit"
          ],
          [
           "2021_1",
           "accelerated_filer",
           "ev_revenue"
          ],
          [
           "2021_1",
           "large_accelerated_filer",
           "roe"
          ],
          [
           "2021_1",
           "large_accelerated_filer",
           "roa"
          ],
          [
           "2021_1",
           "large_accelerated_filer",
           "roce"
          ],
          [
           "2021_1",
           "large_accelerated_filer",
           "gross_margin"
          ],
          [
           "2021_1",
           "large_accelerated_filer",
           "operating_profit_margin"
          ],
          [
           "2021_1",
           "large_accelerated_filer",
           "net_profit_margin"
          ],
          [
           "2021_1",
           "large_accelerated_filer",
           "debt_to_equity"
          ],
          [
           "2021_1",
           "large_accelerated_filer",
           "equity"
          ],
          [
           "2021_1",
           "large_accelerated_filer",
           "debt"
          ],
          [
           "2021_1",
           "large_accelerated_filer",
           "current"
          ],
          [
           "2021_1",
           "large_accelerated_filer",
           "quick"
          ],
          [
           "2021_1",
           "large_accelerated_filer",
           "cash"
          ],
          [
           "2021_1",
           "large_accelerated_filer",
           "times_interest_earned"
          ],
          [
           "2021_1",
           "large_accelerated_filer",
           "capex_to_operating_cash"
          ],
          [
           "2021_1",
           "large_accelerated_filer",
           "operating_cash_flow"
          ],
          [
           "2021_1",
           "large_accelerated_filer",
           "price_to_earnings"
          ],
          [
           "2021_1",
           "large_accelerated_filer",
           "ev_ebitda"
          ],
          [
           "2021_1",
           "large_accelerated_filer",
           "ev_ebit"
          ],
          [
           "2021_1",
           "large_accelerated_filer",
           "ev_revenue"
          ]
         ],
         "fillcolor": "rgba(255,255,255,0)",
         "hoveron": "points",
         "hovertemplate": "year_q=%{customdata[0]}<br>used_to_all=%{x}<br>filer_type=%{customdata[1]}<br>kpi=%{customdata[2]}<extra></extra>",
         "jitter": 0,
         "legendgroup": "2021_1",
         "line": {
          "color": "rgba(255,255,255,0)"
         },
         "marker": {
          "color": "#19d3f3",
          "symbol": "line-ns-open"
         },
         "name": "2021_1",
         "offsetgroup": "2021_1",
         "showlegend": false,
         "type": "box",
         "x": [
          0.9,
          0.97,
          0.87,
          0.77,
          0.94,
          0.9,
          0.87,
          0.94,
          0.77,
          0.87,
          0.71,
          0.87,
          0.77,
          0.77,
          0.87,
          0.97,
          0.77,
          0.77,
          0.74,
          0.96,
          0.96,
          0.96,
          0.92,
          0.96,
          0.96,
          0.96,
          0.96,
          0.88,
          0.96,
          0.92,
          0.96,
          0.92,
          0.92,
          0.96,
          0.96,
          0.88,
          0.88,
          0.88,
          0.97,
          0.97,
          0.97,
          0.97,
          0.97,
          0.97,
          0.97,
          0.97,
          0.97,
          0.97,
          0.97,
          0.97,
          0.95,
          0.97,
          0.97,
          0.97,
          0.97,
          0.97,
          0.97
         ],
         "xaxis": "x2",
         "yaxis": "y2"
        },
        {
         "alignmentgroup": "True",
         "bingroup": "x",
         "hovertemplate": "year_q=2021_2<br>used_to_all=%{x}<br>count=%{y}<extra></extra>",
         "legendgroup": "2021_2",
         "marker": {
          "color": "#FF6692",
          "pattern": {
           "shape": ""
          }
         },
         "name": "2021_2",
         "offsetgroup": "2021_2",
         "orientation": "v",
         "showlegend": true,
         "type": "histogram",
         "x": [
          0.77,
          0.77,
          0.71,
          0.63,
          0.74,
          0.74,
          0.71,
          0.77,
          0.66,
          0.71,
          0.6,
          0.71,
          0.63,
          0.66,
          0.71,
          0.77,
          0.66,
          0.66,
          0.63,
          0.93,
          0.93,
          0.93,
          0.89,
          0.93,
          0.93,
          0.93,
          0.93,
          0.86,
          0.93,
          0.86,
          0.89,
          0.89,
          0.89,
          0.93,
          0.93,
          0.82,
          0.82,
          0.82,
          0.97,
          0.97,
          0.97,
          0.97,
          1,
          1,
          0.97,
          0.97,
          0.97,
          0.97,
          0.97,
          0.97,
          0.97,
          0.97,
          0.97,
          0.97,
          0.97,
          0.97,
          0.97
         ],
         "xaxis": "x",
         "yaxis": "y"
        },
        {
         "alignmentgroup": "True",
         "boxpoints": "all",
         "customdata": [
          [
           "2021_2",
           "non_accelerated_filer",
           "roe"
          ],
          [
           "2021_2",
           "non_accelerated_filer",
           "roa"
          ],
          [
           "2021_2",
           "non_accelerated_filer",
           "roce"
          ],
          [
           "2021_2",
           "non_accelerated_filer",
           "gross_margin"
          ],
          [
           "2021_2",
           "non_accelerated_filer",
           "operating_profit_margin"
          ],
          [
           "2021_2",
           "non_accelerated_filer",
           "net_profit_margin"
          ],
          [
           "2021_2",
           "non_accelerated_filer",
           "debt_to_equity"
          ],
          [
           "2021_2",
           "non_accelerated_filer",
           "equity"
          ],
          [
           "2021_2",
           "non_accelerated_filer",
           "debt"
          ],
          [
           "2021_2",
           "non_accelerated_filer",
           "current"
          ],
          [
           "2021_2",
           "non_accelerated_filer",
           "quick"
          ],
          [
           "2021_2",
           "non_accelerated_filer",
           "cash"
          ],
          [
           "2021_2",
           "non_accelerated_filer",
           "times_interest_earned"
          ],
          [
           "2021_2",
           "non_accelerated_filer",
           "capex_to_operating_cash"
          ],
          [
           "2021_2",
           "non_accelerated_filer",
           "operating_cash_flow"
          ],
          [
           "2021_2",
           "non_accelerated_filer",
           "price_to_earnings"
          ],
          [
           "2021_2",
           "non_accelerated_filer",
           "ev_ebitda"
          ],
          [
           "2021_2",
           "non_accelerated_filer",
           "ev_ebit"
          ],
          [
           "2021_2",
           "non_accelerated_filer",
           "ev_revenue"
          ],
          [
           "2021_2",
           "accelerated_filer",
           "roe"
          ],
          [
           "2021_2",
           "accelerated_filer",
           "roa"
          ],
          [
           "2021_2",
           "accelerated_filer",
           "roce"
          ],
          [
           "2021_2",
           "accelerated_filer",
           "gross_margin"
          ],
          [
           "2021_2",
           "accelerated_filer",
           "operating_profit_margin"
          ],
          [
           "2021_2",
           "accelerated_filer",
           "net_profit_margin"
          ],
          [
           "2021_2",
           "accelerated_filer",
           "debt_to_equity"
          ],
          [
           "2021_2",
           "accelerated_filer",
           "equity"
          ],
          [
           "2021_2",
           "accelerated_filer",
           "debt"
          ],
          [
           "2021_2",
           "accelerated_filer",
           "current"
          ],
          [
           "2021_2",
           "accelerated_filer",
           "quick"
          ],
          [
           "2021_2",
           "accelerated_filer",
           "cash"
          ],
          [
           "2021_2",
           "accelerated_filer",
           "times_interest_earned"
          ],
          [
           "2021_2",
           "accelerated_filer",
           "capex_to_operating_cash"
          ],
          [
           "2021_2",
           "accelerated_filer",
           "operating_cash_flow"
          ],
          [
           "2021_2",
           "accelerated_filer",
           "price_to_earnings"
          ],
          [
           "2021_2",
           "accelerated_filer",
           "ev_ebitda"
          ],
          [
           "2021_2",
           "accelerated_filer",
           "ev_ebit"
          ],
          [
           "2021_2",
           "accelerated_filer",
           "ev_revenue"
          ],
          [
           "2021_2",
           "large_accelerated_filer",
           "roe"
          ],
          [
           "2021_2",
           "large_accelerated_filer",
           "roa"
          ],
          [
           "2021_2",
           "large_accelerated_filer",
           "roce"
          ],
          [
           "2021_2",
           "large_accelerated_filer",
           "gross_margin"
          ],
          [
           "2021_2",
           "large_accelerated_filer",
           "operating_profit_margin"
          ],
          [
           "2021_2",
           "large_accelerated_filer",
           "net_profit_margin"
          ],
          [
           "2021_2",
           "large_accelerated_filer",
           "debt_to_equity"
          ],
          [
           "2021_2",
           "large_accelerated_filer",
           "equity"
          ],
          [
           "2021_2",
           "large_accelerated_filer",
           "debt"
          ],
          [
           "2021_2",
           "large_accelerated_filer",
           "current"
          ],
          [
           "2021_2",
           "large_accelerated_filer",
           "quick"
          ],
          [
           "2021_2",
           "large_accelerated_filer",
           "cash"
          ],
          [
           "2021_2",
           "large_accelerated_filer",
           "times_interest_earned"
          ],
          [
           "2021_2",
           "large_accelerated_filer",
           "capex_to_operating_cash"
          ],
          [
           "2021_2",
           "large_accelerated_filer",
           "operating_cash_flow"
          ],
          [
           "2021_2",
           "large_accelerated_filer",
           "price_to_earnings"
          ],
          [
           "2021_2",
           "large_accelerated_filer",
           "ev_ebitda"
          ],
          [
           "2021_2",
           "large_accelerated_filer",
           "ev_ebit"
          ],
          [
           "2021_2",
           "large_accelerated_filer",
           "ev_revenue"
          ]
         ],
         "fillcolor": "rgba(255,255,255,0)",
         "hoveron": "points",
         "hovertemplate": "year_q=%{customdata[0]}<br>used_to_all=%{x}<br>filer_type=%{customdata[1]}<br>kpi=%{customdata[2]}<extra></extra>",
         "jitter": 0,
         "legendgroup": "2021_2",
         "line": {
          "color": "rgba(255,255,255,0)"
         },
         "marker": {
          "color": "#FF6692",
          "symbol": "line-ns-open"
         },
         "name": "2021_2",
         "offsetgroup": "2021_2",
         "showlegend": false,
         "type": "box",
         "x": [
          0.77,
          0.77,
          0.71,
          0.63,
          0.74,
          0.74,
          0.71,
          0.77,
          0.66,
          0.71,
          0.6,
          0.71,
          0.63,
          0.66,
          0.71,
          0.77,
          0.66,
          0.66,
          0.63,
          0.93,
          0.93,
          0.93,
          0.89,
          0.93,
          0.93,
          0.93,
          0.93,
          0.86,
          0.93,
          0.86,
          0.89,
          0.89,
          0.89,
          0.93,
          0.93,
          0.82,
          0.82,
          0.82,
          0.97,
          0.97,
          0.97,
          0.97,
          1,
          1,
          0.97,
          0.97,
          0.97,
          0.97,
          0.97,
          0.97,
          0.97,
          0.97,
          0.97,
          0.97,
          0.97,
          0.97,
          0.97
         ],
         "xaxis": "x2",
         "yaxis": "y2"
        },
        {
         "alignmentgroup": "True",
         "bingroup": "x",
         "hovertemplate": "year_q=2021_3<br>used_to_all=%{x}<br>count=%{y}<extra></extra>",
         "legendgroup": "2021_3",
         "marker": {
          "color": "#B6E880",
          "pattern": {
           "shape": ""
          }
         },
         "name": "2021_3",
         "offsetgroup": "2021_3",
         "orientation": "v",
         "showlegend": true,
         "type": "histogram",
         "x": [
          0.79,
          0.79,
          0.73,
          0.64,
          0.76,
          0.76,
          0.76,
          0.82,
          0.67,
          0.73,
          0.61,
          0.73,
          0.61,
          0.67,
          0.73,
          0.79,
          0.67,
          0.67,
          0.64,
          0.96,
          0.96,
          0.96,
          0.96,
          0.96,
          0.96,
          1,
          1,
          0.93,
          1,
          0.93,
          0.96,
          0.96,
          0.96,
          1,
          0.96,
          0.89,
          0.89,
          0.89,
          1,
          1,
          1,
          1,
          1,
          1,
          1,
          1,
          1,
          1,
          1,
          1,
          0.97,
          1,
          1,
          1,
          1,
          1,
          1
         ],
         "xaxis": "x",
         "yaxis": "y"
        },
        {
         "alignmentgroup": "True",
         "boxpoints": "all",
         "customdata": [
          [
           "2021_3",
           "non_accelerated_filer",
           "roe"
          ],
          [
           "2021_3",
           "non_accelerated_filer",
           "roa"
          ],
          [
           "2021_3",
           "non_accelerated_filer",
           "roce"
          ],
          [
           "2021_3",
           "non_accelerated_filer",
           "gross_margin"
          ],
          [
           "2021_3",
           "non_accelerated_filer",
           "operating_profit_margin"
          ],
          [
           "2021_3",
           "non_accelerated_filer",
           "net_profit_margin"
          ],
          [
           "2021_3",
           "non_accelerated_filer",
           "debt_to_equity"
          ],
          [
           "2021_3",
           "non_accelerated_filer",
           "equity"
          ],
          [
           "2021_3",
           "non_accelerated_filer",
           "debt"
          ],
          [
           "2021_3",
           "non_accelerated_filer",
           "current"
          ],
          [
           "2021_3",
           "non_accelerated_filer",
           "quick"
          ],
          [
           "2021_3",
           "non_accelerated_filer",
           "cash"
          ],
          [
           "2021_3",
           "non_accelerated_filer",
           "times_interest_earned"
          ],
          [
           "2021_3",
           "non_accelerated_filer",
           "capex_to_operating_cash"
          ],
          [
           "2021_3",
           "non_accelerated_filer",
           "operating_cash_flow"
          ],
          [
           "2021_3",
           "non_accelerated_filer",
           "price_to_earnings"
          ],
          [
           "2021_3",
           "non_accelerated_filer",
           "ev_ebitda"
          ],
          [
           "2021_3",
           "non_accelerated_filer",
           "ev_ebit"
          ],
          [
           "2021_3",
           "non_accelerated_filer",
           "ev_revenue"
          ],
          [
           "2021_3",
           "accelerated_filer",
           "roe"
          ],
          [
           "2021_3",
           "accelerated_filer",
           "roa"
          ],
          [
           "2021_3",
           "accelerated_filer",
           "roce"
          ],
          [
           "2021_3",
           "accelerated_filer",
           "gross_margin"
          ],
          [
           "2021_3",
           "accelerated_filer",
           "operating_profit_margin"
          ],
          [
           "2021_3",
           "accelerated_filer",
           "net_profit_margin"
          ],
          [
           "2021_3",
           "accelerated_filer",
           "debt_to_equity"
          ],
          [
           "2021_3",
           "accelerated_filer",
           "equity"
          ],
          [
           "2021_3",
           "accelerated_filer",
           "debt"
          ],
          [
           "2021_3",
           "accelerated_filer",
           "current"
          ],
          [
           "2021_3",
           "accelerated_filer",
           "quick"
          ],
          [
           "2021_3",
           "accelerated_filer",
           "cash"
          ],
          [
           "2021_3",
           "accelerated_filer",
           "times_interest_earned"
          ],
          [
           "2021_3",
           "accelerated_filer",
           "capex_to_operating_cash"
          ],
          [
           "2021_3",
           "accelerated_filer",
           "operating_cash_flow"
          ],
          [
           "2021_3",
           "accelerated_filer",
           "price_to_earnings"
          ],
          [
           "2021_3",
           "accelerated_filer",
           "ev_ebitda"
          ],
          [
           "2021_3",
           "accelerated_filer",
           "ev_ebit"
          ],
          [
           "2021_3",
           "accelerated_filer",
           "ev_revenue"
          ],
          [
           "2021_3",
           "large_accelerated_filer",
           "roe"
          ],
          [
           "2021_3",
           "large_accelerated_filer",
           "roa"
          ],
          [
           "2021_3",
           "large_accelerated_filer",
           "roce"
          ],
          [
           "2021_3",
           "large_accelerated_filer",
           "gross_margin"
          ],
          [
           "2021_3",
           "large_accelerated_filer",
           "operating_profit_margin"
          ],
          [
           "2021_3",
           "large_accelerated_filer",
           "net_profit_margin"
          ],
          [
           "2021_3",
           "large_accelerated_filer",
           "debt_to_equity"
          ],
          [
           "2021_3",
           "large_accelerated_filer",
           "equity"
          ],
          [
           "2021_3",
           "large_accelerated_filer",
           "debt"
          ],
          [
           "2021_3",
           "large_accelerated_filer",
           "current"
          ],
          [
           "2021_3",
           "large_accelerated_filer",
           "quick"
          ],
          [
           "2021_3",
           "large_accelerated_filer",
           "cash"
          ],
          [
           "2021_3",
           "large_accelerated_filer",
           "times_interest_earned"
          ],
          [
           "2021_3",
           "large_accelerated_filer",
           "capex_to_operating_cash"
          ],
          [
           "2021_3",
           "large_accelerated_filer",
           "operating_cash_flow"
          ],
          [
           "2021_3",
           "large_accelerated_filer",
           "price_to_earnings"
          ],
          [
           "2021_3",
           "large_accelerated_filer",
           "ev_ebitda"
          ],
          [
           "2021_3",
           "large_accelerated_filer",
           "ev_ebit"
          ],
          [
           "2021_3",
           "large_accelerated_filer",
           "ev_revenue"
          ]
         ],
         "fillcolor": "rgba(255,255,255,0)",
         "hoveron": "points",
         "hovertemplate": "year_q=%{customdata[0]}<br>used_to_all=%{x}<br>filer_type=%{customdata[1]}<br>kpi=%{customdata[2]}<extra></extra>",
         "jitter": 0,
         "legendgroup": "2021_3",
         "line": {
          "color": "rgba(255,255,255,0)"
         },
         "marker": {
          "color": "#B6E880",
          "symbol": "line-ns-open"
         },
         "name": "2021_3",
         "offsetgroup": "2021_3",
         "showlegend": false,
         "type": "box",
         "x": [
          0.79,
          0.79,
          0.73,
          0.64,
          0.76,
          0.76,
          0.76,
          0.82,
          0.67,
          0.73,
          0.61,
          0.73,
          0.61,
          0.67,
          0.73,
          0.79,
          0.67,
          0.67,
          0.64,
          0.96,
          0.96,
          0.96,
          0.96,
          0.96,
          0.96,
          1,
          1,
          0.93,
          1,
          0.93,
          0.96,
          0.96,
          0.96,
          1,
          0.96,
          0.89,
          0.89,
          0.89,
          1,
          1,
          1,
          1,
          1,
          1,
          1,
          1,
          1,
          1,
          1,
          1,
          0.97,
          1,
          1,
          1,
          1,
          1,
          1
         ],
         "xaxis": "x2",
         "yaxis": "y2"
        }
       ],
       "layout": {
        "barmode": "relative",
        "legend": {
         "title": {
          "text": "year_q"
         },
         "tracegroupgap": 0
        },
        "template": {
         "data": {
          "bar": [
           {
            "error_x": {
             "color": "#2a3f5f"
            },
            "error_y": {
             "color": "#2a3f5f"
            },
            "marker": {
             "line": {
              "color": "#E5ECF6",
              "width": 0.5
             },
             "pattern": {
              "fillmode": "overlay",
              "size": 10,
              "solidity": 0.2
             }
            },
            "type": "bar"
           }
          ],
          "barpolar": [
           {
            "marker": {
             "line": {
              "color": "#E5ECF6",
              "width": 0.5
             },
             "pattern": {
              "fillmode": "overlay",
              "size": 10,
              "solidity": 0.2
             }
            },
            "type": "barpolar"
           }
          ],
          "carpet": [
           {
            "aaxis": {
             "endlinecolor": "#2a3f5f",
             "gridcolor": "white",
             "linecolor": "white",
             "minorgridcolor": "white",
             "startlinecolor": "#2a3f5f"
            },
            "baxis": {
             "endlinecolor": "#2a3f5f",
             "gridcolor": "white",
             "linecolor": "white",
             "minorgridcolor": "white",
             "startlinecolor": "#2a3f5f"
            },
            "type": "carpet"
           }
          ],
          "choropleth": [
           {
            "colorbar": {
             "outlinewidth": 0,
             "ticks": ""
            },
            "type": "choropleth"
           }
          ],
          "contour": [
           {
            "colorbar": {
             "outlinewidth": 0,
             "ticks": ""
            },
            "colorscale": [
             [
              0,
              "#0d0887"
             ],
             [
              0.1111111111111111,
              "#46039f"
             ],
             [
              0.2222222222222222,
              "#7201a8"
             ],
             [
              0.3333333333333333,
              "#9c179e"
             ],
             [
              0.4444444444444444,
              "#bd3786"
             ],
             [
              0.5555555555555556,
              "#d8576b"
             ],
             [
              0.6666666666666666,
              "#ed7953"
             ],
             [
              0.7777777777777778,
              "#fb9f3a"
             ],
             [
              0.8888888888888888,
              "#fdca26"
             ],
             [
              1,
              "#f0f921"
             ]
            ],
            "type": "contour"
           }
          ],
          "contourcarpet": [
           {
            "colorbar": {
             "outlinewidth": 0,
             "ticks": ""
            },
            "type": "contourcarpet"
           }
          ],
          "heatmap": [
           {
            "colorbar": {
             "outlinewidth": 0,
             "ticks": ""
            },
            "colorscale": [
             [
              0,
              "#0d0887"
             ],
             [
              0.1111111111111111,
              "#46039f"
             ],
             [
              0.2222222222222222,
              "#7201a8"
             ],
             [
              0.3333333333333333,
              "#9c179e"
             ],
             [
              0.4444444444444444,
              "#bd3786"
             ],
             [
              0.5555555555555556,
              "#d8576b"
             ],
             [
              0.6666666666666666,
              "#ed7953"
             ],
             [
              0.7777777777777778,
              "#fb9f3a"
             ],
             [
              0.8888888888888888,
              "#fdca26"
             ],
             [
              1,
              "#f0f921"
             ]
            ],
            "type": "heatmap"
           }
          ],
          "heatmapgl": [
           {
            "colorbar": {
             "outlinewidth": 0,
             "ticks": ""
            },
            "colorscale": [
             [
              0,
              "#0d0887"
             ],
             [
              0.1111111111111111,
              "#46039f"
             ],
             [
              0.2222222222222222,
              "#7201a8"
             ],
             [
              0.3333333333333333,
              "#9c179e"
             ],
             [
              0.4444444444444444,
              "#bd3786"
             ],
             [
              0.5555555555555556,
              "#d8576b"
             ],
             [
              0.6666666666666666,
              "#ed7953"
             ],
             [
              0.7777777777777778,
              "#fb9f3a"
             ],
             [
              0.8888888888888888,
              "#fdca26"
             ],
             [
              1,
              "#f0f921"
             ]
            ],
            "type": "heatmapgl"
           }
          ],
          "histogram": [
           {
            "marker": {
             "pattern": {
              "fillmode": "overlay",
              "size": 10,
              "solidity": 0.2
             }
            },
            "type": "histogram"
           }
          ],
          "histogram2d": [
           {
            "colorbar": {
             "outlinewidth": 0,
             "ticks": ""
            },
            "colorscale": [
             [
              0,
              "#0d0887"
             ],
             [
              0.1111111111111111,
              "#46039f"
             ],
             [
              0.2222222222222222,
              "#7201a8"
             ],
             [
              0.3333333333333333,
              "#9c179e"
             ],
             [
              0.4444444444444444,
              "#bd3786"
             ],
             [
              0.5555555555555556,
              "#d8576b"
             ],
             [
              0.6666666666666666,
              "#ed7953"
             ],
             [
              0.7777777777777778,
              "#fb9f3a"
             ],
             [
              0.8888888888888888,
              "#fdca26"
             ],
             [
              1,
              "#f0f921"
             ]
            ],
            "type": "histogram2d"
           }
          ],
          "histogram2dcontour": [
           {
            "colorbar": {
             "outlinewidth": 0,
             "ticks": ""
            },
            "colorscale": [
             [
              0,
              "#0d0887"
             ],
             [
              0.1111111111111111,
              "#46039f"
             ],
             [
              0.2222222222222222,
              "#7201a8"
             ],
             [
              0.3333333333333333,
              "#9c179e"
             ],
             [
              0.4444444444444444,
              "#bd3786"
             ],
             [
              0.5555555555555556,
              "#d8576b"
             ],
             [
              0.6666666666666666,
              "#ed7953"
             ],
             [
              0.7777777777777778,
              "#fb9f3a"
             ],
             [
              0.8888888888888888,
              "#fdca26"
             ],
             [
              1,
              "#f0f921"
             ]
            ],
            "type": "histogram2dcontour"
           }
          ],
          "mesh3d": [
           {
            "colorbar": {
             "outlinewidth": 0,
             "ticks": ""
            },
            "type": "mesh3d"
           }
          ],
          "parcoords": [
           {
            "line": {
             "colorbar": {
              "outlinewidth": 0,
              "ticks": ""
             }
            },
            "type": "parcoords"
           }
          ],
          "pie": [
           {
            "automargin": true,
            "type": "pie"
           }
          ],
          "scatter": [
           {
            "marker": {
             "colorbar": {
              "outlinewidth": 0,
              "ticks": ""
             }
            },
            "type": "scatter"
           }
          ],
          "scatter3d": [
           {
            "line": {
             "colorbar": {
              "outlinewidth": 0,
              "ticks": ""
             }
            },
            "marker": {
             "colorbar": {
              "outlinewidth": 0,
              "ticks": ""
             }
            },
            "type": "scatter3d"
           }
          ],
          "scattercarpet": [
           {
            "marker": {
             "colorbar": {
              "outlinewidth": 0,
              "ticks": ""
             }
            },
            "type": "scattercarpet"
           }
          ],
          "scattergeo": [
           {
            "marker": {
             "colorbar": {
              "outlinewidth": 0,
              "ticks": ""
             }
            },
            "type": "scattergeo"
           }
          ],
          "scattergl": [
           {
            "marker": {
             "colorbar": {
              "outlinewidth": 0,
              "ticks": ""
             }
            },
            "type": "scattergl"
           }
          ],
          "scattermapbox": [
           {
            "marker": {
             "colorbar": {
              "outlinewidth": 0,
              "ticks": ""
             }
            },
            "type": "scattermapbox"
           }
          ],
          "scatterpolar": [
           {
            "marker": {
             "colorbar": {
              "outlinewidth": 0,
              "ticks": ""
             }
            },
            "type": "scatterpolar"
           }
          ],
          "scatterpolargl": [
           {
            "marker": {
             "colorbar": {
              "outlinewidth": 0,
              "ticks": ""
             }
            },
            "type": "scatterpolargl"
           }
          ],
          "scatterternary": [
           {
            "marker": {
             "colorbar": {
              "outlinewidth": 0,
              "ticks": ""
             }
            },
            "type": "scatterternary"
           }
          ],
          "surface": [
           {
            "colorbar": {
             "outlinewidth": 0,
             "ticks": ""
            },
            "colorscale": [
             [
              0,
              "#0d0887"
             ],
             [
              0.1111111111111111,
              "#46039f"
             ],
             [
              0.2222222222222222,
              "#7201a8"
             ],
             [
              0.3333333333333333,
              "#9c179e"
             ],
             [
              0.4444444444444444,
              "#bd3786"
             ],
             [
              0.5555555555555556,
              "#d8576b"
             ],
             [
              0.6666666666666666,
              "#ed7953"
             ],
             [
              0.7777777777777778,
              "#fb9f3a"
             ],
             [
              0.8888888888888888,
              "#fdca26"
             ],
             [
              1,
              "#f0f921"
             ]
            ],
            "type": "surface"
           }
          ],
          "table": [
           {
            "cells": {
             "fill": {
              "color": "#EBF0F8"
             },
             "line": {
              "color": "white"
             }
            },
            "header": {
             "fill": {
              "color": "#C8D4E3"
             },
             "line": {
              "color": "white"
             }
            },
            "type": "table"
           }
          ]
         },
         "layout": {
          "annotationdefaults": {
           "arrowcolor": "#2a3f5f",
           "arrowhead": 0,
           "arrowwidth": 1
          },
          "autotypenumbers": "strict",
          "coloraxis": {
           "colorbar": {
            "outlinewidth": 0,
            "ticks": ""
           }
          },
          "colorscale": {
           "diverging": [
            [
             0,
             "#8e0152"
            ],
            [
             0.1,
             "#c51b7d"
            ],
            [
             0.2,
             "#de77ae"
            ],
            [
             0.3,
             "#f1b6da"
            ],
            [
             0.4,
             "#fde0ef"
            ],
            [
             0.5,
             "#f7f7f7"
            ],
            [
             0.6,
             "#e6f5d0"
            ],
            [
             0.7,
             "#b8e186"
            ],
            [
             0.8,
             "#7fbc41"
            ],
            [
             0.9,
             "#4d9221"
            ],
            [
             1,
             "#276419"
            ]
           ],
           "sequential": [
            [
             0,
             "#0d0887"
            ],
            [
             0.1111111111111111,
             "#46039f"
            ],
            [
             0.2222222222222222,
             "#7201a8"
            ],
            [
             0.3333333333333333,
             "#9c179e"
            ],
            [
             0.4444444444444444,
             "#bd3786"
            ],
            [
             0.5555555555555556,
             "#d8576b"
            ],
            [
             0.6666666666666666,
             "#ed7953"
            ],
            [
             0.7777777777777778,
             "#fb9f3a"
            ],
            [
             0.8888888888888888,
             "#fdca26"
            ],
            [
             1,
             "#f0f921"
            ]
           ],
           "sequentialminus": [
            [
             0,
             "#0d0887"
            ],
            [
             0.1111111111111111,
             "#46039f"
            ],
            [
             0.2222222222222222,
             "#7201a8"
            ],
            [
             0.3333333333333333,
             "#9c179e"
            ],
            [
             0.4444444444444444,
             "#bd3786"
            ],
            [
             0.5555555555555556,
             "#d8576b"
            ],
            [
             0.6666666666666666,
             "#ed7953"
            ],
            [
             0.7777777777777778,
             "#fb9f3a"
            ],
            [
             0.8888888888888888,
             "#fdca26"
            ],
            [
             1,
             "#f0f921"
            ]
           ]
          },
          "colorway": [
           "#636efa",
           "#EF553B",
           "#00cc96",
           "#ab63fa",
           "#FFA15A",
           "#19d3f3",
           "#FF6692",
           "#B6E880",
           "#FF97FF",
           "#FECB52"
          ],
          "font": {
           "color": "#2a3f5f"
          },
          "geo": {
           "bgcolor": "white",
           "lakecolor": "white",
           "landcolor": "#E5ECF6",
           "showlakes": true,
           "showland": true,
           "subunitcolor": "white"
          },
          "hoverlabel": {
           "align": "left"
          },
          "hovermode": "closest",
          "mapbox": {
           "style": "light"
          },
          "paper_bgcolor": "white",
          "plot_bgcolor": "#E5ECF6",
          "polar": {
           "angularaxis": {
            "gridcolor": "white",
            "linecolor": "white",
            "ticks": ""
           },
           "bgcolor": "#E5ECF6",
           "radialaxis": {
            "gridcolor": "white",
            "linecolor": "white",
            "ticks": ""
           }
          },
          "scene": {
           "xaxis": {
            "backgroundcolor": "#E5ECF6",
            "gridcolor": "white",
            "gridwidth": 2,
            "linecolor": "white",
            "showbackground": true,
            "ticks": "",
            "zerolinecolor": "white"
           },
           "yaxis": {
            "backgroundcolor": "#E5ECF6",
            "gridcolor": "white",
            "gridwidth": 2,
            "linecolor": "white",
            "showbackground": true,
            "ticks": "",
            "zerolinecolor": "white"
           },
           "zaxis": {
            "backgroundcolor": "#E5ECF6",
            "gridcolor": "white",
            "gridwidth": 2,
            "linecolor": "white",
            "showbackground": true,
            "ticks": "",
            "zerolinecolor": "white"
           }
          },
          "shapedefaults": {
           "line": {
            "color": "#2a3f5f"
           }
          },
          "ternary": {
           "aaxis": {
            "gridcolor": "white",
            "linecolor": "white",
            "ticks": ""
           },
           "baxis": {
            "gridcolor": "white",
            "linecolor": "white",
            "ticks": ""
           },
           "bgcolor": "#E5ECF6",
           "caxis": {
            "gridcolor": "white",
            "linecolor": "white",
            "ticks": ""
           }
          },
          "title": {
           "x": 0.05
          },
          "xaxis": {
           "automargin": true,
           "gridcolor": "white",
           "linecolor": "white",
           "ticks": "",
           "title": {
            "standoff": 15
           },
           "zerolinecolor": "white",
           "zerolinewidth": 2
          },
          "yaxis": {
           "automargin": true,
           "gridcolor": "white",
           "linecolor": "white",
           "ticks": "",
           "title": {
            "standoff": 15
           },
           "zerolinecolor": "white",
           "zerolinewidth": 2
          }
         }
        },
        "title": {
         "text": "Percentage used KPIs from all for calculating mean/median | color: year Q"
        },
        "xaxis": {
         "anchor": "y",
         "domain": [
          0,
          1
         ],
         "title": {
          "text": "used_to_all"
         }
        },
        "xaxis2": {
         "anchor": "y2",
         "domain": [
          0,
          1
         ],
         "matches": "x",
         "showgrid": true,
         "showticklabels": false
        },
        "yaxis": {
         "anchor": "x",
         "domain": [
          0,
          0.7326
         ],
         "title": {
          "text": "count"
         }
        },
        "yaxis2": {
         "anchor": "x2",
         "domain": [
          0.7426,
          1
         ],
         "matches": "y2",
         "showgrid": false,
         "showline": false,
         "showticklabels": false,
         "ticks": ""
        }
       }
      }
     },
     "metadata": {},
     "output_type": "display_data"
    }
   ],
   "source": [
    "import plotly.express as px\n",
    "\n",
    "fig = px.histogram(df_for_plot, x=\"used_to_all\", color=\"year_q\", marginal=\"rug\",\n",
    "                   hover_data=df_for_plot.columns, title=\"Percentage used KPIs from all for calculating mean/median | color: year Q\")\n",
    "fig.show()"
   ]
  },
  {
   "cell_type": "code",
   "execution_count": 36,
   "metadata": {},
   "outputs": [
    {
     "data": {
      "application/vnd.plotly.v1+json": {
       "config": {
        "plotlyServerURL": "https://plot.ly"
       },
       "data": [
        {
         "alignmentgroup": "True",
         "bingroup": "x",
         "hovertemplate": "filer_type=accelerated_filer<br>used_to_all=%{x}<br>count=%{y}<extra></extra>",
         "legendgroup": "accelerated_filer",
         "marker": {
          "color": "#636efa",
          "pattern": {
           "shape": ""
          }
         },
         "name": "accelerated_filer",
         "offsetgroup": "accelerated_filer",
         "orientation": "v",
         "showlegend": true,
         "type": "histogram",
         "x": [
          0.85,
          0.88,
          0.82,
          0.79,
          0.85,
          0.85,
          0.88,
          0.91,
          0.68,
          0.91,
          0.74,
          0.91,
          0.68,
          0.68,
          0.82,
          0.88,
          0.65,
          0.65,
          0.62,
          0.94,
          0.97,
          0.91,
          0.91,
          0.94,
          0.94,
          0.91,
          0.94,
          0.74,
          0.91,
          0.71,
          0.91,
          0.79,
          0.79,
          0.88,
          0.97,
          0.74,
          0.74,
          0.68,
          0.97,
          0.97,
          0.91,
          0.91,
          0.91,
          0.91,
          0.91,
          0.97,
          0.71,
          0.91,
          0.68,
          0.91,
          0.76,
          0.74,
          0.91,
          0.97,
          0.71,
          0.71,
          0.68,
          1,
          1,
          0.94,
          0.97,
          0.97,
          0.97,
          0.94,
          1,
          0.75,
          0.94,
          0.78,
          0.94,
          0.78,
          0.75,
          0.94,
          1,
          0.69,
          0.75,
          0.75,
          0.95,
          0.95,
          0.89,
          0.89,
          0.89,
          0.89,
          0.89,
          0.95,
          0.74,
          0.89,
          0.74,
          0.89,
          0.74,
          0.76,
          0.89,
          0.95,
          0.68,
          0.74,
          0.71,
          0.97,
          0.97,
          0.95,
          0.92,
          0.92,
          0.92,
          0.95,
          0.97,
          0.76,
          0.95,
          0.78,
          0.95,
          0.78,
          0.81,
          0.92,
          0.97,
          0.7,
          0.76,
          0.73,
          1,
          1,
          0.95,
          0.97,
          0.97,
          0.97,
          0.95,
          1,
          0.73,
          0.95,
          0.78,
          0.95,
          0.78,
          0.78,
          0.95,
          1,
          0.68,
          0.73,
          0.73,
          0.86,
          0.86,
          0.83,
          0.83,
          0.83,
          0.83,
          0.83,
          0.86,
          0.66,
          0.83,
          0.69,
          0.83,
          0.69,
          0.71,
          0.83,
          0.86,
          0.63,
          0.66,
          0.66,
          0.97,
          0.97,
          0.91,
          0.94,
          0.94,
          0.94,
          0.91,
          0.97,
          0.77,
          0.91,
          0.71,
          0.91,
          0.77,
          0.77,
          0.91,
          0.97,
          0.77,
          0.77,
          0.74,
          0.97,
          1,
          0.94,
          0.97,
          0.97,
          0.97,
          0.94,
          0.97,
          0.8,
          0.94,
          0.74,
          0.94,
          0.77,
          0.8,
          0.91,
          1,
          0.8,
          0.8,
          0.77,
          0.74,
          0.77,
          0.77,
          0.74,
          0.74,
          0.74,
          0.74,
          0.74,
          0.69,
          0.77,
          0.63,
          0.77,
          0.66,
          0.69,
          0.74,
          0.77,
          0.69,
          0.69,
          0.66,
          0.97,
          0.97,
          0.97,
          0.94,
          0.94,
          0.94,
          0.97,
          0.97,
          0.84,
          0.97,
          0.78,
          0.94,
          0.81,
          0.84,
          0.97,
          0.97,
          0.78,
          0.81,
          0.78,
          0.56,
          0.56,
          0.56,
          0.56,
          0.56,
          0.56,
          0.56,
          0.56,
          0.56,
          0.56,
          0.53,
          0.56,
          0.56,
          0.56,
          0.56,
          0.56,
          0.56,
          0.56,
          0.56,
          0.81,
          0.81,
          0.81,
          0.78,
          0.78,
          0.78,
          0.81,
          0.81,
          0.81,
          0.81,
          0.75,
          0.81,
          0.78,
          0.81,
          0.81,
          0.81,
          0.81,
          0.81,
          0.78,
          0.91,
          0.91,
          0.91,
          0.81,
          0.84,
          0.84,
          0.91,
          0.91,
          0.81,
          0.91,
          0.72,
          0.91,
          0.78,
          0.78,
          0.91,
          0.91,
          0.81,
          0.81,
          0.78,
          0.96,
          0.96,
          0.96,
          0.92,
          0.96,
          0.96,
          0.96,
          0.96,
          0.88,
          0.96,
          0.92,
          0.96,
          0.92,
          0.92,
          0.96,
          0.96,
          0.88,
          0.88,
          0.88,
          0.93,
          0.93,
          0.93,
          0.89,
          0.93,
          0.93,
          0.93,
          0.93,
          0.86,
          0.93,
          0.86,
          0.89,
          0.89,
          0.89,
          0.93,
          0.93,
          0.82,
          0.82,
          0.82,
          0.96,
          0.96,
          0.96,
          0.96,
          0.96,
          0.96,
          1,
          1,
          0.93,
          1,
          0.93,
          0.96,
          0.96,
          0.96,
          1,
          0.96,
          0.89,
          0.89,
          0.89
         ],
         "xaxis": "x",
         "yaxis": "y"
        },
        {
         "alignmentgroup": "True",
         "boxpoints": "all",
         "customdata": [
          [
           "2017_2",
           "accelerated_filer",
           "roe"
          ],
          [
           "2017_2",
           "accelerated_filer",
           "roa"
          ],
          [
           "2017_2",
           "accelerated_filer",
           "roce"
          ],
          [
           "2017_2",
           "accelerated_filer",
           "gross_margin"
          ],
          [
           "2017_2",
           "accelerated_filer",
           "operating_profit_margin"
          ],
          [
           "2017_2",
           "accelerated_filer",
           "net_profit_margin"
          ],
          [
           "2017_2",
           "accelerated_filer",
           "debt_to_equity"
          ],
          [
           "2017_2",
           "accelerated_filer",
           "equity"
          ],
          [
           "2017_2",
           "accelerated_filer",
           "debt"
          ],
          [
           "2017_2",
           "accelerated_filer",
           "current"
          ],
          [
           "2017_2",
           "accelerated_filer",
           "quick"
          ],
          [
           "2017_2",
           "accelerated_filer",
           "cash"
          ],
          [
           "2017_2",
           "accelerated_filer",
           "times_interest_earned"
          ],
          [
           "2017_2",
           "accelerated_filer",
           "capex_to_operating_cash"
          ],
          [
           "2017_2",
           "accelerated_filer",
           "operating_cash_flow"
          ],
          [
           "2017_2",
           "accelerated_filer",
           "price_to_earnings"
          ],
          [
           "2017_2",
           "accelerated_filer",
           "ev_ebitda"
          ],
          [
           "2017_2",
           "accelerated_filer",
           "ev_ebit"
          ],
          [
           "2017_2",
           "accelerated_filer",
           "ev_revenue"
          ],
          [
           "2017_3",
           "accelerated_filer",
           "roe"
          ],
          [
           "2017_3",
           "accelerated_filer",
           "roa"
          ],
          [
           "2017_3",
           "accelerated_filer",
           "roce"
          ],
          [
           "2017_3",
           "accelerated_filer",
           "gross_margin"
          ],
          [
           "2017_3",
           "accelerated_filer",
           "operating_profit_margin"
          ],
          [
           "2017_3",
           "accelerated_filer",
           "net_profit_margin"
          ],
          [
           "2017_3",
           "accelerated_filer",
           "debt_to_equity"
          ],
          [
           "2017_3",
           "accelerated_filer",
           "equity"
          ],
          [
           "2017_3",
           "accelerated_filer",
           "debt"
          ],
          [
           "2017_3",
           "accelerated_filer",
           "current"
          ],
          [
           "2017_3",
           "accelerated_filer",
           "quick"
          ],
          [
           "2017_3",
           "accelerated_filer",
           "cash"
          ],
          [
           "2017_3",
           "accelerated_filer",
           "times_interest_earned"
          ],
          [
           "2017_3",
           "accelerated_filer",
           "capex_to_operating_cash"
          ],
          [
           "2017_3",
           "accelerated_filer",
           "operating_cash_flow"
          ],
          [
           "2017_3",
           "accelerated_filer",
           "price_to_earnings"
          ],
          [
           "2017_3",
           "accelerated_filer",
           "ev_ebitda"
          ],
          [
           "2017_3",
           "accelerated_filer",
           "ev_ebit"
          ],
          [
           "2017_3",
           "accelerated_filer",
           "ev_revenue"
          ],
          [
           "2017_4",
           "accelerated_filer",
           "roe"
          ],
          [
           "2017_4",
           "accelerated_filer",
           "roa"
          ],
          [
           "2017_4",
           "accelerated_filer",
           "roce"
          ],
          [
           "2017_4",
           "accelerated_filer",
           "gross_margin"
          ],
          [
           "2017_4",
           "accelerated_filer",
           "operating_profit_margin"
          ],
          [
           "2017_4",
           "accelerated_filer",
           "net_profit_margin"
          ],
          [
           "2017_4",
           "accelerated_filer",
           "debt_to_equity"
          ],
          [
           "2017_4",
           "accelerated_filer",
           "equity"
          ],
          [
           "2017_4",
           "accelerated_filer",
           "debt"
          ],
          [
           "2017_4",
           "accelerated_filer",
           "current"
          ],
          [
           "2017_4",
           "accelerated_filer",
           "quick"
          ],
          [
           "2017_4",
           "accelerated_filer",
           "cash"
          ],
          [
           "2017_4",
           "accelerated_filer",
           "times_interest_earned"
          ],
          [
           "2017_4",
           "accelerated_filer",
           "capex_to_operating_cash"
          ],
          [
           "2017_4",
           "accelerated_filer",
           "operating_cash_flow"
          ],
          [
           "2017_4",
           "accelerated_filer",
           "price_to_earnings"
          ],
          [
           "2017_4",
           "accelerated_filer",
           "ev_ebitda"
          ],
          [
           "2017_4",
           "accelerated_filer",
           "ev_ebit"
          ],
          [
           "2017_4",
           "accelerated_filer",
           "ev_revenue"
          ],
          [
           "2018_1",
           "accelerated_filer",
           "roe"
          ],
          [
           "2018_1",
           "accelerated_filer",
           "roa"
          ],
          [
           "2018_1",
           "accelerated_filer",
           "roce"
          ],
          [
           "2018_1",
           "accelerated_filer",
           "gross_margin"
          ],
          [
           "2018_1",
           "accelerated_filer",
           "operating_profit_margin"
          ],
          [
           "2018_1",
           "accelerated_filer",
           "net_profit_margin"
          ],
          [
           "2018_1",
           "accelerated_filer",
           "debt_to_equity"
          ],
          [
           "2018_1",
           "accelerated_filer",
           "equity"
          ],
          [
           "2018_1",
           "accelerated_filer",
           "debt"
          ],
          [
           "2018_1",
           "accelerated_filer",
           "current"
          ],
          [
           "2018_1",
           "accelerated_filer",
           "quick"
          ],
          [
           "2018_1",
           "accelerated_filer",
           "cash"
          ],
          [
           "2018_1",
           "accelerated_filer",
           "times_interest_earned"
          ],
          [
           "2018_1",
           "accelerated_filer",
           "capex_to_operating_cash"
          ],
          [
           "2018_1",
           "accelerated_filer",
           "operating_cash_flow"
          ],
          [
           "2018_1",
           "accelerated_filer",
           "price_to_earnings"
          ],
          [
           "2018_1",
           "accelerated_filer",
           "ev_ebitda"
          ],
          [
           "2018_1",
           "accelerated_filer",
           "ev_ebit"
          ],
          [
           "2018_1",
           "accelerated_filer",
           "ev_revenue"
          ],
          [
           "2018_2",
           "accelerated_filer",
           "roe"
          ],
          [
           "2018_2",
           "accelerated_filer",
           "roa"
          ],
          [
           "2018_2",
           "accelerated_filer",
           "roce"
          ],
          [
           "2018_2",
           "accelerated_filer",
           "gross_margin"
          ],
          [
           "2018_2",
           "accelerated_filer",
           "operating_profit_margin"
          ],
          [
           "2018_2",
           "accelerated_filer",
           "net_profit_margin"
          ],
          [
           "2018_2",
           "accelerated_filer",
           "debt_to_equity"
          ],
          [
           "2018_2",
           "accelerated_filer",
           "equity"
          ],
          [
           "2018_2",
           "accelerated_filer",
           "debt"
          ],
          [
           "2018_2",
           "accelerated_filer",
           "current"
          ],
          [
           "2018_2",
           "accelerated_filer",
           "quick"
          ],
          [
           "2018_2",
           "accelerated_filer",
           "cash"
          ],
          [
           "2018_2",
           "accelerated_filer",
           "times_interest_earned"
          ],
          [
           "2018_2",
           "accelerated_filer",
           "capex_to_operating_cash"
          ],
          [
           "2018_2",
           "accelerated_filer",
           "operating_cash_flow"
          ],
          [
           "2018_2",
           "accelerated_filer",
           "price_to_earnings"
          ],
          [
           "2018_2",
           "accelerated_filer",
           "ev_ebitda"
          ],
          [
           "2018_2",
           "accelerated_filer",
           "ev_ebit"
          ],
          [
           "2018_2",
           "accelerated_filer",
           "ev_revenue"
          ],
          [
           "2018_3",
           "accelerated_filer",
           "roe"
          ],
          [
           "2018_3",
           "accelerated_filer",
           "roa"
          ],
          [
           "2018_3",
           "accelerated_filer",
           "roce"
          ],
          [
           "2018_3",
           "accelerated_filer",
           "gross_margin"
          ],
          [
           "2018_3",
           "accelerated_filer",
           "operating_profit_margin"
          ],
          [
           "2018_3",
           "accelerated_filer",
           "net_profit_margin"
          ],
          [
           "2018_3",
           "accelerated_filer",
           "debt_to_equity"
          ],
          [
           "2018_3",
           "accelerated_filer",
           "equity"
          ],
          [
           "2018_3",
           "accelerated_filer",
           "debt"
          ],
          [
           "2018_3",
           "accelerated_filer",
           "current"
          ],
          [
           "2018_3",
           "accelerated_filer",
           "quick"
          ],
          [
           "2018_3",
           "accelerated_filer",
           "cash"
          ],
          [
           "2018_3",
           "accelerated_filer",
           "times_interest_earned"
          ],
          [
           "2018_3",
           "accelerated_filer",
           "capex_to_operating_cash"
          ],
          [
           "2018_3",
           "accelerated_filer",
           "operating_cash_flow"
          ],
          [
           "2018_3",
           "accelerated_filer",
           "price_to_earnings"
          ],
          [
           "2018_3",
           "accelerated_filer",
           "ev_ebitda"
          ],
          [
           "2018_3",
           "accelerated_filer",
           "ev_ebit"
          ],
          [
           "2018_3",
           "accelerated_filer",
           "ev_revenue"
          ],
          [
           "2018_4",
           "accelerated_filer",
           "roe"
          ],
          [
           "2018_4",
           "accelerated_filer",
           "roa"
          ],
          [
           "2018_4",
           "accelerated_filer",
           "roce"
          ],
          [
           "2018_4",
           "accelerated_filer",
           "gross_margin"
          ],
          [
           "2018_4",
           "accelerated_filer",
           "operating_profit_margin"
          ],
          [
           "2018_4",
           "accelerated_filer",
           "net_profit_margin"
          ],
          [
           "2018_4",
           "accelerated_filer",
           "debt_to_equity"
          ],
          [
           "2018_4",
           "accelerated_filer",
           "equity"
          ],
          [
           "2018_4",
           "accelerated_filer",
           "debt"
          ],
          [
           "2018_4",
           "accelerated_filer",
           "current"
          ],
          [
           "2018_4",
           "accelerated_filer",
           "quick"
          ],
          [
           "2018_4",
           "accelerated_filer",
           "cash"
          ],
          [
           "2018_4",
           "accelerated_filer",
           "times_interest_earned"
          ],
          [
           "2018_4",
           "accelerated_filer",
           "capex_to_operating_cash"
          ],
          [
           "2018_4",
           "accelerated_filer",
           "operating_cash_flow"
          ],
          [
           "2018_4",
           "accelerated_filer",
           "price_to_earnings"
          ],
          [
           "2018_4",
           "accelerated_filer",
           "ev_ebitda"
          ],
          [
           "2018_4",
           "accelerated_filer",
           "ev_ebit"
          ],
          [
           "2018_4",
           "accelerated_filer",
           "ev_revenue"
          ],
          [
           "2019_1",
           "accelerated_filer",
           "roe"
          ],
          [
           "2019_1",
           "accelerated_filer",
           "roa"
          ],
          [
           "2019_1",
           "accelerated_filer",
           "roce"
          ],
          [
           "2019_1",
           "accelerated_filer",
           "gross_margin"
          ],
          [
           "2019_1",
           "accelerated_filer",
           "operating_profit_margin"
          ],
          [
           "2019_1",
           "accelerated_filer",
           "net_profit_margin"
          ],
          [
           "2019_1",
           "accelerated_filer",
           "debt_to_equity"
          ],
          [
           "2019_1",
           "accelerated_filer",
           "equity"
          ],
          [
           "2019_1",
           "accelerated_filer",
           "debt"
          ],
          [
           "2019_1",
           "accelerated_filer",
           "current"
          ],
          [
           "2019_1",
           "accelerated_filer",
           "quick"
          ],
          [
           "2019_1",
           "accelerated_filer",
           "cash"
          ],
          [
           "2019_1",
           "accelerated_filer",
           "times_interest_earned"
          ],
          [
           "2019_1",
           "accelerated_filer",
           "capex_to_operating_cash"
          ],
          [
           "2019_1",
           "accelerated_filer",
           "operating_cash_flow"
          ],
          [
           "2019_1",
           "accelerated_filer",
           "price_to_earnings"
          ],
          [
           "2019_1",
           "accelerated_filer",
           "ev_ebitda"
          ],
          [
           "2019_1",
           "accelerated_filer",
           "ev_ebit"
          ],
          [
           "2019_1",
           "accelerated_filer",
           "ev_revenue"
          ],
          [
           "2019_2",
           "accelerated_filer",
           "roe"
          ],
          [
           "2019_2",
           "accelerated_filer",
           "roa"
          ],
          [
           "2019_2",
           "accelerated_filer",
           "roce"
          ],
          [
           "2019_2",
           "accelerated_filer",
           "gross_margin"
          ],
          [
           "2019_2",
           "accelerated_filer",
           "operating_profit_margin"
          ],
          [
           "2019_2",
           "accelerated_filer",
           "net_profit_margin"
          ],
          [
           "2019_2",
           "accelerated_filer",
           "debt_to_equity"
          ],
          [
           "2019_2",
           "accelerated_filer",
           "equity"
          ],
          [
           "2019_2",
           "accelerated_filer",
           "debt"
          ],
          [
           "2019_2",
           "accelerated_filer",
           "current"
          ],
          [
           "2019_2",
           "accelerated_filer",
           "quick"
          ],
          [
           "2019_2",
           "accelerated_filer",
           "cash"
          ],
          [
           "2019_2",
           "accelerated_filer",
           "times_interest_earned"
          ],
          [
           "2019_2",
           "accelerated_filer",
           "capex_to_operating_cash"
          ],
          [
           "2019_2",
           "accelerated_filer",
           "operating_cash_flow"
          ],
          [
           "2019_2",
           "accelerated_filer",
           "price_to_earnings"
          ],
          [
           "2019_2",
           "accelerated_filer",
           "ev_ebitda"
          ],
          [
           "2019_2",
           "accelerated_filer",
           "ev_ebit"
          ],
          [
           "2019_2",
           "accelerated_filer",
           "ev_revenue"
          ],
          [
           "2019_3",
           "accelerated_filer",
           "roe"
          ],
          [
           "2019_3",
           "accelerated_filer",
           "roa"
          ],
          [
           "2019_3",
           "accelerated_filer",
           "roce"
          ],
          [
           "2019_3",
           "accelerated_filer",
           "gross_margin"
          ],
          [
           "2019_3",
           "accelerated_filer",
           "operating_profit_margin"
          ],
          [
           "2019_3",
           "accelerated_filer",
           "net_profit_margin"
          ],
          [
           "2019_3",
           "accelerated_filer",
           "debt_to_equity"
          ],
          [
           "2019_3",
           "accelerated_filer",
           "equity"
          ],
          [
           "2019_3",
           "accelerated_filer",
           "debt"
          ],
          [
           "2019_3",
           "accelerated_filer",
           "current"
          ],
          [
           "2019_3",
           "accelerated_filer",
           "quick"
          ],
          [
           "2019_3",
           "accelerated_filer",
           "cash"
          ],
          [
           "2019_3",
           "accelerated_filer",
           "times_interest_earned"
          ],
          [
           "2019_3",
           "accelerated_filer",
           "capex_to_operating_cash"
          ],
          [
           "2019_3",
           "accelerated_filer",
           "operating_cash_flow"
          ],
          [
           "2019_3",
           "accelerated_filer",
           "price_to_earnings"
          ],
          [
           "2019_3",
           "accelerated_filer",
           "ev_ebitda"
          ],
          [
           "2019_3",
           "accelerated_filer",
           "ev_ebit"
          ],
          [
           "2019_3",
           "accelerated_filer",
           "ev_revenue"
          ],
          [
           "2019_4",
           "accelerated_filer",
           "roe"
          ],
          [
           "2019_4",
           "accelerated_filer",
           "roa"
          ],
          [
           "2019_4",
           "accelerated_filer",
           "roce"
          ],
          [
           "2019_4",
           "accelerated_filer",
           "gross_margin"
          ],
          [
           "2019_4",
           "accelerated_filer",
           "operating_profit_margin"
          ],
          [
           "2019_4",
           "accelerated_filer",
           "net_profit_margin"
          ],
          [
           "2019_4",
           "accelerated_filer",
           "debt_to_equity"
          ],
          [
           "2019_4",
           "accelerated_filer",
           "equity"
          ],
          [
           "2019_4",
           "accelerated_filer",
           "debt"
          ],
          [
           "2019_4",
           "accelerated_filer",
           "current"
          ],
          [
           "2019_4",
           "accelerated_filer",
           "quick"
          ],
          [
           "2019_4",
           "accelerated_filer",
           "cash"
          ],
          [
           "2019_4",
           "accelerated_filer",
           "times_interest_earned"
          ],
          [
           "2019_4",
           "accelerated_filer",
           "capex_to_operating_cash"
          ],
          [
           "2019_4",
           "accelerated_filer",
           "operating_cash_flow"
          ],
          [
           "2019_4",
           "accelerated_filer",
           "price_to_earnings"
          ],
          [
           "2019_4",
           "accelerated_filer",
           "ev_ebitda"
          ],
          [
           "2019_4",
           "accelerated_filer",
           "ev_ebit"
          ],
          [
           "2019_4",
           "accelerated_filer",
           "ev_revenue"
          ],
          [
           "2020_1",
           "accelerated_filer",
           "roe"
          ],
          [
           "2020_1",
           "accelerated_filer",
           "roa"
          ],
          [
           "2020_1",
           "accelerated_filer",
           "roce"
          ],
          [
           "2020_1",
           "accelerated_filer",
           "gross_margin"
          ],
          [
           "2020_1",
           "accelerated_filer",
           "operating_profit_margin"
          ],
          [
           "2020_1",
           "accelerated_filer",
           "net_profit_margin"
          ],
          [
           "2020_1",
           "accelerated_filer",
           "debt_to_equity"
          ],
          [
           "2020_1",
           "accelerated_filer",
           "equity"
          ],
          [
           "2020_1",
           "accelerated_filer",
           "debt"
          ],
          [
           "2020_1",
           "accelerated_filer",
           "current"
          ],
          [
           "2020_1",
           "accelerated_filer",
           "quick"
          ],
          [
           "2020_1",
           "accelerated_filer",
           "cash"
          ],
          [
           "2020_1",
           "accelerated_filer",
           "times_interest_earned"
          ],
          [
           "2020_1",
           "accelerated_filer",
           "capex_to_operating_cash"
          ],
          [
           "2020_1",
           "accelerated_filer",
           "operating_cash_flow"
          ],
          [
           "2020_1",
           "accelerated_filer",
           "price_to_earnings"
          ],
          [
           "2020_1",
           "accelerated_filer",
           "ev_ebitda"
          ],
          [
           "2020_1",
           "accelerated_filer",
           "ev_ebit"
          ],
          [
           "2020_1",
           "accelerated_filer",
           "ev_revenue"
          ],
          [
           "2020_2",
           "accelerated_filer",
           "roe"
          ],
          [
           "2020_2",
           "accelerated_filer",
           "roa"
          ],
          [
           "2020_2",
           "accelerated_filer",
           "roce"
          ],
          [
           "2020_2",
           "accelerated_filer",
           "gross_margin"
          ],
          [
           "2020_2",
           "accelerated_filer",
           "operating_profit_margin"
          ],
          [
           "2020_2",
           "accelerated_filer",
           "net_profit_margin"
          ],
          [
           "2020_2",
           "accelerated_filer",
           "debt_to_equity"
          ],
          [
           "2020_2",
           "accelerated_filer",
           "equity"
          ],
          [
           "2020_2",
           "accelerated_filer",
           "debt"
          ],
          [
           "2020_2",
           "accelerated_filer",
           "current"
          ],
          [
           "2020_2",
           "accelerated_filer",
           "quick"
          ],
          [
           "2020_2",
           "accelerated_filer",
           "cash"
          ],
          [
           "2020_2",
           "accelerated_filer",
           "times_interest_earned"
          ],
          [
           "2020_2",
           "accelerated_filer",
           "capex_to_operating_cash"
          ],
          [
           "2020_2",
           "accelerated_filer",
           "operating_cash_flow"
          ],
          [
           "2020_2",
           "accelerated_filer",
           "price_to_earnings"
          ],
          [
           "2020_2",
           "accelerated_filer",
           "ev_ebitda"
          ],
          [
           "2020_2",
           "accelerated_filer",
           "ev_ebit"
          ],
          [
           "2020_2",
           "accelerated_filer",
           "ev_revenue"
          ],
          [
           "2020_3",
           "accelerated_filer",
           "roe"
          ],
          [
           "2020_3",
           "accelerated_filer",
           "roa"
          ],
          [
           "2020_3",
           "accelerated_filer",
           "roce"
          ],
          [
           "2020_3",
           "accelerated_filer",
           "gross_margin"
          ],
          [
           "2020_3",
           "accelerated_filer",
           "operating_profit_margin"
          ],
          [
           "2020_3",
           "accelerated_filer",
           "net_profit_margin"
          ],
          [
           "2020_3",
           "accelerated_filer",
           "debt_to_equity"
          ],
          [
           "2020_3",
           "accelerated_filer",
           "equity"
          ],
          [
           "2020_3",
           "accelerated_filer",
           "debt"
          ],
          [
           "2020_3",
           "accelerated_filer",
           "current"
          ],
          [
           "2020_3",
           "accelerated_filer",
           "quick"
          ],
          [
           "2020_3",
           "accelerated_filer",
           "cash"
          ],
          [
           "2020_3",
           "accelerated_filer",
           "times_interest_earned"
          ],
          [
           "2020_3",
           "accelerated_filer",
           "capex_to_operating_cash"
          ],
          [
           "2020_3",
           "accelerated_filer",
           "operating_cash_flow"
          ],
          [
           "2020_3",
           "accelerated_filer",
           "price_to_earnings"
          ],
          [
           "2020_3",
           "accelerated_filer",
           "ev_ebitda"
          ],
          [
           "2020_3",
           "accelerated_filer",
           "ev_ebit"
          ],
          [
           "2020_3",
           "accelerated_filer",
           "ev_revenue"
          ],
          [
           "2020_4",
           "accelerated_filer",
           "roe"
          ],
          [
           "2020_4",
           "accelerated_filer",
           "roa"
          ],
          [
           "2020_4",
           "accelerated_filer",
           "roce"
          ],
          [
           "2020_4",
           "accelerated_filer",
           "gross_margin"
          ],
          [
           "2020_4",
           "accelerated_filer",
           "operating_profit_margin"
          ],
          [
           "2020_4",
           "accelerated_filer",
           "net_profit_margin"
          ],
          [
           "2020_4",
           "accelerated_filer",
           "debt_to_equity"
          ],
          [
           "2020_4",
           "accelerated_filer",
           "equity"
          ],
          [
           "2020_4",
           "accelerated_filer",
           "debt"
          ],
          [
           "2020_4",
           "accelerated_filer",
           "current"
          ],
          [
           "2020_4",
           "accelerated_filer",
           "quick"
          ],
          [
           "2020_4",
           "accelerated_filer",
           "cash"
          ],
          [
           "2020_4",
           "accelerated_filer",
           "times_interest_earned"
          ],
          [
           "2020_4",
           "accelerated_filer",
           "capex_to_operating_cash"
          ],
          [
           "2020_4",
           "accelerated_filer",
           "operating_cash_flow"
          ],
          [
           "2020_4",
           "accelerated_filer",
           "price_to_earnings"
          ],
          [
           "2020_4",
           "accelerated_filer",
           "ev_ebitda"
          ],
          [
           "2020_4",
           "accelerated_filer",
           "ev_ebit"
          ],
          [
           "2020_4",
           "accelerated_filer",
           "ev_revenue"
          ],
          [
           "2021_1",
           "accelerated_filer",
           "roe"
          ],
          [
           "2021_1",
           "accelerated_filer",
           "roa"
          ],
          [
           "2021_1",
           "accelerated_filer",
           "roce"
          ],
          [
           "2021_1",
           "accelerated_filer",
           "gross_margin"
          ],
          [
           "2021_1",
           "accelerated_filer",
           "operating_profit_margin"
          ],
          [
           "2021_1",
           "accelerated_filer",
           "net_profit_margin"
          ],
          [
           "2021_1",
           "accelerated_filer",
           "debt_to_equity"
          ],
          [
           "2021_1",
           "accelerated_filer",
           "equity"
          ],
          [
           "2021_1",
           "accelerated_filer",
           "debt"
          ],
          [
           "2021_1",
           "accelerated_filer",
           "current"
          ],
          [
           "2021_1",
           "accelerated_filer",
           "quick"
          ],
          [
           "2021_1",
           "accelerated_filer",
           "cash"
          ],
          [
           "2021_1",
           "accelerated_filer",
           "times_interest_earned"
          ],
          [
           "2021_1",
           "accelerated_filer",
           "capex_to_operating_cash"
          ],
          [
           "2021_1",
           "accelerated_filer",
           "operating_cash_flow"
          ],
          [
           "2021_1",
           "accelerated_filer",
           "price_to_earnings"
          ],
          [
           "2021_1",
           "accelerated_filer",
           "ev_ebitda"
          ],
          [
           "2021_1",
           "accelerated_filer",
           "ev_ebit"
          ],
          [
           "2021_1",
           "accelerated_filer",
           "ev_revenue"
          ],
          [
           "2021_2",
           "accelerated_filer",
           "roe"
          ],
          [
           "2021_2",
           "accelerated_filer",
           "roa"
          ],
          [
           "2021_2",
           "accelerated_filer",
           "roce"
          ],
          [
           "2021_2",
           "accelerated_filer",
           "gross_margin"
          ],
          [
           "2021_2",
           "accelerated_filer",
           "operating_profit_margin"
          ],
          [
           "2021_2",
           "accelerated_filer",
           "net_profit_margin"
          ],
          [
           "2021_2",
           "accelerated_filer",
           "debt_to_equity"
          ],
          [
           "2021_2",
           "accelerated_filer",
           "equity"
          ],
          [
           "2021_2",
           "accelerated_filer",
           "debt"
          ],
          [
           "2021_2",
           "accelerated_filer",
           "current"
          ],
          [
           "2021_2",
           "accelerated_filer",
           "quick"
          ],
          [
           "2021_2",
           "accelerated_filer",
           "cash"
          ],
          [
           "2021_2",
           "accelerated_filer",
           "times_interest_earned"
          ],
          [
           "2021_2",
           "accelerated_filer",
           "capex_to_operating_cash"
          ],
          [
           "2021_2",
           "accelerated_filer",
           "operating_cash_flow"
          ],
          [
           "2021_2",
           "accelerated_filer",
           "price_to_earnings"
          ],
          [
           "2021_2",
           "accelerated_filer",
           "ev_ebitda"
          ],
          [
           "2021_2",
           "accelerated_filer",
           "ev_ebit"
          ],
          [
           "2021_2",
           "accelerated_filer",
           "ev_revenue"
          ],
          [
           "2021_3",
           "accelerated_filer",
           "roe"
          ],
          [
           "2021_3",
           "accelerated_filer",
           "roa"
          ],
          [
           "2021_3",
           "accelerated_filer",
           "roce"
          ],
          [
           "2021_3",
           "accelerated_filer",
           "gross_margin"
          ],
          [
           "2021_3",
           "accelerated_filer",
           "operating_profit_margin"
          ],
          [
           "2021_3",
           "accelerated_filer",
           "net_profit_margin"
          ],
          [
           "2021_3",
           "accelerated_filer",
           "debt_to_equity"
          ],
          [
           "2021_3",
           "accelerated_filer",
           "equity"
          ],
          [
           "2021_3",
           "accelerated_filer",
           "debt"
          ],
          [
           "2021_3",
           "accelerated_filer",
           "current"
          ],
          [
           "2021_3",
           "accelerated_filer",
           "quick"
          ],
          [
           "2021_3",
           "accelerated_filer",
           "cash"
          ],
          [
           "2021_3",
           "accelerated_filer",
           "times_interest_earned"
          ],
          [
           "2021_3",
           "accelerated_filer",
           "capex_to_operating_cash"
          ],
          [
           "2021_3",
           "accelerated_filer",
           "operating_cash_flow"
          ],
          [
           "2021_3",
           "accelerated_filer",
           "price_to_earnings"
          ],
          [
           "2021_3",
           "accelerated_filer",
           "ev_ebitda"
          ],
          [
           "2021_3",
           "accelerated_filer",
           "ev_ebit"
          ],
          [
           "2021_3",
           "accelerated_filer",
           "ev_revenue"
          ]
         ],
         "fillcolor": "rgba(255,255,255,0)",
         "hoveron": "points",
         "hovertemplate": "filer_type=%{customdata[1]}<br>used_to_all=%{x}<br>year_q=%{customdata[0]}<br>kpi=%{customdata[2]}<extra></extra>",
         "jitter": 0,
         "legendgroup": "accelerated_filer",
         "line": {
          "color": "rgba(255,255,255,0)"
         },
         "marker": {
          "color": "#636efa",
          "symbol": "line-ns-open"
         },
         "name": "accelerated_filer",
         "offsetgroup": "accelerated_filer",
         "showlegend": false,
         "type": "box",
         "x": [
          0.85,
          0.88,
          0.82,
          0.79,
          0.85,
          0.85,
          0.88,
          0.91,
          0.68,
          0.91,
          0.74,
          0.91,
          0.68,
          0.68,
          0.82,
          0.88,
          0.65,
          0.65,
          0.62,
          0.94,
          0.97,
          0.91,
          0.91,
          0.94,
          0.94,
          0.91,
          0.94,
          0.74,
          0.91,
          0.71,
          0.91,
          0.79,
          0.79,
          0.88,
          0.97,
          0.74,
          0.74,
          0.68,
          0.97,
          0.97,
          0.91,
          0.91,
          0.91,
          0.91,
          0.91,
          0.97,
          0.71,
          0.91,
          0.68,
          0.91,
          0.76,
          0.74,
          0.91,
          0.97,
          0.71,
          0.71,
          0.68,
          1,
          1,
          0.94,
          0.97,
          0.97,
          0.97,
          0.94,
          1,
          0.75,
          0.94,
          0.78,
          0.94,
          0.78,
          0.75,
          0.94,
          1,
          0.69,
          0.75,
          0.75,
          0.95,
          0.95,
          0.89,
          0.89,
          0.89,
          0.89,
          0.89,
          0.95,
          0.74,
          0.89,
          0.74,
          0.89,
          0.74,
          0.76,
          0.89,
          0.95,
          0.68,
          0.74,
          0.71,
          0.97,
          0.97,
          0.95,
          0.92,
          0.92,
          0.92,
          0.95,
          0.97,
          0.76,
          0.95,
          0.78,
          0.95,
          0.78,
          0.81,
          0.92,
          0.97,
          0.7,
          0.76,
          0.73,
          1,
          1,
          0.95,
          0.97,
          0.97,
          0.97,
          0.95,
          1,
          0.73,
          0.95,
          0.78,
          0.95,
          0.78,
          0.78,
          0.95,
          1,
          0.68,
          0.73,
          0.73,
          0.86,
          0.86,
          0.83,
          0.83,
          0.83,
          0.83,
          0.83,
          0.86,
          0.66,
          0.83,
          0.69,
          0.83,
          0.69,
          0.71,
          0.83,
          0.86,
          0.63,
          0.66,
          0.66,
          0.97,
          0.97,
          0.91,
          0.94,
          0.94,
          0.94,
          0.91,
          0.97,
          0.77,
          0.91,
          0.71,
          0.91,
          0.77,
          0.77,
          0.91,
          0.97,
          0.77,
          0.77,
          0.74,
          0.97,
          1,
          0.94,
          0.97,
          0.97,
          0.97,
          0.94,
          0.97,
          0.8,
          0.94,
          0.74,
          0.94,
          0.77,
          0.8,
          0.91,
          1,
          0.8,
          0.8,
          0.77,
          0.74,
          0.77,
          0.77,
          0.74,
          0.74,
          0.74,
          0.74,
          0.74,
          0.69,
          0.77,
          0.63,
          0.77,
          0.66,
          0.69,
          0.74,
          0.77,
          0.69,
          0.69,
          0.66,
          0.97,
          0.97,
          0.97,
          0.94,
          0.94,
          0.94,
          0.97,
          0.97,
          0.84,
          0.97,
          0.78,
          0.94,
          0.81,
          0.84,
          0.97,
          0.97,
          0.78,
          0.81,
          0.78,
          0.56,
          0.56,
          0.56,
          0.56,
          0.56,
          0.56,
          0.56,
          0.56,
          0.56,
          0.56,
          0.53,
          0.56,
          0.56,
          0.56,
          0.56,
          0.56,
          0.56,
          0.56,
          0.56,
          0.81,
          0.81,
          0.81,
          0.78,
          0.78,
          0.78,
          0.81,
          0.81,
          0.81,
          0.81,
          0.75,
          0.81,
          0.78,
          0.81,
          0.81,
          0.81,
          0.81,
          0.81,
          0.78,
          0.91,
          0.91,
          0.91,
          0.81,
          0.84,
          0.84,
          0.91,
          0.91,
          0.81,
          0.91,
          0.72,
          0.91,
          0.78,
          0.78,
          0.91,
          0.91,
          0.81,
          0.81,
          0.78,
          0.96,
          0.96,
          0.96,
          0.92,
          0.96,
          0.96,
          0.96,
          0.96,
          0.88,
          0.96,
          0.92,
          0.96,
          0.92,
          0.92,
          0.96,
          0.96,
          0.88,
          0.88,
          0.88,
          0.93,
          0.93,
          0.93,
          0.89,
          0.93,
          0.93,
          0.93,
          0.93,
          0.86,
          0.93,
          0.86,
          0.89,
          0.89,
          0.89,
          0.93,
          0.93,
          0.82,
          0.82,
          0.82,
          0.96,
          0.96,
          0.96,
          0.96,
          0.96,
          0.96,
          1,
          1,
          0.93,
          1,
          0.93,
          0.96,
          0.96,
          0.96,
          1,
          0.96,
          0.89,
          0.89,
          0.89
         ],
         "xaxis": "x2",
         "yaxis": "y2"
        },
        {
         "alignmentgroup": "True",
         "bingroup": "x",
         "hovertemplate": "filer_type=large_accelerated_filer<br>used_to_all=%{x}<br>count=%{y}<extra></extra>",
         "legendgroup": "large_accelerated_filer",
         "marker": {
          "color": "#EF553B",
          "pattern": {
           "shape": ""
          }
         },
         "name": "large_accelerated_filer",
         "offsetgroup": "large_accelerated_filer",
         "orientation": "v",
         "showlegend": true,
         "type": "histogram",
         "x": [
          0.98,
          0.98,
          0.98,
          0.96,
          0.96,
          0.96,
          0.98,
          0.98,
          0.91,
          0.98,
          0.96,
          0.96,
          0.96,
          0.98,
          0.98,
          0.98,
          0.87,
          0.89,
          0.87,
          1,
          1,
          1,
          0.98,
          0.98,
          0.98,
          1,
          1,
          0.94,
          1,
          1,
          1,
          0.98,
          1,
          1,
          1,
          0.91,
          0.94,
          0.91,
          1,
          1,
          1,
          0.98,
          0.98,
          0.98,
          1,
          1,
          0.94,
          1,
          1,
          1,
          0.98,
          1,
          1,
          1,
          0.91,
          0.94,
          0.91,
          0.98,
          0.98,
          0.98,
          0.96,
          0.96,
          0.96,
          0.98,
          0.98,
          0.94,
          0.98,
          0.96,
          0.98,
          0.98,
          0.98,
          0.98,
          0.98,
          0.92,
          0.94,
          0.92,
          1,
          1,
          1,
          0.98,
          0.98,
          0.98,
          1,
          1,
          0.96,
          1,
          1,
          1,
          1,
          1,
          1,
          1,
          0.94,
          0.96,
          0.94,
          0.98,
          0.98,
          0.98,
          0.98,
          0.98,
          0.98,
          0.98,
          0.98,
          0.94,
          0.98,
          0.98,
          0.98,
          1,
          1,
          0.98,
          0.98,
          0.92,
          0.94,
          0.92,
          1,
          1,
          1,
          0.98,
          0.98,
          0.98,
          1,
          1,
          0.96,
          1,
          0.98,
          0.98,
          1,
          1,
          1,
          1,
          0.92,
          0.94,
          0.92,
          0.96,
          0.98,
          0.98,
          0.98,
          0.98,
          0.98,
          0.96,
          0.96,
          0.94,
          0.98,
          0.96,
          0.96,
          0.98,
          0.98,
          0.98,
          0.98,
          0.89,
          0.93,
          0.93,
          1,
          1,
          1,
          1,
          1,
          1,
          1,
          1,
          1,
          1,
          0.98,
          0.98,
          1,
          1,
          1,
          1,
          0.93,
          0.98,
          0.98,
          1,
          1,
          1,
          1,
          1,
          1,
          1,
          1,
          0.98,
          1,
          0.98,
          0.98,
          0.98,
          1,
          1,
          1,
          0.93,
          0.96,
          0.96,
          0.98,
          0.98,
          0.98,
          0.98,
          0.98,
          0.98,
          0.98,
          0.98,
          0.96,
          0.98,
          0.96,
          0.96,
          0.98,
          0.98,
          0.98,
          0.98,
          0.91,
          0.94,
          0.94,
          0.92,
          0.92,
          0.92,
          0.92,
          0.92,
          0.92,
          0.92,
          0.92,
          0.9,
          0.92,
          0.9,
          0.9,
          0.92,
          0.92,
          0.92,
          0.92,
          0.87,
          0.88,
          0.88,
          0.88,
          0.88,
          0.88,
          0.87,
          0.88,
          0.88,
          0.88,
          0.88,
          0.87,
          0.88,
          0.85,
          0.87,
          0.85,
          0.87,
          0.88,
          0.88,
          0.83,
          0.85,
          0.85,
          0.96,
          0.96,
          0.96,
          0.94,
          0.96,
          0.96,
          0.96,
          0.96,
          0.92,
          0.96,
          0.94,
          0.96,
          0.92,
          0.94,
          0.96,
          0.96,
          0.9,
          0.92,
          0.92,
          1,
          1,
          1,
          0.98,
          1,
          1,
          1,
          1,
          0.96,
          1,
          0.96,
          0.98,
          0.96,
          0.98,
          1,
          1,
          0.94,
          0.94,
          0.94,
          0.97,
          0.97,
          0.97,
          0.97,
          0.97,
          0.97,
          0.97,
          0.97,
          0.97,
          0.97,
          0.97,
          0.97,
          0.95,
          0.97,
          0.97,
          0.97,
          0.97,
          0.97,
          0.97,
          0.97,
          0.97,
          0.97,
          0.97,
          1,
          1,
          0.97,
          0.97,
          0.97,
          0.97,
          0.97,
          0.97,
          0.97,
          0.97,
          0.97,
          0.97,
          0.97,
          0.97,
          0.97,
          1,
          1,
          1,
          1,
          1,
          1,
          1,
          1,
          1,
          1,
          1,
          1,
          0.97,
          1,
          1,
          1,
          1,
          1,
          1
         ],
         "xaxis": "x",
         "yaxis": "y"
        },
        {
         "alignmentgroup": "True",
         "boxpoints": "all",
         "customdata": [
          [
           "2017_2",
           "large_accelerated_filer",
           "roe"
          ],
          [
           "2017_2",
           "large_accelerated_filer",
           "roa"
          ],
          [
           "2017_2",
           "large_accelerated_filer",
           "roce"
          ],
          [
           "2017_2",
           "large_accelerated_filer",
           "gross_margin"
          ],
          [
           "2017_2",
           "large_accelerated_filer",
           "operating_profit_margin"
          ],
          [
           "2017_2",
           "large_accelerated_filer",
           "net_profit_margin"
          ],
          [
           "2017_2",
           "large_accelerated_filer",
           "debt_to_equity"
          ],
          [
           "2017_2",
           "large_accelerated_filer",
           "equity"
          ],
          [
           "2017_2",
           "large_accelerated_filer",
           "debt"
          ],
          [
           "2017_2",
           "large_accelerated_filer",
           "current"
          ],
          [
           "2017_2",
           "large_accelerated_filer",
           "quick"
          ],
          [
           "2017_2",
           "large_accelerated_filer",
           "cash"
          ],
          [
           "2017_2",
           "large_accelerated_filer",
           "times_interest_earned"
          ],
          [
           "2017_2",
           "large_accelerated_filer",
           "capex_to_operating_cash"
          ],
          [
           "2017_2",
           "large_accelerated_filer",
           "operating_cash_flow"
          ],
          [
           "2017_2",
           "large_accelerated_filer",
           "price_to_earnings"
          ],
          [
           "2017_2",
           "large_accelerated_filer",
           "ev_ebitda"
          ],
          [
           "2017_2",
           "large_accelerated_filer",
           "ev_ebit"
          ],
          [
           "2017_2",
           "large_accelerated_filer",
           "ev_revenue"
          ],
          [
           "2017_3",
           "large_accelerated_filer",
           "roe"
          ],
          [
           "2017_3",
           "large_accelerated_filer",
           "roa"
          ],
          [
           "2017_3",
           "large_accelerated_filer",
           "roce"
          ],
          [
           "2017_3",
           "large_accelerated_filer",
           "gross_margin"
          ],
          [
           "2017_3",
           "large_accelerated_filer",
           "operating_profit_margin"
          ],
          [
           "2017_3",
           "large_accelerated_filer",
           "net_profit_margin"
          ],
          [
           "2017_3",
           "large_accelerated_filer",
           "debt_to_equity"
          ],
          [
           "2017_3",
           "large_accelerated_filer",
           "equity"
          ],
          [
           "2017_3",
           "large_accelerated_filer",
           "debt"
          ],
          [
           "2017_3",
           "large_accelerated_filer",
           "current"
          ],
          [
           "2017_3",
           "large_accelerated_filer",
           "quick"
          ],
          [
           "2017_3",
           "large_accelerated_filer",
           "cash"
          ],
          [
           "2017_3",
           "large_accelerated_filer",
           "times_interest_earned"
          ],
          [
           "2017_3",
           "large_accelerated_filer",
           "capex_to_operating_cash"
          ],
          [
           "2017_3",
           "large_accelerated_filer",
           "operating_cash_flow"
          ],
          [
           "2017_3",
           "large_accelerated_filer",
           "price_to_earnings"
          ],
          [
           "2017_3",
           "large_accelerated_filer",
           "ev_ebitda"
          ],
          [
           "2017_3",
           "large_accelerated_filer",
           "ev_ebit"
          ],
          [
           "2017_3",
           "large_accelerated_filer",
           "ev_revenue"
          ],
          [
           "2017_4",
           "large_accelerated_filer",
           "roe"
          ],
          [
           "2017_4",
           "large_accelerated_filer",
           "roa"
          ],
          [
           "2017_4",
           "large_accelerated_filer",
           "roce"
          ],
          [
           "2017_4",
           "large_accelerated_filer",
           "gross_margin"
          ],
          [
           "2017_4",
           "large_accelerated_filer",
           "operating_profit_margin"
          ],
          [
           "2017_4",
           "large_accelerated_filer",
           "net_profit_margin"
          ],
          [
           "2017_4",
           "large_accelerated_filer",
           "debt_to_equity"
          ],
          [
           "2017_4",
           "large_accelerated_filer",
           "equity"
          ],
          [
           "2017_4",
           "large_accelerated_filer",
           "debt"
          ],
          [
           "2017_4",
           "large_accelerated_filer",
           "current"
          ],
          [
           "2017_4",
           "large_accelerated_filer",
           "quick"
          ],
          [
           "2017_4",
           "large_accelerated_filer",
           "cash"
          ],
          [
           "2017_4",
           "large_accelerated_filer",
           "times_interest_earned"
          ],
          [
           "2017_4",
           "large_accelerated_filer",
           "capex_to_operating_cash"
          ],
          [
           "2017_4",
           "large_accelerated_filer",
           "operating_cash_flow"
          ],
          [
           "2017_4",
           "large_accelerated_filer",
           "price_to_earnings"
          ],
          [
           "2017_4",
           "large_accelerated_filer",
           "ev_ebitda"
          ],
          [
           "2017_4",
           "large_accelerated_filer",
           "ev_ebit"
          ],
          [
           "2017_4",
           "large_accelerated_filer",
           "ev_revenue"
          ],
          [
           "2018_1",
           "large_accelerated_filer",
           "roe"
          ],
          [
           "2018_1",
           "large_accelerated_filer",
           "roa"
          ],
          [
           "2018_1",
           "large_accelerated_filer",
           "roce"
          ],
          [
           "2018_1",
           "large_accelerated_filer",
           "gross_margin"
          ],
          [
           "2018_1",
           "large_accelerated_filer",
           "operating_profit_margin"
          ],
          [
           "2018_1",
           "large_accelerated_filer",
           "net_profit_margin"
          ],
          [
           "2018_1",
           "large_accelerated_filer",
           "debt_to_equity"
          ],
          [
           "2018_1",
           "large_accelerated_filer",
           "equity"
          ],
          [
           "2018_1",
           "large_accelerated_filer",
           "debt"
          ],
          [
           "2018_1",
           "large_accelerated_filer",
           "current"
          ],
          [
           "2018_1",
           "large_accelerated_filer",
           "quick"
          ],
          [
           "2018_1",
           "large_accelerated_filer",
           "cash"
          ],
          [
           "2018_1",
           "large_accelerated_filer",
           "times_interest_earned"
          ],
          [
           "2018_1",
           "large_accelerated_filer",
           "capex_to_operating_cash"
          ],
          [
           "2018_1",
           "large_accelerated_filer",
           "operating_cash_flow"
          ],
          [
           "2018_1",
           "large_accelerated_filer",
           "price_to_earnings"
          ],
          [
           "2018_1",
           "large_accelerated_filer",
           "ev_ebitda"
          ],
          [
           "2018_1",
           "large_accelerated_filer",
           "ev_ebit"
          ],
          [
           "2018_1",
           "large_accelerated_filer",
           "ev_revenue"
          ],
          [
           "2018_2",
           "large_accelerated_filer",
           "roe"
          ],
          [
           "2018_2",
           "large_accelerated_filer",
           "roa"
          ],
          [
           "2018_2",
           "large_accelerated_filer",
           "roce"
          ],
          [
           "2018_2",
           "large_accelerated_filer",
           "gross_margin"
          ],
          [
           "2018_2",
           "large_accelerated_filer",
           "operating_profit_margin"
          ],
          [
           "2018_2",
           "large_accelerated_filer",
           "net_profit_margin"
          ],
          [
           "2018_2",
           "large_accelerated_filer",
           "debt_to_equity"
          ],
          [
           "2018_2",
           "large_accelerated_filer",
           "equity"
          ],
          [
           "2018_2",
           "large_accelerated_filer",
           "debt"
          ],
          [
           "2018_2",
           "large_accelerated_filer",
           "current"
          ],
          [
           "2018_2",
           "large_accelerated_filer",
           "quick"
          ],
          [
           "2018_2",
           "large_accelerated_filer",
           "cash"
          ],
          [
           "2018_2",
           "large_accelerated_filer",
           "times_interest_earned"
          ],
          [
           "2018_2",
           "large_accelerated_filer",
           "capex_to_operating_cash"
          ],
          [
           "2018_2",
           "large_accelerated_filer",
           "operating_cash_flow"
          ],
          [
           "2018_2",
           "large_accelerated_filer",
           "price_to_earnings"
          ],
          [
           "2018_2",
           "large_accelerated_filer",
           "ev_ebitda"
          ],
          [
           "2018_2",
           "large_accelerated_filer",
           "ev_ebit"
          ],
          [
           "2018_2",
           "large_accelerated_filer",
           "ev_revenue"
          ],
          [
           "2018_3",
           "large_accelerated_filer",
           "roe"
          ],
          [
           "2018_3",
           "large_accelerated_filer",
           "roa"
          ],
          [
           "2018_3",
           "large_accelerated_filer",
           "roce"
          ],
          [
           "2018_3",
           "large_accelerated_filer",
           "gross_margin"
          ],
          [
           "2018_3",
           "large_accelerated_filer",
           "operating_profit_margin"
          ],
          [
           "2018_3",
           "large_accelerated_filer",
           "net_profit_margin"
          ],
          [
           "2018_3",
           "large_accelerated_filer",
           "debt_to_equity"
          ],
          [
           "2018_3",
           "large_accelerated_filer",
           "equity"
          ],
          [
           "2018_3",
           "large_accelerated_filer",
           "debt"
          ],
          [
           "2018_3",
           "large_accelerated_filer",
           "current"
          ],
          [
           "2018_3",
           "large_accelerated_filer",
           "quick"
          ],
          [
           "2018_3",
           "large_accelerated_filer",
           "cash"
          ],
          [
           "2018_3",
           "large_accelerated_filer",
           "times_interest_earned"
          ],
          [
           "2018_3",
           "large_accelerated_filer",
           "capex_to_operating_cash"
          ],
          [
           "2018_3",
           "large_accelerated_filer",
           "operating_cash_flow"
          ],
          [
           "2018_3",
           "large_accelerated_filer",
           "price_to_earnings"
          ],
          [
           "2018_3",
           "large_accelerated_filer",
           "ev_ebitda"
          ],
          [
           "2018_3",
           "large_accelerated_filer",
           "ev_ebit"
          ],
          [
           "2018_3",
           "large_accelerated_filer",
           "ev_revenue"
          ],
          [
           "2018_4",
           "large_accelerated_filer",
           "roe"
          ],
          [
           "2018_4",
           "large_accelerated_filer",
           "roa"
          ],
          [
           "2018_4",
           "large_accelerated_filer",
           "roce"
          ],
          [
           "2018_4",
           "large_accelerated_filer",
           "gross_margin"
          ],
          [
           "2018_4",
           "large_accelerated_filer",
           "operating_profit_margin"
          ],
          [
           "2018_4",
           "large_accelerated_filer",
           "net_profit_margin"
          ],
          [
           "2018_4",
           "large_accelerated_filer",
           "debt_to_equity"
          ],
          [
           "2018_4",
           "large_accelerated_filer",
           "equity"
          ],
          [
           "2018_4",
           "large_accelerated_filer",
           "debt"
          ],
          [
           "2018_4",
           "large_accelerated_filer",
           "current"
          ],
          [
           "2018_4",
           "large_accelerated_filer",
           "quick"
          ],
          [
           "2018_4",
           "large_accelerated_filer",
           "cash"
          ],
          [
           "2018_4",
           "large_accelerated_filer",
           "times_interest_earned"
          ],
          [
           "2018_4",
           "large_accelerated_filer",
           "capex_to_operating_cash"
          ],
          [
           "2018_4",
           "large_accelerated_filer",
           "operating_cash_flow"
          ],
          [
           "2018_4",
           "large_accelerated_filer",
           "price_to_earnings"
          ],
          [
           "2018_4",
           "large_accelerated_filer",
           "ev_ebitda"
          ],
          [
           "2018_4",
           "large_accelerated_filer",
           "ev_ebit"
          ],
          [
           "2018_4",
           "large_accelerated_filer",
           "ev_revenue"
          ],
          [
           "2019_1",
           "large_accelerated_filer",
           "roe"
          ],
          [
           "2019_1",
           "large_accelerated_filer",
           "roa"
          ],
          [
           "2019_1",
           "large_accelerated_filer",
           "roce"
          ],
          [
           "2019_1",
           "large_accelerated_filer",
           "gross_margin"
          ],
          [
           "2019_1",
           "large_accelerated_filer",
           "operating_profit_margin"
          ],
          [
           "2019_1",
           "large_accelerated_filer",
           "net_profit_margin"
          ],
          [
           "2019_1",
           "large_accelerated_filer",
           "debt_to_equity"
          ],
          [
           "2019_1",
           "large_accelerated_filer",
           "equity"
          ],
          [
           "2019_1",
           "large_accelerated_filer",
           "debt"
          ],
          [
           "2019_1",
           "large_accelerated_filer",
           "current"
          ],
          [
           "2019_1",
           "large_accelerated_filer",
           "quick"
          ],
          [
           "2019_1",
           "large_accelerated_filer",
           "cash"
          ],
          [
           "2019_1",
           "large_accelerated_filer",
           "times_interest_earned"
          ],
          [
           "2019_1",
           "large_accelerated_filer",
           "capex_to_operating_cash"
          ],
          [
           "2019_1",
           "large_accelerated_filer",
           "operating_cash_flow"
          ],
          [
           "2019_1",
           "large_accelerated_filer",
           "price_to_earnings"
          ],
          [
           "2019_1",
           "large_accelerated_filer",
           "ev_ebitda"
          ],
          [
           "2019_1",
           "large_accelerated_filer",
           "ev_ebit"
          ],
          [
           "2019_1",
           "large_accelerated_filer",
           "ev_revenue"
          ],
          [
           "2019_2",
           "large_accelerated_filer",
           "roe"
          ],
          [
           "2019_2",
           "large_accelerated_filer",
           "roa"
          ],
          [
           "2019_2",
           "large_accelerated_filer",
           "roce"
          ],
          [
           "2019_2",
           "large_accelerated_filer",
           "gross_margin"
          ],
          [
           "2019_2",
           "large_accelerated_filer",
           "operating_profit_margin"
          ],
          [
           "2019_2",
           "large_accelerated_filer",
           "net_profit_margin"
          ],
          [
           "2019_2",
           "large_accelerated_filer",
           "debt_to_equity"
          ],
          [
           "2019_2",
           "large_accelerated_filer",
           "equity"
          ],
          [
           "2019_2",
           "large_accelerated_filer",
           "debt"
          ],
          [
           "2019_2",
           "large_accelerated_filer",
           "current"
          ],
          [
           "2019_2",
           "large_accelerated_filer",
           "quick"
          ],
          [
           "2019_2",
           "large_accelerated_filer",
           "cash"
          ],
          [
           "2019_2",
           "large_accelerated_filer",
           "times_interest_earned"
          ],
          [
           "2019_2",
           "large_accelerated_filer",
           "capex_to_operating_cash"
          ],
          [
           "2019_2",
           "large_accelerated_filer",
           "operating_cash_flow"
          ],
          [
           "2019_2",
           "large_accelerated_filer",
           "price_to_earnings"
          ],
          [
           "2019_2",
           "large_accelerated_filer",
           "ev_ebitda"
          ],
          [
           "2019_2",
           "large_accelerated_filer",
           "ev_ebit"
          ],
          [
           "2019_2",
           "large_accelerated_filer",
           "ev_revenue"
          ],
          [
           "2019_3",
           "large_accelerated_filer",
           "roe"
          ],
          [
           "2019_3",
           "large_accelerated_filer",
           "roa"
          ],
          [
           "2019_3",
           "large_accelerated_filer",
           "roce"
          ],
          [
           "2019_3",
           "large_accelerated_filer",
           "gross_margin"
          ],
          [
           "2019_3",
           "large_accelerated_filer",
           "operating_profit_margin"
          ],
          [
           "2019_3",
           "large_accelerated_filer",
           "net_profit_margin"
          ],
          [
           "2019_3",
           "large_accelerated_filer",
           "debt_to_equity"
          ],
          [
           "2019_3",
           "large_accelerated_filer",
           "equity"
          ],
          [
           "2019_3",
           "large_accelerated_filer",
           "debt"
          ],
          [
           "2019_3",
           "large_accelerated_filer",
           "current"
          ],
          [
           "2019_3",
           "large_accelerated_filer",
           "quick"
          ],
          [
           "2019_3",
           "large_accelerated_filer",
           "cash"
          ],
          [
           "2019_3",
           "large_accelerated_filer",
           "times_interest_earned"
          ],
          [
           "2019_3",
           "large_accelerated_filer",
           "capex_to_operating_cash"
          ],
          [
           "2019_3",
           "large_accelerated_filer",
           "operating_cash_flow"
          ],
          [
           "2019_3",
           "large_accelerated_filer",
           "price_to_earnings"
          ],
          [
           "2019_3",
           "large_accelerated_filer",
           "ev_ebitda"
          ],
          [
           "2019_3",
           "large_accelerated_filer",
           "ev_ebit"
          ],
          [
           "2019_3",
           "large_accelerated_filer",
           "ev_revenue"
          ],
          [
           "2019_4",
           "large_accelerated_filer",
           "roe"
          ],
          [
           "2019_4",
           "large_accelerated_filer",
           "roa"
          ],
          [
           "2019_4",
           "large_accelerated_filer",
           "roce"
          ],
          [
           "2019_4",
           "large_accelerated_filer",
           "gross_margin"
          ],
          [
           "2019_4",
           "large_accelerated_filer",
           "operating_profit_margin"
          ],
          [
           "2019_4",
           "large_accelerated_filer",
           "net_profit_margin"
          ],
          [
           "2019_4",
           "large_accelerated_filer",
           "debt_to_equity"
          ],
          [
           "2019_4",
           "large_accelerated_filer",
           "equity"
          ],
          [
           "2019_4",
           "large_accelerated_filer",
           "debt"
          ],
          [
           "2019_4",
           "large_accelerated_filer",
           "current"
          ],
          [
           "2019_4",
           "large_accelerated_filer",
           "quick"
          ],
          [
           "2019_4",
           "large_accelerated_filer",
           "cash"
          ],
          [
           "2019_4",
           "large_accelerated_filer",
           "times_interest_earned"
          ],
          [
           "2019_4",
           "large_accelerated_filer",
           "capex_to_operating_cash"
          ],
          [
           "2019_4",
           "large_accelerated_filer",
           "operating_cash_flow"
          ],
          [
           "2019_4",
           "large_accelerated_filer",
           "price_to_earnings"
          ],
          [
           "2019_4",
           "large_accelerated_filer",
           "ev_ebitda"
          ],
          [
           "2019_4",
           "large_accelerated_filer",
           "ev_ebit"
          ],
          [
           "2019_4",
           "large_accelerated_filer",
           "ev_revenue"
          ],
          [
           "2020_1",
           "large_accelerated_filer",
           "roe"
          ],
          [
           "2020_1",
           "large_accelerated_filer",
           "roa"
          ],
          [
           "2020_1",
           "large_accelerated_filer",
           "roce"
          ],
          [
           "2020_1",
           "large_accelerated_filer",
           "gross_margin"
          ],
          [
           "2020_1",
           "large_accelerated_filer",
           "operating_profit_margin"
          ],
          [
           "2020_1",
           "large_accelerated_filer",
           "net_profit_margin"
          ],
          [
           "2020_1",
           "large_accelerated_filer",
           "debt_to_equity"
          ],
          [
           "2020_1",
           "large_accelerated_filer",
           "equity"
          ],
          [
           "2020_1",
           "large_accelerated_filer",
           "debt"
          ],
          [
           "2020_1",
           "large_accelerated_filer",
           "current"
          ],
          [
           "2020_1",
           "large_accelerated_filer",
           "quick"
          ],
          [
           "2020_1",
           "large_accelerated_filer",
           "cash"
          ],
          [
           "2020_1",
           "large_accelerated_filer",
           "times_interest_earned"
          ],
          [
           "2020_1",
           "large_accelerated_filer",
           "capex_to_operating_cash"
          ],
          [
           "2020_1",
           "large_accelerated_filer",
           "operating_cash_flow"
          ],
          [
           "2020_1",
           "large_accelerated_filer",
           "price_to_earnings"
          ],
          [
           "2020_1",
           "large_accelerated_filer",
           "ev_ebitda"
          ],
          [
           "2020_1",
           "large_accelerated_filer",
           "ev_ebit"
          ],
          [
           "2020_1",
           "large_accelerated_filer",
           "ev_revenue"
          ],
          [
           "2020_2",
           "large_accelerated_filer",
           "roe"
          ],
          [
           "2020_2",
           "large_accelerated_filer",
           "roa"
          ],
          [
           "2020_2",
           "large_accelerated_filer",
           "roce"
          ],
          [
           "2020_2",
           "large_accelerated_filer",
           "gross_margin"
          ],
          [
           "2020_2",
           "large_accelerated_filer",
           "operating_profit_margin"
          ],
          [
           "2020_2",
           "large_accelerated_filer",
           "net_profit_margin"
          ],
          [
           "2020_2",
           "large_accelerated_filer",
           "debt_to_equity"
          ],
          [
           "2020_2",
           "large_accelerated_filer",
           "equity"
          ],
          [
           "2020_2",
           "large_accelerated_filer",
           "debt"
          ],
          [
           "2020_2",
           "large_accelerated_filer",
           "current"
          ],
          [
           "2020_2",
           "large_accelerated_filer",
           "quick"
          ],
          [
           "2020_2",
           "large_accelerated_filer",
           "cash"
          ],
          [
           "2020_2",
           "large_accelerated_filer",
           "times_interest_earned"
          ],
          [
           "2020_2",
           "large_accelerated_filer",
           "capex_to_operating_cash"
          ],
          [
           "2020_2",
           "large_accelerated_filer",
           "operating_cash_flow"
          ],
          [
           "2020_2",
           "large_accelerated_filer",
           "price_to_earnings"
          ],
          [
           "2020_2",
           "large_accelerated_filer",
           "ev_ebitda"
          ],
          [
           "2020_2",
           "large_accelerated_filer",
           "ev_ebit"
          ],
          [
           "2020_2",
           "large_accelerated_filer",
           "ev_revenue"
          ],
          [
           "2020_3",
           "large_accelerated_filer",
           "roe"
          ],
          [
           "2020_3",
           "large_accelerated_filer",
           "roa"
          ],
          [
           "2020_3",
           "large_accelerated_filer",
           "roce"
          ],
          [
           "2020_3",
           "large_accelerated_filer",
           "gross_margin"
          ],
          [
           "2020_3",
           "large_accelerated_filer",
           "operating_profit_margin"
          ],
          [
           "2020_3",
           "large_accelerated_filer",
           "net_profit_margin"
          ],
          [
           "2020_3",
           "large_accelerated_filer",
           "debt_to_equity"
          ],
          [
           "2020_3",
           "large_accelerated_filer",
           "equity"
          ],
          [
           "2020_3",
           "large_accelerated_filer",
           "debt"
          ],
          [
           "2020_3",
           "large_accelerated_filer",
           "current"
          ],
          [
           "2020_3",
           "large_accelerated_filer",
           "quick"
          ],
          [
           "2020_3",
           "large_accelerated_filer",
           "cash"
          ],
          [
           "2020_3",
           "large_accelerated_filer",
           "times_interest_earned"
          ],
          [
           "2020_3",
           "large_accelerated_filer",
           "capex_to_operating_cash"
          ],
          [
           "2020_3",
           "large_accelerated_filer",
           "operating_cash_flow"
          ],
          [
           "2020_3",
           "large_accelerated_filer",
           "price_to_earnings"
          ],
          [
           "2020_3",
           "large_accelerated_filer",
           "ev_ebitda"
          ],
          [
           "2020_3",
           "large_accelerated_filer",
           "ev_ebit"
          ],
          [
           "2020_3",
           "large_accelerated_filer",
           "ev_revenue"
          ],
          [
           "2020_4",
           "large_accelerated_filer",
           "roe"
          ],
          [
           "2020_4",
           "large_accelerated_filer",
           "roa"
          ],
          [
           "2020_4",
           "large_accelerated_filer",
           "roce"
          ],
          [
           "2020_4",
           "large_accelerated_filer",
           "gross_margin"
          ],
          [
           "2020_4",
           "large_accelerated_filer",
           "operating_profit_margin"
          ],
          [
           "2020_4",
           "large_accelerated_filer",
           "net_profit_margin"
          ],
          [
           "2020_4",
           "large_accelerated_filer",
           "debt_to_equity"
          ],
          [
           "2020_4",
           "large_accelerated_filer",
           "equity"
          ],
          [
           "2020_4",
           "large_accelerated_filer",
           "debt"
          ],
          [
           "2020_4",
           "large_accelerated_filer",
           "current"
          ],
          [
           "2020_4",
           "large_accelerated_filer",
           "quick"
          ],
          [
           "2020_4",
           "large_accelerated_filer",
           "cash"
          ],
          [
           "2020_4",
           "large_accelerated_filer",
           "times_interest_earned"
          ],
          [
           "2020_4",
           "large_accelerated_filer",
           "capex_to_operating_cash"
          ],
          [
           "2020_4",
           "large_accelerated_filer",
           "operating_cash_flow"
          ],
          [
           "2020_4",
           "large_accelerated_filer",
           "price_to_earnings"
          ],
          [
           "2020_4",
           "large_accelerated_filer",
           "ev_ebitda"
          ],
          [
           "2020_4",
           "large_accelerated_filer",
           "ev_ebit"
          ],
          [
           "2020_4",
           "large_accelerated_filer",
           "ev_revenue"
          ],
          [
           "2021_1",
           "large_accelerated_filer",
           "roe"
          ],
          [
           "2021_1",
           "large_accelerated_filer",
           "roa"
          ],
          [
           "2021_1",
           "large_accelerated_filer",
           "roce"
          ],
          [
           "2021_1",
           "large_accelerated_filer",
           "gross_margin"
          ],
          [
           "2021_1",
           "large_accelerated_filer",
           "operating_profit_margin"
          ],
          [
           "2021_1",
           "large_accelerated_filer",
           "net_profit_margin"
          ],
          [
           "2021_1",
           "large_accelerated_filer",
           "debt_to_equity"
          ],
          [
           "2021_1",
           "large_accelerated_filer",
           "equity"
          ],
          [
           "2021_1",
           "large_accelerated_filer",
           "debt"
          ],
          [
           "2021_1",
           "large_accelerated_filer",
           "current"
          ],
          [
           "2021_1",
           "large_accelerated_filer",
           "quick"
          ],
          [
           "2021_1",
           "large_accelerated_filer",
           "cash"
          ],
          [
           "2021_1",
           "large_accelerated_filer",
           "times_interest_earned"
          ],
          [
           "2021_1",
           "large_accelerated_filer",
           "capex_to_operating_cash"
          ],
          [
           "2021_1",
           "large_accelerated_filer",
           "operating_cash_flow"
          ],
          [
           "2021_1",
           "large_accelerated_filer",
           "price_to_earnings"
          ],
          [
           "2021_1",
           "large_accelerated_filer",
           "ev_ebitda"
          ],
          [
           "2021_1",
           "large_accelerated_filer",
           "ev_ebit"
          ],
          [
           "2021_1",
           "large_accelerated_filer",
           "ev_revenue"
          ],
          [
           "2021_2",
           "large_accelerated_filer",
           "roe"
          ],
          [
           "2021_2",
           "large_accelerated_filer",
           "roa"
          ],
          [
           "2021_2",
           "large_accelerated_filer",
           "roce"
          ],
          [
           "2021_2",
           "large_accelerated_filer",
           "gross_margin"
          ],
          [
           "2021_2",
           "large_accelerated_filer",
           "operating_profit_margin"
          ],
          [
           "2021_2",
           "large_accelerated_filer",
           "net_profit_margin"
          ],
          [
           "2021_2",
           "large_accelerated_filer",
           "debt_to_equity"
          ],
          [
           "2021_2",
           "large_accelerated_filer",
           "equity"
          ],
          [
           "2021_2",
           "large_accelerated_filer",
           "debt"
          ],
          [
           "2021_2",
           "large_accelerated_filer",
           "current"
          ],
          [
           "2021_2",
           "large_accelerated_filer",
           "quick"
          ],
          [
           "2021_2",
           "large_accelerated_filer",
           "cash"
          ],
          [
           "2021_2",
           "large_accelerated_filer",
           "times_interest_earned"
          ],
          [
           "2021_2",
           "large_accelerated_filer",
           "capex_to_operating_cash"
          ],
          [
           "2021_2",
           "large_accelerated_filer",
           "operating_cash_flow"
          ],
          [
           "2021_2",
           "large_accelerated_filer",
           "price_to_earnings"
          ],
          [
           "2021_2",
           "large_accelerated_filer",
           "ev_ebitda"
          ],
          [
           "2021_2",
           "large_accelerated_filer",
           "ev_ebit"
          ],
          [
           "2021_2",
           "large_accelerated_filer",
           "ev_revenue"
          ],
          [
           "2021_3",
           "large_accelerated_filer",
           "roe"
          ],
          [
           "2021_3",
           "large_accelerated_filer",
           "roa"
          ],
          [
           "2021_3",
           "large_accelerated_filer",
           "roce"
          ],
          [
           "2021_3",
           "large_accelerated_filer",
           "gross_margin"
          ],
          [
           "2021_3",
           "large_accelerated_filer",
           "operating_profit_margin"
          ],
          [
           "2021_3",
           "large_accelerated_filer",
           "net_profit_margin"
          ],
          [
           "2021_3",
           "large_accelerated_filer",
           "debt_to_equity"
          ],
          [
           "2021_3",
           "large_accelerated_filer",
           "equity"
          ],
          [
           "2021_3",
           "large_accelerated_filer",
           "debt"
          ],
          [
           "2021_3",
           "large_accelerated_filer",
           "current"
          ],
          [
           "2021_3",
           "large_accelerated_filer",
           "quick"
          ],
          [
           "2021_3",
           "large_accelerated_filer",
           "cash"
          ],
          [
           "2021_3",
           "large_accelerated_filer",
           "times_interest_earned"
          ],
          [
           "2021_3",
           "large_accelerated_filer",
           "capex_to_operating_cash"
          ],
          [
           "2021_3",
           "large_accelerated_filer",
           "operating_cash_flow"
          ],
          [
           "2021_3",
           "large_accelerated_filer",
           "price_to_earnings"
          ],
          [
           "2021_3",
           "large_accelerated_filer",
           "ev_ebitda"
          ],
          [
           "2021_3",
           "large_accelerated_filer",
           "ev_ebit"
          ],
          [
           "2021_3",
           "large_accelerated_filer",
           "ev_revenue"
          ]
         ],
         "fillcolor": "rgba(255,255,255,0)",
         "hoveron": "points",
         "hovertemplate": "filer_type=%{customdata[1]}<br>used_to_all=%{x}<br>year_q=%{customdata[0]}<br>kpi=%{customdata[2]}<extra></extra>",
         "jitter": 0,
         "legendgroup": "large_accelerated_filer",
         "line": {
          "color": "rgba(255,255,255,0)"
         },
         "marker": {
          "color": "#EF553B",
          "symbol": "line-ns-open"
         },
         "name": "large_accelerated_filer",
         "offsetgroup": "large_accelerated_filer",
         "showlegend": false,
         "type": "box",
         "x": [
          0.98,
          0.98,
          0.98,
          0.96,
          0.96,
          0.96,
          0.98,
          0.98,
          0.91,
          0.98,
          0.96,
          0.96,
          0.96,
          0.98,
          0.98,
          0.98,
          0.87,
          0.89,
          0.87,
          1,
          1,
          1,
          0.98,
          0.98,
          0.98,
          1,
          1,
          0.94,
          1,
          1,
          1,
          0.98,
          1,
          1,
          1,
          0.91,
          0.94,
          0.91,
          1,
          1,
          1,
          0.98,
          0.98,
          0.98,
          1,
          1,
          0.94,
          1,
          1,
          1,
          0.98,
          1,
          1,
          1,
          0.91,
          0.94,
          0.91,
          0.98,
          0.98,
          0.98,
          0.96,
          0.96,
          0.96,
          0.98,
          0.98,
          0.94,
          0.98,
          0.96,
          0.98,
          0.98,
          0.98,
          0.98,
          0.98,
          0.92,
          0.94,
          0.92,
          1,
          1,
          1,
          0.98,
          0.98,
          0.98,
          1,
          1,
          0.96,
          1,
          1,
          1,
          1,
          1,
          1,
          1,
          0.94,
          0.96,
          0.94,
          0.98,
          0.98,
          0.98,
          0.98,
          0.98,
          0.98,
          0.98,
          0.98,
          0.94,
          0.98,
          0.98,
          0.98,
          1,
          1,
          0.98,
          0.98,
          0.92,
          0.94,
          0.92,
          1,
          1,
          1,
          0.98,
          0.98,
          0.98,
          1,
          1,
          0.96,
          1,
          0.98,
          0.98,
          1,
          1,
          1,
          1,
          0.92,
          0.94,
          0.92,
          0.96,
          0.98,
          0.98,
          0.98,
          0.98,
          0.98,
          0.96,
          0.96,
          0.94,
          0.98,
          0.96,
          0.96,
          0.98,
          0.98,
          0.98,
          0.98,
          0.89,
          0.93,
          0.93,
          1,
          1,
          1,
          1,
          1,
          1,
          1,
          1,
          1,
          1,
          0.98,
          0.98,
          1,
          1,
          1,
          1,
          0.93,
          0.98,
          0.98,
          1,
          1,
          1,
          1,
          1,
          1,
          1,
          1,
          0.98,
          1,
          0.98,
          0.98,
          0.98,
          1,
          1,
          1,
          0.93,
          0.96,
          0.96,
          0.98,
          0.98,
          0.98,
          0.98,
          0.98,
          0.98,
          0.98,
          0.98,
          0.96,
          0.98,
          0.96,
          0.96,
          0.98,
          0.98,
          0.98,
          0.98,
          0.91,
          0.94,
          0.94,
          0.92,
          0.92,
          0.92,
          0.92,
          0.92,
          0.92,
          0.92,
          0.92,
          0.9,
          0.92,
          0.9,
          0.9,
          0.92,
          0.92,
          0.92,
          0.92,
          0.87,
          0.88,
          0.88,
          0.88,
          0.88,
          0.88,
          0.87,
          0.88,
          0.88,
          0.88,
          0.88,
          0.87,
          0.88,
          0.85,
          0.87,
          0.85,
          0.87,
          0.88,
          0.88,
          0.83,
          0.85,
          0.85,
          0.96,
          0.96,
          0.96,
          0.94,
          0.96,
          0.96,
          0.96,
          0.96,
          0.92,
          0.96,
          0.94,
          0.96,
          0.92,
          0.94,
          0.96,
          0.96,
          0.9,
          0.92,
          0.92,
          1,
          1,
          1,
          0.98,
          1,
          1,
          1,
          1,
          0.96,
          1,
          0.96,
          0.98,
          0.96,
          0.98,
          1,
          1,
          0.94,
          0.94,
          0.94,
          0.97,
          0.97,
          0.97,
          0.97,
          0.97,
          0.97,
          0.97,
          0.97,
          0.97,
          0.97,
          0.97,
          0.97,
          0.95,
          0.97,
          0.97,
          0.97,
          0.97,
          0.97,
          0.97,
          0.97,
          0.97,
          0.97,
          0.97,
          1,
          1,
          0.97,
          0.97,
          0.97,
          0.97,
          0.97,
          0.97,
          0.97,
          0.97,
          0.97,
          0.97,
          0.97,
          0.97,
          0.97,
          1,
          1,
          1,
          1,
          1,
          1,
          1,
          1,
          1,
          1,
          1,
          1,
          0.97,
          1,
          1,
          1,
          1,
          1,
          1
         ],
         "xaxis": "x2",
         "yaxis": "y2"
        },
        {
         "alignmentgroup": "True",
         "bingroup": "x",
         "hovertemplate": "filer_type=non_accelerated_filer<br>used_to_all=%{x}<br>count=%{y}<extra></extra>",
         "legendgroup": "non_accelerated_filer",
         "marker": {
          "color": "#00cc96",
          "pattern": {
           "shape": ""
          }
         },
         "name": "non_accelerated_filer",
         "offsetgroup": "non_accelerated_filer",
         "orientation": "v",
         "showlegend": true,
         "type": "histogram",
         "x": [
          0.8,
          0.8,
          0.75,
          0.8,
          0.85,
          0.85,
          0.75,
          0.8,
          0.6,
          0.75,
          0.65,
          0.75,
          0.7,
          0.75,
          0.75,
          0.8,
          0.55,
          0.6,
          0.6,
          0.94,
          0.94,
          0.89,
          0.94,
          0.94,
          0.94,
          0.89,
          0.94,
          0.78,
          0.89,
          0.72,
          0.83,
          0.78,
          0.83,
          0.89,
          0.94,
          0.67,
          0.72,
          0.72,
          0.94,
          0.94,
          0.89,
          0.94,
          0.94,
          0.94,
          0.89,
          0.94,
          0.78,
          0.89,
          0.78,
          0.89,
          0.78,
          0.83,
          0.89,
          0.94,
          0.72,
          0.78,
          0.78,
          1,
          1,
          0.91,
          1,
          1,
          1,
          0.91,
          1,
          0.82,
          0.91,
          0.73,
          0.91,
          0.82,
          0.91,
          0.91,
          1,
          0.82,
          0.82,
          0.82,
          0.76,
          0.76,
          0.71,
          0.76,
          0.76,
          0.76,
          0.71,
          0.76,
          0.59,
          0.71,
          0.53,
          0.71,
          0.59,
          0.65,
          0.71,
          0.76,
          0.59,
          0.59,
          0.59,
          0.93,
          0.93,
          0.86,
          0.93,
          0.93,
          0.93,
          0.86,
          0.93,
          0.71,
          0.86,
          0.64,
          0.86,
          0.71,
          0.79,
          0.86,
          0.93,
          0.71,
          0.71,
          0.71,
          0.93,
          0.93,
          0.86,
          0.93,
          0.93,
          0.93,
          0.86,
          0.93,
          0.71,
          0.86,
          0.64,
          0.86,
          0.71,
          0.79,
          0.86,
          0.93,
          0.71,
          0.71,
          0.71,
          1,
          1,
          0.86,
          1,
          1,
          1,
          0.86,
          1,
          0.86,
          0.86,
          0.71,
          0.86,
          0.86,
          0.86,
          0.86,
          1,
          0.86,
          0.86,
          0.86,
          0.73,
          0.73,
          0.64,
          0.73,
          0.73,
          0.73,
          0.64,
          0.73,
          0.55,
          0.64,
          0.45,
          0.64,
          0.55,
          0.55,
          0.64,
          0.73,
          0.55,
          0.55,
          0.55,
          0.8,
          0.8,
          0.7,
          0.8,
          0.8,
          0.8,
          0.7,
          0.8,
          0.6,
          0.7,
          0.5,
          0.7,
          0.6,
          0.6,
          0.7,
          0.8,
          0.6,
          0.6,
          0.6,
          0.91,
          1,
          0.91,
          1,
          1,
          1,
          0.82,
          0.91,
          0.82,
          0.91,
          0.64,
          0.82,
          0.82,
          0.82,
          0.91,
          1,
          0.73,
          0.73,
          0.73,
          0.93,
          1,
          0.79,
          0.86,
          1,
          1,
          0.79,
          0.93,
          0.79,
          0.79,
          0.64,
          0.79,
          0.71,
          0.71,
          0.79,
          1,
          0.79,
          0.79,
          0.79,
          0.81,
          0.81,
          0.69,
          0.69,
          0.88,
          0.81,
          0.69,
          0.81,
          0.69,
          0.69,
          0.56,
          0.69,
          0.56,
          0.62,
          0.69,
          0.81,
          0.69,
          0.69,
          0.69,
          0.87,
          0.93,
          0.73,
          0.73,
          0.93,
          0.93,
          0.73,
          0.87,
          0.73,
          0.73,
          0.6,
          0.73,
          0.67,
          0.67,
          0.73,
          0.93,
          0.73,
          0.73,
          0.73,
          0.53,
          0.6,
          0.53,
          0.6,
          0.6,
          0.6,
          0.53,
          0.67,
          0.6,
          0.53,
          0.47,
          0.47,
          0.53,
          0.53,
          0.53,
          0.6,
          0.53,
          0.53,
          0.53,
          0.9,
          0.97,
          0.87,
          0.77,
          0.94,
          0.9,
          0.87,
          0.94,
          0.77,
          0.87,
          0.71,
          0.87,
          0.77,
          0.77,
          0.87,
          0.97,
          0.77,
          0.77,
          0.74,
          0.77,
          0.77,
          0.71,
          0.63,
          0.74,
          0.74,
          0.71,
          0.77,
          0.66,
          0.71,
          0.6,
          0.71,
          0.63,
          0.66,
          0.71,
          0.77,
          0.66,
          0.66,
          0.63,
          0.79,
          0.79,
          0.73,
          0.64,
          0.76,
          0.76,
          0.76,
          0.82,
          0.67,
          0.73,
          0.61,
          0.73,
          0.61,
          0.67,
          0.73,
          0.79,
          0.67,
          0.67,
          0.64
         ],
         "xaxis": "x",
         "yaxis": "y"
        },
        {
         "alignmentgroup": "True",
         "boxpoints": "all",
         "customdata": [
          [
           "2017_2",
           "non_accelerated_filer",
           "roe"
          ],
          [
           "2017_2",
           "non_accelerated_filer",
           "roa"
          ],
          [
           "2017_2",
           "non_accelerated_filer",
           "roce"
          ],
          [
           "2017_2",
           "non_accelerated_filer",
           "gross_margin"
          ],
          [
           "2017_2",
           "non_accelerated_filer",
           "operating_profit_margin"
          ],
          [
           "2017_2",
           "non_accelerated_filer",
           "net_profit_margin"
          ],
          [
           "2017_2",
           "non_accelerated_filer",
           "debt_to_equity"
          ],
          [
           "2017_2",
           "non_accelerated_filer",
           "equity"
          ],
          [
           "2017_2",
           "non_accelerated_filer",
           "debt"
          ],
          [
           "2017_2",
           "non_accelerated_filer",
           "current"
          ],
          [
           "2017_2",
           "non_accelerated_filer",
           "quick"
          ],
          [
           "2017_2",
           "non_accelerated_filer",
           "cash"
          ],
          [
           "2017_2",
           "non_accelerated_filer",
           "times_interest_earned"
          ],
          [
           "2017_2",
           "non_accelerated_filer",
           "capex_to_operating_cash"
          ],
          [
           "2017_2",
           "non_accelerated_filer",
           "operating_cash_flow"
          ],
          [
           "2017_2",
           "non_accelerated_filer",
           "price_to_earnings"
          ],
          [
           "2017_2",
           "non_accelerated_filer",
           "ev_ebitda"
          ],
          [
           "2017_2",
           "non_accelerated_filer",
           "ev_ebit"
          ],
          [
           "2017_2",
           "non_accelerated_filer",
           "ev_revenue"
          ],
          [
           "2017_3",
           "non_accelerated_filer",
           "roe"
          ],
          [
           "2017_3",
           "non_accelerated_filer",
           "roa"
          ],
          [
           "2017_3",
           "non_accelerated_filer",
           "roce"
          ],
          [
           "2017_3",
           "non_accelerated_filer",
           "gross_margin"
          ],
          [
           "2017_3",
           "non_accelerated_filer",
           "operating_profit_margin"
          ],
          [
           "2017_3",
           "non_accelerated_filer",
           "net_profit_margin"
          ],
          [
           "2017_3",
           "non_accelerated_filer",
           "debt_to_equity"
          ],
          [
           "2017_3",
           "non_accelerated_filer",
           "equity"
          ],
          [
           "2017_3",
           "non_accelerated_filer",
           "debt"
          ],
          [
           "2017_3",
           "non_accelerated_filer",
           "current"
          ],
          [
           "2017_3",
           "non_accelerated_filer",
           "quick"
          ],
          [
           "2017_3",
           "non_accelerated_filer",
           "cash"
          ],
          [
           "2017_3",
           "non_accelerated_filer",
           "times_interest_earned"
          ],
          [
           "2017_3",
           "non_accelerated_filer",
           "capex_to_operating_cash"
          ],
          [
           "2017_3",
           "non_accelerated_filer",
           "operating_cash_flow"
          ],
          [
           "2017_3",
           "non_accelerated_filer",
           "price_to_earnings"
          ],
          [
           "2017_3",
           "non_accelerated_filer",
           "ev_ebitda"
          ],
          [
           "2017_3",
           "non_accelerated_filer",
           "ev_ebit"
          ],
          [
           "2017_3",
           "non_accelerated_filer",
           "ev_revenue"
          ],
          [
           "2017_4",
           "non_accelerated_filer",
           "roe"
          ],
          [
           "2017_4",
           "non_accelerated_filer",
           "roa"
          ],
          [
           "2017_4",
           "non_accelerated_filer",
           "roce"
          ],
          [
           "2017_4",
           "non_accelerated_filer",
           "gross_margin"
          ],
          [
           "2017_4",
           "non_accelerated_filer",
           "operating_profit_margin"
          ],
          [
           "2017_4",
           "non_accelerated_filer",
           "net_profit_margin"
          ],
          [
           "2017_4",
           "non_accelerated_filer",
           "debt_to_equity"
          ],
          [
           "2017_4",
           "non_accelerated_filer",
           "equity"
          ],
          [
           "2017_4",
           "non_accelerated_filer",
           "debt"
          ],
          [
           "2017_4",
           "non_accelerated_filer",
           "current"
          ],
          [
           "2017_4",
           "non_accelerated_filer",
           "quick"
          ],
          [
           "2017_4",
           "non_accelerated_filer",
           "cash"
          ],
          [
           "2017_4",
           "non_accelerated_filer",
           "times_interest_earned"
          ],
          [
           "2017_4",
           "non_accelerated_filer",
           "capex_to_operating_cash"
          ],
          [
           "2017_4",
           "non_accelerated_filer",
           "operating_cash_flow"
          ],
          [
           "2017_4",
           "non_accelerated_filer",
           "price_to_earnings"
          ],
          [
           "2017_4",
           "non_accelerated_filer",
           "ev_ebitda"
          ],
          [
           "2017_4",
           "non_accelerated_filer",
           "ev_ebit"
          ],
          [
           "2017_4",
           "non_accelerated_filer",
           "ev_revenue"
          ],
          [
           "2018_1",
           "non_accelerated_filer",
           "roe"
          ],
          [
           "2018_1",
           "non_accelerated_filer",
           "roa"
          ],
          [
           "2018_1",
           "non_accelerated_filer",
           "roce"
          ],
          [
           "2018_1",
           "non_accelerated_filer",
           "gross_margin"
          ],
          [
           "2018_1",
           "non_accelerated_filer",
           "operating_profit_margin"
          ],
          [
           "2018_1",
           "non_accelerated_filer",
           "net_profit_margin"
          ],
          [
           "2018_1",
           "non_accelerated_filer",
           "debt_to_equity"
          ],
          [
           "2018_1",
           "non_accelerated_filer",
           "equity"
          ],
          [
           "2018_1",
           "non_accelerated_filer",
           "debt"
          ],
          [
           "2018_1",
           "non_accelerated_filer",
           "current"
          ],
          [
           "2018_1",
           "non_accelerated_filer",
           "quick"
          ],
          [
           "2018_1",
           "non_accelerated_filer",
           "cash"
          ],
          [
           "2018_1",
           "non_accelerated_filer",
           "times_interest_earned"
          ],
          [
           "2018_1",
           "non_accelerated_filer",
           "capex_to_operating_cash"
          ],
          [
           "2018_1",
           "non_accelerated_filer",
           "operating_cash_flow"
          ],
          [
           "2018_1",
           "non_accelerated_filer",
           "price_to_earnings"
          ],
          [
           "2018_1",
           "non_accelerated_filer",
           "ev_ebitda"
          ],
          [
           "2018_1",
           "non_accelerated_filer",
           "ev_ebit"
          ],
          [
           "2018_1",
           "non_accelerated_filer",
           "ev_revenue"
          ],
          [
           "2018_2",
           "non_accelerated_filer",
           "roe"
          ],
          [
           "2018_2",
           "non_accelerated_filer",
           "roa"
          ],
          [
           "2018_2",
           "non_accelerated_filer",
           "roce"
          ],
          [
           "2018_2",
           "non_accelerated_filer",
           "gross_margin"
          ],
          [
           "2018_2",
           "non_accelerated_filer",
           "operating_profit_margin"
          ],
          [
           "2018_2",
           "non_accelerated_filer",
           "net_profit_margin"
          ],
          [
           "2018_2",
           "non_accelerated_filer",
           "debt_to_equity"
          ],
          [
           "2018_2",
           "non_accelerated_filer",
           "equity"
          ],
          [
           "2018_2",
           "non_accelerated_filer",
           "debt"
          ],
          [
           "2018_2",
           "non_accelerated_filer",
           "current"
          ],
          [
           "2018_2",
           "non_accelerated_filer",
           "quick"
          ],
          [
           "2018_2",
           "non_accelerated_filer",
           "cash"
          ],
          [
           "2018_2",
           "non_accelerated_filer",
           "times_interest_earned"
          ],
          [
           "2018_2",
           "non_accelerated_filer",
           "capex_to_operating_cash"
          ],
          [
           "2018_2",
           "non_accelerated_filer",
           "operating_cash_flow"
          ],
          [
           "2018_2",
           "non_accelerated_filer",
           "price_to_earnings"
          ],
          [
           "2018_2",
           "non_accelerated_filer",
           "ev_ebitda"
          ],
          [
           "2018_2",
           "non_accelerated_filer",
           "ev_ebit"
          ],
          [
           "2018_2",
           "non_accelerated_filer",
           "ev_revenue"
          ],
          [
           "2018_3",
           "non_accelerated_filer",
           "roe"
          ],
          [
           "2018_3",
           "non_accelerated_filer",
           "roa"
          ],
          [
           "2018_3",
           "non_accelerated_filer",
           "roce"
          ],
          [
           "2018_3",
           "non_accelerated_filer",
           "gross_margin"
          ],
          [
           "2018_3",
           "non_accelerated_filer",
           "operating_profit_margin"
          ],
          [
           "2018_3",
           "non_accelerated_filer",
           "net_profit_margin"
          ],
          [
           "2018_3",
           "non_accelerated_filer",
           "debt_to_equity"
          ],
          [
           "2018_3",
           "non_accelerated_filer",
           "equity"
          ],
          [
           "2018_3",
           "non_accelerated_filer",
           "debt"
          ],
          [
           "2018_3",
           "non_accelerated_filer",
           "current"
          ],
          [
           "2018_3",
           "non_accelerated_filer",
           "quick"
          ],
          [
           "2018_3",
           "non_accelerated_filer",
           "cash"
          ],
          [
           "2018_3",
           "non_accelerated_filer",
           "times_interest_earned"
          ],
          [
           "2018_3",
           "non_accelerated_filer",
           "capex_to_operating_cash"
          ],
          [
           "2018_3",
           "non_accelerated_filer",
           "operating_cash_flow"
          ],
          [
           "2018_3",
           "non_accelerated_filer",
           "price_to_earnings"
          ],
          [
           "2018_3",
           "non_accelerated_filer",
           "ev_ebitda"
          ],
          [
           "2018_3",
           "non_accelerated_filer",
           "ev_ebit"
          ],
          [
           "2018_3",
           "non_accelerated_filer",
           "ev_revenue"
          ],
          [
           "2018_4",
           "non_accelerated_filer",
           "roe"
          ],
          [
           "2018_4",
           "non_accelerated_filer",
           "roa"
          ],
          [
           "2018_4",
           "non_accelerated_filer",
           "roce"
          ],
          [
           "2018_4",
           "non_accelerated_filer",
           "gross_margin"
          ],
          [
           "2018_4",
           "non_accelerated_filer",
           "operating_profit_margin"
          ],
          [
           "2018_4",
           "non_accelerated_filer",
           "net_profit_margin"
          ],
          [
           "2018_4",
           "non_accelerated_filer",
           "debt_to_equity"
          ],
          [
           "2018_4",
           "non_accelerated_filer",
           "equity"
          ],
          [
           "2018_4",
           "non_accelerated_filer",
           "debt"
          ],
          [
           "2018_4",
           "non_accelerated_filer",
           "current"
          ],
          [
           "2018_4",
           "non_accelerated_filer",
           "quick"
          ],
          [
           "2018_4",
           "non_accelerated_filer",
           "cash"
          ],
          [
           "2018_4",
           "non_accelerated_filer",
           "times_interest_earned"
          ],
          [
           "2018_4",
           "non_accelerated_filer",
           "capex_to_operating_cash"
          ],
          [
           "2018_4",
           "non_accelerated_filer",
           "operating_cash_flow"
          ],
          [
           "2018_4",
           "non_accelerated_filer",
           "price_to_earnings"
          ],
          [
           "2018_4",
           "non_accelerated_filer",
           "ev_ebitda"
          ],
          [
           "2018_4",
           "non_accelerated_filer",
           "ev_ebit"
          ],
          [
           "2018_4",
           "non_accelerated_filer",
           "ev_revenue"
          ],
          [
           "2019_1",
           "non_accelerated_filer",
           "roe"
          ],
          [
           "2019_1",
           "non_accelerated_filer",
           "roa"
          ],
          [
           "2019_1",
           "non_accelerated_filer",
           "roce"
          ],
          [
           "2019_1",
           "non_accelerated_filer",
           "gross_margin"
          ],
          [
           "2019_1",
           "non_accelerated_filer",
           "operating_profit_margin"
          ],
          [
           "2019_1",
           "non_accelerated_filer",
           "net_profit_margin"
          ],
          [
           "2019_1",
           "non_accelerated_filer",
           "debt_to_equity"
          ],
          [
           "2019_1",
           "non_accelerated_filer",
           "equity"
          ],
          [
           "2019_1",
           "non_accelerated_filer",
           "debt"
          ],
          [
           "2019_1",
           "non_accelerated_filer",
           "current"
          ],
          [
           "2019_1",
           "non_accelerated_filer",
           "quick"
          ],
          [
           "2019_1",
           "non_accelerated_filer",
           "cash"
          ],
          [
           "2019_1",
           "non_accelerated_filer",
           "times_interest_earned"
          ],
          [
           "2019_1",
           "non_accelerated_filer",
           "capex_to_operating_cash"
          ],
          [
           "2019_1",
           "non_accelerated_filer",
           "operating_cash_flow"
          ],
          [
           "2019_1",
           "non_accelerated_filer",
           "price_to_earnings"
          ],
          [
           "2019_1",
           "non_accelerated_filer",
           "ev_ebitda"
          ],
          [
           "2019_1",
           "non_accelerated_filer",
           "ev_ebit"
          ],
          [
           "2019_1",
           "non_accelerated_filer",
           "ev_revenue"
          ],
          [
           "2019_2",
           "non_accelerated_filer",
           "roe"
          ],
          [
           "2019_2",
           "non_accelerated_filer",
           "roa"
          ],
          [
           "2019_2",
           "non_accelerated_filer",
           "roce"
          ],
          [
           "2019_2",
           "non_accelerated_filer",
           "gross_margin"
          ],
          [
           "2019_2",
           "non_accelerated_filer",
           "operating_profit_margin"
          ],
          [
           "2019_2",
           "non_accelerated_filer",
           "net_profit_margin"
          ],
          [
           "2019_2",
           "non_accelerated_filer",
           "debt_to_equity"
          ],
          [
           "2019_2",
           "non_accelerated_filer",
           "equity"
          ],
          [
           "2019_2",
           "non_accelerated_filer",
           "debt"
          ],
          [
           "2019_2",
           "non_accelerated_filer",
           "current"
          ],
          [
           "2019_2",
           "non_accelerated_filer",
           "quick"
          ],
          [
           "2019_2",
           "non_accelerated_filer",
           "cash"
          ],
          [
           "2019_2",
           "non_accelerated_filer",
           "times_interest_earned"
          ],
          [
           "2019_2",
           "non_accelerated_filer",
           "capex_to_operating_cash"
          ],
          [
           "2019_2",
           "non_accelerated_filer",
           "operating_cash_flow"
          ],
          [
           "2019_2",
           "non_accelerated_filer",
           "price_to_earnings"
          ],
          [
           "2019_2",
           "non_accelerated_filer",
           "ev_ebitda"
          ],
          [
           "2019_2",
           "non_accelerated_filer",
           "ev_ebit"
          ],
          [
           "2019_2",
           "non_accelerated_filer",
           "ev_revenue"
          ],
          [
           "2019_3",
           "non_accelerated_filer",
           "roe"
          ],
          [
           "2019_3",
           "non_accelerated_filer",
           "roa"
          ],
          [
           "2019_3",
           "non_accelerated_filer",
           "roce"
          ],
          [
           "2019_3",
           "non_accelerated_filer",
           "gross_margin"
          ],
          [
           "2019_3",
           "non_accelerated_filer",
           "operating_profit_margin"
          ],
          [
           "2019_3",
           "non_accelerated_filer",
           "net_profit_margin"
          ],
          [
           "2019_3",
           "non_accelerated_filer",
           "debt_to_equity"
          ],
          [
           "2019_3",
           "non_accelerated_filer",
           "equity"
          ],
          [
           "2019_3",
           "non_accelerated_filer",
           "debt"
          ],
          [
           "2019_3",
           "non_accelerated_filer",
           "current"
          ],
          [
           "2019_3",
           "non_accelerated_filer",
           "quick"
          ],
          [
           "2019_3",
           "non_accelerated_filer",
           "cash"
          ],
          [
           "2019_3",
           "non_accelerated_filer",
           "times_interest_earned"
          ],
          [
           "2019_3",
           "non_accelerated_filer",
           "capex_to_operating_cash"
          ],
          [
           "2019_3",
           "non_accelerated_filer",
           "operating_cash_flow"
          ],
          [
           "2019_3",
           "non_accelerated_filer",
           "price_to_earnings"
          ],
          [
           "2019_3",
           "non_accelerated_filer",
           "ev_ebitda"
          ],
          [
           "2019_3",
           "non_accelerated_filer",
           "ev_ebit"
          ],
          [
           "2019_3",
           "non_accelerated_filer",
           "ev_revenue"
          ],
          [
           "2019_4",
           "non_accelerated_filer",
           "roe"
          ],
          [
           "2019_4",
           "non_accelerated_filer",
           "roa"
          ],
          [
           "2019_4",
           "non_accelerated_filer",
           "roce"
          ],
          [
           "2019_4",
           "non_accelerated_filer",
           "gross_margin"
          ],
          [
           "2019_4",
           "non_accelerated_filer",
           "operating_profit_margin"
          ],
          [
           "2019_4",
           "non_accelerated_filer",
           "net_profit_margin"
          ],
          [
           "2019_4",
           "non_accelerated_filer",
           "debt_to_equity"
          ],
          [
           "2019_4",
           "non_accelerated_filer",
           "equity"
          ],
          [
           "2019_4",
           "non_accelerated_filer",
           "debt"
          ],
          [
           "2019_4",
           "non_accelerated_filer",
           "current"
          ],
          [
           "2019_4",
           "non_accelerated_filer",
           "quick"
          ],
          [
           "2019_4",
           "non_accelerated_filer",
           "cash"
          ],
          [
           "2019_4",
           "non_accelerated_filer",
           "times_interest_earned"
          ],
          [
           "2019_4",
           "non_accelerated_filer",
           "capex_to_operating_cash"
          ],
          [
           "2019_4",
           "non_accelerated_filer",
           "operating_cash_flow"
          ],
          [
           "2019_4",
           "non_accelerated_filer",
           "price_to_earnings"
          ],
          [
           "2019_4",
           "non_accelerated_filer",
           "ev_ebitda"
          ],
          [
           "2019_4",
           "non_accelerated_filer",
           "ev_ebit"
          ],
          [
           "2019_4",
           "non_accelerated_filer",
           "ev_revenue"
          ],
          [
           "2020_1",
           "non_accelerated_filer",
           "roe"
          ],
          [
           "2020_1",
           "non_accelerated_filer",
           "roa"
          ],
          [
           "2020_1",
           "non_accelerated_filer",
           "roce"
          ],
          [
           "2020_1",
           "non_accelerated_filer",
           "gross_margin"
          ],
          [
           "2020_1",
           "non_accelerated_filer",
           "operating_profit_margin"
          ],
          [
           "2020_1",
           "non_accelerated_filer",
           "net_profit_margin"
          ],
          [
           "2020_1",
           "non_accelerated_filer",
           "debt_to_equity"
          ],
          [
           "2020_1",
           "non_accelerated_filer",
           "equity"
          ],
          [
           "2020_1",
           "non_accelerated_filer",
           "debt"
          ],
          [
           "2020_1",
           "non_accelerated_filer",
           "current"
          ],
          [
           "2020_1",
           "non_accelerated_filer",
           "quick"
          ],
          [
           "2020_1",
           "non_accelerated_filer",
           "cash"
          ],
          [
           "2020_1",
           "non_accelerated_filer",
           "times_interest_earned"
          ],
          [
           "2020_1",
           "non_accelerated_filer",
           "capex_to_operating_cash"
          ],
          [
           "2020_1",
           "non_accelerated_filer",
           "operating_cash_flow"
          ],
          [
           "2020_1",
           "non_accelerated_filer",
           "price_to_earnings"
          ],
          [
           "2020_1",
           "non_accelerated_filer",
           "ev_ebitda"
          ],
          [
           "2020_1",
           "non_accelerated_filer",
           "ev_ebit"
          ],
          [
           "2020_1",
           "non_accelerated_filer",
           "ev_revenue"
          ],
          [
           "2020_2",
           "non_accelerated_filer",
           "roe"
          ],
          [
           "2020_2",
           "non_accelerated_filer",
           "roa"
          ],
          [
           "2020_2",
           "non_accelerated_filer",
           "roce"
          ],
          [
           "2020_2",
           "non_accelerated_filer",
           "gross_margin"
          ],
          [
           "2020_2",
           "non_accelerated_filer",
           "operating_profit_margin"
          ],
          [
           "2020_2",
           "non_accelerated_filer",
           "net_profit_margin"
          ],
          [
           "2020_2",
           "non_accelerated_filer",
           "debt_to_equity"
          ],
          [
           "2020_2",
           "non_accelerated_filer",
           "equity"
          ],
          [
           "2020_2",
           "non_accelerated_filer",
           "debt"
          ],
          [
           "2020_2",
           "non_accelerated_filer",
           "current"
          ],
          [
           "2020_2",
           "non_accelerated_filer",
           "quick"
          ],
          [
           "2020_2",
           "non_accelerated_filer",
           "cash"
          ],
          [
           "2020_2",
           "non_accelerated_filer",
           "times_interest_earned"
          ],
          [
           "2020_2",
           "non_accelerated_filer",
           "capex_to_operating_cash"
          ],
          [
           "2020_2",
           "non_accelerated_filer",
           "operating_cash_flow"
          ],
          [
           "2020_2",
           "non_accelerated_filer",
           "price_to_earnings"
          ],
          [
           "2020_2",
           "non_accelerated_filer",
           "ev_ebitda"
          ],
          [
           "2020_2",
           "non_accelerated_filer",
           "ev_ebit"
          ],
          [
           "2020_2",
           "non_accelerated_filer",
           "ev_revenue"
          ],
          [
           "2020_3",
           "non_accelerated_filer",
           "roe"
          ],
          [
           "2020_3",
           "non_accelerated_filer",
           "roa"
          ],
          [
           "2020_3",
           "non_accelerated_filer",
           "roce"
          ],
          [
           "2020_3",
           "non_accelerated_filer",
           "gross_margin"
          ],
          [
           "2020_3",
           "non_accelerated_filer",
           "operating_profit_margin"
          ],
          [
           "2020_3",
           "non_accelerated_filer",
           "net_profit_margin"
          ],
          [
           "2020_3",
           "non_accelerated_filer",
           "debt_to_equity"
          ],
          [
           "2020_3",
           "non_accelerated_filer",
           "equity"
          ],
          [
           "2020_3",
           "non_accelerated_filer",
           "debt"
          ],
          [
           "2020_3",
           "non_accelerated_filer",
           "current"
          ],
          [
           "2020_3",
           "non_accelerated_filer",
           "quick"
          ],
          [
           "2020_3",
           "non_accelerated_filer",
           "cash"
          ],
          [
           "2020_3",
           "non_accelerated_filer",
           "times_interest_earned"
          ],
          [
           "2020_3",
           "non_accelerated_filer",
           "capex_to_operating_cash"
          ],
          [
           "2020_3",
           "non_accelerated_filer",
           "operating_cash_flow"
          ],
          [
           "2020_3",
           "non_accelerated_filer",
           "price_to_earnings"
          ],
          [
           "2020_3",
           "non_accelerated_filer",
           "ev_ebitda"
          ],
          [
           "2020_3",
           "non_accelerated_filer",
           "ev_ebit"
          ],
          [
           "2020_3",
           "non_accelerated_filer",
           "ev_revenue"
          ],
          [
           "2020_4",
           "non_accelerated_filer",
           "roe"
          ],
          [
           "2020_4",
           "non_accelerated_filer",
           "roa"
          ],
          [
           "2020_4",
           "non_accelerated_filer",
           "roce"
          ],
          [
           "2020_4",
           "non_accelerated_filer",
           "gross_margin"
          ],
          [
           "2020_4",
           "non_accelerated_filer",
           "operating_profit_margin"
          ],
          [
           "2020_4",
           "non_accelerated_filer",
           "net_profit_margin"
          ],
          [
           "2020_4",
           "non_accelerated_filer",
           "debt_to_equity"
          ],
          [
           "2020_4",
           "non_accelerated_filer",
           "equity"
          ],
          [
           "2020_4",
           "non_accelerated_filer",
           "debt"
          ],
          [
           "2020_4",
           "non_accelerated_filer",
           "current"
          ],
          [
           "2020_4",
           "non_accelerated_filer",
           "quick"
          ],
          [
           "2020_4",
           "non_accelerated_filer",
           "cash"
          ],
          [
           "2020_4",
           "non_accelerated_filer",
           "times_interest_earned"
          ],
          [
           "2020_4",
           "non_accelerated_filer",
           "capex_to_operating_cash"
          ],
          [
           "2020_4",
           "non_accelerated_filer",
           "operating_cash_flow"
          ],
          [
           "2020_4",
           "non_accelerated_filer",
           "price_to_earnings"
          ],
          [
           "2020_4",
           "non_accelerated_filer",
           "ev_ebitda"
          ],
          [
           "2020_4",
           "non_accelerated_filer",
           "ev_ebit"
          ],
          [
           "2020_4",
           "non_accelerated_filer",
           "ev_revenue"
          ],
          [
           "2021_1",
           "non_accelerated_filer",
           "roe"
          ],
          [
           "2021_1",
           "non_accelerated_filer",
           "roa"
          ],
          [
           "2021_1",
           "non_accelerated_filer",
           "roce"
          ],
          [
           "2021_1",
           "non_accelerated_filer",
           "gross_margin"
          ],
          [
           "2021_1",
           "non_accelerated_filer",
           "operating_profit_margin"
          ],
          [
           "2021_1",
           "non_accelerated_filer",
           "net_profit_margin"
          ],
          [
           "2021_1",
           "non_accelerated_filer",
           "debt_to_equity"
          ],
          [
           "2021_1",
           "non_accelerated_filer",
           "equity"
          ],
          [
           "2021_1",
           "non_accelerated_filer",
           "debt"
          ],
          [
           "2021_1",
           "non_accelerated_filer",
           "current"
          ],
          [
           "2021_1",
           "non_accelerated_filer",
           "quick"
          ],
          [
           "2021_1",
           "non_accelerated_filer",
           "cash"
          ],
          [
           "2021_1",
           "non_accelerated_filer",
           "times_interest_earned"
          ],
          [
           "2021_1",
           "non_accelerated_filer",
           "capex_to_operating_cash"
          ],
          [
           "2021_1",
           "non_accelerated_filer",
           "operating_cash_flow"
          ],
          [
           "2021_1",
           "non_accelerated_filer",
           "price_to_earnings"
          ],
          [
           "2021_1",
           "non_accelerated_filer",
           "ev_ebitda"
          ],
          [
           "2021_1",
           "non_accelerated_filer",
           "ev_ebit"
          ],
          [
           "2021_1",
           "non_accelerated_filer",
           "ev_revenue"
          ],
          [
           "2021_2",
           "non_accelerated_filer",
           "roe"
          ],
          [
           "2021_2",
           "non_accelerated_filer",
           "roa"
          ],
          [
           "2021_2",
           "non_accelerated_filer",
           "roce"
          ],
          [
           "2021_2",
           "non_accelerated_filer",
           "gross_margin"
          ],
          [
           "2021_2",
           "non_accelerated_filer",
           "operating_profit_margin"
          ],
          [
           "2021_2",
           "non_accelerated_filer",
           "net_profit_margin"
          ],
          [
           "2021_2",
           "non_accelerated_filer",
           "debt_to_equity"
          ],
          [
           "2021_2",
           "non_accelerated_filer",
           "equity"
          ],
          [
           "2021_2",
           "non_accelerated_filer",
           "debt"
          ],
          [
           "2021_2",
           "non_accelerated_filer",
           "current"
          ],
          [
           "2021_2",
           "non_accelerated_filer",
           "quick"
          ],
          [
           "2021_2",
           "non_accelerated_filer",
           "cash"
          ],
          [
           "2021_2",
           "non_accelerated_filer",
           "times_interest_earned"
          ],
          [
           "2021_2",
           "non_accelerated_filer",
           "capex_to_operating_cash"
          ],
          [
           "2021_2",
           "non_accelerated_filer",
           "operating_cash_flow"
          ],
          [
           "2021_2",
           "non_accelerated_filer",
           "price_to_earnings"
          ],
          [
           "2021_2",
           "non_accelerated_filer",
           "ev_ebitda"
          ],
          [
           "2021_2",
           "non_accelerated_filer",
           "ev_ebit"
          ],
          [
           "2021_2",
           "non_accelerated_filer",
           "ev_revenue"
          ],
          [
           "2021_3",
           "non_accelerated_filer",
           "roe"
          ],
          [
           "2021_3",
           "non_accelerated_filer",
           "roa"
          ],
          [
           "2021_3",
           "non_accelerated_filer",
           "roce"
          ],
          [
           "2021_3",
           "non_accelerated_filer",
           "gross_margin"
          ],
          [
           "2021_3",
           "non_accelerated_filer",
           "operating_profit_margin"
          ],
          [
           "2021_3",
           "non_accelerated_filer",
           "net_profit_margin"
          ],
          [
           "2021_3",
           "non_accelerated_filer",
           "debt_to_equity"
          ],
          [
           "2021_3",
           "non_accelerated_filer",
           "equity"
          ],
          [
           "2021_3",
           "non_accelerated_filer",
           "debt"
          ],
          [
           "2021_3",
           "non_accelerated_filer",
           "current"
          ],
          [
           "2021_3",
           "non_accelerated_filer",
           "quick"
          ],
          [
           "2021_3",
           "non_accelerated_filer",
           "cash"
          ],
          [
           "2021_3",
           "non_accelerated_filer",
           "times_interest_earned"
          ],
          [
           "2021_3",
           "non_accelerated_filer",
           "capex_to_operating_cash"
          ],
          [
           "2021_3",
           "non_accelerated_filer",
           "operating_cash_flow"
          ],
          [
           "2021_3",
           "non_accelerated_filer",
           "price_to_earnings"
          ],
          [
           "2021_3",
           "non_accelerated_filer",
           "ev_ebitda"
          ],
          [
           "2021_3",
           "non_accelerated_filer",
           "ev_ebit"
          ],
          [
           "2021_3",
           "non_accelerated_filer",
           "ev_revenue"
          ]
         ],
         "fillcolor": "rgba(255,255,255,0)",
         "hoveron": "points",
         "hovertemplate": "filer_type=%{customdata[1]}<br>used_to_all=%{x}<br>year_q=%{customdata[0]}<br>kpi=%{customdata[2]}<extra></extra>",
         "jitter": 0,
         "legendgroup": "non_accelerated_filer",
         "line": {
          "color": "rgba(255,255,255,0)"
         },
         "marker": {
          "color": "#00cc96",
          "symbol": "line-ns-open"
         },
         "name": "non_accelerated_filer",
         "offsetgroup": "non_accelerated_filer",
         "showlegend": false,
         "type": "box",
         "x": [
          0.8,
          0.8,
          0.75,
          0.8,
          0.85,
          0.85,
          0.75,
          0.8,
          0.6,
          0.75,
          0.65,
          0.75,
          0.7,
          0.75,
          0.75,
          0.8,
          0.55,
          0.6,
          0.6,
          0.94,
          0.94,
          0.89,
          0.94,
          0.94,
          0.94,
          0.89,
          0.94,
          0.78,
          0.89,
          0.72,
          0.83,
          0.78,
          0.83,
          0.89,
          0.94,
          0.67,
          0.72,
          0.72,
          0.94,
          0.94,
          0.89,
          0.94,
          0.94,
          0.94,
          0.89,
          0.94,
          0.78,
          0.89,
          0.78,
          0.89,
          0.78,
          0.83,
          0.89,
          0.94,
          0.72,
          0.78,
          0.78,
          1,
          1,
          0.91,
          1,
          1,
          1,
          0.91,
          1,
          0.82,
          0.91,
          0.73,
          0.91,
          0.82,
          0.91,
          0.91,
          1,
          0.82,
          0.82,
          0.82,
          0.76,
          0.76,
          0.71,
          0.76,
          0.76,
          0.76,
          0.71,
          0.76,
          0.59,
          0.71,
          0.53,
          0.71,
          0.59,
          0.65,
          0.71,
          0.76,
          0.59,
          0.59,
          0.59,
          0.93,
          0.93,
          0.86,
          0.93,
          0.93,
          0.93,
          0.86,
          0.93,
          0.71,
          0.86,
          0.64,
          0.86,
          0.71,
          0.79,
          0.86,
          0.93,
          0.71,
          0.71,
          0.71,
          0.93,
          0.93,
          0.86,
          0.93,
          0.93,
          0.93,
          0.86,
          0.93,
          0.71,
          0.86,
          0.64,
          0.86,
          0.71,
          0.79,
          0.86,
          0.93,
          0.71,
          0.71,
          0.71,
          1,
          1,
          0.86,
          1,
          1,
          1,
          0.86,
          1,
          0.86,
          0.86,
          0.71,
          0.86,
          0.86,
          0.86,
          0.86,
          1,
          0.86,
          0.86,
          0.86,
          0.73,
          0.73,
          0.64,
          0.73,
          0.73,
          0.73,
          0.64,
          0.73,
          0.55,
          0.64,
          0.45,
          0.64,
          0.55,
          0.55,
          0.64,
          0.73,
          0.55,
          0.55,
          0.55,
          0.8,
          0.8,
          0.7,
          0.8,
          0.8,
          0.8,
          0.7,
          0.8,
          0.6,
          0.7,
          0.5,
          0.7,
          0.6,
          0.6,
          0.7,
          0.8,
          0.6,
          0.6,
          0.6,
          0.91,
          1,
          0.91,
          1,
          1,
          1,
          0.82,
          0.91,
          0.82,
          0.91,
          0.64,
          0.82,
          0.82,
          0.82,
          0.91,
          1,
          0.73,
          0.73,
          0.73,
          0.93,
          1,
          0.79,
          0.86,
          1,
          1,
          0.79,
          0.93,
          0.79,
          0.79,
          0.64,
          0.79,
          0.71,
          0.71,
          0.79,
          1,
          0.79,
          0.79,
          0.79,
          0.81,
          0.81,
          0.69,
          0.69,
          0.88,
          0.81,
          0.69,
          0.81,
          0.69,
          0.69,
          0.56,
          0.69,
          0.56,
          0.62,
          0.69,
          0.81,
          0.69,
          0.69,
          0.69,
          0.87,
          0.93,
          0.73,
          0.73,
          0.93,
          0.93,
          0.73,
          0.87,
          0.73,
          0.73,
          0.6,
          0.73,
          0.67,
          0.67,
          0.73,
          0.93,
          0.73,
          0.73,
          0.73,
          0.53,
          0.6,
          0.53,
          0.6,
          0.6,
          0.6,
          0.53,
          0.67,
          0.6,
          0.53,
          0.47,
          0.47,
          0.53,
          0.53,
          0.53,
          0.6,
          0.53,
          0.53,
          0.53,
          0.9,
          0.97,
          0.87,
          0.77,
          0.94,
          0.9,
          0.87,
          0.94,
          0.77,
          0.87,
          0.71,
          0.87,
          0.77,
          0.77,
          0.87,
          0.97,
          0.77,
          0.77,
          0.74,
          0.77,
          0.77,
          0.71,
          0.63,
          0.74,
          0.74,
          0.71,
          0.77,
          0.66,
          0.71,
          0.6,
          0.71,
          0.63,
          0.66,
          0.71,
          0.77,
          0.66,
          0.66,
          0.63,
          0.79,
          0.79,
          0.73,
          0.64,
          0.76,
          0.76,
          0.76,
          0.82,
          0.67,
          0.73,
          0.61,
          0.73,
          0.61,
          0.67,
          0.73,
          0.79,
          0.67,
          0.67,
          0.64
         ],
         "xaxis": "x2",
         "yaxis": "y2"
        }
       ],
       "layout": {
        "barmode": "relative",
        "legend": {
         "title": {
          "text": "filer_type"
         },
         "tracegroupgap": 0
        },
        "template": {
         "data": {
          "bar": [
           {
            "error_x": {
             "color": "#2a3f5f"
            },
            "error_y": {
             "color": "#2a3f5f"
            },
            "marker": {
             "line": {
              "color": "#E5ECF6",
              "width": 0.5
             },
             "pattern": {
              "fillmode": "overlay",
              "size": 10,
              "solidity": 0.2
             }
            },
            "type": "bar"
           }
          ],
          "barpolar": [
           {
            "marker": {
             "line": {
              "color": "#E5ECF6",
              "width": 0.5
             },
             "pattern": {
              "fillmode": "overlay",
              "size": 10,
              "solidity": 0.2
             }
            },
            "type": "barpolar"
           }
          ],
          "carpet": [
           {
            "aaxis": {
             "endlinecolor": "#2a3f5f",
             "gridcolor": "white",
             "linecolor": "white",
             "minorgridcolor": "white",
             "startlinecolor": "#2a3f5f"
            },
            "baxis": {
             "endlinecolor": "#2a3f5f",
             "gridcolor": "white",
             "linecolor": "white",
             "minorgridcolor": "white",
             "startlinecolor": "#2a3f5f"
            },
            "type": "carpet"
           }
          ],
          "choropleth": [
           {
            "colorbar": {
             "outlinewidth": 0,
             "ticks": ""
            },
            "type": "choropleth"
           }
          ],
          "contour": [
           {
            "colorbar": {
             "outlinewidth": 0,
             "ticks": ""
            },
            "colorscale": [
             [
              0,
              "#0d0887"
             ],
             [
              0.1111111111111111,
              "#46039f"
             ],
             [
              0.2222222222222222,
              "#7201a8"
             ],
             [
              0.3333333333333333,
              "#9c179e"
             ],
             [
              0.4444444444444444,
              "#bd3786"
             ],
             [
              0.5555555555555556,
              "#d8576b"
             ],
             [
              0.6666666666666666,
              "#ed7953"
             ],
             [
              0.7777777777777778,
              "#fb9f3a"
             ],
             [
              0.8888888888888888,
              "#fdca26"
             ],
             [
              1,
              "#f0f921"
             ]
            ],
            "type": "contour"
           }
          ],
          "contourcarpet": [
           {
            "colorbar": {
             "outlinewidth": 0,
             "ticks": ""
            },
            "type": "contourcarpet"
           }
          ],
          "heatmap": [
           {
            "colorbar": {
             "outlinewidth": 0,
             "ticks": ""
            },
            "colorscale": [
             [
              0,
              "#0d0887"
             ],
             [
              0.1111111111111111,
              "#46039f"
             ],
             [
              0.2222222222222222,
              "#7201a8"
             ],
             [
              0.3333333333333333,
              "#9c179e"
             ],
             [
              0.4444444444444444,
              "#bd3786"
             ],
             [
              0.5555555555555556,
              "#d8576b"
             ],
             [
              0.6666666666666666,
              "#ed7953"
             ],
             [
              0.7777777777777778,
              "#fb9f3a"
             ],
             [
              0.8888888888888888,
              "#fdca26"
             ],
             [
              1,
              "#f0f921"
             ]
            ],
            "type": "heatmap"
           }
          ],
          "heatmapgl": [
           {
            "colorbar": {
             "outlinewidth": 0,
             "ticks": ""
            },
            "colorscale": [
             [
              0,
              "#0d0887"
             ],
             [
              0.1111111111111111,
              "#46039f"
             ],
             [
              0.2222222222222222,
              "#7201a8"
             ],
             [
              0.3333333333333333,
              "#9c179e"
             ],
             [
              0.4444444444444444,
              "#bd3786"
             ],
             [
              0.5555555555555556,
              "#d8576b"
             ],
             [
              0.6666666666666666,
              "#ed7953"
             ],
             [
              0.7777777777777778,
              "#fb9f3a"
             ],
             [
              0.8888888888888888,
              "#fdca26"
             ],
             [
              1,
              "#f0f921"
             ]
            ],
            "type": "heatmapgl"
           }
          ],
          "histogram": [
           {
            "marker": {
             "pattern": {
              "fillmode": "overlay",
              "size": 10,
              "solidity": 0.2
             }
            },
            "type": "histogram"
           }
          ],
          "histogram2d": [
           {
            "colorbar": {
             "outlinewidth": 0,
             "ticks": ""
            },
            "colorscale": [
             [
              0,
              "#0d0887"
             ],
             [
              0.1111111111111111,
              "#46039f"
             ],
             [
              0.2222222222222222,
              "#7201a8"
             ],
             [
              0.3333333333333333,
              "#9c179e"
             ],
             [
              0.4444444444444444,
              "#bd3786"
             ],
             [
              0.5555555555555556,
              "#d8576b"
             ],
             [
              0.6666666666666666,
              "#ed7953"
             ],
             [
              0.7777777777777778,
              "#fb9f3a"
             ],
             [
              0.8888888888888888,
              "#fdca26"
             ],
             [
              1,
              "#f0f921"
             ]
            ],
            "type": "histogram2d"
           }
          ],
          "histogram2dcontour": [
           {
            "colorbar": {
             "outlinewidth": 0,
             "ticks": ""
            },
            "colorscale": [
             [
              0,
              "#0d0887"
             ],
             [
              0.1111111111111111,
              "#46039f"
             ],
             [
              0.2222222222222222,
              "#7201a8"
             ],
             [
              0.3333333333333333,
              "#9c179e"
             ],
             [
              0.4444444444444444,
              "#bd3786"
             ],
             [
              0.5555555555555556,
              "#d8576b"
             ],
             [
              0.6666666666666666,
              "#ed7953"
             ],
             [
              0.7777777777777778,
              "#fb9f3a"
             ],
             [
              0.8888888888888888,
              "#fdca26"
             ],
             [
              1,
              "#f0f921"
             ]
            ],
            "type": "histogram2dcontour"
           }
          ],
          "mesh3d": [
           {
            "colorbar": {
             "outlinewidth": 0,
             "ticks": ""
            },
            "type": "mesh3d"
           }
          ],
          "parcoords": [
           {
            "line": {
             "colorbar": {
              "outlinewidth": 0,
              "ticks": ""
             }
            },
            "type": "parcoords"
           }
          ],
          "pie": [
           {
            "automargin": true,
            "type": "pie"
           }
          ],
          "scatter": [
           {
            "marker": {
             "colorbar": {
              "outlinewidth": 0,
              "ticks": ""
             }
            },
            "type": "scatter"
           }
          ],
          "scatter3d": [
           {
            "line": {
             "colorbar": {
              "outlinewidth": 0,
              "ticks": ""
             }
            },
            "marker": {
             "colorbar": {
              "outlinewidth": 0,
              "ticks": ""
             }
            },
            "type": "scatter3d"
           }
          ],
          "scattercarpet": [
           {
            "marker": {
             "colorbar": {
              "outlinewidth": 0,
              "ticks": ""
             }
            },
            "type": "scattercarpet"
           }
          ],
          "scattergeo": [
           {
            "marker": {
             "colorbar": {
              "outlinewidth": 0,
              "ticks": ""
             }
            },
            "type": "scattergeo"
           }
          ],
          "scattergl": [
           {
            "marker": {
             "colorbar": {
              "outlinewidth": 0,
              "ticks": ""
             }
            },
            "type": "scattergl"
           }
          ],
          "scattermapbox": [
           {
            "marker": {
             "colorbar": {
              "outlinewidth": 0,
              "ticks": ""
             }
            },
            "type": "scattermapbox"
           }
          ],
          "scatterpolar": [
           {
            "marker": {
             "colorbar": {
              "outlinewidth": 0,
              "ticks": ""
             }
            },
            "type": "scatterpolar"
           }
          ],
          "scatterpolargl": [
           {
            "marker": {
             "colorbar": {
              "outlinewidth": 0,
              "ticks": ""
             }
            },
            "type": "scatterpolargl"
           }
          ],
          "scatterternary": [
           {
            "marker": {
             "colorbar": {
              "outlinewidth": 0,
              "ticks": ""
             }
            },
            "type": "scatterternary"
           }
          ],
          "surface": [
           {
            "colorbar": {
             "outlinewidth": 0,
             "ticks": ""
            },
            "colorscale": [
             [
              0,
              "#0d0887"
             ],
             [
              0.1111111111111111,
              "#46039f"
             ],
             [
              0.2222222222222222,
              "#7201a8"
             ],
             [
              0.3333333333333333,
              "#9c179e"
             ],
             [
              0.4444444444444444,
              "#bd3786"
             ],
             [
              0.5555555555555556,
              "#d8576b"
             ],
             [
              0.6666666666666666,
              "#ed7953"
             ],
             [
              0.7777777777777778,
              "#fb9f3a"
             ],
             [
              0.8888888888888888,
              "#fdca26"
             ],
             [
              1,
              "#f0f921"
             ]
            ],
            "type": "surface"
           }
          ],
          "table": [
           {
            "cells": {
             "fill": {
              "color": "#EBF0F8"
             },
             "line": {
              "color": "white"
             }
            },
            "header": {
             "fill": {
              "color": "#C8D4E3"
             },
             "line": {
              "color": "white"
             }
            },
            "type": "table"
           }
          ]
         },
         "layout": {
          "annotationdefaults": {
           "arrowcolor": "#2a3f5f",
           "arrowhead": 0,
           "arrowwidth": 1
          },
          "autotypenumbers": "strict",
          "coloraxis": {
           "colorbar": {
            "outlinewidth": 0,
            "ticks": ""
           }
          },
          "colorscale": {
           "diverging": [
            [
             0,
             "#8e0152"
            ],
            [
             0.1,
             "#c51b7d"
            ],
            [
             0.2,
             "#de77ae"
            ],
            [
             0.3,
             "#f1b6da"
            ],
            [
             0.4,
             "#fde0ef"
            ],
            [
             0.5,
             "#f7f7f7"
            ],
            [
             0.6,
             "#e6f5d0"
            ],
            [
             0.7,
             "#b8e186"
            ],
            [
             0.8,
             "#7fbc41"
            ],
            [
             0.9,
             "#4d9221"
            ],
            [
             1,
             "#276419"
            ]
           ],
           "sequential": [
            [
             0,
             "#0d0887"
            ],
            [
             0.1111111111111111,
             "#46039f"
            ],
            [
             0.2222222222222222,
             "#7201a8"
            ],
            [
             0.3333333333333333,
             "#9c179e"
            ],
            [
             0.4444444444444444,
             "#bd3786"
            ],
            [
             0.5555555555555556,
             "#d8576b"
            ],
            [
             0.6666666666666666,
             "#ed7953"
            ],
            [
             0.7777777777777778,
             "#fb9f3a"
            ],
            [
             0.8888888888888888,
             "#fdca26"
            ],
            [
             1,
             "#f0f921"
            ]
           ],
           "sequentialminus": [
            [
             0,
             "#0d0887"
            ],
            [
             0.1111111111111111,
             "#46039f"
            ],
            [
             0.2222222222222222,
             "#7201a8"
            ],
            [
             0.3333333333333333,
             "#9c179e"
            ],
            [
             0.4444444444444444,
             "#bd3786"
            ],
            [
             0.5555555555555556,
             "#d8576b"
            ],
            [
             0.6666666666666666,
             "#ed7953"
            ],
            [
             0.7777777777777778,
             "#fb9f3a"
            ],
            [
             0.8888888888888888,
             "#fdca26"
            ],
            [
             1,
             "#f0f921"
            ]
           ]
          },
          "colorway": [
           "#636efa",
           "#EF553B",
           "#00cc96",
           "#ab63fa",
           "#FFA15A",
           "#19d3f3",
           "#FF6692",
           "#B6E880",
           "#FF97FF",
           "#FECB52"
          ],
          "font": {
           "color": "#2a3f5f"
          },
          "geo": {
           "bgcolor": "white",
           "lakecolor": "white",
           "landcolor": "#E5ECF6",
           "showlakes": true,
           "showland": true,
           "subunitcolor": "white"
          },
          "hoverlabel": {
           "align": "left"
          },
          "hovermode": "closest",
          "mapbox": {
           "style": "light"
          },
          "paper_bgcolor": "white",
          "plot_bgcolor": "#E5ECF6",
          "polar": {
           "angularaxis": {
            "gridcolor": "white",
            "linecolor": "white",
            "ticks": ""
           },
           "bgcolor": "#E5ECF6",
           "radialaxis": {
            "gridcolor": "white",
            "linecolor": "white",
            "ticks": ""
           }
          },
          "scene": {
           "xaxis": {
            "backgroundcolor": "#E5ECF6",
            "gridcolor": "white",
            "gridwidth": 2,
            "linecolor": "white",
            "showbackground": true,
            "ticks": "",
            "zerolinecolor": "white"
           },
           "yaxis": {
            "backgroundcolor": "#E5ECF6",
            "gridcolor": "white",
            "gridwidth": 2,
            "linecolor": "white",
            "showbackground": true,
            "ticks": "",
            "zerolinecolor": "white"
           },
           "zaxis": {
            "backgroundcolor": "#E5ECF6",
            "gridcolor": "white",
            "gridwidth": 2,
            "linecolor": "white",
            "showbackground": true,
            "ticks": "",
            "zerolinecolor": "white"
           }
          },
          "shapedefaults": {
           "line": {
            "color": "#2a3f5f"
           }
          },
          "ternary": {
           "aaxis": {
            "gridcolor": "white",
            "linecolor": "white",
            "ticks": ""
           },
           "baxis": {
            "gridcolor": "white",
            "linecolor": "white",
            "ticks": ""
           },
           "bgcolor": "#E5ECF6",
           "caxis": {
            "gridcolor": "white",
            "linecolor": "white",
            "ticks": ""
           }
          },
          "title": {
           "x": 0.05
          },
          "xaxis": {
           "automargin": true,
           "gridcolor": "white",
           "linecolor": "white",
           "ticks": "",
           "title": {
            "standoff": 15
           },
           "zerolinecolor": "white",
           "zerolinewidth": 2
          },
          "yaxis": {
           "automargin": true,
           "gridcolor": "white",
           "linecolor": "white",
           "ticks": "",
           "title": {
            "standoff": 15
           },
           "zerolinecolor": "white",
           "zerolinewidth": 2
          }
         }
        },
        "title": {
         "text": "Percentage used KPIs from all for calculating mean/median | color: Filer type"
        },
        "xaxis": {
         "anchor": "y",
         "domain": [
          0,
          1
         ],
         "title": {
          "text": "used_to_all"
         }
        },
        "xaxis2": {
         "anchor": "y2",
         "domain": [
          0,
          1
         ],
         "matches": "x",
         "showgrid": true,
         "showticklabels": false
        },
        "yaxis": {
         "anchor": "x",
         "domain": [
          0,
          0.7326
         ],
         "title": {
          "text": "count"
         }
        },
        "yaxis2": {
         "anchor": "x2",
         "domain": [
          0.7426,
          1
         ],
         "matches": "y2",
         "showgrid": false,
         "showline": false,
         "showticklabels": false,
         "ticks": ""
        }
       }
      }
     },
     "metadata": {},
     "output_type": "display_data"
    }
   ],
   "source": [
    "import plotly.express as px\n",
    "\n",
    "fig = px.histogram(df_for_plot, x=\"used_to_all\", color=\"filer_type\", marginal=\"rug\",\n",
    "                   hover_data=df_for_plot.columns, title=\"Percentage used KPIs from all for calculating mean/median | color: Filer type\")\n",
    "fig.show()"
   ]
  },
  {
   "cell_type": "code",
   "execution_count": null,
   "metadata": {},
   "outputs": [],
   "source": []
  }
 ],
 "metadata": {
  "interpreter": {
   "hash": "0644d8df8e5c95ca43ccbd07b011ebf1be4f0d7ab159a326abe9423365491a2b"
  },
  "kernelspec": {
   "display_name": "Python 3.8.5 ('.venv': venv)",
   "language": "python",
   "name": "python3"
  },
  "language_info": {
   "codemirror_mode": {
    "name": "ipython",
    "version": 3
   },
   "file_extension": ".py",
   "mimetype": "text/x-python",
   "name": "python",
   "nbconvert_exporter": "python",
   "pygments_lexer": "ipython3",
   "version": "3.8.5"
  },
  "orig_nbformat": 4
 },
 "nbformat": 4,
 "nbformat_minor": 2
}
