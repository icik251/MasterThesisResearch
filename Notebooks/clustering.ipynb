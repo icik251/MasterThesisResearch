{
 "cells": [
  {
   "cell_type": "code",
   "execution_count": 2,
   "metadata": {},
   "outputs": [],
   "source": [
    "from sklearn.cluster import KMeans\n",
    "import numpy as np"
   ]
  },
  {
   "cell_type": "code",
   "execution_count": 4,
   "metadata": {},
   "outputs": [
    {
     "ename": "TypeError",
     "evalue": "__init__() takes from 1 to 2 positional arguments but 3 were given",
     "output_type": "error",
     "traceback": [
      "\u001b[1;31m---------------------------------------------------------------------------\u001b[0m",
      "\u001b[1;31mTypeError\u001b[0m                                 Traceback (most recent call last)",
      "\u001b[1;32md:\\PythonProjects\\MasterThesisResearch\\Notebooks\\clustering.ipynb Cell 2'\u001b[0m in \u001b[0;36m<cell line: 8>\u001b[1;34m()\u001b[0m\n\u001b[0;32m      <a href='vscode-notebook-cell:/d%3A/PythonProjects/MasterThesisResearch/Notebooks/clustering.ipynb#ch0000001?line=1'>2</a>\u001b[0m company2\u001b[39m=\u001b[39m np\u001b[39m.\u001b[39marray([\u001b[39m0.4\u001b[39m, \u001b[39m1.0\u001b[39m, \u001b[39m0.5\u001b[39m, \u001b[39m0.23\u001b[39m, \u001b[39m1.0\u001b[39m, \u001b[39m0.85\u001b[39m])\n\u001b[0;32m      <a href='vscode-notebook-cell:/d%3A/PythonProjects/MasterThesisResearch/Notebooks/clustering.ipynb#ch0000001?line=2'>3</a>\u001b[0m company3\u001b[39m=\u001b[39m np\u001b[39m.\u001b[39marray([\u001b[39m0.8\u001b[39m, \u001b[39m0.5\u001b[39m, \u001b[39m1.0\u001b[39m, \u001b[39m0.45\u001b[39m, \u001b[39m0.85\u001b[39m, \u001b[39m1.0\u001b[39m])\n\u001b[1;32m----> <a href='vscode-notebook-cell:/d%3A/PythonProjects/MasterThesisResearch/Notebooks/clustering.ipynb#ch0000001?line=7'>8</a>\u001b[0m KMeans(\u001b[39m3\u001b[39;49m, [company1,company2, company3])\n",
      "\u001b[1;31mTypeError\u001b[0m: __init__() takes from 1 to 2 positional arguments but 3 were given"
     ]
    }
   ],
   "source": [
    "company1= np.array([1.0, 0.4, 0.8, 1.0, 0.23, 0.45])\n",
    "company2= np.array([0.4, 1.0, 0.5, 0.23, 1.0, 0.85])\n",
    "company3= np.array([0.8, 0.5, 1.0, 0.45, 0.85, 1.0])\n",
    "\n",
    "company1\n",
    "\n",
    "\n",
    "KMeans(3,)"
   ]
  },
  {
   "cell_type": "code",
   "execution_count": null,
   "metadata": {},
   "outputs": [],
   "source": []
  }
 ],
 "metadata": {
  "interpreter": {
   "hash": "0644d8df8e5c95ca43ccbd07b011ebf1be4f0d7ab159a326abe9423365491a2b"
  },
  "kernelspec": {
   "display_name": "Python 3.8.5 ('.venv': venv)",
   "language": "python",
   "name": "python3"
  },
  "language_info": {
   "codemirror_mode": {
    "name": "ipython",
    "version": 3
   },
   "file_extension": ".py",
   "mimetype": "text/x-python",
   "name": "python",
   "nbconvert_exporter": "python",
   "pygments_lexer": "ipython3",
   "version": "3.8.5"
  },
  "orig_nbformat": 4
 },
 "nbformat": 4,
 "nbformat_minor": 2
}
